{
 "cells": [
  {
   "cell_type": "markdown",
   "id": "660ae07b",
   "metadata": {},
   "source": [
    "# Pair Distribution Function: Ni, NPD\n",
    "\n",
    "This example demonstrates a pair distribution function (PDF) analysis of Ni,\n",
    "based on data collected from a constant wavelength neutron powder diffraction\n",
    "experiment.\n",
    "\n",
    "The dataset is taken from:\n",
    "https://github.com/diffpy/cmi_exchange/blob/main/cmi_scripts/fitNiPDF"
   ]
  },
  {
   "cell_type": "markdown",
   "id": "808242e7",
   "metadata": {},
   "source": [
    "## Import Library"
   ]
  },
  {
   "cell_type": "code",
   "execution_count": null,
   "id": "adc34b39",
   "metadata": {},
   "outputs": [],
   "source": [
    "import easydiffraction as ed"
   ]
  },
  {
   "cell_type": "markdown",
   "id": "43d87a8f",
   "metadata": {},
   "source": [
    "## Create Project"
   ]
  },
  {
   "cell_type": "code",
   "execution_count": null,
   "id": "6735664b",
   "metadata": {},
   "outputs": [],
   "source": [
    "project = ed.Project()"
   ]
  },
  {
   "cell_type": "markdown",
   "id": "f1f36efb",
   "metadata": {},
   "source": [
    "## Set Plotting Engine"
   ]
  },
  {
   "cell_type": "code",
   "execution_count": null,
   "id": "aeda2ae0",
   "metadata": {},
   "outputs": [],
   "source": [
    "project.plotter.engine = 'plotly'"
   ]
  },
  {
   "cell_type": "markdown",
   "id": "d9f46cad",
   "metadata": {},
   "source": [
    "## Add Sample Model"
   ]
  },
  {
   "cell_type": "code",
   "execution_count": null,
   "id": "6ad3fa33",
   "metadata": {},
   "outputs": [],
   "source": [
    "project.sample_models.add(name='ni')"
   ]
  },
  {
   "cell_type": "code",
   "execution_count": null,
   "id": "8c971e17",
   "metadata": {},
   "outputs": [],
   "source": [
    "project.sample_models['ni'].space_group.name_h_m = 'F m -3 m'\n",
    "project.sample_models['ni'].space_group.it_coordinate_system_code = '1'\n",
    "project.sample_models['ni'].cell.length_a = 3.52387\n",
    "project.sample_models['ni'].atom_sites.add(label='Ni',\n",
    "                                           type_symbol='Ni',\n",
    "                                           fract_x=0.,\n",
    "                                           fract_y=0.,\n",
    "                                           fract_z=0.,\n",
    "                                           wyckoff_letter='a',\n",
    "                                           b_iso=0.5)"
   ]
  },
  {
   "cell_type": "markdown",
   "id": "27eb6d26",
   "metadata": {},
   "source": [
    "## Add Experiment"
   ]
  },
  {
   "cell_type": "code",
   "execution_count": null,
   "id": "b3c6d8c3",
   "metadata": {},
   "outputs": [],
   "source": [
    "ed.download_from_repository('ni-q27r100-neutron_from-2.gr',\n",
    "                            destination='data')"
   ]
  },
  {
   "cell_type": "code",
   "execution_count": null,
   "id": "19b37ecd",
   "metadata": {},
   "outputs": [],
   "source": [
    "project.experiments.add(name='pdf',\n",
    "                        sample_form='powder',\n",
    "                        beam_mode='constant wavelength',\n",
    "                        radiation_probe='neutron',\n",
    "                        scattering_type='total',\n",
    "                        data_path = 'data/ni-q27r100-neutron_from-2.gr')"
   ]
  },
  {
   "cell_type": "code",
   "execution_count": null,
   "id": "52d1a3da",
   "metadata": {},
   "outputs": [],
   "source": [
    "project.experiments['pdf'].linked_phases.add(id='ni', scale=1.)\n",
    "project.experiments['pdf'].peak.damp_q = 0\n",
    "project.experiments['pdf'].peak.broad_q = 0.03\n",
    "project.experiments['pdf'].peak.cutoff_q = 27.0\n",
    "project.experiments['pdf'].peak.sharp_delta_1 = 0.0\n",
    "project.experiments['pdf'].peak.sharp_delta_2 = 2.0\n",
    "project.experiments['pdf'].peak.damp_particle_diameter = 0"
   ]
  },
  {
   "cell_type": "markdown",
   "id": "b58e975f",
   "metadata": {},
   "source": [
    "## Select Fitting Parameters"
   ]
  },
  {
   "cell_type": "code",
   "execution_count": null,
   "id": "4a65e6d3",
   "metadata": {},
   "outputs": [],
   "source": [
    "project.sample_models['ni'].cell.length_a.free = True\n",
    "project.sample_models['ni'].atom_sites['Ni'].b_iso.free = True"
   ]
  },
  {
   "cell_type": "code",
   "execution_count": null,
   "id": "b284d1b1",
   "metadata": {},
   "outputs": [],
   "source": [
    "project.experiments['pdf'].linked_phases['ni'].scale.free = True\n",
    "project.experiments['pdf'].peak.broad_q.free = True\n",
    "project.experiments['pdf'].peak.sharp_delta_2.free = True"
   ]
  },
  {
   "cell_type": "markdown",
   "id": "2482a8b4",
   "metadata": {},
   "source": [
    "## Run Fitting"
   ]
  },
  {
   "cell_type": "code",
   "execution_count": null,
   "id": "4c12ff6b",
   "metadata": {},
   "outputs": [],
   "source": [
    "project.analysis.current_calculator = 'pdffit'\n",
    "project.analysis.fit()"
   ]
  },
  {
   "cell_type": "markdown",
   "id": "c6a032e8",
   "metadata": {},
   "source": [
    "## Plot Measured vs Calculated"
   ]
  },
  {
   "cell_type": "code",
   "execution_count": null,
   "id": "848a0e10",
   "metadata": {},
   "outputs": [],
   "source": [
    "project.plot_meas_vs_calc(expt_name='pdf',\n",
    "                          show_residual=True)"
   ]
  }
 ],
 "metadata": {
  "jupytext": {
   "cell_metadata_filter": "-all",
   "main_language": "python",
   "notebook_metadata_filter": "-all"
  }
 },
 "nbformat": 4,
 "nbformat_minor": 5
}
