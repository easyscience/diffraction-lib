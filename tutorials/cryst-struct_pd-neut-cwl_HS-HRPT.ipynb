{
 "cells": [
  {
   "cell_type": "markdown",
   "id": "7ac552ee",
   "metadata": {},
   "source": [
    "# Structure Refinement: HS, HRPT\n",
    "\n",
    "This example demonstrates a Rietveld refinement of HS crystal structure\n",
    "using constant wavelength neutron powder diffraction data from HRPT at PSI."
   ]
  },
  {
   "cell_type": "markdown",
   "id": "93d2b99a",
   "metadata": {},
   "source": [
    "## Import Library"
   ]
  },
  {
   "cell_type": "code",
   "execution_count": null,
   "id": "9aa9cbf5",
   "metadata": {},
   "outputs": [],
   "source": [
    "from easydiffraction import (\n",
    "    Project,\n",
    "    SampleModel,\n",
    "    Experiment,\n",
    "    download_from_repository\n",
    ")"
   ]
  },
  {
   "cell_type": "markdown",
   "id": "75220cbb",
   "metadata": {},
   "source": [
    "## Define Sample Model\n",
    "\n",
    "This section shows how to add sample models and modify their parameters.\n",
    "\n",
    "#### Create Sample Model"
   ]
  },
  {
   "cell_type": "code",
   "execution_count": null,
   "id": "b2af8fa8",
   "metadata": {},
   "outputs": [],
   "source": [
    "model = SampleModel('hs')"
   ]
  },
  {
   "cell_type": "markdown",
   "id": "6d887cbb",
   "metadata": {},
   "source": [
    "#### Set Space Group"
   ]
  },
  {
   "cell_type": "code",
   "execution_count": null,
   "id": "d28d7e5a",
   "metadata": {},
   "outputs": [],
   "source": [
    "model.space_group.name_h_m = 'R -3 m'\n",
    "model.space_group.it_coordinate_system_code = 'h'"
   ]
  },
  {
   "cell_type": "markdown",
   "id": "2ce20066",
   "metadata": {},
   "source": [
    "#### Set Unit Cell"
   ]
  },
  {
   "cell_type": "code",
   "execution_count": null,
   "id": "33961de8",
   "metadata": {},
   "outputs": [],
   "source": [
    "model.cell.length_a = 6.9\n",
    "model.cell.length_c = 14.1"
   ]
  },
  {
   "cell_type": "markdown",
   "id": "982bb310",
   "metadata": {},
   "source": [
    "#### Set Atom Sites"
   ]
  },
  {
   "cell_type": "code",
   "execution_count": null,
   "id": "6e8ed6d9",
   "metadata": {},
   "outputs": [],
   "source": [
    "model.atom_sites.add('Zn', 'Zn', 0, 0, 0.5, wyckoff_letter='b', b_iso=0.5)\n",
    "model.atom_sites.add('Cu', 'Cu', 0.5, 0, 0, wyckoff_letter='e', b_iso=0.5)\n",
    "model.atom_sites.add('O', 'O', 0.21, -0.21, 0.06, wyckoff_letter='h', b_iso=0.5)\n",
    "model.atom_sites.add('Cl', 'Cl', 0, 0, 0.197, wyckoff_letter='c', b_iso=0.5)\n",
    "model.atom_sites.add('H', '2H', 0.13, -0.13, 0.08, wyckoff_letter='h', b_iso=0.5)"
   ]
  },
  {
   "cell_type": "markdown",
   "id": "eb43260c",
   "metadata": {},
   "source": [
    "#### Symmetry constraints\n",
    "\n",
    "Show CIF output before applying symmetry constraints."
   ]
  },
  {
   "cell_type": "code",
   "execution_count": null,
   "id": "8c410274",
   "metadata": {},
   "outputs": [],
   "source": [
    "model.show_as_cif()"
   ]
  },
  {
   "cell_type": "markdown",
   "id": "84a3fc4f",
   "metadata": {},
   "source": [
    "Apply symmetry constraints."
   ]
  },
  {
   "cell_type": "code",
   "execution_count": null,
   "id": "b8b7d27b",
   "metadata": {},
   "outputs": [],
   "source": [
    "model.apply_symmetry_constraints()"
   ]
  },
  {
   "cell_type": "markdown",
   "id": "f0f3be9a",
   "metadata": {},
   "source": [
    "Show CIF output after applying symmetry constraints."
   ]
  },
  {
   "cell_type": "code",
   "execution_count": null,
   "id": "7cc0eedd",
   "metadata": {},
   "outputs": [],
   "source": [
    "model.show_as_cif()"
   ]
  },
  {
   "cell_type": "markdown",
   "id": "cb3e2a99",
   "metadata": {},
   "source": [
    "## Define Experiment\n",
    "\n",
    "This section shows how to add experiments, configure their parameters, and\n",
    "link the sample models defined in the previous step.\n",
    "\n",
    "#### Download Measured Data"
   ]
  },
  {
   "cell_type": "code",
   "execution_count": null,
   "id": "fe2f3b64",
   "metadata": {},
   "outputs": [],
   "source": [
    "download_from_repository('hrpt_hs.xye',\n",
    "                         destination='data')"
   ]
  },
  {
   "cell_type": "markdown",
   "id": "c260cede",
   "metadata": {},
   "source": [
    "#### Create Experiment"
   ]
  },
  {
   "cell_type": "code",
   "execution_count": null,
   "id": "6486875f",
   "metadata": {},
   "outputs": [],
   "source": [
    "expt = Experiment(name='hrpt',\n",
    "                  data_path='data/hrpt_hs.xye')"
   ]
  },
  {
   "cell_type": "markdown",
   "id": "417600cf",
   "metadata": {},
   "source": [
    "#### Set Instrument"
   ]
  },
  {
   "cell_type": "code",
   "execution_count": null,
   "id": "ee975fa6",
   "metadata": {},
   "outputs": [],
   "source": [
    "expt.instrument.setup_wavelength = 1.89\n",
    "expt.instrument.calib_twotheta_offset = 0.0"
   ]
  },
  {
   "cell_type": "markdown",
   "id": "54a1f67c",
   "metadata": {},
   "source": [
    "#### Set Peak Profile"
   ]
  },
  {
   "cell_type": "code",
   "execution_count": null,
   "id": "4a15686f",
   "metadata": {},
   "outputs": [],
   "source": [
    "expt.peak.broad_gauss_u = 0.1\n",
    "expt.peak.broad_gauss_v = -0.2\n",
    "expt.peak.broad_gauss_w = 0.2\n",
    "expt.peak.broad_lorentz_x = 0.0\n",
    "expt.peak.broad_lorentz_y = 0"
   ]
  },
  {
   "cell_type": "markdown",
   "id": "2342767d",
   "metadata": {},
   "source": [
    "#### Set Background"
   ]
  },
  {
   "cell_type": "code",
   "execution_count": null,
   "id": "d5d8b7e3",
   "metadata": {},
   "outputs": [],
   "source": [
    "expt.background.add(x=4.4196, y=500)\n",
    "expt.background.add(x=6.6207, y=500)\n",
    "expt.background.add(x=10.4918, y=500)\n",
    "expt.background.add(x=15.4634, y=500)\n",
    "expt.background.add(x=45.6041, y=500)\n",
    "expt.background.add(x=74.6844, y=500)\n",
    "expt.background.add(x=103.4187, y=500)\n",
    "expt.background.add(x=121.6311, y=500)\n",
    "expt.background.add(x=159.4116, y=500)"
   ]
  },
  {
   "cell_type": "markdown",
   "id": "54d94bc9",
   "metadata": {},
   "source": [
    "#### Set Linked Phases"
   ]
  },
  {
   "cell_type": "code",
   "execution_count": null,
   "id": "0ded3fad",
   "metadata": {},
   "outputs": [],
   "source": [
    "expt.linked_phases.add('hs', scale=0.5)"
   ]
  },
  {
   "cell_type": "markdown",
   "id": "201e87dc",
   "metadata": {},
   "source": [
    "## Define Project\n",
    "\n",
    "The project object is used to manage the sample model, experiment, and\n",
    "analysis.\n",
    "\n",
    "#### Create Project"
   ]
  },
  {
   "cell_type": "code",
   "execution_count": null,
   "id": "b1249be3",
   "metadata": {},
   "outputs": [],
   "source": [
    "project = Project()"
   ]
  },
  {
   "cell_type": "markdown",
   "id": "93b690d2",
   "metadata": {},
   "source": [
    "#### Set Plotting Engine"
   ]
  },
  {
   "cell_type": "code",
   "execution_count": null,
   "id": "8d6e6b71",
   "metadata": {},
   "outputs": [],
   "source": [
    "project.plotter.engine = 'plotly'"
   ]
  },
  {
   "cell_type": "markdown",
   "id": "a4b97254",
   "metadata": {},
   "source": [
    "#### Add Sample Model"
   ]
  },
  {
   "cell_type": "code",
   "execution_count": null,
   "id": "8c6fb44d",
   "metadata": {},
   "outputs": [],
   "source": [
    "project.sample_models.add(model)"
   ]
  },
  {
   "cell_type": "markdown",
   "id": "04e0bc26",
   "metadata": {},
   "source": [
    "#### Add Experiment"
   ]
  },
  {
   "cell_type": "code",
   "execution_count": null,
   "id": "4a273e00",
   "metadata": {},
   "outputs": [],
   "source": [
    "project.experiments.add(expt)"
   ]
  },
  {
   "cell_type": "markdown",
   "id": "fde82071",
   "metadata": {},
   "source": [
    "## Perform Analysis\n",
    "\n",
    "This section shows the analysis process, including how to set up\n",
    "calculation and fitting engines.\n",
    "\n",
    "#### Set Calculator"
   ]
  },
  {
   "cell_type": "code",
   "execution_count": null,
   "id": "14c3829f",
   "metadata": {},
   "outputs": [],
   "source": [
    "project.analysis.current_calculator = 'cryspy'"
   ]
  },
  {
   "cell_type": "markdown",
   "id": "0309dbff",
   "metadata": {},
   "source": [
    "#### Set Minimizer"
   ]
  },
  {
   "cell_type": "code",
   "execution_count": null,
   "id": "4298dcc4",
   "metadata": {},
   "outputs": [],
   "source": [
    "project.analysis.current_minimizer = 'lmfit (leastsq)'"
   ]
  },
  {
   "cell_type": "markdown",
   "id": "87f4e2fb",
   "metadata": {},
   "source": [
    "#### Plot Measured vs Calculated"
   ]
  },
  {
   "cell_type": "code",
   "execution_count": null,
   "id": "d33ef568",
   "metadata": {},
   "outputs": [],
   "source": [
    "project.plot_meas_vs_calc(expt_name='hrpt',\n",
    "                          show_residual=True)"
   ]
  },
  {
   "cell_type": "code",
   "execution_count": null,
   "id": "69b57298",
   "metadata": {},
   "outputs": [],
   "source": [
    "project.plot_meas_vs_calc(expt_name='hrpt',\n",
    "                          x_min=48, x_max=51,\n",
    "                          show_residual=True)"
   ]
  },
  {
   "cell_type": "markdown",
   "id": "0360c5e6",
   "metadata": {},
   "source": [
    "### Perform Fit 1/5\n",
    "\n",
    "Set parameters to be refined."
   ]
  },
  {
   "cell_type": "code",
   "execution_count": null,
   "id": "d4f31f4a",
   "metadata": {},
   "outputs": [],
   "source": [
    "model.cell.length_a.free = True\n",
    "model.cell.length_c.free = True\n",
    "\n",
    "expt.linked_phases['hs'].scale.free = True\n",
    "expt.instrument.calib_twotheta_offset.free = True"
   ]
  },
  {
   "cell_type": "markdown",
   "id": "459489fc",
   "metadata": {},
   "source": [
    "Show free parameters after selection."
   ]
  },
  {
   "cell_type": "code",
   "execution_count": null,
   "id": "d97f6589",
   "metadata": {},
   "outputs": [],
   "source": [
    "project.analysis.show_free_params()"
   ]
  },
  {
   "cell_type": "markdown",
   "id": "6f5b3387",
   "metadata": {},
   "source": [
    "#### Run Fitting"
   ]
  },
  {
   "cell_type": "code",
   "execution_count": null,
   "id": "00ec371b",
   "metadata": {},
   "outputs": [],
   "source": [
    "project.analysis.fit()"
   ]
  },
  {
   "cell_type": "markdown",
   "id": "fccad330",
   "metadata": {},
   "source": [
    "#### Plot Measured vs Calculated"
   ]
  },
  {
   "cell_type": "code",
   "execution_count": null,
   "id": "d5fd3e09",
   "metadata": {},
   "outputs": [],
   "source": [
    "project.plot_meas_vs_calc(expt_name='hrpt',\n",
    "                          show_residual=True)"
   ]
  },
  {
   "cell_type": "code",
   "execution_count": null,
   "id": "c2f174fd",
   "metadata": {},
   "outputs": [],
   "source": [
    "project.plot_meas_vs_calc(expt_name='hrpt',\n",
    "                          x_min=48, x_max=51,\n",
    "                          show_residual=True)"
   ]
  },
  {
   "cell_type": "markdown",
   "id": "87374fe5",
   "metadata": {},
   "source": [
    "### Perform Fit 2/5\n",
    "\n",
    "Set more parameters to be refined."
   ]
  },
  {
   "cell_type": "code",
   "execution_count": null,
   "id": "dae97ec9",
   "metadata": {},
   "outputs": [],
   "source": [
    "expt.peak.broad_gauss_u.free = True\n",
    "expt.peak.broad_gauss_v.free = True\n",
    "expt.peak.broad_gauss_w.free = True\n",
    "expt.peak.broad_lorentz_x.free = True\n",
    "\n",
    "for point in expt.background:\n",
    "    point.y.free = True"
   ]
  },
  {
   "cell_type": "markdown",
   "id": "320ac5ec",
   "metadata": {},
   "source": [
    "Show free parameters after selection."
   ]
  },
  {
   "cell_type": "code",
   "execution_count": null,
   "id": "11c1572d",
   "metadata": {},
   "outputs": [],
   "source": [
    "project.analysis.show_free_params()"
   ]
  },
  {
   "cell_type": "markdown",
   "id": "6503d199",
   "metadata": {},
   "source": [
    "#### Run Fitting"
   ]
  },
  {
   "cell_type": "code",
   "execution_count": null,
   "id": "26cfadc7",
   "metadata": {},
   "outputs": [],
   "source": [
    "project.analysis.fit()"
   ]
  },
  {
   "cell_type": "markdown",
   "id": "922df05d",
   "metadata": {},
   "source": [
    "#### Plot Measured vs Calculated"
   ]
  },
  {
   "cell_type": "code",
   "execution_count": null,
   "id": "87fc99e2",
   "metadata": {},
   "outputs": [],
   "source": [
    "project.plot_meas_vs_calc(expt_name='hrpt',\n",
    "                          show_residual=True)"
   ]
  },
  {
   "cell_type": "code",
   "execution_count": null,
   "id": "bcba4e0a",
   "metadata": {},
   "outputs": [],
   "source": [
    "project.plot_meas_vs_calc(expt_name='hrpt',\n",
    "                          x_min=48, x_max=51,\n",
    "                          show_residual=True)"
   ]
  },
  {
   "cell_type": "markdown",
   "id": "d68dafae",
   "metadata": {},
   "source": [
    "### Perform Fit 3/5\n",
    "\n",
    "Set more parameters to be refined."
   ]
  },
  {
   "cell_type": "code",
   "execution_count": null,
   "id": "45bbecd6",
   "metadata": {},
   "outputs": [],
   "source": [
    "model.atom_sites['O'].fract_x.free = True\n",
    "model.atom_sites['O'].fract_z.free = True\n",
    "model.atom_sites['Cl'].fract_z.free = True\n",
    "model.atom_sites['H'].fract_x.free = True\n",
    "model.atom_sites['H'].fract_z.free = True"
   ]
  },
  {
   "cell_type": "markdown",
   "id": "aa85ee4f",
   "metadata": {},
   "source": [
    "Show free parameters after selection."
   ]
  },
  {
   "cell_type": "code",
   "execution_count": null,
   "id": "baccf9c0",
   "metadata": {},
   "outputs": [],
   "source": [
    "project.analysis.show_free_params()"
   ]
  },
  {
   "cell_type": "markdown",
   "id": "fb95f3fc",
   "metadata": {},
   "source": [
    "#### Run Fitting"
   ]
  },
  {
   "cell_type": "code",
   "execution_count": null,
   "id": "a27076cb",
   "metadata": {},
   "outputs": [],
   "source": [
    "project.analysis.fit()"
   ]
  },
  {
   "cell_type": "markdown",
   "id": "05a9055f",
   "metadata": {},
   "source": [
    "#### Plot Measured vs Calculated"
   ]
  },
  {
   "cell_type": "code",
   "execution_count": null,
   "id": "30ff004c",
   "metadata": {},
   "outputs": [],
   "source": [
    "project.plot_meas_vs_calc(expt_name='hrpt',\n",
    "                          show_residual=True)"
   ]
  },
  {
   "cell_type": "code",
   "execution_count": null,
   "id": "1df03bfc",
   "metadata": {},
   "outputs": [],
   "source": [
    "project.plot_meas_vs_calc(expt_name='hrpt',\n",
    "                          x_min=48, x_max=51,\n",
    "                          show_residual=True)"
   ]
  },
  {
   "cell_type": "markdown",
   "id": "5b3fef16",
   "metadata": {},
   "source": [
    "### Perform Fit 4/5\n",
    "\n",
    "Set more parameters to be refined."
   ]
  },
  {
   "cell_type": "code",
   "execution_count": null,
   "id": "19e1de60",
   "metadata": {},
   "outputs": [],
   "source": [
    "model.atom_sites['Zn'].b_iso.free = True\n",
    "model.atom_sites['Cu'].b_iso.free = True\n",
    "model.atom_sites['O'].b_iso.free = True\n",
    "model.atom_sites['Cl'].b_iso.free = True\n",
    "model.atom_sites['H'].b_iso.free = True"
   ]
  },
  {
   "cell_type": "markdown",
   "id": "6049d8e9",
   "metadata": {},
   "source": [
    "Show free parameters after selection."
   ]
  },
  {
   "cell_type": "code",
   "execution_count": null,
   "id": "bb03e976",
   "metadata": {},
   "outputs": [],
   "source": [
    "project.analysis.show_free_params()"
   ]
  },
  {
   "cell_type": "markdown",
   "id": "8bf9bcf8",
   "metadata": {},
   "source": [
    "#### Run Fitting"
   ]
  },
  {
   "cell_type": "code",
   "execution_count": null,
   "id": "f072b0bd",
   "metadata": {},
   "outputs": [],
   "source": [
    "project.analysis.fit()"
   ]
  },
  {
   "cell_type": "markdown",
   "id": "d9b4ca3e",
   "metadata": {},
   "source": [
    "#### Plot Measured vs Calculated"
   ]
  },
  {
   "cell_type": "code",
   "execution_count": null,
   "id": "361b5f46",
   "metadata": {},
   "outputs": [],
   "source": [
    "project.plot_meas_vs_calc(expt_name='hrpt',\n",
    "                          show_residual=True)"
   ]
  },
  {
   "cell_type": "code",
   "execution_count": null,
   "id": "aa22e15a",
   "metadata": {},
   "outputs": [],
   "source": [
    "project.plot_meas_vs_calc(expt_name='hrpt',\n",
    "                          x_min=48, x_max=51,\n",
    "                          show_residual=True)"
   ]
  },
  {
   "cell_type": "markdown",
   "id": "745a56d5",
   "metadata": {},
   "source": [
    "## Summary\n",
    "\n",
    "This final section shows how to review the results of the analysis."
   ]
  },
  {
   "cell_type": "markdown",
   "id": "3814f689",
   "metadata": {},
   "source": [
    "#### Show Project Summary"
   ]
  },
  {
   "cell_type": "code",
   "execution_count": null,
   "id": "47a7f6d3",
   "metadata": {},
   "outputs": [],
   "source": [
    "project.summary.show_report()"
   ]
  }
 ],
 "metadata": {
  "jupytext": {
   "cell_metadata_filter": "-all",
   "main_language": "python",
   "notebook_metadata_filter": "-all"
  }
 },
 "nbformat": 4,
 "nbformat_minor": 5
}
