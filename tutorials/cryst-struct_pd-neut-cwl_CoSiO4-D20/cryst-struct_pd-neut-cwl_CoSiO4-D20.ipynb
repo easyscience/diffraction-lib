{
 "cells": [
  {
   "cell_type": "code",
   "execution_count": 1,
   "id": "4ab67210",
   "metadata": {
    "execution": {
     "iopub.execute_input": "2025-08-31T19:31:42.162682Z",
     "iopub.status.busy": "2025-08-31T19:31:42.162149Z",
     "iopub.status.idle": "2025-08-31T19:31:42.175338Z",
     "shell.execute_reply": "2025-08-31T19:31:42.173574Z"
    },
    "tags": [
     "hide-in-docs"
    ]
   },
   "outputs": [],
   "source": [
    "# Check if the easydiffraction library is installed.\n",
    "# If not, install it including the 'visualization' extras.\n",
    "# This is needed, e.g., when running this as a notebook via Google Colab or\n",
    "# Jupyter Notebook in an environment where the library is not pre-installed.\n",
    "import builtins\n",
    "import importlib.util\n",
    "\n",
    "if hasattr(builtins, '__IPYTHON__'):\n",
    "    if importlib.util.find_spec('easydiffraction') is None:\n",
    "        !pip install 'easydiffraction[visualization]'\n"
   ]
  },
  {
   "cell_type": "markdown",
   "id": "0",
   "metadata": {},
   "source": [
    "# Structure Refinement: Co2SiO4, D20\n",
    "\n",
    "This example demonstrates a Rietveld refinement of Co2SiO4 crystal structure\n",
    "using constant wavelength neutron powder diffraction data from D20 at ILL."
   ]
  },
  {
   "cell_type": "markdown",
   "id": "1",
   "metadata": {},
   "source": [
    "## Import Library"
   ]
  },
  {
   "cell_type": "code",
   "execution_count": 2,
   "id": "2",
   "metadata": {
    "execution": {
     "iopub.execute_input": "2025-08-31T19:31:42.182528Z",
     "iopub.status.busy": "2025-08-31T19:31:42.182086Z",
     "iopub.status.idle": "2025-08-31T19:32:02.147144Z",
     "shell.execute_reply": "2025-08-31T19:32:02.146465Z"
    }
   },
   "outputs": [
    {
     "name": "stderr",
     "output_type": "stream",
     "text": [
      "Matplotlib is building the font cache; this may take a moment.\n"
     ]
    }
   ],
   "source": [
    "from easydiffraction import Experiment\n",
    "from easydiffraction import Project\n",
    "from easydiffraction import SampleModel\n",
    "from easydiffraction import download_from_repository"
   ]
  },
  {
   "cell_type": "markdown",
   "id": "3",
   "metadata": {},
   "source": [
    "## Define Sample Model\n",
    "\n",
    "This section shows how to add sample models and modify their parameters.\n",
    "\n",
    "#### Create Sample Model"
   ]
  },
  {
   "cell_type": "code",
   "execution_count": 3,
   "id": "4",
   "metadata": {
    "execution": {
     "iopub.execute_input": "2025-08-31T19:32:02.155703Z",
     "iopub.status.busy": "2025-08-31T19:32:02.155075Z",
     "iopub.status.idle": "2025-08-31T19:32:02.162341Z",
     "shell.execute_reply": "2025-08-31T19:32:02.161440Z"
    }
   },
   "outputs": [],
   "source": [
    "model = SampleModel('cosio')"
   ]
  },
  {
   "cell_type": "markdown",
   "id": "5",
   "metadata": {},
   "source": [
    "#### Set Space Group"
   ]
  },
  {
   "cell_type": "code",
   "execution_count": 4,
   "id": "6",
   "metadata": {
    "execution": {
     "iopub.execute_input": "2025-08-31T19:32:02.166461Z",
     "iopub.status.busy": "2025-08-31T19:32:02.166211Z",
     "iopub.status.idle": "2025-08-31T19:32:02.169387Z",
     "shell.execute_reply": "2025-08-31T19:32:02.168698Z"
    }
   },
   "outputs": [],
   "source": [
    "model.space_group.name_h_m = 'P n m a'\n",
    "model.space_group.it_coordinate_system_code = 'abc'"
   ]
  },
  {
   "cell_type": "markdown",
   "id": "7",
   "metadata": {},
   "source": [
    "#### Set Unit Cell"
   ]
  },
  {
   "cell_type": "code",
   "execution_count": 5,
   "id": "8",
   "metadata": {
    "execution": {
     "iopub.execute_input": "2025-08-31T19:32:02.171566Z",
     "iopub.status.busy": "2025-08-31T19:32:02.171444Z",
     "iopub.status.idle": "2025-08-31T19:32:02.175471Z",
     "shell.execute_reply": "2025-08-31T19:32:02.174173Z"
    }
   },
   "outputs": [],
   "source": [
    "model.cell.length_a = 10.3\n",
    "model.cell.length_b = 6.0\n",
    "model.cell.length_c = 4.8"
   ]
  },
  {
   "cell_type": "markdown",
   "id": "9",
   "metadata": {},
   "source": [
    "#### Set Atom Sites"
   ]
  },
  {
   "cell_type": "code",
   "execution_count": 6,
   "id": "10",
   "metadata": {
    "execution": {
     "iopub.execute_input": "2025-08-31T19:32:02.179749Z",
     "iopub.status.busy": "2025-08-31T19:32:02.179568Z",
     "iopub.status.idle": "2025-08-31T19:32:02.183633Z",
     "shell.execute_reply": "2025-08-31T19:32:02.182807Z"
    }
   },
   "outputs": [],
   "source": [
    "model.atom_sites.add('Co1', 'Co', 0, 0, 0, wyckoff_letter='a', b_iso=0.5)\n",
    "model.atom_sites.add('Co2', 'Co', 0.279, 0.25, 0.985, wyckoff_letter='c', b_iso=0.5)\n",
    "model.atom_sites.add('Si', 'Si', 0.094, 0.25, 0.429, wyckoff_letter='c', b_iso=0.5)\n",
    "model.atom_sites.add('O1', 'O', 0.091, 0.25, 0.771, wyckoff_letter='c', b_iso=0.5)\n",
    "model.atom_sites.add('O2', 'O', 0.448, 0.25, 0.217, wyckoff_letter='c', b_iso=0.5)\n",
    "model.atom_sites.add('O3', 'O', 0.164, 0.032, 0.28, wyckoff_letter='d', b_iso=0.5)"
   ]
  },
  {
   "cell_type": "markdown",
   "id": "11",
   "metadata": {},
   "source": [
    "#### Symmetry Constraints\n",
    "\n",
    "Show CIF output before applying symmetry constraints."
   ]
  },
  {
   "cell_type": "code",
   "execution_count": 7,
   "id": "12",
   "metadata": {
    "execution": {
     "iopub.execute_input": "2025-08-31T19:32:02.186655Z",
     "iopub.status.busy": "2025-08-31T19:32:02.186460Z",
     "iopub.status.idle": "2025-08-31T19:32:02.207770Z",
     "shell.execute_reply": "2025-08-31T19:32:02.207162Z"
    }
   },
   "outputs": [
    {
     "name": "stdout",
     "output_type": "stream",
     "text": [
      "\n",
      "\u001b[94m\u001b[1mSample model 🧩 \u001b[0m'cosio'\u001b[94m\u001b[1m as cif\u001b[0m\n"
     ]
    },
    {
     "data": {
      "text/html": [
       "<table class=\"dataframe\" style=\"border-collapse: collapse; border: 1px solid #515155; margin-left: 0.5em;margin-top: 0.5em;margin-bottom: 1em;\">\n",
       "  <tbody>\n",
       "    <tr>\n",
       "      <td><div style=\"text-align: left;\">data_cosio</div></td>\n",
       "    </tr>\n",
       "    <tr>\n",
       "      <td><div style=\"text-align: left;\">&nbsp;</div></td>\n",
       "    </tr>\n",
       "    <tr>\n",
       "      <td><div style=\"text-align: left;\">_space_group.IT_coordinate_system_code  abc</div></td>\n",
       "    </tr>\n",
       "    <tr>\n",
       "      <td><div style=\"text-align: left;\">_space_group.name_H-M_alt  \"P n m a\"</div></td>\n",
       "    </tr>\n",
       "    <tr>\n",
       "      <td><div style=\"text-align: left;\">&nbsp;</div></td>\n",
       "    </tr>\n",
       "    <tr>\n",
       "      <td><div style=\"text-align: left;\">_cell.angle_alpha  90.0</div></td>\n",
       "    </tr>\n",
       "    <tr>\n",
       "      <td><div style=\"text-align: left;\">_cell.angle_beta  90.0</div></td>\n",
       "    </tr>\n",
       "    <tr>\n",
       "      <td><div style=\"text-align: left;\">_cell.angle_gamma  90.0</div></td>\n",
       "    </tr>\n",
       "    <tr>\n",
       "      <td><div style=\"text-align: left;\">_cell.length_a  10.3</div></td>\n",
       "    </tr>\n",
       "    <tr>\n",
       "      <td><div style=\"text-align: left;\">_cell.length_b  6.0</div></td>\n",
       "    </tr>\n",
       "    <tr>\n",
       "      <td><div style=\"text-align: left;\">_cell.length_c  4.8</div></td>\n",
       "    </tr>\n",
       "    <tr>\n",
       "      <td><div style=\"text-align: left;\">&nbsp;</div></td>\n",
       "    </tr>\n",
       "    <tr>\n",
       "      <td><div style=\"text-align: left;\">loop_</div></td>\n",
       "    </tr>\n",
       "    <tr>\n",
       "      <td><div style=\"text-align: left;\">_atom_site.ADP_type</div></td>\n",
       "    </tr>\n",
       "    <tr>\n",
       "      <td><div style=\"text-align: left;\">_atom_site.B_iso_or_equiv</div></td>\n",
       "    </tr>\n",
       "    <tr>\n",
       "      <td><div style=\"text-align: left;\">_atom_site.fract_x</div></td>\n",
       "    </tr>\n",
       "    <tr>\n",
       "      <td><div style=\"text-align: left;\">_atom_site.fract_y</div></td>\n",
       "    </tr>\n",
       "    <tr>\n",
       "      <td><div style=\"text-align: left;\">_atom_site.fract_z</div></td>\n",
       "    </tr>\n",
       "    <tr>\n",
       "      <td><div style=\"text-align: left;\">_atom_site.label</div></td>\n",
       "    </tr>\n",
       "    <tr>\n",
       "      <td><div style=\"text-align: left;\">_atom_site.occupancy</div></td>\n",
       "    </tr>\n",
       "    <tr>\n",
       "      <td><div style=\"text-align: left;\">_atom_site.type_symbol</div></td>\n",
       "    </tr>\n",
       "    <tr>\n",
       "      <td><div style=\"text-align: left;\">_atom_site.Wyckoff_letter</div></td>\n",
       "    </tr>\n",
       "    <tr>\n",
       "      <td><div style=\"text-align: left;\">Biso 0.5 0 0 0 Co1 1.0 Co a</div></td>\n",
       "    </tr>\n",
       "    <tr>\n",
       "      <td><div style=\"text-align: left;\">Biso 0.5 0.279 0.25 0.985 Co2 1.0 Co c</div></td>\n",
       "    </tr>\n",
       "    <tr>\n",
       "      <td><div style=\"text-align: left;\">Biso 0.5 0.094 0.25 0.429 Si 1.0 Si c</div></td>\n",
       "    </tr>\n",
       "    <tr>\n",
       "      <td><div style=\"text-align: left;\">Biso 0.5 0.091 0.25 0.771 O1 1.0 O c</div></td>\n",
       "    </tr>\n",
       "    <tr>\n",
       "      <td><div style=\"text-align: left;\">Biso 0.5 0.448 0.25 0.217 O2 1.0 O c</div></td>\n",
       "    </tr>\n",
       "    <tr>\n",
       "      <td><div style=\"text-align: left;\">Biso 0.5 0.164 0.032 0.28 O3 1.0 O d</div></td>\n",
       "    </tr>\n",
       "  </tbody>\n",
       "</table>"
      ],
      "text/plain": [
       "<IPython.core.display.HTML object>"
      ]
     },
     "metadata": {},
     "output_type": "display_data"
    }
   ],
   "source": [
    "model.show_as_cif()"
   ]
  },
  {
   "cell_type": "markdown",
   "id": "13",
   "metadata": {},
   "source": [
    "Apply symmetry constraints."
   ]
  },
  {
   "cell_type": "code",
   "execution_count": 8,
   "id": "14",
   "metadata": {
    "execution": {
     "iopub.execute_input": "2025-08-31T19:32:02.210220Z",
     "iopub.status.busy": "2025-08-31T19:32:02.210056Z",
     "iopub.status.idle": "2025-08-31T19:32:02.221529Z",
     "shell.execute_reply": "2025-08-31T19:32:02.220689Z"
    }
   },
   "outputs": [],
   "source": [
    "model.apply_symmetry_constraints()"
   ]
  },
  {
   "cell_type": "markdown",
   "id": "15",
   "metadata": {},
   "source": [
    "Show CIF output after applying symmetry constraints."
   ]
  },
  {
   "cell_type": "code",
   "execution_count": 9,
   "id": "16",
   "metadata": {
    "execution": {
     "iopub.execute_input": "2025-08-31T19:32:02.225154Z",
     "iopub.status.busy": "2025-08-31T19:32:02.224210Z",
     "iopub.status.idle": "2025-08-31T19:32:02.235269Z",
     "shell.execute_reply": "2025-08-31T19:32:02.234488Z"
    }
   },
   "outputs": [
    {
     "name": "stdout",
     "output_type": "stream",
     "text": [
      "\n",
      "\u001b[94m\u001b[1mSample model 🧩 \u001b[0m'cosio'\u001b[94m\u001b[1m as cif\u001b[0m\n"
     ]
    },
    {
     "data": {
      "text/html": [
       "<table class=\"dataframe\" style=\"border-collapse: collapse; border: 1px solid #515155; margin-left: 0.5em;margin-top: 0.5em;margin-bottom: 1em;\">\n",
       "  <tbody>\n",
       "    <tr>\n",
       "      <td><div style=\"text-align: left;\">data_cosio</div></td>\n",
       "    </tr>\n",
       "    <tr>\n",
       "      <td><div style=\"text-align: left;\">&nbsp;</div></td>\n",
       "    </tr>\n",
       "    <tr>\n",
       "      <td><div style=\"text-align: left;\">_space_group.IT_coordinate_system_code  abc</div></td>\n",
       "    </tr>\n",
       "    <tr>\n",
       "      <td><div style=\"text-align: left;\">_space_group.name_H-M_alt  \"P n m a\"</div></td>\n",
       "    </tr>\n",
       "    <tr>\n",
       "      <td><div style=\"text-align: left;\">&nbsp;</div></td>\n",
       "    </tr>\n",
       "    <tr>\n",
       "      <td><div style=\"text-align: left;\">_cell.angle_alpha  90</div></td>\n",
       "    </tr>\n",
       "    <tr>\n",
       "      <td><div style=\"text-align: left;\">_cell.angle_beta  90</div></td>\n",
       "    </tr>\n",
       "    <tr>\n",
       "      <td><div style=\"text-align: left;\">_cell.angle_gamma  90</div></td>\n",
       "    </tr>\n",
       "    <tr>\n",
       "      <td><div style=\"text-align: left;\">_cell.length_a  10.3</div></td>\n",
       "    </tr>\n",
       "    <tr>\n",
       "      <td><div style=\"text-align: left;\">_cell.length_b  6.0</div></td>\n",
       "    </tr>\n",
       "    <tr>\n",
       "      <td><div style=\"text-align: left;\">_cell.length_c  4.8</div></td>\n",
       "    </tr>\n",
       "    <tr>\n",
       "      <td><div style=\"text-align: left;\">&nbsp;</div></td>\n",
       "    </tr>\n",
       "    <tr>\n",
       "      <td><div style=\"text-align: left;\">loop_</div></td>\n",
       "    </tr>\n",
       "    <tr>\n",
       "      <td><div style=\"text-align: left;\">_atom_site.ADP_type</div></td>\n",
       "    </tr>\n",
       "    <tr>\n",
       "      <td><div style=\"text-align: left;\">_atom_site.B_iso_or_equiv</div></td>\n",
       "    </tr>\n",
       "    <tr>\n",
       "      <td><div style=\"text-align: left;\">_atom_site.fract_x</div></td>\n",
       "    </tr>\n",
       "    <tr>\n",
       "      <td><div style=\"text-align: left;\">_atom_site.fract_y</div></td>\n",
       "    </tr>\n",
       "    <tr>\n",
       "      <td><div style=\"text-align: left;\">_atom_site.fract_z</div></td>\n",
       "    </tr>\n",
       "    <tr>\n",
       "      <td><div style=\"text-align: left;\">_atom_site.label</div></td>\n",
       "    </tr>\n",
       "    <tr>\n",
       "      <td><div style=\"text-align: left;\">_atom_site.occupancy</div></td>\n",
       "    </tr>\n",
       "    <tr>\n",
       "      <td><div style=\"text-align: left;\">_atom_site.type_symbol</div></td>\n",
       "    </tr>\n",
       "    <tr>\n",
       "      <td><div style=\"text-align: left;\">_atom_site.Wyckoff_letter</div></td>\n",
       "    </tr>\n",
       "    <tr>\n",
       "      <td><div style=\"text-align: left;\">Biso 0.5 0.0 0.0 0.0 Co1 1.0 Co a</div></td>\n",
       "    </tr>\n",
       "    <tr>\n",
       "      <td><div style=\"text-align: left;\">Biso 0.5 0.279 0.25 0.985 Co2 1.0 Co c</div></td>\n",
       "    </tr>\n",
       "    <tr>\n",
       "      <td><div style=\"text-align: left;\">Biso 0.5 0.094 0.25 0.429 Si 1.0 Si c</div></td>\n",
       "    </tr>\n",
       "    <tr>\n",
       "      <td><div style=\"text-align: left;\">Biso 0.5 0.091 0.25 0.771 O1 1.0 O c</div></td>\n",
       "    </tr>\n",
       "    <tr>\n",
       "      <td><div style=\"text-align: left;\">Biso 0.5 0.448 0.25 0.217 O2 1.0 O c</div></td>\n",
       "    </tr>\n",
       "    <tr>\n",
       "      <td><div style=\"text-align: left;\">Biso 0.5 0.164 0.032 0.28 O3 1.0 O d</div></td>\n",
       "    </tr>\n",
       "  </tbody>\n",
       "</table>"
      ],
      "text/plain": [
       "<IPython.core.display.HTML object>"
      ]
     },
     "metadata": {},
     "output_type": "display_data"
    }
   ],
   "source": [
    "model.show_as_cif()"
   ]
  },
  {
   "cell_type": "markdown",
   "id": "17",
   "metadata": {},
   "source": [
    "## Define Experiment\n",
    "\n",
    "This section shows how to add experiments, configure their parameters, and\n",
    "link the sample models defined in the previous step.\n",
    "\n",
    "#### Download Measured Data"
   ]
  },
  {
   "cell_type": "code",
   "execution_count": 10,
   "id": "18",
   "metadata": {
    "execution": {
     "iopub.execute_input": "2025-08-31T19:32:02.237608Z",
     "iopub.status.busy": "2025-08-31T19:32:02.237464Z",
     "iopub.status.idle": "2025-08-31T19:32:02.240441Z",
     "shell.execute_reply": "2025-08-31T19:32:02.239889Z"
    }
   },
   "outputs": [
    {
     "name": "stdout",
     "output_type": "stream",
     "text": [
      "\n",
      "⚠️ \u001b[93mWarning\u001b[0m\n",
      "File 'data/co2sio4_d20.xye' already exists and will not be overwritten.\n"
     ]
    }
   ],
   "source": [
    "download_from_repository('co2sio4_d20.xye', destination='data')"
   ]
  },
  {
   "cell_type": "markdown",
   "id": "19",
   "metadata": {},
   "source": [
    "#### Create Experiment"
   ]
  },
  {
   "cell_type": "code",
   "execution_count": 11,
   "id": "20",
   "metadata": {
    "execution": {
     "iopub.execute_input": "2025-08-31T19:32:02.242703Z",
     "iopub.status.busy": "2025-08-31T19:32:02.242334Z",
     "iopub.status.idle": "2025-08-31T19:32:02.246903Z",
     "shell.execute_reply": "2025-08-31T19:32:02.246484Z"
    }
   },
   "outputs": [
    {
     "name": "stdout",
     "output_type": "stream",
     "text": [
      "\n",
      "\u001b[94m\u001b[1mData loaded successfully\u001b[0m\n",
      "Experiment 🔬 'd20'. Number of data points: 1418\n"
     ]
    }
   ],
   "source": [
    "expt = Experiment('d20', data_path='data/co2sio4_d20.xye')"
   ]
  },
  {
   "cell_type": "markdown",
   "id": "21",
   "metadata": {},
   "source": [
    "#### Set Instrument"
   ]
  },
  {
   "cell_type": "code",
   "execution_count": 12,
   "id": "22",
   "metadata": {
    "execution": {
     "iopub.execute_input": "2025-08-31T19:32:02.248469Z",
     "iopub.status.busy": "2025-08-31T19:32:02.248353Z",
     "iopub.status.idle": "2025-08-31T19:32:02.250502Z",
     "shell.execute_reply": "2025-08-31T19:32:02.250052Z"
    }
   },
   "outputs": [],
   "source": [
    "expt.instrument.setup_wavelength = 1.87\n",
    "expt.instrument.calib_twotheta_offset = 0.1"
   ]
  },
  {
   "cell_type": "markdown",
   "id": "23",
   "metadata": {},
   "source": [
    "#### Set Peak Profile"
   ]
  },
  {
   "cell_type": "code",
   "execution_count": 13,
   "id": "24",
   "metadata": {
    "execution": {
     "iopub.execute_input": "2025-08-31T19:32:02.252221Z",
     "iopub.status.busy": "2025-08-31T19:32:02.252089Z",
     "iopub.status.idle": "2025-08-31T19:32:02.254308Z",
     "shell.execute_reply": "2025-08-31T19:32:02.253701Z"
    }
   },
   "outputs": [],
   "source": [
    "expt.peak.broad_gauss_u = 0.3\n",
    "expt.peak.broad_gauss_v = -0.5\n",
    "expt.peak.broad_gauss_w = 0.4"
   ]
  },
  {
   "cell_type": "markdown",
   "id": "25",
   "metadata": {},
   "source": [
    "#### Set Background"
   ]
  },
  {
   "cell_type": "code",
   "execution_count": 14,
   "id": "26",
   "metadata": {
    "execution": {
     "iopub.execute_input": "2025-08-31T19:32:02.256031Z",
     "iopub.status.busy": "2025-08-31T19:32:02.255906Z",
     "iopub.status.idle": "2025-08-31T19:32:02.259429Z",
     "shell.execute_reply": "2025-08-31T19:32:02.259015Z"
    }
   },
   "outputs": [],
   "source": [
    "expt.background.add(x=8, y=500)\n",
    "expt.background.add(x=9, y=500)\n",
    "expt.background.add(x=10, y=500)\n",
    "expt.background.add(x=11, y=500)\n",
    "expt.background.add(x=12, y=500)\n",
    "expt.background.add(x=15, y=500)\n",
    "expt.background.add(x=25, y=500)\n",
    "expt.background.add(x=30, y=500)\n",
    "expt.background.add(x=50, y=500)\n",
    "expt.background.add(x=70, y=500)\n",
    "expt.background.add(x=90, y=500)\n",
    "expt.background.add(x=110, y=500)\n",
    "expt.background.add(x=130, y=500)\n",
    "expt.background.add(x=150, y=500)"
   ]
  },
  {
   "cell_type": "markdown",
   "id": "27",
   "metadata": {},
   "source": [
    "#### Set Linked Phases"
   ]
  },
  {
   "cell_type": "code",
   "execution_count": 15,
   "id": "28",
   "metadata": {
    "execution": {
     "iopub.execute_input": "2025-08-31T19:32:02.261084Z",
     "iopub.status.busy": "2025-08-31T19:32:02.260955Z",
     "iopub.status.idle": "2025-08-31T19:32:02.262927Z",
     "shell.execute_reply": "2025-08-31T19:32:02.262527Z"
    }
   },
   "outputs": [],
   "source": [
    "expt.linked_phases.add('cosio', scale=1.0)"
   ]
  },
  {
   "cell_type": "markdown",
   "id": "29",
   "metadata": {},
   "source": [
    "## Define Project\n",
    "\n",
    "The project object is used to manage the sample model, experiment, and\n",
    "analysis.\n",
    "\n",
    "#### Create Project"
   ]
  },
  {
   "cell_type": "code",
   "execution_count": 16,
   "id": "30",
   "metadata": {
    "execution": {
     "iopub.execute_input": "2025-08-31T19:32:02.264756Z",
     "iopub.status.busy": "2025-08-31T19:32:02.264625Z",
     "iopub.status.idle": "2025-08-31T19:32:02.500641Z",
     "shell.execute_reply": "2025-08-31T19:32:02.500108Z"
    }
   },
   "outputs": [],
   "source": [
    "project = Project()"
   ]
  },
  {
   "cell_type": "markdown",
   "id": "31",
   "metadata": {},
   "source": [
    "#### Set Plotting Engine"
   ]
  },
  {
   "cell_type": "code",
   "execution_count": 17,
   "id": "32",
   "metadata": {
    "execution": {
     "iopub.execute_input": "2025-08-31T19:32:02.502829Z",
     "iopub.status.busy": "2025-08-31T19:32:02.502673Z",
     "iopub.status.idle": "2025-08-31T19:32:02.505135Z",
     "shell.execute_reply": "2025-08-31T19:32:02.504695Z"
    }
   },
   "outputs": [
    {
     "name": "stdout",
     "output_type": "stream",
     "text": [
      "\n",
      "\u001b[94m\u001b[1mCurrent plotter changed to\u001b[0m\n",
      "plotly\n"
     ]
    }
   ],
   "source": [
    "project.plotter.engine = 'plotly'"
   ]
  },
  {
   "cell_type": "markdown",
   "id": "33",
   "metadata": {},
   "source": [
    "#### Add Sample Model"
   ]
  },
  {
   "cell_type": "code",
   "execution_count": 18,
   "id": "34",
   "metadata": {
    "execution": {
     "iopub.execute_input": "2025-08-31T19:32:02.507082Z",
     "iopub.status.busy": "2025-08-31T19:32:02.506934Z",
     "iopub.status.idle": "2025-08-31T19:32:02.509361Z",
     "shell.execute_reply": "2025-08-31T19:32:02.508693Z"
    }
   },
   "outputs": [],
   "source": [
    "project.sample_models.add(model)"
   ]
  },
  {
   "cell_type": "markdown",
   "id": "35",
   "metadata": {},
   "source": [
    "#### Add Experiment"
   ]
  },
  {
   "cell_type": "code",
   "execution_count": 19,
   "id": "36",
   "metadata": {
    "execution": {
     "iopub.execute_input": "2025-08-31T19:32:02.511510Z",
     "iopub.status.busy": "2025-08-31T19:32:02.511358Z",
     "iopub.status.idle": "2025-08-31T19:32:02.513394Z",
     "shell.execute_reply": "2025-08-31T19:32:02.512983Z"
    }
   },
   "outputs": [],
   "source": [
    "project.experiments.add(expt)"
   ]
  },
  {
   "cell_type": "markdown",
   "id": "37",
   "metadata": {},
   "source": [
    "## Perform Analysis\n",
    "\n",
    "This section shows the analysis process, including how to set up\n",
    "calculation and fitting engines.\n",
    "\n",
    "#### Set Calculator"
   ]
  },
  {
   "cell_type": "code",
   "execution_count": 20,
   "id": "38",
   "metadata": {
    "execution": {
     "iopub.execute_input": "2025-08-31T19:32:02.514853Z",
     "iopub.status.busy": "2025-08-31T19:32:02.514737Z",
     "iopub.status.idle": "2025-08-31T19:32:02.516894Z",
     "shell.execute_reply": "2025-08-31T19:32:02.516426Z"
    }
   },
   "outputs": [
    {
     "name": "stdout",
     "output_type": "stream",
     "text": [
      "\n",
      "\u001b[94m\u001b[1mCurrent calculator changed to\u001b[0m\n",
      "cryspy\n"
     ]
    }
   ],
   "source": [
    "project.analysis.current_calculator = 'cryspy'"
   ]
  },
  {
   "cell_type": "markdown",
   "id": "39",
   "metadata": {},
   "source": [
    "#### Set Minimizer"
   ]
  },
  {
   "cell_type": "code",
   "execution_count": 21,
   "id": "40",
   "metadata": {
    "execution": {
     "iopub.execute_input": "2025-08-31T19:32:02.519034Z",
     "iopub.status.busy": "2025-08-31T19:32:02.518868Z",
     "iopub.status.idle": "2025-08-31T19:32:02.521426Z",
     "shell.execute_reply": "2025-08-31T19:32:02.520921Z"
    }
   },
   "outputs": [
    {
     "name": "stdout",
     "output_type": "stream",
     "text": [
      "\n",
      "\u001b[94m\u001b[1mCurrent minimizer changed to\u001b[0m\n",
      "lmfit (leastsq)\n"
     ]
    }
   ],
   "source": [
    "project.analysis.current_minimizer = 'lmfit (leastsq)'"
   ]
  },
  {
   "cell_type": "markdown",
   "id": "41",
   "metadata": {},
   "source": [
    "#### Plot Measured vs Calculated"
   ]
  },
  {
   "cell_type": "code",
   "execution_count": 22,
   "id": "42",
   "metadata": {
    "execution": {
     "iopub.execute_input": "2025-08-31T19:32:02.523545Z",
     "iopub.status.busy": "2025-08-31T19:32:02.523422Z",
     "iopub.status.idle": "2025-08-31T19:32:03.088395Z",
     "shell.execute_reply": "2025-08-31T19:32:03.082231Z"
    }
   },
   "outputs": [
    {
     "data": {
      "text/html": [
       "<div>                        <script type=\"text/javascript\">window.PlotlyConfig = {MathJaxConfig: 'local'};</script>\n",
       "        <script charset=\"utf-8\" src=\"https://cdn.plot.ly/plotly-3.1.0.min.js\" integrity=\"sha256-Ei4740bWZhaUTQuD6q9yQlgVCMPBz6CZWhevDYPv93A=\" crossorigin=\"anonymous\"></script>                <div id=\"e0c3eef7-14fe-427f-a965-e1de2169503b\" class=\"plotly-graph-div\" style=\"height:100%; width:100%;\"></div>            <script type=\"text/javascript\">                window.PLOTLYENV=window.PLOTLYENV || {};                                if (document.getElementById(\"e0c3eef7-14fe-427f-a965-e1de2169503b\")) {                    Plotly.newPlot(                        \"e0c3eef7-14fe-427f-a965-e1de2169503b\",                        [{\"line\":{\"color\":\"rgb(31, 119, 180)\"},\"mode\":\"lines+markers\",\"name\":\"Measured (Imeas)\",\"x\":{\"dtype\":\"f8\",\"bdata\":\"G55eKcswIEBO0ZFc\\u002fmMgQIEExY8xlyBAtTf4wmTKIEDoaiv2l\\u002f0gQBueXinLMCFATtGRXP5jIUCBBMWPMZchQLU3+MJkyiFA6Gor9pf9IUAbnl4pyzAiQE7RkVz+YyJAgQTFjzGXIkC1N\\u002fjCZMoiQOhqK\\u002faX\\u002fSJAG55eKcswI0BO0ZFc\\u002fmMjQIEExY8xlyNAtTf4wmTKI0Doaiv2l\\u002f0jQBueXinLMCRATtGRXP5jJECBBMWPMZckQLU3+MJkyiRA6Gor9pf9JEAbnl4pyzAlQE7RkVz+YyVAgQTFjzGXJUC1N\\u002fjCZMolQOhqK\\u002faX\\u002fSVAG55eKcswJkBO0ZFc\\u002fmMmQIEExY8xlyZAtTf4wmTKJkDoaiv2l\\u002f0mQBueXinLMCdATtGRXP5jJ0CBBMWPMZcnQLU3+MJkyidA6Gor9pf9J0Abnl4pyzAoQE7RkVz+YyhAgQTFjzGXKEC1N\\u002fjCZMooQOhqK\\u002faX\\u002fShAG55eKcswKUBO0ZFc\\u002fmMpQIEExY8xlylAtTf4wmTKKUDoaiv2l\\u002f0pQBueXinLMCpATtGRXP5jKkCBBMWPMZcqQLU3+MJkyipA6Gor9pf9KkAbnl4pyzArQE7RkVz+YytAgQTFjzGXK0C1N\\u002fjCZMorQOhqK\\u002faX\\u002fStAG55eKcswLEBO0ZFc\\u002fmMsQIEExY8xlyxAtTf4wmTKLEDoaiv2l\\u002f0sQBueXinLMC1ATtGRXP5jLUCBBMWPMZctQLU3+MJkyi1A6Gor9pf9LUAbnl4pyzAuQE7RkVz+Yy5AgQTFjzGXLkC1N\\u002fjCZMouQOhqK\\u002faX\\u002fS5AG55eKcswL0BO0ZFc\\u002fmMvQIEExY8xly9AtTf4wmTKL0Doaiv2l\\u002f0vQA5Pr5RlGDBAp+hILv8xMEBBguLHmEswQNobfGEyZTBAdLUV+8t+MEAOT6+UZZgwQKfoSC7\\u002fsTBAQYLix5jLMEDaG3xhMuUwQHS1FfvL\\u002fjBADk+vlGUYMUCn6Egu\\u002fzExQEGC4seYSzFA2ht8YTJlMUB0tRX7y34xQA5Pr5RlmDFAp+hILv+xMUBBguLHmMsxQNobfGEy5TFAdLUV+8v+MUAOT6+UZRgyQKfoSC7\\u002fMTJAQYLix5hLMkDaG3xhMmUyQHS1FfvLfjJADk+vlGWYMkCn6Egu\\u002f7EyQEGC4seYyzJA2ht8YTLlMkB0tRX7y\\u002f4yQA5Pr5RlGDNAp+hILv8xM0BBguLHmEszQNobfGEyZTNAdLUV+8t+M0AOT6+UZZgzQKfoSC7\\u002fsTNAQYLix5jLM0DaG3xhMuUzQHS1FfvL\\u002fjNADk+vlGUYNECn6Egu\\u002fzE0QEGC4seYSzRA2ht8YTJlNEB0tRX7y340QA5Pr5RlmDRAp+hILv+xNEBBguLHmMs0QNobfGEy5TRAdLUV+8v+NEAOT6+UZRg1QKfoSC7\\u002fMTVAQYLix5hLNUDaG3xhMmU1QHS1FfvLfjVADk+vlGWYNUCn6Egu\\u002f7E1QEGC4seYyzVA2ht8YTLlNUB0tRX7y\\u002f41QA5Pr5RlGDZAp+hILv8xNkBBguLHmEs2QNobfGEyZTZAdLUV+8t+NkAOT6+UZZg2QKfoSC7\\u002fsTZAQYLix5jLNkDaG3xhMuU2QHS1FfvL\\u002fjZADk+vlGUYN0Cn6Egu\\u002fzE3QEGC4seYSzdA2ht8YTJlN0B0tRX7y343QA5Pr5RlmDdAp+hILv+xN0BBguLHmMs3QNobfGEy5TdAdLUV+8v+N0AOT6+UZRg4QKfoSC7\\u002fMThAQYLix5hLOEDaG3xhMmU4QHS1FfvLfjhADk+vlGWYOECn6Egu\\u002f7E4QEGC4seYyzhA2ht8YTLlOEB0tRX7y\\u002f44QA5Pr5RlGDlAp+hILv8xOUBBguLHmEs5QNobfGEyZTlAdLUV+8t+OUAOT6+UZZg5QKfoSC7\\u002fsTlAQYLix5jLOUDaG3xhMuU5QHS1FfvL\\u002fjlADk+vlGUYOkCn6Egu\\u002fzE6QEGC4seYSzpA2ht8YTJlOkB0tRX7y346QA5Pr5RlmDpAp+hILv+xOkBBguLHmMs6QNobfGEy5TpAdLUV+8v+OkAOT6+UZRg7QKfoSC7\\u002fMTtAQYLix5hLO0DaG3xhMmU7QHS1FfvLfjtADk+vlGWYO0Cn6Egu\\u002f7E7QEGC4seYyztA2ht8YTLlO0B0tRX7y\\u002f47QA5Pr5RlGDxAp+hILv8xPEBBguLHmEs8QNobfGEyZTxAdLUV+8t+PEAOT6+UZZg8QKfoSC7\\u002fsTxAQYLix5jLPEDaG3xhMuU8QHS1FfvL\\u002fjxADk+vlGUYPUCn6Egu\\u002fzE9QEGC4seYSz1A2ht8YTJlPUB0tRX7y349QA5Pr5RlmD1Ap+hILv+xPUBBguLHmMs9QNobfGEy5T1AdLUV+8v+PUAOT6+UZRg+QKfoSC7\\u002fMT5AQYLix5hLPkDaG3xhMmU+QHS1FfvLfj5ADk+vlGWYPkCn6Egu\\u002f7E+QEGC4seYyz5A2ht8YTLlPkB0tRX7y\\u002f4+QA5Pr5RlGD9Ap+hILv8xP0BBguLHmEs\\u002fQNobfGEyZT9AdLUV+8t+P0AOT6+UZZg\\u002fQKfoSC7\\u002fsT9AQYLix5jLP0DaG3xhMuU\\u002fQHS1FfvL\\u002fj9Ah6dXyjIMQEBUdCSX\\u002fxhAQCBB8WPMJUBA7Q2+MJkyQEC62or9ZT9AQIenV8oyTEBAVHQkl\\u002f9YQEAgQfFjzGVAQO0NvjCZckBAutqK\\u002fWV\\u002fQECHp1fKMoxAQFR0JJf\\u002fmEBAIEHxY8ylQEDtDb4wmbJAQLraiv1lv0BAh6dXyjLMQEBUdCSX\\u002f9hAQCBB8WPM5UBA7Q2+MJnyQEC62or9Zf9AQIenV8oyDEFAVHQkl\\u002f8YQUAgQfFjzCVBQO0NvjCZMkFAutqK\\u002fWU\\u002fQUCHp1fKMkxBQFR0JJf\\u002fWEFAIEHxY8xlQUDtDb4wmXJBQLraiv1lf0FAh6dXyjKMQUBUdCSX\\u002f5hBQCBB8WPMpUFA7Q2+MJmyQUC62or9Zb9BQIenV8oyzEFAVHQkl\\u002f\\u002fYQUAgQfFjzOVBQO0NvjCZ8kFAutqK\\u002fWX\\u002fQUCHp1fKMgxCQFR0JJf\\u002fGEJAIEHxY8wlQkDtDb4wmTJCQLraiv1lP0JAh6dXyjJMQkBUdCSX\\u002f1hCQCBB8WPMZUJA7Q2+MJlyQkC62or9ZX9CQIenV8oyjEJAVHQkl\\u002f+YQkAgQfFjzKVCQO0NvjCZskJAutqK\\u002fWW\\u002fQkCHp1fKMsxCQFR0JJf\\u002f2EJAIEHxY8zlQkDtDb4wmfJCQLraiv1l\\u002f0JAh6dXyjIMQ0BUdCSX\\u002fxhDQCBB8WPMJUNA7Q2+MJkyQ0C62or9ZT9DQIenV8oyTENAVHQkl\\u002f9YQ0AgQfFjzGVDQO0NvjCZckNAutqK\\u002fWV\\u002fQ0CHp1fKMoxDQFR0JJf\\u002fmENAIEHxY8ylQ0DtDb4wmbJDQLraiv1lv0NAh6dXyjLMQ0BUdCSX\\u002f9hDQCBB8WPM5UNA7Q2+MJnyQ0C62or9Zf9DQIenV8oyDERAVHQkl\\u002f8YREAgQfFjzCVEQO0NvjCZMkRAutqK\\u002fWU\\u002fRECHp1fKMkxEQFR0JJf\\u002fWERAIEHxY8xlREDtDb4wmXJEQLraiv1lf0RAh6dXyjKMREBUdCSX\\u002f5hEQCBB8WPMpURA7Q2+MJmyREC62or9Zb9EQIenV8oyzERAVHQkl\\u002f\\u002fYREAgQfFjzOVEQO0NvjCZ8kRAutqK\\u002fWX\\u002fRECHp1fKMgxFQFR0JJf\\u002fGEVAIEHxY8wlRUDtDb4wmTJFQLraiv1lP0VAh6dXyjJMRUBUdCSX\\u002f1hFQCBB8WPMZUVA7Q2+MJlyRUC62or9ZX9FQIenV8oyjEVAVHQkl\\u002f+YRUAgQfFjzKVFQO0NvjCZskVAutqK\\u002fWW\\u002fRUCHp1fKMsxFQFR0JJf\\u002f2EVAIEHxY8zlRUDtDb4wmfJFQLraiv1l\\u002f0VAh6dXyjIMRkBUdCSX\\u002fxhGQCBB8WPMJUZA7Q2+MJkyRkC62or9ZT9GQIenV8oyTEZAVHQkl\\u002f9YRkAgQfFjzGVGQO0NvjCZckZAutqK\\u002fWV\\u002fRkCHp1fKMoxGQFR0JJf\\u002fmEZAIEHxY8ylRkDtDb4wmbJGQLraiv1lv0ZAh6dXyjLMRkBUdCSX\\u002f9hGQCBB8WPM5UZA7Q2+MJnyRkC62or9Zf9GQIenV8oyDEdAVHQkl\\u002f8YR0AgQfFjzCVHQO0NvjCZMkdAutqK\\u002fWU\\u002fR0CHp1fKMkxHQFR0JJf\\u002fWEdAIEHxY8xlR0DtDb4wmXJHQLraiv1lf0dAh6dXyjKMR0BUdCSX\\u002f5hHQCBB8WPMpUdA7Q2+MJmyR0C62or9Zb9HQIenV8oyzEdAVHQkl\\u002f\\u002fYR0AgQfFjzOVHQO0NvjCZ8kdAutqK\\u002fWX\\u002fR0CHp1fKMgxIQFR0JJf\\u002fGEhAIEHxY8wlSEDtDb4wmTJIQLraiv1lP0hAh6dXyjJMSEBUdCSX\\u002f1hIQCBB8WPMZUhA7Q2+MJlySEC62or9ZX9IQIenV8oyjEhAVHQkl\\u002f+YSEAgQfFjzKVIQO0NvjCZskhAutqK\\u002fWW\\u002fSECHp1fKMsxIQFR0JJf\\u002f2EhAIEHxY8zlSEDtDb4wmfJIQLraiv1l\\u002f0hAh6dXyjIMSUBUdCSX\\u002fxhJQCBB8WPMJUlA7Q2+MJkySUC62or9ZT9JQIenV8oyTElAVHQkl\\u002f9YSUAgQfFjzGVJQO0NvjCZcklAutqK\\u002fWV\\u002fSUCHp1fKMoxJQFR0JJf\\u002fmElAIEHxY8ylSUDtDb4wmbJJQLraiv1lv0lAh6dXyjLMSUBUdCSX\\u002f9hJQCBB8WPM5UlA7Q2+MJnySUC62or9Zf9JQIenV8oyDEpAVHQkl\\u002f8YSkAgQfFjzCVKQO0NvjCZMkpAutqK\\u002fWU\\u002fSkCHp1fKMkxKQFR0JJf\\u002fWEpAIEHxY8xlSkDtDb4wmXJKQLraiv1lf0pAh6dXyjKMSkBUdCSX\\u002f5hKQCBB8WPMpUpA7Q2+MJmySkC62or9Zb9KQIenV8oyzEpAVHQkl\\u002f\\u002fYSkAgQfFjzOVKQO0NvjCZ8kpAutqK\\u002fWX\\u002fSkCHp1fKMgxLQFR0JJf\\u002fGEtAIEHxY8wlS0DtDb4wmTJLQLraiv1lP0tAh6dXyjJMS0BUdCSX\\u002f1hLQCBB8WPMZUtA7Q2+MJlyS0C62or9ZX9LQIenV8oyjEtAVHQkl\\u002f+YS0AgQfFjzKVLQO0NvjCZsktAutqK\\u002fWW\\u002fS0CHp1fKMsxLQFR0JJf\\u002f2EtAIEHxY8zlS0DtDb4wmfJLQLraiv1l\\u002f0tAh6dXyjIMTEBUdCSX\\u002fxhMQCBB8WPMJUxA7Q2+MJkyTEC62or9ZT9MQIenV8oyTExAVHQkl\\u002f9YTEAgQfFjzGVMQO0NvjCZckxAutqK\\u002fWV\\u002fTECHp1fKMoxMQFR0JJf\\u002fmExAIEHxY8ylTEDtDb4wmbJMQLraiv1lv0xAh6dXyjLMTEBUdCSX\\u002f9hMQCBB8WPM5UxA7Q2+MJnyTEC62or9Zf9MQIenV8oyDE1AVHQkl\\u002f8YTUAgQfFjzCVNQO0NvjCZMk1AutqK\\u002fWU\\u002fTUCHp1fKMkxNQFR0JJf\\u002fWE1AIEHxY8xlTUDtDb4wmXJNQLraiv1lf01Ah6dXyjKMTUBUdCSX\\u002f5hNQCBB8WPMpU1A7Q2+MJmyTUC62or9Zb9NQIenV8oyzE1AVHQkl\\u002f\\u002fYTUAgQfFjzOVNQO0NvjCZ8k1AutqK\\u002fWX\\u002fTUCHp1fKMgxOQFR0JJf\\u002fGE5AIEHxY8wlTkDtDb4wmTJOQLraiv1lP05Ah6dXyjJMTkBUdCSX\\u002f1hOQCBB8WPMZU5A7Q2+MJlyTkC62or9ZX9OQIenV8oyjE5AVHQkl\\u002f+YTkAgQfFjzKVOQO0NvjCZsk5AutqK\\u002fWW\\u002fTkCHp1fKMsxOQFR0JJf\\u002f2E5AIEHxY8zlTkDtDb4wmfJOQLraiv1l\\u002f05Ah6dXyjIMT0BUdCSX\\u002fxhPQCBB8WPMJU9A7Q2+MJkyT0C62or9ZT9PQIenV8oyTE9AVHQkl\\u002f9YT0AgQfFjzGVPQO0NvjCZck9AutqK\\u002fWV\\u002fT0CHp1fKMoxPQFR0JJf\\u002fmE9AIEHxY8ylT0DtDb4wmbJPQLraiv1lv09Ah6dXyjLMT0BUdCSX\\u002f9hPQCBB8WPM5U9A7Q2+MJnyT0C62or9Zf9PQMPTK2UZBlBAKjqSy38MUECQoPgx5hJQQPcGX5hMGVBAXW3F\\u002frIfUECQoPgx5jJQQPcGX5hMOVBAXW3F\\u002frI\\u002fUEDD0ytlGUZQQCo6kst\\u002fTFBAkKD4MeZSUED3Bl+YTFlQQF1txf6yX1BAw9MrZRlmUEAqOpLLf2xQQJCg+DHmclBA9wZfmEx5UEBdbcX+sn9QQMPTK2UZhlBAKjqSy3+MUECQoPgx5pJQQPcGX5hMmVBAXW3F\\u002frKfUEDD0ytlGaZQQCo6kst\\u002frFBAkKD4MeayUED3Bl+YTLlQQF1txf6yv1BAw9MrZRnGUEAqOpLLf8xQQJCg+DHm0lBA9wZfmEzZUEBdbcX+st9QQMPTK2UZ5lBAKjqSy3\\u002fsUECQoPgx5vJQQPcGX5hM+VBAXW3F\\u002frL\\u002fUEDD0ytlGQZRQCo6kst\\u002fDFFAkKD4MeYSUUD3Bl+YTBlRQF1txf6yH1FAw9MrZRkmUUAqOpLLfyxRQJCg+DHmMlFA9wZfmEw5UUBdbcX+sj9RQMPTK2UZRlFAKjqSy39MUUCQoPgx5lJRQPcGX5hMWVFAXW3F\\u002frJfUUDD0ytlGWZRQCo6kst\\u002fbFFAkKD4MeZyUUD3Bl+YTHlRQF1txf6yf1FAw9MrZRmGUUAqOpLLf4xRQJCg+DHmklFA9wZfmEyZUUBdbcX+sp9RQMPTK2UZplFAKjqSy3+sUUCQoPgx5rJRQPcGX5hMuVFAXW3F\\u002frK\\u002fUUDD0ytlGcZRQCo6kst\\u002fzFFAkKD4MebSUUD3Bl+YTNlRQF1txf6y31FAw9MrZRnmUUAqOpLLf+xRQJCg+DHm8lFA9wZfmEz5UUBdbcX+sv9RQMPTK2UZBlJAKjqSy38MUkCQoPgx5hJSQPcGX5hMGVJAXW3F\\u002frIfUkDD0ytlGSZSQCo6kst\\u002fLFJAkKD4MeYyUkD3Bl+YTDlSQF1txf6yP1JAw9MrZRlGUkAqOpLLf0xSQJCg+DHmUlJA9wZfmExZUkBdbcX+sl9SQMPTK2UZZlJAKjqSy39sUkCQoPgx5nJSQPcGX5hMeVJAXW3F\\u002frJ\\u002fUkDD0ytlGYZSQCo6kst\\u002fjFJAkKD4MeaSUkD3Bl+YTJlSQF1txf6yn1JAw9MrZRmmUkAqOpLLf6xSQJCg+DHmslJA9wZfmEy5UkBdbcX+sr9SQMPTK2UZxlJAKjqSy3\\u002fMUkCQoPgx5tJSQPcGX5hM2VJAXW3F\\u002frLfUkDD0ytlGeZSQCo6kst\\u002f7FJAkKD4MebyUkD3Bl+YTPlSQF1txf6y\\u002f1JAw9MrZRkGU0AqOpLLfwxTQJCg+DHmElNA9wZfmEwZU0BdbcX+sh9TQMPTK2UZJlNAKjqSy38sU0CQoPgx5jJTQPcGX5hMOVNAXW3F\\u002frI\\u002fU0DD0ytlGUZTQCo6kst\\u002fTFNAkKD4MeZSU0D3Bl+YTFlTQF1txf6yX1NAw9MrZRlmU0AqOpLLf2xTQJCg+DHmclNA9wZfmEx5U0BdbcX+sn9TQMPTK2UZhlNAKjqSy3+MU0CQoPgx5pJTQPcGX5hMmVNAXW3F\\u002frKfU0DD0ytlGaZTQCo6kst\\u002frFNAkKD4MeayU0D3Bl+YTLlTQF1txf6yv1NAw9MrZRnGU0AqOpLLf8xTQJCg+DHm0lNA9wZfmEzZU0BdbcX+st9TQMPTK2UZ5lNAKjqSy3\\u002fsU0CQoPgx5vJTQPcGX5hM+VNAXW3F\\u002frL\\u002fU0DD0ytlGQZUQCo6kst\\u002fDFRAkKD4MeYSVED3Bl+YTBlUQF1txf6yH1RAw9MrZRkmVEAqOpLLfyxUQJCg+DHmMlRA9wZfmEw5VEBdbcX+sj9UQMPTK2UZRlRAKjqSy39MVECQoPgx5lJUQPcGX5hMWVRAXW3F\\u002frJfVEDD0ytlGWZUQCo6kst\\u002fbFRAkKD4MeZyVED3Bl+YTHlUQF1txf6yf1RAw9MrZRmGVEAqOpLLf4xUQJCg+DHmklRA9wZfmEyZVEBdbcX+sp9UQMPTK2UZplRAKjqSy3+sVECQoPgx5rJUQPcGX5hMuVRAXW3F\\u002frK\\u002fVEDD0ytlGcZUQCo6kst\\u002fzFRAkKD4MebSVED3Bl+YTNlUQF1txf6y31RAw9MrZRnmVEAqOpLLf+xUQJCg+DHm8lRA9wZfmEz5VEBdbcX+sv9UQMPTK2UZBlVAKjqSy38MVUCQoPgx5hJVQPcGX5hMGVVAXW3F\\u002frIfVUDD0ytlGSZVQCo6kst\\u002fLFVAkKD4MeYyVUD3Bl+YTDlVQF1txf6yP1VAw9MrZRlGVUAqOpLLf0xVQJCg+DHmUlVA9wZfmExZVUBdbcX+sl9VQMPTK2UZZlVAKjqSy39sVUCQoPgx5nJVQPcGX5hMeVVAXW3F\\u002frJ\\u002fVUDD0ytlGYZVQCo6kst\\u002fjFVAkKD4MeaSVUD3Bl+YTJlVQF1txf6yn1VAw9MrZRmmVUAqOpLLf6xVQJCg+DHmslVA9wZfmEy5VUBdbcX+sr9VQMPTK2UZxlVAKjqSy3\\u002fMVUCQoPgx5tJVQPcGX5hM2VVAXW3F\\u002frLfVUDD0ytlGeZVQCo6kst\\u002f7FVAkKD4MebyVUD3Bl+YTPlVQF1txf6y\\u002f1VAw9MrZRkGVkAqOpLLfwxWQJCg+DHmElZA9wZfmEwZVkBdbcX+sh9WQMPTK2UZJlZAKjqSy38sVkCQoPgx5jJWQPcGX5hMOVZAXW3F\\u002frI\\u002fVkDD0ytlGUZWQCo6kst\\u002fTFZAkKD4MeZSVkD3Bl+YTFlWQF1txf6yX1ZAw9MrZRlmVkAqOpLLf2xWQJCg+DHmclZA9wZfmEx5VkBdbcX+sn9WQMPTK2UZhlZAKjqSy3+MVkCQoPgx5pJWQPcGX5hMmVZAXW3F\\u002frKfVkDD0ytlGaZWQCo6kst\\u002frFZAkKD4MeayVkD3Bl+YTLlWQF1txf6yv1ZAw9MrZRnGVkAqOpLLf8xWQJCg+DHm0lZA9wZfmEzZVkBdbcX+st9WQMPTK2UZ5lZAKjqSy3\\u002fsVkCQoPgx5vJWQPcGX5hM+VZAXW3F\\u002frL\\u002fVkDD0ytlGQZXQCo6kst\\u002fDFdAkKD4MeYSV0D3Bl+YTBlXQF1txf6yH1dAw9MrZRkmV0AqOpLLfyxXQJCg+DHmMldA9wZfmEw5V0BdbcX+sj9XQMPTK2UZRldAKjqSy39MV0CQoPgx5lJXQPcGX5hMWVdAXW3F\\u002frJfV0DD0ytlGWZXQCo6kst\\u002fbFdAkKD4MeZyV0D3Bl+YTHlXQF1txf6yf1dAw9MrZRmGV0AqOpLLf4xXQJCg+DHmkldA9wZfmEyZV0BdbcX+sp9XQMPTK2UZpldAKjqSy3+sV0CQoPgx5rJXQPcGX5hMuVdAXW3F\\u002frK\\u002fV0DD0ytlGcZXQCo6kst\\u002fzFdAkKD4MebSV0D3Bl+YTNlXQF1txf6y31dAw9MrZRnmV0AqOpLLf+xXQJCg+DHm8ldA9wZfmEz5V0BdbcX+sv9XQMPTK2UZBlhAKjqSy38MWECQoPgx5hJYQPcGX5hMGVhAXW3F\\u002frIfWEDD0ytlGSZYQCo6kst\\u002fLFhAkKD4MeYyWED3Bl+YTDlYQF1txf6yP1hAw9MrZRlGWEAqOpLLf0xYQJCg+DHmUlhA9wZfmExZWEBdbcX+sl9YQMPTK2UZZlhAKjqSy39sWECQoPgx5nJYQPcGX5hMeVhAXW3F\\u002frJ\\u002fWEDD0ytlGYZYQCo6kst\\u002fjFhAkKD4MeaSWED3Bl+YTJlYQF1txf6yn1hAw9MrZRmmWEAqOpLLf6xYQJCg+DHmslhA9wZfmEy5WEBdbcX+sr9YQMPTK2UZxlhAKjqSy3\\u002fMWECQoPgx5tJYQPcGX5hM2VhAXW3F\\u002frLfWEDD0ytlGeZYQCo6kst\\u002f7FhAkKD4MebyWED3Bl+YTPlYQF1txf6y\\u002f1hAw9MrZRkGWUAqOpLLfwxZQJCg+DHmEllA9wZfmEwZWUBdbcX+sh9ZQMPTK2UZJllAKjqSy38sWUCQoPgx5jJZQPcGX5hMOVlAXW3F\\u002frI\\u002fWUDD0ytlGUZZQCo6kst\\u002fTFlAkKD4MeZSWUD3Bl+YTFlZQF1txf6yX1lAw9MrZRlmWUAqOpLLf2xZQJCg+DHmcllA9wZfmEx5WUBdbcX+sn9ZQMPTK2UZhllAKjqSy3+MWUCQoPgx5pJZQPcGX5hMmVlAXW3F\\u002frKfWUDD0ytlGaZZQCo6kst\\u002frFlA9wZfmEy5WUBdbcX+sr9ZQMPTK2UZxllAKjqSy3\\u002fMWUCQoPgx5tJZQPcGX5hM2VlAXW3F\\u002frLfWUDD0ytlGeZZQCo6kst\\u002f7FlAkKD4MebyWUD3Bl+YTPlZQF1txf6y\\u002f1lAw9MrZRkGWkAqOpLLfwxaQJCg+DHmElpA9wZfmEwZWkBdbcX+sh9aQMPTK2UZJlpAKjqSy38sWkCQoPgx5jJaQPcGX5hMOVpAXW3F\\u002frI\\u002fWkDD0ytlGUZaQCo6kst\\u002fTFpAkKD4MeZSWkD3Bl+YTFlaQF1txf6yX1pAw9MrZRlmWkAqOpLLf2xaQJCg+DHmclpA9wZfmEx5WkBdbcX+sn9aQMPTK2UZhlpAKjqSy3+MWkCQoPgx5pJaQPcGX5hMmVpAXW3F\\u002frKfWkDD0ytlGaZaQCo6kst\\u002frFpAkKD4MeayWkD3Bl+YTLlaQF1txf6yv1pAw9MrZRnGWkAqOpLLf8xaQJCg+DHm0lpA9wZfmEzZWkBdbcX+st9aQMPTK2UZ5lpAKjqSy3\\u002fsWkCQoPgx5vJaQPcGX5hM+VpAXW3F\\u002frL\\u002fWkDD0ytlGQZbQCo6kst\\u002fDFtAkKD4MeYSW0D3Bl+YTBlbQF1txf6yH1tAw9MrZRkmW0AqOpLLfyxbQJCg+DHmMltA9wZfmEw5W0BdbcX+sj9bQMPTK2UZRltAKjqSy39MW0CQoPgx5lJbQPcGX5hMWVtAXW3F\\u002frJfW0DD0ytlGWZbQCo6kst\\u002fbFtAkKD4MeZyW0D3Bl+YTHlbQF1txf6yf1tAw9MrZRmGW0AqOpLLf4xbQJCg+DHmkltA9wZfmEyZW0BdbcX+sp9bQMPTK2UZpltAKjqSy3+sW0CQoPgx5rJbQPcGX5hMuVtAXW3F\\u002frK\\u002fW0DD0ytlGcZbQCo6kst\\u002fzFtAkKD4MebSW0D3Bl+YTNlbQF1txf6y31tAw9MrZRnmW0AqOpLLf+xbQJCg+DHm8ltA9wZfmEz5W0BdbcX+sv9bQMPTK2UZBlxAKjqSy38MXECQoPgx5hJcQPcGX5hMGVxAXW3F\\u002frIfXEDD0ytlGSZcQCo6kst\\u002fLFxAkKD4MeYyXED3Bl+YTDlcQF1txf6yP1xAw9MrZRlGXEAqOpLLf0xcQJCg+DHmUlxA9wZfmExZXEBdbcX+sl9cQMPTK2UZZlxAKjqSy39sXECQoPgx5nJcQPcGX5hMeVxAXW3F\\u002frJ\\u002fXEDD0ytlGYZcQCo6kst\\u002fjFxAkKD4MeaSXED3Bl+YTJlcQF1txf6yn1xAw9MrZRmmXEAqOpLLf6xcQJCg+DHmslxA9wZfmEy5XEBdbcX+sr9cQMPTK2UZxlxAKjqSy3\\u002fMXECQoPgx5tJcQPcGX5hM2VxAXW3F\\u002frLfXEDD0ytlGeZcQCo6kst\\u002f7FxAkKD4MebyXED3Bl+YTPlcQF1txf6y\\u002f1xAw9MrZRkGXUAqOpLLfwxdQJCg+DHmEl1A9wZfmEwZXUBdbcX+sh9dQMPTK2UZJl1AKjqSy38sXUCQoPgx5jJdQPcGX5hMOV1AXW3F\\u002frI\\u002fXUDD0ytlGUZdQCo6kst\\u002fTF1AkKD4MeZSXUD3Bl+YTFldQF1txf6yX11Aw9MrZRlmXUAqOpLLf2xdQJCg+DHmcl1A9wZfmEx5XUBdbcX+sn9dQMPTK2UZhl1AKjqSy3+MXUCQoPgx5pJdQPcGX5hMmV1AXW3F\\u002frKfXUDD0ytlGaZdQCo6kst\\u002frF1AkKD4MeayXUD3Bl+YTLldQF1txf6yv11Aw9MrZRnGXUAqOpLLf8xdQJCg+DHm0l1A9wZfmEzZXUBdbcX+st9dQMPTK2UZ5l1AKjqSy3\\u002fsXUCQoPgx5vJdQPcGX5hM+V1AXW3F\\u002frL\\u002fXUDD0ytlGQZeQCo6kst\\u002fDF5AkKD4MeYSXkD3Bl+YTBleQF1txf6yH15Aw9MrZRkmXkAqOpLLfyxeQJCg+DHmMl5A9wZfmEw5XkBdbcX+sj9eQMPTK2UZRl5AKjqSy39MXkCQoPgx5lJeQPcGX5hMWV5AXW3F\\u002frJfXkDD0ytlGWZeQCo6kst\\u002fbF5AkKD4MeZyXkD3Bl+YTHleQF1txf6yf15Aw9MrZRmGXkAqOpLLf4xeQJCg+DHmkl5A9wZfmEyZXkBdbcX+sp9eQMPTK2UZpl5AKjqSy3+sXkCQoPgx5rJeQPcGX5hMuV5AXW3F\\u002frK\\u002fXkDD0ytlGcZeQCo6kst\\u002fzF5AkKD4MebSXkD3Bl+YTNleQF1txf6y315Aw9MrZRnmXkAqOpLLf+xeQJCg+DHm8l5A9wZfmEz5XkBdbcX+sv9eQMPTK2UZBl9AKjqSy38MX0CQoPgx5hJfQPcGX5hMGV9AXW3F\\u002frIfX0DD0ytlGSZfQCo6kst\\u002fLF9AkKD4MeYyX0D3Bl+YTDlfQF1txf6yP19Aw9MrZRlGX0AqOpLLf0xfQJCg+DHmUl9A9wZfmExZX0BdbcX+sl9fQMPTK2UZZl9AKjqSy39sX0CQoPgx5nJfQPcGX5hMeV9AXW3F\\u002frJ\\u002fX0DD0ytlGYZfQCo6kst\\u002fjF9AkKD4MeaSX0D3Bl+YTJlfQF1txf6yn19Aw9MrZRmmX0AqOpLLf6xfQJCg+DHmsl9A9wZfmEy5X0BdbcX+sr9fQMPTK2UZxl9AKjqSy3\\u002fMX0CQoPgx5tJfQPcGX5hM2V9AXW3F\\u002frLfX0DD0ytlGeZfQCo6kst\\u002f7F9AkKD4MebyX0D3Bl+YTPlfQF1txf6y\\u002f19A4umVsgwDYEAVHcnlPwZgQEhQ\\u002fBhzCWBAe4MvTKYMYECutmJ\\u002f2Q9gQOLplbIME2BAFR3J5T8WYEBIUPwYcxlgQHuDL0ymHGBArrZif9kfYEDi6ZWyDCNgQBUdyeU\\u002fJmBASFD8GHMpYEB7gy9MpixgQK62Yn\\u002fZL2BA4umVsgwzYEAVHcnlPzZgQEhQ\\u002fBhzOWBAe4MvTKY8YECutmJ\\u002f2T9gQOLplbIMQ2BAFR3J5T9GYEBIUPwYc0lgQHuDL0ymTGBArrZif9lPYEDi6ZWyDFNgQBUdyeU\\u002fVmBASFD8GHNZYEB7gy9MplxgQK62Yn\\u002fZX2BA4umVsgxjYEAVHcnlP2ZgQEhQ\\u002fBhzaWBAe4MvTKZsYECutmJ\\u002f2W9gQOLplbIMc2BAFR3J5T92YEBIUPwYc3lgQHuDL0ymfGBArrZif9l\\u002fYEDi6ZWyDINgQBUdyeU\\u002fhmBASFD8GHOJYEB7gy9MpoxgQK62Yn\\u002fZj2BA4umVsgyTYEAVHcnlP5ZgQEhQ\\u002fBhzmWBAe4MvTKacYECutmJ\\u002f2Z9gQOLplbIMo2BAFR3J5T+mYEBIUPwYc6lgQHuDL0ymrGBArrZif9mvYEDi6ZWyDLNgQBUdyeU\\u002ftmBASFD8GHO5YEB7gy9MprxgQK62Yn\\u002fZv2BA4umVsgzDYEAVHcnlP8ZgQEhQ\\u002fBhzyWBAe4MvTKbMYECutmJ\\u002f2c9gQOLplbIM02BAFR3J5T\\u002fWYEBIUPwYc9lgQHuDL0ym3GBArrZif9nfYEDi6ZWyDONgQBUdyeU\\u002f5mBASFD8GHPpYEB7gy9MpuxgQK62Yn\\u002fZ72BA4umVsgzzYEAVHcnlP\\u002fZgQEhQ\\u002fBhz+WBAe4MvTKb8YECutmJ\\u002f2f9gQOLplbIMA2FAFR3J5T8GYUBIUPwYcwlhQHuDL0ymDGFArrZif9kPYUDi6ZWyDBNhQBUdyeU\\u002fFmFASFD8GHMZYUB7gy9MphxhQK62Yn\\u002fZH2FA4umVsgwjYUAVHcnlPyZhQEhQ\\u002fBhzKWFAe4MvTKYsYUCutmJ\\u002f2S9hQOLplbIMM2FAFR3J5T82YUBIUPwYczlhQHuDL0ymPGFArrZif9k\\u002fYUDi6ZWyDENhQBUdyeU\\u002fRmFASFD8GHNJYUB7gy9MpkxhQK62Yn\\u002fZT2FA4umVsgxTYUAVHcnlP1ZhQEhQ\\u002fBhzWWFAe4MvTKZcYUCutmJ\\u002f2V9hQOLplbIMY2FAFR3J5T9mYUBIUPwYc2lhQHuDL0ymbGFArrZif9lvYUDi6ZWyDHNhQBUdyeU\\u002fdmFASFD8GHN5YUB7gy9MpnxhQK62Yn\\u002fZf2FA4umVsgyDYUAVHcnlP4ZhQEhQ\\u002fBhziWFAe4MvTKaMYUCutmJ\\u002f2Y9hQOLplbIMk2FAFR3J5T+WYUBIUPwYc5lhQHuDL0ymnGFArrZif9mfYUDi6ZWyDKNhQBUdyeU\\u002fpmFASFD8GHOpYUB7gy9MpqxhQK62Yn\\u002fZr2FA4umVsgyzYUAVHcnlP7ZhQEhQ\\u002fBhzuWFAe4MvTKa8YUCutmJ\\u002f2b9hQOLplbIMw2FAFR3J5T\\u002fGYUBIUPwYc8lhQHuDL0ymzGFArrZif9nPYUDi6ZWyDNNhQBUdyeU\\u002f1mFASFD8GHPZYUB7gy9MptxhQK62Yn\\u002fZ32FA4umVsgzjYUAVHcnlP+ZhQEhQ\\u002fBhz6WFAe4MvTKbsYUCutmJ\\u002f2e9hQOLplbIM82FAFR3J5T\\u002f2YUBIUPwYc\\u002flhQHuDL0ym\\u002fGFArrZif9n\\u002fYUDi6ZWyDANiQBUdyeU\\u002fBmJASFD8GHMJYkB7gy9MpgxiQK62Yn\\u002fZD2JA4umVsgwTYkAVHcnlPxZiQEhQ\\u002fBhzGWJAe4MvTKYcYkCutmJ\\u002f2R9iQOLplbIMI2JAFR3J5T8mYkBIUPwYcyliQHuDL0ymLGJArrZif9kvYkDi6ZWyDDNiQBUdyeU\\u002fNmJASFD8GHM5YkB7gy9MpjxiQK62Yn\\u002fZP2JA4umVsgxDYkAVHcnlP0ZiQEhQ\\u002fBhzSWJAe4MvTKZMYkCutmJ\\u002f2U9iQOLplbIMU2JAFR3J5T9WYkBIUPwYc1liQHuDL0ymXGJArrZif9lfYkDi6ZWyDGNiQBUdyeU\\u002fZmJASFD8GHNpYkB7gy9MpmxiQK62Yn\\u002fZb2JA4umVsgxzYkAVHcnlP3ZiQEhQ\\u002fBhzeWJAe4MvTKZ8YkCutmJ\\u002f2X9iQOLplbIMg2JAFR3J5T+GYkBIUPwYc4liQHuDL0ymjGJArrZif9mPYkDi6ZWyDJNiQBUdyeU\\u002flmJASFD8GHOZYkB7gy9MppxiQK62Yn\\u002fZn2JA4umVsgyjYkAVHcnlP6ZiQEhQ\\u002fBhzqWJAe4MvTKasYkCutmJ\\u002f2a9iQOLplbIMs2JAFR3J5T+2YkBIUPwYc7liQHuDL0ymvGJArrZif9m\\u002fYkDi6ZWyDMNiQA==\"},\"y\":{\"dtype\":\"f8\",\"bdata\":\"SgwCK4cUg0A\\u002fNV66SbqCQFpkO99PmoJAi2zn+6kQg0DTTWIQWCWCQAwCK4cWzIJAke18PzWxgkAUrkfhej+CQIGVQ4tsEYJAPzVeuknxgUD4U+OlmyiCQCcxCKwcjYJA5\\u002fup8dLQgUBEi2zn+\\u002faBQNV46SYxBIJAiUFg5dDNgUCPwvUoXIqBQESLbOf7voFAN4lBYOV4gUDZzvdT44GBQFg5tMh2r4FAO99PjZd9gUA1XrpJDBOBQP7UeOkmuIFAcT0K16MIgUB3vp8aL66BQFK4HoXrHYFA4XoUrkdSgUB9PzVeugiBQJMYBFYOiIBA6SYxCKzpgEAK16NwPSmAQKwcWmQ7noBAzczMzMz1gEAzMzMzMwOBQMl2vp8adIBATmIQWDlygEBCYOXQIm6AQF66SQwC439AJQaBlUNfgEDy0k1iEMCAQBsv3SQGUoBADi2yne8SgEAAAAAAAHSAQC2yne+n+n9AN4lBYOU7gEA9CtejcCOAQJhuEoPAi4BAAAAAAACif0Dy0k1iEPx\\u002fQH0\\u002fNV66BYBA16NwPQpEgEAIrBxaZAqAQOF6FK5HPX9AsHJoke0uf0DNzMzMzEx\\u002fQH0\\u002fNV66bIBA2\\u002fl+arwef0Atsp3vp85\\u002fQMUgsHJoRIBAmG4Sg8BagEDwp8ZLN1OAQAisHFpkoX9ACKwcWmQHgEBWDi2ynRyAQG3n+6nxjoBAGQRWDi0Qf0DXo3A9Ci9\\u002fQLTIdr6fuH9AjZduEoPwf0AOLbKd72t+QNV46SYx1n9APzVeukkMgEDXo3A9CkiAQPLSTWIQzn5AEoPAyqEpf0CLbOf7qWd\\u002fQCcxCKwceH9AAiuHFtl6fkBzaJHtfLd\\u002fQDeJQWDlAn9A0SLb+X5uf0BEi2zn+6d\\u002fQNv5fmq86n5A30+Nl27mf0CBlUOLbO9+QMdLN4lBKH9A8KfGSzcNgEAQWDm0yBR\\u002fQLx0kxgELn9AfT81XrrdfkC6SQwCK+t+QJHtfD81A4BAkxgEVg7TfkBU46WbxBiAQPLSTWIQSn5ALbKd76dUfkD4U+Olm0J\\u002fQKjGSzeJJX5ATDeJQWADfkCTGARWDs99QB1aZDvfr35Ake18PzXGf0CF61G4Hi1\\u002fQG3n+6nx1H5Aj8L1KFybf0DJdr6fGpN+QKrx0k1i6H5ABoGVQ4s8gED+1HjpJo1\\u002fQOf7qfHSm39AKVyPwvVefkA9CtejcAd\\u002fQJZDi2zn9X5AYOXQIttDfkCF61G4Hjd+QIts5\\u002fupoX5ATDeJQWBpfkDLoUW283t+QAaBlUOLJH5Asp3vp8affkAMAiuHFql+QHsUrkfh+HxAy6FFtvOLf0C0yHa+nyJ\\u002fQNEi2\\u002fl+Xn9AbxKDwMrvfkA1XrpJDAh\\u002fQBsv3SQGR4BA7nw\\u002fNV6mgEAhsHJokXKBQJMYBFYObYFAMQisHFpdgUDHSzeJQUCAQBsv3SQG439AqvHSTWImf0DTTWIQWHl\\u002fQNNNYhBY2X5AwcqhRbaDf0DufD81Xu5+QGDl0CLb839AJQaBlUNggEDdJAaBlT6AQNEi2\\u002fl+vH1AVg4tsp1xfkAOLbKd7z9\\u002fQCGwcmiRe3xAH4XrUbjofUCsHFpkOwt+QJMYBFYO\\u002fXxA+FPjpZsEfUCHFtnO97t9QFTjpZvEZnxAAiuHFtksfEDfT42XbjB9QBKDwMqhoX1AGy\\u002fdJAZZfEBkO99PjW18QDVeukkMxHxA3SQGgZVzfEAv3SQGgY98QIcW2c73S31AqMZLN4lhfUAzMzMzMxN9QFK4HoXrdX1AF9nO91PRfECyne+nxhN+QLTIdr6fPH9APQrXo3BzfkDdJAaBlVN\\u002fQHNoke18\\u002fYBAcT0K16PtgECHFtnO91uAQOxRuB6Fo39AppvEILBcfkB\\u002farx0k5R8QD0K16NwU3xAK4cW2c41fEBI4XoUrnt8QAisHFpkF31AxSCwcmi3fEDdJAaBleF7QKAaL90k5nxARrbz\\u002fdRSfUDsUbgehZt9QJZDi2znq3xAd76fGi+Nf0CamZmZmS1\\u002fQIXrUbgeUX5AyXa+nxpnf0DXo3A9CgCAQP7UeOkmZ39AAAAAAAB7gEDb+X5qvJ6AQEw3iUFgUYFAJQaBlUOWg0DVeOkmMfiFQFYOLbKdnIhA8KfGSzdojECiRbbz\\u002fXmMQCuHFtnOi4lAy6FFtvMRhkDHSzeJQUCCQK5H4XoUSn9AhetRuB69fEBmZmZmZkR9QE5iEFg5eH5AtvP91HinfUAQWDm0yPZ\\u002fQBBYObTIlYBAObTIdr7TgUA5tMh2viCCQJqZmZmZIYJA7nw\\u002fNV56gUDTTWIQWIyAQCPb+X5qZn1AMzMzMzOjfEDhehSuR\\u002fl7QDvfT42XunxAXrpJDAIdfEAX2c73U498QN9PjZduoHxAEFg5tMhUfECoxks3ifF8QN0kBoGVYXxAKVyPwvU+fECF61G4HoN8QA4tsp3vy3xAvp8aL914fUCwcmiR7ah+QPT91HjpNH9AJQaBlUMJgUAK16NwPaaAQD81XrpJnH5A+n5qvHQZfUA9CtejcE18QDvfT42XcHxATDeJQWBPe0AlBoGVQxl7QMHKoUW2KXtAukkMAisVekC8dJMYBPx6QLTIdr6flHtAXI\\u002fC9Sgke0DfT42Xbux6QL6fGi\\u002fdgnpAXI\\u002fC9ShwekCPwvUoXDV7QGQ730+Np3lAbef7qfF0e0DTTWIQWK16QHWTGARWznpASgwCK4d4eUCNl24Sgzp7QIlBYOXQkntAsp3vp8Y1e0Dn+6nx0r15QEw3iUFgy3pA\\u002fKnx0k3mekC8dJMYBIp6QCGwcmiRq3pApHA9Ctc9e0CBlUOLbO95QH0\\u002fNV66U3pAKVyPwvXQekAlBoGVQ9N7QFK4HoXrw3pAexSuR+HWe0Cmm8QgsAh8QGZmZmZmlntAkxgEVg4PfEAzMzMzM1t7QCcxCKwcFHxA\\u002ftR46SaRe0Cmm8QgsPZ8QD0K16Nwc3xAnu+nxkvhfEC6SQwCK3F9QJhuEoPAFnxAwcqhRbbhfUDHSzeJQXB9QHNoke18b39AuB6F61ExgEBzaJHtfBCBQKabxCCwf4BAxSCwcmjdgECWQ4ts5x9\\u002fQGDl0CLbm35A4XoUrke5fUBSuB6F68l7QJhuEoPA\\u002fntA9P3UeOlwe0B7FK5H4eh6QG3n+6nxsHpArkfhehQ0e0Ce76fGSz98QC2yne+nbntADi2yne+3e0Coxks3iTN7QMuhRbbzY3tAMzMzMzNVfECamZmZmaV7QJ7vp8ZLR3tA4XoUrkcDe0BqvHSTGHx6QPyp8dJNtHtAqMZLN4kDfECq8dJNYjB8QGQ730+Na3xAmpmZmZkJfkDJdr6fGrF\\u002fQNV46SYxiYBAbxKDwMp1g0B7FK5H4cWEQP7UeOkmuYRA2c73U+OMgkBYObTIdviAQOOlm8Qgdn5ASgwCK4dufEB\\u002farx0k+57QN0kBoGVu3xAkxgEVg6DfEBg5dAi22d8QJhuEoPAtHxA9ihcj8JzfED6fmq8dA19QGq8dJMYJHxAxSCwcmi7e0Atsp3vp8Z8QGiR7Xw\\u002fA3xAVg4tsp2De0ACK4cW2bJ8QCcxCKwcWn1AYhBYObRKfUBKDAIrh+58QPT91HjpGH1ArkfhehRofUBMN4lBYGd9QIcW2c73g35Aw\\u002fUoXI8UfkC8dJMYBPB\\u002fQC2yne+nWIFASOF6FK45hEBCYOXQIliIQKAaL90kO4xAEoPAyqGmjUBt5\\u002fup8WyMQAAAAAAAeYlArkfhehSEhUCsHFpkOx2DQOf7qfHSeoBAi2zn+6l7f0BmZmZmZpx\\u002fQLbz\\u002fdR494BABoGVQ4tQgkDJdr6fGniDQF66SQwCXIRAi2zn+6nEgkBSuB6F6+iAQKrx0k1i\\u002fH5Ake18PzXQfUBMN4lBYGV+QNV46SYxpH5ACKwcWmQsgEBU46WbxNuBQIts5\\u002fupV4RArkfhehQWh0BxPQrXo6mIQN9PjZduSIZAPQrXo3DAg0ASg8DKoRqBQFTjpZvEFH5APzVeuklKfUAzMzMzM2l8QCPb+X5q3npAc2iR7Xz9ekArhxbZzg98QD0K16NwtX1ArBxaZDtggEDFILByaAWDQOxRuB6FToZA3SQGgZXlikAIrBxaZPqMQLTIdr6fmYpA\\u002fKnx0k3rhUDRItv5frGBQFyPwvUoDn5Abef7qfGmfEC6SQwCK0N9QN0kBoGVd31A16NwPQoNfkBmZmZmZv59QC2yne+nooBAi2zn+6kkgkCamZmZmYmDQF66SQwCQIRAsHJoke3UgkBg5dAi23SBQKjGSzeJb35AeekmMQjcfUBcj8L1KKR\\u002fQOXQItv5koJAEoPAyqHziEAhsHJokZqRQMP1KFyPjpxAQmDl0KJMpUCyne+nBqCqQBkEVg4tvatAGy\\u002fdJAZ4qUD4U+OlW8akQLbz\\u002fdT44ZxAI9v5fuqgkkCNl24Sgx2HQLKd76fGhoFAexSuR+EmfkCPwvUoXOV8QOXQItv52n1A2\\u002fl+aryafUDhehSuR118QAAAAAAA5n1ARIts5\\u002fu3fEAGgZVDiyp9QG3n+6nx9n1A0SLb+X5UfUAnMQisHNh8QMHKoUW2ZX1ArBxaZDtRfUAzMzMzM1V+QKRwPQrXUYBACKwcWmQEg0A\\u002fNV66SUSGQPhT46WbKYpAhetRuB6kiUDufD81XnmGQOxRuB6FfoJARrbz\\u002fdR5gEDFILByaMt9QPYoXI\\u002fCt31ArBxaZDtffUAfhetRuOx+QGDl0CLbpX5AMQisHFpRgEBYObTIdop\\u002fQPYoXI\\u002fC6X9A46WbxCDQf0CwcmiR7S6AQLTIdr6fvn9AgZVDi2xhfkCq8dJNYoB8QGiR7Xw\\u002ff3tA+n5qvHSHfEB9PzVeukN7QDVeukkMontAiUFg5dDYe0AxCKwcWvx7QBkEVg4tXHtArBxaZDute0A\\u002fNV66SRZ7QKwcWmQ773pAiUFg5dCMe0CkcD0K16t7QJZDi2znZXxA7FG4HoXTe0DufD81Xnp8QNejcD0KS4BANV66SQzIgUAGgZVDiyuCQGZmZmZmo4JAx0s3iUGJgUAOLbKd7+F\\u002fQIPAyqFFdn5AtMh2vp9WfUA\\u002fNV66Sfh9QI2XbhKDin5AN4lBYOUAfUDy0k1iEFZ8QPCnxks3aX1AXI\\u002fC9SjAfED6fmq8dKF7QMUgsHJoxXxAzczMzMwAfEDfT42XboB7QArXo3A9hnxA3SQGgZVzfEA3iUFg5Qx8QIcW2c738XtA2c73U+Nre0AEVg4tsut8QLTIdr6f9HtAqvHSTWKSfUC0yHa+n9Z8QBSuR+F6HH1AoBov3SSifEDfT42Xbmh9QFTjpZvEGHpAmpmZmZnNekCF61G4Hid8QIGVQ4ts\\u002fXtAmpmZmZkhfECNl24Sg9p6QP7UeOkmnXtAVg4tsp0ve0C6SQwCKwt7QLx0kxgEpnpAxSCwcmjPekBI4XoUrhF7QJzEILByQHpA4XoUrkdNekCe76fGSz97QKjGSzeJCXtA8KfGSzdDe0ASg8DKoYF6QH0\\u002fNV668XpAPzVeuklWfEBMN4lBYHF8QJMYBFYOh3tA8tJNYhCOfEBeukkMAv97QClcj8L1UHtARrbz\\u002fdQOe0CiRbbz\\u002fTx8QGIQWDm03HpAg8DKoUXye0AlBoGVQxt8QIlBYOXQnHtAK4cW2c7he0DP91Pjpe16QAwCK4cW33tAokW28\\u002f1SfEAv3SQGgRt\\u002fQGQ730+NyYBAIbByaJG9gEDJdr6fGjOAQIGVQ4tsnX1AmpmZmZnve0AK16NwPfR6QH0\\u002fNV66KXtAppvEILCWe0BOYhBYOex6QM\\u002f3U+OlZ3xAvHSTGAS0e0BI4XoUrpV8QHnpJjEIEnxAvHSTGASWfEAMAiuHFkd9QLByaJHtBn5AexSuR+HWfkCgGi\\u002fdJHh8QJHtfD81NnxAzczMzMziekBOYhBYOZB6QNv5fmq86HpAWDm0yHYeekAAAAAAAMx6QJhuEoPAHnxAUrgeheuRe0D8qfHSTRJ8QD81XrpJlHpArkfhehQee0DZzvdT46d7QFK4HoXrf4BAc2iR7XwChkBmZmZmZnmSQK5H4XqUXpxAoBov3aSAoUA5tMh2PoeRQHE9CtejrodAexSuR+ECg0C4HoXrUQ6BQKRwPQrXkYJAN4lBYOXrhEDHSzeJQeKGQKwcWmQ7c4RAwcqhRbZpgEApXI\\u002fC9YR9QBfZzvdTB3xA4XoUrkc7fEDTTWIQWFt7QMP1KFyPaHtAWDm0yHbGe0BKDAIrh6B7QNv5fmq8dntAEoPAyqHle0BmZmZmZkR8QH9qvHST2HtADAIrhxZre0BI4XoUrqN6QIts5\\u002fuprXpARrbz\\u002fdQ+e0Dn+6nx0vl7QLByaJHtCHtAeekmMQg2fEB1kxgEVsJ+QHnpJjEIqoFAF9nO91OHhECPwvUoXC+FQMUgsHJoioNAbxKDwMpdgEBt5\\u002fup8W59QJHtfD81qnpA2\\u002fl+arwEfEDsUbgehSt7QJHtfD81DntAf2q8dJM8e0Aj2\\u002fl+asB6QM3MzMzMxntA\\u002fKnx0k2yfUB9PzVeuiaCQAwCK4cWm4ZACtejcD0kikC4HoXrUfGJQHE9Ctej3YVAWmQ7309UgUDl0CLb+Vx+QD81XrpJ+nxA7FG4HoVxfEDhehSuRz17QGQ730+Nb3tAc2iR7Xwne0BeukkMAq18QG8Sg8DKeX9A5\\u002fup8dL0gEAMAiuHFtOAQBBYObTI4YBAfT81XroSgECDwMqhRaB\\u002fQCGwcmiR1YBA5dAi2\\u002flIgEAOLbKd70t+QFpkO99PU3tA16NwPQo5e0AhsHJokTV6QBKDwMqhXXtArkfhehT8ekD2KFyPwgl6QE5iEFg5mnlAj8L1KFyzekBqvHSTGCh6QGIQWDm01nlAL90kBoH1ekC8dJMYBFR6QMl2vp8arXlAdZMYBFbEe0AMAiuHFg2AQLKd76fGloNAiUFg5dBmhkDn+6nx0vmGQCGwcmiRWoNArBxaZDubgUBqvHSTGIR9QLbz\\u002fdR433pAUrgeheuNe0Coxks3iQV6QNNNYhBYYX1ASgwCK4fegEBmZmZmZhKDQHE9CtejrIJADAIrhxYzgUCcxCCwcix9QCUGgZVDZXpAXI\\u002fC9SiyekAZBFYOLaJ5QA4tsp3vGXpA9ihcj8IxeUDVeOkmMcZ6QARWDi2ydXpAxSCwcmg\\u002fe0CwcmiR7Ux7QAAAAAAAinpAUrgeheuFekCDwMqhRd55QGDl0CLbJ3pAy6FFtvOLeUCmm8QgsCZ5QN9PjZduxHpAtMh2vp8Me0CNl24Sg358QBSuR+F6Un5A8KfGSzcSgECkcD0K18GBQFK4HoXrPIRAjZduEoP\\u002fhUAIrBxaZMCJQDeJQWDl\\u002fYtAAiuHFtlSiUDRItv5fuODQEoMAiuHzIBA0SLb+X6Kg0CJQWDl0P6LQOxRuB6FXJdA5\\u002fup8dLHnkDZzvdT45KfQKrx0k1iEpdAUrgehev\\u002fjkAGgZVDiweQQKRwPQpXlJhARrbz\\u002fVQFokAdWmQ7n5qiQFpkO9\\u002fPgJpAx0s3iUGTjUDdJAaBlWyBQD0K16Nwx3xAppvEILDgeUB\\u002farx0kxZ8QOf7qfHSgXxABoGVQ4uuekAbL90kBrd8QEJg5dAiBoBAke18PzUfgUBOYhBYOd2BQIlBYOXQooBAgZVDi2xZfkCuR+F6FHZ5QHWTGARWynpArBxaZDsXekCe76fGS+V5QJ7vp8ZLd3pAj8L1KFzReUAfhetRuFh6QG3n+6nxmnlAEFg5tMjyekDHSzeJQRJ6QAwCK4cWr3hAYOXQItvzekAnMQisHJB5QO58PzVeXnpAexSuR+Gme0ACK4cW2eR7QHNoke18eX5Aw\\u002fUoXI+IfkCR7Xw\\u002fNdR8QBBYObTIcntABFYOLbKLekBI4XoUrpV6QB1aZDvfEXxAEFg5tMi+fEBiEFg5tHR8QHE9CtejBH1AyXa+nxp7e0C0yHa+n9J7QKwcWmQ7S31AiUFg5dCafUA5tMh2vmF8QBKDwMqht3xABFYOLbLxe0Bt5\\u002fup8Sp7QFK4HoXrrXtAhetRuB7FeUAZBFYOLeZ5QPT91HjpAntAZDvfT43Bf0A730+Nl4mDQEJg5dAiE4lAoBov3SQai0DHSzeJQQ6HQC2yne+neYJAVOOlm8TifkBWDi2ynWt+QHWTGARWjn5AN4lBYOUOgEBkO99PjfSBQHsUrkfhd4NAtvP91HiNgUAxCKwcWtx+QHnpJjEIRHtAbef7qfHweUD8qfHSTfh5QA4tsp3va3lAtMh2vp9UekBOYhBYObp6QFTjpZvEqnpA16NwPQpHeUCcxCCwcmJ5QN0kBoGVW3lAarx0kxg4eUDjpZvEIE56QDm0yHa+\\u002fXlA\\u002fKnx0k3GeUDVeOkmMVZ7QNv5fmq8uHtA0SLb+X5efECamZmZmUt7QFK4HoXrWXtAmpmZmZmrekCamZmZmY17QNejcD0KzX1Af2q8dJNrgkDRItv5fpuQQBsv3SSGP55A4XoUrgcVpkBt5\\u002fupMdSnQJzEILDywaNAarx0kxhRmkAzMzMzM3uOQARWDi2yTYJAWmQ7308TfUB56SYxCIp6QOf7qfHSXXpA9P3UeOmweUAbL90kBiN5QC\\u002fdJAaB2XlAlkOLbOfHekAEVg4tsqF6QO58PzVeLHlAAAAAAADYeUCcxCCwcsh5QAisHFpkB3pAy6FFtvNzeUC6SQwCK495QEw3iUFgi3hAlkOLbOe9eUAIrBxaZKV4QC2yne+nvnlAYOXQItspekBSuB6F67l4QLTIdr6f7HhASgwCK4due0Dl0CLb+Yx\\u002fQFK4HoXrNoRAGQRWDi0UiEDVeOkmMTyIQESLbOf714NARIts5\\u002ftXfkDpJjEIrEh7QBfZzvdT8XlANV66SQxeeUBEi2zn+4d4QIcW2c73EXhA+FPjpZuyeEC4HoXrUSB4QAAAAAAA\\u002fHhAx0s3iUEYeUArhxbZzmt4QI\\u002fC9Shcv3tATmIQWDn0gEBGtvP91K6GQOF6FK5H3YtAEFg5tMiDjEAMAiuHFvCFQHe+nxovRX9Avp8aL92We0DLoUW28w18QLx0kxgEUH1Aj8L1KFxXfUAZBFYOLep7QMHKoUW2s3lAEoPAyqH3eECamZmZmV95QCPb+X5q7HhABoGVQ4uae0CF61G4HrV7QHe+nxovU3tAAAAAAADUeUDRItv5fkB5QG8Sg8DKF3hARrbz\\u002fdRIeEBaZDvfTxt4QNv5fmq8cHdALbKd76d0eEDJdr6fGsl4QB1aZDvfG3lA5dAi2\\u002fmEeEAZBFYOLVx6QIPAyqFFYn1AEoPAyqFJf0DfT42Xbm2CQK5H4XoUb4RA+FPjpZsShEArhxbZzmmBQMUgsHJo335ARrbz\\u002fdTjgEDLoUW28+SGQKabxCCwOo1A7FG4HoX3jEBeukkMAmOHQAAAAAAAzIRAiUFg5dDThEBI4XoUrgOGQAisHFpkGYVASOF6FK4bhEDhehSuRxaCQFCNl24SHIFAqMZLN4n5fkCLbOf7qcGAQC2yne+ns4dA\\u002fKnx0s32kEDhehSuxwSWQIts5\\u002fspgJVAdZMYBFa6jUDFILByaCyFQGDl0CLb4YRA3SQGgZV5hUBzaJHtfM+EQH0\\u002fNV66rIRAbxKDwMr2hUCsHFpkO0uEQDVeukkMX4BAN4lBYOUke0BOYhBYOQJ6QGIQWDm0THtA0SLb+X5+fUBEi2zn+wGBQKrx0k1i44JAoBov3STWg0D6fmq8dIKCQJ7vp8ZLzoBAmpmZmZlggEBg5dAi2\\u002fqAQJqZmZmZs4FARrbz\\u002fdRkgECcxCCwcn5\\u002fQOF6FK5Hr3xAy6FFtvMxe0Atsp3vp6J7QHWTGARWWHlAEFg5tMhoeUAX2c73U+t3QMuhRbbz53hAexSuR+G6eEBGtvP91Lx5QFg5tMh2hHlASOF6FK4zfUDhehSuR5WAQOkmMQisqH5Aw\\u002fUoXI9MfEAzMzMzM\\u002fN5QK5H4XoUpHhAarx0kxi+eEArhxbZzj95QDeJQWDlvHlARrbz\\u002fdQseEAK16NwPZZ4QPYoXI\\u002fCb3dAexSuR+HMd0Av3SQGgRd3QBBYObTIiHZARrbz\\u002fdRIeEBGtvP91Fp4QCcxCKwcOHhAUI2XbhL7d0AxCKwcWkJ4QHe+nxovm3dAcT0K16OAeEAhsHJokct4QLByaJHtJHpA8KfGSze0hECWQ4ts52uLQFYOLbKdHIxACtejcD1OhkC8dJMYBDuAQJzEILBycHtAexSuR+HkeUC+nxov3XR6QPp+arx0DXlAVg4tsp2LeUBoke18P\\u002fN5QLTIdr6fwnpAGy\\u002fdJAZNeUBiEFg5tHR4QAIrhxbZaHhAmpmZmZkLeEBg5dAi26V5QJhuEoPAXnlApHA9Cte1d0BMN4lBYEN4QLpJDAIrxXdAVg4tsp3jdkD6fmq8dAt3QOOlm8Qg\\u002fHdAWDm0yHZYeEBEi2zn+0l5QDvfT42XsHlA\\u002fKnx0k0eekCkcD0K16d7QKjGSzeJu31AAAAAAAACgkDFILByaAeDQLKd76fG1YRAJQaBlUP7g0D8qfHSTb+EQKwcWmQ7qIZAUI2XbhIih0B9PzVeumyEQKrx0k1iK4FAukkMAit7gEDy0k1iEJ2BQI\\u002fC9ShcxYRAppvEILA2hUBU46WbxNKDQH9qvHSTM4BADi2yne+fe0DNzMzMzIx4QOOlm8QghHdAWmQ7309LeEBKDAIrh\\u002f56QCcxCKwcmYBAVOOlm8SBhEAEVg4tskuFQArXo3A9UIJA0SLb+X5wfEBkO99PjWN4QPCnxks3cXZAeekmMQhkd0CsHFpkO094QG3n+6nxJnxAukkMAiutf0BSuB6F68GCQGIQWDm0IoZAZmZmZmaXiEDByqFFtuKIQArXo3A9h4dAnu+nxksdhEB1kxgEVhKAQH9qvHSTXnxAbxKDwMpje0DXo3A9Cgd6QESLbOf7S3lA\\u002fKnx0k0QeUDwp8ZLN1N9QG8Sg8DK\\u002f4FABFYOLbLng0Ce76fGS2KDQPhT46WbSIBAlkOLbOfFekDjpZvEII54QGQ730+NI3lAVg4tsp1fekA9CtejcEyAQPT91HjpPINA+n5qvHQEhEBQjZduEgaCQOf7qfHSS3xAkxgEVg5DeUA3iUFg5U54QGIQWDm0THdAhxbZzvcHeUBqvHSTGBx4QBKDwMqhI3dAke18PzXWdUA730+Nl+h1QHNoke189XVAx0s3iUHUdUAj2\\u002fl+asR2QD0K16NwM3lAqMZLN4ldgEAQWDm0yI6EQAwCK4cWCohAj8L1KFwyiEAGgZVDi56DQEa28\\u002f3UDH5AhetRuB6PeEC+nxov3RR2QHnpJjEIEnZAoBov3STOdUAQWDm0yLZ2QDm0yHa+FXdAWmQ730+1dkD2KFyPwi97QNejcD0KLX5ASOF6FK5vfUBzaJHtfJ98QKjGSzeJP3pAvHSTGASmdkD+1HjpJmN2QGZmZmZm3nZAukkMAiuxdkCe76fGSzN2QNNNYhBYsXVAokW28\\u002f2UdUBeukkMAlt1QJMYBFYOAXZA001iEFjLdkD8qfHSTVJ9QBBYObTIqoBAL90kBoFlg0BSuB6F6xGEQOxRuB6FKIJA\\u002ftR46SYUgEDn+6nx0n17QPT91Hjp\\u002fHlAukkMAisnekBqvHSTGGR4QFYOLbKdH3lA7nw\\u002fNV4UeUAj2\\u002fl+aox5QIXrUbgezXdAtMh2vp\\u002fsdUBKDAIrh7B1QBKDwMqh9XVArBxaZDv1dECJQWDl0Jx1QI2XbhKDVHZAexSuR+EOdkC6SQwCK3l1QIGVQ4ts6XRAZmZmZmawdUA\\u002fNV66SXB1QOxRuB6FgXRAWmQ730\\u002fJdECBlUOLbC91QFyPwvUoyHRA16NwPQpNdkAK16NwPYR4QMl2vp8ao3pAeekmMQjwe0AlBoGVQ7d8QA4tsp3vkX1AiUFg5dAufECWQ4ts5218QDvfT42XbH5AnMQgsHKZgkAbL90kBhKGQFg5tMh2tIpAwcqhRbaZiEBkO99PjYuGQESLbOf7loJATDeJQWDJfECwcmiR7Vx4QA4tsp3vcXVAGQRWDi1ydUCgGi\\u002fdJEh0QN9PjZduRHNAI9v5fmrgc0BQjZduEh9zQHWTGARWXnRAlkOLbOczdECamZmZmQF0QGQ730+Ny3NAmG4Sg8Ayc0AdWmQ73xVzQG8Sg8DKh3NATmIQWDnMc0CsHFpkO4FzQPyp8dJNbnRADi2yne\\u002fddECJQWDl0KJ2QClcj8L1zHdAi2zn+6kre0AbL90kBgN8QJhuEoPAVH1AvHSTGAQ6f0BvEoPAynF\\u002fQK5H4XoUYn5AVOOlm8QWfkDufD81Xop6QArXo3A9pndAeekmMQgudUD+1HjpJuV0QM\\u002f3U+Oly3RAjZduEoP2dUAbL90kBml4QH9qvHSTrHhAsp3vp8ZNeECiRbbz\\u002fZZ4QCGwcmiRu3ZAf2q8dJMKdkD0\\u002fdR46TJ1QGZmZmZmSHRA+FPjpZtGdUCiRbbz\\u002fZx1QCUGgZVDQXdABFYOLbIzd0Ce76fGS0l4QD81XrpJtHdAYhBYObTodUBaZDvfT191QKwcWmQ7\\u002fXNAx0s3iUGCdED0\\u002fdR46bJzQGZmZmZmEnRAhetRuB6xdEBiEFg5tDZ0QEjhehSux3VAWmQ7308JeUBt5\\u002fup8UB7QLTIdr6fun5AUI2XbhJJfkCe76fGS9d+QNnO91PjvXtAGQRWDi2seEAOLbKd7\\u002ft0QKabxCCwzHNA3SQGgZV1dEDTTWIQWClzQO58PzVebnRAcT0K16PqdEDb+X5qvKx1QGZmZmZm5nhAUI2XbhLLeUB9PzVeust7QKJFtvP96HxABoGVQ4tGe0DHSzeJQbp5QC2yne+nSnZAPzVeukmwdUD0\\u002fdR46d50QMP1KFyPSHRAsp3vp8ZZdEDFILByaIlzQPCnxks3pXJAJQaBlUNlc0CHFtnO9x1zQBSuR+F6onJAbef7qfGOc0BmZmZmZuhzQPLSTWIQrnNAfT81Xrqpc0CF61G4HqF1QIlBYOXQ0ndAf2q8dJNGe0DLoUW28\\u002fF8QB+F61G48H5A3SQGgZVTfkDjpZvEIOZ7QBkEVg4tsnpACKwcWmSZeEC8dJMYBJp1QNejcD0KFXVAtMh2vp\\u002fCdECe76fGS6VzQGIQWDm06nNAH4XrUbhGc0AzMzMzM0F0QCUGgZVDf3NAUrgeheuVc0B9PzVeuh10QIGVQ4tsk3NAaJHtfD95dUCmm8QgsMJ1QLgehetRRndACKwcWmR5eEA3iUFg5cx4QO58PzVeKHlADAIrhxa3d0C6SQwCK9l2QC2yne+nNHZAvp8aL92odEAGgZVDi0B0QKabxCCwonRArBxaZDt1dEA\\u002fNV66STh0QLbz\\u002fdR4V3NA1XjpJjEUc0Ce76fGS41yQFK4HoXrwXNArkfhehTKc0CkcD0K1w1zQMuhRbbzAXRAtMh2vp\\u002f0c0A1XrpJDNpzQP7UeOkmCXRAexSuR+FCdkC0yHa+n2B0QEw3iUFgq3RAjZduEoPEdEBcj8L1KMh1QJqZmZmZj3ZANV66SQzGdUDpJjEIrGJ2QNV46SYxQndAjZduEoP6dUCwcmiR7Rx2QN0kBoGVz3RAhxbZzvdJdUAfhetRuBJ0QNNNYhBYn3NAukkMAitbdEBMN4lBYEdzQMHKoUW25XFArBxaZDtTckA1XrpJDFxyQDMzMzMzdXJAfT81XrpLckDVeOkmMahyQKAaL90k4HNA\\u002ftR46Sb5ckDpJjEIrER0QNV46SYxwnRA16NwPQo5dkA\\u002fNV66SeZ4QBfZzvdTdX5ADAIrhxbsgkCe76fGS86FQOf7qfHSCohACKwcWmSKiUDhehSuR86JQFyPwvUosYdA001iEFi4hUDNzMzMzMuBQLgehetRzH1A16NwPQobekDNzMzMzIh5QPhT46WbVHlARrbz\\u002fdQofUAOLbKd7\\u002fF+QPYoXI\\u002fCIIBAHVpkO9+wgEArhxbZzumAQMP1KFyPUoBALbKd76cof0Bg5dAi2xl9QBBYObTIIntAqvHSTWLyeEDfT42XbuJ2QOf7qfHS23VA1XjpJjHSdUDByqFFtntzQBkEVg4tdHNAMQisHFpUckC6SQwCK3NzQD0K16NwY3JAiUFg5dCGcUB56SYxCMZyQMuhRbbznXJAukkMAitDckAnMQisHEhzQAaBlUOLAHNAAiuHFtlidECyne+nxst2QH0\\u002fNV66I3hA6SYxCKy0ekCamZmZmTt8QNV46SYxHn5AmG4Sg8BKfUDhehSuR898QDMzMzMz03xAcT0K16MQfEAX2c73U+V7QP7UeOkmy3pAhetRuB7nfEBU46WbxMR+QDvfT42XbH9A001iEFgIgUBaZDvfT7yAQL6fGi\\u002fdWoBAJzEIrBwkgEAUrkfhenp9QLByaJHtanxABFYOLbIFe0Cmm8QgsPJ6QPhT46WbZn5AkxgEVg7nfUD6fmq8dPGAQG8Sg8DKO4JA7FG4HoUPgkDJdr6fGg6DQG3n+6nx\\u002foJAke18PzW6gkDRItv5fm2BQHE9CtejpYBAmG4Sg8CKf0AlBoGVQ99+QBsv3SQGl35Ac2iR7XyvfUBg5dAi2\\u002fl+QO58PzVefH9AK4cW2c4bfkDjpZvEIFh+QOf7qfHSb3xAiUFg5dB2fEDZzvdT4995QAisHFpkLXhAiUFg5dBIdkDsUbgehT11QJZDi2zntXNAMQisHFpsdEC0yHa+nxxzQOOlm8QgxHJA+n5qvHTlckAIrBxaZDdxQKRwPQrXqXFAI9v5fmrUcUDHSzeJQUxxQKRwPQrXA3VAeekmMQh+ckAj2\\u002fl+av5yQJzEILByGnNAyXa+nxqrc0D+1HjpJqV0QJhuEoPA5nNAAAAAAAAWdkBGtvP91Jx1QMP1KFyPgHdAdZMYBFZsd0Cq8dJNYvR3QKJFtvP9mHdAI9v5fmr0d0DRItv5fhp5QPhT46Wb1HdAZmZmZmb+eEAX2c73U+d3QI2XbhKDhHdA9P3UeOnId0AbL90kBm92QEw3iUFg93VA3SQGgZXzdECNl24Sg6BzQAAAAAAAKHNAYhBYObQyc0BzaJHtfG9yQOkmMQisLnNA5dAi2\\u002fnmcEDP91PjpfFwQHWTGARWXnFA9P3UeOlYcUBCYOXQIh9xQCuHFtnOi3JAz\\u002fdT46URckACK4cW2bpyQKAaL90k3nJABFYOLbLtc0CJQWDl0KpzQPLSTWIQwnRAppvEILAsdUA3iUFg5fZ0QArXo3A9nnRA+FPjpZuAdEDjpZvEIFZ0QA==\"},\"type\":\"scatter\"},{\"line\":{\"color\":\"rgb(214, 39, 40)\"},\"mode\":\"lines\",\"name\":\"Total calculated (Icalc)\",\"x\":{\"dtype\":\"f8\",\"bdata\":\"G55eKcswIEBO0ZFc\\u002fmMgQIEExY8xlyBAtTf4wmTKIEDoaiv2l\\u002f0gQBueXinLMCFATtGRXP5jIUCBBMWPMZchQLU3+MJkyiFA6Gor9pf9IUAbnl4pyzAiQE7RkVz+YyJAgQTFjzGXIkC1N\\u002fjCZMoiQOhqK\\u002faX\\u002fSJAG55eKcswI0BO0ZFc\\u002fmMjQIEExY8xlyNAtTf4wmTKI0Doaiv2l\\u002f0jQBueXinLMCRATtGRXP5jJECBBMWPMZckQLU3+MJkyiRA6Gor9pf9JEAbnl4pyzAlQE7RkVz+YyVAgQTFjzGXJUC1N\\u002fjCZMolQOhqK\\u002faX\\u002fSVAG55eKcswJkBO0ZFc\\u002fmMmQIEExY8xlyZAtTf4wmTKJkDoaiv2l\\u002f0mQBueXinLMCdATtGRXP5jJ0CBBMWPMZcnQLU3+MJkyidA6Gor9pf9J0Abnl4pyzAoQE7RkVz+YyhAgQTFjzGXKEC1N\\u002fjCZMooQOhqK\\u002faX\\u002fShAG55eKcswKUBO0ZFc\\u002fmMpQIEExY8xlylAtTf4wmTKKUDoaiv2l\\u002f0pQBueXinLMCpATtGRXP5jKkCBBMWPMZcqQLU3+MJkyipA6Gor9pf9KkAbnl4pyzArQE7RkVz+YytAgQTFjzGXK0C1N\\u002fjCZMorQOhqK\\u002faX\\u002fStAG55eKcswLEBO0ZFc\\u002fmMsQIEExY8xlyxAtTf4wmTKLEDoaiv2l\\u002f0sQBueXinLMC1ATtGRXP5jLUCBBMWPMZctQLU3+MJkyi1A6Gor9pf9LUAbnl4pyzAuQE7RkVz+Yy5AgQTFjzGXLkC1N\\u002fjCZMouQOhqK\\u002faX\\u002fS5AG55eKcswL0BO0ZFc\\u002fmMvQIEExY8xly9AtTf4wmTKL0Doaiv2l\\u002f0vQA5Pr5RlGDBAp+hILv8xMEBBguLHmEswQNobfGEyZTBAdLUV+8t+MEAOT6+UZZgwQKfoSC7\\u002fsTBAQYLix5jLMEDaG3xhMuUwQHS1FfvL\\u002fjBADk+vlGUYMUCn6Egu\\u002fzExQEGC4seYSzFA2ht8YTJlMUB0tRX7y34xQA5Pr5RlmDFAp+hILv+xMUBBguLHmMsxQNobfGEy5TFAdLUV+8v+MUAOT6+UZRgyQKfoSC7\\u002fMTJAQYLix5hLMkDaG3xhMmUyQHS1FfvLfjJADk+vlGWYMkCn6Egu\\u002f7EyQEGC4seYyzJA2ht8YTLlMkB0tRX7y\\u002f4yQA5Pr5RlGDNAp+hILv8xM0BBguLHmEszQNobfGEyZTNAdLUV+8t+M0AOT6+UZZgzQKfoSC7\\u002fsTNAQYLix5jLM0DaG3xhMuUzQHS1FfvL\\u002fjNADk+vlGUYNECn6Egu\\u002fzE0QEGC4seYSzRA2ht8YTJlNEB0tRX7y340QA5Pr5RlmDRAp+hILv+xNEBBguLHmMs0QNobfGEy5TRAdLUV+8v+NEAOT6+UZRg1QKfoSC7\\u002fMTVAQYLix5hLNUDaG3xhMmU1QHS1FfvLfjVADk+vlGWYNUCn6Egu\\u002f7E1QEGC4seYyzVA2ht8YTLlNUB0tRX7y\\u002f41QA5Pr5RlGDZAp+hILv8xNkBBguLHmEs2QNobfGEyZTZAdLUV+8t+NkAOT6+UZZg2QKfoSC7\\u002fsTZAQYLix5jLNkDaG3xhMuU2QHS1FfvL\\u002fjZADk+vlGUYN0Cn6Egu\\u002fzE3QEGC4seYSzdA2ht8YTJlN0B0tRX7y343QA5Pr5RlmDdAp+hILv+xN0BBguLHmMs3QNobfGEy5TdAdLUV+8v+N0AOT6+UZRg4QKfoSC7\\u002fMThAQYLix5hLOEDaG3xhMmU4QHS1FfvLfjhADk+vlGWYOECn6Egu\\u002f7E4QEGC4seYyzhA2ht8YTLlOEB0tRX7y\\u002f44QA5Pr5RlGDlAp+hILv8xOUBBguLHmEs5QNobfGEyZTlAdLUV+8t+OUAOT6+UZZg5QKfoSC7\\u002fsTlAQYLix5jLOUDaG3xhMuU5QHS1FfvL\\u002fjlADk+vlGUYOkCn6Egu\\u002fzE6QEGC4seYSzpA2ht8YTJlOkB0tRX7y346QA5Pr5RlmDpAp+hILv+xOkBBguLHmMs6QNobfGEy5TpAdLUV+8v+OkAOT6+UZRg7QKfoSC7\\u002fMTtAQYLix5hLO0DaG3xhMmU7QHS1FfvLfjtADk+vlGWYO0Cn6Egu\\u002f7E7QEGC4seYyztA2ht8YTLlO0B0tRX7y\\u002f47QA5Pr5RlGDxAp+hILv8xPEBBguLHmEs8QNobfGEyZTxAdLUV+8t+PEAOT6+UZZg8QKfoSC7\\u002fsTxAQYLix5jLPEDaG3xhMuU8QHS1FfvL\\u002fjxADk+vlGUYPUCn6Egu\\u002fzE9QEGC4seYSz1A2ht8YTJlPUB0tRX7y349QA5Pr5RlmD1Ap+hILv+xPUBBguLHmMs9QNobfGEy5T1AdLUV+8v+PUAOT6+UZRg+QKfoSC7\\u002fMT5AQYLix5hLPkDaG3xhMmU+QHS1FfvLfj5ADk+vlGWYPkCn6Egu\\u002f7E+QEGC4seYyz5A2ht8YTLlPkB0tRX7y\\u002f4+QA5Pr5RlGD9Ap+hILv8xP0BBguLHmEs\\u002fQNobfGEyZT9AdLUV+8t+P0AOT6+UZZg\\u002fQKfoSC7\\u002fsT9AQYLix5jLP0DaG3xhMuU\\u002fQHS1FfvL\\u002fj9Ah6dXyjIMQEBUdCSX\\u002fxhAQCBB8WPMJUBA7Q2+MJkyQEC62or9ZT9AQIenV8oyTEBAVHQkl\\u002f9YQEAgQfFjzGVAQO0NvjCZckBAutqK\\u002fWV\\u002fQECHp1fKMoxAQFR0JJf\\u002fmEBAIEHxY8ylQEDtDb4wmbJAQLraiv1lv0BAh6dXyjLMQEBUdCSX\\u002f9hAQCBB8WPM5UBA7Q2+MJnyQEC62or9Zf9AQIenV8oyDEFAVHQkl\\u002f8YQUAgQfFjzCVBQO0NvjCZMkFAutqK\\u002fWU\\u002fQUCHp1fKMkxBQFR0JJf\\u002fWEFAIEHxY8xlQUDtDb4wmXJBQLraiv1lf0FAh6dXyjKMQUBUdCSX\\u002f5hBQCBB8WPMpUFA7Q2+MJmyQUC62or9Zb9BQIenV8oyzEFAVHQkl\\u002f\\u002fYQUAgQfFjzOVBQO0NvjCZ8kFAutqK\\u002fWX\\u002fQUCHp1fKMgxCQFR0JJf\\u002fGEJAIEHxY8wlQkDtDb4wmTJCQLraiv1lP0JAh6dXyjJMQkBUdCSX\\u002f1hCQCBB8WPMZUJA7Q2+MJlyQkC62or9ZX9CQIenV8oyjEJAVHQkl\\u002f+YQkAgQfFjzKVCQO0NvjCZskJAutqK\\u002fWW\\u002fQkCHp1fKMsxCQFR0JJf\\u002f2EJAIEHxY8zlQkDtDb4wmfJCQLraiv1l\\u002f0JAh6dXyjIMQ0BUdCSX\\u002fxhDQCBB8WPMJUNA7Q2+MJkyQ0C62or9ZT9DQIenV8oyTENAVHQkl\\u002f9YQ0AgQfFjzGVDQO0NvjCZckNAutqK\\u002fWV\\u002fQ0CHp1fKMoxDQFR0JJf\\u002fmENAIEHxY8ylQ0DtDb4wmbJDQLraiv1lv0NAh6dXyjLMQ0BUdCSX\\u002f9hDQCBB8WPM5UNA7Q2+MJnyQ0C62or9Zf9DQIenV8oyDERAVHQkl\\u002f8YREAgQfFjzCVEQO0NvjCZMkRAutqK\\u002fWU\\u002fRECHp1fKMkxEQFR0JJf\\u002fWERAIEHxY8xlREDtDb4wmXJEQLraiv1lf0RAh6dXyjKMREBUdCSX\\u002f5hEQCBB8WPMpURA7Q2+MJmyREC62or9Zb9EQIenV8oyzERAVHQkl\\u002f\\u002fYREAgQfFjzOVEQO0NvjCZ8kRAutqK\\u002fWX\\u002fRECHp1fKMgxFQFR0JJf\\u002fGEVAIEHxY8wlRUDtDb4wmTJFQLraiv1lP0VAh6dXyjJMRUBUdCSX\\u002f1hFQCBB8WPMZUVA7Q2+MJlyRUC62or9ZX9FQIenV8oyjEVAVHQkl\\u002f+YRUAgQfFjzKVFQO0NvjCZskVAutqK\\u002fWW\\u002fRUCHp1fKMsxFQFR0JJf\\u002f2EVAIEHxY8zlRUDtDb4wmfJFQLraiv1l\\u002f0VAh6dXyjIMRkBUdCSX\\u002fxhGQCBB8WPMJUZA7Q2+MJkyRkC62or9ZT9GQIenV8oyTEZAVHQkl\\u002f9YRkAgQfFjzGVGQO0NvjCZckZAutqK\\u002fWV\\u002fRkCHp1fKMoxGQFR0JJf\\u002fmEZAIEHxY8ylRkDtDb4wmbJGQLraiv1lv0ZAh6dXyjLMRkBUdCSX\\u002f9hGQCBB8WPM5UZA7Q2+MJnyRkC62or9Zf9GQIenV8oyDEdAVHQkl\\u002f8YR0AgQfFjzCVHQO0NvjCZMkdAutqK\\u002fWU\\u002fR0CHp1fKMkxHQFR0JJf\\u002fWEdAIEHxY8xlR0DtDb4wmXJHQLraiv1lf0dAh6dXyjKMR0BUdCSX\\u002f5hHQCBB8WPMpUdA7Q2+MJmyR0C62or9Zb9HQIenV8oyzEdAVHQkl\\u002f\\u002fYR0AgQfFjzOVHQO0NvjCZ8kdAutqK\\u002fWX\\u002fR0CHp1fKMgxIQFR0JJf\\u002fGEhAIEHxY8wlSEDtDb4wmTJIQLraiv1lP0hAh6dXyjJMSEBUdCSX\\u002f1hIQCBB8WPMZUhA7Q2+MJlySEC62or9ZX9IQIenV8oyjEhAVHQkl\\u002f+YSEAgQfFjzKVIQO0NvjCZskhAutqK\\u002fWW\\u002fSECHp1fKMsxIQFR0JJf\\u002f2EhAIEHxY8zlSEDtDb4wmfJIQLraiv1l\\u002f0hAh6dXyjIMSUBUdCSX\\u002fxhJQCBB8WPMJUlA7Q2+MJkySUC62or9ZT9JQIenV8oyTElAVHQkl\\u002f9YSUAgQfFjzGVJQO0NvjCZcklAutqK\\u002fWV\\u002fSUCHp1fKMoxJQFR0JJf\\u002fmElAIEHxY8ylSUDtDb4wmbJJQLraiv1lv0lAh6dXyjLMSUBUdCSX\\u002f9hJQCBB8WPM5UlA7Q2+MJnySUC62or9Zf9JQIenV8oyDEpAVHQkl\\u002f8YSkAgQfFjzCVKQO0NvjCZMkpAutqK\\u002fWU\\u002fSkCHp1fKMkxKQFR0JJf\\u002fWEpAIEHxY8xlSkDtDb4wmXJKQLraiv1lf0pAh6dXyjKMSkBUdCSX\\u002f5hKQCBB8WPMpUpA7Q2+MJmySkC62or9Zb9KQIenV8oyzEpAVHQkl\\u002f\\u002fYSkAgQfFjzOVKQO0NvjCZ8kpAutqK\\u002fWX\\u002fSkCHp1fKMgxLQFR0JJf\\u002fGEtAIEHxY8wlS0DtDb4wmTJLQLraiv1lP0tAh6dXyjJMS0BUdCSX\\u002f1hLQCBB8WPMZUtA7Q2+MJlyS0C62or9ZX9LQIenV8oyjEtAVHQkl\\u002f+YS0AgQfFjzKVLQO0NvjCZsktAutqK\\u002fWW\\u002fS0CHp1fKMsxLQFR0JJf\\u002f2EtAIEHxY8zlS0DtDb4wmfJLQLraiv1l\\u002f0tAh6dXyjIMTEBUdCSX\\u002fxhMQCBB8WPMJUxA7Q2+MJkyTEC62or9ZT9MQIenV8oyTExAVHQkl\\u002f9YTEAgQfFjzGVMQO0NvjCZckxAutqK\\u002fWV\\u002fTECHp1fKMoxMQFR0JJf\\u002fmExAIEHxY8ylTEDtDb4wmbJMQLraiv1lv0xAh6dXyjLMTEBUdCSX\\u002f9hMQCBB8WPM5UxA7Q2+MJnyTEC62or9Zf9MQIenV8oyDE1AVHQkl\\u002f8YTUAgQfFjzCVNQO0NvjCZMk1AutqK\\u002fWU\\u002fTUCHp1fKMkxNQFR0JJf\\u002fWE1AIEHxY8xlTUDtDb4wmXJNQLraiv1lf01Ah6dXyjKMTUBUdCSX\\u002f5hNQCBB8WPMpU1A7Q2+MJmyTUC62or9Zb9NQIenV8oyzE1AVHQkl\\u002f\\u002fYTUAgQfFjzOVNQO0NvjCZ8k1AutqK\\u002fWX\\u002fTUCHp1fKMgxOQFR0JJf\\u002fGE5AIEHxY8wlTkDtDb4wmTJOQLraiv1lP05Ah6dXyjJMTkBUdCSX\\u002f1hOQCBB8WPMZU5A7Q2+MJlyTkC62or9ZX9OQIenV8oyjE5AVHQkl\\u002f+YTkAgQfFjzKVOQO0NvjCZsk5AutqK\\u002fWW\\u002fTkCHp1fKMsxOQFR0JJf\\u002f2E5AIEHxY8zlTkDtDb4wmfJOQLraiv1l\\u002f05Ah6dXyjIMT0BUdCSX\\u002fxhPQCBB8WPMJU9A7Q2+MJkyT0C62or9ZT9PQIenV8oyTE9AVHQkl\\u002f9YT0AgQfFjzGVPQO0NvjCZck9AutqK\\u002fWV\\u002fT0CHp1fKMoxPQFR0JJf\\u002fmE9AIEHxY8ylT0DtDb4wmbJPQLraiv1lv09Ah6dXyjLMT0BUdCSX\\u002f9hPQCBB8WPM5U9A7Q2+MJnyT0C62or9Zf9PQMPTK2UZBlBAKjqSy38MUECQoPgx5hJQQPcGX5hMGVBAXW3F\\u002frIfUECQoPgx5jJQQPcGX5hMOVBAXW3F\\u002frI\\u002fUEDD0ytlGUZQQCo6kst\\u002fTFBAkKD4MeZSUED3Bl+YTFlQQF1txf6yX1BAw9MrZRlmUEAqOpLLf2xQQJCg+DHmclBA9wZfmEx5UEBdbcX+sn9QQMPTK2UZhlBAKjqSy3+MUECQoPgx5pJQQPcGX5hMmVBAXW3F\\u002frKfUEDD0ytlGaZQQCo6kst\\u002frFBAkKD4MeayUED3Bl+YTLlQQF1txf6yv1BAw9MrZRnGUEAqOpLLf8xQQJCg+DHm0lBA9wZfmEzZUEBdbcX+st9QQMPTK2UZ5lBAKjqSy3\\u002fsUECQoPgx5vJQQPcGX5hM+VBAXW3F\\u002frL\\u002fUEDD0ytlGQZRQCo6kst\\u002fDFFAkKD4MeYSUUD3Bl+YTBlRQF1txf6yH1FAw9MrZRkmUUAqOpLLfyxRQJCg+DHmMlFA9wZfmEw5UUBdbcX+sj9RQMPTK2UZRlFAKjqSy39MUUCQoPgx5lJRQPcGX5hMWVFAXW3F\\u002frJfUUDD0ytlGWZRQCo6kst\\u002fbFFAkKD4MeZyUUD3Bl+YTHlRQF1txf6yf1FAw9MrZRmGUUAqOpLLf4xRQJCg+DHmklFA9wZfmEyZUUBdbcX+sp9RQMPTK2UZplFAKjqSy3+sUUCQoPgx5rJRQPcGX5hMuVFAXW3F\\u002frK\\u002fUUDD0ytlGcZRQCo6kst\\u002fzFFAkKD4MebSUUD3Bl+YTNlRQF1txf6y31FAw9MrZRnmUUAqOpLLf+xRQJCg+DHm8lFA9wZfmEz5UUBdbcX+sv9RQMPTK2UZBlJAKjqSy38MUkCQoPgx5hJSQPcGX5hMGVJAXW3F\\u002frIfUkDD0ytlGSZSQCo6kst\\u002fLFJAkKD4MeYyUkD3Bl+YTDlSQF1txf6yP1JAw9MrZRlGUkAqOpLLf0xSQJCg+DHmUlJA9wZfmExZUkBdbcX+sl9SQMPTK2UZZlJAKjqSy39sUkCQoPgx5nJSQPcGX5hMeVJAXW3F\\u002frJ\\u002fUkDD0ytlGYZSQCo6kst\\u002fjFJAkKD4MeaSUkD3Bl+YTJlSQF1txf6yn1JAw9MrZRmmUkAqOpLLf6xSQJCg+DHmslJA9wZfmEy5UkBdbcX+sr9SQMPTK2UZxlJAKjqSy3\\u002fMUkCQoPgx5tJSQPcGX5hM2VJAXW3F\\u002frLfUkDD0ytlGeZSQCo6kst\\u002f7FJAkKD4MebyUkD3Bl+YTPlSQF1txf6y\\u002f1JAw9MrZRkGU0AqOpLLfwxTQJCg+DHmElNA9wZfmEwZU0BdbcX+sh9TQMPTK2UZJlNAKjqSy38sU0CQoPgx5jJTQPcGX5hMOVNAXW3F\\u002frI\\u002fU0DD0ytlGUZTQCo6kst\\u002fTFNAkKD4MeZSU0D3Bl+YTFlTQF1txf6yX1NAw9MrZRlmU0AqOpLLf2xTQJCg+DHmclNA9wZfmEx5U0BdbcX+sn9TQMPTK2UZhlNAKjqSy3+MU0CQoPgx5pJTQPcGX5hMmVNAXW3F\\u002frKfU0DD0ytlGaZTQCo6kst\\u002frFNAkKD4MeayU0D3Bl+YTLlTQF1txf6yv1NAw9MrZRnGU0AqOpLLf8xTQJCg+DHm0lNA9wZfmEzZU0BdbcX+st9TQMPTK2UZ5lNAKjqSy3\\u002fsU0CQoPgx5vJTQPcGX5hM+VNAXW3F\\u002frL\\u002fU0DD0ytlGQZUQCo6kst\\u002fDFRAkKD4MeYSVED3Bl+YTBlUQF1txf6yH1RAw9MrZRkmVEAqOpLLfyxUQJCg+DHmMlRA9wZfmEw5VEBdbcX+sj9UQMPTK2UZRlRAKjqSy39MVECQoPgx5lJUQPcGX5hMWVRAXW3F\\u002frJfVEDD0ytlGWZUQCo6kst\\u002fbFRAkKD4MeZyVED3Bl+YTHlUQF1txf6yf1RAw9MrZRmGVEAqOpLLf4xUQJCg+DHmklRA9wZfmEyZVEBdbcX+sp9UQMPTK2UZplRAKjqSy3+sVECQoPgx5rJUQPcGX5hMuVRAXW3F\\u002frK\\u002fVEDD0ytlGcZUQCo6kst\\u002fzFRAkKD4MebSVED3Bl+YTNlUQF1txf6y31RAw9MrZRnmVEAqOpLLf+xUQJCg+DHm8lRA9wZfmEz5VEBdbcX+sv9UQMPTK2UZBlVAKjqSy38MVUCQoPgx5hJVQPcGX5hMGVVAXW3F\\u002frIfVUDD0ytlGSZVQCo6kst\\u002fLFVAkKD4MeYyVUD3Bl+YTDlVQF1txf6yP1VAw9MrZRlGVUAqOpLLf0xVQJCg+DHmUlVA9wZfmExZVUBdbcX+sl9VQMPTK2UZZlVAKjqSy39sVUCQoPgx5nJVQPcGX5hMeVVAXW3F\\u002frJ\\u002fVUDD0ytlGYZVQCo6kst\\u002fjFVAkKD4MeaSVUD3Bl+YTJlVQF1txf6yn1VAw9MrZRmmVUAqOpLLf6xVQJCg+DHmslVA9wZfmEy5VUBdbcX+sr9VQMPTK2UZxlVAKjqSy3\\u002fMVUCQoPgx5tJVQPcGX5hM2VVAXW3F\\u002frLfVUDD0ytlGeZVQCo6kst\\u002f7FVAkKD4MebyVUD3Bl+YTPlVQF1txf6y\\u002f1VAw9MrZRkGVkAqOpLLfwxWQJCg+DHmElZA9wZfmEwZVkBdbcX+sh9WQMPTK2UZJlZAKjqSy38sVkCQoPgx5jJWQPcGX5hMOVZAXW3F\\u002frI\\u002fVkDD0ytlGUZWQCo6kst\\u002fTFZAkKD4MeZSVkD3Bl+YTFlWQF1txf6yX1ZAw9MrZRlmVkAqOpLLf2xWQJCg+DHmclZA9wZfmEx5VkBdbcX+sn9WQMPTK2UZhlZAKjqSy3+MVkCQoPgx5pJWQPcGX5hMmVZAXW3F\\u002frKfVkDD0ytlGaZWQCo6kst\\u002frFZAkKD4MeayVkD3Bl+YTLlWQF1txf6yv1ZAw9MrZRnGVkAqOpLLf8xWQJCg+DHm0lZA9wZfmEzZVkBdbcX+st9WQMPTK2UZ5lZAKjqSy3\\u002fsVkCQoPgx5vJWQPcGX5hM+VZAXW3F\\u002frL\\u002fVkDD0ytlGQZXQCo6kst\\u002fDFdAkKD4MeYSV0D3Bl+YTBlXQF1txf6yH1dAw9MrZRkmV0AqOpLLfyxXQJCg+DHmMldA9wZfmEw5V0BdbcX+sj9XQMPTK2UZRldAKjqSy39MV0CQoPgx5lJXQPcGX5hMWVdAXW3F\\u002frJfV0DD0ytlGWZXQCo6kst\\u002fbFdAkKD4MeZyV0D3Bl+YTHlXQF1txf6yf1dAw9MrZRmGV0AqOpLLf4xXQJCg+DHmkldA9wZfmEyZV0BdbcX+sp9XQMPTK2UZpldAKjqSy3+sV0CQoPgx5rJXQPcGX5hMuVdAXW3F\\u002frK\\u002fV0DD0ytlGcZXQCo6kst\\u002fzFdAkKD4MebSV0D3Bl+YTNlXQF1txf6y31dAw9MrZRnmV0AqOpLLf+xXQJCg+DHm8ldA9wZfmEz5V0BdbcX+sv9XQMPTK2UZBlhAKjqSy38MWECQoPgx5hJYQPcGX5hMGVhAXW3F\\u002frIfWEDD0ytlGSZYQCo6kst\\u002fLFhAkKD4MeYyWED3Bl+YTDlYQF1txf6yP1hAw9MrZRlGWEAqOpLLf0xYQJCg+DHmUlhA9wZfmExZWEBdbcX+sl9YQMPTK2UZZlhAKjqSy39sWECQoPgx5nJYQPcGX5hMeVhAXW3F\\u002frJ\\u002fWEDD0ytlGYZYQCo6kst\\u002fjFhAkKD4MeaSWED3Bl+YTJlYQF1txf6yn1hAw9MrZRmmWEAqOpLLf6xYQJCg+DHmslhA9wZfmEy5WEBdbcX+sr9YQMPTK2UZxlhAKjqSy3\\u002fMWECQoPgx5tJYQPcGX5hM2VhAXW3F\\u002frLfWEDD0ytlGeZYQCo6kst\\u002f7FhAkKD4MebyWED3Bl+YTPlYQF1txf6y\\u002f1hAw9MrZRkGWUAqOpLLfwxZQJCg+DHmEllA9wZfmEwZWUBdbcX+sh9ZQMPTK2UZJllAKjqSy38sWUCQoPgx5jJZQPcGX5hMOVlAXW3F\\u002frI\\u002fWUDD0ytlGUZZQCo6kst\\u002fTFlAkKD4MeZSWUD3Bl+YTFlZQF1txf6yX1lAw9MrZRlmWUAqOpLLf2xZQJCg+DHmcllA9wZfmEx5WUBdbcX+sn9ZQMPTK2UZhllAKjqSy3+MWUCQoPgx5pJZQPcGX5hMmVlAXW3F\\u002frKfWUDD0ytlGaZZQCo6kst\\u002frFlA9wZfmEy5WUBdbcX+sr9ZQMPTK2UZxllAKjqSy3\\u002fMWUCQoPgx5tJZQPcGX5hM2VlAXW3F\\u002frLfWUDD0ytlGeZZQCo6kst\\u002f7FlAkKD4MebyWUD3Bl+YTPlZQF1txf6y\\u002f1lAw9MrZRkGWkAqOpLLfwxaQJCg+DHmElpA9wZfmEwZWkBdbcX+sh9aQMPTK2UZJlpAKjqSy38sWkCQoPgx5jJaQPcGX5hMOVpAXW3F\\u002frI\\u002fWkDD0ytlGUZaQCo6kst\\u002fTFpAkKD4MeZSWkD3Bl+YTFlaQF1txf6yX1pAw9MrZRlmWkAqOpLLf2xaQJCg+DHmclpA9wZfmEx5WkBdbcX+sn9aQMPTK2UZhlpAKjqSy3+MWkCQoPgx5pJaQPcGX5hMmVpAXW3F\\u002frKfWkDD0ytlGaZaQCo6kst\\u002frFpAkKD4MeayWkD3Bl+YTLlaQF1txf6yv1pAw9MrZRnGWkAqOpLLf8xaQJCg+DHm0lpA9wZfmEzZWkBdbcX+st9aQMPTK2UZ5lpAKjqSy3\\u002fsWkCQoPgx5vJaQPcGX5hM+VpAXW3F\\u002frL\\u002fWkDD0ytlGQZbQCo6kst\\u002fDFtAkKD4MeYSW0D3Bl+YTBlbQF1txf6yH1tAw9MrZRkmW0AqOpLLfyxbQJCg+DHmMltA9wZfmEw5W0BdbcX+sj9bQMPTK2UZRltAKjqSy39MW0CQoPgx5lJbQPcGX5hMWVtAXW3F\\u002frJfW0DD0ytlGWZbQCo6kst\\u002fbFtAkKD4MeZyW0D3Bl+YTHlbQF1txf6yf1tAw9MrZRmGW0AqOpLLf4xbQJCg+DHmkltA9wZfmEyZW0BdbcX+sp9bQMPTK2UZpltAKjqSy3+sW0CQoPgx5rJbQPcGX5hMuVtAXW3F\\u002frK\\u002fW0DD0ytlGcZbQCo6kst\\u002fzFtAkKD4MebSW0D3Bl+YTNlbQF1txf6y31tAw9MrZRnmW0AqOpLLf+xbQJCg+DHm8ltA9wZfmEz5W0BdbcX+sv9bQMPTK2UZBlxAKjqSy38MXECQoPgx5hJcQPcGX5hMGVxAXW3F\\u002frIfXEDD0ytlGSZcQCo6kst\\u002fLFxAkKD4MeYyXED3Bl+YTDlcQF1txf6yP1xAw9MrZRlGXEAqOpLLf0xcQJCg+DHmUlxA9wZfmExZXEBdbcX+sl9cQMPTK2UZZlxAKjqSy39sXECQoPgx5nJcQPcGX5hMeVxAXW3F\\u002frJ\\u002fXEDD0ytlGYZcQCo6kst\\u002fjFxAkKD4MeaSXED3Bl+YTJlcQF1txf6yn1xAw9MrZRmmXEAqOpLLf6xcQJCg+DHmslxA9wZfmEy5XEBdbcX+sr9cQMPTK2UZxlxAKjqSy3\\u002fMXECQoPgx5tJcQPcGX5hM2VxAXW3F\\u002frLfXEDD0ytlGeZcQCo6kst\\u002f7FxAkKD4MebyXED3Bl+YTPlcQF1txf6y\\u002f1xAw9MrZRkGXUAqOpLLfwxdQJCg+DHmEl1A9wZfmEwZXUBdbcX+sh9dQMPTK2UZJl1AKjqSy38sXUCQoPgx5jJdQPcGX5hMOV1AXW3F\\u002frI\\u002fXUDD0ytlGUZdQCo6kst\\u002fTF1AkKD4MeZSXUD3Bl+YTFldQF1txf6yX11Aw9MrZRlmXUAqOpLLf2xdQJCg+DHmcl1A9wZfmEx5XUBdbcX+sn9dQMPTK2UZhl1AKjqSy3+MXUCQoPgx5pJdQPcGX5hMmV1AXW3F\\u002frKfXUDD0ytlGaZdQCo6kst\\u002frF1AkKD4MeayXUD3Bl+YTLldQF1txf6yv11Aw9MrZRnGXUAqOpLLf8xdQJCg+DHm0l1A9wZfmEzZXUBdbcX+st9dQMPTK2UZ5l1AKjqSy3\\u002fsXUCQoPgx5vJdQPcGX5hM+V1AXW3F\\u002frL\\u002fXUDD0ytlGQZeQCo6kst\\u002fDF5AkKD4MeYSXkD3Bl+YTBleQF1txf6yH15Aw9MrZRkmXkAqOpLLfyxeQJCg+DHmMl5A9wZfmEw5XkBdbcX+sj9eQMPTK2UZRl5AKjqSy39MXkCQoPgx5lJeQPcGX5hMWV5AXW3F\\u002frJfXkDD0ytlGWZeQCo6kst\\u002fbF5AkKD4MeZyXkD3Bl+YTHleQF1txf6yf15Aw9MrZRmGXkAqOpLLf4xeQJCg+DHmkl5A9wZfmEyZXkBdbcX+sp9eQMPTK2UZpl5AKjqSy3+sXkCQoPgx5rJeQPcGX5hMuV5AXW3F\\u002frK\\u002fXkDD0ytlGcZeQCo6kst\\u002fzF5AkKD4MebSXkD3Bl+YTNleQF1txf6y315Aw9MrZRnmXkAqOpLLf+xeQJCg+DHm8l5A9wZfmEz5XkBdbcX+sv9eQMPTK2UZBl9AKjqSy38MX0CQoPgx5hJfQPcGX5hMGV9AXW3F\\u002frIfX0DD0ytlGSZfQCo6kst\\u002fLF9AkKD4MeYyX0D3Bl+YTDlfQF1txf6yP19Aw9MrZRlGX0AqOpLLf0xfQJCg+DHmUl9A9wZfmExZX0BdbcX+sl9fQMPTK2UZZl9AKjqSy39sX0CQoPgx5nJfQPcGX5hMeV9AXW3F\\u002frJ\\u002fX0DD0ytlGYZfQCo6kst\\u002fjF9AkKD4MeaSX0D3Bl+YTJlfQF1txf6yn19Aw9MrZRmmX0AqOpLLf6xfQJCg+DHmsl9A9wZfmEy5X0BdbcX+sr9fQMPTK2UZxl9AKjqSy3\\u002fMX0CQoPgx5tJfQPcGX5hM2V9AXW3F\\u002frLfX0DD0ytlGeZfQCo6kst\\u002f7F9AkKD4MebyX0D3Bl+YTPlfQF1txf6y\\u002f19A4umVsgwDYEAVHcnlPwZgQEhQ\\u002fBhzCWBAe4MvTKYMYECutmJ\\u002f2Q9gQOLplbIME2BAFR3J5T8WYEBIUPwYcxlgQHuDL0ymHGBArrZif9kfYEDi6ZWyDCNgQBUdyeU\\u002fJmBASFD8GHMpYEB7gy9MpixgQK62Yn\\u002fZL2BA4umVsgwzYEAVHcnlPzZgQEhQ\\u002fBhzOWBAe4MvTKY8YECutmJ\\u002f2T9gQOLplbIMQ2BAFR3J5T9GYEBIUPwYc0lgQHuDL0ymTGBArrZif9lPYEDi6ZWyDFNgQBUdyeU\\u002fVmBASFD8GHNZYEB7gy9MplxgQK62Yn\\u002fZX2BA4umVsgxjYEAVHcnlP2ZgQEhQ\\u002fBhzaWBAe4MvTKZsYECutmJ\\u002f2W9gQOLplbIMc2BAFR3J5T92YEBIUPwYc3lgQHuDL0ymfGBArrZif9l\\u002fYEDi6ZWyDINgQBUdyeU\\u002fhmBASFD8GHOJYEB7gy9MpoxgQK62Yn\\u002fZj2BA4umVsgyTYEAVHcnlP5ZgQEhQ\\u002fBhzmWBAe4MvTKacYECutmJ\\u002f2Z9gQOLplbIMo2BAFR3J5T+mYEBIUPwYc6lgQHuDL0ymrGBArrZif9mvYEDi6ZWyDLNgQBUdyeU\\u002ftmBASFD8GHO5YEB7gy9MprxgQK62Yn\\u002fZv2BA4umVsgzDYEAVHcnlP8ZgQEhQ\\u002fBhzyWBAe4MvTKbMYECutmJ\\u002f2c9gQOLplbIM02BAFR3J5T\\u002fWYEBIUPwYc9lgQHuDL0ym3GBArrZif9nfYEDi6ZWyDONgQBUdyeU\\u002f5mBASFD8GHPpYEB7gy9MpuxgQK62Yn\\u002fZ72BA4umVsgzzYEAVHcnlP\\u002fZgQEhQ\\u002fBhz+WBAe4MvTKb8YECutmJ\\u002f2f9gQOLplbIMA2FAFR3J5T8GYUBIUPwYcwlhQHuDL0ymDGFArrZif9kPYUDi6ZWyDBNhQBUdyeU\\u002fFmFASFD8GHMZYUB7gy9MphxhQK62Yn\\u002fZH2FA4umVsgwjYUAVHcnlPyZhQEhQ\\u002fBhzKWFAe4MvTKYsYUCutmJ\\u002f2S9hQOLplbIMM2FAFR3J5T82YUBIUPwYczlhQHuDL0ymPGFArrZif9k\\u002fYUDi6ZWyDENhQBUdyeU\\u002fRmFASFD8GHNJYUB7gy9MpkxhQK62Yn\\u002fZT2FA4umVsgxTYUAVHcnlP1ZhQEhQ\\u002fBhzWWFAe4MvTKZcYUCutmJ\\u002f2V9hQOLplbIMY2FAFR3J5T9mYUBIUPwYc2lhQHuDL0ymbGFArrZif9lvYUDi6ZWyDHNhQBUdyeU\\u002fdmFASFD8GHN5YUB7gy9MpnxhQK62Yn\\u002fZf2FA4umVsgyDYUAVHcnlP4ZhQEhQ\\u002fBhziWFAe4MvTKaMYUCutmJ\\u002f2Y9hQOLplbIMk2FAFR3J5T+WYUBIUPwYc5lhQHuDL0ymnGFArrZif9mfYUDi6ZWyDKNhQBUdyeU\\u002fpmFASFD8GHOpYUB7gy9MpqxhQK62Yn\\u002fZr2FA4umVsgyzYUAVHcnlP7ZhQEhQ\\u002fBhzuWFAe4MvTKa8YUCutmJ\\u002f2b9hQOLplbIMw2FAFR3J5T\\u002fGYUBIUPwYc8lhQHuDL0ymzGFArrZif9nPYUDi6ZWyDNNhQBUdyeU\\u002f1mFASFD8GHPZYUB7gy9MptxhQK62Yn\\u002fZ32FA4umVsgzjYUAVHcnlP+ZhQEhQ\\u002fBhz6WFAe4MvTKbsYUCutmJ\\u002f2e9hQOLplbIM82FAFR3J5T\\u002f2YUBIUPwYc\\u002flhQHuDL0ym\\u002fGFArrZif9n\\u002fYUDi6ZWyDANiQBUdyeU\\u002fBmJASFD8GHMJYkB7gy9MpgxiQK62Yn\\u002fZD2JA4umVsgwTYkAVHcnlPxZiQEhQ\\u002fBhzGWJAe4MvTKYcYkCutmJ\\u002f2R9iQOLplbIMI2JAFR3J5T8mYkBIUPwYcyliQHuDL0ymLGJArrZif9kvYkDi6ZWyDDNiQBUdyeU\\u002fNmJASFD8GHM5YkB7gy9MpjxiQK62Yn\\u002fZP2JA4umVsgxDYkAVHcnlP0ZiQEhQ\\u002fBhzSWJAe4MvTKZMYkCutmJ\\u002f2U9iQOLplbIMU2JAFR3J5T9WYkBIUPwYc1liQHuDL0ymXGJArrZif9lfYkDi6ZWyDGNiQBUdyeU\\u002fZmJASFD8GHNpYkB7gy9MpmxiQK62Yn\\u002fZb2JA4umVsgxzYkAVHcnlP3ZiQEhQ\\u002fBhzeWJAe4MvTKZ8YkCutmJ\\u002f2X9iQOLplbIMg2JAFR3J5T+GYkBIUPwYc4liQHuDL0ymjGJArrZif9mPYkDi6ZWyDJNiQBUdyeU\\u002flmJASFD8GHOZYkB7gy9MppxiQK62Yn\\u002fZn2JA4umVsgyjYkAVHcnlP6ZiQEhQ\\u002fBhzqWJAe4MvTKasYkCutmJ\\u002f2a9iQOLplbIMs2JAFR3J5T+2YkBIUPwYc7liQHuDL0ymvGJArrZif9m\\u002fYkDi6ZWyDMNiQA==\"},\"y\":{\"dtype\":\"f8\",\"bdata\":\"AAAAAABAf0AAAAAAAEB\\u002fQAAAAAAAQH9AAAAAAABAf0AAAAAAAEB\\u002fQAAAAAAAQH9AAAAAAABAf0AAAAAAAEB\\u002fQAAAAAAAQH9AAAAAAABAf0AAAAAAAEB\\u002fQAAAAAAAQH9AAAAAAABAf0AAAAAAAEB\\u002fQAAAAAAAQH9AAAAAAABAf0AAAAAAAEB\\u002fQAAAAAAAQH9AAAAAAABAf0AAAAAAAEB\\u002fQAAAAAAAQH9AAAAAAABAf0AAAAAAAEB\\u002fQAAAAAAAQH9AAAAAAABAf0AAAAAAAEB\\u002fQAAAAAAAQH9AAAAAAABAf0AAAAAAAEB\\u002fQAAAAAAAQH9AAAAAAABAf0AAAAAAAEB\\u002fQAAAAAAAQH9AAAAAAABAf0AAAAAAAEB\\u002fQAAAAAAAQH9AAAAAAABAf0AAAAAAAEB\\u002fQAAAAAAAQH9AAAAAAABAf0AAAAAAAEB\\u002fQAAAAAAAQH9AAAAAAABAf0AAAAAAAEB\\u002fQAAAAAAAQH9AAAAAAABAf0AAAAAAAEB\\u002fQAAAAAAAQH9AAAAAAABAf0AAAAAAAEB\\u002fQAAAAAAAQH9AAAAAAABAf0AAAAAAAEB\\u002fQAAAAAAAQH9AAAAAAABAf0AAAAAAAEB\\u002fQAAAAAAAQH9AAAAAAABAf0AAAAAAAEB\\u002fQAAAAAAAQH9AAAAAAABAf0AAAAAAAEB\\u002fQAAAAAAAQH9AAAAAAABAf0AAAAAAAEB\\u002fQAAAAAAAQH9AAAAAAABAf0AAAAAAAEB\\u002fQAAAAAAAQH9AAAAAAABAf0AAAAAAAEB\\u002fQAAAAAAAQH9AAAAAAABAf0AAAAAAAEB\\u002fQAAAAAAAQH9AAAAAAABAf0AAAAAAAEB\\u002fQAAAAAAAQH9AAAAAAABAf0AAAAAAAEB\\u002fQAAAAAAAQH9AAAAAAABAf0AAAAAAAEB\\u002fQAAAAAAAQH9AAAAAAABAf0AAAAAAAEB\\u002fQAAAAAAAQH9AAAAAAABAf0AAAAAAAEB\\u002fQAAAAAAAQH9AAAAAAABAf0AAAAAAAEB\\u002fQAAAAAAAQH9AAAAAAABAf0AAAAAAAEB\\u002fQAAAAAAAQH9AAAAAAABAf0AAAAAAAEB\\u002fQAAAAAAAQH9AAAAAAABAf0AAAAAAAEB\\u002fQAAAAAAAQH9AAAAAAABAf0AAAAAAAEB\\u002fQAAAAAAAQH9AAAAAAABAf0AAAAAAAEB\\u002fQAAAAAAAQH9AAAAAAABAf0ABAAAAAEB\\u002fQCEAAAAAQH9AFQMAAABAf0C6PQAAAEB\\u002fQE4YBAAAQH9ArvU6AABAf0CfR88CAEB\\u002fQFjCBh0AQH9AirrK\\u002fQBAf0BkjwNVB0B\\u002fQGTa79ctQH9A1DHSLvJAf0A3R7ZiOER\\u002fQICiupfjT39Anx57U3Vyf0AeusbxFMd\\u002fQA0ei+FWOIBAyDdl4lPBgEDC\\u002fv16b26BQLQ2wmmmDYJAdst113ZegkAuEsZL3DqCQN7OQm2Hs4FAi2JRyIEDgUDDTP7VaGeAQEtQUYt\\u002f+39AoILL49aJf0CUwSwbWFh\\u002fQFd1qhq3Rn9APMNlh4xBf0CKdpBvTEB\\u002fQCQCTE4MQH9A9ilapwFAf0BN03UvAEB\\u002fQJmUbwQAQH9AfG9YAABAf0AsvAUAAEB\\u002fQD1PAAAAQH9AjwMAAABAf0AiAAAAAEB\\u002fQAkAAAAAQH9A2AAAAABAf0BIEwAAAEB\\u002fQFxzAQAAQH9ADIQXAABAf0DNpUABAEB\\u002fQNNjWw4AQH9AsiVCigBAf0DBu+9dBEB\\u002fQB4lgqEdQH9APmCenahAf0A9r9U6JEN\\u002fQFy6yiuNTH9Ang98V\\u002ftpf0CVYI44fLV\\u002fQGfy5Vt1KYBAHz92OsysgECbCGDA\\u002fVaBQO7YQL5p9oFAcvCpr3RIgkB0f5mrCyWCQB9jebZ1nYFAQsiv+gnvgEC7Ii\\u002fQWVeAQFNaC5\\u002fk5n9AycQLTyF\\u002ff0BBbt7g1VN\\u002fQGUocm4sRX9AL8hrlR5Bf0Cc5fhpM0B\\u002fQNIbjKQHQH9ADeDX8ABAf0BSTJIYAEB\\u002fQLb2rwIAQH9AVV\\u002fPCABAf0A9HTJlAEB\\u002fQGAY29oDQH9AmTsqYh9Af0CcKUUm1UB\\u002fQCz\\u002fcfq2RH9AKHo91T5Wf0CnbAAAZ5d\\u002fQEacunbkLoBAcihjPpckgUBa2hKXXQ6DQHVdk+xCEYZAUu8K3MmqiUBnVwwRlJyMQJ89bN\\u002fCjI1AOqdsfDn\\u002fi0BGoPkjXbqIQEEFs3VxK4VAQ1fZwEhtgkBOnlU2h9SAQHSoVquDK4BAbQeQ8qgkgEAcdxJG1ZWAQOsWHtQraoFA0N57qEtzgkBjCjNLLFODQA3xTmIZooNADaN1A9I2g0BrPrwXoEeCQNXM0KX7PoFActdLMQtxgEAeoc88o+1\\u002fQHxfy95qe39A1ZeE971Qf0De9heT4kN\\u002fQK7TsFXEQH9A4QpJtktAf0AWvLCfBUF\\u002fQLu8pHm1RH9AwlMBx1dSf0BA2tZmhHt\\u002fQHYDUl6e4H9ATJjhtAlUgECUZ9Xs3O6AQCzbxpYapIFALzPVv1QygkA3YWq+LlaCQKNRoLln\\u002fIFAyhJpeApSgUBb3QBN0aCAQNjLG3sTHYBAQ4WlwC6kf0CiTqtk9mB\\u002fQF6JaP7mSH9AHXYIy\\u002fhBf0A07\\u002f2fW0B\\u002fQFyYFp4NQH9A+RropwFAf0DteiQqAEB\\u002fQJs0bAMAQH9ABxg6AABAf0BhJAMAAEB\\u002fQHcjAAAAQH9ARgEAAABAf0AKAAAAAEB\\u002fQAAAAAAAQH9AAAAAAABAf0AAAAAAAEB\\u002fQAAAAAAAQH9AAAAAAABAf0AAAAAAAEB\\u002fQAAAAAAAQH9AAAAAAABAf0AAAAAAAEB\\u002fQAAAAAAAQH9AAAAAAABAf0AAAAAAAEB\\u002fQAAAAAAAQH9AAQAAAABAf0AnAAAAAEB\\u002fQIgEAAAAQH9AlG4AAABAf0BjqwgAAEB\\u002fQM4BjwAAQH9AcniRBwBAf0Cu1yhUAEB\\u002fQAxppv8CQH9AVmroaxZAf0AuJl5aiUB\\u002fQNU8zAaxQn9Aakxpuw1Lf0ApIJgGLGV\\u002fQM436IJ7pn9AkMDgmjMUgECm7OwDZnqAQIPohraH+YBAMf8dHz55gUBxjuUeHOiBQNUaTnI2QoJACTlQoBB9gkAkH+ElJXmCQEUkCzieG4JASZ\\u002fKzCV1gUBFfST5Er+AQIiaIXL8L4BAQ+Epo7K1f0A04GC0E2d\\u002fQHucAiiFSn9A7UsjNEtCf0DK0IqYZ0B\\u002fQITO1sYOQH9ADbrtswFAf0Bmpo4oAEB\\u002fQFGRDAMAQH9A7GxKAABAf0AcMOIBAEB\\u002fQCVc5xoAQH9AFAunOgFAf0Cuw++0C0B\\u002fQI3vD75aQH9ACLHYBTxCf0A5LLuNckt\\u002fQC3vl1Khb39AueCn7Nbgf0AXNz64P3yAQEaX3GfiiIFA6kzqMecOg0AaoXnj2J6EQAXTG10CgYVAQjZTBok3hUBijx8SyOuDQCsqrJDySYJAJoG4+w\\u002f1gEAJCIj5eymAQPZ+BLZGmX9A8AglilRXf0AU1gdd50R\\u002fQOeo6BTUQH9A5jgWxxxAf0DSGFkiA0B\\u002fQIJWFkYAQH9AcjPoBABAf0BocUYAAEB\\u002fQGEqAwAAQH9ACz8AAABAf0DWoQMAAEB\\u002fQMplUAAAQH9A9cOiBQBAf0COXt1RAEB\\u002fQGbD5cEDQH9A2DoQsCNAf0CwTrPREUF\\u002fQOsHFR6gRn9AOEziYB1hf0A7rmcef8V\\u002fQHyPnc8CeYBARW\\u002f26z3ZgUBsS\\u002f79alaEQAYFLNV6uIdA0kBU+YX4ikDmGvo5r7+MQAAdDGCkY4xAVFugMi5TikDsqiLpg4uHQCyTNXVB4YRAZHUMfeXQgkCnyNsD0aKBQD\\u002fZCKNMeIFAW6ALlCczgkAXWtA02VuDQKD3c04HOYRAut0wLu00hEDj1Igey0iDQJ9Xsxp69oFArcbKWfXSgEBVpk9V2SWAQJ3PEmza4X9AKy44s54zgEB2\\u002fxzObBWBQGHgpF9wxIJAC8xpe5cQhUBySkZvGyeHQCbwVSGB8YdAWr54hKz1hkA+j4d8I8iEQJASnjmOg4JABVaOKvjpgEBNkbHR0xWAQA2b9L+Ci39AM9oIvPh9f0C8UhKJ4f5\\u002fQMTgt1g2zIBAOjLo\\u002fzObgkAouIv+EKyFQPLZ2DVBZolAyJQ\\u002fZ7Q0jEBtHLUp5oKMQAzQlG8MIIpA7+lYHl9whkByQqwx6yyDQI17w0cjLIFANxIIPN1JgEDVZ75OswWAQLlgkIejBIBApxE0oAQ2gED3I2GVHL2AQKKWgTBwt4FAjbM6OnH2gkBkchxlku2DQLUdgSJ3C4RAgH4SEjU6g0BPkeuZpvOBQKMUMgqa0YBAOr\\u002fNm7UjgEBX\\u002fNHiWPJ\\u002fQNAZRCf2joBAsOm4mqrngkBTjz40KSqJQPwdC3kX7ZJAPDsP7DCjnEBgke\\u002flbMKjQDAaVaQK16dAU6Hsq1YOqUBPPAQuez6nQDCNNV7OTaNAkQJuwZwFnUCMy\\u002fwswjGUQLl+YKtCmItAYjLka8ZShEAEEXQjSxqBQJ91FTMU\\u002fX9AlOtF71plf0Buswvi0EV\\u002fQKs57FG2QH9AUREjthFAf0AYQf7CA0B\\u002fQAAswkIaQH9AL+RzZt5Af0CPfhO31UV\\u002fQMprKin3Xn9AQcNdTcHBf0Ch1yqjf3aAQAIlUSMlz4FAOsjLdl4chEDpMESj3+CGQH2DbQMw2ohASBF4mnbaiEC2+\\u002fNkMOCGQCirzbDqGIRAtIEluP\\u002fJgUCd18h+JXKAQIWJ8hPyvH9AvFj3sX1df0DM4\\u002fzt3Ud\\u002fQDyGxQqfTH9AU+csBwJrf0CR3Qd7ALp\\u002fQBHVRd8kKIBANDqKu3aOgEDNEtani+eAQIS2fVKPAIFAfBJRginJgEBknLtK\\u002fmOAQOgZbmsUBYBAeiQGfneRf0BXVChWoll\\u002fQG3TcSdLRn9AFzYBbDRBf0CO9GsALkB\\u002fQG8HUVgFQH9AVAcniQBAf0CUDcHJAEB\\u002fQBA\\u002fiGwIQH9A7csr4UlAf0AGPj26\\u002fEF\\u002fQPoR3Nm7Sn9AX9WCKHJtf0BFzIQCt9Z\\u002fQIsE8xycY4BAl3mIPiMtgUA8Cy7hKxaCQPREQk\\u002fzrIJA4RXTgEqTgkBlVhfIptmBQAszl8nM7oBAN6tRqzg5gECoL+iKH61\\u002fQP2Y3oo2Xn9Ari1DyX9Gf0DhJWrbFUF\\u002fQIIGk\\u002f8jQH9AIFiLnQNAf0BTNgpIAEB\\u002fQETiEwUAQH9AbuloDABAf0AtluWcAEB\\u002fQBqAEyUGQH9AKMb3CDBAf0CmHU2LJEF\\u002fQMd+YBVrRX9A066JpPxTf0BOspZ5UXl\\u002fQDaL5fuzv39AaCLlTnEOgEAeMzopNDSAQB6yUOkvOoBAQ8ukYEocgECb6gXGMNt\\u002fQB8jQ9QJi39AR7kzCyRcf0B4n3GfOkh\\u002fQAtEZSfoQX9ASkkWf11Af0CNFw4hEEB\\u002fQCKItMQCQH9A\\u002fr4TegBAf0CQ9zUTAEB\\u002fQE2psAIAQH9APvSfAwBAf0BFChQyAEB\\u002fQOcF\\u002fEECQH9A7w55NhRAf0CIusA1jEB\\u002fQGRcNBHxQn9Abnv3njlMf0CoguewSGd\\u002fQBapVI+KoX9AQCGCuAT7f0CiYbTPXSqAQORj56sCPoBAr6e5X68rgEDxm+QOfwGAQFu5gne5tn9A+nyIXWGWf0CWcPVPD59\\u002fQFZbej63tX9AOu3ykbvAf0Aztl+YBrl\\u002fQEoe6v79pn9AYb1eWpWUf0AquDQYTox\\u002fQGI65eYuqX9APxfKWpQPgECn6mFpyY2AQM+tYjRBPYFA5XitrBPPgUB3xp9uyueBQDUeZ9XVdYFAVoCm92nDgEDcXtN8diuAQO5HtYyqqH9A4+sPxXtmf0AvxZqiD2h\\u002fQDjVnLflnn9AxSm5Z7QEgEBg5qQaCkeAQGNJ9vxpeoBAyKFog4CNgEAU+vuoL5KAQIHyQnqqp4BADPVzqCHKgECLB+grOc+AQEZu2hulmoBAh+m0tIdBgECZBDULDeB\\u002fQPR6lbyqfH9AOB+gu49Rf0CuwQ4B4UN\\u002fQFuOOYSpQH9A7tR1qzZAf0BoCWVka0F\\u002fQHIklmzES39AiuFq3S+Lf0A6c\\u002fLgEliAQGH\\u002fx2zPUoJAdpVsnN1kh0DKWdJX9miQQIL6fUligJZAJPVP3CdUm0DgD\\u002fNMWTicQLD7wVX05ZhAnJhCS7N\\u002fk0Abo6c7w7WCQEDCwDVAEoJAZFEDcYElg0BnZ7ik8rGEQDO38JcabIVAWs8vNquyhEDi4oBcBAGDQCzzOAUiVoFAGJrWfgZJgED5o07d96V\\u002fQBCEPtsiX39APwCPp3xWf0CuJIZGaF1\\u002fQAadQ8HhYX9AN2UR+A9ef0DaZHAMR1R\\u002fQJrNHqlhSn9ABFcypAhEf0BmCCPsN0F\\u002fQEYOBuWZQH9AsE8cYcZCf0BgI2393FB\\u002fQL2SOgUkj39As5hOsiotgEDmmuoEfh6BQEShi9CvsoJA2XEf+YprhEAWX0bAbkyFQNQXLYFrtoRA9lC7aKgUg0D7zEQk7maBQJ0kd7sGUYBAoZAJETOof0D6il0yL1d\\u002fQOn4arbuQ39A+aa20ORAf0BmqUG+b0N\\u002fQP+JZ17VVX9ACrYRoZ6qf0Cif+XIW2WAQBDRlefAyYFAcF7n1+Y5hEAAiHiplQ2HQHIPKXlmwIhAcOG9vRE2iED6SGR2ruKFQBi0DV9xPYNAb1PeoiVVgUA1d9SlUU+AQEQl68ncvn9AldopQ+SBf0ANUC7YVrd\\u002fQBHPZs1\\u002fOIBAUkU\\u002fZhLagEC09WKU0YyBQKKAKnKK8YFAxwyq+0DcgUCaKuTXRpOBQF3gMiT6fYFAQXSNeA2igUBC2ULI16OBQMOdAFeIQ4FA3rWgPXumgECqzR+VwxyAQGg6AzESnH9Anrm4GyZgf0CEftDgaFR\\u002fQCR9eIrQVn9A6uzeYadXf0C5G95r9lJ\\u002fQInrceOWS39A0DPTTGRGf0AeJ8UhGEp\\u002fQMLC0SVTbX9AtnUtFPf4f0DOLO+oq8KAQGmwtHNDWYJA7BXLdFabhEBsEvjZEJGGQErl4ehI\\u002fIZAJIcvG3WOhUAq8wddJEGDQBrChZodUoFAekbmOB1JgEDqyR1OYAqAQLlDSYYUYoBAlZq3koU0gUBrb6edukaCQNj3rFtDGINAgcD2PnYog0Dbj+5gvmqCQKJ8i5KyVIFA0zjzZiVugEBOgBtsu9x\\u002fQMb8Sl6uhH9AyB0DwTKIf0AvgeQGCq1\\u002fQDzK7s6jyH9AkEZEgdHBf0ByPbAvqJx\\u002fQEesuIi0cX9AVBFjDp5Uf0Acktd250l\\u002fQMyFsBoCUn9AgPOFZ8J1f0Cs6+D5vsF\\u002fQN8x0W01F4BAUN2JlHtKgED54AYXqm+AQDAPdqPpqYBAchZdOolBgUDe41QsU1yCQAhtpEIjzoNAF2iP\\u002fJdFhUDA9J7oVHyGQOZXOOuTFodAS5joSeOmhkCrt17c9yWFQMuTSi\\u002fzPoNALZnkQuYPgkDQiWV+OfOCQAbTnxtwdYdAVnIVJTkckECxzaUfVEqVQODgmAm\\u002fTphA5uaC1QQrl0AcebmoCmmTQPZc\\u002f\\u002fnTDJFASHLNiMDvkkDs06Q1fR+YQFzpboOYVZxAIAConJmnm0CZ93ZQlUCWQB28hzstbI9AByw+yPIyhkD6hXOPMdiBQKcuwgtEa4BAI2Q+oZwlgEBlvjYjP1qAQAuTGwCH+4BAelu6pmTrgUAnFSmc86qCQL0hPuaQrYJArIAmnoTsgUAcva75++uAQKEtDPM8LIBAPE0J+LaYf0Aac4m7AlV\\u002fQGgpHde5Q39AOmjqtH5Af0CLxHTrDEB\\u002fQGd1noECQH9AhRgstgVAf0BIJE50D0B\\u002fQAN+\\u002f\\u002fEhQH9A1VFS7lBAf0ApcMTRSkF\\u002fQAqM20G\\u002fRn9AEtXTn+Bdf0BUarWt\\u002fKR\\u002fQF4EGvYjIIBAZKeIOZeTgECiYIaZxPqAQFZMTgGvEYFA4AfYgirHgEB8ZXOQhFCAQGsB+dop3n9AzP4\\u002fkDd1f0DfDvyybk5\\u002fQLE2GXHLSH9Adb7c9o9bf0AX4jD\\u002faJh\\u002fQCvW8vrSC4BAtkg7cbpmgEDZ9lbOfriAQPpPtHJc2YBAjvqU7P\\u002fHgEDnjcTKaaKAQKg0P1fAfYBAK7VQClNsgEB0\\u002f2rpxq+AQCE13BhVvIFAxj2+5ArNg0BhujZ1nkyGQHsC\\u002fw9764dAXXSWMeC4h0AsEFdz6wqGQLJg2eFDEIRADJ23JdvAgkAx\\u002fkv3o2eCQLm9VzMN0YJAZuqM7lOFg0DxfKzXkeuDQAB1SogemINAvdn+wDSegkDIC6aNT3SBQAjukcSFiYBA46Ha8JEHgECiB80BzsR\\u002fQHd4d5lx+H9A1EiFMeAwgEAI0biHlVWAQEU1reocTIBAluJeJKkagEAK1N3wtMN\\u002fQAflNmK1dn9AWr19ycFWf0BgMx0wXVZ\\u002fQHXJ2mRvaH9AzST9jIiDf0BNxQd1faN\\u002fQOJ0bn6t0H9AjQSCAZYLgEAM8z5vxjWAQJt8MkgpX4BA3IZvW7THgEBv4uVsm36CQBwqmFxss4dAYGesV3xQkUDa+rEIeD6ZQIAlOmxnWaBACb0ZEPPpoUBg32MOQIugQGhj8vifUZpAMqUh9xDYkkD2bq+jDkCKQF2svqoXs4NAyfci+aLZgECXm06xBdJ\\u002fQBPHy9EVWn9ANpEMWY5Df0CVUfFmXkB\\u002fQKIIH28HQH9ATvK5cQBAf0C6\\u002fycFAEB\\u002fQFZqLQAAQH9AHzMBAABAf0AcsQAAAEB\\u002fQOvXGAAAQH9Aayu2AgBAf0BHsvs4AEB\\u002fQKhtFYUDQH9A1rss6ClAf0CusZTgd0F\\u002fQONkG3ftSX9AEni9jaNyf0BhUW4ehwGAQLoBI+ElvIBAMNJZgjgUgkCAXFjuvMWDQOwNhIZyE4VANq0znyRphUBUF\\u002fKETe6EQCLvAfhWJ4RA8H0QYwRHg0AupCLxCz+CQCcCnWvyLoFA1TLIEUNcgED187kwtcp\\u002fQGW3IZvfZ39ADelMJKFJf0ANskLImEZ\\u002fQHNkFPAKXH9A5LoGtmm1f0Bj6Ne761yAQCL9hh1jc4FAX9aF8ZMlg0CAuxZNLw6FQG5yEB1TkYZAoPvn9d9Eh0A0uuX7q\\u002f6GQMjj+OMgwIVAEMcQ\\u002faTog0DR4LwxDDeCQNsPBhxIQ4FAL4soyrUMgUDgnFsUdh2BQCPfXF84BIFAjP+oAUOogEBI+8uQ0juAQAXHy8E48n9AaxxrQsf2f0BkH05foT+AQKSzQPvxpIBAPHBbNcPugECcBqHFSemAQFdZ4Efhl4BAjqsoyOQugEDWjJxUSL5\\u002fQNhcOBrYan9Amnqgi21Lf0DLNyaUN0R\\u002fQIAM5wRnS39Ao\\u002fMKiL1wf0AAifLPBet\\u002fQNIN3jv4kIBAx\\u002f3llhjCgUAh56KT9YCDQKR+XI92QYVAeTQxmNEihkChVNf06LqFQJhIb1cXwoRA+jDi41W4hEB0UqccI6KGQOkxn0Ft7olAgS16tJKojEA2IKT6bRmNQKQGD1tNPotA7npYkZp0iED6DG30YBaGQGA\\u002fXPTCwoRAcpD9Ie9yhEAwhRdpgqaEQAz1I8hzrYRAWX97rOI0hED76dFGXrODQHsmy\\u002fv2W4RACIGewHOCh0Cl0ATbA2SNQBU4yx59ApJAtPJKr0Xuk0AKJkG640yTQDKnwZaJlZBAwk+4M\\u002fWrikBSKSHISdSFQOh+cILcrINAMusgOE7Ng0DkVXHCq\\u002fqEQAkT\\u002f8hoz4VAsfFK\\u002f6WHhUD\\u002fOiNDOmaEQGVvPYjzNoNAoTjPEMqEgkCZkXL5QlWCQCyRzRFlYIJAccoV5B1ZgkDIel1CFSKCQFLvy4oC5oFAtnGzpnT1gUC7zgjRRXCCQFlEzJ9FC4NA8f5kLy9Gg0AmcMZ0sOmCQFKYl+LENYJAjAF+whKKgUAHdzgTdQiBQLvlPvw5noBAHRNIfUU+gEBIq4Z5meN\\u002fQEgWyGeDhX9Al3kjv4Zff0AfhTXwfWt\\u002fQMEcBTG3uX9AWbdrfPg2gEDJaihERMiAQHL3sTGYaYFAZd5rXgbPgUCjQTOtXsKBQMmaEGLqVYFA3bELRCnOgEALGahOwGCAQPsZ9QnBF4BA6bLDWyfOf0AMSizxS4t\\u002fQOu6KwCMYX9AR0aXuytMf0CoGzJVjUN\\u002fQGhzgLnmQH9AF7UgX9NAf0BAcyG8r0R\\u002fQJUYNphtWX9AtdayExytf0C1YgjOjliAQMOfHkrvjIFAFoxEuwSxg0CVzHSPAG2GQFBfIedHpYhAFqTxDSAhiUAxgI9jv5eHQGxwXUWp84RA4m7TdnLpgEA9bQbUBj6AQNj9\\u002fMwRK4BAmqMQjKRggEAKOQTiRZ+AQGQzpdBmuIBAebPZBBqagEC3rBdOzFSAQBVo1H4HCoBAqgJxWKilf0CB1hBNEmt\\u002fQHqXyQhaW39A2VLBKbFuf0D0MP9KmaR\\u002fQA\\u002feF6Nl939AYLleW50mgEATzuoRoj6AQEWBTxhGNoBA0OzHJtYSgEC0nIscHNB\\u002fQAksSlJOlH9AWefJNRaQf0BgApNVruZ\\u002fQA9t7pAxaoBAQp7respPgUAqYcb1FqiCQDvLHRkAKoRAMEET3YpChUA7f7WxinGFQEsfGSeXw4RA4MaqzVzrg0DhQVluqc2DQFy7GpsW2IRAJ0uxmLefhkAQg4TQ3ReIQJg5wjPyVohAFK8mnEBZh0AAwH6NpgOGQAGM9ViTUoVARjTR+ih+hUBhMqkZw+GFQN3ygZa0qYVAhGounX6QhEA6H5r4WQGDQME+hXLeqYFALsM43MUIgUB\\u002fwHVWc0+BQDEVyrIba4JAo5g4uWD6g0C04dUzZk6FQKvCX15nt4VAiezBKqD7hEDUqjy2X4CDQMtKyMVw9YFA8DlvtA7ggEC5q8DKZHOAQFmlYMQdu4BAx0aYov3OgUBW\\u002fWFq7c+DQOLQRli0ooZAI3WOC8GgiUDjZNPQtaqLQOxVB80yzItAerNeetj1iUBmqF4Fow2HQBfBeKBxP4RAzkDSDdRBgkAweA8j7yyBQBK3wKE3z4BAGWlVL3IHgUBi8Zz72dOBQLGMOjNwHYNAaKmN826ChEAcIb9S\\u002fWeFQAqjb9a4WYVA6svmyzdkhEDzNA9f4RGDQHijQ+nwEYJAoSSGXz3cgUAghYrvzYWCQDCYASEivoNAIJLUvTLshEARAH0naXSFQJsVfdt8D4VAcj0np17vg0B7K3f584+CQAcfxaLpYYFAq8e4TmGXgEC6nt+k1yiAQHPuQEHN7H9AU1pO5OnLf0CUfTXV9+h\\u002fQOrplQtdPYBAf\\u002fzMWDj2gEDZTowEjVOCQGb0TwWwUYRAunAyo6qChkC5sneu2R+IQLCYHz6+dYhAfHqWM8Feh0C1FtJMblyFQDX\\u002feeFjOINA20pD3C+JgUCl3HFOUX2AQKGd9Nuh7n9ARmnk7xaKf0Ap6L01XYh\\u002fQMMK8Nzg1X9A1Y\\u002fxLb8+gEA0WSkp58GAQMKt79cEYYFA\\u002fBfMszrugUADIhNGITSCQGSRAuc8FoJAy4dsfBSkgUAhJ2iYlA6BQMMB8kg7jIBALA0A0yNGgEBDD7Rqm1iAQMizHh+Q2YBA7q8EoVvQgUDN7ITe0hyDQHnD4dlXZ4RAHbiuTKM5hUAQbvH8KT6FQKgoJkg6d4RAHIJew389g0C35wsI0weCQJ6y\\u002fUAdLIFA+X+qEojDgEACyKyozrWAQMwmK06E1oBAw+w3NkMAgUCqrTFzyyKBQPltJKTDP4FAbZljtORagUCkRQItW2yBQE\\u002f45IS2YoFANoYz8SUygUATIDKOJeGAQKrCEKlihoBA\\u002fixSA\\u002fA6gEC41bMjHg2AQC\\u002fODGyZ+H9A\\u002fJ6RQF76f0BqGwCGnQGAQPsqvIdC\\u002f39Aisl2DpHqf0BqJ0hvP9F\\u002fQNyK0TBDyn9ApWDsf3zxf0Da\\u002fOG6CzGAQFH0Br\\u002fwloBAgFmA95ongUC17ZOU0M2BQO+CqumoYoJAfchsmqG6gkDsULisNLuCQBqSE4EFbYJAxDV+tAAAgkB6MWqRMsCBQEqB7TvRAIJAuMXZLscAg0BoqQZ5lsmEQHUeBjfhEodA0zCKR6tDiUBaV0LaS6WKQOaooAM8uIpApj68H+t1iUDqBEtKzU+HQOKL1pqY7YRAuJxiegfcgkDBImxDJ1+BQNSH2\\u002fAedoBAltjDJB32f0C6m0lv4oR\\u002fQJaFIro4V39AVJMUYAtHf0BfVL17L0J\\u002fQGqh+T6yQX9A3rg7g3JEf0AA7SqaT01\\u002fQGkfXlqcY39AGjf1Bc+Tf0CcHFBcxO1\\u002fQDpsZwhAP4BAUTimqGGjgEA4JiqAgBqBQIT9SeFYlYFAIbO5CMkGgkClHUzNM2yCQHR+PFzzzIJA6XCR1aUug0Dq2jskZoeDQNP9vRagu4NA4jf3DI2sg0CbwwranU2DQFFgG0R0sIJAkiylrsD+gUBqWCVtOmeBQGb23IRXCoFAQzH\\u002fGVzwgEAPiR2vxQqBQKz0dpDWPYFAkVqr6VBtgUCFMvYPK4eBQFI77JTAh4FAtNsKmQ12gUBLzhiiPFuBQF2ZMoqyO4FAxGLZiAAWgUD1Dx6JHueAQM3\\u002f5Qdxr4BAHpWPbWl0gECBcdrPBj6AQNxmVo60EoBA9vjn8Tjpf0CyE5t8oMN\\u002fQNnpqPY+rX9AjEZ\\u002fLguhf0DZeodc5qB\\u002fQMfSROLst39AIE\\u002frLhX6f0A9h33f\\u002fT+AQGTXW6K2roBAExybh8BJgUC8PMFd9wGCQKjg0gh+t4JALGYb1FxBg0DyPDF5JXyDQJWB8U2LWINAvXMiVLDhgkCCcb0QpzeCQFTzyVrpgYFAkmuCusDhgECpSzVMK2uAQImWa5+oJYBAzLcu6KcRgEAW9SNhsC2AQCXkU8\\u002fLd4BAIwahjrzqgEBfXKXnfHmBQP5nvIsKDYJABgSRepiHgkA2OtSrCs2CQIR5j3DtzIJA7639ZpaIgkDygcyMHhKCQHVdZe0XhYFAAPn2TUP9gEAiaDGK6Y+AQOTnsZgNSoBANByME3IygECe\\u002fvkickyAQF44RJPOmIBAXvFlbnATgUBM\\u002fkJrqK+BQD6czYYwVoJAMOfcPu3ngkCqK4\\u002fS4kWDQHpcaEBjW4NAgACb43olg0C26vJnrrOCQHiCiLWoIYJAkCpSGiONgUDAjZBaywyBQLOhx0Whq4BAWLaLWoFpgEDfrYXnLj+AQOKF5jNGI4BARQyIAgEOgEDuxDay0\\u002fV\\u002fQEAmb7J00X9ARcaxr4Gwf0Dbk9EycJZ\\u002fQCGn94hJh39Aiia8X56Hf0Ds8ywvDJ1\\u002fQKAZ6MNGzn9AEZ7LfOAQgEDVgxijY02AQGJW3cv2moBAZzthPkvzgEDzzIr2tkuBQC94p+xOl4FA5iKHQlTKgUDmATBNod2BQE7jVFyk0IFAZNTy7B6pgUBHTtXc6nCBQFlCDqPWMoFAq1RhEtn3gEA2IVM0eMWAQAMrp9+cnYBAlFJOrYR\\u002fgEAfHpO7PGmAQK2pqqoFWYBA1r4LBCROgEAHNX1S40iAQAUTO5XnSYBAURE4vjZRgEDCT3qciF2AQE53xQBPbIBA0zcwTI96gEBSxlFFOIaAQAz5ac1Rj4BA1GB4XmKYgECBvYOatqWAQIk8bRK3u4BA5hLPUOzcgEDnh8lKgQiBQLU\\u002fF4vnOYFAaMvz2clpgUCg69Zt8Y+BQPIag3hnpYFAmFZfaRimgUAknoiAiJGBQNLazTKUaoFA121j24s2gUBv08SEGvyAQBaA9tBXwoBAU9VtvT+QgEAm3UchqGyAQGmYqKOwXoBA1o+gv4pugEBB9WsYR6aAQL8izI8YEoFAa0NBelW\\u002fgUDi9cJ6obmCQLPzwQhBBoRACFeLVJSehUBUI+DcuGuHQDoWjxi8RYlABHP1kRz4ikB+eUDDjkuMQN1ziFO+Eo1AisXDEiI2jUD\\u002fXJxJ1bqMQFwgtgrzwYtAcCGL2oGAikB6zvgteTKJQGTZLvPTDIhAgG0oP5Yyh0CyRVScZ6+GQNKbgPiGeIZAMXGwbhBzhkBAPY5YSH2GQC4lqWkeeIZA1mk5HmdOhkA\\u002f4eTjO\\u002fiFQL4HflQ8eoVAhs2dH6ThhEDp9\\u002fHg7z6EQB31LzLpoINAL59gSnMRg0CGFPfsmZSCQGKDgeKPKYJA5oA08sLMgUAxrsuBD3qBQLYGFdNcLoFAqP+g+lXogEA6Rwi8WKiAQJEi5WPwb4BA750x0D1BgEDEJ9nZkR6AQL+NlflQCoBA1z3N0QoHgEBb+RGdlBeAQDzF3zbxPoBAKgTRueR\\u002fgEB2UL62NtyAQMR5ex\\u002fRU4FAlJobwQrkgUBaphLlcYeCQGbl9PVMNoNA2DoJ\\u002fsjng0BufBBJhpOEQKt9PeoBM4VA0tMxcVrChUBIX39TJkCGQKTKzK9wrIZAKzzGFk4Hh0AgyOk3rU+HQOc4izP2godAYp+4u7udh0DGwxkLU52HQLOX0TfHgYdASrcpe25Ph0BCQXkDfA+HQNmVjA81z4ZA0Xa4nNidhkAaNTo8rImGQPxxkpLinIZAM5I3oCDbhkD4fUUrRECHQMqVN7fBwIdA9Yih145LiECqjFC2Ls2IQFC3LFYyM4lABOgl+2VviUBGYfYX\\u002f3mJQNDSz0xiUolAhGLAu3P+iECwYt\\u002fqu4iIQB5u+2zp\\u002fYdAyzFGb01qh0Dx3\\u002f103deGQJ+eqScRTYZAepna5bHMhUCMWmDHdVaFQGk17\\u002fwX6IRApA40ppN+hECauESpMheEQLAZ30w\\u002fsINADOWX7UlJg0C0zsu1EeOCQB\\u002fdyjgxf4JA0Ml3gLQfgkBDVtTut8aBQDRt+wMjdoFAC7w5pYQvgUClB2y3C\\u002fSAQLrbBrSQxIBABiWQlKOhgEBMLGITlIuAQLnKEEhvgoBA6hIwX\\u002fOFgEAOwe0Ef5WAQNC4gc4EsIBAIHNZxArUgEBxYyQju\\u002f+AQJNMNkwGMYFAETX3MtBlgUA\\u002fiVc1H5yBQFr1mM9A0oFAgALEwdoGgkAY6\\u002fuZ5DiCQM5+jZ2MZ4JAdxZ\\u002fhxGSgkAb4+NonreCQCkPddc114JASOiydbXvgkCRvdny8\\u002f+CQCX2RPPzBoNAZG4RFiAEg0CfWvovgfeCQL7XQorg4YJANG9aIczEgkAnpXFLeaKCQDq1jzmJfYJAcq341rhYgkBPm\\u002fhyiTaCQF6i5sfwGIJA4kmxWh0BgkD6iaZcWO+BQDj2IQcJ44FAmp0L1tfagUCQYl8L69SBQCMed04yz4FAwfeQhbXHgUDaezBb27yBQKwzUgOerYFAL449QqiZgUAwZtK\\u002fWIGBQEMukZ+tZYFAN+LUjB1IgUCp28qFZSqBQAglwoVTDoFAXISTzpX1gECkW74uleGAQJa1Xole04BAjn79Z53LgEBMGkLMpsqAQA==\"},\"type\":\"scatter\"},{\"line\":{\"color\":\"rgb(44, 160, 44)\"},\"mode\":\"lines\",\"name\":\"Residual (Imeas - Icalc)\",\"x\":{\"dtype\":\"f8\",\"bdata\":\"G55eKcswIEBO0ZFc\\u002fmMgQIEExY8xlyBAtTf4wmTKIEDoaiv2l\\u002f0gQBueXinLMCFATtGRXP5jIUCBBMWPMZchQLU3+MJkyiFA6Gor9pf9IUAbnl4pyzAiQE7RkVz+YyJAgQTFjzGXIkC1N\\u002fjCZMoiQOhqK\\u002faX\\u002fSJAG55eKcswI0BO0ZFc\\u002fmMjQIEExY8xlyNAtTf4wmTKI0Doaiv2l\\u002f0jQBueXinLMCRATtGRXP5jJECBBMWPMZckQLU3+MJkyiRA6Gor9pf9JEAbnl4pyzAlQE7RkVz+YyVAgQTFjzGXJUC1N\\u002fjCZMolQOhqK\\u002faX\\u002fSVAG55eKcswJkBO0ZFc\\u002fmMmQIEExY8xlyZAtTf4wmTKJkDoaiv2l\\u002f0mQBueXinLMCdATtGRXP5jJ0CBBMWPMZcnQLU3+MJkyidA6Gor9pf9J0Abnl4pyzAoQE7RkVz+YyhAgQTFjzGXKEC1N\\u002fjCZMooQOhqK\\u002faX\\u002fShAG55eKcswKUBO0ZFc\\u002fmMpQIEExY8xlylAtTf4wmTKKUDoaiv2l\\u002f0pQBueXinLMCpATtGRXP5jKkCBBMWPMZcqQLU3+MJkyipA6Gor9pf9KkAbnl4pyzArQE7RkVz+YytAgQTFjzGXK0C1N\\u002fjCZMorQOhqK\\u002faX\\u002fStAG55eKcswLEBO0ZFc\\u002fmMsQIEExY8xlyxAtTf4wmTKLEDoaiv2l\\u002f0sQBueXinLMC1ATtGRXP5jLUCBBMWPMZctQLU3+MJkyi1A6Gor9pf9LUAbnl4pyzAuQE7RkVz+Yy5AgQTFjzGXLkC1N\\u002fjCZMouQOhqK\\u002faX\\u002fS5AG55eKcswL0BO0ZFc\\u002fmMvQIEExY8xly9AtTf4wmTKL0Doaiv2l\\u002f0vQA5Pr5RlGDBAp+hILv8xMEBBguLHmEswQNobfGEyZTBAdLUV+8t+MEAOT6+UZZgwQKfoSC7\\u002fsTBAQYLix5jLMEDaG3xhMuUwQHS1FfvL\\u002fjBADk+vlGUYMUCn6Egu\\u002fzExQEGC4seYSzFA2ht8YTJlMUB0tRX7y34xQA5Pr5RlmDFAp+hILv+xMUBBguLHmMsxQNobfGEy5TFAdLUV+8v+MUAOT6+UZRgyQKfoSC7\\u002fMTJAQYLix5hLMkDaG3xhMmUyQHS1FfvLfjJADk+vlGWYMkCn6Egu\\u002f7EyQEGC4seYyzJA2ht8YTLlMkB0tRX7y\\u002f4yQA5Pr5RlGDNAp+hILv8xM0BBguLHmEszQNobfGEyZTNAdLUV+8t+M0AOT6+UZZgzQKfoSC7\\u002fsTNAQYLix5jLM0DaG3xhMuUzQHS1FfvL\\u002fjNADk+vlGUYNECn6Egu\\u002fzE0QEGC4seYSzRA2ht8YTJlNEB0tRX7y340QA5Pr5RlmDRAp+hILv+xNEBBguLHmMs0QNobfGEy5TRAdLUV+8v+NEAOT6+UZRg1QKfoSC7\\u002fMTVAQYLix5hLNUDaG3xhMmU1QHS1FfvLfjVADk+vlGWYNUCn6Egu\\u002f7E1QEGC4seYyzVA2ht8YTLlNUB0tRX7y\\u002f41QA5Pr5RlGDZAp+hILv8xNkBBguLHmEs2QNobfGEyZTZAdLUV+8t+NkAOT6+UZZg2QKfoSC7\\u002fsTZAQYLix5jLNkDaG3xhMuU2QHS1FfvL\\u002fjZADk+vlGUYN0Cn6Egu\\u002fzE3QEGC4seYSzdA2ht8YTJlN0B0tRX7y343QA5Pr5RlmDdAp+hILv+xN0BBguLHmMs3QNobfGEy5TdAdLUV+8v+N0AOT6+UZRg4QKfoSC7\\u002fMThAQYLix5hLOEDaG3xhMmU4QHS1FfvLfjhADk+vlGWYOECn6Egu\\u002f7E4QEGC4seYyzhA2ht8YTLlOEB0tRX7y\\u002f44QA5Pr5RlGDlAp+hILv8xOUBBguLHmEs5QNobfGEyZTlAdLUV+8t+OUAOT6+UZZg5QKfoSC7\\u002fsTlAQYLix5jLOUDaG3xhMuU5QHS1FfvL\\u002fjlADk+vlGUYOkCn6Egu\\u002fzE6QEGC4seYSzpA2ht8YTJlOkB0tRX7y346QA5Pr5RlmDpAp+hILv+xOkBBguLHmMs6QNobfGEy5TpAdLUV+8v+OkAOT6+UZRg7QKfoSC7\\u002fMTtAQYLix5hLO0DaG3xhMmU7QHS1FfvLfjtADk+vlGWYO0Cn6Egu\\u002f7E7QEGC4seYyztA2ht8YTLlO0B0tRX7y\\u002f47QA5Pr5RlGDxAp+hILv8xPEBBguLHmEs8QNobfGEyZTxAdLUV+8t+PEAOT6+UZZg8QKfoSC7\\u002fsTxAQYLix5jLPEDaG3xhMuU8QHS1FfvL\\u002fjxADk+vlGUYPUCn6Egu\\u002fzE9QEGC4seYSz1A2ht8YTJlPUB0tRX7y349QA5Pr5RlmD1Ap+hILv+xPUBBguLHmMs9QNobfGEy5T1AdLUV+8v+PUAOT6+UZRg+QKfoSC7\\u002fMT5AQYLix5hLPkDaG3xhMmU+QHS1FfvLfj5ADk+vlGWYPkCn6Egu\\u002f7E+QEGC4seYyz5A2ht8YTLlPkB0tRX7y\\u002f4+QA5Pr5RlGD9Ap+hILv8xP0BBguLHmEs\\u002fQNobfGEyZT9AdLUV+8t+P0AOT6+UZZg\\u002fQKfoSC7\\u002fsT9AQYLix5jLP0DaG3xhMuU\\u002fQHS1FfvL\\u002fj9Ah6dXyjIMQEBUdCSX\\u002fxhAQCBB8WPMJUBA7Q2+MJkyQEC62or9ZT9AQIenV8oyTEBAVHQkl\\u002f9YQEAgQfFjzGVAQO0NvjCZckBAutqK\\u002fWV\\u002fQECHp1fKMoxAQFR0JJf\\u002fmEBAIEHxY8ylQEDtDb4wmbJAQLraiv1lv0BAh6dXyjLMQEBUdCSX\\u002f9hAQCBB8WPM5UBA7Q2+MJnyQEC62or9Zf9AQIenV8oyDEFAVHQkl\\u002f8YQUAgQfFjzCVBQO0NvjCZMkFAutqK\\u002fWU\\u002fQUCHp1fKMkxBQFR0JJf\\u002fWEFAIEHxY8xlQUDtDb4wmXJBQLraiv1lf0FAh6dXyjKMQUBUdCSX\\u002f5hBQCBB8WPMpUFA7Q2+MJmyQUC62or9Zb9BQIenV8oyzEFAVHQkl\\u002f\\u002fYQUAgQfFjzOVBQO0NvjCZ8kFAutqK\\u002fWX\\u002fQUCHp1fKMgxCQFR0JJf\\u002fGEJAIEHxY8wlQkDtDb4wmTJCQLraiv1lP0JAh6dXyjJMQkBUdCSX\\u002f1hCQCBB8WPMZUJA7Q2+MJlyQkC62or9ZX9CQIenV8oyjEJAVHQkl\\u002f+YQkAgQfFjzKVCQO0NvjCZskJAutqK\\u002fWW\\u002fQkCHp1fKMsxCQFR0JJf\\u002f2EJAIEHxY8zlQkDtDb4wmfJCQLraiv1l\\u002f0JAh6dXyjIMQ0BUdCSX\\u002fxhDQCBB8WPMJUNA7Q2+MJkyQ0C62or9ZT9DQIenV8oyTENAVHQkl\\u002f9YQ0AgQfFjzGVDQO0NvjCZckNAutqK\\u002fWV\\u002fQ0CHp1fKMoxDQFR0JJf\\u002fmENAIEHxY8ylQ0DtDb4wmbJDQLraiv1lv0NAh6dXyjLMQ0BUdCSX\\u002f9hDQCBB8WPM5UNA7Q2+MJnyQ0C62or9Zf9DQIenV8oyDERAVHQkl\\u002f8YREAgQfFjzCVEQO0NvjCZMkRAutqK\\u002fWU\\u002fRECHp1fKMkxEQFR0JJf\\u002fWERAIEHxY8xlREDtDb4wmXJEQLraiv1lf0RAh6dXyjKMREBUdCSX\\u002f5hEQCBB8WPMpURA7Q2+MJmyREC62or9Zb9EQIenV8oyzERAVHQkl\\u002f\\u002fYREAgQfFjzOVEQO0NvjCZ8kRAutqK\\u002fWX\\u002fRECHp1fKMgxFQFR0JJf\\u002fGEVAIEHxY8wlRUDtDb4wmTJFQLraiv1lP0VAh6dXyjJMRUBUdCSX\\u002f1hFQCBB8WPMZUVA7Q2+MJlyRUC62or9ZX9FQIenV8oyjEVAVHQkl\\u002f+YRUAgQfFjzKVFQO0NvjCZskVAutqK\\u002fWW\\u002fRUCHp1fKMsxFQFR0JJf\\u002f2EVAIEHxY8zlRUDtDb4wmfJFQLraiv1l\\u002f0VAh6dXyjIMRkBUdCSX\\u002fxhGQCBB8WPMJUZA7Q2+MJkyRkC62or9ZT9GQIenV8oyTEZAVHQkl\\u002f9YRkAgQfFjzGVGQO0NvjCZckZAutqK\\u002fWV\\u002fRkCHp1fKMoxGQFR0JJf\\u002fmEZAIEHxY8ylRkDtDb4wmbJGQLraiv1lv0ZAh6dXyjLMRkBUdCSX\\u002f9hGQCBB8WPM5UZA7Q2+MJnyRkC62or9Zf9GQIenV8oyDEdAVHQkl\\u002f8YR0AgQfFjzCVHQO0NvjCZMkdAutqK\\u002fWU\\u002fR0CHp1fKMkxHQFR0JJf\\u002fWEdAIEHxY8xlR0DtDb4wmXJHQLraiv1lf0dAh6dXyjKMR0BUdCSX\\u002f5hHQCBB8WPMpUdA7Q2+MJmyR0C62or9Zb9HQIenV8oyzEdAVHQkl\\u002f\\u002fYR0AgQfFjzOVHQO0NvjCZ8kdAutqK\\u002fWX\\u002fR0CHp1fKMgxIQFR0JJf\\u002fGEhAIEHxY8wlSEDtDb4wmTJIQLraiv1lP0hAh6dXyjJMSEBUdCSX\\u002f1hIQCBB8WPMZUhA7Q2+MJlySEC62or9ZX9IQIenV8oyjEhAVHQkl\\u002f+YSEAgQfFjzKVIQO0NvjCZskhAutqK\\u002fWW\\u002fSECHp1fKMsxIQFR0JJf\\u002f2EhAIEHxY8zlSEDtDb4wmfJIQLraiv1l\\u002f0hAh6dXyjIMSUBUdCSX\\u002fxhJQCBB8WPMJUlA7Q2+MJkySUC62or9ZT9JQIenV8oyTElAVHQkl\\u002f9YSUAgQfFjzGVJQO0NvjCZcklAutqK\\u002fWV\\u002fSUCHp1fKMoxJQFR0JJf\\u002fmElAIEHxY8ylSUDtDb4wmbJJQLraiv1lv0lAh6dXyjLMSUBUdCSX\\u002f9hJQCBB8WPM5UlA7Q2+MJnySUC62or9Zf9JQIenV8oyDEpAVHQkl\\u002f8YSkAgQfFjzCVKQO0NvjCZMkpAutqK\\u002fWU\\u002fSkCHp1fKMkxKQFR0JJf\\u002fWEpAIEHxY8xlSkDtDb4wmXJKQLraiv1lf0pAh6dXyjKMSkBUdCSX\\u002f5hKQCBB8WPMpUpA7Q2+MJmySkC62or9Zb9KQIenV8oyzEpAVHQkl\\u002f\\u002fYSkAgQfFjzOVKQO0NvjCZ8kpAutqK\\u002fWX\\u002fSkCHp1fKMgxLQFR0JJf\\u002fGEtAIEHxY8wlS0DtDb4wmTJLQLraiv1lP0tAh6dXyjJMS0BUdCSX\\u002f1hLQCBB8WPMZUtA7Q2+MJlyS0C62or9ZX9LQIenV8oyjEtAVHQkl\\u002f+YS0AgQfFjzKVLQO0NvjCZsktAutqK\\u002fWW\\u002fS0CHp1fKMsxLQFR0JJf\\u002f2EtAIEHxY8zlS0DtDb4wmfJLQLraiv1l\\u002f0tAh6dXyjIMTEBUdCSX\\u002fxhMQCBB8WPMJUxA7Q2+MJkyTEC62or9ZT9MQIenV8oyTExAVHQkl\\u002f9YTEAgQfFjzGVMQO0NvjCZckxAutqK\\u002fWV\\u002fTECHp1fKMoxMQFR0JJf\\u002fmExAIEHxY8ylTEDtDb4wmbJMQLraiv1lv0xAh6dXyjLMTEBUdCSX\\u002f9hMQCBB8WPM5UxA7Q2+MJnyTEC62or9Zf9MQIenV8oyDE1AVHQkl\\u002f8YTUAgQfFjzCVNQO0NvjCZMk1AutqK\\u002fWU\\u002fTUCHp1fKMkxNQFR0JJf\\u002fWE1AIEHxY8xlTUDtDb4wmXJNQLraiv1lf01Ah6dXyjKMTUBUdCSX\\u002f5hNQCBB8WPMpU1A7Q2+MJmyTUC62or9Zb9NQIenV8oyzE1AVHQkl\\u002f\\u002fYTUAgQfFjzOVNQO0NvjCZ8k1AutqK\\u002fWX\\u002fTUCHp1fKMgxOQFR0JJf\\u002fGE5AIEHxY8wlTkDtDb4wmTJOQLraiv1lP05Ah6dXyjJMTkBUdCSX\\u002f1hOQCBB8WPMZU5A7Q2+MJlyTkC62or9ZX9OQIenV8oyjE5AVHQkl\\u002f+YTkAgQfFjzKVOQO0NvjCZsk5AutqK\\u002fWW\\u002fTkCHp1fKMsxOQFR0JJf\\u002f2E5AIEHxY8zlTkDtDb4wmfJOQLraiv1l\\u002f05Ah6dXyjIMT0BUdCSX\\u002fxhPQCBB8WPMJU9A7Q2+MJkyT0C62or9ZT9PQIenV8oyTE9AVHQkl\\u002f9YT0AgQfFjzGVPQO0NvjCZck9AutqK\\u002fWV\\u002fT0CHp1fKMoxPQFR0JJf\\u002fmE9AIEHxY8ylT0DtDb4wmbJPQLraiv1lv09Ah6dXyjLMT0BUdCSX\\u002f9hPQCBB8WPM5U9A7Q2+MJnyT0C62or9Zf9PQMPTK2UZBlBAKjqSy38MUECQoPgx5hJQQPcGX5hMGVBAXW3F\\u002frIfUECQoPgx5jJQQPcGX5hMOVBAXW3F\\u002frI\\u002fUEDD0ytlGUZQQCo6kst\\u002fTFBAkKD4MeZSUED3Bl+YTFlQQF1txf6yX1BAw9MrZRlmUEAqOpLLf2xQQJCg+DHmclBA9wZfmEx5UEBdbcX+sn9QQMPTK2UZhlBAKjqSy3+MUECQoPgx5pJQQPcGX5hMmVBAXW3F\\u002frKfUEDD0ytlGaZQQCo6kst\\u002frFBAkKD4MeayUED3Bl+YTLlQQF1txf6yv1BAw9MrZRnGUEAqOpLLf8xQQJCg+DHm0lBA9wZfmEzZUEBdbcX+st9QQMPTK2UZ5lBAKjqSy3\\u002fsUECQoPgx5vJQQPcGX5hM+VBAXW3F\\u002frL\\u002fUEDD0ytlGQZRQCo6kst\\u002fDFFAkKD4MeYSUUD3Bl+YTBlRQF1txf6yH1FAw9MrZRkmUUAqOpLLfyxRQJCg+DHmMlFA9wZfmEw5UUBdbcX+sj9RQMPTK2UZRlFAKjqSy39MUUCQoPgx5lJRQPcGX5hMWVFAXW3F\\u002frJfUUDD0ytlGWZRQCo6kst\\u002fbFFAkKD4MeZyUUD3Bl+YTHlRQF1txf6yf1FAw9MrZRmGUUAqOpLLf4xRQJCg+DHmklFA9wZfmEyZUUBdbcX+sp9RQMPTK2UZplFAKjqSy3+sUUCQoPgx5rJRQPcGX5hMuVFAXW3F\\u002frK\\u002fUUDD0ytlGcZRQCo6kst\\u002fzFFAkKD4MebSUUD3Bl+YTNlRQF1txf6y31FAw9MrZRnmUUAqOpLLf+xRQJCg+DHm8lFA9wZfmEz5UUBdbcX+sv9RQMPTK2UZBlJAKjqSy38MUkCQoPgx5hJSQPcGX5hMGVJAXW3F\\u002frIfUkDD0ytlGSZSQCo6kst\\u002fLFJAkKD4MeYyUkD3Bl+YTDlSQF1txf6yP1JAw9MrZRlGUkAqOpLLf0xSQJCg+DHmUlJA9wZfmExZUkBdbcX+sl9SQMPTK2UZZlJAKjqSy39sUkCQoPgx5nJSQPcGX5hMeVJAXW3F\\u002frJ\\u002fUkDD0ytlGYZSQCo6kst\\u002fjFJAkKD4MeaSUkD3Bl+YTJlSQF1txf6yn1JAw9MrZRmmUkAqOpLLf6xSQJCg+DHmslJA9wZfmEy5UkBdbcX+sr9SQMPTK2UZxlJAKjqSy3\\u002fMUkCQoPgx5tJSQPcGX5hM2VJAXW3F\\u002frLfUkDD0ytlGeZSQCo6kst\\u002f7FJAkKD4MebyUkD3Bl+YTPlSQF1txf6y\\u002f1JAw9MrZRkGU0AqOpLLfwxTQJCg+DHmElNA9wZfmEwZU0BdbcX+sh9TQMPTK2UZJlNAKjqSy38sU0CQoPgx5jJTQPcGX5hMOVNAXW3F\\u002frI\\u002fU0DD0ytlGUZTQCo6kst\\u002fTFNAkKD4MeZSU0D3Bl+YTFlTQF1txf6yX1NAw9MrZRlmU0AqOpLLf2xTQJCg+DHmclNA9wZfmEx5U0BdbcX+sn9TQMPTK2UZhlNAKjqSy3+MU0CQoPgx5pJTQPcGX5hMmVNAXW3F\\u002frKfU0DD0ytlGaZTQCo6kst\\u002frFNAkKD4MeayU0D3Bl+YTLlTQF1txf6yv1NAw9MrZRnGU0AqOpLLf8xTQJCg+DHm0lNA9wZfmEzZU0BdbcX+st9TQMPTK2UZ5lNAKjqSy3\\u002fsU0CQoPgx5vJTQPcGX5hM+VNAXW3F\\u002frL\\u002fU0DD0ytlGQZUQCo6kst\\u002fDFRAkKD4MeYSVED3Bl+YTBlUQF1txf6yH1RAw9MrZRkmVEAqOpLLfyxUQJCg+DHmMlRA9wZfmEw5VEBdbcX+sj9UQMPTK2UZRlRAKjqSy39MVECQoPgx5lJUQPcGX5hMWVRAXW3F\\u002frJfVEDD0ytlGWZUQCo6kst\\u002fbFRAkKD4MeZyVED3Bl+YTHlUQF1txf6yf1RAw9MrZRmGVEAqOpLLf4xUQJCg+DHmklRA9wZfmEyZVEBdbcX+sp9UQMPTK2UZplRAKjqSy3+sVECQoPgx5rJUQPcGX5hMuVRAXW3F\\u002frK\\u002fVEDD0ytlGcZUQCo6kst\\u002fzFRAkKD4MebSVED3Bl+YTNlUQF1txf6y31RAw9MrZRnmVEAqOpLLf+xUQJCg+DHm8lRA9wZfmEz5VEBdbcX+sv9UQMPTK2UZBlVAKjqSy38MVUCQoPgx5hJVQPcGX5hMGVVAXW3F\\u002frIfVUDD0ytlGSZVQCo6kst\\u002fLFVAkKD4MeYyVUD3Bl+YTDlVQF1txf6yP1VAw9MrZRlGVUAqOpLLf0xVQJCg+DHmUlVA9wZfmExZVUBdbcX+sl9VQMPTK2UZZlVAKjqSy39sVUCQoPgx5nJVQPcGX5hMeVVAXW3F\\u002frJ\\u002fVUDD0ytlGYZVQCo6kst\\u002fjFVAkKD4MeaSVUD3Bl+YTJlVQF1txf6yn1VAw9MrZRmmVUAqOpLLf6xVQJCg+DHmslVA9wZfmEy5VUBdbcX+sr9VQMPTK2UZxlVAKjqSy3\\u002fMVUCQoPgx5tJVQPcGX5hM2VVAXW3F\\u002frLfVUDD0ytlGeZVQCo6kst\\u002f7FVAkKD4MebyVUD3Bl+YTPlVQF1txf6y\\u002f1VAw9MrZRkGVkAqOpLLfwxWQJCg+DHmElZA9wZfmEwZVkBdbcX+sh9WQMPTK2UZJlZAKjqSy38sVkCQoPgx5jJWQPcGX5hMOVZAXW3F\\u002frI\\u002fVkDD0ytlGUZWQCo6kst\\u002fTFZAkKD4MeZSVkD3Bl+YTFlWQF1txf6yX1ZAw9MrZRlmVkAqOpLLf2xWQJCg+DHmclZA9wZfmEx5VkBdbcX+sn9WQMPTK2UZhlZAKjqSy3+MVkCQoPgx5pJWQPcGX5hMmVZAXW3F\\u002frKfVkDD0ytlGaZWQCo6kst\\u002frFZAkKD4MeayVkD3Bl+YTLlWQF1txf6yv1ZAw9MrZRnGVkAqOpLLf8xWQJCg+DHm0lZA9wZfmEzZVkBdbcX+st9WQMPTK2UZ5lZAKjqSy3\\u002fsVkCQoPgx5vJWQPcGX5hM+VZAXW3F\\u002frL\\u002fVkDD0ytlGQZXQCo6kst\\u002fDFdAkKD4MeYSV0D3Bl+YTBlXQF1txf6yH1dAw9MrZRkmV0AqOpLLfyxXQJCg+DHmMldA9wZfmEw5V0BdbcX+sj9XQMPTK2UZRldAKjqSy39MV0CQoPgx5lJXQPcGX5hMWVdAXW3F\\u002frJfV0DD0ytlGWZXQCo6kst\\u002fbFdAkKD4MeZyV0D3Bl+YTHlXQF1txf6yf1dAw9MrZRmGV0AqOpLLf4xXQJCg+DHmkldA9wZfmEyZV0BdbcX+sp9XQMPTK2UZpldAKjqSy3+sV0CQoPgx5rJXQPcGX5hMuVdAXW3F\\u002frK\\u002fV0DD0ytlGcZXQCo6kst\\u002fzFdAkKD4MebSV0D3Bl+YTNlXQF1txf6y31dAw9MrZRnmV0AqOpLLf+xXQJCg+DHm8ldA9wZfmEz5V0BdbcX+sv9XQMPTK2UZBlhAKjqSy38MWECQoPgx5hJYQPcGX5hMGVhAXW3F\\u002frIfWEDD0ytlGSZYQCo6kst\\u002fLFhAkKD4MeYyWED3Bl+YTDlYQF1txf6yP1hAw9MrZRlGWEAqOpLLf0xYQJCg+DHmUlhA9wZfmExZWEBdbcX+sl9YQMPTK2UZZlhAKjqSy39sWECQoPgx5nJYQPcGX5hMeVhAXW3F\\u002frJ\\u002fWEDD0ytlGYZYQCo6kst\\u002fjFhAkKD4MeaSWED3Bl+YTJlYQF1txf6yn1hAw9MrZRmmWEAqOpLLf6xYQJCg+DHmslhA9wZfmEy5WEBdbcX+sr9YQMPTK2UZxlhAKjqSy3\\u002fMWECQoPgx5tJYQPcGX5hM2VhAXW3F\\u002frLfWEDD0ytlGeZYQCo6kst\\u002f7FhAkKD4MebyWED3Bl+YTPlYQF1txf6y\\u002f1hAw9MrZRkGWUAqOpLLfwxZQJCg+DHmEllA9wZfmEwZWUBdbcX+sh9ZQMPTK2UZJllAKjqSy38sWUCQoPgx5jJZQPcGX5hMOVlAXW3F\\u002frI\\u002fWUDD0ytlGUZZQCo6kst\\u002fTFlAkKD4MeZSWUD3Bl+YTFlZQF1txf6yX1lAw9MrZRlmWUAqOpLLf2xZQJCg+DHmcllA9wZfmEx5WUBdbcX+sn9ZQMPTK2UZhllAKjqSy3+MWUCQoPgx5pJZQPcGX5hMmVlAXW3F\\u002frKfWUDD0ytlGaZZQCo6kst\\u002frFlA9wZfmEy5WUBdbcX+sr9ZQMPTK2UZxllAKjqSy3\\u002fMWUCQoPgx5tJZQPcGX5hM2VlAXW3F\\u002frLfWUDD0ytlGeZZQCo6kst\\u002f7FlAkKD4MebyWUD3Bl+YTPlZQF1txf6y\\u002f1lAw9MrZRkGWkAqOpLLfwxaQJCg+DHmElpA9wZfmEwZWkBdbcX+sh9aQMPTK2UZJlpAKjqSy38sWkCQoPgx5jJaQPcGX5hMOVpAXW3F\\u002frI\\u002fWkDD0ytlGUZaQCo6kst\\u002fTFpAkKD4MeZSWkD3Bl+YTFlaQF1txf6yX1pAw9MrZRlmWkAqOpLLf2xaQJCg+DHmclpA9wZfmEx5WkBdbcX+sn9aQMPTK2UZhlpAKjqSy3+MWkCQoPgx5pJaQPcGX5hMmVpAXW3F\\u002frKfWkDD0ytlGaZaQCo6kst\\u002frFpAkKD4MeayWkD3Bl+YTLlaQF1txf6yv1pAw9MrZRnGWkAqOpLLf8xaQJCg+DHm0lpA9wZfmEzZWkBdbcX+st9aQMPTK2UZ5lpAKjqSy3\\u002fsWkCQoPgx5vJaQPcGX5hM+VpAXW3F\\u002frL\\u002fWkDD0ytlGQZbQCo6kst\\u002fDFtAkKD4MeYSW0D3Bl+YTBlbQF1txf6yH1tAw9MrZRkmW0AqOpLLfyxbQJCg+DHmMltA9wZfmEw5W0BdbcX+sj9bQMPTK2UZRltAKjqSy39MW0CQoPgx5lJbQPcGX5hMWVtAXW3F\\u002frJfW0DD0ytlGWZbQCo6kst\\u002fbFtAkKD4MeZyW0D3Bl+YTHlbQF1txf6yf1tAw9MrZRmGW0AqOpLLf4xbQJCg+DHmkltA9wZfmEyZW0BdbcX+sp9bQMPTK2UZpltAKjqSy3+sW0CQoPgx5rJbQPcGX5hMuVtAXW3F\\u002frK\\u002fW0DD0ytlGcZbQCo6kst\\u002fzFtAkKD4MebSW0D3Bl+YTNlbQF1txf6y31tAw9MrZRnmW0AqOpLLf+xbQJCg+DHm8ltA9wZfmEz5W0BdbcX+sv9bQMPTK2UZBlxAKjqSy38MXECQoPgx5hJcQPcGX5hMGVxAXW3F\\u002frIfXEDD0ytlGSZcQCo6kst\\u002fLFxAkKD4MeYyXED3Bl+YTDlcQF1txf6yP1xAw9MrZRlGXEAqOpLLf0xcQJCg+DHmUlxA9wZfmExZXEBdbcX+sl9cQMPTK2UZZlxAKjqSy39sXECQoPgx5nJcQPcGX5hMeVxAXW3F\\u002frJ\\u002fXEDD0ytlGYZcQCo6kst\\u002fjFxAkKD4MeaSXED3Bl+YTJlcQF1txf6yn1xAw9MrZRmmXEAqOpLLf6xcQJCg+DHmslxA9wZfmEy5XEBdbcX+sr9cQMPTK2UZxlxAKjqSy3\\u002fMXECQoPgx5tJcQPcGX5hM2VxAXW3F\\u002frLfXEDD0ytlGeZcQCo6kst\\u002f7FxAkKD4MebyXED3Bl+YTPlcQF1txf6y\\u002f1xAw9MrZRkGXUAqOpLLfwxdQJCg+DHmEl1A9wZfmEwZXUBdbcX+sh9dQMPTK2UZJl1AKjqSy38sXUCQoPgx5jJdQPcGX5hMOV1AXW3F\\u002frI\\u002fXUDD0ytlGUZdQCo6kst\\u002fTF1AkKD4MeZSXUD3Bl+YTFldQF1txf6yX11Aw9MrZRlmXUAqOpLLf2xdQJCg+DHmcl1A9wZfmEx5XUBdbcX+sn9dQMPTK2UZhl1AKjqSy3+MXUCQoPgx5pJdQPcGX5hMmV1AXW3F\\u002frKfXUDD0ytlGaZdQCo6kst\\u002frF1AkKD4MeayXUD3Bl+YTLldQF1txf6yv11Aw9MrZRnGXUAqOpLLf8xdQJCg+DHm0l1A9wZfmEzZXUBdbcX+st9dQMPTK2UZ5l1AKjqSy3\\u002fsXUCQoPgx5vJdQPcGX5hM+V1AXW3F\\u002frL\\u002fXUDD0ytlGQZeQCo6kst\\u002fDF5AkKD4MeYSXkD3Bl+YTBleQF1txf6yH15Aw9MrZRkmXkAqOpLLfyxeQJCg+DHmMl5A9wZfmEw5XkBdbcX+sj9eQMPTK2UZRl5AKjqSy39MXkCQoPgx5lJeQPcGX5hMWV5AXW3F\\u002frJfXkDD0ytlGWZeQCo6kst\\u002fbF5AkKD4MeZyXkD3Bl+YTHleQF1txf6yf15Aw9MrZRmGXkAqOpLLf4xeQJCg+DHmkl5A9wZfmEyZXkBdbcX+sp9eQMPTK2UZpl5AKjqSy3+sXkCQoPgx5rJeQPcGX5hMuV5AXW3F\\u002frK\\u002fXkDD0ytlGcZeQCo6kst\\u002fzF5AkKD4MebSXkD3Bl+YTNleQF1txf6y315Aw9MrZRnmXkAqOpLLf+xeQJCg+DHm8l5A9wZfmEz5XkBdbcX+sv9eQMPTK2UZBl9AKjqSy38MX0CQoPgx5hJfQPcGX5hMGV9AXW3F\\u002frIfX0DD0ytlGSZfQCo6kst\\u002fLF9AkKD4MeYyX0D3Bl+YTDlfQF1txf6yP19Aw9MrZRlGX0AqOpLLf0xfQJCg+DHmUl9A9wZfmExZX0BdbcX+sl9fQMPTK2UZZl9AKjqSy39sX0CQoPgx5nJfQPcGX5hMeV9AXW3F\\u002frJ\\u002fX0DD0ytlGYZfQCo6kst\\u002fjF9AkKD4MeaSX0D3Bl+YTJlfQF1txf6yn19Aw9MrZRmmX0AqOpLLf6xfQJCg+DHmsl9A9wZfmEy5X0BdbcX+sr9fQMPTK2UZxl9AKjqSy3\\u002fMX0CQoPgx5tJfQPcGX5hM2V9AXW3F\\u002frLfX0DD0ytlGeZfQCo6kst\\u002f7F9AkKD4MebyX0D3Bl+YTPlfQF1txf6y\\u002f19A4umVsgwDYEAVHcnlPwZgQEhQ\\u002fBhzCWBAe4MvTKYMYECutmJ\\u002f2Q9gQOLplbIME2BAFR3J5T8WYEBIUPwYcxlgQHuDL0ymHGBArrZif9kfYEDi6ZWyDCNgQBUdyeU\\u002fJmBASFD8GHMpYEB7gy9MpixgQK62Yn\\u002fZL2BA4umVsgwzYEAVHcnlPzZgQEhQ\\u002fBhzOWBAe4MvTKY8YECutmJ\\u002f2T9gQOLplbIMQ2BAFR3J5T9GYEBIUPwYc0lgQHuDL0ymTGBArrZif9lPYEDi6ZWyDFNgQBUdyeU\\u002fVmBASFD8GHNZYEB7gy9MplxgQK62Yn\\u002fZX2BA4umVsgxjYEAVHcnlP2ZgQEhQ\\u002fBhzaWBAe4MvTKZsYECutmJ\\u002f2W9gQOLplbIMc2BAFR3J5T92YEBIUPwYc3lgQHuDL0ymfGBArrZif9l\\u002fYEDi6ZWyDINgQBUdyeU\\u002fhmBASFD8GHOJYEB7gy9MpoxgQK62Yn\\u002fZj2BA4umVsgyTYEAVHcnlP5ZgQEhQ\\u002fBhzmWBAe4MvTKacYECutmJ\\u002f2Z9gQOLplbIMo2BAFR3J5T+mYEBIUPwYc6lgQHuDL0ymrGBArrZif9mvYEDi6ZWyDLNgQBUdyeU\\u002ftmBASFD8GHO5YEB7gy9MprxgQK62Yn\\u002fZv2BA4umVsgzDYEAVHcnlP8ZgQEhQ\\u002fBhzyWBAe4MvTKbMYECutmJ\\u002f2c9gQOLplbIM02BAFR3J5T\\u002fWYEBIUPwYc9lgQHuDL0ym3GBArrZif9nfYEDi6ZWyDONgQBUdyeU\\u002f5mBASFD8GHPpYEB7gy9MpuxgQK62Yn\\u002fZ72BA4umVsgzzYEAVHcnlP\\u002fZgQEhQ\\u002fBhz+WBAe4MvTKb8YECutmJ\\u002f2f9gQOLplbIMA2FAFR3J5T8GYUBIUPwYcwlhQHuDL0ymDGFArrZif9kPYUDi6ZWyDBNhQBUdyeU\\u002fFmFASFD8GHMZYUB7gy9MphxhQK62Yn\\u002fZH2FA4umVsgwjYUAVHcnlPyZhQEhQ\\u002fBhzKWFAe4MvTKYsYUCutmJ\\u002f2S9hQOLplbIMM2FAFR3J5T82YUBIUPwYczlhQHuDL0ymPGFArrZif9k\\u002fYUDi6ZWyDENhQBUdyeU\\u002fRmFASFD8GHNJYUB7gy9MpkxhQK62Yn\\u002fZT2FA4umVsgxTYUAVHcnlP1ZhQEhQ\\u002fBhzWWFAe4MvTKZcYUCutmJ\\u002f2V9hQOLplbIMY2FAFR3J5T9mYUBIUPwYc2lhQHuDL0ymbGFArrZif9lvYUDi6ZWyDHNhQBUdyeU\\u002fdmFASFD8GHN5YUB7gy9MpnxhQK62Yn\\u002fZf2FA4umVsgyDYUAVHcnlP4ZhQEhQ\\u002fBhziWFAe4MvTKaMYUCutmJ\\u002f2Y9hQOLplbIMk2FAFR3J5T+WYUBIUPwYc5lhQHuDL0ymnGFArrZif9mfYUDi6ZWyDKNhQBUdyeU\\u002fpmFASFD8GHOpYUB7gy9MpqxhQK62Yn\\u002fZr2FA4umVsgyzYUAVHcnlP7ZhQEhQ\\u002fBhzuWFAe4MvTKa8YUCutmJ\\u002f2b9hQOLplbIMw2FAFR3J5T\\u002fGYUBIUPwYc8lhQHuDL0ymzGFArrZif9nPYUDi6ZWyDNNhQBUdyeU\\u002f1mFASFD8GHPZYUB7gy9MptxhQK62Yn\\u002fZ32FA4umVsgzjYUAVHcnlP+ZhQEhQ\\u002fBhz6WFAe4MvTKbsYUCutmJ\\u002f2e9hQOLplbIM82FAFR3J5T\\u002f2YUBIUPwYc\\u002flhQHuDL0ym\\u002fGFArrZif9n\\u002fYUDi6ZWyDANiQBUdyeU\\u002fBmJASFD8GHMJYkB7gy9MpgxiQK62Yn\\u002fZD2JA4umVsgwTYkAVHcnlPxZiQEhQ\\u002fBhzGWJAe4MvTKYcYkCutmJ\\u002f2R9iQOLplbIMI2JAFR3J5T8mYkBIUPwYcyliQHuDL0ymLGJArrZif9kvYkDi6ZWyDDNiQBUdyeU\\u002fNmJASFD8GHM5YkB7gy9MpjxiQK62Yn\\u002fZP2JA4umVsgxDYkAVHcnlP0ZiQEhQ\\u002fBhzSWJAe4MvTKZMYkCutmJ\\u002f2U9iQOLplbIMU2JAFR3J5T9WYkBIUPwYc1liQHuDL0ymXGJArrZif9lfYkDi6ZWyDGNiQBUdyeU\\u002fZmJASFD8GHNpYkB7gy9MpmxiQK62Yn\\u002fZb2JA4umVsgxzYkAVHcnlP3ZiQEhQ\\u002fBhzeWJAe4MvTKZ8YkCutmJ\\u002f2X9iQOLplbIMg2JAFR3J5T+GYkBIUPwYc4liQHuDL0ymjGJArrZif9mPYkDi6ZWyDJNiQBUdyeU\\u002flmJASFD8GHOZYkB7gy9MppxiQK62Yn\\u002fZn2JA4umVsgyjYkAVHcnlP6ZiQEhQ\\u002fBhzqWJAe4MvTKasYkCutmJ\\u002f2a9iQOLplbIMs2JAFR3J5T+2YkBIUPwYc7liQHuDL0ymvGJArrZif9m\\u002fYkDi6ZWyDMNiQA==\"},\"y\":{\"dtype\":\"f8\",\"bdata\":\"UGIQWDmkW0D4qfHSTdJYQNAi2\\u002fl+0ldAWGQ730+FW0CYbhKDwCpUQGAQWDm0YFlAiGzn+6mJWECgcD0K1\\u002ftUQAisHFpki1NA+Knx0k2KUkDAnxov3URUQDiJQWDlaFdAON9PjZeGUUAgWmQ737dSQKjGSzeJIVNASAwCK4duUUDwKFyPwqVOQCBaZDvf91BAcJMYBFaOTUCQ7Xw\\u002fNR5OQMDKoUW2e1BAsPP91HjZTUBQ46WbxDBHQPCnxks3wVBAENejcD2KRkC48\\u002f3UeHFQQCCF61G43kdAEK5H4XokS0DQ91PjpYtGQGASg8DKAT1AkG4Sg8CaREBA4XoUricxQICVQ4tsxz9A0MzMzMxcRUAwMzMzMzNGQCDZzvdTgzpAwEkMAitHOkBACKwcWsQ5QMBLN4lBYCRAoMQgsHLoN0AgL90kBgFCQGDjpZvEQDZAgEOLbOe7LEAAAAAAAIA6QKBFtvP9VCdA4CYxCKx8M0CgR+F6FG4wQADTTWIQeD1AAAAAAACAGEBAXrpJDIInQEDfT42XbilA4HoUrkeBNEAAAiuHFpkqQAD4KFyPwsW\\u002fAFCNl24S8b8AmpmZmZnpP6Dvp8ZLlzlAgBKDwMqhAMCgRbbz\\u002fdQhQKAYBFYOjTRAANNNYhBYN0AA\\u002ftR46WY2QAACK4cWWRhAAAIrhxbZKUCAlUOLbCcvQKDtfD813j1AgPP91HjpB8AAKVyPwvXwvwAtsp3vJx5AoPHSTWIQJkBAXrpJDIIqwKAaL90kxiJAwE+Nl24SK0DgehSuRwE1QIBDi2znexzAAO58PzVe9r+ARbbz\\u002fdQDQICTGARWDgxAwJ8aL92kKMDAHFpkO98dQIBkO99PjQ7AgGiR7Xw\\u002fB0AA0SLb+f4ZQECJQWDlUBXA4Pup8dLNJEDAnxov3SQUwAA5tMh2vve\\u002fAPyp8dJNK0AA+FPjpZsFwABEi2zn+\\u002fG\\u002fwCCwcmiRGMCAke18PzUVwEBkO99PzShAQNv5fmo8G8AA1XjpJjEuQMChRbbzvS7AYLpJDAJrLcAAwJ8aL93EP4CVQ4tspzHAQIts5\\u002fvJM8DQdr6fGg83wGC8dJMYBCLAILKd76fGIEAAexSuR+Hyv8AkBoGVwxrAwKNwPQrXFkDgJjEIrJwlwICVQ4ts5xXAwCCwcmiRM0BAPzVeukkTQIDxfmq89BZAgN0UrkchLMCAvpkUrkcMwAAuNd4khhLAwAlCrZuEL8CgwdWnFI4wwKC56iPEyiPAwGcwiBfUKsAgs73Xc4IowOCVpUUpujHAQIRS3HAlJMBgpWhxO2QjwChwZIASuELAACyDymJ++T9ALf5ppo4kwJCUsZPsIjHACOk6IuiWRMB4+gxilaZOwJB5UE4EakzAgOhkI4qBS8CgQWxqXAk5wMCSrc9FniHAgGmpFhV2JkAAfoBjppMTwAAwIXRmefi\\u002fgD0kfiXdGMCAH8aa+n8AQADhCZLCVxvAQOEBj2+KEEAAZz6UjnsUwIBnnJDaeSZAQCV+OlgIOEDQZmcprdIzQIAcR6kQODjAwCRsxUnMKcAAAB6PU2Jwv+D4bLx0I0bAAOdH4Xp0NcBgN166SUwzwLA730+NF0LAAGfl0CLbQcAQzG8Sg0A4wECA3CLbyUbAUMiCTDeZSMBwr5pNi3xAwBAMrjnk5TnAuLQnK9M3R8DoAoRwuJNGwEg3Pr6K4EPACNvB5JhoRsBwkIalGZ1FwKgejeeqBEDAsEeCAZFDQMAQa9kqSBJFwOBjaZX550bAnJR29BEhUsAQzkFj02hSwKCkK\\u002fjOwFLAnFrz7eJ1WMAsaLNYB9pTwIBV\\u002fxwZ\\u002fzPAABCtWDpixr8AMM+n+nfiP8AZwhTg1xDAMJJy5BInMsAQHhBhE\\u002fpFwEDx2FTejUfAIAiq4n1aSMCgIvCrKiRGwFB+e1MaRUHAQPo98cNERMCoO2G8VPNKwLDgBizZzkLA8JC6rbDSPsAQtZxntEc6wFCmfnLjoETAgLdgHe5DE0AAApCrjDvzv+B0AkQIcy7AAKH8gMrb8D\\u002fAwTa4XisaQMBxjH9A1C7AQA5lzOcyNcD4A59kCX1TwKSYKKyK\\u002f2LAtKQnGhlSaMBIeouoi5FqwCS9\\u002fLSUwGPAgC2A1nM\\u002fKkDgKuV9Bv1dQKgHjo11gWFAQFRiq1clXUCQ1xoupbtGQKCTwLwtzzDAqBpxZplhTMCQPvQtITpPwCAur0B5cFHAqCfn73n8XMDY8rKIP75awOjHrHCFYljAQO3OyjgxRsAAGcV50HATwKCYGXm+UzxAwFc6PzCVQECAqE8\\u002fzrAyQMgijP4CqEDAECWLIlZsRcDo3xso11RKwJijB0NmMUTAGIT6T00aScD4Fw8\\u002fjY1FwOBmuxA3IkXAkN0\\u002flnjsR8DAnFh82U9EwMj0XupG+EvAvFHPnHakUcCMjmOFbGpVwCglbj8W8VnAgBo\\u002fQjGvW8D4PrGtvw1YwEiVrumXD1PAQCkDurgxIsAAvOaLjrDlPxAnlr3T3TnASDLYIdBVRMAoI6IGLpxIwBhRxYh7wkbAiPb5S8SUT8A8pPMpYJxQwGw202FdWVDA\\u002fERvl1qrVMDEGERG8A9RwDhfqycCW03ArCLeKVxvUMAIUtehRU5RwOQOlkOL9FLAqMf1KFw\\u002fU8Ds9ShcjypQwHASg8DKYVbAmMQgsHJYTsC0yHa+n0pSwCyyne+nxlHA2M73U+MdV8DMoUW28xVQwLjz\\u002fdR4aU3AOIlBYOUoUMBkEFg5tAhWwNAi2\\u002fl+0lHAEFg5tMhmUcAQLbKd79dSwHw\\u002fNV66UVLAdD0K16MIUMCYqvHSTUJVwCwUK4cWsVPArEnE9Si8UcDwKT1U42VLwPAlwe1R8FHAuB8b\\u002f\\u002fVIS8BA4CGbgbpJwDAVAMrkTE3AGI4ir0CIScDYl1c5sSpPwHBdINaidEnAYLuDjzbPTcAYJJwu33NDwIhsifhWmEnAEIzMeNs4SsCQfGwuCB1MwLiJ7ac7cVfAhM5o4hdDVMBsRE\\u002fS2n9ZwNw0K9y\\u002fU1TAiNJYpvVdUsAQa\\u002fuEg4pGwPCJaHThvknAgNBPQ6v3MsCgt+0t9PFCwAD7JBfcQTzAIGZWUa\\u002fGP8AQPxF6QelMwBhvgSclXkrAyG9y2g2LTsA88XJDGV5RwFyca3N0PFLAfMkx5LQvUMBAtjUPowVIwCD5dpvAik7A8P7BFINATMDQpVkq2zFQwNDSDSVj4E7ACL+eO3BWR8CgULHakNNMwHj\\u002fP7t3yE\\u002fAnNgQX9H7UMA8vxnpZz1TwIgpMv2b2k3AiNDgqm3qTsAQ8qWKdCBTwKDMZ\\u002f\\u002fdmFrAdAB2lGkoYMDWlmlOLhljwMBoydhE32PAMD0CXeQbTMAgo9CxJkM7QJhWZcaieVNAMNv0gzV9SUDgKYblWd85QDCRjRZfMjLAMOUX+WpGR8CoXFtCn7JKwFAgFJ\\u002f0KUTAmAKRiHPoRcCQm0H8P8FGwFA\\u002fHxj+WUTA4FNgrOthRsBwk98eWpRBwLhvc2Q730jAMPKAarwkTMBIfS+DwMpDwBCjFhsE5knA+KytmxLjTcBgnLHaOWlEwPAj2V1xXj7AYKeCa\\u002fdWP8AwE4o1VZRCwLhPACq1bUHAoEgQYI6QP8B4t\\u002fPm9vBCwIhDEINucEPAHKMP77F3VsA4RNLGo3lhwGRLOZZLf2nAKH5lk1\\u002f7asCQ6lKkMZ5hwAAwgW7BPxTA8D0BwZybWkAE8mQDt4VjQFCzKSv6XmJAUJKm7neZVUBQQOUHpqZHQACr2ys2rz\\u002fArFC\\u002fsJSqU8AgN+kMMG1cwFAfsMtzDFrAQMu1qR5GTsAA89CawKcXQPgVs4w\\u002fLFNA4F3KIUobT0CgP+L5RWI4QGC++8cDryzAKHabN0G4RMAAPYbVyitOwLQfgWG+klvADIA0hcyQY8B4nIFOWy1lwNgcdCu5zlzAAKpENPszEECYcRXUAgxfQHjqee8CJ15AwKFFysOzVkBQHO+Q30xAQJB760TiazfAoCdVDXidQcBI\\u002fPiucq1MwJSZ18kI6FrAAvh9JNZxZMBK0gFIppBuwKep2scRF3XAOPDKBfKod8BQ9wlu+\\u002fpywADx44Y6jF7AuOu0itnUYUAs0+BQ8ppzQE6aZu342nJAFF+mW8KFZkDAr8uxurxKQGAh45XhsT\\u002fACN9hs7woTsDQ+NeiONxQwJwh9H8r3VfADA0T3GB\\u002fX8DE\\u002fKTHfLljwEBcG5d5RlvAUB+xYrFYQcCwhOD6L19JQNgtvRBAc1tAsJvVrL+JVUBIc34W67pHQMBn47kYc0XAnKcrETTNX8BKj7pyKbBywBNr8xY1R4PAs\\u002fmuBmApkMCfcmxjSOqVwJ0+geyFH5PAiAg62J4NfsAYC1vPWwx7QNLtQGC93pBApVtMiG\\u002fqlUBk3Mke9VqVQLNom\\u002f6uK45A5IMPkg7vgEAkGuq73wxoQCguTubIg0hAkHF9eZrnM8D4hq\\u002fIpQNDwGCMlmzHWzbAYHdBulRVOsC4MU6n4BVHwADAIiykoTXAWMc6+BNHRMBI7O+bU9pAwNBF6PJXgDbAgAMVnBJqQ8Bs+DVpilNQwAz9AQRQ4ljAkOd6EgPPZcA+XaomGNluwLIlYPKxEHHAAJVtAUlYZ8DgzrhS1XwzwECjVtTDQmhARKexAHxob0BEldrZ4hxoQExp+KVgAFVAAD0Bn8RiOUBwMMy0V8c3wGDUlbbHTTnAOFWWFjVeQMBADosjBakpwCBMrLvppjrAgAEZb0+OHsAQYr83BCVCwJAg+qzgukDAUPFnACQjPMAA2pSpXIgawADHWhlG4hLAkO8oLK8AM8BoFatCAMpGwCgQIlRdOE7A6Li1fP3NRcCIqLURneNPwNBJtXTI70zAWC42Hn05S8AYK6hoNR1KwLjXkfHaHk\\u002fACHqN5nOYTMAcI3z\\u002fy65QwDjVB9YBblHAsJ4UGQoFT8CEbh3hf6tQwAAWazVDhVHACIVieQUbWsAoZnI05sdewOgIjY5ID1PAgPUW48ZnOcBAqIrfHnkkQLA188yZSUtAAAla3o0ARUAAs\\u002f5kCWgKQEAPeyId\\u002fizAoE\\u002fGrAD+PsAgCr8Qwow0wKDejaQdtCbASHdO6vH4QcAIG+Mtf09HwECl05SLbD3AkNAytbj+Q8CYudgDX\\u002fRMwKj6GpPt1EPA2MpX4Rn7ScA4bv6drwVOwOg95SVt+UXAsE8cHDkDR8C4SKnKYGNLwHilY2jhbU7A3NdJJ\\u002f3DUsDAgTArseVLwCBuqlAA\\u002f1HA4Ca1m5MxRcA4D3k8iCRIwFio25d3dEPAOPUkcPnPRcCQ+UR+wPw9wNyC\\u002fS6OpFTAwL7ylQ\\u002fLUcBAYOFFi8dIwAiVh8uxFErAICvRAzfzSMAMgB0D9JVRwHiivsnIFk3AoJfLRYlBUMAsAh\\u002fAVNNQwKxEoqX4Z1LAqLgjD6\\u002fCUcAAZReFeLtQwCBfToT5CVTANAKMw8f7U8AoTP6o859QwLiJI2AFYFLAQOXtsjXfUsDIAKFSZ0xXwCwhZuYrKVbAfGhUFFQEUMCwBADi7oxMwCCD+oWsvlDAQFDV2YdCSMDAsV0dagBNwLT8q+8Fk1HA0Nv8T5rHUsCIhEslReBLwKA3SBYnKVPA8OafxH0STcAokJ0VVIhLwGTjEwZ4MVDATJ32cWf1UMD8db+9s7dYwEhmaYavbVrAoLCSlqUsXcD8vmpcT9BSwCBa\\u002fLAQiTXAANRAzzxi578AtF+si5DuP2iTjQvwWUDASJKyWxG3S8CUuNvHSM9RwOxWnmWt1FHAkN+2uuLKUcDIqeV0a4dWwNxrYlq4NFLAUDv3uPObVcCAS\\u002fT1xDpSwCTuew0z9VTAcNVR4fz4U8AoNJRCb11RwOBOYzLlcknAMOm7G+LCOsDITy9wQT9LwBhrxOirM0rArElNuwu7UcCAffmjns5SwABS6ma0X1HAWG4Gi\\u002f+GVMCgJZSRrdVRwNCuHUwfaEnAwElhwiLKT8Dg8cy7X3dSwAaTYz6qImTAPuP3vaarc8AozKgF+\\u002f2CwLI83Q3ZgIzA6kCHZelSkMD0UhnN5X2DwPBf+igBxWtASDk33iwDj0BXxemxuViAQMTsJYWOcWZAgHSeqhRQEcB4RZrJBR1dwHg0mm0c0lbAgO7cCBWdHEAoR7Nl6QlfQABMCfnK6FhAgFSYZeNXEECAPvrVEAhBwMhXfRt3vkrA8CrUy6fZSMBsW4\\u002fYQAhQwBg61SiTyk\\u002fA+F7pesm8TMCAxHIL\\u002f51NwPid\\u002fvQpnU7AkJ+OyzbzSsAAEOUtjOZHwDgeTYIzQEvAIG2Kz369TsBgCMmju7RSwMiYTCXohVPAgOylmgFuVMCU56xgpAxZwLCfXR\\u002fkuGTAcvQvghtCacBuVej4Dq1nwNhyMYAaY1jAEII48bgqR0CgrIclcENeQEDhx7kNy1lA0EPJ\\u002fyY2MUDQOBqG2IM+wGAtuNvlZlLA8Gi9MUPhScDoXSV+ql9QwLhxqnuAHlHALC5VsSy4UcCEkERLNClYwExVewnUMl\\u002fAyCW6uf+CZcAMIg0tbZtjwDBr8I9\\u002fKlHAoFlfLrviTkD4VoPUjTpgQMhK5L+TAVVAAKDiXXS4ur8o7DCESw1CwCiAZ3yYJEbASEWMI\\u002fmCSMCwVGeoPOhRwPiKuSvJBVTAxIi0e58yWsAoxPBxhLJZwFS7R48opVHAABwCQMHtPMDAESUXCgY4wKAJMf8thjPAQEyDpTH1SMAIkNd1TztNwIBoe6O7fSvAQD55n1hgJ8Bg5NbIeNk+wDhYH0cJI1HAHFcgeW+cUMCMOXfhXXtUwJDQv\\u002f11yU\\u002fA8JT2m0tuUcAMywdyzyRVwOwkhi12xVbABMV1jyBMUsDQqkE5\\u002fodUwIDJ5rF7WlbAHGIiONgNVMCAkyvlTMVcwBLUVY\\u002fYCmbAxjD7yq3kasCAQTRL6Q9qwMA8kgcSLFvAoEwXRnkLO0DoRRCldMVdQDhwZ2+eQ1BAIGM9t+IhRUBQuzZGQIVEwPBOUt7AklfAYPNBgX5sW8BcMAYI2A9lwLpD701dnmHAuKGln3hPUsBg0fquAPU0QPAM7EcUf0VAICf5BiSeOECQ3dXfRYJFwITaJyOrfVTAsDkCLSdYU8BY9DnicytYwLh08sTQulbAaHagxztAWsB0Ehsj3FlTwAxZqW4J8FPAPMLLbtZUUMBg+3grz+dPwDAXwmoIIFPAuOyciVu\\u002fU8CkrFhg5Y1XwHj5ReM+GljAVGM4yw0kXMAwmSQ1kOJewAQ6e72SPVrAwJAN2crZXcBeYHaMRnRgwPhXAkiXk2LAnAAjw4LNZMBwEIZ59+liwKD8zDBDzVbAwBdA7wbsNMB00ff2sWliQNjq7WHkfXFAVEeKTssLbUAgILNurwg+QPAad8Kjo2rAtoOfoOZbecCys9azrit9wIDeEVw9R07ABFSccDhzfkB6q3xWsVOIQNBSTk85FnhA+LDwMVZ+a8DMpR7k4y+AwMDFi8kLCm7A2Nh+viDGgEBCeaNMUumNQJcM74JylYVAAH\\u002fkAzuBbUBAR1ibA+cqwERMtc5dPFDAgLLghiSqWcAsScRGq3dSwLyoNDrs1FXA3Gu+E3xQYsBm9ukmwj1hwNgLxqpwO1XAYGMy1eupOcBApjTMqyc+QAD6BJX8pC1AsHtbzKb0M8CwraACuXtXwMxXEkyP5VHAOC5BQg2lVMC0UzOTBGtVwCQX2uvaIlPA2FfZNKa6VcCkfIqJXJ1TwFhaDiDBlFbAFOdj6CA2UcCIkTQiJbxUwPgnwuqiXlrAyL4L9BWoUcC05LQGgFNYwDgv0tumh1fANOmMrTQBVsAIWRZywEJYwMiBWagIT03A6M84TC0uSMA4604Ln2ZOwGyl\\u002fpqErVHAIKPGjBWmU8BctgR6AuNSwKDkpq1ht0nAKDMbFTrmRMCojcYuph1JwCh32\\u002fYQmEjAjGrgCmlJVcD4k9x4d3lWwCANOgT2nVHAmJxNnnepT8BUngF7VIxTwPiY9457D1HASFFMns+bU8DsXWijcNJYwMDHZrL6Kl\\u002fADiBVIu6pa8CpcBfcD7NywAIHKacM1HTArFqbJmZgb8CIhzkwnwpUwED+L7x7C2RAKPvubpOycEBYNq1HdppiQADjgu5Q2SXA8OLngsZPYMAY11f6C9diwBat+BjOQ2HAMITqBXt6VMCA8yVHuAcwQJgz4RjccldAMB01Qm5eSEAg7h+kfA4twPg7QqGl0VLA7Kg65DrDWcBQ4P\\u002fxdMtawPD1oN4osVzA4PEbKcqCV8DwxjVj7iVUwMwGRBrDL1PADGY0MN4+WMAQu\\u002fH\\u002fqc9XwGCSUo9nM1jAjKEh5r8tWcCofbDBclVVwKQClx68S1fAeHxJwHhDWcAMtVHeblVUwGz9l5dYFlTAnKsP9KbDVMCIVmSAOmNjwOabETTtDHTA8wGM4itLhcB0lEuiEVuSwAoiGEmMP5nA0kTVZRyemsDvm+wiAXuQwJhdVl8xb29AkFAHZf5RmUCwCxABLkShQAoz4opZqp1AhkDjFkfkkUDPyhe1YCR9QNSTQyE6BVVA4GaJzvOBQcBwoCnXWNlSwOwy1PXRiFPAaNGT41s8VsB8QiuB53NYwJw0Iuj7mVXAJL7XTWLgUcBgbMlLN3lSwPRrZSuHTljArK3YCgCgVcCstmsjNt5VwIAG46t84lTALGicx9gwV8DQnyF6M8lWwFy2SNY0+lrA8NHIhPDSVsDo2v+Kp3ZdwBxFoUqP5l7AAH7Fwyv9Y8BcASSvHKNtwCRTkU5FOnHARJzKJoTHbsCGu4JdQp9kwABgkjkaKf8\\u002fpBgWraI0Y0CcUhvXlPRnQOhIfN5LSFVAMNMe4VEEQ8AwNCOiJAhSwDh5S40u2lXAYCtKalOuV8Akm1iDc\\u002fpawLA37YRMKF3AsJuNQDgLXMAcZFUYCzNhwIj0G3aM1WPA7sGos8xlasDV7xbBj7BxwE0iKxFKY3HASGVed5pCacCA+4B8v\\u002fUjwGRcbiibdGhAACJRbkc2cUDYCXGrUshdQPgJY+sIC0rAgNrZlDkKWsDUX8bJ4bNYwCgmmZiy4VLASOTh0k7JT8DcyQdN4DVSwBDxp\\u002fAJ+ljAZGWq3pX8W8C4lAqUpH5cwEoYD+\\u002fyumDAyH2FnOwLWcDMhsBL03VYwNzQg9RNclfAcFxFQSYnWsAUqAVrJfdZwKQp1WY1TF3AUBGzNmIKXMDETavTnqNcwJRKoGmqal\\u002fA2AW1YVbwW8DcSNDArIdcwA6Dr3giDGDAUlVSpW7+ZcBSlN8xfEtpwIp53PlOQWrAwMtDywL4acAQJlDq0mtawIA6gCO3wCTAQKDbv0e3NMAkLUMOUeFkwA1DjhBy\\u002fXTAdu4MbXuJd8Cs+XkR6dFowCBQWVssxk9A+Ft\\u002fNaoLYkBA1sp9EcpEQABAgUcXevI\\u002fwEWs2HA4KECAwTW2utJFQAC\\u002fLX4k\\u002fCpAABGeAJg0CcCg8daLadFJwFjJnGkk\\u002f1nAaDvxSV4LcMA0yDq+s0R5wPp78ZukonjAwEXK4r67Z8C4ppqeH79lQGQVl5SBqnNAmB0CgwZzWECgESGuKvw0wIBnBgbqT0NAsJpTjnTESkCAuPZvapcVwMA4nazmKkLAgC8ITjDJK0AAUx7J3v4KwICJGPQ5v1bAFtC5gl3JY8DIgak1mVBlwOwjhtQr6GLARMhBOfPOXMBA+A6vlQFCwABL4GD4qz9AoI66ZwMLTkAAP7Bh6y4CQNilIsnO51HAuCpbrqwsV8BgrFgfVe1OwADXvx9pRTDAYLSkSNxTQsCQS4Gyu5NEwFRCpSmxNFLAvBEqEV0qVcBs5KMnxgNRwEwLvo61tFjAHIaoK\\u002fjaV8AgsJrhpwBewNjr\\u002feoNR1vA3GilxD7MXsAwfXQpzk5fwBhrXzVznWLACG5zoXqpWcAgbOzxb9FCwKQ6wO+iDFDA3Le5rww\\u002fVcCM+3OoNTlbwCCxI2S2LV7A\\u002fNk7ITtAXMCEC1dg9C1ZwNDGqH+aklbABECO9lp9XMB4EjmSP7VawMgpkaiQRF\\u002fAcILKXcjPXcAiLPlrXVpgwAqB+cdJoWHAvIH8VhyRXcBIHjo8kaxgwL4catCDw2XAuBXjD+7NbsD5kD0Cp5d0wCkAo7Ngr3nAuwrZRJzBecBBUKxe7WN2wFDcpPLJhG\\u002fAcMiZpyZWXkCyrAkxwVt2QPwgYMoX43dAwM1MkmO2Z0CAEzFcchApwLCIpsRrAVjA3EkVCEs9XcDA5lK07dJYwMBE+QRpGlzAUNEPmSpoWMBkFI1AS99VwBg7SynpYlLA+I6QE6yGWMBIgpxGlL9cwDTMQjIyOl7ATLJHOkKDYMAY2xIEpF1bwMhPMrYuN1zA+NGkhqrfYMCglQls7zJewDyJ90CNPF\\u002fABrI5B\\u002fFYYcDMBlEyc7ZhwHZogrqEsGHAWAZGWjyOZMAgbkAIZAxowHZu10nRRm3AZNg058dmcMCkG1uyfHZuwNzvzC1Kl2fAAG6s2syVTsCAIyR1H8g4wABQ7ViZf9K\\u002fECiCGaAjVcCgyJbsf8RawMDOgfZs60rAAOKQxxaXG8AwCJj0wm5JwFxpiizEnGDAMKoT4\\u002fcLZMC8fW3dyhJhwMAJhrENizzAQCTGcjDGNEBAg3hhVC06QCBEjdyvZEfAOGX9anDGWcBiaD3AMyRkwP4I8UEtpGrA2JlrJuNSb8A8blN5ijxvwBBGXskqeWTAQE0Cx+N2LsAAsxptJ7VMQMAP47YqsyZAPEQNvHk+VcAcOESLeAZhwIRF9XkICmbAKkgTKOZzaMAAvNPgPqFuwFe6kQZ3HnHAjKAQFVeUc8AiWWmXlNFxwCgWvU76pWbAQNGEPyHnRcCwJTIENFFNQJivWIFePlpAAO1ajXu3TUCwS27vkalBwJQOFDtv\\u002f1TADP+eeGasWsDafZJzU0FjwDwcEf7I3WnAqFFTKCDpb8CQNG+zhvlqwNiEZK9wz1rAgHkdtmchL8DAqi7mmRokQAD4BDZUlUzAWAsCpSblYcC6yPI09vpowPjpR+RtsWzA1Cv4ko\\u002fxbsBQ15cO4p9kwHB6gSo2KU3AAIhBQxUWBUBgxfNbMTwxwJwIgU8B4FnADNu1HdGuX8B6aPvSkwVgwCK80Q8yQGHAMA\\u002fVVcgPW8CoBAMHfTNfwISh1pgwrmLA2hY65HYsaMDufJH3BH1twFmADh3jrXLArZUtvRMxd8BPivXdSHt5wCMnaNgLuHfAUM8q8d8EbMCg1BcTs7Q5wFwLxJbKRmNA0N7JMrGkakAIIx2pzwlZQLB1DuDNHD7ABPdJ3uDrW8DWkEYNAOdiwJRCklexh2PAFApo\\u002fbJeZcCwtDI8C5plwJZOLXKWWGfAPJe5EEtOasAgNpT5\\u002f3BiwMT7UUK+\\u002fVfAOLl4kethV8A8l\\u002fsMsfZVwHjzYGq1Y1vAOEvZGofMY8AQk97XH5xkwFQCrq9zqWXARCz6fxjfacD86WH2WQZwwB85YaNXHXPAmCqnpUjedMDCIZntUSF1wL04SDpm7XLAymy17E5fb8DIlZj0YPVawMBRi5iRKjDAsOnSm8cPVUCAgo\\u002fj5uBaQACy0ggNIEVAoPjil4mDPcC0feXSDx9bwPy75547BWHAQNJ1zTwdYcC8nR+NO+lkwJDEOa+eS2PA\\u002fB5PWtufYsAGytQ6wWtgwJ4znzNNf2LAkCJbkIASZcBMPss4atNkwDqWmELvBWTAoARvuEUKZsCW6j9N1MxkwNwmm+p+VWPAHmqRjV+3Y8Bgu3faKLBkwLbqG0utwWXAfvQLMyyCZMDqiMt2m+NlwGwtq764WGnATJ2KH8wLa8DSi8g7adhswATtJLtR+m\\u002fARtrR7nFQbsCclZnRV+RpwNZa0cTgbWTAHgSrb\\u002fIfYMA8c001hiRbwBhWo2jLvlnAzpOm8HqlY8B0HgQLi0pqwF67eMFVcm\\u002fA3LClXeKoasD8oJTVFk1iwABwfGPXKd6\\u002foHxOQ5uGO8DAMHlN\\u002f4c4wPAEUJvltFLASAR4Zl3dYcCkpd\\u002fqwcJkwDTFCYic9GbA+qjbLOAHZcA0AjUke3lmwG5rKkWUJWjAYnA1wkHNZsAejksaOkZowOobwnW4xmXAkOpgLRYhZsDMpiIBbJdmwArI\\u002fRQeMGfABJHFBR3CaMD+hNdByq9pwAqMl6Bq7WnAqBx48hP1asCIX\\u002fQ3i2dtwBiiRN\\u002fHeG3AaHKC50RfbsCC829qLWtswH5B0+vhmWvAjup2XkNjZsByDTVHjBdmwBwa01T\\u002fRGTAEPa1Aiw+YMAc00nOw6VcwNDjVTVQ+1vAQNeRBvOaV8DMZxZKLYhgwIQrLDLj3GTAGvKuBWBlacBAeoTpyGBqwBLjM3sOYGvAKjvQgT3IacDeax72n0plwEoYOGrbxWTAbDNMFKk8ZcDorfag9j5kwDIF5Vend2fAErbsOdtCaMDsQ84ypzZpwGgyy1L3LGrAiKx3am5EZ8DAOv1XH75lwCaPVw5LyGHA5EWziQ1rYcBQkMzXUuldwGjSKvHU41\\u002fAVGxO6q1wY8D+LJj6LINkwDZs1ftidWfAsgZoS6fvZsAMIUyMJJppwMSQorwNlmrAQpnIrcTEa8As0lQEdZpvwBDAVfqbTm\\u002fA\\u002fM\\u002f2kdPyasDuJM2Qsm5nwNjpsHXb2V\\u002fAqGi15jjpXcCYzUtrCWBWwDxfcIa9F13AFqZdzaguYsCI1HD1zbRnwNgiJTxC\\u002fWjAdpWunnRbZ8CyOMtjEWRqwLiW0NJyAmnAqp1vjKrVacDGfZfJeoxqwCzTJGJdZ2bAePUUDT2IZsDeaebytZxjwMxa0dq5YWHAsLXLFEOVY8A6cMMg99NkwHoRWtYPf2nAgnkfw3mUaMCgpBs304FowAq0daoXl2jAbDVR\\u002fjoWaMDuuIem9x5qwJiRg7XLGG3ALrmVjjqDbcAR5qwHWUFwwGiKUyzmCXLA8+a90+hAcsDu8Lc+X6NywALmgh62CHPAg8EAaTuhcsDO0ycvfIxvwM6GYQsB4WjAhKqf\\u002f8pOX8DU5m37i55UwDjyHc1RNEPAmD6KoGn7Q8Bs174p9GBSwKwe3GV9UVbACLLNq3YKXsBkoEYzn7dkwNIE\\u002fenUeGXAIvt14sPbZcB6SFPYSOJnwH4tP58qOWfA1kKhG8yBaMBygfP3sbdmwPYmzlwGnmjAoAfx6KoXacBakPfPGfpowIYu7hgCRWvAzMqp\\u002f63aaMCA\\u002fKGYe6lpwEyjk9uX0GfAiDPjVYg2ZsAq9Tx0utxlwFyT1AbV8WTAeE11pU42Z8CopTxvVRFowAql\\u002fawKYmjAMBNQ66mNasDMgiFKypRqwMB0Ez0TMWnA+BCF7JsTacD+DZB5XzRpwEi\\u002frgAltWrArglcwi0Qa8Dg9KS89QhswHDbrkrHo2nA6LUdA7KwacDAXW5ddFprwKKZipZUrWnA5E3Ts\\u002f0AasDeXNKByGRqwDQ6tmL5KmrAWlqF6sbbZcCcZCHtmtVpwIyDosYbmGnAfhxfHqvqacDkAKE\\u002fs5FowKDLKflqyGfANnFa1A4basCuYPmmbXppwB56OZQ7EWjARiuggFujasAwk1HfRgxqwI4hK8klC2zATorbzz9GasB+Qzxv+cprwLJkFSOvymvA2MGe8aiKacAABg0C4CNrwCLMXgNWr23AAAbONbQTbcCaGDvOA+FtwJYkytj7XW\\u002fAWUdNlvAyccDvcpzOEctywMbMVDRdLHTAEtmdvwFEeMC\\u002fH4+xxZJ6wJ+zNApHyX3AMUJ65i63f8C9vSLM07B\\u002fwKMOQq8osHvA\\u002fIYxFxeUdMCEtdELJrJrwKgjYcgAuV3AAK3ODbDDPsDgjHUD0HkzQACCElu\\u002f6ibA0Pph7OKjR8CU4x0+a45jwNgx+Ap4SW7Aiz7wnxbLcsCzrU\\u002fkw3FzwGT2bi2hm3PAzDr+fPLnbsDgKi9UEP1pwCB7hxTnZWXApM3lkBPDYMDwhds+CKlawND6N7DOclrAxDCOlProW8BYhzpusR5gwGhdkyGuYGLARCAsLUdOZcAGGRTYYCNowAojAGnNAWnA9gyxnPX8Z8Bmh91k9qlrwBKC6HJn12rAWmduB0NcbMCcC0xj8ZNpwIIiqJ5iYmvASnR0fIkObcB6EvoRQtJqwFrR827dv2vANH0r4zx5bcCK3+iCoeBswATlwvYtTm\\u002fATBRg13jKbsAEXmtEOoZswJ4WaRu\\u002fkWzAjp3C58s1asCEvg7x5dZpwAIFI1ulj2jAGHKivuhzbMBeh9TxCWJvwBViZiyuhXDA5TqCVvj9ccAptwR4BrpywNCcnX3FOnTAP1Mfv1hUcsA4pI164XVwwFagpsTtLW\\u002fA3KUdq1kcacCgc\\u002feQsExpwGzYx4Ff0WnAqBbBwu\\u002fmacBAeFkuuzFvwEhxvJPXznDAYs5gE4+wcsBKYMY12I1zwJzXi8jnGnHAV\\u002fk+WQ+wcsDANpjn525vwISTplae3WvAYFi2cYN\\u002fbcD0qd\\u002fgka9pwIytT4vCTWnAzNMN8fkQacB8\\u002fxDE82xswLTCxFcWYW3A\\u002fOnztrSTbsB6c\\u002fWo7qBtwEYc7FQ4BmzAApVHvM3Ta8Bwn9\\u002fXIGZnwMjbPYmjp2TAOiyj5rDCZcCiltsbiaxjwPJuKFBX4WXAHhGf64U3ZMAenT8vgMxnwGwc8i78oWnALqQeNzDta8A0teB91Z9swKQt1za9bG7Ayt+OW17la8AsjcJg75ZtwCIj5EYBim3AJJZr2aS7bMAgWU+Zh79vwJxJyAsPtm7AYpXMfvhubsCqbEgBeb1vwPgBjCVluGjAjvkXrxpUbsB+152OFwJuwBSpl9Azj27AsuZfjAtBbsAAe2wCLyZtwDj4PjiCe2\\u002fAAAoQB2vva8DUPwhs6KltwLIP5L0TnWrA8jLLFZpva8AYqekHtfVqwGCxZ3bbKmzA2urX2ADWa8CisLDX0cppwKQwTYGYcmzAxOx4i7MTasBOuEvQXA9swN4vLgR8fmzA6MC\\u002fk12Ba8BmNgzk2KttwFBmLGNkB27ADmzWWbh7b8ARn4LTj8xwwLxEzY\\u002fhCXHAYoMKfIbPcMCBq7vLM29xwIfFEgZml3DAT2r00LXOcsBRzWozMLhywNGo1ZgOQHLAjvFMkoE2csByl3vlk1pywC3gjS1tz3DAjyQnoaohccBeoR1p2EdwwMyD5sNs2m\\u002fA1Nw22RFFbcCS62pM9FNtwDzubFIttWrAJNrE+PZ8acAiXHb6iZhpwEQoM0T\\u002fEGrASFIvVD4tasBqHdGnWX5qwA==\"},\"type\":\"scatter\"}],                        {\"legend\":{\"x\":1.0,\"xanchor\":\"right\",\"y\":1.0,\"yanchor\":\"top\"},\"margin\":{\"autoexpand\":true,\"b\":45,\"r\":30,\"t\":40},\"title\":{\"text\":\"Measured vs Calculated data for experiment \\ud83d\\udd2c 'd20'\"},\"xaxis\":{\"mirror\":true,\"showline\":true,\"title\":{\"text\":\"2\\u03b8 (degree)\"},\"zeroline\":false,\"tickformat\":\",.6~g\",\"separatethousands\":true},\"yaxis\":{\"mirror\":true,\"showline\":true,\"title\":{\"text\":\"Intensity (arb. units)\"},\"zeroline\":false,\"tickformat\":\",.6~g\",\"separatethousands\":true},\"template\":{\"data\":{\"histogram2dcontour\":[{\"type\":\"histogram2dcontour\",\"colorbar\":{\"outlinewidth\":0,\"ticks\":\"\"},\"colorscale\":[[0.0,\"#0d0887\"],[0.1111111111111111,\"#46039f\"],[0.2222222222222222,\"#7201a8\"],[0.3333333333333333,\"#9c179e\"],[0.4444444444444444,\"#bd3786\"],[0.5555555555555556,\"#d8576b\"],[0.6666666666666666,\"#ed7953\"],[0.7777777777777778,\"#fb9f3a\"],[0.8888888888888888,\"#fdca26\"],[1.0,\"#f0f921\"]]}],\"choropleth\":[{\"type\":\"choropleth\",\"colorbar\":{\"outlinewidth\":0,\"ticks\":\"\"}}],\"histogram2d\":[{\"type\":\"histogram2d\",\"colorbar\":{\"outlinewidth\":0,\"ticks\":\"\"},\"colorscale\":[[0.0,\"#0d0887\"],[0.1111111111111111,\"#46039f\"],[0.2222222222222222,\"#7201a8\"],[0.3333333333333333,\"#9c179e\"],[0.4444444444444444,\"#bd3786\"],[0.5555555555555556,\"#d8576b\"],[0.6666666666666666,\"#ed7953\"],[0.7777777777777778,\"#fb9f3a\"],[0.8888888888888888,\"#fdca26\"],[1.0,\"#f0f921\"]]}],\"heatmap\":[{\"type\":\"heatmap\",\"colorbar\":{\"outlinewidth\":0,\"ticks\":\"\"},\"colorscale\":[[0.0,\"#0d0887\"],[0.1111111111111111,\"#46039f\"],[0.2222222222222222,\"#7201a8\"],[0.3333333333333333,\"#9c179e\"],[0.4444444444444444,\"#bd3786\"],[0.5555555555555556,\"#d8576b\"],[0.6666666666666666,\"#ed7953\"],[0.7777777777777778,\"#fb9f3a\"],[0.8888888888888888,\"#fdca26\"],[1.0,\"#f0f921\"]]}],\"contourcarpet\":[{\"type\":\"contourcarpet\",\"colorbar\":{\"outlinewidth\":0,\"ticks\":\"\"}}],\"contour\":[{\"type\":\"contour\",\"colorbar\":{\"outlinewidth\":0,\"ticks\":\"\"},\"colorscale\":[[0.0,\"#0d0887\"],[0.1111111111111111,\"#46039f\"],[0.2222222222222222,\"#7201a8\"],[0.3333333333333333,\"#9c179e\"],[0.4444444444444444,\"#bd3786\"],[0.5555555555555556,\"#d8576b\"],[0.6666666666666666,\"#ed7953\"],[0.7777777777777778,\"#fb9f3a\"],[0.8888888888888888,\"#fdca26\"],[1.0,\"#f0f921\"]]}],\"surface\":[{\"type\":\"surface\",\"colorbar\":{\"outlinewidth\":0,\"ticks\":\"\"},\"colorscale\":[[0.0,\"#0d0887\"],[0.1111111111111111,\"#46039f\"],[0.2222222222222222,\"#7201a8\"],[0.3333333333333333,\"#9c179e\"],[0.4444444444444444,\"#bd3786\"],[0.5555555555555556,\"#d8576b\"],[0.6666666666666666,\"#ed7953\"],[0.7777777777777778,\"#fb9f3a\"],[0.8888888888888888,\"#fdca26\"],[1.0,\"#f0f921\"]]}],\"mesh3d\":[{\"type\":\"mesh3d\",\"colorbar\":{\"outlinewidth\":0,\"ticks\":\"\"}}],\"scatter\":[{\"fillpattern\":{\"fillmode\":\"overlay\",\"size\":10,\"solidity\":0.2},\"type\":\"scatter\"}],\"parcoords\":[{\"type\":\"parcoords\",\"line\":{\"colorbar\":{\"outlinewidth\":0,\"ticks\":\"\"}}}],\"scatterpolargl\":[{\"type\":\"scatterpolargl\",\"marker\":{\"colorbar\":{\"outlinewidth\":0,\"ticks\":\"\"}}}],\"bar\":[{\"error_x\":{\"color\":\"#2a3f5f\"},\"error_y\":{\"color\":\"#2a3f5f\"},\"marker\":{\"line\":{\"color\":\"white\",\"width\":0.5},\"pattern\":{\"fillmode\":\"overlay\",\"size\":10,\"solidity\":0.2}},\"type\":\"bar\"}],\"scattergeo\":[{\"type\":\"scattergeo\",\"marker\":{\"colorbar\":{\"outlinewidth\":0,\"ticks\":\"\"}}}],\"scatterpolar\":[{\"type\":\"scatterpolar\",\"marker\":{\"colorbar\":{\"outlinewidth\":0,\"ticks\":\"\"}}}],\"histogram\":[{\"marker\":{\"pattern\":{\"fillmode\":\"overlay\",\"size\":10,\"solidity\":0.2}},\"type\":\"histogram\"}],\"scattergl\":[{\"type\":\"scattergl\",\"marker\":{\"colorbar\":{\"outlinewidth\":0,\"ticks\":\"\"}}}],\"scatter3d\":[{\"type\":\"scatter3d\",\"line\":{\"colorbar\":{\"outlinewidth\":0,\"ticks\":\"\"}},\"marker\":{\"colorbar\":{\"outlinewidth\":0,\"ticks\":\"\"}}}],\"scattermap\":[{\"type\":\"scattermap\",\"marker\":{\"colorbar\":{\"outlinewidth\":0,\"ticks\":\"\"}}}],\"scattermapbox\":[{\"type\":\"scattermapbox\",\"marker\":{\"colorbar\":{\"outlinewidth\":0,\"ticks\":\"\"}}}],\"scatterternary\":[{\"type\":\"scatterternary\",\"marker\":{\"colorbar\":{\"outlinewidth\":0,\"ticks\":\"\"}}}],\"scattercarpet\":[{\"type\":\"scattercarpet\",\"marker\":{\"colorbar\":{\"outlinewidth\":0,\"ticks\":\"\"}}}],\"carpet\":[{\"aaxis\":{\"endlinecolor\":\"#2a3f5f\",\"gridcolor\":\"#C8D4E3\",\"linecolor\":\"#C8D4E3\",\"minorgridcolor\":\"#C8D4E3\",\"startlinecolor\":\"#2a3f5f\"},\"baxis\":{\"endlinecolor\":\"#2a3f5f\",\"gridcolor\":\"#C8D4E3\",\"linecolor\":\"#C8D4E3\",\"minorgridcolor\":\"#C8D4E3\",\"startlinecolor\":\"#2a3f5f\"},\"type\":\"carpet\"}],\"table\":[{\"cells\":{\"fill\":{\"color\":\"#EBF0F8\"},\"line\":{\"color\":\"white\"}},\"header\":{\"fill\":{\"color\":\"#C8D4E3\"},\"line\":{\"color\":\"white\"}},\"type\":\"table\"}],\"barpolar\":[{\"marker\":{\"line\":{\"color\":\"white\",\"width\":0.5},\"pattern\":{\"fillmode\":\"overlay\",\"size\":10,\"solidity\":0.2}},\"type\":\"barpolar\"}],\"pie\":[{\"automargin\":true,\"type\":\"pie\"}]},\"layout\":{\"autotypenumbers\":\"strict\",\"colorway\":[\"#636efa\",\"#EF553B\",\"#00cc96\",\"#ab63fa\",\"#FFA15A\",\"#19d3f3\",\"#FF6692\",\"#B6E880\",\"#FF97FF\",\"#FECB52\"],\"font\":{\"color\":\"#2a3f5f\"},\"hovermode\":\"closest\",\"hoverlabel\":{\"align\":\"left\"},\"paper_bgcolor\":\"white\",\"plot_bgcolor\":\"white\",\"polar\":{\"bgcolor\":\"white\",\"angularaxis\":{\"gridcolor\":\"#EBF0F8\",\"linecolor\":\"#EBF0F8\",\"ticks\":\"\"},\"radialaxis\":{\"gridcolor\":\"#EBF0F8\",\"linecolor\":\"#EBF0F8\",\"ticks\":\"\"}},\"ternary\":{\"bgcolor\":\"white\",\"aaxis\":{\"gridcolor\":\"#DFE8F3\",\"linecolor\":\"#A2B1C6\",\"ticks\":\"\"},\"baxis\":{\"gridcolor\":\"#DFE8F3\",\"linecolor\":\"#A2B1C6\",\"ticks\":\"\"},\"caxis\":{\"gridcolor\":\"#DFE8F3\",\"linecolor\":\"#A2B1C6\",\"ticks\":\"\"}},\"coloraxis\":{\"colorbar\":{\"outlinewidth\":0,\"ticks\":\"\"}},\"colorscale\":{\"sequential\":[[0.0,\"#0d0887\"],[0.1111111111111111,\"#46039f\"],[0.2222222222222222,\"#7201a8\"],[0.3333333333333333,\"#9c179e\"],[0.4444444444444444,\"#bd3786\"],[0.5555555555555556,\"#d8576b\"],[0.6666666666666666,\"#ed7953\"],[0.7777777777777778,\"#fb9f3a\"],[0.8888888888888888,\"#fdca26\"],[1.0,\"#f0f921\"]],\"sequentialminus\":[[0.0,\"#0d0887\"],[0.1111111111111111,\"#46039f\"],[0.2222222222222222,\"#7201a8\"],[0.3333333333333333,\"#9c179e\"],[0.4444444444444444,\"#bd3786\"],[0.5555555555555556,\"#d8576b\"],[0.6666666666666666,\"#ed7953\"],[0.7777777777777778,\"#fb9f3a\"],[0.8888888888888888,\"#fdca26\"],[1.0,\"#f0f921\"]],\"diverging\":[[0,\"#8e0152\"],[0.1,\"#c51b7d\"],[0.2,\"#de77ae\"],[0.3,\"#f1b6da\"],[0.4,\"#fde0ef\"],[0.5,\"#f7f7f7\"],[0.6,\"#e6f5d0\"],[0.7,\"#b8e186\"],[0.8,\"#7fbc41\"],[0.9,\"#4d9221\"],[1,\"#276419\"]]},\"xaxis\":{\"gridcolor\":\"#EBF0F8\",\"linecolor\":\"#EBF0F8\",\"ticks\":\"\",\"title\":{\"standoff\":15},\"zerolinecolor\":\"#EBF0F8\",\"automargin\":true,\"zerolinewidth\":2},\"yaxis\":{\"gridcolor\":\"#EBF0F8\",\"linecolor\":\"#EBF0F8\",\"ticks\":\"\",\"title\":{\"standoff\":15},\"zerolinecolor\":\"#EBF0F8\",\"automargin\":true,\"zerolinewidth\":2},\"scene\":{\"xaxis\":{\"backgroundcolor\":\"white\",\"gridcolor\":\"#DFE8F3\",\"linecolor\":\"#EBF0F8\",\"showbackground\":true,\"ticks\":\"\",\"zerolinecolor\":\"#EBF0F8\",\"gridwidth\":2},\"yaxis\":{\"backgroundcolor\":\"white\",\"gridcolor\":\"#DFE8F3\",\"linecolor\":\"#EBF0F8\",\"showbackground\":true,\"ticks\":\"\",\"zerolinecolor\":\"#EBF0F8\",\"gridwidth\":2},\"zaxis\":{\"backgroundcolor\":\"white\",\"gridcolor\":\"#DFE8F3\",\"linecolor\":\"#EBF0F8\",\"showbackground\":true,\"ticks\":\"\",\"zerolinecolor\":\"#EBF0F8\",\"gridwidth\":2}},\"shapedefaults\":{\"line\":{\"color\":\"#2a3f5f\"}},\"annotationdefaults\":{\"arrowcolor\":\"#2a3f5f\",\"arrowhead\":0,\"arrowwidth\":1},\"geo\":{\"bgcolor\":\"white\",\"landcolor\":\"white\",\"subunitcolor\":\"#C8D4E3\",\"showland\":true,\"showlakes\":true,\"lakecolor\":\"white\"},\"title\":{\"x\":0.05},\"mapbox\":{\"style\":\"light\"}}}},                        {\"displaylogo\": false, \"modeBarButtonsToRemove\": [\"select2d\", \"lasso2d\", \"zoomIn2d\", \"zoomOut2d\", \"autoScale2d\"], \"responsive\": true}                    )                };            </script>        </div>"
      ],
      "text/plain": [
       "<IPython.core.display.HTML object>"
      ]
     },
     "metadata": {},
     "output_type": "display_data"
    }
   ],
   "source": [
    "project.plot_meas_vs_calc(expt_name='d20', show_residual=True)"
   ]
  },
  {
   "cell_type": "code",
   "execution_count": 23,
   "id": "43",
   "metadata": {
    "execution": {
     "iopub.execute_input": "2025-08-31T19:32:03.115283Z",
     "iopub.status.busy": "2025-08-31T19:32:03.115081Z",
     "iopub.status.idle": "2025-08-31T19:32:03.442529Z",
     "shell.execute_reply": "2025-08-31T19:32:03.441839Z"
    }
   },
   "outputs": [
    {
     "data": {
      "text/html": [
       "<div>                        <script type=\"text/javascript\">window.PlotlyConfig = {MathJaxConfig: 'local'};</script>\n",
       "        <script charset=\"utf-8\" src=\"https://cdn.plot.ly/plotly-3.1.0.min.js\" integrity=\"sha256-Ei4740bWZhaUTQuD6q9yQlgVCMPBz6CZWhevDYPv93A=\" crossorigin=\"anonymous\"></script>                <div id=\"fec232ad-39dc-41ec-b8ad-538416aad16a\" class=\"plotly-graph-div\" style=\"height:100%; width:100%;\"></div>            <script type=\"text/javascript\">                window.PLOTLYENV=window.PLOTLYENV || {};                                if (document.getElementById(\"fec232ad-39dc-41ec-b8ad-538416aad16a\")) {                    Plotly.newPlot(                        \"fec232ad-39dc-41ec-b8ad-538416aad16a\",                        [{\"line\":{\"color\":\"rgb(31, 119, 180)\"},\"mode\":\"lines+markers\",\"name\":\"Measured (Imeas)\",\"x\":{\"dtype\":\"f8\",\"bdata\":\"h6dXyjKMREBUdCSX\\u002f5hEQCBB8WPMpURA7Q2+MJmyREC62or9Zb9EQIenV8oyzERAVHQkl\\u002f\\u002fYREAgQfFjzOVEQO0NvjCZ8kRAutqK\\u002fWX\\u002fRECHp1fKMgxFQFR0JJf\\u002fGEVAIEHxY8wlRUDtDb4wmTJFQLraiv1lP0VAh6dXyjJMRUBUdCSX\\u002f1hFQCBB8WPMZUVA7Q2+MJlyRUC62or9ZX9FQIenV8oyjEVAVHQkl\\u002f+YRUAgQfFjzKVFQO0NvjCZskVAutqK\\u002fWW\\u002fRUCHp1fKMsxFQFR0JJf\\u002f2EVAIEHxY8zlRUDtDb4wmfJFQLraiv1l\\u002f0VAh6dXyjIMRkBUdCSX\\u002fxhGQCBB8WPMJUZA7Q2+MJkyRkC62or9ZT9GQIenV8oyTEZAVHQkl\\u002f9YRkAgQfFjzGVGQO0NvjCZckZAutqK\\u002fWV\\u002fRkCHp1fKMoxGQFR0JJf\\u002fmEZAIEHxY8ylRkDtDb4wmbJGQLraiv1lv0ZAh6dXyjLMRkBUdCSX\\u002f9hGQCBB8WPM5UZA7Q2+MJnyRkC62or9Zf9GQIenV8oyDEdAVHQkl\\u002f8YR0AgQfFjzCVHQO0NvjCZMkdAutqK\\u002fWU\\u002fR0CHp1fKMkxHQFR0JJf\\u002fWEdAIEHxY8xlR0DtDb4wmXJHQLraiv1lf0dAh6dXyjKMR0BUdCSX\\u002f5hHQCBB8WPMpUdA7Q2+MJmyR0C62or9Zb9HQIenV8oyzEdAVHQkl\\u002f\\u002fYR0AgQfFjzOVHQO0NvjCZ8kdAutqK\\u002fWX\\u002fR0CHp1fKMgxIQFR0JJf\\u002fGEhAIEHxY8wlSEDtDb4wmTJIQLraiv1lP0hAh6dXyjJMSEBUdCSX\\u002f1hIQCBB8WPMZUhA7Q2+MJlySEC62or9ZX9IQIenV8oyjEhAVHQkl\\u002f+YSEAgQfFjzKVIQO0NvjCZskhAutqK\\u002fWW\\u002fSECHp1fKMsxIQFR0JJf\\u002f2EhAIEHxY8zlSEDtDb4wmfJIQLraiv1l\\u002f0hAh6dXyjIMSUBUdCSX\\u002fxhJQCBB8WPMJUlA7Q2+MJkySUC62or9ZT9JQIenV8oyTElAVHQkl\\u002f9YSUAgQfFjzGVJQO0NvjCZcklAutqK\\u002fWV\\u002fSUCHp1fKMoxJQFR0JJf\\u002fmElAIEHxY8ylSUDtDb4wmbJJQLraiv1lv0lAh6dXyjLMSUBUdCSX\\u002f9hJQCBB8WPM5UlA7Q2+MJnySUC62or9Zf9JQIenV8oyDEpAVHQkl\\u002f8YSkAgQfFjzCVKQO0NvjCZMkpAutqK\\u002fWU\\u002fSkCHp1fKMkxKQFR0JJf\\u002fWEpAIEHxY8xlSkDtDb4wmXJKQLraiv1lf0pAh6dXyjKMSkBUdCSX\\u002f5hKQCBB8WPMpUpA7Q2+MJmySkC62or9Zb9KQIenV8oyzEpAVHQkl\\u002f\\u002fYSkAgQfFjzOVKQO0NvjCZ8kpAutqK\\u002fWX\\u002fSkA=\"},\"y\":{\"dtype\":\"f8\",\"bdata\":\"Vg4tsp2De0ACK4cW2bJ8QCcxCKwcWn1AYhBYObRKfUBKDAIrh+58QPT91HjpGH1ArkfhehRofUBMN4lBYGd9QIcW2c73g35Aw\\u002fUoXI8UfkC8dJMYBPB\\u002fQC2yne+nWIFASOF6FK45hEBCYOXQIliIQKAaL90kO4xAEoPAyqGmjUBt5\\u002fup8WyMQAAAAAAAeYlArkfhehSEhUCsHFpkOx2DQOf7qfHSeoBAi2zn+6l7f0BmZmZmZpx\\u002fQLbz\\u002fdR494BABoGVQ4tQgkDJdr6fGniDQF66SQwCXIRAi2zn+6nEgkBSuB6F6+iAQKrx0k1i\\u002fH5Ake18PzXQfUBMN4lBYGV+QNV46SYxpH5ACKwcWmQsgEBU46WbxNuBQIts5\\u002fupV4RArkfhehQWh0BxPQrXo6mIQN9PjZduSIZAPQrXo3DAg0ASg8DKoRqBQFTjpZvEFH5APzVeuklKfUAzMzMzM2l8QCPb+X5q3npAc2iR7Xz9ekArhxbZzg98QD0K16NwtX1ArBxaZDtggEDFILByaAWDQOxRuB6FToZA3SQGgZXlikAIrBxaZPqMQLTIdr6fmYpA\\u002fKnx0k3rhUDRItv5frGBQFyPwvUoDn5Abef7qfGmfEC6SQwCK0N9QN0kBoGVd31A16NwPQoNfkBmZmZmZv59QC2yne+nooBAi2zn+6kkgkCamZmZmYmDQF66SQwCQIRAsHJoke3UgkBg5dAi23SBQKjGSzeJb35AeekmMQjcfUBcj8L1KKR\\u002fQOXQItv5koJAEoPAyqHziEAhsHJokZqRQMP1KFyPjpxAQmDl0KJMpUCyne+nBqCqQBkEVg4tvatAGy\\u002fdJAZ4qUD4U+OlW8akQLbz\\u002fdT44ZxAI9v5fuqgkkCNl24Sgx2HQLKd76fGhoFAexSuR+EmfkCPwvUoXOV8QOXQItv52n1A2\\u002fl+aryafUDhehSuR118QAAAAAAA5n1ARIts5\\u002fu3fEAGgZVDiyp9QG3n+6nx9n1A0SLb+X5UfUAnMQisHNh8QMHKoUW2ZX1ArBxaZDtRfUAzMzMzM1V+QKRwPQrXUYBACKwcWmQEg0A\\u002fNV66SUSGQPhT46WbKYpAhetRuB6kiUDufD81XnmGQOxRuB6FfoJARrbz\\u002fdR5gEDFILByaMt9QPYoXI\\u002fCt31ArBxaZDtffUAfhetRuOx+QGDl0CLbpX5AMQisHFpRgEBYObTIdop\\u002fQPYoXI\\u002fC6X9A46WbxCDQf0CwcmiR7S6AQLTIdr6fvn9AgZVDi2xhfkCq8dJNYoB8QGiR7Xw\\u002ff3tA+n5qvHSHfEB9PzVeukN7QDVeukkMontAiUFg5dDYe0AxCKwcWvx7QBkEVg4tXHtArBxaZDute0A\\u002fNV66SRZ7QKwcWmQ773pAiUFg5dCMe0A=\"},\"type\":\"scatter\"},{\"line\":{\"color\":\"rgb(214, 39, 40)\"},\"mode\":\"lines\",\"name\":\"Total calculated (Icalc)\",\"x\":{\"dtype\":\"f8\",\"bdata\":\"h6dXyjKMREBUdCSX\\u002f5hEQCBB8WPMpURA7Q2+MJmyREC62or9Zb9EQIenV8oyzERAVHQkl\\u002f\\u002fYREAgQfFjzOVEQO0NvjCZ8kRAutqK\\u002fWX\\u002fRECHp1fKMgxFQFR0JJf\\u002fGEVAIEHxY8wlRUDtDb4wmTJFQLraiv1lP0VAh6dXyjJMRUBUdCSX\\u002f1hFQCBB8WPMZUVA7Q2+MJlyRUC62or9ZX9FQIenV8oyjEVAVHQkl\\u002f+YRUAgQfFjzKVFQO0NvjCZskVAutqK\\u002fWW\\u002fRUCHp1fKMsxFQFR0JJf\\u002f2EVAIEHxY8zlRUDtDb4wmfJFQLraiv1l\\u002f0VAh6dXyjIMRkBUdCSX\\u002fxhGQCBB8WPMJUZA7Q2+MJkyRkC62or9ZT9GQIenV8oyTEZAVHQkl\\u002f9YRkAgQfFjzGVGQO0NvjCZckZAutqK\\u002fWV\\u002fRkCHp1fKMoxGQFR0JJf\\u002fmEZAIEHxY8ylRkDtDb4wmbJGQLraiv1lv0ZAh6dXyjLMRkBUdCSX\\u002f9hGQCBB8WPM5UZA7Q2+MJnyRkC62or9Zf9GQIenV8oyDEdAVHQkl\\u002f8YR0AgQfFjzCVHQO0NvjCZMkdAutqK\\u002fWU\\u002fR0CHp1fKMkxHQFR0JJf\\u002fWEdAIEHxY8xlR0DtDb4wmXJHQLraiv1lf0dAh6dXyjKMR0BUdCSX\\u002f5hHQCBB8WPMpUdA7Q2+MJmyR0C62or9Zb9HQIenV8oyzEdAVHQkl\\u002f\\u002fYR0AgQfFjzOVHQO0NvjCZ8kdAutqK\\u002fWX\\u002fR0CHp1fKMgxIQFR0JJf\\u002fGEhAIEHxY8wlSEDtDb4wmTJIQLraiv1lP0hAh6dXyjJMSEBUdCSX\\u002f1hIQCBB8WPMZUhA7Q2+MJlySEC62or9ZX9IQIenV8oyjEhAVHQkl\\u002f+YSEAgQfFjzKVIQO0NvjCZskhAutqK\\u002fWW\\u002fSECHp1fKMsxIQFR0JJf\\u002f2EhAIEHxY8zlSEDtDb4wmfJIQLraiv1l\\u002f0hAh6dXyjIMSUBUdCSX\\u002fxhJQCBB8WPMJUlA7Q2+MJkySUC62or9ZT9JQIenV8oyTElAVHQkl\\u002f9YSUAgQfFjzGVJQO0NvjCZcklAutqK\\u002fWV\\u002fSUCHp1fKMoxJQFR0JJf\\u002fmElAIEHxY8ylSUDtDb4wmbJJQLraiv1lv0lAh6dXyjLMSUBUdCSX\\u002f9hJQCBB8WPM5UlA7Q2+MJnySUC62or9Zf9JQIenV8oyDEpAVHQkl\\u002f8YSkAgQfFjzCVKQO0NvjCZMkpAutqK\\u002fWU\\u002fSkCHp1fKMkxKQFR0JJf\\u002fWEpAIEHxY8xlSkDtDb4wmXJKQLraiv1lf0pAh6dXyjKMSkBUdCSX\\u002f5hKQCBB8WPMpUpA7Q2+MJmySkC62or9Zb9KQIenV8oyzEpAVHQkl\\u002f\\u002fYSkAgQfFjzOVKQO0NvjCZ8kpAutqK\\u002fWX\\u002fSkA=\"},\"y\":{\"dtype\":\"f8\",\"bdata\":\"9cOiBQBAf0COXt1RAEB\\u002fQGbD5cEDQH9A2DoQsCNAf0CwTrPREUF\\u002fQOsHFR6gRn9AOEziYB1hf0A7rmcef8V\\u002fQHyPnc8CeYBARW\\u002f26z3ZgUBsS\\u002f79alaEQAYFLNV6uIdA0kBU+YX4ikDmGvo5r7+MQAAdDGCkY4xAVFugMi5TikDsqiLpg4uHQCyTNXVB4YRAZHUMfeXQgkCnyNsD0aKBQD\\u002fZCKNMeIFAW6ALlCczgkAXWtA02VuDQKD3c04HOYRAut0wLu00hEDj1Igey0iDQJ9Xsxp69oFArcbKWfXSgEBVpk9V2SWAQJ3PEmza4X9AKy44s54zgEB2\\u002fxzObBWBQGHgpF9wxIJAC8xpe5cQhUBySkZvGyeHQCbwVSGB8YdAWr54hKz1hkA+j4d8I8iEQJASnjmOg4JABVaOKvjpgEBNkbHR0xWAQA2b9L+Ci39AM9oIvPh9f0C8UhKJ4f5\\u002fQMTgt1g2zIBAOjLo\\u002fzObgkAouIv+EKyFQPLZ2DVBZolAyJQ\\u002fZ7Q0jEBtHLUp5oKMQAzQlG8MIIpA7+lYHl9whkByQqwx6yyDQI17w0cjLIFANxIIPN1JgEDVZ75OswWAQLlgkIejBIBApxE0oAQ2gED3I2GVHL2AQKKWgTBwt4FAjbM6OnH2gkBkchxlku2DQLUdgSJ3C4RAgH4SEjU6g0BPkeuZpvOBQKMUMgqa0YBAOr\\u002fNm7UjgEBX\\u002fNHiWPJ\\u002fQNAZRCf2joBAsOm4mqrngkBTjz40KSqJQPwdC3kX7ZJAPDsP7DCjnEBgke\\u002flbMKjQDAaVaQK16dAU6Hsq1YOqUBPPAQuez6nQDCNNV7OTaNAkQJuwZwFnUCMy\\u002fwswjGUQLl+YKtCmItAYjLka8ZShEAEEXQjSxqBQJ91FTMU\\u002fX9AlOtF71plf0Buswvi0EV\\u002fQKs57FG2QH9AUREjthFAf0AYQf7CA0B\\u002fQAAswkIaQH9AL+RzZt5Af0CPfhO31UV\\u002fQMprKin3Xn9AQcNdTcHBf0Ch1yqjf3aAQAIlUSMlz4FAOsjLdl4chEDpMESj3+CGQH2DbQMw2ohASBF4mnbaiEC2+\\u002fNkMOCGQCirzbDqGIRAtIEluP\\u002fJgUCd18h+JXKAQIWJ8hPyvH9AvFj3sX1df0DM4\\u002fzt3Ud\\u002fQDyGxQqfTH9AU+csBwJrf0CR3Qd7ALp\\u002fQBHVRd8kKIBANDqKu3aOgEDNEtani+eAQIS2fVKPAIFAfBJRginJgEBknLtK\\u002fmOAQOgZbmsUBYBAeiQGfneRf0BXVChWoll\\u002fQG3TcSdLRn9AFzYBbDRBf0CO9GsALkB\\u002fQG8HUVgFQH9AVAcniQBAf0CUDcHJAEB\\u002fQBA\\u002fiGwIQH9A7csr4UlAf0AGPj26\\u002fEF\\u002fQPoR3Nm7Sn9AX9WCKHJtf0A=\"},\"type\":\"scatter\"},{\"line\":{\"color\":\"rgb(44, 160, 44)\"},\"mode\":\"lines\",\"name\":\"Residual (Imeas - Icalc)\",\"x\":{\"dtype\":\"f8\",\"bdata\":\"h6dXyjKMREBUdCSX\\u002f5hEQCBB8WPMpURA7Q2+MJmyREC62or9Zb9EQIenV8oyzERAVHQkl\\u002f\\u002fYREAgQfFjzOVEQO0NvjCZ8kRAutqK\\u002fWX\\u002fRECHp1fKMgxFQFR0JJf\\u002fGEVAIEHxY8wlRUDtDb4wmTJFQLraiv1lP0VAh6dXyjJMRUBUdCSX\\u002f1hFQCBB8WPMZUVA7Q2+MJlyRUC62or9ZX9FQIenV8oyjEVAVHQkl\\u002f+YRUAgQfFjzKVFQO0NvjCZskVAutqK\\u002fWW\\u002fRUCHp1fKMsxFQFR0JJf\\u002f2EVAIEHxY8zlRUDtDb4wmfJFQLraiv1l\\u002f0VAh6dXyjIMRkBUdCSX\\u002fxhGQCBB8WPMJUZA7Q2+MJkyRkC62or9ZT9GQIenV8oyTEZAVHQkl\\u002f9YRkAgQfFjzGVGQO0NvjCZckZAutqK\\u002fWV\\u002fRkCHp1fKMoxGQFR0JJf\\u002fmEZAIEHxY8ylRkDtDb4wmbJGQLraiv1lv0ZAh6dXyjLMRkBUdCSX\\u002f9hGQCBB8WPM5UZA7Q2+MJnyRkC62or9Zf9GQIenV8oyDEdAVHQkl\\u002f8YR0AgQfFjzCVHQO0NvjCZMkdAutqK\\u002fWU\\u002fR0CHp1fKMkxHQFR0JJf\\u002fWEdAIEHxY8xlR0DtDb4wmXJHQLraiv1lf0dAh6dXyjKMR0BUdCSX\\u002f5hHQCBB8WPMpUdA7Q2+MJmyR0C62or9Zb9HQIenV8oyzEdAVHQkl\\u002f\\u002fYR0AgQfFjzOVHQO0NvjCZ8kdAutqK\\u002fWX\\u002fR0CHp1fKMgxIQFR0JJf\\u002fGEhAIEHxY8wlSEDtDb4wmTJIQLraiv1lP0hAh6dXyjJMSEBUdCSX\\u002f1hIQCBB8WPMZUhA7Q2+MJlySEC62or9ZX9IQIenV8oyjEhAVHQkl\\u002f+YSEAgQfFjzKVIQO0NvjCZskhAutqK\\u002fWW\\u002fSECHp1fKMsxIQFR0JJf\\u002f2EhAIEHxY8zlSEDtDb4wmfJIQLraiv1l\\u002f0hAh6dXyjIMSUBUdCSX\\u002fxhJQCBB8WPMJUlA7Q2+MJkySUC62or9ZT9JQIenV8oyTElAVHQkl\\u002f9YSUAgQfFjzGVJQO0NvjCZcklAutqK\\u002fWV\\u002fSUCHp1fKMoxJQFR0JJf\\u002fmElAIEHxY8ylSUDtDb4wmbJJQLraiv1lv0lAh6dXyjLMSUBUdCSX\\u002f9hJQCBB8WPM5UlA7Q2+MJnySUC62or9Zf9JQIenV8oyDEpAVHQkl\\u002f8YSkAgQfFjzCVKQO0NvjCZMkpAutqK\\u002fWU\\u002fSkCHp1fKMkxKQFR0JJf\\u002fWEpAIEHxY8xlSkDtDb4wmXJKQLraiv1lf0pAh6dXyjKMSkBUdCSX\\u002f5hKQCBB8WPMpUpA7Q2+MJmySkC62or9Zb9KQIenV8oyzEpAVHQkl\\u002f\\u002fYSkAgQfFjzOVKQO0NvjCZ8kpAutqK\\u002fWX\\u002fSkA=\"},\"y\":{\"dtype\":\"f8\",\"bdata\":\"+KytmxLjTcBgnLHaOWlEwPAj2V1xXj7AYKeCa\\u002fdWP8AwE4o1VZRCwLhPACq1bUHAoEgQYI6QP8B4t\\u002fPm9vBCwIhDEINucEPAHKMP77F3VsA4RNLGo3lhwGRLOZZLf2nAKH5lk1\\u002f7asCQ6lKkMZ5hwAAwgW7BPxTA8D0BwZybWkAE8mQDt4VjQFCzKSv6XmJAUJKm7neZVUBQQOUHpqZHQACr2ys2rz\\u002fArFC\\u002fsJSqU8AgN+kMMG1cwFAfsMtzDFrAQMu1qR5GTsAA89CawKcXQPgVs4w\\u002fLFNA4F3KIUobT0CgP+L5RWI4QGC++8cDryzAKHabN0G4RMAAPYbVyitOwLQfgWG+klvADIA0hcyQY8B4nIFOWy1lwNgcdCu5zlzAAKpENPszEECYcRXUAgxfQHjqee8CJ15AwKFFysOzVkBQHO+Q30xAQJB760TiazfAoCdVDXidQcBI\\u002fPiucq1MwJSZ18kI6FrAAvh9JNZxZMBK0gFIppBuwKep2scRF3XAOPDKBfKod8BQ9wlu+\\u002fpywADx44Y6jF7AuOu0itnUYUAs0+BQ8ppzQE6aZu342nJAFF+mW8KFZkDAr8uxurxKQGAh45XhsT\\u002fACN9hs7woTsDQ+NeiONxQwJwh9H8r3VfADA0T3GB\\u002fX8DE\\u002fKTHfLljwEBcG5d5RlvAUB+xYrFYQcCwhOD6L19JQNgtvRBAc1tAsJvVrL+JVUBIc34W67pHQMBn47kYc0XAnKcrETTNX8BKj7pyKbBywBNr8xY1R4PAs\\u002fmuBmApkMCfcmxjSOqVwJ0+geyFH5PAiAg62J4NfsAYC1vPWwx7QNLtQGC93pBApVtMiG\\u002fqlUBk3Mke9VqVQLNom\\u002f6uK45A5IMPkg7vgEAkGuq73wxoQCguTubIg0hAkHF9eZrnM8D4hq\\u002fIpQNDwGCMlmzHWzbAYHdBulRVOsC4MU6n4BVHwADAIiykoTXAWMc6+BNHRMBI7O+bU9pAwNBF6PJXgDbAgAMVnBJqQ8Bs+DVpilNQwAz9AQRQ4ljAkOd6EgPPZcA+XaomGNluwLIlYPKxEHHAAJVtAUlYZ8DgzrhS1XwzwECjVtTDQmhARKexAHxob0BEldrZ4hxoQExp+KVgAFVAAD0Bn8RiOUBwMMy0V8c3wGDUlbbHTTnAOFWWFjVeQMBADosjBakpwCBMrLvppjrAgAEZb0+OHsAQYr83BCVCwJAg+qzgukDAUPFnACQjPMAA2pSpXIgawADHWhlG4hLAkO8oLK8AM8BoFatCAMpGwCgQIlRdOE7A6Li1fP3NRcCIqLURneNPwNBJtXTI70zAWC42Hn05S8AYK6hoNR1KwLjXkfHaHk\\u002fACHqN5nOYTMAcI3z\\u002fy65QwDjVB9YBblHAsJ4UGQoFT8A=\"},\"type\":\"scatter\"}],                        {\"legend\":{\"x\":1.0,\"xanchor\":\"right\",\"y\":1.0,\"yanchor\":\"top\"},\"margin\":{\"autoexpand\":true,\"b\":45,\"r\":30,\"t\":40},\"title\":{\"text\":\"Measured vs Calculated data for experiment \\ud83d\\udd2c 'd20'\"},\"xaxis\":{\"mirror\":true,\"showline\":true,\"title\":{\"text\":\"2\\u03b8 (degree)\"},\"zeroline\":false,\"tickformat\":\",.6~g\",\"separatethousands\":true},\"yaxis\":{\"mirror\":true,\"showline\":true,\"title\":{\"text\":\"Intensity (arb. units)\"},\"zeroline\":false,\"tickformat\":\",.6~g\",\"separatethousands\":true},\"template\":{\"data\":{\"histogram2dcontour\":[{\"type\":\"histogram2dcontour\",\"colorbar\":{\"outlinewidth\":0,\"ticks\":\"\"},\"colorscale\":[[0.0,\"#0d0887\"],[0.1111111111111111,\"#46039f\"],[0.2222222222222222,\"#7201a8\"],[0.3333333333333333,\"#9c179e\"],[0.4444444444444444,\"#bd3786\"],[0.5555555555555556,\"#d8576b\"],[0.6666666666666666,\"#ed7953\"],[0.7777777777777778,\"#fb9f3a\"],[0.8888888888888888,\"#fdca26\"],[1.0,\"#f0f921\"]]}],\"choropleth\":[{\"type\":\"choropleth\",\"colorbar\":{\"outlinewidth\":0,\"ticks\":\"\"}}],\"histogram2d\":[{\"type\":\"histogram2d\",\"colorbar\":{\"outlinewidth\":0,\"ticks\":\"\"},\"colorscale\":[[0.0,\"#0d0887\"],[0.1111111111111111,\"#46039f\"],[0.2222222222222222,\"#7201a8\"],[0.3333333333333333,\"#9c179e\"],[0.4444444444444444,\"#bd3786\"],[0.5555555555555556,\"#d8576b\"],[0.6666666666666666,\"#ed7953\"],[0.7777777777777778,\"#fb9f3a\"],[0.8888888888888888,\"#fdca26\"],[1.0,\"#f0f921\"]]}],\"heatmap\":[{\"type\":\"heatmap\",\"colorbar\":{\"outlinewidth\":0,\"ticks\":\"\"},\"colorscale\":[[0.0,\"#0d0887\"],[0.1111111111111111,\"#46039f\"],[0.2222222222222222,\"#7201a8\"],[0.3333333333333333,\"#9c179e\"],[0.4444444444444444,\"#bd3786\"],[0.5555555555555556,\"#d8576b\"],[0.6666666666666666,\"#ed7953\"],[0.7777777777777778,\"#fb9f3a\"],[0.8888888888888888,\"#fdca26\"],[1.0,\"#f0f921\"]]}],\"contourcarpet\":[{\"type\":\"contourcarpet\",\"colorbar\":{\"outlinewidth\":0,\"ticks\":\"\"}}],\"contour\":[{\"type\":\"contour\",\"colorbar\":{\"outlinewidth\":0,\"ticks\":\"\"},\"colorscale\":[[0.0,\"#0d0887\"],[0.1111111111111111,\"#46039f\"],[0.2222222222222222,\"#7201a8\"],[0.3333333333333333,\"#9c179e\"],[0.4444444444444444,\"#bd3786\"],[0.5555555555555556,\"#d8576b\"],[0.6666666666666666,\"#ed7953\"],[0.7777777777777778,\"#fb9f3a\"],[0.8888888888888888,\"#fdca26\"],[1.0,\"#f0f921\"]]}],\"surface\":[{\"type\":\"surface\",\"colorbar\":{\"outlinewidth\":0,\"ticks\":\"\"},\"colorscale\":[[0.0,\"#0d0887\"],[0.1111111111111111,\"#46039f\"],[0.2222222222222222,\"#7201a8\"],[0.3333333333333333,\"#9c179e\"],[0.4444444444444444,\"#bd3786\"],[0.5555555555555556,\"#d8576b\"],[0.6666666666666666,\"#ed7953\"],[0.7777777777777778,\"#fb9f3a\"],[0.8888888888888888,\"#fdca26\"],[1.0,\"#f0f921\"]]}],\"mesh3d\":[{\"type\":\"mesh3d\",\"colorbar\":{\"outlinewidth\":0,\"ticks\":\"\"}}],\"scatter\":[{\"fillpattern\":{\"fillmode\":\"overlay\",\"size\":10,\"solidity\":0.2},\"type\":\"scatter\"}],\"parcoords\":[{\"type\":\"parcoords\",\"line\":{\"colorbar\":{\"outlinewidth\":0,\"ticks\":\"\"}}}],\"scatterpolargl\":[{\"type\":\"scatterpolargl\",\"marker\":{\"colorbar\":{\"outlinewidth\":0,\"ticks\":\"\"}}}],\"bar\":[{\"error_x\":{\"color\":\"#2a3f5f\"},\"error_y\":{\"color\":\"#2a3f5f\"},\"marker\":{\"line\":{\"color\":\"white\",\"width\":0.5},\"pattern\":{\"fillmode\":\"overlay\",\"size\":10,\"solidity\":0.2}},\"type\":\"bar\"}],\"scattergeo\":[{\"type\":\"scattergeo\",\"marker\":{\"colorbar\":{\"outlinewidth\":0,\"ticks\":\"\"}}}],\"scatterpolar\":[{\"type\":\"scatterpolar\",\"marker\":{\"colorbar\":{\"outlinewidth\":0,\"ticks\":\"\"}}}],\"histogram\":[{\"marker\":{\"pattern\":{\"fillmode\":\"overlay\",\"size\":10,\"solidity\":0.2}},\"type\":\"histogram\"}],\"scattergl\":[{\"type\":\"scattergl\",\"marker\":{\"colorbar\":{\"outlinewidth\":0,\"ticks\":\"\"}}}],\"scatter3d\":[{\"type\":\"scatter3d\",\"line\":{\"colorbar\":{\"outlinewidth\":0,\"ticks\":\"\"}},\"marker\":{\"colorbar\":{\"outlinewidth\":0,\"ticks\":\"\"}}}],\"scattermap\":[{\"type\":\"scattermap\",\"marker\":{\"colorbar\":{\"outlinewidth\":0,\"ticks\":\"\"}}}],\"scattermapbox\":[{\"type\":\"scattermapbox\",\"marker\":{\"colorbar\":{\"outlinewidth\":0,\"ticks\":\"\"}}}],\"scatterternary\":[{\"type\":\"scatterternary\",\"marker\":{\"colorbar\":{\"outlinewidth\":0,\"ticks\":\"\"}}}],\"scattercarpet\":[{\"type\":\"scattercarpet\",\"marker\":{\"colorbar\":{\"outlinewidth\":0,\"ticks\":\"\"}}}],\"carpet\":[{\"aaxis\":{\"endlinecolor\":\"#2a3f5f\",\"gridcolor\":\"#C8D4E3\",\"linecolor\":\"#C8D4E3\",\"minorgridcolor\":\"#C8D4E3\",\"startlinecolor\":\"#2a3f5f\"},\"baxis\":{\"endlinecolor\":\"#2a3f5f\",\"gridcolor\":\"#C8D4E3\",\"linecolor\":\"#C8D4E3\",\"minorgridcolor\":\"#C8D4E3\",\"startlinecolor\":\"#2a3f5f\"},\"type\":\"carpet\"}],\"table\":[{\"cells\":{\"fill\":{\"color\":\"#EBF0F8\"},\"line\":{\"color\":\"white\"}},\"header\":{\"fill\":{\"color\":\"#C8D4E3\"},\"line\":{\"color\":\"white\"}},\"type\":\"table\"}],\"barpolar\":[{\"marker\":{\"line\":{\"color\":\"white\",\"width\":0.5},\"pattern\":{\"fillmode\":\"overlay\",\"size\":10,\"solidity\":0.2}},\"type\":\"barpolar\"}],\"pie\":[{\"automargin\":true,\"type\":\"pie\"}]},\"layout\":{\"autotypenumbers\":\"strict\",\"colorway\":[\"#636efa\",\"#EF553B\",\"#00cc96\",\"#ab63fa\",\"#FFA15A\",\"#19d3f3\",\"#FF6692\",\"#B6E880\",\"#FF97FF\",\"#FECB52\"],\"font\":{\"color\":\"#2a3f5f\"},\"hovermode\":\"closest\",\"hoverlabel\":{\"align\":\"left\"},\"paper_bgcolor\":\"white\",\"plot_bgcolor\":\"white\",\"polar\":{\"bgcolor\":\"white\",\"angularaxis\":{\"gridcolor\":\"#EBF0F8\",\"linecolor\":\"#EBF0F8\",\"ticks\":\"\"},\"radialaxis\":{\"gridcolor\":\"#EBF0F8\",\"linecolor\":\"#EBF0F8\",\"ticks\":\"\"}},\"ternary\":{\"bgcolor\":\"white\",\"aaxis\":{\"gridcolor\":\"#DFE8F3\",\"linecolor\":\"#A2B1C6\",\"ticks\":\"\"},\"baxis\":{\"gridcolor\":\"#DFE8F3\",\"linecolor\":\"#A2B1C6\",\"ticks\":\"\"},\"caxis\":{\"gridcolor\":\"#DFE8F3\",\"linecolor\":\"#A2B1C6\",\"ticks\":\"\"}},\"coloraxis\":{\"colorbar\":{\"outlinewidth\":0,\"ticks\":\"\"}},\"colorscale\":{\"sequential\":[[0.0,\"#0d0887\"],[0.1111111111111111,\"#46039f\"],[0.2222222222222222,\"#7201a8\"],[0.3333333333333333,\"#9c179e\"],[0.4444444444444444,\"#bd3786\"],[0.5555555555555556,\"#d8576b\"],[0.6666666666666666,\"#ed7953\"],[0.7777777777777778,\"#fb9f3a\"],[0.8888888888888888,\"#fdca26\"],[1.0,\"#f0f921\"]],\"sequentialminus\":[[0.0,\"#0d0887\"],[0.1111111111111111,\"#46039f\"],[0.2222222222222222,\"#7201a8\"],[0.3333333333333333,\"#9c179e\"],[0.4444444444444444,\"#bd3786\"],[0.5555555555555556,\"#d8576b\"],[0.6666666666666666,\"#ed7953\"],[0.7777777777777778,\"#fb9f3a\"],[0.8888888888888888,\"#fdca26\"],[1.0,\"#f0f921\"]],\"diverging\":[[0,\"#8e0152\"],[0.1,\"#c51b7d\"],[0.2,\"#de77ae\"],[0.3,\"#f1b6da\"],[0.4,\"#fde0ef\"],[0.5,\"#f7f7f7\"],[0.6,\"#e6f5d0\"],[0.7,\"#b8e186\"],[0.8,\"#7fbc41\"],[0.9,\"#4d9221\"],[1,\"#276419\"]]},\"xaxis\":{\"gridcolor\":\"#EBF0F8\",\"linecolor\":\"#EBF0F8\",\"ticks\":\"\",\"title\":{\"standoff\":15},\"zerolinecolor\":\"#EBF0F8\",\"automargin\":true,\"zerolinewidth\":2},\"yaxis\":{\"gridcolor\":\"#EBF0F8\",\"linecolor\":\"#EBF0F8\",\"ticks\":\"\",\"title\":{\"standoff\":15},\"zerolinecolor\":\"#EBF0F8\",\"automargin\":true,\"zerolinewidth\":2},\"scene\":{\"xaxis\":{\"backgroundcolor\":\"white\",\"gridcolor\":\"#DFE8F3\",\"linecolor\":\"#EBF0F8\",\"showbackground\":true,\"ticks\":\"\",\"zerolinecolor\":\"#EBF0F8\",\"gridwidth\":2},\"yaxis\":{\"backgroundcolor\":\"white\",\"gridcolor\":\"#DFE8F3\",\"linecolor\":\"#EBF0F8\",\"showbackground\":true,\"ticks\":\"\",\"zerolinecolor\":\"#EBF0F8\",\"gridwidth\":2},\"zaxis\":{\"backgroundcolor\":\"white\",\"gridcolor\":\"#DFE8F3\",\"linecolor\":\"#EBF0F8\",\"showbackground\":true,\"ticks\":\"\",\"zerolinecolor\":\"#EBF0F8\",\"gridwidth\":2}},\"shapedefaults\":{\"line\":{\"color\":\"#2a3f5f\"}},\"annotationdefaults\":{\"arrowcolor\":\"#2a3f5f\",\"arrowhead\":0,\"arrowwidth\":1},\"geo\":{\"bgcolor\":\"white\",\"landcolor\":\"white\",\"subunitcolor\":\"#C8D4E3\",\"showland\":true,\"showlakes\":true,\"lakecolor\":\"white\"},\"title\":{\"x\":0.05},\"mapbox\":{\"style\":\"light\"}}}},                        {\"displaylogo\": false, \"modeBarButtonsToRemove\": [\"select2d\", \"lasso2d\", \"zoomIn2d\", \"zoomOut2d\", \"autoScale2d\"], \"responsive\": true}                    )                };            </script>        </div>"
      ],
      "text/plain": [
       "<IPython.core.display.HTML object>"
      ]
     },
     "metadata": {},
     "output_type": "display_data"
    }
   ],
   "source": [
    "project.plot_meas_vs_calc(expt_name='d20', x_min=41, x_max=54, show_residual=True)"
   ]
  },
  {
   "cell_type": "markdown",
   "id": "44",
   "metadata": {},
   "source": [
    "#### Set Free Parameters"
   ]
  },
  {
   "cell_type": "code",
   "execution_count": 24,
   "id": "45",
   "metadata": {
    "execution": {
     "iopub.execute_input": "2025-08-31T19:32:03.444793Z",
     "iopub.status.busy": "2025-08-31T19:32:03.444644Z",
     "iopub.status.idle": "2025-08-31T19:32:03.453933Z",
     "shell.execute_reply": "2025-08-31T19:32:03.453264Z"
    }
   },
   "outputs": [],
   "source": [
    "model.cell.length_a.free = True\n",
    "model.cell.length_b.free = True\n",
    "model.cell.length_c.free = True\n",
    "\n",
    "model.atom_sites['Co2'].fract_x.free = True\n",
    "model.atom_sites['Co2'].fract_z.free = True\n",
    "model.atom_sites['Si'].fract_x.free = True\n",
    "model.atom_sites['Si'].fract_z.free = True\n",
    "model.atom_sites['O1'].fract_x.free = True\n",
    "model.atom_sites['O1'].fract_z.free = True\n",
    "model.atom_sites['O2'].fract_x.free = True\n",
    "model.atom_sites['O2'].fract_z.free = True\n",
    "model.atom_sites['O3'].fract_x.free = True\n",
    "model.atom_sites['O3'].fract_y.free = True\n",
    "model.atom_sites['O3'].fract_z.free = True\n",
    "\n",
    "model.atom_sites['Co1'].b_iso.free = True\n",
    "model.atom_sites['Co2'].b_iso.free = True\n",
    "model.atom_sites['Si'].b_iso.free = True\n",
    "model.atom_sites['O1'].b_iso.free = True\n",
    "model.atom_sites['O2'].b_iso.free = True\n",
    "model.atom_sites['O3'].b_iso.free = True"
   ]
  },
  {
   "cell_type": "code",
   "execution_count": 25,
   "id": "46",
   "metadata": {
    "execution": {
     "iopub.execute_input": "2025-08-31T19:32:03.456621Z",
     "iopub.status.busy": "2025-08-31T19:32:03.456437Z",
     "iopub.status.idle": "2025-08-31T19:32:03.459941Z",
     "shell.execute_reply": "2025-08-31T19:32:03.459148Z"
    }
   },
   "outputs": [],
   "source": [
    "expt.linked_phases['cosio'].scale.free = True\n",
    "\n",
    "expt.instrument.calib_twotheta_offset.free = True\n",
    "\n",
    "expt.peak.broad_gauss_u.free = True\n",
    "expt.peak.broad_gauss_v.free = True\n",
    "expt.peak.broad_gauss_w.free = True\n",
    "expt.peak.broad_lorentz_y.free = True\n",
    "\n",
    "for point in expt.background:\n",
    "    point.y.free = True"
   ]
  },
  {
   "cell_type": "markdown",
   "id": "47",
   "metadata": {},
   "source": [
    "#### Set Constraints\n",
    "\n",
    "Set aliases for parameters."
   ]
  },
  {
   "cell_type": "code",
   "execution_count": 26,
   "id": "48",
   "metadata": {
    "execution": {
     "iopub.execute_input": "2025-08-31T19:32:03.462621Z",
     "iopub.status.busy": "2025-08-31T19:32:03.462479Z",
     "iopub.status.idle": "2025-08-31T19:32:03.465513Z",
     "shell.execute_reply": "2025-08-31T19:32:03.464934Z"
    }
   },
   "outputs": [],
   "source": [
    "project.analysis.aliases.add(\n",
    "    label='biso_Co1',\n",
    "    param_uid=project.sample_models['cosio'].atom_sites['Co1'].b_iso.uid,\n",
    ")\n",
    "project.analysis.aliases.add(\n",
    "    label='biso_Co2',\n",
    "    param_uid=project.sample_models['cosio'].atom_sites['Co2'].b_iso.uid,\n",
    ")"
   ]
  },
  {
   "cell_type": "markdown",
   "id": "49",
   "metadata": {},
   "source": [
    "Set constraints."
   ]
  },
  {
   "cell_type": "code",
   "execution_count": 27,
   "id": "50",
   "metadata": {
    "execution": {
     "iopub.execute_input": "2025-08-31T19:32:03.467659Z",
     "iopub.status.busy": "2025-08-31T19:32:03.467487Z",
     "iopub.status.idle": "2025-08-31T19:32:03.473334Z",
     "shell.execute_reply": "2025-08-31T19:32:03.470485Z"
    }
   },
   "outputs": [],
   "source": [
    "project.analysis.constraints.add(\n",
    "    lhs_alias='biso_Co2',\n",
    "    rhs_expr='biso_Co1',\n",
    ")"
   ]
  },
  {
   "cell_type": "markdown",
   "id": "51",
   "metadata": {},
   "source": [
    "Apply constraints."
   ]
  },
  {
   "cell_type": "code",
   "execution_count": 28,
   "id": "52",
   "metadata": {
    "execution": {
     "iopub.execute_input": "2025-08-31T19:32:03.477029Z",
     "iopub.status.busy": "2025-08-31T19:32:03.476807Z",
     "iopub.status.idle": "2025-08-31T19:32:03.484347Z",
     "shell.execute_reply": "2025-08-31T19:32:03.482904Z"
    }
   },
   "outputs": [],
   "source": [
    "project.analysis.apply_constraints()"
   ]
  },
  {
   "cell_type": "markdown",
   "id": "53",
   "metadata": {},
   "source": [
    "#### Run Fitting"
   ]
  },
  {
   "cell_type": "code",
   "execution_count": 29,
   "id": "54",
   "metadata": {
    "execution": {
     "iopub.execute_input": "2025-08-31T19:32:03.489004Z",
     "iopub.status.busy": "2025-08-31T19:32:03.488554Z",
     "iopub.status.idle": "2025-08-31T19:32:20.338787Z",
     "shell.execute_reply": "2025-08-31T19:32:20.338342Z"
    }
   },
   "outputs": [
    {
     "name": "stdout",
     "output_type": "stream",
     "text": [
      "\n",
      "\u001b[94m\u001b[1mUsing experiment 🔬 \u001b[0m'd20'\u001b[94m\u001b[1m for \u001b[0m'single'\u001b[94m\u001b[1m fitting\u001b[0m\n",
      "🚀 Starting fit process with 'lmfit (leastsq)'...\n",
      "📈 Goodness-of-fit (reduced χ²) change:\n"
     ]
    },
    {
     "data": {
      "text/html": [
       "<table class=\"dataframe\" style=\"border-collapse: collapse; border: 1px solid #515155; margin-left: 0.5em;margin-top: 0.5em;margin-bottom: 1em;\">\n",
       "  <thead>\n",
       "    <tr style=\"text-align: right;\">\n",
       "      <th style=\"text-align: center;\">iteration</th>\n",
       "      <th style=\"text-align: center;\">χ²</th>\n",
       "      <th style=\"text-align: center;\">improvement [%]</th>\n",
       "    </tr>\n",
       "  </thead>\n",
       "  <tbody>\n",
       "    <tr>\n",
       "      <td><div style=\"text-align: center;\">1</div></td>\n",
       "      <td><div style=\"text-align: center;\">423.20</div></td>\n",
       "      <td><div style=\"text-align: center;\"></div></td>\n",
       "    </tr>\n",
       "    <tr>\n",
       "      <td><div style=\"text-align: center;\">43</div></td>\n",
       "      <td><div style=\"text-align: center;\">71.71</div></td>\n",
       "      <td><div style=\"text-align: center;\">83.1% ↓</div></td>\n",
       "    </tr>\n",
       "    <tr>\n",
       "      <td><div style=\"text-align: center;\">83</div></td>\n",
       "      <td><div style=\"text-align: center;\">40.43</div></td>\n",
       "      <td><div style=\"text-align: center;\">43.6% ↓</div></td>\n",
       "    </tr>\n",
       "    <tr>\n",
       "      <td><div style=\"text-align: center;\">123</div></td>\n",
       "      <td><div style=\"text-align: center;\">17.05</div></td>\n",
       "      <td><div style=\"text-align: center;\">57.8% ↓</div></td>\n",
       "    </tr>\n",
       "    <tr>\n",
       "      <td><div style=\"text-align: center;\">163</div></td>\n",
       "      <td><div style=\"text-align: center;\">10.78</div></td>\n",
       "      <td><div style=\"text-align: center;\">36.8% ↓</div></td>\n",
       "    </tr>\n",
       "    <tr>\n",
       "      <td><div style=\"text-align: center;\">203</div></td>\n",
       "      <td><div style=\"text-align: center;\">9.26</div></td>\n",
       "      <td><div style=\"text-align: center;\">14.1% ↓</div></td>\n",
       "    </tr>\n",
       "    <tr>\n",
       "      <td><div style=\"text-align: center;\">243</div></td>\n",
       "      <td><div style=\"text-align: center;\">8.08</div></td>\n",
       "      <td><div style=\"text-align: center;\">12.7% ↓</div></td>\n",
       "    </tr>\n",
       "    <tr>\n",
       "      <td><div style=\"text-align: center;\">283</div></td>\n",
       "      <td><div style=\"text-align: center;\">5.66</div></td>\n",
       "      <td><div style=\"text-align: center;\">30.0% ↓</div></td>\n",
       "    </tr>\n",
       "    <tr>\n",
       "      <td><div style=\"text-align: center;\">323</div></td>\n",
       "      <td><div style=\"text-align: center;\">4.67</div></td>\n",
       "      <td><div style=\"text-align: center;\">17.4% ↓</div></td>\n",
       "    </tr>\n",
       "    <tr>\n",
       "      <td><div style=\"text-align: center;\">363</div></td>\n",
       "      <td><div style=\"text-align: center;\">4.57</div></td>\n",
       "      <td><div style=\"text-align: center;\">2.3% ↓</div></td>\n",
       "    </tr>\n",
       "    <tr>\n",
       "      <td><div style=\"text-align: center;\">564</div></td>\n",
       "      <td><div style=\"text-align: center;\">4.56</div></td>\n",
       "      <td><div style=\"text-align: center;\"></div></td>\n",
       "    </tr>\n",
       "  </tbody>\n",
       "</table>"
      ],
      "text/plain": [
       "<IPython.core.display.HTML object>"
      ]
     },
     "metadata": {},
     "output_type": "display_data"
    },
    {
     "name": "stdout",
     "output_type": "stream",
     "text": [
      "🏆 Best goodness-of-fit (reduced χ²) is 4.56 at iteration 562\n",
      "✅ Fitting complete.\n"
     ]
    },
    {
     "name": "stdout",
     "output_type": "stream",
     "text": [
      "\n",
      "\u001b[94m\u001b[1mFit results\u001b[0m\n",
      "✅ Success: True\n",
      "⏱️ Fitting time: 16.62 seconds\n",
      "📏 Goodness-of-fit (reduced χ²): 4.56\n",
      "📏 R-factor (Rf): 3.04%\n",
      "📏 R-factor squared (Rf²): 4.54%\n",
      "📏 Weighted R-factor (wR): 4.87%\n",
      "📈 Fitted parameters:\n"
     ]
    },
    {
     "data": {
      "text/html": [
       "<table class=\"dataframe\" style=\"border-collapse: collapse; border: 1px solid #515155; margin-left: 0.5em;margin-top: 0.5em;margin-bottom: 1em;\">\n",
       "  <thead>\n",
       "    <tr style=\"text-align: right;\">\n",
       "      <th></th>\n",
       "      <th style=\"text-align: left;\">datablock</th>\n",
       "      <th style=\"text-align: left;\">category</th>\n",
       "      <th style=\"text-align: left;\">entry</th>\n",
       "      <th style=\"text-align: left;\">parameter</th>\n",
       "      <th style=\"text-align: right;\">start</th>\n",
       "      <th style=\"text-align: right;\">fitted</th>\n",
       "      <th style=\"text-align: right;\">uncertainty</th>\n",
       "      <th style=\"text-align: left;\">units</th>\n",
       "      <th style=\"text-align: right;\">change</th>\n",
       "    </tr>\n",
       "  </thead>\n",
       "  <tbody>\n",
       "    <tr>\n",
       "      <th>1</th>\n",
       "      <td><div style=\"text-align: left;\">cosio</div></td>\n",
       "      <td><div style=\"text-align: left;\">atom_sites</div></td>\n",
       "      <td><div style=\"text-align: left;\">Co1</div></td>\n",
       "      <td><div style=\"text-align: left;\">b_iso</div></td>\n",
       "      <td><div style=\"text-align: right;\">0.5000</div></td>\n",
       "      <td><div style=\"text-align: right;\">0.2770</div></td>\n",
       "      <td><div style=\"text-align: right;\">0.0802</div></td>\n",
       "      <td><div style=\"text-align: left;\">Å²</div></td>\n",
       "      <td><div style=\"text-align: right;\">44.59 % ↓</div></td>\n",
       "    </tr>\n",
       "    <tr>\n",
       "      <th>2</th>\n",
       "      <td><div style=\"text-align: left;\">cosio</div></td>\n",
       "      <td><div style=\"text-align: left;\">atom_sites</div></td>\n",
       "      <td><div style=\"text-align: left;\">Co2</div></td>\n",
       "      <td><div style=\"text-align: left;\">fract_x</div></td>\n",
       "      <td><div style=\"text-align: right;\">0.2790</div></td>\n",
       "      <td><div style=\"text-align: right;\">0.2794</div></td>\n",
       "      <td><div style=\"text-align: right;\">0.0007</div></td>\n",
       "      <td><div style=\"text-align: left;\"></div></td>\n",
       "      <td><div style=\"text-align: right;\">0.14 % ↑</div></td>\n",
       "    </tr>\n",
       "    <tr>\n",
       "      <th>3</th>\n",
       "      <td><div style=\"text-align: left;\">cosio</div></td>\n",
       "      <td><div style=\"text-align: left;\">atom_sites</div></td>\n",
       "      <td><div style=\"text-align: left;\">Co2</div></td>\n",
       "      <td><div style=\"text-align: left;\">fract_z</div></td>\n",
       "      <td><div style=\"text-align: right;\">0.9850</div></td>\n",
       "      <td><div style=\"text-align: right;\">0.9847</div></td>\n",
       "      <td><div style=\"text-align: right;\">0.0015</div></td>\n",
       "      <td><div style=\"text-align: left;\"></div></td>\n",
       "      <td><div style=\"text-align: right;\">0.03 % ↓</div></td>\n",
       "    </tr>\n",
       "    <tr>\n",
       "      <th>4</th>\n",
       "      <td><div style=\"text-align: left;\">cosio</div></td>\n",
       "      <td><div style=\"text-align: left;\">atom_sites</div></td>\n",
       "      <td><div style=\"text-align: left;\">Si</div></td>\n",
       "      <td><div style=\"text-align: left;\">b_iso</div></td>\n",
       "      <td><div style=\"text-align: right;\">0.5000</div></td>\n",
       "      <td><div style=\"text-align: right;\">0.3519</div></td>\n",
       "      <td><div style=\"text-align: right;\">0.0625</div></td>\n",
       "      <td><div style=\"text-align: left;\">Å²</div></td>\n",
       "      <td><div style=\"text-align: right;\">29.62 % ↓</div></td>\n",
       "    </tr>\n",
       "    <tr>\n",
       "      <th>5</th>\n",
       "      <td><div style=\"text-align: left;\">cosio</div></td>\n",
       "      <td><div style=\"text-align: left;\">atom_sites</div></td>\n",
       "      <td><div style=\"text-align: left;\">Si</div></td>\n",
       "      <td><div style=\"text-align: left;\">fract_x</div></td>\n",
       "      <td><div style=\"text-align: right;\">0.0940</div></td>\n",
       "      <td><div style=\"text-align: right;\">0.0937</div></td>\n",
       "      <td><div style=\"text-align: right;\">0.0004</div></td>\n",
       "      <td><div style=\"text-align: left;\"></div></td>\n",
       "      <td><div style=\"text-align: right;\">0.31 % ↓</div></td>\n",
       "    </tr>\n",
       "    <tr>\n",
       "      <th>6</th>\n",
       "      <td><div style=\"text-align: left;\">cosio</div></td>\n",
       "      <td><div style=\"text-align: left;\">atom_sites</div></td>\n",
       "      <td><div style=\"text-align: left;\">Si</div></td>\n",
       "      <td><div style=\"text-align: left;\">fract_z</div></td>\n",
       "      <td><div style=\"text-align: right;\">0.4290</div></td>\n",
       "      <td><div style=\"text-align: right;\">0.4290</div></td>\n",
       "      <td><div style=\"text-align: right;\">0.0008</div></td>\n",
       "      <td><div style=\"text-align: left;\"></div></td>\n",
       "      <td><div style=\"text-align: right;\">0.01 % ↑</div></td>\n",
       "    </tr>\n",
       "    <tr>\n",
       "      <th>7</th>\n",
       "      <td><div style=\"text-align: left;\">cosio</div></td>\n",
       "      <td><div style=\"text-align: left;\">atom_sites</div></td>\n",
       "      <td><div style=\"text-align: left;\">O1</div></td>\n",
       "      <td><div style=\"text-align: left;\">b_iso</div></td>\n",
       "      <td><div style=\"text-align: right;\">0.5000</div></td>\n",
       "      <td><div style=\"text-align: right;\">0.6457</div></td>\n",
       "      <td><div style=\"text-align: right;\">0.0581</div></td>\n",
       "      <td><div style=\"text-align: left;\">Å²</div></td>\n",
       "      <td><div style=\"text-align: right;\">29.14 % ↑</div></td>\n",
       "    </tr>\n",
       "    <tr>\n",
       "      <th>8</th>\n",
       "      <td><div style=\"text-align: left;\">cosio</div></td>\n",
       "      <td><div style=\"text-align: left;\">atom_sites</div></td>\n",
       "      <td><div style=\"text-align: left;\">O1</div></td>\n",
       "      <td><div style=\"text-align: left;\">fract_x</div></td>\n",
       "      <td><div style=\"text-align: right;\">0.0910</div></td>\n",
       "      <td><div style=\"text-align: right;\">0.0911</div></td>\n",
       "      <td><div style=\"text-align: right;\">0.0003</div></td>\n",
       "      <td><div style=\"text-align: left;\"></div></td>\n",
       "      <td><div style=\"text-align: right;\">0.08 % ↑</div></td>\n",
       "    </tr>\n",
       "    <tr>\n",
       "      <th>9</th>\n",
       "      <td><div style=\"text-align: left;\">cosio</div></td>\n",
       "      <td><div style=\"text-align: left;\">atom_sites</div></td>\n",
       "      <td><div style=\"text-align: left;\">O1</div></td>\n",
       "      <td><div style=\"text-align: left;\">fract_z</div></td>\n",
       "      <td><div style=\"text-align: right;\">0.7710</div></td>\n",
       "      <td><div style=\"text-align: right;\">0.7714</div></td>\n",
       "      <td><div style=\"text-align: right;\">0.0006</div></td>\n",
       "      <td><div style=\"text-align: left;\"></div></td>\n",
       "      <td><div style=\"text-align: right;\">0.05 % ↑</div></td>\n",
       "    </tr>\n",
       "    <tr>\n",
       "      <th>10</th>\n",
       "      <td><div style=\"text-align: left;\">cosio</div></td>\n",
       "      <td><div style=\"text-align: left;\">atom_sites</div></td>\n",
       "      <td><div style=\"text-align: left;\">O2</div></td>\n",
       "      <td><div style=\"text-align: left;\">b_iso</div></td>\n",
       "      <td><div style=\"text-align: right;\">0.5000</div></td>\n",
       "      <td><div style=\"text-align: right;\">0.5778</div></td>\n",
       "      <td><div style=\"text-align: right;\">0.0582</div></td>\n",
       "      <td><div style=\"text-align: left;\">Å²</div></td>\n",
       "      <td><div style=\"text-align: right;\">15.57 % ↑</div></td>\n",
       "    </tr>\n",
       "    <tr>\n",
       "      <th>11</th>\n",
       "      <td><div style=\"text-align: left;\">cosio</div></td>\n",
       "      <td><div style=\"text-align: left;\">atom_sites</div></td>\n",
       "      <td><div style=\"text-align: left;\">O2</div></td>\n",
       "      <td><div style=\"text-align: left;\">fract_x</div></td>\n",
       "      <td><div style=\"text-align: right;\">0.4480</div></td>\n",
       "      <td><div style=\"text-align: right;\">0.4482</div></td>\n",
       "      <td><div style=\"text-align: right;\">0.0003</div></td>\n",
       "      <td><div style=\"text-align: left;\"></div></td>\n",
       "      <td><div style=\"text-align: right;\">0.06 % ↑</div></td>\n",
       "    </tr>\n",
       "    <tr>\n",
       "      <th>12</th>\n",
       "      <td><div style=\"text-align: left;\">cosio</div></td>\n",
       "      <td><div style=\"text-align: left;\">atom_sites</div></td>\n",
       "      <td><div style=\"text-align: left;\">O2</div></td>\n",
       "      <td><div style=\"text-align: left;\">fract_z</div></td>\n",
       "      <td><div style=\"text-align: right;\">0.2170</div></td>\n",
       "      <td><div style=\"text-align: right;\">0.2167</div></td>\n",
       "      <td><div style=\"text-align: right;\">0.0007</div></td>\n",
       "      <td><div style=\"text-align: left;\"></div></td>\n",
       "      <td><div style=\"text-align: right;\">0.14 % ↓</div></td>\n",
       "    </tr>\n",
       "    <tr>\n",
       "      <th>13</th>\n",
       "      <td><div style=\"text-align: left;\">cosio</div></td>\n",
       "      <td><div style=\"text-align: left;\">atom_sites</div></td>\n",
       "      <td><div style=\"text-align: left;\">O3</div></td>\n",
       "      <td><div style=\"text-align: left;\">b_iso</div></td>\n",
       "      <td><div style=\"text-align: right;\">0.5000</div></td>\n",
       "      <td><div style=\"text-align: right;\">0.8389</div></td>\n",
       "      <td><div style=\"text-align: right;\">0.0485</div></td>\n",
       "      <td><div style=\"text-align: left;\">Å²</div></td>\n",
       "      <td><div style=\"text-align: right;\">67.79 % ↑</div></td>\n",
       "    </tr>\n",
       "    <tr>\n",
       "      <th>14</th>\n",
       "      <td><div style=\"text-align: left;\">cosio</div></td>\n",
       "      <td><div style=\"text-align: left;\">atom_sites</div></td>\n",
       "      <td><div style=\"text-align: left;\">O3</div></td>\n",
       "      <td><div style=\"text-align: left;\">fract_x</div></td>\n",
       "      <td><div style=\"text-align: right;\">0.1640</div></td>\n",
       "      <td><div style=\"text-align: right;\">0.1636</div></td>\n",
       "      <td><div style=\"text-align: right;\">0.0002</div></td>\n",
       "      <td><div style=\"text-align: left;\"></div></td>\n",
       "      <td><div style=\"text-align: right;\">0.26 % ↓</div></td>\n",
       "    </tr>\n",
       "    <tr>\n",
       "      <th>15</th>\n",
       "      <td><div style=\"text-align: left;\">cosio</div></td>\n",
       "      <td><div style=\"text-align: left;\">atom_sites</div></td>\n",
       "      <td><div style=\"text-align: left;\">O3</div></td>\n",
       "      <td><div style=\"text-align: left;\">fract_y</div></td>\n",
       "      <td><div style=\"text-align: right;\">0.0320</div></td>\n",
       "      <td><div style=\"text-align: right;\">0.0317</div></td>\n",
       "      <td><div style=\"text-align: right;\">0.0003</div></td>\n",
       "      <td><div style=\"text-align: left;\"></div></td>\n",
       "      <td><div style=\"text-align: right;\">1.08 % ↓</div></td>\n",
       "    </tr>\n",
       "    <tr>\n",
       "      <th>16</th>\n",
       "      <td><div style=\"text-align: left;\">cosio</div></td>\n",
       "      <td><div style=\"text-align: left;\">atom_sites</div></td>\n",
       "      <td><div style=\"text-align: left;\">O3</div></td>\n",
       "      <td><div style=\"text-align: left;\">fract_z</div></td>\n",
       "      <td><div style=\"text-align: right;\">0.2800</div></td>\n",
       "      <td><div style=\"text-align: right;\">0.2800</div></td>\n",
       "      <td><div style=\"text-align: right;\">0.0005</div></td>\n",
       "      <td><div style=\"text-align: left;\"></div></td>\n",
       "      <td><div style=\"text-align: right;\">0.02 % ↑</div></td>\n",
       "    </tr>\n",
       "    <tr>\n",
       "      <th>17</th>\n",
       "      <td><div style=\"text-align: left;\">cosio</div></td>\n",
       "      <td><div style=\"text-align: left;\">cell</div></td>\n",
       "      <td><div style=\"text-align: left;\"></div></td>\n",
       "      <td><div style=\"text-align: left;\">length_a</div></td>\n",
       "      <td><div style=\"text-align: right;\">10.3000</div></td>\n",
       "      <td><div style=\"text-align: right;\">10.3090</div></td>\n",
       "      <td><div style=\"text-align: right;\">0.0003</div></td>\n",
       "      <td><div style=\"text-align: left;\">Å</div></td>\n",
       "      <td><div style=\"text-align: right;\">0.09 % ↑</div></td>\n",
       "    </tr>\n",
       "    <tr>\n",
       "      <th>18</th>\n",
       "      <td><div style=\"text-align: left;\">cosio</div></td>\n",
       "      <td><div style=\"text-align: left;\">cell</div></td>\n",
       "      <td><div style=\"text-align: left;\"></div></td>\n",
       "      <td><div style=\"text-align: left;\">length_b</div></td>\n",
       "      <td><div style=\"text-align: right;\">6.0000</div></td>\n",
       "      <td><div style=\"text-align: right;\">6.0039</div></td>\n",
       "      <td><div style=\"text-align: right;\">0.0002</div></td>\n",
       "      <td><div style=\"text-align: left;\">Å</div></td>\n",
       "      <td><div style=\"text-align: right;\">0.07 % ↑</div></td>\n",
       "    </tr>\n",
       "    <tr>\n",
       "      <th>19</th>\n",
       "      <td><div style=\"text-align: left;\">cosio</div></td>\n",
       "      <td><div style=\"text-align: left;\">cell</div></td>\n",
       "      <td><div style=\"text-align: left;\"></div></td>\n",
       "      <td><div style=\"text-align: left;\">length_c</div></td>\n",
       "      <td><div style=\"text-align: right;\">4.8000</div></td>\n",
       "      <td><div style=\"text-align: right;\">4.7868</div></td>\n",
       "      <td><div style=\"text-align: right;\">0.0001</div></td>\n",
       "      <td><div style=\"text-align: left;\">Å</div></td>\n",
       "      <td><div style=\"text-align: right;\">0.28 % ↓</div></td>\n",
       "    </tr>\n",
       "    <tr>\n",
       "      <th>20</th>\n",
       "      <td><div style=\"text-align: left;\">d20</div></td>\n",
       "      <td><div style=\"text-align: left;\">background</div></td>\n",
       "      <td><div style=\"text-align: left;\">8</div></td>\n",
       "      <td><div style=\"text-align: left;\">y</div></td>\n",
       "      <td><div style=\"text-align: right;\">500.0000</div></td>\n",
       "      <td><div style=\"text-align: right;\">608.6305</div></td>\n",
       "      <td><div style=\"text-align: right;\">14.5414</div></td>\n",
       "      <td><div style=\"text-align: left;\"></div></td>\n",
       "      <td><div style=\"text-align: right;\">21.73 % ↑</div></td>\n",
       "    </tr>\n",
       "    <tr>\n",
       "      <th>21</th>\n",
       "      <td><div style=\"text-align: left;\">d20</div></td>\n",
       "      <td><div style=\"text-align: left;\">background</div></td>\n",
       "      <td><div style=\"text-align: left;\">9</div></td>\n",
       "      <td><div style=\"text-align: left;\">y</div></td>\n",
       "      <td><div style=\"text-align: right;\">500.0000</div></td>\n",
       "      <td><div style=\"text-align: right;\">580.6214</div></td>\n",
       "      <td><div style=\"text-align: right;\">9.7278</div></td>\n",
       "      <td><div style=\"text-align: left;\"></div></td>\n",
       "      <td><div style=\"text-align: right;\">16.12 % ↑</div></td>\n",
       "    </tr>\n",
       "    <tr>\n",
       "      <th>22</th>\n",
       "      <td><div style=\"text-align: left;\">d20</div></td>\n",
       "      <td><div style=\"text-align: left;\">background</div></td>\n",
       "      <td><div style=\"text-align: left;\">10</div></td>\n",
       "      <td><div style=\"text-align: left;\">y</div></td>\n",
       "      <td><div style=\"text-align: right;\">500.0000</div></td>\n",
       "      <td><div style=\"text-align: right;\">562.8991</div></td>\n",
       "      <td><div style=\"text-align: right;\">9.2422</div></td>\n",
       "      <td><div style=\"text-align: left;\"></div></td>\n",
       "      <td><div style=\"text-align: right;\">12.58 % ↑</div></td>\n",
       "    </tr>\n",
       "    <tr>\n",
       "      <th>23</th>\n",
       "      <td><div style=\"text-align: left;\">d20</div></td>\n",
       "      <td><div style=\"text-align: left;\">background</div></td>\n",
       "      <td><div style=\"text-align: left;\">11</div></td>\n",
       "      <td><div style=\"text-align: left;\">y</div></td>\n",
       "      <td><div style=\"text-align: right;\">500.0000</div></td>\n",
       "      <td><div style=\"text-align: right;\">540.2882</div></td>\n",
       "      <td><div style=\"text-align: right;\">8.7695</div></td>\n",
       "      <td><div style=\"text-align: left;\"></div></td>\n",
       "      <td><div style=\"text-align: right;\">8.06 % ↑</div></td>\n",
       "    </tr>\n",
       "    <tr>\n",
       "      <th>24</th>\n",
       "      <td><div style=\"text-align: left;\">d20</div></td>\n",
       "      <td><div style=\"text-align: left;\">background</div></td>\n",
       "      <td><div style=\"text-align: left;\">12</div></td>\n",
       "      <td><div style=\"text-align: left;\">y</div></td>\n",
       "      <td><div style=\"text-align: right;\">500.0000</div></td>\n",
       "      <td><div style=\"text-align: right;\">519.8428</div></td>\n",
       "      <td><div style=\"text-align: right;\">6.0496</div></td>\n",
       "      <td><div style=\"text-align: left;\"></div></td>\n",
       "      <td><div style=\"text-align: right;\">3.97 % ↑</div></td>\n",
       "    </tr>\n",
       "    <tr>\n",
       "      <th>25</th>\n",
       "      <td><div style=\"text-align: left;\">d20</div></td>\n",
       "      <td><div style=\"text-align: left;\">background</div></td>\n",
       "      <td><div style=\"text-align: left;\">15</div></td>\n",
       "      <td><div style=\"text-align: left;\">y</div></td>\n",
       "      <td><div style=\"text-align: right;\">500.0000</div></td>\n",
       "      <td><div style=\"text-align: right;\">507.3838</div></td>\n",
       "      <td><div style=\"text-align: right;\">3.4846</div></td>\n",
       "      <td><div style=\"text-align: left;\"></div></td>\n",
       "      <td><div style=\"text-align: right;\">1.48 % ↑</div></td>\n",
       "    </tr>\n",
       "    <tr>\n",
       "      <th>26</th>\n",
       "      <td><div style=\"text-align: left;\">d20</div></td>\n",
       "      <td><div style=\"text-align: left;\">background</div></td>\n",
       "      <td><div style=\"text-align: left;\">25</div></td>\n",
       "      <td><div style=\"text-align: left;\">y</div></td>\n",
       "      <td><div style=\"text-align: right;\">500.0000</div></td>\n",
       "      <td><div style=\"text-align: right;\">463.0794</div></td>\n",
       "      <td><div style=\"text-align: right;\">3.1898</div></td>\n",
       "      <td><div style=\"text-align: left;\"></div></td>\n",
       "      <td><div style=\"text-align: right;\">7.38 % ↓</div></td>\n",
       "    </tr>\n",
       "    <tr>\n",
       "      <th>27</th>\n",
       "      <td><div style=\"text-align: left;\">d20</div></td>\n",
       "      <td><div style=\"text-align: left;\">background</div></td>\n",
       "      <td><div style=\"text-align: left;\">30</div></td>\n",
       "      <td><div style=\"text-align: left;\">y</div></td>\n",
       "      <td><div style=\"text-align: right;\">500.0000</div></td>\n",
       "      <td><div style=\"text-align: right;\">434.2455</div></td>\n",
       "      <td><div style=\"text-align: right;\">2.3904</div></td>\n",
       "      <td><div style=\"text-align: left;\"></div></td>\n",
       "      <td><div style=\"text-align: right;\">13.15 % ↓</div></td>\n",
       "    </tr>\n",
       "    <tr>\n",
       "      <th>28</th>\n",
       "      <td><div style=\"text-align: left;\">d20</div></td>\n",
       "      <td><div style=\"text-align: left;\">background</div></td>\n",
       "      <td><div style=\"text-align: left;\">50</div></td>\n",
       "      <td><div style=\"text-align: left;\">y</div></td>\n",
       "      <td><div style=\"text-align: right;\">500.0000</div></td>\n",
       "      <td><div style=\"text-align: right;\">450.8166</div></td>\n",
       "      <td><div style=\"text-align: right;\">2.2505</div></td>\n",
       "      <td><div style=\"text-align: left;\"></div></td>\n",
       "      <td><div style=\"text-align: right;\">9.84 % ↓</div></td>\n",
       "    </tr>\n",
       "    <tr>\n",
       "      <th>29</th>\n",
       "      <td><div style=\"text-align: left;\">d20</div></td>\n",
       "      <td><div style=\"text-align: left;\">background</div></td>\n",
       "      <td><div style=\"text-align: left;\">70</div></td>\n",
       "      <td><div style=\"text-align: left;\">y</div></td>\n",
       "      <td><div style=\"text-align: right;\">500.0000</div></td>\n",
       "      <td><div style=\"text-align: right;\">430.3828</div></td>\n",
       "      <td><div style=\"text-align: right;\">2.0250</div></td>\n",
       "      <td><div style=\"text-align: left;\"></div></td>\n",
       "      <td><div style=\"text-align: right;\">13.92 % ↓</div></td>\n",
       "    </tr>\n",
       "    <tr>\n",
       "      <th>30</th>\n",
       "      <td><div style=\"text-align: left;\">d20</div></td>\n",
       "      <td><div style=\"text-align: left;\">background</div></td>\n",
       "      <td><div style=\"text-align: left;\">90</div></td>\n",
       "      <td><div style=\"text-align: left;\">y</div></td>\n",
       "      <td><div style=\"text-align: right;\">500.0000</div></td>\n",
       "      <td><div style=\"text-align: right;\">413.7132</div></td>\n",
       "      <td><div style=\"text-align: right;\">2.2594</div></td>\n",
       "      <td><div style=\"text-align: left;\"></div></td>\n",
       "      <td><div style=\"text-align: right;\">17.26 % ↓</div></td>\n",
       "    </tr>\n",
       "    <tr>\n",
       "      <th>31</th>\n",
       "      <td><div style=\"text-align: left;\">d20</div></td>\n",
       "      <td><div style=\"text-align: left;\">background</div></td>\n",
       "      <td><div style=\"text-align: left;\">110</div></td>\n",
       "      <td><div style=\"text-align: left;\">y</div></td>\n",
       "      <td><div style=\"text-align: right;\">500.0000</div></td>\n",
       "      <td><div style=\"text-align: right;\">361.2599</div></td>\n",
       "      <td><div style=\"text-align: right;\">2.0915</div></td>\n",
       "      <td><div style=\"text-align: left;\"></div></td>\n",
       "      <td><div style=\"text-align: right;\">27.75 % ↓</div></td>\n",
       "    </tr>\n",
       "    <tr>\n",
       "      <th>32</th>\n",
       "      <td><div style=\"text-align: left;\">d20</div></td>\n",
       "      <td><div style=\"text-align: left;\">background</div></td>\n",
       "      <td><div style=\"text-align: left;\">130</div></td>\n",
       "      <td><div style=\"text-align: left;\">y</div></td>\n",
       "      <td><div style=\"text-align: right;\">500.0000</div></td>\n",
       "      <td><div style=\"text-align: right;\">291.0612</div></td>\n",
       "      <td><div style=\"text-align: right;\">1.9671</div></td>\n",
       "      <td><div style=\"text-align: left;\"></div></td>\n",
       "      <td><div style=\"text-align: right;\">41.79 % ↓</div></td>\n",
       "    </tr>\n",
       "    <tr>\n",
       "      <th>33</th>\n",
       "      <td><div style=\"text-align: left;\">d20</div></td>\n",
       "      <td><div style=\"text-align: left;\">background</div></td>\n",
       "      <td><div style=\"text-align: left;\">150</div></td>\n",
       "      <td><div style=\"text-align: left;\">y</div></td>\n",
       "      <td><div style=\"text-align: right;\">500.0000</div></td>\n",
       "      <td><div style=\"text-align: right;\">238.7749</div></td>\n",
       "      <td><div style=\"text-align: right;\">2.9764</div></td>\n",
       "      <td><div style=\"text-align: left;\"></div></td>\n",
       "      <td><div style=\"text-align: right;\">52.25 % ↓</div></td>\n",
       "    </tr>\n",
       "    <tr>\n",
       "      <th>34</th>\n",
       "      <td><div style=\"text-align: left;\">d20</div></td>\n",
       "      <td><div style=\"text-align: left;\">instrument</div></td>\n",
       "      <td><div style=\"text-align: left;\"></div></td>\n",
       "      <td><div style=\"text-align: left;\">twotheta_offset</div></td>\n",
       "      <td><div style=\"text-align: right;\">0.1000</div></td>\n",
       "      <td><div style=\"text-align: right;\">0.2884</div></td>\n",
       "      <td><div style=\"text-align: right;\">0.0020</div></td>\n",
       "      <td><div style=\"text-align: left;\">deg</div></td>\n",
       "      <td><div style=\"text-align: right;\">188.44 % ↑</div></td>\n",
       "    </tr>\n",
       "    <tr>\n",
       "      <th>35</th>\n",
       "      <td><div style=\"text-align: left;\">d20</div></td>\n",
       "      <td><div style=\"text-align: left;\">linked_phases</div></td>\n",
       "      <td><div style=\"text-align: left;\">cosio</div></td>\n",
       "      <td><div style=\"text-align: left;\">scale</div></td>\n",
       "      <td><div style=\"text-align: right;\">1.0000</div></td>\n",
       "      <td><div style=\"text-align: right;\">1.1957</div></td>\n",
       "      <td><div style=\"text-align: right;\">0.0106</div></td>\n",
       "      <td><div style=\"text-align: left;\"></div></td>\n",
       "      <td><div style=\"text-align: right;\">19.57 % ↑</div></td>\n",
       "    </tr>\n",
       "    <tr>\n",
       "      <th>36</th>\n",
       "      <td><div style=\"text-align: left;\">d20</div></td>\n",
       "      <td><div style=\"text-align: left;\">peak</div></td>\n",
       "      <td><div style=\"text-align: left;\"></div></td>\n",
       "      <td><div style=\"text-align: left;\">broad_gauss_u</div></td>\n",
       "      <td><div style=\"text-align: right;\">0.3000</div></td>\n",
       "      <td><div style=\"text-align: right;\">0.2423</div></td>\n",
       "      <td><div style=\"text-align: right;\">0.0068</div></td>\n",
       "      <td><div style=\"text-align: left;\">deg²</div></td>\n",
       "      <td><div style=\"text-align: right;\">19.22 % ↓</div></td>\n",
       "    </tr>\n",
       "    <tr>\n",
       "      <th>37</th>\n",
       "      <td><div style=\"text-align: left;\">d20</div></td>\n",
       "      <td><div style=\"text-align: left;\">peak</div></td>\n",
       "      <td><div style=\"text-align: left;\"></div></td>\n",
       "      <td><div style=\"text-align: left;\">broad_gauss_v</div></td>\n",
       "      <td><div style=\"text-align: right;\">-0.5000</div></td>\n",
       "      <td><div style=\"text-align: right;\">-0.5288</div></td>\n",
       "      <td><div style=\"text-align: right;\">0.0145</div></td>\n",
       "      <td><div style=\"text-align: left;\">deg²</div></td>\n",
       "      <td><div style=\"text-align: right;\">5.76 % ↑</div></td>\n",
       "    </tr>\n",
       "    <tr>\n",
       "      <th>38</th>\n",
       "      <td><div style=\"text-align: left;\">d20</div></td>\n",
       "      <td><div style=\"text-align: left;\">peak</div></td>\n",
       "      <td><div style=\"text-align: left;\"></div></td>\n",
       "      <td><div style=\"text-align: left;\">broad_gauss_w</div></td>\n",
       "      <td><div style=\"text-align: right;\">0.4000</div></td>\n",
       "      <td><div style=\"text-align: right;\">0.3840</div></td>\n",
       "      <td><div style=\"text-align: right;\">0.0090</div></td>\n",
       "      <td><div style=\"text-align: left;\">deg²</div></td>\n",
       "      <td><div style=\"text-align: right;\">4.01 % ↓</div></td>\n",
       "    </tr>\n",
       "    <tr>\n",
       "      <th>39</th>\n",
       "      <td><div style=\"text-align: left;\">d20</div></td>\n",
       "      <td><div style=\"text-align: left;\">peak</div></td>\n",
       "      <td><div style=\"text-align: left;\"></div></td>\n",
       "      <td><div style=\"text-align: left;\">broad_lorentz_y</div></td>\n",
       "      <td><div style=\"text-align: right;\">0.0000</div></td>\n",
       "      <td><div style=\"text-align: right;\">0.0159</div></td>\n",
       "      <td><div style=\"text-align: right;\">0.0045</div></td>\n",
       "      <td><div style=\"text-align: left;\">deg</div></td>\n",
       "      <td><div style=\"text-align: right;\">N/A</div></td>\n",
       "    </tr>\n",
       "  </tbody>\n",
       "</table>"
      ],
      "text/plain": [
       "<IPython.core.display.HTML object>"
      ]
     },
     "metadata": {},
     "output_type": "display_data"
    }
   ],
   "source": [
    "project.analysis.fit()"
   ]
  },
  {
   "cell_type": "markdown",
   "id": "55",
   "metadata": {},
   "source": [
    "#### Plot Measured vs Calculated"
   ]
  },
  {
   "cell_type": "code",
   "execution_count": 30,
   "id": "56",
   "metadata": {
    "execution": {
     "iopub.execute_input": "2025-08-31T19:32:20.340549Z",
     "iopub.status.busy": "2025-08-31T19:32:20.340420Z",
     "iopub.status.idle": "2025-08-31T19:32:20.557460Z",
     "shell.execute_reply": "2025-08-31T19:32:20.556344Z"
    }
   },
   "outputs": [
    {
     "data": {
      "text/html": [
       "<div>                        <script type=\"text/javascript\">window.PlotlyConfig = {MathJaxConfig: 'local'};</script>\n",
       "        <script charset=\"utf-8\" src=\"https://cdn.plot.ly/plotly-3.1.0.min.js\" integrity=\"sha256-Ei4740bWZhaUTQuD6q9yQlgVCMPBz6CZWhevDYPv93A=\" crossorigin=\"anonymous\"></script>                <div id=\"747b2b35-6e1a-47b1-a8e7-0b48836d63e0\" class=\"plotly-graph-div\" style=\"height:100%; width:100%;\"></div>            <script type=\"text/javascript\">                window.PLOTLYENV=window.PLOTLYENV || {};                                if (document.getElementById(\"747b2b35-6e1a-47b1-a8e7-0b48836d63e0\")) {                    Plotly.newPlot(                        \"747b2b35-6e1a-47b1-a8e7-0b48836d63e0\",                        [{\"line\":{\"color\":\"rgb(31, 119, 180)\"},\"mode\":\"lines+markers\",\"name\":\"Measured (Imeas)\",\"x\":{\"dtype\":\"f8\",\"bdata\":\"G55eKcswIEBO0ZFc\\u002fmMgQIEExY8xlyBAtTf4wmTKIEDoaiv2l\\u002f0gQBueXinLMCFATtGRXP5jIUCBBMWPMZchQLU3+MJkyiFA6Gor9pf9IUAbnl4pyzAiQE7RkVz+YyJAgQTFjzGXIkC1N\\u002fjCZMoiQOhqK\\u002faX\\u002fSJAG55eKcswI0BO0ZFc\\u002fmMjQIEExY8xlyNAtTf4wmTKI0Doaiv2l\\u002f0jQBueXinLMCRATtGRXP5jJECBBMWPMZckQLU3+MJkyiRA6Gor9pf9JEAbnl4pyzAlQE7RkVz+YyVAgQTFjzGXJUC1N\\u002fjCZMolQOhqK\\u002faX\\u002fSVAG55eKcswJkBO0ZFc\\u002fmMmQIEExY8xlyZAtTf4wmTKJkDoaiv2l\\u002f0mQBueXinLMCdATtGRXP5jJ0CBBMWPMZcnQLU3+MJkyidA6Gor9pf9J0Abnl4pyzAoQE7RkVz+YyhAgQTFjzGXKEC1N\\u002fjCZMooQOhqK\\u002faX\\u002fShAG55eKcswKUBO0ZFc\\u002fmMpQIEExY8xlylAtTf4wmTKKUDoaiv2l\\u002f0pQBueXinLMCpATtGRXP5jKkCBBMWPMZcqQLU3+MJkyipA6Gor9pf9KkAbnl4pyzArQE7RkVz+YytAgQTFjzGXK0C1N\\u002fjCZMorQOhqK\\u002faX\\u002fStAG55eKcswLEBO0ZFc\\u002fmMsQIEExY8xlyxAtTf4wmTKLEDoaiv2l\\u002f0sQBueXinLMC1ATtGRXP5jLUCBBMWPMZctQLU3+MJkyi1A6Gor9pf9LUAbnl4pyzAuQE7RkVz+Yy5AgQTFjzGXLkC1N\\u002fjCZMouQOhqK\\u002faX\\u002fS5AG55eKcswL0BO0ZFc\\u002fmMvQIEExY8xly9AtTf4wmTKL0Doaiv2l\\u002f0vQA5Pr5RlGDBAp+hILv8xMEBBguLHmEswQNobfGEyZTBAdLUV+8t+MEAOT6+UZZgwQKfoSC7\\u002fsTBAQYLix5jLMEDaG3xhMuUwQHS1FfvL\\u002fjBADk+vlGUYMUCn6Egu\\u002fzExQEGC4seYSzFA2ht8YTJlMUB0tRX7y34xQA5Pr5RlmDFAp+hILv+xMUBBguLHmMsxQNobfGEy5TFAdLUV+8v+MUAOT6+UZRgyQKfoSC7\\u002fMTJAQYLix5hLMkDaG3xhMmUyQHS1FfvLfjJADk+vlGWYMkCn6Egu\\u002f7EyQEGC4seYyzJA2ht8YTLlMkB0tRX7y\\u002f4yQA5Pr5RlGDNAp+hILv8xM0BBguLHmEszQNobfGEyZTNAdLUV+8t+M0AOT6+UZZgzQKfoSC7\\u002fsTNAQYLix5jLM0DaG3xhMuUzQHS1FfvL\\u002fjNADk+vlGUYNECn6Egu\\u002fzE0QEGC4seYSzRA2ht8YTJlNEB0tRX7y340QA5Pr5RlmDRAp+hILv+xNEBBguLHmMs0QNobfGEy5TRAdLUV+8v+NEAOT6+UZRg1QKfoSC7\\u002fMTVAQYLix5hLNUDaG3xhMmU1QHS1FfvLfjVADk+vlGWYNUCn6Egu\\u002f7E1QEGC4seYyzVA2ht8YTLlNUB0tRX7y\\u002f41QA5Pr5RlGDZAp+hILv8xNkBBguLHmEs2QNobfGEyZTZAdLUV+8t+NkAOT6+UZZg2QKfoSC7\\u002fsTZAQYLix5jLNkDaG3xhMuU2QHS1FfvL\\u002fjZADk+vlGUYN0Cn6Egu\\u002fzE3QEGC4seYSzdA2ht8YTJlN0B0tRX7y343QA5Pr5RlmDdAp+hILv+xN0BBguLHmMs3QNobfGEy5TdAdLUV+8v+N0AOT6+UZRg4QKfoSC7\\u002fMThAQYLix5hLOEDaG3xhMmU4QHS1FfvLfjhADk+vlGWYOECn6Egu\\u002f7E4QEGC4seYyzhA2ht8YTLlOEB0tRX7y\\u002f44QA5Pr5RlGDlAp+hILv8xOUBBguLHmEs5QNobfGEyZTlAdLUV+8t+OUAOT6+UZZg5QKfoSC7\\u002fsTlAQYLix5jLOUDaG3xhMuU5QHS1FfvL\\u002fjlADk+vlGUYOkCn6Egu\\u002fzE6QEGC4seYSzpA2ht8YTJlOkB0tRX7y346QA5Pr5RlmDpAp+hILv+xOkBBguLHmMs6QNobfGEy5TpAdLUV+8v+OkAOT6+UZRg7QKfoSC7\\u002fMTtAQYLix5hLO0DaG3xhMmU7QHS1FfvLfjtADk+vlGWYO0Cn6Egu\\u002f7E7QEGC4seYyztA2ht8YTLlO0B0tRX7y\\u002f47QA5Pr5RlGDxAp+hILv8xPEBBguLHmEs8QNobfGEyZTxAdLUV+8t+PEAOT6+UZZg8QKfoSC7\\u002fsTxAQYLix5jLPEDaG3xhMuU8QHS1FfvL\\u002fjxADk+vlGUYPUCn6Egu\\u002fzE9QEGC4seYSz1A2ht8YTJlPUB0tRX7y349QA5Pr5RlmD1Ap+hILv+xPUBBguLHmMs9QNobfGEy5T1AdLUV+8v+PUAOT6+UZRg+QKfoSC7\\u002fMT5AQYLix5hLPkDaG3xhMmU+QHS1FfvLfj5ADk+vlGWYPkCn6Egu\\u002f7E+QEGC4seYyz5A2ht8YTLlPkB0tRX7y\\u002f4+QA5Pr5RlGD9Ap+hILv8xP0BBguLHmEs\\u002fQNobfGEyZT9AdLUV+8t+P0AOT6+UZZg\\u002fQKfoSC7\\u002fsT9AQYLix5jLP0DaG3xhMuU\\u002fQHS1FfvL\\u002fj9Ah6dXyjIMQEBUdCSX\\u002fxhAQCBB8WPMJUBA7Q2+MJkyQEC62or9ZT9AQIenV8oyTEBAVHQkl\\u002f9YQEAgQfFjzGVAQO0NvjCZckBAutqK\\u002fWV\\u002fQECHp1fKMoxAQFR0JJf\\u002fmEBAIEHxY8ylQEDtDb4wmbJAQLraiv1lv0BAh6dXyjLMQEBUdCSX\\u002f9hAQCBB8WPM5UBA7Q2+MJnyQEC62or9Zf9AQIenV8oyDEFAVHQkl\\u002f8YQUAgQfFjzCVBQO0NvjCZMkFAutqK\\u002fWU\\u002fQUCHp1fKMkxBQFR0JJf\\u002fWEFAIEHxY8xlQUDtDb4wmXJBQLraiv1lf0FAh6dXyjKMQUBUdCSX\\u002f5hBQCBB8WPMpUFA7Q2+MJmyQUC62or9Zb9BQIenV8oyzEFAVHQkl\\u002f\\u002fYQUAgQfFjzOVBQO0NvjCZ8kFAutqK\\u002fWX\\u002fQUCHp1fKMgxCQFR0JJf\\u002fGEJAIEHxY8wlQkDtDb4wmTJCQLraiv1lP0JAh6dXyjJMQkBUdCSX\\u002f1hCQCBB8WPMZUJA7Q2+MJlyQkC62or9ZX9CQIenV8oyjEJAVHQkl\\u002f+YQkAgQfFjzKVCQO0NvjCZskJAutqK\\u002fWW\\u002fQkCHp1fKMsxCQFR0JJf\\u002f2EJAIEHxY8zlQkDtDb4wmfJCQLraiv1l\\u002f0JAh6dXyjIMQ0BUdCSX\\u002fxhDQCBB8WPMJUNA7Q2+MJkyQ0C62or9ZT9DQIenV8oyTENAVHQkl\\u002f9YQ0AgQfFjzGVDQO0NvjCZckNAutqK\\u002fWV\\u002fQ0CHp1fKMoxDQFR0JJf\\u002fmENAIEHxY8ylQ0DtDb4wmbJDQLraiv1lv0NAh6dXyjLMQ0BUdCSX\\u002f9hDQCBB8WPM5UNA7Q2+MJnyQ0C62or9Zf9DQIenV8oyDERAVHQkl\\u002f8YREAgQfFjzCVEQO0NvjCZMkRAutqK\\u002fWU\\u002fRECHp1fKMkxEQFR0JJf\\u002fWERAIEHxY8xlREDtDb4wmXJEQLraiv1lf0RAh6dXyjKMREBUdCSX\\u002f5hEQCBB8WPMpURA7Q2+MJmyREC62or9Zb9EQIenV8oyzERAVHQkl\\u002f\\u002fYREAgQfFjzOVEQO0NvjCZ8kRAutqK\\u002fWX\\u002fRECHp1fKMgxFQFR0JJf\\u002fGEVAIEHxY8wlRUDtDb4wmTJFQLraiv1lP0VAh6dXyjJMRUBUdCSX\\u002f1hFQCBB8WPMZUVA7Q2+MJlyRUC62or9ZX9FQIenV8oyjEVAVHQkl\\u002f+YRUAgQfFjzKVFQO0NvjCZskVAutqK\\u002fWW\\u002fRUCHp1fKMsxFQFR0JJf\\u002f2EVAIEHxY8zlRUDtDb4wmfJFQLraiv1l\\u002f0VAh6dXyjIMRkBUdCSX\\u002fxhGQCBB8WPMJUZA7Q2+MJkyRkC62or9ZT9GQIenV8oyTEZAVHQkl\\u002f9YRkAgQfFjzGVGQO0NvjCZckZAutqK\\u002fWV\\u002fRkCHp1fKMoxGQFR0JJf\\u002fmEZAIEHxY8ylRkDtDb4wmbJGQLraiv1lv0ZAh6dXyjLMRkBUdCSX\\u002f9hGQCBB8WPM5UZA7Q2+MJnyRkC62or9Zf9GQIenV8oyDEdAVHQkl\\u002f8YR0AgQfFjzCVHQO0NvjCZMkdAutqK\\u002fWU\\u002fR0CHp1fKMkxHQFR0JJf\\u002fWEdAIEHxY8xlR0DtDb4wmXJHQLraiv1lf0dAh6dXyjKMR0BUdCSX\\u002f5hHQCBB8WPMpUdA7Q2+MJmyR0C62or9Zb9HQIenV8oyzEdAVHQkl\\u002f\\u002fYR0AgQfFjzOVHQO0NvjCZ8kdAutqK\\u002fWX\\u002fR0CHp1fKMgxIQFR0JJf\\u002fGEhAIEHxY8wlSEDtDb4wmTJIQLraiv1lP0hAh6dXyjJMSEBUdCSX\\u002f1hIQCBB8WPMZUhA7Q2+MJlySEC62or9ZX9IQIenV8oyjEhAVHQkl\\u002f+YSEAgQfFjzKVIQO0NvjCZskhAutqK\\u002fWW\\u002fSECHp1fKMsxIQFR0JJf\\u002f2EhAIEHxY8zlSEDtDb4wmfJIQLraiv1l\\u002f0hAh6dXyjIMSUBUdCSX\\u002fxhJQCBB8WPMJUlA7Q2+MJkySUC62or9ZT9JQIenV8oyTElAVHQkl\\u002f9YSUAgQfFjzGVJQO0NvjCZcklAutqK\\u002fWV\\u002fSUCHp1fKMoxJQFR0JJf\\u002fmElAIEHxY8ylSUDtDb4wmbJJQLraiv1lv0lAh6dXyjLMSUBUdCSX\\u002f9hJQCBB8WPM5UlA7Q2+MJnySUC62or9Zf9JQIenV8oyDEpAVHQkl\\u002f8YSkAgQfFjzCVKQO0NvjCZMkpAutqK\\u002fWU\\u002fSkCHp1fKMkxKQFR0JJf\\u002fWEpAIEHxY8xlSkDtDb4wmXJKQLraiv1lf0pAh6dXyjKMSkBUdCSX\\u002f5hKQCBB8WPMpUpA7Q2+MJmySkC62or9Zb9KQIenV8oyzEpAVHQkl\\u002f\\u002fYSkAgQfFjzOVKQO0NvjCZ8kpAutqK\\u002fWX\\u002fSkCHp1fKMgxLQFR0JJf\\u002fGEtAIEHxY8wlS0DtDb4wmTJLQLraiv1lP0tAh6dXyjJMS0BUdCSX\\u002f1hLQCBB8WPMZUtA7Q2+MJlyS0C62or9ZX9LQIenV8oyjEtAVHQkl\\u002f+YS0AgQfFjzKVLQO0NvjCZsktAutqK\\u002fWW\\u002fS0CHp1fKMsxLQFR0JJf\\u002f2EtAIEHxY8zlS0DtDb4wmfJLQLraiv1l\\u002f0tAh6dXyjIMTEBUdCSX\\u002fxhMQCBB8WPMJUxA7Q2+MJkyTEC62or9ZT9MQIenV8oyTExAVHQkl\\u002f9YTEAgQfFjzGVMQO0NvjCZckxAutqK\\u002fWV\\u002fTECHp1fKMoxMQFR0JJf\\u002fmExAIEHxY8ylTEDtDb4wmbJMQLraiv1lv0xAh6dXyjLMTEBUdCSX\\u002f9hMQCBB8WPM5UxA7Q2+MJnyTEC62or9Zf9MQIenV8oyDE1AVHQkl\\u002f8YTUAgQfFjzCVNQO0NvjCZMk1AutqK\\u002fWU\\u002fTUCHp1fKMkxNQFR0JJf\\u002fWE1AIEHxY8xlTUDtDb4wmXJNQLraiv1lf01Ah6dXyjKMTUBUdCSX\\u002f5hNQCBB8WPMpU1A7Q2+MJmyTUC62or9Zb9NQIenV8oyzE1AVHQkl\\u002f\\u002fYTUAgQfFjzOVNQO0NvjCZ8k1AutqK\\u002fWX\\u002fTUCHp1fKMgxOQFR0JJf\\u002fGE5AIEHxY8wlTkDtDb4wmTJOQLraiv1lP05Ah6dXyjJMTkBUdCSX\\u002f1hOQCBB8WPMZU5A7Q2+MJlyTkC62or9ZX9OQIenV8oyjE5AVHQkl\\u002f+YTkAgQfFjzKVOQO0NvjCZsk5AutqK\\u002fWW\\u002fTkCHp1fKMsxOQFR0JJf\\u002f2E5AIEHxY8zlTkDtDb4wmfJOQLraiv1l\\u002f05Ah6dXyjIMT0BUdCSX\\u002fxhPQCBB8WPMJU9A7Q2+MJkyT0C62or9ZT9PQIenV8oyTE9AVHQkl\\u002f9YT0AgQfFjzGVPQO0NvjCZck9AutqK\\u002fWV\\u002fT0CHp1fKMoxPQFR0JJf\\u002fmE9AIEHxY8ylT0DtDb4wmbJPQLraiv1lv09Ah6dXyjLMT0BUdCSX\\u002f9hPQCBB8WPM5U9A7Q2+MJnyT0C62or9Zf9PQMPTK2UZBlBAKjqSy38MUECQoPgx5hJQQPcGX5hMGVBAXW3F\\u002frIfUECQoPgx5jJQQPcGX5hMOVBAXW3F\\u002frI\\u002fUEDD0ytlGUZQQCo6kst\\u002fTFBAkKD4MeZSUED3Bl+YTFlQQF1txf6yX1BAw9MrZRlmUEAqOpLLf2xQQJCg+DHmclBA9wZfmEx5UEBdbcX+sn9QQMPTK2UZhlBAKjqSy3+MUECQoPgx5pJQQPcGX5hMmVBAXW3F\\u002frKfUEDD0ytlGaZQQCo6kst\\u002frFBAkKD4MeayUED3Bl+YTLlQQF1txf6yv1BAw9MrZRnGUEAqOpLLf8xQQJCg+DHm0lBA9wZfmEzZUEBdbcX+st9QQMPTK2UZ5lBAKjqSy3\\u002fsUECQoPgx5vJQQPcGX5hM+VBAXW3F\\u002frL\\u002fUEDD0ytlGQZRQCo6kst\\u002fDFFAkKD4MeYSUUD3Bl+YTBlRQF1txf6yH1FAw9MrZRkmUUAqOpLLfyxRQJCg+DHmMlFA9wZfmEw5UUBdbcX+sj9RQMPTK2UZRlFAKjqSy39MUUCQoPgx5lJRQPcGX5hMWVFAXW3F\\u002frJfUUDD0ytlGWZRQCo6kst\\u002fbFFAkKD4MeZyUUD3Bl+YTHlRQF1txf6yf1FAw9MrZRmGUUAqOpLLf4xRQJCg+DHmklFA9wZfmEyZUUBdbcX+sp9RQMPTK2UZplFAKjqSy3+sUUCQoPgx5rJRQPcGX5hMuVFAXW3F\\u002frK\\u002fUUDD0ytlGcZRQCo6kst\\u002fzFFAkKD4MebSUUD3Bl+YTNlRQF1txf6y31FAw9MrZRnmUUAqOpLLf+xRQJCg+DHm8lFA9wZfmEz5UUBdbcX+sv9RQMPTK2UZBlJAKjqSy38MUkCQoPgx5hJSQPcGX5hMGVJAXW3F\\u002frIfUkDD0ytlGSZSQCo6kst\\u002fLFJAkKD4MeYyUkD3Bl+YTDlSQF1txf6yP1JAw9MrZRlGUkAqOpLLf0xSQJCg+DHmUlJA9wZfmExZUkBdbcX+sl9SQMPTK2UZZlJAKjqSy39sUkCQoPgx5nJSQPcGX5hMeVJAXW3F\\u002frJ\\u002fUkDD0ytlGYZSQCo6kst\\u002fjFJAkKD4MeaSUkD3Bl+YTJlSQF1txf6yn1JAw9MrZRmmUkAqOpLLf6xSQJCg+DHmslJA9wZfmEy5UkBdbcX+sr9SQMPTK2UZxlJAKjqSy3\\u002fMUkCQoPgx5tJSQPcGX5hM2VJAXW3F\\u002frLfUkDD0ytlGeZSQCo6kst\\u002f7FJAkKD4MebyUkD3Bl+YTPlSQF1txf6y\\u002f1JAw9MrZRkGU0AqOpLLfwxTQJCg+DHmElNA9wZfmEwZU0BdbcX+sh9TQMPTK2UZJlNAKjqSy38sU0CQoPgx5jJTQPcGX5hMOVNAXW3F\\u002frI\\u002fU0DD0ytlGUZTQCo6kst\\u002fTFNAkKD4MeZSU0D3Bl+YTFlTQF1txf6yX1NAw9MrZRlmU0AqOpLLf2xTQJCg+DHmclNA9wZfmEx5U0BdbcX+sn9TQMPTK2UZhlNAKjqSy3+MU0CQoPgx5pJTQPcGX5hMmVNAXW3F\\u002frKfU0DD0ytlGaZTQCo6kst\\u002frFNAkKD4MeayU0D3Bl+YTLlTQF1txf6yv1NAw9MrZRnGU0AqOpLLf8xTQJCg+DHm0lNA9wZfmEzZU0BdbcX+st9TQMPTK2UZ5lNAKjqSy3\\u002fsU0CQoPgx5vJTQPcGX5hM+VNAXW3F\\u002frL\\u002fU0DD0ytlGQZUQCo6kst\\u002fDFRAkKD4MeYSVED3Bl+YTBlUQF1txf6yH1RAw9MrZRkmVEAqOpLLfyxUQJCg+DHmMlRA9wZfmEw5VEBdbcX+sj9UQMPTK2UZRlRAKjqSy39MVECQoPgx5lJUQPcGX5hMWVRAXW3F\\u002frJfVEDD0ytlGWZUQCo6kst\\u002fbFRAkKD4MeZyVED3Bl+YTHlUQF1txf6yf1RAw9MrZRmGVEAqOpLLf4xUQJCg+DHmklRA9wZfmEyZVEBdbcX+sp9UQMPTK2UZplRAKjqSy3+sVECQoPgx5rJUQPcGX5hMuVRAXW3F\\u002frK\\u002fVEDD0ytlGcZUQCo6kst\\u002fzFRAkKD4MebSVED3Bl+YTNlUQF1txf6y31RAw9MrZRnmVEAqOpLLf+xUQJCg+DHm8lRA9wZfmEz5VEBdbcX+sv9UQMPTK2UZBlVAKjqSy38MVUCQoPgx5hJVQPcGX5hMGVVAXW3F\\u002frIfVUDD0ytlGSZVQCo6kst\\u002fLFVAkKD4MeYyVUD3Bl+YTDlVQF1txf6yP1VAw9MrZRlGVUAqOpLLf0xVQJCg+DHmUlVA9wZfmExZVUBdbcX+sl9VQMPTK2UZZlVAKjqSy39sVUCQoPgx5nJVQPcGX5hMeVVAXW3F\\u002frJ\\u002fVUDD0ytlGYZVQCo6kst\\u002fjFVAkKD4MeaSVUD3Bl+YTJlVQF1txf6yn1VAw9MrZRmmVUAqOpLLf6xVQJCg+DHmslVA9wZfmEy5VUBdbcX+sr9VQMPTK2UZxlVAKjqSy3\\u002fMVUCQoPgx5tJVQPcGX5hM2VVAXW3F\\u002frLfVUDD0ytlGeZVQCo6kst\\u002f7FVAkKD4MebyVUD3Bl+YTPlVQF1txf6y\\u002f1VAw9MrZRkGVkAqOpLLfwxWQJCg+DHmElZA9wZfmEwZVkBdbcX+sh9WQMPTK2UZJlZAKjqSy38sVkCQoPgx5jJWQPcGX5hMOVZAXW3F\\u002frI\\u002fVkDD0ytlGUZWQCo6kst\\u002fTFZAkKD4MeZSVkD3Bl+YTFlWQF1txf6yX1ZAw9MrZRlmVkAqOpLLf2xWQJCg+DHmclZA9wZfmEx5VkBdbcX+sn9WQMPTK2UZhlZAKjqSy3+MVkCQoPgx5pJWQPcGX5hMmVZAXW3F\\u002frKfVkDD0ytlGaZWQCo6kst\\u002frFZAkKD4MeayVkD3Bl+YTLlWQF1txf6yv1ZAw9MrZRnGVkAqOpLLf8xWQJCg+DHm0lZA9wZfmEzZVkBdbcX+st9WQMPTK2UZ5lZAKjqSy3\\u002fsVkCQoPgx5vJWQPcGX5hM+VZAXW3F\\u002frL\\u002fVkDD0ytlGQZXQCo6kst\\u002fDFdAkKD4MeYSV0D3Bl+YTBlXQF1txf6yH1dAw9MrZRkmV0AqOpLLfyxXQJCg+DHmMldA9wZfmEw5V0BdbcX+sj9XQMPTK2UZRldAKjqSy39MV0CQoPgx5lJXQPcGX5hMWVdAXW3F\\u002frJfV0DD0ytlGWZXQCo6kst\\u002fbFdAkKD4MeZyV0D3Bl+YTHlXQF1txf6yf1dAw9MrZRmGV0AqOpLLf4xXQJCg+DHmkldA9wZfmEyZV0BdbcX+sp9XQMPTK2UZpldAKjqSy3+sV0CQoPgx5rJXQPcGX5hMuVdAXW3F\\u002frK\\u002fV0DD0ytlGcZXQCo6kst\\u002fzFdAkKD4MebSV0D3Bl+YTNlXQF1txf6y31dAw9MrZRnmV0AqOpLLf+xXQJCg+DHm8ldA9wZfmEz5V0BdbcX+sv9XQMPTK2UZBlhAKjqSy38MWECQoPgx5hJYQPcGX5hMGVhAXW3F\\u002frIfWEDD0ytlGSZYQCo6kst\\u002fLFhAkKD4MeYyWED3Bl+YTDlYQF1txf6yP1hAw9MrZRlGWEAqOpLLf0xYQJCg+DHmUlhA9wZfmExZWEBdbcX+sl9YQMPTK2UZZlhAKjqSy39sWECQoPgx5nJYQPcGX5hMeVhAXW3F\\u002frJ\\u002fWEDD0ytlGYZYQCo6kst\\u002fjFhAkKD4MeaSWED3Bl+YTJlYQF1txf6yn1hAw9MrZRmmWEAqOpLLf6xYQJCg+DHmslhA9wZfmEy5WEBdbcX+sr9YQMPTK2UZxlhAKjqSy3\\u002fMWECQoPgx5tJYQPcGX5hM2VhAXW3F\\u002frLfWEDD0ytlGeZYQCo6kst\\u002f7FhAkKD4MebyWED3Bl+YTPlYQF1txf6y\\u002f1hAw9MrZRkGWUAqOpLLfwxZQJCg+DHmEllA9wZfmEwZWUBdbcX+sh9ZQMPTK2UZJllAKjqSy38sWUCQoPgx5jJZQPcGX5hMOVlAXW3F\\u002frI\\u002fWUDD0ytlGUZZQCo6kst\\u002fTFlAkKD4MeZSWUD3Bl+YTFlZQF1txf6yX1lAw9MrZRlmWUAqOpLLf2xZQJCg+DHmcllA9wZfmEx5WUBdbcX+sn9ZQMPTK2UZhllAKjqSy3+MWUCQoPgx5pJZQPcGX5hMmVlAXW3F\\u002frKfWUDD0ytlGaZZQCo6kst\\u002frFlA9wZfmEy5WUBdbcX+sr9ZQMPTK2UZxllAKjqSy3\\u002fMWUCQoPgx5tJZQPcGX5hM2VlAXW3F\\u002frLfWUDD0ytlGeZZQCo6kst\\u002f7FlAkKD4MebyWUD3Bl+YTPlZQF1txf6y\\u002f1lAw9MrZRkGWkAqOpLLfwxaQJCg+DHmElpA9wZfmEwZWkBdbcX+sh9aQMPTK2UZJlpAKjqSy38sWkCQoPgx5jJaQPcGX5hMOVpAXW3F\\u002frI\\u002fWkDD0ytlGUZaQCo6kst\\u002fTFpAkKD4MeZSWkD3Bl+YTFlaQF1txf6yX1pAw9MrZRlmWkAqOpLLf2xaQJCg+DHmclpA9wZfmEx5WkBdbcX+sn9aQMPTK2UZhlpAKjqSy3+MWkCQoPgx5pJaQPcGX5hMmVpAXW3F\\u002frKfWkDD0ytlGaZaQCo6kst\\u002frFpAkKD4MeayWkD3Bl+YTLlaQF1txf6yv1pAw9MrZRnGWkAqOpLLf8xaQJCg+DHm0lpA9wZfmEzZWkBdbcX+st9aQMPTK2UZ5lpAKjqSy3\\u002fsWkCQoPgx5vJaQPcGX5hM+VpAXW3F\\u002frL\\u002fWkDD0ytlGQZbQCo6kst\\u002fDFtAkKD4MeYSW0D3Bl+YTBlbQF1txf6yH1tAw9MrZRkmW0AqOpLLfyxbQJCg+DHmMltA9wZfmEw5W0BdbcX+sj9bQMPTK2UZRltAKjqSy39MW0CQoPgx5lJbQPcGX5hMWVtAXW3F\\u002frJfW0DD0ytlGWZbQCo6kst\\u002fbFtAkKD4MeZyW0D3Bl+YTHlbQF1txf6yf1tAw9MrZRmGW0AqOpLLf4xbQJCg+DHmkltA9wZfmEyZW0BdbcX+sp9bQMPTK2UZpltAKjqSy3+sW0CQoPgx5rJbQPcGX5hMuVtAXW3F\\u002frK\\u002fW0DD0ytlGcZbQCo6kst\\u002fzFtAkKD4MebSW0D3Bl+YTNlbQF1txf6y31tAw9MrZRnmW0AqOpLLf+xbQJCg+DHm8ltA9wZfmEz5W0BdbcX+sv9bQMPTK2UZBlxAKjqSy38MXECQoPgx5hJcQPcGX5hMGVxAXW3F\\u002frIfXEDD0ytlGSZcQCo6kst\\u002fLFxAkKD4MeYyXED3Bl+YTDlcQF1txf6yP1xAw9MrZRlGXEAqOpLLf0xcQJCg+DHmUlxA9wZfmExZXEBdbcX+sl9cQMPTK2UZZlxAKjqSy39sXECQoPgx5nJcQPcGX5hMeVxAXW3F\\u002frJ\\u002fXEDD0ytlGYZcQCo6kst\\u002fjFxAkKD4MeaSXED3Bl+YTJlcQF1txf6yn1xAw9MrZRmmXEAqOpLLf6xcQJCg+DHmslxA9wZfmEy5XEBdbcX+sr9cQMPTK2UZxlxAKjqSy3\\u002fMXECQoPgx5tJcQPcGX5hM2VxAXW3F\\u002frLfXEDD0ytlGeZcQCo6kst\\u002f7FxAkKD4MebyXED3Bl+YTPlcQF1txf6y\\u002f1xAw9MrZRkGXUAqOpLLfwxdQJCg+DHmEl1A9wZfmEwZXUBdbcX+sh9dQMPTK2UZJl1AKjqSy38sXUCQoPgx5jJdQPcGX5hMOV1AXW3F\\u002frI\\u002fXUDD0ytlGUZdQCo6kst\\u002fTF1AkKD4MeZSXUD3Bl+YTFldQF1txf6yX11Aw9MrZRlmXUAqOpLLf2xdQJCg+DHmcl1A9wZfmEx5XUBdbcX+sn9dQMPTK2UZhl1AKjqSy3+MXUCQoPgx5pJdQPcGX5hMmV1AXW3F\\u002frKfXUDD0ytlGaZdQCo6kst\\u002frF1AkKD4MeayXUD3Bl+YTLldQF1txf6yv11Aw9MrZRnGXUAqOpLLf8xdQJCg+DHm0l1A9wZfmEzZXUBdbcX+st9dQMPTK2UZ5l1AKjqSy3\\u002fsXUCQoPgx5vJdQPcGX5hM+V1AXW3F\\u002frL\\u002fXUDD0ytlGQZeQCo6kst\\u002fDF5AkKD4MeYSXkD3Bl+YTBleQF1txf6yH15Aw9MrZRkmXkAqOpLLfyxeQJCg+DHmMl5A9wZfmEw5XkBdbcX+sj9eQMPTK2UZRl5AKjqSy39MXkCQoPgx5lJeQPcGX5hMWV5AXW3F\\u002frJfXkDD0ytlGWZeQCo6kst\\u002fbF5AkKD4MeZyXkD3Bl+YTHleQF1txf6yf15Aw9MrZRmGXkAqOpLLf4xeQJCg+DHmkl5A9wZfmEyZXkBdbcX+sp9eQMPTK2UZpl5AKjqSy3+sXkCQoPgx5rJeQPcGX5hMuV5AXW3F\\u002frK\\u002fXkDD0ytlGcZeQCo6kst\\u002fzF5AkKD4MebSXkD3Bl+YTNleQF1txf6y315Aw9MrZRnmXkAqOpLLf+xeQJCg+DHm8l5A9wZfmEz5XkBdbcX+sv9eQMPTK2UZBl9AKjqSy38MX0CQoPgx5hJfQPcGX5hMGV9AXW3F\\u002frIfX0DD0ytlGSZfQCo6kst\\u002fLF9AkKD4MeYyX0D3Bl+YTDlfQF1txf6yP19Aw9MrZRlGX0AqOpLLf0xfQJCg+DHmUl9A9wZfmExZX0BdbcX+sl9fQMPTK2UZZl9AKjqSy39sX0CQoPgx5nJfQPcGX5hMeV9AXW3F\\u002frJ\\u002fX0DD0ytlGYZfQCo6kst\\u002fjF9AkKD4MeaSX0D3Bl+YTJlfQF1txf6yn19Aw9MrZRmmX0AqOpLLf6xfQJCg+DHmsl9A9wZfmEy5X0BdbcX+sr9fQMPTK2UZxl9AKjqSy3\\u002fMX0CQoPgx5tJfQPcGX5hM2V9AXW3F\\u002frLfX0DD0ytlGeZfQCo6kst\\u002f7F9AkKD4MebyX0D3Bl+YTPlfQF1txf6y\\u002f19A4umVsgwDYEAVHcnlPwZgQEhQ\\u002fBhzCWBAe4MvTKYMYECutmJ\\u002f2Q9gQOLplbIME2BAFR3J5T8WYEBIUPwYcxlgQHuDL0ymHGBArrZif9kfYEDi6ZWyDCNgQBUdyeU\\u002fJmBASFD8GHMpYEB7gy9MpixgQK62Yn\\u002fZL2BA4umVsgwzYEAVHcnlPzZgQEhQ\\u002fBhzOWBAe4MvTKY8YECutmJ\\u002f2T9gQOLplbIMQ2BAFR3J5T9GYEBIUPwYc0lgQHuDL0ymTGBArrZif9lPYEDi6ZWyDFNgQBUdyeU\\u002fVmBASFD8GHNZYEB7gy9MplxgQK62Yn\\u002fZX2BA4umVsgxjYEAVHcnlP2ZgQEhQ\\u002fBhzaWBAe4MvTKZsYECutmJ\\u002f2W9gQOLplbIMc2BAFR3J5T92YEBIUPwYc3lgQHuDL0ymfGBArrZif9l\\u002fYEDi6ZWyDINgQBUdyeU\\u002fhmBASFD8GHOJYEB7gy9MpoxgQK62Yn\\u002fZj2BA4umVsgyTYEAVHcnlP5ZgQEhQ\\u002fBhzmWBAe4MvTKacYECutmJ\\u002f2Z9gQOLplbIMo2BAFR3J5T+mYEBIUPwYc6lgQHuDL0ymrGBArrZif9mvYEDi6ZWyDLNgQBUdyeU\\u002ftmBASFD8GHO5YEB7gy9MprxgQK62Yn\\u002fZv2BA4umVsgzDYEAVHcnlP8ZgQEhQ\\u002fBhzyWBAe4MvTKbMYECutmJ\\u002f2c9gQOLplbIM02BAFR3J5T\\u002fWYEBIUPwYc9lgQHuDL0ym3GBArrZif9nfYEDi6ZWyDONgQBUdyeU\\u002f5mBASFD8GHPpYEB7gy9MpuxgQK62Yn\\u002fZ72BA4umVsgzzYEAVHcnlP\\u002fZgQEhQ\\u002fBhz+WBAe4MvTKb8YECutmJ\\u002f2f9gQOLplbIMA2FAFR3J5T8GYUBIUPwYcwlhQHuDL0ymDGFArrZif9kPYUDi6ZWyDBNhQBUdyeU\\u002fFmFASFD8GHMZYUB7gy9MphxhQK62Yn\\u002fZH2FA4umVsgwjYUAVHcnlPyZhQEhQ\\u002fBhzKWFAe4MvTKYsYUCutmJ\\u002f2S9hQOLplbIMM2FAFR3J5T82YUBIUPwYczlhQHuDL0ymPGFArrZif9k\\u002fYUDi6ZWyDENhQBUdyeU\\u002fRmFASFD8GHNJYUB7gy9MpkxhQK62Yn\\u002fZT2FA4umVsgxTYUAVHcnlP1ZhQEhQ\\u002fBhzWWFAe4MvTKZcYUCutmJ\\u002f2V9hQOLplbIMY2FAFR3J5T9mYUBIUPwYc2lhQHuDL0ymbGFArrZif9lvYUDi6ZWyDHNhQBUdyeU\\u002fdmFASFD8GHN5YUB7gy9MpnxhQK62Yn\\u002fZf2FA4umVsgyDYUAVHcnlP4ZhQEhQ\\u002fBhziWFAe4MvTKaMYUCutmJ\\u002f2Y9hQOLplbIMk2FAFR3J5T+WYUBIUPwYc5lhQHuDL0ymnGFArrZif9mfYUDi6ZWyDKNhQBUdyeU\\u002fpmFASFD8GHOpYUB7gy9MpqxhQK62Yn\\u002fZr2FA4umVsgyzYUAVHcnlP7ZhQEhQ\\u002fBhzuWFAe4MvTKa8YUCutmJ\\u002f2b9hQOLplbIMw2FAFR3J5T\\u002fGYUBIUPwYc8lhQHuDL0ymzGFArrZif9nPYUDi6ZWyDNNhQBUdyeU\\u002f1mFASFD8GHPZYUB7gy9MptxhQK62Yn\\u002fZ32FA4umVsgzjYUAVHcnlP+ZhQEhQ\\u002fBhz6WFAe4MvTKbsYUCutmJ\\u002f2e9hQOLplbIM82FAFR3J5T\\u002f2YUBIUPwYc\\u002flhQHuDL0ym\\u002fGFArrZif9n\\u002fYUDi6ZWyDANiQBUdyeU\\u002fBmJASFD8GHMJYkB7gy9MpgxiQK62Yn\\u002fZD2JA4umVsgwTYkAVHcnlPxZiQEhQ\\u002fBhzGWJAe4MvTKYcYkCutmJ\\u002f2R9iQOLplbIMI2JAFR3J5T8mYkBIUPwYcyliQHuDL0ymLGJArrZif9kvYkDi6ZWyDDNiQBUdyeU\\u002fNmJASFD8GHM5YkB7gy9MpjxiQK62Yn\\u002fZP2JA4umVsgxDYkAVHcnlP0ZiQEhQ\\u002fBhzSWJAe4MvTKZMYkCutmJ\\u002f2U9iQOLplbIMU2JAFR3J5T9WYkBIUPwYc1liQHuDL0ymXGJArrZif9lfYkDi6ZWyDGNiQBUdyeU\\u002fZmJASFD8GHNpYkB7gy9MpmxiQK62Yn\\u002fZb2JA4umVsgxzYkAVHcnlP3ZiQEhQ\\u002fBhzeWJAe4MvTKZ8YkCutmJ\\u002f2X9iQOLplbIMg2JAFR3J5T+GYkBIUPwYc4liQHuDL0ymjGJArrZif9mPYkDi6ZWyDJNiQBUdyeU\\u002flmJASFD8GHOZYkB7gy9MppxiQK62Yn\\u002fZn2JA4umVsgyjYkAVHcnlP6ZiQEhQ\\u002fBhzqWJAe4MvTKasYkCutmJ\\u002f2a9iQOLplbIMs2JAFR3J5T+2YkBIUPwYc7liQHuDL0ymvGJArrZif9m\\u002fYkDi6ZWyDMNiQA==\"},\"y\":{\"dtype\":\"f8\",\"bdata\":\"SgwCK4cUg0A\\u002fNV66SbqCQFpkO99PmoJAi2zn+6kQg0DTTWIQWCWCQAwCK4cWzIJAke18PzWxgkAUrkfhej+CQIGVQ4tsEYJAPzVeuknxgUD4U+OlmyiCQCcxCKwcjYJA5\\u002fup8dLQgUBEi2zn+\\u002faBQNV46SYxBIJAiUFg5dDNgUCPwvUoXIqBQESLbOf7voFAN4lBYOV4gUDZzvdT44GBQFg5tMh2r4FAO99PjZd9gUA1XrpJDBOBQP7UeOkmuIFAcT0K16MIgUB3vp8aL66BQFK4HoXrHYFA4XoUrkdSgUB9PzVeugiBQJMYBFYOiIBA6SYxCKzpgEAK16NwPSmAQKwcWmQ7noBAzczMzMz1gEAzMzMzMwOBQMl2vp8adIBATmIQWDlygEBCYOXQIm6AQF66SQwC439AJQaBlUNfgEDy0k1iEMCAQBsv3SQGUoBADi2yne8SgEAAAAAAAHSAQC2yne+n+n9AN4lBYOU7gEA9CtejcCOAQJhuEoPAi4BAAAAAAACif0Dy0k1iEPx\\u002fQH0\\u002fNV66BYBA16NwPQpEgEAIrBxaZAqAQOF6FK5HPX9AsHJoke0uf0DNzMzMzEx\\u002fQH0\\u002fNV66bIBA2\\u002fl+arwef0Atsp3vp85\\u002fQMUgsHJoRIBAmG4Sg8BagEDwp8ZLN1OAQAisHFpkoX9ACKwcWmQHgEBWDi2ynRyAQG3n+6nxjoBAGQRWDi0Qf0DXo3A9Ci9\\u002fQLTIdr6fuH9AjZduEoPwf0AOLbKd72t+QNV46SYx1n9APzVeukkMgEDXo3A9CkiAQPLSTWIQzn5AEoPAyqEpf0CLbOf7qWd\\u002fQCcxCKwceH9AAiuHFtl6fkBzaJHtfLd\\u002fQDeJQWDlAn9A0SLb+X5uf0BEi2zn+6d\\u002fQNv5fmq86n5A30+Nl27mf0CBlUOLbO9+QMdLN4lBKH9A8KfGSzcNgEAQWDm0yBR\\u002fQLx0kxgELn9AfT81XrrdfkC6SQwCK+t+QJHtfD81A4BAkxgEVg7TfkBU46WbxBiAQPLSTWIQSn5ALbKd76dUfkD4U+Olm0J\\u002fQKjGSzeJJX5ATDeJQWADfkCTGARWDs99QB1aZDvfr35Ake18PzXGf0CF61G4Hi1\\u002fQG3n+6nx1H5Aj8L1KFybf0DJdr6fGpN+QKrx0k1i6H5ABoGVQ4s8gED+1HjpJo1\\u002fQOf7qfHSm39AKVyPwvVefkA9CtejcAd\\u002fQJZDi2zn9X5AYOXQIttDfkCF61G4Hjd+QIts5\\u002fupoX5ATDeJQWBpfkDLoUW283t+QAaBlUOLJH5Asp3vp8affkAMAiuHFql+QHsUrkfh+HxAy6FFtvOLf0C0yHa+nyJ\\u002fQNEi2\\u002fl+Xn9AbxKDwMrvfkA1XrpJDAh\\u002fQBsv3SQGR4BA7nw\\u002fNV6mgEAhsHJokXKBQJMYBFYObYFAMQisHFpdgUDHSzeJQUCAQBsv3SQG439AqvHSTWImf0DTTWIQWHl\\u002fQNNNYhBY2X5AwcqhRbaDf0DufD81Xu5+QGDl0CLb839AJQaBlUNggEDdJAaBlT6AQNEi2\\u002fl+vH1AVg4tsp1xfkAOLbKd7z9\\u002fQCGwcmiRe3xAH4XrUbjofUCsHFpkOwt+QJMYBFYO\\u002fXxA+FPjpZsEfUCHFtnO97t9QFTjpZvEZnxAAiuHFtksfEDfT42XbjB9QBKDwMqhoX1AGy\\u002fdJAZZfEBkO99PjW18QDVeukkMxHxA3SQGgZVzfEAv3SQGgY98QIcW2c73S31AqMZLN4lhfUAzMzMzMxN9QFK4HoXrdX1AF9nO91PRfECyne+nxhN+QLTIdr6fPH9APQrXo3BzfkDdJAaBlVN\\u002fQHNoke18\\u002fYBAcT0K16PtgECHFtnO91uAQOxRuB6Fo39AppvEILBcfkB\\u002farx0k5R8QD0K16NwU3xAK4cW2c41fEBI4XoUrnt8QAisHFpkF31AxSCwcmi3fEDdJAaBleF7QKAaL90k5nxARrbz\\u002fdRSfUDsUbgehZt9QJZDi2znq3xAd76fGi+Nf0CamZmZmS1\\u002fQIXrUbgeUX5AyXa+nxpnf0DXo3A9CgCAQP7UeOkmZ39AAAAAAAB7gEDb+X5qvJ6AQEw3iUFgUYFAJQaBlUOWg0DVeOkmMfiFQFYOLbKdnIhA8KfGSzdojECiRbbz\\u002fXmMQCuHFtnOi4lAy6FFtvMRhkDHSzeJQUCCQK5H4XoUSn9AhetRuB69fEBmZmZmZkR9QE5iEFg5eH5AtvP91HinfUAQWDm0yPZ\\u002fQBBYObTIlYBAObTIdr7TgUA5tMh2viCCQJqZmZmZIYJA7nw\\u002fNV56gUDTTWIQWIyAQCPb+X5qZn1AMzMzMzOjfEDhehSuR\\u002fl7QDvfT42XunxAXrpJDAIdfEAX2c73U498QN9PjZduoHxAEFg5tMhUfECoxks3ifF8QN0kBoGVYXxAKVyPwvU+fECF61G4HoN8QA4tsp3vy3xAvp8aL914fUCwcmiR7ah+QPT91HjpNH9AJQaBlUMJgUAK16NwPaaAQD81XrpJnH5A+n5qvHQZfUA9CtejcE18QDvfT42XcHxATDeJQWBPe0AlBoGVQxl7QMHKoUW2KXtAukkMAisVekC8dJMYBPx6QLTIdr6flHtAXI\\u002fC9Sgke0DfT42Xbux6QL6fGi\\u002fdgnpAXI\\u002fC9ShwekCPwvUoXDV7QGQ730+Np3lAbef7qfF0e0DTTWIQWK16QHWTGARWznpASgwCK4d4eUCNl24Sgzp7QIlBYOXQkntAsp3vp8Y1e0Dn+6nx0r15QEw3iUFgy3pA\\u002fKnx0k3mekC8dJMYBIp6QCGwcmiRq3pApHA9Ctc9e0CBlUOLbO95QH0\\u002fNV66U3pAKVyPwvXQekAlBoGVQ9N7QFK4HoXrw3pAexSuR+HWe0Cmm8QgsAh8QGZmZmZmlntAkxgEVg4PfEAzMzMzM1t7QCcxCKwcFHxA\\u002ftR46SaRe0Cmm8QgsPZ8QD0K16Nwc3xAnu+nxkvhfEC6SQwCK3F9QJhuEoPAFnxAwcqhRbbhfUDHSzeJQXB9QHNoke18b39AuB6F61ExgEBzaJHtfBCBQKabxCCwf4BAxSCwcmjdgECWQ4ts5x9\\u002fQGDl0CLbm35A4XoUrke5fUBSuB6F68l7QJhuEoPA\\u002fntA9P3UeOlwe0B7FK5H4eh6QG3n+6nxsHpArkfhehQ0e0Ce76fGSz98QC2yne+nbntADi2yne+3e0Coxks3iTN7QMuhRbbzY3tAMzMzMzNVfECamZmZmaV7QJ7vp8ZLR3tA4XoUrkcDe0BqvHSTGHx6QPyp8dJNtHtAqMZLN4kDfECq8dJNYjB8QGQ730+Na3xAmpmZmZkJfkDJdr6fGrF\\u002fQNV46SYxiYBAbxKDwMp1g0B7FK5H4cWEQP7UeOkmuYRA2c73U+OMgkBYObTIdviAQOOlm8Qgdn5ASgwCK4dufEB\\u002farx0k+57QN0kBoGVu3xAkxgEVg6DfEBg5dAi22d8QJhuEoPAtHxA9ihcj8JzfED6fmq8dA19QGq8dJMYJHxAxSCwcmi7e0Atsp3vp8Z8QGiR7Xw\\u002fA3xAVg4tsp2De0ACK4cW2bJ8QCcxCKwcWn1AYhBYObRKfUBKDAIrh+58QPT91HjpGH1ArkfhehRofUBMN4lBYGd9QIcW2c73g35Aw\\u002fUoXI8UfkC8dJMYBPB\\u002fQC2yne+nWIFASOF6FK45hEBCYOXQIliIQKAaL90kO4xAEoPAyqGmjUBt5\\u002fup8WyMQAAAAAAAeYlArkfhehSEhUCsHFpkOx2DQOf7qfHSeoBAi2zn+6l7f0BmZmZmZpx\\u002fQLbz\\u002fdR494BABoGVQ4tQgkDJdr6fGniDQF66SQwCXIRAi2zn+6nEgkBSuB6F6+iAQKrx0k1i\\u002fH5Ake18PzXQfUBMN4lBYGV+QNV46SYxpH5ACKwcWmQsgEBU46WbxNuBQIts5\\u002fupV4RArkfhehQWh0BxPQrXo6mIQN9PjZduSIZAPQrXo3DAg0ASg8DKoRqBQFTjpZvEFH5APzVeuklKfUAzMzMzM2l8QCPb+X5q3npAc2iR7Xz9ekArhxbZzg98QD0K16NwtX1ArBxaZDtggEDFILByaAWDQOxRuB6FToZA3SQGgZXlikAIrBxaZPqMQLTIdr6fmYpA\\u002fKnx0k3rhUDRItv5frGBQFyPwvUoDn5Abef7qfGmfEC6SQwCK0N9QN0kBoGVd31A16NwPQoNfkBmZmZmZv59QC2yne+nooBAi2zn+6kkgkCamZmZmYmDQF66SQwCQIRAsHJoke3UgkBg5dAi23SBQKjGSzeJb35AeekmMQjcfUBcj8L1KKR\\u002fQOXQItv5koJAEoPAyqHziEAhsHJokZqRQMP1KFyPjpxAQmDl0KJMpUCyne+nBqCqQBkEVg4tvatAGy\\u002fdJAZ4qUD4U+OlW8akQLbz\\u002fdT44ZxAI9v5fuqgkkCNl24Sgx2HQLKd76fGhoFAexSuR+EmfkCPwvUoXOV8QOXQItv52n1A2\\u002fl+aryafUDhehSuR118QAAAAAAA5n1ARIts5\\u002fu3fEAGgZVDiyp9QG3n+6nx9n1A0SLb+X5UfUAnMQisHNh8QMHKoUW2ZX1ArBxaZDtRfUAzMzMzM1V+QKRwPQrXUYBACKwcWmQEg0A\\u002fNV66SUSGQPhT46WbKYpAhetRuB6kiUDufD81XnmGQOxRuB6FfoJARrbz\\u002fdR5gEDFILByaMt9QPYoXI\\u002fCt31ArBxaZDtffUAfhetRuOx+QGDl0CLbpX5AMQisHFpRgEBYObTIdop\\u002fQPYoXI\\u002fC6X9A46WbxCDQf0CwcmiR7S6AQLTIdr6fvn9AgZVDi2xhfkCq8dJNYoB8QGiR7Xw\\u002ff3tA+n5qvHSHfEB9PzVeukN7QDVeukkMontAiUFg5dDYe0AxCKwcWvx7QBkEVg4tXHtArBxaZDute0A\\u002fNV66SRZ7QKwcWmQ773pAiUFg5dCMe0CkcD0K16t7QJZDi2znZXxA7FG4HoXTe0DufD81Xnp8QNejcD0KS4BANV66SQzIgUAGgZVDiyuCQGZmZmZmo4JAx0s3iUGJgUAOLbKd7+F\\u002fQIPAyqFFdn5AtMh2vp9WfUA\\u002fNV66Sfh9QI2XbhKDin5AN4lBYOUAfUDy0k1iEFZ8QPCnxks3aX1AXI\\u002fC9SjAfED6fmq8dKF7QMUgsHJoxXxAzczMzMwAfEDfT42XboB7QArXo3A9hnxA3SQGgZVzfEA3iUFg5Qx8QIcW2c738XtA2c73U+Nre0AEVg4tsut8QLTIdr6f9HtAqvHSTWKSfUC0yHa+n9Z8QBSuR+F6HH1AoBov3SSifEDfT42Xbmh9QFTjpZvEGHpAmpmZmZnNekCF61G4Hid8QIGVQ4ts\\u002fXtAmpmZmZkhfECNl24Sg9p6QP7UeOkmnXtAVg4tsp0ve0C6SQwCKwt7QLx0kxgEpnpAxSCwcmjPekBI4XoUrhF7QJzEILByQHpA4XoUrkdNekCe76fGSz97QKjGSzeJCXtA8KfGSzdDe0ASg8DKoYF6QH0\\u002fNV668XpAPzVeuklWfEBMN4lBYHF8QJMYBFYOh3tA8tJNYhCOfEBeukkMAv97QClcj8L1UHtARrbz\\u002fdQOe0CiRbbz\\u002fTx8QGIQWDm03HpAg8DKoUXye0AlBoGVQxt8QIlBYOXQnHtAK4cW2c7he0DP91Pjpe16QAwCK4cW33tAokW28\\u002f1SfEAv3SQGgRt\\u002fQGQ730+NyYBAIbByaJG9gEDJdr6fGjOAQIGVQ4tsnX1AmpmZmZnve0AK16NwPfR6QH0\\u002fNV66KXtAppvEILCWe0BOYhBYOex6QM\\u002f3U+OlZ3xAvHSTGAS0e0BI4XoUrpV8QHnpJjEIEnxAvHSTGASWfEAMAiuHFkd9QLByaJHtBn5AexSuR+HWfkCgGi\\u002fdJHh8QJHtfD81NnxAzczMzMziekBOYhBYOZB6QNv5fmq86HpAWDm0yHYeekAAAAAAAMx6QJhuEoPAHnxAUrgeheuRe0D8qfHSTRJ8QD81XrpJlHpArkfhehQee0DZzvdT46d7QFK4HoXrf4BAc2iR7XwChkBmZmZmZnmSQK5H4XqUXpxAoBov3aSAoUA5tMh2PoeRQHE9CtejrodAexSuR+ECg0C4HoXrUQ6BQKRwPQrXkYJAN4lBYOXrhEDHSzeJQeKGQKwcWmQ7c4RAwcqhRbZpgEApXI\\u002fC9YR9QBfZzvdTB3xA4XoUrkc7fEDTTWIQWFt7QMP1KFyPaHtAWDm0yHbGe0BKDAIrh6B7QNv5fmq8dntAEoPAyqHle0BmZmZmZkR8QH9qvHST2HtADAIrhxZre0BI4XoUrqN6QIts5\\u002fuprXpARrbz\\u002fdQ+e0Dn+6nx0vl7QLByaJHtCHtAeekmMQg2fEB1kxgEVsJ+QHnpJjEIqoFAF9nO91OHhECPwvUoXC+FQMUgsHJoioNAbxKDwMpdgEBt5\\u002fup8W59QJHtfD81qnpA2\\u002fl+arwEfEDsUbgehSt7QJHtfD81DntAf2q8dJM8e0Aj2\\u002fl+asB6QM3MzMzMxntA\\u002fKnx0k2yfUB9PzVeuiaCQAwCK4cWm4ZACtejcD0kikC4HoXrUfGJQHE9Ctej3YVAWmQ7309UgUDl0CLb+Vx+QD81XrpJ+nxA7FG4HoVxfEDhehSuRz17QGQ730+Nb3tAc2iR7Xwne0BeukkMAq18QG8Sg8DKeX9A5\\u002fup8dL0gEAMAiuHFtOAQBBYObTI4YBAfT81XroSgECDwMqhRaB\\u002fQCGwcmiR1YBA5dAi2\\u002flIgEAOLbKd70t+QFpkO99PU3tA16NwPQo5e0AhsHJokTV6QBKDwMqhXXtArkfhehT8ekD2KFyPwgl6QE5iEFg5mnlAj8L1KFyzekBqvHSTGCh6QGIQWDm01nlAL90kBoH1ekC8dJMYBFR6QMl2vp8arXlAdZMYBFbEe0AMAiuHFg2AQLKd76fGloNAiUFg5dBmhkDn+6nx0vmGQCGwcmiRWoNArBxaZDubgUBqvHSTGIR9QLbz\\u002fdR433pAUrgeheuNe0Coxks3iQV6QNNNYhBYYX1ASgwCK4fegEBmZmZmZhKDQHE9CtejrIJADAIrhxYzgUCcxCCwcix9QCUGgZVDZXpAXI\\u002fC9SiyekAZBFYOLaJ5QA4tsp3vGXpA9ihcj8IxeUDVeOkmMcZ6QARWDi2ydXpAxSCwcmg\\u002fe0CwcmiR7Ux7QAAAAAAAinpAUrgeheuFekCDwMqhRd55QGDl0CLbJ3pAy6FFtvOLeUCmm8QgsCZ5QN9PjZduxHpAtMh2vp8Me0CNl24Sg358QBSuR+F6Un5A8KfGSzcSgECkcD0K18GBQFK4HoXrPIRAjZduEoP\\u002fhUAIrBxaZMCJQDeJQWDl\\u002fYtAAiuHFtlSiUDRItv5fuODQEoMAiuHzIBA0SLb+X6Kg0CJQWDl0P6LQOxRuB6FXJdA5\\u002fup8dLHnkDZzvdT45KfQKrx0k1iEpdAUrgehev\\u002fjkAGgZVDiweQQKRwPQpXlJhARrbz\\u002fVQFokAdWmQ7n5qiQFpkO9\\u002fPgJpAx0s3iUGTjUDdJAaBlWyBQD0K16Nwx3xAppvEILDgeUB\\u002farx0kxZ8QOf7qfHSgXxABoGVQ4uuekAbL90kBrd8QEJg5dAiBoBAke18PzUfgUBOYhBYOd2BQIlBYOXQooBAgZVDi2xZfkCuR+F6FHZ5QHWTGARWynpArBxaZDsXekCe76fGS+V5QJ7vp8ZLd3pAj8L1KFzReUAfhetRuFh6QG3n+6nxmnlAEFg5tMjyekDHSzeJQRJ6QAwCK4cWr3hAYOXQItvzekAnMQisHJB5QO58PzVeXnpAexSuR+Gme0ACK4cW2eR7QHNoke18eX5Aw\\u002fUoXI+IfkCR7Xw\\u002fNdR8QBBYObTIcntABFYOLbKLekBI4XoUrpV6QB1aZDvfEXxAEFg5tMi+fEBiEFg5tHR8QHE9CtejBH1AyXa+nxp7e0C0yHa+n9J7QKwcWmQ7S31AiUFg5dCafUA5tMh2vmF8QBKDwMqht3xABFYOLbLxe0Bt5\\u002fup8Sp7QFK4HoXrrXtAhetRuB7FeUAZBFYOLeZ5QPT91HjpAntAZDvfT43Bf0A730+Nl4mDQEJg5dAiE4lAoBov3SQai0DHSzeJQQ6HQC2yne+neYJAVOOlm8TifkBWDi2ynWt+QHWTGARWjn5AN4lBYOUOgEBkO99PjfSBQHsUrkfhd4NAtvP91HiNgUAxCKwcWtx+QHnpJjEIRHtAbef7qfHweUD8qfHSTfh5QA4tsp3va3lAtMh2vp9UekBOYhBYObp6QFTjpZvEqnpA16NwPQpHeUCcxCCwcmJ5QN0kBoGVW3lAarx0kxg4eUDjpZvEIE56QDm0yHa+\\u002fXlA\\u002fKnx0k3GeUDVeOkmMVZ7QNv5fmq8uHtA0SLb+X5efECamZmZmUt7QFK4HoXrWXtAmpmZmZmrekCamZmZmY17QNejcD0KzX1Af2q8dJNrgkDRItv5fpuQQBsv3SSGP55A4XoUrgcVpkBt5\\u002fupMdSnQJzEILDywaNAarx0kxhRmkAzMzMzM3uOQARWDi2yTYJAWmQ7308TfUB56SYxCIp6QOf7qfHSXXpA9P3UeOmweUAbL90kBiN5QC\\u002fdJAaB2XlAlkOLbOfHekAEVg4tsqF6QO58PzVeLHlAAAAAAADYeUCcxCCwcsh5QAisHFpkB3pAy6FFtvNzeUC6SQwCK495QEw3iUFgi3hAlkOLbOe9eUAIrBxaZKV4QC2yne+nvnlAYOXQItspekBSuB6F67l4QLTIdr6f7HhASgwCK4due0Dl0CLb+Yx\\u002fQFK4HoXrNoRAGQRWDi0UiEDVeOkmMTyIQESLbOf714NARIts5\\u002ftXfkDpJjEIrEh7QBfZzvdT8XlANV66SQxeeUBEi2zn+4d4QIcW2c73EXhA+FPjpZuyeEC4HoXrUSB4QAAAAAAA\\u002fHhAx0s3iUEYeUArhxbZzmt4QI\\u002fC9Shcv3tATmIQWDn0gEBGtvP91K6GQOF6FK5H3YtAEFg5tMiDjEAMAiuHFvCFQHe+nxovRX9Avp8aL92We0DLoUW28w18QLx0kxgEUH1Aj8L1KFxXfUAZBFYOLep7QMHKoUW2s3lAEoPAyqH3eECamZmZmV95QCPb+X5q7HhABoGVQ4uae0CF61G4HrV7QHe+nxovU3tAAAAAAADUeUDRItv5fkB5QG8Sg8DKF3hARrbz\\u002fdRIeEBaZDvfTxt4QNv5fmq8cHdALbKd76d0eEDJdr6fGsl4QB1aZDvfG3lA5dAi2\\u002fmEeEAZBFYOLVx6QIPAyqFFYn1AEoPAyqFJf0DfT42Xbm2CQK5H4XoUb4RA+FPjpZsShEArhxbZzmmBQMUgsHJo335ARrbz\\u002fdTjgEDLoUW28+SGQKabxCCwOo1A7FG4HoX3jEBeukkMAmOHQAAAAAAAzIRAiUFg5dDThEBI4XoUrgOGQAisHFpkGYVASOF6FK4bhEDhehSuRxaCQFCNl24SHIFAqMZLN4n5fkCLbOf7qcGAQC2yne+ns4dA\\u002fKnx0s32kEDhehSuxwSWQIts5\\u002fspgJVAdZMYBFa6jUDFILByaCyFQGDl0CLb4YRA3SQGgZV5hUBzaJHtfM+EQH0\\u002fNV66rIRAbxKDwMr2hUCsHFpkO0uEQDVeukkMX4BAN4lBYOUke0BOYhBYOQJ6QGIQWDm0THtA0SLb+X5+fUBEi2zn+wGBQKrx0k1i44JAoBov3STWg0D6fmq8dIKCQJ7vp8ZLzoBAmpmZmZlggEBg5dAi2\\u002fqAQJqZmZmZs4FARrbz\\u002fdRkgECcxCCwcn5\\u002fQOF6FK5Hr3xAy6FFtvMxe0Atsp3vp6J7QHWTGARWWHlAEFg5tMhoeUAX2c73U+t3QMuhRbbz53hAexSuR+G6eEBGtvP91Lx5QFg5tMh2hHlASOF6FK4zfUDhehSuR5WAQOkmMQisqH5Aw\\u002fUoXI9MfEAzMzMzM\\u002fN5QK5H4XoUpHhAarx0kxi+eEArhxbZzj95QDeJQWDlvHlARrbz\\u002fdQseEAK16NwPZZ4QPYoXI\\u002fCb3dAexSuR+HMd0Av3SQGgRd3QBBYObTIiHZARrbz\\u002fdRIeEBGtvP91Fp4QCcxCKwcOHhAUI2XbhL7d0AxCKwcWkJ4QHe+nxovm3dAcT0K16OAeEAhsHJokct4QLByaJHtJHpA8KfGSze0hECWQ4ts52uLQFYOLbKdHIxACtejcD1OhkC8dJMYBDuAQJzEILBycHtAexSuR+HkeUC+nxov3XR6QPp+arx0DXlAVg4tsp2LeUBoke18P\\u002fN5QLTIdr6fwnpAGy\\u002fdJAZNeUBiEFg5tHR4QAIrhxbZaHhAmpmZmZkLeEBg5dAi26V5QJhuEoPAXnlApHA9Cte1d0BMN4lBYEN4QLpJDAIrxXdAVg4tsp3jdkD6fmq8dAt3QOOlm8Qg\\u002fHdAWDm0yHZYeEBEi2zn+0l5QDvfT42XsHlA\\u002fKnx0k0eekCkcD0K16d7QKjGSzeJu31AAAAAAAACgkDFILByaAeDQLKd76fG1YRAJQaBlUP7g0D8qfHSTb+EQKwcWmQ7qIZAUI2XbhIih0B9PzVeumyEQKrx0k1iK4FAukkMAit7gEDy0k1iEJ2BQI\\u002fC9ShcxYRAppvEILA2hUBU46WbxNKDQH9qvHSTM4BADi2yne+fe0DNzMzMzIx4QOOlm8QghHdAWmQ7309LeEBKDAIrh\\u002f56QCcxCKwcmYBAVOOlm8SBhEAEVg4tskuFQArXo3A9UIJA0SLb+X5wfEBkO99PjWN4QPCnxks3cXZAeekmMQhkd0CsHFpkO094QG3n+6nxJnxAukkMAiutf0BSuB6F68GCQGIQWDm0IoZAZmZmZmaXiEDByqFFtuKIQArXo3A9h4dAnu+nxksdhEB1kxgEVhKAQH9qvHSTXnxAbxKDwMpje0DXo3A9Cgd6QESLbOf7S3lA\\u002fKnx0k0QeUDwp8ZLN1N9QG8Sg8DK\\u002f4FABFYOLbLng0Ce76fGS2KDQPhT46WbSIBAlkOLbOfFekDjpZvEII54QGQ730+NI3lAVg4tsp1fekA9CtejcEyAQPT91HjpPINA+n5qvHQEhEBQjZduEgaCQOf7qfHSS3xAkxgEVg5DeUA3iUFg5U54QGIQWDm0THdAhxbZzvcHeUBqvHSTGBx4QBKDwMqhI3dAke18PzXWdUA730+Nl+h1QHNoke189XVAx0s3iUHUdUAj2\\u002fl+asR2QD0K16NwM3lAqMZLN4ldgEAQWDm0yI6EQAwCK4cWCohAj8L1KFwyiEAGgZVDi56DQEa28\\u002f3UDH5AhetRuB6PeEC+nxov3RR2QHnpJjEIEnZAoBov3STOdUAQWDm0yLZ2QDm0yHa+FXdAWmQ730+1dkD2KFyPwi97QNejcD0KLX5ASOF6FK5vfUBzaJHtfJ98QKjGSzeJP3pAvHSTGASmdkD+1HjpJmN2QGZmZmZm3nZAukkMAiuxdkCe76fGSzN2QNNNYhBYsXVAokW28\\u002f2UdUBeukkMAlt1QJMYBFYOAXZA001iEFjLdkD8qfHSTVJ9QBBYObTIqoBAL90kBoFlg0BSuB6F6xGEQOxRuB6FKIJA\\u002ftR46SYUgEDn+6nx0n17QPT91Hjp\\u002fHlAukkMAisnekBqvHSTGGR4QFYOLbKdH3lA7nw\\u002fNV4UeUAj2\\u002fl+aox5QIXrUbgezXdAtMh2vp\\u002fsdUBKDAIrh7B1QBKDwMqh9XVArBxaZDv1dECJQWDl0Jx1QI2XbhKDVHZAexSuR+EOdkC6SQwCK3l1QIGVQ4ts6XRAZmZmZmawdUA\\u002fNV66SXB1QOxRuB6FgXRAWmQ730\\u002fJdECBlUOLbC91QFyPwvUoyHRA16NwPQpNdkAK16NwPYR4QMl2vp8ao3pAeekmMQjwe0AlBoGVQ7d8QA4tsp3vkX1AiUFg5dAufECWQ4ts5218QDvfT42XbH5AnMQgsHKZgkAbL90kBhKGQFg5tMh2tIpAwcqhRbaZiEBkO99PjYuGQESLbOf7loJATDeJQWDJfECwcmiR7Vx4QA4tsp3vcXVAGQRWDi1ydUCgGi\\u002fdJEh0QN9PjZduRHNAI9v5fmrgc0BQjZduEh9zQHWTGARWXnRAlkOLbOczdECamZmZmQF0QGQ730+Ny3NAmG4Sg8Ayc0AdWmQ73xVzQG8Sg8DKh3NATmIQWDnMc0CsHFpkO4FzQPyp8dJNbnRADi2yne\\u002fddECJQWDl0KJ2QClcj8L1zHdAi2zn+6kre0AbL90kBgN8QJhuEoPAVH1AvHSTGAQ6f0BvEoPAynF\\u002fQK5H4XoUYn5AVOOlm8QWfkDufD81Xop6QArXo3A9pndAeekmMQgudUD+1HjpJuV0QM\\u002f3U+Oly3RAjZduEoP2dUAbL90kBml4QH9qvHSTrHhAsp3vp8ZNeECiRbbz\\u002fZZ4QCGwcmiRu3ZAf2q8dJMKdkD0\\u002fdR46TJ1QGZmZmZmSHRA+FPjpZtGdUCiRbbz\\u002fZx1QCUGgZVDQXdABFYOLbIzd0Ce76fGS0l4QD81XrpJtHdAYhBYObTodUBaZDvfT191QKwcWmQ7\\u002fXNAx0s3iUGCdED0\\u002fdR46bJzQGZmZmZmEnRAhetRuB6xdEBiEFg5tDZ0QEjhehSux3VAWmQ7308JeUBt5\\u002fup8UB7QLTIdr6fun5AUI2XbhJJfkCe76fGS9d+QNnO91PjvXtAGQRWDi2seEAOLbKd7\\u002ft0QKabxCCwzHNA3SQGgZV1dEDTTWIQWClzQO58PzVebnRAcT0K16PqdEDb+X5qvKx1QGZmZmZm5nhAUI2XbhLLeUB9PzVeust7QKJFtvP96HxABoGVQ4tGe0DHSzeJQbp5QC2yne+nSnZAPzVeukmwdUD0\\u002fdR46d50QMP1KFyPSHRAsp3vp8ZZdEDFILByaIlzQPCnxks3pXJAJQaBlUNlc0CHFtnO9x1zQBSuR+F6onJAbef7qfGOc0BmZmZmZuhzQPLSTWIQrnNAfT81Xrqpc0CF61G4HqF1QIlBYOXQ0ndAf2q8dJNGe0DLoUW28\\u002fF8QB+F61G48H5A3SQGgZVTfkDjpZvEIOZ7QBkEVg4tsnpACKwcWmSZeEC8dJMYBJp1QNejcD0KFXVAtMh2vp\\u002fCdECe76fGS6VzQGIQWDm06nNAH4XrUbhGc0AzMzMzM0F0QCUGgZVDf3NAUrgeheuVc0B9PzVeuh10QIGVQ4tsk3NAaJHtfD95dUCmm8QgsMJ1QLgehetRRndACKwcWmR5eEA3iUFg5cx4QO58PzVeKHlADAIrhxa3d0C6SQwCK9l2QC2yne+nNHZAvp8aL92odEAGgZVDi0B0QKabxCCwonRArBxaZDt1dEA\\u002fNV66STh0QLbz\\u002fdR4V3NA1XjpJjEUc0Ce76fGS41yQFK4HoXrwXNArkfhehTKc0CkcD0K1w1zQMuhRbbzAXRAtMh2vp\\u002f0c0A1XrpJDNpzQP7UeOkmCXRAexSuR+FCdkC0yHa+n2B0QEw3iUFgq3RAjZduEoPEdEBcj8L1KMh1QJqZmZmZj3ZANV66SQzGdUDpJjEIrGJ2QNV46SYxQndAjZduEoP6dUCwcmiR7Rx2QN0kBoGVz3RAhxbZzvdJdUAfhetRuBJ0QNNNYhBYn3NAukkMAitbdEBMN4lBYEdzQMHKoUW25XFArBxaZDtTckA1XrpJDFxyQDMzMzMzdXJAfT81XrpLckDVeOkmMahyQKAaL90k4HNA\\u002ftR46Sb5ckDpJjEIrER0QNV46SYxwnRA16NwPQo5dkA\\u002fNV66SeZ4QBfZzvdTdX5ADAIrhxbsgkCe76fGS86FQOf7qfHSCohACKwcWmSKiUDhehSuR86JQFyPwvUosYdA001iEFi4hUDNzMzMzMuBQLgehetRzH1A16NwPQobekDNzMzMzIh5QPhT46WbVHlARrbz\\u002fdQofUAOLbKd7\\u002fF+QPYoXI\\u002fCIIBAHVpkO9+wgEArhxbZzumAQMP1KFyPUoBALbKd76cof0Bg5dAi2xl9QBBYObTIIntAqvHSTWLyeEDfT42XbuJ2QOf7qfHS23VA1XjpJjHSdUDByqFFtntzQBkEVg4tdHNAMQisHFpUckC6SQwCK3NzQD0K16NwY3JAiUFg5dCGcUB56SYxCMZyQMuhRbbznXJAukkMAitDckAnMQisHEhzQAaBlUOLAHNAAiuHFtlidECyne+nxst2QH0\\u002fNV66I3hA6SYxCKy0ekCamZmZmTt8QNV46SYxHn5AmG4Sg8BKfUDhehSuR898QDMzMzMz03xAcT0K16MQfEAX2c73U+V7QP7UeOkmy3pAhetRuB7nfEBU46WbxMR+QDvfT42XbH9A001iEFgIgUBaZDvfT7yAQL6fGi\\u002fdWoBAJzEIrBwkgEAUrkfhenp9QLByaJHtanxABFYOLbIFe0Cmm8QgsPJ6QPhT46WbZn5AkxgEVg7nfUD6fmq8dPGAQG8Sg8DKO4JA7FG4HoUPgkDJdr6fGg6DQG3n+6nx\\u002foJAke18PzW6gkDRItv5fm2BQHE9CtejpYBAmG4Sg8CKf0AlBoGVQ99+QBsv3SQGl35Ac2iR7XyvfUBg5dAi2\\u002fl+QO58PzVefH9AK4cW2c4bfkDjpZvEIFh+QOf7qfHSb3xAiUFg5dB2fEDZzvdT4995QAisHFpkLXhAiUFg5dBIdkDsUbgehT11QJZDi2zntXNAMQisHFpsdEC0yHa+nxxzQOOlm8QgxHJA+n5qvHTlckAIrBxaZDdxQKRwPQrXqXFAI9v5fmrUcUDHSzeJQUxxQKRwPQrXA3VAeekmMQh+ckAj2\\u002fl+av5yQJzEILByGnNAyXa+nxqrc0D+1HjpJqV0QJhuEoPA5nNAAAAAAAAWdkBGtvP91Jx1QMP1KFyPgHdAdZMYBFZsd0Cq8dJNYvR3QKJFtvP9mHdAI9v5fmr0d0DRItv5fhp5QPhT46Wb1HdAZmZmZmb+eEAX2c73U+d3QI2XbhKDhHdA9P3UeOnId0AbL90kBm92QEw3iUFg93VA3SQGgZXzdECNl24Sg6BzQAAAAAAAKHNAYhBYObQyc0BzaJHtfG9yQOkmMQisLnNA5dAi2\\u002fnmcEDP91PjpfFwQHWTGARWXnFA9P3UeOlYcUBCYOXQIh9xQCuHFtnOi3JAz\\u002fdT46URckACK4cW2bpyQKAaL90k3nJABFYOLbLtc0CJQWDl0KpzQPLSTWIQwnRAppvEILAsdUA3iUFg5fZ0QArXo3A9nnRA+FPjpZuAdEDjpZvEIFZ0QA==\"},\"type\":\"scatter\"},{\"line\":{\"color\":\"rgb(214, 39, 40)\"},\"mode\":\"lines\",\"name\":\"Total calculated (Icalc)\",\"x\":{\"dtype\":\"f8\",\"bdata\":\"G55eKcswIEBO0ZFc\\u002fmMgQIEExY8xlyBAtTf4wmTKIEDoaiv2l\\u002f0gQBueXinLMCFATtGRXP5jIUCBBMWPMZchQLU3+MJkyiFA6Gor9pf9IUAbnl4pyzAiQE7RkVz+YyJAgQTFjzGXIkC1N\\u002fjCZMoiQOhqK\\u002faX\\u002fSJAG55eKcswI0BO0ZFc\\u002fmMjQIEExY8xlyNAtTf4wmTKI0Doaiv2l\\u002f0jQBueXinLMCRATtGRXP5jJECBBMWPMZckQLU3+MJkyiRA6Gor9pf9JEAbnl4pyzAlQE7RkVz+YyVAgQTFjzGXJUC1N\\u002fjCZMolQOhqK\\u002faX\\u002fSVAG55eKcswJkBO0ZFc\\u002fmMmQIEExY8xlyZAtTf4wmTKJkDoaiv2l\\u002f0mQBueXinLMCdATtGRXP5jJ0CBBMWPMZcnQLU3+MJkyidA6Gor9pf9J0Abnl4pyzAoQE7RkVz+YyhAgQTFjzGXKEC1N\\u002fjCZMooQOhqK\\u002faX\\u002fShAG55eKcswKUBO0ZFc\\u002fmMpQIEExY8xlylAtTf4wmTKKUDoaiv2l\\u002f0pQBueXinLMCpATtGRXP5jKkCBBMWPMZcqQLU3+MJkyipA6Gor9pf9KkAbnl4pyzArQE7RkVz+YytAgQTFjzGXK0C1N\\u002fjCZMorQOhqK\\u002faX\\u002fStAG55eKcswLEBO0ZFc\\u002fmMsQIEExY8xlyxAtTf4wmTKLEDoaiv2l\\u002f0sQBueXinLMC1ATtGRXP5jLUCBBMWPMZctQLU3+MJkyi1A6Gor9pf9LUAbnl4pyzAuQE7RkVz+Yy5AgQTFjzGXLkC1N\\u002fjCZMouQOhqK\\u002faX\\u002fS5AG55eKcswL0BO0ZFc\\u002fmMvQIEExY8xly9AtTf4wmTKL0Doaiv2l\\u002f0vQA5Pr5RlGDBAp+hILv8xMEBBguLHmEswQNobfGEyZTBAdLUV+8t+MEAOT6+UZZgwQKfoSC7\\u002fsTBAQYLix5jLMEDaG3xhMuUwQHS1FfvL\\u002fjBADk+vlGUYMUCn6Egu\\u002fzExQEGC4seYSzFA2ht8YTJlMUB0tRX7y34xQA5Pr5RlmDFAp+hILv+xMUBBguLHmMsxQNobfGEy5TFAdLUV+8v+MUAOT6+UZRgyQKfoSC7\\u002fMTJAQYLix5hLMkDaG3xhMmUyQHS1FfvLfjJADk+vlGWYMkCn6Egu\\u002f7EyQEGC4seYyzJA2ht8YTLlMkB0tRX7y\\u002f4yQA5Pr5RlGDNAp+hILv8xM0BBguLHmEszQNobfGEyZTNAdLUV+8t+M0AOT6+UZZgzQKfoSC7\\u002fsTNAQYLix5jLM0DaG3xhMuUzQHS1FfvL\\u002fjNADk+vlGUYNECn6Egu\\u002fzE0QEGC4seYSzRA2ht8YTJlNEB0tRX7y340QA5Pr5RlmDRAp+hILv+xNEBBguLHmMs0QNobfGEy5TRAdLUV+8v+NEAOT6+UZRg1QKfoSC7\\u002fMTVAQYLix5hLNUDaG3xhMmU1QHS1FfvLfjVADk+vlGWYNUCn6Egu\\u002f7E1QEGC4seYyzVA2ht8YTLlNUB0tRX7y\\u002f41QA5Pr5RlGDZAp+hILv8xNkBBguLHmEs2QNobfGEyZTZAdLUV+8t+NkAOT6+UZZg2QKfoSC7\\u002fsTZAQYLix5jLNkDaG3xhMuU2QHS1FfvL\\u002fjZADk+vlGUYN0Cn6Egu\\u002fzE3QEGC4seYSzdA2ht8YTJlN0B0tRX7y343QA5Pr5RlmDdAp+hILv+xN0BBguLHmMs3QNobfGEy5TdAdLUV+8v+N0AOT6+UZRg4QKfoSC7\\u002fMThAQYLix5hLOEDaG3xhMmU4QHS1FfvLfjhADk+vlGWYOECn6Egu\\u002f7E4QEGC4seYyzhA2ht8YTLlOEB0tRX7y\\u002f44QA5Pr5RlGDlAp+hILv8xOUBBguLHmEs5QNobfGEyZTlAdLUV+8t+OUAOT6+UZZg5QKfoSC7\\u002fsTlAQYLix5jLOUDaG3xhMuU5QHS1FfvL\\u002fjlADk+vlGUYOkCn6Egu\\u002fzE6QEGC4seYSzpA2ht8YTJlOkB0tRX7y346QA5Pr5RlmDpAp+hILv+xOkBBguLHmMs6QNobfGEy5TpAdLUV+8v+OkAOT6+UZRg7QKfoSC7\\u002fMTtAQYLix5hLO0DaG3xhMmU7QHS1FfvLfjtADk+vlGWYO0Cn6Egu\\u002f7E7QEGC4seYyztA2ht8YTLlO0B0tRX7y\\u002f47QA5Pr5RlGDxAp+hILv8xPEBBguLHmEs8QNobfGEyZTxAdLUV+8t+PEAOT6+UZZg8QKfoSC7\\u002fsTxAQYLix5jLPEDaG3xhMuU8QHS1FfvL\\u002fjxADk+vlGUYPUCn6Egu\\u002fzE9QEGC4seYSz1A2ht8YTJlPUB0tRX7y349QA5Pr5RlmD1Ap+hILv+xPUBBguLHmMs9QNobfGEy5T1AdLUV+8v+PUAOT6+UZRg+QKfoSC7\\u002fMT5AQYLix5hLPkDaG3xhMmU+QHS1FfvLfj5ADk+vlGWYPkCn6Egu\\u002f7E+QEGC4seYyz5A2ht8YTLlPkB0tRX7y\\u002f4+QA5Pr5RlGD9Ap+hILv8xP0BBguLHmEs\\u002fQNobfGEyZT9AdLUV+8t+P0AOT6+UZZg\\u002fQKfoSC7\\u002fsT9AQYLix5jLP0DaG3xhMuU\\u002fQHS1FfvL\\u002fj9Ah6dXyjIMQEBUdCSX\\u002fxhAQCBB8WPMJUBA7Q2+MJkyQEC62or9ZT9AQIenV8oyTEBAVHQkl\\u002f9YQEAgQfFjzGVAQO0NvjCZckBAutqK\\u002fWV\\u002fQECHp1fKMoxAQFR0JJf\\u002fmEBAIEHxY8ylQEDtDb4wmbJAQLraiv1lv0BAh6dXyjLMQEBUdCSX\\u002f9hAQCBB8WPM5UBA7Q2+MJnyQEC62or9Zf9AQIenV8oyDEFAVHQkl\\u002f8YQUAgQfFjzCVBQO0NvjCZMkFAutqK\\u002fWU\\u002fQUCHp1fKMkxBQFR0JJf\\u002fWEFAIEHxY8xlQUDtDb4wmXJBQLraiv1lf0FAh6dXyjKMQUBUdCSX\\u002f5hBQCBB8WPMpUFA7Q2+MJmyQUC62or9Zb9BQIenV8oyzEFAVHQkl\\u002f\\u002fYQUAgQfFjzOVBQO0NvjCZ8kFAutqK\\u002fWX\\u002fQUCHp1fKMgxCQFR0JJf\\u002fGEJAIEHxY8wlQkDtDb4wmTJCQLraiv1lP0JAh6dXyjJMQkBUdCSX\\u002f1hCQCBB8WPMZUJA7Q2+MJlyQkC62or9ZX9CQIenV8oyjEJAVHQkl\\u002f+YQkAgQfFjzKVCQO0NvjCZskJAutqK\\u002fWW\\u002fQkCHp1fKMsxCQFR0JJf\\u002f2EJAIEHxY8zlQkDtDb4wmfJCQLraiv1l\\u002f0JAh6dXyjIMQ0BUdCSX\\u002fxhDQCBB8WPMJUNA7Q2+MJkyQ0C62or9ZT9DQIenV8oyTENAVHQkl\\u002f9YQ0AgQfFjzGVDQO0NvjCZckNAutqK\\u002fWV\\u002fQ0CHp1fKMoxDQFR0JJf\\u002fmENAIEHxY8ylQ0DtDb4wmbJDQLraiv1lv0NAh6dXyjLMQ0BUdCSX\\u002f9hDQCBB8WPM5UNA7Q2+MJnyQ0C62or9Zf9DQIenV8oyDERAVHQkl\\u002f8YREAgQfFjzCVEQO0NvjCZMkRAutqK\\u002fWU\\u002fRECHp1fKMkxEQFR0JJf\\u002fWERAIEHxY8xlREDtDb4wmXJEQLraiv1lf0RAh6dXyjKMREBUdCSX\\u002f5hEQCBB8WPMpURA7Q2+MJmyREC62or9Zb9EQIenV8oyzERAVHQkl\\u002f\\u002fYREAgQfFjzOVEQO0NvjCZ8kRAutqK\\u002fWX\\u002fRECHp1fKMgxFQFR0JJf\\u002fGEVAIEHxY8wlRUDtDb4wmTJFQLraiv1lP0VAh6dXyjJMRUBUdCSX\\u002f1hFQCBB8WPMZUVA7Q2+MJlyRUC62or9ZX9FQIenV8oyjEVAVHQkl\\u002f+YRUAgQfFjzKVFQO0NvjCZskVAutqK\\u002fWW\\u002fRUCHp1fKMsxFQFR0JJf\\u002f2EVAIEHxY8zlRUDtDb4wmfJFQLraiv1l\\u002f0VAh6dXyjIMRkBUdCSX\\u002fxhGQCBB8WPMJUZA7Q2+MJkyRkC62or9ZT9GQIenV8oyTEZAVHQkl\\u002f9YRkAgQfFjzGVGQO0NvjCZckZAutqK\\u002fWV\\u002fRkCHp1fKMoxGQFR0JJf\\u002fmEZAIEHxY8ylRkDtDb4wmbJGQLraiv1lv0ZAh6dXyjLMRkBUdCSX\\u002f9hGQCBB8WPM5UZA7Q2+MJnyRkC62or9Zf9GQIenV8oyDEdAVHQkl\\u002f8YR0AgQfFjzCVHQO0NvjCZMkdAutqK\\u002fWU\\u002fR0CHp1fKMkxHQFR0JJf\\u002fWEdAIEHxY8xlR0DtDb4wmXJHQLraiv1lf0dAh6dXyjKMR0BUdCSX\\u002f5hHQCBB8WPMpUdA7Q2+MJmyR0C62or9Zb9HQIenV8oyzEdAVHQkl\\u002f\\u002fYR0AgQfFjzOVHQO0NvjCZ8kdAutqK\\u002fWX\\u002fR0CHp1fKMgxIQFR0JJf\\u002fGEhAIEHxY8wlSEDtDb4wmTJIQLraiv1lP0hAh6dXyjJMSEBUdCSX\\u002f1hIQCBB8WPMZUhA7Q2+MJlySEC62or9ZX9IQIenV8oyjEhAVHQkl\\u002f+YSEAgQfFjzKVIQO0NvjCZskhAutqK\\u002fWW\\u002fSECHp1fKMsxIQFR0JJf\\u002f2EhAIEHxY8zlSEDtDb4wmfJIQLraiv1l\\u002f0hAh6dXyjIMSUBUdCSX\\u002fxhJQCBB8WPMJUlA7Q2+MJkySUC62or9ZT9JQIenV8oyTElAVHQkl\\u002f9YSUAgQfFjzGVJQO0NvjCZcklAutqK\\u002fWV\\u002fSUCHp1fKMoxJQFR0JJf\\u002fmElAIEHxY8ylSUDtDb4wmbJJQLraiv1lv0lAh6dXyjLMSUBUdCSX\\u002f9hJQCBB8WPM5UlA7Q2+MJnySUC62or9Zf9JQIenV8oyDEpAVHQkl\\u002f8YSkAgQfFjzCVKQO0NvjCZMkpAutqK\\u002fWU\\u002fSkCHp1fKMkxKQFR0JJf\\u002fWEpAIEHxY8xlSkDtDb4wmXJKQLraiv1lf0pAh6dXyjKMSkBUdCSX\\u002f5hKQCBB8WPMpUpA7Q2+MJmySkC62or9Zb9KQIenV8oyzEpAVHQkl\\u002f\\u002fYSkAgQfFjzOVKQO0NvjCZ8kpAutqK\\u002fWX\\u002fSkCHp1fKMgxLQFR0JJf\\u002fGEtAIEHxY8wlS0DtDb4wmTJLQLraiv1lP0tAh6dXyjJMS0BUdCSX\\u002f1hLQCBB8WPMZUtA7Q2+MJlyS0C62or9ZX9LQIenV8oyjEtAVHQkl\\u002f+YS0AgQfFjzKVLQO0NvjCZsktAutqK\\u002fWW\\u002fS0CHp1fKMsxLQFR0JJf\\u002f2EtAIEHxY8zlS0DtDb4wmfJLQLraiv1l\\u002f0tAh6dXyjIMTEBUdCSX\\u002fxhMQCBB8WPMJUxA7Q2+MJkyTEC62or9ZT9MQIenV8oyTExAVHQkl\\u002f9YTEAgQfFjzGVMQO0NvjCZckxAutqK\\u002fWV\\u002fTECHp1fKMoxMQFR0JJf\\u002fmExAIEHxY8ylTEDtDb4wmbJMQLraiv1lv0xAh6dXyjLMTEBUdCSX\\u002f9hMQCBB8WPM5UxA7Q2+MJnyTEC62or9Zf9MQIenV8oyDE1AVHQkl\\u002f8YTUAgQfFjzCVNQO0NvjCZMk1AutqK\\u002fWU\\u002fTUCHp1fKMkxNQFR0JJf\\u002fWE1AIEHxY8xlTUDtDb4wmXJNQLraiv1lf01Ah6dXyjKMTUBUdCSX\\u002f5hNQCBB8WPMpU1A7Q2+MJmyTUC62or9Zb9NQIenV8oyzE1AVHQkl\\u002f\\u002fYTUAgQfFjzOVNQO0NvjCZ8k1AutqK\\u002fWX\\u002fTUCHp1fKMgxOQFR0JJf\\u002fGE5AIEHxY8wlTkDtDb4wmTJOQLraiv1lP05Ah6dXyjJMTkBUdCSX\\u002f1hOQCBB8WPMZU5A7Q2+MJlyTkC62or9ZX9OQIenV8oyjE5AVHQkl\\u002f+YTkAgQfFjzKVOQO0NvjCZsk5AutqK\\u002fWW\\u002fTkCHp1fKMsxOQFR0JJf\\u002f2E5AIEHxY8zlTkDtDb4wmfJOQLraiv1l\\u002f05Ah6dXyjIMT0BUdCSX\\u002fxhPQCBB8WPMJU9A7Q2+MJkyT0C62or9ZT9PQIenV8oyTE9AVHQkl\\u002f9YT0AgQfFjzGVPQO0NvjCZck9AutqK\\u002fWV\\u002fT0CHp1fKMoxPQFR0JJf\\u002fmE9AIEHxY8ylT0DtDb4wmbJPQLraiv1lv09Ah6dXyjLMT0BUdCSX\\u002f9hPQCBB8WPM5U9A7Q2+MJnyT0C62or9Zf9PQMPTK2UZBlBAKjqSy38MUECQoPgx5hJQQPcGX5hMGVBAXW3F\\u002frIfUECQoPgx5jJQQPcGX5hMOVBAXW3F\\u002frI\\u002fUEDD0ytlGUZQQCo6kst\\u002fTFBAkKD4MeZSUED3Bl+YTFlQQF1txf6yX1BAw9MrZRlmUEAqOpLLf2xQQJCg+DHmclBA9wZfmEx5UEBdbcX+sn9QQMPTK2UZhlBAKjqSy3+MUECQoPgx5pJQQPcGX5hMmVBAXW3F\\u002frKfUEDD0ytlGaZQQCo6kst\\u002frFBAkKD4MeayUED3Bl+YTLlQQF1txf6yv1BAw9MrZRnGUEAqOpLLf8xQQJCg+DHm0lBA9wZfmEzZUEBdbcX+st9QQMPTK2UZ5lBAKjqSy3\\u002fsUECQoPgx5vJQQPcGX5hM+VBAXW3F\\u002frL\\u002fUEDD0ytlGQZRQCo6kst\\u002fDFFAkKD4MeYSUUD3Bl+YTBlRQF1txf6yH1FAw9MrZRkmUUAqOpLLfyxRQJCg+DHmMlFA9wZfmEw5UUBdbcX+sj9RQMPTK2UZRlFAKjqSy39MUUCQoPgx5lJRQPcGX5hMWVFAXW3F\\u002frJfUUDD0ytlGWZRQCo6kst\\u002fbFFAkKD4MeZyUUD3Bl+YTHlRQF1txf6yf1FAw9MrZRmGUUAqOpLLf4xRQJCg+DHmklFA9wZfmEyZUUBdbcX+sp9RQMPTK2UZplFAKjqSy3+sUUCQoPgx5rJRQPcGX5hMuVFAXW3F\\u002frK\\u002fUUDD0ytlGcZRQCo6kst\\u002fzFFAkKD4MebSUUD3Bl+YTNlRQF1txf6y31FAw9MrZRnmUUAqOpLLf+xRQJCg+DHm8lFA9wZfmEz5UUBdbcX+sv9RQMPTK2UZBlJAKjqSy38MUkCQoPgx5hJSQPcGX5hMGVJAXW3F\\u002frIfUkDD0ytlGSZSQCo6kst\\u002fLFJAkKD4MeYyUkD3Bl+YTDlSQF1txf6yP1JAw9MrZRlGUkAqOpLLf0xSQJCg+DHmUlJA9wZfmExZUkBdbcX+sl9SQMPTK2UZZlJAKjqSy39sUkCQoPgx5nJSQPcGX5hMeVJAXW3F\\u002frJ\\u002fUkDD0ytlGYZSQCo6kst\\u002fjFJAkKD4MeaSUkD3Bl+YTJlSQF1txf6yn1JAw9MrZRmmUkAqOpLLf6xSQJCg+DHmslJA9wZfmEy5UkBdbcX+sr9SQMPTK2UZxlJAKjqSy3\\u002fMUkCQoPgx5tJSQPcGX5hM2VJAXW3F\\u002frLfUkDD0ytlGeZSQCo6kst\\u002f7FJAkKD4MebyUkD3Bl+YTPlSQF1txf6y\\u002f1JAw9MrZRkGU0AqOpLLfwxTQJCg+DHmElNA9wZfmEwZU0BdbcX+sh9TQMPTK2UZJlNAKjqSy38sU0CQoPgx5jJTQPcGX5hMOVNAXW3F\\u002frI\\u002fU0DD0ytlGUZTQCo6kst\\u002fTFNAkKD4MeZSU0D3Bl+YTFlTQF1txf6yX1NAw9MrZRlmU0AqOpLLf2xTQJCg+DHmclNA9wZfmEx5U0BdbcX+sn9TQMPTK2UZhlNAKjqSy3+MU0CQoPgx5pJTQPcGX5hMmVNAXW3F\\u002frKfU0DD0ytlGaZTQCo6kst\\u002frFNAkKD4MeayU0D3Bl+YTLlTQF1txf6yv1NAw9MrZRnGU0AqOpLLf8xTQJCg+DHm0lNA9wZfmEzZU0BdbcX+st9TQMPTK2UZ5lNAKjqSy3\\u002fsU0CQoPgx5vJTQPcGX5hM+VNAXW3F\\u002frL\\u002fU0DD0ytlGQZUQCo6kst\\u002fDFRAkKD4MeYSVED3Bl+YTBlUQF1txf6yH1RAw9MrZRkmVEAqOpLLfyxUQJCg+DHmMlRA9wZfmEw5VEBdbcX+sj9UQMPTK2UZRlRAKjqSy39MVECQoPgx5lJUQPcGX5hMWVRAXW3F\\u002frJfVEDD0ytlGWZUQCo6kst\\u002fbFRAkKD4MeZyVED3Bl+YTHlUQF1txf6yf1RAw9MrZRmGVEAqOpLLf4xUQJCg+DHmklRA9wZfmEyZVEBdbcX+sp9UQMPTK2UZplRAKjqSy3+sVECQoPgx5rJUQPcGX5hMuVRAXW3F\\u002frK\\u002fVEDD0ytlGcZUQCo6kst\\u002fzFRAkKD4MebSVED3Bl+YTNlUQF1txf6y31RAw9MrZRnmVEAqOpLLf+xUQJCg+DHm8lRA9wZfmEz5VEBdbcX+sv9UQMPTK2UZBlVAKjqSy38MVUCQoPgx5hJVQPcGX5hMGVVAXW3F\\u002frIfVUDD0ytlGSZVQCo6kst\\u002fLFVAkKD4MeYyVUD3Bl+YTDlVQF1txf6yP1VAw9MrZRlGVUAqOpLLf0xVQJCg+DHmUlVA9wZfmExZVUBdbcX+sl9VQMPTK2UZZlVAKjqSy39sVUCQoPgx5nJVQPcGX5hMeVVAXW3F\\u002frJ\\u002fVUDD0ytlGYZVQCo6kst\\u002fjFVAkKD4MeaSVUD3Bl+YTJlVQF1txf6yn1VAw9MrZRmmVUAqOpLLf6xVQJCg+DHmslVA9wZfmEy5VUBdbcX+sr9VQMPTK2UZxlVAKjqSy3\\u002fMVUCQoPgx5tJVQPcGX5hM2VVAXW3F\\u002frLfVUDD0ytlGeZVQCo6kst\\u002f7FVAkKD4MebyVUD3Bl+YTPlVQF1txf6y\\u002f1VAw9MrZRkGVkAqOpLLfwxWQJCg+DHmElZA9wZfmEwZVkBdbcX+sh9WQMPTK2UZJlZAKjqSy38sVkCQoPgx5jJWQPcGX5hMOVZAXW3F\\u002frI\\u002fVkDD0ytlGUZWQCo6kst\\u002fTFZAkKD4MeZSVkD3Bl+YTFlWQF1txf6yX1ZAw9MrZRlmVkAqOpLLf2xWQJCg+DHmclZA9wZfmEx5VkBdbcX+sn9WQMPTK2UZhlZAKjqSy3+MVkCQoPgx5pJWQPcGX5hMmVZAXW3F\\u002frKfVkDD0ytlGaZWQCo6kst\\u002frFZAkKD4MeayVkD3Bl+YTLlWQF1txf6yv1ZAw9MrZRnGVkAqOpLLf8xWQJCg+DHm0lZA9wZfmEzZVkBdbcX+st9WQMPTK2UZ5lZAKjqSy3\\u002fsVkCQoPgx5vJWQPcGX5hM+VZAXW3F\\u002frL\\u002fVkDD0ytlGQZXQCo6kst\\u002fDFdAkKD4MeYSV0D3Bl+YTBlXQF1txf6yH1dAw9MrZRkmV0AqOpLLfyxXQJCg+DHmMldA9wZfmEw5V0BdbcX+sj9XQMPTK2UZRldAKjqSy39MV0CQoPgx5lJXQPcGX5hMWVdAXW3F\\u002frJfV0DD0ytlGWZXQCo6kst\\u002fbFdAkKD4MeZyV0D3Bl+YTHlXQF1txf6yf1dAw9MrZRmGV0AqOpLLf4xXQJCg+DHmkldA9wZfmEyZV0BdbcX+sp9XQMPTK2UZpldAKjqSy3+sV0CQoPgx5rJXQPcGX5hMuVdAXW3F\\u002frK\\u002fV0DD0ytlGcZXQCo6kst\\u002fzFdAkKD4MebSV0D3Bl+YTNlXQF1txf6y31dAw9MrZRnmV0AqOpLLf+xXQJCg+DHm8ldA9wZfmEz5V0BdbcX+sv9XQMPTK2UZBlhAKjqSy38MWECQoPgx5hJYQPcGX5hMGVhAXW3F\\u002frIfWEDD0ytlGSZYQCo6kst\\u002fLFhAkKD4MeYyWED3Bl+YTDlYQF1txf6yP1hAw9MrZRlGWEAqOpLLf0xYQJCg+DHmUlhA9wZfmExZWEBdbcX+sl9YQMPTK2UZZlhAKjqSy39sWECQoPgx5nJYQPcGX5hMeVhAXW3F\\u002frJ\\u002fWEDD0ytlGYZYQCo6kst\\u002fjFhAkKD4MeaSWED3Bl+YTJlYQF1txf6yn1hAw9MrZRmmWEAqOpLLf6xYQJCg+DHmslhA9wZfmEy5WEBdbcX+sr9YQMPTK2UZxlhAKjqSy3\\u002fMWECQoPgx5tJYQPcGX5hM2VhAXW3F\\u002frLfWEDD0ytlGeZYQCo6kst\\u002f7FhAkKD4MebyWED3Bl+YTPlYQF1txf6y\\u002f1hAw9MrZRkGWUAqOpLLfwxZQJCg+DHmEllA9wZfmEwZWUBdbcX+sh9ZQMPTK2UZJllAKjqSy38sWUCQoPgx5jJZQPcGX5hMOVlAXW3F\\u002frI\\u002fWUDD0ytlGUZZQCo6kst\\u002fTFlAkKD4MeZSWUD3Bl+YTFlZQF1txf6yX1lAw9MrZRlmWUAqOpLLf2xZQJCg+DHmcllA9wZfmEx5WUBdbcX+sn9ZQMPTK2UZhllAKjqSy3+MWUCQoPgx5pJZQPcGX5hMmVlAXW3F\\u002frKfWUDD0ytlGaZZQCo6kst\\u002frFlA9wZfmEy5WUBdbcX+sr9ZQMPTK2UZxllAKjqSy3\\u002fMWUCQoPgx5tJZQPcGX5hM2VlAXW3F\\u002frLfWUDD0ytlGeZZQCo6kst\\u002f7FlAkKD4MebyWUD3Bl+YTPlZQF1txf6y\\u002f1lAw9MrZRkGWkAqOpLLfwxaQJCg+DHmElpA9wZfmEwZWkBdbcX+sh9aQMPTK2UZJlpAKjqSy38sWkCQoPgx5jJaQPcGX5hMOVpAXW3F\\u002frI\\u002fWkDD0ytlGUZaQCo6kst\\u002fTFpAkKD4MeZSWkD3Bl+YTFlaQF1txf6yX1pAw9MrZRlmWkAqOpLLf2xaQJCg+DHmclpA9wZfmEx5WkBdbcX+sn9aQMPTK2UZhlpAKjqSy3+MWkCQoPgx5pJaQPcGX5hMmVpAXW3F\\u002frKfWkDD0ytlGaZaQCo6kst\\u002frFpAkKD4MeayWkD3Bl+YTLlaQF1txf6yv1pAw9MrZRnGWkAqOpLLf8xaQJCg+DHm0lpA9wZfmEzZWkBdbcX+st9aQMPTK2UZ5lpAKjqSy3\\u002fsWkCQoPgx5vJaQPcGX5hM+VpAXW3F\\u002frL\\u002fWkDD0ytlGQZbQCo6kst\\u002fDFtAkKD4MeYSW0D3Bl+YTBlbQF1txf6yH1tAw9MrZRkmW0AqOpLLfyxbQJCg+DHmMltA9wZfmEw5W0BdbcX+sj9bQMPTK2UZRltAKjqSy39MW0CQoPgx5lJbQPcGX5hMWVtAXW3F\\u002frJfW0DD0ytlGWZbQCo6kst\\u002fbFtAkKD4MeZyW0D3Bl+YTHlbQF1txf6yf1tAw9MrZRmGW0AqOpLLf4xbQJCg+DHmkltA9wZfmEyZW0BdbcX+sp9bQMPTK2UZpltAKjqSy3+sW0CQoPgx5rJbQPcGX5hMuVtAXW3F\\u002frK\\u002fW0DD0ytlGcZbQCo6kst\\u002fzFtAkKD4MebSW0D3Bl+YTNlbQF1txf6y31tAw9MrZRnmW0AqOpLLf+xbQJCg+DHm8ltA9wZfmEz5W0BdbcX+sv9bQMPTK2UZBlxAKjqSy38MXECQoPgx5hJcQPcGX5hMGVxAXW3F\\u002frIfXEDD0ytlGSZcQCo6kst\\u002fLFxAkKD4MeYyXED3Bl+YTDlcQF1txf6yP1xAw9MrZRlGXEAqOpLLf0xcQJCg+DHmUlxA9wZfmExZXEBdbcX+sl9cQMPTK2UZZlxAKjqSy39sXECQoPgx5nJcQPcGX5hMeVxAXW3F\\u002frJ\\u002fXEDD0ytlGYZcQCo6kst\\u002fjFxAkKD4MeaSXED3Bl+YTJlcQF1txf6yn1xAw9MrZRmmXEAqOpLLf6xcQJCg+DHmslxA9wZfmEy5XEBdbcX+sr9cQMPTK2UZxlxAKjqSy3\\u002fMXECQoPgx5tJcQPcGX5hM2VxAXW3F\\u002frLfXEDD0ytlGeZcQCo6kst\\u002f7FxAkKD4MebyXED3Bl+YTPlcQF1txf6y\\u002f1xAw9MrZRkGXUAqOpLLfwxdQJCg+DHmEl1A9wZfmEwZXUBdbcX+sh9dQMPTK2UZJl1AKjqSy38sXUCQoPgx5jJdQPcGX5hMOV1AXW3F\\u002frI\\u002fXUDD0ytlGUZdQCo6kst\\u002fTF1AkKD4MeZSXUD3Bl+YTFldQF1txf6yX11Aw9MrZRlmXUAqOpLLf2xdQJCg+DHmcl1A9wZfmEx5XUBdbcX+sn9dQMPTK2UZhl1AKjqSy3+MXUCQoPgx5pJdQPcGX5hMmV1AXW3F\\u002frKfXUDD0ytlGaZdQCo6kst\\u002frF1AkKD4MeayXUD3Bl+YTLldQF1txf6yv11Aw9MrZRnGXUAqOpLLf8xdQJCg+DHm0l1A9wZfmEzZXUBdbcX+st9dQMPTK2UZ5l1AKjqSy3\\u002fsXUCQoPgx5vJdQPcGX5hM+V1AXW3F\\u002frL\\u002fXUDD0ytlGQZeQCo6kst\\u002fDF5AkKD4MeYSXkD3Bl+YTBleQF1txf6yH15Aw9MrZRkmXkAqOpLLfyxeQJCg+DHmMl5A9wZfmEw5XkBdbcX+sj9eQMPTK2UZRl5AKjqSy39MXkCQoPgx5lJeQPcGX5hMWV5AXW3F\\u002frJfXkDD0ytlGWZeQCo6kst\\u002fbF5AkKD4MeZyXkD3Bl+YTHleQF1txf6yf15Aw9MrZRmGXkAqOpLLf4xeQJCg+DHmkl5A9wZfmEyZXkBdbcX+sp9eQMPTK2UZpl5AKjqSy3+sXkCQoPgx5rJeQPcGX5hMuV5AXW3F\\u002frK\\u002fXkDD0ytlGcZeQCo6kst\\u002fzF5AkKD4MebSXkD3Bl+YTNleQF1txf6y315Aw9MrZRnmXkAqOpLLf+xeQJCg+DHm8l5A9wZfmEz5XkBdbcX+sv9eQMPTK2UZBl9AKjqSy38MX0CQoPgx5hJfQPcGX5hMGV9AXW3F\\u002frIfX0DD0ytlGSZfQCo6kst\\u002fLF9AkKD4MeYyX0D3Bl+YTDlfQF1txf6yP19Aw9MrZRlGX0AqOpLLf0xfQJCg+DHmUl9A9wZfmExZX0BdbcX+sl9fQMPTK2UZZl9AKjqSy39sX0CQoPgx5nJfQPcGX5hMeV9AXW3F\\u002frJ\\u002fX0DD0ytlGYZfQCo6kst\\u002fjF9AkKD4MeaSX0D3Bl+YTJlfQF1txf6yn19Aw9MrZRmmX0AqOpLLf6xfQJCg+DHmsl9A9wZfmEy5X0BdbcX+sr9fQMPTK2UZxl9AKjqSy3\\u002fMX0CQoPgx5tJfQPcGX5hM2V9AXW3F\\u002frLfX0DD0ytlGeZfQCo6kst\\u002f7F9AkKD4MebyX0D3Bl+YTPlfQF1txf6y\\u002f19A4umVsgwDYEAVHcnlPwZgQEhQ\\u002fBhzCWBAe4MvTKYMYECutmJ\\u002f2Q9gQOLplbIME2BAFR3J5T8WYEBIUPwYcxlgQHuDL0ymHGBArrZif9kfYEDi6ZWyDCNgQBUdyeU\\u002fJmBASFD8GHMpYEB7gy9MpixgQK62Yn\\u002fZL2BA4umVsgwzYEAVHcnlPzZgQEhQ\\u002fBhzOWBAe4MvTKY8YECutmJ\\u002f2T9gQOLplbIMQ2BAFR3J5T9GYEBIUPwYc0lgQHuDL0ymTGBArrZif9lPYEDi6ZWyDFNgQBUdyeU\\u002fVmBASFD8GHNZYEB7gy9MplxgQK62Yn\\u002fZX2BA4umVsgxjYEAVHcnlP2ZgQEhQ\\u002fBhzaWBAe4MvTKZsYECutmJ\\u002f2W9gQOLplbIMc2BAFR3J5T92YEBIUPwYc3lgQHuDL0ymfGBArrZif9l\\u002fYEDi6ZWyDINgQBUdyeU\\u002fhmBASFD8GHOJYEB7gy9MpoxgQK62Yn\\u002fZj2BA4umVsgyTYEAVHcnlP5ZgQEhQ\\u002fBhzmWBAe4MvTKacYECutmJ\\u002f2Z9gQOLplbIMo2BAFR3J5T+mYEBIUPwYc6lgQHuDL0ymrGBArrZif9mvYEDi6ZWyDLNgQBUdyeU\\u002ftmBASFD8GHO5YEB7gy9MprxgQK62Yn\\u002fZv2BA4umVsgzDYEAVHcnlP8ZgQEhQ\\u002fBhzyWBAe4MvTKbMYECutmJ\\u002f2c9gQOLplbIM02BAFR3J5T\\u002fWYEBIUPwYc9lgQHuDL0ym3GBArrZif9nfYEDi6ZWyDONgQBUdyeU\\u002f5mBASFD8GHPpYEB7gy9MpuxgQK62Yn\\u002fZ72BA4umVsgzzYEAVHcnlP\\u002fZgQEhQ\\u002fBhz+WBAe4MvTKb8YECutmJ\\u002f2f9gQOLplbIMA2FAFR3J5T8GYUBIUPwYcwlhQHuDL0ymDGFArrZif9kPYUDi6ZWyDBNhQBUdyeU\\u002fFmFASFD8GHMZYUB7gy9MphxhQK62Yn\\u002fZH2FA4umVsgwjYUAVHcnlPyZhQEhQ\\u002fBhzKWFAe4MvTKYsYUCutmJ\\u002f2S9hQOLplbIMM2FAFR3J5T82YUBIUPwYczlhQHuDL0ymPGFArrZif9k\\u002fYUDi6ZWyDENhQBUdyeU\\u002fRmFASFD8GHNJYUB7gy9MpkxhQK62Yn\\u002fZT2FA4umVsgxTYUAVHcnlP1ZhQEhQ\\u002fBhzWWFAe4MvTKZcYUCutmJ\\u002f2V9hQOLplbIMY2FAFR3J5T9mYUBIUPwYc2lhQHuDL0ymbGFArrZif9lvYUDi6ZWyDHNhQBUdyeU\\u002fdmFASFD8GHN5YUB7gy9MpnxhQK62Yn\\u002fZf2FA4umVsgyDYUAVHcnlP4ZhQEhQ\\u002fBhziWFAe4MvTKaMYUCutmJ\\u002f2Y9hQOLplbIMk2FAFR3J5T+WYUBIUPwYc5lhQHuDL0ymnGFArrZif9mfYUDi6ZWyDKNhQBUdyeU\\u002fpmFASFD8GHOpYUB7gy9MpqxhQK62Yn\\u002fZr2FA4umVsgyzYUAVHcnlP7ZhQEhQ\\u002fBhzuWFAe4MvTKa8YUCutmJ\\u002f2b9hQOLplbIMw2FAFR3J5T\\u002fGYUBIUPwYc8lhQHuDL0ymzGFArrZif9nPYUDi6ZWyDNNhQBUdyeU\\u002f1mFASFD8GHPZYUB7gy9MptxhQK62Yn\\u002fZ32FA4umVsgzjYUAVHcnlP+ZhQEhQ\\u002fBhz6WFAe4MvTKbsYUCutmJ\\u002f2e9hQOLplbIM82FAFR3J5T\\u002f2YUBIUPwYc\\u002flhQHuDL0ym\\u002fGFArrZif9n\\u002fYUDi6ZWyDANiQBUdyeU\\u002fBmJASFD8GHMJYkB7gy9MpgxiQK62Yn\\u002fZD2JA4umVsgwTYkAVHcnlPxZiQEhQ\\u002fBhzGWJAe4MvTKYcYkCutmJ\\u002f2R9iQOLplbIMI2JAFR3J5T8mYkBIUPwYcyliQHuDL0ymLGJArrZif9kvYkDi6ZWyDDNiQBUdyeU\\u002fNmJASFD8GHM5YkB7gy9MpjxiQK62Yn\\u002fZP2JA4umVsgxDYkAVHcnlP0ZiQEhQ\\u002fBhzSWJAe4MvTKZMYkCutmJ\\u002f2U9iQOLplbIMU2JAFR3J5T9WYkBIUPwYc1liQHuDL0ymXGJArrZif9lfYkDi6ZWyDGNiQBUdyeU\\u002fZmJASFD8GHNpYkB7gy9MpmxiQK62Yn\\u002fZb2JA4umVsgxzYkAVHcnlP3ZiQEhQ\\u002fBhzeWJAe4MvTKZ8YkCutmJ\\u002f2X9iQOLplbIMg2JAFR3J5T+GYkBIUPwYc4liQHuDL0ymjGJArrZif9mPYkDi6ZWyDJNiQBUdyeU\\u002flmJASFD8GHOZYkB7gy9MppxiQK62Yn\\u002fZn2JA4umVsgyjYkAVHcnlP6ZiQEhQ\\u002fBhzqWJAe4MvTKasYkCutmJ\\u002f2a9iQOLplbIMs2JAFR3J5T+2YkBIUPwYc7liQHuDL0ymvGJArrZif9m\\u002fYkDi6ZWyDMNiQA==\"},\"y\":{\"dtype\":\"f8\",\"bdata\":\"Wk7sCSn1gkBVo32Wo96CQJmf+jMfyIJAsYtY1ZuxgkBSAFVuGZuCQESnZ\\u002fOXhIJApii1WRdugkCVKAOXl1eCQDE8raEYQYJAgr+acJoqgkDmgTS09BuCQKDYqK+yDYJAXkoDV3H\\u002fgUAYoQOjMPGBQI5HzYzw4oFAsPvgDbHUgUAf+BYgcsaBQMWKmb0zuIFAoA\\u002fg4PWpgUCFR6qEuJuBQCdhSIPBiYFAhuB06pt3gUC24+zDdmWBQJBdaQtSU4FA387YvC1BgUAJP1zUCS+BQNtoRE7mHIFAnxcPJ8MKgUDlsGRboPiAQL7nFeh95oBAJO3\\u002fcALWgEDJGH0knMWAQKD9pCc2tYBA+l7Vd9CkgECI24oSa5SAQKpiX\\u002fUFhIBA08IIHqFzgEBbT1eKPGOAQFKcNDjYUoBA3k6iJXRCgED34MgrfD6AQLzxtEAhO4BAmfy7j8Y3gEA+gDUXbDSAQEYqjNURMYBA9ws9ybctgECy3NbwXSqAQHxJ+UoEJ4BA8VBU1qojgEAzq6eRUSCAQFU9wnv4HIBA1ZeBk58ZgEDef9HXRhaAQAWDq0fuEoBAQJUW4pUPgEAEuSamPQyAQF+x\\u002fJLlCIBAD77Fp40FgECvYbvjNQKAQONjRoy8\\u002fX9AnGSdnA33f0Bucjb3XvB\\u002fQK3A45qw6X9AfQCPhgLjf0A+cDm5VNx\\u002fQHUE\\u002fDGn1X9A7KsH8PnOf0D0sKXyTMh\\u002fQD86ODmgwX9AF+46w\\u002fO6f0DUIYdD27N\\u002fQD7iNq+9rH9AZGlrXaClf0CC6Q9Og55\\u002fQE7PLoFml39AoI7z9kmQf0Cvt6yvLYl\\u002fQHdezqsRgn9AyN\\u002f06\\u002fV6f0BDEehw2nN\\u002fQBHsnju\\u002fbH9A5MRDTaRlf0A0JzmniV5\\u002fQORtH0tvV39AZzjbOlVQf0B04Zx4O0l\\u002fQOwj6QYiQn9AaCOj6Ag7f0BFGRgh8DN\\u002fQHb0DLTXLH9AykvOpb8lf0BVF0P7px5\\u002fQJDAArqQF39AWDpv6HkQf0CP\\u002fNONYwl\\u002fQIf1irJNAn9AEskoYDj7fkALD7KhI\\u002fR+QNG324MP7X5ARFZZFfzlfkAC2Dxn6d5+QBZAbI3X135AX14zn8bQfkBsYfm3tsl+QFyzJPinwn5ALx07hpq7fkBYGFGQjrR+QBQi4k2ErX5Aa7s1AnymfkBS64L\\u002fdZ9+QBvDGKtymH5A+fjwgnKRfkCEmT8ldop+QODu2Fp+g35AcMuzJYx8fkBzkX3VoHV+QJ5ScyW+bn5AJJpFauZnfkDGO3DqHGF+QAjSV\\u002f5mWn5AZRz\\u002fldFTfkChIUfQjE1+QOctnOFgSH5A8r3VATdHfkDo6SjX+VJ+QF89adAvgX5AIdWfmaz4fkDEHOJedud\\u002fQHrouA\\u002f+roBA9huM2AmPgUA4DFHmNUiCQPREhqtQhYJAKLW7RXAkgkC6eKfsiVSBQAmR9Fw9boBAZU2kAIduf0C7+Ta8H4x+QAHkLW8UGn5AkbDVf3fofUDVFlgaMtN9QCKY3tTax31AIw8vlWW\\u002ffUC0DRXmsrd9QC1meWY7sH1AXpDIqd+ofUDPOLSKlqF9QCzkXLtbmn1Ayp\\u002fygiyTfUDLiF0IB4x9QCjCtQ7qhH1AdWrgz9R9fUB57HHmxnZ9QLh7LELAb31ATJoRJcFofUDMEIMoymF9QPl3S0vcWn1Am4YSC\\u002flTfUCtKlaPIk19QJHrnP1bRn1AwpzDh6o\\u002ffUADNii3Gjl9QFO6MwPcMn1AODAcT7otfUD0232awSx9QA7NHsVtOX1AamxZ+6hqfUC4+ORR4uh9QPOploaA4H5ARPuqMdwrgEBeUJkC\\u002fv6AQLvni0DRloFAbytAs4SmgUAcNo6mcSKBQNyAuY80TIBAaJVT1hD3fkDlSMT5Ssx9QBjTMfkuJH1AVY4Ycq\\u002fVfEAey\\u002fyvArR8QFHW7Kyoo3xAe1lU5LWYfEB080ZYQI98QJgYs3hFhnxAZNjxTpB9fEARFWElG3V8QKJy6obsbHxAgPqhPhJlfEBLTWDtpF18QNcqykXfVnxAoSj+oJ1RfEAyDTrcrVF8QP6xPpgyZnxAi3HCjAjAfEDr\\u002fWBH1th9QLSyIP\\u002f6RYBAovqdVETmgkBSqT6sltuGQI1RqwyrQItABjNrAvBOjkB6CF+u22uOQLbDrtMigYtAaMHta9cUh0CiBrtE3fyCQHMpFbDVOIBAaeMOW3qVfUC14jbbrIJ8QOvf4Y\\u002fAfXxAjWv0xIZLfUDFNz75SPd+QJvHZh5ZrIBA6keOwrjcgUDTa09tp4CCQHEqfv3sOYJATeR9rRMtgUD6L07OAb9\\u002fQLOX0cqdl31AnX4rCudBfECA0aY4VZp7QKNRb4z4VHtAk6t05+E4e0CUSBa5bjR7QPLhKi1KNHtA1MoqR5g1e0AEtat9NDl7QEy8c9hgRHtAVsyj5blme0CItHXSWMJ7QNCuJ4sdinxAjH4DKFnifUDaEFKDsaR\\u002fQF8MlpCHnoBA1fuPvI7zgEBnxvJNj6CAQGeGABcVqH9A1xvppv\\u002fifUCWMH1sjIp8QKra5sc\\u002fxntATj8t0Jpve0BiLQbrk1F7QP8cWax\\u002fSXtA1lzOSxdIe0BVN1PUYUh7QErCmBocSXtA5mpv9f9Je0Dxn+Fq\\u002fEp7QHA3XbQKTHtAQdLXryZNe0Bj\\u002fIB5TU57QEjzR\\u002fl8T3tAzvdgpLNQe0DUffFU8FF7QCCH\\u002fi4yU3tAxl7xjXhUe0BPltj3wlV7QLOvmBQRV3tAhybmp2JYe0AMl0yNt1l7QJkHzbUPW3tASYXOJmtce0Bro0H6yV17QEJt918sX3tAoiVMoJJge0Bf3Wog\\u002fWF7QGKjnmhsY3tAd5RpLeFke0CG\\u002f35cXGZ7QP6xWi\\u002ffZ3tAmasrRmtpe0C+rHfPAmt7QImRqMSobHtAlcN8VWFue0Bo7iEhM3B7QBIrznMtcntApcHM5Yp0e0CIFMKvT3h7QF\\u002fCoblmgXtAy4pMKZWbe0B3FW7y0+B7QJ2FSuytd3xAzB9Z2BN9fUAwtDbnfeJ+QOGNOVHWM4BASmrR4QLhgEDpoS1ZoGCBQJSg4IAjmIFAtyXf49ldgUBu7qwtmaaAQN+BuVf1XH9AydJSOn2cfUCwBe\\u002fUDnR8QBb0DWPZ33tA2ki1Y9ume0BxoRsJ8JV7QCs6kvJKkntAIUo3tCqSe0CWFW1r6pJ7QPIxN4P3k3tAuQvw9DOVe0CJSiTwl5Z7QIimRGwhmHtAHe4fytGZe0DOSfvGrZt7QFxU+m6+nXtAHWIpShWge0AZSROO5aJ7QG8Z30sZp3tA9mOYqA+xe0AkK14nBtJ7QE6cZytfPXxAGbRY8xxffUDQns9FZ8B\\u002fQKOUETWRv4FApfInB\\u002fvOg0Cb+DRYww+FQNqioQxRuoRAQ6kiDo8Fg0D4V5qLue2AQKodvIc8nX5A+83a2qXPfEBHecdmFw98QAE3LYxD0XtAPW2225rBe0D+tYPDeb57QN1GvJJBvntAIJoiftS+e0AdBkLMyL97QBICbzwEwXtAc9VuWnzCe0DmEaHNLMR7QMdsAJYVxntAL5u1sTrIe0C8NAdupMp7QN1f22VgzXtA3te1iYPQe0Bc8JNkL9R7QIDRGLar2HtA+c1K7wbfe0Dfx4MGdex7QLxteNPKF3xAFWqfOyWufEDq2GAeAGp+QMHy0NdCNoFAKjhrel+1hEASJA0rRB2JQFoKru+DuoxARvufYy3TjUDmzC2ZsDCMQDZ0YoJRBolAmoXWGjKVhUCeJ20J95yCQKp8EsSUhYBAcpKs2l4Nf0CvRvw++GF\\u002fQHuwcWsi4IBA7gOQ4PSNgkDrnn1d0cmDQIgt3DoBvINACHvB8ThpgkDLq2vy1aWAQHen+dvhgX5AOGhuJHEBfUBDZMILrpR8QAjxKsQtHH1APEv0jNMKf0DyshhxLo2BQLmbKzxQkYRADdOCXKV+h0Ayf8YclaaIQMxqyj+jOYdAM072YV0xhECU3ul5iz6BQNRLG2pfsn5AXUTJqL7yfEDs9OFq0lp8QE1kvEAuOHxAoC+DONxEfEAcnt1d75d8QEzqOxJZvX1AVAykr7JtgEBwqx0gDJiDQNTfXqsBLYhAR0vSvyJpjEC0jZZ6tsCNQDg2pI2TQItAUMwnGESshkDi\\u002faP7uoyCQMqagGk3F4BAgwdXjwcLfkAIQV3MeT99QN\\u002fKZ68j9nxAtmVBa10dfUDqsd4jfRZ+QOua7vbgJ4BACg+hq9HNgUCc2+Ug9lKDQG8DD3vKx4NAHQ6LSPHZgkCf9jOaqDWBQLZna81jkn9A+lcr194lfkCqDssfgqJ+QFrGbSzUcIFA+qhey4cHiEDy9ain8myTQOLncLIRnZ9Au\\u002f0CMCvbpkDWNg6j\\u002f\\u002fSrQPBE\\u002fRVp+6xAkuGJ8SEpqkDYfsrY7uakQAvw7PJQrZ1A3o8lVPE4k0A+b822JrqIQJmDpeaZ64FAwOwOl0q3fkDMLXoa3DJ9QIKqiiPyynxAekTfooynfEAfUuabaJR8QG15EppMh3xAtJTwGhh7fEA4B4xtj3F8QF8rcs1aanxADLxu12llfEDKHgZpKmR8QGXep43Xb3xAp0u4uNyxfECaPtUvnax9QEyfwOAtNIBAtqR9fmHzgkDgvs8MO7qGQNSM3GDuw4lAgcEU7Gr4iUAo\\u002f4bDWiqHQJIR5jbIUoNASc0zoHhhgEB2juJWMLl9QJw+wAEumXxAZrikeDJJfEBw1wyenzx8QLkC0q34VXxAITr9frWwfEDY2fW8SnR9QARNjP+mjX5ALjBcGN16f0DQbief4JV\\u002fQI1O3o7pxX5A\\u002fv8eT5SffUCicbWElbt8QHy6uHkZRXxAk0TmRmkYfEA2pRvfqgp8QAW9aiXuBXxAXvvYPjsDfEBHuGS9CgF8QBIX5Vwb\\u002f3tAkXzFAGX9e0D2Z\\u002fbs7Pt7QGTeg\\u002f3K+ntAaJy+kXr6e0BK85Utu\\u002f17QBQnE90pEXxAe31xw7xdfEBfO\\u002f0ReDh9QLH\\u002f35iT9X5ABIqfP1itgEAdyiHROKCBQFHZ4S0dqYFAbFSxHoDAgEAJzhIPexR\\u002fQEafER6WQn1AnodEDUxWfEBasrVsrP97QInNVaaq5ntATrLeMVffe0BwfrAo49t7QC6cFupE2XtAMxpg2\\u002fLWe0AsYNWIz9R7QH\\u002fmfh7P0ntA+vrlMevQe0CnoMnTIM97QMfRlClxzXtA6bqhP+zLe0AMVLwT\\u002fcp7QDn+3ZvRzHtAc06MW2vZe0DaVZU1jAN8QBLY7p0OYXxAnJ1GawfpfEAtoy9mVFd9QLToVSIHWH1AtlaI4qPofEB3oaAv+Vt8QBmdpE\\u002f++HtABntWwXfKe0B9kRKjSrp7QG2yp7oWtXtA59LoaaOye0B++fqavrB7QA56IBj+rntA\\u002fAyzXVCte0Bb3iyOsat7QMjuu70gqntAUCoSv56oe0CcDk2rLqd7QEDpnbfbpXtAcKLAUOake0DWZYwAv6V7QLzPxS54rntA175Jz8DPe0CK2aA6aSJ8QFB\\u002fBebyqHxAEtYObxYofUCOw0lrcUF9QDVo\\u002fyRb3XxAZS2E\\u002fVxMfEDHRCHwGeR7QJljfijgvXtA9uUQmMnLe0CoMCGnZPd7QCHPKCskI3xAJoJf+6wwfEC3y8uKAxl8QDl7cB2c7ntAVq7RUAnNe0DOg6ZHmNl7QMKk6eaLU3xAgoBenm6BfUBsbu1h9D9\\u002fQNMVHXgGUYBAzE5oaIlKgEDx8dEKAyx\\u002fQJmiVntsen1AoKE5ZtBQfECG\\u002fm2FNMV7QEhaH73mmHtAG+9V7Vyie0DUCv0v3+Z7QH4mvljteXxAj5iVs7k4fUCns1YZX7Z9QN0UFBh+tH1AVkcH+8ybfUCb5G86aex9QAkkJlWWaH5ASIbR7KJSfkBO3kKOhX19QD8wGA5yfnxAmj9b8JDXe0AfzMLoU5J7QKFiccL2f3tA9SIqKmp+e0CbvRQfk4F7QIV01lEdh3tABbxv4E2Pe0Bcu2ABYZt7QBcV9Napr3tAuBk9pFLme0B94KaUeNN8QElIREpeXoBAIMEsorCChkDMF5dhadGRQN2NPWA9s5pAEtzrKftvoEABawV0l8+RQNif3eKGZYhAxTO+xc5zgkDOdxlvffqAQOLTIQWXcIJA4hA0YvOmhECVubwusjKFQHZiaAg0WINA+U09i9qrgEBubD1U1pd9QBFz1KsJ9ntACi6Huex7e0Dr\\u002fnp9XGR7QIjLtcz1ZHtAOBDYOplme0BKAKbYYV97QOpy\\u002fOzUUHtAUlz0uQ9De0Dbir6FfTp7QLPGEdEtNntAtXcj6Pgze0CUKa06zzJ7QNSwodGVMntAHLk2qDs0e0CUVOLgbz57QD\\u002f1DvRxdntAWDUIpjdjfEDPCEqVMhJ\\u002fQNL4xT20BoJAJHuUwLaehEBkUCWvfDmFQGsycxiXO4NAA454X9hzgEDkGOzeCy59QA++UdItqHtAuwWYO5Q+e0A1ylcnmCl7QLsdOUh9JntAdf0lJRoqe0DLE+8xMEN7QPzWlhSMyHtAEOPzO4nUfUDWkeXvb5qBQEIy+ukQ+IVAiiAaROeRiUAtQJxnXTWJQChf3ZIGX4VA4A+PSoiCgUAykveQpOh+QOqDMv2IPX1AAdKz0AJEfEA7PmSNtJR7QIW7aqq9SXtA7a\\u002fvJiyAe0Ap0p6fxod8QEFJ4vHImX5AxCtrpHhtgEClRm88dsCAQCCsoChgHYBAeEcProgUf0CYq7eqU41\\u002fQCU0TiA6S4BAoLFTHoYWgEBrrggjqkB+QIUF0GbdWnxAwGCVD6JYe0D34a4RbQZ7QG7zfQJf\\u002fXpA3EBP3YAKe0APvoaj3hV7QGEvj6WEEHtAIfZT83\\u002f+ekB6mXpktO56QHmuoLEP6HpA2A4s\\u002f43pekB80Eu1E\\u002fp6QLGbLyz2UHtAyrdg2duqfEADHFSJuh6AQNU1nUMvCYNAeKJf1dmWhUDubQj\\u002fE\\u002fGFQIu7tugBNIRAzui9p5GygUA3xiYc4wx\\u002fQB7emr7qbnxAL57b2et4e0BogwFjVdV7QEG2VQCvw31AU7uQm32lgEBeeZgPsTeCQNfk52cOHYJAVBxFUnZugECH+KWnzWR9QAwsDiIPjHtAz417CJPyekD5yO6esNB6QK+zxXQozHpAOpH4BDXXekBdj\\u002fsopP96QMAWNDdrSntApPSve86Me0DqGPzY5oV7QKHMfE+bPHtAsh1X3Jn0ekAJjpUvBdF6QBFOfjltyHpAKwdCQfnNekD7TEDzXut6QA03rP4RSXtA3VSGmKsNfEBdbLTegRV9QHiUHvT6OX5AhUYR9nMVgEBi\\u002feSkMsiBQM7gIn0gsoNA4K7d\\u002fGZYhUAEKLR20uCGQJYhpABAa4dAPDKVuTbbhUDoaJqUX9iCQD9K7pvihIBAmNNLMexxgUAikfSmrSCJQALTivGkrJRAJM6PDw3bnEBM4w\\u002fv3UOdQNKFVJQjrJVAEh2njauOjUDyROAutfqOQFKzHmOIWphAvp6KxLUuoUBGxxn0TWGhQA256bsRzJhAXD70G4qEjEDx3ab9gqeBQG7xeD94unxApRM2935xe0AIxQf7kV17QDDAtv3\\u002fnntAf2SSQdL8e0ApMyshOa18QLN7pz5hk35ALKHGrCvOgEBW6lKHzZuBQPhEyfP4rIBAmoY\\u002fyFb1fUDRcWmHlKl7QHWWRxaSzHpAALiGRXuWekCpHmZInYl6QCX9cDexg3pAw3\\u002fyZUt\\u002fekDgROkWr3t6QNP2hoSoeHpAtzrTLSJ2ekD5BZoaJnR6QPiAGmL8cnpAQXfwsFJzekBx4SvR1nd6QM4q6vEgknpAAaenI7IGe0Blphpyj0N8QOY3S71mE35Aq1IjLm74fkDFdqqx4ed9QCP5VPUIFHxABrBxVZznekA0Ccnnxn16QCdoOatHZnpABADutgZiekBM4Tc39WJ6QJcXMzJFcnpAnpzXiHi7ekDmBXmj1oZ7QFPppw3dt3xAdlxGp4djfUDrKXFtT\\u002f98QGVqFML9d3xA3OJV5RxufECGkgYhHD18QPJXsN2xintA9WSTJKXiekCVeUBmh7J6QDgVGQ1MZ3tACS882C2zfkBondgicIqDQNRz55+wKIlAfk5KLYdJi0D0yOhqS5OHQNe9TbWJg4JAQFf7QqbSf0ALh129ZkJ+QDbqML6Z931AYJWD2ZoBgEAQDfCEakCCQF21C4tih4NAxa5ggo8OgkA6boR0L\\u002fN+QHj05kFDs3tAQo00QCuqekBJSh4X8bh6QA3Sxrq4XntAkNJIGCIpfECnW3u0k0N8QLxQVFO1iHtA4y7RPK\\u002fBekBFE9HLb2J6QInhf9IoTnpATsWhPi1eekD5xuv36oh6QCZ4mxTCuHpAMO1V6\\u002fTUekC6OUasVRN7QHxQXhRxvntAUJ61KmpvfEDblfraqFV8QFI0gWQzm3tARRk4Cy0Ue0BSoPtQ4h17QBgSbpGGZHxAdacaXoWzgUCGU+igh1qOQHo0w1ByU5xA1sTtND34pEDjZYAeckqmQC63+2nMI6JATWtJbMxrmEDoOTrkygGNQEw6kGytJYJAqfbNw+fAfEDtGg6w\\u002fQN7QC8ei2szoXpATNMtHiJ4ekDohL9\\u002fUl16QB+42enjSXpABY5+eEM7ekBAjQ8x8y96QOv7jCgDJ3pAum101dcfekBqH5K4Chp6QJF1NKVYFXpAjNGsypcRekDLF+Cpsg56QLniotGmDHpAbXLjf4cLekA3QabShQt6QCqqZK8EDXpA2BlDIvUQekAbknQtqBx6QPajtAvcWXpAW46c5PWee0B3xAOe6wSAQALOQMaLYYRA3g3sdDpviEBioPzbKC6IQM4ruforA4RA9bQ\\u002fSia1f0BrVsBoS4V7QHAfxSKGQHpAvYB160r6eUAG9weRWeh5QCcJDC7v33lAf4ElnwHbeUAORJZA2Nh5QO906Y332XlAR\\u002fZNJCPieUCm12ESZBJ6QCRCUGDbPHtAdCt76T0HgEDQ2oU5mZKFQMGFgWpOYotAts8LdzcKi0Cs4Bu5gvuEQOKWGoV\\u002ffX9A+wcWiH7Ee0DWCd7uID58QApZh2Jlo31AXPu5ewp9fUCwPaYVdcx7QEIDYm+WU3pA0Q7FlzC9eUDCsKwYKsR5QHVqkzj\\u002fbnpA76ML+2bee0AcE+BH5xp9QFTWHY7eqXxA7x4en9IWe0DR0IQZf+t5QNdH+lpZfHlAuvDMfYRieUBBV0yDS1x5QE5YfACxWXlAjAP0C\\u002fJYeUDyIPvr+1t5QL7YDmS0cXlAitjNYrLZeUDkgaqj+Qt7QOtyEZVhJX1AUCvOKG3of0Dsg2oSjhiCQF56WxcUkIRAMt8QQ2x7hEAYWfuJwXeBQBQDuvLcUH5ANBUsLg+IgEBurlu+TVuGQNpvRdeMxYxAf6Vq7Aa6jECqxMHLC4KHQBQGOraSqYRABH7d07lFhUDSwqc6YMyFQB7XRGFpI4VAj+1IFVabg0DRlIroGM6BQDfnqyDw9H9AeE8Q0iJVfUABoRw9w+t+QMC5O43kSoVAUwbQ1pr3kECtCadGtbaWQBAgcGAiOJVAhdK4VDdJjUCo9mF4RI+EQAQ1511uUoNAcIR92JnLg0DMTap7LlqDQMZg0FsFOoRAPM3vEauWhUCo2sXuAt+DQK+z5iYKJoBAoHU5bHBWe0A9ZRD7iSZ6QG5YeZtXGHtAjBEyDXaXfECG1ccu08p9QKsxzeDZRH9AANqv9lltgEBS6+RhD3uAQDwRi+fLgX9A1jC0E49df0DKum5YBh+BQIoY0S33HoJA8feGyjPNgECk6HVSobh9QCzqn0quSXxAQ8Yn83UVfEAm0s+okQB7QGgqj\\u002f4LjXlA35xlG062eED22lO4xnB4QDn1DhZ3YXhAuDCbcn9peEC6ixX\\u002f9bx4QIxmOQ8uBHpANmWk0GWpfEChTAbBhgN\\u002fQLXe0NLMXn5ABai4RO2Ie0BI8Ms2fFB5QAwElAg4gXhAJUBW6yyCeEAPr63C5sx4QPYedzCy8nhAmfemKza3eEDejOvo9Vp4QPsY++2vInhAsrTx6hAOeEDgGTez\\u002fgZ4QCJiFkUBA3hAPiTLxOP\\u002fd0DGI8Svdv13QD7ctbDf+3dADTSDDWz7d0CRUO1so\\u002fx3QChW6U2TAHhAdI4+EXoLeEBxA3vTdz54QDb4\\u002fIODYXlAuhA7SMo\\u002fhEBkzIn0mCiKQJbU2FSwp4pALmNlsTUqhUB7XhPQLWN\\u002fQOFRP2rdsnpAf8M9CRHueUCZoLlmJK95QEQeQFVFB3lA7XaZUvmleECJiqOjSut4QLJ1qt+JTHlAOZbKV1EVeUCObKInXHx4QD42QEgYQHhAFxg7J37KeEAu65x70dF5QGQ1HT4uSnpAGLuQJHeVeUBk4fYmo354QMstZkmK1HdAKIiwjJ6ad0CaoShvXJB3QJI4n18moHdAYhJIXOLtd0B6pCJH0LR4QARvcBUCxHlAtgTu29BXekB5Wod9oa16QO52s3S\\u002fNn1AmcStgSbDgUAeosBx\\u002fuGEQFyRiEOB6YRAijR7taU+g0CQ6j5J+QqEQKYYhknf8oZAoA4UI70uh0CY+t3LIoKDQBHdnfNC\\u002fX9AzhztmTj5fkD3DJ9vXI+BQImFgcA5NoRAhjYuKHYghUCN0CJ\\u002fzVqDQMec4PEJbYBAmJwS2fjre0Cd5zD\\u002f\\u002fQ95QBIszGfe93dAG3eCzkJTeEBR5Wg1hAF7QH9C23zWpIBAQhSVcsNxhEBaIRVJMomFQBxSQTWnsIJAEWssVWrKfUCLGZ1uMkN5QIqH7BEax3dAGu2mvCncd0CTkCRQQwZ5QMjJfY5seHtAgHJF+c6lf0CVjhWXCv2CQATjzVDdeoZArtqjuquAiEC\\u002f6ajDWMKIQCZmB5ecnYdAmTKSGwF0hEC3i0lE942AQFjAqoM\\u002fDnxAPXX9VJMlekA+3pKbtU15QOBDpTSNo3hA0VHF0dQgeUAGy4k674h8QHTgEDpAn4FA0uQuRp6yhECaOegwL46EQLcE5kUoWoFA8tT3MQIOfEBqHzGD35d4QMnSVoq9LnhA+9Pwiwh7ekD+QcHi5aZ\\u002fQJ837ZTxzoJANTElBSq9g0AFU05laqCBQC8+D\\u002fl2EH1AIv39jn0KeUCPjt1zKM53QLrCwD3QGnhAtH\\u002fkoNeWeEBqpLusfWd4QK0NBcPRondAgITbexLldkDzVvgW+H52QIE\\u002f5powYXZABThs9MF8dkCyeRHMXDV3QG\\u002f6kwx873lAN8rcqlVbgEBlTy8WeYaFQK1JdyfAZolA6Jxo5yt5iECuFXmHm7KDQMmMR9SE731ARG\\u002fzeYujeEBejm\\u002faHbJ2QNryO4E9LXZAw8\\u002fcRX4PdkBj5a5SQhx2QGDzg\\u002flEhnZALR21EpLVd0CkxucZQ2d6QHLHjvqwWn1ARnvLGYSKfkACWh3VkN58QJjoHJDL3HlAwAZKcyh6d0DIkKZBHk12QJbidIB463VAlgbNBMXWdUCCAgeUVM51QHpULv36wHVAI+utZnm2dUBocef2o8d1QFnAEz0qQ3ZAFmzuoYz1d0CTePPRf+57QPeYtkcf+oBAupuV\\u002feyJg0AVi+9OK9KDQIEbNYKX9IFAQMcX89hxf0BWtT+OkUt8QFtwoGtqQ3pAxmXptsYweUD95V+sfl15QJaas5aAVnpAK7CJorjAekAUUznIZMF5QBav8dsQ+XdAX22hq313dkBENkags7B1QPUgxLt+inVA1Oi2FxDJdUD4bxQmsCt2QF9IwzdIYnZAUCvZ3gk4dkDu7T1nQst1QJNFqOLOYHVAwTewfjUedUD988ZXjgB1QMG+ZU\\u002f5+HRALkj52\\u002fsCdUDw8eY3Kit1QF6QeWkzjnVAAVZCxwtRdkBj5ngsGpF3QNdaCOV4R3lAAhgMxBMbe0AEFhVWQ1N8QGn5SyrCQXxAqAe\\u002f5CNMe0Dydd6AeEN7QHJ8rd9xXX5A5c1Ppy2xgkCMpfbjZQqHQF+u8AdC54lAdYEk2D+ciUByg+bVYKWGQMuc8o35noJAapRceuICfkAHt9VLXw15QAqWnp9wVnZAACoW+7YhdUB4OkPwC650QN7L6iFyhHRAE3e6yb5xdEC6JUA2mWV0QJImo2bRW3RAc0zsiV9TdEDEX8VM7kt0QB70W5dYRXRA9XFNKpM\\u002fdEChWdTRsjp0QNH66Ek2N3RAaOnQf4c3dECGDavOZEV0QMcpUf4LfnRAdTQLW4wddUB\\u002f4s3Y8Wt2QKpyUDmZeHhAHuIYAhfhekA9GaD1igx9QMiD0QeexX5AUTYQ01QmgEDmieJS1bKAQAGOeOMNh4BAkq5deCS1fkAKlfFDUzZ7QCjjIZug\\u002f3dAl3vjSmb4dUDTv\\u002fO1A0p1QBF\\u002f5Wv5unVAqUKQKp\\u002fpdkDSVFNkNT94QC404MItAHlAU24zaeG2eEAwex8stpd3QJPKaPOxO3ZAJaKn8e0fdUCBZFuhgHl0QEYj9QJkUHRAlI7iuFmjdECaQXzY+mV1QKXx0T00YnZAV5qvgqMvd0CAsq5dN2R3QP3ENIv55XZA6pT04ML5dUAfYoowewF1QLH877N9QHRAEk\\u002fzD77Ic0Cds6iBq41zQM5DjVKEgXNA\\u002fhjdEyStc0B8PvXC1D10QPp\\u002fhhEye3VAuKujqLWPd0CujKk6HTN6QNb6UVaDh3xAlWCPBOl3fUDXgePFUoN8QAJT4wIZNHpAQKDMf2mYd0BM2LCJpYB1QBIzBh7iMnRA7Zeqr9GQc0DQzzvYPGdzQNF4GOtppnNARL0QAEdvdEBzvX2CNPR1QOANaTElNHhA4C2tOB+5ekCu5rabvaB8QOL1sFKkEH1AIcERxJzde0D0eD4fgLF5QP2fEW7udXdAxc\\u002fUttbBdUC9faTmrK90QDZGYp2NDHRAr5mUzBOfc0AfrVpILEpzQCv5MPW1B3NAxPzFJ5XYckCTtHw0rbtyQAKQACQsrnJA6FFD0TmxckDz7N0uBNJyQB9tW+7fMXNAiEKGCdoGdEAjfOPE9oZ1QCYhiUdWuXdA+NleN61GekB4FQqeZ3l8QPe5Zpw0iH1AaEoaEcMRfUAMMILHaGN7QGYPC4EaL3lAFKkENDEUd0B0KQhcY2V1QDdmkbhVMnRAyXzXs4Vlc0APhKKNPuNyQFa0mf1ulHJAS8E2KW5ockA7uH9gL1VyQFH+Lqt5WXJA0uzZ5TmAckBzlozDduFyQPoYhTwtm3NATQYdowW+dEBCxItFxzN2QESXsZEksndAa0dcoDzMeEAwmwIN7SN5QMrphmo7pHhAUFhVHfaOd0BaarMgJkp2QEy5iT+mJnVAKBmsuqpGdED9dH2q7qVzQII9MTPXMnNAix1ce7PgckAGwMntBatyQCfJ1WRqkXJAo31Q8gqTckBA8uRXmKxyQCwNKOpf2HJAyPcHRsMOc0CFqoaVeEdzQMXvrmTGfHNA6KokAXuuc0D9Z6IRzeFzQOChkv\\u002fAHXRAznvxZD5mdEDzNKTPY7t0QIUULcWnHXVAxDgrzRCRdUAcVpiDZRd2QEHVwuDZo3ZA00S2IpAXd0BL+Zz3rE13QP+zzUlaMXdAosT4Of3LdkBJfv8q2zp2QF4EQQ3FmXVAmu9Z6Dz3dEDA0VMWn1Z0QPbnKeD7uXNAlGvgOaknc0DVuKqJl6hyQKDOVNaNRHJA6w1Xt27\\u002fcUAQroyf0NhxQNpQV\\u002fnMzXFA2JNUNQXccUBuosxQaAVyQKn21HcyVXJAr40fMXbmckCwkqNMl+pzQMPeHQGqqnVAh0H5RU97eEDgBFt\\u002fxJx8QFotNBbaBYFA8gqJ0UYrhEAnrYP3GUqHQC6KrNlix4lAEAhI7RoPi0CwNjPOC86KQAD6etfXHYlAvldTBrt8hkAIkgXy+5aDQIB9\\u002fMm7DYFASKDCW5WhfkDct7copxt9QBLxkNDnY31AOA4M9ofwfkAg+GPi7H+AQC7JmAR9ZYFArJQiZRPcgUDNNAmbl8GBQPBBSDq7IoFAHLxteakpgEDKMSf5Xgx+QDHIBY7Yu3tAqo5DQlOPeUB+09lciZ13QOxQPWCB8HVASK\\u002fLzI6LdECVnW7nBG5zQN4tG1oDlHJAGgakKJP2cUAaXFL5iIxxQARxz3qvTHFAJakDnrgwcUBygXVgGjhxQK0A4nX3aXFAdI6ENhjVcUA9CDx+3YxyQMK1YqOMonNAHfN0Ks0bdUCFsOaDWul2QJF5s5V44nhAfLZKTiDJekDORHu621d8QHs2O\\u002fXKVn1AsgTmQlOyfUCRHLycsoh9QI1scV9aIn1ARNIBCE3XfEAmjvcwA\\u002fB8QIWxfphCjX1AeBHr8kWdfkCmSclzIeF\\u002fQK6VeTNMgIBAmHIjRWDTgEB13Y17+8+AQMeE2SoQd4BAkhHRienHf0CN3ZYZKIV+QIRqRqo7hX1ApOXq2t8XfUAMhI2xeWt9QH6GhqL3gn5ACAM1pEsagED2Uh466hiBQKccWmrvC4JAFvmrcRnDgkAcYlSopxuDQOMR4FCsCoNAx2oF8T2ggkBOPd8WTQCCQOC+E+sHVYFAjj5qQKjBgEAgnGbsqVmAQFr+s3zGHYBAhHEhDDP9f0B+pmcAEcd\\u002fQHwsmVBtZ39AtgrH7Xa8fkB6H6BD3bx9QNwXRqmWdXxA3iqfvLIAe0AYJIHzb3t5QNlS30sN\\u002f3dAAw7rlUmddkC8A22yNmB1QJK\\u002fP+AOTHRAsll874Fhc0CH91cjnJ9yQH1GhekSBXJAh4mRVvqQcUDrfmw89EJxQISpIg78GnFA7Sef1PcYcUAtURksLTxxQLPTKt2zgnFA4SqxxwXpcUDI9ye61GlyQG64mjVL\\u002fnJAmAAEpsOec0CVHNQ42UN0QD7kV8WM53RATK6HSRKGdUDe3suK2x12QOA3yW3NrnZAaTvUueM4d0AuVjU9jLp3QM6jpZYzL3hAGmMHy8GOeECazbDgd854QMx9hZAN43hAB5hMS5XDeED0sstuU2x4QPrz3oVN4HdAKkLE07ood0C+a8FA0lJ2QObB0us0bXVAs9MyhtGFdECEpEv5hahzQMQPU4p93nJABf+WByguckDeRc1fl5txQFhTVUkVKXFAUL3\\u002fy8TXcECi+vGsIKhwQBOPJZcxmnBAPJnAVm+tcEAtqmo4XOBwQE3WXMP\\u002fL3FAKjjJKHKXcUBknns\\u002fqQ9yQBhbcg2qj3JAZ0S87ykNc0DkEoNtkH1zQGYfpbA413NAMtzc0skSdEDugTjtcCx0QKCbCUirJHRAj03ucEgAdEDBiA0Dj8tzQA==\"},\"type\":\"scatter\"},{\"line\":{\"color\":\"rgb(44, 160, 44)\"},\"mode\":\"lines\",\"name\":\"Residual (Imeas - Icalc)\",\"x\":{\"dtype\":\"f8\",\"bdata\":\"G55eKcswIEBO0ZFc\\u002fmMgQIEExY8xlyBAtTf4wmTKIEDoaiv2l\\u002f0gQBueXinLMCFATtGRXP5jIUCBBMWPMZchQLU3+MJkyiFA6Gor9pf9IUAbnl4pyzAiQE7RkVz+YyJAgQTFjzGXIkC1N\\u002fjCZMoiQOhqK\\u002faX\\u002fSJAG55eKcswI0BO0ZFc\\u002fmMjQIEExY8xlyNAtTf4wmTKI0Doaiv2l\\u002f0jQBueXinLMCRATtGRXP5jJECBBMWPMZckQLU3+MJkyiRA6Gor9pf9JEAbnl4pyzAlQE7RkVz+YyVAgQTFjzGXJUC1N\\u002fjCZMolQOhqK\\u002faX\\u002fSVAG55eKcswJkBO0ZFc\\u002fmMmQIEExY8xlyZAtTf4wmTKJkDoaiv2l\\u002f0mQBueXinLMCdATtGRXP5jJ0CBBMWPMZcnQLU3+MJkyidA6Gor9pf9J0Abnl4pyzAoQE7RkVz+YyhAgQTFjzGXKEC1N\\u002fjCZMooQOhqK\\u002faX\\u002fShAG55eKcswKUBO0ZFc\\u002fmMpQIEExY8xlylAtTf4wmTKKUDoaiv2l\\u002f0pQBueXinLMCpATtGRXP5jKkCBBMWPMZcqQLU3+MJkyipA6Gor9pf9KkAbnl4pyzArQE7RkVz+YytAgQTFjzGXK0C1N\\u002fjCZMorQOhqK\\u002faX\\u002fStAG55eKcswLEBO0ZFc\\u002fmMsQIEExY8xlyxAtTf4wmTKLEDoaiv2l\\u002f0sQBueXinLMC1ATtGRXP5jLUCBBMWPMZctQLU3+MJkyi1A6Gor9pf9LUAbnl4pyzAuQE7RkVz+Yy5AgQTFjzGXLkC1N\\u002fjCZMouQOhqK\\u002faX\\u002fS5AG55eKcswL0BO0ZFc\\u002fmMvQIEExY8xly9AtTf4wmTKL0Doaiv2l\\u002f0vQA5Pr5RlGDBAp+hILv8xMEBBguLHmEswQNobfGEyZTBAdLUV+8t+MEAOT6+UZZgwQKfoSC7\\u002fsTBAQYLix5jLMEDaG3xhMuUwQHS1FfvL\\u002fjBADk+vlGUYMUCn6Egu\\u002fzExQEGC4seYSzFA2ht8YTJlMUB0tRX7y34xQA5Pr5RlmDFAp+hILv+xMUBBguLHmMsxQNobfGEy5TFAdLUV+8v+MUAOT6+UZRgyQKfoSC7\\u002fMTJAQYLix5hLMkDaG3xhMmUyQHS1FfvLfjJADk+vlGWYMkCn6Egu\\u002f7EyQEGC4seYyzJA2ht8YTLlMkB0tRX7y\\u002f4yQA5Pr5RlGDNAp+hILv8xM0BBguLHmEszQNobfGEyZTNAdLUV+8t+M0AOT6+UZZgzQKfoSC7\\u002fsTNAQYLix5jLM0DaG3xhMuUzQHS1FfvL\\u002fjNADk+vlGUYNECn6Egu\\u002fzE0QEGC4seYSzRA2ht8YTJlNEB0tRX7y340QA5Pr5RlmDRAp+hILv+xNEBBguLHmMs0QNobfGEy5TRAdLUV+8v+NEAOT6+UZRg1QKfoSC7\\u002fMTVAQYLix5hLNUDaG3xhMmU1QHS1FfvLfjVADk+vlGWYNUCn6Egu\\u002f7E1QEGC4seYyzVA2ht8YTLlNUB0tRX7y\\u002f41QA5Pr5RlGDZAp+hILv8xNkBBguLHmEs2QNobfGEyZTZAdLUV+8t+NkAOT6+UZZg2QKfoSC7\\u002fsTZAQYLix5jLNkDaG3xhMuU2QHS1FfvL\\u002fjZADk+vlGUYN0Cn6Egu\\u002fzE3QEGC4seYSzdA2ht8YTJlN0B0tRX7y343QA5Pr5RlmDdAp+hILv+xN0BBguLHmMs3QNobfGEy5TdAdLUV+8v+N0AOT6+UZRg4QKfoSC7\\u002fMThAQYLix5hLOEDaG3xhMmU4QHS1FfvLfjhADk+vlGWYOECn6Egu\\u002f7E4QEGC4seYyzhA2ht8YTLlOEB0tRX7y\\u002f44QA5Pr5RlGDlAp+hILv8xOUBBguLHmEs5QNobfGEyZTlAdLUV+8t+OUAOT6+UZZg5QKfoSC7\\u002fsTlAQYLix5jLOUDaG3xhMuU5QHS1FfvL\\u002fjlADk+vlGUYOkCn6Egu\\u002fzE6QEGC4seYSzpA2ht8YTJlOkB0tRX7y346QA5Pr5RlmDpAp+hILv+xOkBBguLHmMs6QNobfGEy5TpAdLUV+8v+OkAOT6+UZRg7QKfoSC7\\u002fMTtAQYLix5hLO0DaG3xhMmU7QHS1FfvLfjtADk+vlGWYO0Cn6Egu\\u002f7E7QEGC4seYyztA2ht8YTLlO0B0tRX7y\\u002f47QA5Pr5RlGDxAp+hILv8xPEBBguLHmEs8QNobfGEyZTxAdLUV+8t+PEAOT6+UZZg8QKfoSC7\\u002fsTxAQYLix5jLPEDaG3xhMuU8QHS1FfvL\\u002fjxADk+vlGUYPUCn6Egu\\u002fzE9QEGC4seYSz1A2ht8YTJlPUB0tRX7y349QA5Pr5RlmD1Ap+hILv+xPUBBguLHmMs9QNobfGEy5T1AdLUV+8v+PUAOT6+UZRg+QKfoSC7\\u002fMT5AQYLix5hLPkDaG3xhMmU+QHS1FfvLfj5ADk+vlGWYPkCn6Egu\\u002f7E+QEGC4seYyz5A2ht8YTLlPkB0tRX7y\\u002f4+QA5Pr5RlGD9Ap+hILv8xP0BBguLHmEs\\u002fQNobfGEyZT9AdLUV+8t+P0AOT6+UZZg\\u002fQKfoSC7\\u002fsT9AQYLix5jLP0DaG3xhMuU\\u002fQHS1FfvL\\u002fj9Ah6dXyjIMQEBUdCSX\\u002fxhAQCBB8WPMJUBA7Q2+MJkyQEC62or9ZT9AQIenV8oyTEBAVHQkl\\u002f9YQEAgQfFjzGVAQO0NvjCZckBAutqK\\u002fWV\\u002fQECHp1fKMoxAQFR0JJf\\u002fmEBAIEHxY8ylQEDtDb4wmbJAQLraiv1lv0BAh6dXyjLMQEBUdCSX\\u002f9hAQCBB8WPM5UBA7Q2+MJnyQEC62or9Zf9AQIenV8oyDEFAVHQkl\\u002f8YQUAgQfFjzCVBQO0NvjCZMkFAutqK\\u002fWU\\u002fQUCHp1fKMkxBQFR0JJf\\u002fWEFAIEHxY8xlQUDtDb4wmXJBQLraiv1lf0FAh6dXyjKMQUBUdCSX\\u002f5hBQCBB8WPMpUFA7Q2+MJmyQUC62or9Zb9BQIenV8oyzEFAVHQkl\\u002f\\u002fYQUAgQfFjzOVBQO0NvjCZ8kFAutqK\\u002fWX\\u002fQUCHp1fKMgxCQFR0JJf\\u002fGEJAIEHxY8wlQkDtDb4wmTJCQLraiv1lP0JAh6dXyjJMQkBUdCSX\\u002f1hCQCBB8WPMZUJA7Q2+MJlyQkC62or9ZX9CQIenV8oyjEJAVHQkl\\u002f+YQkAgQfFjzKVCQO0NvjCZskJAutqK\\u002fWW\\u002fQkCHp1fKMsxCQFR0JJf\\u002f2EJAIEHxY8zlQkDtDb4wmfJCQLraiv1l\\u002f0JAh6dXyjIMQ0BUdCSX\\u002fxhDQCBB8WPMJUNA7Q2+MJkyQ0C62or9ZT9DQIenV8oyTENAVHQkl\\u002f9YQ0AgQfFjzGVDQO0NvjCZckNAutqK\\u002fWV\\u002fQ0CHp1fKMoxDQFR0JJf\\u002fmENAIEHxY8ylQ0DtDb4wmbJDQLraiv1lv0NAh6dXyjLMQ0BUdCSX\\u002f9hDQCBB8WPM5UNA7Q2+MJnyQ0C62or9Zf9DQIenV8oyDERAVHQkl\\u002f8YREAgQfFjzCVEQO0NvjCZMkRAutqK\\u002fWU\\u002fRECHp1fKMkxEQFR0JJf\\u002fWERAIEHxY8xlREDtDb4wmXJEQLraiv1lf0RAh6dXyjKMREBUdCSX\\u002f5hEQCBB8WPMpURA7Q2+MJmyREC62or9Zb9EQIenV8oyzERAVHQkl\\u002f\\u002fYREAgQfFjzOVEQO0NvjCZ8kRAutqK\\u002fWX\\u002fRECHp1fKMgxFQFR0JJf\\u002fGEVAIEHxY8wlRUDtDb4wmTJFQLraiv1lP0VAh6dXyjJMRUBUdCSX\\u002f1hFQCBB8WPMZUVA7Q2+MJlyRUC62or9ZX9FQIenV8oyjEVAVHQkl\\u002f+YRUAgQfFjzKVFQO0NvjCZskVAutqK\\u002fWW\\u002fRUCHp1fKMsxFQFR0JJf\\u002f2EVAIEHxY8zlRUDtDb4wmfJFQLraiv1l\\u002f0VAh6dXyjIMRkBUdCSX\\u002fxhGQCBB8WPMJUZA7Q2+MJkyRkC62or9ZT9GQIenV8oyTEZAVHQkl\\u002f9YRkAgQfFjzGVGQO0NvjCZckZAutqK\\u002fWV\\u002fRkCHp1fKMoxGQFR0JJf\\u002fmEZAIEHxY8ylRkDtDb4wmbJGQLraiv1lv0ZAh6dXyjLMRkBUdCSX\\u002f9hGQCBB8WPM5UZA7Q2+MJnyRkC62or9Zf9GQIenV8oyDEdAVHQkl\\u002f8YR0AgQfFjzCVHQO0NvjCZMkdAutqK\\u002fWU\\u002fR0CHp1fKMkxHQFR0JJf\\u002fWEdAIEHxY8xlR0DtDb4wmXJHQLraiv1lf0dAh6dXyjKMR0BUdCSX\\u002f5hHQCBB8WPMpUdA7Q2+MJmyR0C62or9Zb9HQIenV8oyzEdAVHQkl\\u002f\\u002fYR0AgQfFjzOVHQO0NvjCZ8kdAutqK\\u002fWX\\u002fR0CHp1fKMgxIQFR0JJf\\u002fGEhAIEHxY8wlSEDtDb4wmTJIQLraiv1lP0hAh6dXyjJMSEBUdCSX\\u002f1hIQCBB8WPMZUhA7Q2+MJlySEC62or9ZX9IQIenV8oyjEhAVHQkl\\u002f+YSEAgQfFjzKVIQO0NvjCZskhAutqK\\u002fWW\\u002fSECHp1fKMsxIQFR0JJf\\u002f2EhAIEHxY8zlSEDtDb4wmfJIQLraiv1l\\u002f0hAh6dXyjIMSUBUdCSX\\u002fxhJQCBB8WPMJUlA7Q2+MJkySUC62or9ZT9JQIenV8oyTElAVHQkl\\u002f9YSUAgQfFjzGVJQO0NvjCZcklAutqK\\u002fWV\\u002fSUCHp1fKMoxJQFR0JJf\\u002fmElAIEHxY8ylSUDtDb4wmbJJQLraiv1lv0lAh6dXyjLMSUBUdCSX\\u002f9hJQCBB8WPM5UlA7Q2+MJnySUC62or9Zf9JQIenV8oyDEpAVHQkl\\u002f8YSkAgQfFjzCVKQO0NvjCZMkpAutqK\\u002fWU\\u002fSkCHp1fKMkxKQFR0JJf\\u002fWEpAIEHxY8xlSkDtDb4wmXJKQLraiv1lf0pAh6dXyjKMSkBUdCSX\\u002f5hKQCBB8WPMpUpA7Q2+MJmySkC62or9Zb9KQIenV8oyzEpAVHQkl\\u002f\\u002fYSkAgQfFjzOVKQO0NvjCZ8kpAutqK\\u002fWX\\u002fSkCHp1fKMgxLQFR0JJf\\u002fGEtAIEHxY8wlS0DtDb4wmTJLQLraiv1lP0tAh6dXyjJMS0BUdCSX\\u002f1hLQCBB8WPMZUtA7Q2+MJlyS0C62or9ZX9LQIenV8oyjEtAVHQkl\\u002f+YS0AgQfFjzKVLQO0NvjCZsktAutqK\\u002fWW\\u002fS0CHp1fKMsxLQFR0JJf\\u002f2EtAIEHxY8zlS0DtDb4wmfJLQLraiv1l\\u002f0tAh6dXyjIMTEBUdCSX\\u002fxhMQCBB8WPMJUxA7Q2+MJkyTEC62or9ZT9MQIenV8oyTExAVHQkl\\u002f9YTEAgQfFjzGVMQO0NvjCZckxAutqK\\u002fWV\\u002fTECHp1fKMoxMQFR0JJf\\u002fmExAIEHxY8ylTEDtDb4wmbJMQLraiv1lv0xAh6dXyjLMTEBUdCSX\\u002f9hMQCBB8WPM5UxA7Q2+MJnyTEC62or9Zf9MQIenV8oyDE1AVHQkl\\u002f8YTUAgQfFjzCVNQO0NvjCZMk1AutqK\\u002fWU\\u002fTUCHp1fKMkxNQFR0JJf\\u002fWE1AIEHxY8xlTUDtDb4wmXJNQLraiv1lf01Ah6dXyjKMTUBUdCSX\\u002f5hNQCBB8WPMpU1A7Q2+MJmyTUC62or9Zb9NQIenV8oyzE1AVHQkl\\u002f\\u002fYTUAgQfFjzOVNQO0NvjCZ8k1AutqK\\u002fWX\\u002fTUCHp1fKMgxOQFR0JJf\\u002fGE5AIEHxY8wlTkDtDb4wmTJOQLraiv1lP05Ah6dXyjJMTkBUdCSX\\u002f1hOQCBB8WPMZU5A7Q2+MJlyTkC62or9ZX9OQIenV8oyjE5AVHQkl\\u002f+YTkAgQfFjzKVOQO0NvjCZsk5AutqK\\u002fWW\\u002fTkCHp1fKMsxOQFR0JJf\\u002f2E5AIEHxY8zlTkDtDb4wmfJOQLraiv1l\\u002f05Ah6dXyjIMT0BUdCSX\\u002fxhPQCBB8WPMJU9A7Q2+MJkyT0C62or9ZT9PQIenV8oyTE9AVHQkl\\u002f9YT0AgQfFjzGVPQO0NvjCZck9AutqK\\u002fWV\\u002fT0CHp1fKMoxPQFR0JJf\\u002fmE9AIEHxY8ylT0DtDb4wmbJPQLraiv1lv09Ah6dXyjLMT0BUdCSX\\u002f9hPQCBB8WPM5U9A7Q2+MJnyT0C62or9Zf9PQMPTK2UZBlBAKjqSy38MUECQoPgx5hJQQPcGX5hMGVBAXW3F\\u002frIfUECQoPgx5jJQQPcGX5hMOVBAXW3F\\u002frI\\u002fUEDD0ytlGUZQQCo6kst\\u002fTFBAkKD4MeZSUED3Bl+YTFlQQF1txf6yX1BAw9MrZRlmUEAqOpLLf2xQQJCg+DHmclBA9wZfmEx5UEBdbcX+sn9QQMPTK2UZhlBAKjqSy3+MUECQoPgx5pJQQPcGX5hMmVBAXW3F\\u002frKfUEDD0ytlGaZQQCo6kst\\u002frFBAkKD4MeayUED3Bl+YTLlQQF1txf6yv1BAw9MrZRnGUEAqOpLLf8xQQJCg+DHm0lBA9wZfmEzZUEBdbcX+st9QQMPTK2UZ5lBAKjqSy3\\u002fsUECQoPgx5vJQQPcGX5hM+VBAXW3F\\u002frL\\u002fUEDD0ytlGQZRQCo6kst\\u002fDFFAkKD4MeYSUUD3Bl+YTBlRQF1txf6yH1FAw9MrZRkmUUAqOpLLfyxRQJCg+DHmMlFA9wZfmEw5UUBdbcX+sj9RQMPTK2UZRlFAKjqSy39MUUCQoPgx5lJRQPcGX5hMWVFAXW3F\\u002frJfUUDD0ytlGWZRQCo6kst\\u002fbFFAkKD4MeZyUUD3Bl+YTHlRQF1txf6yf1FAw9MrZRmGUUAqOpLLf4xRQJCg+DHmklFA9wZfmEyZUUBdbcX+sp9RQMPTK2UZplFAKjqSy3+sUUCQoPgx5rJRQPcGX5hMuVFAXW3F\\u002frK\\u002fUUDD0ytlGcZRQCo6kst\\u002fzFFAkKD4MebSUUD3Bl+YTNlRQF1txf6y31FAw9MrZRnmUUAqOpLLf+xRQJCg+DHm8lFA9wZfmEz5UUBdbcX+sv9RQMPTK2UZBlJAKjqSy38MUkCQoPgx5hJSQPcGX5hMGVJAXW3F\\u002frIfUkDD0ytlGSZSQCo6kst\\u002fLFJAkKD4MeYyUkD3Bl+YTDlSQF1txf6yP1JAw9MrZRlGUkAqOpLLf0xSQJCg+DHmUlJA9wZfmExZUkBdbcX+sl9SQMPTK2UZZlJAKjqSy39sUkCQoPgx5nJSQPcGX5hMeVJAXW3F\\u002frJ\\u002fUkDD0ytlGYZSQCo6kst\\u002fjFJAkKD4MeaSUkD3Bl+YTJlSQF1txf6yn1JAw9MrZRmmUkAqOpLLf6xSQJCg+DHmslJA9wZfmEy5UkBdbcX+sr9SQMPTK2UZxlJAKjqSy3\\u002fMUkCQoPgx5tJSQPcGX5hM2VJAXW3F\\u002frLfUkDD0ytlGeZSQCo6kst\\u002f7FJAkKD4MebyUkD3Bl+YTPlSQF1txf6y\\u002f1JAw9MrZRkGU0AqOpLLfwxTQJCg+DHmElNA9wZfmEwZU0BdbcX+sh9TQMPTK2UZJlNAKjqSy38sU0CQoPgx5jJTQPcGX5hMOVNAXW3F\\u002frI\\u002fU0DD0ytlGUZTQCo6kst\\u002fTFNAkKD4MeZSU0D3Bl+YTFlTQF1txf6yX1NAw9MrZRlmU0AqOpLLf2xTQJCg+DHmclNA9wZfmEx5U0BdbcX+sn9TQMPTK2UZhlNAKjqSy3+MU0CQoPgx5pJTQPcGX5hMmVNAXW3F\\u002frKfU0DD0ytlGaZTQCo6kst\\u002frFNAkKD4MeayU0D3Bl+YTLlTQF1txf6yv1NAw9MrZRnGU0AqOpLLf8xTQJCg+DHm0lNA9wZfmEzZU0BdbcX+st9TQMPTK2UZ5lNAKjqSy3\\u002fsU0CQoPgx5vJTQPcGX5hM+VNAXW3F\\u002frL\\u002fU0DD0ytlGQZUQCo6kst\\u002fDFRAkKD4MeYSVED3Bl+YTBlUQF1txf6yH1RAw9MrZRkmVEAqOpLLfyxUQJCg+DHmMlRA9wZfmEw5VEBdbcX+sj9UQMPTK2UZRlRAKjqSy39MVECQoPgx5lJUQPcGX5hMWVRAXW3F\\u002frJfVEDD0ytlGWZUQCo6kst\\u002fbFRAkKD4MeZyVED3Bl+YTHlUQF1txf6yf1RAw9MrZRmGVEAqOpLLf4xUQJCg+DHmklRA9wZfmEyZVEBdbcX+sp9UQMPTK2UZplRAKjqSy3+sVECQoPgx5rJUQPcGX5hMuVRAXW3F\\u002frK\\u002fVEDD0ytlGcZUQCo6kst\\u002fzFRAkKD4MebSVED3Bl+YTNlUQF1txf6y31RAw9MrZRnmVEAqOpLLf+xUQJCg+DHm8lRA9wZfmEz5VEBdbcX+sv9UQMPTK2UZBlVAKjqSy38MVUCQoPgx5hJVQPcGX5hMGVVAXW3F\\u002frIfVUDD0ytlGSZVQCo6kst\\u002fLFVAkKD4MeYyVUD3Bl+YTDlVQF1txf6yP1VAw9MrZRlGVUAqOpLLf0xVQJCg+DHmUlVA9wZfmExZVUBdbcX+sl9VQMPTK2UZZlVAKjqSy39sVUCQoPgx5nJVQPcGX5hMeVVAXW3F\\u002frJ\\u002fVUDD0ytlGYZVQCo6kst\\u002fjFVAkKD4MeaSVUD3Bl+YTJlVQF1txf6yn1VAw9MrZRmmVUAqOpLLf6xVQJCg+DHmslVA9wZfmEy5VUBdbcX+sr9VQMPTK2UZxlVAKjqSy3\\u002fMVUCQoPgx5tJVQPcGX5hM2VVAXW3F\\u002frLfVUDD0ytlGeZVQCo6kst\\u002f7FVAkKD4MebyVUD3Bl+YTPlVQF1txf6y\\u002f1VAw9MrZRkGVkAqOpLLfwxWQJCg+DHmElZA9wZfmEwZVkBdbcX+sh9WQMPTK2UZJlZAKjqSy38sVkCQoPgx5jJWQPcGX5hMOVZAXW3F\\u002frI\\u002fVkDD0ytlGUZWQCo6kst\\u002fTFZAkKD4MeZSVkD3Bl+YTFlWQF1txf6yX1ZAw9MrZRlmVkAqOpLLf2xWQJCg+DHmclZA9wZfmEx5VkBdbcX+sn9WQMPTK2UZhlZAKjqSy3+MVkCQoPgx5pJWQPcGX5hMmVZAXW3F\\u002frKfVkDD0ytlGaZWQCo6kst\\u002frFZAkKD4MeayVkD3Bl+YTLlWQF1txf6yv1ZAw9MrZRnGVkAqOpLLf8xWQJCg+DHm0lZA9wZfmEzZVkBdbcX+st9WQMPTK2UZ5lZAKjqSy3\\u002fsVkCQoPgx5vJWQPcGX5hM+VZAXW3F\\u002frL\\u002fVkDD0ytlGQZXQCo6kst\\u002fDFdAkKD4MeYSV0D3Bl+YTBlXQF1txf6yH1dAw9MrZRkmV0AqOpLLfyxXQJCg+DHmMldA9wZfmEw5V0BdbcX+sj9XQMPTK2UZRldAKjqSy39MV0CQoPgx5lJXQPcGX5hMWVdAXW3F\\u002frJfV0DD0ytlGWZXQCo6kst\\u002fbFdAkKD4MeZyV0D3Bl+YTHlXQF1txf6yf1dAw9MrZRmGV0AqOpLLf4xXQJCg+DHmkldA9wZfmEyZV0BdbcX+sp9XQMPTK2UZpldAKjqSy3+sV0CQoPgx5rJXQPcGX5hMuVdAXW3F\\u002frK\\u002fV0DD0ytlGcZXQCo6kst\\u002fzFdAkKD4MebSV0D3Bl+YTNlXQF1txf6y31dAw9MrZRnmV0AqOpLLf+xXQJCg+DHm8ldA9wZfmEz5V0BdbcX+sv9XQMPTK2UZBlhAKjqSy38MWECQoPgx5hJYQPcGX5hMGVhAXW3F\\u002frIfWEDD0ytlGSZYQCo6kst\\u002fLFhAkKD4MeYyWED3Bl+YTDlYQF1txf6yP1hAw9MrZRlGWEAqOpLLf0xYQJCg+DHmUlhA9wZfmExZWEBdbcX+sl9YQMPTK2UZZlhAKjqSy39sWECQoPgx5nJYQPcGX5hMeVhAXW3F\\u002frJ\\u002fWEDD0ytlGYZYQCo6kst\\u002fjFhAkKD4MeaSWED3Bl+YTJlYQF1txf6yn1hAw9MrZRmmWEAqOpLLf6xYQJCg+DHmslhA9wZfmEy5WEBdbcX+sr9YQMPTK2UZxlhAKjqSy3\\u002fMWECQoPgx5tJYQPcGX5hM2VhAXW3F\\u002frLfWEDD0ytlGeZYQCo6kst\\u002f7FhAkKD4MebyWED3Bl+YTPlYQF1txf6y\\u002f1hAw9MrZRkGWUAqOpLLfwxZQJCg+DHmEllA9wZfmEwZWUBdbcX+sh9ZQMPTK2UZJllAKjqSy38sWUCQoPgx5jJZQPcGX5hMOVlAXW3F\\u002frI\\u002fWUDD0ytlGUZZQCo6kst\\u002fTFlAkKD4MeZSWUD3Bl+YTFlZQF1txf6yX1lAw9MrZRlmWUAqOpLLf2xZQJCg+DHmcllA9wZfmEx5WUBdbcX+sn9ZQMPTK2UZhllAKjqSy3+MWUCQoPgx5pJZQPcGX5hMmVlAXW3F\\u002frKfWUDD0ytlGaZZQCo6kst\\u002frFlA9wZfmEy5WUBdbcX+sr9ZQMPTK2UZxllAKjqSy3\\u002fMWUCQoPgx5tJZQPcGX5hM2VlAXW3F\\u002frLfWUDD0ytlGeZZQCo6kst\\u002f7FlAkKD4MebyWUD3Bl+YTPlZQF1txf6y\\u002f1lAw9MrZRkGWkAqOpLLfwxaQJCg+DHmElpA9wZfmEwZWkBdbcX+sh9aQMPTK2UZJlpAKjqSy38sWkCQoPgx5jJaQPcGX5hMOVpAXW3F\\u002frI\\u002fWkDD0ytlGUZaQCo6kst\\u002fTFpAkKD4MeZSWkD3Bl+YTFlaQF1txf6yX1pAw9MrZRlmWkAqOpLLf2xaQJCg+DHmclpA9wZfmEx5WkBdbcX+sn9aQMPTK2UZhlpAKjqSy3+MWkCQoPgx5pJaQPcGX5hMmVpAXW3F\\u002frKfWkDD0ytlGaZaQCo6kst\\u002frFpAkKD4MeayWkD3Bl+YTLlaQF1txf6yv1pAw9MrZRnGWkAqOpLLf8xaQJCg+DHm0lpA9wZfmEzZWkBdbcX+st9aQMPTK2UZ5lpAKjqSy3\\u002fsWkCQoPgx5vJaQPcGX5hM+VpAXW3F\\u002frL\\u002fWkDD0ytlGQZbQCo6kst\\u002fDFtAkKD4MeYSW0D3Bl+YTBlbQF1txf6yH1tAw9MrZRkmW0AqOpLLfyxbQJCg+DHmMltA9wZfmEw5W0BdbcX+sj9bQMPTK2UZRltAKjqSy39MW0CQoPgx5lJbQPcGX5hMWVtAXW3F\\u002frJfW0DD0ytlGWZbQCo6kst\\u002fbFtAkKD4MeZyW0D3Bl+YTHlbQF1txf6yf1tAw9MrZRmGW0AqOpLLf4xbQJCg+DHmkltA9wZfmEyZW0BdbcX+sp9bQMPTK2UZpltAKjqSy3+sW0CQoPgx5rJbQPcGX5hMuVtAXW3F\\u002frK\\u002fW0DD0ytlGcZbQCo6kst\\u002fzFtAkKD4MebSW0D3Bl+YTNlbQF1txf6y31tAw9MrZRnmW0AqOpLLf+xbQJCg+DHm8ltA9wZfmEz5W0BdbcX+sv9bQMPTK2UZBlxAKjqSy38MXECQoPgx5hJcQPcGX5hMGVxAXW3F\\u002frIfXEDD0ytlGSZcQCo6kst\\u002fLFxAkKD4MeYyXED3Bl+YTDlcQF1txf6yP1xAw9MrZRlGXEAqOpLLf0xcQJCg+DHmUlxA9wZfmExZXEBdbcX+sl9cQMPTK2UZZlxAKjqSy39sXECQoPgx5nJcQPcGX5hMeVxAXW3F\\u002frJ\\u002fXEDD0ytlGYZcQCo6kst\\u002fjFxAkKD4MeaSXED3Bl+YTJlcQF1txf6yn1xAw9MrZRmmXEAqOpLLf6xcQJCg+DHmslxA9wZfmEy5XEBdbcX+sr9cQMPTK2UZxlxAKjqSy3\\u002fMXECQoPgx5tJcQPcGX5hM2VxAXW3F\\u002frLfXEDD0ytlGeZcQCo6kst\\u002f7FxAkKD4MebyXED3Bl+YTPlcQF1txf6y\\u002f1xAw9MrZRkGXUAqOpLLfwxdQJCg+DHmEl1A9wZfmEwZXUBdbcX+sh9dQMPTK2UZJl1AKjqSy38sXUCQoPgx5jJdQPcGX5hMOV1AXW3F\\u002frI\\u002fXUDD0ytlGUZdQCo6kst\\u002fTF1AkKD4MeZSXUD3Bl+YTFldQF1txf6yX11Aw9MrZRlmXUAqOpLLf2xdQJCg+DHmcl1A9wZfmEx5XUBdbcX+sn9dQMPTK2UZhl1AKjqSy3+MXUCQoPgx5pJdQPcGX5hMmV1AXW3F\\u002frKfXUDD0ytlGaZdQCo6kst\\u002frF1AkKD4MeayXUD3Bl+YTLldQF1txf6yv11Aw9MrZRnGXUAqOpLLf8xdQJCg+DHm0l1A9wZfmEzZXUBdbcX+st9dQMPTK2UZ5l1AKjqSy3\\u002fsXUCQoPgx5vJdQPcGX5hM+V1AXW3F\\u002frL\\u002fXUDD0ytlGQZeQCo6kst\\u002fDF5AkKD4MeYSXkD3Bl+YTBleQF1txf6yH15Aw9MrZRkmXkAqOpLLfyxeQJCg+DHmMl5A9wZfmEw5XkBdbcX+sj9eQMPTK2UZRl5AKjqSy39MXkCQoPgx5lJeQPcGX5hMWV5AXW3F\\u002frJfXkDD0ytlGWZeQCo6kst\\u002fbF5AkKD4MeZyXkD3Bl+YTHleQF1txf6yf15Aw9MrZRmGXkAqOpLLf4xeQJCg+DHmkl5A9wZfmEyZXkBdbcX+sp9eQMPTK2UZpl5AKjqSy3+sXkCQoPgx5rJeQPcGX5hMuV5AXW3F\\u002frK\\u002fXkDD0ytlGcZeQCo6kst\\u002fzF5AkKD4MebSXkD3Bl+YTNleQF1txf6y315Aw9MrZRnmXkAqOpLLf+xeQJCg+DHm8l5A9wZfmEz5XkBdbcX+sv9eQMPTK2UZBl9AKjqSy38MX0CQoPgx5hJfQPcGX5hMGV9AXW3F\\u002frIfX0DD0ytlGSZfQCo6kst\\u002fLF9AkKD4MeYyX0D3Bl+YTDlfQF1txf6yP19Aw9MrZRlGX0AqOpLLf0xfQJCg+DHmUl9A9wZfmExZX0BdbcX+sl9fQMPTK2UZZl9AKjqSy39sX0CQoPgx5nJfQPcGX5hMeV9AXW3F\\u002frJ\\u002fX0DD0ytlGYZfQCo6kst\\u002fjF9AkKD4MeaSX0D3Bl+YTJlfQF1txf6yn19Aw9MrZRmmX0AqOpLLf6xfQJCg+DHmsl9A9wZfmEy5X0BdbcX+sr9fQMPTK2UZxl9AKjqSy3\\u002fMX0CQoPgx5tJfQPcGX5hM2V9AXW3F\\u002frLfX0DD0ytlGeZfQCo6kst\\u002f7F9AkKD4MebyX0D3Bl+YTPlfQF1txf6y\\u002f19A4umVsgwDYEAVHcnlPwZgQEhQ\\u002fBhzCWBAe4MvTKYMYECutmJ\\u002f2Q9gQOLplbIME2BAFR3J5T8WYEBIUPwYcxlgQHuDL0ymHGBArrZif9kfYEDi6ZWyDCNgQBUdyeU\\u002fJmBASFD8GHMpYEB7gy9MpixgQK62Yn\\u002fZL2BA4umVsgwzYEAVHcnlPzZgQEhQ\\u002fBhzOWBAe4MvTKY8YECutmJ\\u002f2T9gQOLplbIMQ2BAFR3J5T9GYEBIUPwYc0lgQHuDL0ymTGBArrZif9lPYEDi6ZWyDFNgQBUdyeU\\u002fVmBASFD8GHNZYEB7gy9MplxgQK62Yn\\u002fZX2BA4umVsgxjYEAVHcnlP2ZgQEhQ\\u002fBhzaWBAe4MvTKZsYECutmJ\\u002f2W9gQOLplbIMc2BAFR3J5T92YEBIUPwYc3lgQHuDL0ymfGBArrZif9l\\u002fYEDi6ZWyDINgQBUdyeU\\u002fhmBASFD8GHOJYEB7gy9MpoxgQK62Yn\\u002fZj2BA4umVsgyTYEAVHcnlP5ZgQEhQ\\u002fBhzmWBAe4MvTKacYECutmJ\\u002f2Z9gQOLplbIMo2BAFR3J5T+mYEBIUPwYc6lgQHuDL0ymrGBArrZif9mvYEDi6ZWyDLNgQBUdyeU\\u002ftmBASFD8GHO5YEB7gy9MprxgQK62Yn\\u002fZv2BA4umVsgzDYEAVHcnlP8ZgQEhQ\\u002fBhzyWBAe4MvTKbMYECutmJ\\u002f2c9gQOLplbIM02BAFR3J5T\\u002fWYEBIUPwYc9lgQHuDL0ym3GBArrZif9nfYEDi6ZWyDONgQBUdyeU\\u002f5mBASFD8GHPpYEB7gy9MpuxgQK62Yn\\u002fZ72BA4umVsgzzYEAVHcnlP\\u002fZgQEhQ\\u002fBhz+WBAe4MvTKb8YECutmJ\\u002f2f9gQOLplbIMA2FAFR3J5T8GYUBIUPwYcwlhQHuDL0ymDGFArrZif9kPYUDi6ZWyDBNhQBUdyeU\\u002fFmFASFD8GHMZYUB7gy9MphxhQK62Yn\\u002fZH2FA4umVsgwjYUAVHcnlPyZhQEhQ\\u002fBhzKWFAe4MvTKYsYUCutmJ\\u002f2S9hQOLplbIMM2FAFR3J5T82YUBIUPwYczlhQHuDL0ymPGFArrZif9k\\u002fYUDi6ZWyDENhQBUdyeU\\u002fRmFASFD8GHNJYUB7gy9MpkxhQK62Yn\\u002fZT2FA4umVsgxTYUAVHcnlP1ZhQEhQ\\u002fBhzWWFAe4MvTKZcYUCutmJ\\u002f2V9hQOLplbIMY2FAFR3J5T9mYUBIUPwYc2lhQHuDL0ymbGFArrZif9lvYUDi6ZWyDHNhQBUdyeU\\u002fdmFASFD8GHN5YUB7gy9MpnxhQK62Yn\\u002fZf2FA4umVsgyDYUAVHcnlP4ZhQEhQ\\u002fBhziWFAe4MvTKaMYUCutmJ\\u002f2Y9hQOLplbIMk2FAFR3J5T+WYUBIUPwYc5lhQHuDL0ymnGFArrZif9mfYUDi6ZWyDKNhQBUdyeU\\u002fpmFASFD8GHOpYUB7gy9MpqxhQK62Yn\\u002fZr2FA4umVsgyzYUAVHcnlP7ZhQEhQ\\u002fBhzuWFAe4MvTKa8YUCutmJ\\u002f2b9hQOLplbIMw2FAFR3J5T\\u002fGYUBIUPwYc8lhQHuDL0ymzGFArrZif9nPYUDi6ZWyDNNhQBUdyeU\\u002f1mFASFD8GHPZYUB7gy9MptxhQK62Yn\\u002fZ32FA4umVsgzjYUAVHcnlP+ZhQEhQ\\u002fBhz6WFAe4MvTKbsYUCutmJ\\u002f2e9hQOLplbIM82FAFR3J5T\\u002f2YUBIUPwYc\\u002flhQHuDL0ym\\u002fGFArrZif9n\\u002fYUDi6ZWyDANiQBUdyeU\\u002fBmJASFD8GHMJYkB7gy9MpgxiQK62Yn\\u002fZD2JA4umVsgwTYkAVHcnlPxZiQEhQ\\u002fBhzGWJAe4MvTKYcYkCutmJ\\u002f2R9iQOLplbIMI2JAFR3J5T8mYkBIUPwYcyliQHuDL0ymLGJArrZif9kvYkDi6ZWyDDNiQBUdyeU\\u002fNmJASFD8GHM5YkB7gy9MpjxiQK62Yn\\u002fZP2JA4umVsgxDYkAVHcnlP0ZiQEhQ\\u002fBhzSWJAe4MvTKZMYkCutmJ\\u002f2U9iQOLplbIMU2JAFR3J5T9WYkBIUPwYc1liQHuDL0ymXGJArrZif9lfYkDi6ZWyDGNiQBUdyeU\\u002fZmJASFD8GHNpYkB7gy9MpmxiQK62Yn\\u002fZb2JA4umVsgxzYkAVHcnlP3ZiQEhQ\\u002fBhzeWJAe4MvTKZ8YkCutmJ\\u002f2X9iQOLplbIMg2JAFR3J5T+GYkBIUPwYc4liQHuDL0ymjGJArrZif9mPYkDi6ZWyDJNiQBUdyeU\\u002flmJASFD8GHOZYkB7gy9MppxiQK62Yn\\u002fZn2JA4umVsgyjYkAVHcnlP6ZiQEhQ\\u002fBhzqWJAe4MvTKasYkCutmJ\\u002f2a9iQOLplbIMs2JAFR3J5T+2YkBIUPwYc7liQHuDL0ymvGJArrZif9m\\u002fYkDi6ZWyDMNiQA==\"},\"y\":{\"dtype\":\"f8\",\"bdata\":\"APC9FSFeD0AAC7cP7iwSwICfnV+q5xbAgDa4o4nDJ0DAn6x8V3AtwACy1vCk3yFAwDrxcXnHIEAAgXq7tRwIwABY0zQL1hfAgCFFHluoHMAAJKRd4035P8Ah1hd\\u002f2i9AgDunrDJPF8AAsKijES3nP4CjGA5NoBBAAJzoAqKA678AyJqQ+woewAD8AUynIOs\\u002fgDRDT0CIGMAArHiyMNUJwIAY7LWi2hJAANT6a4vu5z9AYKGMnpokwIDb3YM3NSlAALdI5\\u002fJEHMCA29+QUckvQABw96RtU8A\\u002fgNBYwSHhIUAAmI7QAhoAQMDKc4TkmyfAAMU5MZepA0DgNyh71oszwAD04ErD+gbAwHTbPRU\\u002fJEDA6hUqCLIrQADC10Gr1v+\\u002fAFAIhl98xr8AziEcjcz1P8DI74PMVSjAAEe33m\\u002fPDEBgP57QhjIwQABfPSjk5AZAgMXnBHlrEsAA4T9l9MkfQMCXqN7u3hnAAID6CC5b\\u002fD8A1En\\u002fM7XrvwBHSQYOLylAQDwUlbWqJMAA3WBAsCQRwADY\\u002fYwdPgfAAAGG91Q1FUAArKdp+8T3vyBlUSicEi3AAPqWWMYHLsBgpxTwz3UpwICHI84y9ShAYEiQodyLLcCAmIjs6+EKwOC0OyOLYiFAgBLvMG3OJ0BArtsK9MEmQEApxTEQExLAgMkr1RbjBUCAGyvIqjkXQFCmvB\\u002fCgzRAYPo0NpzZJ8Cgo6GmVigjwAAW44L1AOK\\u002fALvUmafHCkBgTE9dun40wIBLS9m7uQRAgEZA1MW8HECAxSuaJTIuQICLH9zDKinAgOPCDAuqGcAAkqXi2cEAwACgWoz\\u002f6eO\\u002fYEzbVs0BMMAAzFUqn+gQQIC2WNd2dhrAANq7Llm14T8ABNkMkFwSQEACHSi4LBvAAO9ClivDIkDA\\u002fFJWu3MWwAAl2LF94Pm\\u002fAI9F3bXsK0AANcHebCf\\u002fvwBgBGhIxrI\\u002fQBND5lEBEsCAzWabfL4JwEBS45442y1AgOKQNcm1DsCQoXyXWoIyQKBSpAeqByfAoNxiEQ7SJMBAO1EMAZ4TQCAl\\u002fpHJ8CjAAN8DenpTLMDw9osTsf0wwID88gMp\\u002fAPAQOYxCdStLkBAhiIWANoYQAARNNexSfI\\u002fAKxUVzT4K0CAx1BJ+LkAwADLZ\\u002fj\\u002fbg1AEGpUT6gpPUCANb0+HbYtQMCME2kENjBAAGjOMGA+CcBALtylnz4fQIAtlWxEmhxAAAhzcYFYDMAA99KVDkEPwID2DDrrdQlAAIDSOXSdtz8ABWbVy9b6PwCBKGHd7QrAQFMgfET9EkDAGvi4beIWQMCW4Z759zTAkD3+RstLNECA2bvpvPQpQECuPC7lqStAAGSFObLD4b\\u002fg0fekQu0rwMBX7rb6\\u002fSnAAOGTaXQVPcDggsu7j7Q6wBDGIlglhEHA4J71IcXiOMAwzwI3hkRBwOBefqGSLi\\u002fAwO5WtCwJEsAAg2qFCqctQEA6jSZ06CdAAKPBXOyzOUCQYXauwbIxQPBpkm8CYEFAOOmXrgwJSEAw4LnfwCtGQABIecMmh+g\\u002fAL+PDMEXKUDwQ98vkeU5QLBAoy6l7DHAQFU5vvNiFUBA+CT\\u002fFs0fQKAyNRZ3+yDAQJ9Ff0pOHsCAg8oZOkwRQECGaWi6jzDAoPSm6IC+M8CAduB6yK0IwEDGQt1fsRFAAPCqxlxeL8Ag6d3up\\u002fIrwICrUXz2SSDAoPyu16CCKcCAGmsgNjMlwAA0XKXLG\\u002fk\\u002fADjLF3TnCUAAwahKZ475vwCi9f\\u002ffPg5AYGpScaAqI8AAfVIFK3IFQECwB\\u002fjNBxdAsMTu93tEPsD43mMhNFNFwADpT1+KKjPAwL+9hhscN8Cg8qP2Os84wID5VReAnC7AQDjfsRZMI8Bg5n1QeHszwGAbWavKFyrAQOVAIBP8I8AA6\\u002fTATSoMwMBt9Uvr7hxAAErHW46y\\u002fj\\u002fg0hnoWrUlwACCAB\\u002fZ9xdAQLw74JWoKkCwzXOVn2YyQAB6aNByfQ9AuB\\u002fu3+ZASUB4YsphpX9GQOAKfCj3oz9AQHEC9uerSEDg0zn1NHNNQAAY0YmiB0hA1Dn2zN3XUEBYrudsFCVLQIBJiCZUtkBAYHBhHOj\\u002fNUCgD6aqsGw8wLgZ8tNqIFXAYLFIaotrTsCALYyq2x1PwLDIg6k\\u002fVU\\u002fA0PmBWjsuQMBgW3dwd5M3wICzkFRueTLAgPyeV3QLK8AgdvBlMTcoQDAm6IKMpz9AQApiAoT8FkBgCWRf9+8vQACLby1qkAbAAGIni5f08b+A5q2hPfonwADXkORjUwjAQChm8KFSI0DAumYn5Zo1QABI3uulmQjAgCXtQQpTGEBAWGpbnbwXQIDZCA7wWTZAYNmhmgSELEAwCInrU641QNDeJqZGwjZAwNPo0AbzMUBAGgGaS4U7QBCJJolK0zFAYPpxnXsHK0Cg34a7vBgoQICPn6KEdBBAgLM3Ov5eGsBAxTM9fngvwFDWuEItQUDAAFAK8di0BUAAjELEirjmP4ASJcq1vDDAoJvTT10xKcCALBNT5I0OwCCSIK34SiVAAAEEUkcdAMCAnpPCKigMwAA+Urdmyf+\\u002fwDEhnMQuM8BApvDvbhcTwICagffo4BJAAMVt1n\\u002frAsCABBTVdKMXwED2UqiwJSnAoFyoQrefK8AA1DmLUPH4v0B+i5b6fjrAgM93zQIfAkAgAOaRCJMkwGB1vlyFmyDAwCf1Lha\\u002fPcAAwv5p5T\\u002f7vwDryGPo3w1AgGpE+\\u002f9NAcBQsim6Sb45wKAJeoju9SHAQNM291SHHcDg1cU1vHgqwCCkl\\u002fBecybAAH9aB8tdAcDgfXRSCSk3wFA+lqYg+zDAwAlHW219IsDAp4FAzjkbQIA1f0d1fiTAgDiaYIBdG0AA3Z0pqrUjQIBu6t7Q3gRAwJ\\u002fqEKAVJEAANbvu7f\\u002f0v6DCQAfnPSRAAFkTrAOc\\u002fD\\u002fgcSgQB+Y3QMD7qEY9QS5AME221WlbNEAwROP5cAU5QEDBBU5aOxjAQL0qUpsoGUCQhvbfxSM3wOBpNpz2BS\\u002fAQHKJyR72NcCAXQ7n2ggkwOBOwAE2h0HAQJ7gJS4OMMAwynR2V2pBwOCPE51GIyjAABiowXPK\\u002fD\\u002fAqwn6aUQlwACCegQg5\\u002f4\\u002fAHMlcPX4CsDAnrEt2KElwMBXyhIpKyzAwJyAVY6FF8AAQVtnK4wlQIDiv8zJpwLAgKoQYdRdAUBA+CA2rsMYwIBegv\\u002faFgrAwKJoIi1sJ0AAmJ88pdfjP4AvmRSqnBXAgOecgrOZI8Dwyuipz2wywAAaISUOaeo\\u002fgKzYrGOeFECAoTGdCZcXQACLzzsSFwdAILAcyJRPJUAADlAiTJnuv+C8geIAZkPAgA04qRFMJsAACLkhhHgiwADA3YwyosK\\u002fgJq2iu4qLsAAwMIzenr1P4DjO5DhjQPAQGww9qtHGMAAZIcF+UEAwIC7HZs+Si1AwGq1SW8uKEBA7KXpKywlQGD3xArezy5AwNoxJ8KdJkDQjYcCv9o0QACWbsEVxRhAALjS+p5P3L9wBMofsicwQIBQknbzlA5AQDYj4j8nEcDAyP4PlQYtQKAUzWLEyzhAQIgj+gqjN0DgvuFmfKUxQEDHwivcAzRAUJtnudiQOEDQ9laws643QFhGBdtnYUNA4LqYCKJmNkAgvSmjP2A4QAC2X+aLMhFAgLgVfFnsLsAAevhEK6Q4wIDuu5\\u002fE1y\\u002fAABq8b8xFFsCAQw1niCAeQIDyYmefqyxAAOw99Z8dAcDAoZ5diwgwQACGAdGkg\\u002fW\\u002fQIa2TsiSG0CA2w+1EzcNQAA7Q4xpVgdAAHRBfc60HsCACMpvr20kwMCasS0aADRAwGB8iULcJkDAIcOsZMUgQMCMUnYcoB5AIKvQYYPYKUCQMG1cIws9QNB86Cs2gDhAQM1QdFLfNECAGEyjiqUjQACXFyIg0xzAwNdiaDgkKsAA+PEd0nXYP6BdoweVJj7AgP3Qhy87LMAAwa2U1\\u002fQRwAAQrc5ZsyPAgDg8ZcTiFUAAjnyikMHsP6CSKBw8nDXA0HIcr\\u002fR1NMAg3uKYEAQhwAA8gJO5od+\\u002fAFDfk5bu+r9gVbGtdVQywIDeaMrI503AoGbC7NM4SMCANTwPRMo4wICwreV53jTAgErEpsgeOMAgYhs5gGc7wMAx9ekuAkHAYAGyVV5BNsAAkEV4rYnNP8A\\u002fyzM6LiBAIMTnRZr1LUAAhEt4vRb4v4DQxSu+sS5AQGCXERS2JUAA\\u002f95ZvFEbQMC7rU7kDS5AALRtitwO5L+AYHdORJkfQOAQ+mGpLTLAQKAbgal1EsAgC3hfbRowQLCoUOtaIkJAAEM77D+DPUAQXWTzEyZdwPiQP7ISdGjAkNfZ8YXoaMBAkumxj09lwHANdHrA42PA4E6WlXkjVsAAcJVzmUkwwKCK370Da0nAYJd2pdoAQ8AQe+1FOspJwMB5ea3PNCnAoAgb7CkNIsBAzxph\\u002fF8TwDBmgnl7ADFAIKz28\\u002fhlLkAAn+vodpALwDBp2F426zVAAEj7PeZxDkDAOS\\u002fBeh8nQODAm8htyThAoNiMTaTiLUBAl4TAkPwcQICLPf\\u002fWuy5AoCA6dNXrI0Agk75rwBIlQABY0XwpqQ1AAFIHn9sCAUBAaGKcVHwtwADJsUFRaylAAH+18AwTJcBAR\\u002fDIkR82wMD0twVjiDrAAP3ov11cCEAAT5LNGzjyP6ClvtlI6TFAYERWu45gMUB4bfWexYBFQDgV96cTf0JACLLW0vWPT0AA\\u002fPJdYLFAQCC\\u002f\\u002ffy4wTVAQG3dD+tQFUAA0i51UP8oQOBED\\u002fPFFi9AYLCShAc7KEAA\\u002fD9xm5kNwIAiZZk\\u002fuyjAwJkOYd3CG0Agt8wcEN4owAC0F+x2+BjAgOpcvCw1BcAAWMDigsLSvyBf4tHJXSTAQPnXGmcKFMDgVgZTZrQswIAbnJL5uDDAwLeWF2tqG8CAqSDWCHkUwIAgB95jLxVA4HEll\\u002fRGIcAgzreXO8MnwNB\\u002fFCAOCDpAEEOtoUCrQUAg3XZOTmoxQKCikRAnST9AYOu+UC0YOUCg4OvTka4pQNATkjv4OjNAYBEkEzsFMEBQLoja1Ik\\u002fQCBQxmDDHkVAkG4t5uIYMkCAIFVnToseQCC8ABsm\\u002fzhAIKVOTMMmLUAAmXA1Zq0JwMBIJ4YqUy5AgOloc83wB0AAMhQPj6wTwGCo4OGIGSdAgD6NLCj1JEDASk0hE3oQQAAnjH0ZkwJAgOYf5QFiG8BABSDvvgQtQIDXA963GxvAwIGKUVwrJUAgTxv3lBYgwABQHYcgxg3AgAVPVsGfEcCA5sp+VscwQFCc6z+bAz7AgC2c98SbL8AAgtZPBTUbQADF+CZ0FRJAwKwx7Iu9G0AgPowRcccqwAAQpacu1\\u002fG\\u002fgKl\\u002f4apsH8AglBKE0RAkwMCgh1LKQTDAYDFBjMkmK8CAqkXaErAiwEBK0neQVjbA8HjCKup5NcAAjh15zpwZwIAiQe\\u002fenSTA4NxicDCRIcCAZwX+dgw6wDD9A32IczvAYBoUlpY5KsBAiBE4JQIqwCD6tO\\u002fMZDXAQGNpMtlsEEAAl3UoHOj6PwDcwXuZOhvAAPalQ5OeJ8CAPkUlU2YRQPDrCx3\\u002fZjTAgNFgyqwzD8AAcNOpVQDCPwBsDgTOchTAANXYRIjF9D\\u002fgf1GKTH4twICtqO9XHR3AAK6DqgrnMsCAnkjkrTkCwEBkifC1IS5AQFWYAgDCLEAQuq9KI6MzQAB0efYHgAFAgAECKLNNGMCA70SZ4h4qwMCyhroXyxvAAOqmIplZ57\\u002fAEJX9ulQvwACvLmp1R\\u002fK\\u002fMD0isFlLOMDwJb1NEAsywEC20m5eJzrAoCk9J45cMMDgUZxoVqokwEBWbO8wahjAYMaRW8uHIEDgOjwRC1YwwICr0KYzDxLAoFnOcYSYLsAQnSYLqSEwwMAYTf5K5yLA0JleFzb\\u002fNcBgs5fiY7ImwGBCfydm9CJAAGjidyXtxD8AqDtkNLsdQID9XckBtjHAQEF6K8UHKcBAGvEKVLkywIAEOG2dxhBAoBVrk3YGMMBA0+mZoP9EQBCdO6pxtVpA4OgzNJsKYUAAsi1PPxYywOBMbHph3DbAwBb8PVDiMUAA6qZrfNQDQABhzo0CoBBAQBVeg388IUAgI6mn9fhKQGCjG791sEFAAM7gZhGJIMAARRCukeDyvwAGZvpLSvE\\u002f4JqpkV7rJ0AAMGIx2gjivwDYUZl7zMw\\u002fAEgKd2P3F0AAAAOXVEkQQIB4Q8G+8wJAANiEGUJSJECwuH0Kjp4wQIB5VHW0TCRAgCvFg8+OC0CACUnGJOQhwCCJSLd6nSDAAFT6easy5T9g6vQYYmwnQMCjoKkYYRvAgO+lcLqXBsCAVl1MJPcTwEDWwycDKyfAAA2ixchiB8AAqhtfDEH0v4CWO49WtCNAAJR79Z4NBsBAovPDcjkQQMAPmloSvy\\u002fAAITe3AXFKEAAcHsIds++PwAqMLwISPi\\u002fAAptlk958j8AFadetlggwADwoqB89Lu\\u002fAIocgbQdAcDgtPXJTYkxQED5GaazYDRAANA2kcVKMkBg0Rt9kH43QECSNwtRpy9AAMPVqTUcF8CgKZi6VnUhwMCqE7XQzxDAgPU\\u002fAifBBkCA1vDTN9sVwIDvP7rS5wJAgN6RV84rFsCAGnRVtp0CQMAlGdQ5ACxAYATap0nrMEAAZ7u7SqACQAB+FXMRjThAIHiz5cAOMUAA6xQT9\\u002fHyP4B\\u002fjwTpSjFAgKKPZ945GUAARv1S9YrmP7ASSnnYeDDAAOm8JNKX\\u002f7\\u002fAOoYndRsqwADpoxCyEBhAAFzy28TY7L+QUalCwcEwwDDR7Ne0ZDfAgOSMl\\u002fLIEsAAorsgetMowHDhiYS3FTHAAK6c8Q3m5z8AeAuX88EkwIBOEse4PTrAoIoEqbrQLMAA9xkpAqQBwKD7TIrssjFAIOITAOL+OUCQ3xgq74tAQEBtgQgQLjvAACLMY0NWB8DQnCCLqIw4wICmzpke9zjAACMaQ6v\\u002f9D8AzFu7wvw8wIAb2vy7lRjAgHuouMeEHEAAob3ZqlY7QEATS+St8jFAALe8nAaUOECA9ZnCey0MwHBe0si4bDLAwJw\\u002froQaEMAATowJOegywCDUcOIaRybAQITGWSdXOsAARAsJgbkMwIAXuEQhlyrAwPf0P4JZE8AAHdPJo3wMwCCUme9pUybAAFgZzpWrG8DAsFm58VcuwCAWrdVCEiTAAFbGr1ggNMBQFbsn7Uo8wMDl3ONslCDAkML4oL0QMMAAmrqI2d8iwACcGSntf\\u002fg\\u002fAKj0VFLl2b8A+DKeam7pv4Dwev9gWTFAoBUdsoLjNEAgIEQbj\\u002fxWQISedX6VSmJAMMaP5xK9W0CQngtU9rFAQMCC8MQj6SFAyHl6RJbEUEA4g13zGfFWQFD3a2kBf2VAMNyiIV7MXkBoXD8nK3hiQIC95pfrY1ZAALR5d\\u002f8TR0Cg0auEFUZBQACpXo9T5yxAAPEiLefTWkBwLal0FJVjQNC0GjXiS1tAsNYw1HbrQEAAilxQvnYdwACeMbzI8Ok\\u002f8H8XZ+0MOcDgrpQ2LyAnQOB2Z35eWixAkDfO32\\u002fkNMAA5PdjB5rjPxBNNDJGjjdAQBmTrWRCJEAA\\u002fl0v9FogQADeBtIcUPS\\u002fwLkDwXAFGUAYUUFkAJxBwAAAGHiR4MG\\u002fANUmS\\u002fjPH8Bg4cU3MIokwAAOG5Lhyui\\u002fgKaXn+e9JcCA4N9+YnsBwMDsYVHbtivAQFaHmaEpH0CAjK5YJHkYwMDu965dPjzA4MMNPA4RIEBACXakRPcswADwVlVe4QnAQK\\u002fNgOQFJEDA2N7klq0XwEAjjBGMhRlAADqXfrT3G8BAk9gixzoxwGAidCMIKCTAgIDWGIr6FsAAFNixLOf3P2AfrwJ5uTpAYMBa6g\\u002fmQkCweAER+I1AQNAuuSb1kkRAYEXb3EL0J0CAs3C\\u002fRvISQCBrRtbKayJAgInyDJ+kC0BAtg7VHrIjwIBWDFYE0g9AADbjEa4aH8CQsapwpyIxwAAwMLfTnAFAAJcXxGbYMcCAr079SospwADRBRGlGBnAsMUwevflMEAAoMUXsRK7vwCSEwLPjQXAAO+ZDSixF8CgpS82PKEwwABUF2CLw\\u002fO\\u002fgH2u6jT8LcCApcNnepsEQOAn9byI1yJAAK7new2V+j8AazRETfciwADEQbuGAv+\\u002f4GFXrNUiMMAACWbYV9X2v8C\\u002fAjDEzhvAoLoUxzInJ8CgCZSFaBQowPBPStGRLD\\u002fAwJ0gnSVIPcCQla\\u002fGpZU4wACtzfUWvivAwLAI9k+qN8Ag1Ql2o\\u002f8vwICVNy9qUi7AQI7QskphMsAAixCoGWUNwKB9WLpzYCfAQDNEhnHqMMDAxs+o3rYQQACEWn2n0ta\\u002fAH972jDr8L8QxA8W9KAwwAAAn9j3URDAwOqfZ9wkGsAAUn4n0u0bQPAbKcA6iDZAQGE41MIBN0DgkG+WsuNWQBCqn0E9wV5AsGBrkqfMYUCgGLi3+JtoQODWUGJk4mlA0BG1csJUXkCwlI\\u002fvhJZHQADcDT9gAhRAQGxb2waaFEAAXcy5X30ewACSSHge2BDAAKsaqxTnKMDQXCWuxaQzwAC8Nu24GBzAILKWgX6UIUAAMbL\\u002fvm8cQKDfr2meVC\\u002fAgG4bXfX1EcCAs1YcAmYUwAASky+W6Ou\\u002fIPjljIK0I8BAhPP06eEfwNC2mgFpFDjAwLUL1gRoE8DwUpmIF2I2wED\\u002fvfEvlxPAAIjLjQDm+D+QnF2Fyis2wCC03dPE0zbAgAhBzVw3CMBAAi45WDcfwADYCpEgUBXAQHGCpVnDJsAA5rDZlRD8PwBFUKYJmBXAEJsyLabSNcAAwZdHsE8OwECWkb2KzBPAAFFkN9SHI8AgvLaZ2gU2wAAqL\\u002fN13zzAcNgilF+GMsBgVRJRZYg7wOCdLr3xvivAAFDVYjM8KcCwB7WUU2k6wGANsBQZUCBAQNum0m2fPUBgt91GvMNBQABIveRQvi5AoIXY0hOZR0AALOTBeZI+QIA1bD01KAzAgB60fazQBsCABTRMnBYIwIAT+XxS2BTAgGYcYinXAsAAacav+Lf9PyAQBzgF\\u002fCPA4HeRoNmxKMAAysXEHyQZwCD1mJlLKTjAQLqI3e32EMBweeL4iFw2wNB94Tf3ajXA8O7h8SktNMAAwDX1A2AlwIBWc6fpSDbAQKeT\\u002ffeaMcBwLg9Bug80wDDn1V9Jjz7A4CvKikOJLMAgRZWHKVwiwEConypKdRXAUHqweohLNcBguY+qkvklwADMplwGcg5AwAe1wWvZI8DA\\u002fLJIITglQABYGT3OfxDAgM5iSyc0KsAA2qPJYeX7vyC2w\\u002f5v0SFAgETo8XPxJkCgaz79vjQxQADzyl\\u002fSSC1AgDbWJhm\\u002fHkAATAp4vwkPwAD2\\u002fOKkNhFAwB5Pnzt6LMAAO4\\u002fp7KYbQAAsVlAOCvS\\u002fIHc+5v8KMEAAhHlisQsiQEibGeSlGUJAAHO3U2ZGOkCowJHVhbxEQGjDDxMbRlNAAOCKy3ugyb+A2VESsz1GwMAe093mATJAADzw16tHLECgQ8VJf6QzQMAFm07M9khA0AaKiLrfSkBwqnEe51RHQMCtN5lArSxAwEzRpOsHKEAAgRBlHQ4rQABD1WkRgRxAgDT2+4XFCMCAdwGAUSgCwAD6W+9OLgpAoCgilR3hLEAIBEWAkuRQQKTGYuuqB1pAAAX6M1dGW0BAnSzUKjtQQABwJi5d1kBA4CXw90E6NkAAterOmhUSwAC83w1l1yrAwGrQJLMXKsCAv63aFV08QEAtJN1YZhlAAI9EnEdwLMDgALzZyEIkQIB5Szv9WgrAIGZ3GlNPJkDgO6AQWK4gwECS1QaUzyBAwPC4RHVYFECAUcXb3\\u002fsvQABNS6HR7R\\u002fAQILPeghJIUAISRXZRDhBQAANEljNdxJAwLcJ7kJ0KEBgXeiM31YkQADRoSY5bgFAgCI+D9T1DUAABzaaBbocQCBITfllRilAYCpotiVMIcAAFiXcw6MNQKAA3tOrXSbAwA3o0OhLEMAglkeite8twCCh0A2JozfAAIIkSk48EkAAoOSLk1cXQIB0Kql9Hg5AAECv6bpnlr8A6K3vq20RQEDsZdIMWRnAQL\\u002frcnFKHUAAlvWeMqMhQEBPb61BbShAgM3l4kAbLUAgcxeA5zREQACcQ9XVTkdAwD3n83tAQkDQrzgRpi0xQGBXLryosidAAAheH4Nf4r+g5B8MGbcoQADYgqmcvdg\\u002fIO1y8ou0LEDwbaCUTX8wQCAwxexdYTdAAHFMiWbaC0AAsHApuZ\\u002fevwBieiNnYARAoM8vtJHcJ8AA5wJmLPsFwIDZWGG3bS3AQKc0pQH6PcAADNW2cqENwAAiyLOOvu6\\u002fQDpvUBvgJsAAVMRX9pwgwEBUGz+Z\\u002fhZAgL0JGxulGkBA2TwJdKUiQADJjyCIavO\\u002fAF0tfoTBDMBgxcKWsUYvQED3CVM4mSBAgLMdKb9sH0CQFQjxX6lNwACq85ibugPAYDO6ALyTN0CA7Vc2kYo2QID+\\u002fkr5qCLAAKAC+WhV+b+gnOhK8lI9QBgyQEANzEJAYGq3otbRP0AA9otd5Wf7P8Cghw5N5DFAACBllvg5BkDAscQgx\\u002f0tQAAkGZI+uxzAgOIb2E4CE8AAWoNMJmYgwMCLIcxo7xzAAARLHL3L378AOMg2U+jHvwCwIqahc\\u002fe\\u002fABLPECkBAEAAq2UDDsAewIDEXidxGijAAIQUtbWeNcDgxLvXo\\u002fQrwKD5XWIsXjXAQOgA4GIIHsDgfE55\\u002feAmwKC0w2+j0CVAAOhcGyNw3T+AIWv7iI8dwICodN1FCibAALiLwqu6BkAAgXD8wC4QQAAcj2MmXwbAwL6QOlWtJcCAED4MUOguwMCJakT8FBRAINNZuHbjM0Ags7g7lConQIDs6FjWDSVAANWn0\\u002f6G8L9AnZsnAkkpQMB+jJyhIihAwNkRJINdOcDAnwSkNr5CwPALKwDKGEHAwBXJVqyBNMAADvMqfX3jv2ATDbH4mS5AAKXFw9lq+7+AT5qdbD8uQECV8fn4fStAQHFT0a3SIUDAkk5SAmopQABJqOyAlCjAgLgNg2NIDEAAVX+MnRcgQABLFo2AwynAwLQlfQtIHEAAALpRRtkSwMCmIhH+yx\\u002fA8G7pxdPtMMAA9w41EcwiwIDDNVXr7BrAwIedZg0QJcDAo+dFkzwcwEAGnhdtgSfAAIjjd2Oc0T+g6r4+DPY+wBB6xASaykXAQJa2nO+zIcAAqJTjQxAEwAB9KawpUP0\\u002fAL+DocFs9L8A1J1qFagjwABhCRVQNfu\\u002fwEhtK1pWEMCgVU4xzFAjQCAbmKgv7yFAMI2bNyMEMsBASoyu7g8pQKCMO1woSypA4J8JVWCtMcCAx\\u002fjF84kPwACEt8tprxhAgEDSVouEKsAANkTSpwj2PwB6ML68XS5AgGTop79MK0AARzuozD0ZQABODZjZRe+\\u002fgMDSe7m9AMCAwm2neigbwIDx6cP5hhDAMOTBGEmjMsCQFuMP4Dw2QMA5UN+k1SPAgEVfuPs1EsCAnpYXG+AfQIA1m0HO9hlAgFc8+5vOJkDgLbeS07cpwMCZ3LI8oBHAgH5cZInMLkBgMmUdwywvwADEaEgubjPA0DOj1KbFOsCA+LufJH0KwIDI4c8R+QXAYJVUpb1bIcAAAP0UojqGv0CHGL\\u002fDyBpAAIWZa5Z6KsDgzYUW6NshwACkYalKiuu\\u002fgGqLlUuUBMAADWlM2YUUwIAELNmV2B3AoNTF9hxGIkCAUNCl2O4bQEA1WysM3R3AAOrxXv7VDMAARI5yTQnRP0Ag4HZOwSjAAKjIRicG0L\\u002fgFF6FaGQuQCC\\u002fYasbujVA4C5ao42eKkBACPzaDwAZQFA6YzbXAjVAIDwnFKBVLEBA2sy67qYyQACSxURbS+4\\u002fAEkJL\\u002fe6B8Agzi7j9ws\\u002fwCBfcRiYpjlAQGsrKJkoQMAADkgHhtMJwAAcRhia9u+\\u002f4NE1jSOYM8DgiqhNNw4mwIAfjT0gkCzAQIb2z4QdFEAA9gfFxHkZwPC\\u002f16U4ADTAAH4TWIkqIsCghol6bGg0wAAYZ6vrJMQ\\u002fAN0IYR14\\u002f7+AivHKLJUSwIAuLt\\u002fRch7A0DWwcyrNMMBA+P9mOU0ywEAMvSxx7SXAgMYh8InTGsBAGx5KLYUowACW\\u002f75WfO+\\u002fgLODrF7OD8AAhS9Jhm8LQCDQIthudCXAQJuic76kEkAgoi4MTZgwwABT8UvYDTfAYH7P2FgqMcDQFSBU\\u002fj0\\u002fwKCifmA6YEXAwGf5lvvLI8CAA0PWoX4lwIAHg5\\u002fKWBbAwEOSN8NLKcBAtboeMzcZwEDoMBJx6i3AgGM1BINjLsCAJO1EYOgEQMBr8oiT5hTAQCj0ULBGGsBATtny+OgvQIBjeULd9x9AQAuZYrBULUBgLjPvGi0nQACA8zpy9t+\\u002fgKwYoD1oJEAABAKdjYELQACQ4vXq4StAALTueqk60D\\u002fAoycfjaIsQEAILuUFyilAAIiEnKcO8b\\u002fAjkCsK3UXQEABeOWT0BDAoJZ\\u002fKG8wJ0CAKyWW+54CQABTJHtCHCJAcChNR6o\\u002fMEAAaLh0JoLcv4BTGL0AHxNAIIp7aaOZN0DwqyX1Rt0wQPBuJkHjmEFAYJcFQS0lKkA4biMGyJ9CQHC9RxGlnDhAkD2W6Dg8MUDAZ9V\\u002fvZYgwADbZVB\\u002fjBnAAJ5xK3qYLECA\\u002fsDsY\\u002fIOwKCD4ESJ\\u002fihAQAtgvjXXHkAA5rD\\u002fBd4RwMAQq58mSCZAABK0QpnBLcAg5jSwZ6AqwAAgWH0v0wPAYAOIDzDiIsAApqXx04LhPwDdPudntDLAAIaadvyM8b+AG0AYSZ4HQIDGV2PfAA5AYIBga1tWJ0AA07kqFZ4PQMBOlFqqnxjAICxht82VIUAAfRiXppIYQADcw3GFYue\\u002foLASF\\u002fu2K0Awl4d4I2YxQMB0mfwcDB9AwMJA1OpHF8AAYm9u8yf6PwBjINedevk\\u002f4BCyq8f8L0DAFOMOBiMeQICyTFg7iDZAUKe9\\u002fiYdNEDgui6j\\u002f1YgQDBLr9QoMThAQC+AYTJTOEAApKVFXlAKQAC055uQVixAsL70qaDRNUDgca0gp0EoQMDA5btTZDVAgHqYFkXJK0CArzcrPcA+QEB9IKWeXDJAALhM9BlbMUCgkIqqOcQzQADkDQbFAt+\\u002fYGMROjtnJ0AAJ8oxyUUcwAAjHoup9BrAwNjmjxG2FMBAfkQw68EVwIBkEldZhCBAAN7U6jQQBEAA7BsrnOAhQBCOPwEb4DBAgKWhG52MGEAggQEjk1MjQEDiNdmO\\u002fTZAEPLfj35IOUCQU0fJPNQ4QOBRBQXOwShAQGYfk8YkIEAAogI9kUz\\u002fv8Bk1V5zMS1AwPwpmyZqJ0CA8JykxdAMwMBA1jKqpSBAAHOHVC+JEUAAICegHwPfvwDizBkWmvS\\u002f0IrJKy7KPUDAD1tLBLEWwEBO9+jgkRzA4CaUV7eRKcAAsHF1I88TwACnOylHQPS\\u002f4Gm+jz0YNcBATHrtHWAtwADWxBvd1vA\\u002foKJF8UQvKsAAmQuXme39vyDwW4fxRSnAQLvJn7muFEBAKBMasfkQwAAjmsfPo\\u002fq\\u002fYOK9ghw4M0Dgzs\\u002f7FtkjQMD3wCzktRfAQLDDQCvzFECgBLZFdWcgQCBLfDvH7CRAQOkqOErtG0DgzJrDGlkkQHA\\u002folUmrzhAAE9HWbiw8j9ADmXjLoUWQMC9jEYbDy3AgO1ERCgSQsAIfeYn1rNNwOgMzKQBs0zAYI7gpQTzQ8CQ2LsN47xHwHDkKID+yEvAgMC1MmlLSMDgedcDhPg\\u002fwECqhhvuykbAYD0hvl6MOMCwU4xT8rJMwCBxz6GWPFHAxPFHeSwaUsB4WFff0pZMwGh0tqowPVDAIH+FgS97PMCQGa44UW9AwIADylOnS0TA8Kjjm0KzQsBAtFU+GPk6wKCF6cN7BTrAsGDcM7CqMsBAjcnKelAuwCAEjjn7ISPAAKATjh6eI8Dgc5CpWGMnwAAFVZNurvS\\u002f0JjcoSVqNEAAWFpmvGLrP2DHWoc2BSxAwIUAAr1xF0AA2p6LIGo+QJCTeZASbDFAABkm1xGGFUBwgBYL3d44QOAROgbEPzNAgNHu4bKEG0BAHYW55WcnQICXpvkrQCTAYAO5fYIeJ8AA0xL325P9v4BCx+\\u002fG1yfAAJOPGUZ09L8ANKvhIEL8v0BLyDXG7ChAgIbl9K\\u002fkGcAANvTUXS0nwIBWjg\\u002fLyRPAYJryHibVKMDwUIuS86owwDjkLnjdEEbAMF+SqXNiO8AgZTaCzcUxwBDCNJoNQDnAgJ1tn+V7GkAAG3lSnKsDwAAJ5b77MgzAgBfqx\\u002fkJIECQ9\\u002fKE06owwEB9343hpDHAAH3kbm2RQMAwQ0eGTMZDwACGMqP8W\\u002fy\\u002f6Gsvk0dsQsAA\\u002funZvroTwADkehSr7RdAQOV0XopyNsAAptYrERr7vwDsVMhNdfe\\u002fAMqCd073CUCgT4Ogw1kywOAtMIGC7DXAQOgg3P+IP8CwIcM0BEE9wJDZrEhtSDrAiEiA9LBtQsDAI9iyu6YpwAByUKbk8PQ\\u002fYHEQlgIVJMAgzXAfcGgjQADUb3DeDte\\u002fsGoRjOJhN0BAsKod2BwZQICXrB6HKwdAgB6zIiweFcAA6FjayVgBwIB\\u002fj3buxCLA8Of60oKtMEBAS7TH5kAfQMDsy2K74SdAMFePXaZHNUAAxqWfxB\\u002fnvwDkWINf2yFAwGZWS1VuJ0AAmvodXRTwP4jnlGgZCUxAANO3Lk2gIkBgazyauJIiQAAuDIZ6J\\u002fw\\u002fAGLsdPOt6D9AGi4pbFMYQGBaVyTEDDDAgDYKz7b9IUAAEwWb0SAgwGC898s9OCpAAAYsIiW5CUAAvs1OCOsMQIDF6120xiLA4P6wgelKI8DATZVKxgETQECdIqoe5zDAgC\\u002fnjI1oDUCgO5vf7p8gwEAbF9yc8hbAQHkXotQFJEAAXcMb5DP8P8CszrZqRSFAgErUtP5wG0AA7hm6zQXgvwAPPGudYBJA0BURHMNIMECgUoS4sXwqQIic3va1LEBAAConRh5q7j9AS3+YTWESQECMYJ6NhChAAJeMQkRvJUCACls9TGMPQOANm1vxvDVAQOmvou6MHkDAk3Hh+mUlQADiL++znhNAoDNCqgcRLECAUpfuO6AGQIBxFjX2Wi1AQPd73mSeMUAg6SBhjk4pQIDajiaKZB5AIM2gnmYKIEBApMMxOFIhQA==\"},\"type\":\"scatter\"}],                        {\"legend\":{\"x\":1.0,\"xanchor\":\"right\",\"y\":1.0,\"yanchor\":\"top\"},\"margin\":{\"autoexpand\":true,\"b\":45,\"r\":30,\"t\":40},\"title\":{\"text\":\"Measured vs Calculated data for experiment \\ud83d\\udd2c 'd20'\"},\"xaxis\":{\"mirror\":true,\"showline\":true,\"title\":{\"text\":\"2\\u03b8 (degree)\"},\"zeroline\":false,\"tickformat\":\",.6~g\",\"separatethousands\":true},\"yaxis\":{\"mirror\":true,\"showline\":true,\"title\":{\"text\":\"Intensity (arb. units)\"},\"zeroline\":false,\"tickformat\":\",.6~g\",\"separatethousands\":true},\"template\":{\"data\":{\"histogram2dcontour\":[{\"type\":\"histogram2dcontour\",\"colorbar\":{\"outlinewidth\":0,\"ticks\":\"\"},\"colorscale\":[[0.0,\"#0d0887\"],[0.1111111111111111,\"#46039f\"],[0.2222222222222222,\"#7201a8\"],[0.3333333333333333,\"#9c179e\"],[0.4444444444444444,\"#bd3786\"],[0.5555555555555556,\"#d8576b\"],[0.6666666666666666,\"#ed7953\"],[0.7777777777777778,\"#fb9f3a\"],[0.8888888888888888,\"#fdca26\"],[1.0,\"#f0f921\"]]}],\"choropleth\":[{\"type\":\"choropleth\",\"colorbar\":{\"outlinewidth\":0,\"ticks\":\"\"}}],\"histogram2d\":[{\"type\":\"histogram2d\",\"colorbar\":{\"outlinewidth\":0,\"ticks\":\"\"},\"colorscale\":[[0.0,\"#0d0887\"],[0.1111111111111111,\"#46039f\"],[0.2222222222222222,\"#7201a8\"],[0.3333333333333333,\"#9c179e\"],[0.4444444444444444,\"#bd3786\"],[0.5555555555555556,\"#d8576b\"],[0.6666666666666666,\"#ed7953\"],[0.7777777777777778,\"#fb9f3a\"],[0.8888888888888888,\"#fdca26\"],[1.0,\"#f0f921\"]]}],\"heatmap\":[{\"type\":\"heatmap\",\"colorbar\":{\"outlinewidth\":0,\"ticks\":\"\"},\"colorscale\":[[0.0,\"#0d0887\"],[0.1111111111111111,\"#46039f\"],[0.2222222222222222,\"#7201a8\"],[0.3333333333333333,\"#9c179e\"],[0.4444444444444444,\"#bd3786\"],[0.5555555555555556,\"#d8576b\"],[0.6666666666666666,\"#ed7953\"],[0.7777777777777778,\"#fb9f3a\"],[0.8888888888888888,\"#fdca26\"],[1.0,\"#f0f921\"]]}],\"contourcarpet\":[{\"type\":\"contourcarpet\",\"colorbar\":{\"outlinewidth\":0,\"ticks\":\"\"}}],\"contour\":[{\"type\":\"contour\",\"colorbar\":{\"outlinewidth\":0,\"ticks\":\"\"},\"colorscale\":[[0.0,\"#0d0887\"],[0.1111111111111111,\"#46039f\"],[0.2222222222222222,\"#7201a8\"],[0.3333333333333333,\"#9c179e\"],[0.4444444444444444,\"#bd3786\"],[0.5555555555555556,\"#d8576b\"],[0.6666666666666666,\"#ed7953\"],[0.7777777777777778,\"#fb9f3a\"],[0.8888888888888888,\"#fdca26\"],[1.0,\"#f0f921\"]]}],\"surface\":[{\"type\":\"surface\",\"colorbar\":{\"outlinewidth\":0,\"ticks\":\"\"},\"colorscale\":[[0.0,\"#0d0887\"],[0.1111111111111111,\"#46039f\"],[0.2222222222222222,\"#7201a8\"],[0.3333333333333333,\"#9c179e\"],[0.4444444444444444,\"#bd3786\"],[0.5555555555555556,\"#d8576b\"],[0.6666666666666666,\"#ed7953\"],[0.7777777777777778,\"#fb9f3a\"],[0.8888888888888888,\"#fdca26\"],[1.0,\"#f0f921\"]]}],\"mesh3d\":[{\"type\":\"mesh3d\",\"colorbar\":{\"outlinewidth\":0,\"ticks\":\"\"}}],\"scatter\":[{\"fillpattern\":{\"fillmode\":\"overlay\",\"size\":10,\"solidity\":0.2},\"type\":\"scatter\"}],\"parcoords\":[{\"type\":\"parcoords\",\"line\":{\"colorbar\":{\"outlinewidth\":0,\"ticks\":\"\"}}}],\"scatterpolargl\":[{\"type\":\"scatterpolargl\",\"marker\":{\"colorbar\":{\"outlinewidth\":0,\"ticks\":\"\"}}}],\"bar\":[{\"error_x\":{\"color\":\"#2a3f5f\"},\"error_y\":{\"color\":\"#2a3f5f\"},\"marker\":{\"line\":{\"color\":\"white\",\"width\":0.5},\"pattern\":{\"fillmode\":\"overlay\",\"size\":10,\"solidity\":0.2}},\"type\":\"bar\"}],\"scattergeo\":[{\"type\":\"scattergeo\",\"marker\":{\"colorbar\":{\"outlinewidth\":0,\"ticks\":\"\"}}}],\"scatterpolar\":[{\"type\":\"scatterpolar\",\"marker\":{\"colorbar\":{\"outlinewidth\":0,\"ticks\":\"\"}}}],\"histogram\":[{\"marker\":{\"pattern\":{\"fillmode\":\"overlay\",\"size\":10,\"solidity\":0.2}},\"type\":\"histogram\"}],\"scattergl\":[{\"type\":\"scattergl\",\"marker\":{\"colorbar\":{\"outlinewidth\":0,\"ticks\":\"\"}}}],\"scatter3d\":[{\"type\":\"scatter3d\",\"line\":{\"colorbar\":{\"outlinewidth\":0,\"ticks\":\"\"}},\"marker\":{\"colorbar\":{\"outlinewidth\":0,\"ticks\":\"\"}}}],\"scattermap\":[{\"type\":\"scattermap\",\"marker\":{\"colorbar\":{\"outlinewidth\":0,\"ticks\":\"\"}}}],\"scattermapbox\":[{\"type\":\"scattermapbox\",\"marker\":{\"colorbar\":{\"outlinewidth\":0,\"ticks\":\"\"}}}],\"scatterternary\":[{\"type\":\"scatterternary\",\"marker\":{\"colorbar\":{\"outlinewidth\":0,\"ticks\":\"\"}}}],\"scattercarpet\":[{\"type\":\"scattercarpet\",\"marker\":{\"colorbar\":{\"outlinewidth\":0,\"ticks\":\"\"}}}],\"carpet\":[{\"aaxis\":{\"endlinecolor\":\"#2a3f5f\",\"gridcolor\":\"#C8D4E3\",\"linecolor\":\"#C8D4E3\",\"minorgridcolor\":\"#C8D4E3\",\"startlinecolor\":\"#2a3f5f\"},\"baxis\":{\"endlinecolor\":\"#2a3f5f\",\"gridcolor\":\"#C8D4E3\",\"linecolor\":\"#C8D4E3\",\"minorgridcolor\":\"#C8D4E3\",\"startlinecolor\":\"#2a3f5f\"},\"type\":\"carpet\"}],\"table\":[{\"cells\":{\"fill\":{\"color\":\"#EBF0F8\"},\"line\":{\"color\":\"white\"}},\"header\":{\"fill\":{\"color\":\"#C8D4E3\"},\"line\":{\"color\":\"white\"}},\"type\":\"table\"}],\"barpolar\":[{\"marker\":{\"line\":{\"color\":\"white\",\"width\":0.5},\"pattern\":{\"fillmode\":\"overlay\",\"size\":10,\"solidity\":0.2}},\"type\":\"barpolar\"}],\"pie\":[{\"automargin\":true,\"type\":\"pie\"}]},\"layout\":{\"autotypenumbers\":\"strict\",\"colorway\":[\"#636efa\",\"#EF553B\",\"#00cc96\",\"#ab63fa\",\"#FFA15A\",\"#19d3f3\",\"#FF6692\",\"#B6E880\",\"#FF97FF\",\"#FECB52\"],\"font\":{\"color\":\"#2a3f5f\"},\"hovermode\":\"closest\",\"hoverlabel\":{\"align\":\"left\"},\"paper_bgcolor\":\"white\",\"plot_bgcolor\":\"white\",\"polar\":{\"bgcolor\":\"white\",\"angularaxis\":{\"gridcolor\":\"#EBF0F8\",\"linecolor\":\"#EBF0F8\",\"ticks\":\"\"},\"radialaxis\":{\"gridcolor\":\"#EBF0F8\",\"linecolor\":\"#EBF0F8\",\"ticks\":\"\"}},\"ternary\":{\"bgcolor\":\"white\",\"aaxis\":{\"gridcolor\":\"#DFE8F3\",\"linecolor\":\"#A2B1C6\",\"ticks\":\"\"},\"baxis\":{\"gridcolor\":\"#DFE8F3\",\"linecolor\":\"#A2B1C6\",\"ticks\":\"\"},\"caxis\":{\"gridcolor\":\"#DFE8F3\",\"linecolor\":\"#A2B1C6\",\"ticks\":\"\"}},\"coloraxis\":{\"colorbar\":{\"outlinewidth\":0,\"ticks\":\"\"}},\"colorscale\":{\"sequential\":[[0.0,\"#0d0887\"],[0.1111111111111111,\"#46039f\"],[0.2222222222222222,\"#7201a8\"],[0.3333333333333333,\"#9c179e\"],[0.4444444444444444,\"#bd3786\"],[0.5555555555555556,\"#d8576b\"],[0.6666666666666666,\"#ed7953\"],[0.7777777777777778,\"#fb9f3a\"],[0.8888888888888888,\"#fdca26\"],[1.0,\"#f0f921\"]],\"sequentialminus\":[[0.0,\"#0d0887\"],[0.1111111111111111,\"#46039f\"],[0.2222222222222222,\"#7201a8\"],[0.3333333333333333,\"#9c179e\"],[0.4444444444444444,\"#bd3786\"],[0.5555555555555556,\"#d8576b\"],[0.6666666666666666,\"#ed7953\"],[0.7777777777777778,\"#fb9f3a\"],[0.8888888888888888,\"#fdca26\"],[1.0,\"#f0f921\"]],\"diverging\":[[0,\"#8e0152\"],[0.1,\"#c51b7d\"],[0.2,\"#de77ae\"],[0.3,\"#f1b6da\"],[0.4,\"#fde0ef\"],[0.5,\"#f7f7f7\"],[0.6,\"#e6f5d0\"],[0.7,\"#b8e186\"],[0.8,\"#7fbc41\"],[0.9,\"#4d9221\"],[1,\"#276419\"]]},\"xaxis\":{\"gridcolor\":\"#EBF0F8\",\"linecolor\":\"#EBF0F8\",\"ticks\":\"\",\"title\":{\"standoff\":15},\"zerolinecolor\":\"#EBF0F8\",\"automargin\":true,\"zerolinewidth\":2},\"yaxis\":{\"gridcolor\":\"#EBF0F8\",\"linecolor\":\"#EBF0F8\",\"ticks\":\"\",\"title\":{\"standoff\":15},\"zerolinecolor\":\"#EBF0F8\",\"automargin\":true,\"zerolinewidth\":2},\"scene\":{\"xaxis\":{\"backgroundcolor\":\"white\",\"gridcolor\":\"#DFE8F3\",\"linecolor\":\"#EBF0F8\",\"showbackground\":true,\"ticks\":\"\",\"zerolinecolor\":\"#EBF0F8\",\"gridwidth\":2},\"yaxis\":{\"backgroundcolor\":\"white\",\"gridcolor\":\"#DFE8F3\",\"linecolor\":\"#EBF0F8\",\"showbackground\":true,\"ticks\":\"\",\"zerolinecolor\":\"#EBF0F8\",\"gridwidth\":2},\"zaxis\":{\"backgroundcolor\":\"white\",\"gridcolor\":\"#DFE8F3\",\"linecolor\":\"#EBF0F8\",\"showbackground\":true,\"ticks\":\"\",\"zerolinecolor\":\"#EBF0F8\",\"gridwidth\":2}},\"shapedefaults\":{\"line\":{\"color\":\"#2a3f5f\"}},\"annotationdefaults\":{\"arrowcolor\":\"#2a3f5f\",\"arrowhead\":0,\"arrowwidth\":1},\"geo\":{\"bgcolor\":\"white\",\"landcolor\":\"white\",\"subunitcolor\":\"#C8D4E3\",\"showland\":true,\"showlakes\":true,\"lakecolor\":\"white\"},\"title\":{\"x\":0.05},\"mapbox\":{\"style\":\"light\"}}}},                        {\"displaylogo\": false, \"modeBarButtonsToRemove\": [\"select2d\", \"lasso2d\", \"zoomIn2d\", \"zoomOut2d\", \"autoScale2d\"], \"responsive\": true}                    )                };            </script>        </div>"
      ],
      "text/plain": [
       "<IPython.core.display.HTML object>"
      ]
     },
     "metadata": {},
     "output_type": "display_data"
    }
   ],
   "source": [
    "project.plot_meas_vs_calc(expt_name='d20', show_residual=True)"
   ]
  },
  {
   "cell_type": "code",
   "execution_count": 31,
   "id": "57",
   "metadata": {
    "execution": {
     "iopub.execute_input": "2025-08-31T19:32:20.559651Z",
     "iopub.status.busy": "2025-08-31T19:32:20.559488Z",
     "iopub.status.idle": "2025-08-31T19:32:20.800747Z",
     "shell.execute_reply": "2025-08-31T19:32:20.800213Z"
    }
   },
   "outputs": [
    {
     "data": {
      "text/html": [
       "<div>                        <script type=\"text/javascript\">window.PlotlyConfig = {MathJaxConfig: 'local'};</script>\n",
       "        <script charset=\"utf-8\" src=\"https://cdn.plot.ly/plotly-3.1.0.min.js\" integrity=\"sha256-Ei4740bWZhaUTQuD6q9yQlgVCMPBz6CZWhevDYPv93A=\" crossorigin=\"anonymous\"></script>                <div id=\"7d908872-8548-40ff-9f57-02f5bdb6bb63\" class=\"plotly-graph-div\" style=\"height:100%; width:100%;\"></div>            <script type=\"text/javascript\">                window.PLOTLYENV=window.PLOTLYENV || {};                                if (document.getElementById(\"7d908872-8548-40ff-9f57-02f5bdb6bb63\")) {                    Plotly.newPlot(                        \"7d908872-8548-40ff-9f57-02f5bdb6bb63\",                        [{\"line\":{\"color\":\"rgb(31, 119, 180)\"},\"mode\":\"lines+markers\",\"name\":\"Measured (Imeas)\",\"x\":{\"dtype\":\"f8\",\"bdata\":\"h6dXyjKMREBUdCSX\\u002f5hEQCBB8WPMpURA7Q2+MJmyREC62or9Zb9EQIenV8oyzERAVHQkl\\u002f\\u002fYREAgQfFjzOVEQO0NvjCZ8kRAutqK\\u002fWX\\u002fRECHp1fKMgxFQFR0JJf\\u002fGEVAIEHxY8wlRUDtDb4wmTJFQLraiv1lP0VAh6dXyjJMRUBUdCSX\\u002f1hFQCBB8WPMZUVA7Q2+MJlyRUC62or9ZX9FQIenV8oyjEVAVHQkl\\u002f+YRUAgQfFjzKVFQO0NvjCZskVAutqK\\u002fWW\\u002fRUCHp1fKMsxFQFR0JJf\\u002f2EVAIEHxY8zlRUDtDb4wmfJFQLraiv1l\\u002f0VAh6dXyjIMRkBUdCSX\\u002fxhGQCBB8WPMJUZA7Q2+MJkyRkC62or9ZT9GQIenV8oyTEZAVHQkl\\u002f9YRkAgQfFjzGVGQO0NvjCZckZAutqK\\u002fWV\\u002fRkCHp1fKMoxGQFR0JJf\\u002fmEZAIEHxY8ylRkDtDb4wmbJGQLraiv1lv0ZAh6dXyjLMRkBUdCSX\\u002f9hGQCBB8WPM5UZA7Q2+MJnyRkC62or9Zf9GQIenV8oyDEdAVHQkl\\u002f8YR0AgQfFjzCVHQO0NvjCZMkdAutqK\\u002fWU\\u002fR0CHp1fKMkxHQFR0JJf\\u002fWEdAIEHxY8xlR0DtDb4wmXJHQLraiv1lf0dAh6dXyjKMR0BUdCSX\\u002f5hHQCBB8WPMpUdA7Q2+MJmyR0C62or9Zb9HQIenV8oyzEdAVHQkl\\u002f\\u002fYR0AgQfFjzOVHQO0NvjCZ8kdAutqK\\u002fWX\\u002fR0CHp1fKMgxIQFR0JJf\\u002fGEhAIEHxY8wlSEDtDb4wmTJIQLraiv1lP0hAh6dXyjJMSEBUdCSX\\u002f1hIQCBB8WPMZUhA7Q2+MJlySEC62or9ZX9IQIenV8oyjEhAVHQkl\\u002f+YSEAgQfFjzKVIQO0NvjCZskhAutqK\\u002fWW\\u002fSECHp1fKMsxIQFR0JJf\\u002f2EhAIEHxY8zlSEDtDb4wmfJIQLraiv1l\\u002f0hAh6dXyjIMSUBUdCSX\\u002fxhJQCBB8WPMJUlA7Q2+MJkySUC62or9ZT9JQIenV8oyTElAVHQkl\\u002f9YSUAgQfFjzGVJQO0NvjCZcklAutqK\\u002fWV\\u002fSUCHp1fKMoxJQFR0JJf\\u002fmElAIEHxY8ylSUDtDb4wmbJJQLraiv1lv0lAh6dXyjLMSUBUdCSX\\u002f9hJQCBB8WPM5UlA7Q2+MJnySUC62or9Zf9JQIenV8oyDEpAVHQkl\\u002f8YSkAgQfFjzCVKQO0NvjCZMkpAutqK\\u002fWU\\u002fSkCHp1fKMkxKQFR0JJf\\u002fWEpAIEHxY8xlSkDtDb4wmXJKQLraiv1lf0pAh6dXyjKMSkBUdCSX\\u002f5hKQCBB8WPMpUpA7Q2+MJmySkC62or9Zb9KQIenV8oyzEpAVHQkl\\u002f\\u002fYSkAgQfFjzOVKQO0NvjCZ8kpAutqK\\u002fWX\\u002fSkA=\"},\"y\":{\"dtype\":\"f8\",\"bdata\":\"Vg4tsp2De0ACK4cW2bJ8QCcxCKwcWn1AYhBYObRKfUBKDAIrh+58QPT91HjpGH1ArkfhehRofUBMN4lBYGd9QIcW2c73g35Aw\\u002fUoXI8UfkC8dJMYBPB\\u002fQC2yne+nWIFASOF6FK45hEBCYOXQIliIQKAaL90kO4xAEoPAyqGmjUBt5\\u002fup8WyMQAAAAAAAeYlArkfhehSEhUCsHFpkOx2DQOf7qfHSeoBAi2zn+6l7f0BmZmZmZpx\\u002fQLbz\\u002fdR494BABoGVQ4tQgkDJdr6fGniDQF66SQwCXIRAi2zn+6nEgkBSuB6F6+iAQKrx0k1i\\u002fH5Ake18PzXQfUBMN4lBYGV+QNV46SYxpH5ACKwcWmQsgEBU46WbxNuBQIts5\\u002fupV4RArkfhehQWh0BxPQrXo6mIQN9PjZduSIZAPQrXo3DAg0ASg8DKoRqBQFTjpZvEFH5APzVeuklKfUAzMzMzM2l8QCPb+X5q3npAc2iR7Xz9ekArhxbZzg98QD0K16NwtX1ArBxaZDtggEDFILByaAWDQOxRuB6FToZA3SQGgZXlikAIrBxaZPqMQLTIdr6fmYpA\\u002fKnx0k3rhUDRItv5frGBQFyPwvUoDn5Abef7qfGmfEC6SQwCK0N9QN0kBoGVd31A16NwPQoNfkBmZmZmZv59QC2yne+nooBAi2zn+6kkgkCamZmZmYmDQF66SQwCQIRAsHJoke3UgkBg5dAi23SBQKjGSzeJb35AeekmMQjcfUBcj8L1KKR\\u002fQOXQItv5koJAEoPAyqHziEAhsHJokZqRQMP1KFyPjpxAQmDl0KJMpUCyne+nBqCqQBkEVg4tvatAGy\\u002fdJAZ4qUD4U+OlW8akQLbz\\u002fdT44ZxAI9v5fuqgkkCNl24Sgx2HQLKd76fGhoFAexSuR+EmfkCPwvUoXOV8QOXQItv52n1A2\\u002fl+aryafUDhehSuR118QAAAAAAA5n1ARIts5\\u002fu3fEAGgZVDiyp9QG3n+6nx9n1A0SLb+X5UfUAnMQisHNh8QMHKoUW2ZX1ArBxaZDtRfUAzMzMzM1V+QKRwPQrXUYBACKwcWmQEg0A\\u002fNV66SUSGQPhT46WbKYpAhetRuB6kiUDufD81XnmGQOxRuB6FfoJARrbz\\u002fdR5gEDFILByaMt9QPYoXI\\u002fCt31ArBxaZDtffUAfhetRuOx+QGDl0CLbpX5AMQisHFpRgEBYObTIdop\\u002fQPYoXI\\u002fC6X9A46WbxCDQf0CwcmiR7S6AQLTIdr6fvn9AgZVDi2xhfkCq8dJNYoB8QGiR7Xw\\u002ff3tA+n5qvHSHfEB9PzVeukN7QDVeukkMontAiUFg5dDYe0AxCKwcWvx7QBkEVg4tXHtArBxaZDute0A\\u002fNV66SRZ7QKwcWmQ773pAiUFg5dCMe0A=\"},\"type\":\"scatter\"},{\"line\":{\"color\":\"rgb(214, 39, 40)\"},\"mode\":\"lines\",\"name\":\"Total calculated (Icalc)\",\"x\":{\"dtype\":\"f8\",\"bdata\":\"h6dXyjKMREBUdCSX\\u002f5hEQCBB8WPMpURA7Q2+MJmyREC62or9Zb9EQIenV8oyzERAVHQkl\\u002f\\u002fYREAgQfFjzOVEQO0NvjCZ8kRAutqK\\u002fWX\\u002fRECHp1fKMgxFQFR0JJf\\u002fGEVAIEHxY8wlRUDtDb4wmTJFQLraiv1lP0VAh6dXyjJMRUBUdCSX\\u002f1hFQCBB8WPMZUVA7Q2+MJlyRUC62or9ZX9FQIenV8oyjEVAVHQkl\\u002f+YRUAgQfFjzKVFQO0NvjCZskVAutqK\\u002fWW\\u002fRUCHp1fKMsxFQFR0JJf\\u002f2EVAIEHxY8zlRUDtDb4wmfJFQLraiv1l\\u002f0VAh6dXyjIMRkBUdCSX\\u002fxhGQCBB8WPMJUZA7Q2+MJkyRkC62or9ZT9GQIenV8oyTEZAVHQkl\\u002f9YRkAgQfFjzGVGQO0NvjCZckZAutqK\\u002fWV\\u002fRkCHp1fKMoxGQFR0JJf\\u002fmEZAIEHxY8ylRkDtDb4wmbJGQLraiv1lv0ZAh6dXyjLMRkBUdCSX\\u002f9hGQCBB8WPM5UZA7Q2+MJnyRkC62or9Zf9GQIenV8oyDEdAVHQkl\\u002f8YR0AgQfFjzCVHQO0NvjCZMkdAutqK\\u002fWU\\u002fR0CHp1fKMkxHQFR0JJf\\u002fWEdAIEHxY8xlR0DtDb4wmXJHQLraiv1lf0dAh6dXyjKMR0BUdCSX\\u002f5hHQCBB8WPMpUdA7Q2+MJmyR0C62or9Zb9HQIenV8oyzEdAVHQkl\\u002f\\u002fYR0AgQfFjzOVHQO0NvjCZ8kdAutqK\\u002fWX\\u002fR0CHp1fKMgxIQFR0JJf\\u002fGEhAIEHxY8wlSEDtDb4wmTJIQLraiv1lP0hAh6dXyjJMSEBUdCSX\\u002f1hIQCBB8WPMZUhA7Q2+MJlySEC62or9ZX9IQIenV8oyjEhAVHQkl\\u002f+YSEAgQfFjzKVIQO0NvjCZskhAutqK\\u002fWW\\u002fSECHp1fKMsxIQFR0JJf\\u002f2EhAIEHxY8zlSEDtDb4wmfJIQLraiv1l\\u002f0hAh6dXyjIMSUBUdCSX\\u002fxhJQCBB8WPMJUlA7Q2+MJkySUC62or9ZT9JQIenV8oyTElAVHQkl\\u002f9YSUAgQfFjzGVJQO0NvjCZcklAutqK\\u002fWV\\u002fSUCHp1fKMoxJQFR0JJf\\u002fmElAIEHxY8ylSUDtDb4wmbJJQLraiv1lv0lAh6dXyjLMSUBUdCSX\\u002f9hJQCBB8WPM5UlA7Q2+MJnySUC62or9Zf9JQIenV8oyDEpAVHQkl\\u002f8YSkAgQfFjzCVKQO0NvjCZMkpAutqK\\u002fWU\\u002fSkCHp1fKMkxKQFR0JJf\\u002fWEpAIEHxY8xlSkDtDb4wmXJKQLraiv1lf0pAh6dXyjKMSkBUdCSX\\u002f5hKQCBB8WPMpUpA7Q2+MJmySkC62or9Zb9KQIenV8oyzEpAVHQkl\\u002f\\u002fYSkAgQfFjzOVKQO0NvjCZ8kpAutqK\\u002fWX\\u002fSkA=\"},\"y\":{\"dtype\":\"f8\",\"bdata\":\"L5u1sTrIe0C8NAdupMp7QN1f22VgzXtA3te1iYPQe0Bc8JNkL9R7QIDRGLar2HtA+c1K7wbfe0Dfx4MGdex7QLxteNPKF3xAFWqfOyWufEDq2GAeAGp+QMHy0NdCNoFAKjhrel+1hEASJA0rRB2JQFoKru+DuoxARvufYy3TjUDmzC2ZsDCMQDZ0YoJRBolAmoXWGjKVhUCeJ20J95yCQKp8EsSUhYBAcpKs2l4Nf0CvRvw++GF\\u002fQHuwcWsi4IBA7gOQ4PSNgkDrnn1d0cmDQIgt3DoBvINACHvB8ThpgkDLq2vy1aWAQHen+dvhgX5AOGhuJHEBfUBDZMILrpR8QAjxKsQtHH1APEv0jNMKf0DyshhxLo2BQLmbKzxQkYRADdOCXKV+h0Ayf8YclaaIQMxqyj+jOYdAM072YV0xhECU3ul5iz6BQNRLG2pfsn5AXUTJqL7yfEDs9OFq0lp8QE1kvEAuOHxAoC+DONxEfEAcnt1d75d8QEzqOxJZvX1AVAykr7JtgEBwqx0gDJiDQNTfXqsBLYhAR0vSvyJpjEC0jZZ6tsCNQDg2pI2TQItAUMwnGESshkDi\\u002faP7uoyCQMqagGk3F4BAgwdXjwcLfkAIQV3MeT99QN\\u002fKZ68j9nxAtmVBa10dfUDqsd4jfRZ+QOua7vbgJ4BACg+hq9HNgUCc2+Ug9lKDQG8DD3vKx4NAHQ6LSPHZgkCf9jOaqDWBQLZna81jkn9A+lcr194lfkCqDssfgqJ+QFrGbSzUcIFA+qhey4cHiEDy9ain8myTQOLncLIRnZ9Au\\u002f0CMCvbpkDWNg6j\\u002f\\u002fSrQPBE\\u002fRVp+6xAkuGJ8SEpqkDYfsrY7uakQAvw7PJQrZ1A3o8lVPE4k0A+b822JrqIQJmDpeaZ64FAwOwOl0q3fkDMLXoa3DJ9QIKqiiPyynxAekTfooynfEAfUuabaJR8QG15EppMh3xAtJTwGhh7fEA4B4xtj3F8QF8rcs1aanxADLxu12llfEDKHgZpKmR8QGXep43Xb3xAp0u4uNyxfECaPtUvnax9QEyfwOAtNIBAtqR9fmHzgkDgvs8MO7qGQNSM3GDuw4lAgcEU7Gr4iUAo\\u002f4bDWiqHQJIR5jbIUoNASc0zoHhhgEB2juJWMLl9QJw+wAEumXxAZrikeDJJfEBw1wyenzx8QLkC0q34VXxAITr9frWwfEDY2fW8SnR9QARNjP+mjX5ALjBcGN16f0DQbief4JV\\u002fQI1O3o7pxX5A\\u002fv8eT5SffUCicbWElbt8QHy6uHkZRXxAk0TmRmkYfEA2pRvfqgp8QAW9aiXuBXxAXvvYPjsDfEBHuGS9CgF8QBIX5Vwb\\u002f3tAkXzFAGX9e0D2Z\\u002fbs7Pt7QGTeg\\u002f3K+ntAaJy+kXr6e0A=\"},\"type\":\"scatter\"},{\"line\":{\"color\":\"rgb(44, 160, 44)\"},\"mode\":\"lines\",\"name\":\"Residual (Imeas - Icalc)\",\"x\":{\"dtype\":\"f8\",\"bdata\":\"h6dXyjKMREBUdCSX\\u002f5hEQCBB8WPMpURA7Q2+MJmyREC62or9Zb9EQIenV8oyzERAVHQkl\\u002f\\u002fYREAgQfFjzOVEQO0NvjCZ8kRAutqK\\u002fWX\\u002fRECHp1fKMgxFQFR0JJf\\u002fGEVAIEHxY8wlRUDtDb4wmTJFQLraiv1lP0VAh6dXyjJMRUBUdCSX\\u002f1hFQCBB8WPMZUVA7Q2+MJlyRUC62or9ZX9FQIenV8oyjEVAVHQkl\\u002f+YRUAgQfFjzKVFQO0NvjCZskVAutqK\\u002fWW\\u002fRUCHp1fKMsxFQFR0JJf\\u002f2EVAIEHxY8zlRUDtDb4wmfJFQLraiv1l\\u002f0VAh6dXyjIMRkBUdCSX\\u002fxhGQCBB8WPMJUZA7Q2+MJkyRkC62or9ZT9GQIenV8oyTEZAVHQkl\\u002f9YRkAgQfFjzGVGQO0NvjCZckZAutqK\\u002fWV\\u002fRkCHp1fKMoxGQFR0JJf\\u002fmEZAIEHxY8ylRkDtDb4wmbJGQLraiv1lv0ZAh6dXyjLMRkBUdCSX\\u002f9hGQCBB8WPM5UZA7Q2+MJnyRkC62or9Zf9GQIenV8oyDEdAVHQkl\\u002f8YR0AgQfFjzCVHQO0NvjCZMkdAutqK\\u002fWU\\u002fR0CHp1fKMkxHQFR0JJf\\u002fWEdAIEHxY8xlR0DtDb4wmXJHQLraiv1lf0dAh6dXyjKMR0BUdCSX\\u002f5hHQCBB8WPMpUdA7Q2+MJmyR0C62or9Zb9HQIenV8oyzEdAVHQkl\\u002f\\u002fYR0AgQfFjzOVHQO0NvjCZ8kdAutqK\\u002fWX\\u002fR0CHp1fKMgxIQFR0JJf\\u002fGEhAIEHxY8wlSEDtDb4wmTJIQLraiv1lP0hAh6dXyjJMSEBUdCSX\\u002f1hIQCBB8WPMZUhA7Q2+MJlySEC62or9ZX9IQIenV8oyjEhAVHQkl\\u002f+YSEAgQfFjzKVIQO0NvjCZskhAutqK\\u002fWW\\u002fSECHp1fKMsxIQFR0JJf\\u002f2EhAIEHxY8zlSEDtDb4wmfJIQLraiv1l\\u002f0hAh6dXyjIMSUBUdCSX\\u002fxhJQCBB8WPMJUlA7Q2+MJkySUC62or9ZT9JQIenV8oyTElAVHQkl\\u002f9YSUAgQfFjzGVJQO0NvjCZcklAutqK\\u002fWV\\u002fSUCHp1fKMoxJQFR0JJf\\u002fmElAIEHxY8ylSUDtDb4wmbJJQLraiv1lv0lAh6dXyjLMSUBUdCSX\\u002f9hJQCBB8WPM5UlA7Q2+MJnySUC62or9Zf9JQIenV8oyDEpAVHQkl\\u002f8YSkAgQfFjzCVKQO0NvjCZMkpAutqK\\u002fWU\\u002fSkCHp1fKMkxKQFR0JJf\\u002fWEpAIEHxY8xlSkDtDb4wmXJKQLraiv1lf0pAh6dXyjKMSkBUdCSX\\u002f5hKQCBB8WPMpUpA7Q2+MJmySkC62or9Zb9KQIenV8oyzEpAVHQkl\\u002f\\u002fYSkAgQfFjzOVKQO0NvjCZ8kpAutqK\\u002fWX\\u002fSkA=\"},\"y\":{\"dtype\":\"f8\",\"bdata\":\"QDYj4j8nEcDAyP4PlQYtQKAUzWLEyzhAQIgj+gqjN0DgvuFmfKUxQEDHwivcAzRAUJtnudiQOEDQ9laws643QFhGBdtnYUNA4LqYCKJmNkAgvSmjP2A4QAC2X+aLMhFAgLgVfFnsLsAAevhEK6Q4wIDuu5\\u002fE1y\\u002fAABq8b8xFFsCAQw1niCAeQIDyYmefqyxAAOw99Z8dAcDAoZ5diwgwQACGAdGkg\\u002fW\\u002fQIa2TsiSG0CA2w+1EzcNQAA7Q4xpVgdAAHRBfc60HsCACMpvr20kwMCasS0aADRAwGB8iULcJkDAIcOsZMUgQMCMUnYcoB5AIKvQYYPYKUCQMG1cIws9QNB86Cs2gDhAQM1QdFLfNECAGEyjiqUjQACXFyIg0xzAwNdiaDgkKsAA+PEd0nXYP6BdoweVJj7AgP3Qhy87LMAAwa2U1\\u002fQRwAAQrc5ZsyPAgDg8ZcTiFUAAjnyikMHsP6CSKBw8nDXA0HIcr\\u002fR1NMAg3uKYEAQhwAA8gJO5od+\\u002fAFDfk5bu+r9gVbGtdVQywIDeaMrI503AoGbC7NM4SMCANTwPRMo4wICwreV53jTAgErEpsgeOMAgYhs5gGc7wMAx9ekuAkHAYAGyVV5BNsAAkEV4rYnNP8A\\u002fyzM6LiBAIMTnRZr1LUAAhEt4vRb4v4DQxSu+sS5AQGCXERS2JUAA\\u002f95ZvFEbQMC7rU7kDS5AALRtitwO5L+AYHdORJkfQOAQ+mGpLTLAQKAbgal1EsAgC3hfbRowQLCoUOtaIkJAAEM77D+DPUAQXWTzEyZdwPiQP7ISdGjAkNfZ8YXoaMBAkumxj09lwHANdHrA42PA4E6WlXkjVsAAcJVzmUkwwKCK370Da0nAYJd2pdoAQ8AQe+1FOspJwMB5ea3PNCnAoAgb7CkNIsBAzxph\\u002fF8TwDBmgnl7ADFAIKz28\\u002fhlLkAAn+vodpALwDBp2F426zVAAEj7PeZxDkDAOS\\u002fBeh8nQODAm8htyThAoNiMTaTiLUBAl4TAkPwcQICLPf\\u002fWuy5AoCA6dNXrI0Agk75rwBIlQABY0XwpqQ1AAFIHn9sCAUBAaGKcVHwtwADJsUFRaylAAH+18AwTJcBAR\\u002fDIkR82wMD0twVjiDrAAP3ov11cCEAAT5LNGzjyP6ClvtlI6TFAYERWu45gMUB4bfWexYBFQDgV96cTf0JACLLW0vWPT0AA\\u002fPJdYLFAQCC\\u002f\\u002ffy4wTVAQG3dD+tQFUAA0i51UP8oQOBED\\u002fPFFi9AYLCShAc7KEAA\\u002fD9xm5kNwIAiZZk\\u002fuyjAwJkOYd3CG0Agt8wcEN4owAC0F+x2+BjAgOpcvCw1BcAAWMDigsLSvyBf4tHJXSTAQPnXGmcKFMDgVgZTZrQswIAbnJL5uDDAwLeWF2tqG8A=\"},\"type\":\"scatter\"}],                        {\"legend\":{\"x\":1.0,\"xanchor\":\"right\",\"y\":1.0,\"yanchor\":\"top\"},\"margin\":{\"autoexpand\":true,\"b\":45,\"r\":30,\"t\":40},\"title\":{\"text\":\"Measured vs Calculated data for experiment \\ud83d\\udd2c 'd20'\"},\"xaxis\":{\"mirror\":true,\"showline\":true,\"title\":{\"text\":\"2\\u03b8 (degree)\"},\"zeroline\":false,\"tickformat\":\",.6~g\",\"separatethousands\":true},\"yaxis\":{\"mirror\":true,\"showline\":true,\"title\":{\"text\":\"Intensity (arb. units)\"},\"zeroline\":false,\"tickformat\":\",.6~g\",\"separatethousands\":true},\"template\":{\"data\":{\"histogram2dcontour\":[{\"type\":\"histogram2dcontour\",\"colorbar\":{\"outlinewidth\":0,\"ticks\":\"\"},\"colorscale\":[[0.0,\"#0d0887\"],[0.1111111111111111,\"#46039f\"],[0.2222222222222222,\"#7201a8\"],[0.3333333333333333,\"#9c179e\"],[0.4444444444444444,\"#bd3786\"],[0.5555555555555556,\"#d8576b\"],[0.6666666666666666,\"#ed7953\"],[0.7777777777777778,\"#fb9f3a\"],[0.8888888888888888,\"#fdca26\"],[1.0,\"#f0f921\"]]}],\"choropleth\":[{\"type\":\"choropleth\",\"colorbar\":{\"outlinewidth\":0,\"ticks\":\"\"}}],\"histogram2d\":[{\"type\":\"histogram2d\",\"colorbar\":{\"outlinewidth\":0,\"ticks\":\"\"},\"colorscale\":[[0.0,\"#0d0887\"],[0.1111111111111111,\"#46039f\"],[0.2222222222222222,\"#7201a8\"],[0.3333333333333333,\"#9c179e\"],[0.4444444444444444,\"#bd3786\"],[0.5555555555555556,\"#d8576b\"],[0.6666666666666666,\"#ed7953\"],[0.7777777777777778,\"#fb9f3a\"],[0.8888888888888888,\"#fdca26\"],[1.0,\"#f0f921\"]]}],\"heatmap\":[{\"type\":\"heatmap\",\"colorbar\":{\"outlinewidth\":0,\"ticks\":\"\"},\"colorscale\":[[0.0,\"#0d0887\"],[0.1111111111111111,\"#46039f\"],[0.2222222222222222,\"#7201a8\"],[0.3333333333333333,\"#9c179e\"],[0.4444444444444444,\"#bd3786\"],[0.5555555555555556,\"#d8576b\"],[0.6666666666666666,\"#ed7953\"],[0.7777777777777778,\"#fb9f3a\"],[0.8888888888888888,\"#fdca26\"],[1.0,\"#f0f921\"]]}],\"contourcarpet\":[{\"type\":\"contourcarpet\",\"colorbar\":{\"outlinewidth\":0,\"ticks\":\"\"}}],\"contour\":[{\"type\":\"contour\",\"colorbar\":{\"outlinewidth\":0,\"ticks\":\"\"},\"colorscale\":[[0.0,\"#0d0887\"],[0.1111111111111111,\"#46039f\"],[0.2222222222222222,\"#7201a8\"],[0.3333333333333333,\"#9c179e\"],[0.4444444444444444,\"#bd3786\"],[0.5555555555555556,\"#d8576b\"],[0.6666666666666666,\"#ed7953\"],[0.7777777777777778,\"#fb9f3a\"],[0.8888888888888888,\"#fdca26\"],[1.0,\"#f0f921\"]]}],\"surface\":[{\"type\":\"surface\",\"colorbar\":{\"outlinewidth\":0,\"ticks\":\"\"},\"colorscale\":[[0.0,\"#0d0887\"],[0.1111111111111111,\"#46039f\"],[0.2222222222222222,\"#7201a8\"],[0.3333333333333333,\"#9c179e\"],[0.4444444444444444,\"#bd3786\"],[0.5555555555555556,\"#d8576b\"],[0.6666666666666666,\"#ed7953\"],[0.7777777777777778,\"#fb9f3a\"],[0.8888888888888888,\"#fdca26\"],[1.0,\"#f0f921\"]]}],\"mesh3d\":[{\"type\":\"mesh3d\",\"colorbar\":{\"outlinewidth\":0,\"ticks\":\"\"}}],\"scatter\":[{\"fillpattern\":{\"fillmode\":\"overlay\",\"size\":10,\"solidity\":0.2},\"type\":\"scatter\"}],\"parcoords\":[{\"type\":\"parcoords\",\"line\":{\"colorbar\":{\"outlinewidth\":0,\"ticks\":\"\"}}}],\"scatterpolargl\":[{\"type\":\"scatterpolargl\",\"marker\":{\"colorbar\":{\"outlinewidth\":0,\"ticks\":\"\"}}}],\"bar\":[{\"error_x\":{\"color\":\"#2a3f5f\"},\"error_y\":{\"color\":\"#2a3f5f\"},\"marker\":{\"line\":{\"color\":\"white\",\"width\":0.5},\"pattern\":{\"fillmode\":\"overlay\",\"size\":10,\"solidity\":0.2}},\"type\":\"bar\"}],\"scattergeo\":[{\"type\":\"scattergeo\",\"marker\":{\"colorbar\":{\"outlinewidth\":0,\"ticks\":\"\"}}}],\"scatterpolar\":[{\"type\":\"scatterpolar\",\"marker\":{\"colorbar\":{\"outlinewidth\":0,\"ticks\":\"\"}}}],\"histogram\":[{\"marker\":{\"pattern\":{\"fillmode\":\"overlay\",\"size\":10,\"solidity\":0.2}},\"type\":\"histogram\"}],\"scattergl\":[{\"type\":\"scattergl\",\"marker\":{\"colorbar\":{\"outlinewidth\":0,\"ticks\":\"\"}}}],\"scatter3d\":[{\"type\":\"scatter3d\",\"line\":{\"colorbar\":{\"outlinewidth\":0,\"ticks\":\"\"}},\"marker\":{\"colorbar\":{\"outlinewidth\":0,\"ticks\":\"\"}}}],\"scattermap\":[{\"type\":\"scattermap\",\"marker\":{\"colorbar\":{\"outlinewidth\":0,\"ticks\":\"\"}}}],\"scattermapbox\":[{\"type\":\"scattermapbox\",\"marker\":{\"colorbar\":{\"outlinewidth\":0,\"ticks\":\"\"}}}],\"scatterternary\":[{\"type\":\"scatterternary\",\"marker\":{\"colorbar\":{\"outlinewidth\":0,\"ticks\":\"\"}}}],\"scattercarpet\":[{\"type\":\"scattercarpet\",\"marker\":{\"colorbar\":{\"outlinewidth\":0,\"ticks\":\"\"}}}],\"carpet\":[{\"aaxis\":{\"endlinecolor\":\"#2a3f5f\",\"gridcolor\":\"#C8D4E3\",\"linecolor\":\"#C8D4E3\",\"minorgridcolor\":\"#C8D4E3\",\"startlinecolor\":\"#2a3f5f\"},\"baxis\":{\"endlinecolor\":\"#2a3f5f\",\"gridcolor\":\"#C8D4E3\",\"linecolor\":\"#C8D4E3\",\"minorgridcolor\":\"#C8D4E3\",\"startlinecolor\":\"#2a3f5f\"},\"type\":\"carpet\"}],\"table\":[{\"cells\":{\"fill\":{\"color\":\"#EBF0F8\"},\"line\":{\"color\":\"white\"}},\"header\":{\"fill\":{\"color\":\"#C8D4E3\"},\"line\":{\"color\":\"white\"}},\"type\":\"table\"}],\"barpolar\":[{\"marker\":{\"line\":{\"color\":\"white\",\"width\":0.5},\"pattern\":{\"fillmode\":\"overlay\",\"size\":10,\"solidity\":0.2}},\"type\":\"barpolar\"}],\"pie\":[{\"automargin\":true,\"type\":\"pie\"}]},\"layout\":{\"autotypenumbers\":\"strict\",\"colorway\":[\"#636efa\",\"#EF553B\",\"#00cc96\",\"#ab63fa\",\"#FFA15A\",\"#19d3f3\",\"#FF6692\",\"#B6E880\",\"#FF97FF\",\"#FECB52\"],\"font\":{\"color\":\"#2a3f5f\"},\"hovermode\":\"closest\",\"hoverlabel\":{\"align\":\"left\"},\"paper_bgcolor\":\"white\",\"plot_bgcolor\":\"white\",\"polar\":{\"bgcolor\":\"white\",\"angularaxis\":{\"gridcolor\":\"#EBF0F8\",\"linecolor\":\"#EBF0F8\",\"ticks\":\"\"},\"radialaxis\":{\"gridcolor\":\"#EBF0F8\",\"linecolor\":\"#EBF0F8\",\"ticks\":\"\"}},\"ternary\":{\"bgcolor\":\"white\",\"aaxis\":{\"gridcolor\":\"#DFE8F3\",\"linecolor\":\"#A2B1C6\",\"ticks\":\"\"},\"baxis\":{\"gridcolor\":\"#DFE8F3\",\"linecolor\":\"#A2B1C6\",\"ticks\":\"\"},\"caxis\":{\"gridcolor\":\"#DFE8F3\",\"linecolor\":\"#A2B1C6\",\"ticks\":\"\"}},\"coloraxis\":{\"colorbar\":{\"outlinewidth\":0,\"ticks\":\"\"}},\"colorscale\":{\"sequential\":[[0.0,\"#0d0887\"],[0.1111111111111111,\"#46039f\"],[0.2222222222222222,\"#7201a8\"],[0.3333333333333333,\"#9c179e\"],[0.4444444444444444,\"#bd3786\"],[0.5555555555555556,\"#d8576b\"],[0.6666666666666666,\"#ed7953\"],[0.7777777777777778,\"#fb9f3a\"],[0.8888888888888888,\"#fdca26\"],[1.0,\"#f0f921\"]],\"sequentialminus\":[[0.0,\"#0d0887\"],[0.1111111111111111,\"#46039f\"],[0.2222222222222222,\"#7201a8\"],[0.3333333333333333,\"#9c179e\"],[0.4444444444444444,\"#bd3786\"],[0.5555555555555556,\"#d8576b\"],[0.6666666666666666,\"#ed7953\"],[0.7777777777777778,\"#fb9f3a\"],[0.8888888888888888,\"#fdca26\"],[1.0,\"#f0f921\"]],\"diverging\":[[0,\"#8e0152\"],[0.1,\"#c51b7d\"],[0.2,\"#de77ae\"],[0.3,\"#f1b6da\"],[0.4,\"#fde0ef\"],[0.5,\"#f7f7f7\"],[0.6,\"#e6f5d0\"],[0.7,\"#b8e186\"],[0.8,\"#7fbc41\"],[0.9,\"#4d9221\"],[1,\"#276419\"]]},\"xaxis\":{\"gridcolor\":\"#EBF0F8\",\"linecolor\":\"#EBF0F8\",\"ticks\":\"\",\"title\":{\"standoff\":15},\"zerolinecolor\":\"#EBF0F8\",\"automargin\":true,\"zerolinewidth\":2},\"yaxis\":{\"gridcolor\":\"#EBF0F8\",\"linecolor\":\"#EBF0F8\",\"ticks\":\"\",\"title\":{\"standoff\":15},\"zerolinecolor\":\"#EBF0F8\",\"automargin\":true,\"zerolinewidth\":2},\"scene\":{\"xaxis\":{\"backgroundcolor\":\"white\",\"gridcolor\":\"#DFE8F3\",\"linecolor\":\"#EBF0F8\",\"showbackground\":true,\"ticks\":\"\",\"zerolinecolor\":\"#EBF0F8\",\"gridwidth\":2},\"yaxis\":{\"backgroundcolor\":\"white\",\"gridcolor\":\"#DFE8F3\",\"linecolor\":\"#EBF0F8\",\"showbackground\":true,\"ticks\":\"\",\"zerolinecolor\":\"#EBF0F8\",\"gridwidth\":2},\"zaxis\":{\"backgroundcolor\":\"white\",\"gridcolor\":\"#DFE8F3\",\"linecolor\":\"#EBF0F8\",\"showbackground\":true,\"ticks\":\"\",\"zerolinecolor\":\"#EBF0F8\",\"gridwidth\":2}},\"shapedefaults\":{\"line\":{\"color\":\"#2a3f5f\"}},\"annotationdefaults\":{\"arrowcolor\":\"#2a3f5f\",\"arrowhead\":0,\"arrowwidth\":1},\"geo\":{\"bgcolor\":\"white\",\"landcolor\":\"white\",\"subunitcolor\":\"#C8D4E3\",\"showland\":true,\"showlakes\":true,\"lakecolor\":\"white\"},\"title\":{\"x\":0.05},\"mapbox\":{\"style\":\"light\"}}}},                        {\"displaylogo\": false, \"modeBarButtonsToRemove\": [\"select2d\", \"lasso2d\", \"zoomIn2d\", \"zoomOut2d\", \"autoScale2d\"], \"responsive\": true}                    )                };            </script>        </div>"
      ],
      "text/plain": [
       "<IPython.core.display.HTML object>"
      ]
     },
     "metadata": {},
     "output_type": "display_data"
    }
   ],
   "source": [
    "project.plot_meas_vs_calc(expt_name='d20', x_min=41, x_max=54, show_residual=True)"
   ]
  },
  {
   "cell_type": "markdown",
   "id": "58",
   "metadata": {},
   "source": [
    "## Summary\n",
    "\n",
    "This final section shows how to review the results of the analysis."
   ]
  },
  {
   "cell_type": "markdown",
   "id": "59",
   "metadata": {},
   "source": [
    "#### Show Project Summary"
   ]
  },
  {
   "cell_type": "code",
   "execution_count": 32,
   "id": "60",
   "metadata": {
    "execution": {
     "iopub.execute_input": "2025-08-31T19:32:20.802688Z",
     "iopub.status.busy": "2025-08-31T19:32:20.802553Z",
     "iopub.status.idle": "2025-08-31T19:32:20.813807Z",
     "shell.execute_reply": "2025-08-31T19:32:20.813416Z"
    }
   },
   "outputs": [
    {
     "name": "stdout",
     "output_type": "stream",
     "text": [
      "\n",
      "\u001b[92m\u001b[1m*** PROJECT INFO ***\u001b[0m\n",
      "\n",
      "\u001b[94m\u001b[1mTitle\u001b[0m\n",
      "Untitled Project\n",
      "\n",
      "\u001b[92m\u001b[1m*** CRYSTALLOGRAPHIC DATA ***\u001b[0m\n",
      "\n",
      "\u001b[94m\u001b[1mPhase datablock\u001b[0m\n",
      "🧩 cosio\n",
      "\n",
      "\u001b[94m\u001b[1mSpace group\u001b[0m\n",
      "P n m a\n",
      "\n",
      "\u001b[94m\u001b[1mCell parameters\u001b[0m\n"
     ]
    },
    {
     "data": {
      "text/html": [
       "<table class=\"dataframe\" style=\"border-collapse: collapse; border: 1px solid #515155; margin-left: 0.5em;margin-top: 0.5em;margin-bottom: 1em;\">\n",
       "  <tbody>\n",
       "    <tr>\n",
       "      <td><div style=\"text-align: left;\">alpha</div></td>\n",
       "      <td><div style=\"text-align: right;\">90.00000</div></td>\n",
       "    </tr>\n",
       "    <tr>\n",
       "      <td><div style=\"text-align: left;\">beta</div></td>\n",
       "      <td><div style=\"text-align: right;\">90.00000</div></td>\n",
       "    </tr>\n",
       "    <tr>\n",
       "      <td><div style=\"text-align: left;\">gamma</div></td>\n",
       "      <td><div style=\"text-align: right;\">90.00000</div></td>\n",
       "    </tr>\n",
       "    <tr>\n",
       "      <td><div style=\"text-align: left;\">a</div></td>\n",
       "      <td><div style=\"text-align: right;\">10.30896</div></td>\n",
       "    </tr>\n",
       "    <tr>\n",
       "      <td><div style=\"text-align: left;\">b</div></td>\n",
       "      <td><div style=\"text-align: right;\">6.00391</div></td>\n",
       "    </tr>\n",
       "    <tr>\n",
       "      <td><div style=\"text-align: left;\">c</div></td>\n",
       "      <td><div style=\"text-align: right;\">4.78675</div></td>\n",
       "    </tr>\n",
       "  </tbody>\n",
       "</table>"
      ],
      "text/plain": [
       "<IPython.core.display.HTML object>"
      ]
     },
     "metadata": {},
     "output_type": "display_data"
    },
    {
     "name": "stdout",
     "output_type": "stream",
     "text": [
      "\n",
      "\u001b[94m\u001b[1mAtom sites\u001b[0m\n"
     ]
    },
    {
     "data": {
      "text/html": [
       "<table class=\"dataframe\" style=\"border-collapse: collapse; border: 1px solid #515155; margin-left: 0.5em;margin-top: 0.5em;margin-bottom: 1em;\">\n",
       "  <thead>\n",
       "    <tr style=\"text-align: right;\">\n",
       "      <th style=\"text-align: left;\">Label</th>\n",
       "      <th style=\"text-align: left;\">Type</th>\n",
       "      <th style=\"text-align: right;\">fract_x</th>\n",
       "      <th style=\"text-align: right;\">fract_y</th>\n",
       "      <th style=\"text-align: right;\">fract_z</th>\n",
       "      <th style=\"text-align: right;\">Occupancy</th>\n",
       "      <th style=\"text-align: right;\">B_iso</th>\n",
       "    </tr>\n",
       "  </thead>\n",
       "  <tbody>\n",
       "    <tr>\n",
       "      <td><div style=\"text-align: left;\">Co1</div></td>\n",
       "      <td><div style=\"text-align: left;\">Co</div></td>\n",
       "      <td><div style=\"text-align: right;\">0.00000</div></td>\n",
       "      <td><div style=\"text-align: right;\">0.00000</div></td>\n",
       "      <td><div style=\"text-align: right;\">0.00000</div></td>\n",
       "      <td><div style=\"text-align: right;\">1.00000</div></td>\n",
       "      <td><div style=\"text-align: right;\">0.27703</div></td>\n",
       "    </tr>\n",
       "    <tr>\n",
       "      <td><div style=\"text-align: left;\">Co2</div></td>\n",
       "      <td><div style=\"text-align: left;\">Co</div></td>\n",
       "      <td><div style=\"text-align: right;\">0.27938</div></td>\n",
       "      <td><div style=\"text-align: right;\">0.25000</div></td>\n",
       "      <td><div style=\"text-align: right;\">0.98470</div></td>\n",
       "      <td><div style=\"text-align: right;\">1.00000</div></td>\n",
       "      <td><div style=\"text-align: right;\">0.27703</div></td>\n",
       "    </tr>\n",
       "    <tr>\n",
       "      <td><div style=\"text-align: left;\">Si</div></td>\n",
       "      <td><div style=\"text-align: left;\">Si</div></td>\n",
       "      <td><div style=\"text-align: right;\">0.09371</div></td>\n",
       "      <td><div style=\"text-align: right;\">0.25000</div></td>\n",
       "      <td><div style=\"text-align: right;\">0.42904</div></td>\n",
       "      <td><div style=\"text-align: right;\">1.00000</div></td>\n",
       "      <td><div style=\"text-align: right;\">0.35192</div></td>\n",
       "    </tr>\n",
       "    <tr>\n",
       "      <td><div style=\"text-align: left;\">O1</div></td>\n",
       "      <td><div style=\"text-align: left;\">O</div></td>\n",
       "      <td><div style=\"text-align: right;\">0.09107</div></td>\n",
       "      <td><div style=\"text-align: right;\">0.25000</div></td>\n",
       "      <td><div style=\"text-align: right;\">0.77140</div></td>\n",
       "      <td><div style=\"text-align: right;\">1.00000</div></td>\n",
       "      <td><div style=\"text-align: right;\">0.64570</div></td>\n",
       "    </tr>\n",
       "    <tr>\n",
       "      <td><div style=\"text-align: left;\">O2</div></td>\n",
       "      <td><div style=\"text-align: left;\">O</div></td>\n",
       "      <td><div style=\"text-align: right;\">0.44825</div></td>\n",
       "      <td><div style=\"text-align: right;\">0.25000</div></td>\n",
       "      <td><div style=\"text-align: right;\">0.21671</div></td>\n",
       "      <td><div style=\"text-align: right;\">1.00000</div></td>\n",
       "      <td><div style=\"text-align: right;\">0.57784</div></td>\n",
       "    </tr>\n",
       "    <tr>\n",
       "      <td><div style=\"text-align: left;\">O3</div></td>\n",
       "      <td><div style=\"text-align: left;\">O</div></td>\n",
       "      <td><div style=\"text-align: right;\">0.16358</div></td>\n",
       "      <td><div style=\"text-align: right;\">0.03165</div></td>\n",
       "      <td><div style=\"text-align: right;\">0.28005</div></td>\n",
       "      <td><div style=\"text-align: right;\">1.00000</div></td>\n",
       "      <td><div style=\"text-align: right;\">0.83894</div></td>\n",
       "    </tr>\n",
       "  </tbody>\n",
       "</table>"
      ],
      "text/plain": [
       "<IPython.core.display.HTML object>"
      ]
     },
     "metadata": {},
     "output_type": "display_data"
    },
    {
     "name": "stdout",
     "output_type": "stream",
     "text": [
      "\n",
      "\u001b[92m\u001b[1m*** EXPERIMENTS ***\u001b[0m\n",
      "\n",
      "\u001b[94m\u001b[1mExperiment datablock\u001b[0m\n",
      "🔬 d20\n",
      "\n",
      "\u001b[94m\u001b[1mExperiment type\u001b[0m\n",
      "powder, neutron, constant wavelength\n",
      "\n",
      "\u001b[94m\u001b[1mWavelength\u001b[0m\n",
      "1.87000\n",
      "\n",
      "\u001b[94m\u001b[1m2θ offset\u001b[0m\n",
      "0.28844\n",
      "\n",
      "\u001b[94m\u001b[1mProfile type\u001b[0m\n",
      "pseudo-voigt\n",
      "\n",
      "\u001b[94m\u001b[1mPeak broadening (Gaussian)\u001b[0m\n"
     ]
    },
    {
     "data": {
      "text/html": [
       "<table class=\"dataframe\" style=\"border-collapse: collapse; border: 1px solid #515155; margin-left: 0.5em;margin-top: 0.5em;margin-bottom: 1em;\">\n",
       "  <tbody>\n",
       "    <tr>\n",
       "      <td><div style=\"text-align: left;\">U</div></td>\n",
       "      <td><div style=\"text-align: right;\">0.24233</div></td>\n",
       "    </tr>\n",
       "    <tr>\n",
       "      <td><div style=\"text-align: left;\">V</div></td>\n",
       "      <td><div style=\"text-align: right;\">-0.52880</div></td>\n",
       "    </tr>\n",
       "    <tr>\n",
       "      <td><div style=\"text-align: left;\">W</div></td>\n",
       "      <td><div style=\"text-align: right;\">0.38395</div></td>\n",
       "    </tr>\n",
       "  </tbody>\n",
       "</table>"
      ],
      "text/plain": [
       "<IPython.core.display.HTML object>"
      ]
     },
     "metadata": {},
     "output_type": "display_data"
    },
    {
     "name": "stdout",
     "output_type": "stream",
     "text": [
      "\n",
      "\u001b[94m\u001b[1mPeak broadening (Lorentzian)\u001b[0m\n"
     ]
    },
    {
     "data": {
      "text/html": [
       "<table class=\"dataframe\" style=\"border-collapse: collapse; border: 1px solid #515155; margin-left: 0.5em;margin-top: 0.5em;margin-bottom: 1em;\">\n",
       "  <tbody>\n",
       "    <tr>\n",
       "      <td><div style=\"text-align: left;\">X</div></td>\n",
       "      <td><div style=\"text-align: right;\">0.00000</div></td>\n",
       "    </tr>\n",
       "    <tr>\n",
       "      <td><div style=\"text-align: left;\">Y</div></td>\n",
       "      <td><div style=\"text-align: right;\">0.01591</div></td>\n",
       "    </tr>\n",
       "  </tbody>\n",
       "</table>"
      ],
      "text/plain": [
       "<IPython.core.display.HTML object>"
      ]
     },
     "metadata": {},
     "output_type": "display_data"
    },
    {
     "name": "stdout",
     "output_type": "stream",
     "text": [
      "\n",
      "\u001b[92m\u001b[1m*** FITTING ***\u001b[0m\n",
      "\n",
      "\u001b[94m\u001b[1mCalculation engine\u001b[0m\n",
      "cryspy\n",
      "\n",
      "\u001b[94m\u001b[1mMinimization engine\u001b[0m\n",
      "lmfit (leastsq)\n",
      "\n",
      "\u001b[94m\u001b[1mFit quality\u001b[0m\n"
     ]
    },
    {
     "data": {
      "text/html": [
       "<table class=\"dataframe\" style=\"border-collapse: collapse; border: 1px solid #515155; margin-left: 0.5em;margin-top: 0.5em;margin-bottom: 1em;\">\n",
       "  <tbody>\n",
       "    <tr>\n",
       "      <td><div style=\"text-align: left;\">Goodness-of-fit (reduced χ²)</div></td>\n",
       "      <td><div style=\"text-align: right;\">4.56</div></td>\n",
       "    </tr>\n",
       "  </tbody>\n",
       "</table>"
      ],
      "text/plain": [
       "<IPython.core.display.HTML object>"
      ]
     },
     "metadata": {},
     "output_type": "display_data"
    }
   ],
   "source": [
    "project.summary.show_report()"
   ]
  }
 ],
 "metadata": {
  "jupytext": {
   "cell_metadata_filter": "-all",
   "main_language": "python",
   "notebook_metadata_filter": "-all"
  },
  "language_info": {
   "codemirror_mode": {
    "name": "ipython",
    "version": 3
   },
   "file_extension": ".py",
   "mimetype": "text/x-python",
   "name": "python",
   "nbconvert_exporter": "python",
   "pygments_lexer": "ipython3",
   "version": "3.13.5"
  }
 },
 "nbformat": 4,
 "nbformat_minor": 5
}
