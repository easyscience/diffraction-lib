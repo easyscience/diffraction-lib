{
 "cells": [
  {
   "cell_type": "markdown",
   "id": "6b5c0d47",
   "metadata": {},
   "source": [
    "# Pair Distribution Function: NaCl, XRD\n",
    "\n",
    "This example demonstrates a pair distribution function (PDF) analysis of\n",
    "NaCl, based on data collected from an X-ray powder diffraction experiment.\n",
    "\n",
    "The dataset is taken from:\n",
    "https://github.com/diffpy/add2019-diffpy-cmi/tree/master"
   ]
  },
  {
   "cell_type": "markdown",
   "id": "e92d3d55",
   "metadata": {},
   "source": [
    "## Import Library"
   ]
  },
  {
   "cell_type": "code",
   "execution_count": null,
   "id": "83b59289",
   "metadata": {},
   "outputs": [],
   "source": [
    "import easydiffraction as ed"
   ]
  },
  {
   "cell_type": "markdown",
   "id": "912f42db",
   "metadata": {},
   "source": [
    "## Create Project"
   ]
  },
  {
   "cell_type": "code",
   "execution_count": null,
   "id": "f8ffc809",
   "metadata": {},
   "outputs": [],
   "source": [
    "project = ed.Project()"
   ]
  },
  {
   "cell_type": "markdown",
   "id": "4d19f5f1",
   "metadata": {},
   "source": [
    "## Set Plotting Engine"
   ]
  },
  {
   "cell_type": "code",
   "execution_count": null,
   "id": "bb938b29",
   "metadata": {},
   "outputs": [],
   "source": [
    "project.plotter.engine = 'plotly'\n",
    "project.plotter.x_min = 2.0\n",
    "project.plotter.x_max = 30.0"
   ]
  },
  {
   "cell_type": "markdown",
   "id": "e372b419",
   "metadata": {},
   "source": [
    "## Add Sample Model"
   ]
  },
  {
   "cell_type": "code",
   "execution_count": null,
   "id": "ad1cb4c2",
   "metadata": {},
   "outputs": [],
   "source": [
    "project.sample_models.add(name='nacl')"
   ]
  },
  {
   "cell_type": "code",
   "execution_count": null,
   "id": "3f43c465",
   "metadata": {},
   "outputs": [],
   "source": [
    "project.sample_models['nacl'].space_group.name_h_m = 'F m -3 m'\n",
    "project.sample_models['nacl'].space_group.it_coordinate_system_code = '1'\n",
    "project.sample_models['nacl'].cell.length_a = 5.62\n",
    "project.sample_models['nacl'].atom_sites.add(label='Na',\n",
    "                                             type_symbol='Na',\n",
    "                                             fract_x=0,\n",
    "                                             fract_y=0,\n",
    "                                             fract_z=0,\n",
    "                                             wyckoff_letter='a',\n",
    "                                             b_iso=1.0)\n",
    "project.sample_models['nacl'].atom_sites.add(label='Cl',\n",
    "                                             type_symbol='Cl',\n",
    "                                             fract_x=0.5,\n",
    "                                             fract_y=0.5,\n",
    "                                             fract_z=0.5,\n",
    "                                             wyckoff_letter='b',\n",
    "                                             b_iso=1.0)"
   ]
  },
  {
   "cell_type": "markdown",
   "id": "9be520b7",
   "metadata": {},
   "source": [
    "## Add Experiment"
   ]
  },
  {
   "cell_type": "code",
   "execution_count": null,
   "id": "cbb0de7c",
   "metadata": {},
   "outputs": [],
   "source": [
    "ed.download_from_repository('NaCl.gr',\n",
    "                            destination='data')"
   ]
  },
  {
   "cell_type": "code",
   "execution_count": null,
   "id": "a1035826",
   "metadata": {},
   "outputs": [],
   "source": [
    "project.experiments.add(name='xray_pdf',\n",
    "                        sample_form='powder',\n",
    "                        beam_mode='constant wavelength',\n",
    "                        radiation_probe='xray',\n",
    "                        scattering_type='total',\n",
    "                        data_path = 'data/NaCl.gr')"
   ]
  },
  {
   "cell_type": "code",
   "execution_count": null,
   "id": "b97ab539",
   "metadata": {},
   "outputs": [],
   "source": [
    "project.experiments['xray_pdf'].show_supported_peak_profile_types()"
   ]
  },
  {
   "cell_type": "code",
   "execution_count": null,
   "id": "1a6ea129",
   "metadata": {},
   "outputs": [],
   "source": [
    "project.experiments['xray_pdf'].show_current_peak_profile_type()"
   ]
  },
  {
   "cell_type": "code",
   "execution_count": null,
   "id": "c9b93dc2",
   "metadata": {},
   "outputs": [],
   "source": [
    "project.experiments['xray_pdf'].peak_profile_type = 'gaussian-damped-sinc'"
   ]
  },
  {
   "cell_type": "code",
   "execution_count": null,
   "id": "e82daf8d",
   "metadata": {},
   "outputs": [],
   "source": [
    "project.experiments['xray_pdf'].peak.damp_q = 0.03\n",
    "project.experiments['xray_pdf'].peak.broad_q = 0\n",
    "project.experiments['xray_pdf'].peak.cutoff_q = 21\n",
    "project.experiments['xray_pdf'].peak.sharp_delta_1 = 0\n",
    "project.experiments['xray_pdf'].peak.sharp_delta_2 = 5\n",
    "project.experiments['xray_pdf'].peak.damp_particle_diameter = 0"
   ]
  },
  {
   "cell_type": "code",
   "execution_count": null,
   "id": "593cbb36",
   "metadata": {},
   "outputs": [],
   "source": [
    "project.experiments['xray_pdf'].linked_phases.add(id='nacl', scale=0.5)"
   ]
  },
  {
   "cell_type": "markdown",
   "id": "91bbd38c",
   "metadata": {},
   "source": [
    "## Select Fitting Parameters"
   ]
  },
  {
   "cell_type": "code",
   "execution_count": null,
   "id": "689bb503",
   "metadata": {},
   "outputs": [],
   "source": [
    "project.sample_models['nacl'].cell.length_a.free = True\n",
    "project.sample_models['nacl'].atom_sites['Na'].b_iso.free = True\n",
    "project.sample_models['nacl'].atom_sites['Cl'].b_iso.free = True"
   ]
  },
  {
   "cell_type": "code",
   "execution_count": null,
   "id": "5d6c1d3d",
   "metadata": {},
   "outputs": [],
   "source": [
    "project.experiments['xray_pdf'].linked_phases['nacl'].scale.free = True\n",
    "project.experiments['xray_pdf'].peak.damp_q.free = True\n",
    "project.experiments['xray_pdf'].peak.sharp_delta_2.free = True"
   ]
  },
  {
   "cell_type": "markdown",
   "id": "ed9a6a07",
   "metadata": {},
   "source": [
    "## Run Fitting"
   ]
  },
  {
   "cell_type": "code",
   "execution_count": null,
   "id": "a8985222",
   "metadata": {},
   "outputs": [],
   "source": [
    "project.analysis.current_calculator = 'pdffit'\n",
    "project.analysis.fit()"
   ]
  },
  {
   "cell_type": "markdown",
   "id": "52e668f0",
   "metadata": {},
   "source": [
    "## Plot Measured vs Calculated"
   ]
  },
  {
   "cell_type": "code",
   "execution_count": null,
   "id": "7a757532",
   "metadata": {},
   "outputs": [],
   "source": [
    "project.plot_meas_vs_calc(expt_name='xray_pdf')"
   ]
  }
 ],
 "metadata": {
  "jupytext": {
   "cell_metadata_filter": "-all",
   "main_language": "python",
   "notebook_metadata_filter": "-all"
  }
 },
 "nbformat": 4,
 "nbformat_minor": 5
}
