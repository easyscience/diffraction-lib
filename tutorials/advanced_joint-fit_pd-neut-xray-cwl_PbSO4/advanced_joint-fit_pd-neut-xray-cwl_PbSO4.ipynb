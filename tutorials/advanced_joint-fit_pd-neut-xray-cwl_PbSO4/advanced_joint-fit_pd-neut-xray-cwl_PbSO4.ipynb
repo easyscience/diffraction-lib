{
 "cells": [
  {
   "cell_type": "code",
   "execution_count": 1,
   "id": "565304e8",
   "metadata": {
    "execution": {
     "iopub.execute_input": "2025-08-30T21:29:13.410292Z",
     "iopub.status.busy": "2025-08-30T21:29:13.410166Z",
     "iopub.status.idle": "2025-08-30T21:29:13.413712Z",
     "shell.execute_reply": "2025-08-30T21:29:13.413088Z"
    },
    "tags": [
     "hide-in-docs"
    ]
   },
   "outputs": [],
   "source": [
    "# Check if the easydiffraction library is installed.\n",
    "# If not, install it including the 'visualization' extras.\n",
    "# This is needed, e.g., when running this as a notebook via Google Colab or\n",
    "# Jupyter Notebook in an environment where the library is not pre-installed.\n",
    "import builtins\n",
    "import importlib.util\n",
    "\n",
    "if hasattr(builtins, '__IPYTHON__'):\n",
    "    if importlib.util.find_spec('easydiffraction') is None:\n",
    "        !pip install 'easydiffraction[visualization]'\n"
   ]
  },
  {
   "cell_type": "markdown",
   "id": "0",
   "metadata": {},
   "source": [
    "# Structure Refinement: PbSO4, NPD + XRD\n",
    "\n",
    "This example demonstrates a more advanced use of the EasyDiffraction library\n",
    "by explicitly creating and configuring sample models and experiments\n",
    "before adding them to a project. It could be more suitable for users who are\n",
    "interested in creating custom workflows. This tutorial provides minimal\n",
    "explanation and is intended for users already familiar with EasyDiffraction.\n",
    "\n",
    "The tutorial covers a Rietveld refinement of PbSO4 crystal structure based\n",
    "on the joint fit of both X-ray and neutron diffraction data."
   ]
  },
  {
   "cell_type": "markdown",
   "id": "1",
   "metadata": {},
   "source": [
    "## Import Library"
   ]
  },
  {
   "cell_type": "code",
   "execution_count": 2,
   "id": "2",
   "metadata": {
    "execution": {
     "iopub.execute_input": "2025-08-30T21:29:13.416621Z",
     "iopub.status.busy": "2025-08-30T21:29:13.416330Z",
     "iopub.status.idle": "2025-08-30T21:29:33.433334Z",
     "shell.execute_reply": "2025-08-30T21:29:33.432526Z"
    }
   },
   "outputs": [
    {
     "name": "stderr",
     "output_type": "stream",
     "text": [
      "Matplotlib is building the font cache; this may take a moment.\n"
     ]
    }
   ],
   "source": [
    "from easydiffraction import Experiment\n",
    "from easydiffraction import Project\n",
    "from easydiffraction import SampleModel\n",
    "from easydiffraction import download_from_repository"
   ]
  },
  {
   "cell_type": "markdown",
   "id": "3",
   "metadata": {},
   "source": [
    "## Define Sample Model\n",
    "\n",
    "This section shows how to add sample models and modify their parameters.\n",
    "\n",
    "#### Create Sample Model"
   ]
  },
  {
   "cell_type": "code",
   "execution_count": 3,
   "id": "4",
   "metadata": {
    "execution": {
     "iopub.execute_input": "2025-08-30T21:29:33.437446Z",
     "iopub.status.busy": "2025-08-30T21:29:33.437166Z",
     "iopub.status.idle": "2025-08-30T21:29:33.441184Z",
     "shell.execute_reply": "2025-08-30T21:29:33.440155Z"
    }
   },
   "outputs": [],
   "source": [
    "model = SampleModel('pbso4')"
   ]
  },
  {
   "cell_type": "markdown",
   "id": "5",
   "metadata": {},
   "source": [
    "#### Set Space Group"
   ]
  },
  {
   "cell_type": "code",
   "execution_count": 4,
   "id": "6",
   "metadata": {
    "execution": {
     "iopub.execute_input": "2025-08-30T21:29:33.454767Z",
     "iopub.status.busy": "2025-08-30T21:29:33.454533Z",
     "iopub.status.idle": "2025-08-30T21:29:33.462305Z",
     "shell.execute_reply": "2025-08-30T21:29:33.460863Z"
    }
   },
   "outputs": [],
   "source": [
    "model.space_group.name_h_m = 'P n m a'"
   ]
  },
  {
   "cell_type": "markdown",
   "id": "7",
   "metadata": {},
   "source": [
    "#### Set Unit Cell"
   ]
  },
  {
   "cell_type": "code",
   "execution_count": 5,
   "id": "8",
   "metadata": {
    "execution": {
     "iopub.execute_input": "2025-08-30T21:29:33.466462Z",
     "iopub.status.busy": "2025-08-30T21:29:33.466189Z",
     "iopub.status.idle": "2025-08-30T21:29:33.473527Z",
     "shell.execute_reply": "2025-08-30T21:29:33.472489Z"
    }
   },
   "outputs": [],
   "source": [
    "model.cell.length_a = 8.47\n",
    "model.cell.length_b = 5.39\n",
    "model.cell.length_c = 6.95"
   ]
  },
  {
   "cell_type": "markdown",
   "id": "9",
   "metadata": {},
   "source": [
    "#### Set Atom Sites"
   ]
  },
  {
   "cell_type": "code",
   "execution_count": 6,
   "id": "10",
   "metadata": {
    "execution": {
     "iopub.execute_input": "2025-08-30T21:29:33.478785Z",
     "iopub.status.busy": "2025-08-30T21:29:33.478533Z",
     "iopub.status.idle": "2025-08-30T21:29:33.487089Z",
     "shell.execute_reply": "2025-08-30T21:29:33.485849Z"
    },
    "lines_to_next_cell": 2
   },
   "outputs": [],
   "source": [
    "model.atom_sites.add('Pb', 'Pb', 0.1876, 0.25, 0.167, b_iso=1.37)\n",
    "model.atom_sites.add('S', 'S', 0.0654, 0.25, 0.684, b_iso=0.3777)\n",
    "model.atom_sites.add('O1', 'O', 0.9082, 0.25, 0.5954, b_iso=1.9764)\n",
    "model.atom_sites.add('O2', 'O', 0.1935, 0.25, 0.5432, b_iso=1.4456)\n",
    "model.atom_sites.add('O3', 'O', 0.0811, 0.0272, 0.8086, b_iso=1.2822)"
   ]
  },
  {
   "cell_type": "markdown",
   "id": "11",
   "metadata": {},
   "source": [
    "## Define Experiments\n",
    "\n",
    "This section shows how to add experiments, configure their parameters, and\n",
    "link the sample models defined in the previous step.\n",
    "\n",
    "### Experiment 1: npd\n",
    "\n",
    "#### Download Data"
   ]
  },
  {
   "cell_type": "code",
   "execution_count": 7,
   "id": "12",
   "metadata": {
    "execution": {
     "iopub.execute_input": "2025-08-30T21:29:33.490168Z",
     "iopub.status.busy": "2025-08-30T21:29:33.489944Z",
     "iopub.status.idle": "2025-08-30T21:29:33.498545Z",
     "shell.execute_reply": "2025-08-30T21:29:33.496496Z"
    }
   },
   "outputs": [
    {
     "name": "stdout",
     "output_type": "stream",
     "text": [
      "\n",
      "⚠️ \u001b[93mWarning\u001b[0m\n",
      "File 'data/d1a_pbso4.dat' already exists and will not be overwritten.\n"
     ]
    }
   ],
   "source": [
    "download_from_repository('d1a_pbso4.dat', destination='data')"
   ]
  },
  {
   "cell_type": "markdown",
   "id": "13",
   "metadata": {},
   "source": [
    "#### Create Experiment"
   ]
  },
  {
   "cell_type": "code",
   "execution_count": 8,
   "id": "14",
   "metadata": {
    "execution": {
     "iopub.execute_input": "2025-08-30T21:29:33.503550Z",
     "iopub.status.busy": "2025-08-30T21:29:33.503309Z",
     "iopub.status.idle": "2025-08-30T21:29:33.510549Z",
     "shell.execute_reply": "2025-08-30T21:29:33.509508Z"
    }
   },
   "outputs": [
    {
     "name": "stdout",
     "output_type": "stream",
     "text": [
      "\n",
      "\u001b[94m\u001b[1mData loaded successfully\u001b[0m\n",
      "Experiment 🔬 'npd'. Number of data points: 1801\n"
     ]
    }
   ],
   "source": [
    "expt1 = Experiment('npd', radiation_probe='neutron', data_path='data/d1a_pbso4.dat')"
   ]
  },
  {
   "cell_type": "markdown",
   "id": "15",
   "metadata": {},
   "source": [
    "#### Set Instrument"
   ]
  },
  {
   "cell_type": "code",
   "execution_count": 9,
   "id": "16",
   "metadata": {
    "execution": {
     "iopub.execute_input": "2025-08-30T21:29:33.514073Z",
     "iopub.status.busy": "2025-08-30T21:29:33.513853Z",
     "iopub.status.idle": "2025-08-30T21:29:33.518216Z",
     "shell.execute_reply": "2025-08-30T21:29:33.516086Z"
    }
   },
   "outputs": [],
   "source": [
    "expt1.instrument.setup_wavelength = 1.91\n",
    "expt1.instrument.calib_twotheta_offset = -0.1406"
   ]
  },
  {
   "cell_type": "markdown",
   "id": "17",
   "metadata": {},
   "source": [
    "#### Set Peak Profile"
   ]
  },
  {
   "cell_type": "code",
   "execution_count": 10,
   "id": "18",
   "metadata": {
    "execution": {
     "iopub.execute_input": "2025-08-30T21:29:33.522424Z",
     "iopub.status.busy": "2025-08-30T21:29:33.522166Z",
     "iopub.status.idle": "2025-08-30T21:29:33.524923Z",
     "shell.execute_reply": "2025-08-30T21:29:33.524240Z"
    }
   },
   "outputs": [],
   "source": [
    "expt1.peak.broad_gauss_u = 0.139\n",
    "expt1.peak.broad_gauss_v = -0.412\n",
    "expt1.peak.broad_gauss_w = 0.386\n",
    "expt1.peak.broad_lorentz_x = 0\n",
    "expt1.peak.broad_lorentz_y = 0.088"
   ]
  },
  {
   "cell_type": "markdown",
   "id": "19",
   "metadata": {},
   "source": [
    "#### Set Background"
   ]
  },
  {
   "cell_type": "markdown",
   "id": "20",
   "metadata": {},
   "source": [
    "Select the background type."
   ]
  },
  {
   "cell_type": "code",
   "execution_count": 11,
   "id": "21",
   "metadata": {
    "execution": {
     "iopub.execute_input": "2025-08-30T21:29:33.527446Z",
     "iopub.status.busy": "2025-08-30T21:29:33.527282Z",
     "iopub.status.idle": "2025-08-30T21:29:33.529627Z",
     "shell.execute_reply": "2025-08-30T21:29:33.529290Z"
    }
   },
   "outputs": [
    {
     "name": "stdout",
     "output_type": "stream",
     "text": [
      "\n",
      "\u001b[94m\u001b[1mBackground type for experiment \u001b[0m'npd'\u001b[94m\u001b[1m changed to\u001b[0m\n",
      "line-segment\n"
     ]
    }
   ],
   "source": [
    "expt1.background_type = 'line-segment'"
   ]
  },
  {
   "cell_type": "markdown",
   "id": "22",
   "metadata": {},
   "source": [
    "Add background points."
   ]
  },
  {
   "cell_type": "code",
   "execution_count": 12,
   "id": "23",
   "metadata": {
    "execution": {
     "iopub.execute_input": "2025-08-30T21:29:33.532161Z",
     "iopub.status.busy": "2025-08-30T21:29:33.531990Z",
     "iopub.status.idle": "2025-08-30T21:29:33.535122Z",
     "shell.execute_reply": "2025-08-30T21:29:33.534462Z"
    }
   },
   "outputs": [],
   "source": [
    "for x, y in [\n",
    "    (11.0, 206.1624),\n",
    "    (15.0, 194.75),\n",
    "    (20.0, 194.505),\n",
    "    (30.0, 188.4375),\n",
    "    (50.0, 207.7633),\n",
    "    (70.0, 201.7002),\n",
    "    (120.0, 244.4525),\n",
    "    (153.0, 226.0595),\n",
    "]:\n",
    "    expt1.background.add(x, y)"
   ]
  },
  {
   "cell_type": "markdown",
   "id": "24",
   "metadata": {},
   "source": [
    "#### Set Linked Phases"
   ]
  },
  {
   "cell_type": "code",
   "execution_count": 13,
   "id": "25",
   "metadata": {
    "execution": {
     "iopub.execute_input": "2025-08-30T21:29:33.537127Z",
     "iopub.status.busy": "2025-08-30T21:29:33.537020Z",
     "iopub.status.idle": "2025-08-30T21:29:33.539135Z",
     "shell.execute_reply": "2025-08-30T21:29:33.538658Z"
    }
   },
   "outputs": [],
   "source": [
    "expt1.linked_phases.add('pbso4', scale=1.5)"
   ]
  },
  {
   "cell_type": "markdown",
   "id": "26",
   "metadata": {},
   "source": [
    "### Experiment 2: xrd\n",
    "\n",
    "#### Download Data"
   ]
  },
  {
   "cell_type": "code",
   "execution_count": 14,
   "id": "27",
   "metadata": {
    "execution": {
     "iopub.execute_input": "2025-08-30T21:29:33.541325Z",
     "iopub.status.busy": "2025-08-30T21:29:33.541196Z",
     "iopub.status.idle": "2025-08-30T21:29:33.543881Z",
     "shell.execute_reply": "2025-08-30T21:29:33.543346Z"
    }
   },
   "outputs": [
    {
     "name": "stdout",
     "output_type": "stream",
     "text": [
      "\n",
      "⚠️ \u001b[93mWarning\u001b[0m\n",
      "File 'data/lab_pbso4.dat' already exists and will not be overwritten.\n"
     ]
    }
   ],
   "source": [
    "download_from_repository('lab_pbso4.dat', destination='data')"
   ]
  },
  {
   "cell_type": "markdown",
   "id": "28",
   "metadata": {},
   "source": [
    "#### Create Experiment"
   ]
  },
  {
   "cell_type": "code",
   "execution_count": 15,
   "id": "29",
   "metadata": {
    "execution": {
     "iopub.execute_input": "2025-08-30T21:29:33.545749Z",
     "iopub.status.busy": "2025-08-30T21:29:33.545627Z",
     "iopub.status.idle": "2025-08-30T21:29:33.550010Z",
     "shell.execute_reply": "2025-08-30T21:29:33.549618Z"
    }
   },
   "outputs": [
    {
     "name": "stdout",
     "output_type": "stream",
     "text": [
      "\n",
      "\u001b[94m\u001b[1mData loaded successfully\u001b[0m\n",
      "Experiment 🔬 'xrd'. Number of data points: 3601\n"
     ]
    }
   ],
   "source": [
    "expt2 = Experiment('xrd', radiation_probe='xray', data_path='data/lab_pbso4.dat')"
   ]
  },
  {
   "cell_type": "markdown",
   "id": "30",
   "metadata": {},
   "source": [
    "#### Set Instrument"
   ]
  },
  {
   "cell_type": "code",
   "execution_count": 16,
   "id": "31",
   "metadata": {
    "execution": {
     "iopub.execute_input": "2025-08-30T21:29:33.551867Z",
     "iopub.status.busy": "2025-08-30T21:29:33.551746Z",
     "iopub.status.idle": "2025-08-30T21:29:33.556798Z",
     "shell.execute_reply": "2025-08-30T21:29:33.556385Z"
    }
   },
   "outputs": [],
   "source": [
    "expt2.instrument.setup_wavelength = 1.540567\n",
    "expt2.instrument.calib_twotheta_offset = -0.05181"
   ]
  },
  {
   "cell_type": "markdown",
   "id": "32",
   "metadata": {},
   "source": [
    "#### Set Peak Profile"
   ]
  },
  {
   "cell_type": "code",
   "execution_count": 17,
   "id": "33",
   "metadata": {
    "execution": {
     "iopub.execute_input": "2025-08-30T21:29:33.558470Z",
     "iopub.status.busy": "2025-08-30T21:29:33.558375Z",
     "iopub.status.idle": "2025-08-30T21:29:33.560561Z",
     "shell.execute_reply": "2025-08-30T21:29:33.560086Z"
    }
   },
   "outputs": [],
   "source": [
    "expt2.peak.broad_gauss_u = 0.304138\n",
    "expt2.peak.broad_gauss_v = -0.112622\n",
    "expt2.peak.broad_gauss_w = 0.021272\n",
    "expt2.peak.broad_lorentz_x = 0\n",
    "expt2.peak.broad_lorentz_y = 0.057691"
   ]
  },
  {
   "cell_type": "markdown",
   "id": "34",
   "metadata": {},
   "source": [
    "#### Set Background"
   ]
  },
  {
   "cell_type": "markdown",
   "id": "35",
   "metadata": {},
   "source": [
    "Select background type."
   ]
  },
  {
   "cell_type": "code",
   "execution_count": 18,
   "id": "36",
   "metadata": {
    "execution": {
     "iopub.execute_input": "2025-08-30T21:29:33.562026Z",
     "iopub.status.busy": "2025-08-30T21:29:33.561928Z",
     "iopub.status.idle": "2025-08-30T21:29:33.564028Z",
     "shell.execute_reply": "2025-08-30T21:29:33.563527Z"
    }
   },
   "outputs": [
    {
     "name": "stdout",
     "output_type": "stream",
     "text": [
      "\n",
      "\u001b[94m\u001b[1mBackground type for experiment \u001b[0m'xrd'\u001b[94m\u001b[1m changed to\u001b[0m\n",
      "chebyshev polynomial\n"
     ]
    }
   ],
   "source": [
    "expt2.background_type = 'chebyshev polynomial'"
   ]
  },
  {
   "cell_type": "markdown",
   "id": "37",
   "metadata": {},
   "source": [
    "Add background points."
   ]
  },
  {
   "cell_type": "code",
   "execution_count": 19,
   "id": "38",
   "metadata": {
    "execution": {
     "iopub.execute_input": "2025-08-30T21:29:33.565579Z",
     "iopub.status.busy": "2025-08-30T21:29:33.565478Z",
     "iopub.status.idle": "2025-08-30T21:29:33.567809Z",
     "shell.execute_reply": "2025-08-30T21:29:33.567435Z"
    }
   },
   "outputs": [],
   "source": [
    "for x, y in [\n",
    "    (0, 119.195),\n",
    "    (1, 6.221),\n",
    "    (2, -45.725),\n",
    "    (3, 8.119),\n",
    "    (4, 54.552),\n",
    "    (5, -20.661),\n",
    "]:\n",
    "    expt2.background.add(x, y)"
   ]
  },
  {
   "cell_type": "markdown",
   "id": "39",
   "metadata": {},
   "source": [
    "#### Set Linked Phases"
   ]
  },
  {
   "cell_type": "code",
   "execution_count": 20,
   "id": "40",
   "metadata": {
    "execution": {
     "iopub.execute_input": "2025-08-30T21:29:33.569512Z",
     "iopub.status.busy": "2025-08-30T21:29:33.569417Z",
     "iopub.status.idle": "2025-08-30T21:29:33.571504Z",
     "shell.execute_reply": "2025-08-30T21:29:33.571139Z"
    }
   },
   "outputs": [],
   "source": [
    "expt2.linked_phases.add('pbso4', scale=0.001)"
   ]
  },
  {
   "cell_type": "markdown",
   "id": "41",
   "metadata": {},
   "source": [
    "## Define Project\n",
    "\n",
    "The project object is used to manage sample models, experiments, and analysis.\n",
    "\n",
    "#### Create Project"
   ]
  },
  {
   "cell_type": "code",
   "execution_count": 21,
   "id": "42",
   "metadata": {
    "execution": {
     "iopub.execute_input": "2025-08-30T21:29:33.573115Z",
     "iopub.status.busy": "2025-08-30T21:29:33.572990Z",
     "iopub.status.idle": "2025-08-30T21:29:33.816847Z",
     "shell.execute_reply": "2025-08-30T21:29:33.816349Z"
    }
   },
   "outputs": [],
   "source": [
    "project = Project()"
   ]
  },
  {
   "cell_type": "markdown",
   "id": "43",
   "metadata": {},
   "source": [
    "#### Add Sample Model"
   ]
  },
  {
   "cell_type": "code",
   "execution_count": 22,
   "id": "44",
   "metadata": {
    "execution": {
     "iopub.execute_input": "2025-08-30T21:29:33.818660Z",
     "iopub.status.busy": "2025-08-30T21:29:33.818562Z",
     "iopub.status.idle": "2025-08-30T21:29:33.820560Z",
     "shell.execute_reply": "2025-08-30T21:29:33.820110Z"
    }
   },
   "outputs": [],
   "source": [
    "project.sample_models.add(model)"
   ]
  },
  {
   "cell_type": "markdown",
   "id": "45",
   "metadata": {},
   "source": [
    "#### Add Experiments"
   ]
  },
  {
   "cell_type": "code",
   "execution_count": 23,
   "id": "46",
   "metadata": {
    "execution": {
     "iopub.execute_input": "2025-08-30T21:29:33.822146Z",
     "iopub.status.busy": "2025-08-30T21:29:33.822054Z",
     "iopub.status.idle": "2025-08-30T21:29:33.823803Z",
     "shell.execute_reply": "2025-08-30T21:29:33.823379Z"
    }
   },
   "outputs": [],
   "source": [
    "project.experiments.add(expt1)\n",
    "project.experiments.add(expt2)"
   ]
  },
  {
   "cell_type": "markdown",
   "id": "47",
   "metadata": {},
   "source": [
    "## Perform Analysis\n",
    "\n",
    "This section outlines the analysis process, including how to configure calculation and fitting engines.\n",
    "\n",
    "#### Set Calculator"
   ]
  },
  {
   "cell_type": "code",
   "execution_count": 24,
   "id": "48",
   "metadata": {
    "execution": {
     "iopub.execute_input": "2025-08-30T21:29:33.825400Z",
     "iopub.status.busy": "2025-08-30T21:29:33.825312Z",
     "iopub.status.idle": "2025-08-30T21:29:33.827402Z",
     "shell.execute_reply": "2025-08-30T21:29:33.827014Z"
    }
   },
   "outputs": [
    {
     "name": "stdout",
     "output_type": "stream",
     "text": [
      "\n",
      "\u001b[94m\u001b[1mCurrent calculator changed to\u001b[0m\n",
      "cryspy\n"
     ]
    }
   ],
   "source": [
    "project.analysis.current_calculator = 'cryspy'"
   ]
  },
  {
   "cell_type": "markdown",
   "id": "49",
   "metadata": {},
   "source": [
    "#### Set Fit Mode"
   ]
  },
  {
   "cell_type": "code",
   "execution_count": 25,
   "id": "50",
   "metadata": {
    "execution": {
     "iopub.execute_input": "2025-08-30T21:29:33.828975Z",
     "iopub.status.busy": "2025-08-30T21:29:33.828887Z",
     "iopub.status.idle": "2025-08-30T21:29:33.831222Z",
     "shell.execute_reply": "2025-08-30T21:29:33.830374Z"
    }
   },
   "outputs": [
    {
     "name": "stdout",
     "output_type": "stream",
     "text": [
      "\n",
      "\u001b[94m\u001b[1mCurrent fit mode changed to\u001b[0m\n",
      "joint\n"
     ]
    }
   ],
   "source": [
    "project.analysis.fit_mode = 'joint'"
   ]
  },
  {
   "cell_type": "markdown",
   "id": "51",
   "metadata": {},
   "source": [
    "#### Set Minimizer"
   ]
  },
  {
   "cell_type": "code",
   "execution_count": 26,
   "id": "52",
   "metadata": {
    "execution": {
     "iopub.execute_input": "2025-08-30T21:29:33.832656Z",
     "iopub.status.busy": "2025-08-30T21:29:33.832570Z",
     "iopub.status.idle": "2025-08-30T21:29:33.834767Z",
     "shell.execute_reply": "2025-08-30T21:29:33.834159Z"
    }
   },
   "outputs": [
    {
     "name": "stdout",
     "output_type": "stream",
     "text": [
      "\n",
      "\u001b[94m\u001b[1mCurrent minimizer changed to\u001b[0m\n",
      "lmfit (leastsq)\n"
     ]
    }
   ],
   "source": [
    "project.analysis.current_minimizer = 'lmfit (leastsq)'"
   ]
  },
  {
   "cell_type": "markdown",
   "id": "53",
   "metadata": {},
   "source": [
    "#### Set Fitting Parameters\n",
    "\n",
    "Set sample model parameters to be optimized."
   ]
  },
  {
   "cell_type": "code",
   "execution_count": 27,
   "id": "54",
   "metadata": {
    "execution": {
     "iopub.execute_input": "2025-08-30T21:29:33.836275Z",
     "iopub.status.busy": "2025-08-30T21:29:33.836191Z",
     "iopub.status.idle": "2025-08-30T21:29:33.838323Z",
     "shell.execute_reply": "2025-08-30T21:29:33.837712Z"
    }
   },
   "outputs": [],
   "source": [
    "model.cell.length_a.free = True\n",
    "model.cell.length_b.free = True\n",
    "model.cell.length_c.free = True"
   ]
  },
  {
   "cell_type": "markdown",
   "id": "55",
   "metadata": {},
   "source": [
    "Set experiment parameters to be optimized."
   ]
  },
  {
   "cell_type": "code",
   "execution_count": 28,
   "id": "56",
   "metadata": {
    "execution": {
     "iopub.execute_input": "2025-08-30T21:29:33.839978Z",
     "iopub.status.busy": "2025-08-30T21:29:33.839887Z",
     "iopub.status.idle": "2025-08-30T21:29:33.842033Z",
     "shell.execute_reply": "2025-08-30T21:29:33.841521Z"
    }
   },
   "outputs": [],
   "source": [
    "expt1.linked_phases['pbso4'].scale.free = True\n",
    "\n",
    "expt1.instrument.calib_twotheta_offset.free = True\n",
    "\n",
    "expt1.peak.broad_gauss_u.free = True\n",
    "expt1.peak.broad_gauss_v.free = True\n",
    "expt1.peak.broad_gauss_w.free = True\n",
    "expt1.peak.broad_lorentz_y.free = True"
   ]
  },
  {
   "cell_type": "code",
   "execution_count": 29,
   "id": "57",
   "metadata": {
    "execution": {
     "iopub.execute_input": "2025-08-30T21:29:33.843624Z",
     "iopub.status.busy": "2025-08-30T21:29:33.843508Z",
     "iopub.status.idle": "2025-08-30T21:29:33.845921Z",
     "shell.execute_reply": "2025-08-30T21:29:33.845460Z"
    }
   },
   "outputs": [],
   "source": [
    "expt2.linked_phases['pbso4'].scale.free = True\n",
    "\n",
    "expt2.instrument.calib_twotheta_offset.free = True\n",
    "\n",
    "expt2.peak.broad_gauss_u.free = True\n",
    "expt2.peak.broad_gauss_v.free = True\n",
    "expt2.peak.broad_gauss_w.free = True\n",
    "expt2.peak.broad_lorentz_y.free = True\n",
    "\n",
    "for term in expt2.background:\n",
    "    term.coef.free = True"
   ]
  },
  {
   "cell_type": "markdown",
   "id": "58",
   "metadata": {},
   "source": [
    "#### Perform Fit"
   ]
  },
  {
   "cell_type": "code",
   "execution_count": 30,
   "id": "59",
   "metadata": {
    "execution": {
     "iopub.execute_input": "2025-08-30T21:29:33.847579Z",
     "iopub.status.busy": "2025-08-30T21:29:33.847461Z",
     "iopub.status.idle": "2025-08-30T21:29:43.710723Z",
     "shell.execute_reply": "2025-08-30T21:29:43.710107Z"
    }
   },
   "outputs": [
    {
     "name": "stdout",
     "output_type": "stream",
     "text": [
      "\n",
      "\u001b[94m\u001b[1mUsing all experiments 🔬 [\u001b[0m'npd'\u001b[94m\u001b[1m, \u001b[0m'xrd'\u001b[94m\u001b[1m] for \u001b[0m'joint'\u001b[94m\u001b[1m fitting\u001b[0m\n",
      "🚀 Starting fit process with 'lmfit (leastsq)'...\n",
      "📈 Goodness-of-fit (reduced χ²) change:\n"
     ]
    },
    {
     "data": {
      "text/html": [
       "<table class=\"dataframe\" style=\"border-collapse: collapse; border: 1px solid #515155; margin-left: 0.5em;margin-top: 0.5em;margin-bottom: 1em;\">\n",
       "  <thead>\n",
       "    <tr style=\"text-align: right;\">\n",
       "      <th style=\"text-align: center;\">iteration</th>\n",
       "      <th style=\"text-align: center;\">χ²</th>\n",
       "      <th style=\"text-align: center;\">improvement [%]</th>\n",
       "    </tr>\n",
       "  </thead>\n",
       "  <tbody>\n",
       "    <tr>\n",
       "      <td><div style=\"text-align: center;\">1</div></td>\n",
       "      <td><div style=\"text-align: center;\">37.01</div></td>\n",
       "      <td><div style=\"text-align: center;\"></div></td>\n",
       "    </tr>\n",
       "    <tr>\n",
       "      <td><div style=\"text-align: center;\">25</div></td>\n",
       "      <td><div style=\"text-align: center;\">16.30</div></td>\n",
       "      <td><div style=\"text-align: center;\">56.0% ↓</div></td>\n",
       "    </tr>\n",
       "    <tr>\n",
       "      <td><div style=\"text-align: center;\">136</div></td>\n",
       "      <td><div style=\"text-align: center;\">16.21</div></td>\n",
       "      <td><div style=\"text-align: center;\"></div></td>\n",
       "    </tr>\n",
       "  </tbody>\n",
       "</table>"
      ],
      "text/plain": [
       "<IPython.core.display.HTML object>"
      ]
     },
     "metadata": {},
     "output_type": "display_data"
    },
    {
     "name": "stdout",
     "output_type": "stream",
     "text": [
      "🏆 Best goodness-of-fit (reduced χ²) is 16.21 at iteration 135\n",
      "✅ Fitting complete.\n"
     ]
    },
    {
     "name": "stdout",
     "output_type": "stream",
     "text": [
      "\n",
      "\u001b[94m\u001b[1mFit results\u001b[0m\n",
      "✅ Success: True\n",
      "⏱️ Fitting time: 9.48 seconds\n",
      "📏 Goodness-of-fit (reduced χ²): 16.21\n",
      "📏 R-factor (Rf): 13.18%\n",
      "📏 R-factor squared (Rf²): 17.19%\n",
      "📏 Weighted R-factor (wR): 17.09%\n",
      "📈 Fitted parameters:\n"
     ]
    },
    {
     "data": {
      "text/html": [
       "<table class=\"dataframe\" style=\"border-collapse: collapse; border: 1px solid #515155; margin-left: 0.5em;margin-top: 0.5em;margin-bottom: 1em;\">\n",
       "  <thead>\n",
       "    <tr style=\"text-align: right;\">\n",
       "      <th></th>\n",
       "      <th style=\"text-align: left;\">datablock</th>\n",
       "      <th style=\"text-align: left;\">category</th>\n",
       "      <th style=\"text-align: left;\">entry</th>\n",
       "      <th style=\"text-align: left;\">parameter</th>\n",
       "      <th style=\"text-align: right;\">start</th>\n",
       "      <th style=\"text-align: right;\">fitted</th>\n",
       "      <th style=\"text-align: right;\">uncertainty</th>\n",
       "      <th style=\"text-align: left;\">units</th>\n",
       "      <th style=\"text-align: right;\">change</th>\n",
       "    </tr>\n",
       "  </thead>\n",
       "  <tbody>\n",
       "    <tr>\n",
       "      <th>1</th>\n",
       "      <td><div style=\"text-align: left;\">pbso4</div></td>\n",
       "      <td><div style=\"text-align: left;\">cell</div></td>\n",
       "      <td><div style=\"text-align: left;\"></div></td>\n",
       "      <td><div style=\"text-align: left;\">length_a</div></td>\n",
       "      <td><div style=\"text-align: right;\">8.4700</div></td>\n",
       "      <td><div style=\"text-align: right;\">8.4693</div></td>\n",
       "      <td><div style=\"text-align: right;\">0.0002</div></td>\n",
       "      <td><div style=\"text-align: left;\">Å</div></td>\n",
       "      <td><div style=\"text-align: right;\">0.01 % ↓</div></td>\n",
       "    </tr>\n",
       "    <tr>\n",
       "      <th>2</th>\n",
       "      <td><div style=\"text-align: left;\">pbso4</div></td>\n",
       "      <td><div style=\"text-align: left;\">cell</div></td>\n",
       "      <td><div style=\"text-align: left;\"></div></td>\n",
       "      <td><div style=\"text-align: left;\">length_b</div></td>\n",
       "      <td><div style=\"text-align: right;\">5.3900</div></td>\n",
       "      <td><div style=\"text-align: right;\">5.3912</div></td>\n",
       "      <td><div style=\"text-align: right;\">0.0001</div></td>\n",
       "      <td><div style=\"text-align: left;\">Å</div></td>\n",
       "      <td><div style=\"text-align: right;\">0.02 % ↑</div></td>\n",
       "    </tr>\n",
       "    <tr>\n",
       "      <th>3</th>\n",
       "      <td><div style=\"text-align: left;\">pbso4</div></td>\n",
       "      <td><div style=\"text-align: left;\">cell</div></td>\n",
       "      <td><div style=\"text-align: left;\"></div></td>\n",
       "      <td><div style=\"text-align: left;\">length_c</div></td>\n",
       "      <td><div style=\"text-align: right;\">6.9500</div></td>\n",
       "      <td><div style=\"text-align: right;\">6.9504</div></td>\n",
       "      <td><div style=\"text-align: right;\">0.0002</div></td>\n",
       "      <td><div style=\"text-align: left;\">Å</div></td>\n",
       "      <td><div style=\"text-align: right;\">0.01 % ↑</div></td>\n",
       "    </tr>\n",
       "    <tr>\n",
       "      <th>4</th>\n",
       "      <td><div style=\"text-align: left;\">npd</div></td>\n",
       "      <td><div style=\"text-align: left;\">instrument</div></td>\n",
       "      <td><div style=\"text-align: left;\"></div></td>\n",
       "      <td><div style=\"text-align: left;\">twotheta_offset</div></td>\n",
       "      <td><div style=\"text-align: right;\">-0.1406</div></td>\n",
       "      <td><div style=\"text-align: right;\">-0.1385</div></td>\n",
       "      <td><div style=\"text-align: right;\">0.0019</div></td>\n",
       "      <td><div style=\"text-align: left;\">deg</div></td>\n",
       "      <td><div style=\"text-align: right;\">1.47 % ↓</div></td>\n",
       "    </tr>\n",
       "    <tr>\n",
       "      <th>5</th>\n",
       "      <td><div style=\"text-align: left;\">npd</div></td>\n",
       "      <td><div style=\"text-align: left;\">linked_phases</div></td>\n",
       "      <td><div style=\"text-align: left;\">pbso4</div></td>\n",
       "      <td><div style=\"text-align: left;\">scale</div></td>\n",
       "      <td><div style=\"text-align: right;\">1.5000</div></td>\n",
       "      <td><div style=\"text-align: right;\">1.4622</div></td>\n",
       "      <td><div style=\"text-align: right;\">0.0049</div></td>\n",
       "      <td><div style=\"text-align: left;\"></div></td>\n",
       "      <td><div style=\"text-align: right;\">2.52 % ↓</div></td>\n",
       "    </tr>\n",
       "    <tr>\n",
       "      <th>6</th>\n",
       "      <td><div style=\"text-align: left;\">npd</div></td>\n",
       "      <td><div style=\"text-align: left;\">peak</div></td>\n",
       "      <td><div style=\"text-align: left;\"></div></td>\n",
       "      <td><div style=\"text-align: left;\">broad_gauss_u</div></td>\n",
       "      <td><div style=\"text-align: right;\">0.1390</div></td>\n",
       "      <td><div style=\"text-align: right;\">0.2901</div></td>\n",
       "      <td><div style=\"text-align: right;\">0.0350</div></td>\n",
       "      <td><div style=\"text-align: left;\">deg²</div></td>\n",
       "      <td><div style=\"text-align: right;\">108.67 % ↑</div></td>\n",
       "    </tr>\n",
       "    <tr>\n",
       "      <th>7</th>\n",
       "      <td><div style=\"text-align: left;\">npd</div></td>\n",
       "      <td><div style=\"text-align: left;\">peak</div></td>\n",
       "      <td><div style=\"text-align: left;\"></div></td>\n",
       "      <td><div style=\"text-align: left;\">broad_gauss_v</div></td>\n",
       "      <td><div style=\"text-align: right;\">-0.4120</div></td>\n",
       "      <td><div style=\"text-align: right;\">-0.6390</div></td>\n",
       "      <td><div style=\"text-align: right;\">0.0531</div></td>\n",
       "      <td><div style=\"text-align: left;\">deg²</div></td>\n",
       "      <td><div style=\"text-align: right;\">55.10 % ↑</div></td>\n",
       "    </tr>\n",
       "    <tr>\n",
       "      <th>8</th>\n",
       "      <td><div style=\"text-align: left;\">npd</div></td>\n",
       "      <td><div style=\"text-align: left;\">peak</div></td>\n",
       "      <td><div style=\"text-align: left;\"></div></td>\n",
       "      <td><div style=\"text-align: left;\">broad_gauss_w</div></td>\n",
       "      <td><div style=\"text-align: right;\">0.3860</div></td>\n",
       "      <td><div style=\"text-align: right;\">0.4552</div></td>\n",
       "      <td><div style=\"text-align: right;\">0.0186</div></td>\n",
       "      <td><div style=\"text-align: left;\">deg²</div></td>\n",
       "      <td><div style=\"text-align: right;\">17.92 % ↑</div></td>\n",
       "    </tr>\n",
       "    <tr>\n",
       "      <th>9</th>\n",
       "      <td><div style=\"text-align: left;\">npd</div></td>\n",
       "      <td><div style=\"text-align: left;\">peak</div></td>\n",
       "      <td><div style=\"text-align: left;\"></div></td>\n",
       "      <td><div style=\"text-align: left;\">broad_lorentz_y</div></td>\n",
       "      <td><div style=\"text-align: right;\">0.0880</div></td>\n",
       "      <td><div style=\"text-align: right;\">0.0931</div></td>\n",
       "      <td><div style=\"text-align: right;\">0.0034</div></td>\n",
       "      <td><div style=\"text-align: left;\">deg</div></td>\n",
       "      <td><div style=\"text-align: right;\">5.76 % ↑</div></td>\n",
       "    </tr>\n",
       "    <tr>\n",
       "      <th>10</th>\n",
       "      <td><div style=\"text-align: left;\">xrd</div></td>\n",
       "      <td><div style=\"text-align: left;\">background</div></td>\n",
       "      <td><div style=\"text-align: left;\">0</div></td>\n",
       "      <td><div style=\"text-align: left;\">chebyshev_coef</div></td>\n",
       "      <td><div style=\"text-align: right;\">119.1950</div></td>\n",
       "      <td><div style=\"text-align: right;\">85.8587</div></td>\n",
       "      <td><div style=\"text-align: right;\">1.3293</div></td>\n",
       "      <td><div style=\"text-align: left;\"></div></td>\n",
       "      <td><div style=\"text-align: right;\">27.97 % ↓</div></td>\n",
       "    </tr>\n",
       "    <tr>\n",
       "      <th>11</th>\n",
       "      <td><div style=\"text-align: left;\">xrd</div></td>\n",
       "      <td><div style=\"text-align: left;\">background</div></td>\n",
       "      <td><div style=\"text-align: left;\">1</div></td>\n",
       "      <td><div style=\"text-align: left;\">chebyshev_coef</div></td>\n",
       "      <td><div style=\"text-align: right;\">6.2210</div></td>\n",
       "      <td><div style=\"text-align: right;\">-19.3112</div></td>\n",
       "      <td><div style=\"text-align: right;\">1.8805</div></td>\n",
       "      <td><div style=\"text-align: left;\"></div></td>\n",
       "      <td><div style=\"text-align: right;\">410.42 % ↓</div></td>\n",
       "    </tr>\n",
       "    <tr>\n",
       "      <th>12</th>\n",
       "      <td><div style=\"text-align: left;\">xrd</div></td>\n",
       "      <td><div style=\"text-align: left;\">background</div></td>\n",
       "      <td><div style=\"text-align: left;\">2</div></td>\n",
       "      <td><div style=\"text-align: left;\">chebyshev_coef</div></td>\n",
       "      <td><div style=\"text-align: right;\">-45.7250</div></td>\n",
       "      <td><div style=\"text-align: right;\">5.3658</div></td>\n",
       "      <td><div style=\"text-align: right;\">1.7778</div></td>\n",
       "      <td><div style=\"text-align: left;\"></div></td>\n",
       "      <td><div style=\"text-align: right;\">111.74 % ↓</div></td>\n",
       "    </tr>\n",
       "    <tr>\n",
       "      <th>13</th>\n",
       "      <td><div style=\"text-align: left;\">xrd</div></td>\n",
       "      <td><div style=\"text-align: left;\">background</div></td>\n",
       "      <td><div style=\"text-align: left;\">3</div></td>\n",
       "      <td><div style=\"text-align: left;\">chebyshev_coef</div></td>\n",
       "      <td><div style=\"text-align: right;\">8.1190</div></td>\n",
       "      <td><div style=\"text-align: right;\">11.8842</div></td>\n",
       "      <td><div style=\"text-align: right;\">1.7472</div></td>\n",
       "      <td><div style=\"text-align: left;\"></div></td>\n",
       "      <td><div style=\"text-align: right;\">46.37 % ↑</div></td>\n",
       "    </tr>\n",
       "    <tr>\n",
       "      <th>14</th>\n",
       "      <td><div style=\"text-align: left;\">xrd</div></td>\n",
       "      <td><div style=\"text-align: left;\">background</div></td>\n",
       "      <td><div style=\"text-align: left;\">4</div></td>\n",
       "      <td><div style=\"text-align: left;\">chebyshev_coef</div></td>\n",
       "      <td><div style=\"text-align: right;\">54.5520</div></td>\n",
       "      <td><div style=\"text-align: right;\">18.5560</div></td>\n",
       "      <td><div style=\"text-align: right;\">1.5670</div></td>\n",
       "      <td><div style=\"text-align: left;\"></div></td>\n",
       "      <td><div style=\"text-align: right;\">65.98 % ↓</div></td>\n",
       "    </tr>\n",
       "    <tr>\n",
       "      <th>15</th>\n",
       "      <td><div style=\"text-align: left;\">xrd</div></td>\n",
       "      <td><div style=\"text-align: left;\">background</div></td>\n",
       "      <td><div style=\"text-align: left;\">5</div></td>\n",
       "      <td><div style=\"text-align: left;\">chebyshev_coef</div></td>\n",
       "      <td><div style=\"text-align: right;\">-20.6610</div></td>\n",
       "      <td><div style=\"text-align: right;\">-6.4093</div></td>\n",
       "      <td><div style=\"text-align: right;\">1.5359</div></td>\n",
       "      <td><div style=\"text-align: left;\"></div></td>\n",
       "      <td><div style=\"text-align: right;\">68.98 % ↓</div></td>\n",
       "    </tr>\n",
       "    <tr>\n",
       "      <th>16</th>\n",
       "      <td><div style=\"text-align: left;\">xrd</div></td>\n",
       "      <td><div style=\"text-align: left;\">instrument</div></td>\n",
       "      <td><div style=\"text-align: left;\"></div></td>\n",
       "      <td><div style=\"text-align: left;\">twotheta_offset</div></td>\n",
       "      <td><div style=\"text-align: right;\">-0.0518</div></td>\n",
       "      <td><div style=\"text-align: right;\">-0.0637</div></td>\n",
       "      <td><div style=\"text-align: right;\">0.0009</div></td>\n",
       "      <td><div style=\"text-align: left;\">deg</div></td>\n",
       "      <td><div style=\"text-align: right;\">22.93 % ↑</div></td>\n",
       "    </tr>\n",
       "    <tr>\n",
       "      <th>17</th>\n",
       "      <td><div style=\"text-align: left;\">xrd</div></td>\n",
       "      <td><div style=\"text-align: left;\">linked_phases</div></td>\n",
       "      <td><div style=\"text-align: left;\">pbso4</div></td>\n",
       "      <td><div style=\"text-align: left;\">scale</div></td>\n",
       "      <td><div style=\"text-align: right;\">0.0010</div></td>\n",
       "      <td><div style=\"text-align: right;\">0.0010</div></td>\n",
       "      <td><div style=\"text-align: right;\">0.0000</div></td>\n",
       "      <td><div style=\"text-align: left;\"></div></td>\n",
       "      <td><div style=\"text-align: right;\">1.52 % ↓</div></td>\n",
       "    </tr>\n",
       "    <tr>\n",
       "      <th>18</th>\n",
       "      <td><div style=\"text-align: left;\">xrd</div></td>\n",
       "      <td><div style=\"text-align: left;\">peak</div></td>\n",
       "      <td><div style=\"text-align: left;\"></div></td>\n",
       "      <td><div style=\"text-align: left;\">broad_gauss_u</div></td>\n",
       "      <td><div style=\"text-align: right;\">0.3041</div></td>\n",
       "      <td><div style=\"text-align: right;\">0.5724</div></td>\n",
       "      <td><div style=\"text-align: right;\">0.0196</div></td>\n",
       "      <td><div style=\"text-align: left;\">deg²</div></td>\n",
       "      <td><div style=\"text-align: right;\">88.21 % ↑</div></td>\n",
       "    </tr>\n",
       "    <tr>\n",
       "      <th>19</th>\n",
       "      <td><div style=\"text-align: left;\">xrd</div></td>\n",
       "      <td><div style=\"text-align: left;\">peak</div></td>\n",
       "      <td><div style=\"text-align: left;\"></div></td>\n",
       "      <td><div style=\"text-align: left;\">broad_gauss_v</div></td>\n",
       "      <td><div style=\"text-align: right;\">-0.1126</div></td>\n",
       "      <td><div style=\"text-align: right;\">-0.2799</div></td>\n",
       "      <td><div style=\"text-align: right;\">0.0142</div></td>\n",
       "      <td><div style=\"text-align: left;\">deg²</div></td>\n",
       "      <td><div style=\"text-align: right;\">148.57 % ↑</div></td>\n",
       "    </tr>\n",
       "    <tr>\n",
       "      <th>20</th>\n",
       "      <td><div style=\"text-align: left;\">xrd</div></td>\n",
       "      <td><div style=\"text-align: left;\">peak</div></td>\n",
       "      <td><div style=\"text-align: left;\"></div></td>\n",
       "      <td><div style=\"text-align: left;\">broad_gauss_w</div></td>\n",
       "      <td><div style=\"text-align: right;\">0.0213</div></td>\n",
       "      <td><div style=\"text-align: right;\">0.0452</div></td>\n",
       "      <td><div style=\"text-align: right;\">0.0024</div></td>\n",
       "      <td><div style=\"text-align: left;\">deg²</div></td>\n",
       "      <td><div style=\"text-align: right;\">112.27 % ↑</div></td>\n",
       "    </tr>\n",
       "    <tr>\n",
       "      <th>21</th>\n",
       "      <td><div style=\"text-align: left;\">xrd</div></td>\n",
       "      <td><div style=\"text-align: left;\">peak</div></td>\n",
       "      <td><div style=\"text-align: left;\"></div></td>\n",
       "      <td><div style=\"text-align: left;\">broad_lorentz_y</div></td>\n",
       "      <td><div style=\"text-align: right;\">0.0577</div></td>\n",
       "      <td><div style=\"text-align: right;\">0.0587</div></td>\n",
       "      <td><div style=\"text-align: right;\">0.0014</div></td>\n",
       "      <td><div style=\"text-align: left;\">deg</div></td>\n",
       "      <td><div style=\"text-align: right;\">1.75 % ↑</div></td>\n",
       "    </tr>\n",
       "  </tbody>\n",
       "</table>"
      ],
      "text/plain": [
       "<IPython.core.display.HTML object>"
      ]
     },
     "metadata": {},
     "output_type": "display_data"
    }
   ],
   "source": [
    "project.analysis.fit()"
   ]
  },
  {
   "cell_type": "markdown",
   "id": "60",
   "metadata": {},
   "source": [
    "#### Plot Measured vs Calculated"
   ]
  },
  {
   "cell_type": "code",
   "execution_count": 31,
   "id": "61",
   "metadata": {
    "execution": {
     "iopub.execute_input": "2025-08-30T21:29:43.712984Z",
     "iopub.status.busy": "2025-08-30T21:29:43.712859Z",
     "iopub.status.idle": "2025-08-30T21:29:43.932294Z",
     "shell.execute_reply": "2025-08-30T21:29:43.925111Z"
    }
   },
   "outputs": [
    {
     "data": {
      "text/html": [
       "<div>                        <script type=\"text/javascript\">window.PlotlyConfig = {MathJaxConfig: 'local'};</script>\n",
       "        <script charset=\"utf-8\" src=\"https://cdn.plot.ly/plotly-3.1.0.min.js\" integrity=\"sha256-Ei4740bWZhaUTQuD6q9yQlgVCMPBz6CZWhevDYPv93A=\" crossorigin=\"anonymous\"></script>                <div id=\"6097e805-4b85-4566-950c-2462f0fc6302\" class=\"plotly-graph-div\" style=\"height:100%; width:100%;\"></div>            <script type=\"text/javascript\">                window.PLOTLYENV=window.PLOTLYENV || {};                                if (document.getElementById(\"6097e805-4b85-4566-950c-2462f0fc6302\")) {                    Plotly.newPlot(                        \"6097e805-4b85-4566-950c-2462f0fc6302\",                        [{\"line\":{\"color\":\"rgb(31, 119, 180)\"},\"mode\":\"lines+markers\",\"name\":\"Measured (Imeas)\",\"x\":{\"dtype\":\"f8\",\"bdata\":\"AAAAAADAQUBmZmZmZsZBQM3MzMzMzEFAMzMzMzPTQUCamZmZmdlBQAAAAAAA4EFAZmZmZmbmQUDNzMzMzOxBQDMzMzMz80FAmpmZmZn5QUAAAAAAAABCQGZmZmZmBkJAzczMzMwMQkAzMzMzMxNCQJqZmZmZGUJAAAAAAAAgQkBmZmZmZiZCQM3MzMzMLEJAMzMzMzMzQkCamZmZmTlCQAAAAAAAQEJAZmZmZmZGQkDNzMzMzExCQDMzMzMzU0JAmpmZmZlZQkAAAAAAAGBCQGZmZmZmZkJAzczMzMxsQkAzMzMzM3NCQJqZmZmZeUJAAAAAAACAQkBmZmZmZoZCQM3MzMzMjEJAMzMzMzOTQkCamZmZmZlCQAAAAAAAoEJAZmZmZmamQkDNzMzMzKxCQDMzMzMzs0JAmpmZmZm5QkAAAAAAAMBCQGZmZmZmxkJAzczMzMzMQkAzMzMzM9NCQJqZmZmZ2UJAAAAAAADgQkBmZmZmZuZCQM3MzMzM7EJAMzMzMzPzQkCamZmZmflCQAAAAAAAAENAZmZmZmYGQ0DNzMzMzAxDQDMzMzMzE0NAmpmZmZkZQ0AAAAAAACBDQGZmZmZmJkNA\"},\"y\":{\"dtype\":\"f8\",\"bdata\":\"AAAAAAAgaUAAAAAAAABpQAAAAAAAQGhAAAAAAACAaEAAAAAAAGBpQAAAAAAAYGhAAAAAAACAaEAAAAAAAGBqQAAAAAAAAGtAAAAAAADgaUAAAAAAAOBqQAAAAAAAoGtAAAAAAACgbUAAAAAAAABvQAAAAAAAUHBAAAAAAABwcUAAAAAAAPBzQAAAAAAAEHVAAAAAAADAdkAAAAAAAHB6QAAAAAAAkH5AAAAAAABogUAAAAAAALCDQAAAAAAAyIZAAAAAAACwiUAAAAAAAHiNQAAAAAAAjJBAAAAAAACwkkAAAAAAAEyTQAAAAAAAEJNAAAAAAADkkkAAAAAAAKCRQAAAAAAASI9AAAAAAAAAi0AAAAAAAMiGQAAAAAAAyIJAAAAAAAAAf0AAAAAAACB6QAAAAAAAMHZAAAAAAACQc0AAAAAAAHBwQAAAAAAAwG5AAAAAAABAbEAAAAAAAMBqQAAAAAAAwGtAAAAAAADAa0AAAAAAAGBqQAAAAAAAYGpAAAAAAABAaUAAAAAAAMBoQAAAAAAAAGhAAAAAAAAgaEAAAAAAAIBoQAAAAAAAIGlAAAAAAABgaUAAAAAAAGBpQAAAAAAAIGlA\"},\"type\":\"scatter\"},{\"line\":{\"color\":\"rgb(214, 39, 40)\"},\"mode\":\"lines\",\"name\":\"Total calculated (Icalc)\",\"x\":{\"dtype\":\"f8\",\"bdata\":\"AAAAAADAQUBmZmZmZsZBQM3MzMzMzEFAMzMzMzPTQUCamZmZmdlBQAAAAAAA4EFAZmZmZmbmQUDNzMzMzOxBQDMzMzMz80FAmpmZmZn5QUAAAAAAAABCQGZmZmZmBkJAzczMzMwMQkAzMzMzMxNCQJqZmZmZGUJAAAAAAAAgQkBmZmZmZiZCQM3MzMzMLEJAMzMzMzMzQkCamZmZmTlCQAAAAAAAQEJAZmZmZmZGQkDNzMzMzExCQDMzMzMzU0JAmpmZmZlZQkAAAAAAAGBCQGZmZmZmZkJAzczMzMxsQkAzMzMzM3NCQJqZmZmZeUJAAAAAAACAQkBmZmZmZoZCQM3MzMzMjEJAMzMzMzOTQkCamZmZmZlCQAAAAAAAoEJAZmZmZmamQkDNzMzMzKxCQDMzMzMzs0JAmpmZmZm5QkAAAAAAAMBCQGZmZmZmxkJAzczMzMzMQkAzMzMzM9NCQJqZmZmZ2UJAAAAAAADgQkBmZmZmZuZCQM3MzMzM7EJAMzMzMzPzQkCamZmZmflCQAAAAAAAAENAZmZmZmYGQ0DNzMzMzAxDQDMzMzMzE0NAmpmZmZkZQ0AAAAAAACBDQGZmZmZmJkNA\"},\"y\":{\"dtype\":\"f8\",\"bdata\":\"GaGz0hfBaUDutgRtRstpQByHA1nA12lAF6Bcsp3maUA7LWFTEPhpQGML6SpmDGpAPOpeDxUkakC+H9WU1T9qQEKXtTvYYGpANa6ESyiJakB2bL5mWbxqQOGeLuClAGtAtySkV6Zga0CIydt3ve1rQMhGk4Iow2xAYkQLTVQJbkBM4zexnvhvQEb7EAsSbXFAKkZTM2mCc0CiVzcCgWp2QPFO68jKTnpA2N2d25xJf0BKAyVEI62CQGHpeWYALYZAGnbLz0f6iUAbxLdFcNONQK\\u002fwV1k+sZBAyAD+ET8ikkBtU3QyBwyTQCj5N5piSpNAKJZoAljSkkACXc919raRQHJ5CYXEIZBAEeX2B8eKjEC0B6HvXaWIQEUVgVja5IRA94FRs22EgUD2Wg0YMU59QPz82mzgsnhACAJsjl8sdUBoxs1KhJhyQP8f3OydyXBAIZSvrakgb0BeAB5ccIRtQH9kqcn2eWxA4R2z0jjOa0AXYO60211rQPbUZcbUEWtAv62we+bbakAgUy04pLNqQJzXA4M5lGpA1pUm9up6akD+v2aNKGZqQKUNPhUEVWpAuJoEHOZGakC9xkHgZjtqQNlh0Jc6MmpA\"},\"type\":\"scatter\"},{\"line\":{\"color\":\"rgb(44, 160, 44)\"},\"mode\":\"lines\",\"name\":\"Residual (Imeas - Icalc)\",\"x\":{\"dtype\":\"f8\",\"bdata\":\"AAAAAADAQUBmZmZmZsZBQM3MzMzMzEFAMzMzMzPTQUCamZmZmdlBQAAAAAAA4EFAZmZmZmbmQUDNzMzMzOxBQDMzMzMz80FAmpmZmZn5QUAAAAAAAABCQGZmZmZmBkJAzczMzMwMQkAzMzMzMxNCQJqZmZmZGUJAAAAAAAAgQkBmZmZmZiZCQM3MzMzMLEJAMzMzMzMzQkCamZmZmTlCQAAAAAAAQEJAZmZmZmZGQkDNzMzMzExCQDMzMzMzU0JAmpmZmZlZQkAAAAAAAGBCQGZmZmZmZkJAzczMzMxsQkAzMzMzM3NCQJqZmZmZeUJAAAAAAACAQkBmZmZmZoZCQM3MzMzMjEJAMzMzMzOTQkCamZmZmZlCQAAAAAAAoEJAZmZmZmamQkDNzMzMzKxCQDMzMzMzs0JAmpmZmZm5QkAAAAAAAMBCQGZmZmZmxkJAzczMzMzMQkAzMzMzM9NCQJqZmZmZ2UJAAAAAAADgQkBmZmZmZuZCQM3MzMzM7EJAMzMzMzPzQkCamZmZmflCQAAAAAAAAENAZmZmZmYGQ0DNzMzMzAxDQDMzMzMzE0NAmpmZmZkZQ0AAAAAAACBDQGZmZmZmJkNA\"},\"y\":{\"dtype\":\"f8\",\"bdata\":\"ICN0VvoiFMDA3ZagzWgZwMBxOJAFfCnAcAHKJdtpJsBgpyVsCgITwDC2kK5ixirAwKPu9VBBKsAAIXCVNRXwP8AXTYn45BNAoMaVcAklFcAAxcmgTNPxP+AjLPpD6xNASNreQs36MUDAsyFBFJI4QMDJZeu75j5AeO7Sy65aQ0DQciA7hZ1PQNAleKdvF01AsM5lZbbsSUB4oSL3+xVQQDzEUtzUBFFAQBERIxkzTEBgy6+9yy1AQODTwjDzXzNAgIbd8vORIsDABvFtEdwmwIBX+KssnyLAAOc\\u002fwB24QUCASdbFZvwvQACU\\u002fBtNMS3AANhpl\\u002f2nEUAAAl3PdfYWwIBcXkIhcT\\u002fAEFFuf3CsSMBAexD63tVNwCiqCMTS5lDAuA+Mmm0jUMCw12rAiHFJwODn12YDF0TAgCDA5vjFOcBAM25WIkRBwPD\\u002fwc3emTbACKF8bU0FN8DwAvDggiM2wOCPLDXZPhfAAMI7ZqVx3L\\u002fgAsyddrsfwMCeusyYOhbA8NsKu2e+KcAAMtWCQzovwOC8HhjMoTTAsK40sVfXMsDg\\u002f2vWiGIuwFDa4FNBUCPAAFeTgMPcHMCg1zgI3GwbwJAdBn2pIyHA\"},\"type\":\"scatter\"}],                        {\"legend\":{\"x\":1.0,\"xanchor\":\"right\",\"y\":1.0,\"yanchor\":\"top\"},\"margin\":{\"autoexpand\":true,\"b\":45,\"r\":30,\"t\":40},\"title\":{\"text\":\"Measured vs Calculated data for experiment \\ud83d\\udd2c 'npd'\"},\"xaxis\":{\"mirror\":true,\"showline\":true,\"title\":{\"text\":\"2\\u03b8 (degree)\"},\"zeroline\":false,\"tickformat\":\",.6~g\",\"separatethousands\":true},\"yaxis\":{\"mirror\":true,\"showline\":true,\"title\":{\"text\":\"Intensity (arb. units)\"},\"zeroline\":false,\"tickformat\":\",.6~g\",\"separatethousands\":true},\"template\":{\"data\":{\"histogram2dcontour\":[{\"type\":\"histogram2dcontour\",\"colorbar\":{\"outlinewidth\":0,\"ticks\":\"\"},\"colorscale\":[[0.0,\"#0d0887\"],[0.1111111111111111,\"#46039f\"],[0.2222222222222222,\"#7201a8\"],[0.3333333333333333,\"#9c179e\"],[0.4444444444444444,\"#bd3786\"],[0.5555555555555556,\"#d8576b\"],[0.6666666666666666,\"#ed7953\"],[0.7777777777777778,\"#fb9f3a\"],[0.8888888888888888,\"#fdca26\"],[1.0,\"#f0f921\"]]}],\"choropleth\":[{\"type\":\"choropleth\",\"colorbar\":{\"outlinewidth\":0,\"ticks\":\"\"}}],\"histogram2d\":[{\"type\":\"histogram2d\",\"colorbar\":{\"outlinewidth\":0,\"ticks\":\"\"},\"colorscale\":[[0.0,\"#0d0887\"],[0.1111111111111111,\"#46039f\"],[0.2222222222222222,\"#7201a8\"],[0.3333333333333333,\"#9c179e\"],[0.4444444444444444,\"#bd3786\"],[0.5555555555555556,\"#d8576b\"],[0.6666666666666666,\"#ed7953\"],[0.7777777777777778,\"#fb9f3a\"],[0.8888888888888888,\"#fdca26\"],[1.0,\"#f0f921\"]]}],\"heatmap\":[{\"type\":\"heatmap\",\"colorbar\":{\"outlinewidth\":0,\"ticks\":\"\"},\"colorscale\":[[0.0,\"#0d0887\"],[0.1111111111111111,\"#46039f\"],[0.2222222222222222,\"#7201a8\"],[0.3333333333333333,\"#9c179e\"],[0.4444444444444444,\"#bd3786\"],[0.5555555555555556,\"#d8576b\"],[0.6666666666666666,\"#ed7953\"],[0.7777777777777778,\"#fb9f3a\"],[0.8888888888888888,\"#fdca26\"],[1.0,\"#f0f921\"]]}],\"contourcarpet\":[{\"type\":\"contourcarpet\",\"colorbar\":{\"outlinewidth\":0,\"ticks\":\"\"}}],\"contour\":[{\"type\":\"contour\",\"colorbar\":{\"outlinewidth\":0,\"ticks\":\"\"},\"colorscale\":[[0.0,\"#0d0887\"],[0.1111111111111111,\"#46039f\"],[0.2222222222222222,\"#7201a8\"],[0.3333333333333333,\"#9c179e\"],[0.4444444444444444,\"#bd3786\"],[0.5555555555555556,\"#d8576b\"],[0.6666666666666666,\"#ed7953\"],[0.7777777777777778,\"#fb9f3a\"],[0.8888888888888888,\"#fdca26\"],[1.0,\"#f0f921\"]]}],\"surface\":[{\"type\":\"surface\",\"colorbar\":{\"outlinewidth\":0,\"ticks\":\"\"},\"colorscale\":[[0.0,\"#0d0887\"],[0.1111111111111111,\"#46039f\"],[0.2222222222222222,\"#7201a8\"],[0.3333333333333333,\"#9c179e\"],[0.4444444444444444,\"#bd3786\"],[0.5555555555555556,\"#d8576b\"],[0.6666666666666666,\"#ed7953\"],[0.7777777777777778,\"#fb9f3a\"],[0.8888888888888888,\"#fdca26\"],[1.0,\"#f0f921\"]]}],\"mesh3d\":[{\"type\":\"mesh3d\",\"colorbar\":{\"outlinewidth\":0,\"ticks\":\"\"}}],\"scatter\":[{\"fillpattern\":{\"fillmode\":\"overlay\",\"size\":10,\"solidity\":0.2},\"type\":\"scatter\"}],\"parcoords\":[{\"type\":\"parcoords\",\"line\":{\"colorbar\":{\"outlinewidth\":0,\"ticks\":\"\"}}}],\"scatterpolargl\":[{\"type\":\"scatterpolargl\",\"marker\":{\"colorbar\":{\"outlinewidth\":0,\"ticks\":\"\"}}}],\"bar\":[{\"error_x\":{\"color\":\"#2a3f5f\"},\"error_y\":{\"color\":\"#2a3f5f\"},\"marker\":{\"line\":{\"color\":\"white\",\"width\":0.5},\"pattern\":{\"fillmode\":\"overlay\",\"size\":10,\"solidity\":0.2}},\"type\":\"bar\"}],\"scattergeo\":[{\"type\":\"scattergeo\",\"marker\":{\"colorbar\":{\"outlinewidth\":0,\"ticks\":\"\"}}}],\"scatterpolar\":[{\"type\":\"scatterpolar\",\"marker\":{\"colorbar\":{\"outlinewidth\":0,\"ticks\":\"\"}}}],\"histogram\":[{\"marker\":{\"pattern\":{\"fillmode\":\"overlay\",\"size\":10,\"solidity\":0.2}},\"type\":\"histogram\"}],\"scattergl\":[{\"type\":\"scattergl\",\"marker\":{\"colorbar\":{\"outlinewidth\":0,\"ticks\":\"\"}}}],\"scatter3d\":[{\"type\":\"scatter3d\",\"line\":{\"colorbar\":{\"outlinewidth\":0,\"ticks\":\"\"}},\"marker\":{\"colorbar\":{\"outlinewidth\":0,\"ticks\":\"\"}}}],\"scattermap\":[{\"type\":\"scattermap\",\"marker\":{\"colorbar\":{\"outlinewidth\":0,\"ticks\":\"\"}}}],\"scattermapbox\":[{\"type\":\"scattermapbox\",\"marker\":{\"colorbar\":{\"outlinewidth\":0,\"ticks\":\"\"}}}],\"scatterternary\":[{\"type\":\"scatterternary\",\"marker\":{\"colorbar\":{\"outlinewidth\":0,\"ticks\":\"\"}}}],\"scattercarpet\":[{\"type\":\"scattercarpet\",\"marker\":{\"colorbar\":{\"outlinewidth\":0,\"ticks\":\"\"}}}],\"carpet\":[{\"aaxis\":{\"endlinecolor\":\"#2a3f5f\",\"gridcolor\":\"#C8D4E3\",\"linecolor\":\"#C8D4E3\",\"minorgridcolor\":\"#C8D4E3\",\"startlinecolor\":\"#2a3f5f\"},\"baxis\":{\"endlinecolor\":\"#2a3f5f\",\"gridcolor\":\"#C8D4E3\",\"linecolor\":\"#C8D4E3\",\"minorgridcolor\":\"#C8D4E3\",\"startlinecolor\":\"#2a3f5f\"},\"type\":\"carpet\"}],\"table\":[{\"cells\":{\"fill\":{\"color\":\"#EBF0F8\"},\"line\":{\"color\":\"white\"}},\"header\":{\"fill\":{\"color\":\"#C8D4E3\"},\"line\":{\"color\":\"white\"}},\"type\":\"table\"}],\"barpolar\":[{\"marker\":{\"line\":{\"color\":\"white\",\"width\":0.5},\"pattern\":{\"fillmode\":\"overlay\",\"size\":10,\"solidity\":0.2}},\"type\":\"barpolar\"}],\"pie\":[{\"automargin\":true,\"type\":\"pie\"}]},\"layout\":{\"autotypenumbers\":\"strict\",\"colorway\":[\"#636efa\",\"#EF553B\",\"#00cc96\",\"#ab63fa\",\"#FFA15A\",\"#19d3f3\",\"#FF6692\",\"#B6E880\",\"#FF97FF\",\"#FECB52\"],\"font\":{\"color\":\"#2a3f5f\"},\"hovermode\":\"closest\",\"hoverlabel\":{\"align\":\"left\"},\"paper_bgcolor\":\"white\",\"plot_bgcolor\":\"white\",\"polar\":{\"bgcolor\":\"white\",\"angularaxis\":{\"gridcolor\":\"#EBF0F8\",\"linecolor\":\"#EBF0F8\",\"ticks\":\"\"},\"radialaxis\":{\"gridcolor\":\"#EBF0F8\",\"linecolor\":\"#EBF0F8\",\"ticks\":\"\"}},\"ternary\":{\"bgcolor\":\"white\",\"aaxis\":{\"gridcolor\":\"#DFE8F3\",\"linecolor\":\"#A2B1C6\",\"ticks\":\"\"},\"baxis\":{\"gridcolor\":\"#DFE8F3\",\"linecolor\":\"#A2B1C6\",\"ticks\":\"\"},\"caxis\":{\"gridcolor\":\"#DFE8F3\",\"linecolor\":\"#A2B1C6\",\"ticks\":\"\"}},\"coloraxis\":{\"colorbar\":{\"outlinewidth\":0,\"ticks\":\"\"}},\"colorscale\":{\"sequential\":[[0.0,\"#0d0887\"],[0.1111111111111111,\"#46039f\"],[0.2222222222222222,\"#7201a8\"],[0.3333333333333333,\"#9c179e\"],[0.4444444444444444,\"#bd3786\"],[0.5555555555555556,\"#d8576b\"],[0.6666666666666666,\"#ed7953\"],[0.7777777777777778,\"#fb9f3a\"],[0.8888888888888888,\"#fdca26\"],[1.0,\"#f0f921\"]],\"sequentialminus\":[[0.0,\"#0d0887\"],[0.1111111111111111,\"#46039f\"],[0.2222222222222222,\"#7201a8\"],[0.3333333333333333,\"#9c179e\"],[0.4444444444444444,\"#bd3786\"],[0.5555555555555556,\"#d8576b\"],[0.6666666666666666,\"#ed7953\"],[0.7777777777777778,\"#fb9f3a\"],[0.8888888888888888,\"#fdca26\"],[1.0,\"#f0f921\"]],\"diverging\":[[0,\"#8e0152\"],[0.1,\"#c51b7d\"],[0.2,\"#de77ae\"],[0.3,\"#f1b6da\"],[0.4,\"#fde0ef\"],[0.5,\"#f7f7f7\"],[0.6,\"#e6f5d0\"],[0.7,\"#b8e186\"],[0.8,\"#7fbc41\"],[0.9,\"#4d9221\"],[1,\"#276419\"]]},\"xaxis\":{\"gridcolor\":\"#EBF0F8\",\"linecolor\":\"#EBF0F8\",\"ticks\":\"\",\"title\":{\"standoff\":15},\"zerolinecolor\":\"#EBF0F8\",\"automargin\":true,\"zerolinewidth\":2},\"yaxis\":{\"gridcolor\":\"#EBF0F8\",\"linecolor\":\"#EBF0F8\",\"ticks\":\"\",\"title\":{\"standoff\":15},\"zerolinecolor\":\"#EBF0F8\",\"automargin\":true,\"zerolinewidth\":2},\"scene\":{\"xaxis\":{\"backgroundcolor\":\"white\",\"gridcolor\":\"#DFE8F3\",\"linecolor\":\"#EBF0F8\",\"showbackground\":true,\"ticks\":\"\",\"zerolinecolor\":\"#EBF0F8\",\"gridwidth\":2},\"yaxis\":{\"backgroundcolor\":\"white\",\"gridcolor\":\"#DFE8F3\",\"linecolor\":\"#EBF0F8\",\"showbackground\":true,\"ticks\":\"\",\"zerolinecolor\":\"#EBF0F8\",\"gridwidth\":2},\"zaxis\":{\"backgroundcolor\":\"white\",\"gridcolor\":\"#DFE8F3\",\"linecolor\":\"#EBF0F8\",\"showbackground\":true,\"ticks\":\"\",\"zerolinecolor\":\"#EBF0F8\",\"gridwidth\":2}},\"shapedefaults\":{\"line\":{\"color\":\"#2a3f5f\"}},\"annotationdefaults\":{\"arrowcolor\":\"#2a3f5f\",\"arrowhead\":0,\"arrowwidth\":1},\"geo\":{\"bgcolor\":\"white\",\"landcolor\":\"white\",\"subunitcolor\":\"#C8D4E3\",\"showland\":true,\"showlakes\":true,\"lakecolor\":\"white\"},\"title\":{\"x\":0.05},\"mapbox\":{\"style\":\"light\"}}}},                        {\"displaylogo\": false, \"modeBarButtonsToRemove\": [\"select2d\", \"lasso2d\", \"zoomIn2d\", \"zoomOut2d\", \"autoScale2d\"], \"responsive\": true}                    )                };            </script>        </div>"
      ],
      "text/plain": [
       "<IPython.core.display.HTML object>"
      ]
     },
     "metadata": {},
     "output_type": "display_data"
    }
   ],
   "source": [
    "project.plot_meas_vs_calc(expt_name='npd', x_min=35.5, x_max=38.3, show_residual=True)"
   ]
  },
  {
   "cell_type": "code",
   "execution_count": 32,
   "id": "62",
   "metadata": {
    "execution": {
     "iopub.execute_input": "2025-08-30T21:29:43.961199Z",
     "iopub.status.busy": "2025-08-30T21:29:43.960265Z",
     "iopub.status.idle": "2025-08-30T21:29:44.324771Z",
     "shell.execute_reply": "2025-08-30T21:29:44.322667Z"
    }
   },
   "outputs": [
    {
     "data": {
      "text/html": [
       "<div>                        <script type=\"text/javascript\">window.PlotlyConfig = {MathJaxConfig: 'local'};</script>\n",
       "        <script charset=\"utf-8\" src=\"https://cdn.plot.ly/plotly-3.1.0.min.js\" integrity=\"sha256-Ei4740bWZhaUTQuD6q9yQlgVCMPBz6CZWhevDYPv93A=\" crossorigin=\"anonymous\"></script>                <div id=\"64b9e73f-52c7-49ba-9a5a-75e39e346270\" class=\"plotly-graph-div\" style=\"height:100%; width:100%;\"></div>            <script type=\"text/javascript\">                window.PLOTLYENV=window.PLOTLYENV || {};                                if (document.getElementById(\"64b9e73f-52c7-49ba-9a5a-75e39e346270\")) {                    Plotly.newPlot(                        \"64b9e73f-52c7-49ba-9a5a-75e39e346270\",                        [{\"line\":{\"color\":\"rgb(31, 119, 180)\"},\"mode\":\"lines+markers\",\"name\":\"Measured (Imeas)\",\"x\":{\"dtype\":\"f8\",\"bdata\":\"AAAAAAAAPUBmZmZmZgY9QM3MzMzMDD1AMzMzMzMTPUCamZmZmRk9QAAAAAAAID1AZmZmZmYmPUDNzMzMzCw9QDMzMzMzMz1AmpmZmZk5PUAAAAAAAEA9QGZmZmZmRj1AzczMzMxMPUAzMzMzM1M9QJqZmZmZWT1AAAAAAABgPUBmZmZmZmY9QM3MzMzMbD1AMzMzMzNzPUCamZmZmXk9QAAAAAAAgD1AZmZmZmaGPUDNzMzMzIw9QDMzMzMzkz1AmpmZmZmZPUAAAAAAAKA9QGZmZmZmpj1AzczMzMysPUAzMzMzM7M9QJqZmZmZuT1AAAAAAADAPUBmZmZmZsY9QM3MzMzMzD1AMzMzMzPTPUCamZmZmdk9QAAAAAAA4D1AZmZmZmbmPUDNzMzMzOw9QDMzMzMz8z1AmpmZmZn5PUAAAAAAAAA+QGZmZmZmBj5AzczMzMwMPkAzMzMzMxM+QJqZmZmZGT5AAAAAAAAgPkBmZmZmZiY+QM3MzMzMLD5AMzMzMzMzPkCamZmZmTk+QAAAAAAAQD5AZmZmZmZGPkDNzMzMzEw+QDMzMzMzUz5AmpmZmZlZPkAAAAAAAGA+QGZmZmZmZj5A\"},\"y\":{\"dtype\":\"f8\",\"bdata\":\"AAAAAACgZEAAAAAAAABlQAAAAAAAQGRAAAAAAAAgaEAAAAAAACBlQAAAAAAA4GhAAAAAAABAZ0AAAAAAAABqQAAAAAAAgGhAAAAAAADAZkAAAAAAAMBuQAAAAAAAoG5AAAAAAADAcUAAAAAAAEB1QAAAAAAAwHZAAAAAAADgd0AAAAAAADiAQAAAAAAAyIRAAAAAAAAoikAAAAAAAOCQQAAAAAAAeJhAAAAAAAAiokAAAAAAANyqQAAAAAAAPbRAAAAAAADNv0AAAAAAAKDIQAAAAAAAq85AAAAAAAAwzEAAAAAAgJPHQAAAAACA68JAAAAAAADhu0AAAAAAABuwQAAAAAAAXKBAAAAAAADYlEAAAAAAAKiPQAAAAAAAYIhAAAAAAADghEAAAAAAADB9QAAAAAAAYHtAAAAAAACwd0AAAAAAADB2QAAAAAAAcHBAAAAAAADwcUAAAAAAALByQAAAAAAA4G5AAAAAAACgb0AAAAAAAIBtQAAAAAAA4GtAAAAAAAAgaEAAAAAAAMBoQAAAAAAAAGdAAAAAAACAaUAAAAAAACBnQAAAAAAAwGVAAAAAAAAgaUAAAAAAAABlQAAAAAAAIGdA\"},\"type\":\"scatter\"},{\"line\":{\"color\":\"rgb(214, 39, 40)\"},\"mode\":\"lines\",\"name\":\"Total calculated (Icalc)\",\"x\":{\"dtype\":\"f8\",\"bdata\":\"AAAAAAAAPUBmZmZmZgY9QM3MzMzMDD1AMzMzMzMTPUCamZmZmRk9QAAAAAAAID1AZmZmZmYmPUDNzMzMzCw9QDMzMzMzMz1AmpmZmZk5PUAAAAAAAEA9QGZmZmZmRj1AzczMzMxMPUAzMzMzM1M9QJqZmZmZWT1AAAAAAABgPUBmZmZmZmY9QM3MzMzMbD1AMzMzMzNzPUCamZmZmXk9QAAAAAAAgD1AZmZmZmaGPUDNzMzMzIw9QDMzMzMzkz1AmpmZmZmZPUAAAAAAAKA9QGZmZmZmpj1AzczMzMysPUAzMzMzM7M9QJqZmZmZuT1AAAAAAADAPUBmZmZmZsY9QM3MzMzMzD1AMzMzMzPTPUCamZmZmdk9QAAAAAAA4D1AZmZmZmbmPUDNzMzMzOw9QDMzMzMz8z1AmpmZmZn5PUAAAAAAAAA+QGZmZmZmBj5AzczMzMwMPkAzMzMzMxM+QJqZmZmZGT5AAAAAAAAgPkBmZmZmZiY+QM3MzMzMLD5AMzMzMzMzPkCamZmZmTk+QAAAAAAAQD5AZmZmZmZGPkDNzMzMzEw+QDMzMzMzUz5AmpmZmZlZPkAAAAAAAGA+QGZmZmZmZj5A\"},\"y\":{\"dtype\":\"f8\",\"bdata\":\"GuTHpBf8ZUB6i+SCgZJmQOsrp7KMPWdAxTg6OJAAaEDSh+e3o99oQOqIBj7U32lAUsPEwWoHa0C\\u002f7oJzS15sQB6MXDV47m1ANw4wtMXEb0DPKt9K7fhwQA1LJIHORXJA66DuFaTXc0D3mAacRcJ1QK+IUgE7IXhAKpmvii4ce0CJ39oGRfF+QK7BjByqCYJAIgEEZS\\u002fChUBQOH6ZnN6LQOfi3s0bmpNAsHgKjTSVnkB6VYkxkGCpQA+WZAh14LRAoWoq120KwEDbsXYg4BPGQNZfJd+iFcpAEhaZWjZpyUBwp+QmP5DEQOOH2S5k6LxA7sHla95hskACI+23ex6mQDKN4zES15pAZsmcPZ+PkUDwgJ4UV4aJQMMXg3jBOIRAO2v6QuDjgEDJ2X+oRBV9QIQxOUGLiXlAKC8gWLLDdkB+fzzJ6ox0QCELiDVdwXJAlumSredHcUCDcIsFVQ5wQFkyFNBdDm5APzuI8K1QbEB8P69FK9RqQEA89FjojGlAOstf3JBxaECSOTAYxHpnQMh8KkOdomZAUng12VvkZUBRe16RIjxlQKXwXYvGpmRAKoYZQ6ohZECgGFUqoapjQFaiCq\\u002fZP2NA\"},\"type\":\"scatter\"},{\"line\":{\"color\":\"rgb(44, 160, 44)\"},\"mode\":\"lines\",\"name\":\"Residual (Imeas - Icalc)\",\"x\":{\"dtype\":\"f8\",\"bdata\":\"AAAAAAAAPUBmZmZmZgY9QM3MzMzMDD1AMzMzMzMTPUCamZmZmRk9QAAAAAAAID1AZmZmZmYmPUDNzMzMzCw9QDMzMzMzMz1AmpmZmZk5PUAAAAAAAEA9QGZmZmZmRj1AzczMzMxMPUAzMzMzM1M9QJqZmZmZWT1AAAAAAABgPUBmZmZmZmY9QM3MzMzMbD1AMzMzMzNzPUCamZmZmXk9QAAAAAAAgD1AZmZmZmaGPUDNzMzMzIw9QDMzMzMzkz1AmpmZmZmZPUAAAAAAAKA9QGZmZmZmpj1AzczMzMysPUAzMzMzM7M9QJqZmZmZuT1AAAAAAADAPUBmZmZmZsY9QM3MzMzMzD1AMzMzMzPTPUCamZmZmdk9QAAAAAAA4D1AZmZmZmbmPUDNzMzMzOw9QDMzMzMz8z1AmpmZmZn5PUAAAAAAAAA+QGZmZmZmBj5AzczMzMwMPkAzMzMzMxM+QJqZmZmZGT5AAAAAAAAgPkBmZmZmZiY+QM3MzMzMLD5AMzMzMzMzPkCamZmZmTk+QAAAAAAAQD5AZmZmZmZGPkDNzMzMzEw+QDMzMzMzUz5AmpmZmZlZPkAAAAAAAGA+QGZmZmZmZj5A\"},\"y\":{\"dtype\":\"f8\",\"bdata\":\"oEF+THrBJcCgt0guGCgpwFhfOZVl7DfAADvHxcdv7z+QPjy\\u002fHf09wEAd0cCH+h\\u002fAkBomDlY7PsD4dRecW\\u002fIywHgwctXguUXAbhxgaIsJUsDwrPKt1I45wGhYIgl0rkfAWAd1ryC9QMDgHtOAs0ggwPCKKBWwEzbAUMl8VXThScBwB1KSr+s3QJDymRuv8lVAePvva0KXYUDAHgeajYVnQGR0hMiQd3NAQB3Wyy27dkBgqGrn\\u002fLZnQODBkgyhbmTAgFA1lev2UcAocUr8\\u002fmCUQKiAaoN0VaJAcE83K002lkCAxNrIBhqYQDrwTKI33aFAJHw0KEP+okD8uSWQCC+UQDjLcTi3g3dA0LQZEwZDakBA\\u002fIWto4ZoQPSg8x36nGBAKKYs6P3gX0AANyaAV7v6P8DnbOxLZz1AABv6+7SJLUAgCDhsUzE6QAhZQKzpikLAQM2iTQoDJUDoe6TTVw1FQOC0ef1FNBpACCa+e5B6OkAgBIbSpV41QAAeXji9mDJAgM7yFzdkBMDgZvx8vlMkQADOYDWvWAdAcD1UNiHdPEDwShjq1j0uQLD1IEqXkyFAWOeZ81b5Q0AAdq5a7VUlQFDtqocyAT9A\"},\"type\":\"scatter\"}],                        {\"legend\":{\"x\":1.0,\"xanchor\":\"right\",\"y\":1.0,\"yanchor\":\"top\"},\"margin\":{\"autoexpand\":true,\"b\":45,\"r\":30,\"t\":40},\"title\":{\"text\":\"Measured vs Calculated data for experiment \\ud83d\\udd2c 'xrd'\"},\"xaxis\":{\"mirror\":true,\"showline\":true,\"title\":{\"text\":\"2\\u03b8 (degree)\"},\"zeroline\":false,\"tickformat\":\",.6~g\",\"separatethousands\":true},\"yaxis\":{\"mirror\":true,\"showline\":true,\"title\":{\"text\":\"Intensity (arb. units)\"},\"zeroline\":false,\"tickformat\":\",.6~g\",\"separatethousands\":true},\"template\":{\"data\":{\"histogram2dcontour\":[{\"type\":\"histogram2dcontour\",\"colorbar\":{\"outlinewidth\":0,\"ticks\":\"\"},\"colorscale\":[[0.0,\"#0d0887\"],[0.1111111111111111,\"#46039f\"],[0.2222222222222222,\"#7201a8\"],[0.3333333333333333,\"#9c179e\"],[0.4444444444444444,\"#bd3786\"],[0.5555555555555556,\"#d8576b\"],[0.6666666666666666,\"#ed7953\"],[0.7777777777777778,\"#fb9f3a\"],[0.8888888888888888,\"#fdca26\"],[1.0,\"#f0f921\"]]}],\"choropleth\":[{\"type\":\"choropleth\",\"colorbar\":{\"outlinewidth\":0,\"ticks\":\"\"}}],\"histogram2d\":[{\"type\":\"histogram2d\",\"colorbar\":{\"outlinewidth\":0,\"ticks\":\"\"},\"colorscale\":[[0.0,\"#0d0887\"],[0.1111111111111111,\"#46039f\"],[0.2222222222222222,\"#7201a8\"],[0.3333333333333333,\"#9c179e\"],[0.4444444444444444,\"#bd3786\"],[0.5555555555555556,\"#d8576b\"],[0.6666666666666666,\"#ed7953\"],[0.7777777777777778,\"#fb9f3a\"],[0.8888888888888888,\"#fdca26\"],[1.0,\"#f0f921\"]]}],\"heatmap\":[{\"type\":\"heatmap\",\"colorbar\":{\"outlinewidth\":0,\"ticks\":\"\"},\"colorscale\":[[0.0,\"#0d0887\"],[0.1111111111111111,\"#46039f\"],[0.2222222222222222,\"#7201a8\"],[0.3333333333333333,\"#9c179e\"],[0.4444444444444444,\"#bd3786\"],[0.5555555555555556,\"#d8576b\"],[0.6666666666666666,\"#ed7953\"],[0.7777777777777778,\"#fb9f3a\"],[0.8888888888888888,\"#fdca26\"],[1.0,\"#f0f921\"]]}],\"contourcarpet\":[{\"type\":\"contourcarpet\",\"colorbar\":{\"outlinewidth\":0,\"ticks\":\"\"}}],\"contour\":[{\"type\":\"contour\",\"colorbar\":{\"outlinewidth\":0,\"ticks\":\"\"},\"colorscale\":[[0.0,\"#0d0887\"],[0.1111111111111111,\"#46039f\"],[0.2222222222222222,\"#7201a8\"],[0.3333333333333333,\"#9c179e\"],[0.4444444444444444,\"#bd3786\"],[0.5555555555555556,\"#d8576b\"],[0.6666666666666666,\"#ed7953\"],[0.7777777777777778,\"#fb9f3a\"],[0.8888888888888888,\"#fdca26\"],[1.0,\"#f0f921\"]]}],\"surface\":[{\"type\":\"surface\",\"colorbar\":{\"outlinewidth\":0,\"ticks\":\"\"},\"colorscale\":[[0.0,\"#0d0887\"],[0.1111111111111111,\"#46039f\"],[0.2222222222222222,\"#7201a8\"],[0.3333333333333333,\"#9c179e\"],[0.4444444444444444,\"#bd3786\"],[0.5555555555555556,\"#d8576b\"],[0.6666666666666666,\"#ed7953\"],[0.7777777777777778,\"#fb9f3a\"],[0.8888888888888888,\"#fdca26\"],[1.0,\"#f0f921\"]]}],\"mesh3d\":[{\"type\":\"mesh3d\",\"colorbar\":{\"outlinewidth\":0,\"ticks\":\"\"}}],\"scatter\":[{\"fillpattern\":{\"fillmode\":\"overlay\",\"size\":10,\"solidity\":0.2},\"type\":\"scatter\"}],\"parcoords\":[{\"type\":\"parcoords\",\"line\":{\"colorbar\":{\"outlinewidth\":0,\"ticks\":\"\"}}}],\"scatterpolargl\":[{\"type\":\"scatterpolargl\",\"marker\":{\"colorbar\":{\"outlinewidth\":0,\"ticks\":\"\"}}}],\"bar\":[{\"error_x\":{\"color\":\"#2a3f5f\"},\"error_y\":{\"color\":\"#2a3f5f\"},\"marker\":{\"line\":{\"color\":\"white\",\"width\":0.5},\"pattern\":{\"fillmode\":\"overlay\",\"size\":10,\"solidity\":0.2}},\"type\":\"bar\"}],\"scattergeo\":[{\"type\":\"scattergeo\",\"marker\":{\"colorbar\":{\"outlinewidth\":0,\"ticks\":\"\"}}}],\"scatterpolar\":[{\"type\":\"scatterpolar\",\"marker\":{\"colorbar\":{\"outlinewidth\":0,\"ticks\":\"\"}}}],\"histogram\":[{\"marker\":{\"pattern\":{\"fillmode\":\"overlay\",\"size\":10,\"solidity\":0.2}},\"type\":\"histogram\"}],\"scattergl\":[{\"type\":\"scattergl\",\"marker\":{\"colorbar\":{\"outlinewidth\":0,\"ticks\":\"\"}}}],\"scatter3d\":[{\"type\":\"scatter3d\",\"line\":{\"colorbar\":{\"outlinewidth\":0,\"ticks\":\"\"}},\"marker\":{\"colorbar\":{\"outlinewidth\":0,\"ticks\":\"\"}}}],\"scattermap\":[{\"type\":\"scattermap\",\"marker\":{\"colorbar\":{\"outlinewidth\":0,\"ticks\":\"\"}}}],\"scattermapbox\":[{\"type\":\"scattermapbox\",\"marker\":{\"colorbar\":{\"outlinewidth\":0,\"ticks\":\"\"}}}],\"scatterternary\":[{\"type\":\"scatterternary\",\"marker\":{\"colorbar\":{\"outlinewidth\":0,\"ticks\":\"\"}}}],\"scattercarpet\":[{\"type\":\"scattercarpet\",\"marker\":{\"colorbar\":{\"outlinewidth\":0,\"ticks\":\"\"}}}],\"carpet\":[{\"aaxis\":{\"endlinecolor\":\"#2a3f5f\",\"gridcolor\":\"#C8D4E3\",\"linecolor\":\"#C8D4E3\",\"minorgridcolor\":\"#C8D4E3\",\"startlinecolor\":\"#2a3f5f\"},\"baxis\":{\"endlinecolor\":\"#2a3f5f\",\"gridcolor\":\"#C8D4E3\",\"linecolor\":\"#C8D4E3\",\"minorgridcolor\":\"#C8D4E3\",\"startlinecolor\":\"#2a3f5f\"},\"type\":\"carpet\"}],\"table\":[{\"cells\":{\"fill\":{\"color\":\"#EBF0F8\"},\"line\":{\"color\":\"white\"}},\"header\":{\"fill\":{\"color\":\"#C8D4E3\"},\"line\":{\"color\":\"white\"}},\"type\":\"table\"}],\"barpolar\":[{\"marker\":{\"line\":{\"color\":\"white\",\"width\":0.5},\"pattern\":{\"fillmode\":\"overlay\",\"size\":10,\"solidity\":0.2}},\"type\":\"barpolar\"}],\"pie\":[{\"automargin\":true,\"type\":\"pie\"}]},\"layout\":{\"autotypenumbers\":\"strict\",\"colorway\":[\"#636efa\",\"#EF553B\",\"#00cc96\",\"#ab63fa\",\"#FFA15A\",\"#19d3f3\",\"#FF6692\",\"#B6E880\",\"#FF97FF\",\"#FECB52\"],\"font\":{\"color\":\"#2a3f5f\"},\"hovermode\":\"closest\",\"hoverlabel\":{\"align\":\"left\"},\"paper_bgcolor\":\"white\",\"plot_bgcolor\":\"white\",\"polar\":{\"bgcolor\":\"white\",\"angularaxis\":{\"gridcolor\":\"#EBF0F8\",\"linecolor\":\"#EBF0F8\",\"ticks\":\"\"},\"radialaxis\":{\"gridcolor\":\"#EBF0F8\",\"linecolor\":\"#EBF0F8\",\"ticks\":\"\"}},\"ternary\":{\"bgcolor\":\"white\",\"aaxis\":{\"gridcolor\":\"#DFE8F3\",\"linecolor\":\"#A2B1C6\",\"ticks\":\"\"},\"baxis\":{\"gridcolor\":\"#DFE8F3\",\"linecolor\":\"#A2B1C6\",\"ticks\":\"\"},\"caxis\":{\"gridcolor\":\"#DFE8F3\",\"linecolor\":\"#A2B1C6\",\"ticks\":\"\"}},\"coloraxis\":{\"colorbar\":{\"outlinewidth\":0,\"ticks\":\"\"}},\"colorscale\":{\"sequential\":[[0.0,\"#0d0887\"],[0.1111111111111111,\"#46039f\"],[0.2222222222222222,\"#7201a8\"],[0.3333333333333333,\"#9c179e\"],[0.4444444444444444,\"#bd3786\"],[0.5555555555555556,\"#d8576b\"],[0.6666666666666666,\"#ed7953\"],[0.7777777777777778,\"#fb9f3a\"],[0.8888888888888888,\"#fdca26\"],[1.0,\"#f0f921\"]],\"sequentialminus\":[[0.0,\"#0d0887\"],[0.1111111111111111,\"#46039f\"],[0.2222222222222222,\"#7201a8\"],[0.3333333333333333,\"#9c179e\"],[0.4444444444444444,\"#bd3786\"],[0.5555555555555556,\"#d8576b\"],[0.6666666666666666,\"#ed7953\"],[0.7777777777777778,\"#fb9f3a\"],[0.8888888888888888,\"#fdca26\"],[1.0,\"#f0f921\"]],\"diverging\":[[0,\"#8e0152\"],[0.1,\"#c51b7d\"],[0.2,\"#de77ae\"],[0.3,\"#f1b6da\"],[0.4,\"#fde0ef\"],[0.5,\"#f7f7f7\"],[0.6,\"#e6f5d0\"],[0.7,\"#b8e186\"],[0.8,\"#7fbc41\"],[0.9,\"#4d9221\"],[1,\"#276419\"]]},\"xaxis\":{\"gridcolor\":\"#EBF0F8\",\"linecolor\":\"#EBF0F8\",\"ticks\":\"\",\"title\":{\"standoff\":15},\"zerolinecolor\":\"#EBF0F8\",\"automargin\":true,\"zerolinewidth\":2},\"yaxis\":{\"gridcolor\":\"#EBF0F8\",\"linecolor\":\"#EBF0F8\",\"ticks\":\"\",\"title\":{\"standoff\":15},\"zerolinecolor\":\"#EBF0F8\",\"automargin\":true,\"zerolinewidth\":2},\"scene\":{\"xaxis\":{\"backgroundcolor\":\"white\",\"gridcolor\":\"#DFE8F3\",\"linecolor\":\"#EBF0F8\",\"showbackground\":true,\"ticks\":\"\",\"zerolinecolor\":\"#EBF0F8\",\"gridwidth\":2},\"yaxis\":{\"backgroundcolor\":\"white\",\"gridcolor\":\"#DFE8F3\",\"linecolor\":\"#EBF0F8\",\"showbackground\":true,\"ticks\":\"\",\"zerolinecolor\":\"#EBF0F8\",\"gridwidth\":2},\"zaxis\":{\"backgroundcolor\":\"white\",\"gridcolor\":\"#DFE8F3\",\"linecolor\":\"#EBF0F8\",\"showbackground\":true,\"ticks\":\"\",\"zerolinecolor\":\"#EBF0F8\",\"gridwidth\":2}},\"shapedefaults\":{\"line\":{\"color\":\"#2a3f5f\"}},\"annotationdefaults\":{\"arrowcolor\":\"#2a3f5f\",\"arrowhead\":0,\"arrowwidth\":1},\"geo\":{\"bgcolor\":\"white\",\"landcolor\":\"white\",\"subunitcolor\":\"#C8D4E3\",\"showland\":true,\"showlakes\":true,\"lakecolor\":\"white\"},\"title\":{\"x\":0.05},\"mapbox\":{\"style\":\"light\"}}}},                        {\"displaylogo\": false, \"modeBarButtonsToRemove\": [\"select2d\", \"lasso2d\", \"zoomIn2d\", \"zoomOut2d\", \"autoScale2d\"], \"responsive\": true}                    )                };            </script>        </div>"
      ],
      "text/plain": [
       "<IPython.core.display.HTML object>"
      ]
     },
     "metadata": {},
     "output_type": "display_data"
    }
   ],
   "source": [
    "project.plot_meas_vs_calc(expt_name='xrd', x_min=29.0, x_max=30.4, show_residual=True)"
   ]
  }
 ],
 "metadata": {
  "jupytext": {
   "cell_metadata_filter": "-all",
   "main_language": "python",
   "notebook_metadata_filter": "-all"
  },
  "language_info": {
   "codemirror_mode": {
    "name": "ipython",
    "version": 3
   },
   "file_extension": ".py",
   "mimetype": "text/x-python",
   "name": "python",
   "nbconvert_exporter": "python",
   "pygments_lexer": "ipython3",
   "version": "3.13.5"
  }
 },
 "nbformat": 4,
 "nbformat_minor": 5
}
