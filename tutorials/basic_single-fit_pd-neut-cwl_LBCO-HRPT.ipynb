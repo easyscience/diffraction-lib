{
 "cells": [
  {
   "cell_type": "markdown",
   "id": "d93ba63a",
   "metadata": {},
   "source": [
    "# Structure Refinement: LBCO, HRPT\n",
    "\n",
    "This example demonstrates how to use the EasyDiffraction API in a\n",
    "simplified, user-friendly manner that closely follows the GUI workflow for a\n",
    "Rietveld refinement of La0.5Ba0.5CoO3 crystal structure using constant\n",
    "wavelength neutron powder diffraction data from HRPT at PSI.\n",
    "\n",
    "It is intended for users with minimal programming experience who want to\n",
    "learn how to perform standard crystal structure fitting using diffraction\n",
    "data. This script covers creating a project, adding sample models and\n",
    "experiments, performing analysis, and refining parameters.\n",
    "\n",
    "Only a single import of `easydiffraction` is required, and all operations are\n",
    "performed through high-level components of the `project` object, such as\n",
    "`project.sample_models`, `project.experiments`, and `project.analysis`.\n",
    "The `project` object is the main container for all information."
   ]
  },
  {
   "cell_type": "markdown",
   "id": "68a01a2d",
   "metadata": {},
   "source": [
    "## Import Library"
   ]
  },
  {
   "cell_type": "code",
   "execution_count": null,
   "id": "eb7ec758",
   "metadata": {},
   "outputs": [],
   "source": [
    "import easydiffraction as ed"
   ]
  },
  {
   "cell_type": "markdown",
   "id": "0db07ed2",
   "metadata": {},
   "source": [
    "## Step 1: Create a Project\n",
    "\n",
    "This section explains how to create a project and define its metadata."
   ]
  },
  {
   "cell_type": "markdown",
   "id": "64772c41",
   "metadata": {},
   "source": [
    "#### Create Project"
   ]
  },
  {
   "cell_type": "code",
   "execution_count": null,
   "id": "a2fb4882",
   "metadata": {},
   "outputs": [],
   "source": [
    "project = ed.Project(name='lbco_hrpt')"
   ]
  },
  {
   "cell_type": "markdown",
   "id": "3cdcd32d",
   "metadata": {},
   "source": [
    "#### Set Project Metadata"
   ]
  },
  {
   "cell_type": "code",
   "execution_count": null,
   "id": "49443d7a",
   "metadata": {},
   "outputs": [],
   "source": [
    "project.info.title = 'La0.5Ba0.5CoO3 at HRPT@PSI'\n",
    "project.info.description = \"\"\"This project demonstrates a standard \n",
    "refinement of La0.5Ba0.5CoO3, which crystallizes in a perovskite-type \n",
    "structure, using neutron powder diffraction data collected in constant \n",
    "wavelength mode at the HRPT diffractometer (PSI).\"\"\""
   ]
  },
  {
   "cell_type": "markdown",
   "id": "00ee3351",
   "metadata": {},
   "source": [
    "#### Show Project Metadata as CIF"
   ]
  },
  {
   "cell_type": "code",
   "execution_count": null,
   "id": "4c439152",
   "metadata": {},
   "outputs": [],
   "source": [
    "project.info.show_as_cif()"
   ]
  },
  {
   "cell_type": "markdown",
   "id": "3facfc79",
   "metadata": {},
   "source": [
    "#### Save Project\n",
    "\n",
    "When saving the project for the first time, you need to specify the\n",
    "directory path. In the example below, the project is saved to a\n",
    "temporary location defined by the system."
   ]
  },
  {
   "cell_type": "code",
   "execution_count": null,
   "id": "eb583ffd",
   "metadata": {},
   "outputs": [],
   "source": [
    "project.save_as(dir_path='lbco_hrpt', temporary=True)"
   ]
  },
  {
   "cell_type": "markdown",
   "id": "62aeb09e",
   "metadata": {},
   "source": [
    "#### Set Up Data Plotter"
   ]
  },
  {
   "cell_type": "markdown",
   "id": "fb6f8361",
   "metadata": {},
   "source": [
    "Show supported plotting engines."
   ]
  },
  {
   "cell_type": "code",
   "execution_count": null,
   "id": "28dfd508",
   "metadata": {},
   "outputs": [],
   "source": [
    "project.plotter.show_supported_engines()"
   ]
  },
  {
   "cell_type": "markdown",
   "id": "b001b19f",
   "metadata": {},
   "source": [
    "Show current plotting configuration."
   ]
  },
  {
   "cell_type": "code",
   "execution_count": null,
   "id": "ad4ee397",
   "metadata": {},
   "outputs": [],
   "source": [
    "project.plotter.show_config()"
   ]
  },
  {
   "cell_type": "markdown",
   "id": "eee87efc",
   "metadata": {},
   "source": [
    "Set plotting engine."
   ]
  },
  {
   "cell_type": "code",
   "execution_count": null,
   "id": "1c75dbec",
   "metadata": {},
   "outputs": [],
   "source": [
    "project.plotter.engine = 'plotly'"
   ]
  },
  {
   "cell_type": "markdown",
   "id": "3e91387b",
   "metadata": {},
   "source": [
    "## Step 2: Define Sample Model\n",
    "\n",
    "This section shows how to add sample models and modify their parameters."
   ]
  },
  {
   "cell_type": "markdown",
   "id": "781e637d",
   "metadata": {},
   "source": [
    "#### Add Sample Model"
   ]
  },
  {
   "cell_type": "code",
   "execution_count": null,
   "id": "3b3b9a95",
   "metadata": {},
   "outputs": [],
   "source": [
    "project.sample_models.add(name='lbco')"
   ]
  },
  {
   "cell_type": "markdown",
   "id": "bfe8a28c",
   "metadata": {},
   "source": [
    "#### Show Defined Sample Models\n",
    "\n",
    "Show the names of the models added. These names are used to access the\n",
    "model using the syntax: `project.sample_models['model_name']`. All model\n",
    "parameters can be accessed via the `project` object."
   ]
  },
  {
   "cell_type": "code",
   "execution_count": null,
   "id": "0286b8c9",
   "metadata": {},
   "outputs": [],
   "source": [
    "project.sample_models.show_names()"
   ]
  },
  {
   "cell_type": "markdown",
   "id": "588aca25",
   "metadata": {},
   "source": [
    "#### Set Space Group\n",
    "\n",
    "Modify the default space group parameters."
   ]
  },
  {
   "cell_type": "code",
   "execution_count": null,
   "id": "8593fcb9",
   "metadata": {},
   "outputs": [],
   "source": [
    "project.sample_models['lbco'].space_group.name_h_m = 'P m -3 m'\n",
    "project.sample_models['lbco'].space_group.it_coordinate_system_code = '1'"
   ]
  },
  {
   "cell_type": "markdown",
   "id": "2a865150",
   "metadata": {},
   "source": [
    "#### Set Unit Cell\n",
    "\n",
    "Modify the default unit cell parameters."
   ]
  },
  {
   "cell_type": "code",
   "execution_count": null,
   "id": "735d7e3d",
   "metadata": {},
   "outputs": [],
   "source": [
    "project.sample_models['lbco'].cell.length_a = 3.88"
   ]
  },
  {
   "cell_type": "markdown",
   "id": "4f2e8ee3",
   "metadata": {},
   "source": [
    "#### Set Atom Sites\n",
    "\n",
    "Add atom sites to the sample model."
   ]
  },
  {
   "cell_type": "code",
   "execution_count": null,
   "id": "f15054ba",
   "metadata": {},
   "outputs": [],
   "source": [
    "project.sample_models['lbco'].atom_sites.add(label='La',\n",
    "                                             type_symbol='La',\n",
    "                                             fract_x=0,\n",
    "                                             fract_y=0,\n",
    "                                             fract_z=0,\n",
    "                                             wyckoff_letter='a',\n",
    "                                             b_iso=0.5,\n",
    "                                             occupancy=0.5)\n",
    "project.sample_models['lbco'].atom_sites.add(label='Ba',\n",
    "                                             type_symbol='Ba',\n",
    "                                             fract_x=0,\n",
    "                                             fract_y=0,\n",
    "                                             fract_z=0,\n",
    "                                             wyckoff_letter='a',\n",
    "                                             b_iso=0.5,\n",
    "                                             occupancy=0.5)\n",
    "project.sample_models['lbco'].atom_sites.add(label='Co',\n",
    "                                             type_symbol='Co',\n",
    "                                             fract_x=0.5,\n",
    "                                             fract_y=0.5,\n",
    "                                             fract_z=0.5,\n",
    "                                             wyckoff_letter='b',\n",
    "                                             b_iso=0.5)\n",
    "project.sample_models['lbco'].atom_sites.add(label='O',\n",
    "                                             type_symbol='O',\n",
    "                                             fract_x=0,\n",
    "                                             fract_y=0.5,\n",
    "                                             fract_z=0.5,\n",
    "                                             wyckoff_letter='c',\n",
    "                                             b_iso=0.5)"
   ]
  },
  {
   "cell_type": "markdown",
   "id": "f160c72b",
   "metadata": {},
   "source": [
    "#### Apply Symmetry Constraints"
   ]
  },
  {
   "cell_type": "code",
   "execution_count": null,
   "id": "4b388ef4",
   "metadata": {},
   "outputs": [],
   "source": [
    "project.sample_models['lbco'].apply_symmetry_constraints()"
   ]
  },
  {
   "cell_type": "markdown",
   "id": "d84dc44f",
   "metadata": {},
   "source": [
    "#### Show Sample Model as CIF"
   ]
  },
  {
   "cell_type": "code",
   "execution_count": null,
   "id": "2d8e44f6",
   "metadata": {},
   "outputs": [],
   "source": [
    "project.sample_models['lbco'].show_as_cif()"
   ]
  },
  {
   "cell_type": "markdown",
   "id": "60b26f78",
   "metadata": {},
   "source": [
    "#### Show Sample Model Structure"
   ]
  },
  {
   "cell_type": "code",
   "execution_count": null,
   "id": "9d48e3ec",
   "metadata": {},
   "outputs": [],
   "source": [
    "project.sample_models['lbco'].show_structure()"
   ]
  },
  {
   "cell_type": "markdown",
   "id": "896e9aa9",
   "metadata": {},
   "source": [
    "#### Save Project State\n",
    "\n",
    "Save the project state after adding the sample model. This ensures\n",
    "that all changes are stored and can be accessed later. The project\n",
    "state is saved in the directory specified during project creation."
   ]
  },
  {
   "cell_type": "code",
   "execution_count": null,
   "id": "5ceea502",
   "metadata": {},
   "outputs": [],
   "source": [
    "project.save()"
   ]
  },
  {
   "cell_type": "markdown",
   "id": "ddb4958d",
   "metadata": {},
   "source": [
    "## Step 3: Define Experiment\n",
    "\n",
    "This section shows how to add experiments, configure their parameters, and\n",
    "link the sample models defined in the previous step."
   ]
  },
  {
   "cell_type": "markdown",
   "id": "1c9b9d63",
   "metadata": {},
   "source": [
    "#### Download Measured Data\n",
    "\n",
    "Download the data file from the EasyDiffraction repository on GitHub."
   ]
  },
  {
   "cell_type": "code",
   "execution_count": null,
   "id": "8be002d1",
   "metadata": {},
   "outputs": [],
   "source": [
    "ed.download_from_repository('hrpt_lbco.xye',\n",
    "                            destination='data')"
   ]
  },
  {
   "cell_type": "markdown",
   "id": "4bd1c50a",
   "metadata": {},
   "source": [
    "#### Add Diffraction Experiment"
   ]
  },
  {
   "cell_type": "code",
   "execution_count": null,
   "id": "a99a9d19",
   "metadata": {},
   "outputs": [],
   "source": [
    "project.experiments.add(name='hrpt',\n",
    "                        sample_form='powder',\n",
    "                        beam_mode='constant wavelength',\n",
    "                        radiation_probe='neutron',\n",
    "                        data_path='data/hrpt_lbco.xye')"
   ]
  },
  {
   "cell_type": "markdown",
   "id": "5a0adca2",
   "metadata": {},
   "source": [
    "#### Show Defined Experiments"
   ]
  },
  {
   "cell_type": "code",
   "execution_count": null,
   "id": "87ddf3a8",
   "metadata": {},
   "outputs": [],
   "source": [
    "project.experiments.show_names()"
   ]
  },
  {
   "cell_type": "markdown",
   "id": "70df4231",
   "metadata": {},
   "source": [
    "#### Show Measured Data"
   ]
  },
  {
   "cell_type": "code",
   "execution_count": null,
   "id": "2e96072f",
   "metadata": {},
   "outputs": [],
   "source": [
    "project.plot_meas(expt_name='hrpt')"
   ]
  },
  {
   "cell_type": "markdown",
   "id": "c614ccd5",
   "metadata": {},
   "source": [
    "#### Set Instrument\n",
    "\n",
    "Modify the default instrument parameters."
   ]
  },
  {
   "cell_type": "code",
   "execution_count": null,
   "id": "7e33d36f",
   "metadata": {},
   "outputs": [],
   "source": [
    "project.experiments['hrpt'].instrument.setup_wavelength = 1.494\n",
    "project.experiments['hrpt'].instrument.calib_twotheta_offset = 0.6"
   ]
  },
  {
   "cell_type": "markdown",
   "id": "59c1cb38",
   "metadata": {},
   "source": [
    "#### Set Peak Profile\n",
    "\n",
    "Show supported peak profile types."
   ]
  },
  {
   "cell_type": "code",
   "execution_count": null,
   "id": "9860d120",
   "metadata": {},
   "outputs": [],
   "source": [
    "project.experiments['hrpt'].show_supported_peak_profile_types()"
   ]
  },
  {
   "cell_type": "markdown",
   "id": "14ca3456",
   "metadata": {},
   "source": [
    "Show the current peak profile type."
   ]
  },
  {
   "cell_type": "code",
   "execution_count": null,
   "id": "e9188869",
   "metadata": {},
   "outputs": [],
   "source": [
    "project.experiments['hrpt'].show_current_peak_profile_type()"
   ]
  },
  {
   "cell_type": "markdown",
   "id": "9fc119e8",
   "metadata": {},
   "source": [
    "Select the desired peak profile type."
   ]
  },
  {
   "cell_type": "code",
   "execution_count": null,
   "id": "6fa8c2fa",
   "metadata": {},
   "outputs": [],
   "source": [
    "project.experiments['hrpt'].peak_profile_type = 'pseudo-voigt'"
   ]
  },
  {
   "cell_type": "markdown",
   "id": "f3aaff0c",
   "metadata": {},
   "source": [
    "Modify default peak profile parameters."
   ]
  },
  {
   "cell_type": "code",
   "execution_count": null,
   "id": "ae86545f",
   "metadata": {},
   "outputs": [],
   "source": [
    "project.experiments['hrpt'].peak.broad_gauss_u = 0.1\n",
    "project.experiments['hrpt'].peak.broad_gauss_v = -0.1\n",
    "project.experiments['hrpt'].peak.broad_gauss_w = 0.1\n",
    "project.experiments['hrpt'].peak.broad_lorentz_x = 0\n",
    "project.experiments['hrpt'].peak.broad_lorentz_y = 0.1"
   ]
  },
  {
   "cell_type": "markdown",
   "id": "e0a12fd6",
   "metadata": {},
   "source": [
    "#### Set Background"
   ]
  },
  {
   "cell_type": "markdown",
   "id": "3505cc22",
   "metadata": {},
   "source": [
    "Show supported background types."
   ]
  },
  {
   "cell_type": "code",
   "execution_count": null,
   "id": "eda6eeaf",
   "metadata": {},
   "outputs": [],
   "source": [
    "project.experiments['hrpt'].show_supported_background_types()"
   ]
  },
  {
   "cell_type": "markdown",
   "id": "6679b4b9",
   "metadata": {},
   "source": [
    "Show current background type."
   ]
  },
  {
   "cell_type": "code",
   "execution_count": null,
   "id": "e56ee57e",
   "metadata": {},
   "outputs": [],
   "source": [
    "project.experiments['hrpt'].show_current_background_type()"
   ]
  },
  {
   "cell_type": "markdown",
   "id": "3c71c0bb",
   "metadata": {},
   "source": [
    "Select the desired background type."
   ]
  },
  {
   "cell_type": "code",
   "execution_count": null,
   "id": "5c4174e6",
   "metadata": {},
   "outputs": [],
   "source": [
    "project.experiments['hrpt'].background_type = 'line-segment'"
   ]
  },
  {
   "cell_type": "markdown",
   "id": "e0a15671",
   "metadata": {},
   "source": [
    "Add background points."
   ]
  },
  {
   "cell_type": "code",
   "execution_count": null,
   "id": "221611fc",
   "metadata": {},
   "outputs": [],
   "source": [
    "project.experiments['hrpt'].background.add(x=10, y=170)\n",
    "project.experiments['hrpt'].background.add(x=30, y=170)\n",
    "project.experiments['hrpt'].background.add(x=50, y=170)\n",
    "project.experiments['hrpt'].background.add(x=110, y=170)\n",
    "project.experiments['hrpt'].background.add(x=165, y=170)"
   ]
  },
  {
   "cell_type": "markdown",
   "id": "876c69c6",
   "metadata": {},
   "source": [
    "Show current background points."
   ]
  },
  {
   "cell_type": "code",
   "execution_count": null,
   "id": "ad419c48",
   "metadata": {},
   "outputs": [],
   "source": [
    "project.experiments['hrpt'].background.show()"
   ]
  },
  {
   "cell_type": "markdown",
   "id": "1f40c255",
   "metadata": {},
   "source": [
    "#### Set Linked Phases\n",
    "\n",
    "Link the sample model defined in the previous step to the experiment."
   ]
  },
  {
   "cell_type": "code",
   "execution_count": null,
   "id": "53c26bef",
   "metadata": {},
   "outputs": [],
   "source": [
    "project.experiments['hrpt'].linked_phases.add(id='lbco', scale=10.0)"
   ]
  },
  {
   "cell_type": "markdown",
   "id": "13aa2b71",
   "metadata": {},
   "source": [
    "#### Show Experiment as CIF"
   ]
  },
  {
   "cell_type": "code",
   "execution_count": null,
   "id": "ab18c493",
   "metadata": {},
   "outputs": [],
   "source": [
    "project.experiments['hrpt'].show_as_cif()"
   ]
  },
  {
   "cell_type": "markdown",
   "id": "9e2bce6c",
   "metadata": {},
   "source": [
    "#### Save Project State"
   ]
  },
  {
   "cell_type": "code",
   "execution_count": null,
   "id": "11fbb4ba",
   "metadata": {},
   "outputs": [],
   "source": [
    "project.save()"
   ]
  },
  {
   "cell_type": "markdown",
   "id": "3b483e61",
   "metadata": {},
   "source": [
    "## Step 4: Perform Analysis\n",
    "\n",
    "This section explains the analysis process, including how to set up\n",
    "calculation and fitting engines.\n",
    "\n",
    "#### Set Calculator\n",
    "\n",
    "Show supported calculation engines."
   ]
  },
  {
   "cell_type": "code",
   "execution_count": null,
   "id": "4d5d7858",
   "metadata": {},
   "outputs": [],
   "source": [
    "project.analysis.show_supported_calculators()"
   ]
  },
  {
   "cell_type": "markdown",
   "id": "f70f89cf",
   "metadata": {},
   "source": [
    "Show current calculation engine."
   ]
  },
  {
   "cell_type": "code",
   "execution_count": null,
   "id": "079127ac",
   "metadata": {},
   "outputs": [],
   "source": [
    "project.analysis.show_current_calculator()"
   ]
  },
  {
   "cell_type": "markdown",
   "id": "56696a86",
   "metadata": {},
   "source": [
    "Select the desired calculation engine."
   ]
  },
  {
   "cell_type": "code",
   "execution_count": null,
   "id": "ac89daae",
   "metadata": {},
   "outputs": [],
   "source": [
    "project.analysis.current_calculator = 'cryspy'"
   ]
  },
  {
   "cell_type": "markdown",
   "id": "4cdcf829",
   "metadata": {},
   "source": [
    "#### Show Calculated Data"
   ]
  },
  {
   "cell_type": "code",
   "execution_count": null,
   "id": "a373b202",
   "metadata": {},
   "outputs": [],
   "source": [
    "project.plot_calc(expt_name='hrpt')"
   ]
  },
  {
   "cell_type": "markdown",
   "id": "73da2df0",
   "metadata": {},
   "source": [
    "#### Plot Measured vs Calculated"
   ]
  },
  {
   "cell_type": "code",
   "execution_count": null,
   "id": "1a483207",
   "metadata": {},
   "outputs": [],
   "source": [
    "project.plot_meas_vs_calc(expt_name='hrpt',\n",
    "                          show_residual=True)"
   ]
  },
  {
   "cell_type": "code",
   "execution_count": null,
   "id": "7f7fc2d1",
   "metadata": {},
   "outputs": [],
   "source": [
    "project.plot_meas_vs_calc(expt_name='hrpt',\n",
    "                          x_min=38, x_max=41,\n",
    "                          show_residual=True)"
   ]
  },
  {
   "cell_type": "markdown",
   "id": "afad5972",
   "metadata": {},
   "source": [
    "#### Show Parameters\n",
    "\n",
    "Show all parameters of the project."
   ]
  },
  {
   "cell_type": "code",
   "execution_count": null,
   "id": "66e85223",
   "metadata": {},
   "outputs": [],
   "source": [
    "project.analysis.show_all_params()"
   ]
  },
  {
   "cell_type": "markdown",
   "id": "cdf45d90",
   "metadata": {},
   "source": [
    "Show all fittable parameters."
   ]
  },
  {
   "cell_type": "code",
   "execution_count": null,
   "id": "aaf85462",
   "metadata": {},
   "outputs": [],
   "source": [
    "project.analysis.show_fittable_params()"
   ]
  },
  {
   "cell_type": "markdown",
   "id": "62fc95bb",
   "metadata": {},
   "source": [
    "Show only free parameters."
   ]
  },
  {
   "cell_type": "code",
   "execution_count": null,
   "id": "8a5208ba",
   "metadata": {},
   "outputs": [],
   "source": [
    "project.analysis.show_free_params()"
   ]
  },
  {
   "cell_type": "markdown",
   "id": "f9b33179",
   "metadata": {},
   "source": [
    "Show how to access parameters in the code."
   ]
  },
  {
   "cell_type": "code",
   "execution_count": null,
   "id": "56dce385",
   "metadata": {},
   "outputs": [],
   "source": [
    "project.analysis.how_to_access_parameters()"
   ]
  },
  {
   "cell_type": "markdown",
   "id": "f84670e7",
   "metadata": {},
   "source": [
    "#### Set Fit Mode\n",
    "\n",
    "Show supported fit modes."
   ]
  },
  {
   "cell_type": "code",
   "execution_count": null,
   "id": "b8c86537",
   "metadata": {},
   "outputs": [],
   "source": [
    "project.analysis.show_available_fit_modes()"
   ]
  },
  {
   "cell_type": "markdown",
   "id": "495ab0f7",
   "metadata": {},
   "source": [
    "Show current fit mode."
   ]
  },
  {
   "cell_type": "code",
   "execution_count": null,
   "id": "4dbce6e6",
   "metadata": {},
   "outputs": [],
   "source": [
    "project.analysis.show_current_fit_mode()"
   ]
  },
  {
   "cell_type": "markdown",
   "id": "36dcd524",
   "metadata": {},
   "source": [
    "Select desired fit mode."
   ]
  },
  {
   "cell_type": "code",
   "execution_count": null,
   "id": "1b129153",
   "metadata": {},
   "outputs": [],
   "source": [
    "project.analysis.fit_mode = 'single'"
   ]
  },
  {
   "cell_type": "markdown",
   "id": "15ed592c",
   "metadata": {},
   "source": [
    "#### Set Minimizer\n",
    "\n",
    "Show supported fitting engines."
   ]
  },
  {
   "cell_type": "code",
   "execution_count": null,
   "id": "b93c069f",
   "metadata": {},
   "outputs": [],
   "source": [
    "project.analysis.show_available_minimizers()"
   ]
  },
  {
   "cell_type": "markdown",
   "id": "9e9cac23",
   "metadata": {},
   "source": [
    "Show current fitting engine."
   ]
  },
  {
   "cell_type": "code",
   "execution_count": null,
   "id": "7be3745e",
   "metadata": {},
   "outputs": [],
   "source": [
    "project.analysis.show_current_minimizer()"
   ]
  },
  {
   "cell_type": "markdown",
   "id": "de5ba021",
   "metadata": {},
   "source": [
    "Select desired fitting engine."
   ]
  },
  {
   "cell_type": "code",
   "execution_count": null,
   "id": "14812c23",
   "metadata": {},
   "outputs": [],
   "source": [
    "project.analysis.current_minimizer = 'lmfit (leastsq)'"
   ]
  },
  {
   "cell_type": "markdown",
   "id": "64cacdad",
   "metadata": {},
   "source": [
    "### Perform Fit 1/5\n",
    "\n",
    "Set sample model parameters to be refined."
   ]
  },
  {
   "cell_type": "code",
   "execution_count": null,
   "id": "6daba1b6",
   "metadata": {},
   "outputs": [],
   "source": [
    "project.sample_models['lbco'].cell.length_a.free = True"
   ]
  },
  {
   "cell_type": "markdown",
   "id": "7183d718",
   "metadata": {},
   "source": [
    "Set experiment parameters to be refined."
   ]
  },
  {
   "cell_type": "code",
   "execution_count": null,
   "id": "9fa3433d",
   "metadata": {},
   "outputs": [],
   "source": [
    "project.experiments['hrpt'].linked_phases['lbco'].scale.free = True\n",
    "project.experiments['hrpt'].instrument.calib_twotheta_offset.free = True\n",
    "project.experiments['hrpt'].background['10'].y.free = True\n",
    "project.experiments['hrpt'].background['30'].y.free = True\n",
    "project.experiments['hrpt'].background['50'].y.free = True\n",
    "project.experiments['hrpt'].background['110'].y.free = True\n",
    "project.experiments['hrpt'].background['165'].y.free = True"
   ]
  },
  {
   "cell_type": "markdown",
   "id": "d85c4e3f",
   "metadata": {},
   "source": [
    "Show free parameters after selection."
   ]
  },
  {
   "cell_type": "code",
   "execution_count": null,
   "id": "994f6f3b",
   "metadata": {},
   "outputs": [],
   "source": [
    "project.analysis.show_free_params()"
   ]
  },
  {
   "cell_type": "markdown",
   "id": "6fb91c5a",
   "metadata": {},
   "source": [
    "#### Run Fitting"
   ]
  },
  {
   "cell_type": "code",
   "execution_count": null,
   "id": "9237940e",
   "metadata": {},
   "outputs": [],
   "source": [
    "project.analysis.fit()"
   ]
  },
  {
   "cell_type": "markdown",
   "id": "2ac09f82",
   "metadata": {},
   "source": [
    "#### Plot Measured vs Calculated"
   ]
  },
  {
   "cell_type": "code",
   "execution_count": null,
   "id": "9e8f7e77",
   "metadata": {},
   "outputs": [],
   "source": [
    "project.plot_meas_vs_calc(expt_name='hrpt',\n",
    "                          show_residual=True)"
   ]
  },
  {
   "cell_type": "code",
   "execution_count": null,
   "id": "ca3957d6",
   "metadata": {},
   "outputs": [],
   "source": [
    "project.plot_meas_vs_calc(expt_name='hrpt',\n",
    "                          x_min=38, x_max=41,\n",
    "                          show_residual=True)"
   ]
  },
  {
   "cell_type": "markdown",
   "id": "d7b39c6c",
   "metadata": {},
   "source": [
    "#### Save Project State"
   ]
  },
  {
   "cell_type": "code",
   "execution_count": null,
   "id": "35e691a2",
   "metadata": {},
   "outputs": [],
   "source": [
    "project.save_as(dir_path='lbco_hrpt', temporary=True)"
   ]
  },
  {
   "cell_type": "markdown",
   "id": "3d0b7894",
   "metadata": {},
   "source": [
    "### Perform Fit 2/5\n",
    "\n",
    "Set more parameters to be refined."
   ]
  },
  {
   "cell_type": "code",
   "execution_count": null,
   "id": "7e6b9cf8",
   "metadata": {},
   "outputs": [],
   "source": [
    "project.experiments['hrpt'].peak.broad_gauss_u.free = True\n",
    "project.experiments['hrpt'].peak.broad_gauss_v.free = True\n",
    "project.experiments['hrpt'].peak.broad_gauss_w.free = True\n",
    "project.experiments['hrpt'].peak.broad_lorentz_y.free = True"
   ]
  },
  {
   "cell_type": "markdown",
   "id": "2e64f929",
   "metadata": {},
   "source": [
    "Show free parameters after selection."
   ]
  },
  {
   "cell_type": "code",
   "execution_count": null,
   "id": "5bd71057",
   "metadata": {},
   "outputs": [],
   "source": [
    "project.analysis.show_free_params()"
   ]
  },
  {
   "cell_type": "markdown",
   "id": "b6aa93b9",
   "metadata": {},
   "source": [
    "#### Run Fitting"
   ]
  },
  {
   "cell_type": "code",
   "execution_count": null,
   "id": "5a426a0f",
   "metadata": {},
   "outputs": [],
   "source": [
    "project.analysis.fit()"
   ]
  },
  {
   "cell_type": "markdown",
   "id": "2d2a965f",
   "metadata": {},
   "source": [
    "#### Plot Measured vs Calculated"
   ]
  },
  {
   "cell_type": "code",
   "execution_count": null,
   "id": "ac05704e",
   "metadata": {},
   "outputs": [],
   "source": [
    "project.plot_meas_vs_calc(expt_name='hrpt',\n",
    "                          show_residual=True)"
   ]
  },
  {
   "cell_type": "code",
   "execution_count": null,
   "id": "5ee36fe3",
   "metadata": {},
   "outputs": [],
   "source": [
    "project.plot_meas_vs_calc(expt_name='hrpt',\n",
    "                          x_min=38, x_max=41,\n",
    "                          show_residual=True)"
   ]
  },
  {
   "cell_type": "markdown",
   "id": "f634e06c",
   "metadata": {},
   "source": [
    "#### Save Project State"
   ]
  },
  {
   "cell_type": "code",
   "execution_count": null,
   "id": "b6ca8245",
   "metadata": {},
   "outputs": [],
   "source": [
    "project.save_as(dir_path='lbco_hrpt', temporary=True)"
   ]
  },
  {
   "cell_type": "markdown",
   "id": "9bfbe6cc",
   "metadata": {},
   "source": [
    "### Perform Fit 3/5\n",
    "\n",
    "Set more parameters to be refined."
   ]
  },
  {
   "cell_type": "code",
   "execution_count": null,
   "id": "c34f6493",
   "metadata": {},
   "outputs": [],
   "source": [
    "project.sample_models['lbco'].atom_sites['La'].b_iso.free = True\n",
    "project.sample_models['lbco'].atom_sites['Ba'].b_iso.free = True\n",
    "project.sample_models['lbco'].atom_sites['Co'].b_iso.free = True\n",
    "project.sample_models['lbco'].atom_sites['O'].b_iso.free = True"
   ]
  },
  {
   "cell_type": "markdown",
   "id": "530b4854",
   "metadata": {},
   "source": [
    "Show free parameters after selection."
   ]
  },
  {
   "cell_type": "code",
   "execution_count": null,
   "id": "06f033c1",
   "metadata": {},
   "outputs": [],
   "source": [
    "project.analysis.show_free_params()"
   ]
  },
  {
   "cell_type": "markdown",
   "id": "9f2ed586",
   "metadata": {},
   "source": [
    "#### Run Fitting"
   ]
  },
  {
   "cell_type": "code",
   "execution_count": null,
   "id": "c9f24374",
   "metadata": {},
   "outputs": [],
   "source": [
    "project.analysis.fit()"
   ]
  },
  {
   "cell_type": "markdown",
   "id": "2cd3a3f5",
   "metadata": {},
   "source": [
    "#### Plot Measured vs Calculated"
   ]
  },
  {
   "cell_type": "code",
   "execution_count": null,
   "id": "a3c8ab5c",
   "metadata": {},
   "outputs": [],
   "source": [
    "project.plot_meas_vs_calc(expt_name='hrpt',\n",
    "                          show_residual=True)"
   ]
  },
  {
   "cell_type": "code",
   "execution_count": null,
   "id": "229dcd40",
   "metadata": {},
   "outputs": [],
   "source": [
    "project.plot_meas_vs_calc(expt_name='hrpt',\n",
    "                          x_min=38, x_max=41,\n",
    "                          show_residual=True)"
   ]
  },
  {
   "cell_type": "markdown",
   "id": "3b6ea990",
   "metadata": {},
   "source": [
    "#### Save Project State"
   ]
  },
  {
   "cell_type": "code",
   "execution_count": null,
   "id": "28911a4f",
   "metadata": {},
   "outputs": [],
   "source": [
    "project.save_as(dir_path='lbco_hrpt', temporary=True)"
   ]
  },
  {
   "cell_type": "markdown",
   "id": "25e47125",
   "metadata": {},
   "source": [
    "### Perform Fit 4/5\n",
    "\n",
    "#### Set Constraints\n",
    "\n",
    "Set aliases for parameters."
   ]
  },
  {
   "cell_type": "code",
   "execution_count": null,
   "id": "32554c35",
   "metadata": {},
   "outputs": [],
   "source": [
    "project.analysis.aliases.add(\n",
    "    label='biso_La',\n",
    "    param_uid=project.sample_models['lbco'].atom_sites['La'].b_iso.uid\n",
    ")\n",
    "project.analysis.aliases.add(\n",
    "    label='biso_Ba',\n",
    "    param_uid=project.sample_models['lbco'].atom_sites['Ba'].b_iso.uid\n",
    ")"
   ]
  },
  {
   "cell_type": "markdown",
   "id": "ee564dc0",
   "metadata": {},
   "source": [
    "Set constraints."
   ]
  },
  {
   "cell_type": "code",
   "execution_count": null,
   "id": "cdeae972",
   "metadata": {},
   "outputs": [],
   "source": [
    "project.analysis.constraints.add(\n",
    "    lhs_alias='biso_Ba',\n",
    "    rhs_expr='biso_La'\n",
    ")"
   ]
  },
  {
   "cell_type": "markdown",
   "id": "f5272e30",
   "metadata": {},
   "source": [
    "Show defined constraints."
   ]
  },
  {
   "cell_type": "code",
   "execution_count": null,
   "id": "ccc33f51",
   "metadata": {},
   "outputs": [],
   "source": [
    "project.analysis.show_constraints()"
   ]
  },
  {
   "cell_type": "markdown",
   "id": "d81d38a7",
   "metadata": {},
   "source": [
    "Show free parameters before applying constraints."
   ]
  },
  {
   "cell_type": "code",
   "execution_count": null,
   "id": "790ea5b2",
   "metadata": {},
   "outputs": [],
   "source": [
    "project.analysis.show_free_params()"
   ]
  },
  {
   "cell_type": "markdown",
   "id": "14850ae0",
   "metadata": {},
   "source": [
    "Apply constraints."
   ]
  },
  {
   "cell_type": "code",
   "execution_count": null,
   "id": "ed61071e",
   "metadata": {},
   "outputs": [],
   "source": [
    "project.analysis.apply_constraints()"
   ]
  },
  {
   "cell_type": "markdown",
   "id": "1f7f1c2d",
   "metadata": {},
   "source": [
    "Show free parameters after applying constraints."
   ]
  },
  {
   "cell_type": "code",
   "execution_count": null,
   "id": "2e5bb120",
   "metadata": {},
   "outputs": [],
   "source": [
    "project.analysis.show_free_params()"
   ]
  },
  {
   "cell_type": "markdown",
   "id": "54fea34d",
   "metadata": {},
   "source": [
    "#### Run Fitting"
   ]
  },
  {
   "cell_type": "code",
   "execution_count": null,
   "id": "eb8dd8b3",
   "metadata": {},
   "outputs": [],
   "source": [
    "project.analysis.fit()"
   ]
  },
  {
   "cell_type": "markdown",
   "id": "18b960d4",
   "metadata": {},
   "source": [
    "#### Plot Measured vs Calculated"
   ]
  },
  {
   "cell_type": "code",
   "execution_count": null,
   "id": "8fdeed46",
   "metadata": {},
   "outputs": [],
   "source": [
    "project.plot_meas_vs_calc(expt_name='hrpt',\n",
    "                          show_residual=True)"
   ]
  },
  {
   "cell_type": "code",
   "execution_count": null,
   "id": "4bdf1e91",
   "metadata": {},
   "outputs": [],
   "source": [
    "project.plot_meas_vs_calc(expt_name='hrpt',\n",
    "                          x_min=38, x_max=41,\n",
    "                          show_residual=True)"
   ]
  },
  {
   "cell_type": "markdown",
   "id": "aa2bc6b8",
   "metadata": {},
   "source": [
    "#### Save Project State"
   ]
  },
  {
   "cell_type": "code",
   "execution_count": null,
   "id": "99c22d2c",
   "metadata": {},
   "outputs": [],
   "source": [
    "project.save_as(dir_path='lbco_hrpt', temporary=True)"
   ]
  },
  {
   "cell_type": "markdown",
   "id": "c568f0ee",
   "metadata": {},
   "source": [
    "### Perform Fit 5/5\n",
    "\n",
    "#### Set Constraints\n",
    "\n",
    "Set more aliases for parameters."
   ]
  },
  {
   "cell_type": "code",
   "execution_count": null,
   "id": "673ccdfe",
   "metadata": {},
   "outputs": [],
   "source": [
    "project.analysis.aliases.add(\n",
    "    label='occ_La',\n",
    "    param_uid=project.sample_models['lbco'].atom_sites['La'].occupancy.uid\n",
    ")\n",
    "project.analysis.aliases.add(\n",
    "    label='occ_Ba',\n",
    "    param_uid=project.sample_models['lbco'].atom_sites['Ba'].occupancy.uid\n",
    ")"
   ]
  },
  {
   "cell_type": "markdown",
   "id": "ad8f4330",
   "metadata": {},
   "source": [
    "Set more constraints."
   ]
  },
  {
   "cell_type": "code",
   "execution_count": null,
   "id": "d012fa44",
   "metadata": {},
   "outputs": [],
   "source": [
    "project.analysis.constraints.add(\n",
    "    lhs_alias='occ_Ba',\n",
    "    rhs_expr='1 - occ_La'\n",
    ")"
   ]
  },
  {
   "cell_type": "markdown",
   "id": "32107d28",
   "metadata": {},
   "source": [
    "Show defined constraints."
   ]
  },
  {
   "cell_type": "code",
   "execution_count": null,
   "id": "1ce256aa",
   "metadata": {},
   "outputs": [],
   "source": [
    "project.analysis.show_constraints()"
   ]
  },
  {
   "cell_type": "markdown",
   "id": "d1016c11",
   "metadata": {},
   "source": [
    "Apply constraints."
   ]
  },
  {
   "cell_type": "code",
   "execution_count": null,
   "id": "8c745364",
   "metadata": {},
   "outputs": [],
   "source": [
    "project.analysis.apply_constraints()"
   ]
  },
  {
   "cell_type": "markdown",
   "id": "8287cd27",
   "metadata": {},
   "source": [
    "Set sample model parameters to be refined."
   ]
  },
  {
   "cell_type": "code",
   "execution_count": null,
   "id": "1f0c82a2",
   "metadata": {},
   "outputs": [],
   "source": [
    "project.sample_models['lbco'].atom_sites['La'].occupancy.free = True"
   ]
  },
  {
   "cell_type": "markdown",
   "id": "5612fb49",
   "metadata": {},
   "source": [
    "Show free parameters after selection."
   ]
  },
  {
   "cell_type": "code",
   "execution_count": null,
   "id": "c795f9e3",
   "metadata": {},
   "outputs": [],
   "source": [
    "project.analysis.show_free_params()"
   ]
  },
  {
   "cell_type": "markdown",
   "id": "1f842b72",
   "metadata": {},
   "source": [
    "#### Run Fitting"
   ]
  },
  {
   "cell_type": "code",
   "execution_count": null,
   "id": "9a69bac8",
   "metadata": {},
   "outputs": [],
   "source": [
    "project.analysis.fit()"
   ]
  },
  {
   "cell_type": "markdown",
   "id": "451fdd05",
   "metadata": {},
   "source": [
    "#### Plot Measured vs Calculated"
   ]
  },
  {
   "cell_type": "code",
   "execution_count": null,
   "id": "fdc5051c",
   "metadata": {},
   "outputs": [],
   "source": [
    "project.plot_meas_vs_calc(expt_name='hrpt',\n",
    "                          show_residual=True)"
   ]
  },
  {
   "cell_type": "code",
   "execution_count": null,
   "id": "b6b89650",
   "metadata": {},
   "outputs": [],
   "source": [
    "project.plot_meas_vs_calc(expt_name='hrpt',\n",
    "                          x_min=38, x_max=41,\n",
    "                          show_residual=True)"
   ]
  },
  {
   "cell_type": "markdown",
   "id": "5c07d115",
   "metadata": {},
   "source": [
    "#### Save Project State"
   ]
  },
  {
   "cell_type": "code",
   "execution_count": null,
   "id": "88c429d6",
   "metadata": {},
   "outputs": [],
   "source": [
    "project.save_as(dir_path='lbco_hrpt', temporary=True)"
   ]
  },
  {
   "cell_type": "markdown",
   "id": "3d75f212",
   "metadata": {},
   "source": [
    "## Step 5: Summary\n",
    "\n",
    "This final section shows how to review the results of the analysis."
   ]
  },
  {
   "cell_type": "markdown",
   "id": "6d3765e3",
   "metadata": {},
   "source": [
    "#### Show Project Summary"
   ]
  },
  {
   "cell_type": "code",
   "execution_count": null,
   "id": "bceb39fe",
   "metadata": {},
   "outputs": [],
   "source": [
    "project.summary.show_report()"
   ]
  }
 ],
 "metadata": {
  "jupytext": {
   "cell_metadata_filter": "-all",
   "main_language": "python",
   "notebook_metadata_filter": "-all"
  }
 },
 "nbformat": 4,
 "nbformat_minor": 5
}
