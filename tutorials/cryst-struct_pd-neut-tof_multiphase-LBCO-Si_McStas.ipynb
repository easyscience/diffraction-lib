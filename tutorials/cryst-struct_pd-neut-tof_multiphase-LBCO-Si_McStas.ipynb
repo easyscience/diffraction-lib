{
 "cells": [
  {
   "cell_type": "markdown",
   "id": "b93172ae",
   "metadata": {},
   "source": [
    "# Structure Refinement: LBCO+Si, McStas\n",
    "\n",
    "This example demonstrates a Rietveld refinement of La0.5Ba0.5CoO3 crystal\n",
    "structure with a small amount of Si phase using time-of-flight neutron powder\n",
    "diffraction data simulated with McStas."
   ]
  },
  {
   "cell_type": "markdown",
   "id": "87ea7d5f",
   "metadata": {},
   "source": [
    "## Import Library"
   ]
  },
  {
   "cell_type": "code",
   "execution_count": null,
   "id": "124df35d",
   "metadata": {},
   "outputs": [],
   "source": [
    "from easydiffraction import (\n",
    "    Project,\n",
    "    SampleModel,\n",
    "    Experiment,\n",
    "    download_from_repository\n",
    ")"
   ]
  },
  {
   "cell_type": "markdown",
   "id": "0b12752d",
   "metadata": {},
   "source": [
    "## Define Sample Models\n",
    "\n",
    "This section shows how to add sample models and modify their parameters.\n",
    "\n",
    "### Create Sample Model 1: LBCO"
   ]
  },
  {
   "cell_type": "code",
   "execution_count": null,
   "id": "d6f64aee",
   "metadata": {},
   "outputs": [],
   "source": [
    "model_1 = SampleModel('lbco')"
   ]
  },
  {
   "cell_type": "markdown",
   "id": "bf156fff",
   "metadata": {},
   "source": [
    "#### Set Space Group"
   ]
  },
  {
   "cell_type": "code",
   "execution_count": null,
   "id": "abdaaa51",
   "metadata": {},
   "outputs": [],
   "source": [
    "model_1.space_group.name_h_m = 'P m -3 m'\n",
    "model_1.space_group.it_coordinate_system_code = '1'"
   ]
  },
  {
   "cell_type": "markdown",
   "id": "4b29fe90",
   "metadata": {},
   "source": [
    "#### Set Unit Cell"
   ]
  },
  {
   "cell_type": "code",
   "execution_count": null,
   "id": "bc42a211",
   "metadata": {},
   "outputs": [],
   "source": [
    "model_1.cell.length_a = 3.8909"
   ]
  },
  {
   "cell_type": "markdown",
   "id": "95860e82",
   "metadata": {},
   "source": [
    "#### Set Atom Sites"
   ]
  },
  {
   "cell_type": "code",
   "execution_count": null,
   "id": "205d8004",
   "metadata": {},
   "outputs": [],
   "source": [
    "model_1.atom_sites.add('La', 'La', 0, 0, 0, wyckoff_letter='a', b_iso=0.2, occupancy=0.5)\n",
    "model_1.atom_sites.add('Ba', 'Ba', 0, 0, 0, wyckoff_letter='a', b_iso=0.2, occupancy=0.5)\n",
    "model_1.atom_sites.add('Co', 'Co', 0.5, 0.5, 0.5, wyckoff_letter='b', b_iso=0.2567)\n",
    "model_1.atom_sites.add('O', 'O', 0, 0.5, 0.5, wyckoff_letter='c', b_iso=1.4041)"
   ]
  },
  {
   "cell_type": "markdown",
   "id": "f6c3d66a",
   "metadata": {},
   "source": [
    "### Create Sample Model 2: Si"
   ]
  },
  {
   "cell_type": "code",
   "execution_count": null,
   "id": "646ebede",
   "metadata": {},
   "outputs": [],
   "source": [
    "model_2 = SampleModel('si')"
   ]
  },
  {
   "cell_type": "markdown",
   "id": "9a25f11c",
   "metadata": {},
   "source": [
    "#### Set Space Group"
   ]
  },
  {
   "cell_type": "code",
   "execution_count": null,
   "id": "007b40fb",
   "metadata": {},
   "outputs": [],
   "source": [
    "model_2.space_group.name_h_m = 'F d -3 m'\n",
    "model_2.space_group.it_coordinate_system_code = '2'"
   ]
  },
  {
   "cell_type": "markdown",
   "id": "ee76cee5",
   "metadata": {},
   "source": [
    "#### Set Unit Cell"
   ]
  },
  {
   "cell_type": "code",
   "execution_count": null,
   "id": "c88b9820",
   "metadata": {},
   "outputs": [],
   "source": [
    "model_2.cell.length_a = 5.43146"
   ]
  },
  {
   "cell_type": "markdown",
   "id": "7837b366",
   "metadata": {},
   "source": [
    "#### Set Atom Sites"
   ]
  },
  {
   "cell_type": "code",
   "execution_count": null,
   "id": "f55f9732",
   "metadata": {},
   "outputs": [],
   "source": [
    "model_2.atom_sites.add('Si', 'Si', 0.0, 0.0, 0.0, wyckoff_letter='a', b_iso=0.0)"
   ]
  },
  {
   "cell_type": "markdown",
   "id": "85383c08",
   "metadata": {},
   "source": [
    "## Define Experiment\n",
    "\n",
    "This section shows how to add experiments, configure their parameters, and\n",
    "link the sample models defined in the previous step.\n",
    "\n",
    "#### Download Data"
   ]
  },
  {
   "cell_type": "code",
   "execution_count": null,
   "id": "4fdb8978",
   "metadata": {},
   "outputs": [],
   "source": [
    "download_from_repository('mcstas_lbco-si.xye',\n",
    "                         destination='data')"
   ]
  },
  {
   "cell_type": "markdown",
   "id": "78453f40",
   "metadata": {},
   "source": [
    "#### Create Experiment"
   ]
  },
  {
   "cell_type": "code",
   "execution_count": null,
   "id": "4f20cd2d",
   "metadata": {},
   "outputs": [],
   "source": [
    "experiment = Experiment('mcstas',\n",
    "                        sample_form='powder',\n",
    "                        beam_mode='time-of-flight',\n",
    "                        radiation_probe='neutron',\n",
    "                        scattering_type='bragg',\n",
    "                        data_path='data/mcstas_lbco-si.xye')"
   ]
  },
  {
   "cell_type": "markdown",
   "id": "642b4d09",
   "metadata": {},
   "source": [
    "#### Set Instrument"
   ]
  },
  {
   "cell_type": "code",
   "execution_count": null,
   "id": "2ceb61f8",
   "metadata": {},
   "outputs": [],
   "source": [
    "experiment.instrument.setup_twotheta_bank = 94.90931761529106\n",
    "experiment.instrument.calib_d_to_tof_offset = 0.0\n",
    "experiment.instrument.calib_d_to_tof_linear = 58724.76869981215\n",
    "experiment.instrument.calib_d_to_tof_quad = -0.00001"
   ]
  },
  {
   "cell_type": "markdown",
   "id": "696683eb",
   "metadata": {},
   "source": [
    "#### Set Peak Profile"
   ]
  },
  {
   "cell_type": "code",
   "execution_count": null,
   "id": "d36f24d3",
   "metadata": {},
   "outputs": [],
   "source": [
    "#experiment.peak_profile_type = 'pseudo-voigt * ikeda-carpenter'\n",
    "experiment.peak.broad_gauss_sigma_0 = 45137\n",
    "experiment.peak.broad_gauss_sigma_1 = -52394\n",
    "experiment.peak.broad_gauss_sigma_2 = 22998\n",
    "experiment.peak.broad_mix_beta_0 = 0.0055\n",
    "experiment.peak.broad_mix_beta_1 = 0.0041\n",
    "experiment.peak.asym_alpha_0 = 0\n",
    "experiment.peak.asym_alpha_1 = 0.0097"
   ]
  },
  {
   "cell_type": "markdown",
   "id": "51c3001e",
   "metadata": {},
   "source": [
    "#### Set Background"
   ]
  },
  {
   "cell_type": "markdown",
   "id": "1a2c709e",
   "metadata": {},
   "source": [
    "Select the background type."
   ]
  },
  {
   "cell_type": "code",
   "execution_count": null,
   "id": "8088e4ca",
   "metadata": {},
   "outputs": [],
   "source": [
    "experiment.background_type = 'line-segment'"
   ]
  },
  {
   "cell_type": "markdown",
   "id": "c42060be",
   "metadata": {},
   "source": [
    "Add background points."
   ]
  },
  {
   "cell_type": "code",
   "execution_count": null,
   "id": "b5b03cbe",
   "metadata": {},
   "outputs": [],
   "source": [
    "experiment.background.add(x=45000, y=0.2)\n",
    "experiment.background.add(x=50000, y=0.2)\n",
    "experiment.background.add(x=55000, y=0.2)\n",
    "experiment.background.add(x=65000, y=0.2)\n",
    "experiment.background.add(x=70000, y=0.2)\n",
    "experiment.background.add(x=75000, y=0.2)\n",
    "experiment.background.add(x=80000, y=0.2)\n",
    "experiment.background.add(x=85000, y=0.2)\n",
    "experiment.background.add(x=90000, y=0.2)\n",
    "experiment.background.add(x=95000, y=0.2)\n",
    "experiment.background.add(x=100000, y=0.2)\n",
    "experiment.background.add(x=105000, y=0.2)\n",
    "experiment.background.add(x=110000, y=0.2)"
   ]
  },
  {
   "cell_type": "markdown",
   "id": "b89f6c55",
   "metadata": {},
   "source": [
    "#### Set Linked Phases"
   ]
  },
  {
   "cell_type": "code",
   "execution_count": null,
   "id": "7690770e",
   "metadata": {},
   "outputs": [],
   "source": [
    "experiment.linked_phases.add('lbco', scale=4.0)\n",
    "experiment.linked_phases.add('si', scale=0.2)"
   ]
  },
  {
   "cell_type": "markdown",
   "id": "d46612ef",
   "metadata": {},
   "source": [
    "## Define Project\n",
    "\n",
    "The project object is used to manage sample models, experiments, and analysis.\n",
    "\n",
    "#### Create Project"
   ]
  },
  {
   "cell_type": "code",
   "execution_count": null,
   "id": "38b80e1d",
   "metadata": {},
   "outputs": [],
   "source": [
    "project = Project()"
   ]
  },
  {
   "cell_type": "markdown",
   "id": "920280cc",
   "metadata": {},
   "source": [
    "#### Set Plotting Engine"
   ]
  },
  {
   "cell_type": "code",
   "execution_count": null,
   "id": "7a1ea200",
   "metadata": {},
   "outputs": [],
   "source": [
    "project.plotter.engine = 'plotly'"
   ]
  },
  {
   "cell_type": "markdown",
   "id": "da890010",
   "metadata": {},
   "source": [
    "#### Add Sample Models"
   ]
  },
  {
   "cell_type": "code",
   "execution_count": null,
   "id": "b9e403c5",
   "metadata": {},
   "outputs": [],
   "source": [
    "project.sample_models.add(model_1)\n",
    "project.sample_models.add(model_2)"
   ]
  },
  {
   "cell_type": "markdown",
   "id": "e1e53fba",
   "metadata": {},
   "source": [
    "#### Show Sample Models"
   ]
  },
  {
   "cell_type": "code",
   "execution_count": null,
   "id": "053422e8",
   "metadata": {},
   "outputs": [],
   "source": [
    "project.sample_models.show_names()"
   ]
  },
  {
   "cell_type": "markdown",
   "id": "7a3ff054",
   "metadata": {},
   "source": [
    "#### Add Experiments"
   ]
  },
  {
   "cell_type": "code",
   "execution_count": null,
   "id": "6dad1082",
   "metadata": {},
   "outputs": [],
   "source": [
    "project.experiments.add(experiment)"
   ]
  },
  {
   "cell_type": "markdown",
   "id": "99def302",
   "metadata": {},
   "source": [
    "#### Set Excluded Regions\n",
    "\n",
    "Show measured data as loaded from the file."
   ]
  },
  {
   "cell_type": "code",
   "execution_count": null,
   "id": "44961a3f",
   "metadata": {},
   "outputs": [],
   "source": [
    "project.plot_meas(expt_name='mcstas')"
   ]
  },
  {
   "cell_type": "markdown",
   "id": "8ebdd683",
   "metadata": {},
   "source": [
    "Add excluded regions."
   ]
  },
  {
   "cell_type": "code",
   "execution_count": null,
   "id": "8f82c4c4",
   "metadata": {},
   "outputs": [],
   "source": [
    "experiment.excluded_regions.add(minimum=0, maximum=40000)\n",
    "experiment.excluded_regions.add(minimum=108000, maximum=200000)"
   ]
  },
  {
   "cell_type": "markdown",
   "id": "e9d78b39",
   "metadata": {},
   "source": [
    "Show excluded regions."
   ]
  },
  {
   "cell_type": "code",
   "execution_count": null,
   "id": "58fe9668",
   "metadata": {},
   "outputs": [],
   "source": [
    "experiment.excluded_regions.show()"
   ]
  },
  {
   "cell_type": "markdown",
   "id": "944dce4c",
   "metadata": {},
   "source": [
    "Show measured data after adding excluded regions."
   ]
  },
  {
   "cell_type": "code",
   "execution_count": null,
   "id": "47507dad",
   "metadata": {},
   "outputs": [],
   "source": [
    "project.plot_meas(expt_name='mcstas')"
   ]
  },
  {
   "cell_type": "markdown",
   "id": "2fb29192",
   "metadata": {},
   "source": [
    "Show experiment as CIF."
   ]
  },
  {
   "cell_type": "code",
   "execution_count": null,
   "id": "f9514ff8",
   "metadata": {},
   "outputs": [],
   "source": [
    "project.experiments['mcstas'].show_as_cif()"
   ]
  },
  {
   "cell_type": "markdown",
   "id": "55dff3c7",
   "metadata": {},
   "source": [
    "## Perform Analysis\n",
    "\n",
    "This section outlines the analysis process, including how to configure\n",
    "calculation and fitting engines.\n",
    "\n",
    "#### Set Calculator"
   ]
  },
  {
   "cell_type": "code",
   "execution_count": null,
   "id": "ee832ff4",
   "metadata": {},
   "outputs": [],
   "source": [
    "project.analysis.current_calculator = 'cryspy'"
   ]
  },
  {
   "cell_type": "markdown",
   "id": "16c0819b",
   "metadata": {},
   "source": [
    "#### Set Minimizer"
   ]
  },
  {
   "cell_type": "code",
   "execution_count": null,
   "id": "d7c219f4",
   "metadata": {},
   "outputs": [],
   "source": [
    "project.analysis.current_minimizer = 'lmfit (leastsq)'"
   ]
  },
  {
   "cell_type": "markdown",
   "id": "8a42680c",
   "metadata": {},
   "source": [
    "#### Set Fitting Parameters\n",
    "\n",
    "Set sample model parameters to be optimized."
   ]
  },
  {
   "cell_type": "code",
   "execution_count": null,
   "id": "c173905d",
   "metadata": {},
   "outputs": [],
   "source": [
    "model_1.cell.length_a.free = True\n",
    "model_1.atom_sites['Co'].b_iso.free = True\n",
    "model_1.atom_sites['O'].b_iso.free = True\n",
    "\n",
    "model_2.cell.length_a.free = True"
   ]
  },
  {
   "cell_type": "markdown",
   "id": "e06b84ef",
   "metadata": {},
   "source": [
    "Set experiment parameters to be optimized."
   ]
  },
  {
   "cell_type": "code",
   "execution_count": null,
   "id": "d8db1bc3",
   "metadata": {},
   "outputs": [],
   "source": [
    "experiment.linked_phases['lbco'].scale.free = True\n",
    "experiment.linked_phases['si'].scale.free = True\n",
    "\n",
    "experiment.peak.broad_gauss_sigma_0.free = True\n",
    "experiment.peak.broad_gauss_sigma_1.free = True\n",
    "experiment.peak.broad_gauss_sigma_2.free = True\n",
    "\n",
    "experiment.peak.asym_alpha_1.free = True\n",
    "experiment.peak.broad_mix_beta_0.free = True\n",
    "experiment.peak.broad_mix_beta_1.free = True\n",
    "\n",
    "for point in experiment.background:\n",
    "    point.y.free = True"
   ]
  },
  {
   "cell_type": "markdown",
   "id": "284d4c5a",
   "metadata": {},
   "source": [
    "#### Perform Fit"
   ]
  },
  {
   "cell_type": "code",
   "execution_count": null,
   "id": "db080d7f",
   "metadata": {},
   "outputs": [],
   "source": [
    "project.analysis.fit()"
   ]
  },
  {
   "cell_type": "markdown",
   "id": "bcafa998",
   "metadata": {},
   "source": [
    "#### Plot Measured vs Calculated"
   ]
  },
  {
   "cell_type": "code",
   "execution_count": null,
   "id": "be7579bd",
   "metadata": {},
   "outputs": [],
   "source": [
    "project.plot_meas_vs_calc(expt_name='mcstas')"
   ]
  }
 ],
 "metadata": {
  "jupytext": {
   "cell_metadata_filter": "-all",
   "main_language": "python",
   "notebook_metadata_filter": "-all"
  }
 },
 "nbformat": 4,
 "nbformat_minor": 5
}
