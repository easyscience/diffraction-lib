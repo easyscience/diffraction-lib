{
 "cells": [
  {
   "cell_type": "code",
   "execution_count": 1,
   "id": "4b9b25e2",
   "metadata": {
    "execution": {
     "iopub.execute_input": "2025-08-31T19:33:05.586818Z",
     "iopub.status.busy": "2025-08-31T19:33:05.586694Z",
     "iopub.status.idle": "2025-08-31T19:33:05.591520Z",
     "shell.execute_reply": "2025-08-31T19:33:05.590681Z"
    },
    "tags": [
     "hide-in-docs"
    ]
   },
   "outputs": [],
   "source": [
    "# Check if the easydiffraction library is installed.\n",
    "# If not, install it including the 'visualization' extras.\n",
    "# This is needed, e.g., when running this as a notebook via Google Colab or\n",
    "# Jupyter Notebook in an environment where the library is not pre-installed.\n",
    "import builtins\n",
    "import importlib.util\n",
    "\n",
    "if hasattr(builtins, '__IPYTHON__'):\n",
    "    if importlib.util.find_spec('easydiffraction') is None:\n",
    "        !pip install 'easydiffraction[visualization]'\n"
   ]
  },
  {
   "cell_type": "markdown",
   "id": "0",
   "metadata": {},
   "source": [
    "# Fitting Powder Diffraction data\n",
    "\n",
    "This notebook guides you through the Rietveld refinement of crystal\n",
    "structures using simulated powder diffraction data. It consists of two parts:\n",
    "- Introduction: A simple reference fit using silicon (Si) crystal structure.\n",
    "- Exercise: A more complex fit using La₀.₅Ba₀.₅CoO₃ (LBCO) crystal structure.\n",
    "\n",
    "## 🛠️ Import Library\n",
    "\n",
    "We start by importing the necessary library for the analysis. In this\n",
    "notebook, we use the EasyDiffraction library. As mentioned in the\n",
    "introduction to EasyScience, EasyDiffraction is built on that framework and\n",
    "offers a high-level interface focused specifically for diffraction analysis.\n",
    "\n",
    "This notebook is self-contained and designed for hands-on learning.\n",
    "However, if you're interested in exploring more advanced features or learning\n",
    "about additional capabilities of the EasyDiffraction library, please refer to\n",
    "the official documentation: https://docs.easydiffraction.org/lib\n",
    "\n",
    "Depending on your requirements, you may choose to import only specific\n",
    "classes. However, for the sake of simplicity in this notebook, we will import\n",
    "the entire library."
   ]
  },
  {
   "cell_type": "markdown",
   "id": "1",
   "metadata": {},
   "source": [
    "📖 See [documentation](https://docs.easydiffraction.org/lib/user-guide/first-steps/#importing-easydiffraction)\n",
    "for more details about importing the EasyDiffraction library and\n",
    "its components."
   ]
  },
  {
   "cell_type": "code",
   "execution_count": 2,
   "id": "2",
   "metadata": {
    "execution": {
     "iopub.execute_input": "2025-08-31T19:33:05.593333Z",
     "iopub.status.busy": "2025-08-31T19:33:05.593204Z",
     "iopub.status.idle": "2025-08-31T19:33:05.595416Z",
     "shell.execute_reply": "2025-08-31T19:33:05.595006Z"
    }
   },
   "outputs": [],
   "source": [
    "import easydiffraction as ed"
   ]
  },
  {
   "cell_type": "markdown",
   "id": "3",
   "metadata": {},
   "source": [
    "## 📘 Introduction: Simple Reference Fit – Si\n",
    "\n",
    "Before diving into the more complex fitting exercise with the La₀.₅Ba₀.₅CoO₃\n",
    "(LBCO) crystal structure, let's start with a simpler example using the\n",
    "silicon (Si) crystal structure. This will help us understand the basic\n",
    "concepts and steps involved in fitting a crystal structure using powder\n",
    "diffraction data.\n",
    "\n",
    "For this part of the notebook, we will use the powder diffraction data\n",
    "previously simulated using the Si crystal structure.\n",
    "\n",
    "### 📦 Create a Project – 'reference'\n",
    "\n",
    "In EasyDiffraction, a project serves as a container for all information\n",
    "related to the analysis of a specific experiment or set of experiments. It\n",
    "enables you to organize your data, experiments, sample models, and fitting\n",
    "parameters in a structured manner. You can think of it as a folder containing\n",
    "all the essential details about your analysis. The project also allows\n",
    "us to visualize both the measured and calculated diffraction patterns, among\n",
    "other things."
   ]
  },
  {
   "cell_type": "markdown",
   "id": "4",
   "metadata": {},
   "source": [
    "📖 See [documentation](https://docs.easydiffraction.org/lib/user-guide/analysis-workflow/project/)\n",
    "for more details about creating a project and its purpose in the\n",
    "analysis workflow."
   ]
  },
  {
   "cell_type": "code",
   "execution_count": 3,
   "id": "5",
   "metadata": {
    "execution": {
     "iopub.execute_input": "2025-08-31T19:33:05.596867Z",
     "iopub.status.busy": "2025-08-31T19:33:05.596757Z",
     "iopub.status.idle": "2025-08-31T19:33:09.440321Z",
     "shell.execute_reply": "2025-08-31T19:33:09.437252Z"
    }
   },
   "outputs": [],
   "source": [
    "project_1 = ed.Project(name='reference')"
   ]
  },
  {
   "cell_type": "markdown",
   "id": "6",
   "metadata": {},
   "source": [
    "\n",
    "You can set the title and description of the project to provide context\n",
    "and information about the analysis being performed. This is useful for\n",
    "documentation purposes and helps others (or yourself in the future)\n",
    "understand the purpose of the project at a glance."
   ]
  },
  {
   "cell_type": "code",
   "execution_count": 4,
   "id": "7",
   "metadata": {
    "execution": {
     "iopub.execute_input": "2025-08-31T19:33:09.445319Z",
     "iopub.status.busy": "2025-08-31T19:33:09.442429Z",
     "iopub.status.idle": "2025-08-31T19:33:09.447819Z",
     "shell.execute_reply": "2025-08-31T19:33:09.447079Z"
    }
   },
   "outputs": [],
   "source": [
    "project_1.info.title = 'Reference Silicon Fit'\n",
    "project_1.info.description = 'Fitting simulated powder diffraction pattern of Si.'"
   ]
  },
  {
   "cell_type": "markdown",
   "id": "8",
   "metadata": {},
   "source": [
    "### 🔬 Create an Experiment\n",
    "\n",
    "An experiment\n",
    "represents a specific diffraction measurement performed on a specific sample\n",
    "using a particular instrument. It contains details about the measured data,\n",
    "instrument parameters, and other relevant information."
   ]
  },
  {
   "cell_type": "markdown",
   "id": "9",
   "metadata": {},
   "source": [
    "📖 See [documentation](https://docs.easydiffraction.org/lib/user-guide/analysis-workflow/experiment/)\n",
    "for more details about experiments and their purpose in the analysis workflow."
   ]
  },
  {
   "cell_type": "code",
   "execution_count": 5,
   "id": "10",
   "metadata": {
    "execution": {
     "iopub.execute_input": "2025-08-31T19:33:09.451196Z",
     "iopub.status.busy": "2025-08-31T19:33:09.449270Z",
     "iopub.status.idle": "2025-08-31T19:33:09.459622Z",
     "shell.execute_reply": "2025-08-31T19:33:09.458723Z"
    }
   },
   "outputs": [],
   "source": [
    "dir_path = 'data'\n",
    "file_name = 'reduced_Si.xye'\n",
    "si_xye_path = f'{dir_path}/{file_name}'"
   ]
  },
  {
   "cell_type": "markdown",
   "id": "11",
   "metadata": {},
   "source": [
    "Uncomment the following cell if your data reduction failed and the reduced\n",
    "data file is missing. In this case, you can download our pre-generated\n",
    "reduced data file from the EasyDiffraction repository.\n",
    "The `download_from_repository` function will not overwrite an existing file\n",
    "unless you set `overwrite=True`, so it's safe to run even if the file is\n",
    "already present."
   ]
  },
  {
   "cell_type": "code",
   "execution_count": 6,
   "id": "12",
   "metadata": {
    "execution": {
     "iopub.execute_input": "2025-08-31T19:33:09.461378Z",
     "iopub.status.busy": "2025-08-31T19:33:09.461271Z",
     "iopub.status.idle": "2025-08-31T19:33:09.464158Z",
     "shell.execute_reply": "2025-08-31T19:33:09.463482Z"
    }
   },
   "outputs": [
    {
     "name": "stdout",
     "output_type": "stream",
     "text": [
      "\n",
      "⚠️ \u001b[93mWarning\u001b[0m\n",
      "File 'data/reduced_Si.xye' already exists and will not be overwritten.\n"
     ]
    }
   ],
   "source": [
    "ed.download_from_repository(file_name, destination=dir_path)"
   ]
  },
  {
   "cell_type": "markdown",
   "id": "13",
   "metadata": {},
   "source": [
    "Now we can create the experiment and load the measured data.\n",
    "In this case, the experiment is defined as a powder diffraction measurement\n",
    "using time-of-flight neutrons. The measured data is loaded from a file\n",
    "containing the reduced diffraction pattern of Si from the data reduction\n",
    "notebook."
   ]
  },
  {
   "cell_type": "markdown",
   "id": "14",
   "metadata": {},
   "source": [
    "📖 See [documentation](https://docs.easydiffraction.org/lib/user-guide/analysis-workflow/experiment/#defining-an-experiment-manually)\n",
    "for more details about different types of experiments."
   ]
  },
  {
   "cell_type": "code",
   "execution_count": 7,
   "id": "15",
   "metadata": {
    "execution": {
     "iopub.execute_input": "2025-08-31T19:33:09.466048Z",
     "iopub.status.busy": "2025-08-31T19:33:09.465903Z",
     "iopub.status.idle": "2025-08-31T19:33:09.471809Z",
     "shell.execute_reply": "2025-08-31T19:33:09.471448Z"
    }
   },
   "outputs": [
    {
     "name": "stdout",
     "output_type": "stream",
     "text": [
      "\n",
      "\u001b[94m\u001b[1mLoading measured data from ASCII file\u001b[0m\n",
      "/Users/runner/work/diffraction-lib/diffraction-lib/tutorials/data/reduced_Si.xye\n",
      "\n",
      "\u001b[94m\u001b[1mData loaded successfully\u001b[0m\n",
      "Experiment 🔬 'sim_si'. Number of data points: 900\n"
     ]
    }
   ],
   "source": [
    "project_1.experiments.add(\n",
    "    name='sim_si',\n",
    "    sample_form='powder',\n",
    "    beam_mode='time-of-flight',\n",
    "    radiation_probe='neutron',\n",
    "    data_path=si_xye_path,\n",
    ")"
   ]
  },
  {
   "cell_type": "markdown",
   "id": "16",
   "metadata": {},
   "source": [
    "#### Inspect Measured Data\n",
    "\n",
    "After creating the experiment, we can examine the measured data. The measured\n",
    "data consists of a diffraction pattern having time-of-flight (TOF) values\n",
    "and corresponding intensities. The TOF values are given in microseconds (μs),\n",
    "and the intensities are in arbitrary units.\n",
    "\n",
    "The data is stored in XYE format, a simple text format containing three\n",
    "columns: TOF, intensity, and intensity error (if available)."
   ]
  },
  {
   "cell_type": "markdown",
   "id": "17",
   "metadata": {},
   "source": [
    "📖 See [documentation](https://docs.easydiffraction.org/lib/user-guide/analysis-workflow/experiment/#measured-data-category)\n",
    "for more details about the measured data and its format.\n",
    "\n",
    "To visualize the measured data, we can use the `plot_meas` method of the\n",
    "project. Before plotting, we need to set the plotting engine to 'plotly',\n",
    "which provides interactive visualizations."
   ]
  },
  {
   "cell_type": "markdown",
   "id": "18",
   "metadata": {},
   "source": [
    "📖 See [documentation](https://easyscience.github.io/diffraction-lib/user-guide/first-steps/#supported-plotters)\n",
    "for more details about setting the plotting engine."
   ]
  },
  {
   "cell_type": "code",
   "execution_count": 8,
   "id": "19",
   "metadata": {
    "execution": {
     "iopub.execute_input": "2025-08-31T19:33:09.473290Z",
     "iopub.status.busy": "2025-08-31T19:33:09.473176Z",
     "iopub.status.idle": "2025-08-31T19:33:09.477574Z",
     "shell.execute_reply": "2025-08-31T19:33:09.477195Z"
    }
   },
   "outputs": [
    {
     "name": "stdout",
     "output_type": "stream",
     "text": [
      "\n",
      "\u001b[94m\u001b[1mCurrent plotter changed to\u001b[0m\n",
      "plotly\n"
     ]
    }
   ],
   "source": [
    "project_1.plotter.engine = 'plotly'"
   ]
  },
  {
   "cell_type": "code",
   "execution_count": 9,
   "id": "20",
   "metadata": {
    "execution": {
     "iopub.execute_input": "2025-08-31T19:33:09.478895Z",
     "iopub.status.busy": "2025-08-31T19:33:09.478803Z",
     "iopub.status.idle": "2025-08-31T19:33:09.620009Z",
     "shell.execute_reply": "2025-08-31T19:33:09.619354Z"
    }
   },
   "outputs": [
    {
     "data": {
      "text/html": [
       "<div>                        <script type=\"text/javascript\">window.PlotlyConfig = {MathJaxConfig: 'local'};</script>\n",
       "        <script charset=\"utf-8\" src=\"https://cdn.plot.ly/plotly-3.1.0.min.js\" integrity=\"sha256-Ei4740bWZhaUTQuD6q9yQlgVCMPBz6CZWhevDYPv93A=\" crossorigin=\"anonymous\"></script>                <div id=\"8894a16f-94aa-4d41-9f77-e20c5871682d\" class=\"plotly-graph-div\" style=\"height:100%; width:100%;\"></div>            <script type=\"text/javascript\">                window.PLOTLYENV=window.PLOTLYENV || {};                                if (document.getElementById(\"8894a16f-94aa-4d41-9f77-e20c5871682d\")) {                    Plotly.newPlot(                        \"8894a16f-94aa-4d41-9f77-e20c5871682d\",                        [{\"line\":{\"color\":\"rgb(31, 119, 180)\"},\"mode\":\"lines+markers\",\"name\":\"Measured (Imeas)\",\"x\":{\"dtype\":\"f8\",\"bdata\":\"7zhFRzII5UBCYOXQjhflQJSHhVrrJuVA5q4l5Ec25UA51sVtpEXlQHRGlPYAVeVAxm00gF1k5UAYldQJunPlQGq8dJMWg+VAveMUHXOS5UAPC7Wmz6HlQGEyVTAsseVAnKIjuYjA5UDvycNC5c\\u002flQEHxY8xB3+VAkxgEVp7u5UDmP6Tf+v3lQDhnRGlXDeZAio7k8rMc5kDdtYR8ECzmQBgmUwVtO+ZAak3zjslK5kC8dJMYJlrmQA+cM6KCaeZAYcPTK9945kCz6nO1O4jmQAYSFD+Yl+ZAQYLix\\u002fSm5kCTqYJRUbbmQOXQItutxeZAOPjCZArV5kCKH2PuZuTmQNxGA3jD8+ZAL26jASAD50CBlUOLfBLnQLwFEhTZIedADi2ynTUx50BhVFInkkDnQLN78rDuT+dABaOSOktf50BYyjLEp27nQKrx0k0EfudA5WGh1mCN50A3iUFgvZznQIqw4ekZrOdA3NeBc3a750Au\\u002fyH90srnQIEmwoYv2udA001iEIzp50AldQKa6PjnQGDl0CJFCOhAswxxrKEX6EAFNBE2\\u002fiboQFdbsb9aNuhAqoJRSbdF6ED8qfHSE1XoQE7RkVxwZOhAiUFg5cxz6EDcaABvKYPoQC6QoPiFkuhAgLdAguKh6EDT3uALP7HoQCUGgZWbwOhAdy0hH\\u002fjP6EDKVMGoVN\\u002foQAXFjzGx7uhAV+wvuw3+6ECpE9BEag3pQPs6cM7GHOlATmIQWCMs6UCgibDhfzvpQPKwUGvcSulALSEf9Dha6UCASL99lWnpQNJvXwfyeOlAJJf\\u002fkE6I6UB3vp8aq5fpQMnlP6QHp+lAGw3gLWS26UBuNIC3wMXpQKmkTkAd1elA+8vuyXnk6UBN845T1vPpQKAaL90yA+pA8kHPZo8S6kBEaW\\u002fw6yHqQJeQD3pIMepA0gDeAqVA6kAkKH6MAVDqQHZPHhZeX+pAyXa+n7pu6kAbnl4pF37qQG3F\\u002frJzjepAwOyePNCc6kASFD\\u002fGLKzqQE2EDU+Ju+pAn6ut2OXK6kDy0k1iQtrqQET67eue6epAliGOdfv46kDpSC7\\u002fVwjrQDtwzoi0F+tAduCcEREn60DIBz2bbTbrQBsv3STKRetAbVZ9riZV60C\\u002ffR04g2TrQBKlvcHfc+tAZMxdSzyD60C28\\u002f3UmJLrQPFjzF31oetARIts51Gx60CWsgxxrsDrQOjZrPoK0OtAOwFNhGff60CNKO0NxO7rQN9PjZcg\\u002futAGsBbIH0N7EBt5\\u002fup2RzsQL8OnDM2LOxAETY8vZI77EBkXdxG70rsQLaEfNBLWuxACKwcWqhp7EBb07zjBHnsQJZDi2xhiOxA6Gor9r2X7EA6kst\\u002fGqfsQIy5awl3tuxA3+ALk9PF7EAxCKwcMNXsQIMvTKaM5OxAvp8aL+nz7EARx7q4RQPtQGPuWkKiEu1AtRX7y\\u002f4h7UAIPZtVWzHtQFpkO9+3QO1ArIvbaBRQ7UDn+6nxcF\\u002ftQDojSnvNbu1AjErqBCp+7UDecYqOho3tQDGZKhjjnO1Ag8DKoT+s7UDV52ornLvtQCgPC7X4yu1AY3\\u002fZPVXa7UC1pnnHsentQAfOGVEO+e1AWvW52moI7kCsHFpkxxfuQP5D+u0jJ+5AUWuad4A27kCM22gA3UXuQN4CCYo5Ve5AMCqpE5Zk7kCDUUmd8nPuQNV46SZPg+5AJ6CJsKuS7kB6xyk6CKLuQMzuycNkse5AB1+YTMHA7kBZhjjWHdDuQKyt2F963+5A\\u002ftR46dbu7kBQ\\u002fBhzM\\u002f7uQKMjufyPDe9A9UpZhuwc70AwuycPSSzvQILix5ilO+9A1QloIgJL70AnMQisXlrvQHlYqDW7ae9AzH9Ivxd570Aep+hIdIjvQHDOiNLQl+9Aqz5XWy2n70D+ZffkibbvQFCNl27mxe9AorQ3+ELV70D129eBn+TvQEcDeAv88+9ATRWMSqwB8EBqTfOOWgnwQBNhw9MIEfBAvHSTGLcY8EBmiGNdZSDwQA+cM6ITKPBAuK8D58Ev8EBhw9MrcDfwQArXo3AeP\\u002fBAKA8LtcxG8EDRItv5ek7wQHo2qz4pVvBAI0p7g9dd8EDMXUvIhWXwQHZxGw00bfBAH4XrUeJ08EA8vVKWkHzwQOXQIts+hPBAj+TyH+2L8EA4+MJkm5PwQOELk6lJm\\u002fBAih9j7vei8EAzMzMzpqrwQNxGA3hUsvBA+n5qvAK68ECjkjoBscHwQEymCkZfyfBA9bnaig3R8ECfzarPu9jwQEjhehRq4PBA8fRKWRjo8EAOLbKdxu\\u002fwQLhAguJ09\\u002fBAYVRSJyP\\u002f8EAKaCJs0QbxQLN78rB\\u002fDvFAXI\\u002fC9S0W8UAFo5I63B3xQK62Yn+KJfFAzO7Jwzgt8UB1ApoI5zTxQB4Wak2VPPFAxyk6kkNE8UBxPQrX8UvxQBpR2hugU\\u002fFAw2SqYE5b8UDgnBGl\\u002fGLxQIqw4emqavFAM8SxLlly8UDc14FzB3rxQIXrUbi1gfFALv8h\\u002fWOJ8UDXEvJBEpHxQIEmwobAmPFAnl4py26g8UBHcvkPHajxQPCFyVTLr\\u002fFAmpmZmXm38UBDrWneJ7\\u002fxQOzAOSPWxvFAldQJaITO8UCzDHGsMtbxQFwgQfHg3fFABTQRNo\\u002fl8UCuR+F6Pe3xQFdbsb\\u002fr9PFAAG+BBJr88UCqglFJSATyQFOWIY72C\\u002fJAcM6I0qQT8kAZ4lgXUxvyQMP1KFwBI\\u002fJAbAn5oK8q8kAVHcnlXTLyQL4wmSoMOvJAZ0Rpb7pB8kCFfNCzaEnyQC6QoPgWUfJA16NwPcVY8kCAt0CCc2DyQCnLEMchaPJA097gC9Bv8kB88rBQfnfyQCUGgZUsf\\u002fJAQj7o2dqG8kDsUbgeiY7yQJVliGM3lvJAPnlYqOWd8kDnjCjtk6XyQJCg+DFCrfJAObTIdvC08kBX7C+7nrzyQAAAAABNxPJAqRPQRPvL8kBSJ6CJqdPyQPs6cM5X2\\u002fJApU5AEwbj8kBOYhBYtOryQGuad5xi8vJAFK5H4RD68kC+wRcmvwHzQGfV52ptCfNAEOm3rxsR80C5\\u002fIf0yRjzQGIQWDl4IPNACyQofiYo80ApXI\\u002fC1C\\u002fzQNJvXweDN\\u002fNAe4MvTDE\\u002f80Akl\\u002f+Q30bzQM6qz9WNTvNAd76fGjxW80Ag0m9f6l3zQD0K16OYZfNA5x2n6EZt80CQMXct9XTzQDlFR3KjfPNA4lgXt1GE80CLbOf7\\u002f4vzQDSAt0Cuk\\u002fNA3pOHhVyb80D7y+7JCqPzQKTfvg65qvNATfOOU2ey80D3Bl+YFbrzQKAaL93DwfNASS7\\u002fIXLJ80DyQc9mINHzQBB6NqvO2PNAuY0G8Hzg80BiodY0K+jzQAu1pnnZ7\\u002fNAtMh2vof380Bd3EYDNv\\u002fzQAfwFkjkBvRAsAPnjJIO9EDNO07RQBb0QHZPHhbvHfRAIGPuWp0l9EDJdr6fSy30QHKKjuT5NPRAG55eKag89EDEsS5uVkT0QOLplbIETPRAi\\u002f1l97JT9EA0ETY8YVv0QN0kBoEPY\\u002fRAhjjWxb1q9EAwTKYKbHL0QNlfdk8aevRAgnNGlMiB9ECfq63Ydon0QEi\\u002ffR0lkfRA8tJNYtOY9ECb5h2ngaD0QET67esvqPRA7Q2+MN6v9ECWIY51jLf0QLRZ9bk6v\\u002fRAXW3F\\u002fujG9EAGgZVDl870QK+UZYhF1vRAWKg1zfPd9EACvAUSouX0QKvP1VZQ7fRAVOOlm\\u002f709EBxGw3grPz0QBsv3SRbBPVAxEKtaQkM9UBtVn2utxP1QBZqTfNlG\\u002fVAv30dOBQj9UBoke18wir1QIbJVMFwMvVAL90kBh869UDY8PRKzUH1QIEExY97SfVAKxiV1ClR9UDUK2UZ2Fj1QH0\\u002fNV6GYPVAJlMFozRo9UBEi2zn4m\\u002f1QO2ePCyRd\\u002fVAlrIMcT9\\u002f9UA\\u002fxty17Yb1QOjZrPqbjvVAke18P0qW9UA7AU2E+J31QFg5tMimpfVAAU2EDVWt9UCqYFRSA7X1QFR0JJexvPVA\\u002fYf021\\u002fE9UCmm8QgDsz1QE+vlGW80\\u002fVA+MJkqmrb9UAW+8vuGOP1QL8OnDPH6vVAaCJseHXy9UARNjy9I\\u002fr1QLpJDALSAfZAZF3cRoAJ9kANcayLLhH2QCqpE9DcGPZA07zjFIsg9kB90LNZOSj2QCbkg57nL\\u002fZAz\\u002fdT45U39kB4CyQoRD\\u002f2QCEf9GzyRvZAyjLEsaBO9kDoaiv2Tlb2QJF++zr9XfZAOpLLf6tl9kDjpZvEWW32QIy5awkIdfZANs07TrZ89kDf4AuTZIT2QPwYc9cSjPZApSxDHMGT9kBPQBNhb5v2QPhT46Udo\\u002fZAoWez6suq9kBKe4MverL2QPOOU3QouvZAnKIjudbB9kC62or9hMn2QGPuWkIz0fZADAIrh+HY9kC1FfvLj+D2QF8pyxA+6PZACD2bVezv9kCxUGuamvf2QM6I0t5I\\u002f\\u002fZAeJyiI\\u002fcG90AhsHJopQ73QMrDQq1TFvdAc9cS8gEe90Ac6+I2sCX3QMX+snteLfdA4zYawAw190CMSuoEuzz3QDVeuklpRPdA3nGKjhdM90CIhVrTxVP3QDGZKhh0W\\u002fdA2qz6XCJj90CDwMqh0Gr3QKH4MeZ+cvdASgwCKy1690DzH9Jv24H3QJwzorSJifdARUdy+TeR90DuWkI+5pj3QJhuEoOUoPdAtaZ5x0Ko90BeukkM8a\\u002f3QAfOGVGft\\u002fdAseHplU2\\u002f90Ba9bna+8b3QAMJih+qzvdArBxaZFjW90BVMCqpBt73QHNoke205fdAHHxhMmPt90DFjzF3EfX3QG6jAby\\u002f\\u002fPdAF7fRAG4E+EDByqFFHAz4QGrecYrKE\\u002fhAhxbZzngb+EAwKqkTJyP4QNk9eVjVKvhAg1FJnYMy+EAsZRniMTr4QNV46SbgQfhAfoy5a45J+EAnoImwPFH4QEXY8PTqWPhA7uvAOZlg+ECX\\u002f5B+R2j4QEATYcP1b\\u002fhA6SYxCKR3+ECTOgFNUn\\u002f4QDxO0ZEAh\\u002fhAWYY41q6O+EACmggbXZb4QKyt2F8LnvhAVcGopLml+ED+1HjpZ634QKfoSC4WtfhAUPwYc8S8+ED5D+m3csT4QBdIUPwgzPhAwFsgQc\\u002fT+EBpb\\u002fCFfdv4QBKDwMor4\\u002fhAvJaQD9rq+EBlqmBUiPL4QA6+MJk2+vhAK\\u002faX3eQB+UDVCWgikwn5QH4dOGdBEflAJzEIrO8Y+UDQRNjwnSD5QHlYqDVMKPlAImx4evov+UDMf0i\\u002fqDf5QOm3rwNXP\\u002flAkst\\u002fSAVH+UA730+Ns075QOXyH9JhVvlAjgbwFhBe+UA3GsBbvmX5QOAtkKBsbflA\\u002fmX35Bp1+UCneccpyXz5QFCNl253hPlA+aBnsyWM+UCitDf405P5QEvIBz2Cm\\u002flA9dvXgTCj+UCe76fG3qr5QLsnDwuNsvlAZDvfTzu6+UAOT6+U6cH5QLdif9mXyflAYHZPHkbR+UAJih9j9Nj5QLKd76ei4PlA0NVW7FDo+UB56SYx\\u002f+\\u002f5QCL99nWt9\\u002flAyxDHulv\\u002f+UB0JJf\\u002fCQf6QB04Z0S4DvpAx0s3iWYW+kBwXwfOFB76QI2XbhLDJfpANqs+V3Et+kDgvg6cHzX6QInS3uDNPPpAMuauJXxE+kDb+X5qKkz6QIQNT6\\u002fYU\\u002fpAokW284Zb+kBLWYY4NWP6QPRsVn3javpAnYAmwpFy+kBGlPYGQHr6QPCnxkvugfpAmbuWkJyJ+kBCz2bVSpH6QF8Hzhn5mPpACRueXqeg+kCyLm6jVaj6QFtCPugDsPpABFYOLbK3+kCtad5xYL\\u002f6QFZ9rrYOx\\u002fpAdLUV+7zO+kAdyeU\\u002fa9b6QMbctYQZ3vpAb\\u002fCFycfl+kAZBFYOdu36QMIXJlMk9fpAayv2l9L8+kCIY13cgAT7QDJ3LSEvDPtA24r9Zd0T+0CEns2qixv7QC2yne85I\\u002ftA1sVtNOgq+0B\\u002f2T15ljL7QCntDb5EOvtARiV1AvNB+0DvOEVHoUn7QJhMFYxPUftAQmDl0P1Y+0Drc7UVrGD7QJSHhVpaaPtAPZtVnwhw+0Bb07zjtnf7QATnjChlf\\u002ftArfpcbROH+0BWDi2ywY77QP8h\\u002ffZvlvtAqDXNOx6e+0BSSZ2AzKX7QPtcbcV6rftAGJXUCSm1+0DBqKRO17z7QGq8dJOFxPtAFNBE2DPM+0C94xQd4tP7QGb35GGQ2\\u002ftADwu1pj7j+0AtQxzr7Or7QNZW7C+b8vtAf2q8dEn6+0Aofoy59wH8QNGRXP6lCfxAeqUsQ1QR\\u002fEAkufyHAhn8QM3MzMywIPxA6gQ0EV8o\\u002fECTGARWDTD8QD0s1Jq7N\\u002fxA5j+k32k\\u002f\\u002fECPU3QkGEf8QDhnRGnGTvxA4XoUrnRW\\u002fED\\u002fsnvyIl78QKjGSzfRZfxAUdobfH9t\\u002fED67evALXX8QKMBvAXcfPxATRWMSoqE\\u002fED2KFyPOIz8QJ88LNTmk\\u002fxAvHSTGJWb\\u002fEBmiGNdQ6P8QA+cM6LxqvxAuK8D55+y\\u002fEBhw9MrTrr8QArXo3D8wfxAs+pztarJ\\u002fEDRItv5WNH8QHo2qz4H2fxAI0p7g7Xg\\u002fEDMXUvIY+j8QHZxGw0S8PxAH4XrUcD3\\u002fEDImLuWbv\\u002f8QHGsi9scB\\u002f1Aj+TyH8sO\\u002fUA4+MJkeRb9QOELk6knHv1Aih9j7tUl\\u002fUAzMzMzhC39QNxGA3gyNf1AhlrTvOA8\\u002fUCjkjoBj0T9QEymCkY9TP1A9bnaiutT\\u002fUCfzarPmVv9QEjhehRIY\\u002f1A8fRKWfZq\\u002fUCaCBuepHL9QEMc6+JSev1AYVRSJwGC\\u002fUAKaCJsr4n9QLN78rBdkf1AXI\\u002fC9QuZ\\u002fUAFo5I6uqD9QK62Yn9oqP1AWMoyxBaw\\u002fUB1ApoIxbf9QB4Wak1zv\\u002f1Axyk6kiHH\\u002fUBxPQrXz879QBpR2ht+1v1Aw2SqYCze\\u002fUBseHql2uX9QBWMSuqI7f1AM8SxLjf1\\u002fUDc14Fz5fz9QIXrUbiTBP5ALv8h\\u002fUEM\\u002fkDXEvJB8BP+QIEmwoaeG\\u002f5AKjqSy0wj\\u002fkBHcvkP+yr+QPCFyVSpMv5AmpmZmVc6\\u002fkBDrWneBUL+QOzAOSO0Sf5AldQJaGJR\\u002fkA+6NmsEFn+QOf7qfG+YP5ABTQRNm1o\\u002fkCuR+F6G3D+QFdbsb\\u002fJd\\u002f5AAG+BBHh\\u002f\\u002fkCqglFJJof+QFOWIY7Ujv5A\\u002fKnx0oKW\\u002fkAZ4lgXMZ7+QMP1KFzfpf5AbAn5oI2t\\u002fkAVHcnlO7X+QL4wmSrqvP5AZ0Rpb5jE\\u002fkAQWDm0Rsz+QLprCfn00\\u002f5A16NwPaPb\\u002fkCAt0CCUeP+QCnLEMf\\u002f6v5A097gC67y\\u002fkB88rBQXPr+QCUGgZUKAv9AzhlR2rgJ\\u002f0DsUbgeZxH\\u002fQJVliGMVGf9APnlYqMMg\\u002f0DnjCjtcSj\\u002fQJCg+DEgMP9AObTIds43\\u002f0Djx5i7fD\\u002f\\u002fQAAAAAArR\\u002f9AqRPQRNlO\\u002f0BSJ6CJh1b\\u002fQPs6cM41Xv9ApU5AE+Rl\\u002f0BOYhBYkm3\\u002fQPd14JxAdf9AoImw4e58\\u002f0C+wRcmnYT\\u002fQGfV52pLjP9AEOm3r\\u002fmT\\u002f0C5\\u002fIf0p5v\\u002fQGIQWDlWo\\u002f9ACyQofgSr\\u002f0C1N\\u002fjCsrL\\u002fQNJvXwdhuv9Ae4MvTA\\u002fC\\u002f0Akl\\u002f+Qvcn\\u002fQM6qz9Vr0f9Ad76fGhrZ\\u002f0Ag0m9fyOD\\u002fQMnlP6R26P9AcvkP6STw\\u002f0CQMXct0\\u002ff\\u002fQDlFR3KB\\u002f\\u002f9AcayL25cDAEFGtvP9bgcAQRrAWyBGCwBB78nDQh0PAEHD0ytl9BIAQdJvX4fLFgBBp3nHqaIaAEF7gy\\u002fMeR4AQVCNl+5QIgBBJJf\\u002fECgmAEH5oGcz\\u002fykAQc6qz1XWLQBBorQ3eK0xAEGxUGuahDUAQYZa07xbOQBBWmQ73zI9AEEvbqMBCkEAQQN4CyThRABB2IFzRrhIAEGsi9toj0wAQbsnD4tmUABBkDF3rT1UAEFkO9\\u002fPFFgAQTlFR\\u002fLrWwBBDk+vFMNfAEHiWBc3mmMAQbdif1lxZwBBi2zne0hrAEGaCBueH28AQW8Sg8D2cgBBQxzr4s12AEEYJlMFpXoAQewvuyd8fgBBwTkjSlOCAEGWQ4tsKoYAQaTfvo4BigBBeekmsdiNAEFN847Tr5EAQSL99vWGlQBB9wZfGF6ZAEHLEMc6NZ0AQaAaL10MoQBBdCSXf+OkAEGDwMqhuqgAQVjKMsSRrABBLNSa5miwAEEB3gIJQLQAQdXnaisXuABBqvHSTe67AEF\\u002f+zpwxb8AQY2XbpKcwwBBYqHWtHPHAEE2qz7XSssAQQu1pvkhzwBB4L4OHPnSAEG0yHY+0NYAQYnS3mCn2gBBXdxGg37eAEFseHqlVeIAQUGC4scs5gBBFYxK6gPqAEHqlbIM2+0AQb6fGi+y8QBBk6mCUYn1AEFos+pzYPkAQXZPHpY3\\u002fQBBS1mGuA4BAUEgY+7a5QQBQfRsVv28CAFByXa+H5QMAUGdgCZCaxABQXKKjmRCFAFBRpT2hhkYAUFVMCqp8BsBQSo6ksvHHwFB\\u002fkP67Z4jAUHTTWIQdicBQahXyjJNKwFBfGEyVSQvAUFRa5p3+zIBQV8HzpnSNgFBNBE2vKk6AUEJG57egD4BQd0kBgFYQgFBsi5uIy9GAUGGONZFBkoBQVtCPmjdTQFBMEymirRRAUE+6Nmsi1UBQRPyQc9iWQFB5\\u002fup8TldAUG8BRIUEWEBQZEPejboZAFBZRniWL9oAUE6I0p7lmwBQUi\\u002ffZ1tcAFBHcnlv0R0AUHy0k3iG3gBQcbctQTzewFBm+YdJ8p\\u002fAUFv8IVJoYMBQUT67Wt4hwFBGQRWjk+LAUEnoImwJo8BQfyp8dL9kgFB0LNZ9dSWAUGlvcEXrJoBQXrHKTqDngFBTtGRXFqiAUEj2\\u002fl+MaYBQTJ3LaEIqgFBBoGVw9+tAUHbiv3ltrEBQa+UZQiOtQFBhJ7NKmW5AUFYqDVNPL0BQS2ynW8TwQFBPE7RkerEAUEQWDm0wcgBQeVhodaYzAFBumsJ+W\\u002fQAUGOdXEbR9QBQWN\\u002f2T0e2AFBN4lBYPXbAUEMk6mCzN8BQRsv3aSj4wFB7zhFx3rnAUHEQq3pUesBQZhMFQwp7wFBbVZ9LgDzAUFCYOVQ1\\u002fYBQRZqTXOu+gFBJQaBlYX+AUH5D+m3XAICQc4ZUdozBgJBoyO5\\u002fAoKAkF3LSEf4g0CQUw3iUG5EQJBIEHxY5AVAkH1SlmGZxkCQQTnjKg+HQJB2PD0yhUhAkGt+lzt7CQCQYEExQ\\u002fEKAJBVg4tMpssAkErGJVUcjACQf8h\\u002fXZJNAJBDr4wmSA4AkHjx5i79zsCQbfRAN7OPwJBjNtoAKZDAkFg5dAifUcCQTXvOEVUSwJBCfmgZytPAkHeAgmKAlMCQe2ePKzZVgJBwaikzrBaAkGWsgzxh14CQWq8dBNfYgJBP8bcNTZmAkEU0ERYDWoCQejZrHrkbQJB93XgnLtxAkHMf0i\\u002fknUCQaCJsOFpeQJBdZMYBEF9AkFJnYAmGIECQR6n6EjvhAJB8rBQa8aIAkHHuriNnYwCQdZW7K90kAJBqmBU0kuUAkF\\u002farz0IpgCQVR0JBf6mwJBKH6MOdGfAkH9h\\u002fRbqKMCQdGRXH5\\u002fpwJB4C2QoFarAkG1N\\u002fjCLa8CQYlBYOUEswJBXkvIB9y2AkEyVTAqs7oCQQdfmEyKvgJB\"},\"y\":{\"dtype\":\"f8\",\"bdata\":\"xj4GXnG70D9KqFqjByTnP\\u002frwXpliBO0\\u002fvY6toSoB4D\\u002f2Dc4IPdPNP+szYEdpcKc\\u002fmQlJREshnD+ymHKcqpsfP2q+EJnYIdU\\u002faC0QhC4s0T8RhdYfxaPXP54MsmgQ8gNAJ0r2VinU9D9nChthcwXhP4jnOJHpQ8g\\u002fxtx3mQc0mz\\u002fPH\\u002fuV2iu\\u002fP6MnPsKhhHQ\\u002f87b+Ulg0dD9ocOopQoehP7Mv4Np67ag\\u002fkxTMkTJWeD9ULWzLjDMQP1ESDkOfDRE\\u002f34h1QDltoD+63wL6HVitP9mDKYkBS9M\\u002fYxyrCxbR3z8K59\\u002f62k\\u002fnP6QxjqDbuPM\\u002fBwQ7WATG2T90ZBNAYQXLP4GmPlf5\\u002fKI\\u002fJRyXQ\\u002fbibT\\u002f1KBK8IqpmP\\u002fo+6q5e\\u002f3w\\u002f9Z\\u002fG84Z5hz8cBdwfO6OgP8og3C4qBMI\\u002fgilemNh73T9xRjuvpvnWP72hQs5sMdw\\u002faN\\u002fDq9VC0T\\u002fkQPSZF5y3P6aU\\u002fBPZIZo\\u002fR4WBjMejlT\\u002fB\\u002fiIbDYOgP80NUcyeO1E\\u002fOpH+bSm7hz99sbbe+zCKP16aVRIPv4M\\u002fWDeoWEWOdT8GU4Lx8iORP2ofW11rTlU+QAEp80+9YT+C0JG\\u002f7ClTP1fDC1SLmaA\\u002fIGGGGluHQj\\u002fuiI9uIpl2P9scthWo6LE\\u002fBG\\u002fN2vKWvj9UsTAQtz7fP5tmo0eClOQ\\u002fJETopTxB6z8XyP4SQ7TdP8lMM7UNdcI\\u002f\\u002fqpPLlzLtT8q0xCMk\\u002fOUP7IcHHNBrH8\\u002fO6ImuGjvsT\\u002fAoG85pYq2P95hAE7pPZQ\\u002faVLEU5ghhD9A6vo0cBO7P9KZTAIUpL4\\u002fv0Xsqvic1z8MLNemuF7jP2PrJF2lAPs\\u002fqAav5R35\\u002fz+1G+9hZdr9P1w+CiWHUfA\\u002fLUvDSxFs1j\\u002fTIQh45Y3APwAB15rwmaI\\u002fKy3n\\u002f7txjj9Rd8Tn\\u002fAKjP5P6sJbdDJo\\u002fHDSuAhe4nj85459SsgF8P7So+gVF4cA++8V0S3ljlj8g0OlICM+CPzrGZET4dYQ\\u002fvnVkFG5rkz9e0k2Kmq2jP+Y0P1WP2Jg\\u002fETAJDWhVhD\\u002fDgsNTJUWUPx8pjf6UAnM\\u002fBEPz\\u002fNxYnD+63xvdAB2EP942Nm2hnq0\\u002fmiA7pSDIgj9YtUWR56i6P6jF6lBbc8Q\\u002ft+IPlQXk2D+8I2AXQJf0P7ikbuVJ9wBAGvCkTKrZBEDbnsL3Be8AQEMqYZESHvM\\u002f\\u002fsp26P2R4j92V7+gGojCP5wGEKat9Kg\\u002fEW0Yc0tJiD9\\u002f3QWWhyZ0P3ScYJIaaoU\\u002fpwPnsmuSkD9NP1KF8+KJP7pPl2WntnQ\\u002feM1odUuikT9kg2Mk8KuWP5i9NHcuMVQ\\u002fAJFBNFehpT9EDL4KnJqyP7UEDpxUAsU\\u002fSoDPFcdh2T+7P4x9Tt\\u002flPzjO9AKbPfM\\u002fUDkjdKvw9z\\u002fTboFUr+j0P4RwXSYey+U\\u002fdgLKi54+1j\\u002f0dQs0y7+5P4npHnyHep4\\u002fpQuJGalTnT+aJF7iHGWePy\\u002fkvzN8FaE\\u002f5zgdVYQfcD\\u002fYN\\u002fdZ45hjP5sqnx1O4KY\\u002fv5LtA2KPjD\\u002fvsY8\\u002fwdmWP2hwqNblSZk\\u002fU8F2SEhRez9LpyWWAN2iP3Xp97DFlIs\\u002fQUgwcjkJmj8XKoGZiEWeP5revZgUZZ0\\u002fZBHr1WyLnD+uQU\\u002ffxVCNP+8ZYkljqaE\\u002fHxzXjTNfhz8SsNw2BXqEP4hz4Gw\\u002fRJs\\u002fEVbA+7a+kD8oCYZbA3qQP3gRSavVUow\\u002fu5ph\\u002fkx+oD+zPdX+\\u002fiKbPxl\\u002fCCgv7qE\\u002fvYfE\\u002feiqkj95GaZs0V6jPwgqfshe+ao\\u002f+C5oSw1jtz9Y3jxTI3q2Pwga55Ru+so\\u002ftVqeYJDS2D8vF4A9CuDqP5YNNETmBfo\\u002fnPJLMC07BECbqHkUYFYFQOhU8ZRnFwBAiuAtjla+8D9f1eeWdhDiP72Qx8Esxso\\u002fLH2bXbSLsz\\u002fJyI6IxKOfP01UfzC1kZk\\u002fiTf42jM2lz9XETtusdKAP\\u002f863LSABpc\\u002fc5xmaFYbkj8D8O8ADU2ZP9nLqtUtL5I\\u002fpsvvpCBYiD800cHBDlGbP7M73iAAi5Y\\u002fenCPLDfdmz9tf2oUtVeIP31J4g8biKE\\u002fLYYX3b\\u002fzmT+x6Yd0ATObP0q6SuPI+6s\\u002fIFwQaQn4rj8Sge+4Uf2wPxgu9amNRr8\\u002foeW\\u002fowhyxT\\u002fyYp0WrHDcP2Uh0bZoIO4\\u002fi8Yo039i\\u002fj8UnfJlxf0OQBVzOa\\u002fLqBVAL3Wh0od+FEAgYq1Kr2AKQDkz66i79Pc\\u002feVJLVM6v5j9cl1QH3DXVP\\u002fbnKy7TPsM\\u002fH8Mjcgt7sT+ue5PRwe6qP9DSqTvWmZM\\u002fgE5fONZ8lT+bHdtgf6OcP5Yl0tN0T6M\\u002f86Ax+bTclD\\u002feXYpWk\\u002fiHPzyxcpZOH5M\\u002f6btcZdmklT9ScWxVIIWXP5jMYmV+rqA\\u002fmHlLc2+ojD8B15bsnauZP0aFXixWZqE\\u002fMb8azOOblj818jKCTn6ZPx5N2CyeAow\\u002fiX58uoqQlz8IAesTzJSWPzm60G879aI\\u002fEl8M59SZkT9nreo6WR6WP+i2BcPEiJo\\u002fS59qKveDmD8celj294mcPyLA7bAAKp8\\u002fzsv6AKTfmT9oXvj7GaSePzVEl6r0LJY\\u002fz4CidOazlT\\u002fHDn9q92yJP4QebotWI5E\\u002fSeGqkf88mD9FtgEj\\u002f8uYP32SNUAybJs\\u002fZWpw2qxrpT8a1Gai4ECaPwz+wCrJdZ8\\u002fjow1+ey3mz+HGnL1NTyTPzp9upNn64w\\u002fVbZhnSp1nz+IQDfQqCiVP2WP1YuCqos\\u002fbiwDdIeslD8tW97GymORP\\u002fB9WRaLAJM\\u002fcJ\\u002fukeG4lD+d80y+EwqUP7w51c83XZs\\u002fmuiFdOYEmj+d6SVJCvOnP+nC4RoLvKM\\u002fqPDZYjr3sj+i72mnY\\u002fSyP6l6hhDdmcA\\u002ficZLa1G+zz8rXp2B6zTeP9MbLj3Nm\\u002fE\\u002ffUPSEl9YA0Dxc5tkMQUQQNnPYT\\u002fKFRNAsYMccWSFD0CMCeCoiKkCQANpU1JsHvI\\u002fO2WIOK0Q4D9JlOgrU4DPP5FOK1cAVL8\\u002fZQknfLwHuD+svGQvwCupPwJopN\\u002fKVaA\\u002fkDqiZzwNoD+h6yizji+gP3Xyq0GbVZg\\u002fEufleVVvmj+P6ugVIVmdP3\\u002fhgtOrR5I\\u002fAmCCeihTkj8B0H2P75yYP6jBtQE9f5c\\u002f240nBzjhmz\\u002fCJpdY\\u002f7CaPwheAW56jZo\\u002f8onFrI72nD9a6rtTaVWbP30EWxRAcpA\\u002fY9sDx5vnlT\\u002fIw+8aDGyWPwN8i9lPDp0\\u002fxaxEqZPFiz+zUcFZoTySP2hdZ4UJOZ8\\u002fpkQ6\\u002fCMmoT++GGbtd96bP7dcQOJ8xJo\\u002f9x4+4FJMnj8CRNskG7yXP852dQiliZo\\u002f0cRyhl0nmD+dGAhigwmXP1A0F7gzXJs\\u002fcl0nNmYQmz+ErLhxyDOlP2PcRkLTQZs\\u002fuA0RVPSBnz+c5WrX92iiP4mImDRr3Zg\\u002fMihFjG2Eoz\\u002fbzY8TonGmP8yWjc9xQ7A\\u002ffcE8zmEUuD\\u002fBLJWUZKLDP03Y5YmgsNA\\u002fP3+uejdr3z\\u002fRn7XMqxLwPyTME9ngAv4\\u002fGxVRY\\u002fy\\u002fBUCvn+HpOIcJQKjK32JDJQZApBMIzuJK+z984Ey7G7DrPyDGRr2F\\u002fNk\\u002fmav2AuCXzj+27Nr\\u002ff7S+P1YfBviCEbQ\\u002fy+cZaPG3rD8noQDFr9GnPwGM7BxhA6Q\\u002faksXXX+SnT9DKGgah3SZP5u+K2Deapw\\u002fCCH6dBftlT9Wr4I5un2fP\\u002fCj1PdslZU\\u002fy8Pp0+k2nj8KDcSXSe2cP6jNuREdWZs\\u002fj4TbdpLLoT\\u002fw8mEaIzacP2XJcPm7hJs\\u002fGSBrmj8onz8MKubHwT+XP9Oc\\u002flDsJJ8\\u002fc7IjMN19mD+QsIaNxPOhP8IcRcg8DZ4\\u002fd3AFa2xYkj\\u002fksrhaX5GVP3xVXDNhepk\\u002fjWf\\u002fXmNLmz\\u002fUOancNhWiPxJZPMXbtJo\\u002fWI\\u002fYRZqklz+YNS6tq2agP8NORU\\u002fpeps\\u002fF3hL91xKlj+AGV7\\u002faB6RP0liDAls25k\\u002fi2ZEBZ6bij9KyG2ltsqWP+vgJRPYAJ0\\u002ftZKU77Qjlj+Z1Uj2o0+WP60Gxu3ig5o\\u002fsHEiUxi7mT9vVcQ8xDeZP6brN+3X1Zs\\u002fmboWMvxglD+e88wO1POXP7Q1gl3QvpY\\u002fFDxonEhklD9j\\u002f3OOUKOWP3cPEMU3iJo\\u002fP2A\\u002fGZEsmT+c0HczyhSYP\\u002fyVdmg0oJg\\u002fU+CifGPvmz99QT+zKgmmPzS0zWKmyZc\\u002fy0q7+tBPkT+szGfRxMWYP1hm6KGVmZw\\u002f2pDnNOJQlj8bKTyYOCiZP2cVciCYPpU\\u002fmnXeTuW0mj8d19TWK3egP47Hwc6nQJQ\\u002fU8qdGSylmD9yzKFNPamgP49eWqlmhZc\\u002fP6o\\u002ffEbElz\\u002ffj3+6whyfP5F1IeBFuKE\\u002fUqFStkEynj\\u002fNm+7jJyeiP\\u002f6hHIZuBpg\\u002fG9k11jaalz\\u002fFB3BJdtybPwohvZs0OZw\\u002fGBNVO1D7mj\\u002fZ9qB35nyVP9XF\\u002f0kqsZ4\\u002flB9WPYdrnD+cveNZ+JaYP+Wvl4TfF5s\\u002fFnzhcQD3mD9n6rkqpHmZPxPcrY17wJU\\u002fYYkuHU1Joz\\u002f35w7PVYybP0AXmW1LN5o\\u002f9c3xcQq9mz8G+2xbTH2aP6Oy9UlNwJQ\\u002f+dGhGtDOmT94UwvGtkGWP4ZqnyiCH5s\\u002fNSDQ9lNMnT8RWXJjnxqZP4\\u002fi1UmEAps\\u002fI4+0DvRBmj9gqBb82K6aP5Jj540GeZo\\u002fCEY3JFp8lT+p4AvAvRyZP84yraMhiJY\\u002fbTc0TAVylD8OCS8t9tCeP1evCA7iVpo\\u002fY+qBzv0LnT9oDO5cwmGbP+n\\u002fCYjedaA\\u002fhLFwwTy8mj+WiPhHQa6bP7cibXKwG5Q\\u002fK32elJsRnD\\u002f444HFriCZP27mfeGr954\\u002fovW1oiZEoz+6CVQ0+cScP9\\u002fFUl+ni6g\\u002fU+0ZomtFpz8YGvT3PCyyPwHt2sRQmbg\\u002fomsYGO+2wT+cbRSAQHnKP\\u002fXhmlIt3NQ\\u002fvkiy\\u002fuCb4T+42FHZ9CfpPzIhkYEI3\\u002fI\\u002feBk6s64x\\u002fD\\u002fNs7W4bkUDQBL8xaPlxgtAUpA9Zp6NE0CS0OcaGqcZQAFGH19RHyFAx0654HUAJEDTbVtvOc4iQAVLfRKy0RtAKj+TDScnE0BrOftLwNAJQBkdf7\\u002fUmwBANhKPfkn++D\\u002f2QCx4nrvwPyl1YZswPug\\u002f0OCwz55F3T+T9\\u002fKrQsDVP9Y219Xqccs\\u002fFBtaKWlmwT+IXUpvaCu4P+SnpGXj\\u002f6w\\u002fEtGwMj4Vqz8cVIkLvOmiP6FBg3WrbZ8\\u002fasrmwpoSoD9Flnz7Zj2aP6Osu768YpQ\\u002frg6tD\\u002fiOmz\\u002frxdzEj1ugPzoEE2GEyZo\\u002fQtGEbVu4mj9M706OIBuXP+Sf+xI\\u002fUpo\\u002fYeAgu6I4mD8RyMRZgDWbP905dLE2oJs\\u002fVPW0ueYDmj9h9DsijQWZP11sT2ZIYZc\\u002f8alD6J2mmz+oOpHY6aWVP124oD4KY5g\\u002fEMD\\u002fWk0okj9l8H5DiaySPxe0iQ8c5ZM\\u002f98PBtCfEmD+Hq9gNTsyPP9TyLj1UHJs\\u002fSfFY52HKlD\\u002f0t3MuM+CbP0W22YlAWZs\\u002fKE9YwPPAoT9N4FUj9FyZP65RJQv5aZM\\u002fdltRX4m+kz\\u002fBmZ03OuOUP+aEYhkxc5A\\u002f6uPQHSMYkj8axzVh8NKaP\\u002fLt2BIQeJU\\u002fwmMbL7E5nj+NSQMJaD2RP+H2bCCZU54\\u002fRppMp0VPnT\\u002fImQcbtPqYP2LVuyxUGJU\\u002fEc\\u002fq0xoOnz9Ko\\u002f1iU+6dP7EF\\u002f44QDaA\\u002fwb4Pqcwumz\\u002fQ6Vavmf6aPwUb5YXa7Js\\u002fDyEP9djEjz8GdMi5E7igPxnc0jiOn5E\\u002fHbxFSSJamD82nbNKP\\u002fGWP5lN9+fZAZE\\u002fxs7fa0Qjmz8If414QgGcP1HkpNsx0Jg\\u002fSOD3K\\u002fQbmT\\u002fhcr8dEc6gP4bB5ZwdRY8\\u002fT\\u002fgbSPSpmz9K3uiN0wyPP+ET8MccvKI\\u002fHP0+oeNKmz8sAt8QFQCfP\\u002fpRPIcnKpA\\u002f\\u002fEjFQwEtmj9ZDLUeA42WP1GmvN68jpk\\u002fmsdDXpYjmz8QiqkX0sCRP6ULN1K53ps\\u002fpo5QwD8jkj8FVds5QhWUPw\\u002fSvGimpaE\\u002ftUwySEhTlT8Mn74\\u002fX4KdP3\\u002f9oh1EeZs\\u002f6I0lYGDZmT+\\u002fmAlaFJqaPzR+7DzbMpk\\u002fNxMpmSXEkT+HDsukoo2WP1LYQ7U\\u002fNpU\\u002fPObpwFUrlT\\u002fQ0rRlr7CYP1h5KLTCSJs\\u002fQYBBoCi4lD+MG+um9o6aPz4AIwP0aZ8\\u002fhGD+\\u002fuBroD9lGzoze7ybP2JRSM4yXZo\\u002f6icIrBY5nz8LJ3HuZwmcP9hyNRNH2qQ\\u002fcQlm\\u002fSWepT9Qq1LcnFSgP7Im4UNMZaQ\\u002fKyDQWpwzpD9sVhATNriwP8ZOe883Vbc\\u002fMjyCEIFdtT8+LUc2A0e8P8B1baramMo\\u002fv9rEODZGzz9Hs3sSUTTTP79+8P75T90\\u002fstjad3yB5j8YDELf5x3rP+WOeiI4ZfM\\u002ffb3bVWIM+D\\u002fp\\u002fKMoQPz9P7Vf3Enb1gNAnuINUCpuCUCmNqVEg14MQKaLh442KhFA\\u002fCnbtSCFE0DtRe+TXGsWQPe2GGb3xhpADR\\u002f8e3JlHUDmWfo5o+oeQOLIljc2ACFA6sIf5tD1IUB7NcZlXu8hQOxDWNiDhSFA6dSTSOwrIEDFBnzjJKkcQJ4OdGFbIhlAuxyhoLO8FkDgkwyVhE4SQIN9\\u002fEm57xBAixZIRkAdCkCqiKLAu\\u002f0FQMlh0thUOQNAM3AldLvk+z+SyryH47b2P4UkM7h3MfI\\u002fcWZXg9A\\u002f5z9lXlYEvYHjP2cBkQCPHds\\u002fvpceOiwV0j\\u002f8m3aeqdDNP72C96ouMMY\\u002fOOhPoiN5wT8rWzsKLzaxPyvPwUS\\u002fYbE\\u002fH3rW60jjsD\\u002fy3FwEm2SfP\\u002f7LPhIPgKU\\u002fZrAB0V67lD\\u002fUnB\\u002fvNEafP662vBHs26A\\u002f3r8nrty3nz\\u002frEOpUbaCfP9085HTTRpM\\u002fRDGP7TOwmj+0F2LRYeKdP3Jt2JGdmZI\\u002fIKDrsn+SlD\\u002fslKFT0higP4Relo0gaJE\\u002fANGcXDwCnT8mhj\\u002fQBlOMP+TybVMvxpk\\u002ff3gS2xtGoT+x2bsLUqqdP8WFBm5yTpg\\u002fOLgkAxnnmT8N+lXXEO+QP4FEng3Fm5o\\u002fwYE2DmY5mj\\u002fTCystYziRPzwF3D+B7ZA\\u002f3XMwoZgIlD9rJ7tAPkKYP16YkJkQwZs\\u002fMvs0inI3oj9wsu1ncqWNP69JTjfazZM\\u002fg7typwxHkT+k80QvyJqYP9Lb7atukpk\\u002ffhB1wsA9kD\\u002fEjK\\u002fQfuKQP3svp9ypMqA\\u002fqTnxzri6oz825P2yVhecP6+kwszVoZY\\u002f0XoZ50OzmT9ThnOT1PuVP0pwimgf2KM\\u002fgvxdQFvRnD+GBk2yLu2AP+4Z\\u002f7YNdIs\\u002fKFhlR0obmj9WcPVtyxuSP9O8otaV5qA\\u002f0IeZMMaHmD8amoPxkySTP14hXSRP4Js\\u002fKGUuJCZuoj9Cm6aZQUmYP8LD4mUwAqA\\u002ffFOcKjuAnT\\u002fusn6B\\u002fAOaP7BdYRxwF5k\\u002fBRca1RvGoT+UWmoP5y6XP9oH7Wrx7Jw\\u002fpFR3BLYRkz9d9uyiuSiWPwvhnKsf0pQ\\u002fRewCbhxHnj\\u002fuhD43Fa6TP8p45z+abqA\\u002fWibLE9wEkz8YcOujiiOdP4R45RFpN5k\\u002fgk2BavMpnz8JzsLgUZOkP46hyOZC8JM\\u002frhECMJcLoD8myF6G84mVPykeZExOn6A\\u002f4yAXQKPclj9FzPOlE\\u002fegP4LbeP1e8p8\\u002fC0g6l6qlmD9kog+MQfKWP8u\\u002fEoOPYpc\\u002fwzrB9D95lT8laLzFsKmfP1hwwCy2eZk\\u002fqdU9xTtznj\\u002fP0e7CvkSXP+mOWEi075I\\u002fqPNW7DwlmD8GU55w\\u002f4mWP3B98JeW9aA\\u002fjrnAqtTBkj8R1PNsq+OLPxzErEhEJJk\\u002fCX8iwR7wnT9Ks0JilZGUP6bd2wCJF5o\\u002fiOarC0zXlT+\\u002fYZXy2iaKP4L6eQ3ZQZo\\u002fx12f7oFHoz9uG4ZJq6CUP0mPATspmpQ\\u002fL0+HUQy8lz80\\u002fYfC4TmjP3cLxddCN6U\\u002fyItiPcqwlj+NZ3CaMEaWP3k4i0b3XaM\\u002fjtk8JU\\u002fylj+SaAmHgSyiP1lXesjCOpA\\u002fsgXlat6ymz+gs\\u002fpB08adP6wpKYO4M6M\\u002fjyRr6mSOjT+Kyrlx7iOeP+2YqapflJo\\u002ffR7fGi7qmD+qyZHUtxqjP2Qw+AM+8ZY\\u002fBsL6o5rOkT+mYHdOinCXP9wMcgWiHpM\\u002fGwzi4um4lz9lRLwy+RGUPw4mL4\\u002fRU5c\\u002f757F5gh6kj+b2RmCloSYP16rMDJl\\u002fIM\\u002fNw4jjm4LrD9uSitegeSEP0Q6R\\u002fICvqI\\u002fUzGxWYOLkT9bPKMETwKcPysIDmGVx6A\\u002fOAuz7ud\\u002fnD9qVI6o2UqePwZIirFKYps\\u002fiR55GEhSkT8T6n96+fOWP3PkP4Jqy5U\\u002ft2wr6mOVnj\\u002fxpbZI1BukPx1Ljvyhspc\\u002flB19XyIMlD\\u002fHn1aYNXGXP1\\u002fwBgGY9Jc\\u002f\\u002foohlDGUkj\\u002fvbvfeHbejPzA8ZxEgtpI\\u002flReBwkNioz\\u002fDAhW7MDCgP+8QBTLIHpE\\u002ftAVSnO8SnD8exPVhUv+aP63dc2F4LZ8\\u002fVcD7YI6knT\\u002fZ9OKu9cicP6uO4fwA358\\u002flfwIs40+nj\\u002f+0ZxP\\u002fNeiP3ZKqI592pM\\u002fNcxrCLZGkT9SI9EcnPGHP6u5iYlggY8\\u002fmV9o50bbkj\\u002fFpum5eimYP3MlDhGqNZM\\u002fbUZ8c\\u002fCaoT+4O+8asFacPyBUllt\\u002fbpg\\u002fyD0xrBnWpj+QIZxMFt+aP8Gkpobg8aE\\u002fEgwKq3E\\u002fkz80j+OBwmacP9HN0Wt\\u002fhpE\\u002fCllxZxjqmz9L52\\u002fExV2YP+em8u0X2p8\\u002fDl+DM2rAoD+qTdW283uhP22cnCE6C58\\u002f1f2L5wHSlD8j1TpFosaUP6G2qzg\\u002fxaY\\u002f4juntfe8jD\\u002feknATTyiHP0GEUYJKDpY\\u002fwnikkLGIkT\\u002fJdiCyivuiP6\\u002fxixgfhZE\\u002f3VzTCJ5anj9gBzYU8VyiPw5pPV6L944\\u002fybsKIbzOkz8aI5+ic82fP18tqQJrnpc\\u002f\\u002fs00L\\u002fg4kj+LqxAzdE+VPwjpyWTO3ZI\\u002f2b0t01hvoD\\u002ffNObVNOWaPyGEeeetXpc\\u002fp7rb+a9IkT\\u002fHFN4t+p+SPwOu5gGj6JM\\u002fehSeduvToT+70M0xBySYP0J\\u002fNiAmiJk\\u002fXDPMNiZ7nD8aEelcTbaQPyMNi+Lv3ZY\\u002fGv7SALkGsz++Zazw5tmhPyVa3bCShp8\\u002fD\\u002fNYZb17mD+nxnFrI3mWP6+oOnzezJk\\u002fguWFN6X3nz8lkWpBY\\u002f2WPyOASLzeqow\\u002fUPu3N\\u002fb8nj\\u002fK62L7gaOXP9PeLoL5Tpo\\u002fIuPnfea+oT\\u002fpZuQvxj6jP7h7bu2brqI\\u002f2+JRlybcnT\\u002fUIvhhuR2fPzauESNRIpU\\u002ftKOBvtE9kz8oVoU5UAGPP6TQZ9HrtZY\\u002fzBmsiydSoT80pXAgSv+WP68uXE8Uf6Y\\u002fC4RhoW\\u002fYmj8\\u002fmyi5mZ+LP\\u002fTcRTTp1JA\\u002fv6Im1gIalz8tWUH6ze2gPz46gI5xTZg\\u002fCtHbqyW3nT+QppBDlnGDP97s0NR1y5I\\u002fjkOUA86onT8Es6SLzq2sPyOJZiQkxZo\\u002fTzNayvP9nD+IOwvOdsWcP5oJ7n5SSKE\\u002f7NEya8YIkT977MNfb66RP\\u002fJ1pebdXp8\\u002f\\u002fNperPPQmz\\u002fS5Nowej2SPzruirfhXo4\\u002fx14iskxHlz8DDJrOUSGTP0v2gzG\\u002fHaQ\\u002fxPlVviLmmT\\u002fu6WBbZ0+iP+cEk7paUp4\\u002f\"},\"type\":\"scatter\"}],                        {\"legend\":{\"x\":1.0,\"xanchor\":\"right\",\"y\":1.0,\"yanchor\":\"top\"},\"margin\":{\"autoexpand\":true,\"b\":45,\"r\":30,\"t\":40},\"title\":{\"text\":\"Measured data for experiment \\ud83d\\udd2c 'sim_si'\"},\"xaxis\":{\"mirror\":true,\"showline\":true,\"title\":{\"text\":\"TOF (\\u00b5s)\"},\"zeroline\":false,\"tickformat\":\",.6~g\",\"separatethousands\":true},\"yaxis\":{\"mirror\":true,\"showline\":true,\"title\":{\"text\":\"Intensity (arb. units)\"},\"zeroline\":false,\"tickformat\":\",.6~g\",\"separatethousands\":true},\"template\":{\"data\":{\"histogram2dcontour\":[{\"type\":\"histogram2dcontour\",\"colorbar\":{\"outlinewidth\":0,\"ticks\":\"\"},\"colorscale\":[[0.0,\"#0d0887\"],[0.1111111111111111,\"#46039f\"],[0.2222222222222222,\"#7201a8\"],[0.3333333333333333,\"#9c179e\"],[0.4444444444444444,\"#bd3786\"],[0.5555555555555556,\"#d8576b\"],[0.6666666666666666,\"#ed7953\"],[0.7777777777777778,\"#fb9f3a\"],[0.8888888888888888,\"#fdca26\"],[1.0,\"#f0f921\"]]}],\"choropleth\":[{\"type\":\"choropleth\",\"colorbar\":{\"outlinewidth\":0,\"ticks\":\"\"}}],\"histogram2d\":[{\"type\":\"histogram2d\",\"colorbar\":{\"outlinewidth\":0,\"ticks\":\"\"},\"colorscale\":[[0.0,\"#0d0887\"],[0.1111111111111111,\"#46039f\"],[0.2222222222222222,\"#7201a8\"],[0.3333333333333333,\"#9c179e\"],[0.4444444444444444,\"#bd3786\"],[0.5555555555555556,\"#d8576b\"],[0.6666666666666666,\"#ed7953\"],[0.7777777777777778,\"#fb9f3a\"],[0.8888888888888888,\"#fdca26\"],[1.0,\"#f0f921\"]]}],\"heatmap\":[{\"type\":\"heatmap\",\"colorbar\":{\"outlinewidth\":0,\"ticks\":\"\"},\"colorscale\":[[0.0,\"#0d0887\"],[0.1111111111111111,\"#46039f\"],[0.2222222222222222,\"#7201a8\"],[0.3333333333333333,\"#9c179e\"],[0.4444444444444444,\"#bd3786\"],[0.5555555555555556,\"#d8576b\"],[0.6666666666666666,\"#ed7953\"],[0.7777777777777778,\"#fb9f3a\"],[0.8888888888888888,\"#fdca26\"],[1.0,\"#f0f921\"]]}],\"contourcarpet\":[{\"type\":\"contourcarpet\",\"colorbar\":{\"outlinewidth\":0,\"ticks\":\"\"}}],\"contour\":[{\"type\":\"contour\",\"colorbar\":{\"outlinewidth\":0,\"ticks\":\"\"},\"colorscale\":[[0.0,\"#0d0887\"],[0.1111111111111111,\"#46039f\"],[0.2222222222222222,\"#7201a8\"],[0.3333333333333333,\"#9c179e\"],[0.4444444444444444,\"#bd3786\"],[0.5555555555555556,\"#d8576b\"],[0.6666666666666666,\"#ed7953\"],[0.7777777777777778,\"#fb9f3a\"],[0.8888888888888888,\"#fdca26\"],[1.0,\"#f0f921\"]]}],\"surface\":[{\"type\":\"surface\",\"colorbar\":{\"outlinewidth\":0,\"ticks\":\"\"},\"colorscale\":[[0.0,\"#0d0887\"],[0.1111111111111111,\"#46039f\"],[0.2222222222222222,\"#7201a8\"],[0.3333333333333333,\"#9c179e\"],[0.4444444444444444,\"#bd3786\"],[0.5555555555555556,\"#d8576b\"],[0.6666666666666666,\"#ed7953\"],[0.7777777777777778,\"#fb9f3a\"],[0.8888888888888888,\"#fdca26\"],[1.0,\"#f0f921\"]]}],\"mesh3d\":[{\"type\":\"mesh3d\",\"colorbar\":{\"outlinewidth\":0,\"ticks\":\"\"}}],\"scatter\":[{\"fillpattern\":{\"fillmode\":\"overlay\",\"size\":10,\"solidity\":0.2},\"type\":\"scatter\"}],\"parcoords\":[{\"type\":\"parcoords\",\"line\":{\"colorbar\":{\"outlinewidth\":0,\"ticks\":\"\"}}}],\"scatterpolargl\":[{\"type\":\"scatterpolargl\",\"marker\":{\"colorbar\":{\"outlinewidth\":0,\"ticks\":\"\"}}}],\"bar\":[{\"error_x\":{\"color\":\"#2a3f5f\"},\"error_y\":{\"color\":\"#2a3f5f\"},\"marker\":{\"line\":{\"color\":\"white\",\"width\":0.5},\"pattern\":{\"fillmode\":\"overlay\",\"size\":10,\"solidity\":0.2}},\"type\":\"bar\"}],\"scattergeo\":[{\"type\":\"scattergeo\",\"marker\":{\"colorbar\":{\"outlinewidth\":0,\"ticks\":\"\"}}}],\"scatterpolar\":[{\"type\":\"scatterpolar\",\"marker\":{\"colorbar\":{\"outlinewidth\":0,\"ticks\":\"\"}}}],\"histogram\":[{\"marker\":{\"pattern\":{\"fillmode\":\"overlay\",\"size\":10,\"solidity\":0.2}},\"type\":\"histogram\"}],\"scattergl\":[{\"type\":\"scattergl\",\"marker\":{\"colorbar\":{\"outlinewidth\":0,\"ticks\":\"\"}}}],\"scatter3d\":[{\"type\":\"scatter3d\",\"line\":{\"colorbar\":{\"outlinewidth\":0,\"ticks\":\"\"}},\"marker\":{\"colorbar\":{\"outlinewidth\":0,\"ticks\":\"\"}}}],\"scattermap\":[{\"type\":\"scattermap\",\"marker\":{\"colorbar\":{\"outlinewidth\":0,\"ticks\":\"\"}}}],\"scattermapbox\":[{\"type\":\"scattermapbox\",\"marker\":{\"colorbar\":{\"outlinewidth\":0,\"ticks\":\"\"}}}],\"scatterternary\":[{\"type\":\"scatterternary\",\"marker\":{\"colorbar\":{\"outlinewidth\":0,\"ticks\":\"\"}}}],\"scattercarpet\":[{\"type\":\"scattercarpet\",\"marker\":{\"colorbar\":{\"outlinewidth\":0,\"ticks\":\"\"}}}],\"carpet\":[{\"aaxis\":{\"endlinecolor\":\"#2a3f5f\",\"gridcolor\":\"#C8D4E3\",\"linecolor\":\"#C8D4E3\",\"minorgridcolor\":\"#C8D4E3\",\"startlinecolor\":\"#2a3f5f\"},\"baxis\":{\"endlinecolor\":\"#2a3f5f\",\"gridcolor\":\"#C8D4E3\",\"linecolor\":\"#C8D4E3\",\"minorgridcolor\":\"#C8D4E3\",\"startlinecolor\":\"#2a3f5f\"},\"type\":\"carpet\"}],\"table\":[{\"cells\":{\"fill\":{\"color\":\"#EBF0F8\"},\"line\":{\"color\":\"white\"}},\"header\":{\"fill\":{\"color\":\"#C8D4E3\"},\"line\":{\"color\":\"white\"}},\"type\":\"table\"}],\"barpolar\":[{\"marker\":{\"line\":{\"color\":\"white\",\"width\":0.5},\"pattern\":{\"fillmode\":\"overlay\",\"size\":10,\"solidity\":0.2}},\"type\":\"barpolar\"}],\"pie\":[{\"automargin\":true,\"type\":\"pie\"}]},\"layout\":{\"autotypenumbers\":\"strict\",\"colorway\":[\"#636efa\",\"#EF553B\",\"#00cc96\",\"#ab63fa\",\"#FFA15A\",\"#19d3f3\",\"#FF6692\",\"#B6E880\",\"#FF97FF\",\"#FECB52\"],\"font\":{\"color\":\"#2a3f5f\"},\"hovermode\":\"closest\",\"hoverlabel\":{\"align\":\"left\"},\"paper_bgcolor\":\"white\",\"plot_bgcolor\":\"white\",\"polar\":{\"bgcolor\":\"white\",\"angularaxis\":{\"gridcolor\":\"#EBF0F8\",\"linecolor\":\"#EBF0F8\",\"ticks\":\"\"},\"radialaxis\":{\"gridcolor\":\"#EBF0F8\",\"linecolor\":\"#EBF0F8\",\"ticks\":\"\"}},\"ternary\":{\"bgcolor\":\"white\",\"aaxis\":{\"gridcolor\":\"#DFE8F3\",\"linecolor\":\"#A2B1C6\",\"ticks\":\"\"},\"baxis\":{\"gridcolor\":\"#DFE8F3\",\"linecolor\":\"#A2B1C6\",\"ticks\":\"\"},\"caxis\":{\"gridcolor\":\"#DFE8F3\",\"linecolor\":\"#A2B1C6\",\"ticks\":\"\"}},\"coloraxis\":{\"colorbar\":{\"outlinewidth\":0,\"ticks\":\"\"}},\"colorscale\":{\"sequential\":[[0.0,\"#0d0887\"],[0.1111111111111111,\"#46039f\"],[0.2222222222222222,\"#7201a8\"],[0.3333333333333333,\"#9c179e\"],[0.4444444444444444,\"#bd3786\"],[0.5555555555555556,\"#d8576b\"],[0.6666666666666666,\"#ed7953\"],[0.7777777777777778,\"#fb9f3a\"],[0.8888888888888888,\"#fdca26\"],[1.0,\"#f0f921\"]],\"sequentialminus\":[[0.0,\"#0d0887\"],[0.1111111111111111,\"#46039f\"],[0.2222222222222222,\"#7201a8\"],[0.3333333333333333,\"#9c179e\"],[0.4444444444444444,\"#bd3786\"],[0.5555555555555556,\"#d8576b\"],[0.6666666666666666,\"#ed7953\"],[0.7777777777777778,\"#fb9f3a\"],[0.8888888888888888,\"#fdca26\"],[1.0,\"#f0f921\"]],\"diverging\":[[0,\"#8e0152\"],[0.1,\"#c51b7d\"],[0.2,\"#de77ae\"],[0.3,\"#f1b6da\"],[0.4,\"#fde0ef\"],[0.5,\"#f7f7f7\"],[0.6,\"#e6f5d0\"],[0.7,\"#b8e186\"],[0.8,\"#7fbc41\"],[0.9,\"#4d9221\"],[1,\"#276419\"]]},\"xaxis\":{\"gridcolor\":\"#EBF0F8\",\"linecolor\":\"#EBF0F8\",\"ticks\":\"\",\"title\":{\"standoff\":15},\"zerolinecolor\":\"#EBF0F8\",\"automargin\":true,\"zerolinewidth\":2},\"yaxis\":{\"gridcolor\":\"#EBF0F8\",\"linecolor\":\"#EBF0F8\",\"ticks\":\"\",\"title\":{\"standoff\":15},\"zerolinecolor\":\"#EBF0F8\",\"automargin\":true,\"zerolinewidth\":2},\"scene\":{\"xaxis\":{\"backgroundcolor\":\"white\",\"gridcolor\":\"#DFE8F3\",\"linecolor\":\"#EBF0F8\",\"showbackground\":true,\"ticks\":\"\",\"zerolinecolor\":\"#EBF0F8\",\"gridwidth\":2},\"yaxis\":{\"backgroundcolor\":\"white\",\"gridcolor\":\"#DFE8F3\",\"linecolor\":\"#EBF0F8\",\"showbackground\":true,\"ticks\":\"\",\"zerolinecolor\":\"#EBF0F8\",\"gridwidth\":2},\"zaxis\":{\"backgroundcolor\":\"white\",\"gridcolor\":\"#DFE8F3\",\"linecolor\":\"#EBF0F8\",\"showbackground\":true,\"ticks\":\"\",\"zerolinecolor\":\"#EBF0F8\",\"gridwidth\":2}},\"shapedefaults\":{\"line\":{\"color\":\"#2a3f5f\"}},\"annotationdefaults\":{\"arrowcolor\":\"#2a3f5f\",\"arrowhead\":0,\"arrowwidth\":1},\"geo\":{\"bgcolor\":\"white\",\"landcolor\":\"white\",\"subunitcolor\":\"#C8D4E3\",\"showland\":true,\"showlakes\":true,\"lakecolor\":\"white\"},\"title\":{\"x\":0.05},\"mapbox\":{\"style\":\"light\"}}}},                        {\"displaylogo\": false, \"modeBarButtonsToRemove\": [\"select2d\", \"lasso2d\", \"zoomIn2d\", \"zoomOut2d\", \"autoScale2d\"], \"responsive\": true}                    )                };            </script>        </div>"
      ],
      "text/plain": [
       "<IPython.core.display.HTML object>"
      ]
     },
     "metadata": {},
     "output_type": "display_data"
    }
   ],
   "source": [
    "project_1.plot_meas(expt_name='sim_si')"
   ]
  },
  {
   "cell_type": "markdown",
   "id": "21",
   "metadata": {},
   "source": [
    "If you zoom in on the highest TOF peak (around 120,000 μs), you will notice\n",
    "that it has a broad and unusual shape. This distortion, along with additional\n",
    "effects on the low TOF peaks, is most likely an artifact related to the\n",
    "simplifications made during the simulation and/or reduction process and is\n",
    "currently under investigation. However, this is outside the scope of this\n",
    "school. Therefore, we will simply exclude both the low and high TOF regions\n",
    "from the analysis by adding an excluded regions to the experiment.\n",
    "\n",
    "In real experiments, it is often necessary to exclude certain regions from\n",
    "the measured data. For example, the direct beam can significantly increase\n",
    "the background at very low angles, making those parts of the diffractogram\n",
    "unreliable. Additionally, sample environment components may introduce\n",
    "unwanted peaks. In such cases, excluding specific regions is often simpler\n",
    "and more effective than modeling them with an additional sample phase."
   ]
  },
  {
   "cell_type": "markdown",
   "id": "22",
   "metadata": {},
   "source": [
    "📖 See [documentation](https://docs.easydiffraction.org/lib/user-guide/analysis-workflow/experiment/#excluded-regions-category)\n",
    "for more details about excluding regions from the measured data."
   ]
  },
  {
   "cell_type": "code",
   "execution_count": 10,
   "id": "23",
   "metadata": {
    "execution": {
     "iopub.execute_input": "2025-08-31T19:33:09.625562Z",
     "iopub.status.busy": "2025-08-31T19:33:09.624411Z",
     "iopub.status.idle": "2025-08-31T19:33:09.635528Z",
     "shell.execute_reply": "2025-08-31T19:33:09.633853Z"
    }
   },
   "outputs": [],
   "source": [
    "project_1.experiments['sim_si'].excluded_regions.add(start=0, end=55000)\n",
    "project_1.experiments['sim_si'].excluded_regions.add(start=105500, end=200000)"
   ]
  },
  {
   "cell_type": "markdown",
   "id": "24",
   "metadata": {},
   "source": [
    "To visualize the effect of excluding the high TOF region, we can plot\n",
    "the measured data again. The excluded region will be omitted from the plot\n",
    "and is not used in the fitting process."
   ]
  },
  {
   "cell_type": "code",
   "execution_count": 11,
   "id": "25",
   "metadata": {
    "execution": {
     "iopub.execute_input": "2025-08-31T19:33:09.637059Z",
     "iopub.status.busy": "2025-08-31T19:33:09.636960Z",
     "iopub.status.idle": "2025-08-31T19:33:09.658192Z",
     "shell.execute_reply": "2025-08-31T19:33:09.657672Z"
    }
   },
   "outputs": [
    {
     "data": {
      "text/html": [
       "<div>                        <script type=\"text/javascript\">window.PlotlyConfig = {MathJaxConfig: 'local'};</script>\n",
       "        <script charset=\"utf-8\" src=\"https://cdn.plot.ly/plotly-3.1.0.min.js\" integrity=\"sha256-Ei4740bWZhaUTQuD6q9yQlgVCMPBz6CZWhevDYPv93A=\" crossorigin=\"anonymous\"></script>                <div id=\"ab8298bc-ad7c-4042-becd-57100dd5ccbb\" class=\"plotly-graph-div\" style=\"height:100%; width:100%;\"></div>            <script type=\"text/javascript\">                window.PLOTLYENV=window.PLOTLYENV || {};                                if (document.getElementById(\"ab8298bc-ad7c-4042-becd-57100dd5ccbb\")) {                    Plotly.newPlot(                        \"ab8298bc-ad7c-4042-becd-57100dd5ccbb\",                        [{\"line\":{\"color\":\"rgb(31, 119, 180)\"},\"mode\":\"lines+markers\",\"name\":\"Measured (Imeas)\",\"x\":{\"dtype\":\"f8\",\"bdata\":\"RPrt657p6kCWIY51+\\u002fjqQOlILv9XCOtAO3DOiLQX60B24JwRESfrQMgHPZttNutAGy\\u002fdJMpF60BtVn2uJlXrQL99HTiDZOtAEqW9wd9z60BkzF1LPIPrQLbz\\u002fdSYkutA8WPMXfWh60BEi2znUbHrQJayDHGuwOtA6Nms+grQ60A7AU2EZ9\\u002frQI0o7Q3E7utA30+NlyD+60AawFsgfQ3sQG3n+6nZHOxAvw6cMzYs7EARNjy9kjvsQGRd3EbvSuxAtoR80Eta7EAIrBxaqGnsQFvTvOMEeexAlkOLbGGI7EDoaiv2vZfsQDqSy38ap+xAjLlrCXe27EDf4AuT08XsQDEIrBww1exAgy9Mpozk7EC+nxov6fPsQBHHurhFA+1AY+5aQqIS7UC1FfvL\\u002fiHtQAg9m1VbMe1AWmQ737dA7UCsi9toFFDtQOf7qfFwX+1AOiNKe81u7UCMSuoEKn7tQN5xio6Gje1AMZkqGOOc7UCDwMqhP6ztQNXnaiucu+1AKA8LtfjK7UBjf9k9VdrtQLWmecex6e1AB84ZUQ757UBa9bnaagjuQKwcWmTHF+5A\\u002fkP67SMn7kBRa5p3gDbuQIzbaADdRe5A3gIJijlV7kAwKqkTlmTuQINRSZ3yc+5A1XjpJk+D7kAnoImwq5LuQHrHKToIou5AzO7Jw2Sx7kAHX5hMwcDuQFmGONYd0O5ArK3YX3rf7kD+1Hjp1u7uQFD8GHMz\\u002fu5AoyO5\\u002fI8N70D1SlmG7BzvQDC7Jw9JLO9AguLHmKU770DVCWgiAkvvQCcxCKxeWu9AeVioNbtp70DMf0i\\u002fF3nvQB6n6Eh0iO9AcM6I0tCX70CrPldbLafvQP5l9+SJtu9AUI2XbubF70CitDf4QtXvQPXb14Gf5O9ARwN4C\\u002fzz70BNFYxKrAHwQGpN845aCfBAE2HD0wgR8EC8dJMYtxjwQGaIY11lIPBAD5wzohMo8EC4rwPnwS\\u002fwQGHD0ytwN\\u002fBACtejcB4\\u002f8EAoDwu1zEbwQNEi2\\u002fl6TvBAejarPilW8EAjSnuD113wQMxdS8iFZfBAdnEbDTRt8EAfhetR4nTwQDy9UpaQfPBA5dAi2z6E8ECP5PIf7YvwQDj4wmSbk\\u002fBA4QuTqUmb8ECKH2Pu96LwQDMzMzOmqvBA3EYDeFSy8ED6fmq8ArrwQKOSOgGxwfBATKYKRl\\u002fJ8ED1udqKDdHwQJ\\u002fNqs+72PBASOF6FGrg8EDx9EpZGOjwQA4tsp3G7\\u002fBAuECC4nT38EBhVFInI\\u002f\\u002fwQApoImzRBvFAs3vysH8O8UBcj8L1LRbxQAWjkjrcHfFArrZif4ol8UDM7snDOC3xQHUCmgjnNPFAHhZqTZU88UDHKTqSQ0TxQHE9CtfxS\\u002fFAGlHaG6BT8UDDZKpgTlvxQOCcEaX8YvFAirDh6apq8UAzxLEuWXLxQNzXgXMHevFAhetRuLWB8UAu\\u002fyH9Y4nxQNcS8kESkfFAgSbChsCY8UCeXinLbqDxQEdy+Q8dqPFA8IXJVMuv8UCamZmZebfxQEOtad4nv\\u002fFA7MA5I9bG8UCV1AlohM7xQLMMcawy1vFAXCBB8eDd8UAFNBE2j+XxQK5H4Xo97fFAV1uxv+v08UAAb4EEmvzxQKqCUUlIBPJAU5YhjvYL8kBwzojSpBPyQBniWBdTG\\u002fJAw\\u002fUoXAEj8kBsCfmgryryQBUdyeVdMvJAvjCZKgw68kBnRGlvukHyQIV80LNoSfJALpCg+BZR8kDXo3A9xVjyQIC3QIJzYPJAKcsQxyFo8kDT3uAL0G\\u002fyQHzysFB+d\\u002fJAJQaBlSx\\u002f8kBCPujZ2obyQOxRuB6JjvJAlWWIYzeW8kA+eVio5Z3yQOeMKO2TpfJAkKD4MUKt8kA5tMh28LTyQFfsL7uevPJAAAAAAE3E8kCpE9BE+8vyQFInoImp0\\u002fJA+zpwzlfb8kClTkATBuPyQE5iEFi06vJAa5p3nGLy8kAUrkfhEPryQL7BFya\\u002fAfNAZ9Xnam0J80AQ6bevGxHzQLn8h\\u002fTJGPNAYhBYOXgg80ALJCh+JijzQClcj8LUL\\u002fNA0m9fB4M380B7gy9MMT\\u002fzQCSX\\u002f5DfRvNAzqrP1Y1O80B3vp8aPFbzQCDSb1\\u002fqXfNAPQrXo5hl80DnHafoRm3zQJAxdy31dPNAOUVHcqN880DiWBe3UYTzQIts5\\u002fv\\u002fi\\u002fNANIC3QK6T80Dek4eFXJvzQPvL7skKo\\u002fNApN++Drmq80BN845TZ7LzQPcGX5gVuvNAoBov3cPB80BJLv8hcsnzQPJBz2Yg0fNAEHo2q87Y80C5jQbwfODzQGKh1jQr6PNAC7Wmednv80C0yHa+h\\u002ffzQF3cRgM2\\u002f\\u002fNAB\\u002fAWSOQG9ECwA+eMkg70QM07TtFAFvRAdk8eFu8d9EAgY+5anSX0QMl2vp9LLfRAcoqO5Pk09EAbnl4pqDz0QMSxLm5WRPRA4umVsgRM9ECL\\u002fWX3slP0QDQRNjxhW\\u002fRA3SQGgQ9j9ECGONbFvWr0QDBMpgpscvRA2V92Txp69ECCc0aUyIH0QJ+rrdh2ifRASL99HSWR9EDy0k1i05j0QJvmHaeBoPRARPrt6y+o9EDtDb4w3q\\u002f0QJYhjnWMt\\u002fRAtFn1uTq\\u002f9EBdbcX+6Mb0QAaBlUOXzvRAr5RliEXW9EBYqDXN8930QAK8BRKi5fRAq8\\u002fVVlDt9EBU46Wb\\u002fvT0QHEbDeCs\\u002fPRAGy\\u002fdJFsE9UDEQq1pCQz1QG1Wfa63E\\u002fVAFmpN82Ub9UC\\u002ffR04FCP1QGiR7XzCKvVAhslUwXAy9UAv3SQGHzr1QNjw9ErNQfVAgQTFj3tJ9UArGJXUKVH1QNQrZRnYWPVAfT81XoZg9UAmUwWjNGj1QESLbOfib\\u002fVA7Z48LJF39UCWsgxxP3\\u002f1QD\\u002fG3LXthvVA6Nms+puO9UCR7Xw\\u002fSpb1QDsBTYT4nfVAWDm0yKal9UABTYQNVa31QKpgVFIDtfVAVHQkl7G89UD9h\\u002fTbX8T1QKabxCAOzPVAT6+UZbzT9UD4wmSqatv1QBb7y+4Y4\\u002fVAvw6cM8fq9UBoImx4dfL1QBE2PL0j+vVAukkMAtIB9kBkXdxGgAn2QA1xrIsuEfZAKqkT0NwY9kDTvOMUiyD2QH3Qs1k5KPZAJuSDnucv9kDP91PjlTf2QHgLJChEP\\u002fZAIR\\u002f0bPJG9kDKMsSxoE72QOhqK\\u002fZOVvZAkX77Ov1d9kA6kst\\u002fq2X2QOOlm8RZbfZAjLlrCQh19kA2zTtOtnz2QN\\u002fgC5NkhPZA\\u002fBhz1xKM9kClLEMcwZP2QE9AE2Fvm\\u002fZA+FPjpR2j9kChZ7Pqy6r2QEp7gy96svZA845TdCi69kCcoiO51sH2QLraiv2EyfZAY+5aQjPR9kAMAiuH4dj2QLUV+8uP4PZAXynLED7o9kAIPZtV7O\\u002f2QLFQa5qa9\\u002fZAzojS3kj\\u002f9kB4nKIj9wb3QCGwcmilDvdAysNCrVMW90Bz1xLyAR73QBzr4jawJfdAxf6ye14t90DjNhrADDX3QIxK6gS7PPdANV66SWlE90DecYqOF0z3QIiFWtPFU\\u002fdAMZkqGHRb90DarPpcImP3QIPAyqHQavdAofgx5n5y90BKDAIrLXr3QPMf0m\\u002fbgfdAnDOitImJ90BFR3L5N5H3QO5aQj7mmPdAmG4Sg5Sg90C1pnnHQqj3QF66SQzxr\\u002fdAB84ZUZ+390Cx4emVTb\\u002f3QFr1udr7xvdAAwmKH6rO90CsHFpkWNb3QFUwKqkG3vdAc2iR7bTl90AcfGEyY+33QMWPMXcR9fdAbqMBvL\\u002f890AXt9EAbgT4QMHKoUUcDPhAat5xisoT+ECHFtnOeBv4QDAqqRMnI\\u002fhA2T15WNUq+ECDUUmdgzL4QCxlGeIxOvhA1XjpJuBB+EB+jLlrjkn4QCegibA8UfhARdjw9OpY+EDu68A5mWD4QJf\\u002fkH5HaPhAQBNhw\\u002fVv+EDpJjEIpHf4QJM6AU1Sf\\u002fhAPE7RkQCH+EBZhjjWro74QAKaCBtdlvhArK3YXwue+EBVwaikuaX4QP7UeOlnrfhAp+hILha1+EBQ\\u002fBhzxLz4QPkP6bdyxPhAF0hQ\\u002fCDM+EDAWyBBz9P4QGlv8IV92\\u002fhAEoPAyivj+EC8lpAP2ur4QGWqYFSI8vhADr4wmTb6+EAr9pfd5AH5QNUJaCKTCflAfh04Z0ER+UAnMQis7xj5QNBE2PCdIPlAeVioNUwo+UAibHh6+i\\u002f5QMx\\u002fSL+oN\\u002flA6bevA1c\\u002f+UCSy39IBUf5QDvfT42zTvlA5fIf0mFW+UCOBvAWEF75QDcawFu+ZflA4C2QoGxt+UD+ZffkGnX5QKd5xynJfPlAUI2XbneE+UD5oGezJYz5QKK0N\\u002fjTk\\u002flAS8gHPYKb+UD129eBMKP5QJ7vp8beqvlAuycPC42y+UBkO99PO7r5QA==\"},\"y\":{\"dtype\":\"f8\",\"bdata\":\"HymN\\u002fpQCcz8EQ\\u002fP83FicP7rfG90AHYQ\\u002f3jY2baGerT+aIDulIMiCP1i1RZHnqLo\\u002fqMXqUFtzxD+34g+VBeTYP7wjYBdAl\\u002fQ\\u002fuKRu5Un3AEAa8KRMqtkEQNuewvcF7wBAQyphkRIe8z\\u002f+ynbo\\u002fZHiP3ZXv6AaiMI\\u002fnAYQpq30qD8RbRhzS0mIP3\\u002fdBZaHJnQ\\u002fdJxgkhpqhT+nA+eya5KQP00\\u002fUoXz4ok\\u002fuk+XZae2dD94zWh1S6KRP2SDYyTwq5Y\\u002fmL00dy4xVD8AkUE0V6GlP0QMvgqcmrI\\u002ftQQOnFQCxT9KgM8Vx2HZP7s\\u002fjH1O3+U\\u002fOM70Aps98z9QOSN0q\\u002fD3P9NugVSv6PQ\\u002fhHBdJh7L5T92AsqLnj7WP\\u002fR1CzTLv7k\\u002fiekefId6nj+lC4kZqVOdP5okXuIcZZ4\\u002fL+S\\u002fM3wVoT\\u002fnOB1VhB9wP9g391njmGM\\u002fmyqfHU7gpj+\\u002fku0DYo+MP++xjz\\u002fB2ZY\\u002faHCo1uVJmT9TwXZISFF7P0unJZYA3aI\\u002fden3sMWUiz9BSDByOQmaPxcqgZmIRZ4\\u002fmt69mBRlnT9kEevVbIucP65BT9\\u002fFUI0\\u002f7xliSWOpoT8fHNeNM1+HPxKw3DYFeoQ\\u002fiHPgbD9Emz8RVsD7tr6QPygJhlsDepA\\u002feBFJq9VSjD+7mmH+TH6gP7M91f7+Ips\\u002fGX8IKC\\u002fuoT+9h8T96KqSP3kZpmzRXqM\\u002fCCp+yF75qj\\u002f4LmhLDWO3P1jePFMjerY\\u002fCBrnlG76yj+1Wp5gkNLYPy8XgD0K4Oo\\u002flg00ROYF+j+c8kswLTsEQJuoeRRgVgVA6FTxlGcXAECK4C2OVr7wP1\\u002fV55Z2EOI\\u002fvZDHwSzGyj8sfZtdtIuzP8nIjojEo58\\u002fTVR\\u002fMLWRmT+JN\\u002fjaMzaXP1cRO26x0oA\\u002f\\u002fzrctIAGlz9znGZoVhuSPwPw7wANTZk\\u002f2cuq1S0vkj+my++kIFiIPzTRwcEOUZs\\u002fszveIACLlj96cI8sN92bP21\\u002fahS1V4g\\u002ffUniDxuIoT8thhfdv\\u002fOZP7Hph3QBM5s\\u002fSrpK48j7qz8gXBBpCfiuPxKB77hR\\u002fbA\\u002fGC71qY1Gvz+h5b+jCHLFP\\u002fJinRascNw\\u002fZSHRtmgg7j+LxijTf2L+PxSd8mXF\\u002fQ5AFXM5r8uoFUAvdaHSh34UQCBirUqvYApAOTPrqLv09z95UktUzq\\u002fmP1yXVAfcNdU\\u002f9ucrLtM+wz8fwyNyC3uxP657k9HB7qo\\u002f0NKpO9aZkz+ATl841nyVP5sd22B\\u002fo5w\\u002fliXS03RPoz\\u002fzoDH5tNyUP95dilaT+Ic\\u002fPLFylk4fkz\\u002fpu1xl2aSVP1JxbFUghZc\\u002fmMxiZX6uoD+YeUtzb6iMPwHXluydq5k\\u002fRoVeLFZmoT8xvxrM45uWPzXyMoJOfpk\\u002fHk3YLJ4CjD+Jfny6ipCXPwgB6xPMlJY\\u002fObrQbzv1oj8SXwzn1JmRP2et6jpZHpY\\u002f6LYFw8SImj9Ln2oq94OYPxx6WPb3iZw\\u002fIsDtsAAqnz\\u002fOy\\u002foApN+ZP2he+PsZpJ4\\u002fNUSXqvQslj\\u002fPgKJ05rOVP8cOf2r3bIk\\u002fhB5ui1YjkT9J4aqR\\u002fzyYP0W2ASP\\u002fy5g\\u002ffZI1QDJsmz9lanDarGulPxrUZqLgQJo\\u002fDP7AKsl1nz+OjDX57LebP4cacvU1PJM\\u002fOn26k2frjD9VtmGdKnWfP4hAN9CoKJU\\u002fZY\\u002fVi4Kqiz9uLAN0h6yUPy1b3sbKY5E\\u002f8H1ZFosAkz9wn+6R4biUP53zTL4TCpQ\\u002fvDnVzzddmz+a6IV05gSaP53pJUkK86c\\u002f6cLhGgu8oz+o8NliOveyP6Lvaadj9LI\\u002fqXqGEN2ZwD+JxktrUb7PPytenYHrNN4\\u002f0xsuPc2b8T99Q9ISX1gDQPFzm2QxBRBA2c9hP8oVE0CxgxxxZIUPQIwJ4KiIqQJAA2lTUmwe8j87ZYg4rRDgP0mU6CtTgM8\\u002fkU4rVwBUvz9lCSd8vAe4P6y8ZC\\u002fAK6k\\u002fAmik38pVoD+QOqJnPA2gP6HrKLOOL6A\\u002fdfKrQZtVmD8S5+V5VW+aP4\\u002fq6BUhWZ0\\u002ff+GC06tHkj8CYIJ6KFOSPwHQfY\\u002fvnJg\\u002fqMG1AT1\\u002flz\\u002fbjScHOOGbP8Iml1j\\u002fsJo\\u002fCF4BbnqNmj\\u002fyicWsjvacP1rqu1NpVZs\\u002ffQRbFEBykD9j2wPHm+eVP8jD7xoMbJY\\u002fA3yL2U8OnT\\u002fFrESpk8WLP7NRwVmhPJI\\u002faF1nhQk5nz+mRDr8IyahP74YZu133ps\\u002ft1xA4nzEmj\\u002f3Hj7gUkyePwJE2yQbvJc\\u002fznZ1CKWJmj\\u002fRxHKGXSeYP50YCGKDCZc\\u002fUDQXuDNcmz9yXSc2ZhCbP4SsuHHIM6U\\u002fY9xGQtNBmz+4DRFU9IGfP5zlatf3aKI\\u002fiYiYNGvdmD8yKEWMbYSjP9vNjxOicaY\\u002fzJaNz3FDsD99wTzOYRS4P8EslZRkosM\\u002fTdjliaCw0D8\\u002ff656N2vfP9GftcyrEvA\\u002fJMwT2eAC\\u002fj8bFVFj\\u002fL8FQK+f4ek4hwlAqMrfYkMlBkCkEwjO4kr7P3zgTLsbsOs\\u002fIMZGvYX82T+Zq\\u002fYC4JfOP7bs2v9\\u002ftL4\\u002fVh8G+IIRtD\\u002fL5xlo8besPyehAMWv0ac\\u002fAYzsHGEDpD9qSxddf5KdP0MoaBqHdJk\\u002fm74rYN5qnD8IIfp0F+2VP1avgjm6fZ8\\u002f8KPU92yVlT\\u002fLw+nT6TaePwoNxJdJ7Zw\\u002fqM25ER1Zmz+PhNt2ksuhP\\u002fDyYRojNpw\\u002fZclw+buEmz8ZIGuaPyifPwwq5sfBP5c\\u002f05z+UOwknz9zsiMw3X2YP5Cwho3E86E\\u002fwhxFyDwNnj93cAVrbFiSP+SyuFpfkZU\\u002ffFVcM2F6mT+NZ\\u002f9eY0ubP9Q5qdw2FaI\\u002fElk8xdu0mj9Yj9hFmqSXP5g1Lq2rZqA\\u002fw05FT+l6mz8XeEv3XEqWP4AZXv9oHpE\\u002fSWIMCWzbmT+LZkQFnpuKP0rIbaW2ypY\\u002f6+AlE9gAnT+1kpTvtCOWP5nVSPajT5Y\\u002frQbG7eKDmj+wcSJTGLuZP29VxDzEN5k\\u002fpus37dfVmz+ZuhYy\\u002fGCUP57zzA7U85c\\u002ftDWCXdC+lj8UPGicSGSUP2P\\u002fc45Qo5Y\\u002fdw8QxTeImj8\\u002fYD8ZkSyZP5zQdzPKFJg\\u002f\\u002fJV2aDSgmD9T4KJ8Y++bP31BP7MqCaY\\u002fNLTNYqbJlz\\u002fLSrv60E+RP6zMZ9HExZg\\u002fWGbooZWZnD\\u002fakOc04lCWPxspPJg4KJk\\u002fZxVyIJg+lT+add5O5bSaPx3X1NYrd6A\\u002fjsfBzqdAlD9Typ0ZLKWYP3LMoU09qaA\\u002fj15aqWaFlz8\\u002fqj98RsSXP9+Pf7rCHJ8\\u002fkXUh4EW4oT9SoVK2QTKeP82b7uMnJ6I\\u002f\\u002fqEchm4GmD8b2TXWNpqXP8UHcEl23Js\\u002fCiG9mzQ5nD8YE1U7UPuaP9n2oHfmfJU\\u002f1cX\\u002fSSqxnj+UH1Y9h2ucP5y941n4lpg\\u002f5a+XhN8Xmz8WfOFxAPeYP2fquSqkeZk\\u002fE9ytjXvAlT9hiS4dTUmjP\\u002ffnDs9VjJs\\u002fQBeZbUs3mj\\u002f1zfFxCr2bPwb7bFtMfZo\\u002fo7L1SU3AlD\\u002f50aEa0M6ZP3hTC8a2QZY\\u002fhmqfKIIfmz81IND2U0ydPxFZcmOfGpk\\u002fj+LVSYQCmz8jj7QO9EGaP2CoFvzYrpo\\u002fkmPnjQZ5mj8IRjckWnyVP6ngC8C9HJk\\u002fzjKtoyGIlj9tNzRMBXKUPw4JLy320J4\\u002fV68IDuJWmj9j6oHO\\u002fQudP2gM7lzCYZs\\u002f6f8JiN51oD+EsXDBPLyaP5aI+EdBrps\\u002ftyJtcrAblD8rfZ6UmxGcP\\u002fjjgcWuIJk\\u002fbuZ94av3nj+i9bWiJkSjP7oJVDT5xJw\\u002f38VSX6eLqD9T7Rmia0WnPxga9Pc8LLI\\u002fAe3axFCZuD+iaxgY77bBP5xtFIBAeco\\u002f9eGaUi3c1D++SLL+4JvhP7jYUdn0J+k\\u002fMiGRgQjf8j94GTqzrjH8P82ztbhuRQNAEvzFo+XGC0BSkD1mno0TQJLQ5xoapxlAAUYfX1EfIUDHTrngdQAkQNNtW285ziJABUt9ErLRG0AqP5MNJycTQGs5+0vA0AlAGR1\\u002fv9SbAEA2Eo9+Sf74P\\u002fZALHieu\\u002fA\\u002fKXVhmzA+6D\\u002fQ4LDPnkXdP5P38qtCwNU\\u002f1jbX1epxyz8UG1opaWbBP4hdSm9oK7g\\u002f5KekZeP\\u002frD8S0bAyPhWrPxxUiQu86aI\\u002foUGDdattnz9qyubCmhKgP0WWfPtmPZo\\u002fo6y7vrxilD+uDq0P+I6bP+vF3MSPW6A\\u002fOgQTYYTJmj9C0YRtW7iaP0zvTo4gG5c\\u002f5J\\u002f7Ej9Smj9h4CC7ojiYPxHIxFmANZs\\u002f3Tl0sTagmz9U9bS55gOaP2H0OyKNBZk\\u002fXWxPZkhhlz\\u002fxqUPonaabP6g6kdjppZU\\u002fXbigPgpjmD8QwP9aTSiSP2XwfkOJrJI\\u002fF7SJDxzlkz\\u002f3w8G0J8SYPw==\"},\"type\":\"scatter\"}],                        {\"legend\":{\"x\":1.0,\"xanchor\":\"right\",\"y\":1.0,\"yanchor\":\"top\"},\"margin\":{\"autoexpand\":true,\"b\":45,\"r\":30,\"t\":40},\"title\":{\"text\":\"Measured data for experiment \\ud83d\\udd2c 'sim_si'\"},\"xaxis\":{\"mirror\":true,\"showline\":true,\"title\":{\"text\":\"TOF (\\u00b5s)\"},\"zeroline\":false,\"tickformat\":\",.6~g\",\"separatethousands\":true},\"yaxis\":{\"mirror\":true,\"showline\":true,\"title\":{\"text\":\"Intensity (arb. units)\"},\"zeroline\":false,\"tickformat\":\",.6~g\",\"separatethousands\":true},\"template\":{\"data\":{\"histogram2dcontour\":[{\"type\":\"histogram2dcontour\",\"colorbar\":{\"outlinewidth\":0,\"ticks\":\"\"},\"colorscale\":[[0.0,\"#0d0887\"],[0.1111111111111111,\"#46039f\"],[0.2222222222222222,\"#7201a8\"],[0.3333333333333333,\"#9c179e\"],[0.4444444444444444,\"#bd3786\"],[0.5555555555555556,\"#d8576b\"],[0.6666666666666666,\"#ed7953\"],[0.7777777777777778,\"#fb9f3a\"],[0.8888888888888888,\"#fdca26\"],[1.0,\"#f0f921\"]]}],\"choropleth\":[{\"type\":\"choropleth\",\"colorbar\":{\"outlinewidth\":0,\"ticks\":\"\"}}],\"histogram2d\":[{\"type\":\"histogram2d\",\"colorbar\":{\"outlinewidth\":0,\"ticks\":\"\"},\"colorscale\":[[0.0,\"#0d0887\"],[0.1111111111111111,\"#46039f\"],[0.2222222222222222,\"#7201a8\"],[0.3333333333333333,\"#9c179e\"],[0.4444444444444444,\"#bd3786\"],[0.5555555555555556,\"#d8576b\"],[0.6666666666666666,\"#ed7953\"],[0.7777777777777778,\"#fb9f3a\"],[0.8888888888888888,\"#fdca26\"],[1.0,\"#f0f921\"]]}],\"heatmap\":[{\"type\":\"heatmap\",\"colorbar\":{\"outlinewidth\":0,\"ticks\":\"\"},\"colorscale\":[[0.0,\"#0d0887\"],[0.1111111111111111,\"#46039f\"],[0.2222222222222222,\"#7201a8\"],[0.3333333333333333,\"#9c179e\"],[0.4444444444444444,\"#bd3786\"],[0.5555555555555556,\"#d8576b\"],[0.6666666666666666,\"#ed7953\"],[0.7777777777777778,\"#fb9f3a\"],[0.8888888888888888,\"#fdca26\"],[1.0,\"#f0f921\"]]}],\"contourcarpet\":[{\"type\":\"contourcarpet\",\"colorbar\":{\"outlinewidth\":0,\"ticks\":\"\"}}],\"contour\":[{\"type\":\"contour\",\"colorbar\":{\"outlinewidth\":0,\"ticks\":\"\"},\"colorscale\":[[0.0,\"#0d0887\"],[0.1111111111111111,\"#46039f\"],[0.2222222222222222,\"#7201a8\"],[0.3333333333333333,\"#9c179e\"],[0.4444444444444444,\"#bd3786\"],[0.5555555555555556,\"#d8576b\"],[0.6666666666666666,\"#ed7953\"],[0.7777777777777778,\"#fb9f3a\"],[0.8888888888888888,\"#fdca26\"],[1.0,\"#f0f921\"]]}],\"surface\":[{\"type\":\"surface\",\"colorbar\":{\"outlinewidth\":0,\"ticks\":\"\"},\"colorscale\":[[0.0,\"#0d0887\"],[0.1111111111111111,\"#46039f\"],[0.2222222222222222,\"#7201a8\"],[0.3333333333333333,\"#9c179e\"],[0.4444444444444444,\"#bd3786\"],[0.5555555555555556,\"#d8576b\"],[0.6666666666666666,\"#ed7953\"],[0.7777777777777778,\"#fb9f3a\"],[0.8888888888888888,\"#fdca26\"],[1.0,\"#f0f921\"]]}],\"mesh3d\":[{\"type\":\"mesh3d\",\"colorbar\":{\"outlinewidth\":0,\"ticks\":\"\"}}],\"scatter\":[{\"fillpattern\":{\"fillmode\":\"overlay\",\"size\":10,\"solidity\":0.2},\"type\":\"scatter\"}],\"parcoords\":[{\"type\":\"parcoords\",\"line\":{\"colorbar\":{\"outlinewidth\":0,\"ticks\":\"\"}}}],\"scatterpolargl\":[{\"type\":\"scatterpolargl\",\"marker\":{\"colorbar\":{\"outlinewidth\":0,\"ticks\":\"\"}}}],\"bar\":[{\"error_x\":{\"color\":\"#2a3f5f\"},\"error_y\":{\"color\":\"#2a3f5f\"},\"marker\":{\"line\":{\"color\":\"white\",\"width\":0.5},\"pattern\":{\"fillmode\":\"overlay\",\"size\":10,\"solidity\":0.2}},\"type\":\"bar\"}],\"scattergeo\":[{\"type\":\"scattergeo\",\"marker\":{\"colorbar\":{\"outlinewidth\":0,\"ticks\":\"\"}}}],\"scatterpolar\":[{\"type\":\"scatterpolar\",\"marker\":{\"colorbar\":{\"outlinewidth\":0,\"ticks\":\"\"}}}],\"histogram\":[{\"marker\":{\"pattern\":{\"fillmode\":\"overlay\",\"size\":10,\"solidity\":0.2}},\"type\":\"histogram\"}],\"scattergl\":[{\"type\":\"scattergl\",\"marker\":{\"colorbar\":{\"outlinewidth\":0,\"ticks\":\"\"}}}],\"scatter3d\":[{\"type\":\"scatter3d\",\"line\":{\"colorbar\":{\"outlinewidth\":0,\"ticks\":\"\"}},\"marker\":{\"colorbar\":{\"outlinewidth\":0,\"ticks\":\"\"}}}],\"scattermap\":[{\"type\":\"scattermap\",\"marker\":{\"colorbar\":{\"outlinewidth\":0,\"ticks\":\"\"}}}],\"scattermapbox\":[{\"type\":\"scattermapbox\",\"marker\":{\"colorbar\":{\"outlinewidth\":0,\"ticks\":\"\"}}}],\"scatterternary\":[{\"type\":\"scatterternary\",\"marker\":{\"colorbar\":{\"outlinewidth\":0,\"ticks\":\"\"}}}],\"scattercarpet\":[{\"type\":\"scattercarpet\",\"marker\":{\"colorbar\":{\"outlinewidth\":0,\"ticks\":\"\"}}}],\"carpet\":[{\"aaxis\":{\"endlinecolor\":\"#2a3f5f\",\"gridcolor\":\"#C8D4E3\",\"linecolor\":\"#C8D4E3\",\"minorgridcolor\":\"#C8D4E3\",\"startlinecolor\":\"#2a3f5f\"},\"baxis\":{\"endlinecolor\":\"#2a3f5f\",\"gridcolor\":\"#C8D4E3\",\"linecolor\":\"#C8D4E3\",\"minorgridcolor\":\"#C8D4E3\",\"startlinecolor\":\"#2a3f5f\"},\"type\":\"carpet\"}],\"table\":[{\"cells\":{\"fill\":{\"color\":\"#EBF0F8\"},\"line\":{\"color\":\"white\"}},\"header\":{\"fill\":{\"color\":\"#C8D4E3\"},\"line\":{\"color\":\"white\"}},\"type\":\"table\"}],\"barpolar\":[{\"marker\":{\"line\":{\"color\":\"white\",\"width\":0.5},\"pattern\":{\"fillmode\":\"overlay\",\"size\":10,\"solidity\":0.2}},\"type\":\"barpolar\"}],\"pie\":[{\"automargin\":true,\"type\":\"pie\"}]},\"layout\":{\"autotypenumbers\":\"strict\",\"colorway\":[\"#636efa\",\"#EF553B\",\"#00cc96\",\"#ab63fa\",\"#FFA15A\",\"#19d3f3\",\"#FF6692\",\"#B6E880\",\"#FF97FF\",\"#FECB52\"],\"font\":{\"color\":\"#2a3f5f\"},\"hovermode\":\"closest\",\"hoverlabel\":{\"align\":\"left\"},\"paper_bgcolor\":\"white\",\"plot_bgcolor\":\"white\",\"polar\":{\"bgcolor\":\"white\",\"angularaxis\":{\"gridcolor\":\"#EBF0F8\",\"linecolor\":\"#EBF0F8\",\"ticks\":\"\"},\"radialaxis\":{\"gridcolor\":\"#EBF0F8\",\"linecolor\":\"#EBF0F8\",\"ticks\":\"\"}},\"ternary\":{\"bgcolor\":\"white\",\"aaxis\":{\"gridcolor\":\"#DFE8F3\",\"linecolor\":\"#A2B1C6\",\"ticks\":\"\"},\"baxis\":{\"gridcolor\":\"#DFE8F3\",\"linecolor\":\"#A2B1C6\",\"ticks\":\"\"},\"caxis\":{\"gridcolor\":\"#DFE8F3\",\"linecolor\":\"#A2B1C6\",\"ticks\":\"\"}},\"coloraxis\":{\"colorbar\":{\"outlinewidth\":0,\"ticks\":\"\"}},\"colorscale\":{\"sequential\":[[0.0,\"#0d0887\"],[0.1111111111111111,\"#46039f\"],[0.2222222222222222,\"#7201a8\"],[0.3333333333333333,\"#9c179e\"],[0.4444444444444444,\"#bd3786\"],[0.5555555555555556,\"#d8576b\"],[0.6666666666666666,\"#ed7953\"],[0.7777777777777778,\"#fb9f3a\"],[0.8888888888888888,\"#fdca26\"],[1.0,\"#f0f921\"]],\"sequentialminus\":[[0.0,\"#0d0887\"],[0.1111111111111111,\"#46039f\"],[0.2222222222222222,\"#7201a8\"],[0.3333333333333333,\"#9c179e\"],[0.4444444444444444,\"#bd3786\"],[0.5555555555555556,\"#d8576b\"],[0.6666666666666666,\"#ed7953\"],[0.7777777777777778,\"#fb9f3a\"],[0.8888888888888888,\"#fdca26\"],[1.0,\"#f0f921\"]],\"diverging\":[[0,\"#8e0152\"],[0.1,\"#c51b7d\"],[0.2,\"#de77ae\"],[0.3,\"#f1b6da\"],[0.4,\"#fde0ef\"],[0.5,\"#f7f7f7\"],[0.6,\"#e6f5d0\"],[0.7,\"#b8e186\"],[0.8,\"#7fbc41\"],[0.9,\"#4d9221\"],[1,\"#276419\"]]},\"xaxis\":{\"gridcolor\":\"#EBF0F8\",\"linecolor\":\"#EBF0F8\",\"ticks\":\"\",\"title\":{\"standoff\":15},\"zerolinecolor\":\"#EBF0F8\",\"automargin\":true,\"zerolinewidth\":2},\"yaxis\":{\"gridcolor\":\"#EBF0F8\",\"linecolor\":\"#EBF0F8\",\"ticks\":\"\",\"title\":{\"standoff\":15},\"zerolinecolor\":\"#EBF0F8\",\"automargin\":true,\"zerolinewidth\":2},\"scene\":{\"xaxis\":{\"backgroundcolor\":\"white\",\"gridcolor\":\"#DFE8F3\",\"linecolor\":\"#EBF0F8\",\"showbackground\":true,\"ticks\":\"\",\"zerolinecolor\":\"#EBF0F8\",\"gridwidth\":2},\"yaxis\":{\"backgroundcolor\":\"white\",\"gridcolor\":\"#DFE8F3\",\"linecolor\":\"#EBF0F8\",\"showbackground\":true,\"ticks\":\"\",\"zerolinecolor\":\"#EBF0F8\",\"gridwidth\":2},\"zaxis\":{\"backgroundcolor\":\"white\",\"gridcolor\":\"#DFE8F3\",\"linecolor\":\"#EBF0F8\",\"showbackground\":true,\"ticks\":\"\",\"zerolinecolor\":\"#EBF0F8\",\"gridwidth\":2}},\"shapedefaults\":{\"line\":{\"color\":\"#2a3f5f\"}},\"annotationdefaults\":{\"arrowcolor\":\"#2a3f5f\",\"arrowhead\":0,\"arrowwidth\":1},\"geo\":{\"bgcolor\":\"white\",\"landcolor\":\"white\",\"subunitcolor\":\"#C8D4E3\",\"showland\":true,\"showlakes\":true,\"lakecolor\":\"white\"},\"title\":{\"x\":0.05},\"mapbox\":{\"style\":\"light\"}}}},                        {\"displaylogo\": false, \"modeBarButtonsToRemove\": [\"select2d\", \"lasso2d\", \"zoomIn2d\", \"zoomOut2d\", \"autoScale2d\"], \"responsive\": true}                    )                };            </script>        </div>"
      ],
      "text/plain": [
       "<IPython.core.display.HTML object>"
      ]
     },
     "metadata": {},
     "output_type": "display_data"
    }
   ],
   "source": [
    "project_1.plot_meas(expt_name='sim_si')"
   ]
  },
  {
   "cell_type": "markdown",
   "id": "26",
   "metadata": {},
   "source": [
    "#### Set Instrument Parameters\n",
    "\n",
    "After the experiment is created and measured data is loaded, we need\n",
    "to set the instrument parameters.\n",
    "\n",
    "In this type of experiment, the instrument parameters define how the\n",
    "measured data is converted between d-spacing and time-of-flight (TOF)\n",
    "during the data reduction process as well as the angular position of the\n",
    "detector. So, we put values based on those from the reduction. These\n",
    "values can be found in the header of the corresponding .XYE file. Their\n",
    "names are `two_theta` and `DIFC`, which stand for the two-theta angle\n",
    "and the linear conversion factor from d-spacing to TOF, respectively.\n",
    "\n",
    "You can set them manually, but it is more convenient to use the\n",
    "`get_value_from_xye_header` function from the EasyDiffraction library."
   ]
  },
  {
   "cell_type": "markdown",
   "id": "27",
   "metadata": {},
   "source": [
    "📖 See [documentation](https://docs.easydiffraction.org/lib/user-guide/analysis-workflow/experiment/#instrument-category)\n",
    "for more details about the instrument parameters."
   ]
  },
  {
   "cell_type": "code",
   "execution_count": 12,
   "id": "28",
   "metadata": {
    "execution": {
     "iopub.execute_input": "2025-08-31T19:33:09.659863Z",
     "iopub.status.busy": "2025-08-31T19:33:09.659754Z",
     "iopub.status.idle": "2025-08-31T19:33:09.663274Z",
     "shell.execute_reply": "2025-08-31T19:33:09.662557Z"
    }
   },
   "outputs": [],
   "source": [
    "project_1.experiments['sim_si'].instrument.setup_twotheta_bank = ed.get_value_from_xye_header(si_xye_path, 'two_theta')\n",
    "project_1.experiments['sim_si'].instrument.calib_d_to_tof_linear = ed.get_value_from_xye_header(si_xye_path, 'DIFC')"
   ]
  },
  {
   "cell_type": "markdown",
   "id": "29",
   "metadata": {},
   "source": [
    "Before proceeding, let's take a quick look at the concept of parameters in\n",
    "EasyDiffraction, which is similar to the parameter concept in EasyScience.\n",
    "The current version of EasyDiffraction is transitioning to reuse the\n",
    "parameter system from EasyScience.\n",
    "\n",
    "That is, every parameter is an object, which has different attributes,\n",
    "such as `value`, `units`, etc. To display the parameter of interest, you can\n",
    "simply print the parameter object.\n",
    "\n",
    "For example, to display the linear conversion factor from d-spacing to TOF,\n",
    "which is the `calib_d_to_tof_linear` parameter, you can do the following:"
   ]
  },
  {
   "cell_type": "code",
   "execution_count": 13,
   "id": "30",
   "metadata": {
    "execution": {
     "iopub.execute_input": "2025-08-31T19:33:09.666925Z",
     "iopub.status.busy": "2025-08-31T19:33:09.665355Z",
     "iopub.status.idle": "2025-08-31T19:33:09.673100Z",
     "shell.execute_reply": "2025-08-31T19:33:09.671096Z"
    }
   },
   "outputs": [
    {
     "data": {
      "text/plain": [
       "Parameter: sim_si.instr.d_to_tof_linear = 61445.893309194034 µs/Å"
      ]
     },
     "execution_count": 13,
     "metadata": {},
     "output_type": "execute_result"
    }
   ],
   "source": [
    "project_1.experiments['sim_si'].instrument.calib_d_to_tof_linear"
   ]
  },
  {
   "cell_type": "markdown",
   "id": "31",
   "metadata": {},
   "source": [
    "The `value` attribute represents the current value of the parameter as a\n",
    "float. You can access it directly by using the `value` attribute of the\n",
    "parameter. This is useful when you want to use the parameter value in\n",
    "calculations or when you want to assign it to another parameter. For example,\n",
    "to get only the value of the same parameter as floating point number, but not\n",
    "the whole object, you can do the following:"
   ]
  },
  {
   "cell_type": "code",
   "execution_count": 14,
   "id": "32",
   "metadata": {
    "execution": {
     "iopub.execute_input": "2025-08-31T19:33:09.674920Z",
     "iopub.status.busy": "2025-08-31T19:33:09.674570Z",
     "iopub.status.idle": "2025-08-31T19:33:09.681206Z",
     "shell.execute_reply": "2025-08-31T19:33:09.680778Z"
    }
   },
   "outputs": [
    {
     "data": {
      "text/plain": [
       "61445.893309194034"
      ]
     },
     "execution_count": 14,
     "metadata": {},
     "output_type": "execute_result"
    }
   ],
   "source": [
    "project_1.experiments['sim_si'].instrument.calib_d_to_tof_linear.value"
   ]
  },
  {
   "cell_type": "markdown",
   "id": "33",
   "metadata": {},
   "source": [
    "Note that to set the value of the parameter, you can simply assign a new\n",
    "value to the parameter object without using the `value` attribute, as we did\n",
    "above."
   ]
  },
  {
   "cell_type": "markdown",
   "id": "34",
   "metadata": {},
   "source": [
    "📖 See [documentation](https://docs.easydiffraction.org/lib/user-guide/parameters/)\n",
    "for more details about parameters in EasyDiffraction and their attributes."
   ]
  },
  {
   "cell_type": "markdown",
   "id": "35",
   "metadata": {},
   "source": [
    "#### Set Peak Profile Parameters\n",
    "\n",
    "The next set of parameters is needed to define the peak profile used in the\n",
    "fitting process. The peak profile describes the shape of the diffraction\n",
    "peaks. They include parameters for the broadening and asymmetry of the peaks.\n",
    "\n",
    "There are several commonly used peak profile functions:\n",
    "- **Gaussian**: Describes peaks with a symmetric bell-shaped curve, often\n",
    "  used when instrumental broadening dominates.\n",
    "  [Click for more details.](https://mantidproject.github.io/docs-versioned/v6.1.0/fitting/fitfunctions/Gaussian.html)\n",
    "- **Lorentzian**: Produces narrower central peaks with longer tails,\n",
    "  frequently used to model size broadening effects.\n",
    "  [Click for more details.](https://mantidproject.github.io/docs-versioned/v6.1.0/fitting/fitfunctions/Lorentzian.html)\n",
    "- **Pseudo-Voigt**: A linear combination of Gaussian and Lorentzian\n",
    "  components, providing flexibility to represent real diffraction peaks.\n",
    "  [Click for more details.](https://mantidproject.github.io/docs-versioned/v6.1.0/fitting/fitfunctions/PseudoVoigt.html)\n",
    "- **Pseudo-Voigt convoluted with Ikeda-Carpenter**: Incorporates the\n",
    "  asymmetry introduced by the neutron pulse shape in time-of-flight\n",
    "  instruments. This is a common choice for TOF neutron powder diffraction\n",
    "  data.\n",
    "  [Click for more details.](https://docs.mantidproject.org/v6.1.0/fitting/fitfunctions/IkedaCarpenterPV.html)\n",
    "\n",
    "Here, we use a pseudo-Voigt peak profile function with Ikeda-Carpenter\n",
    "asymmetry.\n",
    "\n",
    "The parameter values are typically determined experimentally on the same\n",
    "instrument and under the same configuration as the data being analyzed,\n",
    "using measurements of a standard sample. In our case, the Si sample serves\n",
    "as this standard reference. We will refine the peak profile parameters here,\n",
    "and these refined values will be used as starting points for the more\n",
    "complex fit in the next part of the notebook. For this initial fit, we will\n",
    "provide reasonable physical guesses as starting values."
   ]
  },
  {
   "cell_type": "markdown",
   "id": "36",
   "metadata": {},
   "source": [
    "📖 See [documentation](https://docs.easydiffraction.org/lib/user-guide/analysis-workflow/experiment/#peak-category)\n",
    "for more details about the peak profile types."
   ]
  },
  {
   "cell_type": "code",
   "execution_count": 15,
   "id": "37",
   "metadata": {
    "execution": {
     "iopub.execute_input": "2025-08-31T19:33:09.682772Z",
     "iopub.status.busy": "2025-08-31T19:33:09.682678Z",
     "iopub.status.idle": "2025-08-31T19:33:09.685215Z",
     "shell.execute_reply": "2025-08-31T19:33:09.684880Z"
    }
   },
   "outputs": [
    {
     "name": "stdout",
     "output_type": "stream",
     "text": [
      "\n",
      "\u001b[94m\u001b[1mPeak profile type for experiment \u001b[0m'sim_si'\u001b[94m\u001b[1m changed to\u001b[0m\n",
      "pseudo-voigt * ikeda-carpenter\n"
     ]
    }
   ],
   "source": [
    "project_1.experiments['sim_si'].peak_profile_type = 'pseudo-voigt * ikeda-carpenter'\n",
    "project_1.experiments['sim_si'].peak.broad_gauss_sigma_0 = 69498\n",
    "project_1.experiments['sim_si'].peak.broad_gauss_sigma_1 = -55578\n",
    "project_1.experiments['sim_si'].peak.broad_gauss_sigma_2 = 14560\n",
    "project_1.experiments['sim_si'].peak.broad_mix_beta_0 = 0.0019\n",
    "project_1.experiments['sim_si'].peak.broad_mix_beta_1 = 0.0137\n",
    "project_1.experiments['sim_si'].peak.asym_alpha_0 = -0.0055\n",
    "project_1.experiments['sim_si'].peak.asym_alpha_1 = 0.0147"
   ]
  },
  {
   "cell_type": "markdown",
   "id": "38",
   "metadata": {},
   "source": [
    "#### Set Background\n",
    "\n",
    "The background of the diffraction pattern represents the portion of the\n",
    "pattern that is not related to the crystal structure of the sample. It's\n",
    "rather represents noise and other sources of scattering that can affect\n",
    "the measured intensities. This includes contributions from the instrument,\n",
    "the sample holder, the sample environment, and other sources of incoherent\n",
    "scattering.\n",
    "\n",
    "The background can be modeled in various ways. In this example, we will use\n",
    "a simple line segment background, which is a common approach for powder\n",
    "diffraction data. The background intensity at any point is defined by linear\n",
    "interpolation between neighboring points. The background points are selected\n",
    "to span the range of the diffraction pattern while avoiding the peaks.\n",
    "\n",
    "We will add several background points at specific TOF values (in μs) and\n",
    "corresponding intensity values. These points are chosen to represent the\n",
    "background level in the diffraction pattern free from any peaks.\n",
    "\n",
    "The background points are added using the `add` method of the `background`\n",
    "object. The `x` parameter represents the TOF value, and the `y` parameter\n",
    "represents the intensity value at that TOF.\n",
    "\n",
    "Let's set all the background points at a constant value of 0.01, which can be\n",
    "roughly estimated by the eye, and we will refine them later during the\n",
    "fitting process."
   ]
  },
  {
   "cell_type": "markdown",
   "id": "39",
   "metadata": {},
   "source": [
    "📖 See [documentation](https://docs.easydiffraction.org/lib/user-guide/analysis-workflow/experiment/#background-category)\n",
    "for more details about the background and its types."
   ]
  },
  {
   "cell_type": "code",
   "execution_count": 16,
   "id": "40",
   "metadata": {
    "execution": {
     "iopub.execute_input": "2025-08-31T19:33:09.687628Z",
     "iopub.status.busy": "2025-08-31T19:33:09.687117Z",
     "iopub.status.idle": "2025-08-31T19:33:09.695270Z",
     "shell.execute_reply": "2025-08-31T19:33:09.694484Z"
    }
   },
   "outputs": [
    {
     "name": "stdout",
     "output_type": "stream",
     "text": [
      "\n",
      "\u001b[94m\u001b[1mBackground type for experiment \u001b[0m'sim_si'\u001b[94m\u001b[1m changed to\u001b[0m\n",
      "line-segment\n"
     ]
    }
   ],
   "source": [
    "project_1.experiments['sim_si'].background_type = 'line-segment'\n",
    "project_1.experiments['sim_si'].background.add(x=50000, y=0.01)\n",
    "project_1.experiments['sim_si'].background.add(x=60000, y=0.01)\n",
    "project_1.experiments['sim_si'].background.add(x=70000, y=0.01)\n",
    "project_1.experiments['sim_si'].background.add(x=80000, y=0.01)\n",
    "project_1.experiments['sim_si'].background.add(x=90000, y=0.01)\n",
    "project_1.experiments['sim_si'].background.add(x=100000, y=0.01)\n",
    "project_1.experiments['sim_si'].background.add(x=110000, y=0.01)"
   ]
  },
  {
   "cell_type": "markdown",
   "id": "41",
   "metadata": {},
   "source": [
    "### 🧩 Create a Sample Model – Si\n",
    "\n",
    "After setting up the experiment, we need to create a sample model that\n",
    "describes the crystal structure of the sample being analyzed.\n",
    "\n",
    "In this case, we will create a sample model for silicon (Si) with a\n",
    "cubic crystal structure. The sample model contains information about the\n",
    "space group, lattice parameters, atomic positions of the atoms in the\n",
    "unit cell, atom types, occupancies and atomic displacement parameters.\n",
    "The sample model is essential for the fitting process, as it\n",
    "is used to calculate the expected diffraction pattern.\n",
    "\n",
    "EasyDiffraction refines the crystal structure of the sample,\n",
    "but does not solve it. Therefore, we need a good starting point with\n",
    "reasonable structural parameters.\n",
    "\n",
    "Here, we define the Si structure as a\n",
    "cubic structure. As this is a cubic structure, we only need to define\n",
    "the single lattice parameter, which\n",
    "is the length of the unit cell edge. The Si crystal structure has a\n",
    "single atom in the unit cell, which is located at the origin (0, 0, 0) of\n",
    "the unit cell. The symmetry of this site is defined by the Wyckoff letter\n",
    "'a'. The atomic displacement parameter defines the thermal vibrations of the\n",
    "atoms in the unit cell and is presented as an isotropic parameter (B_iso).\n",
    "\n",
    "Sometimes, the initial crystal structure parameters can be obtained\n",
    "from one of the crystallographic databases, like for example\n",
    "the Crystallography Open Database (COD). In this case, we use the COD\n",
    "entry for silicon as a reference for the initial crystal structure model:\n",
    "https://www.crystallography.net/cod/4507226.html\n",
    "\n",
    "Usually, the crystal structure parameters are provided in a CIF file\n",
    "format, which is a standard format for crystallographic data. An example\n",
    "of a CIF file for silicon is shown below. The CIF file contains the\n",
    "space group information, unit cell parameters, and atomic positions."
   ]
  },
  {
   "cell_type": "markdown",
   "id": "42",
   "metadata": {},
   "source": [
    "📖 See [documentation](https://docs.easydiffraction.org/lib/user-guide/data-format/)\n",
    "for more details about the CIF format and its use in\n",
    "EasyDiffraction."
   ]
  },
  {
   "cell_type": "markdown",
   "id": "43",
   "metadata": {},
   "source": [
    "```\n",
    "data_si\n",
    "\n",
    "_space_group.name_H-M_alt  \"F d -3 m\"\n",
    "_space_group.IT_coordinate_system_code  2\n",
    "\n",
    "_cell.length_a      5.43\n",
    "_cell.length_b      5.43\n",
    "_cell.length_c      5.43\n",
    "_cell.angle_alpha  90.0\n",
    "_cell.angle_beta   90.0\n",
    "_cell.angle_gamma  90.0\n",
    "\n",
    "loop_\n",
    "_atom_site.label\n",
    "_atom_site.type_symbol\n",
    "_atom_site.fract_x\n",
    "_atom_site.fract_y\n",
    "_atom_site.fract_z\n",
    "_atom_site.wyckoff_letter\n",
    "_atom_site.occupancy\n",
    "_atom_site.ADP_type\n",
    "_atom_site.B_iso_or_equiv\n",
    "Si Si   0 0 0   a  1.0   Biso 0.89\n",
    "```"
   ]
  },
  {
   "cell_type": "markdown",
   "id": "44",
   "metadata": {},
   "source": [
    "\n",
    "As with adding the experiment in the\n",
    "previous step, we will create a default sample model\n",
    "and then modify its parameters to match the Si structure."
   ]
  },
  {
   "cell_type": "markdown",
   "id": "45",
   "metadata": {},
   "source": [
    "📖 See [documentation](https://docs.easydiffraction.org/lib/user-guide/analysis-workflow/model/)\n",
    "for more details about sample models and their purpose in the data\n",
    "analysis workflow."
   ]
  },
  {
   "cell_type": "markdown",
   "id": "46",
   "metadata": {},
   "source": [
    "#### Add Sample Model"
   ]
  },
  {
   "cell_type": "code",
   "execution_count": 17,
   "id": "47",
   "metadata": {
    "execution": {
     "iopub.execute_input": "2025-08-31T19:33:09.696699Z",
     "iopub.status.busy": "2025-08-31T19:33:09.696607Z",
     "iopub.status.idle": "2025-08-31T19:33:09.705497Z",
     "shell.execute_reply": "2025-08-31T19:33:09.702338Z"
    }
   },
   "outputs": [],
   "source": [
    "project_1.sample_models.add(name='si')"
   ]
  },
  {
   "cell_type": "markdown",
   "id": "48",
   "metadata": {},
   "source": [
    "#### Set Space Group"
   ]
  },
  {
   "cell_type": "markdown",
   "id": "49",
   "metadata": {},
   "source": [
    "📖 See [documentation](https://docs.easydiffraction.org/lib/user-guide/analysis-workflow/model/#space-group-category)\n",
    "for more details about the space group."
   ]
  },
  {
   "cell_type": "code",
   "execution_count": 18,
   "id": "50",
   "metadata": {
    "execution": {
     "iopub.execute_input": "2025-08-31T19:33:09.713721Z",
     "iopub.status.busy": "2025-08-31T19:33:09.710127Z",
     "iopub.status.idle": "2025-08-31T19:33:09.732323Z",
     "shell.execute_reply": "2025-08-31T19:33:09.731715Z"
    }
   },
   "outputs": [],
   "source": [
    "project_1.sample_models['si'].space_group.name_h_m = 'F d -3 m'\n",
    "project_1.sample_models['si'].space_group.it_coordinate_system_code = '2'"
   ]
  },
  {
   "cell_type": "markdown",
   "id": "51",
   "metadata": {},
   "source": [
    "#### Set Lattice Parameters"
   ]
  },
  {
   "cell_type": "markdown",
   "id": "52",
   "metadata": {},
   "source": [
    "📖 See [documentation](https://docs.easydiffraction.org/lib/user-guide/analysis-workflow/model/#cell-category)\n",
    "for more details about the unit cell parameters."
   ]
  },
  {
   "cell_type": "code",
   "execution_count": 19,
   "id": "53",
   "metadata": {
    "execution": {
     "iopub.execute_input": "2025-08-31T19:33:09.756086Z",
     "iopub.status.busy": "2025-08-31T19:33:09.755635Z",
     "iopub.status.idle": "2025-08-31T19:33:09.779312Z",
     "shell.execute_reply": "2025-08-31T19:33:09.762903Z"
    }
   },
   "outputs": [],
   "source": [
    "project_1.sample_models['si'].cell.length_a = 5.43"
   ]
  },
  {
   "cell_type": "markdown",
   "id": "54",
   "metadata": {},
   "source": [
    "#### Set Atom Sites"
   ]
  },
  {
   "cell_type": "markdown",
   "id": "55",
   "metadata": {},
   "source": [
    "📖 See [documentation](https://docs.easydiffraction.org/lib/user-guide/analysis-workflow/model/#atom-sites-category)\n",
    "for more details about the atom sites category."
   ]
  },
  {
   "cell_type": "code",
   "execution_count": 20,
   "id": "56",
   "metadata": {
    "execution": {
     "iopub.execute_input": "2025-08-31T19:33:09.793054Z",
     "iopub.status.busy": "2025-08-31T19:33:09.792737Z",
     "iopub.status.idle": "2025-08-31T19:33:09.814956Z",
     "shell.execute_reply": "2025-08-31T19:33:09.809523Z"
    }
   },
   "outputs": [],
   "source": [
    "project_1.sample_models['si'].atom_sites.add(\n",
    "    label='Si',\n",
    "    type_symbol='Si',\n",
    "    fract_x=0,\n",
    "    fract_y=0,\n",
    "    fract_z=0,\n",
    "    wyckoff_letter='a',\n",
    "    b_iso=0.89,\n",
    ")"
   ]
  },
  {
   "cell_type": "markdown",
   "id": "57",
   "metadata": {},
   "source": [
    "### 🔗 Assign Sample Model to Experiment\n",
    "\n",
    "Now we need to assign, or link, this sample model to the experiment created\n",
    "above. This linked crystallographic phase will be used to calculate the\n",
    "expected diffraction pattern based on the crystal structure defined in the\n",
    "sample model."
   ]
  },
  {
   "cell_type": "markdown",
   "id": "58",
   "metadata": {},
   "source": [
    "📖 See [documentation](https://docs.easydiffraction.org/lib/user-guide/analysis-workflow/experiment/#linked-phases-category)\n",
    "for more details about linking a sample model to an experiment."
   ]
  },
  {
   "cell_type": "code",
   "execution_count": 21,
   "id": "59",
   "metadata": {
    "execution": {
     "iopub.execute_input": "2025-08-31T19:33:09.823326Z",
     "iopub.status.busy": "2025-08-31T19:33:09.823070Z",
     "iopub.status.idle": "2025-08-31T19:33:09.831490Z",
     "shell.execute_reply": "2025-08-31T19:33:09.831108Z"
    }
   },
   "outputs": [],
   "source": [
    "project_1.experiments['sim_si'].linked_phases.add(id='si', scale=1.0)"
   ]
  },
  {
   "cell_type": "markdown",
   "id": "60",
   "metadata": {},
   "source": [
    "### 🚀 Analyze and Fit the Data\n",
    "\n",
    "After setting up the experiment and sample model, we can now analyze the\n",
    "measured diffraction pattern and perform the fit. Building on the analogies\n",
    "from the EasyScience library and the previous notebooks, we can say that all\n",
    "the parameters we introduced earlier — those defining the sample model (crystal\n",
    "structure parameters) and the experiment (instrument, background, and peak\n",
    "profile parameters) — together form the complete set of parameters that can be\n",
    "refined during the fitting process.\n",
    "\n",
    "Unlike in the previous analysis notebooks, we will not create a **math_model**\n",
    "object here. The mathematical model used to calculate the expected diffraction\n",
    "pattern is already defined in the library and will be applied automatically\n",
    "during the fitting process."
   ]
  },
  {
   "cell_type": "markdown",
   "id": "61",
   "metadata": {},
   "source": [
    "**Reminder:**\n",
    "\n",
    "The fitting process involves comparing the measured diffraction pattern with\n",
    "the calculated diffraction pattern based on the sample model and instrument\n",
    "parameters. The goal is to adjust the parameters of the sample model and\n",
    "the experiment to minimize the difference between the measured and calculated\n",
    "diffraction patterns. This is done by refining the parameters of the sample\n",
    "model and the instrument settings to achieve a better fit."
   ]
  },
  {
   "cell_type": "markdown",
   "id": "62",
   "metadata": {},
   "source": [
    "📖 See [documentation](https://docs.easydiffraction.org/lib/user-guide/analysis-workflow/analysis/#minimization-optimization)\n",
    "for more details about the fitting process in EasyDiffraction."
   ]
  },
  {
   "cell_type": "markdown",
   "id": "63",
   "metadata": {},
   "source": [
    "#### Set Fit Parameters\n",
    "\n",
    "To perform the fit, we need to specify the refinement parameters. These\n",
    "are the parameters that will be adjusted during the fitting process to\n",
    "minimize the difference between the measured and calculated diffraction\n",
    "patterns. This is done by setting the `free` attribute of the\n",
    "corresponding parameters to `True`.\n",
    "\n",
    "Note: setting `param.free = True` is equivalent to using\n",
    "`param.fixed = False` in the EasyScience library.\n",
    "\n",
    "We will refine the scale factor of the Si phase, the intensities of the\n",
    "background points as well as the peak profile parameters. The structure\n",
    "parameters of the Si phase will not be refined, as this sample is\n",
    "considered a reference sample with known parameters."
   ]
  },
  {
   "cell_type": "code",
   "execution_count": 22,
   "id": "64",
   "metadata": {
    "execution": {
     "iopub.execute_input": "2025-08-31T19:33:09.835776Z",
     "iopub.status.busy": "2025-08-31T19:33:09.835259Z",
     "iopub.status.idle": "2025-08-31T19:33:09.842045Z",
     "shell.execute_reply": "2025-08-31T19:33:09.837935Z"
    }
   },
   "outputs": [],
   "source": [
    "project_1.experiments['sim_si'].linked_phases['si'].scale.free = True\n",
    "\n",
    "for line_segment in project_1.experiments['sim_si'].background:\n",
    "    line_segment.y.free = True\n",
    "\n",
    "project_1.experiments['sim_si'].peak.broad_gauss_sigma_0.free = True\n",
    "project_1.experiments['sim_si'].peak.broad_gauss_sigma_1.free = True\n",
    "project_1.experiments['sim_si'].peak.broad_gauss_sigma_2.free = True\n",
    "project_1.experiments['sim_si'].peak.broad_mix_beta_0.free = True\n",
    "project_1.experiments['sim_si'].peak.broad_mix_beta_1.free = True\n",
    "project_1.experiments['sim_si'].peak.asym_alpha_0.free = True\n",
    "project_1.experiments['sim_si'].peak.asym_alpha_1.free = True"
   ]
  },
  {
   "cell_type": "markdown",
   "id": "65",
   "metadata": {},
   "source": [
    "#### Show Free Parameters\n",
    "\n",
    "We can check which parameters are free to be refined by calling the\n",
    "`show_free_params` method of the `analysis` object of the project."
   ]
  },
  {
   "cell_type": "markdown",
   "id": "66",
   "metadata": {},
   "source": [
    "📖 See [documentation](https://easyscience.github.io/diffraction-lib/user-guide/first-steps/#available-parameters)\n",
    "for more details on how to\n",
    "- show all parameters of the project,\n",
    "- show all fittable parameters, and\n",
    "- show only free parameters of the project."
   ]
  },
  {
   "cell_type": "code",
   "execution_count": 23,
   "id": "67",
   "metadata": {
    "execution": {
     "iopub.execute_input": "2025-08-31T19:33:09.843849Z",
     "iopub.status.busy": "2025-08-31T19:33:09.843691Z",
     "iopub.status.idle": "2025-08-31T19:33:09.857485Z",
     "shell.execute_reply": "2025-08-31T19:33:09.855549Z"
    }
   },
   "outputs": [
    {
     "name": "stdout",
     "output_type": "stream",
     "text": [
      "\n",
      "\u001b[94m\u001b[1mFree parameters for both sample models (🧩 data blocks) and experiments (🔬 data blocks)\u001b[0m\n"
     ]
    },
    {
     "data": {
      "text/html": [
       "<table class=\"dataframe\" style=\"border-collapse: collapse; border: 1px solid #515155; margin-left: 0.5em;margin-top: 0.5em;margin-bottom: 1em;\">\n",
       "  <thead>\n",
       "    <tr style=\"text-align: right;\">\n",
       "      <th></th>\n",
       "      <th style=\"text-align: left;\">datablock</th>\n",
       "      <th style=\"text-align: left;\">category</th>\n",
       "      <th style=\"text-align: left;\">entry</th>\n",
       "      <th style=\"text-align: left;\">parameter</th>\n",
       "      <th style=\"text-align: right;\">value</th>\n",
       "      <th style=\"text-align: right;\">uncertainty</th>\n",
       "      <th style=\"text-align: right;\">min</th>\n",
       "      <th style=\"text-align: right;\">max</th>\n",
       "      <th style=\"text-align: left;\">units</th>\n",
       "    </tr>\n",
       "  </thead>\n",
       "  <tbody>\n",
       "    <tr>\n",
       "      <th>1</th>\n",
       "      <td><div style=\"text-align: left;\">sim_si</div></td>\n",
       "      <td><div style=\"text-align: left;\">background</div></td>\n",
       "      <td><div style=\"text-align: left;\">50000</div></td>\n",
       "      <td><div style=\"text-align: left;\">y</div></td>\n",
       "      <td><div style=\"text-align: right;\">0.0100</div></td>\n",
       "      <td><div style=\"text-align: right;\"></div></td>\n",
       "      <td><div style=\"text-align: right;\"></div></td>\n",
       "      <td><div style=\"text-align: right;\"></div></td>\n",
       "      <td><div style=\"text-align: left;\"></div></td>\n",
       "    </tr>\n",
       "    <tr>\n",
       "      <th>2</th>\n",
       "      <td><div style=\"text-align: left;\">sim_si</div></td>\n",
       "      <td><div style=\"text-align: left;\">background</div></td>\n",
       "      <td><div style=\"text-align: left;\">60000</div></td>\n",
       "      <td><div style=\"text-align: left;\">y</div></td>\n",
       "      <td><div style=\"text-align: right;\">0.0100</div></td>\n",
       "      <td><div style=\"text-align: right;\"></div></td>\n",
       "      <td><div style=\"text-align: right;\"></div></td>\n",
       "      <td><div style=\"text-align: right;\"></div></td>\n",
       "      <td><div style=\"text-align: left;\"></div></td>\n",
       "    </tr>\n",
       "    <tr>\n",
       "      <th>3</th>\n",
       "      <td><div style=\"text-align: left;\">sim_si</div></td>\n",
       "      <td><div style=\"text-align: left;\">background</div></td>\n",
       "      <td><div style=\"text-align: left;\">70000</div></td>\n",
       "      <td><div style=\"text-align: left;\">y</div></td>\n",
       "      <td><div style=\"text-align: right;\">0.0100</div></td>\n",
       "      <td><div style=\"text-align: right;\"></div></td>\n",
       "      <td><div style=\"text-align: right;\"></div></td>\n",
       "      <td><div style=\"text-align: right;\"></div></td>\n",
       "      <td><div style=\"text-align: left;\"></div></td>\n",
       "    </tr>\n",
       "    <tr>\n",
       "      <th>4</th>\n",
       "      <td><div style=\"text-align: left;\">sim_si</div></td>\n",
       "      <td><div style=\"text-align: left;\">background</div></td>\n",
       "      <td><div style=\"text-align: left;\">80000</div></td>\n",
       "      <td><div style=\"text-align: left;\">y</div></td>\n",
       "      <td><div style=\"text-align: right;\">0.0100</div></td>\n",
       "      <td><div style=\"text-align: right;\"></div></td>\n",
       "      <td><div style=\"text-align: right;\"></div></td>\n",
       "      <td><div style=\"text-align: right;\"></div></td>\n",
       "      <td><div style=\"text-align: left;\"></div></td>\n",
       "    </tr>\n",
       "    <tr>\n",
       "      <th>5</th>\n",
       "      <td><div style=\"text-align: left;\">sim_si</div></td>\n",
       "      <td><div style=\"text-align: left;\">background</div></td>\n",
       "      <td><div style=\"text-align: left;\">90000</div></td>\n",
       "      <td><div style=\"text-align: left;\">y</div></td>\n",
       "      <td><div style=\"text-align: right;\">0.0100</div></td>\n",
       "      <td><div style=\"text-align: right;\"></div></td>\n",
       "      <td><div style=\"text-align: right;\"></div></td>\n",
       "      <td><div style=\"text-align: right;\"></div></td>\n",
       "      <td><div style=\"text-align: left;\"></div></td>\n",
       "    </tr>\n",
       "    <tr>\n",
       "      <th>6</th>\n",
       "      <td><div style=\"text-align: left;\">sim_si</div></td>\n",
       "      <td><div style=\"text-align: left;\">background</div></td>\n",
       "      <td><div style=\"text-align: left;\">100000</div></td>\n",
       "      <td><div style=\"text-align: left;\">y</div></td>\n",
       "      <td><div style=\"text-align: right;\">0.0100</div></td>\n",
       "      <td><div style=\"text-align: right;\"></div></td>\n",
       "      <td><div style=\"text-align: right;\"></div></td>\n",
       "      <td><div style=\"text-align: right;\"></div></td>\n",
       "      <td><div style=\"text-align: left;\"></div></td>\n",
       "    </tr>\n",
       "    <tr>\n",
       "      <th>7</th>\n",
       "      <td><div style=\"text-align: left;\">sim_si</div></td>\n",
       "      <td><div style=\"text-align: left;\">background</div></td>\n",
       "      <td><div style=\"text-align: left;\">110000</div></td>\n",
       "      <td><div style=\"text-align: left;\">y</div></td>\n",
       "      <td><div style=\"text-align: right;\">0.0100</div></td>\n",
       "      <td><div style=\"text-align: right;\"></div></td>\n",
       "      <td><div style=\"text-align: right;\"></div></td>\n",
       "      <td><div style=\"text-align: right;\"></div></td>\n",
       "      <td><div style=\"text-align: left;\"></div></td>\n",
       "    </tr>\n",
       "    <tr>\n",
       "      <th>8</th>\n",
       "      <td><div style=\"text-align: left;\">sim_si</div></td>\n",
       "      <td><div style=\"text-align: left;\">linked_phases</div></td>\n",
       "      <td><div style=\"text-align: left;\">si</div></td>\n",
       "      <td><div style=\"text-align: left;\">scale</div></td>\n",
       "      <td><div style=\"text-align: right;\">1.0000</div></td>\n",
       "      <td><div style=\"text-align: right;\"></div></td>\n",
       "      <td><div style=\"text-align: right;\"></div></td>\n",
       "      <td><div style=\"text-align: right;\"></div></td>\n",
       "      <td><div style=\"text-align: left;\"></div></td>\n",
       "    </tr>\n",
       "    <tr>\n",
       "      <th>9</th>\n",
       "      <td><div style=\"text-align: left;\">sim_si</div></td>\n",
       "      <td><div style=\"text-align: left;\">peak</div></td>\n",
       "      <td><div style=\"text-align: left;\"></div></td>\n",
       "      <td><div style=\"text-align: left;\">asym_alpha_0</div></td>\n",
       "      <td><div style=\"text-align: right;\">-0.0055</div></td>\n",
       "      <td><div style=\"text-align: right;\"></div></td>\n",
       "      <td><div style=\"text-align: right;\"></div></td>\n",
       "      <td><div style=\"text-align: right;\"></div></td>\n",
       "      <td><div style=\"text-align: left;\"></div></td>\n",
       "    </tr>\n",
       "    <tr>\n",
       "      <th>10</th>\n",
       "      <td><div style=\"text-align: left;\">sim_si</div></td>\n",
       "      <td><div style=\"text-align: left;\">peak</div></td>\n",
       "      <td><div style=\"text-align: left;\"></div></td>\n",
       "      <td><div style=\"text-align: left;\">asym_alpha_1</div></td>\n",
       "      <td><div style=\"text-align: right;\">0.0147</div></td>\n",
       "      <td><div style=\"text-align: right;\"></div></td>\n",
       "      <td><div style=\"text-align: right;\"></div></td>\n",
       "      <td><div style=\"text-align: right;\"></div></td>\n",
       "      <td><div style=\"text-align: left;\"></div></td>\n",
       "    </tr>\n",
       "    <tr>\n",
       "      <th>11</th>\n",
       "      <td><div style=\"text-align: left;\">sim_si</div></td>\n",
       "      <td><div style=\"text-align: left;\">peak</div></td>\n",
       "      <td><div style=\"text-align: left;\"></div></td>\n",
       "      <td><div style=\"text-align: left;\">gauss_sigma_0</div></td>\n",
       "      <td><div style=\"text-align: right;\">69498.0000</div></td>\n",
       "      <td><div style=\"text-align: right;\"></div></td>\n",
       "      <td><div style=\"text-align: right;\"></div></td>\n",
       "      <td><div style=\"text-align: right;\"></div></td>\n",
       "      <td><div style=\"text-align: left;\">µs²</div></td>\n",
       "    </tr>\n",
       "    <tr>\n",
       "      <th>12</th>\n",
       "      <td><div style=\"text-align: left;\">sim_si</div></td>\n",
       "      <td><div style=\"text-align: left;\">peak</div></td>\n",
       "      <td><div style=\"text-align: left;\"></div></td>\n",
       "      <td><div style=\"text-align: left;\">gauss_sigma_1</div></td>\n",
       "      <td><div style=\"text-align: right;\">-55578.0000</div></td>\n",
       "      <td><div style=\"text-align: right;\"></div></td>\n",
       "      <td><div style=\"text-align: right;\"></div></td>\n",
       "      <td><div style=\"text-align: right;\"></div></td>\n",
       "      <td><div style=\"text-align: left;\">µs/Å</div></td>\n",
       "    </tr>\n",
       "    <tr>\n",
       "      <th>13</th>\n",
       "      <td><div style=\"text-align: left;\">sim_si</div></td>\n",
       "      <td><div style=\"text-align: left;\">peak</div></td>\n",
       "      <td><div style=\"text-align: left;\"></div></td>\n",
       "      <td><div style=\"text-align: left;\">gauss_sigma_2</div></td>\n",
       "      <td><div style=\"text-align: right;\">14560.0000</div></td>\n",
       "      <td><div style=\"text-align: right;\"></div></td>\n",
       "      <td><div style=\"text-align: right;\"></div></td>\n",
       "      <td><div style=\"text-align: right;\"></div></td>\n",
       "      <td><div style=\"text-align: left;\">µs²/Å²</div></td>\n",
       "    </tr>\n",
       "    <tr>\n",
       "      <th>14</th>\n",
       "      <td><div style=\"text-align: left;\">sim_si</div></td>\n",
       "      <td><div style=\"text-align: left;\">peak</div></td>\n",
       "      <td><div style=\"text-align: left;\"></div></td>\n",
       "      <td><div style=\"text-align: left;\">mix_beta_0</div></td>\n",
       "      <td><div style=\"text-align: right;\">0.0019</div></td>\n",
       "      <td><div style=\"text-align: right;\"></div></td>\n",
       "      <td><div style=\"text-align: right;\"></div></td>\n",
       "      <td><div style=\"text-align: right;\"></div></td>\n",
       "      <td><div style=\"text-align: left;\">deg</div></td>\n",
       "    </tr>\n",
       "    <tr>\n",
       "      <th>15</th>\n",
       "      <td><div style=\"text-align: left;\">sim_si</div></td>\n",
       "      <td><div style=\"text-align: left;\">peak</div></td>\n",
       "      <td><div style=\"text-align: left;\"></div></td>\n",
       "      <td><div style=\"text-align: left;\">mix_beta_1</div></td>\n",
       "      <td><div style=\"text-align: right;\">0.0137</div></td>\n",
       "      <td><div style=\"text-align: right;\"></div></td>\n",
       "      <td><div style=\"text-align: right;\"></div></td>\n",
       "      <td><div style=\"text-align: right;\"></div></td>\n",
       "      <td><div style=\"text-align: left;\">deg</div></td>\n",
       "    </tr>\n",
       "  </tbody>\n",
       "</table>"
      ],
      "text/plain": [
       "<IPython.core.display.HTML object>"
      ]
     },
     "metadata": {},
     "output_type": "display_data"
    }
   ],
   "source": [
    "project_1.analysis.show_free_params()"
   ]
  },
  {
   "cell_type": "markdown",
   "id": "68",
   "metadata": {},
   "source": [
    "#### Visualize Diffraction Patterns\n",
    "\n",
    "Before performing the fit, we can visually compare the measured\n",
    "diffraction pattern with the calculated diffraction pattern based on the\n",
    "initial parameters of the sample model and the instrument.\n",
    "This provides an indication of how well the initial parameters\n",
    "match the measured data. The `plot_meas_vs_calc` method of the project\n",
    "allows this comparison."
   ]
  },
  {
   "cell_type": "code",
   "execution_count": 24,
   "id": "69",
   "metadata": {
    "execution": {
     "iopub.execute_input": "2025-08-31T19:33:09.860074Z",
     "iopub.status.busy": "2025-08-31T19:33:09.859171Z",
     "iopub.status.idle": "2025-08-31T19:33:10.070883Z",
     "shell.execute_reply": "2025-08-31T19:33:10.069726Z"
    }
   },
   "outputs": [
    {
     "data": {
      "text/html": [
       "<div>                        <script type=\"text/javascript\">window.PlotlyConfig = {MathJaxConfig: 'local'};</script>\n",
       "        <script charset=\"utf-8\" src=\"https://cdn.plot.ly/plotly-3.1.0.min.js\" integrity=\"sha256-Ei4740bWZhaUTQuD6q9yQlgVCMPBz6CZWhevDYPv93A=\" crossorigin=\"anonymous\"></script>                <div id=\"e8e355c3-65db-4e37-967e-6b955015680d\" class=\"plotly-graph-div\" style=\"height:100%; width:100%;\"></div>            <script type=\"text/javascript\">                window.PLOTLYENV=window.PLOTLYENV || {};                                if (document.getElementById(\"e8e355c3-65db-4e37-967e-6b955015680d\")) {                    Plotly.newPlot(                        \"e8e355c3-65db-4e37-967e-6b955015680d\",                        [{\"line\":{\"color\":\"rgb(31, 119, 180)\"},\"mode\":\"lines+markers\",\"name\":\"Measured (Imeas)\",\"x\":{\"dtype\":\"f8\",\"bdata\":\"RPrt657p6kCWIY51+\\u002fjqQOlILv9XCOtAO3DOiLQX60B24JwRESfrQMgHPZttNutAGy\\u002fdJMpF60BtVn2uJlXrQL99HTiDZOtAEqW9wd9z60BkzF1LPIPrQLbz\\u002fdSYkutA8WPMXfWh60BEi2znUbHrQJayDHGuwOtA6Nms+grQ60A7AU2EZ9\\u002frQI0o7Q3E7utA30+NlyD+60AawFsgfQ3sQG3n+6nZHOxAvw6cMzYs7EARNjy9kjvsQGRd3EbvSuxAtoR80Eta7EAIrBxaqGnsQFvTvOMEeexAlkOLbGGI7EDoaiv2vZfsQDqSy38ap+xAjLlrCXe27EDf4AuT08XsQDEIrBww1exAgy9Mpozk7EC+nxov6fPsQBHHurhFA+1AY+5aQqIS7UC1FfvL\\u002fiHtQAg9m1VbMe1AWmQ737dA7UCsi9toFFDtQOf7qfFwX+1AOiNKe81u7UCMSuoEKn7tQN5xio6Gje1AMZkqGOOc7UCDwMqhP6ztQNXnaiucu+1AKA8LtfjK7UBjf9k9VdrtQLWmecex6e1AB84ZUQ757UBa9bnaagjuQKwcWmTHF+5A\\u002fkP67SMn7kBRa5p3gDbuQIzbaADdRe5A3gIJijlV7kAwKqkTlmTuQINRSZ3yc+5A1XjpJk+D7kAnoImwq5LuQHrHKToIou5AzO7Jw2Sx7kAHX5hMwcDuQFmGONYd0O5ArK3YX3rf7kD+1Hjp1u7uQFD8GHMz\\u002fu5AoyO5\\u002fI8N70D1SlmG7BzvQDC7Jw9JLO9AguLHmKU770DVCWgiAkvvQCcxCKxeWu9AeVioNbtp70DMf0i\\u002fF3nvQB6n6Eh0iO9AcM6I0tCX70CrPldbLafvQP5l9+SJtu9AUI2XbubF70CitDf4QtXvQPXb14Gf5O9ARwN4C\\u002fzz70BNFYxKrAHwQGpN845aCfBAE2HD0wgR8EC8dJMYtxjwQGaIY11lIPBAD5wzohMo8EC4rwPnwS\\u002fwQGHD0ytwN\\u002fBACtejcB4\\u002f8EAoDwu1zEbwQNEi2\\u002fl6TvBAejarPilW8EAjSnuD113wQMxdS8iFZfBAdnEbDTRt8EAfhetR4nTwQDy9UpaQfPBA5dAi2z6E8ECP5PIf7YvwQDj4wmSbk\\u002fBA4QuTqUmb8ECKH2Pu96LwQDMzMzOmqvBA3EYDeFSy8ED6fmq8ArrwQKOSOgGxwfBATKYKRl\\u002fJ8ED1udqKDdHwQJ\\u002fNqs+72PBASOF6FGrg8EDx9EpZGOjwQA4tsp3G7\\u002fBAuECC4nT38EBhVFInI\\u002f\\u002fwQApoImzRBvFAs3vysH8O8UBcj8L1LRbxQAWjkjrcHfFArrZif4ol8UDM7snDOC3xQHUCmgjnNPFAHhZqTZU88UDHKTqSQ0TxQHE9CtfxS\\u002fFAGlHaG6BT8UDDZKpgTlvxQOCcEaX8YvFAirDh6apq8UAzxLEuWXLxQNzXgXMHevFAhetRuLWB8UAu\\u002fyH9Y4nxQNcS8kESkfFAgSbChsCY8UCeXinLbqDxQEdy+Q8dqPFA8IXJVMuv8UCamZmZebfxQEOtad4nv\\u002fFA7MA5I9bG8UCV1AlohM7xQLMMcawy1vFAXCBB8eDd8UAFNBE2j+XxQK5H4Xo97fFAV1uxv+v08UAAb4EEmvzxQKqCUUlIBPJAU5YhjvYL8kBwzojSpBPyQBniWBdTG\\u002fJAw\\u002fUoXAEj8kBsCfmgryryQBUdyeVdMvJAvjCZKgw68kBnRGlvukHyQIV80LNoSfJALpCg+BZR8kDXo3A9xVjyQIC3QIJzYPJAKcsQxyFo8kDT3uAL0G\\u002fyQHzysFB+d\\u002fJAJQaBlSx\\u002f8kBCPujZ2obyQOxRuB6JjvJAlWWIYzeW8kA+eVio5Z3yQOeMKO2TpfJAkKD4MUKt8kA5tMh28LTyQFfsL7uevPJAAAAAAE3E8kCpE9BE+8vyQFInoImp0\\u002fJA+zpwzlfb8kClTkATBuPyQE5iEFi06vJAa5p3nGLy8kAUrkfhEPryQL7BFya\\u002fAfNAZ9Xnam0J80AQ6bevGxHzQLn8h\\u002fTJGPNAYhBYOXgg80ALJCh+JijzQClcj8LUL\\u002fNA0m9fB4M380B7gy9MMT\\u002fzQCSX\\u002f5DfRvNAzqrP1Y1O80B3vp8aPFbzQCDSb1\\u002fqXfNAPQrXo5hl80DnHafoRm3zQJAxdy31dPNAOUVHcqN880DiWBe3UYTzQIts5\\u002fv\\u002fi\\u002fNANIC3QK6T80Dek4eFXJvzQPvL7skKo\\u002fNApN++Drmq80BN845TZ7LzQPcGX5gVuvNAoBov3cPB80BJLv8hcsnzQPJBz2Yg0fNAEHo2q87Y80C5jQbwfODzQGKh1jQr6PNAC7Wmednv80C0yHa+h\\u002ffzQF3cRgM2\\u002f\\u002fNAB\\u002fAWSOQG9ECwA+eMkg70QM07TtFAFvRAdk8eFu8d9EAgY+5anSX0QMl2vp9LLfRAcoqO5Pk09EAbnl4pqDz0QMSxLm5WRPRA4umVsgRM9ECL\\u002fWX3slP0QDQRNjxhW\\u002fRA3SQGgQ9j9ECGONbFvWr0QDBMpgpscvRA2V92Txp69ECCc0aUyIH0QJ+rrdh2ifRASL99HSWR9EDy0k1i05j0QJvmHaeBoPRARPrt6y+o9EDtDb4w3q\\u002f0QJYhjnWMt\\u002fRAtFn1uTq\\u002f9EBdbcX+6Mb0QAaBlUOXzvRAr5RliEXW9EBYqDXN8930QAK8BRKi5fRAq8\\u002fVVlDt9EBU46Wb\\u002fvT0QHEbDeCs\\u002fPRAGy\\u002fdJFsE9UDEQq1pCQz1QG1Wfa63E\\u002fVAFmpN82Ub9UC\\u002ffR04FCP1QGiR7XzCKvVAhslUwXAy9UAv3SQGHzr1QNjw9ErNQfVAgQTFj3tJ9UArGJXUKVH1QNQrZRnYWPVAfT81XoZg9UAmUwWjNGj1QESLbOfib\\u002fVA7Z48LJF39UCWsgxxP3\\u002f1QD\\u002fG3LXthvVA6Nms+puO9UCR7Xw\\u002fSpb1QDsBTYT4nfVAWDm0yKal9UABTYQNVa31QKpgVFIDtfVAVHQkl7G89UD9h\\u002fTbX8T1QKabxCAOzPVAT6+UZbzT9UD4wmSqatv1QBb7y+4Y4\\u002fVAvw6cM8fq9UBoImx4dfL1QBE2PL0j+vVAukkMAtIB9kBkXdxGgAn2QA1xrIsuEfZAKqkT0NwY9kDTvOMUiyD2QH3Qs1k5KPZAJuSDnucv9kDP91PjlTf2QHgLJChEP\\u002fZAIR\\u002f0bPJG9kDKMsSxoE72QOhqK\\u002fZOVvZAkX77Ov1d9kA6kst\\u002fq2X2QOOlm8RZbfZAjLlrCQh19kA2zTtOtnz2QN\\u002fgC5NkhPZA\\u002fBhz1xKM9kClLEMcwZP2QE9AE2Fvm\\u002fZA+FPjpR2j9kChZ7Pqy6r2QEp7gy96svZA845TdCi69kCcoiO51sH2QLraiv2EyfZAY+5aQjPR9kAMAiuH4dj2QLUV+8uP4PZAXynLED7o9kAIPZtV7O\\u002f2QLFQa5qa9\\u002fZAzojS3kj\\u002f9kB4nKIj9wb3QCGwcmilDvdAysNCrVMW90Bz1xLyAR73QBzr4jawJfdAxf6ye14t90DjNhrADDX3QIxK6gS7PPdANV66SWlE90DecYqOF0z3QIiFWtPFU\\u002fdAMZkqGHRb90DarPpcImP3QIPAyqHQavdAofgx5n5y90BKDAIrLXr3QPMf0m\\u002fbgfdAnDOitImJ90BFR3L5N5H3QO5aQj7mmPdAmG4Sg5Sg90C1pnnHQqj3QF66SQzxr\\u002fdAB84ZUZ+390Cx4emVTb\\u002f3QFr1udr7xvdAAwmKH6rO90CsHFpkWNb3QFUwKqkG3vdAc2iR7bTl90AcfGEyY+33QMWPMXcR9fdAbqMBvL\\u002f890AXt9EAbgT4QMHKoUUcDPhAat5xisoT+ECHFtnOeBv4QDAqqRMnI\\u002fhA2T15WNUq+ECDUUmdgzL4QCxlGeIxOvhA1XjpJuBB+EB+jLlrjkn4QCegibA8UfhARdjw9OpY+EDu68A5mWD4QJf\\u002fkH5HaPhAQBNhw\\u002fVv+EDpJjEIpHf4QJM6AU1Sf\\u002fhAPE7RkQCH+EBZhjjWro74QAKaCBtdlvhArK3YXwue+EBVwaikuaX4QP7UeOlnrfhAp+hILha1+EBQ\\u002fBhzxLz4QPkP6bdyxPhAF0hQ\\u002fCDM+EDAWyBBz9P4QGlv8IV92\\u002fhAEoPAyivj+EC8lpAP2ur4QGWqYFSI8vhADr4wmTb6+EAr9pfd5AH5QNUJaCKTCflAfh04Z0ER+UAnMQis7xj5QNBE2PCdIPlAeVioNUwo+UAibHh6+i\\u002f5QMx\\u002fSL+oN\\u002flA6bevA1c\\u002f+UCSy39IBUf5QDvfT42zTvlA5fIf0mFW+UCOBvAWEF75QDcawFu+ZflA4C2QoGxt+UD+ZffkGnX5QKd5xynJfPlAUI2XbneE+UD5oGezJYz5QKK0N\\u002fjTk\\u002flAS8gHPYKb+UD129eBMKP5QJ7vp8beqvlAuycPC42y+UBkO99PO7r5QA==\"},\"y\":{\"dtype\":\"f8\",\"bdata\":\"HymN\\u002fpQCcz8EQ\\u002fP83FicP7rfG90AHYQ\\u002f3jY2baGerT+aIDulIMiCP1i1RZHnqLo\\u002fqMXqUFtzxD+34g+VBeTYP7wjYBdAl\\u002fQ\\u002fuKRu5Un3AEAa8KRMqtkEQNuewvcF7wBAQyphkRIe8z\\u002f+ynbo\\u002fZHiP3ZXv6AaiMI\\u002fnAYQpq30qD8RbRhzS0mIP3\\u002fdBZaHJnQ\\u002fdJxgkhpqhT+nA+eya5KQP00\\u002fUoXz4ok\\u002fuk+XZae2dD94zWh1S6KRP2SDYyTwq5Y\\u002fmL00dy4xVD8AkUE0V6GlP0QMvgqcmrI\\u002ftQQOnFQCxT9KgM8Vx2HZP7s\\u002fjH1O3+U\\u002fOM70Aps98z9QOSN0q\\u002fD3P9NugVSv6PQ\\u002fhHBdJh7L5T92AsqLnj7WP\\u002fR1CzTLv7k\\u002fiekefId6nj+lC4kZqVOdP5okXuIcZZ4\\u002fL+S\\u002fM3wVoT\\u002fnOB1VhB9wP9g391njmGM\\u002fmyqfHU7gpj+\\u002fku0DYo+MP++xjz\\u002fB2ZY\\u002faHCo1uVJmT9TwXZISFF7P0unJZYA3aI\\u002fden3sMWUiz9BSDByOQmaPxcqgZmIRZ4\\u002fmt69mBRlnT9kEevVbIucP65BT9\\u002fFUI0\\u002f7xliSWOpoT8fHNeNM1+HPxKw3DYFeoQ\\u002fiHPgbD9Emz8RVsD7tr6QPygJhlsDepA\\u002feBFJq9VSjD+7mmH+TH6gP7M91f7+Ips\\u002fGX8IKC\\u002fuoT+9h8T96KqSP3kZpmzRXqM\\u002fCCp+yF75qj\\u002f4LmhLDWO3P1jePFMjerY\\u002fCBrnlG76yj+1Wp5gkNLYPy8XgD0K4Oo\\u002flg00ROYF+j+c8kswLTsEQJuoeRRgVgVA6FTxlGcXAECK4C2OVr7wP1\\u002fV55Z2EOI\\u002fvZDHwSzGyj8sfZtdtIuzP8nIjojEo58\\u002fTVR\\u002fMLWRmT+JN\\u002fjaMzaXP1cRO26x0oA\\u002f\\u002fzrctIAGlz9znGZoVhuSPwPw7wANTZk\\u002f2cuq1S0vkj+my++kIFiIPzTRwcEOUZs\\u002fszveIACLlj96cI8sN92bP21\\u002fahS1V4g\\u002ffUniDxuIoT8thhfdv\\u002fOZP7Hph3QBM5s\\u002fSrpK48j7qz8gXBBpCfiuPxKB77hR\\u002fbA\\u002fGC71qY1Gvz+h5b+jCHLFP\\u002fJinRascNw\\u002fZSHRtmgg7j+LxijTf2L+PxSd8mXF\\u002fQ5AFXM5r8uoFUAvdaHSh34UQCBirUqvYApAOTPrqLv09z95UktUzq\\u002fmP1yXVAfcNdU\\u002f9ucrLtM+wz8fwyNyC3uxP657k9HB7qo\\u002f0NKpO9aZkz+ATl841nyVP5sd22B\\u002fo5w\\u002fliXS03RPoz\\u002fzoDH5tNyUP95dilaT+Ic\\u002fPLFylk4fkz\\u002fpu1xl2aSVP1JxbFUghZc\\u002fmMxiZX6uoD+YeUtzb6iMPwHXluydq5k\\u002fRoVeLFZmoT8xvxrM45uWPzXyMoJOfpk\\u002fHk3YLJ4CjD+Jfny6ipCXPwgB6xPMlJY\\u002fObrQbzv1oj8SXwzn1JmRP2et6jpZHpY\\u002f6LYFw8SImj9Ln2oq94OYPxx6WPb3iZw\\u002fIsDtsAAqnz\\u002fOy\\u002foApN+ZP2he+PsZpJ4\\u002fNUSXqvQslj\\u002fPgKJ05rOVP8cOf2r3bIk\\u002fhB5ui1YjkT9J4aqR\\u002fzyYP0W2ASP\\u002fy5g\\u002ffZI1QDJsmz9lanDarGulPxrUZqLgQJo\\u002fDP7AKsl1nz+OjDX57LebP4cacvU1PJM\\u002fOn26k2frjD9VtmGdKnWfP4hAN9CoKJU\\u002fZY\\u002fVi4Kqiz9uLAN0h6yUPy1b3sbKY5E\\u002f8H1ZFosAkz9wn+6R4biUP53zTL4TCpQ\\u002fvDnVzzddmz+a6IV05gSaP53pJUkK86c\\u002f6cLhGgu8oz+o8NliOveyP6Lvaadj9LI\\u002fqXqGEN2ZwD+JxktrUb7PPytenYHrNN4\\u002f0xsuPc2b8T99Q9ISX1gDQPFzm2QxBRBA2c9hP8oVE0CxgxxxZIUPQIwJ4KiIqQJAA2lTUmwe8j87ZYg4rRDgP0mU6CtTgM8\\u002fkU4rVwBUvz9lCSd8vAe4P6y8ZC\\u002fAK6k\\u002fAmik38pVoD+QOqJnPA2gP6HrKLOOL6A\\u002fdfKrQZtVmD8S5+V5VW+aP4\\u002fq6BUhWZ0\\u002ff+GC06tHkj8CYIJ6KFOSPwHQfY\\u002fvnJg\\u002fqMG1AT1\\u002flz\\u002fbjScHOOGbP8Iml1j\\u002fsJo\\u002fCF4BbnqNmj\\u002fyicWsjvacP1rqu1NpVZs\\u002ffQRbFEBykD9j2wPHm+eVP8jD7xoMbJY\\u002fA3yL2U8OnT\\u002fFrESpk8WLP7NRwVmhPJI\\u002faF1nhQk5nz+mRDr8IyahP74YZu133ps\\u002ft1xA4nzEmj\\u002f3Hj7gUkyePwJE2yQbvJc\\u002fznZ1CKWJmj\\u002fRxHKGXSeYP50YCGKDCZc\\u002fUDQXuDNcmz9yXSc2ZhCbP4SsuHHIM6U\\u002fY9xGQtNBmz+4DRFU9IGfP5zlatf3aKI\\u002fiYiYNGvdmD8yKEWMbYSjP9vNjxOicaY\\u002fzJaNz3FDsD99wTzOYRS4P8EslZRkosM\\u002fTdjliaCw0D8\\u002ff656N2vfP9GftcyrEvA\\u002fJMwT2eAC\\u002fj8bFVFj\\u002fL8FQK+f4ek4hwlAqMrfYkMlBkCkEwjO4kr7P3zgTLsbsOs\\u002fIMZGvYX82T+Zq\\u002fYC4JfOP7bs2v9\\u002ftL4\\u002fVh8G+IIRtD\\u002fL5xlo8besPyehAMWv0ac\\u002fAYzsHGEDpD9qSxddf5KdP0MoaBqHdJk\\u002fm74rYN5qnD8IIfp0F+2VP1avgjm6fZ8\\u002f8KPU92yVlT\\u002fLw+nT6TaePwoNxJdJ7Zw\\u002fqM25ER1Zmz+PhNt2ksuhP\\u002fDyYRojNpw\\u002fZclw+buEmz8ZIGuaPyifPwwq5sfBP5c\\u002f05z+UOwknz9zsiMw3X2YP5Cwho3E86E\\u002fwhxFyDwNnj93cAVrbFiSP+SyuFpfkZU\\u002ffFVcM2F6mT+NZ\\u002f9eY0ubP9Q5qdw2FaI\\u002fElk8xdu0mj9Yj9hFmqSXP5g1Lq2rZqA\\u002fw05FT+l6mz8XeEv3XEqWP4AZXv9oHpE\\u002fSWIMCWzbmT+LZkQFnpuKP0rIbaW2ypY\\u002f6+AlE9gAnT+1kpTvtCOWP5nVSPajT5Y\\u002frQbG7eKDmj+wcSJTGLuZP29VxDzEN5k\\u002fpus37dfVmz+ZuhYy\\u002fGCUP57zzA7U85c\\u002ftDWCXdC+lj8UPGicSGSUP2P\\u002fc45Qo5Y\\u002fdw8QxTeImj8\\u002fYD8ZkSyZP5zQdzPKFJg\\u002f\\u002fJV2aDSgmD9T4KJ8Y++bP31BP7MqCaY\\u002fNLTNYqbJlz\\u002fLSrv60E+RP6zMZ9HExZg\\u002fWGbooZWZnD\\u002fakOc04lCWPxspPJg4KJk\\u002fZxVyIJg+lT+add5O5bSaPx3X1NYrd6A\\u002fjsfBzqdAlD9Typ0ZLKWYP3LMoU09qaA\\u002fj15aqWaFlz8\\u002fqj98RsSXP9+Pf7rCHJ8\\u002fkXUh4EW4oT9SoVK2QTKeP82b7uMnJ6I\\u002f\\u002fqEchm4GmD8b2TXWNpqXP8UHcEl23Js\\u002fCiG9mzQ5nD8YE1U7UPuaP9n2oHfmfJU\\u002f1cX\\u002fSSqxnj+UH1Y9h2ucP5y941n4lpg\\u002f5a+XhN8Xmz8WfOFxAPeYP2fquSqkeZk\\u002fE9ytjXvAlT9hiS4dTUmjP\\u002ffnDs9VjJs\\u002fQBeZbUs3mj\\u002f1zfFxCr2bPwb7bFtMfZo\\u002fo7L1SU3AlD\\u002f50aEa0M6ZP3hTC8a2QZY\\u002fhmqfKIIfmz81IND2U0ydPxFZcmOfGpk\\u002fj+LVSYQCmz8jj7QO9EGaP2CoFvzYrpo\\u002fkmPnjQZ5mj8IRjckWnyVP6ngC8C9HJk\\u002fzjKtoyGIlj9tNzRMBXKUPw4JLy320J4\\u002fV68IDuJWmj9j6oHO\\u002fQudP2gM7lzCYZs\\u002f6f8JiN51oD+EsXDBPLyaP5aI+EdBrps\\u002ftyJtcrAblD8rfZ6UmxGcP\\u002fjjgcWuIJk\\u002fbuZ94av3nj+i9bWiJkSjP7oJVDT5xJw\\u002f38VSX6eLqD9T7Rmia0WnPxga9Pc8LLI\\u002fAe3axFCZuD+iaxgY77bBP5xtFIBAeco\\u002f9eGaUi3c1D++SLL+4JvhP7jYUdn0J+k\\u002fMiGRgQjf8j94GTqzrjH8P82ztbhuRQNAEvzFo+XGC0BSkD1mno0TQJLQ5xoapxlAAUYfX1EfIUDHTrngdQAkQNNtW285ziJABUt9ErLRG0AqP5MNJycTQGs5+0vA0AlAGR1\\u002fv9SbAEA2Eo9+Sf74P\\u002fZALHieu\\u002fA\\u002fKXVhmzA+6D\\u002fQ4LDPnkXdP5P38qtCwNU\\u002f1jbX1epxyz8UG1opaWbBP4hdSm9oK7g\\u002f5KekZeP\\u002frD8S0bAyPhWrPxxUiQu86aI\\u002foUGDdattnz9qyubCmhKgP0WWfPtmPZo\\u002fo6y7vrxilD+uDq0P+I6bP+vF3MSPW6A\\u002fOgQTYYTJmj9C0YRtW7iaP0zvTo4gG5c\\u002f5J\\u002f7Ej9Smj9h4CC7ojiYPxHIxFmANZs\\u002f3Tl0sTagmz9U9bS55gOaP2H0OyKNBZk\\u002fXWxPZkhhlz\\u002fxqUPonaabP6g6kdjppZU\\u002fXbigPgpjmD8QwP9aTSiSP2XwfkOJrJI\\u002fF7SJDxzlkz\\u002f3w8G0J8SYPw==\"},\"type\":\"scatter\"},{\"line\":{\"color\":\"rgb(214, 39, 40)\"},\"mode\":\"lines\",\"name\":\"Total calculated (Icalc)\",\"x\":{\"dtype\":\"f8\",\"bdata\":\"RPrt657p6kCWIY51+\\u002fjqQOlILv9XCOtAO3DOiLQX60B24JwRESfrQMgHPZttNutAGy\\u002fdJMpF60BtVn2uJlXrQL99HTiDZOtAEqW9wd9z60BkzF1LPIPrQLbz\\u002fdSYkutA8WPMXfWh60BEi2znUbHrQJayDHGuwOtA6Nms+grQ60A7AU2EZ9\\u002frQI0o7Q3E7utA30+NlyD+60AawFsgfQ3sQG3n+6nZHOxAvw6cMzYs7EARNjy9kjvsQGRd3EbvSuxAtoR80Eta7EAIrBxaqGnsQFvTvOMEeexAlkOLbGGI7EDoaiv2vZfsQDqSy38ap+xAjLlrCXe27EDf4AuT08XsQDEIrBww1exAgy9Mpozk7EC+nxov6fPsQBHHurhFA+1AY+5aQqIS7UC1FfvL\\u002fiHtQAg9m1VbMe1AWmQ737dA7UCsi9toFFDtQOf7qfFwX+1AOiNKe81u7UCMSuoEKn7tQN5xio6Gje1AMZkqGOOc7UCDwMqhP6ztQNXnaiucu+1AKA8LtfjK7UBjf9k9VdrtQLWmecex6e1AB84ZUQ757UBa9bnaagjuQKwcWmTHF+5A\\u002fkP67SMn7kBRa5p3gDbuQIzbaADdRe5A3gIJijlV7kAwKqkTlmTuQINRSZ3yc+5A1XjpJk+D7kAnoImwq5LuQHrHKToIou5AzO7Jw2Sx7kAHX5hMwcDuQFmGONYd0O5ArK3YX3rf7kD+1Hjp1u7uQFD8GHMz\\u002fu5AoyO5\\u002fI8N70D1SlmG7BzvQDC7Jw9JLO9AguLHmKU770DVCWgiAkvvQCcxCKxeWu9AeVioNbtp70DMf0i\\u002fF3nvQB6n6Eh0iO9AcM6I0tCX70CrPldbLafvQP5l9+SJtu9AUI2XbubF70CitDf4QtXvQPXb14Gf5O9ARwN4C\\u002fzz70BNFYxKrAHwQGpN845aCfBAE2HD0wgR8EC8dJMYtxjwQGaIY11lIPBAD5wzohMo8EC4rwPnwS\\u002fwQGHD0ytwN\\u002fBACtejcB4\\u002f8EAoDwu1zEbwQNEi2\\u002fl6TvBAejarPilW8EAjSnuD113wQMxdS8iFZfBAdnEbDTRt8EAfhetR4nTwQDy9UpaQfPBA5dAi2z6E8ECP5PIf7YvwQDj4wmSbk\\u002fBA4QuTqUmb8ECKH2Pu96LwQDMzMzOmqvBA3EYDeFSy8ED6fmq8ArrwQKOSOgGxwfBATKYKRl\\u002fJ8ED1udqKDdHwQJ\\u002fNqs+72PBASOF6FGrg8EDx9EpZGOjwQA4tsp3G7\\u002fBAuECC4nT38EBhVFInI\\u002f\\u002fwQApoImzRBvFAs3vysH8O8UBcj8L1LRbxQAWjkjrcHfFArrZif4ol8UDM7snDOC3xQHUCmgjnNPFAHhZqTZU88UDHKTqSQ0TxQHE9CtfxS\\u002fFAGlHaG6BT8UDDZKpgTlvxQOCcEaX8YvFAirDh6apq8UAzxLEuWXLxQNzXgXMHevFAhetRuLWB8UAu\\u002fyH9Y4nxQNcS8kESkfFAgSbChsCY8UCeXinLbqDxQEdy+Q8dqPFA8IXJVMuv8UCamZmZebfxQEOtad4nv\\u002fFA7MA5I9bG8UCV1AlohM7xQLMMcawy1vFAXCBB8eDd8UAFNBE2j+XxQK5H4Xo97fFAV1uxv+v08UAAb4EEmvzxQKqCUUlIBPJAU5YhjvYL8kBwzojSpBPyQBniWBdTG\\u002fJAw\\u002fUoXAEj8kBsCfmgryryQBUdyeVdMvJAvjCZKgw68kBnRGlvukHyQIV80LNoSfJALpCg+BZR8kDXo3A9xVjyQIC3QIJzYPJAKcsQxyFo8kDT3uAL0G\\u002fyQHzysFB+d\\u002fJAJQaBlSx\\u002f8kBCPujZ2obyQOxRuB6JjvJAlWWIYzeW8kA+eVio5Z3yQOeMKO2TpfJAkKD4MUKt8kA5tMh28LTyQFfsL7uevPJAAAAAAE3E8kCpE9BE+8vyQFInoImp0\\u002fJA+zpwzlfb8kClTkATBuPyQE5iEFi06vJAa5p3nGLy8kAUrkfhEPryQL7BFya\\u002fAfNAZ9Xnam0J80AQ6bevGxHzQLn8h\\u002fTJGPNAYhBYOXgg80ALJCh+JijzQClcj8LUL\\u002fNA0m9fB4M380B7gy9MMT\\u002fzQCSX\\u002f5DfRvNAzqrP1Y1O80B3vp8aPFbzQCDSb1\\u002fqXfNAPQrXo5hl80DnHafoRm3zQJAxdy31dPNAOUVHcqN880DiWBe3UYTzQIts5\\u002fv\\u002fi\\u002fNANIC3QK6T80Dek4eFXJvzQPvL7skKo\\u002fNApN++Drmq80BN845TZ7LzQPcGX5gVuvNAoBov3cPB80BJLv8hcsnzQPJBz2Yg0fNAEHo2q87Y80C5jQbwfODzQGKh1jQr6PNAC7Wmednv80C0yHa+h\\u002ffzQF3cRgM2\\u002f\\u002fNAB\\u002fAWSOQG9ECwA+eMkg70QM07TtFAFvRAdk8eFu8d9EAgY+5anSX0QMl2vp9LLfRAcoqO5Pk09EAbnl4pqDz0QMSxLm5WRPRA4umVsgRM9ECL\\u002fWX3slP0QDQRNjxhW\\u002fRA3SQGgQ9j9ECGONbFvWr0QDBMpgpscvRA2V92Txp69ECCc0aUyIH0QJ+rrdh2ifRASL99HSWR9EDy0k1i05j0QJvmHaeBoPRARPrt6y+o9EDtDb4w3q\\u002f0QJYhjnWMt\\u002fRAtFn1uTq\\u002f9EBdbcX+6Mb0QAaBlUOXzvRAr5RliEXW9EBYqDXN8930QAK8BRKi5fRAq8\\u002fVVlDt9EBU46Wb\\u002fvT0QHEbDeCs\\u002fPRAGy\\u002fdJFsE9UDEQq1pCQz1QG1Wfa63E\\u002fVAFmpN82Ub9UC\\u002ffR04FCP1QGiR7XzCKvVAhslUwXAy9UAv3SQGHzr1QNjw9ErNQfVAgQTFj3tJ9UArGJXUKVH1QNQrZRnYWPVAfT81XoZg9UAmUwWjNGj1QESLbOfib\\u002fVA7Z48LJF39UCWsgxxP3\\u002f1QD\\u002fG3LXthvVA6Nms+puO9UCR7Xw\\u002fSpb1QDsBTYT4nfVAWDm0yKal9UABTYQNVa31QKpgVFIDtfVAVHQkl7G89UD9h\\u002fTbX8T1QKabxCAOzPVAT6+UZbzT9UD4wmSqatv1QBb7y+4Y4\\u002fVAvw6cM8fq9UBoImx4dfL1QBE2PL0j+vVAukkMAtIB9kBkXdxGgAn2QA1xrIsuEfZAKqkT0NwY9kDTvOMUiyD2QH3Qs1k5KPZAJuSDnucv9kDP91PjlTf2QHgLJChEP\\u002fZAIR\\u002f0bPJG9kDKMsSxoE72QOhqK\\u002fZOVvZAkX77Ov1d9kA6kst\\u002fq2X2QOOlm8RZbfZAjLlrCQh19kA2zTtOtnz2QN\\u002fgC5NkhPZA\\u002fBhz1xKM9kClLEMcwZP2QE9AE2Fvm\\u002fZA+FPjpR2j9kChZ7Pqy6r2QEp7gy96svZA845TdCi69kCcoiO51sH2QLraiv2EyfZAY+5aQjPR9kAMAiuH4dj2QLUV+8uP4PZAXynLED7o9kAIPZtV7O\\u002f2QLFQa5qa9\\u002fZAzojS3kj\\u002f9kB4nKIj9wb3QCGwcmilDvdAysNCrVMW90Bz1xLyAR73QBzr4jawJfdAxf6ye14t90DjNhrADDX3QIxK6gS7PPdANV66SWlE90DecYqOF0z3QIiFWtPFU\\u002fdAMZkqGHRb90DarPpcImP3QIPAyqHQavdAofgx5n5y90BKDAIrLXr3QPMf0m\\u002fbgfdAnDOitImJ90BFR3L5N5H3QO5aQj7mmPdAmG4Sg5Sg90C1pnnHQqj3QF66SQzxr\\u002fdAB84ZUZ+390Cx4emVTb\\u002f3QFr1udr7xvdAAwmKH6rO90CsHFpkWNb3QFUwKqkG3vdAc2iR7bTl90AcfGEyY+33QMWPMXcR9fdAbqMBvL\\u002f890AXt9EAbgT4QMHKoUUcDPhAat5xisoT+ECHFtnOeBv4QDAqqRMnI\\u002fhA2T15WNUq+ECDUUmdgzL4QCxlGeIxOvhA1XjpJuBB+EB+jLlrjkn4QCegibA8UfhARdjw9OpY+EDu68A5mWD4QJf\\u002fkH5HaPhAQBNhw\\u002fVv+EDpJjEIpHf4QJM6AU1Sf\\u002fhAPE7RkQCH+EBZhjjWro74QAKaCBtdlvhArK3YXwue+EBVwaikuaX4QP7UeOlnrfhAp+hILha1+EBQ\\u002fBhzxLz4QPkP6bdyxPhAF0hQ\\u002fCDM+EDAWyBBz9P4QGlv8IV92\\u002fhAEoPAyivj+EC8lpAP2ur4QGWqYFSI8vhADr4wmTb6+EAr9pfd5AH5QNUJaCKTCflAfh04Z0ER+UAnMQis7xj5QNBE2PCdIPlAeVioNUwo+UAibHh6+i\\u002f5QMx\\u002fSL+oN\\u002flA6bevA1c\\u002f+UCSy39IBUf5QDvfT42zTvlA5fIf0mFW+UCOBvAWEF75QDcawFu+ZflA4C2QoGxt+UD+ZffkGnX5QKd5xynJfPlAUI2XbneE+UD5oGezJYz5QKK0N\\u002fjTk\\u002flAS8gHPYKb+UD129eBMKP5QJ7vp8beqvlAuycPC42y+UBkO99PO7r5QA==\"},\"y\":{\"dtype\":\"f8\",\"bdata\":\"A2a\\u002fG1eQhD\\u002fVYZZME86EP6AtT0eEuoU\\u002ffDQ3byI7iT8eO7NkTSeTP9pvfADfU6U\\u002fx6Z2DsDovT\\u002fuswiVfJrUP3tnHhBqpOc\\u002fSgOTqNCS9D+x0gA3Dbf5P+0Yms87YPY\\u002fv5lmbZy36j8MSb4AvfjVP9CZJet6Kro\\u002fdvgBvJ2FnD9cj\\u002fGnAKiJP\\u002fZE36Z+DoU\\u002flrUXMoyJhD++vwDZw32EP1xIDHOtgIQ\\u002fzIVHXSyPhD8gvr+Sw8KEP5eU5iCUd4U\\u002fXpGQCuPrhz9qX81cPC6QP66+xrG3X54\\u002fjSrQmInQsj96tmwxD8PIPwsjyCMpg9w\\u002f3uYvYGxk6T9Gr9NHz0LwP+XCO\\u002fTkxuw\\u002fdFmXzgdS4T+5tzrUIrzMP6wFqIGv1LE\\u002fNqmPJop6lj\\u002fEsVtUTEyIP954cAOR\\u002foQ\\u002fmPL778aLhD\\u002fJcFLOEH2EP5Q3xJsre4Q\\u002fTPJ8c+t6hD8BnKy24nqEPxfg7nzheoQ\\u002fn1SiT+F6hD8tuuhI4XqEPy895kfheoQ\\u002f0jDNR+F6hD8Mdv1H4XqEP1ILtEjheoQ\\u002fclYVS+F6hD\\u002fjfuxS4XqEPyLtjWzheoQ\\u002fftS5v+F6hD+LX6XL4nqEP9RgayTmeoQ\\u002f\\u002fayMxPB6hD8tdHlCEnuEP3aDXhN7e4Q\\u002fDJOex8B8hD9h6965rYCEPz73Yr+0jIQ\\u002fUi2fokyxhD9x6gDt3B+FP7FydH2fa4Y\\u002fdwJxyUlIij8NH5NgL9uSP7sS5wJ50qE\\u002fbrpisw4UtT+vL\\u002fYFZ3PLP4ooYOuqPeE\\u002fhKEvCUVU8j+DgdA8wWb9P1xRg7WMbwBA3spyJ6ql+D9ZxMbtddToP59jD18hstE\\u002flIHnRoWDtD9M4pMAUFOaP0SjnniCTos\\u002ft74D\\u002f4juhT+IOD0UVcuEP90VSsqkjIQ\\u002f+wVQ+OF+hD8R1KivznuEP4zBHx4fe4Q\\u002f8VChIQJ7hD9dS2MTHXuEP66m02aDe4Q\\u002fITzbWKp8hD8Z6xP25n+EPw2WdmDsiIQ\\u002fHI5q2OehhD+YmvN+qOaEP+75ld2yooU\\u002f\\u002fXLDDNehhz+uxIswwAaNP7RlBIxkwZU\\u002fiEs8T9eKpD+ODJFCWBa3P2EvuvxIYMw\\u002f7OTWt1HM4T92ygOvAw71Pz\\u002f7eIw67gRAAdDzAo3uDkD98NDW4TMPQJMmlaKI3gRAzKQSC2Md8z+BxjZEDnzaP23OimxUTcA\\u002fH2TwRm7CpT9Oqd5BK3qTP+kc9W\\u002fZrYk\\u002fHvklUg73hT\\u002f0Oiq8FemEP9JMK2FLm4Q\\u002f7TgyPo2EhD8bnrCXzn2EP7ax6TzHe4Q\\u002fGBWb1Ch7hD+3X+zY93qEP4H4e37oeoQ\\u002fGDXpneN6hD\\u002fQyAEM4nqEP1Fu8ojheoQ\\u002fpYunXeF6hD+aCSxP4XqEP3UiRErheoQ\\u002fOWqVSOF6hD825f9H4XqEP9Fcy0fheoQ\\u002ffrC4R+F6hD+V+7FH4XqEP6qRr0fheoQ\\u002fNcCuR+F6hD8ioa5H4XqEPwIPr0fheoQ\\u002fSHKwR+F6hD+1HrRH4XqEP+aNvUfheoQ\\u002fspDVR+F6hD+yThJI4XqEPwgiq0jheoQ\\u002fio0pSuF6hD9jZuFN4XqEPy7fFVfheoQ\\u002fXwPBbeF6hD99mEil4XqEP\\u002fRSmCzieoQ\\u002fpfWZdON6hD80i5GL5nqEP7RBH\\u002fXteoQ\\u002fRSz3pf96hD\\u002fOLV6nKXuEP3R4tuKMe4Q\\u002fVEMDH3Z8hD+mFIWNl36EP1EOmqeMg4Q\\u002fIkcn4QaPhD+CExSPd6mEP5om1mIT5oQ\\u002fCYTNI1NwhT+uvp0cIKqGP4\\u002fPa6zubok\\u002fyK5xPTGojz82EpayIMqWP4I9WliqJKM\\u002fBXnU7b0nsj9WxdJzforCP2M3FoDQpdM\\u002fMnFZy2YK5T+eM3npmMj1P4EDOZhtlgNAavh\\u002fxKdVCkAUn8FW6OkHQFNPzhjihf0\\u002fc+236vDO6z9BWrrhcHTXP7GQPxFXycM\\u002fjl12YFmlsT8SK3J\\u002fKoWhP+hggri9hJQ\\u002fYOr2MyISjT8XRDfohRmIP8BioUF9BIY\\u002fRDcp7mojhT\\u002fZCkArnsOEP49jutSEmoQ\\u002fC\\u002fl5ob+IhD++Zqx4AYGEP+RqlDGbfYQ\\u002fyQiQMxp8hD8R6lqfbnuEPz1p5ZYhe4Q\\u002ffDFMwf56hD+VFrHk7nqEP5ZO4aDneoQ\\u002fUBY8TOR6hD8az8fN4nqEP1iRSjnieoQ\\u002fyD5ANeJ6hD85vbzA4nqEP8C4GDHkeoQ\\u002fI6UtY+d6hD8sZaA67nqEP3A3+LX8eoQ\\u002fmjbxLht7hD+VXpQAW3uEP3cuwBLge4Q\\u002fxTF0WvR8hD8nNyOCL3+EP+H61TrHg4Q\\u002fY\\u002fpyQTGNhD\\u002fprr+GaKCEP+Zx9Kh3x4Q\\u002fo9owc4cWhT+i7\\u002f5r5bWFP+n0sxfQ9YY\\u002fcOctjV51iT9OYbuAs26OP1JuByW+JZQ\\u002fRNTqubDinT\\u002fMyVZR4oSoPz5Cp7GQo7U\\u002fv4nOUhX4wz\\u002fdvSy1Wt\\u002fSP2dJgANZ\\u002fuE\\u002fsJJCbCjP8D8wq3KRSxL8P+lwYGqB\\u002fwFARMkoaEgAAEBtVsfj1WL0PzKpuRDHfeU\\u002fftr854GK1T\\u002fB+iCtRNTFP7pOVFsJ3bY\\u002fiQjQNJ1KqT8QypFY7GOePzJ9UvryW5Q\\u002frp3Qpqyyjj8FxyFRjaqJP0ME2WdJIIc\\u002fnkXANU3WhT\\u002f3jtFN+i2FPxQs8Lus14Q\\u002fhRmzRzOrhD+KVmGoKpSEP3S+Z4AtiIQ\\u002ftlfMNOiBhD\\u002fGd2J5nH6EP57mb+DefIQ\\u002fodxPbvJ7hD8JoVZfdHuEPzDV1Nowe4Q\\u002fI8Y3hgx7hD\\u002fPywTj+HqEPwNpWznueoQ\\u002fS9inaOh6hD8siSU55XqEP8zFdHjjeoQ\\u002fRFmIgOJ6hD+EsPP24XqEPwzrSKrheoQ\\u002fitphf+F6hD8PQUZn4XqEPy88rFnheoQ\\u002fqcP3UeF6hD854pVN4XqEP7ZMFUvheoQ\\u002fJhamSeF6hD8bw9JI4XqEP4SwWEjheoQ\\u002fVecRSOF6hD\\u002fAs+hH4XqEPwqi0EfheoQ\\u002fBoXCR+F6hD\\u002fdNrpH4XqEPzRPtUfheoQ\\u002f+mayR+F6hD9PrLBH4XqEPxykr0fheoQ\\u002f4AWvR+F6hD\\u002fJpq5H4XqEP3NtrkfheoQ\\u002fwkquR+F6hD+0Na5H4XqEP+IorkfheoQ\\u002fDCGuR+F6hD8\\u002fHK5H4XqEP0wZrkfheoQ\\u002fexeuR+F6hD9cFq5H4XqEP60VrkfheoQ\\u002fQxWuR+F6hD8KFa5H4XqEP\\u002fUUrkfheoQ\\u002fBRWuR+F6hD9HFa5H4XqEP9oVrkfheoQ\\u002f\\u002fhauR+F6hD8tGa5H4XqEP00drkfheoQ\\u002fDCWuR+F6hD+DM65H4XqEP2xOrkfheoQ\\u002fT4CuR+F6hD963K5H4XqEPyeGr0fheoQ\\u002fe72wR+F6hD++9rJH4XqEPx8Et0fheoQ\\u002fQ2C+R+F6hD\\u002fGsstH4XqEP1a740fheoQ\\u002fJ\\u002fIOSOF6hD\\u002f0YlxI4XqEP8O15kjheoQ\\u002fg\\u002fbcSeF6hD9e6JFL4XqEP9u2lk7heoQ\\u002frAfpU+F6hD9h3UJd4XqEP116o23heoQ\\u002ffjQ7iuF6hD+14fy74XqEP\\u002fH5TBLieoQ\\u002fO4OMp+J6hD\\u002fgA8yo43qEP4Ri0GLleoQ\\u002fBfrjV+h6hD9KUZRk7XqEP4m01fz1eoQ\\u002fU4dSkgR7hD\\u002fAG5s9HXuEP3+mcddGe4Q\\u002fDYUGx4x7hD935br9AXyEP1pnPtfFfIQ\\u002f259iFAx+hD\\u002fG3YLiKYCEP\\u002fRlwfeqg4Q\\u002fNOOmzHOJhD8Bhsnv+JKEPyGwzQmYooQ\\u002frwpteSa8hD9ea7tI1uWEP+WrLDWiKYU\\u002f22X\\u002fQZGXhT++WWssT0mGP7SVp47WZ4c\\u002fBokM5WY0iT9T5IcdjhaMP1DiL2QWWZA\\u002f4zApHfAElD9bIGegSdqZP263odcnjKE\\u002ft0NVnSLZqD8SKAnwvyyyP+CT391rNbs\\u002fv9lf7x2uxD8tem2St7vPP2yQxKO6edg\\u002fOzuIx5rs4j\\u002fp\\u002ff7iM0jtPyiHNRXao\\u002fY\\u002fCfC4gyN3AUC2LneiObEKQIcC0EWNoRNAD543mK0XGkD4ZKOofCIdQF052bEqYhpAk6V+M6bfE0B5BT+xQK0KQO+jjD0NFQFAYhrQDaKp9T\\u002fql2QtxITrP+iYCdlYjuE\\u002fzP94lUiI1j\\u002fMeZohZyXNPzg3fyN5DcM\\u002fVrlCkCpHuT+srtbTJhyxP9mphxm\\u002fy6c\\u002f21B\\u002fPmIhoT\\u002fYiNNCFriZP5kH4qEdPJQ\\u002fiMmhSty0kD8Qg2PQKt2MPyidb4P17Ik\\u002fj9k55yEGiD9MmxpqccqGP++mZ1JW\\u002fYU\\u002fPCEQI9J3hT8oWJgtviCFPxcq5BbY54Q\\u002fAoXubZjChD9Y3JqCKqqEP0232k0dmoQ\\u002fFXFXb4yPhD+h3j7HlIiEP6avsnn6g4Q\\u002fzQ4xse6AhD8y+m7A6X6EP1TFAXSSfYQ\\u002fYdBMFa58hD9MEJ3nFXyEP7fSPVOwe4Q\\u002f3N6paGx7hD\\u002f6l23sPnuEPw==\"},\"type\":\"scatter\"}],                        {\"legend\":{\"x\":1.0,\"xanchor\":\"right\",\"y\":1.0,\"yanchor\":\"top\"},\"margin\":{\"autoexpand\":true,\"b\":45,\"r\":30,\"t\":40},\"title\":{\"text\":\"Measured vs Calculated data for experiment \\ud83d\\udd2c 'sim_si'\"},\"xaxis\":{\"mirror\":true,\"showline\":true,\"title\":{\"text\":\"TOF (\\u00b5s)\"},\"zeroline\":false,\"tickformat\":\",.6~g\",\"separatethousands\":true},\"yaxis\":{\"mirror\":true,\"showline\":true,\"title\":{\"text\":\"Intensity (arb. units)\"},\"zeroline\":false,\"tickformat\":\",.6~g\",\"separatethousands\":true},\"template\":{\"data\":{\"histogram2dcontour\":[{\"type\":\"histogram2dcontour\",\"colorbar\":{\"outlinewidth\":0,\"ticks\":\"\"},\"colorscale\":[[0.0,\"#0d0887\"],[0.1111111111111111,\"#46039f\"],[0.2222222222222222,\"#7201a8\"],[0.3333333333333333,\"#9c179e\"],[0.4444444444444444,\"#bd3786\"],[0.5555555555555556,\"#d8576b\"],[0.6666666666666666,\"#ed7953\"],[0.7777777777777778,\"#fb9f3a\"],[0.8888888888888888,\"#fdca26\"],[1.0,\"#f0f921\"]]}],\"choropleth\":[{\"type\":\"choropleth\",\"colorbar\":{\"outlinewidth\":0,\"ticks\":\"\"}}],\"histogram2d\":[{\"type\":\"histogram2d\",\"colorbar\":{\"outlinewidth\":0,\"ticks\":\"\"},\"colorscale\":[[0.0,\"#0d0887\"],[0.1111111111111111,\"#46039f\"],[0.2222222222222222,\"#7201a8\"],[0.3333333333333333,\"#9c179e\"],[0.4444444444444444,\"#bd3786\"],[0.5555555555555556,\"#d8576b\"],[0.6666666666666666,\"#ed7953\"],[0.7777777777777778,\"#fb9f3a\"],[0.8888888888888888,\"#fdca26\"],[1.0,\"#f0f921\"]]}],\"heatmap\":[{\"type\":\"heatmap\",\"colorbar\":{\"outlinewidth\":0,\"ticks\":\"\"},\"colorscale\":[[0.0,\"#0d0887\"],[0.1111111111111111,\"#46039f\"],[0.2222222222222222,\"#7201a8\"],[0.3333333333333333,\"#9c179e\"],[0.4444444444444444,\"#bd3786\"],[0.5555555555555556,\"#d8576b\"],[0.6666666666666666,\"#ed7953\"],[0.7777777777777778,\"#fb9f3a\"],[0.8888888888888888,\"#fdca26\"],[1.0,\"#f0f921\"]]}],\"contourcarpet\":[{\"type\":\"contourcarpet\",\"colorbar\":{\"outlinewidth\":0,\"ticks\":\"\"}}],\"contour\":[{\"type\":\"contour\",\"colorbar\":{\"outlinewidth\":0,\"ticks\":\"\"},\"colorscale\":[[0.0,\"#0d0887\"],[0.1111111111111111,\"#46039f\"],[0.2222222222222222,\"#7201a8\"],[0.3333333333333333,\"#9c179e\"],[0.4444444444444444,\"#bd3786\"],[0.5555555555555556,\"#d8576b\"],[0.6666666666666666,\"#ed7953\"],[0.7777777777777778,\"#fb9f3a\"],[0.8888888888888888,\"#fdca26\"],[1.0,\"#f0f921\"]]}],\"surface\":[{\"type\":\"surface\",\"colorbar\":{\"outlinewidth\":0,\"ticks\":\"\"},\"colorscale\":[[0.0,\"#0d0887\"],[0.1111111111111111,\"#46039f\"],[0.2222222222222222,\"#7201a8\"],[0.3333333333333333,\"#9c179e\"],[0.4444444444444444,\"#bd3786\"],[0.5555555555555556,\"#d8576b\"],[0.6666666666666666,\"#ed7953\"],[0.7777777777777778,\"#fb9f3a\"],[0.8888888888888888,\"#fdca26\"],[1.0,\"#f0f921\"]]}],\"mesh3d\":[{\"type\":\"mesh3d\",\"colorbar\":{\"outlinewidth\":0,\"ticks\":\"\"}}],\"scatter\":[{\"fillpattern\":{\"fillmode\":\"overlay\",\"size\":10,\"solidity\":0.2},\"type\":\"scatter\"}],\"parcoords\":[{\"type\":\"parcoords\",\"line\":{\"colorbar\":{\"outlinewidth\":0,\"ticks\":\"\"}}}],\"scatterpolargl\":[{\"type\":\"scatterpolargl\",\"marker\":{\"colorbar\":{\"outlinewidth\":0,\"ticks\":\"\"}}}],\"bar\":[{\"error_x\":{\"color\":\"#2a3f5f\"},\"error_y\":{\"color\":\"#2a3f5f\"},\"marker\":{\"line\":{\"color\":\"white\",\"width\":0.5},\"pattern\":{\"fillmode\":\"overlay\",\"size\":10,\"solidity\":0.2}},\"type\":\"bar\"}],\"scattergeo\":[{\"type\":\"scattergeo\",\"marker\":{\"colorbar\":{\"outlinewidth\":0,\"ticks\":\"\"}}}],\"scatterpolar\":[{\"type\":\"scatterpolar\",\"marker\":{\"colorbar\":{\"outlinewidth\":0,\"ticks\":\"\"}}}],\"histogram\":[{\"marker\":{\"pattern\":{\"fillmode\":\"overlay\",\"size\":10,\"solidity\":0.2}},\"type\":\"histogram\"}],\"scattergl\":[{\"type\":\"scattergl\",\"marker\":{\"colorbar\":{\"outlinewidth\":0,\"ticks\":\"\"}}}],\"scatter3d\":[{\"type\":\"scatter3d\",\"line\":{\"colorbar\":{\"outlinewidth\":0,\"ticks\":\"\"}},\"marker\":{\"colorbar\":{\"outlinewidth\":0,\"ticks\":\"\"}}}],\"scattermap\":[{\"type\":\"scattermap\",\"marker\":{\"colorbar\":{\"outlinewidth\":0,\"ticks\":\"\"}}}],\"scattermapbox\":[{\"type\":\"scattermapbox\",\"marker\":{\"colorbar\":{\"outlinewidth\":0,\"ticks\":\"\"}}}],\"scatterternary\":[{\"type\":\"scatterternary\",\"marker\":{\"colorbar\":{\"outlinewidth\":0,\"ticks\":\"\"}}}],\"scattercarpet\":[{\"type\":\"scattercarpet\",\"marker\":{\"colorbar\":{\"outlinewidth\":0,\"ticks\":\"\"}}}],\"carpet\":[{\"aaxis\":{\"endlinecolor\":\"#2a3f5f\",\"gridcolor\":\"#C8D4E3\",\"linecolor\":\"#C8D4E3\",\"minorgridcolor\":\"#C8D4E3\",\"startlinecolor\":\"#2a3f5f\"},\"baxis\":{\"endlinecolor\":\"#2a3f5f\",\"gridcolor\":\"#C8D4E3\",\"linecolor\":\"#C8D4E3\",\"minorgridcolor\":\"#C8D4E3\",\"startlinecolor\":\"#2a3f5f\"},\"type\":\"carpet\"}],\"table\":[{\"cells\":{\"fill\":{\"color\":\"#EBF0F8\"},\"line\":{\"color\":\"white\"}},\"header\":{\"fill\":{\"color\":\"#C8D4E3\"},\"line\":{\"color\":\"white\"}},\"type\":\"table\"}],\"barpolar\":[{\"marker\":{\"line\":{\"color\":\"white\",\"width\":0.5},\"pattern\":{\"fillmode\":\"overlay\",\"size\":10,\"solidity\":0.2}},\"type\":\"barpolar\"}],\"pie\":[{\"automargin\":true,\"type\":\"pie\"}]},\"layout\":{\"autotypenumbers\":\"strict\",\"colorway\":[\"#636efa\",\"#EF553B\",\"#00cc96\",\"#ab63fa\",\"#FFA15A\",\"#19d3f3\",\"#FF6692\",\"#B6E880\",\"#FF97FF\",\"#FECB52\"],\"font\":{\"color\":\"#2a3f5f\"},\"hovermode\":\"closest\",\"hoverlabel\":{\"align\":\"left\"},\"paper_bgcolor\":\"white\",\"plot_bgcolor\":\"white\",\"polar\":{\"bgcolor\":\"white\",\"angularaxis\":{\"gridcolor\":\"#EBF0F8\",\"linecolor\":\"#EBF0F8\",\"ticks\":\"\"},\"radialaxis\":{\"gridcolor\":\"#EBF0F8\",\"linecolor\":\"#EBF0F8\",\"ticks\":\"\"}},\"ternary\":{\"bgcolor\":\"white\",\"aaxis\":{\"gridcolor\":\"#DFE8F3\",\"linecolor\":\"#A2B1C6\",\"ticks\":\"\"},\"baxis\":{\"gridcolor\":\"#DFE8F3\",\"linecolor\":\"#A2B1C6\",\"ticks\":\"\"},\"caxis\":{\"gridcolor\":\"#DFE8F3\",\"linecolor\":\"#A2B1C6\",\"ticks\":\"\"}},\"coloraxis\":{\"colorbar\":{\"outlinewidth\":0,\"ticks\":\"\"}},\"colorscale\":{\"sequential\":[[0.0,\"#0d0887\"],[0.1111111111111111,\"#46039f\"],[0.2222222222222222,\"#7201a8\"],[0.3333333333333333,\"#9c179e\"],[0.4444444444444444,\"#bd3786\"],[0.5555555555555556,\"#d8576b\"],[0.6666666666666666,\"#ed7953\"],[0.7777777777777778,\"#fb9f3a\"],[0.8888888888888888,\"#fdca26\"],[1.0,\"#f0f921\"]],\"sequentialminus\":[[0.0,\"#0d0887\"],[0.1111111111111111,\"#46039f\"],[0.2222222222222222,\"#7201a8\"],[0.3333333333333333,\"#9c179e\"],[0.4444444444444444,\"#bd3786\"],[0.5555555555555556,\"#d8576b\"],[0.6666666666666666,\"#ed7953\"],[0.7777777777777778,\"#fb9f3a\"],[0.8888888888888888,\"#fdca26\"],[1.0,\"#f0f921\"]],\"diverging\":[[0,\"#8e0152\"],[0.1,\"#c51b7d\"],[0.2,\"#de77ae\"],[0.3,\"#f1b6da\"],[0.4,\"#fde0ef\"],[0.5,\"#f7f7f7\"],[0.6,\"#e6f5d0\"],[0.7,\"#b8e186\"],[0.8,\"#7fbc41\"],[0.9,\"#4d9221\"],[1,\"#276419\"]]},\"xaxis\":{\"gridcolor\":\"#EBF0F8\",\"linecolor\":\"#EBF0F8\",\"ticks\":\"\",\"title\":{\"standoff\":15},\"zerolinecolor\":\"#EBF0F8\",\"automargin\":true,\"zerolinewidth\":2},\"yaxis\":{\"gridcolor\":\"#EBF0F8\",\"linecolor\":\"#EBF0F8\",\"ticks\":\"\",\"title\":{\"standoff\":15},\"zerolinecolor\":\"#EBF0F8\",\"automargin\":true,\"zerolinewidth\":2},\"scene\":{\"xaxis\":{\"backgroundcolor\":\"white\",\"gridcolor\":\"#DFE8F3\",\"linecolor\":\"#EBF0F8\",\"showbackground\":true,\"ticks\":\"\",\"zerolinecolor\":\"#EBF0F8\",\"gridwidth\":2},\"yaxis\":{\"backgroundcolor\":\"white\",\"gridcolor\":\"#DFE8F3\",\"linecolor\":\"#EBF0F8\",\"showbackground\":true,\"ticks\":\"\",\"zerolinecolor\":\"#EBF0F8\",\"gridwidth\":2},\"zaxis\":{\"backgroundcolor\":\"white\",\"gridcolor\":\"#DFE8F3\",\"linecolor\":\"#EBF0F8\",\"showbackground\":true,\"ticks\":\"\",\"zerolinecolor\":\"#EBF0F8\",\"gridwidth\":2}},\"shapedefaults\":{\"line\":{\"color\":\"#2a3f5f\"}},\"annotationdefaults\":{\"arrowcolor\":\"#2a3f5f\",\"arrowhead\":0,\"arrowwidth\":1},\"geo\":{\"bgcolor\":\"white\",\"landcolor\":\"white\",\"subunitcolor\":\"#C8D4E3\",\"showland\":true,\"showlakes\":true,\"lakecolor\":\"white\"},\"title\":{\"x\":0.05},\"mapbox\":{\"style\":\"light\"}}}},                        {\"displaylogo\": false, \"modeBarButtonsToRemove\": [\"select2d\", \"lasso2d\", \"zoomIn2d\", \"zoomOut2d\", \"autoScale2d\"], \"responsive\": true}                    )                };            </script>        </div>"
      ],
      "text/plain": [
       "<IPython.core.display.HTML object>"
      ]
     },
     "metadata": {},
     "output_type": "display_data"
    }
   ],
   "source": [
    "project_1.plot_meas_vs_calc(expt_name='sim_si')"
   ]
  },
  {
   "cell_type": "markdown",
   "id": "70",
   "metadata": {},
   "source": [
    "#### Run Fitting\n",
    "\n",
    "We can now perform the fit using the `fit` method of the `analysis`\n",
    "object of the project."
   ]
  },
  {
   "cell_type": "markdown",
   "id": "71",
   "metadata": {},
   "source": [
    "📖 See [documentation](https://docs.easydiffraction.org/lib/user-guide/analysis-workflow/analysis/#perform-fit)\n",
    "for more details about the fitting process."
   ]
  },
  {
   "cell_type": "code",
   "execution_count": 25,
   "id": "72",
   "metadata": {
    "execution": {
     "iopub.execute_input": "2025-08-31T19:33:10.072605Z",
     "iopub.status.busy": "2025-08-31T19:33:10.072501Z",
     "iopub.status.idle": "2025-08-31T19:33:11.480021Z",
     "shell.execute_reply": "2025-08-31T19:33:11.475866Z"
    }
   },
   "outputs": [
    {
     "name": "stdout",
     "output_type": "stream",
     "text": [
      "\n",
      "\u001b[94m\u001b[1mUsing experiment 🔬 \u001b[0m'sim_si'\u001b[94m\u001b[1m for \u001b[0m'single'\u001b[94m\u001b[1m fitting\u001b[0m\n",
      "🚀 Starting fit process with 'lmfit (leastsq)'...\n",
      "📈 Goodness-of-fit (reduced χ²) change:\n"
     ]
    },
    {
     "data": {
      "text/html": [
       "<table class=\"dataframe\" style=\"border-collapse: collapse; border: 1px solid #515155; margin-left: 0.5em;margin-top: 0.5em;margin-bottom: 1em;\">\n",
       "  <thead>\n",
       "    <tr style=\"text-align: right;\">\n",
       "      <th style=\"text-align: center;\">iteration</th>\n",
       "      <th style=\"text-align: center;\">χ²</th>\n",
       "      <th style=\"text-align: center;\">improvement [%]</th>\n",
       "    </tr>\n",
       "  </thead>\n",
       "  <tbody>\n",
       "    <tr>\n",
       "      <td><div style=\"text-align: center;\">1</div></td>\n",
       "      <td><div style=\"text-align: center;\">33.88</div></td>\n",
       "      <td><div style=\"text-align: center;\"></div></td>\n",
       "    </tr>\n",
       "    <tr>\n",
       "      <td><div style=\"text-align: center;\">19</div></td>\n",
       "      <td><div style=\"text-align: center;\">4.11</div></td>\n",
       "      <td><div style=\"text-align: center;\">87.9% ↓</div></td>\n",
       "    </tr>\n",
       "    <tr>\n",
       "      <td><div style=\"text-align: center;\">35</div></td>\n",
       "      <td><div style=\"text-align: center;\">2.33</div></td>\n",
       "      <td><div style=\"text-align: center;\">43.4% ↓</div></td>\n",
       "    </tr>\n",
       "    <tr>\n",
       "      <td><div style=\"text-align: center;\">116</div></td>\n",
       "      <td><div style=\"text-align: center;\">2.31</div></td>\n",
       "      <td><div style=\"text-align: center;\"></div></td>\n",
       "    </tr>\n",
       "  </tbody>\n",
       "</table>"
      ],
      "text/plain": [
       "<IPython.core.display.HTML object>"
      ]
     },
     "metadata": {},
     "output_type": "display_data"
    },
    {
     "name": "stdout",
     "output_type": "stream",
     "text": [
      "🏆 Best goodness-of-fit (reduced χ²) is 2.31 at iteration 115\n",
      "✅ Fitting complete.\n",
      "\n",
      "\u001b[94m\u001b[1mFit results\u001b[0m\n",
      "✅ Success: True\n",
      "⏱️ Fitting time: 1.21 seconds\n",
      "📏 Goodness-of-fit (reduced χ²): 2.31\n",
      "📏 R-factor (Rf): 6.87%\n",
      "📏 R-factor squared (Rf²): 5.52%\n",
      "📏 Weighted R-factor (wR): 5.60%\n",
      "📈 Fitted parameters:\n"
     ]
    },
    {
     "data": {
      "text/html": [
       "<table class=\"dataframe\" style=\"border-collapse: collapse; border: 1px solid #515155; margin-left: 0.5em;margin-top: 0.5em;margin-bottom: 1em;\">\n",
       "  <thead>\n",
       "    <tr style=\"text-align: right;\">\n",
       "      <th></th>\n",
       "      <th style=\"text-align: left;\">datablock</th>\n",
       "      <th style=\"text-align: left;\">category</th>\n",
       "      <th style=\"text-align: left;\">entry</th>\n",
       "      <th style=\"text-align: left;\">parameter</th>\n",
       "      <th style=\"text-align: right;\">start</th>\n",
       "      <th style=\"text-align: right;\">fitted</th>\n",
       "      <th style=\"text-align: right;\">uncertainty</th>\n",
       "      <th style=\"text-align: left;\">units</th>\n",
       "      <th style=\"text-align: right;\">change</th>\n",
       "    </tr>\n",
       "  </thead>\n",
       "  <tbody>\n",
       "    <tr>\n",
       "      <th>1</th>\n",
       "      <td><div style=\"text-align: left;\">sim_si</div></td>\n",
       "      <td><div style=\"text-align: left;\">background</div></td>\n",
       "      <td><div style=\"text-align: left;\">50000</div></td>\n",
       "      <td><div style=\"text-align: left;\">y</div></td>\n",
       "      <td><div style=\"text-align: right;\">0.0100</div></td>\n",
       "      <td><div style=\"text-align: right;\">-0.0094</div></td>\n",
       "      <td><div style=\"text-align: right;\">0.0068</div></td>\n",
       "      <td><div style=\"text-align: left;\"></div></td>\n",
       "      <td><div style=\"text-align: right;\">193.92 % ↓</div></td>\n",
       "    </tr>\n",
       "    <tr>\n",
       "      <th>2</th>\n",
       "      <td><div style=\"text-align: left;\">sim_si</div></td>\n",
       "      <td><div style=\"text-align: left;\">background</div></td>\n",
       "      <td><div style=\"text-align: left;\">60000</div></td>\n",
       "      <td><div style=\"text-align: left;\">y</div></td>\n",
       "      <td><div style=\"text-align: right;\">0.0100</div></td>\n",
       "      <td><div style=\"text-align: right;\">0.0051</div></td>\n",
       "      <td><div style=\"text-align: right;\">0.0014</div></td>\n",
       "      <td><div style=\"text-align: left;\"></div></td>\n",
       "      <td><div style=\"text-align: right;\">49.32 % ↓</div></td>\n",
       "    </tr>\n",
       "    <tr>\n",
       "      <th>3</th>\n",
       "      <td><div style=\"text-align: left;\">sim_si</div></td>\n",
       "      <td><div style=\"text-align: left;\">background</div></td>\n",
       "      <td><div style=\"text-align: left;\">70000</div></td>\n",
       "      <td><div style=\"text-align: left;\">y</div></td>\n",
       "      <td><div style=\"text-align: right;\">0.0100</div></td>\n",
       "      <td><div style=\"text-align: right;\">0.0225</div></td>\n",
       "      <td><div style=\"text-align: right;\">0.0016</div></td>\n",
       "      <td><div style=\"text-align: left;\"></div></td>\n",
       "      <td><div style=\"text-align: right;\">125.05 % ↑</div></td>\n",
       "    </tr>\n",
       "    <tr>\n",
       "      <th>4</th>\n",
       "      <td><div style=\"text-align: left;\">sim_si</div></td>\n",
       "      <td><div style=\"text-align: left;\">background</div></td>\n",
       "      <td><div style=\"text-align: left;\">80000</div></td>\n",
       "      <td><div style=\"text-align: left;\">y</div></td>\n",
       "      <td><div style=\"text-align: right;\">0.0100</div></td>\n",
       "      <td><div style=\"text-align: right;\">0.0242</div></td>\n",
       "      <td><div style=\"text-align: right;\">0.0014</div></td>\n",
       "      <td><div style=\"text-align: left;\"></div></td>\n",
       "      <td><div style=\"text-align: right;\">142.07 % ↑</div></td>\n",
       "    </tr>\n",
       "    <tr>\n",
       "      <th>5</th>\n",
       "      <td><div style=\"text-align: left;\">sim_si</div></td>\n",
       "      <td><div style=\"text-align: left;\">background</div></td>\n",
       "      <td><div style=\"text-align: left;\">90000</div></td>\n",
       "      <td><div style=\"text-align: left;\">y</div></td>\n",
       "      <td><div style=\"text-align: right;\">0.0100</div></td>\n",
       "      <td><div style=\"text-align: right;\">0.0247</div></td>\n",
       "      <td><div style=\"text-align: right;\">0.0010</div></td>\n",
       "      <td><div style=\"text-align: left;\"></div></td>\n",
       "      <td><div style=\"text-align: right;\">147.08 % ↑</div></td>\n",
       "    </tr>\n",
       "    <tr>\n",
       "      <th>6</th>\n",
       "      <td><div style=\"text-align: left;\">sim_si</div></td>\n",
       "      <td><div style=\"text-align: left;\">background</div></td>\n",
       "      <td><div style=\"text-align: left;\">100000</div></td>\n",
       "      <td><div style=\"text-align: left;\">y</div></td>\n",
       "      <td><div style=\"text-align: right;\">0.0100</div></td>\n",
       "      <td><div style=\"text-align: right;\">0.0226</div></td>\n",
       "      <td><div style=\"text-align: right;\">0.0017</div></td>\n",
       "      <td><div style=\"text-align: left;\"></div></td>\n",
       "      <td><div style=\"text-align: right;\">125.88 % ↑</div></td>\n",
       "    </tr>\n",
       "    <tr>\n",
       "      <th>7</th>\n",
       "      <td><div style=\"text-align: left;\">sim_si</div></td>\n",
       "      <td><div style=\"text-align: left;\">background</div></td>\n",
       "      <td><div style=\"text-align: left;\">110000</div></td>\n",
       "      <td><div style=\"text-align: left;\">y</div></td>\n",
       "      <td><div style=\"text-align: right;\">0.0100</div></td>\n",
       "      <td><div style=\"text-align: right;\">0.0192</div></td>\n",
       "      <td><div style=\"text-align: right;\">0.0040</div></td>\n",
       "      <td><div style=\"text-align: left;\"></div></td>\n",
       "      <td><div style=\"text-align: right;\">91.73 % ↑</div></td>\n",
       "    </tr>\n",
       "    <tr>\n",
       "      <th>8</th>\n",
       "      <td><div style=\"text-align: left;\">sim_si</div></td>\n",
       "      <td><div style=\"text-align: left;\">linked_phases</div></td>\n",
       "      <td><div style=\"text-align: left;\">si</div></td>\n",
       "      <td><div style=\"text-align: left;\">scale</div></td>\n",
       "      <td><div style=\"text-align: right;\">1.0000</div></td>\n",
       "      <td><div style=\"text-align: right;\">1.4540</div></td>\n",
       "      <td><div style=\"text-align: right;\">0.0071</div></td>\n",
       "      <td><div style=\"text-align: left;\"></div></td>\n",
       "      <td><div style=\"text-align: right;\">45.40 % ↑</div></td>\n",
       "    </tr>\n",
       "    <tr>\n",
       "      <th>9</th>\n",
       "      <td><div style=\"text-align: left;\">sim_si</div></td>\n",
       "      <td><div style=\"text-align: left;\">peak</div></td>\n",
       "      <td><div style=\"text-align: left;\"></div></td>\n",
       "      <td><div style=\"text-align: left;\">asym_alpha_0</div></td>\n",
       "      <td><div style=\"text-align: right;\">-0.0055</div></td>\n",
       "      <td><div style=\"text-align: right;\">-0.0066</div></td>\n",
       "      <td><div style=\"text-align: right;\">0.0005</div></td>\n",
       "      <td><div style=\"text-align: left;\"></div></td>\n",
       "      <td><div style=\"text-align: right;\">20.30 % ↑</div></td>\n",
       "    </tr>\n",
       "    <tr>\n",
       "      <th>10</th>\n",
       "      <td><div style=\"text-align: left;\">sim_si</div></td>\n",
       "      <td><div style=\"text-align: left;\">peak</div></td>\n",
       "      <td><div style=\"text-align: left;\"></div></td>\n",
       "      <td><div style=\"text-align: left;\">asym_alpha_1</div></td>\n",
       "      <td><div style=\"text-align: right;\">0.0147</div></td>\n",
       "      <td><div style=\"text-align: right;\">0.0159</div></td>\n",
       "      <td><div style=\"text-align: right;\">0.0007</div></td>\n",
       "      <td><div style=\"text-align: left;\"></div></td>\n",
       "      <td><div style=\"text-align: right;\">7.87 % ↑</div></td>\n",
       "    </tr>\n",
       "    <tr>\n",
       "      <th>11</th>\n",
       "      <td><div style=\"text-align: left;\">sim_si</div></td>\n",
       "      <td><div style=\"text-align: left;\">peak</div></td>\n",
       "      <td><div style=\"text-align: left;\"></div></td>\n",
       "      <td><div style=\"text-align: left;\">gauss_sigma_0</div></td>\n",
       "      <td><div style=\"text-align: right;\">69498.0000</div></td>\n",
       "      <td><div style=\"text-align: right;\">87503.6603</div></td>\n",
       "      <td><div style=\"text-align: right;\">7064.8898</div></td>\n",
       "      <td><div style=\"text-align: left;\">µs²</div></td>\n",
       "      <td><div style=\"text-align: right;\">25.91 % ↑</div></td>\n",
       "    </tr>\n",
       "    <tr>\n",
       "      <th>12</th>\n",
       "      <td><div style=\"text-align: left;\">sim_si</div></td>\n",
       "      <td><div style=\"text-align: left;\">peak</div></td>\n",
       "      <td><div style=\"text-align: left;\"></div></td>\n",
       "      <td><div style=\"text-align: left;\">gauss_sigma_1</div></td>\n",
       "      <td><div style=\"text-align: right;\">-55578.0000</div></td>\n",
       "      <td><div style=\"text-align: right;\">-66953.2238</div></td>\n",
       "      <td><div style=\"text-align: right;\">8731.0313</div></td>\n",
       "      <td><div style=\"text-align: left;\">µs/Å</div></td>\n",
       "      <td><div style=\"text-align: right;\">20.47 % ↑</div></td>\n",
       "    </tr>\n",
       "    <tr>\n",
       "      <th>13</th>\n",
       "      <td><div style=\"text-align: left;\">sim_si</div></td>\n",
       "      <td><div style=\"text-align: left;\">peak</div></td>\n",
       "      <td><div style=\"text-align: left;\"></div></td>\n",
       "      <td><div style=\"text-align: left;\">gauss_sigma_2</div></td>\n",
       "      <td><div style=\"text-align: right;\">14560.0000</div></td>\n",
       "      <td><div style=\"text-align: right;\">16276.4795</div></td>\n",
       "      <td><div style=\"text-align: right;\">2444.4594</div></td>\n",
       "      <td><div style=\"text-align: left;\">µs²/Å²</div></td>\n",
       "      <td><div style=\"text-align: right;\">11.79 % ↑</div></td>\n",
       "    </tr>\n",
       "    <tr>\n",
       "      <th>14</th>\n",
       "      <td><div style=\"text-align: left;\">sim_si</div></td>\n",
       "      <td><div style=\"text-align: left;\">peak</div></td>\n",
       "      <td><div style=\"text-align: left;\"></div></td>\n",
       "      <td><div style=\"text-align: left;\">mix_beta_0</div></td>\n",
       "      <td><div style=\"text-align: right;\">0.0019</div></td>\n",
       "      <td><div style=\"text-align: right;\">0.0008</div></td>\n",
       "      <td><div style=\"text-align: right;\">0.0001</div></td>\n",
       "      <td><div style=\"text-align: left;\">deg</div></td>\n",
       "      <td><div style=\"text-align: right;\">58.68 % ↓</div></td>\n",
       "    </tr>\n",
       "    <tr>\n",
       "      <th>15</th>\n",
       "      <td><div style=\"text-align: left;\">sim_si</div></td>\n",
       "      <td><div style=\"text-align: left;\">peak</div></td>\n",
       "      <td><div style=\"text-align: left;\"></div></td>\n",
       "      <td><div style=\"text-align: left;\">mix_beta_1</div></td>\n",
       "      <td><div style=\"text-align: right;\">0.0137</div></td>\n",
       "      <td><div style=\"text-align: right;\">0.0190</div></td>\n",
       "      <td><div style=\"text-align: right;\">0.0010</div></td>\n",
       "      <td><div style=\"text-align: left;\">deg</div></td>\n",
       "      <td><div style=\"text-align: right;\">38.42 % ↑</div></td>\n",
       "    </tr>\n",
       "  </tbody>\n",
       "</table>"
      ],
      "text/plain": [
       "<IPython.core.display.HTML object>"
      ]
     },
     "metadata": {},
     "output_type": "display_data"
    }
   ],
   "source": [
    "project_1.analysis.fit()"
   ]
  },
  {
   "cell_type": "markdown",
   "id": "73",
   "metadata": {},
   "source": [
    "#### Check Fit Results\n",
    "You can\n",
    "see that the agreement between the measured and calculated diffraction\n",
    "patterns is now much improved and that the intensities of the\n",
    "calculated peaks align much better with the measured peaks. To check the\n",
    "quality of the fit numerically, we can look at the goodness-of-fit\n",
    "χ² value and the reliability R-factors. The χ² value is a measure of how well\n",
    "the calculated diffraction pattern matches the measured pattern, and it is\n",
    "calculated as the sum of the squared differences between the measured and\n",
    "calculated intensities, divided by the number of data points. Ideally, the\n",
    "χ² value should be close to 1, indicating a good fit."
   ]
  },
  {
   "cell_type": "markdown",
   "id": "74",
   "metadata": {},
   "source": [
    "#### Visualize Fit Results\n",
    "\n",
    "After the fit is completed, we can plot the comparison between the\n",
    "measured and calculated diffraction patterns again to see how well the fit\n",
    "improved the agreement between the two. The calculated diffraction pattern\n",
    "is now based on the refined parameters."
   ]
  },
  {
   "cell_type": "code",
   "execution_count": 26,
   "id": "75",
   "metadata": {
    "execution": {
     "iopub.execute_input": "2025-08-31T19:33:11.484022Z",
     "iopub.status.busy": "2025-08-31T19:33:11.482515Z",
     "iopub.status.idle": "2025-08-31T19:33:11.684253Z",
     "shell.execute_reply": "2025-08-31T19:33:11.683549Z"
    }
   },
   "outputs": [
    {
     "data": {
      "text/html": [
       "<div>                        <script type=\"text/javascript\">window.PlotlyConfig = {MathJaxConfig: 'local'};</script>\n",
       "        <script charset=\"utf-8\" src=\"https://cdn.plot.ly/plotly-3.1.0.min.js\" integrity=\"sha256-Ei4740bWZhaUTQuD6q9yQlgVCMPBz6CZWhevDYPv93A=\" crossorigin=\"anonymous\"></script>                <div id=\"4e51e202-0d36-4a9d-975a-748d5a053ea0\" class=\"plotly-graph-div\" style=\"height:100%; width:100%;\"></div>            <script type=\"text/javascript\">                window.PLOTLYENV=window.PLOTLYENV || {};                                if (document.getElementById(\"4e51e202-0d36-4a9d-975a-748d5a053ea0\")) {                    Plotly.newPlot(                        \"4e51e202-0d36-4a9d-975a-748d5a053ea0\",                        [{\"line\":{\"color\":\"rgb(31, 119, 180)\"},\"mode\":\"lines+markers\",\"name\":\"Measured (Imeas)\",\"x\":{\"dtype\":\"f8\",\"bdata\":\"RPrt657p6kCWIY51+\\u002fjqQOlILv9XCOtAO3DOiLQX60B24JwRESfrQMgHPZttNutAGy\\u002fdJMpF60BtVn2uJlXrQL99HTiDZOtAEqW9wd9z60BkzF1LPIPrQLbz\\u002fdSYkutA8WPMXfWh60BEi2znUbHrQJayDHGuwOtA6Nms+grQ60A7AU2EZ9\\u002frQI0o7Q3E7utA30+NlyD+60AawFsgfQ3sQG3n+6nZHOxAvw6cMzYs7EARNjy9kjvsQGRd3EbvSuxAtoR80Eta7EAIrBxaqGnsQFvTvOMEeexAlkOLbGGI7EDoaiv2vZfsQDqSy38ap+xAjLlrCXe27EDf4AuT08XsQDEIrBww1exAgy9Mpozk7EC+nxov6fPsQBHHurhFA+1AY+5aQqIS7UC1FfvL\\u002fiHtQAg9m1VbMe1AWmQ737dA7UCsi9toFFDtQOf7qfFwX+1AOiNKe81u7UCMSuoEKn7tQN5xio6Gje1AMZkqGOOc7UCDwMqhP6ztQNXnaiucu+1AKA8LtfjK7UBjf9k9VdrtQLWmecex6e1AB84ZUQ757UBa9bnaagjuQKwcWmTHF+5A\\u002fkP67SMn7kBRa5p3gDbuQIzbaADdRe5A3gIJijlV7kAwKqkTlmTuQINRSZ3yc+5A1XjpJk+D7kAnoImwq5LuQHrHKToIou5AzO7Jw2Sx7kAHX5hMwcDuQFmGONYd0O5ArK3YX3rf7kD+1Hjp1u7uQFD8GHMz\\u002fu5AoyO5\\u002fI8N70D1SlmG7BzvQDC7Jw9JLO9AguLHmKU770DVCWgiAkvvQCcxCKxeWu9AeVioNbtp70DMf0i\\u002fF3nvQB6n6Eh0iO9AcM6I0tCX70CrPldbLafvQP5l9+SJtu9AUI2XbubF70CitDf4QtXvQPXb14Gf5O9ARwN4C\\u002fzz70BNFYxKrAHwQGpN845aCfBAE2HD0wgR8EC8dJMYtxjwQGaIY11lIPBAD5wzohMo8EC4rwPnwS\\u002fwQGHD0ytwN\\u002fBACtejcB4\\u002f8EAoDwu1zEbwQNEi2\\u002fl6TvBAejarPilW8EAjSnuD113wQMxdS8iFZfBAdnEbDTRt8EAfhetR4nTwQDy9UpaQfPBA5dAi2z6E8ECP5PIf7YvwQDj4wmSbk\\u002fBA4QuTqUmb8ECKH2Pu96LwQDMzMzOmqvBA3EYDeFSy8ED6fmq8ArrwQKOSOgGxwfBATKYKRl\\u002fJ8ED1udqKDdHwQJ\\u002fNqs+72PBASOF6FGrg8EDx9EpZGOjwQA4tsp3G7\\u002fBAuECC4nT38EBhVFInI\\u002f\\u002fwQApoImzRBvFAs3vysH8O8UBcj8L1LRbxQAWjkjrcHfFArrZif4ol8UDM7snDOC3xQHUCmgjnNPFAHhZqTZU88UDHKTqSQ0TxQHE9CtfxS\\u002fFAGlHaG6BT8UDDZKpgTlvxQOCcEaX8YvFAirDh6apq8UAzxLEuWXLxQNzXgXMHevFAhetRuLWB8UAu\\u002fyH9Y4nxQNcS8kESkfFAgSbChsCY8UCeXinLbqDxQEdy+Q8dqPFA8IXJVMuv8UCamZmZebfxQEOtad4nv\\u002fFA7MA5I9bG8UCV1AlohM7xQLMMcawy1vFAXCBB8eDd8UAFNBE2j+XxQK5H4Xo97fFAV1uxv+v08UAAb4EEmvzxQKqCUUlIBPJAU5YhjvYL8kBwzojSpBPyQBniWBdTG\\u002fJAw\\u002fUoXAEj8kBsCfmgryryQBUdyeVdMvJAvjCZKgw68kBnRGlvukHyQIV80LNoSfJALpCg+BZR8kDXo3A9xVjyQIC3QIJzYPJAKcsQxyFo8kDT3uAL0G\\u002fyQHzysFB+d\\u002fJAJQaBlSx\\u002f8kBCPujZ2obyQOxRuB6JjvJAlWWIYzeW8kA+eVio5Z3yQOeMKO2TpfJAkKD4MUKt8kA5tMh28LTyQFfsL7uevPJAAAAAAE3E8kCpE9BE+8vyQFInoImp0\\u002fJA+zpwzlfb8kClTkATBuPyQE5iEFi06vJAa5p3nGLy8kAUrkfhEPryQL7BFya\\u002fAfNAZ9Xnam0J80AQ6bevGxHzQLn8h\\u002fTJGPNAYhBYOXgg80ALJCh+JijzQClcj8LUL\\u002fNA0m9fB4M380B7gy9MMT\\u002fzQCSX\\u002f5DfRvNAzqrP1Y1O80B3vp8aPFbzQCDSb1\\u002fqXfNAPQrXo5hl80DnHafoRm3zQJAxdy31dPNAOUVHcqN880DiWBe3UYTzQIts5\\u002fv\\u002fi\\u002fNANIC3QK6T80Dek4eFXJvzQPvL7skKo\\u002fNApN++Drmq80BN845TZ7LzQPcGX5gVuvNAoBov3cPB80BJLv8hcsnzQPJBz2Yg0fNAEHo2q87Y80C5jQbwfODzQGKh1jQr6PNAC7Wmednv80C0yHa+h\\u002ffzQF3cRgM2\\u002f\\u002fNAB\\u002fAWSOQG9ECwA+eMkg70QM07TtFAFvRAdk8eFu8d9EAgY+5anSX0QMl2vp9LLfRAcoqO5Pk09EAbnl4pqDz0QMSxLm5WRPRA4umVsgRM9ECL\\u002fWX3slP0QDQRNjxhW\\u002fRA3SQGgQ9j9ECGONbFvWr0QDBMpgpscvRA2V92Txp69ECCc0aUyIH0QJ+rrdh2ifRASL99HSWR9EDy0k1i05j0QJvmHaeBoPRARPrt6y+o9EDtDb4w3q\\u002f0QJYhjnWMt\\u002fRAtFn1uTq\\u002f9EBdbcX+6Mb0QAaBlUOXzvRAr5RliEXW9EBYqDXN8930QAK8BRKi5fRAq8\\u002fVVlDt9EBU46Wb\\u002fvT0QHEbDeCs\\u002fPRAGy\\u002fdJFsE9UDEQq1pCQz1QG1Wfa63E\\u002fVAFmpN82Ub9UC\\u002ffR04FCP1QGiR7XzCKvVAhslUwXAy9UAv3SQGHzr1QNjw9ErNQfVAgQTFj3tJ9UArGJXUKVH1QNQrZRnYWPVAfT81XoZg9UAmUwWjNGj1QESLbOfib\\u002fVA7Z48LJF39UCWsgxxP3\\u002f1QD\\u002fG3LXthvVA6Nms+puO9UCR7Xw\\u002fSpb1QDsBTYT4nfVAWDm0yKal9UABTYQNVa31QKpgVFIDtfVAVHQkl7G89UD9h\\u002fTbX8T1QKabxCAOzPVAT6+UZbzT9UD4wmSqatv1QBb7y+4Y4\\u002fVAvw6cM8fq9UBoImx4dfL1QBE2PL0j+vVAukkMAtIB9kBkXdxGgAn2QA1xrIsuEfZAKqkT0NwY9kDTvOMUiyD2QH3Qs1k5KPZAJuSDnucv9kDP91PjlTf2QHgLJChEP\\u002fZAIR\\u002f0bPJG9kDKMsSxoE72QOhqK\\u002fZOVvZAkX77Ov1d9kA6kst\\u002fq2X2QOOlm8RZbfZAjLlrCQh19kA2zTtOtnz2QN\\u002fgC5NkhPZA\\u002fBhz1xKM9kClLEMcwZP2QE9AE2Fvm\\u002fZA+FPjpR2j9kChZ7Pqy6r2QEp7gy96svZA845TdCi69kCcoiO51sH2QLraiv2EyfZAY+5aQjPR9kAMAiuH4dj2QLUV+8uP4PZAXynLED7o9kAIPZtV7O\\u002f2QLFQa5qa9\\u002fZAzojS3kj\\u002f9kB4nKIj9wb3QCGwcmilDvdAysNCrVMW90Bz1xLyAR73QBzr4jawJfdAxf6ye14t90DjNhrADDX3QIxK6gS7PPdANV66SWlE90DecYqOF0z3QIiFWtPFU\\u002fdAMZkqGHRb90DarPpcImP3QIPAyqHQavdAofgx5n5y90BKDAIrLXr3QPMf0m\\u002fbgfdAnDOitImJ90BFR3L5N5H3QO5aQj7mmPdAmG4Sg5Sg90C1pnnHQqj3QF66SQzxr\\u002fdAB84ZUZ+390Cx4emVTb\\u002f3QFr1udr7xvdAAwmKH6rO90CsHFpkWNb3QFUwKqkG3vdAc2iR7bTl90AcfGEyY+33QMWPMXcR9fdAbqMBvL\\u002f890AXt9EAbgT4QMHKoUUcDPhAat5xisoT+ECHFtnOeBv4QDAqqRMnI\\u002fhA2T15WNUq+ECDUUmdgzL4QCxlGeIxOvhA1XjpJuBB+EB+jLlrjkn4QCegibA8UfhARdjw9OpY+EDu68A5mWD4QJf\\u002fkH5HaPhAQBNhw\\u002fVv+EDpJjEIpHf4QJM6AU1Sf\\u002fhAPE7RkQCH+EBZhjjWro74QAKaCBtdlvhArK3YXwue+EBVwaikuaX4QP7UeOlnrfhAp+hILha1+EBQ\\u002fBhzxLz4QPkP6bdyxPhAF0hQ\\u002fCDM+EDAWyBBz9P4QGlv8IV92\\u002fhAEoPAyivj+EC8lpAP2ur4QGWqYFSI8vhADr4wmTb6+EAr9pfd5AH5QNUJaCKTCflAfh04Z0ER+UAnMQis7xj5QNBE2PCdIPlAeVioNUwo+UAibHh6+i\\u002f5QMx\\u002fSL+oN\\u002flA6bevA1c\\u002f+UCSy39IBUf5QDvfT42zTvlA5fIf0mFW+UCOBvAWEF75QDcawFu+ZflA4C2QoGxt+UD+ZffkGnX5QKd5xynJfPlAUI2XbneE+UD5oGezJYz5QKK0N\\u002fjTk\\u002flAS8gHPYKb+UD129eBMKP5QJ7vp8beqvlAuycPC42y+UBkO99PO7r5QA==\"},\"y\":{\"dtype\":\"f8\",\"bdata\":\"HymN\\u002fpQCcz8EQ\\u002fP83FicP7rfG90AHYQ\\u002f3jY2baGerT+aIDulIMiCP1i1RZHnqLo\\u002fqMXqUFtzxD+34g+VBeTYP7wjYBdAl\\u002fQ\\u002fuKRu5Un3AEAa8KRMqtkEQNuewvcF7wBAQyphkRIe8z\\u002f+ynbo\\u002fZHiP3ZXv6AaiMI\\u002fnAYQpq30qD8RbRhzS0mIP3\\u002fdBZaHJnQ\\u002fdJxgkhpqhT+nA+eya5KQP00\\u002fUoXz4ok\\u002fuk+XZae2dD94zWh1S6KRP2SDYyTwq5Y\\u002fmL00dy4xVD8AkUE0V6GlP0QMvgqcmrI\\u002ftQQOnFQCxT9KgM8Vx2HZP7s\\u002fjH1O3+U\\u002fOM70Aps98z9QOSN0q\\u002fD3P9NugVSv6PQ\\u002fhHBdJh7L5T92AsqLnj7WP\\u002fR1CzTLv7k\\u002fiekefId6nj+lC4kZqVOdP5okXuIcZZ4\\u002fL+S\\u002fM3wVoT\\u002fnOB1VhB9wP9g391njmGM\\u002fmyqfHU7gpj+\\u002fku0DYo+MP++xjz\\u002fB2ZY\\u002faHCo1uVJmT9TwXZISFF7P0unJZYA3aI\\u002fden3sMWUiz9BSDByOQmaPxcqgZmIRZ4\\u002fmt69mBRlnT9kEevVbIucP65BT9\\u002fFUI0\\u002f7xliSWOpoT8fHNeNM1+HPxKw3DYFeoQ\\u002fiHPgbD9Emz8RVsD7tr6QPygJhlsDepA\\u002feBFJq9VSjD+7mmH+TH6gP7M91f7+Ips\\u002fGX8IKC\\u002fuoT+9h8T96KqSP3kZpmzRXqM\\u002fCCp+yF75qj\\u002f4LmhLDWO3P1jePFMjerY\\u002fCBrnlG76yj+1Wp5gkNLYPy8XgD0K4Oo\\u002flg00ROYF+j+c8kswLTsEQJuoeRRgVgVA6FTxlGcXAECK4C2OVr7wP1\\u002fV55Z2EOI\\u002fvZDHwSzGyj8sfZtdtIuzP8nIjojEo58\\u002fTVR\\u002fMLWRmT+JN\\u002fjaMzaXP1cRO26x0oA\\u002f\\u002fzrctIAGlz9znGZoVhuSPwPw7wANTZk\\u002f2cuq1S0vkj+my++kIFiIPzTRwcEOUZs\\u002fszveIACLlj96cI8sN92bP21\\u002fahS1V4g\\u002ffUniDxuIoT8thhfdv\\u002fOZP7Hph3QBM5s\\u002fSrpK48j7qz8gXBBpCfiuPxKB77hR\\u002fbA\\u002fGC71qY1Gvz+h5b+jCHLFP\\u002fJinRascNw\\u002fZSHRtmgg7j+LxijTf2L+PxSd8mXF\\u002fQ5AFXM5r8uoFUAvdaHSh34UQCBirUqvYApAOTPrqLv09z95UktUzq\\u002fmP1yXVAfcNdU\\u002f9ucrLtM+wz8fwyNyC3uxP657k9HB7qo\\u002f0NKpO9aZkz+ATl841nyVP5sd22B\\u002fo5w\\u002fliXS03RPoz\\u002fzoDH5tNyUP95dilaT+Ic\\u002fPLFylk4fkz\\u002fpu1xl2aSVP1JxbFUghZc\\u002fmMxiZX6uoD+YeUtzb6iMPwHXluydq5k\\u002fRoVeLFZmoT8xvxrM45uWPzXyMoJOfpk\\u002fHk3YLJ4CjD+Jfny6ipCXPwgB6xPMlJY\\u002fObrQbzv1oj8SXwzn1JmRP2et6jpZHpY\\u002f6LYFw8SImj9Ln2oq94OYPxx6WPb3iZw\\u002fIsDtsAAqnz\\u002fOy\\u002foApN+ZP2he+PsZpJ4\\u002fNUSXqvQslj\\u002fPgKJ05rOVP8cOf2r3bIk\\u002fhB5ui1YjkT9J4aqR\\u002fzyYP0W2ASP\\u002fy5g\\u002ffZI1QDJsmz9lanDarGulPxrUZqLgQJo\\u002fDP7AKsl1nz+OjDX57LebP4cacvU1PJM\\u002fOn26k2frjD9VtmGdKnWfP4hAN9CoKJU\\u002fZY\\u002fVi4Kqiz9uLAN0h6yUPy1b3sbKY5E\\u002f8H1ZFosAkz9wn+6R4biUP53zTL4TCpQ\\u002fvDnVzzddmz+a6IV05gSaP53pJUkK86c\\u002f6cLhGgu8oz+o8NliOveyP6Lvaadj9LI\\u002fqXqGEN2ZwD+JxktrUb7PPytenYHrNN4\\u002f0xsuPc2b8T99Q9ISX1gDQPFzm2QxBRBA2c9hP8oVE0CxgxxxZIUPQIwJ4KiIqQJAA2lTUmwe8j87ZYg4rRDgP0mU6CtTgM8\\u002fkU4rVwBUvz9lCSd8vAe4P6y8ZC\\u002fAK6k\\u002fAmik38pVoD+QOqJnPA2gP6HrKLOOL6A\\u002fdfKrQZtVmD8S5+V5VW+aP4\\u002fq6BUhWZ0\\u002ff+GC06tHkj8CYIJ6KFOSPwHQfY\\u002fvnJg\\u002fqMG1AT1\\u002flz\\u002fbjScHOOGbP8Iml1j\\u002fsJo\\u002fCF4BbnqNmj\\u002fyicWsjvacP1rqu1NpVZs\\u002ffQRbFEBykD9j2wPHm+eVP8jD7xoMbJY\\u002fA3yL2U8OnT\\u002fFrESpk8WLP7NRwVmhPJI\\u002faF1nhQk5nz+mRDr8IyahP74YZu133ps\\u002ft1xA4nzEmj\\u002f3Hj7gUkyePwJE2yQbvJc\\u002fznZ1CKWJmj\\u002fRxHKGXSeYP50YCGKDCZc\\u002fUDQXuDNcmz9yXSc2ZhCbP4SsuHHIM6U\\u002fY9xGQtNBmz+4DRFU9IGfP5zlatf3aKI\\u002fiYiYNGvdmD8yKEWMbYSjP9vNjxOicaY\\u002fzJaNz3FDsD99wTzOYRS4P8EslZRkosM\\u002fTdjliaCw0D8\\u002ff656N2vfP9GftcyrEvA\\u002fJMwT2eAC\\u002fj8bFVFj\\u002fL8FQK+f4ek4hwlAqMrfYkMlBkCkEwjO4kr7P3zgTLsbsOs\\u002fIMZGvYX82T+Zq\\u002fYC4JfOP7bs2v9\\u002ftL4\\u002fVh8G+IIRtD\\u002fL5xlo8besPyehAMWv0ac\\u002fAYzsHGEDpD9qSxddf5KdP0MoaBqHdJk\\u002fm74rYN5qnD8IIfp0F+2VP1avgjm6fZ8\\u002f8KPU92yVlT\\u002fLw+nT6TaePwoNxJdJ7Zw\\u002fqM25ER1Zmz+PhNt2ksuhP\\u002fDyYRojNpw\\u002fZclw+buEmz8ZIGuaPyifPwwq5sfBP5c\\u002f05z+UOwknz9zsiMw3X2YP5Cwho3E86E\\u002fwhxFyDwNnj93cAVrbFiSP+SyuFpfkZU\\u002ffFVcM2F6mT+NZ\\u002f9eY0ubP9Q5qdw2FaI\\u002fElk8xdu0mj9Yj9hFmqSXP5g1Lq2rZqA\\u002fw05FT+l6mz8XeEv3XEqWP4AZXv9oHpE\\u002fSWIMCWzbmT+LZkQFnpuKP0rIbaW2ypY\\u002f6+AlE9gAnT+1kpTvtCOWP5nVSPajT5Y\\u002frQbG7eKDmj+wcSJTGLuZP29VxDzEN5k\\u002fpus37dfVmz+ZuhYy\\u002fGCUP57zzA7U85c\\u002ftDWCXdC+lj8UPGicSGSUP2P\\u002fc45Qo5Y\\u002fdw8QxTeImj8\\u002fYD8ZkSyZP5zQdzPKFJg\\u002f\\u002fJV2aDSgmD9T4KJ8Y++bP31BP7MqCaY\\u002fNLTNYqbJlz\\u002fLSrv60E+RP6zMZ9HExZg\\u002fWGbooZWZnD\\u002fakOc04lCWPxspPJg4KJk\\u002fZxVyIJg+lT+add5O5bSaPx3X1NYrd6A\\u002fjsfBzqdAlD9Typ0ZLKWYP3LMoU09qaA\\u002fj15aqWaFlz8\\u002fqj98RsSXP9+Pf7rCHJ8\\u002fkXUh4EW4oT9SoVK2QTKeP82b7uMnJ6I\\u002f\\u002fqEchm4GmD8b2TXWNpqXP8UHcEl23Js\\u002fCiG9mzQ5nD8YE1U7UPuaP9n2oHfmfJU\\u002f1cX\\u002fSSqxnj+UH1Y9h2ucP5y941n4lpg\\u002f5a+XhN8Xmz8WfOFxAPeYP2fquSqkeZk\\u002fE9ytjXvAlT9hiS4dTUmjP\\u002ffnDs9VjJs\\u002fQBeZbUs3mj\\u002f1zfFxCr2bPwb7bFtMfZo\\u002fo7L1SU3AlD\\u002f50aEa0M6ZP3hTC8a2QZY\\u002fhmqfKIIfmz81IND2U0ydPxFZcmOfGpk\\u002fj+LVSYQCmz8jj7QO9EGaP2CoFvzYrpo\\u002fkmPnjQZ5mj8IRjckWnyVP6ngC8C9HJk\\u002fzjKtoyGIlj9tNzRMBXKUPw4JLy320J4\\u002fV68IDuJWmj9j6oHO\\u002fQudP2gM7lzCYZs\\u002f6f8JiN51oD+EsXDBPLyaP5aI+EdBrps\\u002ftyJtcrAblD8rfZ6UmxGcP\\u002fjjgcWuIJk\\u002fbuZ94av3nj+i9bWiJkSjP7oJVDT5xJw\\u002f38VSX6eLqD9T7Rmia0WnPxga9Pc8LLI\\u002fAe3axFCZuD+iaxgY77bBP5xtFIBAeco\\u002f9eGaUi3c1D++SLL+4JvhP7jYUdn0J+k\\u002fMiGRgQjf8j94GTqzrjH8P82ztbhuRQNAEvzFo+XGC0BSkD1mno0TQJLQ5xoapxlAAUYfX1EfIUDHTrngdQAkQNNtW285ziJABUt9ErLRG0AqP5MNJycTQGs5+0vA0AlAGR1\\u002fv9SbAEA2Eo9+Sf74P\\u002fZALHieu\\u002fA\\u002fKXVhmzA+6D\\u002fQ4LDPnkXdP5P38qtCwNU\\u002f1jbX1epxyz8UG1opaWbBP4hdSm9oK7g\\u002f5KekZeP\\u002frD8S0bAyPhWrPxxUiQu86aI\\u002foUGDdattnz9qyubCmhKgP0WWfPtmPZo\\u002fo6y7vrxilD+uDq0P+I6bP+vF3MSPW6A\\u002fOgQTYYTJmj9C0YRtW7iaP0zvTo4gG5c\\u002f5J\\u002f7Ej9Smj9h4CC7ojiYPxHIxFmANZs\\u002f3Tl0sTagmz9U9bS55gOaP2H0OyKNBZk\\u002fXWxPZkhhlz\\u002fxqUPonaabP6g6kdjppZU\\u002fXbigPgpjmD8QwP9aTSiSP2XwfkOJrJI\\u002fF7SJDxzlkz\\u002f3w8G0J8SYPw==\"},\"type\":\"scatter\"},{\"line\":{\"color\":\"rgb(214, 39, 40)\"},\"mode\":\"lines\",\"name\":\"Total calculated (Icalc)\",\"x\":{\"dtype\":\"f8\",\"bdata\":\"RPrt657p6kCWIY51+\\u002fjqQOlILv9XCOtAO3DOiLQX60B24JwRESfrQMgHPZttNutAGy\\u002fdJMpF60BtVn2uJlXrQL99HTiDZOtAEqW9wd9z60BkzF1LPIPrQLbz\\u002fdSYkutA8WPMXfWh60BEi2znUbHrQJayDHGuwOtA6Nms+grQ60A7AU2EZ9\\u002frQI0o7Q3E7utA30+NlyD+60AawFsgfQ3sQG3n+6nZHOxAvw6cMzYs7EARNjy9kjvsQGRd3EbvSuxAtoR80Eta7EAIrBxaqGnsQFvTvOMEeexAlkOLbGGI7EDoaiv2vZfsQDqSy38ap+xAjLlrCXe27EDf4AuT08XsQDEIrBww1exAgy9Mpozk7EC+nxov6fPsQBHHurhFA+1AY+5aQqIS7UC1FfvL\\u002fiHtQAg9m1VbMe1AWmQ737dA7UCsi9toFFDtQOf7qfFwX+1AOiNKe81u7UCMSuoEKn7tQN5xio6Gje1AMZkqGOOc7UCDwMqhP6ztQNXnaiucu+1AKA8LtfjK7UBjf9k9VdrtQLWmecex6e1AB84ZUQ757UBa9bnaagjuQKwcWmTHF+5A\\u002fkP67SMn7kBRa5p3gDbuQIzbaADdRe5A3gIJijlV7kAwKqkTlmTuQINRSZ3yc+5A1XjpJk+D7kAnoImwq5LuQHrHKToIou5AzO7Jw2Sx7kAHX5hMwcDuQFmGONYd0O5ArK3YX3rf7kD+1Hjp1u7uQFD8GHMz\\u002fu5AoyO5\\u002fI8N70D1SlmG7BzvQDC7Jw9JLO9AguLHmKU770DVCWgiAkvvQCcxCKxeWu9AeVioNbtp70DMf0i\\u002fF3nvQB6n6Eh0iO9AcM6I0tCX70CrPldbLafvQP5l9+SJtu9AUI2XbubF70CitDf4QtXvQPXb14Gf5O9ARwN4C\\u002fzz70BNFYxKrAHwQGpN845aCfBAE2HD0wgR8EC8dJMYtxjwQGaIY11lIPBAD5wzohMo8EC4rwPnwS\\u002fwQGHD0ytwN\\u002fBACtejcB4\\u002f8EAoDwu1zEbwQNEi2\\u002fl6TvBAejarPilW8EAjSnuD113wQMxdS8iFZfBAdnEbDTRt8EAfhetR4nTwQDy9UpaQfPBA5dAi2z6E8ECP5PIf7YvwQDj4wmSbk\\u002fBA4QuTqUmb8ECKH2Pu96LwQDMzMzOmqvBA3EYDeFSy8ED6fmq8ArrwQKOSOgGxwfBATKYKRl\\u002fJ8ED1udqKDdHwQJ\\u002fNqs+72PBASOF6FGrg8EDx9EpZGOjwQA4tsp3G7\\u002fBAuECC4nT38EBhVFInI\\u002f\\u002fwQApoImzRBvFAs3vysH8O8UBcj8L1LRbxQAWjkjrcHfFArrZif4ol8UDM7snDOC3xQHUCmgjnNPFAHhZqTZU88UDHKTqSQ0TxQHE9CtfxS\\u002fFAGlHaG6BT8UDDZKpgTlvxQOCcEaX8YvFAirDh6apq8UAzxLEuWXLxQNzXgXMHevFAhetRuLWB8UAu\\u002fyH9Y4nxQNcS8kESkfFAgSbChsCY8UCeXinLbqDxQEdy+Q8dqPFA8IXJVMuv8UCamZmZebfxQEOtad4nv\\u002fFA7MA5I9bG8UCV1AlohM7xQLMMcawy1vFAXCBB8eDd8UAFNBE2j+XxQK5H4Xo97fFAV1uxv+v08UAAb4EEmvzxQKqCUUlIBPJAU5YhjvYL8kBwzojSpBPyQBniWBdTG\\u002fJAw\\u002fUoXAEj8kBsCfmgryryQBUdyeVdMvJAvjCZKgw68kBnRGlvukHyQIV80LNoSfJALpCg+BZR8kDXo3A9xVjyQIC3QIJzYPJAKcsQxyFo8kDT3uAL0G\\u002fyQHzysFB+d\\u002fJAJQaBlSx\\u002f8kBCPujZ2obyQOxRuB6JjvJAlWWIYzeW8kA+eVio5Z3yQOeMKO2TpfJAkKD4MUKt8kA5tMh28LTyQFfsL7uevPJAAAAAAE3E8kCpE9BE+8vyQFInoImp0\\u002fJA+zpwzlfb8kClTkATBuPyQE5iEFi06vJAa5p3nGLy8kAUrkfhEPryQL7BFya\\u002fAfNAZ9Xnam0J80AQ6bevGxHzQLn8h\\u002fTJGPNAYhBYOXgg80ALJCh+JijzQClcj8LUL\\u002fNA0m9fB4M380B7gy9MMT\\u002fzQCSX\\u002f5DfRvNAzqrP1Y1O80B3vp8aPFbzQCDSb1\\u002fqXfNAPQrXo5hl80DnHafoRm3zQJAxdy31dPNAOUVHcqN880DiWBe3UYTzQIts5\\u002fv\\u002fi\\u002fNANIC3QK6T80Dek4eFXJvzQPvL7skKo\\u002fNApN++Drmq80BN845TZ7LzQPcGX5gVuvNAoBov3cPB80BJLv8hcsnzQPJBz2Yg0fNAEHo2q87Y80C5jQbwfODzQGKh1jQr6PNAC7Wmednv80C0yHa+h\\u002ffzQF3cRgM2\\u002f\\u002fNAB\\u002fAWSOQG9ECwA+eMkg70QM07TtFAFvRAdk8eFu8d9EAgY+5anSX0QMl2vp9LLfRAcoqO5Pk09EAbnl4pqDz0QMSxLm5WRPRA4umVsgRM9ECL\\u002fWX3slP0QDQRNjxhW\\u002fRA3SQGgQ9j9ECGONbFvWr0QDBMpgpscvRA2V92Txp69ECCc0aUyIH0QJ+rrdh2ifRASL99HSWR9EDy0k1i05j0QJvmHaeBoPRARPrt6y+o9EDtDb4w3q\\u002f0QJYhjnWMt\\u002fRAtFn1uTq\\u002f9EBdbcX+6Mb0QAaBlUOXzvRAr5RliEXW9EBYqDXN8930QAK8BRKi5fRAq8\\u002fVVlDt9EBU46Wb\\u002fvT0QHEbDeCs\\u002fPRAGy\\u002fdJFsE9UDEQq1pCQz1QG1Wfa63E\\u002fVAFmpN82Ub9UC\\u002ffR04FCP1QGiR7XzCKvVAhslUwXAy9UAv3SQGHzr1QNjw9ErNQfVAgQTFj3tJ9UArGJXUKVH1QNQrZRnYWPVAfT81XoZg9UAmUwWjNGj1QESLbOfib\\u002fVA7Z48LJF39UCWsgxxP3\\u002f1QD\\u002fG3LXthvVA6Nms+puO9UCR7Xw\\u002fSpb1QDsBTYT4nfVAWDm0yKal9UABTYQNVa31QKpgVFIDtfVAVHQkl7G89UD9h\\u002fTbX8T1QKabxCAOzPVAT6+UZbzT9UD4wmSqatv1QBb7y+4Y4\\u002fVAvw6cM8fq9UBoImx4dfL1QBE2PL0j+vVAukkMAtIB9kBkXdxGgAn2QA1xrIsuEfZAKqkT0NwY9kDTvOMUiyD2QH3Qs1k5KPZAJuSDnucv9kDP91PjlTf2QHgLJChEP\\u002fZAIR\\u002f0bPJG9kDKMsSxoE72QOhqK\\u002fZOVvZAkX77Ov1d9kA6kst\\u002fq2X2QOOlm8RZbfZAjLlrCQh19kA2zTtOtnz2QN\\u002fgC5NkhPZA\\u002fBhz1xKM9kClLEMcwZP2QE9AE2Fvm\\u002fZA+FPjpR2j9kChZ7Pqy6r2QEp7gy96svZA845TdCi69kCcoiO51sH2QLraiv2EyfZAY+5aQjPR9kAMAiuH4dj2QLUV+8uP4PZAXynLED7o9kAIPZtV7O\\u002f2QLFQa5qa9\\u002fZAzojS3kj\\u002f9kB4nKIj9wb3QCGwcmilDvdAysNCrVMW90Bz1xLyAR73QBzr4jawJfdAxf6ye14t90DjNhrADDX3QIxK6gS7PPdANV66SWlE90DecYqOF0z3QIiFWtPFU\\u002fdAMZkqGHRb90DarPpcImP3QIPAyqHQavdAofgx5n5y90BKDAIrLXr3QPMf0m\\u002fbgfdAnDOitImJ90BFR3L5N5H3QO5aQj7mmPdAmG4Sg5Sg90C1pnnHQqj3QF66SQzxr\\u002fdAB84ZUZ+390Cx4emVTb\\u002f3QFr1udr7xvdAAwmKH6rO90CsHFpkWNb3QFUwKqkG3vdAc2iR7bTl90AcfGEyY+33QMWPMXcR9fdAbqMBvL\\u002f890AXt9EAbgT4QMHKoUUcDPhAat5xisoT+ECHFtnOeBv4QDAqqRMnI\\u002fhA2T15WNUq+ECDUUmdgzL4QCxlGeIxOvhA1XjpJuBB+EB+jLlrjkn4QCegibA8UfhARdjw9OpY+EDu68A5mWD4QJf\\u002fkH5HaPhAQBNhw\\u002fVv+EDpJjEIpHf4QJM6AU1Sf\\u002fhAPE7RkQCH+EBZhjjWro74QAKaCBtdlvhArK3YXwue+EBVwaikuaX4QP7UeOlnrfhAp+hILha1+EBQ\\u002fBhzxLz4QPkP6bdyxPhAF0hQ\\u002fCDM+EDAWyBBz9P4QGlv8IV92\\u002fhAEoPAyivj+EC8lpAP2ur4QGWqYFSI8vhADr4wmTb6+EAr9pfd5AH5QNUJaCKTCflAfh04Z0ER+UAnMQis7xj5QNBE2PCdIPlAeVioNUwo+UAibHh6+i\\u002f5QMx\\u002fSL+oN\\u002flA6bevA1c\\u002f+UCSy39IBUf5QDvfT42zTvlA5fIf0mFW+UCOBvAWEF75QDcawFu+ZflA4C2QoGxt+UD+ZffkGnX5QKd5xynJfPlAUI2XbneE+UD5oGezJYz5QKK0N\\u002fjTk\\u002flAS8gHPYKb+UD129eBMKP5QJ7vp8beqvlAuycPC42y+UBkO99PO7r5QA==\"},\"y\":{\"dtype\":\"f8\",\"bdata\":\"7N2xyaz6Xr8b1UR+miJXvxBqxuj6bRG\\u002f2FltvVafcj+ebwbaZFOVP5YaOXY7DbM\\u002fpdVN5vUEzT+CuxHV\\u002f1jiP+3hW\\u002f5Jg\\u002fI\\u002fbvAKadHW\\u002fD+pb2dBruwAQLBU1rQ3bv0\\u002fFtEB8eS88j9PFH6AVFjhP5TlfPpVR8c\\u002fMK+pdInUpj8N6qnIg4yBPzvmCAXpkGA\\u002frIj9V4lYVT+GCoXcpuNWP\\u002fFavxfC\\u002fFk\\u002fS5E2mhD1XT8O0UXr9FViP5TfkkhohGo\\u002flDHHmha6eT8o8jJ1WJiQP7D7SWxCX6g\\u002flKZ7PEV5wT+4wnaURgDWPzln8st1nOY\\u002fu0OW\\u002fQkI8j\\u002fQWJe0k5D1P\\u002fcSd7n86fI\\u002f2qm6AkgD6D\\u002fd4N2n9\\u002ffVP0LVVhCXVr0\\u002fxXmiWQH7nj+ILfBaYW+CP3gQUl9Z0XU\\u002fuuuNjAt1dD+KiFUxqQJ1P7iFZ8Kn3nU\\u002fMa0csv2+dj\\u002f6TD2Bqp93P0yFYfNdgHg\\u002fcTQ06hFheT+qdczrxUF6P8SoWu55Ins\\u002fJ2gr8S0DfD9deJ7o4eN8P\\u002ftkGe6VxH0\\u002fb01l+kmlfj+iJTUd\\u002foV\\u002fP+CW5kRZM4A\\u002femsi87OjgD87mzkkEBSBP9qYWyVxhIE\\u002f\\u002f8PUh+H0gT9iyGBNgmWCPxJbAl661oI\\u002fOPkN3sdJgz+UgTfdesKDPwlwBFtvTIQ\\u002f+4QPTboKhT8tfxlPlGaGP5lPr\\u002fA6mYk\\u002fr2QXngggkT9Zlp29f3edP+YQX1rDPrA\\u002fRKhHanmMxD9RbczoaTfaP6XqWAbYLe4\\u002fNKhBSv6Q\\u002fD8wl\\u002ffdErkEQAUcuv6T\\u002fAVAE88I\\u002f\\u002ficAEDq9uGlJ7zxPyPcilc0Kts\\u002fC01ABb8HwD9I\\u002finUuseiPzq\\u002fkssgEpI\\u002fGZ\\u002frA0e7jT\\u002fQT5jsGx2NPx5YIQYbZY0\\u002fLUUHo1\\u002fPjT+HK\\u002fH1yz6OP06MtVYJr44\\u002fGFIO5Hgfjz\\u002f45i8CIZCPP5tNIFutAJA\\u002fsOzYwhQ6kD\\u002fJcNjsrnWQP+JlA3tat5A\\u002fn3WKMqkJkT+wa9F4R4mRP1hIMdZ5g5I\\u002f8MWnrxbHlD+Wpwh+HnqaP5AhTmW1pKQ\\u002fhv7YibAFtD9X5KMzUazGPwj7eqHMg9s\\u002f6Exnp8SD8D\\u002fRT7EF1fEBQC9Do+b8BxBAlHofrUuwFUAlVp8iDgoVQFH4vJCIjQxAgPmeY3NC+z90Hf+pqinjP4DrtAPlXMY\\u002fRhVBdLeFrD9Md2iH99qcPxRw71cf8pY\\u002f3CJUFW3alT+CF3Jhj8mVP1laknuH8ZU\\u002f1kh9Bgkmlj+xCYz+XF2WPyc359pWlZY\\u002fZF+nkXfNlj8hb7SPoQWXP2+JUdGGEJc\\u002fZ75RYgIWlz+OXEgXfhuXP\\u002fdd39X5IJc\\u002fDc7olnUmlz+McplY8SuXPwKDdxptMZc\\u002f\\u002fyFi3Og2lz83SVCeZDyXP1WX9F\\u002fgQZc\\u002f8w3kIVxHlz\\u002fVndPj10yXP0g8w6VTUpc\\u002fOPGyZ89Xlz+H26IpS12XPzZNk+vGYpc\\u002faheFrUJolz\\u002f6bS9vvm2XP1w1LTE6c5c\\u002fUHdA87V4lz\\u002f\\u002fKom1MX6XP+YVVnitg5c\\u002fWipoPCmJlz86XZUDpY6XPxusBNIglJc\\u002fsmv\\u002fspyZlz9Fcti\\u002fGJ+XP\\u002f8VhzWVpJc\\u002fSPNWpBKqlz\\u002f\\u002feNNfkq+XP1m1nYIXtZc\\u002fserNRam6lz8lX\\u002fdfWMCXP8d9DElLxpc\\u002fAmvuCtrMlz+UJAQJzdSXP3vgLuHp35c\\u002fLVWp7y3ylz\\u002fHY7RBiBSYP3CMWQbfWpg\\u002fNWoIxEfxmD\\u002fCUAbw5jiaP0rB7MqsBp0\\u002fsmgaC3CVoT8A4aISQkqoPxPVJAcZcLM\\u002fw55n8cGcwT\\u002flyC5ONk7RPyo+\\u002f7R6uuE\\u002faiy0bBdD8j+h9hQ5BcwBQJpfSG+Cig1AaRl\\u002fLN+YEkCELFbfnH8QQFlvPB3TgwRAW6X+n7Uo8z\\u002fBJY0pd5\\u002feP9lRxp7rNcg\\u002fsod\\u002fZwlntT84C0jgm12nP2LgAEnoUKA\\u002frMjnk\\u002fp3mz\\u002ffjuOZdpCZP+9Jsi293Jg\\u002fFdfjFtybmD8ZTy0OUIaYP7J6KEVMgZg\\u002fUdFd1aiCmD\\u002fGt5XZgYaYP5QwIqpVi5g\\u002f43viW42QmD8lDl0\\u002f7ZWYP72Kc3pdm5g\\u002f+3KVbNSgmD88WEopTqaYP1XTcxTJq5g\\u002fFY7FhUSxmD+7TXk+wLaYP6fAfzI8vJg\\u002fMw1CfLjBmD\\u002fZBUhoNceYP0NXtbqvypg\\u002f\\u002fy6d+VHMmD8oCgCs+c2YPxXv9Yesz5g\\u002fKFcoJXbRmD\\u002fqAxDtbdOYP97fMvHC1Zg\\u002fFoAfYdPYmD9I0wDRWt2YP7S7EBrN5Jg\\u002fubq\\u002fDwjymD9SPlYDrQqZPwYqn1u+OZk\\u002fWCAQpqmUmT+JCIpX80SaP71uKWOxmps\\u002fvIHsVKkvnj9EKtmM6ZShPzCh9s9NXKY\\u002fcPZ9hP9\\u002frz8K8mA62HO4P2CF0v04esQ\\u002fWzteGjYH0j8+JafojVTgPwTe50083u0\\u002fYV7MAzWJ+j8iiMcQoNwEQJK44y54hQlAYEaCg55fBkBsAcJb4qT8P0h2XAgC9+0\\u002fN4ONQ2BS3T\\u002f6p0fWsTTNP42b4DQk5L4\\u002fk56kC+D6sT+WVGqNiMGnP5Y7jmr+8aE\\u002fEc+toUVRnj\\u002fesRuvbKCbP+XTqgLQUZo\\u002fQfqA2IKumT8hww+9p16ZP6J6K168N5k\\u002fvVlImwolmT9dpPntaByZP7Cawb3RGJk\\u002fQWS0gsUXmT9HgLzWAxiZPw0M3yfrGJk\\u002f6MQ+cSkamT\\u002fiqZTGlBuZPyupg5gXHZk\\u002fg80DvaYemT\\u002fAuVRjPCCZP80nsX7VIZk\\u002fmokvc3AjmT\\u002fElk1mDCWZPzHXK+OoJpk\\u002feTYLq0UomT\\u002fihP2b4imZPxMTkaN\\u002fK5k\\u002fL2iutxwtmT+ndcjSuS6ZP\\u002fURt\\u002fFWMJk\\u002fVczwEvQxmT8ev2o1kTOZP040m1guNZk\\u002fiTk0fMs2mT9QegmgaDiZP3meAcQFOpk\\u002flAn456I7mT9yXxAMQD2ZP2azLzDdPpk\\u002fjClTVHpAmT+aFHl4F0KZP0B3oJy0Q5k\\u002fS7vIwFFFmT9Bh\\u002fHk7kaZP2SdBAmMSJk\\u002f5u0tLSlKmT8ZXVdRxkuZPw9D7bwiTJk\\u002fpgVGR05FmT94z57ReT6ZP8ud91ulN5k\\u002f9Kyt5tAwmT\\u002fhfwZx\\u002fCmZP\\u002fFTX\\u002fsnI5k\\u002fvCi4hVMcmT8J\\u002fhAQfxWZP7fTaZqqDpk\\u002fwqnCJNYHmT8+gBuvAQGZP2iV0Tkt+pg\\u002ft20qxFjzmD8SSINOhOyYPx4m3Niv5Zg\\u002f3go1Y9vemD+\\u002f+43tBtiYP4cC53cy0Zg\\u002fr26dAl7KmD9g4\\u002faMicOYP\\u002frVUBe1vJg\\u002fi6iroeC1mD\\u002fnBwgsDK+YP6EjZ7Y3qJg\\u002fNA\\u002fLQGOhmD\\u002fsaDfLjpqYPzu4D1a6k5g\\u002fI2Ok4OWMmD\\u002fzamVrEYaYP7cKc\\u002fY8f5g\\u002f7nMEgmh4mD9Ev3cOlHGYP0PmbJy\\u002fapg\\u002f4fhPLetjmD+fVS\\u002fCFl2YPzmLaF5CVpg\\u002f9RcCB25PmD98QWDEmUiYPzSvdqTFQZg\\u002fJWtnvvE6mD\\u002fgNcA4HjSYP\\u002f4Yp1FLLZg\\u002ffg2ScHkmmD8N2fg9qR+YP1a6U8zbGJg\\u002fhvns2BISmD+20kQ0UQuYPxCKQWebBJg\\u002f\\u002fWLEu\\u002fj9lz\\u002f1Bm\\u002fadPeXPwCXVGAi8Zc\\u002fvS+74h7rlz8evTNHmeWXP+NP65rb4Jc\\u002fhCEyalrdlz\\u002fabrmazNuXP0zElBdQ3Zc\\u002fjkSGaKLjlz8uHwysd\\u002fGXP2+irHr\\u002fCpg\\u002fAb365a42mD\\u002fPuQgkdX6YPwLcBT2M8Zg\\u002ffxdn3jenmT9NXrA96cKaP8ylj9Zqepw\\u002f3JW9gygfnz8JUAMz95WhPyCaXh+urKQ\\u002fRLeFIBheqT\\u002fMCV5yeTywP2cWWhWPmLU\\u002fJiPanNKnvT+YuJYyQt7EP77j46\\u002fJ5M0\\u002fmKFPujir1T\\u002fIov8wk6bfP7Yrn\\u002fnFNuc\\u002fErCEXzsP8T\\u002fymlVVJxX5P13Yplf7bAJA96thj6cDC0BOETajwKUTQBUGZlNprRtAaGHo3zvYIUBrYZLqBaojQEzdrf5c5CFAkFC2tN2OG0BR+anLHzATQLFS5IysuAlA\\u002fSIkT5YiAUBUsHaShOf2P1qHhDLdx+4\\u002f899b7bXR5D\\u002fmRWBmdWTcP\\u002fa4KPo5j9M\\u002fcN3l1atNyz8twngBjGDDPxpvIr+TFrw\\u002fHdaIqNbjtD8ASchkcgSwP0BnnP3Maqk\\u002frJDgnqjopD+Q+vBvqtOhP9jefH+TbJ8\\u002f2MNuwIuCnD++Jzg\\u002fF36aP01NaGaXFpk\\u002fE8Plk6samD8kXNI8sGiXP866qhCn6ZY\\u002f\\u002fruFr8+Nlj+pBvUqWUqWP3COnr\\u002fPF5Y\\u002f\\u002fl4M5w7xlT\\u002f7OG5Nh9KVP4B0pWjAuZU\\u002fRNVqTgKllT8Y8EJcGpOVP71PbxUyg5U\\u002fQiSWS7N0lT+3Q8ZxNGeVP\\u002f1IdDtrWpU\\u002fVmSUQSNOlT+mzmVqN0KVPw==\"},\"type\":\"scatter\"}],                        {\"legend\":{\"x\":1.0,\"xanchor\":\"right\",\"y\":1.0,\"yanchor\":\"top\"},\"margin\":{\"autoexpand\":true,\"b\":45,\"r\":30,\"t\":40},\"title\":{\"text\":\"Measured vs Calculated data for experiment \\ud83d\\udd2c 'sim_si'\"},\"xaxis\":{\"mirror\":true,\"showline\":true,\"title\":{\"text\":\"TOF (\\u00b5s)\"},\"zeroline\":false,\"tickformat\":\",.6~g\",\"separatethousands\":true},\"yaxis\":{\"mirror\":true,\"showline\":true,\"title\":{\"text\":\"Intensity (arb. units)\"},\"zeroline\":false,\"tickformat\":\",.6~g\",\"separatethousands\":true},\"template\":{\"data\":{\"histogram2dcontour\":[{\"type\":\"histogram2dcontour\",\"colorbar\":{\"outlinewidth\":0,\"ticks\":\"\"},\"colorscale\":[[0.0,\"#0d0887\"],[0.1111111111111111,\"#46039f\"],[0.2222222222222222,\"#7201a8\"],[0.3333333333333333,\"#9c179e\"],[0.4444444444444444,\"#bd3786\"],[0.5555555555555556,\"#d8576b\"],[0.6666666666666666,\"#ed7953\"],[0.7777777777777778,\"#fb9f3a\"],[0.8888888888888888,\"#fdca26\"],[1.0,\"#f0f921\"]]}],\"choropleth\":[{\"type\":\"choropleth\",\"colorbar\":{\"outlinewidth\":0,\"ticks\":\"\"}}],\"histogram2d\":[{\"type\":\"histogram2d\",\"colorbar\":{\"outlinewidth\":0,\"ticks\":\"\"},\"colorscale\":[[0.0,\"#0d0887\"],[0.1111111111111111,\"#46039f\"],[0.2222222222222222,\"#7201a8\"],[0.3333333333333333,\"#9c179e\"],[0.4444444444444444,\"#bd3786\"],[0.5555555555555556,\"#d8576b\"],[0.6666666666666666,\"#ed7953\"],[0.7777777777777778,\"#fb9f3a\"],[0.8888888888888888,\"#fdca26\"],[1.0,\"#f0f921\"]]}],\"heatmap\":[{\"type\":\"heatmap\",\"colorbar\":{\"outlinewidth\":0,\"ticks\":\"\"},\"colorscale\":[[0.0,\"#0d0887\"],[0.1111111111111111,\"#46039f\"],[0.2222222222222222,\"#7201a8\"],[0.3333333333333333,\"#9c179e\"],[0.4444444444444444,\"#bd3786\"],[0.5555555555555556,\"#d8576b\"],[0.6666666666666666,\"#ed7953\"],[0.7777777777777778,\"#fb9f3a\"],[0.8888888888888888,\"#fdca26\"],[1.0,\"#f0f921\"]]}],\"contourcarpet\":[{\"type\":\"contourcarpet\",\"colorbar\":{\"outlinewidth\":0,\"ticks\":\"\"}}],\"contour\":[{\"type\":\"contour\",\"colorbar\":{\"outlinewidth\":0,\"ticks\":\"\"},\"colorscale\":[[0.0,\"#0d0887\"],[0.1111111111111111,\"#46039f\"],[0.2222222222222222,\"#7201a8\"],[0.3333333333333333,\"#9c179e\"],[0.4444444444444444,\"#bd3786\"],[0.5555555555555556,\"#d8576b\"],[0.6666666666666666,\"#ed7953\"],[0.7777777777777778,\"#fb9f3a\"],[0.8888888888888888,\"#fdca26\"],[1.0,\"#f0f921\"]]}],\"surface\":[{\"type\":\"surface\",\"colorbar\":{\"outlinewidth\":0,\"ticks\":\"\"},\"colorscale\":[[0.0,\"#0d0887\"],[0.1111111111111111,\"#46039f\"],[0.2222222222222222,\"#7201a8\"],[0.3333333333333333,\"#9c179e\"],[0.4444444444444444,\"#bd3786\"],[0.5555555555555556,\"#d8576b\"],[0.6666666666666666,\"#ed7953\"],[0.7777777777777778,\"#fb9f3a\"],[0.8888888888888888,\"#fdca26\"],[1.0,\"#f0f921\"]]}],\"mesh3d\":[{\"type\":\"mesh3d\",\"colorbar\":{\"outlinewidth\":0,\"ticks\":\"\"}}],\"scatter\":[{\"fillpattern\":{\"fillmode\":\"overlay\",\"size\":10,\"solidity\":0.2},\"type\":\"scatter\"}],\"parcoords\":[{\"type\":\"parcoords\",\"line\":{\"colorbar\":{\"outlinewidth\":0,\"ticks\":\"\"}}}],\"scatterpolargl\":[{\"type\":\"scatterpolargl\",\"marker\":{\"colorbar\":{\"outlinewidth\":0,\"ticks\":\"\"}}}],\"bar\":[{\"error_x\":{\"color\":\"#2a3f5f\"},\"error_y\":{\"color\":\"#2a3f5f\"},\"marker\":{\"line\":{\"color\":\"white\",\"width\":0.5},\"pattern\":{\"fillmode\":\"overlay\",\"size\":10,\"solidity\":0.2}},\"type\":\"bar\"}],\"scattergeo\":[{\"type\":\"scattergeo\",\"marker\":{\"colorbar\":{\"outlinewidth\":0,\"ticks\":\"\"}}}],\"scatterpolar\":[{\"type\":\"scatterpolar\",\"marker\":{\"colorbar\":{\"outlinewidth\":0,\"ticks\":\"\"}}}],\"histogram\":[{\"marker\":{\"pattern\":{\"fillmode\":\"overlay\",\"size\":10,\"solidity\":0.2}},\"type\":\"histogram\"}],\"scattergl\":[{\"type\":\"scattergl\",\"marker\":{\"colorbar\":{\"outlinewidth\":0,\"ticks\":\"\"}}}],\"scatter3d\":[{\"type\":\"scatter3d\",\"line\":{\"colorbar\":{\"outlinewidth\":0,\"ticks\":\"\"}},\"marker\":{\"colorbar\":{\"outlinewidth\":0,\"ticks\":\"\"}}}],\"scattermap\":[{\"type\":\"scattermap\",\"marker\":{\"colorbar\":{\"outlinewidth\":0,\"ticks\":\"\"}}}],\"scattermapbox\":[{\"type\":\"scattermapbox\",\"marker\":{\"colorbar\":{\"outlinewidth\":0,\"ticks\":\"\"}}}],\"scatterternary\":[{\"type\":\"scatterternary\",\"marker\":{\"colorbar\":{\"outlinewidth\":0,\"ticks\":\"\"}}}],\"scattercarpet\":[{\"type\":\"scattercarpet\",\"marker\":{\"colorbar\":{\"outlinewidth\":0,\"ticks\":\"\"}}}],\"carpet\":[{\"aaxis\":{\"endlinecolor\":\"#2a3f5f\",\"gridcolor\":\"#C8D4E3\",\"linecolor\":\"#C8D4E3\",\"minorgridcolor\":\"#C8D4E3\",\"startlinecolor\":\"#2a3f5f\"},\"baxis\":{\"endlinecolor\":\"#2a3f5f\",\"gridcolor\":\"#C8D4E3\",\"linecolor\":\"#C8D4E3\",\"minorgridcolor\":\"#C8D4E3\",\"startlinecolor\":\"#2a3f5f\"},\"type\":\"carpet\"}],\"table\":[{\"cells\":{\"fill\":{\"color\":\"#EBF0F8\"},\"line\":{\"color\":\"white\"}},\"header\":{\"fill\":{\"color\":\"#C8D4E3\"},\"line\":{\"color\":\"white\"}},\"type\":\"table\"}],\"barpolar\":[{\"marker\":{\"line\":{\"color\":\"white\",\"width\":0.5},\"pattern\":{\"fillmode\":\"overlay\",\"size\":10,\"solidity\":0.2}},\"type\":\"barpolar\"}],\"pie\":[{\"automargin\":true,\"type\":\"pie\"}]},\"layout\":{\"autotypenumbers\":\"strict\",\"colorway\":[\"#636efa\",\"#EF553B\",\"#00cc96\",\"#ab63fa\",\"#FFA15A\",\"#19d3f3\",\"#FF6692\",\"#B6E880\",\"#FF97FF\",\"#FECB52\"],\"font\":{\"color\":\"#2a3f5f\"},\"hovermode\":\"closest\",\"hoverlabel\":{\"align\":\"left\"},\"paper_bgcolor\":\"white\",\"plot_bgcolor\":\"white\",\"polar\":{\"bgcolor\":\"white\",\"angularaxis\":{\"gridcolor\":\"#EBF0F8\",\"linecolor\":\"#EBF0F8\",\"ticks\":\"\"},\"radialaxis\":{\"gridcolor\":\"#EBF0F8\",\"linecolor\":\"#EBF0F8\",\"ticks\":\"\"}},\"ternary\":{\"bgcolor\":\"white\",\"aaxis\":{\"gridcolor\":\"#DFE8F3\",\"linecolor\":\"#A2B1C6\",\"ticks\":\"\"},\"baxis\":{\"gridcolor\":\"#DFE8F3\",\"linecolor\":\"#A2B1C6\",\"ticks\":\"\"},\"caxis\":{\"gridcolor\":\"#DFE8F3\",\"linecolor\":\"#A2B1C6\",\"ticks\":\"\"}},\"coloraxis\":{\"colorbar\":{\"outlinewidth\":0,\"ticks\":\"\"}},\"colorscale\":{\"sequential\":[[0.0,\"#0d0887\"],[0.1111111111111111,\"#46039f\"],[0.2222222222222222,\"#7201a8\"],[0.3333333333333333,\"#9c179e\"],[0.4444444444444444,\"#bd3786\"],[0.5555555555555556,\"#d8576b\"],[0.6666666666666666,\"#ed7953\"],[0.7777777777777778,\"#fb9f3a\"],[0.8888888888888888,\"#fdca26\"],[1.0,\"#f0f921\"]],\"sequentialminus\":[[0.0,\"#0d0887\"],[0.1111111111111111,\"#46039f\"],[0.2222222222222222,\"#7201a8\"],[0.3333333333333333,\"#9c179e\"],[0.4444444444444444,\"#bd3786\"],[0.5555555555555556,\"#d8576b\"],[0.6666666666666666,\"#ed7953\"],[0.7777777777777778,\"#fb9f3a\"],[0.8888888888888888,\"#fdca26\"],[1.0,\"#f0f921\"]],\"diverging\":[[0,\"#8e0152\"],[0.1,\"#c51b7d\"],[0.2,\"#de77ae\"],[0.3,\"#f1b6da\"],[0.4,\"#fde0ef\"],[0.5,\"#f7f7f7\"],[0.6,\"#e6f5d0\"],[0.7,\"#b8e186\"],[0.8,\"#7fbc41\"],[0.9,\"#4d9221\"],[1,\"#276419\"]]},\"xaxis\":{\"gridcolor\":\"#EBF0F8\",\"linecolor\":\"#EBF0F8\",\"ticks\":\"\",\"title\":{\"standoff\":15},\"zerolinecolor\":\"#EBF0F8\",\"automargin\":true,\"zerolinewidth\":2},\"yaxis\":{\"gridcolor\":\"#EBF0F8\",\"linecolor\":\"#EBF0F8\",\"ticks\":\"\",\"title\":{\"standoff\":15},\"zerolinecolor\":\"#EBF0F8\",\"automargin\":true,\"zerolinewidth\":2},\"scene\":{\"xaxis\":{\"backgroundcolor\":\"white\",\"gridcolor\":\"#DFE8F3\",\"linecolor\":\"#EBF0F8\",\"showbackground\":true,\"ticks\":\"\",\"zerolinecolor\":\"#EBF0F8\",\"gridwidth\":2},\"yaxis\":{\"backgroundcolor\":\"white\",\"gridcolor\":\"#DFE8F3\",\"linecolor\":\"#EBF0F8\",\"showbackground\":true,\"ticks\":\"\",\"zerolinecolor\":\"#EBF0F8\",\"gridwidth\":2},\"zaxis\":{\"backgroundcolor\":\"white\",\"gridcolor\":\"#DFE8F3\",\"linecolor\":\"#EBF0F8\",\"showbackground\":true,\"ticks\":\"\",\"zerolinecolor\":\"#EBF0F8\",\"gridwidth\":2}},\"shapedefaults\":{\"line\":{\"color\":\"#2a3f5f\"}},\"annotationdefaults\":{\"arrowcolor\":\"#2a3f5f\",\"arrowhead\":0,\"arrowwidth\":1},\"geo\":{\"bgcolor\":\"white\",\"landcolor\":\"white\",\"subunitcolor\":\"#C8D4E3\",\"showland\":true,\"showlakes\":true,\"lakecolor\":\"white\"},\"title\":{\"x\":0.05},\"mapbox\":{\"style\":\"light\"}}}},                        {\"displaylogo\": false, \"modeBarButtonsToRemove\": [\"select2d\", \"lasso2d\", \"zoomIn2d\", \"zoomOut2d\", \"autoScale2d\"], \"responsive\": true}                    )                };            </script>        </div>"
      ],
      "text/plain": [
       "<IPython.core.display.HTML object>"
      ]
     },
     "metadata": {},
     "output_type": "display_data"
    }
   ],
   "source": [
    "project_1.plot_meas_vs_calc(expt_name='sim_si')"
   ]
  },
  {
   "cell_type": "markdown",
   "id": "76",
   "metadata": {},
   "source": [
    "#### TOF vs d-spacing\n",
    "\n",
    "The diffraction pattern is typically analyzed and plotted in the\n",
    "time-of-flight (TOF) axis, which represents the time it takes for neutrons\n",
    "to travel from the sample to the detector. However, it is sometimes more\n",
    "convenient to visualize the diffraction pattern in the d-spacing axis,\n",
    "which represents the distance between planes in the crystal lattice.\n",
    "\n",
    "The conversion from d-spacing to TOF was already introduced in the data\n",
    "reduction notebook. As a reminder, the two are related through the\n",
    "instrument calibration parameters according to the equation:\n",
    "\n",
    "$$\n",
    "\\text{TOF} = \\text{offset} + \\text{linear} \\cdot d + \\text{quad} \\cdot d^{2},\n",
    "$$\n",
    "\n",
    "where `offset`, `linear`, and `quad` are calibration parameters.\n",
    "\n",
    "In our case, only the `linear` term is used (the `calib_d_to_tof_linear`\n",
    "parameter we set earlier). The `offset` and `quad` terms were not part of\n",
    "the data reduction and are therefore set to 0 by default.\n",
    "\n",
    "The `plot_meas_vs_calc` method of the project allows us to\n",
    "plot the measured and calculated diffraction patterns in the d-spacing axis\n",
    "by setting the `d_spacing` parameter to `True`."
   ]
  },
  {
   "cell_type": "code",
   "execution_count": 27,
   "id": "77",
   "metadata": {
    "execution": {
     "iopub.execute_input": "2025-08-31T19:33:11.686625Z",
     "iopub.status.busy": "2025-08-31T19:33:11.686483Z",
     "iopub.status.idle": "2025-08-31T19:33:11.820779Z",
     "shell.execute_reply": "2025-08-31T19:33:11.820372Z"
    }
   },
   "outputs": [
    {
     "data": {
      "text/html": [
       "<div>                        <script type=\"text/javascript\">window.PlotlyConfig = {MathJaxConfig: 'local'};</script>\n",
       "        <script charset=\"utf-8\" src=\"https://cdn.plot.ly/plotly-3.1.0.min.js\" integrity=\"sha256-Ei4740bWZhaUTQuD6q9yQlgVCMPBz6CZWhevDYPv93A=\" crossorigin=\"anonymous\"></script>                <div id=\"8adf9d27-893f-4fdd-88b7-9a3f24a4f8d3\" class=\"plotly-graph-div\" style=\"height:100%; width:100%;\"></div>            <script type=\"text/javascript\">                window.PLOTLYENV=window.PLOTLYENV || {};                                if (document.getElementById(\"8adf9d27-893f-4fdd-88b7-9a3f24a4f8d3\")) {                    Plotly.newPlot(                        \"8adf9d27-893f-4fdd-88b7-9a3f24a4f8d3\",                        [{\"line\":{\"color\":\"rgb(31, 119, 180)\"},\"mode\":\"lines+markers\",\"name\":\"Measured (Imeas)\",\"x\":{\"dtype\":\"f8\",\"bdata\":\"\\u002f\\u002f8vejm07D\\u002f\\u002f\\u002f\\u002f9am8TsP\\u002f\\u002f\\u002fH\\u002f\\u002f91Ow\\u002f\\u002f\\u002f8\\u002fo2Dl7D\\u002f\\u002f\\u002fw+EwvXsP\\u002f\\u002f\\u002fLyglBu0\\u002f\\u002f\\u002f\\u002f\\u002fCIcW7T\\u002f\\u002f\\u002fx+t6SbtP\\u002f\\u002f\\u002fP1FMN+0\\u002f\\u002f\\u002f8PMq5H7T\\u002f\\u002f\\u002f98SEFjtP\\u002f\\u002f\\u002f\\u002f7ZyaO0\\u002f\\u002f\\u002f8fW9V47T\\u002f\\u002f\\u002f+87N4ntP\\u002f\\u002f\\u002fD+CZme0\\u002f\\u002f\\u002f\\u002ffwPup7T\\u002f\\u002f\\u002f\\u002f9kXrrtP\\u002f\\u002f\\u002fHwnByu0\\u002f\\u002f\\u002f\\u002fv6SLb7T\\u002f\\u002f\\u002fw+OhevtP\\u002f\\u002f\\u002f327n++0\\u002f\\u002f\\u002f\\u002f\\u002fEkoM7j\\u002f\\u002f\\u002f8\\u002fzqxzuP\\u002f\\u002f\\u002f75cOLe4\\u002f\\u002f\\u002f+\\u002feHA97j\\u002f\\u002f\\u002f98c003uP\\u002f\\u002f\\u002f\\u002f8A1Xu4\\u002f\\u002f\\u002f\\u002fPoZdu7j\\u002f\\u002f\\u002f+9F+n7uP\\u002f\\u002f\\u002fvyZcj+4\\u002f\\u002f\\u002f\\u002ffyr6f7j\\u002f\\u002f\\u002f6+rILDuP\\u002f\\u002f\\u002fz0+DwO4\\u002f\\u002f\\u002f+fMOXQ7j\\u002f\\u002f\\u002f7\\u002fUR+HuP\\u002f\\u002f\\u002fj7Wp8e4\\u002f\\u002f\\u002f+vWQwC7z\\u002f\\u002f\\u002f8\\u002f9bhLvP\\u002f\\u002f\\u002fn97QIu8\\u002f\\u002f\\u002f+\\u002fgjMz7z\\u002f\\u002f\\u002f98mlkPvP\\u002f\\u002f\\u002frwf4U+8\\u002f\\u002f\\u002f9\\u002f6Flk7z\\u002f\\u002f\\u002f5+MvHTvP\\u002f\\u002f\\u002fb20ehe8\\u002f\\u002f\\u002f+PEYGV7z\\u002f\\u002f\\u002f6+146XvP\\u002f\\u002f\\u002ff5ZFtu8\\u002f\\u002f\\u002f+fOqjG7z\\u002f\\u002f\\u002f28bCtfvP\\u002f\\u002f\\u002fj79s5+8\\u002f\\u002f\\u002f+vY8\\u002f37z8AAECiGATwPwAAqJJJDPA\\u002fAAC45HoU8D8AAMg2rBzwPwAAMCfdJPA\\u002fAABAeQ4t8D8AAKhpPzXwPwAAuLtwPfA\\u002fAADIDaJF8D8AADD+0k3wPwAAQFAEVvA\\u002fAACoQDVe8D8AABAxZmbwPwAAIIOXbvA\\u002fAAAw1ch28D8AAJjF+X7wPwAAqBcrh\\u002fA\\u002fAAAQCFyP8D8AACBajZfwPwAAMKy+n\\u002fA\\u002fAACYnO+n8D8AAKjuILDwPwAAuEBSuPA\\u002fAAAgMYPA8D8AAIghtMjwPwAAmHPl0PA\\u002fAAAAZBbZ8D8AABC2R+HwPwAAIAh56fA\\u002fAACI+Knx8D8AAJhK2\\u002fnwPwAAADsMAvE\\u002fAAAQjT0K8T8AACDfbhLxPwAAiM+fGvE\\u002fAADwv9Ai8T8AAAASAivxPwAAEGQzM\\u002fE\\u002fAAB4VGQ78T8AAIimlUPxPwAA8JbGS\\u002fE\\u002fAAAA6fdT8T8AABA7KVzxPwAAeCtaZPE\\u002fAACIfYts8T8AAPBtvHTxPwAAWF7tfPE\\u002fAABosB6F8T8AAHgCUI3xPwAA4PKAlfE\\u002fAADwRLKd8T8AAFg146XxPwAAaIcUrvE\\u002fAAB42UW28T8AAODJdr7xPwAA8BuoxvE\\u002fAAAAbtnO8T8AAGheCtfxPwAA0E473\\u002fE\\u002fAADgoGzn8T8AAEiRne\\u002fxPwAAWOPO9\\u002fE\\u002fAABoNQAA8j8AANAlMQjyPwAA4HdiEPI\\u002fAABIaJMY8j8AAFi6xCDyPwAAaAz2KPI\\u002fAADQ\\u002fCYx8j8AADjtVznyPwAASD+JQfI\\u002fAABYkbpJ8j8AAMCB61HyPwAA0NMcWvI\\u002fAAA4xE1i8j8AAEgWf2ryPwAAWGiwcvI\\u002fAADAWOF68j8AANCqEoPyPwAAOJtDi\\u002fI\\u002fAACgi3ST8j8AALDdpZvyPwAAwC\\u002fXo\\u002fI\\u002fAAAoIAis8j8AADhyObTyPwAAoGJqvPI\\u002fAACwtJvE8j8AAMAGzczyPwAAKPf91PI\\u002fAAA4SS\\u002fd8j8AAKA5YOXyPwAAsIuR7fI\\u002fAAAYfML18j8AACjO8\\u002f3yPwAAkL4kBvM\\u002fAACgEFYO8z8AALBihxbzPwAAGFO4HvM\\u002fAAAopekm8z8AAJCVGi\\u002fzPwAAoOdLN\\u002fM\\u002fAACwOX0\\u002f8z8AABgqrkfzPwAAgBrfT\\u002fM\\u002fAACQbBBY8z8AAKC+QWDzPwAACK9yaPM\\u002fAAAYAaRw8z8AAIDx1HjzPwAAkEMGgfM\\u002fAACglTeJ8z8AAAiGaJHzPwAAGNiZmfM\\u002fAACAyMqh8z8AAOi4+6nzPwAA+AotsvM\\u002fAAAIXV668z8AAHBNj8LzPwAAgJ\\u002fAyvM\\u002fAADoj\\u002fHS8z8AAPjhItvzPwAACDRU4\\u002fM\\u002fAABwJIXr8z8AAIB2tvPzPwAA6Gbn+\\u002fM\\u002fAAD4uBgE9D8AAGCpSQz0PwAAcPt6FPQ\\u002fAADY66sc9D8AAOg93ST0PwAA+I8OLfQ\\u002fAABggD819D8AAHDScD30PwAA2MKhRfQ\\u002fAADoFNNN9D8AAFAFBFb0PwAAYFc1XvQ\\u002fAADIR2Zm9D8AANiZl270PwAA6OvIdvQ\\u002fAABQ3Pl+9D8AAGAuK4f0PwAAyB5cj\\u002fQ\\u002fAADYcI2X9D8AAOjCvp\\u002f0PwAAULPvp\\u002fQ\\u002fAAC4oyCw9D8AAMj1Ubj0PwAAMOaCwPQ\\u002fAABAOLTI9D8AAFCK5dD0PwAAuHoW2fQ\\u002fAADIzEfh9D8AADC9eOn0PwAAQA+q8fQ\\u002fAABQYdv59D8AALhRDAL1PwAAIEI9CvU\\u002fAAAwlG4S9T8AAEDmnxr1PwAAqNbQIvU\\u002fAAC4KAIr9T8AACAZMzP1PwAAMGtkO\\u002fU\\u002fAABAvZVD9T8AAKitxkv1PwAAuP\\u002f3U\\u002fU\\u002fAAAg8Chc9T8AADBCWmT1PwAAmDKLbPU\\u002fAACohLx09T8AABB17Xz1PwAAIMcehfU\\u002fAAAwGVCN9T8AAJgJgZX1PwAAqFuynfU\\u002fAAAQTOOl9T8AACCeFK71PwAAMPBFtvU\\u002f\\u002f\\u002f+X4Ha+9T\\u002f\\u002f\\u002f\\u002f\\u002fQp8b1P\\u002f\\u002f\\u002fDyPZzvU\\u002f\\u002f\\u002f93EwrX9T\\u002f\\u002f\\u002f4dlO9\\u002f1P\\u002f\\u002f\\u002fl7ds5\\u002fU\\u002f\\u002f\\u002f\\u002f\\u002fp53v9T\\u002f\\u002f\\u002fw\\u002f6zvf1P\\u002f\\u002f\\u002fd+r\\u002f\\u002f\\u002fU\\u002f\\u002f\\u002f+HPDEI9j\\u002f\\u002f\\u002f5eOYhD2P\\u002f\\u002f\\u002f\\u002f36TGPY\\u002f\\u002f\\u002f9nb8Qg9j\\u002f\\u002f\\u002f3fB9Sj2P\\u002f\\u002f\\u002fhxMnMfY\\u002f\\u002f\\u002f\\u002fvA1g59j\\u002f\\u002f\\u002f\\u002f9ViUH2P\\u002f\\u002f\\u002fZ0a6SfY\\u002f\\u002f\\u002f93mOtR9j\\u002f\\u002f\\u002f4fqHFr2P\\u002f\\u002f\\u002f79pNYvY\\u002f\\u002f\\u002f\\u002f\\u002fLH9q9j\\u002f\\u002f\\u002f2cdsHL2P\\u002f\\u002f\\u002fd2\\u002fhevY\\u002f\\u002f\\u002f\\u002ffXxKD9j\\u002f\\u002f\\u002f++xQ4v2P\\u002f\\u002f\\u002fV6J0k\\u002fY\\u002f\\u002f\\u002f9n9KWb9j\\u002f\\u002f\\u002f3dG16P2P\\u002f\\u002f\\u002f3zYIrPY\\u002f\\u002f\\u002f\\u002fviDm09j\\u002f\\u002f\\u002f1d5arz2P\\u002f\\u002f\\u002fZ8ubxPY\\u002f\\u002f\\u002f93Hc3M9j\\u002f\\u002f\\u002f98N\\u002ftT2P\\u002f\\u002f\\u002fR\\u002f4u3fY\\u002f\\u002f\\u002f9XUGDl9j\\u002f\\u002f\\u002f79Ake32P\\u002f\\u002f\\u002fz5LC9fY\\u002f\\u002f\\u002f\\u002ff5PP99j\\u002f\\u002f\\u002f0fVJAb3P\\u002f\\u002f\\u002fVydWDvc\\u002f\\u002f\\u002f9neYcW9z\\u002f\\u002f\\u002f89puB73P\\u002f\\u002f\\u002f37vpJvc\\u002f\\u002f\\u002f9HrBov9z\\u002f\\u002f\\u002f6+cSzf3P\\u002f\\u002f\\u002fv+58P\\u002fc\\u002f\\u002f\\u002f\\u002fPQK5H9z\\u002f\\u002f\\u002fzcx30\\u002f3P\\u002f\\u002f\\u002fR4MQWPc\\u002f\\u002f\\u002f+vc0Fg9z\\u002f\\u002f\\u002f7\\u002fFcmj3P\\u002f\\u002f\\u002fzxekcPc\\u002f\\u002f\\u002f83CNV49z\\u002f\\u002f\\u002f0daBoH3P\\u002f\\u002f\\u002fr0o3ifc\\u002f\\u002f\\u002f+\\u002fnGiR9z\\u002f\\u002f\\u002fyeNmZn3P\\u002f\\u002f\\u002fN9\\u002fKofc\\u002f\\u002f\\u002f+fz\\u002fup9z\\u002f\\u002f\\u002f68hLbL3P\\u002f\\u002f\\u002fv3Neuvc\\u002f\\u002f\\u002f8nZI\\u002fC9z\\u002f\\u002f\\u002fze2wMr3P\\u002f\\u002f\\u002fn6bx0vc\\u002f\\u002f\\u002f+v+CLb9z\\u002f\\u002f\\u002fxfpU+P3P\\u002f\\u002f\\u002fJzuF6\\u002fc\\u002f\\u002f\\u002f+PK7bz9z\\u002f\\u002f\\u002f5995\\u002fv3P\\u002f\\u002f\\u002fB24YBPg\\u002f\\u002f\\u002f8XwEkM+D\\u002f\\u002f\\u002fycSexT4P\\u002f\\u002f\\u002fjwKsHPg\\u002f\\u002f\\u002f+fVN0k+D\\u002f\\u002f\\u002f6+mDi34P\\u002f\\u002f\\u002fF5c\\u002fNfg\\u002f\\u002f\\u002f8n6XA9+D\\u002f\\u002f\\u002f4\\u002fZoUX4P\\u002f\\u002f\\u002f98nSTfg\\u002f\\u002f\\u002f8HHARW+D\\u002f\\u002f\\u002fxduNV74P\\u002f\\u002f\\u002ff15mZvg\\u002f\\u002f\\u002f+PsJdu+D\\u002f\\u002f\\u002f\\u002fegyHb4P\\u002f\\u002f\\u002fB\\u002fP5fvg\\u002f\\u002f\\u002f8XRSuH+D\\u002f\\u002f\\u002f381XI\\u002f4P\\u002f\\u002f\\u002fj4eNl\\u002fg\\u002f\\u002f\\u002f\\u002f3d76f+D\\u002f\\u002f\\u002fwfK76f4P\\u002f\\u002f\\u002fb7ogsPg\\u002f\\u002f\\u002f9\\u002fDFK4+D\\u002f\\u002f\\u002f+f8gsD4P\\u002f\\u002f\\u002f9060yPg\\u002f\\u002f\\u002f8HoeXQ+D\\u002f\\u002f\\u002f2+RFtn4P\\u002f\\u002f\\u002ff+NH4fg\\u002f\\u002f\\u002f\\u002fn03jp+D\\u002f\\u002f\\u002f\\u002fclqvH4P\\u002f\\u002f\\u002fXxbb+fg\\u002f\\u002f\\u002f9vaAwC+T\\u002f\\u002f\\u002f9dYPQr5P\\u002f\\u002f\\u002f56puEvk\\u002f\\u002f\\u002f9Pm58a+T\\u002f\\u002f\\u002f1\\u002ft0CL5P\\u002f\\u002f\\u002fbz8CK\\u002fk\\u002f\\u002f\\u002f\\u002fXLzMz+T\\u002f\\u002f\\u002f+eBZDv5P\\u002f\\u002f\\u002f99OVQ\\u002fk\\u002f\\u002f\\u002f9fxMZL+T\\u002f\\u002f\\u002f8e091P5P\\u002f\\u002f\\u002f1wYpXPk\\u002f\\u002f\\u002f8\\u002f91lk+T\\u002f\\u002f\\u002f09Ji2z5P\\u002f\\u002f\\u002fX5u8dPk\\u002f\\u002f\\u002f\\u002fHi+18+T\\u002f\\u002f\\u002f9fdHoX5P\\u002f\\u002f\\u002fP85Pjfk\\u002f\\u002f\\u002f9PIIGV+T\\u002f\\u002f\\u002f19ysp35P\\u002f\\u002f\\u002fx2Ljpfk\\u002f\\u002f\\u002f8vUxSu+T\\u002f\\u002f\\u002fz+lRbb5P\\u002f\\u002f\\u002fT\\u002fd2vvk\\u002f\\u002f\\u002f+356fG+T\\u002f\\u002f\\u002f8c52c75P\\u002f\\u002f\\u002fLyoK1\\u002fk\\u002f\\u002f\\u002f8\\u002ffDvf+T\\u002f\\u002f\\u002f0\\u002fObOf5P\\u002f\\u002f\\u002ft76d7\\u002fk\\u002f\\u002f\\u002f\\u002fHEM\\u002f3+T\\u002f\\u002f\\u002fy8BAAD6P\\u002f\\u002f\\u002fl\\u002fEwCPo\\u002f\\u002f\\u002f+nQ2IQ+j\\u002f\\u002f\\u002f7eVkxj6P\\u002f\\u002f\\u002fH4bEIPo\\u002f\\u002f\\u002f8v2PUo+j\\u002f\\u002f\\u002f5fIJjH6P\\u002f\\u002f\\u002fpxpYOfo\\u002f\\u002f\\u002f+3bIlB+j\\u002f\\u002f\\u002fx9dukn6P\\u002f\\u002f\\u002fL6\\u002frUfo\\u002f\\u002f\\u002f8\\u002fAR1a+j\\u002f\\u002f\\u002f6fxTWL6P\\u002f\\u002f\\u002fD+J+avo\\u002f\\u002f\\u002f8fNLBy+j\\u002f\\u002f\\u002f4ck4Xr6P\\u002f\\u002f\\u002fl3YSg\\u002fo\\u002f\\u002f\\u002f+nyEOL+j\\u002f\\u002f\\u002fw+5dJP6P\\u002f\\u002f\\u002fHwumm\\u002fo\\u002f\\u002f\\u002f+H+9aj+j\\u002f\\u002f\\u002f5dNCKz6P\\u002f\\u002f\\u002fp585tPo\\u002f\\u002f\\u002f8PkGq8+j\\u002f\\u002f\\u002f3eAm8T6P\\u002f\\u002f\\u002fh9LMzPo\\u002f\\u002f\\u002f+XJP7U+j\\u002f\\u002f\\u002f\\u002f8UL936P\\u002f\\u002f\\u002fD2dg5fo\\u002f\\u002f\\u002f93V5Ht+j\\u002f\\u002f\\u002f4epwvX6P\\u002f\\u002f\\u002fl\\u002fvz\\u002ffo\\u002f\\u002f\\u002f\\u002f\\u002f6yQG+z\\u002f\\u002f\\u002fw8+Vg77P\\u002f\\u002f\\u002fdy6HFvs\\u002f\\u002f\\u002f\\u002ffHrge+z\\u002f\\u002f\\u002f+9w6Sb7P\\u002f\\u002f\\u002f\\u002f8IaL\\u002fs\\u002f\\u002f\\u002f9ns0s3+z\\u002f\\u002f\\u002f3cFfT\\u002f7P\\u002f\\u002f\\u002f3\\u002fWtR\\u002fs\\u002f\\u002f\\u002f\\u002fvR99P+z\\u002f\\u002f\\u002f\\u002f+ZEFj7P\\u002f\\u002f\\u002fZ4pBYPs\\u002f\\u002f\\u002f933HJo+z\\u002f\\u002f\\u002f4cupHD7Pw==\"},\"y\":{\"dtype\":\"f8\",\"bdata\":\"HymN\\u002fpQCcz8EQ\\u002fP83FicP7rfG90AHYQ\\u002f3jY2baGerT+aIDulIMiCP1i1RZHnqLo\\u002fqMXqUFtzxD+34g+VBeTYP7wjYBdAl\\u002fQ\\u002fuKRu5Un3AEAa8KRMqtkEQNuewvcF7wBAQyphkRIe8z\\u002f+ynbo\\u002fZHiP3ZXv6AaiMI\\u002fnAYQpq30qD8RbRhzS0mIP3\\u002fdBZaHJnQ\\u002fdJxgkhpqhT+nA+eya5KQP00\\u002fUoXz4ok\\u002fuk+XZae2dD94zWh1S6KRP2SDYyTwq5Y\\u002fmL00dy4xVD8AkUE0V6GlP0QMvgqcmrI\\u002ftQQOnFQCxT9KgM8Vx2HZP7s\\u002fjH1O3+U\\u002fOM70Aps98z9QOSN0q\\u002fD3P9NugVSv6PQ\\u002fhHBdJh7L5T92AsqLnj7WP\\u002fR1CzTLv7k\\u002fiekefId6nj+lC4kZqVOdP5okXuIcZZ4\\u002fL+S\\u002fM3wVoT\\u002fnOB1VhB9wP9g391njmGM\\u002fmyqfHU7gpj+\\u002fku0DYo+MP++xjz\\u002fB2ZY\\u002faHCo1uVJmT9TwXZISFF7P0unJZYA3aI\\u002fden3sMWUiz9BSDByOQmaPxcqgZmIRZ4\\u002fmt69mBRlnT9kEevVbIucP65BT9\\u002fFUI0\\u002f7xliSWOpoT8fHNeNM1+HPxKw3DYFeoQ\\u002fiHPgbD9Emz8RVsD7tr6QPygJhlsDepA\\u002feBFJq9VSjD+7mmH+TH6gP7M91f7+Ips\\u002fGX8IKC\\u002fuoT+9h8T96KqSP3kZpmzRXqM\\u002fCCp+yF75qj\\u002f4LmhLDWO3P1jePFMjerY\\u002fCBrnlG76yj+1Wp5gkNLYPy8XgD0K4Oo\\u002flg00ROYF+j+c8kswLTsEQJuoeRRgVgVA6FTxlGcXAECK4C2OVr7wP1\\u002fV55Z2EOI\\u002fvZDHwSzGyj8sfZtdtIuzP8nIjojEo58\\u002fTVR\\u002fMLWRmT+JN\\u002fjaMzaXP1cRO26x0oA\\u002f\\u002fzrctIAGlz9znGZoVhuSPwPw7wANTZk\\u002f2cuq1S0vkj+my++kIFiIPzTRwcEOUZs\\u002fszveIACLlj96cI8sN92bP21\\u002fahS1V4g\\u002ffUniDxuIoT8thhfdv\\u002fOZP7Hph3QBM5s\\u002fSrpK48j7qz8gXBBpCfiuPxKB77hR\\u002fbA\\u002fGC71qY1Gvz+h5b+jCHLFP\\u002fJinRascNw\\u002fZSHRtmgg7j+LxijTf2L+PxSd8mXF\\u002fQ5AFXM5r8uoFUAvdaHSh34UQCBirUqvYApAOTPrqLv09z95UktUzq\\u002fmP1yXVAfcNdU\\u002f9ucrLtM+wz8fwyNyC3uxP657k9HB7qo\\u002f0NKpO9aZkz+ATl841nyVP5sd22B\\u002fo5w\\u002fliXS03RPoz\\u002fzoDH5tNyUP95dilaT+Ic\\u002fPLFylk4fkz\\u002fpu1xl2aSVP1JxbFUghZc\\u002fmMxiZX6uoD+YeUtzb6iMPwHXluydq5k\\u002fRoVeLFZmoT8xvxrM45uWPzXyMoJOfpk\\u002fHk3YLJ4CjD+Jfny6ipCXPwgB6xPMlJY\\u002fObrQbzv1oj8SXwzn1JmRP2et6jpZHpY\\u002f6LYFw8SImj9Ln2oq94OYPxx6WPb3iZw\\u002fIsDtsAAqnz\\u002fOy\\u002foApN+ZP2he+PsZpJ4\\u002fNUSXqvQslj\\u002fPgKJ05rOVP8cOf2r3bIk\\u002fhB5ui1YjkT9J4aqR\\u002fzyYP0W2ASP\\u002fy5g\\u002ffZI1QDJsmz9lanDarGulPxrUZqLgQJo\\u002fDP7AKsl1nz+OjDX57LebP4cacvU1PJM\\u002fOn26k2frjD9VtmGdKnWfP4hAN9CoKJU\\u002fZY\\u002fVi4Kqiz9uLAN0h6yUPy1b3sbKY5E\\u002f8H1ZFosAkz9wn+6R4biUP53zTL4TCpQ\\u002fvDnVzzddmz+a6IV05gSaP53pJUkK86c\\u002f6cLhGgu8oz+o8NliOveyP6Lvaadj9LI\\u002fqXqGEN2ZwD+JxktrUb7PPytenYHrNN4\\u002f0xsuPc2b8T99Q9ISX1gDQPFzm2QxBRBA2c9hP8oVE0CxgxxxZIUPQIwJ4KiIqQJAA2lTUmwe8j87ZYg4rRDgP0mU6CtTgM8\\u002fkU4rVwBUvz9lCSd8vAe4P6y8ZC\\u002fAK6k\\u002fAmik38pVoD+QOqJnPA2gP6HrKLOOL6A\\u002fdfKrQZtVmD8S5+V5VW+aP4\\u002fq6BUhWZ0\\u002ff+GC06tHkj8CYIJ6KFOSPwHQfY\\u002fvnJg\\u002fqMG1AT1\\u002flz\\u002fbjScHOOGbP8Iml1j\\u002fsJo\\u002fCF4BbnqNmj\\u002fyicWsjvacP1rqu1NpVZs\\u002ffQRbFEBykD9j2wPHm+eVP8jD7xoMbJY\\u002fA3yL2U8OnT\\u002fFrESpk8WLP7NRwVmhPJI\\u002faF1nhQk5nz+mRDr8IyahP74YZu133ps\\u002ft1xA4nzEmj\\u002f3Hj7gUkyePwJE2yQbvJc\\u002fznZ1CKWJmj\\u002fRxHKGXSeYP50YCGKDCZc\\u002fUDQXuDNcmz9yXSc2ZhCbP4SsuHHIM6U\\u002fY9xGQtNBmz+4DRFU9IGfP5zlatf3aKI\\u002fiYiYNGvdmD8yKEWMbYSjP9vNjxOicaY\\u002fzJaNz3FDsD99wTzOYRS4P8EslZRkosM\\u002fTdjliaCw0D8\\u002ff656N2vfP9GftcyrEvA\\u002fJMwT2eAC\\u002fj8bFVFj\\u002fL8FQK+f4ek4hwlAqMrfYkMlBkCkEwjO4kr7P3zgTLsbsOs\\u002fIMZGvYX82T+Zq\\u002fYC4JfOP7bs2v9\\u002ftL4\\u002fVh8G+IIRtD\\u002fL5xlo8besPyehAMWv0ac\\u002fAYzsHGEDpD9qSxddf5KdP0MoaBqHdJk\\u002fm74rYN5qnD8IIfp0F+2VP1avgjm6fZ8\\u002f8KPU92yVlT\\u002fLw+nT6TaePwoNxJdJ7Zw\\u002fqM25ER1Zmz+PhNt2ksuhP\\u002fDyYRojNpw\\u002fZclw+buEmz8ZIGuaPyifPwwq5sfBP5c\\u002f05z+UOwknz9zsiMw3X2YP5Cwho3E86E\\u002fwhxFyDwNnj93cAVrbFiSP+SyuFpfkZU\\u002ffFVcM2F6mT+NZ\\u002f9eY0ubP9Q5qdw2FaI\\u002fElk8xdu0mj9Yj9hFmqSXP5g1Lq2rZqA\\u002fw05FT+l6mz8XeEv3XEqWP4AZXv9oHpE\\u002fSWIMCWzbmT+LZkQFnpuKP0rIbaW2ypY\\u002f6+AlE9gAnT+1kpTvtCOWP5nVSPajT5Y\\u002frQbG7eKDmj+wcSJTGLuZP29VxDzEN5k\\u002fpus37dfVmz+ZuhYy\\u002fGCUP57zzA7U85c\\u002ftDWCXdC+lj8UPGicSGSUP2P\\u002fc45Qo5Y\\u002fdw8QxTeImj8\\u002fYD8ZkSyZP5zQdzPKFJg\\u002f\\u002fJV2aDSgmD9T4KJ8Y++bP31BP7MqCaY\\u002fNLTNYqbJlz\\u002fLSrv60E+RP6zMZ9HExZg\\u002fWGbooZWZnD\\u002fakOc04lCWPxspPJg4KJk\\u002fZxVyIJg+lT+add5O5bSaPx3X1NYrd6A\\u002fjsfBzqdAlD9Typ0ZLKWYP3LMoU09qaA\\u002fj15aqWaFlz8\\u002fqj98RsSXP9+Pf7rCHJ8\\u002fkXUh4EW4oT9SoVK2QTKeP82b7uMnJ6I\\u002f\\u002fqEchm4GmD8b2TXWNpqXP8UHcEl23Js\\u002fCiG9mzQ5nD8YE1U7UPuaP9n2oHfmfJU\\u002f1cX\\u002fSSqxnj+UH1Y9h2ucP5y941n4lpg\\u002f5a+XhN8Xmz8WfOFxAPeYP2fquSqkeZk\\u002fE9ytjXvAlT9hiS4dTUmjP\\u002ffnDs9VjJs\\u002fQBeZbUs3mj\\u002f1zfFxCr2bPwb7bFtMfZo\\u002fo7L1SU3AlD\\u002f50aEa0M6ZP3hTC8a2QZY\\u002fhmqfKIIfmz81IND2U0ydPxFZcmOfGpk\\u002fj+LVSYQCmz8jj7QO9EGaP2CoFvzYrpo\\u002fkmPnjQZ5mj8IRjckWnyVP6ngC8C9HJk\\u002fzjKtoyGIlj9tNzRMBXKUPw4JLy320J4\\u002fV68IDuJWmj9j6oHO\\u002fQudP2gM7lzCYZs\\u002f6f8JiN51oD+EsXDBPLyaP5aI+EdBrps\\u002ftyJtcrAblD8rfZ6UmxGcP\\u002fjjgcWuIJk\\u002fbuZ94av3nj+i9bWiJkSjP7oJVDT5xJw\\u002f38VSX6eLqD9T7Rmia0WnPxga9Pc8LLI\\u002fAe3axFCZuD+iaxgY77bBP5xtFIBAeco\\u002f9eGaUi3c1D++SLL+4JvhP7jYUdn0J+k\\u002fMiGRgQjf8j94GTqzrjH8P82ztbhuRQNAEvzFo+XGC0BSkD1mno0TQJLQ5xoapxlAAUYfX1EfIUDHTrngdQAkQNNtW285ziJABUt9ErLRG0AqP5MNJycTQGs5+0vA0AlAGR1\\u002fv9SbAEA2Eo9+Sf74P\\u002fZALHieu\\u002fA\\u002fKXVhmzA+6D\\u002fQ4LDPnkXdP5P38qtCwNU\\u002f1jbX1epxyz8UG1opaWbBP4hdSm9oK7g\\u002f5KekZeP\\u002frD8S0bAyPhWrPxxUiQu86aI\\u002foUGDdattnz9qyubCmhKgP0WWfPtmPZo\\u002fo6y7vrxilD+uDq0P+I6bP+vF3MSPW6A\\u002fOgQTYYTJmj9C0YRtW7iaP0zvTo4gG5c\\u002f5J\\u002f7Ej9Smj9h4CC7ojiYPxHIxFmANZs\\u002f3Tl0sTagmz9U9bS55gOaP2H0OyKNBZk\\u002fXWxPZkhhlz\\u002fxqUPonaabP6g6kdjppZU\\u002fXbigPgpjmD8QwP9aTSiSP2XwfkOJrJI\\u002fF7SJDxzlkz\\u002f3w8G0J8SYPw==\"},\"type\":\"scatter\"},{\"line\":{\"color\":\"rgb(214, 39, 40)\"},\"mode\":\"lines\",\"name\":\"Total calculated (Icalc)\",\"x\":{\"dtype\":\"f8\",\"bdata\":\"\\u002f\\u002f8vejm07D\\u002f\\u002f\\u002f\\u002f9am8TsP\\u002f\\u002f\\u002fH\\u002f\\u002f91Ow\\u002f\\u002f\\u002f8\\u002fo2Dl7D\\u002f\\u002f\\u002fw+EwvXsP\\u002f\\u002f\\u002fLyglBu0\\u002f\\u002f\\u002f\\u002f\\u002fCIcW7T\\u002f\\u002f\\u002fx+t6SbtP\\u002f\\u002f\\u002fP1FMN+0\\u002f\\u002f\\u002f8PMq5H7T\\u002f\\u002f\\u002f98SEFjtP\\u002f\\u002f\\u002f\\u002f7ZyaO0\\u002f\\u002f\\u002f8fW9V47T\\u002f\\u002f\\u002f+87N4ntP\\u002f\\u002f\\u002fD+CZme0\\u002f\\u002f\\u002f\\u002ffwPup7T\\u002f\\u002f\\u002f\\u002f9kXrrtP\\u002f\\u002f\\u002fHwnByu0\\u002f\\u002f\\u002f\\u002fv6SLb7T\\u002f\\u002f\\u002fw+OhevtP\\u002f\\u002f\\u002f327n++0\\u002f\\u002f\\u002f\\u002f\\u002fEkoM7j\\u002f\\u002f\\u002f8\\u002fzqxzuP\\u002f\\u002f\\u002f75cOLe4\\u002f\\u002f\\u002f+\\u002feHA97j\\u002f\\u002f\\u002f98c003uP\\u002f\\u002f\\u002f\\u002f8A1Xu4\\u002f\\u002f\\u002f\\u002fPoZdu7j\\u002f\\u002f\\u002f+9F+n7uP\\u002f\\u002f\\u002fvyZcj+4\\u002f\\u002f\\u002f\\u002ffyr6f7j\\u002f\\u002f\\u002f6+rILDuP\\u002f\\u002f\\u002fz0+DwO4\\u002f\\u002f\\u002f+fMOXQ7j\\u002f\\u002f\\u002f7\\u002fUR+HuP\\u002f\\u002f\\u002fj7Wp8e4\\u002f\\u002f\\u002f+vWQwC7z\\u002f\\u002f\\u002f8\\u002f9bhLvP\\u002f\\u002f\\u002fn97QIu8\\u002f\\u002f\\u002f+\\u002fgjMz7z\\u002f\\u002f\\u002f98mlkPvP\\u002f\\u002f\\u002frwf4U+8\\u002f\\u002f\\u002f9\\u002f6Flk7z\\u002f\\u002f\\u002f5+MvHTvP\\u002f\\u002f\\u002fb20ehe8\\u002f\\u002f\\u002f+PEYGV7z\\u002f\\u002f\\u002f6+146XvP\\u002f\\u002f\\u002ff5ZFtu8\\u002f\\u002f\\u002f+fOqjG7z\\u002f\\u002f\\u002f28bCtfvP\\u002f\\u002f\\u002fj79s5+8\\u002f\\u002f\\u002f+vY8\\u002f37z8AAECiGATwPwAAqJJJDPA\\u002fAAC45HoU8D8AAMg2rBzwPwAAMCfdJPA\\u002fAABAeQ4t8D8AAKhpPzXwPwAAuLtwPfA\\u002fAADIDaJF8D8AADD+0k3wPwAAQFAEVvA\\u002fAACoQDVe8D8AABAxZmbwPwAAIIOXbvA\\u002fAAAw1ch28D8AAJjF+X7wPwAAqBcrh\\u002fA\\u002fAAAQCFyP8D8AACBajZfwPwAAMKy+n\\u002fA\\u002fAACYnO+n8D8AAKjuILDwPwAAuEBSuPA\\u002fAAAgMYPA8D8AAIghtMjwPwAAmHPl0PA\\u002fAAAAZBbZ8D8AABC2R+HwPwAAIAh56fA\\u002fAACI+Knx8D8AAJhK2\\u002fnwPwAAADsMAvE\\u002fAAAQjT0K8T8AACDfbhLxPwAAiM+fGvE\\u002fAADwv9Ai8T8AAAASAivxPwAAEGQzM\\u002fE\\u002fAAB4VGQ78T8AAIimlUPxPwAA8JbGS\\u002fE\\u002fAAAA6fdT8T8AABA7KVzxPwAAeCtaZPE\\u002fAACIfYts8T8AAPBtvHTxPwAAWF7tfPE\\u002fAABosB6F8T8AAHgCUI3xPwAA4PKAlfE\\u002fAADwRLKd8T8AAFg146XxPwAAaIcUrvE\\u002fAAB42UW28T8AAODJdr7xPwAA8BuoxvE\\u002fAAAAbtnO8T8AAGheCtfxPwAA0E473\\u002fE\\u002fAADgoGzn8T8AAEiRne\\u002fxPwAAWOPO9\\u002fE\\u002fAABoNQAA8j8AANAlMQjyPwAA4HdiEPI\\u002fAABIaJMY8j8AAFi6xCDyPwAAaAz2KPI\\u002fAADQ\\u002fCYx8j8AADjtVznyPwAASD+JQfI\\u002fAABYkbpJ8j8AAMCB61HyPwAA0NMcWvI\\u002fAAA4xE1i8j8AAEgWf2ryPwAAWGiwcvI\\u002fAADAWOF68j8AANCqEoPyPwAAOJtDi\\u002fI\\u002fAACgi3ST8j8AALDdpZvyPwAAwC\\u002fXo\\u002fI\\u002fAAAoIAis8j8AADhyObTyPwAAoGJqvPI\\u002fAACwtJvE8j8AAMAGzczyPwAAKPf91PI\\u002fAAA4SS\\u002fd8j8AAKA5YOXyPwAAsIuR7fI\\u002fAAAYfML18j8AACjO8\\u002f3yPwAAkL4kBvM\\u002fAACgEFYO8z8AALBihxbzPwAAGFO4HvM\\u002fAAAopekm8z8AAJCVGi\\u002fzPwAAoOdLN\\u002fM\\u002fAACwOX0\\u002f8z8AABgqrkfzPwAAgBrfT\\u002fM\\u002fAACQbBBY8z8AAKC+QWDzPwAACK9yaPM\\u002fAAAYAaRw8z8AAIDx1HjzPwAAkEMGgfM\\u002fAACglTeJ8z8AAAiGaJHzPwAAGNiZmfM\\u002fAACAyMqh8z8AAOi4+6nzPwAA+AotsvM\\u002fAAAIXV668z8AAHBNj8LzPwAAgJ\\u002fAyvM\\u002fAADoj\\u002fHS8z8AAPjhItvzPwAACDRU4\\u002fM\\u002fAABwJIXr8z8AAIB2tvPzPwAA6Gbn+\\u002fM\\u002fAAD4uBgE9D8AAGCpSQz0PwAAcPt6FPQ\\u002fAADY66sc9D8AAOg93ST0PwAA+I8OLfQ\\u002fAABggD819D8AAHDScD30PwAA2MKhRfQ\\u002fAADoFNNN9D8AAFAFBFb0PwAAYFc1XvQ\\u002fAADIR2Zm9D8AANiZl270PwAA6OvIdvQ\\u002fAABQ3Pl+9D8AAGAuK4f0PwAAyB5cj\\u002fQ\\u002fAADYcI2X9D8AAOjCvp\\u002f0PwAAULPvp\\u002fQ\\u002fAAC4oyCw9D8AAMj1Ubj0PwAAMOaCwPQ\\u002fAABAOLTI9D8AAFCK5dD0PwAAuHoW2fQ\\u002fAADIzEfh9D8AADC9eOn0PwAAQA+q8fQ\\u002fAABQYdv59D8AALhRDAL1PwAAIEI9CvU\\u002fAAAwlG4S9T8AAEDmnxr1PwAAqNbQIvU\\u002fAAC4KAIr9T8AACAZMzP1PwAAMGtkO\\u002fU\\u002fAABAvZVD9T8AAKitxkv1PwAAuP\\u002f3U\\u002fU\\u002fAAAg8Chc9T8AADBCWmT1PwAAmDKLbPU\\u002fAACohLx09T8AABB17Xz1PwAAIMcehfU\\u002fAAAwGVCN9T8AAJgJgZX1PwAAqFuynfU\\u002fAAAQTOOl9T8AACCeFK71PwAAMPBFtvU\\u002f\\u002f\\u002f+X4Ha+9T\\u002f\\u002f\\u002f\\u002f\\u002fQp8b1P\\u002f\\u002f\\u002fDyPZzvU\\u002f\\u002f\\u002f93EwrX9T\\u002f\\u002f\\u002f4dlO9\\u002f1P\\u002f\\u002f\\u002fl7ds5\\u002fU\\u002f\\u002f\\u002f\\u002f\\u002fp53v9T\\u002f\\u002f\\u002fw\\u002f6zvf1P\\u002f\\u002f\\u002fd+r\\u002f\\u002f\\u002fU\\u002f\\u002f\\u002f+HPDEI9j\\u002f\\u002f\\u002f5eOYhD2P\\u002f\\u002f\\u002f\\u002f36TGPY\\u002f\\u002f\\u002f9nb8Qg9j\\u002f\\u002f\\u002f3fB9Sj2P\\u002f\\u002f\\u002fhxMnMfY\\u002f\\u002f\\u002f\\u002fvA1g59j\\u002f\\u002f\\u002f\\u002f9ViUH2P\\u002f\\u002f\\u002fZ0a6SfY\\u002f\\u002f\\u002f93mOtR9j\\u002f\\u002f\\u002f4fqHFr2P\\u002f\\u002f\\u002f79pNYvY\\u002f\\u002f\\u002f\\u002f\\u002fLH9q9j\\u002f\\u002f\\u002f2cdsHL2P\\u002f\\u002f\\u002fd2\\u002fhevY\\u002f\\u002f\\u002f\\u002ffXxKD9j\\u002f\\u002f\\u002f++xQ4v2P\\u002f\\u002f\\u002fV6J0k\\u002fY\\u002f\\u002f\\u002f9n9KWb9j\\u002f\\u002f\\u002f3dG16P2P\\u002f\\u002f\\u002f3zYIrPY\\u002f\\u002f\\u002f\\u002fviDm09j\\u002f\\u002f\\u002f1d5arz2P\\u002f\\u002f\\u002fZ8ubxPY\\u002f\\u002f\\u002f93Hc3M9j\\u002f\\u002f\\u002f98N\\u002ftT2P\\u002f\\u002f\\u002fR\\u002f4u3fY\\u002f\\u002f\\u002f9XUGDl9j\\u002f\\u002f\\u002f79Ake32P\\u002f\\u002f\\u002fz5LC9fY\\u002f\\u002f\\u002f\\u002ff5PP99j\\u002f\\u002f\\u002f0fVJAb3P\\u002f\\u002f\\u002fVydWDvc\\u002f\\u002f\\u002f9neYcW9z\\u002f\\u002f\\u002f89puB73P\\u002f\\u002f\\u002f37vpJvc\\u002f\\u002f\\u002f9HrBov9z\\u002f\\u002f\\u002f6+cSzf3P\\u002f\\u002f\\u002fv+58P\\u002fc\\u002f\\u002f\\u002f\\u002fPQK5H9z\\u002f\\u002f\\u002fzcx30\\u002f3P\\u002f\\u002f\\u002fR4MQWPc\\u002f\\u002f\\u002f+vc0Fg9z\\u002f\\u002f\\u002f7\\u002fFcmj3P\\u002f\\u002f\\u002fzxekcPc\\u002f\\u002f\\u002f83CNV49z\\u002f\\u002f\\u002f0daBoH3P\\u002f\\u002f\\u002fr0o3ifc\\u002f\\u002f\\u002f+\\u002fnGiR9z\\u002f\\u002f\\u002fyeNmZn3P\\u002f\\u002f\\u002fN9\\u002fKofc\\u002f\\u002f\\u002f+fz\\u002fup9z\\u002f\\u002f\\u002f68hLbL3P\\u002f\\u002f\\u002fv3Neuvc\\u002f\\u002f\\u002f8nZI\\u002fC9z\\u002f\\u002f\\u002fze2wMr3P\\u002f\\u002f\\u002fn6bx0vc\\u002f\\u002f\\u002f+v+CLb9z\\u002f\\u002f\\u002fxfpU+P3P\\u002f\\u002f\\u002fJzuF6\\u002fc\\u002f\\u002f\\u002f+PK7bz9z\\u002f\\u002f\\u002f5995\\u002fv3P\\u002f\\u002f\\u002fB24YBPg\\u002f\\u002f\\u002f8XwEkM+D\\u002f\\u002f\\u002fycSexT4P\\u002f\\u002f\\u002fjwKsHPg\\u002f\\u002f\\u002f+fVN0k+D\\u002f\\u002f\\u002f6+mDi34P\\u002f\\u002f\\u002fF5c\\u002fNfg\\u002f\\u002f\\u002f8n6XA9+D\\u002f\\u002f\\u002f4\\u002fZoUX4P\\u002f\\u002f\\u002f98nSTfg\\u002f\\u002f\\u002f8HHARW+D\\u002f\\u002f\\u002fxduNV74P\\u002f\\u002f\\u002ff15mZvg\\u002f\\u002f\\u002f+PsJdu+D\\u002f\\u002f\\u002f\\u002fegyHb4P\\u002f\\u002f\\u002fB\\u002fP5fvg\\u002f\\u002f\\u002f8XRSuH+D\\u002f\\u002f\\u002f381XI\\u002f4P\\u002f\\u002f\\u002fj4eNl\\u002fg\\u002f\\u002f\\u002f\\u002f3d76f+D\\u002f\\u002f\\u002fwfK76f4P\\u002f\\u002f\\u002fb7ogsPg\\u002f\\u002f\\u002f9\\u002fDFK4+D\\u002f\\u002f\\u002f+f8gsD4P\\u002f\\u002f\\u002f9060yPg\\u002f\\u002f\\u002f8HoeXQ+D\\u002f\\u002f\\u002f2+RFtn4P\\u002f\\u002f\\u002ff+NH4fg\\u002f\\u002f\\u002f\\u002fn03jp+D\\u002f\\u002f\\u002f\\u002fclqvH4P\\u002f\\u002f\\u002fXxbb+fg\\u002f\\u002f\\u002f9vaAwC+T\\u002f\\u002f\\u002f9dYPQr5P\\u002f\\u002f\\u002f56puEvk\\u002f\\u002f\\u002f9Pm58a+T\\u002f\\u002f\\u002f1\\u002ft0CL5P\\u002f\\u002f\\u002fbz8CK\\u002fk\\u002f\\u002f\\u002f\\u002fXLzMz+T\\u002f\\u002f\\u002f+eBZDv5P\\u002f\\u002f\\u002f99OVQ\\u002fk\\u002f\\u002f\\u002f9fxMZL+T\\u002f\\u002f\\u002f8e091P5P\\u002f\\u002f\\u002f1wYpXPk\\u002f\\u002f\\u002f8\\u002f91lk+T\\u002f\\u002f\\u002f09Ji2z5P\\u002f\\u002f\\u002fX5u8dPk\\u002f\\u002f\\u002f\\u002fHi+18+T\\u002f\\u002f\\u002f9fdHoX5P\\u002f\\u002f\\u002fP85Pjfk\\u002f\\u002f\\u002f9PIIGV+T\\u002f\\u002f\\u002f19ysp35P\\u002f\\u002f\\u002fx2Ljpfk\\u002f\\u002f\\u002f8vUxSu+T\\u002f\\u002f\\u002fz+lRbb5P\\u002f\\u002f\\u002fT\\u002fd2vvk\\u002f\\u002f\\u002f+356fG+T\\u002f\\u002f\\u002f8c52c75P\\u002f\\u002f\\u002fLyoK1\\u002fk\\u002f\\u002f\\u002f8\\u002ffDvf+T\\u002f\\u002f\\u002f0\\u002fObOf5P\\u002f\\u002f\\u002ft76d7\\u002fk\\u002f\\u002f\\u002f\\u002fHEM\\u002f3+T\\u002f\\u002f\\u002fy8BAAD6P\\u002f\\u002f\\u002fl\\u002fEwCPo\\u002f\\u002f\\u002f+nQ2IQ+j\\u002f\\u002f\\u002f7eVkxj6P\\u002f\\u002f\\u002fH4bEIPo\\u002f\\u002f\\u002f8v2PUo+j\\u002f\\u002f\\u002f5fIJjH6P\\u002f\\u002f\\u002fpxpYOfo\\u002f\\u002f\\u002f+3bIlB+j\\u002f\\u002f\\u002fx9dukn6P\\u002f\\u002f\\u002fL6\\u002frUfo\\u002f\\u002f\\u002f8\\u002fAR1a+j\\u002f\\u002f\\u002f6fxTWL6P\\u002f\\u002f\\u002fD+J+avo\\u002f\\u002f\\u002f8fNLBy+j\\u002f\\u002f\\u002f4ck4Xr6P\\u002f\\u002f\\u002fl3YSg\\u002fo\\u002f\\u002f\\u002f+nyEOL+j\\u002f\\u002f\\u002fw+5dJP6P\\u002f\\u002f\\u002fHwumm\\u002fo\\u002f\\u002f\\u002f+H+9aj+j\\u002f\\u002f\\u002f5dNCKz6P\\u002f\\u002f\\u002fp585tPo\\u002f\\u002f\\u002f8PkGq8+j\\u002f\\u002f\\u002f3eAm8T6P\\u002f\\u002f\\u002fh9LMzPo\\u002f\\u002f\\u002f+XJP7U+j\\u002f\\u002f\\u002f\\u002f8UL936P\\u002f\\u002f\\u002fD2dg5fo\\u002f\\u002f\\u002f93V5Ht+j\\u002f\\u002f\\u002f4epwvX6P\\u002f\\u002f\\u002fl\\u002fvz\\u002ffo\\u002f\\u002f\\u002f\\u002f\\u002f6yQG+z\\u002f\\u002f\\u002fw8+Vg77P\\u002f\\u002f\\u002fdy6HFvs\\u002f\\u002f\\u002f\\u002ffHrge+z\\u002f\\u002f\\u002f+9w6Sb7P\\u002f\\u002f\\u002f\\u002f8IaL\\u002fs\\u002f\\u002f\\u002f9ns0s3+z\\u002f\\u002f\\u002f3cFfT\\u002f7P\\u002f\\u002f\\u002f3\\u002fWtR\\u002fs\\u002f\\u002f\\u002f\\u002fvR99P+z\\u002f\\u002f\\u002f\\u002f+ZEFj7P\\u002f\\u002f\\u002fZ4pBYPs\\u002f\\u002f\\u002f933HJo+z\\u002f\\u002f\\u002f4cupHD7Pw==\"},\"y\":{\"dtype\":\"f8\",\"bdata\":\"7N2xyaz6Xr8b1UR+miJXvxBqxuj6bRG\\u002f2FltvVafcj+ebwbaZFOVP5YaOXY7DbM\\u002fpdVN5vUEzT+CuxHV\\u002f1jiP+3hW\\u002f5Jg\\u002fI\\u002fbvAKadHW\\u002fD+pb2dBruwAQLBU1rQ3bv0\\u002fFtEB8eS88j9PFH6AVFjhP5TlfPpVR8c\\u002fMK+pdInUpj8N6qnIg4yBPzvmCAXpkGA\\u002frIj9V4lYVT+GCoXcpuNWP\\u002fFavxfC\\u002fFk\\u002fS5E2mhD1XT8O0UXr9FViP5TfkkhohGo\\u002flDHHmha6eT8o8jJ1WJiQP7D7SWxCX6g\\u002flKZ7PEV5wT+4wnaURgDWPzln8st1nOY\\u002fu0OW\\u002fQkI8j\\u002fQWJe0k5D1P\\u002fcSd7n86fI\\u002f2qm6AkgD6D\\u002fd4N2n9\\u002ffVP0LVVhCXVr0\\u002fxXmiWQH7nj+ILfBaYW+CP3gQUl9Z0XU\\u002fuuuNjAt1dD+KiFUxqQJ1P7iFZ8Kn3nU\\u002fMa0csv2+dj\\u002f6TD2Bqp93P0yFYfNdgHg\\u002fcTQ06hFheT+qdczrxUF6P8SoWu55Ins\\u002fJ2gr8S0DfD9deJ7o4eN8P\\u002ftkGe6VxH0\\u002fb01l+kmlfj+iJTUd\\u002foV\\u002fP+CW5kRZM4A\\u002femsi87OjgD87mzkkEBSBP9qYWyVxhIE\\u002f\\u002f8PUh+H0gT9iyGBNgmWCPxJbAl661oI\\u002fOPkN3sdJgz+UgTfdesKDPwlwBFtvTIQ\\u002f+4QPTboKhT8tfxlPlGaGP5lPr\\u002fA6mYk\\u002fr2QXngggkT9Zlp29f3edP+YQX1rDPrA\\u002fRKhHanmMxD9RbczoaTfaP6XqWAbYLe4\\u002fNKhBSv6Q\\u002fD8wl\\u002ffdErkEQAUcuv6T\\u002fAVAE88I\\u002f\\u002ficAEDq9uGlJ7zxPyPcilc0Kts\\u002fC01ABb8HwD9I\\u002finUuseiPzq\\u002fkssgEpI\\u002fGZ\\u002frA0e7jT\\u002fQT5jsGx2NPx5YIQYbZY0\\u002fLUUHo1\\u002fPjT+HK\\u002fH1yz6OP06MtVYJr44\\u002fGFIO5Hgfjz\\u002f45i8CIZCPP5tNIFutAJA\\u002fsOzYwhQ6kD\\u002fJcNjsrnWQP+JlA3tat5A\\u002fn3WKMqkJkT+wa9F4R4mRP1hIMdZ5g5I\\u002f8MWnrxbHlD+Wpwh+HnqaP5AhTmW1pKQ\\u002fhv7YibAFtD9X5KMzUazGPwj7eqHMg9s\\u002f6Exnp8SD8D\\u002fRT7EF1fEBQC9Do+b8BxBAlHofrUuwFUAlVp8iDgoVQFH4vJCIjQxAgPmeY3NC+z90Hf+pqinjP4DrtAPlXMY\\u002fRhVBdLeFrD9Md2iH99qcPxRw71cf8pY\\u002f3CJUFW3alT+CF3Jhj8mVP1laknuH8ZU\\u002f1kh9Bgkmlj+xCYz+XF2WPyc359pWlZY\\u002fZF+nkXfNlj8hb7SPoQWXP2+JUdGGEJc\\u002fZ75RYgIWlz+OXEgXfhuXP\\u002fdd39X5IJc\\u002fDc7olnUmlz+McplY8SuXPwKDdxptMZc\\u002f\\u002fyFi3Og2lz83SVCeZDyXP1WX9F\\u002fgQZc\\u002f8w3kIVxHlz\\u002fVndPj10yXP0g8w6VTUpc\\u002fOPGyZ89Xlz+H26IpS12XPzZNk+vGYpc\\u002faheFrUJolz\\u002f6bS9vvm2XP1w1LTE6c5c\\u002fUHdA87V4lz\\u002f\\u002fKom1MX6XP+YVVnitg5c\\u002fWipoPCmJlz86XZUDpY6XPxusBNIglJc\\u002fsmv\\u002fspyZlz9Fcti\\u002fGJ+XP\\u002f8VhzWVpJc\\u002fSPNWpBKqlz\\u002f\\u002feNNfkq+XP1m1nYIXtZc\\u002fserNRam6lz8lX\\u002fdfWMCXP8d9DElLxpc\\u002fAmvuCtrMlz+UJAQJzdSXP3vgLuHp35c\\u002fLVWp7y3ylz\\u002fHY7RBiBSYP3CMWQbfWpg\\u002fNWoIxEfxmD\\u002fCUAbw5jiaP0rB7MqsBp0\\u002fsmgaC3CVoT8A4aISQkqoPxPVJAcZcLM\\u002fw55n8cGcwT\\u002flyC5ONk7RPyo+\\u002f7R6uuE\\u002faiy0bBdD8j+h9hQ5BcwBQJpfSG+Cig1AaRl\\u002fLN+YEkCELFbfnH8QQFlvPB3TgwRAW6X+n7Uo8z\\u002fBJY0pd5\\u002feP9lRxp7rNcg\\u002fsod\\u002fZwlntT84C0jgm12nP2LgAEnoUKA\\u002frMjnk\\u002fp3mz\\u002ffjuOZdpCZP+9Jsi293Jg\\u002fFdfjFtybmD8ZTy0OUIaYP7J6KEVMgZg\\u002fUdFd1aiCmD\\u002fGt5XZgYaYP5QwIqpVi5g\\u002f43viW42QmD8lDl0\\u002f7ZWYP72Kc3pdm5g\\u002f+3KVbNSgmD88WEopTqaYP1XTcxTJq5g\\u002fFY7FhUSxmD+7TXk+wLaYP6fAfzI8vJg\\u002fMw1CfLjBmD\\u002fZBUhoNceYP0NXtbqvypg\\u002f\\u002fy6d+VHMmD8oCgCs+c2YPxXv9Yesz5g\\u002fKFcoJXbRmD\\u002fqAxDtbdOYP97fMvHC1Zg\\u002fFoAfYdPYmD9I0wDRWt2YP7S7EBrN5Jg\\u002fubq\\u002fDwjymD9SPlYDrQqZPwYqn1u+OZk\\u002fWCAQpqmUmT+JCIpX80SaP71uKWOxmps\\u002fvIHsVKkvnj9EKtmM6ZShPzCh9s9NXKY\\u002fcPZ9hP9\\u002frz8K8mA62HO4P2CF0v04esQ\\u002fWzteGjYH0j8+JafojVTgPwTe50083u0\\u002fYV7MAzWJ+j8iiMcQoNwEQJK44y54hQlAYEaCg55fBkBsAcJb4qT8P0h2XAgC9+0\\u002fN4ONQ2BS3T\\u002f6p0fWsTTNP42b4DQk5L4\\u002fk56kC+D6sT+WVGqNiMGnP5Y7jmr+8aE\\u002fEc+toUVRnj\\u002fesRuvbKCbP+XTqgLQUZo\\u002fQfqA2IKumT8hww+9p16ZP6J6K168N5k\\u002fvVlImwolmT9dpPntaByZP7Cawb3RGJk\\u002fQWS0gsUXmT9HgLzWAxiZPw0M3yfrGJk\\u002f6MQ+cSkamT\\u002fiqZTGlBuZPyupg5gXHZk\\u002fg80DvaYemT\\u002fAuVRjPCCZP80nsX7VIZk\\u002fmokvc3AjmT\\u002fElk1mDCWZPzHXK+OoJpk\\u002feTYLq0UomT\\u002fihP2b4imZPxMTkaN\\u002fK5k\\u002fL2iutxwtmT+ndcjSuS6ZP\\u002fURt\\u002fFWMJk\\u002fVczwEvQxmT8ev2o1kTOZP040m1guNZk\\u002fiTk0fMs2mT9QegmgaDiZP3meAcQFOpk\\u002flAn456I7mT9yXxAMQD2ZP2azLzDdPpk\\u002fjClTVHpAmT+aFHl4F0KZP0B3oJy0Q5k\\u002fS7vIwFFFmT9Bh\\u002fHk7kaZP2SdBAmMSJk\\u002f5u0tLSlKmT8ZXVdRxkuZPw9D7bwiTJk\\u002fpgVGR05FmT94z57ReT6ZP8ud91ulN5k\\u002f9Kyt5tAwmT\\u002fhfwZx\\u002fCmZP\\u002fFTX\\u002fsnI5k\\u002fvCi4hVMcmT8J\\u002fhAQfxWZP7fTaZqqDpk\\u002fwqnCJNYHmT8+gBuvAQGZP2iV0Tkt+pg\\u002ft20qxFjzmD8SSINOhOyYPx4m3Niv5Zg\\u002f3go1Y9vemD+\\u002f+43tBtiYP4cC53cy0Zg\\u002fr26dAl7KmD9g4\\u002faMicOYP\\u002frVUBe1vJg\\u002fi6iroeC1mD\\u002fnBwgsDK+YP6EjZ7Y3qJg\\u002fNA\\u002fLQGOhmD\\u002fsaDfLjpqYPzu4D1a6k5g\\u002fI2Ok4OWMmD\\u002fzamVrEYaYP7cKc\\u002fY8f5g\\u002f7nMEgmh4mD9Ev3cOlHGYP0PmbJy\\u002fapg\\u002f4fhPLetjmD+fVS\\u002fCFl2YPzmLaF5CVpg\\u002f9RcCB25PmD98QWDEmUiYPzSvdqTFQZg\\u002fJWtnvvE6mD\\u002fgNcA4HjSYP\\u002f4Yp1FLLZg\\u002ffg2ScHkmmD8N2fg9qR+YP1a6U8zbGJg\\u002fhvns2BISmD+20kQ0UQuYPxCKQWebBJg\\u002f\\u002fWLEu\\u002fj9lz\\u002f1Bm\\u002fadPeXPwCXVGAi8Zc\\u002fvS+74h7rlz8evTNHmeWXP+NP65rb4Jc\\u002fhCEyalrdlz\\u002fabrmazNuXP0zElBdQ3Zc\\u002fjkSGaKLjlz8uHwysd\\u002fGXP2+irHr\\u002fCpg\\u002fAb365a42mD\\u002fPuQgkdX6YPwLcBT2M8Zg\\u002ffxdn3jenmT9NXrA96cKaP8ylj9Zqepw\\u002f3JW9gygfnz8JUAMz95WhPyCaXh+urKQ\\u002fRLeFIBheqT\\u002fMCV5yeTywP2cWWhWPmLU\\u002fJiPanNKnvT+YuJYyQt7EP77j46\\u002fJ5M0\\u002fmKFPujir1T\\u002fIov8wk6bfP7Yrn\\u002fnFNuc\\u002fErCEXzsP8T\\u002fymlVVJxX5P13Yplf7bAJA96thj6cDC0BOETajwKUTQBUGZlNprRtAaGHo3zvYIUBrYZLqBaojQEzdrf5c5CFAkFC2tN2OG0BR+anLHzATQLFS5IysuAlA\\u002fSIkT5YiAUBUsHaShOf2P1qHhDLdx+4\\u002f899b7bXR5D\\u002fmRWBmdWTcP\\u002fa4KPo5j9M\\u002fcN3l1atNyz8twngBjGDDPxpvIr+TFrw\\u002fHdaIqNbjtD8ASchkcgSwP0BnnP3Maqk\\u002frJDgnqjopD+Q+vBvqtOhP9jefH+TbJ8\\u002f2MNuwIuCnD++Jzg\\u002fF36aP01NaGaXFpk\\u002fE8Plk6samD8kXNI8sGiXP866qhCn6ZY\\u002f\\u002fruFr8+Nlj+pBvUqWUqWP3COnr\\u002fPF5Y\\u002f\\u002fl4M5w7xlT\\u002f7OG5Nh9KVP4B0pWjAuZU\\u002fRNVqTgKllT8Y8EJcGpOVP71PbxUyg5U\\u002fQiSWS7N0lT+3Q8ZxNGeVP\\u002f1IdDtrWpU\\u002fVmSUQSNOlT+mzmVqN0KVPw==\"},\"type\":\"scatter\"}],                        {\"legend\":{\"x\":1.0,\"xanchor\":\"right\",\"y\":1.0,\"yanchor\":\"top\"},\"margin\":{\"autoexpand\":true,\"b\":45,\"r\":30,\"t\":40},\"title\":{\"text\":\"Measured vs Calculated data for experiment \\ud83d\\udd2c 'sim_si'\"},\"xaxis\":{\"mirror\":true,\"showline\":true,\"title\":{\"text\":\"d (\\u00c5)\"},\"zeroline\":false,\"tickformat\":\",.6~g\",\"separatethousands\":true},\"yaxis\":{\"mirror\":true,\"showline\":true,\"title\":{\"text\":\"Intensity (arb. units)\"},\"zeroline\":false,\"tickformat\":\",.6~g\",\"separatethousands\":true},\"template\":{\"data\":{\"histogram2dcontour\":[{\"type\":\"histogram2dcontour\",\"colorbar\":{\"outlinewidth\":0,\"ticks\":\"\"},\"colorscale\":[[0.0,\"#0d0887\"],[0.1111111111111111,\"#46039f\"],[0.2222222222222222,\"#7201a8\"],[0.3333333333333333,\"#9c179e\"],[0.4444444444444444,\"#bd3786\"],[0.5555555555555556,\"#d8576b\"],[0.6666666666666666,\"#ed7953\"],[0.7777777777777778,\"#fb9f3a\"],[0.8888888888888888,\"#fdca26\"],[1.0,\"#f0f921\"]]}],\"choropleth\":[{\"type\":\"choropleth\",\"colorbar\":{\"outlinewidth\":0,\"ticks\":\"\"}}],\"histogram2d\":[{\"type\":\"histogram2d\",\"colorbar\":{\"outlinewidth\":0,\"ticks\":\"\"},\"colorscale\":[[0.0,\"#0d0887\"],[0.1111111111111111,\"#46039f\"],[0.2222222222222222,\"#7201a8\"],[0.3333333333333333,\"#9c179e\"],[0.4444444444444444,\"#bd3786\"],[0.5555555555555556,\"#d8576b\"],[0.6666666666666666,\"#ed7953\"],[0.7777777777777778,\"#fb9f3a\"],[0.8888888888888888,\"#fdca26\"],[1.0,\"#f0f921\"]]}],\"heatmap\":[{\"type\":\"heatmap\",\"colorbar\":{\"outlinewidth\":0,\"ticks\":\"\"},\"colorscale\":[[0.0,\"#0d0887\"],[0.1111111111111111,\"#46039f\"],[0.2222222222222222,\"#7201a8\"],[0.3333333333333333,\"#9c179e\"],[0.4444444444444444,\"#bd3786\"],[0.5555555555555556,\"#d8576b\"],[0.6666666666666666,\"#ed7953\"],[0.7777777777777778,\"#fb9f3a\"],[0.8888888888888888,\"#fdca26\"],[1.0,\"#f0f921\"]]}],\"contourcarpet\":[{\"type\":\"contourcarpet\",\"colorbar\":{\"outlinewidth\":0,\"ticks\":\"\"}}],\"contour\":[{\"type\":\"contour\",\"colorbar\":{\"outlinewidth\":0,\"ticks\":\"\"},\"colorscale\":[[0.0,\"#0d0887\"],[0.1111111111111111,\"#46039f\"],[0.2222222222222222,\"#7201a8\"],[0.3333333333333333,\"#9c179e\"],[0.4444444444444444,\"#bd3786\"],[0.5555555555555556,\"#d8576b\"],[0.6666666666666666,\"#ed7953\"],[0.7777777777777778,\"#fb9f3a\"],[0.8888888888888888,\"#fdca26\"],[1.0,\"#f0f921\"]]}],\"surface\":[{\"type\":\"surface\",\"colorbar\":{\"outlinewidth\":0,\"ticks\":\"\"},\"colorscale\":[[0.0,\"#0d0887\"],[0.1111111111111111,\"#46039f\"],[0.2222222222222222,\"#7201a8\"],[0.3333333333333333,\"#9c179e\"],[0.4444444444444444,\"#bd3786\"],[0.5555555555555556,\"#d8576b\"],[0.6666666666666666,\"#ed7953\"],[0.7777777777777778,\"#fb9f3a\"],[0.8888888888888888,\"#fdca26\"],[1.0,\"#f0f921\"]]}],\"mesh3d\":[{\"type\":\"mesh3d\",\"colorbar\":{\"outlinewidth\":0,\"ticks\":\"\"}}],\"scatter\":[{\"fillpattern\":{\"fillmode\":\"overlay\",\"size\":10,\"solidity\":0.2},\"type\":\"scatter\"}],\"parcoords\":[{\"type\":\"parcoords\",\"line\":{\"colorbar\":{\"outlinewidth\":0,\"ticks\":\"\"}}}],\"scatterpolargl\":[{\"type\":\"scatterpolargl\",\"marker\":{\"colorbar\":{\"outlinewidth\":0,\"ticks\":\"\"}}}],\"bar\":[{\"error_x\":{\"color\":\"#2a3f5f\"},\"error_y\":{\"color\":\"#2a3f5f\"},\"marker\":{\"line\":{\"color\":\"white\",\"width\":0.5},\"pattern\":{\"fillmode\":\"overlay\",\"size\":10,\"solidity\":0.2}},\"type\":\"bar\"}],\"scattergeo\":[{\"type\":\"scattergeo\",\"marker\":{\"colorbar\":{\"outlinewidth\":0,\"ticks\":\"\"}}}],\"scatterpolar\":[{\"type\":\"scatterpolar\",\"marker\":{\"colorbar\":{\"outlinewidth\":0,\"ticks\":\"\"}}}],\"histogram\":[{\"marker\":{\"pattern\":{\"fillmode\":\"overlay\",\"size\":10,\"solidity\":0.2}},\"type\":\"histogram\"}],\"scattergl\":[{\"type\":\"scattergl\",\"marker\":{\"colorbar\":{\"outlinewidth\":0,\"ticks\":\"\"}}}],\"scatter3d\":[{\"type\":\"scatter3d\",\"line\":{\"colorbar\":{\"outlinewidth\":0,\"ticks\":\"\"}},\"marker\":{\"colorbar\":{\"outlinewidth\":0,\"ticks\":\"\"}}}],\"scattermap\":[{\"type\":\"scattermap\",\"marker\":{\"colorbar\":{\"outlinewidth\":0,\"ticks\":\"\"}}}],\"scattermapbox\":[{\"type\":\"scattermapbox\",\"marker\":{\"colorbar\":{\"outlinewidth\":0,\"ticks\":\"\"}}}],\"scatterternary\":[{\"type\":\"scatterternary\",\"marker\":{\"colorbar\":{\"outlinewidth\":0,\"ticks\":\"\"}}}],\"scattercarpet\":[{\"type\":\"scattercarpet\",\"marker\":{\"colorbar\":{\"outlinewidth\":0,\"ticks\":\"\"}}}],\"carpet\":[{\"aaxis\":{\"endlinecolor\":\"#2a3f5f\",\"gridcolor\":\"#C8D4E3\",\"linecolor\":\"#C8D4E3\",\"minorgridcolor\":\"#C8D4E3\",\"startlinecolor\":\"#2a3f5f\"},\"baxis\":{\"endlinecolor\":\"#2a3f5f\",\"gridcolor\":\"#C8D4E3\",\"linecolor\":\"#C8D4E3\",\"minorgridcolor\":\"#C8D4E3\",\"startlinecolor\":\"#2a3f5f\"},\"type\":\"carpet\"}],\"table\":[{\"cells\":{\"fill\":{\"color\":\"#EBF0F8\"},\"line\":{\"color\":\"white\"}},\"header\":{\"fill\":{\"color\":\"#C8D4E3\"},\"line\":{\"color\":\"white\"}},\"type\":\"table\"}],\"barpolar\":[{\"marker\":{\"line\":{\"color\":\"white\",\"width\":0.5},\"pattern\":{\"fillmode\":\"overlay\",\"size\":10,\"solidity\":0.2}},\"type\":\"barpolar\"}],\"pie\":[{\"automargin\":true,\"type\":\"pie\"}]},\"layout\":{\"autotypenumbers\":\"strict\",\"colorway\":[\"#636efa\",\"#EF553B\",\"#00cc96\",\"#ab63fa\",\"#FFA15A\",\"#19d3f3\",\"#FF6692\",\"#B6E880\",\"#FF97FF\",\"#FECB52\"],\"font\":{\"color\":\"#2a3f5f\"},\"hovermode\":\"closest\",\"hoverlabel\":{\"align\":\"left\"},\"paper_bgcolor\":\"white\",\"plot_bgcolor\":\"white\",\"polar\":{\"bgcolor\":\"white\",\"angularaxis\":{\"gridcolor\":\"#EBF0F8\",\"linecolor\":\"#EBF0F8\",\"ticks\":\"\"},\"radialaxis\":{\"gridcolor\":\"#EBF0F8\",\"linecolor\":\"#EBF0F8\",\"ticks\":\"\"}},\"ternary\":{\"bgcolor\":\"white\",\"aaxis\":{\"gridcolor\":\"#DFE8F3\",\"linecolor\":\"#A2B1C6\",\"ticks\":\"\"},\"baxis\":{\"gridcolor\":\"#DFE8F3\",\"linecolor\":\"#A2B1C6\",\"ticks\":\"\"},\"caxis\":{\"gridcolor\":\"#DFE8F3\",\"linecolor\":\"#A2B1C6\",\"ticks\":\"\"}},\"coloraxis\":{\"colorbar\":{\"outlinewidth\":0,\"ticks\":\"\"}},\"colorscale\":{\"sequential\":[[0.0,\"#0d0887\"],[0.1111111111111111,\"#46039f\"],[0.2222222222222222,\"#7201a8\"],[0.3333333333333333,\"#9c179e\"],[0.4444444444444444,\"#bd3786\"],[0.5555555555555556,\"#d8576b\"],[0.6666666666666666,\"#ed7953\"],[0.7777777777777778,\"#fb9f3a\"],[0.8888888888888888,\"#fdca26\"],[1.0,\"#f0f921\"]],\"sequentialminus\":[[0.0,\"#0d0887\"],[0.1111111111111111,\"#46039f\"],[0.2222222222222222,\"#7201a8\"],[0.3333333333333333,\"#9c179e\"],[0.4444444444444444,\"#bd3786\"],[0.5555555555555556,\"#d8576b\"],[0.6666666666666666,\"#ed7953\"],[0.7777777777777778,\"#fb9f3a\"],[0.8888888888888888,\"#fdca26\"],[1.0,\"#f0f921\"]],\"diverging\":[[0,\"#8e0152\"],[0.1,\"#c51b7d\"],[0.2,\"#de77ae\"],[0.3,\"#f1b6da\"],[0.4,\"#fde0ef\"],[0.5,\"#f7f7f7\"],[0.6,\"#e6f5d0\"],[0.7,\"#b8e186\"],[0.8,\"#7fbc41\"],[0.9,\"#4d9221\"],[1,\"#276419\"]]},\"xaxis\":{\"gridcolor\":\"#EBF0F8\",\"linecolor\":\"#EBF0F8\",\"ticks\":\"\",\"title\":{\"standoff\":15},\"zerolinecolor\":\"#EBF0F8\",\"automargin\":true,\"zerolinewidth\":2},\"yaxis\":{\"gridcolor\":\"#EBF0F8\",\"linecolor\":\"#EBF0F8\",\"ticks\":\"\",\"title\":{\"standoff\":15},\"zerolinecolor\":\"#EBF0F8\",\"automargin\":true,\"zerolinewidth\":2},\"scene\":{\"xaxis\":{\"backgroundcolor\":\"white\",\"gridcolor\":\"#DFE8F3\",\"linecolor\":\"#EBF0F8\",\"showbackground\":true,\"ticks\":\"\",\"zerolinecolor\":\"#EBF0F8\",\"gridwidth\":2},\"yaxis\":{\"backgroundcolor\":\"white\",\"gridcolor\":\"#DFE8F3\",\"linecolor\":\"#EBF0F8\",\"showbackground\":true,\"ticks\":\"\",\"zerolinecolor\":\"#EBF0F8\",\"gridwidth\":2},\"zaxis\":{\"backgroundcolor\":\"white\",\"gridcolor\":\"#DFE8F3\",\"linecolor\":\"#EBF0F8\",\"showbackground\":true,\"ticks\":\"\",\"zerolinecolor\":\"#EBF0F8\",\"gridwidth\":2}},\"shapedefaults\":{\"line\":{\"color\":\"#2a3f5f\"}},\"annotationdefaults\":{\"arrowcolor\":\"#2a3f5f\",\"arrowhead\":0,\"arrowwidth\":1},\"geo\":{\"bgcolor\":\"white\",\"landcolor\":\"white\",\"subunitcolor\":\"#C8D4E3\",\"showland\":true,\"showlakes\":true,\"lakecolor\":\"white\"},\"title\":{\"x\":0.05},\"mapbox\":{\"style\":\"light\"}}}},                        {\"displaylogo\": false, \"modeBarButtonsToRemove\": [\"select2d\", \"lasso2d\", \"zoomIn2d\", \"zoomOut2d\", \"autoScale2d\"], \"responsive\": true}                    )                };            </script>        </div>"
      ],
      "text/plain": [
       "<IPython.core.display.HTML object>"
      ]
     },
     "metadata": {},
     "output_type": "display_data"
    }
   ],
   "source": [
    "project_1.plot_meas_vs_calc(expt_name='sim_si', d_spacing=True)"
   ]
  },
  {
   "cell_type": "markdown",
   "id": "78",
   "metadata": {
    "lines_to_next_cell": 0
   },
   "source": [
    "As you can see, the calculated diffraction pattern now matches the measured\n",
    "pattern much more closely. Typically, additional experimental parameters are included in\n",
    "the refinement process to further improve the fit. In this example, the structural\n",
    "parameters are not refined because the Si crystal structure is a well-known\n",
    "standard reference used to calibrate both the instrument and the experimental\n",
    "setup. The refined experimental parameters obtained here will then be applied\n",
    "when fitting the crystal structures of other materials.\n",
    "\n",
    "In the next part of the notebook, we will move to a more advanced case and\n",
    "fit a more complex crystal structure: La₀.₅Ba₀.₅CoO₃ (LBCO).\n"
   ]
  },
  {
   "cell_type": "markdown",
   "id": "79",
   "metadata": {},
   "source": [
    "#### Save Project\n",
    "\n",
    "Before moving on, we can save the project to disk for later use. This will\n",
    "preserve the entire project structure, including experiments, sample models,\n",
    "and fitting results. The project is saved into a directory specified by the\n",
    "`dir_path` attribute of the project object."
   ]
  },
  {
   "cell_type": "code",
   "execution_count": 28,
   "id": "80",
   "metadata": {
    "execution": {
     "iopub.execute_input": "2025-08-31T19:33:11.823135Z",
     "iopub.status.busy": "2025-08-31T19:33:11.823010Z",
     "iopub.status.idle": "2025-08-31T19:33:11.827692Z",
     "shell.execute_reply": "2025-08-31T19:33:11.827307Z"
    }
   },
   "outputs": [
    {
     "name": "stdout",
     "output_type": "stream",
     "text": [
      "\n",
      "\u001b[94m\u001b[1mSaving project 📦 \u001b[0m'reference'\u001b[94m\u001b[1m to\u001b[0m\n",
      "/Users/runner/work/diffraction-lib/diffraction-lib/tutorials/powder_diffraction_Si\n",
      "✅ project.cif\n",
      "✅ sample_models/si.cif\n",
      "✅ experiments/sim_si.cif\n",
      "✅ analysis.cif\n",
      "✅ summary.cif\n"
     ]
    }
   ],
   "source": [
    "project_1.save_as(dir_path='powder_diffraction_Si')"
   ]
  },
  {
   "cell_type": "markdown",
   "id": "81",
   "metadata": {},
   "source": [
    "## 💪 Exercise: Complex Fit – LBCO\n",
    "\n",
    "Now that you have a basic understanding of the fitting process, we will\n",
    "undertake a more complex fit of the La₀.₅Ba₀.₅CoO₃ (LBCO) crystal structure\n",
    "using simulated powder diffraction data from the data reduction notebook.\n",
    "\n",
    "You can use the same approach as in the previous part of the notebook, but\n",
    "this time we will refine a more complex crystal structure LBCO with multiple\n",
    "atoms in the unit cell.\n",
    "\n",
    "### 📦 Exercise 1: Create a Project\n",
    "\n",
    "Create a new project for the LBCO fit."
   ]
  },
  {
   "cell_type": "markdown",
   "id": "82",
   "metadata": {},
   "source": [
    "**Hint:**"
   ]
  },
  {
   "cell_type": "markdown",
   "id": "83",
   "metadata": {},
   "source": [
    "You can use the same approach as in the previous part of the\n",
    "notebook, but this time we will create a new project for the LBCO fit."
   ]
  },
  {
   "cell_type": "markdown",
   "id": "84",
   "metadata": {},
   "source": [
    "**Solution:**"
   ]
  },
  {
   "cell_type": "code",
   "execution_count": 29,
   "id": "85",
   "metadata": {
    "execution": {
     "iopub.execute_input": "2025-08-31T19:33:11.829651Z",
     "iopub.status.busy": "2025-08-31T19:33:11.829514Z",
     "iopub.status.idle": "2025-08-31T19:33:11.837874Z",
     "shell.execute_reply": "2025-08-31T19:33:11.837404Z"
    }
   },
   "outputs": [],
   "source": [
    "project_2 = ed.Project(name='main')\n",
    "project_2.info.title = 'La0.5Ba0.5CoO3 Fit'\n",
    "project_2.info.description = 'Fitting simulated powder diffraction pattern of La0.5Ba0.5CoO3.'"
   ]
  },
  {
   "cell_type": "markdown",
   "id": "86",
   "metadata": {},
   "source": [
    "### 🔬 Exercise 2: Define an Experiment\n",
    "\n",
    "#### Exercise 2.1: Create an Experiment\n",
    "\n",
    "Create an experiment within the new project and load the reduced diffraction\n",
    "pattern for LBCO."
   ]
  },
  {
   "cell_type": "markdown",
   "id": "87",
   "metadata": {},
   "source": [
    "**Hint:**"
   ]
  },
  {
   "cell_type": "markdown",
   "id": "88",
   "metadata": {},
   "source": [
    "You can use the same approach as in the previous part of the\n",
    "notebook, but this time you need to use the data file for LBCO."
   ]
  },
  {
   "cell_type": "markdown",
   "id": "89",
   "metadata": {},
   "source": [
    "**Solution:**"
   ]
  },
  {
   "cell_type": "code",
   "execution_count": 30,
   "id": "90",
   "metadata": {
    "execution": {
     "iopub.execute_input": "2025-08-31T19:33:11.839519Z",
     "iopub.status.busy": "2025-08-31T19:33:11.839389Z",
     "iopub.status.idle": "2025-08-31T19:33:11.849418Z",
     "shell.execute_reply": "2025-08-31T19:33:11.848786Z"
    }
   },
   "outputs": [
    {
     "name": "stdout",
     "output_type": "stream",
     "text": [
      "\n",
      "⚠️ \u001b[93mWarning\u001b[0m\n",
      "File 'data/reduced_LBCO.xye' already exists and will not be overwritten.\n",
      "\n",
      "\u001b[94m\u001b[1mLoading measured data from ASCII file\u001b[0m\n",
      "/Users/runner/work/diffraction-lib/diffraction-lib/tutorials/data/reduced_LBCO.xye\n",
      "\n",
      "\u001b[94m\u001b[1mData loaded successfully\u001b[0m\n",
      "Experiment 🔬 'sim_lbco'. Number of data points: 900\n"
     ]
    }
   ],
   "source": [
    "dir_path = 'data'\n",
    "file_name = 'reduced_LBCO.xye'\n",
    "lbco_xye_path = f'{dir_path}/{file_name}'\n",
    "\n",
    "# Uncomment the following line if your data reduction failed and the reduced data file is missing.\n",
    "ed.download_from_repository(file_name, destination=dir_path)\n",
    "\n",
    "project_2.experiments.add(\n",
    "    name='sim_lbco',\n",
    "    sample_form='powder',\n",
    "    beam_mode='time-of-flight',\n",
    "    radiation_probe='neutron',\n",
    "    data_path=lbco_xye_path,\n",
    ")"
   ]
  },
  {
   "cell_type": "markdown",
   "id": "91",
   "metadata": {},
   "source": [
    "#### Exercise 2.1: Inspect Measured Data\n",
    "\n",
    "Check the measured data of the LBCO experiment. Are there any\n",
    "peaks with the shape similar to those excluded in the Si fit?\n",
    "If so, exclude them from this analysis as well."
   ]
  },
  {
   "cell_type": "markdown",
   "id": "92",
   "metadata": {},
   "source": [
    "**Hint:**"
   ]
  },
  {
   "cell_type": "markdown",
   "id": "93",
   "metadata": {},
   "source": [
    "You can use the `plot_meas` method of the project to visualize the\n",
    "measured diffraction pattern. You can also use the `excluded_regions`\n",
    "attribute of the experiment to exclude specific regions from the analysis\n",
    "as we did in the previous part of the notebook."
   ]
  },
  {
   "cell_type": "markdown",
   "id": "94",
   "metadata": {},
   "source": [
    "**Solution:**"
   ]
  },
  {
   "cell_type": "code",
   "execution_count": 31,
   "id": "95",
   "metadata": {
    "execution": {
     "iopub.execute_input": "2025-08-31T19:33:11.851329Z",
     "iopub.status.busy": "2025-08-31T19:33:11.851216Z",
     "iopub.status.idle": "2025-08-31T19:33:11.884435Z",
     "shell.execute_reply": "2025-08-31T19:33:11.883914Z"
    }
   },
   "outputs": [
    {
     "name": "stdout",
     "output_type": "stream",
     "text": [
      "\n",
      "\u001b[94m\u001b[1mCurrent plotter changed to\u001b[0m\n",
      "plotly\n"
     ]
    },
    {
     "data": {
      "text/html": [
       "<div>                        <script type=\"text/javascript\">window.PlotlyConfig = {MathJaxConfig: 'local'};</script>\n",
       "        <script charset=\"utf-8\" src=\"https://cdn.plot.ly/plotly-3.1.0.min.js\" integrity=\"sha256-Ei4740bWZhaUTQuD6q9yQlgVCMPBz6CZWhevDYPv93A=\" crossorigin=\"anonymous\"></script>                <div id=\"97301cce-d369-485d-927c-59f964e0f8e0\" class=\"plotly-graph-div\" style=\"height:100%; width:100%;\"></div>            <script type=\"text/javascript\">                window.PLOTLYENV=window.PLOTLYENV || {};                                if (document.getElementById(\"97301cce-d369-485d-927c-59f964e0f8e0\")) {                    Plotly.newPlot(                        \"97301cce-d369-485d-927c-59f964e0f8e0\",                        [{\"line\":{\"color\":\"rgb(31, 119, 180)\"},\"mode\":\"lines+markers\",\"name\":\"Measured (Imeas)\",\"x\":{\"dtype\":\"f8\",\"bdata\":\"rIvbaE4b5EDnjCjt\\u002fSnkQCKOdXGtOORAXI\\u002fC9VxH5ECXkA96DFbkQLraiv27ZORA9dvXgWtz5EAv3SQGG4LkQGrecYrKkORApN++Dnqf5EDHKTqSKa7kQAIrhxbZvORAPSzUmojL5EB3LSEfONrkQLIubqPn6ORA1XjpJpf35EAQejarRgblQEp7gy\\u002f2FOVAhXzQs6Uj5UC\\u002ffR04VTLlQOPHmLsEQeVAHcnlP7RP5UBYyjLEY17lQJLLf0gTbeVAzczMzMJ75UDwFkhQcorlQCsYldQhmeVAZRniWNGn5UCgGi\\u002fdgLblQNobfGEwxeVA\\u002fmX35N\\u002fT5UA4Z0Rpj+LlQHNoke0+8eVArWnece7\\u002f5UDoaiv2nQ7mQAu1pnlNHeZARrbz\\u002ffwr5kCAt0CCrDrmQLu4jQZcSeZA9bnaigtY5kAZBFYOu2bmQFMFo5JqdeZAjgbwFhqE5kDIBz2byZLmQAMJih95oeZAJlMFoyiw5kBhVFIn2L7mQJtVn6uHzeZA1lbsLzfc5kAQWDm05urmQDSitDeW+eZAbqMBvEUI50CppE5A9RbnQOOlm8SkJedAB\\u002fAWSFQ050BB8WPMA0PnQHzysFCzUedAtvP91GJg50Dx9EpZEm\\u002fnQBQ\\u002fxtzBfedAT0ATYXGM50CJQWDlIJvnQMRCrWnQqedA\\u002fkP67X+450AijnVxL8fnQFyPwvXe1edAl5APeo7k50DRkVz+PfPnQAyTqYLtAehAL90kBp0Q6EBq3nGKTB\\u002foQKTfvg78LehA3+ALk6s86EAZ4lgXW0voQD0s1JoKWuhAdy0hH7po6ECyLm6jaXfoQOwvuycZhuhAJzEIrMiU6EBKe4MveKPoQIV80LMnsuhAv30dONfA6ED6fmq8hs\\u002foQDSAt0A23uhAWMoyxOXs6ECSy39IlfvoQM3MzMxECulAB84ZUfQY6UBCz2bVoyfpQGUZ4lhTNulAoBov3QJF6UDaG3xhslPpQBUdyeVhYulATx4WahFx6UBzaJHtwH\\u002fpQK1p3nFwjulA6Gor9h+d6UAibHh6z6vpQF1txf5+uulAgLdAgi7J6UC7uI0G3tfpQPW52oqN5ulAMLsnDz316UBqvHST7APqQI4G8BacEupAyAc9m0sh6kADCYof+y\\u002fqQD0K16OqPupAeAskKFpN6kCbVZ+rCVzqQNZW7C+5aupAEFg5tGh56kBLWYY4GIjqQIZa07zHlupAqaROQHel6kDjpZvEJrTqQB6n6EjWwupAWKg1zYXR6kCTqYJRNeDqQLbz\\u002fdTk7upA8fRKWZT96kAr9pfdQwzrQGb35GHzGutAofgx5qIp60DEQq1pUjjrQP5D+u0BR+tAOUVHcrFV60B0RpT2YGTrQJeQD3oQc+tA0ZFc\\u002fr+B60AMk6mCb5DrQEaU9gYfn+tAgZVDi86t60Ck374OfrzrQN\\u002fgC5Mty+tAGeJYF93Z60BU46WbjOjrQI\\u002fk8h889+tAsi5uo+sF7EDsL7snmxTsQCcxCKxKI+xAYTJVMPox7ECcM6K0qUDsQL99HThZT+xA+n5qvAhe7EA0gLdAuGzsQG+BBMVne+xAqoJRSReK7EDNzMzMxpjsQAfOGVF2p+xAQs9m1SW27EB90LNZ1cTsQLfRAN6E0+xA2ht8YTTi7EAVHcnl4\\u002fDsQE8eFmqT\\u002f+xAih9j7kIO7UDFILBy8hztQOhqK\\u002fahK+1AImx4elE67UBdbcX+AEntQJhuEoOwV+1A0m9fB2Bm7UD1udqKD3XtQDC7Jw+\\u002fg+1Aarx0k26S7UClvcEXHqHtQOC+DpzNr+1AAwmKH32+7UA9CtejLM3tQHgLJCjc2+1AswxxrIvq7UDtDb4wO\\u002fntQBBYObTqB+5AS1mGOJoW7kCGWtO8SSXuQMBbIEH5M+5A+1xtxahC7kAep+hIWFHuQFioNc0HYO5Ak6mCUbdu7kDOqs\\u002fVZn3uQAisHFoWjO5AK\\u002faX3cWa7kBm9+RhdanuQKH4MeYkuO5A2\\u002fl+atTG7kAW+8vug9XuQDlFR3Iz5O5AdEaU9uLy7kCuR+F6kgHvQOlILv9BEO9AI0p7g\\u002fEe70BGlPYGoS3vQIGVQ4tQPO9AvJaQDwBL70D2l92Tr1nvQDGZKhhfaO9AVOOlmw5370CP5PIfvoXvQMnlP6RtlO9ABOeMKB2j70AnMQiszLHvQGEyVTB8wO9AnDOitCvP70DXNO84293vQBE2PL2K7O9ANIC3QDr770C4QILi9ATwQFXBqKRMDPBA8kHPZqQT8ECPwvUo\\u002fBrwQKFns+pTIvBAPujZrKsp8EDcaABvAzHwQHnpJjFbOPBAFmpN87I\\u002f8EAoDwu1CkfwQMWPMXdiTvBAYhBYObpV8EAAkX77EV3wQJ0Rpb1pZPBArrZif8Fr8EBMN4lBGXPwQOm3rwNxevBAhjjWxciB8EAkufyHIInwQDVeukl4kPBA097gC9CX8EBwXwfOJ5\\u002fwQA3gLZB\\u002fpvBAqmBUUtet8EC8BRIUL7XwQFmGONaGvPBA9wZfmN7D8ECUh4VaNsvwQDEIrByO0vBAQ61p3uXZ8EDgLZCgPeHwQH2utmKV6PBAGy\\u002fdJO3v8EC4rwPnRPfwQMpUwaic\\u002fvBAZ9XnavQF8UAEVg4tTA3xQKHWNO+jFPFAP1dbsfsb8UBQ\\u002fBhzUyPxQO58PzWrKvFAi\\u002f1l9wIy8UAofoy5WjnxQMX+snuyQPFA16NwPQpI8UB0JJf\\u002fYU\\u002fxQBKlvcG5VvFAryXkgxFe8UBMpgpGaWXxQF5LyAfBbPFA+8vuyRh08UCYTBWMcHvxQDbNO07IgvFA001iECCK8UDl8h\\u002fSd5HxQIJzRpTPmPFAH\\u002fRsVieg8UC8dJMYf6fxQFr1udrWrvFAa5p3nC628UAJG55ehr3xQKabxCDexPFAQxzr4jXM8UDgnBGljdPxQPJBz2bl2vFAj8L1KD3i8UAtQxzrlOnxQMrDQq3s8PFA3GgAb0T48UB56SYxnP\\u002fxQBZqTfPzBvJAs+pztUsO8kBRa5p3oxXyQGIQWDn7HPJAAJF++1Ik8kCdEaW9qivyQDqSy38CM\\u002fJA1xLyQVo68kDpt68DskHyQIY41sUJSfJAJLn8h2FQ8kDBOSNKuVfyQF66SQwRX\\u002fJAcF8Hzmhm8kAN4C2QwG3yQKpgVFIYdfJASOF6FHB88kDlYaHWx4PyQPcGX5gfi\\u002fJAlIeFWneS8kAxCKwcz5nyQM6I0t4mofJAbAn5oH6o8kB9rrZi1q\\u002fyQBsv3SQut\\u002fJAuK8D54W+8kBVMCqp3cXyQPKwUGs1zfJABFYOLY3U8kCh1jTv5NvyQD9XW7E84\\u002fJA3NeBc5Tq8kB5WKg17PHyQIv9ZfdD+fJAKH6MuZsA80DF\\u002frJ78wfzQGN\\u002f2T1LD\\u002fNAAAAAAKMW80ASpb3B+h3zQK8l5INSJfNATKYKRqos80DpJjEIAjTzQIenV8pZO\\u002fNAmEwVjLFC80A2zTtOCUrzQNNNYhBhUfNAcM6I0rhY80AOT6+UEGDzQB\\u002f0bFZoZ\\u002fNAvHSTGMBu80Ba9bnaF3bzQPd14JxvffNAlPYGX8eE80Cmm8QgH4zzQEMc6+J2k\\u002fNA4JwRpc6a80B+HThnJqLzQBueXil+qfNALUMc69Ww80DKw0KtLbjzQGdEaW+Fv\\u002fNABcWPMd3G80CiRbbzNM7zQLPqc7WM1fNAUWuad+Tc80Du68A5POTzQIts5\\u002fuT6\\u002fNAKe0Nvuvy80A6kst\\u002fQ\\u002frzQNcS8kGbAfRAdZMYBPMI9EASFD\\u002fGShD0QCS5\\u002fIeiF\\u002fRAwTkjSvoe9EBeukkMUib0QPs6cM6pLfRAmbuWkAE19ECqYFRSWTz0QEjhehSxQ\\u002fRA5WGh1ghL9ECC4seYYFL0QCBj7lq4WfRAMQisHBBh9EDOiNLeZ2j0QGwJ+aC\\u002fb\\u002fRACYofYxd39ECmCkYlb370QLivA+fGhfRAVTAqqR6N9EDysFBrdpT0QJAxdy3Om\\u002fRALbKd7yWj9EA\\u002fV1uxfar0QNzXgXPVsfRAeVioNS259EAX2c73hMD0QLRZ9bncx\\u002fRAxf6yezTP9EBjf9k9jNb0QAAAAADk3fRAnYAmwjvl9EA7AU2Ek+z0QEymCkbr8\\u002fRA6SYxCEP79ECHp1fKmgL1QCQofozyCfVAwaikTkoR9UDTTWIQohj1QHDOiNL5H\\u002fVADk+vlFEn9UCrz9VWqS71QEhQ\\u002fBgBNvVAWvW52lg99UD3deCcsET1QJT2Bl8ITPVAMnctIWBT9UDP91Pjt1r1QOCcEaUPYvVAfh04Z2dp9UAbnl4pv3D1QLgehesWePVAVp+rrW5\\u002f9UBnRGlvxob1QAXFjzEejvVAokW283WV9UA\\u002fxty1zZz1QNxGA3glpPVA7uvAOX2r9UCLbOf71LL1QCntDb4suvVAxm00gITB9UBj7lpC3Mj1QHWTGAQ00PVAEhQ\\u002fxovX9UCvlGWI4971QE0VjEo75vVA6pWyDJPt9UD7OnDO6vT1QJm7lpBC\\u002fPVANjy9UpoD9kDTvOMU8gr2QHE9CtdJEvZAguLHmKEZ9kAgY+5a+SD2QL3jFB1RKPZAWmQ736gv9kBsCfmgADf2QAmKH2NYPvZApgpGJbBF9kBEi2znB032QOELk6lfVPZA8rBQa7db9kCQMXctD2P2QC2yne9mavZAyjLEsb5x9kBos+pzFnn2QHlYqDVugPZAF9nO98WH9kC0WfW5HY\\u002f2QFHaG3x1lvZA7lpCPs2d9kAAAAAAJaX2QJ2AJsJ8rPZAOwFNhNSz9kDYgXNGLLv2QHUCmgiEwvZAh6dXytvJ9kAkKH6MM9H2QMGopE6L2PZAXynLEOPf9kD8qfHSOuf2QA5Pr5SS7vZAq8\\u002fVVur19kBIUPwYQv32QOXQItuZBPdAg1FJnfEL90CU9gZfSRP3QDJ3LSGhGvdAz\\u002fdT4\\u002fgh90BseHqlUCn3QAn5oGeoMPdAG55eKQA490C4HoXrVz\\u002f3QFafq62vRvdA8x\\u002fSbwdO90CQoPgxX1X3QKJFtvO2XPdAP8bctQ5k90DcRgN4Zmv3QHrHKTq+cvdAF0hQ\\u002fBV690Ap7Q2+bYH3QMZtNIDFiPdAY+5aQh2Q90AAb4EEdZf3QJ7vp8bMnvdAr5RliCSm90BNFYxKfK33QOqVsgzUtPdAhxbZziu890Akl\\u002f+Qg8P3QDY8vVLbyvdA07zjFDPS90BxPQrXitn3QA6+MJni4PdAqz5XWzro90C94xQdku\\u002f3QFpkO9\\u002fp9vdA9+RhoUH+90CVZYhjmQX4QDLmriXxDPhARIts50gU+EDhC5OpoBv4QH6MuWv4IvhAGw3gLVAq+EAtsp3vpzH4QMoyxLH\\u002fOPhAaLPqc1dA+EAFNBE2r0f4QKK0N\\u002fgGT\\u002fhAtFn1uV5W+EBR2ht8tl34QO5aQj4OZfhAjNtoAGZs+EApXI\\u002fCvXP4QDsBTYQVe\\u002fhA2IFzRm2C+EB1ApoIxYn4QBKDwMockfhAsAPnjHSY+EDBqKROzJ\\u002f4QF8pyxAkp\\u002fhA\\u002fKnx0nuu+ECZKhiV07X4QDarPlcrvfhASFD8GIPE+EDl0CLb2sv4QINRSZ0y0\\u002fhAINJvX4ra+EC9UpYh4uH4QM\\u002f3U+M56fhAbHh6pZHw+EAJ+aBn6ff4QKd5xylB\\u002f\\u002fhARPrt65gG+UBWn6ut8A35QPMf0m9IFflAkKD4MaAc+UAtIR\\u002f09yP5QMuhRbZPK\\u002flA3EYDeKcy+UB6xyk6\\u002fzn5QBdIUPxWQflAtMh2vq5I+UBSSZ2ABlD5QGPuWkJeV\\u002flAAG+BBLZe+UCe76fGDWb5QDtwzohlbflA2PD0Sr10+UDqlbIMFXz5QIcW2c5sg\\u002flAJJf\\u002fkMSK+UDCFyZTHJL5QF+YTBV0mflAcT0K18ug+UAOvjCZI6j5QKs+V1t7r\\u002flASL99HdO2+UDmP6TfKr75QPfkYaGCxflAlWWIY9rM+UAy5q4lMtT5QM9m1eeJ2\\u002flAbef7qeHi+UB+jLlrOer5QBsN4C2R8flAuY0G8Oj4+UBWDi2yQAD6QPOOU3SYB\\u002fpABTQRNvAO+kCitDf4Rxb6QD81XrqfHfpA3bWEfPck+kB6Nqs+Tyz6QIzbaACnM\\u002fpAKVyPwv46+kDG3LWEVkL6QGRd3EauSfpAdQKaCAZR+kASg8DKXVj6QLAD54y1X\\u002fpATYQNTw1n+kDqBDQRZW76QPyp8dK8dfpAmSoYlRR9+kA2qz5XbIT6QNQrZRnEi\\u002fpAcayL2xuT+kCDUUmdc5r6QCDSb1\\u002fLofpAvVKWISOp+kBb07zjerD6QPhT46XSt\\u002fpACfmgZyq\\u002f+kCneccpgsb6QET67evZzfpA4XoUrjHV+kB\\u002f+zpwidz6QJCg+DHh4\\u002fpALSEf9Djr+kDLoUW2kPL6QGgibHjo+fpABaOSOkAB+0AXSFD8lwj7QLTIdr7vD\\u002ftAUkmdgEcX+0DvycNCnx77QIxK6gT3JftAnu+nxk4t+0A7cM6IpjT7QNjw9Er+O\\u002ftAdnEbDVZD+0AT8kHPrUr7QCSX\\u002f5AFUvtAwhcmU11Z+0BfmEwVtWD7QPwYc9cMaPtAmpmZmWRv+0CrPldbvHb7QEi\\u002ffR0UfvtA5j+k32uF+0CDwMqhw4z7QCBB8WMblPtAMuauJXOb+0DPZtXnyqL7QG3n+6kiqvtACmgibHqx+0Cn6Egu0rj7QLmNBvApwPtAVg4tsoHH+0DzjlN02c77QJEPejYx1vtALpCg+Ijd+0A\\u002fNV664OT7QN21hHw47PtAejarPpDz+0AXt9EA6Pr7QLU3+MI\\u002fAvxAxty1hJcJ\\u002fEBkXdxG7xD8QAHeAglHGPxAnl4py54f\\u002fEA730+N9ib8QE2EDU9OLvxA6gQ0EaY1\\u002fECIhVrT\\u002fTz8QCUGgZVVRPxAwoanV61L\\u002fEDUK2UZBVP8QHGsi9tcWvxADi2ynbRh\\u002fECsrdhfDGn8QL1SliFkcPxAW9O847t3\\u002fED4U+OlE3\\u002f8QJXUCWhrhvxAMlUwKsON\\u002fEBE+u3rGpX8QOF6FK5ynPxAf\\u002fs6cMqj\\u002fEAcfGEyIqv8QLn8h\\u002fR5svxAy6FFttG5\\u002fEBoImx4KcH8QAWjkjqByPxAoyO5\\u002fNjP\\u002fEBApN++MNf8QFJJnYCI3vxA78nDQuDl\\u002fECMSuoEOO38QCnLEMeP9PxAx0s3ief7\\u002fEDY8PRKPwP9QHZxGw2XCv1AE\\u002fJBz+4R\\u002fUCwcmiRRhn9QE3zjlOeIP1AX5hMFfYn\\u002fUD8GHPXTS\\u002f9QJqZmZmlNv1ANxrAW\\u002f09\\u002fUDUmuYdVUX9QOY\\u002fpN+sTP1Ag8DKoQRU\\u002fUAgQfFjXFv9QL7BFya0Yv1AW0I+6Atq\\u002fUBt5\\u002fupY3H9QApoImy7eP1Ap+hILhOA\\u002fUBEaW\\u002fwaof9QOLplbLCjv1A845TdBqW\\u002fUCRD3o2cp39QC6QoPjJpP1AyxDHuiGs\\u002fUBoke18ebP9QHo2qz7Ruv1AF7fRACnC\\u002fUC1N\\u002fjCgMn9QFK4HoXY0P1A7zhFRzDY\\u002fUAB3gIJiN\\u002f9QJ5eKcvf5v1AO99PjTfu\\u002fUDZX3ZPj\\u002fX9QHbgnBHn\\u002fP1AiIVa0z4E\\u002fkAlBoGVlgv+QMKGp1fuEv5AXwfOGUYa\\u002fkD9h\\u002fTbnSH+QA4tsp31KP5ArK3YX00w\\u002fkBJLv8hpTf+QOauJeT8Pv5Agy9MplRG\\u002fkCV1AlorE3+QDJVMCoEVf5A0NVW7Ftc\\u002fkBtVn2us2P+QArXo3ALa\\u002f5AHHxhMmNy\\u002fkC5\\u002fIf0unn+QFZ9rrYSgf5A9P3UeGqI\\u002fkAFo5I6wo\\u002f+QKMjufwZl\\u002f5AQKTfvnGe\\u002fkDdJAaByaX+QHqlLEMhrf5AjErqBHm0\\u002fkApyxDH0Lv+QMdLN4kow\\u002f5AZMxdS4DK\\u002fkABTYQN2NH+QBPyQc8v2f5AsHJokYfg\\u002fkBN845T3+f+QOtztRU37\\u002f5AiPTb1472\\u002fkCamZmZ5v3+QDcawFs+Bf9A1JrmHZYM\\u002f0BxGw3g7RP\\u002fQA+cM6JFG\\u002f9AIEHxY50i\\u002f0C+wRcm9Sn\\u002fQFtCPuhMMf9A+MJkqqQ4\\u002f0CWQ4ts\\u002fD\\u002f\\u002fQKfoSC5UR\\u002f9ARGlv8KtO\\u002f0Di6ZWyA1b\\u002fQH9qvHRbXf9AHOviNrNk\\u002f0AukKD4Cmz\\u002fQMsQx7pic\\u002f9AaJHtfLp6\\u002f0AGEhQ\\u002fEoL\\u002fQKOSOgFqif9AtTf4wsGQ\\u002f0BSuB6FGZj\\u002fQO84RUdxn\\u002f9AjLlrCcmm\\u002f0AqOpLLIK7\\u002fQDvfT414tf9A2V92T9C8\\u002f0B24JwRKMT\\u002fQBNhw9N\\u002fy\\u002f9AseHpldfS\\u002f0DChqdXL9r\\u002fQF8HzhmH4f9A\\u002fYf0297o\\u002f0CaCBueNvD\\u002fQDeJQWCO9\\u002f9ASS7\\u002fIeb+\\u002f0Bz1xLyHgMAQcIXJtPKBgBBEFg5tHYKAEFfmEyVIg4AQehqK3bOEQBBNqs+V3oVAEGF61E4JhkAQdQrZRnSHABBImx4+n0gAEGrPlfbKSQAQfp+arzVJwBBSL99nYErAEGX\\u002f5B+LS8AQeY\\u002fpF\\u002fZMgBBbxKDQIU2AEG9UpYhMToAQQyTqQLdPQBBW9O844hBAEGpE9DENEUAQTLmrqXgSABBgSbChoxMAEHPZtVnOFAAQR6n6EjkUwBBp3nHKZBXAEH1udoKPFsAQUT67evnXgBBkzoBzZNiAEHhehSuP2YAQWpN847raQBBuY0GcJdtAEEHzhlRQ3EAQVYOLTLvdABBpU5AE5t4AEEtIR\\u002f0RnwAQXxhMtXyfwBBy6FFtp6DAEEZ4liXSocAQWgibHj2igBB8fRKWaKOAEE\\u002fNV46TpIAQY51cRv6lQBB3bWE\\u002fKWZAEEr9pfdUZ0AQbTIdr79oABBAwmKn6mkAEFSSZ2AVagAQaCJsGEBrABB78nDQq2vAEF4nKIjWbMAQcbctQQFtwBBFR3J5bC6AEFkXdzGXL4AQbKd76cIwgBBO3DOiLTFAEGKsOFpYMkAQdjw9EoMzQBBJzEILLjQAEF2cRsNZNQAQf5D+u0P2ABBTYQNz7vbAEGcxCCwZ98AQeoENJET4wBBOUVHcr\\u002fmAEHCFyZTa+oAQRBYOTQX7gBBX5hMFcPxAEGu2F\\u002f2bvUAQfwYc9ca+QBBhetRuMb8AEHUK2WZcgABQSJseHoeBAFBcayLW8oHAUHA7J48dgsBQUi\\u002ffR0iDwFBl\\u002f+Q\\u002fs0SAUHmP6TfeRYBQTSAt8AlGgFBg8DKodEdAUEMk6mCfSEBQVvTvGMpJQFBqRPQRNUoAUH4U+MlgSwBQUaU9gYtMAFBz2bV59gzAUEep+jIhDcBQW3n+6kwOwFBuycPi9w+AUEKaCJsiEIBQZM6AU00RgFB4XoULuBJAUEwuycPjE0BQX\\u002f7OvA3UQFBzTtO0eNUAUFWDi2yj1gBQaVOQJM7XAFB845TdOdfAUFCz2ZVk2MBQcuhRTY\\u002fZwFBGeJYF+tqAUFoImz4lm4BQbdif9lCcgFBBaOSuu51AUGOdXGbmnkBQd21hHxGfQFBK\\u002faXXfKAAUF6Nqs+noQBQcl2vh9KiAFBUkmdAPaLAUGgibDhoY8BQe\\u002fJw8JNkwFBPQrXo\\u002fmWAUGMSuqEpZoBQRUdyWVRngFBZF3cRv2hAUGyne8nqaUBQQHeAglVqQFBTx4W6gCtAUHY8PTKrLABQScxCKxYtAFBdnEbjQS4AUHEsS5usLsBQRPyQU9cvwFBnMQgMAjDAUHqBDQRtMYBQTlFR\\u002fJfygFBiIVa0wvOAUHWxW20t9EBQV+YTJVj1QFBrthfdg\\u002fZAUH8GHNXu9wBQUtZhjhn4AFBmpmZGRPkAUEibHj6vucBQXGsi9tq6wFB\"},\"y\":{\"dtype\":\"f8\",\"bdata\":\"BBYjT4tGuj\\u002fnujYw9OTBP7BAnAyKEdE\\u002ffyomXCICxD8264I\\u002f7gLgP0YeUsD5ydE\\u002flWPZC6OEvD\\u002fZxrnP1kXTP2Yes0YGtsM\\u002fYVUVSm67wz\\u002fNn4aOVDbcP2dDf9C+KeM\\u002fjQkzifJ4zj+40SP8GCPQP0TGH1IyctU\\u002fvrZraUhL1D+xi2Xs5rjMPxL7P031mss\\u002fJrc5AX+l2j9IggmMSzPKPxv+QgVo8tE\\u002fbYdqG8LQ4j9j3M5hJZ7xPwDJcMoDUfY\\u002fXPs+O8y29D8nkN8eBgLpP\\u002fGvZXE2M+I\\u002fl0u0rs8sxD\\u002fpFvJnk7TWP5UpFIjGT9w\\u002fs7SHRKJF3T+2BRyOOv3UP9omvtspl84\\u002fCKgasdstyz9ZE8jeKMrHPyqxY0wxhcY\\u002f0TmgW4xW0D++l792co7KPyLukjncJcs\\u002f7ySpPIG4zD9cdNihO\\u002fvVP7qEy8dzPsk\\u002ffk6KIr\\u002fh1j\\u002fb+GTyyVjfP86plFg2X\\u002fI\\u002f8QHgIxsO9z8BiolI\\u002fO4AQLqdZ39T3v0\\u002f7KQy6m\\u002fD7T+5878mt0vWP8+Frf2khdM\\u002fssz1oMtr1D\\u002fzm6Yxv1LKP73FwYvmJs4\\u002frCSGZ\\u002fMbxz9FUTQ+1wLFP+MpwcQertI\\u002fMNFjrCYgxz+6tJ41N2fOP5jePnogOsk\\u002f3T8lLEy30T\\u002fxaahKszTXPygBJlfsQtM\\u002fU0S6xNn42z8CBuNxY63cPxRQxxmyQdo\\u002f0V0W\\u002fxR2zD9HdYfcquvRP0ifJA+uiNA\\u002fKfyUtMvu1j9qoRaMsCTHPxvD8UaWAc4\\u002fYZLG8Sfdxj\\u002fhDcwtIkLUPy0\\u002f4LPLWNE\\u002fUu40viZC0D9HPOH0mcPRP7p6biYyYNM\\u002fWwiqVYoR1j9JYdqR+FzRP5UXJWOIu94\\u002fd0apwyn35D\\u002fpSYw1Y9r2PxhECkQw0gNAdHFGbfbfCEBorDy0kScHQFLFayIMbvw\\u002fCfDdye3h5T+wzGMGo6vZP\\u002fz1A\\u002f6aLdQ\\u002fVWArXJ6Oxj+kM1Qk4ZDcP+dI1pVkbeA\\u002fctdnwJNJ7z9cOqPOKW32P9GBPNcNwP0\\u002faTMjpnk\\u002fAkCG00N1tC70PxyE\\u002fbhcqO8\\u002fywx9fadt2T8D4A986yXTP+uzZcXx28s\\u002fJBr+54Z80j\\u002fAfLxSRGTLPz3Y15PQxdM\\u002fAPVJuh0S1D96jm+MwxrYP3hd+bh20eA\\u002fxGiO12Q34T8Mm0VfcPveP+wdS3KVI9k\\u002fNTHFs0Af1T9ro\\u002fA3SuLSP+8oR7ZC588\\u002fPkmIa8juzD8HF9eM4CvMP73mYPDnk84\\u002f6DjPWzwU0z9GjpG63AvQPz55NrtGnNI\\u002fA6VzW5EG0z9tuy33UCbTP0h1JMkKDtQ\\u002fg2P7p6WZ0j8w9ckvdTnMP+yEJIc879M\\u002fKrB8NZMp0T8GhJ+crOLNP88cPpe50tA\\u002fZy3vEPPk1D9H2+KkzZnRP9NXO2APTdY\\u002fsvkI\\u002fPXs2j8FNOSlajviPyMfeq4AXPE\\u002foQ30F\\u002fh09T9g\\u002fAaVYan2P9BtAIpzvPE\\u002f4VX9imav5z+cr\\u002fkWKlHgP9jdFxx4ptQ\\u002f07LUgTh40T97jqCvVi3RP1SXrO70K80\\u002f9Y8hIYUL0T8uXeNlLxbTP6SswIpLY9E\\u002fAvnbSUGZxT+nAQqtISvUP8ez6lIBh84\\u002fxCUwMr0QzD8fovbCkQnSP4O0su3t7co\\u002feSt\\u002f2Tag0T9XBEvOypbRP1hcvqIxCcc\\u002ffYrr6act0T9T++3Cg2XQPxLXQhQCPM4\\u002fwUnFegvOzz89EjT5ZuPSPyzvxSFHnc0\\u002fDK4SaNaW0D+NcDRZ00fTPy2lquwbjNI\\u002fat3\\u002fhoUr1D9ThRa8767UP6Re4oScEdk\\u002fV8UzgkUD4z8KMFRIS0bkPymKnzFaDeY\\u002ftM8y8V1A4T\\u002fv1PcXAhrYPwlYCmCiAtc\\u002f4S1LgPpK0z8FeAghJ17SPzesRYmAA9E\\u002fsJWNXu5l0z8EYPrhS0HLPzKYugOCuM4\\u002fmOW1l5m2zz\\u002fphLcLhRPPP9unvvxSoNE\\u002fna1MOiKG0T9YeQiiAEbSPyGzsObQDtE\\u002fScf9gxc90T\\u002fSRNqfSZnQPwRi4HRZicw\\u002fwDB\\u002f\\u002fdoVzj94X\\u002f5k2gTPP9ud+CuSPM8\\u002fhlEj\\u002fIKJzj\\u002f4IL1le\\u002fjQPwNMWzkMH84\\u002fEykGotZVzz8oupY9cAXSP3f2rmh4LdE\\u002f1J+5jdn81T+Tf31oItfRP4XoLO5+mNA\\u002fBmik5iOa0z9suMnjKkvVPxpOHi69\\u002fNg\\u002fTNFs7aUp2z9jPvkUZafbP0PHY+tezNo\\u002fUzjUmCRf4z\\u002fV9gFWOGLwP7j6wSQKjvs\\u002fFitMx+P0BkDo8RKs20UKQM48AGxzXghAyt3kKSge\\u002fT823xNujk3tP7AQGPnY9+A\\u002fpgVyk8Ub1z\\u002f4vwF5a9\\u002fRPxzpOQ19CtA\\u002fY8gyjhh6zz+nhoAauU7RP\\u002frGFyEHHM8\\u002fk6Wxkfxfzj+mwgeGZozRPyoBQTLsdMw\\u002foW4zHbDOzz9P27o4VyzTP\\u002f6kv7r9eNI\\u002fRc+zgYL\\u002f1D\\u002fXlGk7LAfXPwIKBH+OrtU\\u002f8ahOyoGK4z8gobbRiJTwP9AKYqQCPv0\\u002fHLzQO+y5DUAV9H\\u002f5G28aQNlX\\u002f8Pcex5AfArT+lVcGUDA84RhlI8PQKczQ6vsvP0\\u002fP57oTDsv7z8O3U4JFQTjP8\\u002fS3jgwEdo\\u002fns6YbDvL1D9xgqTKoCbRP15C57Dx280\\u002feDOcN\\u002fiy0z9Znu3d7lrNP08APZU0Os8\\u002fZCOhM2yy0D\\u002f4WqPcbAjQP\\u002fONeju\\u002fGs8\\u002fMWeuuipzyz\\u002f\\u002fEKMLHsbPP2U6QBFcK88\\u002fgDenHqsQ0D+tpOZY70jRP5nStwuLb8w\\u002fFQxK2+6tzz\\u002fYyvRJEfLNP2Lh9JyDndE\\u002fs337xego0T\\u002f3vCK+Cy7YP3NAeLjvd98\\u002fWE9rmv095D9C\\u002fuhzCrPkP0U\\u002fchkB\\u002feE\\u002fZvg\\u002f9Qzd2D8+7zBdMPnUP5Q5GoA2qdM\\u002fghxaZ7H60z\\u002fAKB21CzfUP\\u002fQy0tdDX9Y\\u002f+Z3fmAgw2D9vu04xQk7TP3iv9msZ6tA\\u002fnkzpSfmTzz9ppXALxYjQP8VS7eeGHcw\\u002fWjFdYQU3zz\\u002fylvQDbkTNP10Snv65Ps0\\u002fgpo42I090T8QBap57hDSP7cKxN0rjM8\\u002fIaCRUYb+yz\\u002fR\\u002fgWNZKvQP5UzfQaor9A\\u002fnQubfw70zz+0+SHyOarMP1jEP+G7qtA\\u002frKHPDwzA0D\\u002fdYv1je0fNP0eVNZErSdA\\u002fgYi\\u002fVdEl0D8eFlsirtHQP0JHVEpSStI\\u002fyaoApYNI0j+tWt+Kiq7RP2E0LtsOkdE\\u002fVQCNd81F0T+NU\\u002fZpDrfQP5Z3k7Nl188\\u002fia5m3DuS0D8gRspbQzbPPyUDyMS7otA\\u002ft4\\u002fgxSsSzz8FPYIEwRzMP1eqzyFOys0\\u002fhuiypKOrzj8RR\\u002fOcoHvOP9oAZNsel80\\u002foj5r+wVG0D++489Zk97QP0R7CFiY6NA\\u002fQJm2mbQLzj+MA28wFuLQP4Y9a8omyNA\\u002fq\\u002fvyikAuzj+KZtlB8XLPP1YegtpuZ88\\u002fsV52Tr1f0D8G3ZAFsTrPP6\\u002fpCk12W9A\\u002fF1N13nYx0D+uY3D5SSjRP90OA\\u002ffol9M\\u002fL450LfKO1T+tVlb7+fjYPxLZEEaYBNo\\u002fSv1z\\u002fnM83T\\u002fH5AXA7D3kP71tBa3jl+4\\u002fRXjy7lhS+T+Wsi3az+4HQHJZGfdMLRZAApC5OPshIkBMY0JRmF8mQIR\\u002ffVuzxSRALBLEjfmPHUBOoyCSus4PQP752x2qQQFAx54U1kpa8z\\u002fsOlitqXLoP+JHQGgC8eA\\u002fAbGlpi6o2T8IhJ+5DBXUP8LZ\\u002fr2NN9I\\u002frwVLf6lx0D\\u002fmgnGbVOHRP9GK8pz1DNA\\u002fRojv1p6o0D9ehF2TRp\\u002fNP0uwcva4UdE\\u002fgzXxAvL9zz8nvoLd\\u002flfOP1LlnS\\u002fvAdA\\u002faSMQV3aszD+VdmWaI3zOP5+ZNTQnMc8\\u002fzx1bnMvXzz+8Ml33nAPOP2b0iwvtPM0\\u002fGzMrP413zz9\\u002f7++Lwy\\u002fQP89TzziL0s8\\u002fQhfeiSAgzj9T8IPimpLQP5wLAQOL3Ms\\u002fh4nfgWQMzz9nz2n0757PPwfx6a4ZGtE\\u002feC5CNTdEzj+E2J2kyV7OP1dQ96jKgdA\\u002f+I4SdYNvzj8qdwkzdRXLP+20ywpaB9A\\u002fIWMTAB9vzz+j\\u002fjvZmAnNPyZu+kYTycw\\u002f0wDUnAjdzD8VKdPTDk\\u002fPP5e2PZmNkM4\\u002ft9OQqCgLzj9BvNI7esPOP4jY2qS0u80\\u002f32IblpJD0D8v2PNWgsnQPzymym0ooM4\\u002fHFpGxg89zz9Y9tCpNjzMPxNtzAucQtA\\u002f6ced8f4Xzj9WtudW0CbQP897EiEVmM4\\u002fJ9kCAEwqzz9BKyHUSVLOP2p2bJ2icNA\\u002f\\u002flu6I32Zzz95J0qy7F3PP+xdPWzYx80\\u002f9TzIFsnYzj98shxhrtrOP6rqqDscRtA\\u002fC1nTLdnVzz8ZZDOaXhTOPy6onglO4NA\\u002fiZHbhQmUzz8VlacCIufOP+0hUHgwtc4\\u002f3\\u002fRqFidjzj\\u002fvLM4HsCbPP0RIvOlIisw\\u002f7hl30rMNzT9yOaRQs1jPP6SUuKObNM8\\u002fNmc2DowYzz\\u002f5\\u002fZ3xKPjPP\\u002fz7JZjqG9E\\u002fYr1Ca3s70T+y2ozZyaPPPyEV8O5mW9E\\u002fd7xW2TVSzz+PNRyfC+\\u002fPP1DBJRPLZM4\\u002fDjJkQP6hzD\\u002foaazJ2DLNP7DoD7H\\u002fIs4\\u002fYTWCSgQk0D\\u002fcts0cl2fLPztlahGEv84\\u002f5KdspvPxzz9vfQdMJ+LMPznMHX6ri9A\\u002fOA6F+z3n0D\\u002faT47630fSP7StwKbx0dI\\u002fQeyDtmhr1T+QthqeI57XP6+y1bCONt4\\u002fP0d372A+4j9We1RCB+\\u002fmP9\\u002fr9u0zpO0\\u002flh4f48QT7z8syrq9yVfsP5cLwgADzuY\\u002fvXFgTmpP4T\\u002f64jxlJibbP29\\u002flobvkdY\\u002frTlks8Wi0z9erAdz07XTP7SzawoMMNE\\u002fCmak\\u002fZvj0D\\u002fKRhv3PqzOPwDVl1CeyM0\\u002fDMG3dG3H0D9p8sZ8WwnNP1XeYh2yg84\\u002fT19Am2sHzj8HzAWWee\\u002fQP7+GntiZ7M0\\u002fwDvWhsoz0T8YON6+XXPSP1h\\u002fkRqS3NI\\u002fsufvZ6yS1T+ASiP0BHnYP+20UmxtwNw\\u002fbFHlTgpK3T8+huvO6jfbP2skwb4rLNk\\u002f\\u002fbwXuW7M1j9XZesMmEPUP569puFNB9I\\u002f4Qa8+Lqc0T8vXOlXxvjOP+7qrZP4lM8\\u002fiRjP3oW\\u002fzT9uQ+3ArybNP\\u002fXqq0ENO80\\u002fzNIITwEzyz9DL2Fm+fLNPxKnP4birsw\\u002fNDOlVB0O0D\\u002fvtVCk4GLMP\\u002ffKtDi7UM8\\u002fTodV2YW6zD9ALnrrpZ\\u002fOP5jOxigy4s4\\u002f0BmLqRDwyj9qYdMHx+zOPydZ3APeTM0\\u002fEb9Wv50czD\\u002fXyrosjhTMP3n7OuqFl8o\\u002fNiIJVuSSzT\\u002fC2PKb2LnLP5xIzSMMacw\\u002foJpktVNEzD+bvNYXmHjKP24ArUJkBM4\\u002fJm4QiRhTzD88JZ5oue\\u002fNP\\u002f\\u002f79l16mtA\\u002fqFdW9O8ozD++EaMnw5\\u002fOP4t3WP8MH84\\u002f9ZIaOHdZzT81vp60bavOP0v\\u002ftYiHbss\\u002fkytDt+Uvzz+cRHbIXu7PP7dGuVP0ntA\\u002fg\\u002fGCIKLfzT+Znf8x21TQP9gmgliHXtE\\u002fupjD5+9b0D9rcSgU4NrRP\\u002figu6OludE\\u002fVPqTkaMW1D8ZFI+Rp63TP8l8CyggrtM\\u002f6zBxLi9D0D8HcmFuQEjSP1Pi38aQRdE\\u002fIqlTPDwTzz\\u002fi6P6vwq3PP0cxV\\u002fNrZs4\\u002f4Dfx6s66zj\\u002fTLabVtbLMP3YPaqstPc4\\u002f7Yi5ZXEmzz+vyFgYLvPNP+805XeaC80\\u002ffQrI+yGa0D\\u002f6tDFbiIrOPw8XCU\\u002fhq8o\\u002f6d39z7USzD\\u002f19ow9poPLP5X0KFM2388\\u002fxxBvhl3Fzj+iM6lDEMjMP4C57rmTkdA\\u002faSLug1jAzj9uB2QPKRXMP8A1fPy5kc0\\u002fQRtli8Kp0D89y\\u002fwYPoLQP+7gp5Iq9M8\\u002fqqDwq5YvzD8TdEYfLv3KP79cos2HNss\\u002fdbktEQAizT\\u002f7a8NR2iPPPzMZjQozY8w\\u002falJx+17nyz8tsBtTg1jKP0N36euVxso\\u002fdjgTe7Wlzz+rsedehPnLP\\u002fMz3TC28Ms\\u002faoks\\u002fpRizj8fo23wfVvMP3vBcdWaass\\u002fGjYNrpB5zD9B5oLKeHDLP8mgMXEpl8o\\u002f7Sun+p9i0D+rtnm5RnfNP6GHYGCq0sw\\u002fqYWnXTsDzT83u1W1c+LOP164T\\u002f\\u002fSBM8\\u002fewEUX2CDzj8yWPMo6cHPP9m0Pzjacs8\\u002fwQR7rFO8zD8hVozwRfHPPxsJ\\u002fMLIeso\\u002f1oQadKIszz\\u002fTGNj0CgHQP3fS9sZFEs8\\u002feSCQVaoQzj\\u002f64aajZ73MP6dSf9TIF8s\\u002fZ2lfKO51zj8SRO+MMEjMP1OclLAqZc0\\u002f5\\u002f\\u002fUj1qdzT\\u002fiW7REuMTOP4uSTDBf3Mc\\u002fpkEOu1CCzT\\u002fu0WlW7YvQPzOfZduAusw\\u002f9+GMP8AC0D8WmhyKyk\\u002fNP7DNfJRsjc8\\u002fuXm2desd0T+tDNN9dW3QP4Ct4N1GDNM\\u002fS2pqWgXM1T9c3fmR89HVP5on2NiDn9k\\u002fWwXBERqr3j\\u002fTauKVj+bgPy8\\u002f8gyFS+U\\u002fkHbfo+xj5z80w837b9XvP7qgLhm6q\\u002fI\\u002fsAvrXDr79j+sEilmcLP9P9FrMFx6vAFAtsf3i0ZmBEAqi2cDhd4IQIpPwqQxSg1AvoPUQEH8D0AZinzv7gETQCjOOgCyNRZAyh6g9DTbF0CQLa\\u002f4YdIaQDl5dtLyOhxAfudcVmODHUAKQXouUD0fQMC4XG0LWB5AKG7j\\u002fuZBH0C\\u002fBr6QeuEbQODROiZGshpAyLNHd4MlGEBh4U9zpP0UQCKqr9T5FBJAVHq1i02hEEAFRRBdZbYMQBqLzYAEGQlAke+FbkKnA0CyL7\\u002f3yaYAQLMtI\\u002f0Gp\\u002fo\\u002frjVHu9vP9j+fCaCB8jfxP+1QdZrAQ+k\\u002faNa3eZVD5D+KREeAnu3hPwsujn0MMds\\u002foUkQb9Xi1j9OyZhsb+XVPwZ+CMm7e9Y\\u002fK9qqhvvP0T\\u002fCxHGSyx\\u002fQPx9qYmjab9A\\u002fSYg7SPxMzz+bhUFYKdzMP\\u002fdcXg7x0M0\\u002f\\u002fj\\u002f0WSXwyD\\u002fDb5EC2CzMP2y4dticbdA\\u002fQbXrjSXrzD9aH28QdGfLP9C3ggMR2s0\\u002fQriJ9CX\\u002fzD90p5qpPDjNPx2DupBlfss\\u002fXs9uxF+kzD+pGwXtJNzKP3b8yXJ8LNA\\u002fp\\u002f89a\\u002fFlyz9VQWc2t1XLPyJM8DjKhsw\\u002fSuRYaizGzj8akMczqxbMP\\u002fTNg8H+LtA\\u002fGUO235PPzD9mPHmoTa3PP1AFmAGllsw\\u002fxH4iZBXMyj8RCdBl9VPLPyU\\u002fg6uxIM4\\u002fbkfAfMhE0T\\u002f33G2Z+EPMP0GlFK4wZ8s\\u002foRY3SXnkzD85r7W+xkbKPwIKM6qzv8w\\u002f61+iq5\\u002ftzz99ZjtpparNP5HTjl+04Mw\\u002f5OUZiwWRzT8oWVqEtNnLPxbUkmv1Zs0\\u002fZTC5NRzvyj+TktPKW4vOP6wwrBpRkcw\\u002faXZjU9Djzj89VK92HIPMP61aRA1HvMs\\u002fekKSAaDNzT9OLbLUI1LNPxMK7PFPQ8s\\u002fIQfWIB6rzD+awRg743LLPwDnRhlh8Mk\\u002fbdAEWuyHzD+VzHQcj3vMPzEK\\u002fJEXN8k\\u002fFfFp9RL9zj9iktt3iSjQPzo29ARXCM4\\u002fH5RqT\\u002fr6zD9+gNE\\u002fYffNP1V27OzGdcs\\u002f+cDIJL+qzT\\u002foxEQU9i7KP3s3mftqO88\\u002fLJG9BiYpzz8gFfhDfsjLP3axnmjKwso\\u002ft39ncl2PzT\\u002ffzEy7GxnLP+2SPA1o8c4\\u002fos8DuFYKyj9TcRRHepvOPxX5l+X\\u002fjcw\\u002faQf4Vt9Fzj8bgfCnUU3OPxIT5U3gzM0\\u002fwPyb86HrzD8r76trr\\u002fHIP1AdeqV63Mg\\u002fzGwCa1+Hyj8xpLLh5gfQP3nPbsMWuM4\\u002fdu7msVSnyj+MBMb4GcPNPy0UJqdQQc4\\u002f2C87KvFczz+JDLJd2RPHP3V+Z1H8Uc8\\u002fKX4f7BZ\\u002fzz+0EFmiLzjNPzWOaWcRG84\\u002fEP\\u002fRr7Vezz+0DpuO1hfRPwwd1pHFrck\\u002fR\\u002fdaxGol0T\\u002fmf8rF9XPSP\\u002feZlV1KHNI\\u002fLQ5SY5+g1D9IYmveYtbaP+PYX9hkk9k\\u002fs4HTvMAv3z9bmay62OPjP8zMArCFnuM\\u002fsvmAu2NJ6D\\u002f5ME9tCbTvP2dTNw07VvI\\u002fzfm+DUsp9z+rkYhgdDn8P0h+GpuHXQFAg4tM+g09AkBkHFGBd7UFQG86\\u002f5IZsgZAiBZl3J\\u002faCEAPGHFNufQLQKTfJLB47Q5AsIHU3Gk5EUDVeFePn8gSQB6I+7JkUxZAlx3kprhZGEA0L28vreAZQMny0G5h3RpAk4jkGX9dHUAtqAKmgeYcQCZHgwXhah1AwrmVlpknHkDvz1MrqnMfQO1Nu69igR9AgorMvxjLIEAOj6610AsfQOEj+eWgTB9AhArKn2rDHEBge2VyL1QbQA\\u002fOsHFXexpAf8X+JOJQF0AkjK2adOEXQFYQDmeF4RRAUK3z+ocDFEBj5pMDn9gSQMUT9Eo4JxBAi5622zeQDkC\\u002fxBcB2LYJQAm2wAc7CAhAMgV5n3XHBEAMGe5Rda4DQLzbUHnPfAFA\\u002fAQ9wCte\\u002fT96HKPpDxD4P0H47hqDq\\u002fY\\u002fIJJYhc4U8z85sbss45DrP4tbM5jiLOg\\u002fm5fE\\u002f7i54D\\u002fed0uhb0vfPxe5JbBP5N8\\u002fzwxOgr2c2T+Nzm0JzCLSPw2jNIpFPdc\\u002fPBhV667P1D+HhrgziXTPP5UjT5MmyNE\\u002frrOQ5Hrq0T\\u002fSDTCZY7jOP5IH\\u002fQ6wIs8\\u002fhUzoDSk20D97Rbcrb\\u002fnOP5qs8g5tsM8\\u002f6Gv1sO91zj8UCHmaGPzKP6ByX\\u002fvFVco\\u002fX04exQwD0D\\u002f2glwEQcfKP4rowdGK480\\u002f7dQDtd7mzj8KmMLQi5DMP7asDQvgzcw\\u002fNQCdq86yxz8i5Dv4BxnJP1lBH+gHKco\\u002fBtAne+ruyD+TzwpfB9TLP0Hyt5aMWc0\\u002fS3dnARDcyT+8rekHbd7MPw8GR6SRgco\\u002fRYmTAdLczT99v9gj7PXLP8Pg7mh5sM8\\u002fMIOQfCcRyD\\u002fdsycjhybKP0owqFFDPM8\\u002fGrWEM1k0zj93gXKyhznLP4TF3Haek8w\\u002fV2MJbvOSyj8AkoO4VMDOPzV6vUNm0ss\\u002fP5HP1FE2zj\\u002fZvgvqi3vKPyLOfnOCiMk\\u002fhyFkaw0hzT8YiCSPWqvNPwBwA7jhCMw\\u002fa8OkKs3JzD+sure5SNXMPzqFBDuhwss\\u002fRWDaV9vuzD8Ns+OE7gTNP20jNayZJck\\u002f8MrDDxdjyj9PcUtSO8TOPyISE3pGKMw\\u002fPUmE9WG0zj\\u002fa\\u002f9Jp4o3LPz6I4uwbkM4\\u002fMGmz5mG3yD\\u002f97axaQ+DNP06YBWdTe80\\u002fGNKFWtXizj\\u002fzGXKtREPOP9g5zKH\\u002f9s4\\u002frIn010w+zD87CAecvc3LP0arn6khRMs\\u002fwgwaOjQjzD9lzpiDXirKP7itmjbXwtA\\u002ftcSchfRBxz+jghtrWMXOP+zn5NyzdMo\\u002f9nOKR4No0D9rQrQbLTHPP0l17izGFcY\\u002fs744PkrCzj9G4XFXaNzOP2kirTq+gMc\\u002f1ctT7I62zz+uOnFnoXbPPz5umagaS9A\\u002furRxWdNczT+PaGiHm1XHPwIc+9QfDdA\\u002fdlQZ\\u002f3d\\u002fzj\\u002f8ifmRoOzIP0mkiCgTt9A\\u002fyHXWLdMozD8iObOX61fPP4c3AXw18tA\\u002f9cd1bwsSyT8bOmQFG3XPP6i1+ACiEck\\u002fTYB4nAtxzD81AKgua6bOPylCUTfJrsk\\u002f\"},\"type\":\"scatter\"}],                        {\"legend\":{\"x\":1.0,\"xanchor\":\"right\",\"y\":1.0,\"yanchor\":\"top\"},\"margin\":{\"autoexpand\":true,\"b\":45,\"r\":30,\"t\":40},\"title\":{\"text\":\"Measured data for experiment \\ud83d\\udd2c 'sim_lbco'\"},\"xaxis\":{\"mirror\":true,\"showline\":true,\"title\":{\"text\":\"TOF (\\u00b5s)\"},\"zeroline\":false,\"tickformat\":\",.6~g\",\"separatethousands\":true},\"yaxis\":{\"mirror\":true,\"showline\":true,\"title\":{\"text\":\"Intensity (arb. units)\"},\"zeroline\":false,\"tickformat\":\",.6~g\",\"separatethousands\":true},\"template\":{\"data\":{\"histogram2dcontour\":[{\"type\":\"histogram2dcontour\",\"colorbar\":{\"outlinewidth\":0,\"ticks\":\"\"},\"colorscale\":[[0.0,\"#0d0887\"],[0.1111111111111111,\"#46039f\"],[0.2222222222222222,\"#7201a8\"],[0.3333333333333333,\"#9c179e\"],[0.4444444444444444,\"#bd3786\"],[0.5555555555555556,\"#d8576b\"],[0.6666666666666666,\"#ed7953\"],[0.7777777777777778,\"#fb9f3a\"],[0.8888888888888888,\"#fdca26\"],[1.0,\"#f0f921\"]]}],\"choropleth\":[{\"type\":\"choropleth\",\"colorbar\":{\"outlinewidth\":0,\"ticks\":\"\"}}],\"histogram2d\":[{\"type\":\"histogram2d\",\"colorbar\":{\"outlinewidth\":0,\"ticks\":\"\"},\"colorscale\":[[0.0,\"#0d0887\"],[0.1111111111111111,\"#46039f\"],[0.2222222222222222,\"#7201a8\"],[0.3333333333333333,\"#9c179e\"],[0.4444444444444444,\"#bd3786\"],[0.5555555555555556,\"#d8576b\"],[0.6666666666666666,\"#ed7953\"],[0.7777777777777778,\"#fb9f3a\"],[0.8888888888888888,\"#fdca26\"],[1.0,\"#f0f921\"]]}],\"heatmap\":[{\"type\":\"heatmap\",\"colorbar\":{\"outlinewidth\":0,\"ticks\":\"\"},\"colorscale\":[[0.0,\"#0d0887\"],[0.1111111111111111,\"#46039f\"],[0.2222222222222222,\"#7201a8\"],[0.3333333333333333,\"#9c179e\"],[0.4444444444444444,\"#bd3786\"],[0.5555555555555556,\"#d8576b\"],[0.6666666666666666,\"#ed7953\"],[0.7777777777777778,\"#fb9f3a\"],[0.8888888888888888,\"#fdca26\"],[1.0,\"#f0f921\"]]}],\"contourcarpet\":[{\"type\":\"contourcarpet\",\"colorbar\":{\"outlinewidth\":0,\"ticks\":\"\"}}],\"contour\":[{\"type\":\"contour\",\"colorbar\":{\"outlinewidth\":0,\"ticks\":\"\"},\"colorscale\":[[0.0,\"#0d0887\"],[0.1111111111111111,\"#46039f\"],[0.2222222222222222,\"#7201a8\"],[0.3333333333333333,\"#9c179e\"],[0.4444444444444444,\"#bd3786\"],[0.5555555555555556,\"#d8576b\"],[0.6666666666666666,\"#ed7953\"],[0.7777777777777778,\"#fb9f3a\"],[0.8888888888888888,\"#fdca26\"],[1.0,\"#f0f921\"]]}],\"surface\":[{\"type\":\"surface\",\"colorbar\":{\"outlinewidth\":0,\"ticks\":\"\"},\"colorscale\":[[0.0,\"#0d0887\"],[0.1111111111111111,\"#46039f\"],[0.2222222222222222,\"#7201a8\"],[0.3333333333333333,\"#9c179e\"],[0.4444444444444444,\"#bd3786\"],[0.5555555555555556,\"#d8576b\"],[0.6666666666666666,\"#ed7953\"],[0.7777777777777778,\"#fb9f3a\"],[0.8888888888888888,\"#fdca26\"],[1.0,\"#f0f921\"]]}],\"mesh3d\":[{\"type\":\"mesh3d\",\"colorbar\":{\"outlinewidth\":0,\"ticks\":\"\"}}],\"scatter\":[{\"fillpattern\":{\"fillmode\":\"overlay\",\"size\":10,\"solidity\":0.2},\"type\":\"scatter\"}],\"parcoords\":[{\"type\":\"parcoords\",\"line\":{\"colorbar\":{\"outlinewidth\":0,\"ticks\":\"\"}}}],\"scatterpolargl\":[{\"type\":\"scatterpolargl\",\"marker\":{\"colorbar\":{\"outlinewidth\":0,\"ticks\":\"\"}}}],\"bar\":[{\"error_x\":{\"color\":\"#2a3f5f\"},\"error_y\":{\"color\":\"#2a3f5f\"},\"marker\":{\"line\":{\"color\":\"white\",\"width\":0.5},\"pattern\":{\"fillmode\":\"overlay\",\"size\":10,\"solidity\":0.2}},\"type\":\"bar\"}],\"scattergeo\":[{\"type\":\"scattergeo\",\"marker\":{\"colorbar\":{\"outlinewidth\":0,\"ticks\":\"\"}}}],\"scatterpolar\":[{\"type\":\"scatterpolar\",\"marker\":{\"colorbar\":{\"outlinewidth\":0,\"ticks\":\"\"}}}],\"histogram\":[{\"marker\":{\"pattern\":{\"fillmode\":\"overlay\",\"size\":10,\"solidity\":0.2}},\"type\":\"histogram\"}],\"scattergl\":[{\"type\":\"scattergl\",\"marker\":{\"colorbar\":{\"outlinewidth\":0,\"ticks\":\"\"}}}],\"scatter3d\":[{\"type\":\"scatter3d\",\"line\":{\"colorbar\":{\"outlinewidth\":0,\"ticks\":\"\"}},\"marker\":{\"colorbar\":{\"outlinewidth\":0,\"ticks\":\"\"}}}],\"scattermap\":[{\"type\":\"scattermap\",\"marker\":{\"colorbar\":{\"outlinewidth\":0,\"ticks\":\"\"}}}],\"scattermapbox\":[{\"type\":\"scattermapbox\",\"marker\":{\"colorbar\":{\"outlinewidth\":0,\"ticks\":\"\"}}}],\"scatterternary\":[{\"type\":\"scatterternary\",\"marker\":{\"colorbar\":{\"outlinewidth\":0,\"ticks\":\"\"}}}],\"scattercarpet\":[{\"type\":\"scattercarpet\",\"marker\":{\"colorbar\":{\"outlinewidth\":0,\"ticks\":\"\"}}}],\"carpet\":[{\"aaxis\":{\"endlinecolor\":\"#2a3f5f\",\"gridcolor\":\"#C8D4E3\",\"linecolor\":\"#C8D4E3\",\"minorgridcolor\":\"#C8D4E3\",\"startlinecolor\":\"#2a3f5f\"},\"baxis\":{\"endlinecolor\":\"#2a3f5f\",\"gridcolor\":\"#C8D4E3\",\"linecolor\":\"#C8D4E3\",\"minorgridcolor\":\"#C8D4E3\",\"startlinecolor\":\"#2a3f5f\"},\"type\":\"carpet\"}],\"table\":[{\"cells\":{\"fill\":{\"color\":\"#EBF0F8\"},\"line\":{\"color\":\"white\"}},\"header\":{\"fill\":{\"color\":\"#C8D4E3\"},\"line\":{\"color\":\"white\"}},\"type\":\"table\"}],\"barpolar\":[{\"marker\":{\"line\":{\"color\":\"white\",\"width\":0.5},\"pattern\":{\"fillmode\":\"overlay\",\"size\":10,\"solidity\":0.2}},\"type\":\"barpolar\"}],\"pie\":[{\"automargin\":true,\"type\":\"pie\"}]},\"layout\":{\"autotypenumbers\":\"strict\",\"colorway\":[\"#636efa\",\"#EF553B\",\"#00cc96\",\"#ab63fa\",\"#FFA15A\",\"#19d3f3\",\"#FF6692\",\"#B6E880\",\"#FF97FF\",\"#FECB52\"],\"font\":{\"color\":\"#2a3f5f\"},\"hovermode\":\"closest\",\"hoverlabel\":{\"align\":\"left\"},\"paper_bgcolor\":\"white\",\"plot_bgcolor\":\"white\",\"polar\":{\"bgcolor\":\"white\",\"angularaxis\":{\"gridcolor\":\"#EBF0F8\",\"linecolor\":\"#EBF0F8\",\"ticks\":\"\"},\"radialaxis\":{\"gridcolor\":\"#EBF0F8\",\"linecolor\":\"#EBF0F8\",\"ticks\":\"\"}},\"ternary\":{\"bgcolor\":\"white\",\"aaxis\":{\"gridcolor\":\"#DFE8F3\",\"linecolor\":\"#A2B1C6\",\"ticks\":\"\"},\"baxis\":{\"gridcolor\":\"#DFE8F3\",\"linecolor\":\"#A2B1C6\",\"ticks\":\"\"},\"caxis\":{\"gridcolor\":\"#DFE8F3\",\"linecolor\":\"#A2B1C6\",\"ticks\":\"\"}},\"coloraxis\":{\"colorbar\":{\"outlinewidth\":0,\"ticks\":\"\"}},\"colorscale\":{\"sequential\":[[0.0,\"#0d0887\"],[0.1111111111111111,\"#46039f\"],[0.2222222222222222,\"#7201a8\"],[0.3333333333333333,\"#9c179e\"],[0.4444444444444444,\"#bd3786\"],[0.5555555555555556,\"#d8576b\"],[0.6666666666666666,\"#ed7953\"],[0.7777777777777778,\"#fb9f3a\"],[0.8888888888888888,\"#fdca26\"],[1.0,\"#f0f921\"]],\"sequentialminus\":[[0.0,\"#0d0887\"],[0.1111111111111111,\"#46039f\"],[0.2222222222222222,\"#7201a8\"],[0.3333333333333333,\"#9c179e\"],[0.4444444444444444,\"#bd3786\"],[0.5555555555555556,\"#d8576b\"],[0.6666666666666666,\"#ed7953\"],[0.7777777777777778,\"#fb9f3a\"],[0.8888888888888888,\"#fdca26\"],[1.0,\"#f0f921\"]],\"diverging\":[[0,\"#8e0152\"],[0.1,\"#c51b7d\"],[0.2,\"#de77ae\"],[0.3,\"#f1b6da\"],[0.4,\"#fde0ef\"],[0.5,\"#f7f7f7\"],[0.6,\"#e6f5d0\"],[0.7,\"#b8e186\"],[0.8,\"#7fbc41\"],[0.9,\"#4d9221\"],[1,\"#276419\"]]},\"xaxis\":{\"gridcolor\":\"#EBF0F8\",\"linecolor\":\"#EBF0F8\",\"ticks\":\"\",\"title\":{\"standoff\":15},\"zerolinecolor\":\"#EBF0F8\",\"automargin\":true,\"zerolinewidth\":2},\"yaxis\":{\"gridcolor\":\"#EBF0F8\",\"linecolor\":\"#EBF0F8\",\"ticks\":\"\",\"title\":{\"standoff\":15},\"zerolinecolor\":\"#EBF0F8\",\"automargin\":true,\"zerolinewidth\":2},\"scene\":{\"xaxis\":{\"backgroundcolor\":\"white\",\"gridcolor\":\"#DFE8F3\",\"linecolor\":\"#EBF0F8\",\"showbackground\":true,\"ticks\":\"\",\"zerolinecolor\":\"#EBF0F8\",\"gridwidth\":2},\"yaxis\":{\"backgroundcolor\":\"white\",\"gridcolor\":\"#DFE8F3\",\"linecolor\":\"#EBF0F8\",\"showbackground\":true,\"ticks\":\"\",\"zerolinecolor\":\"#EBF0F8\",\"gridwidth\":2},\"zaxis\":{\"backgroundcolor\":\"white\",\"gridcolor\":\"#DFE8F3\",\"linecolor\":\"#EBF0F8\",\"showbackground\":true,\"ticks\":\"\",\"zerolinecolor\":\"#EBF0F8\",\"gridwidth\":2}},\"shapedefaults\":{\"line\":{\"color\":\"#2a3f5f\"}},\"annotationdefaults\":{\"arrowcolor\":\"#2a3f5f\",\"arrowhead\":0,\"arrowwidth\":1},\"geo\":{\"bgcolor\":\"white\",\"landcolor\":\"white\",\"subunitcolor\":\"#C8D4E3\",\"showland\":true,\"showlakes\":true,\"lakecolor\":\"white\"},\"title\":{\"x\":0.05},\"mapbox\":{\"style\":\"light\"}}}},                        {\"displaylogo\": false, \"modeBarButtonsToRemove\": [\"select2d\", \"lasso2d\", \"zoomIn2d\", \"zoomOut2d\", \"autoScale2d\"], \"responsive\": true}                    )                };            </script>        </div>"
      ],
      "text/plain": [
       "<IPython.core.display.HTML object>"
      ]
     },
     "metadata": {},
     "output_type": "display_data"
    },
    {
     "data": {
      "text/html": [
       "<div>                        <script type=\"text/javascript\">window.PlotlyConfig = {MathJaxConfig: 'local'};</script>\n",
       "        <script charset=\"utf-8\" src=\"https://cdn.plot.ly/plotly-3.1.0.min.js\" integrity=\"sha256-Ei4740bWZhaUTQuD6q9yQlgVCMPBz6CZWhevDYPv93A=\" crossorigin=\"anonymous\"></script>                <div id=\"ca5e8af6-3ce2-44b8-9410-31a4492f1727\" class=\"plotly-graph-div\" style=\"height:100%; width:100%;\"></div>            <script type=\"text/javascript\">                window.PLOTLYENV=window.PLOTLYENV || {};                                if (document.getElementById(\"ca5e8af6-3ce2-44b8-9410-31a4492f1727\")) {                    Plotly.newPlot(                        \"ca5e8af6-3ce2-44b8-9410-31a4492f1727\",                        [{\"line\":{\"color\":\"rgb(31, 119, 180)\"},\"mode\":\"lines+markers\",\"name\":\"Measured (Imeas)\",\"x\":{\"dtype\":\"f8\",\"bdata\":\"k6mCUTXg6kC28\\u002f3U5O7qQPH0SlmU\\u002fepAK\\u002faX3UMM60Bm9+Rh8xrrQKH4MeaiKetAxEKtaVI460D+Q\\u002frtAUfrQDlFR3KxVetAdEaU9mBk60CXkA96EHPrQNGRXP6\\u002fgetADJOpgm+Q60BGlPYGH5\\u002frQIGVQ4vOretApN++Dn6860Df4AuTLcvrQBniWBfd2etAVOOlm4zo60CP5PIfPPfrQLIubqPrBexA7C+7J5sU7EAnMQisSiPsQGEyVTD6MexAnDOitKlA7EC\\u002ffR04WU\\u002fsQPp+arwIXuxANIC3QLhs7EBvgQTFZ3vsQKqCUUkXiuxAzczMzMaY7EAHzhlRdqfsQELPZtUltuxAfdCzWdXE7EC30QDehNPsQNobfGE04uxAFR3J5ePw7EBPHhZqk\\u002f\\u002fsQIofY+5CDu1AxSCwcvIc7UDoaiv2oSvtQCJseHpROu1AXW3F\\u002fgBJ7UCYbhKDsFftQNJvXwdgZu1A9bnaig917UAwuycPv4PtQGq8dJNuku1Apb3BFx6h7UDgvg6cza\\u002ftQAMJih99vu1APQrXoyzN7UB4CyQo3NvtQLMMcayL6u1A7Q2+MDv57UAQWDm06gfuQEtZhjiaFu5AhlrTvEkl7kDAWyBB+TPuQPtcbcWoQu5AHqfoSFhR7kBYqDXNB2DuQJOpglG3bu5AzqrP1WZ97kAIrBxaFozuQCv2l93Fmu5AZvfkYXWp7kCh+DHmJLjuQNv5fmrUxu5AFvvL7oPV7kA5RUdyM+TuQHRGlPbi8u5ArkfhepIB70DpSC7\\u002fQRDvQCNKe4PxHu9ARpT2BqEt70CBlUOLUDzvQLyWkA8AS+9A9pfdk69Z70AxmSoYX2jvQFTjpZsOd+9Aj+TyH76F70DJ5T+kbZTvQATnjCgdo+9AJzEIrMyx70BhMlUwfMDvQJwzorQrz+9A1zTvONvd70ARNjy9iuzvQDSAt0A6++9AuECC4vQE8EBVwaikTAzwQPJBz2akE\\u002fBAj8L1KPwa8EChZ7PqUyLwQD7o2ayrKfBA3GgAbwMx8EB56SYxWzjwQBZqTfOyP\\u002fBAKA8LtQpH8EDFjzF3Yk7wQGIQWDm6VfBAAJF++xFd8ECdEaW9aWTwQK62Yn\\u002fBa\\u002fBATDeJQRlz8EDpt68DcXrwQIY41sXIgfBAJLn8hyCJ8EA1XrpJeJDwQNPe4AvQl\\u002fBAcF8Hzief8EAN4C2Qf6bwQKpgVFLXrfBAvAUSFC+18EBZhjjWhrzwQPcGX5jew\\u002fBAlIeFWjbL8EAxCKwcjtLwQEOtad7l2fBA4C2QoD3h8EB9rrZilejwQBsv3STt7\\u002fBAuK8D50T38EDKVMGonP7wQGfV52r0BfFABFYOLUwN8UCh1jTvoxTxQD9XW7H7G\\u002fFAUPwYc1Mj8UDufD81qyrxQIv9ZfcCMvFAKH6MuVo58UDF\\u002frJ7skDxQNejcD0KSPFAdCSX\\u002f2FP8UASpb3BuVbxQK8l5IMRXvFATKYKRmll8UBeS8gHwWzxQPvL7skYdPFAmEwVjHB78UA2zTtOyILxQNNNYhAgivFA5fIf0neR8UCCc0aUz5jxQB\\u002f0bFYnoPFAvHSTGH+n8UBa9bna1q7xQGuad5wutvFACRueXoa98UCmm8Qg3sTxQEMc6+I1zPFA4JwRpY3T8UDyQc9m5drxQI\\u002fC9Sg94vFALUMc65Tp8UDKw0Kt7PDxQNxoAG9E+PFAeekmMZz\\u002f8UAWak3z8wbyQLPqc7VLDvJAUWuad6MV8kBiEFg5+xzyQACRfvtSJPJAnRGlvaor8kA6kst\\u002fAjPyQNcS8kFaOvJA6bevA7JB8kCGONbFCUnyQCS5\\u002fIdhUPJAwTkjSrlX8kBeukkMEV\\u002fyQHBfB85oZvJADeAtkMBt8kCqYFRSGHXyQEjhehRwfPJA5WGh1seD8kD3Bl+YH4vyQJSHhVp3kvJAMQisHM+Z8kDOiNLeJqHyQGwJ+aB+qPJAfa62Ytav8kAbL90kLrfyQLivA+eFvvJAVTAqqd3F8kDysFBrNc3yQARWDi2N1PJAodY07+Tb8kA\\u002fV1uxPOPyQNzXgXOU6vJAeVioNezx8kCL\\u002fWX3Q\\u002fnyQCh+jLmbAPNAxf6ye\\u002fMH80Bjf9k9Sw\\u002fzQAAAAACjFvNAEqW9wfod80CvJeSDUiXzQEymCkaqLPNA6SYxCAI080CHp1fKWTvzQJhMFYyxQvNANs07TglK80DTTWIQYVHzQHDOiNK4WPNADk+vlBBg80Af9GxWaGfzQLx0kxjAbvNAWvW52hd280D3deCcb33zQJT2Bl\\u002fHhPNAppvEIB+M80BDHOvidpPzQOCcEaXOmvNAfh04Zyai80Abnl4pfqnzQC1DHOvVsPNAysNCrS2480BnRGlvhb\\u002fzQAXFjzHdxvNAokW28zTO80Cz6nO1jNXzQFFrmnfk3PNA7uvAOTzk80CLbOf7k+vzQCntDb7r8vNAOpLLf0P680DXEvJBmwH0QHWTGATzCPRAEhQ\\u002fxkoQ9EAkufyHohf0QME5I0r6HvRAXrpJDFIm9ED7OnDOqS30QJm7lpABNfRAqmBUUlk89EBI4XoUsUP0QOVhodYIS\\u002fRAguLHmGBS9EAgY+5auFn0QDEIrBwQYfRAzojS3mdo9EBsCfmgv2\\u002f0QAmKH2MXd\\u002fRApgpGJW9+9EC4rwPnxoX0QFUwKqkejfRA8rBQa3aU9ECQMXctzpv0QC2yne8lo\\u002fRAP1dbsX2q9EDc14Fz1bH0QHlYqDUtufRAF9nO94TA9EC0WfW53Mf0QMX+sns0z\\u002fRAY3\\u002fZPYzW9EAAAAAA5N30QJ2AJsI75fRAOwFNhJPs9EBMpgpG6\\u002fP0QOkmMQhD+\\u002fRAh6dXypoC9UAkKH6M8gn1QMGopE5KEfVA001iEKIY9UBwzojS+R\\u002f1QA5Pr5RRJ\\u002fVAq8\\u002fVVqku9UBIUPwYATb1QFr1udpYPfVA93XgnLBE9UCU9gZfCEz1QDJ3LSFgU\\u002fVAz\\u002fdT47da9UDgnBGlD2L1QH4dOGdnafVAG55eKb9w9UC4HoXrFnj1QFafq61uf\\u002fVAZ0Rpb8aG9UAFxY8xHo71QKJFtvN1lfVAP8bctc2c9UDcRgN4JaT1QO7rwDl9q\\u002fVAi2zn+9Sy9UAp7Q2+LLr1QMZtNICEwfVAY+5aQtzI9UB1kxgENND1QBIUP8aL1\\u002fVAr5RliOPe9UBNFYxKO+b1QOqVsgyT7fVA+zpwzur09UCZu5aQQvz1QDY8vVKaA\\u002fZA07zjFPIK9kBxPQrXSRL2QILix5ihGfZAIGPuWvkg9kC94xQdUSj2QFpkO9+oL\\u002fZAbAn5oAA39kAJih9jWD72QKYKRiWwRfZARIts5wdN9kDhC5OpX1T2QPKwUGu3W\\u002fZAkDF3LQ9j9kAtsp3vZmr2QMoyxLG+cfZAaLPqcxZ59kB5WKg1boD2QBfZzvfFh\\u002fZAtFn1uR2P9kBR2ht8dZb2QO5aQj7NnfZAAAAAACWl9kCdgCbCfKz2QDsBTYTUs\\u002fZA2IFzRiy79kB1ApoIhML2QIenV8rbyfZAJCh+jDPR9kDBqKROi9j2QF8pyxDj3\\u002fZA\\u002fKnx0jrn9kAOT6+Uku72QKvP1Vbq9fZASFD8GEL99kDl0CLbmQT3QINRSZ3xC\\u002fdAlPYGX0kT90Aydy0hoRr3QM\\u002f3U+P4IfdAbHh6pVAp90AJ+aBnqDD3QBueXikAOPdAuB6F61c\\u002f90BWn6utr0b3QPMf0m8HTvdAkKD4MV9V90CiRbbztlz3QD\\u002fG3LUOZPdA3EYDeGZr90B6xyk6vnL3QBdIUPwVevdAKe0Nvm2B90DGbTSAxYj3QGPuWkIdkPdAAG+BBHWX90Ce76fGzJ73QK+UZYgkpvdATRWMSnyt90DqlbIM1LT3QIcW2c4rvPdAJJf\\u002fkIPD90A2PL1S28r3QNO84xQz0vdAcT0K14rZ90AOvjCZ4uD3QKs+V1s66PdAveMUHZLv90BaZDvf6fb3QPfkYaFB\\u002fvdAlWWIY5kF+EAy5q4l8Qz4QESLbOdIFPhA4QuTqaAb+EB+jLlr+CL4QBsN4C1QKvhALbKd76cx+EDKMsSx\\u002fzj4QGiz6nNXQPhABTQRNq9H+ECitDf4Bk\\u002f4QLRZ9bleVvhAUdobfLZd+EDuWkI+DmX4QIzbaABmbPhAKVyPwr1z+EA7AU2EFXv4QNiBc0ZtgvhAdQKaCMWJ+EASg8DKHJH4QLAD54x0mPhAwaikTsyf+EBfKcsQJKf4QPyp8dJ7rvhAmSoYldO1+EA2qz5XK734QEhQ\\u002fBiDxPhA5dAi29rL+ECDUUmdMtP4QCDSb1+K2vhAvVKWIeLh+EDP91PjOen4QGx4eqWR8PhACfmgZ+n3+ECneccpQf\\u002f4QET67euYBvlAVp+rrfAN+UDzH9JvSBX5QJCg+DGgHPlALSEf9Pcj+UDLoUW2Tyv5QNxGA3inMvlAescpOv85+UAXSFD8VkH5QLTIdr6uSPlAUkmdgAZQ+UBj7lpCXlf5QABvgQS2XvlAnu+nxg1m+UA7cM6IZW35QNjw9Eq9dPlA6pWyDBV8+UCHFtnObIP5QCSX\\u002f5DEivlAwhcmUxyS+UBfmEwVdJn5QHE9CtfLoPlADr4wmSOo+UCrPldbe6\\u002f5QEi\\u002ffR3TtvlA5j+k3yq++UA=\"},\"y\":{\"dtype\":\"f8\",\"bdata\":\"Ro6RutwL0D8+eTa7RpzSPwOlc1uRBtM\\u002fbbst91Am0z9IdSTJCg7UP4Nj+6elmdI\\u002fMPXJL3U5zD\\u002fshCSHPO\\u002fTPyqwfDWTKdE\\u002fBoSfnKzizT\\u002fPHD6XudLQP2ct7xDz5NQ\\u002fR9vipM2Z0T\\u002fTVztgD03WP7L5CPz17No\\u002fBTTkpWo74j8jH3quAFzxP6EN9Bf4dPU\\u002fYPwGlWGp9j\\u002fQbQCKc7zxP+FV\\u002fYpmr+c\\u002fnK\\u002f5FipR4D\\u002fY3RcceKbUP9Oy1IE4eNE\\u002fe46gr1Yt0T9Ul6zu9CvNP\\u002fWPISGFC9E\\u002fLl3jZS8W0z+krMCKS2PRPwL520lBmcU\\u002fpwEKrSEr1D\\u002fHs+pSAYfOP8QlMDK9EMw\\u002fH6L2wpEJ0j+DtLLt7e3KP3krf9k2oNE\\u002fVwRLzsqW0T9YXL6iMQnHP32K6+mnLdE\\u002fU\\u002fvtwoNl0D8S10IUAjzOP8FJxXoLzs8\\u002fPRI0+Wbj0j8s78UhR53NPwyuEmjWltA\\u002fjXA0WdNH0z8tparsG4zSP2rd\\u002f4aFK9Q\\u002fU4UWvO+u1D+kXuKEnBHZP1fFM4JFA+M\\u002fCjBUSEtG5D8pip8xWg3mP7TPMvFdQOE\\u002f79T3FwIa2D8JWApgogLXP+EtS4D6StM\\u002fBXgIISde0j83rEWJgAPRP7CVjV7uZdM\\u002fBGD64UtByz8ymLoDgrjOP5jltZeZts8\\u002f6YS3C4UTzz\\u002fbp778UqDRP52tTDoihtE\\u002fWHkIogBG0j8hs7Dm0A7RP0nH\\u002fYMXPdE\\u002f0kTan0mZ0D8EYuB0WYnMP8Awf\\u002f3aFc4\\u002feF\\u002f+ZNoEzz\\u002fbnfgrkjzPP4ZRI\\u002fyCic4\\u002f+CC9ZXv40D8DTFs5DB\\u002fOPxMpBqLWVc8\\u002fKLqWPXAF0j939q5oeC3RP9SfuY3Z\\u002fNU\\u002fk399aCLX0T+F6CzufpjQPwZopOYjmtM\\u002fbLjJ4ypL1T8aTh4uvfzYP0zRbO2lKds\\u002fYz75FGWn2z9Dx2PrXszaP1M41JgkX+M\\u002f1fYBVjhi8D+4+sEkCo77PxYrTMfj9AZA6PESrNtFCkDOPABsc14IQMrd5CkoHv0\\u002fNt8Tbo5N7T+wEBj52PfgP6YFcpPFG9c\\u002f+L8BeWvf0T8c6TkNfQrQP2PIMo4Yes8\\u002fp4aAGrlO0T\\u002f6xhchBxzPP5OlsZH8X84\\u002fpsIHhmaM0T8qAUEy7HTMP6FuMx2wzs8\\u002fT9u6OFcs0z\\u002f+pL+6\\u002fXjSP0XPs4GC\\u002f9Q\\u002f15RpOywH1z8CCgR\\u002fjq7VP\\u002fGoTsqBiuM\\u002fIKG20YiU8D\\u002fQCmKkAj79Pxy80DvsuQ1AFfR\\u002f+RtvGkDZV\\u002f\\u002fD3HseQHwK0\\u002fpVXBlAwPOEYZSPD0CnM0Or7Lz9Pz+e6Ew7L+8\\u002fDt1OCRUE4z\\u002fP0t44MBHaP57OmGw7y9Q\\u002fcYKkyqAm0T9eQuew8dvNP3gznDf4stM\\u002fWZ7t3e5azT9PAD2VNDrPP2QjoTNsstA\\u002f+Fqj3GwI0D\\u002fzjXo7vxrPPzFnrroqc8s\\u002f\\u002fxCjCx7Gzz9lOkARXCvPP4A3px6rENA\\u002fraTmWO9I0T+Z0rcLi2\\u002fMPxUMStvurc8\\u002f2Mr0SRHyzT9i4fScg53RP7N9+8XoKNE\\u002f97wivgsu2D9zQHi473ffP1hPa5r9PeQ\\u002fQv7ocwqz5D9FP3IZAf3hP2b4P\\u002fUM3dg\\u002fPu8wXTD51D+UORqANqnTP4IcWmex+tM\\u002fwCgdtQs31D\\u002f0MtLXQ1\\u002fWP\\u002fmd35gIMNg\\u002fb7tOMUJO0z94r\\u002fZrGerQP55M6Un5k88\\u002faaVwC8WI0D\\u002fFUu3nhh3MP1oxXWEFN88\\u002f8pb0A25EzT9dEp7+uT7NP4KaONiNPdE\\u002fEAWqee4Q0j+3CsTdK4zPPyGgkVGG\\u002fss\\u002f0f4FjWSr0D+VM30GqK\\u002fQP50Lm38O9M8\\u002ftPkh8jmqzD9YxD\\u002fhu6rQP6yhzw8MwNA\\u002f3WL9Y3tHzT9HlTWRK0nQP4GIv1XRJdA\\u002fHhZbIq7R0D9CR1RKUkrSP8mqAKWDSNI\\u002frVrfioqu0T9hNC7bDpHRP1UAjXfNRdE\\u002fjVP2aQ630D+Wd5OzZdfPP4muZtw7ktA\\u002fIEbKW0M2zz8lA8jEu6LQP7eP4MUrEs8\\u002fBT2CBMEczD9Xqs8hTsrNP4bosqSjq84\\u002fEUfznKB7zj\\u002faAGTbHpfNP6I+a\\u002fsFRtA\\u002fvuPPWZPe0D9EewhYmOjQP0CZtpm0C84\\u002fjANvMBbi0D+GPWvKJsjQP6v78opALs4\\u002fimbZQfFyzz9WHoLabmfPP7Fedk69X9A\\u002fBt2QBbE6zz+v6QpNdlvQPxdTdd52MdA\\u002frmNw+Uko0T\\u002fdDgP36JfTPy+OdC3yjtU\\u002frVZW+\\u002fn42D8S2RBGmATaP0r9c\\u002f5zPN0\\u002fx+QFwOw95D+9bQWt45fuP0V48u5YUvk\\u002flrIt2s\\u002fuB0ByWRn3TC0WQAKQuTj7ISJATGNCUZhfJkCEf31bs8UkQCwSxI35jx1ATqMgkrrOD0D++dsdqkEBQMeeFNZKWvM\\u002f7DpYraly6D\\u002fiR0BoAvHgPwGxpaYuqNk\\u002fCISfuQwV1D\\u002fC2f69jTfSP68FS3+pcdA\\u002f5oJxm1Th0T\\u002fRivKc9QzQP0aI79aeqNA\\u002fXoRdk0afzT9LsHL2uFHRP4M18QLy\\u002fc8\\u002fJ76C3f5Xzj9S5Z0v7wHQP2kjEFd2rMw\\u002flXZlmiN8zj+fmTU0JzHPP88dW5zL188\\u002fvDJd95wDzj9m9IsL7TzNPxszKz+Nd88\\u002ff+\\u002fvi8Mv0D\\u002fPU884i9LPP0IX3okgIM4\\u002fU\\u002fCD4pqS0D+cCwEDi9zLP4eJ34FkDM8\\u002fZ89p9O+ezz8H8emuGRrRP3guQjU3RM4\\u002fhNidpMlezj9XUPeoyoHQP\\u002fiOEnWDb84\\u002fKncJM3UVyz\\u002fttMsKWgfQPyFjEwAfb88\\u002fo\\u002f472ZgJzT8mbvpGE8nMP9MA1JwI3cw\\u002fFSnT0w5Pzz+Xtj2ZjZDOP7fTkKgoC84\\u002fQbzSO3rDzj+I2NqktLvNP99iG5aSQ9A\\u002fL9jzVoLJ0D88psptKKDOPxxaRsYPPc8\\u002fWPbQqTY8zD8TbcwLnELQP+nHnfH+F84\\u002fVrbnVtAm0D\\u002fPexIhFZjOPyfZAgBMKs8\\u002fQSsh1ElSzj9qdmydonDQP\\u002f5buiN9mc8\\u002feSdKsuxdzz\\u002fsXT1s2MfNP\\u002fU8yBbJ2M4\\u002ffLIcYa7azj+q6qg7HEbQPwtZ0y3Z1c8\\u002fGWQzml4Uzj8uqJ4JTuDQP4mR24UJlM8\\u002fFZWnAiLnzj\\u002ftIVB4MLXOP9\\u002f0ahYnY84\\u002f7yzOB7Amzz9ESLzpSIrMP+4Zd9KzDc0\\u002fcjmkULNYzz+klLijmzTPPzZnNg6MGM8\\u002f+f2d8Sj4zz\\u002f8+yWY6hvRP2K9Qmt7O9E\\u002fstqM2cmjzz8hFfDuZlvRP3e8Vtk1Us8\\u002fjzUcnwvvzz9QwSUTy2TOPw4yZED+ocw\\u002f6GmsydgyzT+w6A+x\\u002fyLOP2E1gkoEJNA\\u002f3LbNHJdnyz87ZWoRhL\\u002fOP+SnbKbz8c8\\u002fb30HTCfizD85zB1+q4vQPzgOhfs959A\\u002f2k+O+t9H0j+0rcCm8dHSP0Hsg7Zoa9U\\u002fkLYaniOe1z+vstWwjjbePz9Hd+9gPuI\\u002fVntUQgfv5j\\u002ff6\\u002fbtM6TtP5YeH+PEE+8\\u002fLMq6vclX7D+XC8IAA87mP71xYE5qT+E\\u002f+uI8ZSYm2z9vf5aG75HWP605ZLPFotM\\u002fXqwHc9O10z+0s2sKDDDRPwpmpP2b49A\\u002fykYb9z6szj8A1ZdQnsjNPwzBt3Rtx9A\\u002fafLGfFsJzT9V3mIdsoPOP09fQJtrB84\\u002fB8wFlnnv0D+\\u002fhp7YmezNP8A71obKM9E\\u002fGDjevl1z0j9Yf5EaktzSP7Ln72esktU\\u002fgEoj9AR52D\\u002fttFJsbcDcP2xR5U4KSt0\\u002fPobrzuo32z9rJMG+KyzZP\\u002f28F7luzNY\\u002fV2XrDJhD1D+evabhTQfSP+EGvPi6nNE\\u002fL1zpV8b4zj\\u002fu6q2T+JTPP4kYz96Fv80\\u002fbkPtwK8mzT\\u002f16qtBDTvNP8zSCE8BM8s\\u002fQy9hZvnyzT8Spz+G4q7MPzQzpVQdDtA\\u002f77VQpOBizD\\u002f3yrQ4u1DPP06HVdmFusw\\u002fQC5666Wfzj+YzsYoMuLOP9AZi6kQ8Mo\\u002famHTB8fszj8nWdwD3kzNPxG\\u002fVr+dHMw\\u002f18q6LI4UzD95+zrqhZfKPzYiCVbkks0\\u002fwtjym9i5yz+cSM0jDGnMP6CaZLVTRMw\\u002fm7zWF5h4yj9uAK1CZATOPyZuEIkYU8w\\u002fPCWeaLnvzT\\u002f\\u002f+\\u002fZdeprQP6hXVvTvKMw\\u002fvhGjJ8Ofzj+Ld1j\\u002fDB\\u002fOP\\u002fWSGjh3Wc0\\u002fNb6etG2rzj9L\\u002f7WIh27LP5MrQ7flL88\\u002fnER2yF7uzz+3RrlT9J7QP4PxgiCi380\\u002fmZ3\\u002fMdtU0D\\u002fYJoJYh17RP7qYw+fvW9A\\u002fa3EoFODa0T\\u002f4oLujpbnRP1T6k5GjFtQ\\u002fGRSPkaet0z\\u002fJfAsoIK7TP+swcS4vQ9A\\u002fB3JhbkBI0j9T4t\\u002fGkEXRPyKpUzw8E88\\u002f4uj+r8Ktzz9HMVfza2bOP+A38erOus4\\u002f0y2m1bWyzD92D2qrLT3OP+2IuWVxJs8\\u002fr8hYGC7zzT\\u002fvNOV3mgvNP30KyPshmtA\\u002f+rQxW4iKzj8PFwlP4avKP+nd\\u002fc+1Esw\\u002f9faMPaaDyz+V9ChTNt\\u002fPP8cQb4Zdxc4\\u002fojOpQxDIzD+Aue65k5HQP2ki7oNYwM4\\u002fbgdkDykVzD\\u002fANXz8uZHNP0EbZYvCqdA\\u002fPcv8GD6C0D8=\"},\"type\":\"scatter\"}],                        {\"legend\":{\"x\":1.0,\"xanchor\":\"right\",\"y\":1.0,\"yanchor\":\"top\"},\"margin\":{\"autoexpand\":true,\"b\":45,\"r\":30,\"t\":40},\"title\":{\"text\":\"Measured data for experiment \\ud83d\\udd2c 'sim_lbco'\"},\"xaxis\":{\"mirror\":true,\"showline\":true,\"title\":{\"text\":\"TOF (\\u00b5s)\"},\"zeroline\":false,\"tickformat\":\",.6~g\",\"separatethousands\":true},\"yaxis\":{\"mirror\":true,\"showline\":true,\"title\":{\"text\":\"Intensity (arb. units)\"},\"zeroline\":false,\"tickformat\":\",.6~g\",\"separatethousands\":true},\"template\":{\"data\":{\"histogram2dcontour\":[{\"type\":\"histogram2dcontour\",\"colorbar\":{\"outlinewidth\":0,\"ticks\":\"\"},\"colorscale\":[[0.0,\"#0d0887\"],[0.1111111111111111,\"#46039f\"],[0.2222222222222222,\"#7201a8\"],[0.3333333333333333,\"#9c179e\"],[0.4444444444444444,\"#bd3786\"],[0.5555555555555556,\"#d8576b\"],[0.6666666666666666,\"#ed7953\"],[0.7777777777777778,\"#fb9f3a\"],[0.8888888888888888,\"#fdca26\"],[1.0,\"#f0f921\"]]}],\"choropleth\":[{\"type\":\"choropleth\",\"colorbar\":{\"outlinewidth\":0,\"ticks\":\"\"}}],\"histogram2d\":[{\"type\":\"histogram2d\",\"colorbar\":{\"outlinewidth\":0,\"ticks\":\"\"},\"colorscale\":[[0.0,\"#0d0887\"],[0.1111111111111111,\"#46039f\"],[0.2222222222222222,\"#7201a8\"],[0.3333333333333333,\"#9c179e\"],[0.4444444444444444,\"#bd3786\"],[0.5555555555555556,\"#d8576b\"],[0.6666666666666666,\"#ed7953\"],[0.7777777777777778,\"#fb9f3a\"],[0.8888888888888888,\"#fdca26\"],[1.0,\"#f0f921\"]]}],\"heatmap\":[{\"type\":\"heatmap\",\"colorbar\":{\"outlinewidth\":0,\"ticks\":\"\"},\"colorscale\":[[0.0,\"#0d0887\"],[0.1111111111111111,\"#46039f\"],[0.2222222222222222,\"#7201a8\"],[0.3333333333333333,\"#9c179e\"],[0.4444444444444444,\"#bd3786\"],[0.5555555555555556,\"#d8576b\"],[0.6666666666666666,\"#ed7953\"],[0.7777777777777778,\"#fb9f3a\"],[0.8888888888888888,\"#fdca26\"],[1.0,\"#f0f921\"]]}],\"contourcarpet\":[{\"type\":\"contourcarpet\",\"colorbar\":{\"outlinewidth\":0,\"ticks\":\"\"}}],\"contour\":[{\"type\":\"contour\",\"colorbar\":{\"outlinewidth\":0,\"ticks\":\"\"},\"colorscale\":[[0.0,\"#0d0887\"],[0.1111111111111111,\"#46039f\"],[0.2222222222222222,\"#7201a8\"],[0.3333333333333333,\"#9c179e\"],[0.4444444444444444,\"#bd3786\"],[0.5555555555555556,\"#d8576b\"],[0.6666666666666666,\"#ed7953\"],[0.7777777777777778,\"#fb9f3a\"],[0.8888888888888888,\"#fdca26\"],[1.0,\"#f0f921\"]]}],\"surface\":[{\"type\":\"surface\",\"colorbar\":{\"outlinewidth\":0,\"ticks\":\"\"},\"colorscale\":[[0.0,\"#0d0887\"],[0.1111111111111111,\"#46039f\"],[0.2222222222222222,\"#7201a8\"],[0.3333333333333333,\"#9c179e\"],[0.4444444444444444,\"#bd3786\"],[0.5555555555555556,\"#d8576b\"],[0.6666666666666666,\"#ed7953\"],[0.7777777777777778,\"#fb9f3a\"],[0.8888888888888888,\"#fdca26\"],[1.0,\"#f0f921\"]]}],\"mesh3d\":[{\"type\":\"mesh3d\",\"colorbar\":{\"outlinewidth\":0,\"ticks\":\"\"}}],\"scatter\":[{\"fillpattern\":{\"fillmode\":\"overlay\",\"size\":10,\"solidity\":0.2},\"type\":\"scatter\"}],\"parcoords\":[{\"type\":\"parcoords\",\"line\":{\"colorbar\":{\"outlinewidth\":0,\"ticks\":\"\"}}}],\"scatterpolargl\":[{\"type\":\"scatterpolargl\",\"marker\":{\"colorbar\":{\"outlinewidth\":0,\"ticks\":\"\"}}}],\"bar\":[{\"error_x\":{\"color\":\"#2a3f5f\"},\"error_y\":{\"color\":\"#2a3f5f\"},\"marker\":{\"line\":{\"color\":\"white\",\"width\":0.5},\"pattern\":{\"fillmode\":\"overlay\",\"size\":10,\"solidity\":0.2}},\"type\":\"bar\"}],\"scattergeo\":[{\"type\":\"scattergeo\",\"marker\":{\"colorbar\":{\"outlinewidth\":0,\"ticks\":\"\"}}}],\"scatterpolar\":[{\"type\":\"scatterpolar\",\"marker\":{\"colorbar\":{\"outlinewidth\":0,\"ticks\":\"\"}}}],\"histogram\":[{\"marker\":{\"pattern\":{\"fillmode\":\"overlay\",\"size\":10,\"solidity\":0.2}},\"type\":\"histogram\"}],\"scattergl\":[{\"type\":\"scattergl\",\"marker\":{\"colorbar\":{\"outlinewidth\":0,\"ticks\":\"\"}}}],\"scatter3d\":[{\"type\":\"scatter3d\",\"line\":{\"colorbar\":{\"outlinewidth\":0,\"ticks\":\"\"}},\"marker\":{\"colorbar\":{\"outlinewidth\":0,\"ticks\":\"\"}}}],\"scattermap\":[{\"type\":\"scattermap\",\"marker\":{\"colorbar\":{\"outlinewidth\":0,\"ticks\":\"\"}}}],\"scattermapbox\":[{\"type\":\"scattermapbox\",\"marker\":{\"colorbar\":{\"outlinewidth\":0,\"ticks\":\"\"}}}],\"scatterternary\":[{\"type\":\"scatterternary\",\"marker\":{\"colorbar\":{\"outlinewidth\":0,\"ticks\":\"\"}}}],\"scattercarpet\":[{\"type\":\"scattercarpet\",\"marker\":{\"colorbar\":{\"outlinewidth\":0,\"ticks\":\"\"}}}],\"carpet\":[{\"aaxis\":{\"endlinecolor\":\"#2a3f5f\",\"gridcolor\":\"#C8D4E3\",\"linecolor\":\"#C8D4E3\",\"minorgridcolor\":\"#C8D4E3\",\"startlinecolor\":\"#2a3f5f\"},\"baxis\":{\"endlinecolor\":\"#2a3f5f\",\"gridcolor\":\"#C8D4E3\",\"linecolor\":\"#C8D4E3\",\"minorgridcolor\":\"#C8D4E3\",\"startlinecolor\":\"#2a3f5f\"},\"type\":\"carpet\"}],\"table\":[{\"cells\":{\"fill\":{\"color\":\"#EBF0F8\"},\"line\":{\"color\":\"white\"}},\"header\":{\"fill\":{\"color\":\"#C8D4E3\"},\"line\":{\"color\":\"white\"}},\"type\":\"table\"}],\"barpolar\":[{\"marker\":{\"line\":{\"color\":\"white\",\"width\":0.5},\"pattern\":{\"fillmode\":\"overlay\",\"size\":10,\"solidity\":0.2}},\"type\":\"barpolar\"}],\"pie\":[{\"automargin\":true,\"type\":\"pie\"}]},\"layout\":{\"autotypenumbers\":\"strict\",\"colorway\":[\"#636efa\",\"#EF553B\",\"#00cc96\",\"#ab63fa\",\"#FFA15A\",\"#19d3f3\",\"#FF6692\",\"#B6E880\",\"#FF97FF\",\"#FECB52\"],\"font\":{\"color\":\"#2a3f5f\"},\"hovermode\":\"closest\",\"hoverlabel\":{\"align\":\"left\"},\"paper_bgcolor\":\"white\",\"plot_bgcolor\":\"white\",\"polar\":{\"bgcolor\":\"white\",\"angularaxis\":{\"gridcolor\":\"#EBF0F8\",\"linecolor\":\"#EBF0F8\",\"ticks\":\"\"},\"radialaxis\":{\"gridcolor\":\"#EBF0F8\",\"linecolor\":\"#EBF0F8\",\"ticks\":\"\"}},\"ternary\":{\"bgcolor\":\"white\",\"aaxis\":{\"gridcolor\":\"#DFE8F3\",\"linecolor\":\"#A2B1C6\",\"ticks\":\"\"},\"baxis\":{\"gridcolor\":\"#DFE8F3\",\"linecolor\":\"#A2B1C6\",\"ticks\":\"\"},\"caxis\":{\"gridcolor\":\"#DFE8F3\",\"linecolor\":\"#A2B1C6\",\"ticks\":\"\"}},\"coloraxis\":{\"colorbar\":{\"outlinewidth\":0,\"ticks\":\"\"}},\"colorscale\":{\"sequential\":[[0.0,\"#0d0887\"],[0.1111111111111111,\"#46039f\"],[0.2222222222222222,\"#7201a8\"],[0.3333333333333333,\"#9c179e\"],[0.4444444444444444,\"#bd3786\"],[0.5555555555555556,\"#d8576b\"],[0.6666666666666666,\"#ed7953\"],[0.7777777777777778,\"#fb9f3a\"],[0.8888888888888888,\"#fdca26\"],[1.0,\"#f0f921\"]],\"sequentialminus\":[[0.0,\"#0d0887\"],[0.1111111111111111,\"#46039f\"],[0.2222222222222222,\"#7201a8\"],[0.3333333333333333,\"#9c179e\"],[0.4444444444444444,\"#bd3786\"],[0.5555555555555556,\"#d8576b\"],[0.6666666666666666,\"#ed7953\"],[0.7777777777777778,\"#fb9f3a\"],[0.8888888888888888,\"#fdca26\"],[1.0,\"#f0f921\"]],\"diverging\":[[0,\"#8e0152\"],[0.1,\"#c51b7d\"],[0.2,\"#de77ae\"],[0.3,\"#f1b6da\"],[0.4,\"#fde0ef\"],[0.5,\"#f7f7f7\"],[0.6,\"#e6f5d0\"],[0.7,\"#b8e186\"],[0.8,\"#7fbc41\"],[0.9,\"#4d9221\"],[1,\"#276419\"]]},\"xaxis\":{\"gridcolor\":\"#EBF0F8\",\"linecolor\":\"#EBF0F8\",\"ticks\":\"\",\"title\":{\"standoff\":15},\"zerolinecolor\":\"#EBF0F8\",\"automargin\":true,\"zerolinewidth\":2},\"yaxis\":{\"gridcolor\":\"#EBF0F8\",\"linecolor\":\"#EBF0F8\",\"ticks\":\"\",\"title\":{\"standoff\":15},\"zerolinecolor\":\"#EBF0F8\",\"automargin\":true,\"zerolinewidth\":2},\"scene\":{\"xaxis\":{\"backgroundcolor\":\"white\",\"gridcolor\":\"#DFE8F3\",\"linecolor\":\"#EBF0F8\",\"showbackground\":true,\"ticks\":\"\",\"zerolinecolor\":\"#EBF0F8\",\"gridwidth\":2},\"yaxis\":{\"backgroundcolor\":\"white\",\"gridcolor\":\"#DFE8F3\",\"linecolor\":\"#EBF0F8\",\"showbackground\":true,\"ticks\":\"\",\"zerolinecolor\":\"#EBF0F8\",\"gridwidth\":2},\"zaxis\":{\"backgroundcolor\":\"white\",\"gridcolor\":\"#DFE8F3\",\"linecolor\":\"#EBF0F8\",\"showbackground\":true,\"ticks\":\"\",\"zerolinecolor\":\"#EBF0F8\",\"gridwidth\":2}},\"shapedefaults\":{\"line\":{\"color\":\"#2a3f5f\"}},\"annotationdefaults\":{\"arrowcolor\":\"#2a3f5f\",\"arrowhead\":0,\"arrowwidth\":1},\"geo\":{\"bgcolor\":\"white\",\"landcolor\":\"white\",\"subunitcolor\":\"#C8D4E3\",\"showland\":true,\"showlakes\":true,\"lakecolor\":\"white\"},\"title\":{\"x\":0.05},\"mapbox\":{\"style\":\"light\"}}}},                        {\"displaylogo\": false, \"modeBarButtonsToRemove\": [\"select2d\", \"lasso2d\", \"zoomIn2d\", \"zoomOut2d\", \"autoScale2d\"], \"responsive\": true}                    )                };            </script>        </div>"
      ],
      "text/plain": [
       "<IPython.core.display.HTML object>"
      ]
     },
     "metadata": {},
     "output_type": "display_data"
    }
   ],
   "source": [
    "project_2.plotter.engine = 'plotly'\n",
    "project_2.plot_meas(expt_name='sim_lbco')\n",
    "\n",
    "project_2.experiments['sim_lbco'].excluded_regions.add(start=0, end=55000)\n",
    "project_2.experiments['sim_lbco'].excluded_regions.add(start=105500, end=200000)\n",
    "\n",
    "project_2.plot_meas(expt_name='sim_lbco')"
   ]
  },
  {
   "cell_type": "markdown",
   "id": "96",
   "metadata": {},
   "source": [
    "#### Exercise 2.2: Set Instrument Parameters\n",
    "\n",
    "Set the instrument parameters for the LBCO experiment."
   ]
  },
  {
   "cell_type": "markdown",
   "id": "97",
   "metadata": {},
   "source": [
    "**Hint:**"
   ]
  },
  {
   "cell_type": "markdown",
   "id": "98",
   "metadata": {},
   "source": [
    "Use the values from the data reduction process for the LBCO and\n",
    "follow the same approach as in the previous part of the notebook."
   ]
  },
  {
   "cell_type": "markdown",
   "id": "99",
   "metadata": {},
   "source": [
    "**Solution:**"
   ]
  },
  {
   "cell_type": "code",
   "execution_count": 32,
   "id": "100",
   "metadata": {
    "execution": {
     "iopub.execute_input": "2025-08-31T19:33:11.886102Z",
     "iopub.status.busy": "2025-08-31T19:33:11.886002Z",
     "iopub.status.idle": "2025-08-31T19:33:11.892434Z",
     "shell.execute_reply": "2025-08-31T19:33:11.891955Z"
    }
   },
   "outputs": [],
   "source": [
    "project_2.experiments['sim_lbco'].instrument.setup_twotheta_bank = ed.get_value_from_xye_header(lbco_xye_path, 'two_theta')\n",
    "project_2.experiments['sim_lbco'].instrument.calib_d_to_tof_linear = ed.get_value_from_xye_header(lbco_xye_path, 'DIFC')"
   ]
  },
  {
   "cell_type": "markdown",
   "id": "101",
   "metadata": {},
   "source": [
    "#### Exercise 2.3: Set Peak Profile Parameters\n",
    "\n",
    "Set the peak profile parameters for the LBCO experiment."
   ]
  },
  {
   "cell_type": "markdown",
   "id": "102",
   "metadata": {},
   "source": [
    "**Hint:**"
   ]
  },
  {
   "cell_type": "markdown",
   "id": "103",
   "metadata": {},
   "source": [
    "Use the values from the previous part of the notebook. You can\n",
    "either manually copy the values from the Si fit or use the `value` attribute\n",
    "of the parameters from the Si experiment to set the initial values for the\n",
    "LBCO experiment. This will help us to have a good starting point for the fit."
   ]
  },
  {
   "cell_type": "markdown",
   "id": "104",
   "metadata": {},
   "source": [
    "**Solution:**"
   ]
  },
  {
   "cell_type": "code",
   "execution_count": 33,
   "id": "105",
   "metadata": {
    "execution": {
     "iopub.execute_input": "2025-08-31T19:33:11.894130Z",
     "iopub.status.busy": "2025-08-31T19:33:11.894038Z",
     "iopub.status.idle": "2025-08-31T19:33:11.901057Z",
     "shell.execute_reply": "2025-08-31T19:33:11.900494Z"
    }
   },
   "outputs": [],
   "source": [
    "project_2.peak_profile_type = 'pseudo-voigt * ikeda-carpenter'\n",
    "project_2.experiments['sim_lbco'].peak.broad_gauss_sigma_0 = project_1.experiments['sim_si'].peak.broad_gauss_sigma_0.value\n",
    "project_2.experiments['sim_lbco'].peak.broad_gauss_sigma_1 = project_1.experiments['sim_si'].peak.broad_gauss_sigma_1.value\n",
    "project_2.experiments['sim_lbco'].peak.broad_gauss_sigma_2 = project_1.experiments['sim_si'].peak.broad_gauss_sigma_2.value\n",
    "project_2.experiments['sim_lbco'].peak.broad_mix_beta_0 = project_1.experiments['sim_si'].peak.broad_mix_beta_0.value\n",
    "project_2.experiments['sim_lbco'].peak.broad_mix_beta_1 = project_1.experiments['sim_si'].peak.broad_mix_beta_1.value\n",
    "project_2.experiments['sim_lbco'].peak.asym_alpha_0 = project_1.experiments['sim_si'].peak.asym_alpha_0.value\n",
    "project_2.experiments['sim_lbco'].peak.asym_alpha_1 = project_1.experiments['sim_si'].peak.asym_alpha_1.value"
   ]
  },
  {
   "cell_type": "markdown",
   "id": "106",
   "metadata": {},
   "source": [
    "#### Exercise 2.4: Set Background\n",
    "\n",
    "Set the background points for the LBCO experiment. What would you suggest as\n",
    "the initial intensity value for the background points?"
   ]
  },
  {
   "cell_type": "markdown",
   "id": "107",
   "metadata": {},
   "source": [
    "**Hint:**"
   ]
  },
  {
   "cell_type": "markdown",
   "id": "108",
   "metadata": {},
   "source": [
    "Use the same approach as in the previous part of the notebook, but\n",
    "this time you need to set the background points for the LBCO experiment. You\n",
    "can zoom in on the measured diffraction pattern to determine the approximate\n",
    "background level."
   ]
  },
  {
   "cell_type": "markdown",
   "id": "109",
   "metadata": {},
   "source": [
    "**Solution:**"
   ]
  },
  {
   "cell_type": "code",
   "execution_count": 34,
   "id": "110",
   "metadata": {
    "execution": {
     "iopub.execute_input": "2025-08-31T19:33:11.903050Z",
     "iopub.status.busy": "2025-08-31T19:33:11.902937Z",
     "iopub.status.idle": "2025-08-31T19:33:11.910477Z",
     "shell.execute_reply": "2025-08-31T19:33:11.909695Z"
    }
   },
   "outputs": [
    {
     "name": "stdout",
     "output_type": "stream",
     "text": [
      "\n",
      "\u001b[94m\u001b[1mBackground type for experiment \u001b[0m'sim_lbco'\u001b[94m\u001b[1m changed to\u001b[0m\n",
      "line-segment\n"
     ]
    }
   ],
   "source": [
    "project_2.experiments['sim_lbco'].background_type = 'line-segment'\n",
    "project_2.experiments['sim_lbco'].background.add(x=50000, y=0.2)\n",
    "project_2.experiments['sim_lbco'].background.add(x=60000, y=0.2)\n",
    "project_2.experiments['sim_lbco'].background.add(x=70000, y=0.2)\n",
    "project_2.experiments['sim_lbco'].background.add(x=80000, y=0.2)\n",
    "project_2.experiments['sim_lbco'].background.add(x=90000, y=0.2)\n",
    "project_2.experiments['sim_lbco'].background.add(x=100000, y=0.2)\n",
    "project_2.experiments['sim_lbco'].background.add(x=110000, y=0.2)"
   ]
  },
  {
   "cell_type": "markdown",
   "id": "111",
   "metadata": {},
   "source": [
    "### 🧩 Exercise 3: Define a Sample Model – LBCO\n",
    "\n",
    "The LBSO structure is not as simple as the Si model, as it contains multiple\n",
    "atoms in the unit cell. It is not in COD, so we give you the structural\n",
    "parameters in CIF format to create the sample model.\n",
    "\n",
    "Note that those parameters are not necessarily the most accurate ones, but\n",
    "they are a good starting point for the fit. The aim of the study is to refine\n",
    "the LBCO lattice parameters."
   ]
  },
  {
   "cell_type": "markdown",
   "id": "112",
   "metadata": {},
   "source": [
    "```\n",
    "data_lbco\n",
    "\n",
    "_space_group.name_H-M_alt  \"P m -3 m\"\n",
    "_space_group.IT_coordinate_system_code  1\n",
    "\n",
    "_cell.length_a      3.89\n",
    "_cell.length_b      3.89\n",
    "_cell.length_c      3.89\n",
    "_cell.angle_alpha  90.0\n",
    "_cell.angle_beta   90.0\n",
    "_cell.angle_gamma  90.0\n",
    "\n",
    "loop_\n",
    "_atom_site.label\n",
    "_atom_site.type_symbol\n",
    "_atom_site.fract_x\n",
    "_atom_site.fract_y\n",
    "_atom_site.fract_z\n",
    "_atom_site.wyckoff_letter\n",
    "_atom_site.occupancy\n",
    "_atom_site.ADP_type\n",
    "_atom_site.B_iso_or_equiv\n",
    "La La   0.0 0.0 0.0   a   0.5   Biso 0.95\n",
    "Ba Ba   0.0 0.0 0.0   a   0.5   Biso 0.95\n",
    "Co Co   0.5 0.5 0.5   b   1.0   Biso 0.80\n",
    "O  O    0.0 0.5 0.5   c   1.0   Biso 1.66\n",
    "```"
   ]
  },
  {
   "cell_type": "markdown",
   "id": "113",
   "metadata": {},
   "source": [
    "Note that the `occupancy` of the La and Ba atoms is 0.5 and those atoms\n",
    "are located in the same position (0, 0, 0) in the unit cell. This means that\n",
    "an extra attribute `occupancy` needs to be set for those atoms later in the\n",
    "sample model.\n",
    "\n",
    "We model the La/Ba site using the virtual crystal approximation.\n",
    "In this approach, the scattering is taken as a weighted average of La and Ba.\n",
    "This reproduces the average diffraction pattern well but does not capture\n",
    "certain real-world effects.\n",
    "\n",
    "The edge cases are:\n",
    "- **Random distribution**.\n",
    "   La and Ba atoms are placed randomly. The Bragg peaks still match the\n",
    "   average structure, but the pattern also shows extra background\n",
    "   (diffuse scattering) between the peaks, but this is usually neglected\n",
    "   in the analysis.\n",
    "- **Perfect ordering**.\n",
    "   La and Ba arrange themselves in a regular pattern, creating a larger\n",
    "   repeating unit. This gives rise to extra peaks\n",
    "   (\"superlattice reflections\") and changes the intensity of some existing\n",
    "   peaks.\n",
    "- **Virtual crystal approximation (our model)**.\n",
    "   We replace the site with a single \"virtual atom\" that averages La and Ba.\n",
    "   This gives the correct average Bragg peaks but leaves out the extra\n",
    "   background of the random case and the extra peaks of the ordered case."
   ]
  },
  {
   "cell_type": "markdown",
   "id": "114",
   "metadata": {},
   "source": [
    "#### Exercise 3.1: Create Sample Model\n",
    "\n",
    "Add a sample model for LBCO to the project. The sample model parameters\n",
    "will be set in the next exercises."
   ]
  },
  {
   "cell_type": "markdown",
   "id": "115",
   "metadata": {},
   "source": [
    "**Hint:**"
   ]
  },
  {
   "cell_type": "markdown",
   "id": "116",
   "metadata": {},
   "source": [
    "You can use the same approach as in the previous part of the\n",
    "notebook, but this time you need to use the model name corresponding to the\n",
    "LBCO structure, e.g. 'lbco'."
   ]
  },
  {
   "cell_type": "markdown",
   "id": "117",
   "metadata": {},
   "source": [
    "**Solution:**"
   ]
  },
  {
   "cell_type": "code",
   "execution_count": 35,
   "id": "118",
   "metadata": {
    "execution": {
     "iopub.execute_input": "2025-08-31T19:33:11.913186Z",
     "iopub.status.busy": "2025-08-31T19:33:11.912933Z",
     "iopub.status.idle": "2025-08-31T19:33:11.919957Z",
     "shell.execute_reply": "2025-08-31T19:33:11.919215Z"
    }
   },
   "outputs": [],
   "source": [
    "project_2.sample_models.add(name='lbco')"
   ]
  },
  {
   "cell_type": "markdown",
   "id": "119",
   "metadata": {},
   "source": [
    "#### Exercise 3.2: Set Space Group\n",
    "\n",
    "Set the space group for the LBCO sample model."
   ]
  },
  {
   "cell_type": "markdown",
   "id": "120",
   "metadata": {},
   "source": [
    "**Hint:**"
   ]
  },
  {
   "cell_type": "markdown",
   "id": "121",
   "metadata": {},
   "source": [
    "Use the space group name and IT coordinate system code from the CIF data."
   ]
  },
  {
   "cell_type": "markdown",
   "id": "122",
   "metadata": {},
   "source": [
    "**Solution:**"
   ]
  },
  {
   "cell_type": "code",
   "execution_count": 36,
   "id": "123",
   "metadata": {
    "execution": {
     "iopub.execute_input": "2025-08-31T19:33:11.921855Z",
     "iopub.status.busy": "2025-08-31T19:33:11.921742Z",
     "iopub.status.idle": "2025-08-31T19:33:11.923687Z",
     "shell.execute_reply": "2025-08-31T19:33:11.923360Z"
    }
   },
   "outputs": [],
   "source": [
    "project_2.sample_models['lbco'].space_group.name_h_m = 'P m -3 m'\n",
    "project_2.sample_models['lbco'].space_group.it_coordinate_system_code = '1'"
   ]
  },
  {
   "cell_type": "markdown",
   "id": "124",
   "metadata": {},
   "source": [
    "#### Exercise 3.3: Set Lattice Parameters\n",
    "\n",
    "Set the lattice parameters for the LBCO sample model."
   ]
  },
  {
   "cell_type": "markdown",
   "id": "125",
   "metadata": {},
   "source": [
    "**Hint:**"
   ]
  },
  {
   "cell_type": "markdown",
   "id": "126",
   "metadata": {},
   "source": [
    "Use the lattice parameters from the CIF data."
   ]
  },
  {
   "cell_type": "markdown",
   "id": "127",
   "metadata": {},
   "source": [
    "**Solution:**"
   ]
  },
  {
   "cell_type": "code",
   "execution_count": 37,
   "id": "128",
   "metadata": {
    "execution": {
     "iopub.execute_input": "2025-08-31T19:33:11.925815Z",
     "iopub.status.busy": "2025-08-31T19:33:11.925642Z",
     "iopub.status.idle": "2025-08-31T19:33:11.927948Z",
     "shell.execute_reply": "2025-08-31T19:33:11.927474Z"
    }
   },
   "outputs": [],
   "source": [
    "project_2.sample_models['lbco'].cell.length_a = 3.88"
   ]
  },
  {
   "cell_type": "markdown",
   "id": "129",
   "metadata": {},
   "source": [
    "#### Exercise 3.4: Set Atom Sites\n",
    "\n",
    "Set the atom sites for the LBCO sample model."
   ]
  },
  {
   "cell_type": "markdown",
   "id": "130",
   "metadata": {},
   "source": [
    "**Hint:**"
   ]
  },
  {
   "cell_type": "markdown",
   "id": "131",
   "metadata": {},
   "source": [
    "Use the atom sites from the CIF data. You can use the `add` method of\n",
    "the `atom_sites` attribute of the sample model to add the atom sites."
   ]
  },
  {
   "cell_type": "markdown",
   "id": "132",
   "metadata": {},
   "source": [
    "**Solution:**"
   ]
  },
  {
   "cell_type": "code",
   "execution_count": 38,
   "id": "133",
   "metadata": {
    "execution": {
     "iopub.execute_input": "2025-08-31T19:33:11.930483Z",
     "iopub.status.busy": "2025-08-31T19:33:11.930297Z",
     "iopub.status.idle": "2025-08-31T19:33:11.934035Z",
     "shell.execute_reply": "2025-08-31T19:33:11.933530Z"
    }
   },
   "outputs": [],
   "source": [
    "project_2.sample_models['lbco'].atom_sites.add(\n",
    "    label='La',\n",
    "    type_symbol='La',\n",
    "    fract_x=0,\n",
    "    fract_y=0,\n",
    "    fract_z=0,\n",
    "    wyckoff_letter='a',\n",
    "    b_iso=0.95,\n",
    "    occupancy=0.5,\n",
    ")\n",
    "project_2.sample_models['lbco'].atom_sites.add(\n",
    "    label='Ba',\n",
    "    type_symbol='Ba',\n",
    "    fract_x=0,\n",
    "    fract_y=0,\n",
    "    fract_z=0,\n",
    "    wyckoff_letter='a',\n",
    "    b_iso=0.95,\n",
    "    occupancy=0.5,\n",
    ")\n",
    "project_2.sample_models['lbco'].atom_sites.add(\n",
    "    label='Co',\n",
    "    type_symbol='Co',\n",
    "    fract_x=0.5,\n",
    "    fract_y=0.5,\n",
    "    fract_z=0.5,\n",
    "    wyckoff_letter='b',\n",
    "    b_iso=0.80,\n",
    ")\n",
    "project_2.sample_models['lbco'].atom_sites.add(\n",
    "    label='O',\n",
    "    type_symbol='O',\n",
    "    fract_x=0,\n",
    "    fract_y=0.5,\n",
    "    fract_z=0.5,\n",
    "    wyckoff_letter='c',\n",
    "    b_iso=1.66,\n",
    ")"
   ]
  },
  {
   "cell_type": "markdown",
   "id": "134",
   "metadata": {},
   "source": [
    "### 🔗 Exercise 4: Assign Sample Model to Experiment\n",
    "\n",
    "Now assign the LBCO sample model to the experiment created above."
   ]
  },
  {
   "cell_type": "markdown",
   "id": "135",
   "metadata": {},
   "source": [
    "**Hint:**"
   ]
  },
  {
   "cell_type": "markdown",
   "id": "136",
   "metadata": {},
   "source": [
    "Use the `linked_phases` attribute of the experiment to link the sample model."
   ]
  },
  {
   "cell_type": "markdown",
   "id": "137",
   "metadata": {},
   "source": [
    "**Solution:**"
   ]
  },
  {
   "cell_type": "code",
   "execution_count": 39,
   "id": "138",
   "metadata": {
    "execution": {
     "iopub.execute_input": "2025-08-31T19:33:11.936019Z",
     "iopub.status.busy": "2025-08-31T19:33:11.935866Z",
     "iopub.status.idle": "2025-08-31T19:33:11.942777Z",
     "shell.execute_reply": "2025-08-31T19:33:11.941956Z"
    }
   },
   "outputs": [],
   "source": [
    "project_2.experiments['sim_lbco'].linked_phases.add(id='lbco', scale=1.0)"
   ]
  },
  {
   "cell_type": "markdown",
   "id": "139",
   "metadata": {},
   "source": [
    "### 🚀 Exercise 5: Analyze and Fit the Data\n",
    "\n",
    "#### Exercise 5.1: Set Fit Parameters\n",
    "\n",
    "Select the initial set of parameters to be refined during the fitting\n",
    "process."
   ]
  },
  {
   "cell_type": "markdown",
   "id": "140",
   "metadata": {},
   "source": [
    "**Hint:**"
   ]
  },
  {
   "cell_type": "markdown",
   "id": "141",
   "metadata": {},
   "source": [
    "You can start with the scale factor and the background\n",
    "points, as in the Si fit."
   ]
  },
  {
   "cell_type": "markdown",
   "id": "142",
   "metadata": {},
   "source": [
    "**Solution:**"
   ]
  },
  {
   "cell_type": "code",
   "execution_count": 40,
   "id": "143",
   "metadata": {
    "execution": {
     "iopub.execute_input": "2025-08-31T19:33:11.944567Z",
     "iopub.status.busy": "2025-08-31T19:33:11.944452Z",
     "iopub.status.idle": "2025-08-31T19:33:11.950561Z",
     "shell.execute_reply": "2025-08-31T19:33:11.950020Z"
    }
   },
   "outputs": [],
   "source": [
    "project_2.experiments['sim_lbco'].linked_phases['lbco'].scale.free = True\n",
    "\n",
    "for line_segment in project_2.experiments['sim_lbco'].background:\n",
    "    line_segment.y.free = True"
   ]
  },
  {
   "cell_type": "markdown",
   "id": "144",
   "metadata": {},
   "source": [
    "#### Exercise 5.2: Run Fitting\n",
    "\n",
    "Visualize the measured and calculated diffraction patterns before fitting and\n",
    "then run the fitting process."
   ]
  },
  {
   "cell_type": "markdown",
   "id": "145",
   "metadata": {},
   "source": [
    "**Hint:**"
   ]
  },
  {
   "cell_type": "markdown",
   "id": "146",
   "metadata": {},
   "source": [
    "Use the `plot_meas_vs_calc` method of the project to visualize the\n",
    "measured and calculated diffraction patterns before fitting. Then, use the\n",
    "`fit` method of the `analysis` object of the project to perform the fitting\n",
    "process."
   ]
  },
  {
   "cell_type": "markdown",
   "id": "147",
   "metadata": {},
   "source": [
    "**Solution:**"
   ]
  },
  {
   "cell_type": "code",
   "execution_count": 41,
   "id": "148",
   "metadata": {
    "execution": {
     "iopub.execute_input": "2025-08-31T19:33:11.953223Z",
     "iopub.status.busy": "2025-08-31T19:33:11.953084Z",
     "iopub.status.idle": "2025-08-31T19:33:12.520865Z",
     "shell.execute_reply": "2025-08-31T19:33:12.518554Z"
    }
   },
   "outputs": [
    {
     "data": {
      "text/html": [
       "<div>                        <script type=\"text/javascript\">window.PlotlyConfig = {MathJaxConfig: 'local'};</script>\n",
       "        <script charset=\"utf-8\" src=\"https://cdn.plot.ly/plotly-3.1.0.min.js\" integrity=\"sha256-Ei4740bWZhaUTQuD6q9yQlgVCMPBz6CZWhevDYPv93A=\" crossorigin=\"anonymous\"></script>                <div id=\"be6ea314-6303-47f6-a058-82218e9458f9\" class=\"plotly-graph-div\" style=\"height:100%; width:100%;\"></div>            <script type=\"text/javascript\">                window.PLOTLYENV=window.PLOTLYENV || {};                                if (document.getElementById(\"be6ea314-6303-47f6-a058-82218e9458f9\")) {                    Plotly.newPlot(                        \"be6ea314-6303-47f6-a058-82218e9458f9\",                        [{\"line\":{\"color\":\"rgb(31, 119, 180)\"},\"mode\":\"lines+markers\",\"name\":\"Measured (Imeas)\",\"x\":{\"dtype\":\"f8\",\"bdata\":\"k6mCUTXg6kC28\\u002f3U5O7qQPH0SlmU\\u002fepAK\\u002faX3UMM60Bm9+Rh8xrrQKH4MeaiKetAxEKtaVI460D+Q\\u002frtAUfrQDlFR3KxVetAdEaU9mBk60CXkA96EHPrQNGRXP6\\u002fgetADJOpgm+Q60BGlPYGH5\\u002frQIGVQ4vOretApN++Dn6860Df4AuTLcvrQBniWBfd2etAVOOlm4zo60CP5PIfPPfrQLIubqPrBexA7C+7J5sU7EAnMQisSiPsQGEyVTD6MexAnDOitKlA7EC\\u002ffR04WU\\u002fsQPp+arwIXuxANIC3QLhs7EBvgQTFZ3vsQKqCUUkXiuxAzczMzMaY7EAHzhlRdqfsQELPZtUltuxAfdCzWdXE7EC30QDehNPsQNobfGE04uxAFR3J5ePw7EBPHhZqk\\u002f\\u002fsQIofY+5CDu1AxSCwcvIc7UDoaiv2oSvtQCJseHpROu1AXW3F\\u002fgBJ7UCYbhKDsFftQNJvXwdgZu1A9bnaig917UAwuycPv4PtQGq8dJNuku1Apb3BFx6h7UDgvg6cza\\u002ftQAMJih99vu1APQrXoyzN7UB4CyQo3NvtQLMMcayL6u1A7Q2+MDv57UAQWDm06gfuQEtZhjiaFu5AhlrTvEkl7kDAWyBB+TPuQPtcbcWoQu5AHqfoSFhR7kBYqDXNB2DuQJOpglG3bu5AzqrP1WZ97kAIrBxaFozuQCv2l93Fmu5AZvfkYXWp7kCh+DHmJLjuQNv5fmrUxu5AFvvL7oPV7kA5RUdyM+TuQHRGlPbi8u5ArkfhepIB70DpSC7\\u002fQRDvQCNKe4PxHu9ARpT2BqEt70CBlUOLUDzvQLyWkA8AS+9A9pfdk69Z70AxmSoYX2jvQFTjpZsOd+9Aj+TyH76F70DJ5T+kbZTvQATnjCgdo+9AJzEIrMyx70BhMlUwfMDvQJwzorQrz+9A1zTvONvd70ARNjy9iuzvQDSAt0A6++9AuECC4vQE8EBVwaikTAzwQPJBz2akE\\u002fBAj8L1KPwa8EChZ7PqUyLwQD7o2ayrKfBA3GgAbwMx8EB56SYxWzjwQBZqTfOyP\\u002fBAKA8LtQpH8EDFjzF3Yk7wQGIQWDm6VfBAAJF++xFd8ECdEaW9aWTwQK62Yn\\u002fBa\\u002fBATDeJQRlz8EDpt68DcXrwQIY41sXIgfBAJLn8hyCJ8EA1XrpJeJDwQNPe4AvQl\\u002fBAcF8Hzief8EAN4C2Qf6bwQKpgVFLXrfBAvAUSFC+18EBZhjjWhrzwQPcGX5jew\\u002fBAlIeFWjbL8EAxCKwcjtLwQEOtad7l2fBA4C2QoD3h8EB9rrZilejwQBsv3STt7\\u002fBAuK8D50T38EDKVMGonP7wQGfV52r0BfFABFYOLUwN8UCh1jTvoxTxQD9XW7H7G\\u002fFAUPwYc1Mj8UDufD81qyrxQIv9ZfcCMvFAKH6MuVo58UDF\\u002frJ7skDxQNejcD0KSPFAdCSX\\u002f2FP8UASpb3BuVbxQK8l5IMRXvFATKYKRmll8UBeS8gHwWzxQPvL7skYdPFAmEwVjHB78UA2zTtOyILxQNNNYhAgivFA5fIf0neR8UCCc0aUz5jxQB\\u002f0bFYnoPFAvHSTGH+n8UBa9bna1q7xQGuad5wutvFACRueXoa98UCmm8Qg3sTxQEMc6+I1zPFA4JwRpY3T8UDyQc9m5drxQI\\u002fC9Sg94vFALUMc65Tp8UDKw0Kt7PDxQNxoAG9E+PFAeekmMZz\\u002f8UAWak3z8wbyQLPqc7VLDvJAUWuad6MV8kBiEFg5+xzyQACRfvtSJPJAnRGlvaor8kA6kst\\u002fAjPyQNcS8kFaOvJA6bevA7JB8kCGONbFCUnyQCS5\\u002fIdhUPJAwTkjSrlX8kBeukkMEV\\u002fyQHBfB85oZvJADeAtkMBt8kCqYFRSGHXyQEjhehRwfPJA5WGh1seD8kD3Bl+YH4vyQJSHhVp3kvJAMQisHM+Z8kDOiNLeJqHyQGwJ+aB+qPJAfa62Ytav8kAbL90kLrfyQLivA+eFvvJAVTAqqd3F8kDysFBrNc3yQARWDi2N1PJAodY07+Tb8kA\\u002fV1uxPOPyQNzXgXOU6vJAeVioNezx8kCL\\u002fWX3Q\\u002fnyQCh+jLmbAPNAxf6ye\\u002fMH80Bjf9k9Sw\\u002fzQAAAAACjFvNAEqW9wfod80CvJeSDUiXzQEymCkaqLPNA6SYxCAI080CHp1fKWTvzQJhMFYyxQvNANs07TglK80DTTWIQYVHzQHDOiNK4WPNADk+vlBBg80Af9GxWaGfzQLx0kxjAbvNAWvW52hd280D3deCcb33zQJT2Bl\\u002fHhPNAppvEIB+M80BDHOvidpPzQOCcEaXOmvNAfh04Zyai80Abnl4pfqnzQC1DHOvVsPNAysNCrS2480BnRGlvhb\\u002fzQAXFjzHdxvNAokW28zTO80Cz6nO1jNXzQFFrmnfk3PNA7uvAOTzk80CLbOf7k+vzQCntDb7r8vNAOpLLf0P680DXEvJBmwH0QHWTGATzCPRAEhQ\\u002fxkoQ9EAkufyHohf0QME5I0r6HvRAXrpJDFIm9ED7OnDOqS30QJm7lpABNfRAqmBUUlk89EBI4XoUsUP0QOVhodYIS\\u002fRAguLHmGBS9EAgY+5auFn0QDEIrBwQYfRAzojS3mdo9EBsCfmgv2\\u002f0QAmKH2MXd\\u002fRApgpGJW9+9EC4rwPnxoX0QFUwKqkejfRA8rBQa3aU9ECQMXctzpv0QC2yne8lo\\u002fRAP1dbsX2q9EDc14Fz1bH0QHlYqDUtufRAF9nO94TA9EC0WfW53Mf0QMX+sns0z\\u002fRAY3\\u002fZPYzW9EAAAAAA5N30QJ2AJsI75fRAOwFNhJPs9EBMpgpG6\\u002fP0QOkmMQhD+\\u002fRAh6dXypoC9UAkKH6M8gn1QMGopE5KEfVA001iEKIY9UBwzojS+R\\u002f1QA5Pr5RRJ\\u002fVAq8\\u002fVVqku9UBIUPwYATb1QFr1udpYPfVA93XgnLBE9UCU9gZfCEz1QDJ3LSFgU\\u002fVAz\\u002fdT47da9UDgnBGlD2L1QH4dOGdnafVAG55eKb9w9UC4HoXrFnj1QFafq61uf\\u002fVAZ0Rpb8aG9UAFxY8xHo71QKJFtvN1lfVAP8bctc2c9UDcRgN4JaT1QO7rwDl9q\\u002fVAi2zn+9Sy9UAp7Q2+LLr1QMZtNICEwfVAY+5aQtzI9UB1kxgENND1QBIUP8aL1\\u002fVAr5RliOPe9UBNFYxKO+b1QOqVsgyT7fVA+zpwzur09UCZu5aQQvz1QDY8vVKaA\\u002fZA07zjFPIK9kBxPQrXSRL2QILix5ihGfZAIGPuWvkg9kC94xQdUSj2QFpkO9+oL\\u002fZAbAn5oAA39kAJih9jWD72QKYKRiWwRfZARIts5wdN9kDhC5OpX1T2QPKwUGu3W\\u002fZAkDF3LQ9j9kAtsp3vZmr2QMoyxLG+cfZAaLPqcxZ59kB5WKg1boD2QBfZzvfFh\\u002fZAtFn1uR2P9kBR2ht8dZb2QO5aQj7NnfZAAAAAACWl9kCdgCbCfKz2QDsBTYTUs\\u002fZA2IFzRiy79kB1ApoIhML2QIenV8rbyfZAJCh+jDPR9kDBqKROi9j2QF8pyxDj3\\u002fZA\\u002fKnx0jrn9kAOT6+Uku72QKvP1Vbq9fZASFD8GEL99kDl0CLbmQT3QINRSZ3xC\\u002fdAlPYGX0kT90Aydy0hoRr3QM\\u002f3U+P4IfdAbHh6pVAp90AJ+aBnqDD3QBueXikAOPdAuB6F61c\\u002f90BWn6utr0b3QPMf0m8HTvdAkKD4MV9V90CiRbbztlz3QD\\u002fG3LUOZPdA3EYDeGZr90B6xyk6vnL3QBdIUPwVevdAKe0Nvm2B90DGbTSAxYj3QGPuWkIdkPdAAG+BBHWX90Ce76fGzJ73QK+UZYgkpvdATRWMSnyt90DqlbIM1LT3QIcW2c4rvPdAJJf\\u002fkIPD90A2PL1S28r3QNO84xQz0vdAcT0K14rZ90AOvjCZ4uD3QKs+V1s66PdAveMUHZLv90BaZDvf6fb3QPfkYaFB\\u002fvdAlWWIY5kF+EAy5q4l8Qz4QESLbOdIFPhA4QuTqaAb+EB+jLlr+CL4QBsN4C1QKvhALbKd76cx+EDKMsSx\\u002fzj4QGiz6nNXQPhABTQRNq9H+ECitDf4Bk\\u002f4QLRZ9bleVvhAUdobfLZd+EDuWkI+DmX4QIzbaABmbPhAKVyPwr1z+EA7AU2EFXv4QNiBc0ZtgvhAdQKaCMWJ+EASg8DKHJH4QLAD54x0mPhAwaikTsyf+EBfKcsQJKf4QPyp8dJ7rvhAmSoYldO1+EA2qz5XK734QEhQ\\u002fBiDxPhA5dAi29rL+ECDUUmdMtP4QCDSb1+K2vhAvVKWIeLh+EDP91PjOen4QGx4eqWR8PhACfmgZ+n3+ECneccpQf\\u002f4QET67euYBvlAVp+rrfAN+UDzH9JvSBX5QJCg+DGgHPlALSEf9Pcj+UDLoUW2Tyv5QNxGA3inMvlAescpOv85+UAXSFD8VkH5QLTIdr6uSPlAUkmdgAZQ+UBj7lpCXlf5QABvgQS2XvlAnu+nxg1m+UA7cM6IZW35QNjw9Eq9dPlA6pWyDBV8+UCHFtnObIP5QCSX\\u002f5DEivlAwhcmUxyS+UBfmEwVdJn5QHE9CtfLoPlADr4wmSOo+UCrPldbe6\\u002f5QEi\\u002ffR3TtvlA5j+k3yq++UA=\"},\"y\":{\"dtype\":\"f8\",\"bdata\":\"Ro6RutwL0D8+eTa7RpzSPwOlc1uRBtM\\u002fbbst91Am0z9IdSTJCg7UP4Nj+6elmdI\\u002fMPXJL3U5zD\\u002fshCSHPO\\u002fTPyqwfDWTKdE\\u002fBoSfnKzizT\\u002fPHD6XudLQP2ct7xDz5NQ\\u002fR9vipM2Z0T\\u002fTVztgD03WP7L5CPz17No\\u002fBTTkpWo74j8jH3quAFzxP6EN9Bf4dPU\\u002fYPwGlWGp9j\\u002fQbQCKc7zxP+FV\\u002fYpmr+c\\u002fnK\\u002f5FipR4D\\u002fY3RcceKbUP9Oy1IE4eNE\\u002fe46gr1Yt0T9Ul6zu9CvNP\\u002fWPISGFC9E\\u002fLl3jZS8W0z+krMCKS2PRPwL520lBmcU\\u002fpwEKrSEr1D\\u002fHs+pSAYfOP8QlMDK9EMw\\u002fH6L2wpEJ0j+DtLLt7e3KP3krf9k2oNE\\u002fVwRLzsqW0T9YXL6iMQnHP32K6+mnLdE\\u002fU\\u002fvtwoNl0D8S10IUAjzOP8FJxXoLzs8\\u002fPRI0+Wbj0j8s78UhR53NPwyuEmjWltA\\u002fjXA0WdNH0z8tparsG4zSP2rd\\u002f4aFK9Q\\u002fU4UWvO+u1D+kXuKEnBHZP1fFM4JFA+M\\u002fCjBUSEtG5D8pip8xWg3mP7TPMvFdQOE\\u002f79T3FwIa2D8JWApgogLXP+EtS4D6StM\\u002fBXgIISde0j83rEWJgAPRP7CVjV7uZdM\\u002fBGD64UtByz8ymLoDgrjOP5jltZeZts8\\u002f6YS3C4UTzz\\u002fbp778UqDRP52tTDoihtE\\u002fWHkIogBG0j8hs7Dm0A7RP0nH\\u002fYMXPdE\\u002f0kTan0mZ0D8EYuB0WYnMP8Awf\\u002f3aFc4\\u002feF\\u002f+ZNoEzz\\u002fbnfgrkjzPP4ZRI\\u002fyCic4\\u002f+CC9ZXv40D8DTFs5DB\\u002fOPxMpBqLWVc8\\u002fKLqWPXAF0j939q5oeC3RP9SfuY3Z\\u002fNU\\u002fk399aCLX0T+F6CzufpjQPwZopOYjmtM\\u002fbLjJ4ypL1T8aTh4uvfzYP0zRbO2lKds\\u002fYz75FGWn2z9Dx2PrXszaP1M41JgkX+M\\u002f1fYBVjhi8D+4+sEkCo77PxYrTMfj9AZA6PESrNtFCkDOPABsc14IQMrd5CkoHv0\\u002fNt8Tbo5N7T+wEBj52PfgP6YFcpPFG9c\\u002f+L8BeWvf0T8c6TkNfQrQP2PIMo4Yes8\\u002fp4aAGrlO0T\\u002f6xhchBxzPP5OlsZH8X84\\u002fpsIHhmaM0T8qAUEy7HTMP6FuMx2wzs8\\u002fT9u6OFcs0z\\u002f+pL+6\\u002fXjSP0XPs4GC\\u002f9Q\\u002f15RpOywH1z8CCgR\\u002fjq7VP\\u002fGoTsqBiuM\\u002fIKG20YiU8D\\u002fQCmKkAj79Pxy80DvsuQ1AFfR\\u002f+RtvGkDZV\\u002f\\u002fD3HseQHwK0\\u002fpVXBlAwPOEYZSPD0CnM0Or7Lz9Pz+e6Ew7L+8\\u002fDt1OCRUE4z\\u002fP0t44MBHaP57OmGw7y9Q\\u002fcYKkyqAm0T9eQuew8dvNP3gznDf4stM\\u002fWZ7t3e5azT9PAD2VNDrPP2QjoTNsstA\\u002f+Fqj3GwI0D\\u002fzjXo7vxrPPzFnrroqc8s\\u002f\\u002fxCjCx7Gzz9lOkARXCvPP4A3px6rENA\\u002fraTmWO9I0T+Z0rcLi2\\u002fMPxUMStvurc8\\u002f2Mr0SRHyzT9i4fScg53RP7N9+8XoKNE\\u002f97wivgsu2D9zQHi473ffP1hPa5r9PeQ\\u002fQv7ocwqz5D9FP3IZAf3hP2b4P\\u002fUM3dg\\u002fPu8wXTD51D+UORqANqnTP4IcWmex+tM\\u002fwCgdtQs31D\\u002f0MtLXQ1\\u002fWP\\u002fmd35gIMNg\\u002fb7tOMUJO0z94r\\u002fZrGerQP55M6Un5k88\\u002faaVwC8WI0D\\u002fFUu3nhh3MP1oxXWEFN88\\u002f8pb0A25EzT9dEp7+uT7NP4KaONiNPdE\\u002fEAWqee4Q0j+3CsTdK4zPPyGgkVGG\\u002fss\\u002f0f4FjWSr0D+VM30GqK\\u002fQP50Lm38O9M8\\u002ftPkh8jmqzD9YxD\\u002fhu6rQP6yhzw8MwNA\\u002f3WL9Y3tHzT9HlTWRK0nQP4GIv1XRJdA\\u002fHhZbIq7R0D9CR1RKUkrSP8mqAKWDSNI\\u002frVrfioqu0T9hNC7bDpHRP1UAjXfNRdE\\u002fjVP2aQ630D+Wd5OzZdfPP4muZtw7ktA\\u002fIEbKW0M2zz8lA8jEu6LQP7eP4MUrEs8\\u002fBT2CBMEczD9Xqs8hTsrNP4bosqSjq84\\u002fEUfznKB7zj\\u002faAGTbHpfNP6I+a\\u002fsFRtA\\u002fvuPPWZPe0D9EewhYmOjQP0CZtpm0C84\\u002fjANvMBbi0D+GPWvKJsjQP6v78opALs4\\u002fimbZQfFyzz9WHoLabmfPP7Fedk69X9A\\u002fBt2QBbE6zz+v6QpNdlvQPxdTdd52MdA\\u002frmNw+Uko0T\\u002fdDgP36JfTPy+OdC3yjtU\\u002frVZW+\\u002fn42D8S2RBGmATaP0r9c\\u002f5zPN0\\u002fx+QFwOw95D+9bQWt45fuP0V48u5YUvk\\u002flrIt2s\\u002fuB0ByWRn3TC0WQAKQuTj7ISJATGNCUZhfJkCEf31bs8UkQCwSxI35jx1ATqMgkrrOD0D++dsdqkEBQMeeFNZKWvM\\u002f7DpYraly6D\\u002fiR0BoAvHgPwGxpaYuqNk\\u002fCISfuQwV1D\\u002fC2f69jTfSP68FS3+pcdA\\u002f5oJxm1Th0T\\u002fRivKc9QzQP0aI79aeqNA\\u002fXoRdk0afzT9LsHL2uFHRP4M18QLy\\u002fc8\\u002fJ76C3f5Xzj9S5Z0v7wHQP2kjEFd2rMw\\u002flXZlmiN8zj+fmTU0JzHPP88dW5zL188\\u002fvDJd95wDzj9m9IsL7TzNPxszKz+Nd88\\u002ff+\\u002fvi8Mv0D\\u002fPU884i9LPP0IX3okgIM4\\u002fU\\u002fCD4pqS0D+cCwEDi9zLP4eJ34FkDM8\\u002fZ89p9O+ezz8H8emuGRrRP3guQjU3RM4\\u002fhNidpMlezj9XUPeoyoHQP\\u002fiOEnWDb84\\u002fKncJM3UVyz\\u002fttMsKWgfQPyFjEwAfb88\\u002fo\\u002f472ZgJzT8mbvpGE8nMP9MA1JwI3cw\\u002fFSnT0w5Pzz+Xtj2ZjZDOP7fTkKgoC84\\u002fQbzSO3rDzj+I2NqktLvNP99iG5aSQ9A\\u002fL9jzVoLJ0D88psptKKDOPxxaRsYPPc8\\u002fWPbQqTY8zD8TbcwLnELQP+nHnfH+F84\\u002fVrbnVtAm0D\\u002fPexIhFZjOPyfZAgBMKs8\\u002fQSsh1ElSzj9qdmydonDQP\\u002f5buiN9mc8\\u002feSdKsuxdzz\\u002fsXT1s2MfNP\\u002fU8yBbJ2M4\\u002ffLIcYa7azj+q6qg7HEbQPwtZ0y3Z1c8\\u002fGWQzml4Uzj8uqJ4JTuDQP4mR24UJlM8\\u002fFZWnAiLnzj\\u002ftIVB4MLXOP9\\u002f0ahYnY84\\u002f7yzOB7Amzz9ESLzpSIrMP+4Zd9KzDc0\\u002fcjmkULNYzz+klLijmzTPPzZnNg6MGM8\\u002f+f2d8Sj4zz\\u002f8+yWY6hvRP2K9Qmt7O9E\\u002fstqM2cmjzz8hFfDuZlvRP3e8Vtk1Us8\\u002fjzUcnwvvzz9QwSUTy2TOPw4yZED+ocw\\u002f6GmsydgyzT+w6A+x\\u002fyLOP2E1gkoEJNA\\u002f3LbNHJdnyz87ZWoRhL\\u002fOP+SnbKbz8c8\\u002fb30HTCfizD85zB1+q4vQPzgOhfs959A\\u002f2k+O+t9H0j+0rcCm8dHSP0Hsg7Zoa9U\\u002fkLYaniOe1z+vstWwjjbePz9Hd+9gPuI\\u002fVntUQgfv5j\\u002ff6\\u002fbtM6TtP5YeH+PEE+8\\u002fLMq6vclX7D+XC8IAA87mP71xYE5qT+E\\u002f+uI8ZSYm2z9vf5aG75HWP605ZLPFotM\\u002fXqwHc9O10z+0s2sKDDDRPwpmpP2b49A\\u002fykYb9z6szj8A1ZdQnsjNPwzBt3Rtx9A\\u002fafLGfFsJzT9V3mIdsoPOP09fQJtrB84\\u002fB8wFlnnv0D+\\u002fhp7YmezNP8A71obKM9E\\u002fGDjevl1z0j9Yf5EaktzSP7Ln72esktU\\u002fgEoj9AR52D\\u002fttFJsbcDcP2xR5U4KSt0\\u002fPobrzuo32z9rJMG+KyzZP\\u002f28F7luzNY\\u002fV2XrDJhD1D+evabhTQfSP+EGvPi6nNE\\u002fL1zpV8b4zj\\u002fu6q2T+JTPP4kYz96Fv80\\u002fbkPtwK8mzT\\u002f16qtBDTvNP8zSCE8BM8s\\u002fQy9hZvnyzT8Spz+G4q7MPzQzpVQdDtA\\u002f77VQpOBizD\\u002f3yrQ4u1DPP06HVdmFusw\\u002fQC5666Wfzj+YzsYoMuLOP9AZi6kQ8Mo\\u002famHTB8fszj8nWdwD3kzNPxG\\u002fVr+dHMw\\u002f18q6LI4UzD95+zrqhZfKPzYiCVbkks0\\u002fwtjym9i5yz+cSM0jDGnMP6CaZLVTRMw\\u002fm7zWF5h4yj9uAK1CZATOPyZuEIkYU8w\\u002fPCWeaLnvzT\\u002f\\u002f+\\u002fZdeprQP6hXVvTvKMw\\u002fvhGjJ8Ofzj+Ld1j\\u002fDB\\u002fOP\\u002fWSGjh3Wc0\\u002fNb6etG2rzj9L\\u002f7WIh27LP5MrQ7flL88\\u002fnER2yF7uzz+3RrlT9J7QP4PxgiCi380\\u002fmZ3\\u002fMdtU0D\\u002fYJoJYh17RP7qYw+fvW9A\\u002fa3EoFODa0T\\u002f4oLujpbnRP1T6k5GjFtQ\\u002fGRSPkaet0z\\u002fJfAsoIK7TP+swcS4vQ9A\\u002fB3JhbkBI0j9T4t\\u002fGkEXRPyKpUzw8E88\\u002f4uj+r8Ktzz9HMVfza2bOP+A38erOus4\\u002f0y2m1bWyzD92D2qrLT3OP+2IuWVxJs8\\u002fr8hYGC7zzT\\u002fvNOV3mgvNP30KyPshmtA\\u002f+rQxW4iKzj8PFwlP4avKP+nd\\u002fc+1Esw\\u002f9faMPaaDyz+V9ChTNt\\u002fPP8cQb4Zdxc4\\u002fojOpQxDIzD+Aue65k5HQP2ki7oNYwM4\\u002fbgdkDykVzD\\u002fANXz8uZHNP0EbZYvCqdA\\u002fPcv8GD6C0D8=\"},\"type\":\"scatter\"},{\"line\":{\"color\":\"rgb(214, 39, 40)\"},\"mode\":\"lines\",\"name\":\"Total calculated (Icalc)\",\"x\":{\"dtype\":\"f8\",\"bdata\":\"k6mCUTXg6kC28\\u002f3U5O7qQPH0SlmU\\u002fepAK\\u002faX3UMM60Bm9+Rh8xrrQKH4MeaiKetAxEKtaVI460D+Q\\u002frtAUfrQDlFR3KxVetAdEaU9mBk60CXkA96EHPrQNGRXP6\\u002fgetADJOpgm+Q60BGlPYGH5\\u002frQIGVQ4vOretApN++Dn6860Df4AuTLcvrQBniWBfd2etAVOOlm4zo60CP5PIfPPfrQLIubqPrBexA7C+7J5sU7EAnMQisSiPsQGEyVTD6MexAnDOitKlA7EC\\u002ffR04WU\\u002fsQPp+arwIXuxANIC3QLhs7EBvgQTFZ3vsQKqCUUkXiuxAzczMzMaY7EAHzhlRdqfsQELPZtUltuxAfdCzWdXE7EC30QDehNPsQNobfGE04uxAFR3J5ePw7EBPHhZqk\\u002f\\u002fsQIofY+5CDu1AxSCwcvIc7UDoaiv2oSvtQCJseHpROu1AXW3F\\u002fgBJ7UCYbhKDsFftQNJvXwdgZu1A9bnaig917UAwuycPv4PtQGq8dJNuku1Apb3BFx6h7UDgvg6cza\\u002ftQAMJih99vu1APQrXoyzN7UB4CyQo3NvtQLMMcayL6u1A7Q2+MDv57UAQWDm06gfuQEtZhjiaFu5AhlrTvEkl7kDAWyBB+TPuQPtcbcWoQu5AHqfoSFhR7kBYqDXNB2DuQJOpglG3bu5AzqrP1WZ97kAIrBxaFozuQCv2l93Fmu5AZvfkYXWp7kCh+DHmJLjuQNv5fmrUxu5AFvvL7oPV7kA5RUdyM+TuQHRGlPbi8u5ArkfhepIB70DpSC7\\u002fQRDvQCNKe4PxHu9ARpT2BqEt70CBlUOLUDzvQLyWkA8AS+9A9pfdk69Z70AxmSoYX2jvQFTjpZsOd+9Aj+TyH76F70DJ5T+kbZTvQATnjCgdo+9AJzEIrMyx70BhMlUwfMDvQJwzorQrz+9A1zTvONvd70ARNjy9iuzvQDSAt0A6++9AuECC4vQE8EBVwaikTAzwQPJBz2akE\\u002fBAj8L1KPwa8EChZ7PqUyLwQD7o2ayrKfBA3GgAbwMx8EB56SYxWzjwQBZqTfOyP\\u002fBAKA8LtQpH8EDFjzF3Yk7wQGIQWDm6VfBAAJF++xFd8ECdEaW9aWTwQK62Yn\\u002fBa\\u002fBATDeJQRlz8EDpt68DcXrwQIY41sXIgfBAJLn8hyCJ8EA1XrpJeJDwQNPe4AvQl\\u002fBAcF8Hzief8EAN4C2Qf6bwQKpgVFLXrfBAvAUSFC+18EBZhjjWhrzwQPcGX5jew\\u002fBAlIeFWjbL8EAxCKwcjtLwQEOtad7l2fBA4C2QoD3h8EB9rrZilejwQBsv3STt7\\u002fBAuK8D50T38EDKVMGonP7wQGfV52r0BfFABFYOLUwN8UCh1jTvoxTxQD9XW7H7G\\u002fFAUPwYc1Mj8UDufD81qyrxQIv9ZfcCMvFAKH6MuVo58UDF\\u002frJ7skDxQNejcD0KSPFAdCSX\\u002f2FP8UASpb3BuVbxQK8l5IMRXvFATKYKRmll8UBeS8gHwWzxQPvL7skYdPFAmEwVjHB78UA2zTtOyILxQNNNYhAgivFA5fIf0neR8UCCc0aUz5jxQB\\u002f0bFYnoPFAvHSTGH+n8UBa9bna1q7xQGuad5wutvFACRueXoa98UCmm8Qg3sTxQEMc6+I1zPFA4JwRpY3T8UDyQc9m5drxQI\\u002fC9Sg94vFALUMc65Tp8UDKw0Kt7PDxQNxoAG9E+PFAeekmMZz\\u002f8UAWak3z8wbyQLPqc7VLDvJAUWuad6MV8kBiEFg5+xzyQACRfvtSJPJAnRGlvaor8kA6kst\\u002fAjPyQNcS8kFaOvJA6bevA7JB8kCGONbFCUnyQCS5\\u002fIdhUPJAwTkjSrlX8kBeukkMEV\\u002fyQHBfB85oZvJADeAtkMBt8kCqYFRSGHXyQEjhehRwfPJA5WGh1seD8kD3Bl+YH4vyQJSHhVp3kvJAMQisHM+Z8kDOiNLeJqHyQGwJ+aB+qPJAfa62Ytav8kAbL90kLrfyQLivA+eFvvJAVTAqqd3F8kDysFBrNc3yQARWDi2N1PJAodY07+Tb8kA\\u002fV1uxPOPyQNzXgXOU6vJAeVioNezx8kCL\\u002fWX3Q\\u002fnyQCh+jLmbAPNAxf6ye\\u002fMH80Bjf9k9Sw\\u002fzQAAAAACjFvNAEqW9wfod80CvJeSDUiXzQEymCkaqLPNA6SYxCAI080CHp1fKWTvzQJhMFYyxQvNANs07TglK80DTTWIQYVHzQHDOiNK4WPNADk+vlBBg80Af9GxWaGfzQLx0kxjAbvNAWvW52hd280D3deCcb33zQJT2Bl\\u002fHhPNAppvEIB+M80BDHOvidpPzQOCcEaXOmvNAfh04Zyai80Abnl4pfqnzQC1DHOvVsPNAysNCrS2480BnRGlvhb\\u002fzQAXFjzHdxvNAokW28zTO80Cz6nO1jNXzQFFrmnfk3PNA7uvAOTzk80CLbOf7k+vzQCntDb7r8vNAOpLLf0P680DXEvJBmwH0QHWTGATzCPRAEhQ\\u002fxkoQ9EAkufyHohf0QME5I0r6HvRAXrpJDFIm9ED7OnDOqS30QJm7lpABNfRAqmBUUlk89EBI4XoUsUP0QOVhodYIS\\u002fRAguLHmGBS9EAgY+5auFn0QDEIrBwQYfRAzojS3mdo9EBsCfmgv2\\u002f0QAmKH2MXd\\u002fRApgpGJW9+9EC4rwPnxoX0QFUwKqkejfRA8rBQa3aU9ECQMXctzpv0QC2yne8lo\\u002fRAP1dbsX2q9EDc14Fz1bH0QHlYqDUtufRAF9nO94TA9EC0WfW53Mf0QMX+sns0z\\u002fRAY3\\u002fZPYzW9EAAAAAA5N30QJ2AJsI75fRAOwFNhJPs9EBMpgpG6\\u002fP0QOkmMQhD+\\u002fRAh6dXypoC9UAkKH6M8gn1QMGopE5KEfVA001iEKIY9UBwzojS+R\\u002f1QA5Pr5RRJ\\u002fVAq8\\u002fVVqku9UBIUPwYATb1QFr1udpYPfVA93XgnLBE9UCU9gZfCEz1QDJ3LSFgU\\u002fVAz\\u002fdT47da9UDgnBGlD2L1QH4dOGdnafVAG55eKb9w9UC4HoXrFnj1QFafq61uf\\u002fVAZ0Rpb8aG9UAFxY8xHo71QKJFtvN1lfVAP8bctc2c9UDcRgN4JaT1QO7rwDl9q\\u002fVAi2zn+9Sy9UAp7Q2+LLr1QMZtNICEwfVAY+5aQtzI9UB1kxgENND1QBIUP8aL1\\u002fVAr5RliOPe9UBNFYxKO+b1QOqVsgyT7fVA+zpwzur09UCZu5aQQvz1QDY8vVKaA\\u002fZA07zjFPIK9kBxPQrXSRL2QILix5ihGfZAIGPuWvkg9kC94xQdUSj2QFpkO9+oL\\u002fZAbAn5oAA39kAJih9jWD72QKYKRiWwRfZARIts5wdN9kDhC5OpX1T2QPKwUGu3W\\u002fZAkDF3LQ9j9kAtsp3vZmr2QMoyxLG+cfZAaLPqcxZ59kB5WKg1boD2QBfZzvfFh\\u002fZAtFn1uR2P9kBR2ht8dZb2QO5aQj7NnfZAAAAAACWl9kCdgCbCfKz2QDsBTYTUs\\u002fZA2IFzRiy79kB1ApoIhML2QIenV8rbyfZAJCh+jDPR9kDBqKROi9j2QF8pyxDj3\\u002fZA\\u002fKnx0jrn9kAOT6+Uku72QKvP1Vbq9fZASFD8GEL99kDl0CLbmQT3QINRSZ3xC\\u002fdAlPYGX0kT90Aydy0hoRr3QM\\u002f3U+P4IfdAbHh6pVAp90AJ+aBnqDD3QBueXikAOPdAuB6F61c\\u002f90BWn6utr0b3QPMf0m8HTvdAkKD4MV9V90CiRbbztlz3QD\\u002fG3LUOZPdA3EYDeGZr90B6xyk6vnL3QBdIUPwVevdAKe0Nvm2B90DGbTSAxYj3QGPuWkIdkPdAAG+BBHWX90Ce76fGzJ73QK+UZYgkpvdATRWMSnyt90DqlbIM1LT3QIcW2c4rvPdAJJf\\u002fkIPD90A2PL1S28r3QNO84xQz0vdAcT0K14rZ90AOvjCZ4uD3QKs+V1s66PdAveMUHZLv90BaZDvf6fb3QPfkYaFB\\u002fvdAlWWIY5kF+EAy5q4l8Qz4QESLbOdIFPhA4QuTqaAb+EB+jLlr+CL4QBsN4C1QKvhALbKd76cx+EDKMsSx\\u002fzj4QGiz6nNXQPhABTQRNq9H+ECitDf4Bk\\u002f4QLRZ9bleVvhAUdobfLZd+EDuWkI+DmX4QIzbaABmbPhAKVyPwr1z+EA7AU2EFXv4QNiBc0ZtgvhAdQKaCMWJ+EASg8DKHJH4QLAD54x0mPhAwaikTsyf+EBfKcsQJKf4QPyp8dJ7rvhAmSoYldO1+EA2qz5XK734QEhQ\\u002fBiDxPhA5dAi29rL+ECDUUmdMtP4QCDSb1+K2vhAvVKWIeLh+EDP91PjOen4QGx4eqWR8PhACfmgZ+n3+ECneccpQf\\u002f4QET67euYBvlAVp+rrfAN+UDzH9JvSBX5QJCg+DGgHPlALSEf9Pcj+UDLoUW2Tyv5QNxGA3inMvlAescpOv85+UAXSFD8VkH5QLTIdr6uSPlAUkmdgAZQ+UBj7lpCXlf5QABvgQS2XvlAnu+nxg1m+UA7cM6IZW35QNjw9Eq9dPlA6pWyDBV8+UCHFtnObIP5QCSX\\u002f5DEivlAwhcmUxyS+UBfmEwVdJn5QHE9CtfLoPlADr4wmSOo+UCrPldbe6\\u002f5QEi\\u002ffR3TtvlA5j+k3yq++UA=\"},\"y\":{\"dtype\":\"f8\",\"bdata\":\"4CQrmAy1yT8yW7Dc7b7JPwOU\\u002fC9RwMk\\u002fMD+wzcy3yT\\u002fhN9CfMavJP96dGM1hock\\u002fO7fVrtKcyT\\u002ft9atX55zJP0qd3O+xosk\\u002fXqYTmtC2yT\\u002feeQnASvbJP2lfQ4ARsso\\u002faN0OOp6gzD\\u002fJ\\u002f+AGN2zQP1sZR6Wf79M\\u002fkVBacxHn1z9wM+Z1ugraP875dbq\\u002fqdg\\u002fF3vT9DCu1D9dEOSHmafQP6qiDzl7X8w\\u002ffXDFiUpWyj9UUf2UKr\\u002fJP1eefxRZn8k\\u002fLd7tOU6ayT\\u002fbXZyIrJnJPwBQ3Wybmck\\u002fBqzXxZmZyT9MuPadmZnJP1tdVZqZmck\\u002fzwidmpmZyT9sH6OcmZnJP8AeBKOZmck\\u002fsnqdtpmZyT9j1FjymZnJP01mCKeamck\\u002fHBKOxZyZyT85\\u002fZAWo5nJP7di48a1mck\\u002ft7nKq+yZyT\\u002fCf6a+jJrJP\\u002fhgDipcnMk\\u002f43mBwo+hyT+wC5jkXbDJPzFkt2e52ck\\u002ffRCWxu9Hyj9npDjuO1DLP1UI0YAzW80\\u002fd+SgKk4r0D\\u002fCGG2FBX\\u002fRP4ezjyKOtNE\\u002fJnaO\\u002f4CO0D8XIUxTdsfNP5xzmH\\u002fySss\\u002fOMvDIZQbyj\\u002fFOI5cgrfJP1n3PZ4yn8k\\u002f5SFG3YWayT9OWPEkwJnJP9n0eSykmck\\u002fn\\u002fQ7sqeZyT\\u002fIbN90vZnJP8HUuLL5mck\\u002f\\u002fvOtEpqayT\\u002fbd33gPJzJP0WFkPJPoMk\\u002fgNs5UWGpyT+jD15UrLnJP6ISV0wxzsk\\u002fXwz5aWzbyT82biv4PtbJP4GfDLoCwsk\\u002fVNIjSRKtyT8Oi7uzhKDJP0+rrwiAm8k\\u002f43550Q2ayT9zfN2gwpnJP8MUuJvPmck\\u002f3ITB5BuayT\\u002f78\\u002fzf6JrJP8pU\\u002fsP3nMk\\u002fmVA25DWiyT8k72fKeq\\u002fJP1yLTzjb0Mk\\u002fFkaQAkskyj+Zfbhkd\\u002fPKP\\u002fHFdmEz8Mw\\u002f+NvG5M\\u002fV0D8F+F\\u002fxIgHWP0Lud+45Wt8\\u002fAiO1uoSs5T8Ia4hVjpvpP\\u002fYBYYigD+g\\u002f92RibgAQ4j9OYFEYovPXP3T63Dt0ztA\\u002f65FS4Ojqyz89uP051zDKP\\u002fYzNpN7vsk\\u002faj1PD6miyT\\u002f7RWu1AJzJP0SrDiCXmsk\\u002fj70ktMiayT9p3AamJZzJP\\u002fjpefKhn8k\\u002foyVArfmnyT8JKZertLvJP+czQHwS6sk\\u002fTr\\u002fG9WhWyj\\u002fEY2K9H1LLP7aL\\u002fj2Ul80\\u002fCtSqWC5m0T88apHudT\\u002fXP4Ifc4bZx+E\\u002fMnqdJAC+7D+EYbhwclP1P\\u002fZWpboLpvk\\u002feIYlcBxh9z\\u002fH\\u002fRl4Sy7wP44mP4aEpeI\\u002fUryITCrX1T+nswFLHljPP4bfYIEtUss\\u002fjIz0rOAcyj8PDTAqL8HJPzxmqye3pck\\u002ftaIszF2dyT8eKpwmy5rJP\\u002fo8Ctz+mck\\u002fWTEeXMKZyT+jrXG1uJnJP0w\\u002frmvLmck\\u002fR7LJ6QGayT\\u002fHRcFNfprJPyckOXmQm8k\\u002fZquuAeedyT+0tVMO+qLJP6xJucTurck\\u002fgkIdTXfFyT8gYxmywPfJP\\u002fdTrfV3Yso\\u002fXQkQNplAyz\\u002fT64eyUu\\u002fMPzQMb61Hnc8\\u002fFNZFqY4y0T8iiM\\u002fGAJnRP9ntPUNgjdA\\u002fSMDfiiDdzT+YYuCgc3vLP\\u002fSG40f9UMo\\u002fMv\\u002f4ysfbyT8wKCzdZLHJPwB5HZQ9osk\\u002fQLaYcMacyT\\u002fZ9izdx5rJP9te6lULmsk\\u002f\\u002fV5t6sSZyT9JPmhUqpnJP2DPzDmgmck\\u002fF5eAcZyZyT\\u002fnJuU4m5nJPxdj80Wbmck\\u002fSOTgZJyZyT9RYugan5nJP9UdD9Okmck\\u002fioFzj7CZyT8I6h9syJnJPxehbKv4mck\\u002fZhBbwFmayT86mtQuHJvJPz22ZcmfnMk\\u002f6FjU7qCfyT+olVQzkKXJPy0xVqA6sck\\u002fYqyoSffHyT\\u002fZmE0Sz\\u002fLJP0A0NiPvOco\\u002fFrfTOmCOyj9bb9557rfKP53rV7vai8o\\u002fOaf2O9Evyj+HyNYttOPJP\\u002fU81HAyusk\\u002fnw3rToOnyT+xSUWNjZ\\u002fJPzTk2mArnMk\\u002fuq61L7iayT8GDTezF5rJP\\u002fq93cXRmck\\u002fTwHGNrOZyT+U9isbppnJP4CooSihmck\\u002fGwUrvqCZyT9UclAcpJnJP9n+zJOsmck\\u002fP2mv5b2ZyT+CQBXQ35nJP4MIhVkhmsk\\u002fZzu\\u002fLJ+ayT9zLMWVj5vJP2n\\u002f9+pYnck\\u002fQ7n\\u002fKLugyT\\u002fsP879HKfJP1xitYgZs8k\\u002f7vbzioTJyT+OsT0fRfPJP\\u002fgPwQS1QMo\\u002fWxqA2LvPyj85cs3l0NbLPwRG5CK9uM0\\u002fstQWnPaT0D9Bw4vXqrLTP+U678fnV9k\\u002f7WK9DjXB4T84De\\u002fGJMjqPwvW3\\u002fmc4vQ\\u002f9kEwwYW9\\u002fj\\u002f1CgaDDdMCQIfyvu7clAFAJ+x82vpC+T9cSbvX6BXvP\\u002fDLEDwz9uI\\u002fBvqIorNT2T8AOFJh7hDTPysI5bIz6c8\\u002fpGNcB83MzD9SOMt80zvLP2OCIhGQcMo\\u002fxw1UB9QIyj8CsS6oiNPJP2NtDw35t8k\\u002fkxM7eKCpyT\\u002fQU0pxHKLJP7silQImnsk\\u002fY9nuyQucyT+0Bi1v7JrJPyZRdRJSmsk\\u002fbahtpP6ZyT+QvMRG0ZnJP45nDHa4mck\\u002fYhCOzqqZyT+1zeQ\\u002fo5nJP7RJ4wqfmck\\u002fFeXqr5yZyT8v\\u002fGhcm5nJP1AvL5yamck\\u002fvZS9LpqZyT992RXwmZnJPz23BcyZmck\\u002f03cnt5mZyT8PlwOrmZnJP+0D6qOZmck\\u002fyJW9n5mZyT9nQEadmZnJPwNTz5uZmck\\u002f1ofvmpmZyT\\u002fkSmmamZnJP0FfGJqZmck\\u002fU1rnmZmZyT+NhMmZmZnJP3ZFt5mZmck\\u002fuA+smZmZyT+zJKWZmZnJP5HboJmZmck\\u002fIDKemZmZyT99i5yZmZnJP5yIm5mZmck\\u002fO\\u002fGamZmZyT+gppqZmZnJP9OcmpmZmck\\u002fx9iamZmZyT8ic5uZmZnJP6WgnJmZmck\\u002focKemZmZyT+ShKKZmZnJP\\u002foOqZmZmck\\u002f+120mZmZyT\\u002fS08eZmZnJP9Au6ZmZmck\\u002fRCQimpmZyT+7DYOamZnJP\\u002ftdJ5uZmck\\u002fhfc8nJmZyT9IVxCemZnJP7B4IKGZmck\\u002fDnE\\u002fppmZyT8AwMeumZnJP9aG8ryZmck\\u002fh\\u002fhj1JmZyT9b3wz7mZnJP7nelTqamck\\u002fE12mopqZyT8lpIZMm5nJPwwD5mCcmck\\u002f3SwEIZ6ZyT+0GDX1oJnJP3zDoIOlmck\\u002fVjsq1KyZyT9VQ1aIuJnJP+8akDLLmck\\u002fyZzr3eiZyT+nByfgF5rJPzcGRx1imsk\\u002fz0G++daayT\\u002f\\u002fcEdXjpvJP5FHgiCtnMk\\u002fufLyPGyeyT9ggWETI6HJPx3\\u002fVXRXpck\\u002f4KlMotWryT9QjKBL1LXJPyp7iaEqxck\\u002fQRA+x6DcyT+KA9zjZwDKP5YJeZrLNso\\u002fBDfVKzmJyj8O4Xj5wQXLP3tZu7pUwcs\\u002fSSII0frazD9vhLIOV4DOP8fkMDQceNA\\u002fft\\u002fD3k0v0j+FackYrzPUP2zkS+OFptU\\u002f6oYxacB81T\\u002fzF0C5zc3TPyZ+9B29t9E\\u002ffq5BcXMK0D8Eu2CL083NP\\u002ftLnnTEU8w\\u002f9rJSEutfyz+2gm+mO8LKP8A1oersW8o\\u002fhKVIb1MZyj9b3\\u002f3B0+3JPw9vS81S0ck\\u002f9iwMr5W+yT8l6WrMObLJP4qtqXYMqsk\\u002fEIohCZ+kyT9J2tvxAaHJP8DJAhiYnsk\\u002fDTAeK\\u002fqcyT9Ki0AF5JvJP3\\u002fjs4wom8k\\u002fPxqp0KmayT85KoviU5rJPxd6xnMZmsk\\u002fO8P4mfGZyT9hRrBY1pnJPx17NKfDmck\\u002fHHPwy7aZyT94hXDurZnJPwRJyc2nmck\\u002fssFwj6OZyT+R7GCeoJnJP0TX8ZSemck\\u002fZnHYLZ2ZyT996EA6nJnJP2pwEpubmck\\u002fxESdPJuZyT\\u002f3zuUTm5nJPzHbIR2bmck\\u002f3\\u002fJCW5uZyT8s0FjYm5nJP02H8aacmck\\u002fWgZ95J2ZyT\\u002fd4iC9n5nJP+SDPnGimck\\u002faiFyXaaZyT+BMPMFrJnJP5MmSya0mck\\u002fYWWxx7+ZyT9kBYBf0JnJPzzxNvrnmck\\u002fMG21dQmayT8eXezSOJrJP7E5x6N7msk\\u002f7adspNmayT+E2N+IXZvJPyqsxRYWnMk\\u002fOk+spBedyT9M3fUdfp7JP8AQ6LhvoMk\\u002fkNnhniCjyT\\u002fKoYvY16bJP+6itM\\u002f1q8k\\u002fokCUGf2yyT9h8DgCnrzJPx6KC\\u002fLFyck\\u002f98lm0bPbyT8Tz3GzEvTJP0ss7x4dFco\\u002fayBllclByj+4afQx833KP4lX3JkCzso\\u002fyJtQ1A80yz96TUADMKfLP8PoODEkCcw\\u002foOzDLJ8uzD\\u002fBWPAu7gHMP2\\u002fWk99emcs\\u002fYIbF+i8hyz92SGisnbjKPyMdl0u+aMo\\u002fGC\\u002fUGbMuyj\\u002facFV0DQXKP3fY2NMx58k\\u002fKUNSbMDRyT\\u002far2PbUcLJP3IFJcgwt8k\\u002fxLf3xSWvyT8W2WOmUqnJP1sd9pMYpck\\u002fWtYfvAWiyT8mFFVsyJ\\u002fJP7DVwNolnsk\\u002fnjgqp\\u002fOcyT83eb02E5zJP4s2iGJum8k\\u002fH2cvGfWayT+R4u+tm5rJP0uniaFZmsk\\u002fqOpzwCiayT8OagWDBJrJPz4toZfpmck\\u002f5stTj9WZyT9sevufxpnJP2i6dXi7mck\\u002fzVzhH7OZyT8=\"},\"type\":\"scatter\"}],                        {\"legend\":{\"x\":1.0,\"xanchor\":\"right\",\"y\":1.0,\"yanchor\":\"top\"},\"margin\":{\"autoexpand\":true,\"b\":45,\"r\":30,\"t\":40},\"title\":{\"text\":\"Measured vs Calculated data for experiment \\ud83d\\udd2c 'sim_lbco'\"},\"xaxis\":{\"mirror\":true,\"showline\":true,\"title\":{\"text\":\"TOF (\\u00b5s)\"},\"zeroline\":false,\"tickformat\":\",.6~g\",\"separatethousands\":true},\"yaxis\":{\"mirror\":true,\"showline\":true,\"title\":{\"text\":\"Intensity (arb. units)\"},\"zeroline\":false,\"tickformat\":\",.6~g\",\"separatethousands\":true},\"template\":{\"data\":{\"histogram2dcontour\":[{\"type\":\"histogram2dcontour\",\"colorbar\":{\"outlinewidth\":0,\"ticks\":\"\"},\"colorscale\":[[0.0,\"#0d0887\"],[0.1111111111111111,\"#46039f\"],[0.2222222222222222,\"#7201a8\"],[0.3333333333333333,\"#9c179e\"],[0.4444444444444444,\"#bd3786\"],[0.5555555555555556,\"#d8576b\"],[0.6666666666666666,\"#ed7953\"],[0.7777777777777778,\"#fb9f3a\"],[0.8888888888888888,\"#fdca26\"],[1.0,\"#f0f921\"]]}],\"choropleth\":[{\"type\":\"choropleth\",\"colorbar\":{\"outlinewidth\":0,\"ticks\":\"\"}}],\"histogram2d\":[{\"type\":\"histogram2d\",\"colorbar\":{\"outlinewidth\":0,\"ticks\":\"\"},\"colorscale\":[[0.0,\"#0d0887\"],[0.1111111111111111,\"#46039f\"],[0.2222222222222222,\"#7201a8\"],[0.3333333333333333,\"#9c179e\"],[0.4444444444444444,\"#bd3786\"],[0.5555555555555556,\"#d8576b\"],[0.6666666666666666,\"#ed7953\"],[0.7777777777777778,\"#fb9f3a\"],[0.8888888888888888,\"#fdca26\"],[1.0,\"#f0f921\"]]}],\"heatmap\":[{\"type\":\"heatmap\",\"colorbar\":{\"outlinewidth\":0,\"ticks\":\"\"},\"colorscale\":[[0.0,\"#0d0887\"],[0.1111111111111111,\"#46039f\"],[0.2222222222222222,\"#7201a8\"],[0.3333333333333333,\"#9c179e\"],[0.4444444444444444,\"#bd3786\"],[0.5555555555555556,\"#d8576b\"],[0.6666666666666666,\"#ed7953\"],[0.7777777777777778,\"#fb9f3a\"],[0.8888888888888888,\"#fdca26\"],[1.0,\"#f0f921\"]]}],\"contourcarpet\":[{\"type\":\"contourcarpet\",\"colorbar\":{\"outlinewidth\":0,\"ticks\":\"\"}}],\"contour\":[{\"type\":\"contour\",\"colorbar\":{\"outlinewidth\":0,\"ticks\":\"\"},\"colorscale\":[[0.0,\"#0d0887\"],[0.1111111111111111,\"#46039f\"],[0.2222222222222222,\"#7201a8\"],[0.3333333333333333,\"#9c179e\"],[0.4444444444444444,\"#bd3786\"],[0.5555555555555556,\"#d8576b\"],[0.6666666666666666,\"#ed7953\"],[0.7777777777777778,\"#fb9f3a\"],[0.8888888888888888,\"#fdca26\"],[1.0,\"#f0f921\"]]}],\"surface\":[{\"type\":\"surface\",\"colorbar\":{\"outlinewidth\":0,\"ticks\":\"\"},\"colorscale\":[[0.0,\"#0d0887\"],[0.1111111111111111,\"#46039f\"],[0.2222222222222222,\"#7201a8\"],[0.3333333333333333,\"#9c179e\"],[0.4444444444444444,\"#bd3786\"],[0.5555555555555556,\"#d8576b\"],[0.6666666666666666,\"#ed7953\"],[0.7777777777777778,\"#fb9f3a\"],[0.8888888888888888,\"#fdca26\"],[1.0,\"#f0f921\"]]}],\"mesh3d\":[{\"type\":\"mesh3d\",\"colorbar\":{\"outlinewidth\":0,\"ticks\":\"\"}}],\"scatter\":[{\"fillpattern\":{\"fillmode\":\"overlay\",\"size\":10,\"solidity\":0.2},\"type\":\"scatter\"}],\"parcoords\":[{\"type\":\"parcoords\",\"line\":{\"colorbar\":{\"outlinewidth\":0,\"ticks\":\"\"}}}],\"scatterpolargl\":[{\"type\":\"scatterpolargl\",\"marker\":{\"colorbar\":{\"outlinewidth\":0,\"ticks\":\"\"}}}],\"bar\":[{\"error_x\":{\"color\":\"#2a3f5f\"},\"error_y\":{\"color\":\"#2a3f5f\"},\"marker\":{\"line\":{\"color\":\"white\",\"width\":0.5},\"pattern\":{\"fillmode\":\"overlay\",\"size\":10,\"solidity\":0.2}},\"type\":\"bar\"}],\"scattergeo\":[{\"type\":\"scattergeo\",\"marker\":{\"colorbar\":{\"outlinewidth\":0,\"ticks\":\"\"}}}],\"scatterpolar\":[{\"type\":\"scatterpolar\",\"marker\":{\"colorbar\":{\"outlinewidth\":0,\"ticks\":\"\"}}}],\"histogram\":[{\"marker\":{\"pattern\":{\"fillmode\":\"overlay\",\"size\":10,\"solidity\":0.2}},\"type\":\"histogram\"}],\"scattergl\":[{\"type\":\"scattergl\",\"marker\":{\"colorbar\":{\"outlinewidth\":0,\"ticks\":\"\"}}}],\"scatter3d\":[{\"type\":\"scatter3d\",\"line\":{\"colorbar\":{\"outlinewidth\":0,\"ticks\":\"\"}},\"marker\":{\"colorbar\":{\"outlinewidth\":0,\"ticks\":\"\"}}}],\"scattermap\":[{\"type\":\"scattermap\",\"marker\":{\"colorbar\":{\"outlinewidth\":0,\"ticks\":\"\"}}}],\"scattermapbox\":[{\"type\":\"scattermapbox\",\"marker\":{\"colorbar\":{\"outlinewidth\":0,\"ticks\":\"\"}}}],\"scatterternary\":[{\"type\":\"scatterternary\",\"marker\":{\"colorbar\":{\"outlinewidth\":0,\"ticks\":\"\"}}}],\"scattercarpet\":[{\"type\":\"scattercarpet\",\"marker\":{\"colorbar\":{\"outlinewidth\":0,\"ticks\":\"\"}}}],\"carpet\":[{\"aaxis\":{\"endlinecolor\":\"#2a3f5f\",\"gridcolor\":\"#C8D4E3\",\"linecolor\":\"#C8D4E3\",\"minorgridcolor\":\"#C8D4E3\",\"startlinecolor\":\"#2a3f5f\"},\"baxis\":{\"endlinecolor\":\"#2a3f5f\",\"gridcolor\":\"#C8D4E3\",\"linecolor\":\"#C8D4E3\",\"minorgridcolor\":\"#C8D4E3\",\"startlinecolor\":\"#2a3f5f\"},\"type\":\"carpet\"}],\"table\":[{\"cells\":{\"fill\":{\"color\":\"#EBF0F8\"},\"line\":{\"color\":\"white\"}},\"header\":{\"fill\":{\"color\":\"#C8D4E3\"},\"line\":{\"color\":\"white\"}},\"type\":\"table\"}],\"barpolar\":[{\"marker\":{\"line\":{\"color\":\"white\",\"width\":0.5},\"pattern\":{\"fillmode\":\"overlay\",\"size\":10,\"solidity\":0.2}},\"type\":\"barpolar\"}],\"pie\":[{\"automargin\":true,\"type\":\"pie\"}]},\"layout\":{\"autotypenumbers\":\"strict\",\"colorway\":[\"#636efa\",\"#EF553B\",\"#00cc96\",\"#ab63fa\",\"#FFA15A\",\"#19d3f3\",\"#FF6692\",\"#B6E880\",\"#FF97FF\",\"#FECB52\"],\"font\":{\"color\":\"#2a3f5f\"},\"hovermode\":\"closest\",\"hoverlabel\":{\"align\":\"left\"},\"paper_bgcolor\":\"white\",\"plot_bgcolor\":\"white\",\"polar\":{\"bgcolor\":\"white\",\"angularaxis\":{\"gridcolor\":\"#EBF0F8\",\"linecolor\":\"#EBF0F8\",\"ticks\":\"\"},\"radialaxis\":{\"gridcolor\":\"#EBF0F8\",\"linecolor\":\"#EBF0F8\",\"ticks\":\"\"}},\"ternary\":{\"bgcolor\":\"white\",\"aaxis\":{\"gridcolor\":\"#DFE8F3\",\"linecolor\":\"#A2B1C6\",\"ticks\":\"\"},\"baxis\":{\"gridcolor\":\"#DFE8F3\",\"linecolor\":\"#A2B1C6\",\"ticks\":\"\"},\"caxis\":{\"gridcolor\":\"#DFE8F3\",\"linecolor\":\"#A2B1C6\",\"ticks\":\"\"}},\"coloraxis\":{\"colorbar\":{\"outlinewidth\":0,\"ticks\":\"\"}},\"colorscale\":{\"sequential\":[[0.0,\"#0d0887\"],[0.1111111111111111,\"#46039f\"],[0.2222222222222222,\"#7201a8\"],[0.3333333333333333,\"#9c179e\"],[0.4444444444444444,\"#bd3786\"],[0.5555555555555556,\"#d8576b\"],[0.6666666666666666,\"#ed7953\"],[0.7777777777777778,\"#fb9f3a\"],[0.8888888888888888,\"#fdca26\"],[1.0,\"#f0f921\"]],\"sequentialminus\":[[0.0,\"#0d0887\"],[0.1111111111111111,\"#46039f\"],[0.2222222222222222,\"#7201a8\"],[0.3333333333333333,\"#9c179e\"],[0.4444444444444444,\"#bd3786\"],[0.5555555555555556,\"#d8576b\"],[0.6666666666666666,\"#ed7953\"],[0.7777777777777778,\"#fb9f3a\"],[0.8888888888888888,\"#fdca26\"],[1.0,\"#f0f921\"]],\"diverging\":[[0,\"#8e0152\"],[0.1,\"#c51b7d\"],[0.2,\"#de77ae\"],[0.3,\"#f1b6da\"],[0.4,\"#fde0ef\"],[0.5,\"#f7f7f7\"],[0.6,\"#e6f5d0\"],[0.7,\"#b8e186\"],[0.8,\"#7fbc41\"],[0.9,\"#4d9221\"],[1,\"#276419\"]]},\"xaxis\":{\"gridcolor\":\"#EBF0F8\",\"linecolor\":\"#EBF0F8\",\"ticks\":\"\",\"title\":{\"standoff\":15},\"zerolinecolor\":\"#EBF0F8\",\"automargin\":true,\"zerolinewidth\":2},\"yaxis\":{\"gridcolor\":\"#EBF0F8\",\"linecolor\":\"#EBF0F8\",\"ticks\":\"\",\"title\":{\"standoff\":15},\"zerolinecolor\":\"#EBF0F8\",\"automargin\":true,\"zerolinewidth\":2},\"scene\":{\"xaxis\":{\"backgroundcolor\":\"white\",\"gridcolor\":\"#DFE8F3\",\"linecolor\":\"#EBF0F8\",\"showbackground\":true,\"ticks\":\"\",\"zerolinecolor\":\"#EBF0F8\",\"gridwidth\":2},\"yaxis\":{\"backgroundcolor\":\"white\",\"gridcolor\":\"#DFE8F3\",\"linecolor\":\"#EBF0F8\",\"showbackground\":true,\"ticks\":\"\",\"zerolinecolor\":\"#EBF0F8\",\"gridwidth\":2},\"zaxis\":{\"backgroundcolor\":\"white\",\"gridcolor\":\"#DFE8F3\",\"linecolor\":\"#EBF0F8\",\"showbackground\":true,\"ticks\":\"\",\"zerolinecolor\":\"#EBF0F8\",\"gridwidth\":2}},\"shapedefaults\":{\"line\":{\"color\":\"#2a3f5f\"}},\"annotationdefaults\":{\"arrowcolor\":\"#2a3f5f\",\"arrowhead\":0,\"arrowwidth\":1},\"geo\":{\"bgcolor\":\"white\",\"landcolor\":\"white\",\"subunitcolor\":\"#C8D4E3\",\"showland\":true,\"showlakes\":true,\"lakecolor\":\"white\"},\"title\":{\"x\":0.05},\"mapbox\":{\"style\":\"light\"}}}},                        {\"displaylogo\": false, \"modeBarButtonsToRemove\": [\"select2d\", \"lasso2d\", \"zoomIn2d\", \"zoomOut2d\", \"autoScale2d\"], \"responsive\": true}                    )                };            </script>        </div>"
      ],
      "text/plain": [
       "<IPython.core.display.HTML object>"
      ]
     },
     "metadata": {},
     "output_type": "display_data"
    },
    {
     "name": "stdout",
     "output_type": "stream",
     "text": [
      "\n",
      "\u001b[94m\u001b[1mUsing experiment 🔬 \u001b[0m'sim_lbco'\u001b[94m\u001b[1m for \u001b[0m'single'\u001b[94m\u001b[1m fitting\u001b[0m\n",
      "🚀 Starting fit process with 'lmfit (leastsq)'...\n",
      "📈 Goodness-of-fit (reduced χ²) change:\n"
     ]
    },
    {
     "data": {
      "text/html": [
       "<table class=\"dataframe\" style=\"border-collapse: collapse; border: 1px solid #515155; margin-left: 0.5em;margin-top: 0.5em;margin-bottom: 1em;\">\n",
       "  <thead>\n",
       "    <tr style=\"text-align: right;\">\n",
       "      <th style=\"text-align: center;\">iteration</th>\n",
       "      <th style=\"text-align: center;\">χ²</th>\n",
       "      <th style=\"text-align: center;\">improvement [%]</th>\n",
       "    </tr>\n",
       "  </thead>\n",
       "  <tbody>\n",
       "    <tr>\n",
       "      <td><div style=\"text-align: center;\">1</div></td>\n",
       "      <td><div style=\"text-align: center;\">115.86</div></td>\n",
       "      <td><div style=\"text-align: center;\"></div></td>\n",
       "    </tr>\n",
       "    <tr>\n",
       "      <td><div style=\"text-align: center;\">12</div></td>\n",
       "      <td><div style=\"text-align: center;\">70.26</div></td>\n",
       "      <td><div style=\"text-align: center;\">39.4% ↓</div></td>\n",
       "    </tr>\n",
       "    <tr>\n",
       "      <td><div style=\"text-align: center;\">22</div></td>\n",
       "      <td><div style=\"text-align: center;\">70.26</div></td>\n",
       "      <td><div style=\"text-align: center;\"></div></td>\n",
       "    </tr>\n",
       "  </tbody>\n",
       "</table>"
      ],
      "text/plain": [
       "<IPython.core.display.HTML object>"
      ]
     },
     "metadata": {},
     "output_type": "display_data"
    },
    {
     "name": "stdout",
     "output_type": "stream",
     "text": [
      "🏆 Best goodness-of-fit (reduced χ²) is 70.26 at iteration 12\n",
      "✅ Fitting complete.\n",
      "\n",
      "\u001b[94m\u001b[1mFit results\u001b[0m\n",
      "✅ Success: True\n",
      "⏱️ Fitting time: 0.20 seconds\n",
      "📏 Goodness-of-fit (reduced χ²): 70.26\n",
      "📏 R-factor (Rf): 38.27%\n",
      "📏 R-factor squared (Rf²): 64.53%\n",
      "📏 Weighted R-factor (wR): 66.00%\n",
      "📈 Fitted parameters:\n"
     ]
    },
    {
     "data": {
      "text/html": [
       "<table class=\"dataframe\" style=\"border-collapse: collapse; border: 1px solid #515155; margin-left: 0.5em;margin-top: 0.5em;margin-bottom: 1em;\">\n",
       "  <thead>\n",
       "    <tr style=\"text-align: right;\">\n",
       "      <th></th>\n",
       "      <th style=\"text-align: left;\">datablock</th>\n",
       "      <th style=\"text-align: left;\">category</th>\n",
       "      <th style=\"text-align: left;\">entry</th>\n",
       "      <th style=\"text-align: left;\">parameter</th>\n",
       "      <th style=\"text-align: right;\">start</th>\n",
       "      <th style=\"text-align: right;\">fitted</th>\n",
       "      <th style=\"text-align: right;\">uncertainty</th>\n",
       "      <th style=\"text-align: left;\">units</th>\n",
       "      <th style=\"text-align: right;\">change</th>\n",
       "    </tr>\n",
       "  </thead>\n",
       "  <tbody>\n",
       "    <tr>\n",
       "      <th>1</th>\n",
       "      <td><div style=\"text-align: left;\">sim_lbco</div></td>\n",
       "      <td><div style=\"text-align: left;\">background</div></td>\n",
       "      <td><div style=\"text-align: left;\">50000</div></td>\n",
       "      <td><div style=\"text-align: left;\">y</div></td>\n",
       "      <td><div style=\"text-align: right;\">0.2000</div></td>\n",
       "      <td><div style=\"text-align: right;\">0.2974</div></td>\n",
       "      <td><div style=\"text-align: right;\">0.1893</div></td>\n",
       "      <td><div style=\"text-align: left;\"></div></td>\n",
       "      <td><div style=\"text-align: right;\">48.69 % ↑</div></td>\n",
       "    </tr>\n",
       "    <tr>\n",
       "      <th>2</th>\n",
       "      <td><div style=\"text-align: left;\">sim_lbco</div></td>\n",
       "      <td><div style=\"text-align: left;\">background</div></td>\n",
       "      <td><div style=\"text-align: left;\">60000</div></td>\n",
       "      <td><div style=\"text-align: left;\">y</div></td>\n",
       "      <td><div style=\"text-align: right;\">0.2000</div></td>\n",
       "      <td><div style=\"text-align: right;\">0.2745</div></td>\n",
       "      <td><div style=\"text-align: right;\">0.0387</div></td>\n",
       "      <td><div style=\"text-align: left;\"></div></td>\n",
       "      <td><div style=\"text-align: right;\">37.23 % ↑</div></td>\n",
       "    </tr>\n",
       "    <tr>\n",
       "      <th>3</th>\n",
       "      <td><div style=\"text-align: left;\">sim_lbco</div></td>\n",
       "      <td><div style=\"text-align: left;\">background</div></td>\n",
       "      <td><div style=\"text-align: left;\">70000</div></td>\n",
       "      <td><div style=\"text-align: left;\">y</div></td>\n",
       "      <td><div style=\"text-align: right;\">0.2000</div></td>\n",
       "      <td><div style=\"text-align: right;\">0.2805</div></td>\n",
       "      <td><div style=\"text-align: right;\">0.0251</div></td>\n",
       "      <td><div style=\"text-align: left;\"></div></td>\n",
       "      <td><div style=\"text-align: right;\">40.25 % ↑</div></td>\n",
       "    </tr>\n",
       "    <tr>\n",
       "      <th>4</th>\n",
       "      <td><div style=\"text-align: left;\">sim_lbco</div></td>\n",
       "      <td><div style=\"text-align: left;\">background</div></td>\n",
       "      <td><div style=\"text-align: left;\">80000</div></td>\n",
       "      <td><div style=\"text-align: left;\">y</div></td>\n",
       "      <td><div style=\"text-align: right;\">0.2000</div></td>\n",
       "      <td><div style=\"text-align: right;\">0.2359</div></td>\n",
       "      <td><div style=\"text-align: right;\">0.0193</div></td>\n",
       "      <td><div style=\"text-align: left;\"></div></td>\n",
       "      <td><div style=\"text-align: right;\">17.93 % ↑</div></td>\n",
       "    </tr>\n",
       "    <tr>\n",
       "      <th>5</th>\n",
       "      <td><div style=\"text-align: left;\">sim_lbco</div></td>\n",
       "      <td><div style=\"text-align: left;\">background</div></td>\n",
       "      <td><div style=\"text-align: left;\">90000</div></td>\n",
       "      <td><div style=\"text-align: left;\">y</div></td>\n",
       "      <td><div style=\"text-align: right;\">0.2000</div></td>\n",
       "      <td><div style=\"text-align: right;\">0.2643</div></td>\n",
       "      <td><div style=\"text-align: right;\">0.0138</div></td>\n",
       "      <td><div style=\"text-align: left;\"></div></td>\n",
       "      <td><div style=\"text-align: right;\">32.15 % ↑</div></td>\n",
       "    </tr>\n",
       "    <tr>\n",
       "      <th>6</th>\n",
       "      <td><div style=\"text-align: left;\">sim_lbco</div></td>\n",
       "      <td><div style=\"text-align: left;\">background</div></td>\n",
       "      <td><div style=\"text-align: left;\">100000</div></td>\n",
       "      <td><div style=\"text-align: left;\">y</div></td>\n",
       "      <td><div style=\"text-align: right;\">0.2000</div></td>\n",
       "      <td><div style=\"text-align: right;\">0.2511</div></td>\n",
       "      <td><div style=\"text-align: right;\">0.0160</div></td>\n",
       "      <td><div style=\"text-align: left;\"></div></td>\n",
       "      <td><div style=\"text-align: right;\">25.54 % ↑</div></td>\n",
       "    </tr>\n",
       "    <tr>\n",
       "      <th>7</th>\n",
       "      <td><div style=\"text-align: left;\">sim_lbco</div></td>\n",
       "      <td><div style=\"text-align: left;\">background</div></td>\n",
       "      <td><div style=\"text-align: left;\">110000</div></td>\n",
       "      <td><div style=\"text-align: left;\">y</div></td>\n",
       "      <td><div style=\"text-align: right;\">0.2000</div></td>\n",
       "      <td><div style=\"text-align: right;\">0.2117</div></td>\n",
       "      <td><div style=\"text-align: right;\">0.0576</div></td>\n",
       "      <td><div style=\"text-align: left;\"></div></td>\n",
       "      <td><div style=\"text-align: right;\">5.86 % ↑</div></td>\n",
       "    </tr>\n",
       "    <tr>\n",
       "      <th>8</th>\n",
       "      <td><div style=\"text-align: left;\">sim_lbco</div></td>\n",
       "      <td><div style=\"text-align: left;\">linked_phases</div></td>\n",
       "      <td><div style=\"text-align: left;\">lbco</div></td>\n",
       "      <td><div style=\"text-align: left;\">scale</div></td>\n",
       "      <td><div style=\"text-align: right;\">1.0000</div></td>\n",
       "      <td><div style=\"text-align: right;\">2.5864</div></td>\n",
       "      <td><div style=\"text-align: right;\">0.1352</div></td>\n",
       "      <td><div style=\"text-align: left;\"></div></td>\n",
       "      <td><div style=\"text-align: right;\">158.64 % ↑</div></td>\n",
       "    </tr>\n",
       "  </tbody>\n",
       "</table>"
      ],
      "text/plain": [
       "<IPython.core.display.HTML object>"
      ]
     },
     "metadata": {},
     "output_type": "display_data"
    }
   ],
   "source": [
    "project_2.plot_meas_vs_calc(expt_name='sim_lbco')\n",
    "\n",
    "project_2.analysis.fit()"
   ]
  },
  {
   "cell_type": "markdown",
   "id": "149",
   "metadata": {},
   "source": [
    "#### Exercise 5.3: Find the Misfit in the Fit\n",
    "\n",
    "Visualize the measured and calculated diffraction patterns after the fit. As\n",
    "you can see, the fit shows noticeable discrepancies. If you zoom in on\n",
    "different regions of the pattern, you will observe that all the calculated\n",
    "peaks are shifted to the left.\n",
    "\n",
    "What could be the reason for the misfit?"
   ]
  },
  {
   "cell_type": "markdown",
   "id": "150",
   "metadata": {},
   "source": [
    "**Hint:**"
   ]
  },
  {
   "cell_type": "markdown",
   "id": "151",
   "metadata": {},
   "source": [
    "Consider the following options:\n",
    "1. The conversion parameters from TOF to d-spacing are not correct.\n",
    "2. The lattice parameters of the LBCO phase are not correct.\n",
    "3. The peak profile parameters are not correct.\n",
    "4. The background points are not correct."
   ]
  },
  {
   "cell_type": "markdown",
   "id": "152",
   "metadata": {},
   "source": [
    "**Solution:**"
   ]
  },
  {
   "cell_type": "markdown",
   "id": "153",
   "metadata": {},
   "source": [
    "1. ❌ The conversion parameters from TOF to d-spacing were set based on the\n",
    "data reduction step. While they are specific to each dataset and thus differ\n",
    "from those used for the Si data, the full reduction workflow has already been\n",
    "validated with the Si fit. Therefore, they are not the cause of the misfit in\n",
    "this case.\n",
    "2. ✅ The lattice parameters of the LBCO phase were set based on the CIF\n",
    "data, which is a good starting point, but they are not necessarily as\n",
    "accurate as needed for the fit. The lattice parameters may need to be\n",
    "refined.\n",
    "3. ❌ The peak profile parameters do not change the position of the peaks,\n",
    "but rather their shape.\n",
    "4. ❌ The background points affect the background level, but not the peak\n",
    "positions."
   ]
  },
  {
   "cell_type": "code",
   "execution_count": 42,
   "id": "154",
   "metadata": {
    "execution": {
     "iopub.execute_input": "2025-08-31T19:33:12.525123Z",
     "iopub.status.busy": "2025-08-31T19:33:12.524917Z",
     "iopub.status.idle": "2025-08-31T19:33:12.736343Z",
     "shell.execute_reply": "2025-08-31T19:33:12.736036Z"
    }
   },
   "outputs": [
    {
     "data": {
      "text/html": [
       "<div>                        <script type=\"text/javascript\">window.PlotlyConfig = {MathJaxConfig: 'local'};</script>\n",
       "        <script charset=\"utf-8\" src=\"https://cdn.plot.ly/plotly-3.1.0.min.js\" integrity=\"sha256-Ei4740bWZhaUTQuD6q9yQlgVCMPBz6CZWhevDYPv93A=\" crossorigin=\"anonymous\"></script>                <div id=\"208106c6-b7fc-4236-a541-b9b15da680e0\" class=\"plotly-graph-div\" style=\"height:100%; width:100%;\"></div>            <script type=\"text/javascript\">                window.PLOTLYENV=window.PLOTLYENV || {};                                if (document.getElementById(\"208106c6-b7fc-4236-a541-b9b15da680e0\")) {                    Plotly.newPlot(                        \"208106c6-b7fc-4236-a541-b9b15da680e0\",                        [{\"line\":{\"color\":\"rgb(31, 119, 180)\"},\"mode\":\"lines+markers\",\"name\":\"Measured (Imeas)\",\"x\":{\"dtype\":\"f8\",\"bdata\":\"k6mCUTXg6kC28\\u002f3U5O7qQPH0SlmU\\u002fepAK\\u002faX3UMM60Bm9+Rh8xrrQKH4MeaiKetAxEKtaVI460D+Q\\u002frtAUfrQDlFR3KxVetAdEaU9mBk60CXkA96EHPrQNGRXP6\\u002fgetADJOpgm+Q60BGlPYGH5\\u002frQIGVQ4vOretApN++Dn6860Df4AuTLcvrQBniWBfd2etAVOOlm4zo60CP5PIfPPfrQLIubqPrBexA7C+7J5sU7EAnMQisSiPsQGEyVTD6MexAnDOitKlA7EC\\u002ffR04WU\\u002fsQPp+arwIXuxANIC3QLhs7EBvgQTFZ3vsQKqCUUkXiuxAzczMzMaY7EAHzhlRdqfsQELPZtUltuxAfdCzWdXE7EC30QDehNPsQNobfGE04uxAFR3J5ePw7EBPHhZqk\\u002f\\u002fsQIofY+5CDu1AxSCwcvIc7UDoaiv2oSvtQCJseHpROu1AXW3F\\u002fgBJ7UCYbhKDsFftQNJvXwdgZu1A9bnaig917UAwuycPv4PtQGq8dJNuku1Apb3BFx6h7UDgvg6cza\\u002ftQAMJih99vu1APQrXoyzN7UB4CyQo3NvtQLMMcayL6u1A7Q2+MDv57UAQWDm06gfuQEtZhjiaFu5AhlrTvEkl7kDAWyBB+TPuQPtcbcWoQu5AHqfoSFhR7kBYqDXNB2DuQJOpglG3bu5AzqrP1WZ97kAIrBxaFozuQCv2l93Fmu5AZvfkYXWp7kCh+DHmJLjuQNv5fmrUxu5AFvvL7oPV7kA5RUdyM+TuQHRGlPbi8u5ArkfhepIB70DpSC7\\u002fQRDvQCNKe4PxHu9ARpT2BqEt70CBlUOLUDzvQLyWkA8AS+9A9pfdk69Z70AxmSoYX2jvQFTjpZsOd+9Aj+TyH76F70DJ5T+kbZTvQATnjCgdo+9AJzEIrMyx70BhMlUwfMDvQJwzorQrz+9A1zTvONvd70ARNjy9iuzvQDSAt0A6++9AuECC4vQE8EBVwaikTAzwQPJBz2akE\\u002fBAj8L1KPwa8EChZ7PqUyLwQD7o2ayrKfBA3GgAbwMx8EB56SYxWzjwQBZqTfOyP\\u002fBAKA8LtQpH8EDFjzF3Yk7wQGIQWDm6VfBAAJF++xFd8ECdEaW9aWTwQK62Yn\\u002fBa\\u002fBATDeJQRlz8EDpt68DcXrwQIY41sXIgfBAJLn8hyCJ8EA1XrpJeJDwQNPe4AvQl\\u002fBAcF8Hzief8EAN4C2Qf6bwQKpgVFLXrfBAvAUSFC+18EBZhjjWhrzwQPcGX5jew\\u002fBAlIeFWjbL8EAxCKwcjtLwQEOtad7l2fBA4C2QoD3h8EB9rrZilejwQBsv3STt7\\u002fBAuK8D50T38EDKVMGonP7wQGfV52r0BfFABFYOLUwN8UCh1jTvoxTxQD9XW7H7G\\u002fFAUPwYc1Mj8UDufD81qyrxQIv9ZfcCMvFAKH6MuVo58UDF\\u002frJ7skDxQNejcD0KSPFAdCSX\\u002f2FP8UASpb3BuVbxQK8l5IMRXvFATKYKRmll8UBeS8gHwWzxQPvL7skYdPFAmEwVjHB78UA2zTtOyILxQNNNYhAgivFA5fIf0neR8UCCc0aUz5jxQB\\u002f0bFYnoPFAvHSTGH+n8UBa9bna1q7xQGuad5wutvFACRueXoa98UCmm8Qg3sTxQEMc6+I1zPFA4JwRpY3T8UDyQc9m5drxQI\\u002fC9Sg94vFALUMc65Tp8UDKw0Kt7PDxQNxoAG9E+PFAeekmMZz\\u002f8UAWak3z8wbyQLPqc7VLDvJAUWuad6MV8kBiEFg5+xzyQACRfvtSJPJAnRGlvaor8kA6kst\\u002fAjPyQNcS8kFaOvJA6bevA7JB8kCGONbFCUnyQCS5\\u002fIdhUPJAwTkjSrlX8kBeukkMEV\\u002fyQHBfB85oZvJADeAtkMBt8kCqYFRSGHXyQEjhehRwfPJA5WGh1seD8kD3Bl+YH4vyQJSHhVp3kvJAMQisHM+Z8kDOiNLeJqHyQGwJ+aB+qPJAfa62Ytav8kAbL90kLrfyQLivA+eFvvJAVTAqqd3F8kDysFBrNc3yQARWDi2N1PJAodY07+Tb8kA\\u002fV1uxPOPyQNzXgXOU6vJAeVioNezx8kCL\\u002fWX3Q\\u002fnyQCh+jLmbAPNAxf6ye\\u002fMH80Bjf9k9Sw\\u002fzQAAAAACjFvNAEqW9wfod80CvJeSDUiXzQEymCkaqLPNA6SYxCAI080CHp1fKWTvzQJhMFYyxQvNANs07TglK80DTTWIQYVHzQHDOiNK4WPNADk+vlBBg80Af9GxWaGfzQLx0kxjAbvNAWvW52hd280D3deCcb33zQJT2Bl\\u002fHhPNAppvEIB+M80BDHOvidpPzQOCcEaXOmvNAfh04Zyai80Abnl4pfqnzQC1DHOvVsPNAysNCrS2480BnRGlvhb\\u002fzQAXFjzHdxvNAokW28zTO80Cz6nO1jNXzQFFrmnfk3PNA7uvAOTzk80CLbOf7k+vzQCntDb7r8vNAOpLLf0P680DXEvJBmwH0QHWTGATzCPRAEhQ\\u002fxkoQ9EAkufyHohf0QME5I0r6HvRAXrpJDFIm9ED7OnDOqS30QJm7lpABNfRAqmBUUlk89EBI4XoUsUP0QOVhodYIS\\u002fRAguLHmGBS9EAgY+5auFn0QDEIrBwQYfRAzojS3mdo9EBsCfmgv2\\u002f0QAmKH2MXd\\u002fRApgpGJW9+9EC4rwPnxoX0QFUwKqkejfRA8rBQa3aU9ECQMXctzpv0QC2yne8lo\\u002fRAP1dbsX2q9EDc14Fz1bH0QHlYqDUtufRAF9nO94TA9EC0WfW53Mf0QMX+sns0z\\u002fRAY3\\u002fZPYzW9EAAAAAA5N30QJ2AJsI75fRAOwFNhJPs9EBMpgpG6\\u002fP0QOkmMQhD+\\u002fRAh6dXypoC9UAkKH6M8gn1QMGopE5KEfVA001iEKIY9UBwzojS+R\\u002f1QA5Pr5RRJ\\u002fVAq8\\u002fVVqku9UBIUPwYATb1QFr1udpYPfVA93XgnLBE9UCU9gZfCEz1QDJ3LSFgU\\u002fVAz\\u002fdT47da9UDgnBGlD2L1QH4dOGdnafVAG55eKb9w9UC4HoXrFnj1QFafq61uf\\u002fVAZ0Rpb8aG9UAFxY8xHo71QKJFtvN1lfVAP8bctc2c9UDcRgN4JaT1QO7rwDl9q\\u002fVAi2zn+9Sy9UAp7Q2+LLr1QMZtNICEwfVAY+5aQtzI9UB1kxgENND1QBIUP8aL1\\u002fVAr5RliOPe9UBNFYxKO+b1QOqVsgyT7fVA+zpwzur09UCZu5aQQvz1QDY8vVKaA\\u002fZA07zjFPIK9kBxPQrXSRL2QILix5ihGfZAIGPuWvkg9kC94xQdUSj2QFpkO9+oL\\u002fZAbAn5oAA39kAJih9jWD72QKYKRiWwRfZARIts5wdN9kDhC5OpX1T2QPKwUGu3W\\u002fZAkDF3LQ9j9kAtsp3vZmr2QMoyxLG+cfZAaLPqcxZ59kB5WKg1boD2QBfZzvfFh\\u002fZAtFn1uR2P9kBR2ht8dZb2QO5aQj7NnfZAAAAAACWl9kCdgCbCfKz2QDsBTYTUs\\u002fZA2IFzRiy79kB1ApoIhML2QIenV8rbyfZAJCh+jDPR9kDBqKROi9j2QF8pyxDj3\\u002fZA\\u002fKnx0jrn9kAOT6+Uku72QKvP1Vbq9fZASFD8GEL99kDl0CLbmQT3QINRSZ3xC\\u002fdAlPYGX0kT90Aydy0hoRr3QM\\u002f3U+P4IfdAbHh6pVAp90AJ+aBnqDD3QBueXikAOPdAuB6F61c\\u002f90BWn6utr0b3QPMf0m8HTvdAkKD4MV9V90CiRbbztlz3QD\\u002fG3LUOZPdA3EYDeGZr90B6xyk6vnL3QBdIUPwVevdAKe0Nvm2B90DGbTSAxYj3QGPuWkIdkPdAAG+BBHWX90Ce76fGzJ73QK+UZYgkpvdATRWMSnyt90DqlbIM1LT3QIcW2c4rvPdAJJf\\u002fkIPD90A2PL1S28r3QNO84xQz0vdAcT0K14rZ90AOvjCZ4uD3QKs+V1s66PdAveMUHZLv90BaZDvf6fb3QPfkYaFB\\u002fvdAlWWIY5kF+EAy5q4l8Qz4QESLbOdIFPhA4QuTqaAb+EB+jLlr+CL4QBsN4C1QKvhALbKd76cx+EDKMsSx\\u002fzj4QGiz6nNXQPhABTQRNq9H+ECitDf4Bk\\u002f4QLRZ9bleVvhAUdobfLZd+EDuWkI+DmX4QIzbaABmbPhAKVyPwr1z+EA7AU2EFXv4QNiBc0ZtgvhAdQKaCMWJ+EASg8DKHJH4QLAD54x0mPhAwaikTsyf+EBfKcsQJKf4QPyp8dJ7rvhAmSoYldO1+EA2qz5XK734QEhQ\\u002fBiDxPhA5dAi29rL+ECDUUmdMtP4QCDSb1+K2vhAvVKWIeLh+EDP91PjOen4QGx4eqWR8PhACfmgZ+n3+ECneccpQf\\u002f4QET67euYBvlAVp+rrfAN+UDzH9JvSBX5QJCg+DGgHPlALSEf9Pcj+UDLoUW2Tyv5QNxGA3inMvlAescpOv85+UAXSFD8VkH5QLTIdr6uSPlAUkmdgAZQ+UBj7lpCXlf5QABvgQS2XvlAnu+nxg1m+UA7cM6IZW35QNjw9Eq9dPlA6pWyDBV8+UCHFtnObIP5QCSX\\u002f5DEivlAwhcmUxyS+UBfmEwVdJn5QHE9CtfLoPlADr4wmSOo+UCrPldbe6\\u002f5QEi\\u002ffR3TtvlA5j+k3yq++UA=\"},\"y\":{\"dtype\":\"f8\",\"bdata\":\"Ro6RutwL0D8+eTa7RpzSPwOlc1uRBtM\\u002fbbst91Am0z9IdSTJCg7UP4Nj+6elmdI\\u002fMPXJL3U5zD\\u002fshCSHPO\\u002fTPyqwfDWTKdE\\u002fBoSfnKzizT\\u002fPHD6XudLQP2ct7xDz5NQ\\u002fR9vipM2Z0T\\u002fTVztgD03WP7L5CPz17No\\u002fBTTkpWo74j8jH3quAFzxP6EN9Bf4dPU\\u002fYPwGlWGp9j\\u002fQbQCKc7zxP+FV\\u002fYpmr+c\\u002fnK\\u002f5FipR4D\\u002fY3RcceKbUP9Oy1IE4eNE\\u002fe46gr1Yt0T9Ul6zu9CvNP\\u002fWPISGFC9E\\u002fLl3jZS8W0z+krMCKS2PRPwL520lBmcU\\u002fpwEKrSEr1D\\u002fHs+pSAYfOP8QlMDK9EMw\\u002fH6L2wpEJ0j+DtLLt7e3KP3krf9k2oNE\\u002fVwRLzsqW0T9YXL6iMQnHP32K6+mnLdE\\u002fU\\u002fvtwoNl0D8S10IUAjzOP8FJxXoLzs8\\u002fPRI0+Wbj0j8s78UhR53NPwyuEmjWltA\\u002fjXA0WdNH0z8tparsG4zSP2rd\\u002f4aFK9Q\\u002fU4UWvO+u1D+kXuKEnBHZP1fFM4JFA+M\\u002fCjBUSEtG5D8pip8xWg3mP7TPMvFdQOE\\u002f79T3FwIa2D8JWApgogLXP+EtS4D6StM\\u002fBXgIISde0j83rEWJgAPRP7CVjV7uZdM\\u002fBGD64UtByz8ymLoDgrjOP5jltZeZts8\\u002f6YS3C4UTzz\\u002fbp778UqDRP52tTDoihtE\\u002fWHkIogBG0j8hs7Dm0A7RP0nH\\u002fYMXPdE\\u002f0kTan0mZ0D8EYuB0WYnMP8Awf\\u002f3aFc4\\u002feF\\u002f+ZNoEzz\\u002fbnfgrkjzPP4ZRI\\u002fyCic4\\u002f+CC9ZXv40D8DTFs5DB\\u002fOPxMpBqLWVc8\\u002fKLqWPXAF0j939q5oeC3RP9SfuY3Z\\u002fNU\\u002fk399aCLX0T+F6CzufpjQPwZopOYjmtM\\u002fbLjJ4ypL1T8aTh4uvfzYP0zRbO2lKds\\u002fYz75FGWn2z9Dx2PrXszaP1M41JgkX+M\\u002f1fYBVjhi8D+4+sEkCo77PxYrTMfj9AZA6PESrNtFCkDOPABsc14IQMrd5CkoHv0\\u002fNt8Tbo5N7T+wEBj52PfgP6YFcpPFG9c\\u002f+L8BeWvf0T8c6TkNfQrQP2PIMo4Yes8\\u002fp4aAGrlO0T\\u002f6xhchBxzPP5OlsZH8X84\\u002fpsIHhmaM0T8qAUEy7HTMP6FuMx2wzs8\\u002fT9u6OFcs0z\\u002f+pL+6\\u002fXjSP0XPs4GC\\u002f9Q\\u002f15RpOywH1z8CCgR\\u002fjq7VP\\u002fGoTsqBiuM\\u002fIKG20YiU8D\\u002fQCmKkAj79Pxy80DvsuQ1AFfR\\u002f+RtvGkDZV\\u002f\\u002fD3HseQHwK0\\u002fpVXBlAwPOEYZSPD0CnM0Or7Lz9Pz+e6Ew7L+8\\u002fDt1OCRUE4z\\u002fP0t44MBHaP57OmGw7y9Q\\u002fcYKkyqAm0T9eQuew8dvNP3gznDf4stM\\u002fWZ7t3e5azT9PAD2VNDrPP2QjoTNsstA\\u002f+Fqj3GwI0D\\u002fzjXo7vxrPPzFnrroqc8s\\u002f\\u002fxCjCx7Gzz9lOkARXCvPP4A3px6rENA\\u002fraTmWO9I0T+Z0rcLi2\\u002fMPxUMStvurc8\\u002f2Mr0SRHyzT9i4fScg53RP7N9+8XoKNE\\u002f97wivgsu2D9zQHi473ffP1hPa5r9PeQ\\u002fQv7ocwqz5D9FP3IZAf3hP2b4P\\u002fUM3dg\\u002fPu8wXTD51D+UORqANqnTP4IcWmex+tM\\u002fwCgdtQs31D\\u002f0MtLXQ1\\u002fWP\\u002fmd35gIMNg\\u002fb7tOMUJO0z94r\\u002fZrGerQP55M6Un5k88\\u002faaVwC8WI0D\\u002fFUu3nhh3MP1oxXWEFN88\\u002f8pb0A25EzT9dEp7+uT7NP4KaONiNPdE\\u002fEAWqee4Q0j+3CsTdK4zPPyGgkVGG\\u002fss\\u002f0f4FjWSr0D+VM30GqK\\u002fQP50Lm38O9M8\\u002ftPkh8jmqzD9YxD\\u002fhu6rQP6yhzw8MwNA\\u002f3WL9Y3tHzT9HlTWRK0nQP4GIv1XRJdA\\u002fHhZbIq7R0D9CR1RKUkrSP8mqAKWDSNI\\u002frVrfioqu0T9hNC7bDpHRP1UAjXfNRdE\\u002fjVP2aQ630D+Wd5OzZdfPP4muZtw7ktA\\u002fIEbKW0M2zz8lA8jEu6LQP7eP4MUrEs8\\u002fBT2CBMEczD9Xqs8hTsrNP4bosqSjq84\\u002fEUfznKB7zj\\u002faAGTbHpfNP6I+a\\u002fsFRtA\\u002fvuPPWZPe0D9EewhYmOjQP0CZtpm0C84\\u002fjANvMBbi0D+GPWvKJsjQP6v78opALs4\\u002fimbZQfFyzz9WHoLabmfPP7Fedk69X9A\\u002fBt2QBbE6zz+v6QpNdlvQPxdTdd52MdA\\u002frmNw+Uko0T\\u002fdDgP36JfTPy+OdC3yjtU\\u002frVZW+\\u002fn42D8S2RBGmATaP0r9c\\u002f5zPN0\\u002fx+QFwOw95D+9bQWt45fuP0V48u5YUvk\\u002flrIt2s\\u002fuB0ByWRn3TC0WQAKQuTj7ISJATGNCUZhfJkCEf31bs8UkQCwSxI35jx1ATqMgkrrOD0D++dsdqkEBQMeeFNZKWvM\\u002f7DpYraly6D\\u002fiR0BoAvHgPwGxpaYuqNk\\u002fCISfuQwV1D\\u002fC2f69jTfSP68FS3+pcdA\\u002f5oJxm1Th0T\\u002fRivKc9QzQP0aI79aeqNA\\u002fXoRdk0afzT9LsHL2uFHRP4M18QLy\\u002fc8\\u002fJ76C3f5Xzj9S5Z0v7wHQP2kjEFd2rMw\\u002flXZlmiN8zj+fmTU0JzHPP88dW5zL188\\u002fvDJd95wDzj9m9IsL7TzNPxszKz+Nd88\\u002ff+\\u002fvi8Mv0D\\u002fPU884i9LPP0IX3okgIM4\\u002fU\\u002fCD4pqS0D+cCwEDi9zLP4eJ34FkDM8\\u002fZ89p9O+ezz8H8emuGRrRP3guQjU3RM4\\u002fhNidpMlezj9XUPeoyoHQP\\u002fiOEnWDb84\\u002fKncJM3UVyz\\u002fttMsKWgfQPyFjEwAfb88\\u002fo\\u002f472ZgJzT8mbvpGE8nMP9MA1JwI3cw\\u002fFSnT0w5Pzz+Xtj2ZjZDOP7fTkKgoC84\\u002fQbzSO3rDzj+I2NqktLvNP99iG5aSQ9A\\u002fL9jzVoLJ0D88psptKKDOPxxaRsYPPc8\\u002fWPbQqTY8zD8TbcwLnELQP+nHnfH+F84\\u002fVrbnVtAm0D\\u002fPexIhFZjOPyfZAgBMKs8\\u002fQSsh1ElSzj9qdmydonDQP\\u002f5buiN9mc8\\u002feSdKsuxdzz\\u002fsXT1s2MfNP\\u002fU8yBbJ2M4\\u002ffLIcYa7azj+q6qg7HEbQPwtZ0y3Z1c8\\u002fGWQzml4Uzj8uqJ4JTuDQP4mR24UJlM8\\u002fFZWnAiLnzj\\u002ftIVB4MLXOP9\\u002f0ahYnY84\\u002f7yzOB7Amzz9ESLzpSIrMP+4Zd9KzDc0\\u002fcjmkULNYzz+klLijmzTPPzZnNg6MGM8\\u002f+f2d8Sj4zz\\u002f8+yWY6hvRP2K9Qmt7O9E\\u002fstqM2cmjzz8hFfDuZlvRP3e8Vtk1Us8\\u002fjzUcnwvvzz9QwSUTy2TOPw4yZED+ocw\\u002f6GmsydgyzT+w6A+x\\u002fyLOP2E1gkoEJNA\\u002f3LbNHJdnyz87ZWoRhL\\u002fOP+SnbKbz8c8\\u002fb30HTCfizD85zB1+q4vQPzgOhfs959A\\u002f2k+O+t9H0j+0rcCm8dHSP0Hsg7Zoa9U\\u002fkLYaniOe1z+vstWwjjbePz9Hd+9gPuI\\u002fVntUQgfv5j\\u002ff6\\u002fbtM6TtP5YeH+PEE+8\\u002fLMq6vclX7D+XC8IAA87mP71xYE5qT+E\\u002f+uI8ZSYm2z9vf5aG75HWP605ZLPFotM\\u002fXqwHc9O10z+0s2sKDDDRPwpmpP2b49A\\u002fykYb9z6szj8A1ZdQnsjNPwzBt3Rtx9A\\u002fafLGfFsJzT9V3mIdsoPOP09fQJtrB84\\u002fB8wFlnnv0D+\\u002fhp7YmezNP8A71obKM9E\\u002fGDjevl1z0j9Yf5EaktzSP7Ln72esktU\\u002fgEoj9AR52D\\u002fttFJsbcDcP2xR5U4KSt0\\u002fPobrzuo32z9rJMG+KyzZP\\u002f28F7luzNY\\u002fV2XrDJhD1D+evabhTQfSP+EGvPi6nNE\\u002fL1zpV8b4zj\\u002fu6q2T+JTPP4kYz96Fv80\\u002fbkPtwK8mzT\\u002f16qtBDTvNP8zSCE8BM8s\\u002fQy9hZvnyzT8Spz+G4q7MPzQzpVQdDtA\\u002f77VQpOBizD\\u002f3yrQ4u1DPP06HVdmFusw\\u002fQC5666Wfzj+YzsYoMuLOP9AZi6kQ8Mo\\u002famHTB8fszj8nWdwD3kzNPxG\\u002fVr+dHMw\\u002f18q6LI4UzD95+zrqhZfKPzYiCVbkks0\\u002fwtjym9i5yz+cSM0jDGnMP6CaZLVTRMw\\u002fm7zWF5h4yj9uAK1CZATOPyZuEIkYU8w\\u002fPCWeaLnvzT\\u002f\\u002f+\\u002fZdeprQP6hXVvTvKMw\\u002fvhGjJ8Ofzj+Ld1j\\u002fDB\\u002fOP\\u002fWSGjh3Wc0\\u002fNb6etG2rzj9L\\u002f7WIh27LP5MrQ7flL88\\u002fnER2yF7uzz+3RrlT9J7QP4PxgiCi380\\u002fmZ3\\u002fMdtU0D\\u002fYJoJYh17RP7qYw+fvW9A\\u002fa3EoFODa0T\\u002f4oLujpbnRP1T6k5GjFtQ\\u002fGRSPkaet0z\\u002fJfAsoIK7TP+swcS4vQ9A\\u002fB3JhbkBI0j9T4t\\u002fGkEXRPyKpUzw8E88\\u002f4uj+r8Ktzz9HMVfza2bOP+A38erOus4\\u002f0y2m1bWyzD92D2qrLT3OP+2IuWVxJs8\\u002fr8hYGC7zzT\\u002fvNOV3mgvNP30KyPshmtA\\u002f+rQxW4iKzj8PFwlP4avKP+nd\\u002fc+1Esw\\u002f9faMPaaDyz+V9ChTNt\\u002fPP8cQb4Zdxc4\\u002fojOpQxDIzD+Aue65k5HQP2ki7oNYwM4\\u002fbgdkDykVzD\\u002fANXz8uZHNP0EbZYvCqdA\\u002fPcv8GD6C0D8=\"},\"type\":\"scatter\"},{\"line\":{\"color\":\"rgb(214, 39, 40)\"},\"mode\":\"lines\",\"name\":\"Total calculated (Icalc)\",\"x\":{\"dtype\":\"f8\",\"bdata\":\"k6mCUTXg6kC28\\u002f3U5O7qQPH0SlmU\\u002fepAK\\u002faX3UMM60Bm9+Rh8xrrQKH4MeaiKetAxEKtaVI460D+Q\\u002frtAUfrQDlFR3KxVetAdEaU9mBk60CXkA96EHPrQNGRXP6\\u002fgetADJOpgm+Q60BGlPYGH5\\u002frQIGVQ4vOretApN++Dn6860Df4AuTLcvrQBniWBfd2etAVOOlm4zo60CP5PIfPPfrQLIubqPrBexA7C+7J5sU7EAnMQisSiPsQGEyVTD6MexAnDOitKlA7EC\\u002ffR04WU\\u002fsQPp+arwIXuxANIC3QLhs7EBvgQTFZ3vsQKqCUUkXiuxAzczMzMaY7EAHzhlRdqfsQELPZtUltuxAfdCzWdXE7EC30QDehNPsQNobfGE04uxAFR3J5ePw7EBPHhZqk\\u002f\\u002fsQIofY+5CDu1AxSCwcvIc7UDoaiv2oSvtQCJseHpROu1AXW3F\\u002fgBJ7UCYbhKDsFftQNJvXwdgZu1A9bnaig917UAwuycPv4PtQGq8dJNuku1Apb3BFx6h7UDgvg6cza\\u002ftQAMJih99vu1APQrXoyzN7UB4CyQo3NvtQLMMcayL6u1A7Q2+MDv57UAQWDm06gfuQEtZhjiaFu5AhlrTvEkl7kDAWyBB+TPuQPtcbcWoQu5AHqfoSFhR7kBYqDXNB2DuQJOpglG3bu5AzqrP1WZ97kAIrBxaFozuQCv2l93Fmu5AZvfkYXWp7kCh+DHmJLjuQNv5fmrUxu5AFvvL7oPV7kA5RUdyM+TuQHRGlPbi8u5ArkfhepIB70DpSC7\\u002fQRDvQCNKe4PxHu9ARpT2BqEt70CBlUOLUDzvQLyWkA8AS+9A9pfdk69Z70AxmSoYX2jvQFTjpZsOd+9Aj+TyH76F70DJ5T+kbZTvQATnjCgdo+9AJzEIrMyx70BhMlUwfMDvQJwzorQrz+9A1zTvONvd70ARNjy9iuzvQDSAt0A6++9AuECC4vQE8EBVwaikTAzwQPJBz2akE\\u002fBAj8L1KPwa8EChZ7PqUyLwQD7o2ayrKfBA3GgAbwMx8EB56SYxWzjwQBZqTfOyP\\u002fBAKA8LtQpH8EDFjzF3Yk7wQGIQWDm6VfBAAJF++xFd8ECdEaW9aWTwQK62Yn\\u002fBa\\u002fBATDeJQRlz8EDpt68DcXrwQIY41sXIgfBAJLn8hyCJ8EA1XrpJeJDwQNPe4AvQl\\u002fBAcF8Hzief8EAN4C2Qf6bwQKpgVFLXrfBAvAUSFC+18EBZhjjWhrzwQPcGX5jew\\u002fBAlIeFWjbL8EAxCKwcjtLwQEOtad7l2fBA4C2QoD3h8EB9rrZilejwQBsv3STt7\\u002fBAuK8D50T38EDKVMGonP7wQGfV52r0BfFABFYOLUwN8UCh1jTvoxTxQD9XW7H7G\\u002fFAUPwYc1Mj8UDufD81qyrxQIv9ZfcCMvFAKH6MuVo58UDF\\u002frJ7skDxQNejcD0KSPFAdCSX\\u002f2FP8UASpb3BuVbxQK8l5IMRXvFATKYKRmll8UBeS8gHwWzxQPvL7skYdPFAmEwVjHB78UA2zTtOyILxQNNNYhAgivFA5fIf0neR8UCCc0aUz5jxQB\\u002f0bFYnoPFAvHSTGH+n8UBa9bna1q7xQGuad5wutvFACRueXoa98UCmm8Qg3sTxQEMc6+I1zPFA4JwRpY3T8UDyQc9m5drxQI\\u002fC9Sg94vFALUMc65Tp8UDKw0Kt7PDxQNxoAG9E+PFAeekmMZz\\u002f8UAWak3z8wbyQLPqc7VLDvJAUWuad6MV8kBiEFg5+xzyQACRfvtSJPJAnRGlvaor8kA6kst\\u002fAjPyQNcS8kFaOvJA6bevA7JB8kCGONbFCUnyQCS5\\u002fIdhUPJAwTkjSrlX8kBeukkMEV\\u002fyQHBfB85oZvJADeAtkMBt8kCqYFRSGHXyQEjhehRwfPJA5WGh1seD8kD3Bl+YH4vyQJSHhVp3kvJAMQisHM+Z8kDOiNLeJqHyQGwJ+aB+qPJAfa62Ytav8kAbL90kLrfyQLivA+eFvvJAVTAqqd3F8kDysFBrNc3yQARWDi2N1PJAodY07+Tb8kA\\u002fV1uxPOPyQNzXgXOU6vJAeVioNezx8kCL\\u002fWX3Q\\u002fnyQCh+jLmbAPNAxf6ye\\u002fMH80Bjf9k9Sw\\u002fzQAAAAACjFvNAEqW9wfod80CvJeSDUiXzQEymCkaqLPNA6SYxCAI080CHp1fKWTvzQJhMFYyxQvNANs07TglK80DTTWIQYVHzQHDOiNK4WPNADk+vlBBg80Af9GxWaGfzQLx0kxjAbvNAWvW52hd280D3deCcb33zQJT2Bl\\u002fHhPNAppvEIB+M80BDHOvidpPzQOCcEaXOmvNAfh04Zyai80Abnl4pfqnzQC1DHOvVsPNAysNCrS2480BnRGlvhb\\u002fzQAXFjzHdxvNAokW28zTO80Cz6nO1jNXzQFFrmnfk3PNA7uvAOTzk80CLbOf7k+vzQCntDb7r8vNAOpLLf0P680DXEvJBmwH0QHWTGATzCPRAEhQ\\u002fxkoQ9EAkufyHohf0QME5I0r6HvRAXrpJDFIm9ED7OnDOqS30QJm7lpABNfRAqmBUUlk89EBI4XoUsUP0QOVhodYIS\\u002fRAguLHmGBS9EAgY+5auFn0QDEIrBwQYfRAzojS3mdo9EBsCfmgv2\\u002f0QAmKH2MXd\\u002fRApgpGJW9+9EC4rwPnxoX0QFUwKqkejfRA8rBQa3aU9ECQMXctzpv0QC2yne8lo\\u002fRAP1dbsX2q9EDc14Fz1bH0QHlYqDUtufRAF9nO94TA9EC0WfW53Mf0QMX+sns0z\\u002fRAY3\\u002fZPYzW9EAAAAAA5N30QJ2AJsI75fRAOwFNhJPs9EBMpgpG6\\u002fP0QOkmMQhD+\\u002fRAh6dXypoC9UAkKH6M8gn1QMGopE5KEfVA001iEKIY9UBwzojS+R\\u002f1QA5Pr5RRJ\\u002fVAq8\\u002fVVqku9UBIUPwYATb1QFr1udpYPfVA93XgnLBE9UCU9gZfCEz1QDJ3LSFgU\\u002fVAz\\u002fdT47da9UDgnBGlD2L1QH4dOGdnafVAG55eKb9w9UC4HoXrFnj1QFafq61uf\\u002fVAZ0Rpb8aG9UAFxY8xHo71QKJFtvN1lfVAP8bctc2c9UDcRgN4JaT1QO7rwDl9q\\u002fVAi2zn+9Sy9UAp7Q2+LLr1QMZtNICEwfVAY+5aQtzI9UB1kxgENND1QBIUP8aL1\\u002fVAr5RliOPe9UBNFYxKO+b1QOqVsgyT7fVA+zpwzur09UCZu5aQQvz1QDY8vVKaA\\u002fZA07zjFPIK9kBxPQrXSRL2QILix5ihGfZAIGPuWvkg9kC94xQdUSj2QFpkO9+oL\\u002fZAbAn5oAA39kAJih9jWD72QKYKRiWwRfZARIts5wdN9kDhC5OpX1T2QPKwUGu3W\\u002fZAkDF3LQ9j9kAtsp3vZmr2QMoyxLG+cfZAaLPqcxZ59kB5WKg1boD2QBfZzvfFh\\u002fZAtFn1uR2P9kBR2ht8dZb2QO5aQj7NnfZAAAAAACWl9kCdgCbCfKz2QDsBTYTUs\\u002fZA2IFzRiy79kB1ApoIhML2QIenV8rbyfZAJCh+jDPR9kDBqKROi9j2QF8pyxDj3\\u002fZA\\u002fKnx0jrn9kAOT6+Uku72QKvP1Vbq9fZASFD8GEL99kDl0CLbmQT3QINRSZ3xC\\u002fdAlPYGX0kT90Aydy0hoRr3QM\\u002f3U+P4IfdAbHh6pVAp90AJ+aBnqDD3QBueXikAOPdAuB6F61c\\u002f90BWn6utr0b3QPMf0m8HTvdAkKD4MV9V90CiRbbztlz3QD\\u002fG3LUOZPdA3EYDeGZr90B6xyk6vnL3QBdIUPwVevdAKe0Nvm2B90DGbTSAxYj3QGPuWkIdkPdAAG+BBHWX90Ce76fGzJ73QK+UZYgkpvdATRWMSnyt90DqlbIM1LT3QIcW2c4rvPdAJJf\\u002fkIPD90A2PL1S28r3QNO84xQz0vdAcT0K14rZ90AOvjCZ4uD3QKs+V1s66PdAveMUHZLv90BaZDvf6fb3QPfkYaFB\\u002fvdAlWWIY5kF+EAy5q4l8Qz4QESLbOdIFPhA4QuTqaAb+EB+jLlr+CL4QBsN4C1QKvhALbKd76cx+EDKMsSx\\u002fzj4QGiz6nNXQPhABTQRNq9H+ECitDf4Bk\\u002f4QLRZ9bleVvhAUdobfLZd+EDuWkI+DmX4QIzbaABmbPhAKVyPwr1z+EA7AU2EFXv4QNiBc0ZtgvhAdQKaCMWJ+EASg8DKHJH4QLAD54x0mPhAwaikTsyf+EBfKcsQJKf4QPyp8dJ7rvhAmSoYldO1+EA2qz5XK734QEhQ\\u002fBiDxPhA5dAi29rL+ECDUUmdMtP4QCDSb1+K2vhAvVKWIeLh+EDP91PjOen4QGx4eqWR8PhACfmgZ+n3+ECneccpQf\\u002f4QET67euYBvlAVp+rrfAN+UDzH9JvSBX5QJCg+DGgHPlALSEf9Pcj+UDLoUW2Tyv5QNxGA3inMvlAescpOv85+UAXSFD8VkH5QLTIdr6uSPlAUkmdgAZQ+UBj7lpCXlf5QABvgQS2XvlAnu+nxg1m+UA7cM6IZW35QNjw9Eq9dPlA6pWyDBV8+UCHFtnObIP5QCSX\\u002f5DEivlAwhcmUxyS+UBfmEwVdJn5QHE9CtfLoPlADr4wmSOo+UCrPldbe6\\u002f5QEi\\u002ffR3TtvlA5j+k3yq++UA=\"},\"y\":{\"dtype\":\"f8\",\"bdata\":\"jjcZdnhu0j\\u002fe8ihm1nbSPzq+C\\u002fc4dNI\\u002fSbh1Ucxk0j+GrybxFVDSP2mBeKz8PtI\\u002fbJKBZa400j\\u002f3rAwrYDDSPz4DjYh0M9I\\u002f6O3jfhBJ0j9Hsgh1vpbSP8rRlz0rhdM\\u002fQjsqMlEA1j81GMmIVXDbP3NvK9gWQeI\\u002f9jyKDxJg5z\\u002fQTgBiGyLqP+4BGqJsV+g\\u002fzqnTwrYu4z9+JvcEeO\\u002fbP4eKg0zNiNU\\u002fytqoymHi0j9p9i4SiRrSP1ZuSUH67NE\\u002flmbb9Qvi0T826qrp0dzRP8P1q9dS2NE\\u002fnFWQwufT0T8TH\\u002fGcfs\\u002fRP8JnMqYVy9E\\u002fDTTBtKzG0T8kV1LFQ8LRP+JKhdvavdE\\u002fKfLQAnK50T9rDwNeCbXRP7F831WhsNE\\u002fJWhrITus0T8jgYJa2qfRP8+Pm5OJo9E\\u002f9y\\u002f1nmef0T9Yv42vzZvRP0\\u002foXwq8mdE\\u002fNj3DIQ2c0T8x55SwOK\\u002fRPzTsj6Hd5dE\\u002ffqWe24110j8Oeq3kgczTP0k4xMD5cdY\\u002fyKa8GGNO2j\\u002fwH5DJMr7dPxuC6srRSd4\\u002fXENCDXBS2z+\\u002f1roUyAPXP2YNVdXKzdM\\u002fSnwl3qFG0j+X1PaoYcbRP+YiXBAaqNE\\u002fzy7kbzej0T+5+RrGYKPRPxBRBKJlpNE\\u002fF8oJOJOl0T8whPtj2KbRP\\u002fRtpFNPqNE\\u002fAEGrwUeq0T8CVudjjq3RP4mOZlX8s9E\\u002fhUL6Y9\\u002fA0T97AvdtGtfRP7w3N6vM8tE\\u002fqQZn9hEF0j+CiSzpiP\\u002fRP6oLnsiG5tE\\u002fuLUdn5vM0T9E8cPNiL3RP8C9I3w0uNE\\u002f6kRxv3630T\\u002fC1c6KRrjRPz8u41uAudE\\u002fPzUECwy70T+ig5koPr3RP9n7OpIQwdE\\u002ftDbLQQHJ0T9NeekzU9vRP79xnACmB9I\\u002fi5uUy7V00j96BTYtyoHTP3CqixraFNY\\u002f64JXG6Q03D++W8zBPcrkP\\u002fnWbV\\u002fMcPA\\u002fLoVw37Ey+D\\u002fbkMCQTEn9P9NA7ZORSfs\\u002fwGx7vPeH8z+i23hyYlLnP2WPCWjkKtw\\u002fPQLsuozO1D8C7BhHBZTSPzMIbqZKAdI\\u002f9RwLwHje0T\\u002fKbxaxBdfRP4ogQx5b1tE\\u002fVKnBQ8TX0T++skKOsNrRPzvEzIRb4NE\\u002fLvzbgE7s0T8qNrSL+wbSP4UBLscaRNI\\u002fu7O8ZV7R0j+qdv2BDBjUPyWYxI4nCdc\\u002fAi04KuPF3T\\u002fg4GxZ03PmP0NXThJ2MPM\\u002fASnU7dmuAECqpplYfq0JQH8dPOu0RA9AItmqTJRVDECrchzskQYDQK4K4pXdUPQ\\u002fTqvRIoem5D\\u002fU1O11+VnZP6UBHLYzJ9Q\\u002f1HORDF+Y0j8gxnjT8yLSP4xhGviWANI\\u002fGA368PP20T+J5pwzyfTRPyF3Ac9L7tE\\u002fiapgHmbl0T9w4lgvwtzRP3vUOO5C1NE\\u002fmSPD8vHL0T\\u002fbyeBb+8PRPx5iy3fGvNE\\u002fjV7DCzW30T91pXqKLbXRP3S05S3ButE\\u002f7U9Qu5jQ0T8YEwFTCQnSP43C+4BzitI\\u002fKB2z8R6h0z+qKqpFjMXVP\\u002fhFx34LNNk\\u002fM3n90gHE3D8\\u002fR7FJYsTdP0ZeFkOYB9s\\u002fEgy9Ch\\u002fO1j8oep\\u002fdFrHTPzZo7reFJtI\\u002fgsvgxVqG0T9sVHvB8kbRP7VaWY\\u002fCKtE\\u002f2jLzuBkb0T9GVPL87Q\\u002fRP679VrpiBtE\\u002fDCoINXD90D9FhXlftvTQP8VC\\u002f9oR7NA\\u002fYP\\u002fbgnXj0D97Vqt63NrQP2NwoRdF0tA\\u002fyVvEFq\\u002fJ0D+CC9okG8HQP72fYxaLuNA\\u002fM07JzwKw0D+ZW643iqfQP8dRnygxn9A\\u002f2V5RQReX0D\\u002fHEmc+e4\\u002fQPxzClQvZiNA\\u002fZfQwQySE0D+OaeiLOYPQP+3XSC64idA\\u002fyO+FFYie0D+vflhQWM3QP+6fq8W7INE\\u002fH0D901eF0T82H8HlfbLRP2gjZijmcNE\\u002fVu9lqkjx0D\\u002fMfuvhQobQP+0CsxX+R9A\\u002fSR0aBj0n0D9dAUlRWhTQPy+6u7diB9A\\u002fNXAUeNb5zz8d8TZ6COfPPzbAzrYk1c8\\u002fiQ0cxabDzz8igj\\u002f2VbLPP6gbl0Iaoc8\\u002fD8BiR+qPzz9NkmAWxH7PP0erkxSrbc8\\u002fvNSl+Khczz8Sjy\\u002fJ0UvPP3gZ8mJMO88\\u002fggYH7GIrzz\\u002fMm9rRoRzPP8sykMUREM8\\u002fb1GJVqMHzz9BK3k39gbPP7R\\u002f0N\\u002fHFM8\\u002fASsFfpQ9zz+kE1XPYpjPP2Zs\\u002fnm+J9A\\u002fxEgOzR3Y0D\\u002fZAzwIvyPSP14Iay9iitQ\\u002f8w0X68Ty2D+fWTq\\u002f+33gPzS08T+wxuc\\u002fq523Ufh18j8MFh1b3yP+P3maISm0wwhAEo3HH4bBEkAUnzmUcTkXQEnj33lMnhVAP4XsmlBvDkDQBWXWc94BQM7EUR+EEPQ\\u002fR5d9L4zZ5z\\u002fqS8CaH4ffP26+gEPzgNc\\u002fVRdvl4KA0z+SdHzDcH\\u002fRP37LuMgNftA\\u002fgqkhJ8L6zz92Ccpm3nvPPwZw0muJP88\\u002f566EYmIlzz8stVra5RzPP2V9TeyZHc8\\u002fmg+krR0jzz935ixIKivPP6vPSNyONM8\\u002fgynk5ao+zz9jbTRjKUnPP7BBjQfdU88\\u002fjqLnia1ezz+pXTzRjWnPP5TON8J2dM8\\u002ftZHefWR\\u002fzz\\u002fSsfLiVIrPPyS59cRGlc8\\u002fwc4UfTmgzz9tX5utLKvPPzqxhSMgts8\\u002fceq8wBPBzz8NLId0B8zPP+OzWjX71s8\\u002foW8j\\u002fe7hzz+cF\\u002fPJ4uzPP5nsWZnW988\\u002fftMjNWUB0D8vgQ4e3wbQP5fu7wZZDNA\\u002fC9FI8NIR0D+rgrrZTBfQP9kwO8PGHNA\\u002fjfjErEAi0D9kGQaWuifQP3XVmH80LdA\\u002fGqstaa4y0D9wz8NSKDjQP4vHWjyiPdA\\u002f7BakJRxD0D9V\\u002fTsPlkjQP4431PgPTtA\\u002f+8ts4olT0D992gXMA1nQP41zUbV9XtA\\u002fhHzsnvdj0D9on4mIcWnQP6tbKnLrbtA\\u002fa0LRW2V00D8jgDRF33nQP8Xp9y5Zf9A\\u002fl9nZGNOE0D9qdO8CTYrQP1k5XO3Gj9A\\u002fYksN2ECV0D9X\\u002fAHEuprQP39PkLE0oNA\\u002fjvPHoa6l0D80AWmWKKvQP2JGBZKisNA\\u002f0rLumRy20D97x4W1lrvQP1oqSPEQwdA\\u002fqkd0YYvG0D8C+G0mBszQP\\u002fDZbnWB0dA\\u002ffCuKov3W0D9tBKs0e9zQP4J+sQL74dA\\u002fi3ySYX7n0D\\u002fwza21d+nQP3kTRjgE59A\\u002f7igF9p7k0D\\u002fRhC0gUOLQP7n6U4Ek4NA\\u002fWKwGATDe0D+G78SBkdzQPyijOsF429A\\u002fK5pzVi\\u002fb0D\\u002fC64NIJtzQP9d5j6QK39A\\u002fRAdVkeTk0D9gOLXVRe\\u002fQP6XP88uPANE\\u002fSrnfZVsc0T8\\u002fAlh0FEjRPwI1Eyjfi9E\\u002fXJDMWuzz0T+ztB9nbZLSP0FQJUN0gtM\\u002fBw8oASTs1D+yjCkCgQrXP6B8pcrELto\\u002fSqt4kCqc3j9cZQV+mejhP\\u002f7MJZrmxuM\\u002fWL\\u002fI15uP4z\\u002f1U21GB2HhP52\\u002f7iMxWt0\\u002fpcDMRFMB2T9UjPAlvQzWP3KIj1pIIdQ\\u002fhF96ZWPj0j8NIm4W7BTSPye+BkISjtE\\u002fAQ79A2Y10T9N3m6VmfrQP8qyw28x09A\\u002fCrvxHGq40D94H0To4qXQP2DEuSbEmNA\\u002f82h9sjOP0D+yYNe6+4fQP1Px+hZRgtA\\u002fzwIdK6590D8hJhTWunnQPzKYz8Q8dtA\\u002f8OoTPw1z0D+QfUt+EnDQP5Gav0w7bdA\\u002fqLf4Inxq0D+p3S9DzWfQP57U3XUpZdA\\u002f+74HNY1i0D8Szmkd9l\\u002fQP2jlI5BiXdA\\u002fOe+XctFa0D9z0g0EQljQP7NlM8GzVdA\\u002f05EjUCZT0D8C4XN0mVDQPypR7QUNTtA\\u002f+mMa64BL0D9Bd+sV9UjQP2YqMYFpRtA\\u002fslLeMN5D0D8H5\\u002fUxU0HQP8PEdpzIPtA\\u002fxdWWlj480D+zwiRZtTnQP5jchjctN9A\\u002fY+uAqaY00D976Q5aIjLQP2Cn2zuhL9A\\u002fLKaZpSQt0D\\u002fVGUB6rirQP+Y4GWBBKNA\\u002fTvZWDOEl0D+5OCiskiPQPwgJtnNdIdA\\u002fbUfCY0sf0D9DibhTah3QPzz6NV7NG9A\\u002fvogh0I4a0D\\u002fKqLbE0hnQP5uLGu8lGNA\\u002fkIsxLg0U0D8WoFOsRxHQPxPPfxdSENA\\u002ffMU8T9UR0D8wYulQtRbQP7FWYCElINA\\u002fat1vK8Ev0D\\u002fKory6sUfQP7nso5\\u002fYatA\\u002fBCAVwwqd0D\\u002ftbeiuROPQP04h0\\u002fc5Q9E\\u002fkobXz5+\\u002f0T\\u002f+wWf77UzSPw8foy4HxNI\\u002fMyDr5Ovs0j+BGtqbjKvSP4g84h\\u002fBHNI\\u002faD9pU8F50T\\u002fyb4v38erQP6BRe4ATfNA\\u002fZzlewG8p0D9\\u002frralANjPPxRDWq2fe88\\u002fNcTkcQI1zz9R6\\u002fJN8f3OP2vVuBcB0s4\\u002fEg6qUwyuzj\\u002foaqZa1I\\u002fOPz\\u002fs1Fy+dc4\\u002fhd559aNezj9dS37XsUnOPxgU6fNPNs4\\u002fodhxsRAkzj88cuTnpBLOP79fxEvTAc4\\u002fHdEFT3LxzT9zRMG9Y+HNP7der56R0c0\\u002fJbXF5+vBzT9Yc6PhZrLNP0fAqvf5os0\\u002fiGrz3J6TzT8eHWnxUITNP79zEs0Mdc0\\u002f7\\u002fg57M9lzT8=\"},\"type\":\"scatter\"}],                        {\"legend\":{\"x\":1.0,\"xanchor\":\"right\",\"y\":1.0,\"yanchor\":\"top\"},\"margin\":{\"autoexpand\":true,\"b\":45,\"r\":30,\"t\":40},\"title\":{\"text\":\"Measured vs Calculated data for experiment \\ud83d\\udd2c 'sim_lbco'\"},\"xaxis\":{\"mirror\":true,\"showline\":true,\"title\":{\"text\":\"TOF (\\u00b5s)\"},\"zeroline\":false,\"tickformat\":\",.6~g\",\"separatethousands\":true},\"yaxis\":{\"mirror\":true,\"showline\":true,\"title\":{\"text\":\"Intensity (arb. units)\"},\"zeroline\":false,\"tickformat\":\",.6~g\",\"separatethousands\":true},\"template\":{\"data\":{\"histogram2dcontour\":[{\"type\":\"histogram2dcontour\",\"colorbar\":{\"outlinewidth\":0,\"ticks\":\"\"},\"colorscale\":[[0.0,\"#0d0887\"],[0.1111111111111111,\"#46039f\"],[0.2222222222222222,\"#7201a8\"],[0.3333333333333333,\"#9c179e\"],[0.4444444444444444,\"#bd3786\"],[0.5555555555555556,\"#d8576b\"],[0.6666666666666666,\"#ed7953\"],[0.7777777777777778,\"#fb9f3a\"],[0.8888888888888888,\"#fdca26\"],[1.0,\"#f0f921\"]]}],\"choropleth\":[{\"type\":\"choropleth\",\"colorbar\":{\"outlinewidth\":0,\"ticks\":\"\"}}],\"histogram2d\":[{\"type\":\"histogram2d\",\"colorbar\":{\"outlinewidth\":0,\"ticks\":\"\"},\"colorscale\":[[0.0,\"#0d0887\"],[0.1111111111111111,\"#46039f\"],[0.2222222222222222,\"#7201a8\"],[0.3333333333333333,\"#9c179e\"],[0.4444444444444444,\"#bd3786\"],[0.5555555555555556,\"#d8576b\"],[0.6666666666666666,\"#ed7953\"],[0.7777777777777778,\"#fb9f3a\"],[0.8888888888888888,\"#fdca26\"],[1.0,\"#f0f921\"]]}],\"heatmap\":[{\"type\":\"heatmap\",\"colorbar\":{\"outlinewidth\":0,\"ticks\":\"\"},\"colorscale\":[[0.0,\"#0d0887\"],[0.1111111111111111,\"#46039f\"],[0.2222222222222222,\"#7201a8\"],[0.3333333333333333,\"#9c179e\"],[0.4444444444444444,\"#bd3786\"],[0.5555555555555556,\"#d8576b\"],[0.6666666666666666,\"#ed7953\"],[0.7777777777777778,\"#fb9f3a\"],[0.8888888888888888,\"#fdca26\"],[1.0,\"#f0f921\"]]}],\"contourcarpet\":[{\"type\":\"contourcarpet\",\"colorbar\":{\"outlinewidth\":0,\"ticks\":\"\"}}],\"contour\":[{\"type\":\"contour\",\"colorbar\":{\"outlinewidth\":0,\"ticks\":\"\"},\"colorscale\":[[0.0,\"#0d0887\"],[0.1111111111111111,\"#46039f\"],[0.2222222222222222,\"#7201a8\"],[0.3333333333333333,\"#9c179e\"],[0.4444444444444444,\"#bd3786\"],[0.5555555555555556,\"#d8576b\"],[0.6666666666666666,\"#ed7953\"],[0.7777777777777778,\"#fb9f3a\"],[0.8888888888888888,\"#fdca26\"],[1.0,\"#f0f921\"]]}],\"surface\":[{\"type\":\"surface\",\"colorbar\":{\"outlinewidth\":0,\"ticks\":\"\"},\"colorscale\":[[0.0,\"#0d0887\"],[0.1111111111111111,\"#46039f\"],[0.2222222222222222,\"#7201a8\"],[0.3333333333333333,\"#9c179e\"],[0.4444444444444444,\"#bd3786\"],[0.5555555555555556,\"#d8576b\"],[0.6666666666666666,\"#ed7953\"],[0.7777777777777778,\"#fb9f3a\"],[0.8888888888888888,\"#fdca26\"],[1.0,\"#f0f921\"]]}],\"mesh3d\":[{\"type\":\"mesh3d\",\"colorbar\":{\"outlinewidth\":0,\"ticks\":\"\"}}],\"scatter\":[{\"fillpattern\":{\"fillmode\":\"overlay\",\"size\":10,\"solidity\":0.2},\"type\":\"scatter\"}],\"parcoords\":[{\"type\":\"parcoords\",\"line\":{\"colorbar\":{\"outlinewidth\":0,\"ticks\":\"\"}}}],\"scatterpolargl\":[{\"type\":\"scatterpolargl\",\"marker\":{\"colorbar\":{\"outlinewidth\":0,\"ticks\":\"\"}}}],\"bar\":[{\"error_x\":{\"color\":\"#2a3f5f\"},\"error_y\":{\"color\":\"#2a3f5f\"},\"marker\":{\"line\":{\"color\":\"white\",\"width\":0.5},\"pattern\":{\"fillmode\":\"overlay\",\"size\":10,\"solidity\":0.2}},\"type\":\"bar\"}],\"scattergeo\":[{\"type\":\"scattergeo\",\"marker\":{\"colorbar\":{\"outlinewidth\":0,\"ticks\":\"\"}}}],\"scatterpolar\":[{\"type\":\"scatterpolar\",\"marker\":{\"colorbar\":{\"outlinewidth\":0,\"ticks\":\"\"}}}],\"histogram\":[{\"marker\":{\"pattern\":{\"fillmode\":\"overlay\",\"size\":10,\"solidity\":0.2}},\"type\":\"histogram\"}],\"scattergl\":[{\"type\":\"scattergl\",\"marker\":{\"colorbar\":{\"outlinewidth\":0,\"ticks\":\"\"}}}],\"scatter3d\":[{\"type\":\"scatter3d\",\"line\":{\"colorbar\":{\"outlinewidth\":0,\"ticks\":\"\"}},\"marker\":{\"colorbar\":{\"outlinewidth\":0,\"ticks\":\"\"}}}],\"scattermap\":[{\"type\":\"scattermap\",\"marker\":{\"colorbar\":{\"outlinewidth\":0,\"ticks\":\"\"}}}],\"scattermapbox\":[{\"type\":\"scattermapbox\",\"marker\":{\"colorbar\":{\"outlinewidth\":0,\"ticks\":\"\"}}}],\"scatterternary\":[{\"type\":\"scatterternary\",\"marker\":{\"colorbar\":{\"outlinewidth\":0,\"ticks\":\"\"}}}],\"scattercarpet\":[{\"type\":\"scattercarpet\",\"marker\":{\"colorbar\":{\"outlinewidth\":0,\"ticks\":\"\"}}}],\"carpet\":[{\"aaxis\":{\"endlinecolor\":\"#2a3f5f\",\"gridcolor\":\"#C8D4E3\",\"linecolor\":\"#C8D4E3\",\"minorgridcolor\":\"#C8D4E3\",\"startlinecolor\":\"#2a3f5f\"},\"baxis\":{\"endlinecolor\":\"#2a3f5f\",\"gridcolor\":\"#C8D4E3\",\"linecolor\":\"#C8D4E3\",\"minorgridcolor\":\"#C8D4E3\",\"startlinecolor\":\"#2a3f5f\"},\"type\":\"carpet\"}],\"table\":[{\"cells\":{\"fill\":{\"color\":\"#EBF0F8\"},\"line\":{\"color\":\"white\"}},\"header\":{\"fill\":{\"color\":\"#C8D4E3\"},\"line\":{\"color\":\"white\"}},\"type\":\"table\"}],\"barpolar\":[{\"marker\":{\"line\":{\"color\":\"white\",\"width\":0.5},\"pattern\":{\"fillmode\":\"overlay\",\"size\":10,\"solidity\":0.2}},\"type\":\"barpolar\"}],\"pie\":[{\"automargin\":true,\"type\":\"pie\"}]},\"layout\":{\"autotypenumbers\":\"strict\",\"colorway\":[\"#636efa\",\"#EF553B\",\"#00cc96\",\"#ab63fa\",\"#FFA15A\",\"#19d3f3\",\"#FF6692\",\"#B6E880\",\"#FF97FF\",\"#FECB52\"],\"font\":{\"color\":\"#2a3f5f\"},\"hovermode\":\"closest\",\"hoverlabel\":{\"align\":\"left\"},\"paper_bgcolor\":\"white\",\"plot_bgcolor\":\"white\",\"polar\":{\"bgcolor\":\"white\",\"angularaxis\":{\"gridcolor\":\"#EBF0F8\",\"linecolor\":\"#EBF0F8\",\"ticks\":\"\"},\"radialaxis\":{\"gridcolor\":\"#EBF0F8\",\"linecolor\":\"#EBF0F8\",\"ticks\":\"\"}},\"ternary\":{\"bgcolor\":\"white\",\"aaxis\":{\"gridcolor\":\"#DFE8F3\",\"linecolor\":\"#A2B1C6\",\"ticks\":\"\"},\"baxis\":{\"gridcolor\":\"#DFE8F3\",\"linecolor\":\"#A2B1C6\",\"ticks\":\"\"},\"caxis\":{\"gridcolor\":\"#DFE8F3\",\"linecolor\":\"#A2B1C6\",\"ticks\":\"\"}},\"coloraxis\":{\"colorbar\":{\"outlinewidth\":0,\"ticks\":\"\"}},\"colorscale\":{\"sequential\":[[0.0,\"#0d0887\"],[0.1111111111111111,\"#46039f\"],[0.2222222222222222,\"#7201a8\"],[0.3333333333333333,\"#9c179e\"],[0.4444444444444444,\"#bd3786\"],[0.5555555555555556,\"#d8576b\"],[0.6666666666666666,\"#ed7953\"],[0.7777777777777778,\"#fb9f3a\"],[0.8888888888888888,\"#fdca26\"],[1.0,\"#f0f921\"]],\"sequentialminus\":[[0.0,\"#0d0887\"],[0.1111111111111111,\"#46039f\"],[0.2222222222222222,\"#7201a8\"],[0.3333333333333333,\"#9c179e\"],[0.4444444444444444,\"#bd3786\"],[0.5555555555555556,\"#d8576b\"],[0.6666666666666666,\"#ed7953\"],[0.7777777777777778,\"#fb9f3a\"],[0.8888888888888888,\"#fdca26\"],[1.0,\"#f0f921\"]],\"diverging\":[[0,\"#8e0152\"],[0.1,\"#c51b7d\"],[0.2,\"#de77ae\"],[0.3,\"#f1b6da\"],[0.4,\"#fde0ef\"],[0.5,\"#f7f7f7\"],[0.6,\"#e6f5d0\"],[0.7,\"#b8e186\"],[0.8,\"#7fbc41\"],[0.9,\"#4d9221\"],[1,\"#276419\"]]},\"xaxis\":{\"gridcolor\":\"#EBF0F8\",\"linecolor\":\"#EBF0F8\",\"ticks\":\"\",\"title\":{\"standoff\":15},\"zerolinecolor\":\"#EBF0F8\",\"automargin\":true,\"zerolinewidth\":2},\"yaxis\":{\"gridcolor\":\"#EBF0F8\",\"linecolor\":\"#EBF0F8\",\"ticks\":\"\",\"title\":{\"standoff\":15},\"zerolinecolor\":\"#EBF0F8\",\"automargin\":true,\"zerolinewidth\":2},\"scene\":{\"xaxis\":{\"backgroundcolor\":\"white\",\"gridcolor\":\"#DFE8F3\",\"linecolor\":\"#EBF0F8\",\"showbackground\":true,\"ticks\":\"\",\"zerolinecolor\":\"#EBF0F8\",\"gridwidth\":2},\"yaxis\":{\"backgroundcolor\":\"white\",\"gridcolor\":\"#DFE8F3\",\"linecolor\":\"#EBF0F8\",\"showbackground\":true,\"ticks\":\"\",\"zerolinecolor\":\"#EBF0F8\",\"gridwidth\":2},\"zaxis\":{\"backgroundcolor\":\"white\",\"gridcolor\":\"#DFE8F3\",\"linecolor\":\"#EBF0F8\",\"showbackground\":true,\"ticks\":\"\",\"zerolinecolor\":\"#EBF0F8\",\"gridwidth\":2}},\"shapedefaults\":{\"line\":{\"color\":\"#2a3f5f\"}},\"annotationdefaults\":{\"arrowcolor\":\"#2a3f5f\",\"arrowhead\":0,\"arrowwidth\":1},\"geo\":{\"bgcolor\":\"white\",\"landcolor\":\"white\",\"subunitcolor\":\"#C8D4E3\",\"showland\":true,\"showlakes\":true,\"lakecolor\":\"white\"},\"title\":{\"x\":0.05},\"mapbox\":{\"style\":\"light\"}}}},                        {\"displaylogo\": false, \"modeBarButtonsToRemove\": [\"select2d\", \"lasso2d\", \"zoomIn2d\", \"zoomOut2d\", \"autoScale2d\"], \"responsive\": true}                    )                };            </script>        </div>"
      ],
      "text/plain": [
       "<IPython.core.display.HTML object>"
      ]
     },
     "metadata": {},
     "output_type": "display_data"
    }
   ],
   "source": [
    "project_2.plot_meas_vs_calc(expt_name='sim_lbco')"
   ]
  },
  {
   "cell_type": "markdown",
   "id": "155",
   "metadata": {},
   "source": [
    "#### Exercise 5.4: Refine the LBCO Lattice Parameter\n",
    "\n",
    "To improve the fit, refine the lattice parameters of the LBCO phase."
   ]
  },
  {
   "cell_type": "markdown",
   "id": "156",
   "metadata": {},
   "source": [
    "**Hint:**"
   ]
  },
  {
   "cell_type": "markdown",
   "id": "157",
   "metadata": {},
   "source": [
    "To achieve this, we will set the `free` attribute of the `length_a`\n",
    "parameter of the LBCO cell to `True`.\n",
    "\n",
    "LBCO has a cubic crystal structure (space group `P m -3 m`), which means\n",
    "that `length_b` and `length_c` are constrained to be equal to `length_a`.\n",
    "Therefore, only `length_a` needs to be refined; the other two will be\n",
    "updated automatically. All cell angles are fixed at 90°, so they do not\n",
    "require refinement."
   ]
  },
  {
   "cell_type": "markdown",
   "id": "158",
   "metadata": {},
   "source": [
    "**Solution:**"
   ]
  },
  {
   "cell_type": "code",
   "execution_count": 43,
   "id": "159",
   "metadata": {
    "execution": {
     "iopub.execute_input": "2025-08-31T19:33:12.738070Z",
     "iopub.status.busy": "2025-08-31T19:33:12.737950Z",
     "iopub.status.idle": "2025-08-31T19:33:13.593643Z",
     "shell.execute_reply": "2025-08-31T19:33:13.589439Z"
    }
   },
   "outputs": [
    {
     "name": "stdout",
     "output_type": "stream",
     "text": [
      "\n",
      "\u001b[94m\u001b[1mUsing experiment 🔬 \u001b[0m'sim_lbco'\u001b[94m\u001b[1m for \u001b[0m'single'\u001b[94m\u001b[1m fitting\u001b[0m\n",
      "🚀 Starting fit process with 'lmfit (leastsq)'...\n",
      "📈 Goodness-of-fit (reduced χ²) change:\n"
     ]
    },
    {
     "data": {
      "text/html": [
       "<table class=\"dataframe\" style=\"border-collapse: collapse; border: 1px solid #515155; margin-left: 0.5em;margin-top: 0.5em;margin-bottom: 1em;\">\n",
       "  <thead>\n",
       "    <tr style=\"text-align: right;\">\n",
       "      <th style=\"text-align: center;\">iteration</th>\n",
       "      <th style=\"text-align: center;\">χ²</th>\n",
       "      <th style=\"text-align: center;\">improvement [%]</th>\n",
       "    </tr>\n",
       "  </thead>\n",
       "  <tbody>\n",
       "    <tr>\n",
       "      <td><div style=\"text-align: center;\">1</div></td>\n",
       "      <td><div style=\"text-align: center;\">70.43</div></td>\n",
       "      <td><div style=\"text-align: center;\"></div></td>\n",
       "    </tr>\n",
       "    <tr>\n",
       "      <td><div style=\"text-align: center;\">13</div></td>\n",
       "      <td><div style=\"text-align: center;\">11.61</div></td>\n",
       "      <td><div style=\"text-align: center;\">83.5% ↓</div></td>\n",
       "    </tr>\n",
       "    <tr>\n",
       "      <td><div style=\"text-align: center;\">23</div></td>\n",
       "      <td><div style=\"text-align: center;\">5.07</div></td>\n",
       "      <td><div style=\"text-align: center;\">56.3% ↓</div></td>\n",
       "    </tr>\n",
       "    <tr>\n",
       "      <td><div style=\"text-align: center;\">33</div></td>\n",
       "      <td><div style=\"text-align: center;\">4.84</div></td>\n",
       "      <td><div style=\"text-align: center;\">4.6% ↓</div></td>\n",
       "    </tr>\n",
       "    <tr>\n",
       "      <td><div style=\"text-align: center;\">65</div></td>\n",
       "      <td><div style=\"text-align: center;\">4.84</div></td>\n",
       "      <td><div style=\"text-align: center;\"></div></td>\n",
       "    </tr>\n",
       "  </tbody>\n",
       "</table>"
      ],
      "text/plain": [
       "<IPython.core.display.HTML object>"
      ]
     },
     "metadata": {},
     "output_type": "display_data"
    },
    {
     "name": "stdout",
     "output_type": "stream",
     "text": [
      "🏆 Best goodness-of-fit (reduced χ²) is 4.84 at iteration 53\n",
      "✅ Fitting complete.\n",
      "\n",
      "\u001b[94m\u001b[1mFit results\u001b[0m\n",
      "✅ Success: True\n",
      "⏱️ Fitting time: 0.46 seconds\n",
      "📏 Goodness-of-fit (reduced χ²): 4.84\n",
      "📏 R-factor (Rf): 6.84%\n",
      "📏 R-factor squared (Rf²): 6.38%\n",
      "📏 Weighted R-factor (wR): 5.62%\n",
      "📈 Fitted parameters:\n"
     ]
    },
    {
     "data": {
      "text/html": [
       "<table class=\"dataframe\" style=\"border-collapse: collapse; border: 1px solid #515155; margin-left: 0.5em;margin-top: 0.5em;margin-bottom: 1em;\">\n",
       "  <thead>\n",
       "    <tr style=\"text-align: right;\">\n",
       "      <th></th>\n",
       "      <th style=\"text-align: left;\">datablock</th>\n",
       "      <th style=\"text-align: left;\">category</th>\n",
       "      <th style=\"text-align: left;\">entry</th>\n",
       "      <th style=\"text-align: left;\">parameter</th>\n",
       "      <th style=\"text-align: right;\">start</th>\n",
       "      <th style=\"text-align: right;\">fitted</th>\n",
       "      <th style=\"text-align: right;\">uncertainty</th>\n",
       "      <th style=\"text-align: left;\">units</th>\n",
       "      <th style=\"text-align: right;\">change</th>\n",
       "    </tr>\n",
       "  </thead>\n",
       "  <tbody>\n",
       "    <tr>\n",
       "      <th>1</th>\n",
       "      <td><div style=\"text-align: left;\">lbco</div></td>\n",
       "      <td><div style=\"text-align: left;\">cell</div></td>\n",
       "      <td><div style=\"text-align: left;\"></div></td>\n",
       "      <td><div style=\"text-align: left;\">length_a</div></td>\n",
       "      <td><div style=\"text-align: right;\">3.8800</div></td>\n",
       "      <td><div style=\"text-align: right;\">3.8922</div></td>\n",
       "      <td><div style=\"text-align: right;\">0.0001</div></td>\n",
       "      <td><div style=\"text-align: left;\">Å</div></td>\n",
       "      <td><div style=\"text-align: right;\">0.31 % ↑</div></td>\n",
       "    </tr>\n",
       "    <tr>\n",
       "      <th>2</th>\n",
       "      <td><div style=\"text-align: left;\">sim_lbco</div></td>\n",
       "      <td><div style=\"text-align: left;\">background</div></td>\n",
       "      <td><div style=\"text-align: left;\">50000</div></td>\n",
       "      <td><div style=\"text-align: left;\">y</div></td>\n",
       "      <td><div style=\"text-align: right;\">0.2974</div></td>\n",
       "      <td><div style=\"text-align: right;\">0.2745</div></td>\n",
       "      <td><div style=\"text-align: right;\">0.0497</div></td>\n",
       "      <td><div style=\"text-align: left;\"></div></td>\n",
       "      <td><div style=\"text-align: right;\">7.70 % ↓</div></td>\n",
       "    </tr>\n",
       "    <tr>\n",
       "      <th>3</th>\n",
       "      <td><div style=\"text-align: left;\">sim_lbco</div></td>\n",
       "      <td><div style=\"text-align: left;\">background</div></td>\n",
       "      <td><div style=\"text-align: left;\">60000</div></td>\n",
       "      <td><div style=\"text-align: left;\">y</div></td>\n",
       "      <td><div style=\"text-align: right;\">0.2745</div></td>\n",
       "      <td><div style=\"text-align: right;\">0.2586</div></td>\n",
       "      <td><div style=\"text-align: right;\">0.0101</div></td>\n",
       "      <td><div style=\"text-align: left;\"></div></td>\n",
       "      <td><div style=\"text-align: right;\">5.77 % ↓</div></td>\n",
       "    </tr>\n",
       "    <tr>\n",
       "      <th>4</th>\n",
       "      <td><div style=\"text-align: left;\">sim_lbco</div></td>\n",
       "      <td><div style=\"text-align: left;\">background</div></td>\n",
       "      <td><div style=\"text-align: left;\">70000</div></td>\n",
       "      <td><div style=\"text-align: left;\">y</div></td>\n",
       "      <td><div style=\"text-align: right;\">0.2805</div></td>\n",
       "      <td><div style=\"text-align: right;\">0.2592</div></td>\n",
       "      <td><div style=\"text-align: right;\">0.0066</div></td>\n",
       "      <td><div style=\"text-align: left;\"></div></td>\n",
       "      <td><div style=\"text-align: right;\">7.58 % ↓</div></td>\n",
       "    </tr>\n",
       "    <tr>\n",
       "      <th>5</th>\n",
       "      <td><div style=\"text-align: left;\">sim_lbco</div></td>\n",
       "      <td><div style=\"text-align: left;\">background</div></td>\n",
       "      <td><div style=\"text-align: left;\">80000</div></td>\n",
       "      <td><div style=\"text-align: left;\">y</div></td>\n",
       "      <td><div style=\"text-align: right;\">0.2359</div></td>\n",
       "      <td><div style=\"text-align: right;\">0.2412</div></td>\n",
       "      <td><div style=\"text-align: right;\">0.0051</div></td>\n",
       "      <td><div style=\"text-align: left;\"></div></td>\n",
       "      <td><div style=\"text-align: right;\">2.27 % ↑</div></td>\n",
       "    </tr>\n",
       "    <tr>\n",
       "      <th>6</th>\n",
       "      <td><div style=\"text-align: left;\">sim_lbco</div></td>\n",
       "      <td><div style=\"text-align: left;\">background</div></td>\n",
       "      <td><div style=\"text-align: left;\">90000</div></td>\n",
       "      <td><div style=\"text-align: left;\">y</div></td>\n",
       "      <td><div style=\"text-align: right;\">0.2643</div></td>\n",
       "      <td><div style=\"text-align: right;\">0.2455</div></td>\n",
       "      <td><div style=\"text-align: right;\">0.0036</div></td>\n",
       "      <td><div style=\"text-align: left;\"></div></td>\n",
       "      <td><div style=\"text-align: right;\">7.10 % ↓</div></td>\n",
       "    </tr>\n",
       "    <tr>\n",
       "      <th>7</th>\n",
       "      <td><div style=\"text-align: left;\">sim_lbco</div></td>\n",
       "      <td><div style=\"text-align: left;\">background</div></td>\n",
       "      <td><div style=\"text-align: left;\">100000</div></td>\n",
       "      <td><div style=\"text-align: left;\">y</div></td>\n",
       "      <td><div style=\"text-align: right;\">0.2511</div></td>\n",
       "      <td><div style=\"text-align: right;\">0.2379</div></td>\n",
       "      <td><div style=\"text-align: right;\">0.0042</div></td>\n",
       "      <td><div style=\"text-align: left;\"></div></td>\n",
       "      <td><div style=\"text-align: right;\">5.25 % ↓</div></td>\n",
       "    </tr>\n",
       "    <tr>\n",
       "      <th>8</th>\n",
       "      <td><div style=\"text-align: left;\">sim_lbco</div></td>\n",
       "      <td><div style=\"text-align: left;\">background</div></td>\n",
       "      <td><div style=\"text-align: left;\">110000</div></td>\n",
       "      <td><div style=\"text-align: left;\">y</div></td>\n",
       "      <td><div style=\"text-align: right;\">0.2117</div></td>\n",
       "      <td><div style=\"text-align: right;\">0.2092</div></td>\n",
       "      <td><div style=\"text-align: right;\">0.0151</div></td>\n",
       "      <td><div style=\"text-align: left;\"></div></td>\n",
       "      <td><div style=\"text-align: right;\">1.20 % ↓</div></td>\n",
       "    </tr>\n",
       "    <tr>\n",
       "      <th>9</th>\n",
       "      <td><div style=\"text-align: left;\">sim_lbco</div></td>\n",
       "      <td><div style=\"text-align: left;\">linked_phases</div></td>\n",
       "      <td><div style=\"text-align: left;\">lbco</div></td>\n",
       "      <td><div style=\"text-align: left;\">scale</div></td>\n",
       "      <td><div style=\"text-align: right;\">2.5864</div></td>\n",
       "      <td><div style=\"text-align: right;\">4.8705</div></td>\n",
       "      <td><div style=\"text-align: right;\">0.0464</div></td>\n",
       "      <td><div style=\"text-align: left;\"></div></td>\n",
       "      <td><div style=\"text-align: right;\">88.31 % ↑</div></td>\n",
       "    </tr>\n",
       "  </tbody>\n",
       "</table>"
      ],
      "text/plain": [
       "<IPython.core.display.HTML object>"
      ]
     },
     "metadata": {},
     "output_type": "display_data"
    },
    {
     "data": {
      "text/html": [
       "<div>                        <script type=\"text/javascript\">window.PlotlyConfig = {MathJaxConfig: 'local'};</script>\n",
       "        <script charset=\"utf-8\" src=\"https://cdn.plot.ly/plotly-3.1.0.min.js\" integrity=\"sha256-Ei4740bWZhaUTQuD6q9yQlgVCMPBz6CZWhevDYPv93A=\" crossorigin=\"anonymous\"></script>                <div id=\"e028301d-6f01-492d-836d-693c64dc3f89\" class=\"plotly-graph-div\" style=\"height:100%; width:100%;\"></div>            <script type=\"text/javascript\">                window.PLOTLYENV=window.PLOTLYENV || {};                                if (document.getElementById(\"e028301d-6f01-492d-836d-693c64dc3f89\")) {                    Plotly.newPlot(                        \"e028301d-6f01-492d-836d-693c64dc3f89\",                        [{\"line\":{\"color\":\"rgb(31, 119, 180)\"},\"mode\":\"lines+markers\",\"name\":\"Measured (Imeas)\",\"x\":{\"dtype\":\"f8\",\"bdata\":\"k6mCUTXg6kC28\\u002f3U5O7qQPH0SlmU\\u002fepAK\\u002faX3UMM60Bm9+Rh8xrrQKH4MeaiKetAxEKtaVI460D+Q\\u002frtAUfrQDlFR3KxVetAdEaU9mBk60CXkA96EHPrQNGRXP6\\u002fgetADJOpgm+Q60BGlPYGH5\\u002frQIGVQ4vOretApN++Dn6860Df4AuTLcvrQBniWBfd2etAVOOlm4zo60CP5PIfPPfrQLIubqPrBexA7C+7J5sU7EAnMQisSiPsQGEyVTD6MexAnDOitKlA7EC\\u002ffR04WU\\u002fsQPp+arwIXuxANIC3QLhs7EBvgQTFZ3vsQKqCUUkXiuxAzczMzMaY7EAHzhlRdqfsQELPZtUltuxAfdCzWdXE7EC30QDehNPsQNobfGE04uxAFR3J5ePw7EBPHhZqk\\u002f\\u002fsQIofY+5CDu1AxSCwcvIc7UDoaiv2oSvtQCJseHpROu1AXW3F\\u002fgBJ7UCYbhKDsFftQNJvXwdgZu1A9bnaig917UAwuycPv4PtQGq8dJNuku1Apb3BFx6h7UDgvg6cza\\u002ftQAMJih99vu1APQrXoyzN7UB4CyQo3NvtQLMMcayL6u1A7Q2+MDv57UAQWDm06gfuQEtZhjiaFu5AhlrTvEkl7kDAWyBB+TPuQPtcbcWoQu5AHqfoSFhR7kBYqDXNB2DuQJOpglG3bu5AzqrP1WZ97kAIrBxaFozuQCv2l93Fmu5AZvfkYXWp7kCh+DHmJLjuQNv5fmrUxu5AFvvL7oPV7kA5RUdyM+TuQHRGlPbi8u5ArkfhepIB70DpSC7\\u002fQRDvQCNKe4PxHu9ARpT2BqEt70CBlUOLUDzvQLyWkA8AS+9A9pfdk69Z70AxmSoYX2jvQFTjpZsOd+9Aj+TyH76F70DJ5T+kbZTvQATnjCgdo+9AJzEIrMyx70BhMlUwfMDvQJwzorQrz+9A1zTvONvd70ARNjy9iuzvQDSAt0A6++9AuECC4vQE8EBVwaikTAzwQPJBz2akE\\u002fBAj8L1KPwa8EChZ7PqUyLwQD7o2ayrKfBA3GgAbwMx8EB56SYxWzjwQBZqTfOyP\\u002fBAKA8LtQpH8EDFjzF3Yk7wQGIQWDm6VfBAAJF++xFd8ECdEaW9aWTwQK62Yn\\u002fBa\\u002fBATDeJQRlz8EDpt68DcXrwQIY41sXIgfBAJLn8hyCJ8EA1XrpJeJDwQNPe4AvQl\\u002fBAcF8Hzief8EAN4C2Qf6bwQKpgVFLXrfBAvAUSFC+18EBZhjjWhrzwQPcGX5jew\\u002fBAlIeFWjbL8EAxCKwcjtLwQEOtad7l2fBA4C2QoD3h8EB9rrZilejwQBsv3STt7\\u002fBAuK8D50T38EDKVMGonP7wQGfV52r0BfFABFYOLUwN8UCh1jTvoxTxQD9XW7H7G\\u002fFAUPwYc1Mj8UDufD81qyrxQIv9ZfcCMvFAKH6MuVo58UDF\\u002frJ7skDxQNejcD0KSPFAdCSX\\u002f2FP8UASpb3BuVbxQK8l5IMRXvFATKYKRmll8UBeS8gHwWzxQPvL7skYdPFAmEwVjHB78UA2zTtOyILxQNNNYhAgivFA5fIf0neR8UCCc0aUz5jxQB\\u002f0bFYnoPFAvHSTGH+n8UBa9bna1q7xQGuad5wutvFACRueXoa98UCmm8Qg3sTxQEMc6+I1zPFA4JwRpY3T8UDyQc9m5drxQI\\u002fC9Sg94vFALUMc65Tp8UDKw0Kt7PDxQNxoAG9E+PFAeekmMZz\\u002f8UAWak3z8wbyQLPqc7VLDvJAUWuad6MV8kBiEFg5+xzyQACRfvtSJPJAnRGlvaor8kA6kst\\u002fAjPyQNcS8kFaOvJA6bevA7JB8kCGONbFCUnyQCS5\\u002fIdhUPJAwTkjSrlX8kBeukkMEV\\u002fyQHBfB85oZvJADeAtkMBt8kCqYFRSGHXyQEjhehRwfPJA5WGh1seD8kD3Bl+YH4vyQJSHhVp3kvJAMQisHM+Z8kDOiNLeJqHyQGwJ+aB+qPJAfa62Ytav8kAbL90kLrfyQLivA+eFvvJAVTAqqd3F8kDysFBrNc3yQARWDi2N1PJAodY07+Tb8kA\\u002fV1uxPOPyQNzXgXOU6vJAeVioNezx8kCL\\u002fWX3Q\\u002fnyQCh+jLmbAPNAxf6ye\\u002fMH80Bjf9k9Sw\\u002fzQAAAAACjFvNAEqW9wfod80CvJeSDUiXzQEymCkaqLPNA6SYxCAI080CHp1fKWTvzQJhMFYyxQvNANs07TglK80DTTWIQYVHzQHDOiNK4WPNADk+vlBBg80Af9GxWaGfzQLx0kxjAbvNAWvW52hd280D3deCcb33zQJT2Bl\\u002fHhPNAppvEIB+M80BDHOvidpPzQOCcEaXOmvNAfh04Zyai80Abnl4pfqnzQC1DHOvVsPNAysNCrS2480BnRGlvhb\\u002fzQAXFjzHdxvNAokW28zTO80Cz6nO1jNXzQFFrmnfk3PNA7uvAOTzk80CLbOf7k+vzQCntDb7r8vNAOpLLf0P680DXEvJBmwH0QHWTGATzCPRAEhQ\\u002fxkoQ9EAkufyHohf0QME5I0r6HvRAXrpJDFIm9ED7OnDOqS30QJm7lpABNfRAqmBUUlk89EBI4XoUsUP0QOVhodYIS\\u002fRAguLHmGBS9EAgY+5auFn0QDEIrBwQYfRAzojS3mdo9EBsCfmgv2\\u002f0QAmKH2MXd\\u002fRApgpGJW9+9EC4rwPnxoX0QFUwKqkejfRA8rBQa3aU9ECQMXctzpv0QC2yne8lo\\u002fRAP1dbsX2q9EDc14Fz1bH0QHlYqDUtufRAF9nO94TA9EC0WfW53Mf0QMX+sns0z\\u002fRAY3\\u002fZPYzW9EAAAAAA5N30QJ2AJsI75fRAOwFNhJPs9EBMpgpG6\\u002fP0QOkmMQhD+\\u002fRAh6dXypoC9UAkKH6M8gn1QMGopE5KEfVA001iEKIY9UBwzojS+R\\u002f1QA5Pr5RRJ\\u002fVAq8\\u002fVVqku9UBIUPwYATb1QFr1udpYPfVA93XgnLBE9UCU9gZfCEz1QDJ3LSFgU\\u002fVAz\\u002fdT47da9UDgnBGlD2L1QH4dOGdnafVAG55eKb9w9UC4HoXrFnj1QFafq61uf\\u002fVAZ0Rpb8aG9UAFxY8xHo71QKJFtvN1lfVAP8bctc2c9UDcRgN4JaT1QO7rwDl9q\\u002fVAi2zn+9Sy9UAp7Q2+LLr1QMZtNICEwfVAY+5aQtzI9UB1kxgENND1QBIUP8aL1\\u002fVAr5RliOPe9UBNFYxKO+b1QOqVsgyT7fVA+zpwzur09UCZu5aQQvz1QDY8vVKaA\\u002fZA07zjFPIK9kBxPQrXSRL2QILix5ihGfZAIGPuWvkg9kC94xQdUSj2QFpkO9+oL\\u002fZAbAn5oAA39kAJih9jWD72QKYKRiWwRfZARIts5wdN9kDhC5OpX1T2QPKwUGu3W\\u002fZAkDF3LQ9j9kAtsp3vZmr2QMoyxLG+cfZAaLPqcxZ59kB5WKg1boD2QBfZzvfFh\\u002fZAtFn1uR2P9kBR2ht8dZb2QO5aQj7NnfZAAAAAACWl9kCdgCbCfKz2QDsBTYTUs\\u002fZA2IFzRiy79kB1ApoIhML2QIenV8rbyfZAJCh+jDPR9kDBqKROi9j2QF8pyxDj3\\u002fZA\\u002fKnx0jrn9kAOT6+Uku72QKvP1Vbq9fZASFD8GEL99kDl0CLbmQT3QINRSZ3xC\\u002fdAlPYGX0kT90Aydy0hoRr3QM\\u002f3U+P4IfdAbHh6pVAp90AJ+aBnqDD3QBueXikAOPdAuB6F61c\\u002f90BWn6utr0b3QPMf0m8HTvdAkKD4MV9V90CiRbbztlz3QD\\u002fG3LUOZPdA3EYDeGZr90B6xyk6vnL3QBdIUPwVevdAKe0Nvm2B90DGbTSAxYj3QGPuWkIdkPdAAG+BBHWX90Ce76fGzJ73QK+UZYgkpvdATRWMSnyt90DqlbIM1LT3QIcW2c4rvPdAJJf\\u002fkIPD90A2PL1S28r3QNO84xQz0vdAcT0K14rZ90AOvjCZ4uD3QKs+V1s66PdAveMUHZLv90BaZDvf6fb3QPfkYaFB\\u002fvdAlWWIY5kF+EAy5q4l8Qz4QESLbOdIFPhA4QuTqaAb+EB+jLlr+CL4QBsN4C1QKvhALbKd76cx+EDKMsSx\\u002fzj4QGiz6nNXQPhABTQRNq9H+ECitDf4Bk\\u002f4QLRZ9bleVvhAUdobfLZd+EDuWkI+DmX4QIzbaABmbPhAKVyPwr1z+EA7AU2EFXv4QNiBc0ZtgvhAdQKaCMWJ+EASg8DKHJH4QLAD54x0mPhAwaikTsyf+EBfKcsQJKf4QPyp8dJ7rvhAmSoYldO1+EA2qz5XK734QEhQ\\u002fBiDxPhA5dAi29rL+ECDUUmdMtP4QCDSb1+K2vhAvVKWIeLh+EDP91PjOen4QGx4eqWR8PhACfmgZ+n3+ECneccpQf\\u002f4QET67euYBvlAVp+rrfAN+UDzH9JvSBX5QJCg+DGgHPlALSEf9Pcj+UDLoUW2Tyv5QNxGA3inMvlAescpOv85+UAXSFD8VkH5QLTIdr6uSPlAUkmdgAZQ+UBj7lpCXlf5QABvgQS2XvlAnu+nxg1m+UA7cM6IZW35QNjw9Eq9dPlA6pWyDBV8+UCHFtnObIP5QCSX\\u002f5DEivlAwhcmUxyS+UBfmEwVdJn5QHE9CtfLoPlADr4wmSOo+UCrPldbe6\\u002f5QEi\\u002ffR3TtvlA5j+k3yq++UA=\"},\"y\":{\"dtype\":\"f8\",\"bdata\":\"Ro6RutwL0D8+eTa7RpzSPwOlc1uRBtM\\u002fbbst91Am0z9IdSTJCg7UP4Nj+6elmdI\\u002fMPXJL3U5zD\\u002fshCSHPO\\u002fTPyqwfDWTKdE\\u002fBoSfnKzizT\\u002fPHD6XudLQP2ct7xDz5NQ\\u002fR9vipM2Z0T\\u002fTVztgD03WP7L5CPz17No\\u002fBTTkpWo74j8jH3quAFzxP6EN9Bf4dPU\\u002fYPwGlWGp9j\\u002fQbQCKc7zxP+FV\\u002fYpmr+c\\u002fnK\\u002f5FipR4D\\u002fY3RcceKbUP9Oy1IE4eNE\\u002fe46gr1Yt0T9Ul6zu9CvNP\\u002fWPISGFC9E\\u002fLl3jZS8W0z+krMCKS2PRPwL520lBmcU\\u002fpwEKrSEr1D\\u002fHs+pSAYfOP8QlMDK9EMw\\u002fH6L2wpEJ0j+DtLLt7e3KP3krf9k2oNE\\u002fVwRLzsqW0T9YXL6iMQnHP32K6+mnLdE\\u002fU\\u002fvtwoNl0D8S10IUAjzOP8FJxXoLzs8\\u002fPRI0+Wbj0j8s78UhR53NPwyuEmjWltA\\u002fjXA0WdNH0z8tparsG4zSP2rd\\u002f4aFK9Q\\u002fU4UWvO+u1D+kXuKEnBHZP1fFM4JFA+M\\u002fCjBUSEtG5D8pip8xWg3mP7TPMvFdQOE\\u002f79T3FwIa2D8JWApgogLXP+EtS4D6StM\\u002fBXgIISde0j83rEWJgAPRP7CVjV7uZdM\\u002fBGD64UtByz8ymLoDgrjOP5jltZeZts8\\u002f6YS3C4UTzz\\u002fbp778UqDRP52tTDoihtE\\u002fWHkIogBG0j8hs7Dm0A7RP0nH\\u002fYMXPdE\\u002f0kTan0mZ0D8EYuB0WYnMP8Awf\\u002f3aFc4\\u002feF\\u002f+ZNoEzz\\u002fbnfgrkjzPP4ZRI\\u002fyCic4\\u002f+CC9ZXv40D8DTFs5DB\\u002fOPxMpBqLWVc8\\u002fKLqWPXAF0j939q5oeC3RP9SfuY3Z\\u002fNU\\u002fk399aCLX0T+F6CzufpjQPwZopOYjmtM\\u002fbLjJ4ypL1T8aTh4uvfzYP0zRbO2lKds\\u002fYz75FGWn2z9Dx2PrXszaP1M41JgkX+M\\u002f1fYBVjhi8D+4+sEkCo77PxYrTMfj9AZA6PESrNtFCkDOPABsc14IQMrd5CkoHv0\\u002fNt8Tbo5N7T+wEBj52PfgP6YFcpPFG9c\\u002f+L8BeWvf0T8c6TkNfQrQP2PIMo4Yes8\\u002fp4aAGrlO0T\\u002f6xhchBxzPP5OlsZH8X84\\u002fpsIHhmaM0T8qAUEy7HTMP6FuMx2wzs8\\u002fT9u6OFcs0z\\u002f+pL+6\\u002fXjSP0XPs4GC\\u002f9Q\\u002f15RpOywH1z8CCgR\\u002fjq7VP\\u002fGoTsqBiuM\\u002fIKG20YiU8D\\u002fQCmKkAj79Pxy80DvsuQ1AFfR\\u002f+RtvGkDZV\\u002f\\u002fD3HseQHwK0\\u002fpVXBlAwPOEYZSPD0CnM0Or7Lz9Pz+e6Ew7L+8\\u002fDt1OCRUE4z\\u002fP0t44MBHaP57OmGw7y9Q\\u002fcYKkyqAm0T9eQuew8dvNP3gznDf4stM\\u002fWZ7t3e5azT9PAD2VNDrPP2QjoTNsstA\\u002f+Fqj3GwI0D\\u002fzjXo7vxrPPzFnrroqc8s\\u002f\\u002fxCjCx7Gzz9lOkARXCvPP4A3px6rENA\\u002fraTmWO9I0T+Z0rcLi2\\u002fMPxUMStvurc8\\u002f2Mr0SRHyzT9i4fScg53RP7N9+8XoKNE\\u002f97wivgsu2D9zQHi473ffP1hPa5r9PeQ\\u002fQv7ocwqz5D9FP3IZAf3hP2b4P\\u002fUM3dg\\u002fPu8wXTD51D+UORqANqnTP4IcWmex+tM\\u002fwCgdtQs31D\\u002f0MtLXQ1\\u002fWP\\u002fmd35gIMNg\\u002fb7tOMUJO0z94r\\u002fZrGerQP55M6Un5k88\\u002faaVwC8WI0D\\u002fFUu3nhh3MP1oxXWEFN88\\u002f8pb0A25EzT9dEp7+uT7NP4KaONiNPdE\\u002fEAWqee4Q0j+3CsTdK4zPPyGgkVGG\\u002fss\\u002f0f4FjWSr0D+VM30GqK\\u002fQP50Lm38O9M8\\u002ftPkh8jmqzD9YxD\\u002fhu6rQP6yhzw8MwNA\\u002f3WL9Y3tHzT9HlTWRK0nQP4GIv1XRJdA\\u002fHhZbIq7R0D9CR1RKUkrSP8mqAKWDSNI\\u002frVrfioqu0T9hNC7bDpHRP1UAjXfNRdE\\u002fjVP2aQ630D+Wd5OzZdfPP4muZtw7ktA\\u002fIEbKW0M2zz8lA8jEu6LQP7eP4MUrEs8\\u002fBT2CBMEczD9Xqs8hTsrNP4bosqSjq84\\u002fEUfznKB7zj\\u002faAGTbHpfNP6I+a\\u002fsFRtA\\u002fvuPPWZPe0D9EewhYmOjQP0CZtpm0C84\\u002fjANvMBbi0D+GPWvKJsjQP6v78opALs4\\u002fimbZQfFyzz9WHoLabmfPP7Fedk69X9A\\u002fBt2QBbE6zz+v6QpNdlvQPxdTdd52MdA\\u002frmNw+Uko0T\\u002fdDgP36JfTPy+OdC3yjtU\\u002frVZW+\\u002fn42D8S2RBGmATaP0r9c\\u002f5zPN0\\u002fx+QFwOw95D+9bQWt45fuP0V48u5YUvk\\u002flrIt2s\\u002fuB0ByWRn3TC0WQAKQuTj7ISJATGNCUZhfJkCEf31bs8UkQCwSxI35jx1ATqMgkrrOD0D++dsdqkEBQMeeFNZKWvM\\u002f7DpYraly6D\\u002fiR0BoAvHgPwGxpaYuqNk\\u002fCISfuQwV1D\\u002fC2f69jTfSP68FS3+pcdA\\u002f5oJxm1Th0T\\u002fRivKc9QzQP0aI79aeqNA\\u002fXoRdk0afzT9LsHL2uFHRP4M18QLy\\u002fc8\\u002fJ76C3f5Xzj9S5Z0v7wHQP2kjEFd2rMw\\u002flXZlmiN8zj+fmTU0JzHPP88dW5zL188\\u002fvDJd95wDzj9m9IsL7TzNPxszKz+Nd88\\u002ff+\\u002fvi8Mv0D\\u002fPU884i9LPP0IX3okgIM4\\u002fU\\u002fCD4pqS0D+cCwEDi9zLP4eJ34FkDM8\\u002fZ89p9O+ezz8H8emuGRrRP3guQjU3RM4\\u002fhNidpMlezj9XUPeoyoHQP\\u002fiOEnWDb84\\u002fKncJM3UVyz\\u002fttMsKWgfQPyFjEwAfb88\\u002fo\\u002f472ZgJzT8mbvpGE8nMP9MA1JwI3cw\\u002fFSnT0w5Pzz+Xtj2ZjZDOP7fTkKgoC84\\u002fQbzSO3rDzj+I2NqktLvNP99iG5aSQ9A\\u002fL9jzVoLJ0D88psptKKDOPxxaRsYPPc8\\u002fWPbQqTY8zD8TbcwLnELQP+nHnfH+F84\\u002fVrbnVtAm0D\\u002fPexIhFZjOPyfZAgBMKs8\\u002fQSsh1ElSzj9qdmydonDQP\\u002f5buiN9mc8\\u002feSdKsuxdzz\\u002fsXT1s2MfNP\\u002fU8yBbJ2M4\\u002ffLIcYa7azj+q6qg7HEbQPwtZ0y3Z1c8\\u002fGWQzml4Uzj8uqJ4JTuDQP4mR24UJlM8\\u002fFZWnAiLnzj\\u002ftIVB4MLXOP9\\u002f0ahYnY84\\u002f7yzOB7Amzz9ESLzpSIrMP+4Zd9KzDc0\\u002fcjmkULNYzz+klLijmzTPPzZnNg6MGM8\\u002f+f2d8Sj4zz\\u002f8+yWY6hvRP2K9Qmt7O9E\\u002fstqM2cmjzz8hFfDuZlvRP3e8Vtk1Us8\\u002fjzUcnwvvzz9QwSUTy2TOPw4yZED+ocw\\u002f6GmsydgyzT+w6A+x\\u002fyLOP2E1gkoEJNA\\u002f3LbNHJdnyz87ZWoRhL\\u002fOP+SnbKbz8c8\\u002fb30HTCfizD85zB1+q4vQPzgOhfs959A\\u002f2k+O+t9H0j+0rcCm8dHSP0Hsg7Zoa9U\\u002fkLYaniOe1z+vstWwjjbePz9Hd+9gPuI\\u002fVntUQgfv5j\\u002ff6\\u002fbtM6TtP5YeH+PEE+8\\u002fLMq6vclX7D+XC8IAA87mP71xYE5qT+E\\u002f+uI8ZSYm2z9vf5aG75HWP605ZLPFotM\\u002fXqwHc9O10z+0s2sKDDDRPwpmpP2b49A\\u002fykYb9z6szj8A1ZdQnsjNPwzBt3Rtx9A\\u002fafLGfFsJzT9V3mIdsoPOP09fQJtrB84\\u002fB8wFlnnv0D+\\u002fhp7YmezNP8A71obKM9E\\u002fGDjevl1z0j9Yf5EaktzSP7Ln72esktU\\u002fgEoj9AR52D\\u002fttFJsbcDcP2xR5U4KSt0\\u002fPobrzuo32z9rJMG+KyzZP\\u002f28F7luzNY\\u002fV2XrDJhD1D+evabhTQfSP+EGvPi6nNE\\u002fL1zpV8b4zj\\u002fu6q2T+JTPP4kYz96Fv80\\u002fbkPtwK8mzT\\u002f16qtBDTvNP8zSCE8BM8s\\u002fQy9hZvnyzT8Spz+G4q7MPzQzpVQdDtA\\u002f77VQpOBizD\\u002f3yrQ4u1DPP06HVdmFusw\\u002fQC5666Wfzj+YzsYoMuLOP9AZi6kQ8Mo\\u002famHTB8fszj8nWdwD3kzNPxG\\u002fVr+dHMw\\u002f18q6LI4UzD95+zrqhZfKPzYiCVbkks0\\u002fwtjym9i5yz+cSM0jDGnMP6CaZLVTRMw\\u002fm7zWF5h4yj9uAK1CZATOPyZuEIkYU8w\\u002fPCWeaLnvzT\\u002f\\u002f+\\u002fZdeprQP6hXVvTvKMw\\u002fvhGjJ8Ofzj+Ld1j\\u002fDB\\u002fOP\\u002fWSGjh3Wc0\\u002fNb6etG2rzj9L\\u002f7WIh27LP5MrQ7flL88\\u002fnER2yF7uzz+3RrlT9J7QP4PxgiCi380\\u002fmZ3\\u002fMdtU0D\\u002fYJoJYh17RP7qYw+fvW9A\\u002fa3EoFODa0T\\u002f4oLujpbnRP1T6k5GjFtQ\\u002fGRSPkaet0z\\u002fJfAsoIK7TP+swcS4vQ9A\\u002fB3JhbkBI0j9T4t\\u002fGkEXRPyKpUzw8E88\\u002f4uj+r8Ktzz9HMVfza2bOP+A38erOus4\\u002f0y2m1bWyzD92D2qrLT3OP+2IuWVxJs8\\u002fr8hYGC7zzT\\u002fvNOV3mgvNP30KyPshmtA\\u002f+rQxW4iKzj8PFwlP4avKP+nd\\u002fc+1Esw\\u002f9faMPaaDyz+V9ChTNt\\u002fPP8cQb4Zdxc4\\u002fojOpQxDIzD+Aue65k5HQP2ki7oNYwM4\\u002fbgdkDykVzD\\u002fANXz8uZHNP0EbZYvCqdA\\u002fPcv8GD6C0D8=\"},\"type\":\"scatter\"},{\"line\":{\"color\":\"rgb(214, 39, 40)\"},\"mode\":\"lines\",\"name\":\"Total calculated (Icalc)\",\"x\":{\"dtype\":\"f8\",\"bdata\":\"k6mCUTXg6kC28\\u002f3U5O7qQPH0SlmU\\u002fepAK\\u002faX3UMM60Bm9+Rh8xrrQKH4MeaiKetAxEKtaVI460D+Q\\u002frtAUfrQDlFR3KxVetAdEaU9mBk60CXkA96EHPrQNGRXP6\\u002fgetADJOpgm+Q60BGlPYGH5\\u002frQIGVQ4vOretApN++Dn6860Df4AuTLcvrQBniWBfd2etAVOOlm4zo60CP5PIfPPfrQLIubqPrBexA7C+7J5sU7EAnMQisSiPsQGEyVTD6MexAnDOitKlA7EC\\u002ffR04WU\\u002fsQPp+arwIXuxANIC3QLhs7EBvgQTFZ3vsQKqCUUkXiuxAzczMzMaY7EAHzhlRdqfsQELPZtUltuxAfdCzWdXE7EC30QDehNPsQNobfGE04uxAFR3J5ePw7EBPHhZqk\\u002f\\u002fsQIofY+5CDu1AxSCwcvIc7UDoaiv2oSvtQCJseHpROu1AXW3F\\u002fgBJ7UCYbhKDsFftQNJvXwdgZu1A9bnaig917UAwuycPv4PtQGq8dJNuku1Apb3BFx6h7UDgvg6cza\\u002ftQAMJih99vu1APQrXoyzN7UB4CyQo3NvtQLMMcayL6u1A7Q2+MDv57UAQWDm06gfuQEtZhjiaFu5AhlrTvEkl7kDAWyBB+TPuQPtcbcWoQu5AHqfoSFhR7kBYqDXNB2DuQJOpglG3bu5AzqrP1WZ97kAIrBxaFozuQCv2l93Fmu5AZvfkYXWp7kCh+DHmJLjuQNv5fmrUxu5AFvvL7oPV7kA5RUdyM+TuQHRGlPbi8u5ArkfhepIB70DpSC7\\u002fQRDvQCNKe4PxHu9ARpT2BqEt70CBlUOLUDzvQLyWkA8AS+9A9pfdk69Z70AxmSoYX2jvQFTjpZsOd+9Aj+TyH76F70DJ5T+kbZTvQATnjCgdo+9AJzEIrMyx70BhMlUwfMDvQJwzorQrz+9A1zTvONvd70ARNjy9iuzvQDSAt0A6++9AuECC4vQE8EBVwaikTAzwQPJBz2akE\\u002fBAj8L1KPwa8EChZ7PqUyLwQD7o2ayrKfBA3GgAbwMx8EB56SYxWzjwQBZqTfOyP\\u002fBAKA8LtQpH8EDFjzF3Yk7wQGIQWDm6VfBAAJF++xFd8ECdEaW9aWTwQK62Yn\\u002fBa\\u002fBATDeJQRlz8EDpt68DcXrwQIY41sXIgfBAJLn8hyCJ8EA1XrpJeJDwQNPe4AvQl\\u002fBAcF8Hzief8EAN4C2Qf6bwQKpgVFLXrfBAvAUSFC+18EBZhjjWhrzwQPcGX5jew\\u002fBAlIeFWjbL8EAxCKwcjtLwQEOtad7l2fBA4C2QoD3h8EB9rrZilejwQBsv3STt7\\u002fBAuK8D50T38EDKVMGonP7wQGfV52r0BfFABFYOLUwN8UCh1jTvoxTxQD9XW7H7G\\u002fFAUPwYc1Mj8UDufD81qyrxQIv9ZfcCMvFAKH6MuVo58UDF\\u002frJ7skDxQNejcD0KSPFAdCSX\\u002f2FP8UASpb3BuVbxQK8l5IMRXvFATKYKRmll8UBeS8gHwWzxQPvL7skYdPFAmEwVjHB78UA2zTtOyILxQNNNYhAgivFA5fIf0neR8UCCc0aUz5jxQB\\u002f0bFYnoPFAvHSTGH+n8UBa9bna1q7xQGuad5wutvFACRueXoa98UCmm8Qg3sTxQEMc6+I1zPFA4JwRpY3T8UDyQc9m5drxQI\\u002fC9Sg94vFALUMc65Tp8UDKw0Kt7PDxQNxoAG9E+PFAeekmMZz\\u002f8UAWak3z8wbyQLPqc7VLDvJAUWuad6MV8kBiEFg5+xzyQACRfvtSJPJAnRGlvaor8kA6kst\\u002fAjPyQNcS8kFaOvJA6bevA7JB8kCGONbFCUnyQCS5\\u002fIdhUPJAwTkjSrlX8kBeukkMEV\\u002fyQHBfB85oZvJADeAtkMBt8kCqYFRSGHXyQEjhehRwfPJA5WGh1seD8kD3Bl+YH4vyQJSHhVp3kvJAMQisHM+Z8kDOiNLeJqHyQGwJ+aB+qPJAfa62Ytav8kAbL90kLrfyQLivA+eFvvJAVTAqqd3F8kDysFBrNc3yQARWDi2N1PJAodY07+Tb8kA\\u002fV1uxPOPyQNzXgXOU6vJAeVioNezx8kCL\\u002fWX3Q\\u002fnyQCh+jLmbAPNAxf6ye\\u002fMH80Bjf9k9Sw\\u002fzQAAAAACjFvNAEqW9wfod80CvJeSDUiXzQEymCkaqLPNA6SYxCAI080CHp1fKWTvzQJhMFYyxQvNANs07TglK80DTTWIQYVHzQHDOiNK4WPNADk+vlBBg80Af9GxWaGfzQLx0kxjAbvNAWvW52hd280D3deCcb33zQJT2Bl\\u002fHhPNAppvEIB+M80BDHOvidpPzQOCcEaXOmvNAfh04Zyai80Abnl4pfqnzQC1DHOvVsPNAysNCrS2480BnRGlvhb\\u002fzQAXFjzHdxvNAokW28zTO80Cz6nO1jNXzQFFrmnfk3PNA7uvAOTzk80CLbOf7k+vzQCntDb7r8vNAOpLLf0P680DXEvJBmwH0QHWTGATzCPRAEhQ\\u002fxkoQ9EAkufyHohf0QME5I0r6HvRAXrpJDFIm9ED7OnDOqS30QJm7lpABNfRAqmBUUlk89EBI4XoUsUP0QOVhodYIS\\u002fRAguLHmGBS9EAgY+5auFn0QDEIrBwQYfRAzojS3mdo9EBsCfmgv2\\u002f0QAmKH2MXd\\u002fRApgpGJW9+9EC4rwPnxoX0QFUwKqkejfRA8rBQa3aU9ECQMXctzpv0QC2yne8lo\\u002fRAP1dbsX2q9EDc14Fz1bH0QHlYqDUtufRAF9nO94TA9EC0WfW53Mf0QMX+sns0z\\u002fRAY3\\u002fZPYzW9EAAAAAA5N30QJ2AJsI75fRAOwFNhJPs9EBMpgpG6\\u002fP0QOkmMQhD+\\u002fRAh6dXypoC9UAkKH6M8gn1QMGopE5KEfVA001iEKIY9UBwzojS+R\\u002f1QA5Pr5RRJ\\u002fVAq8\\u002fVVqku9UBIUPwYATb1QFr1udpYPfVA93XgnLBE9UCU9gZfCEz1QDJ3LSFgU\\u002fVAz\\u002fdT47da9UDgnBGlD2L1QH4dOGdnafVAG55eKb9w9UC4HoXrFnj1QFafq61uf\\u002fVAZ0Rpb8aG9UAFxY8xHo71QKJFtvN1lfVAP8bctc2c9UDcRgN4JaT1QO7rwDl9q\\u002fVAi2zn+9Sy9UAp7Q2+LLr1QMZtNICEwfVAY+5aQtzI9UB1kxgENND1QBIUP8aL1\\u002fVAr5RliOPe9UBNFYxKO+b1QOqVsgyT7fVA+zpwzur09UCZu5aQQvz1QDY8vVKaA\\u002fZA07zjFPIK9kBxPQrXSRL2QILix5ihGfZAIGPuWvkg9kC94xQdUSj2QFpkO9+oL\\u002fZAbAn5oAA39kAJih9jWD72QKYKRiWwRfZARIts5wdN9kDhC5OpX1T2QPKwUGu3W\\u002fZAkDF3LQ9j9kAtsp3vZmr2QMoyxLG+cfZAaLPqcxZ59kB5WKg1boD2QBfZzvfFh\\u002fZAtFn1uR2P9kBR2ht8dZb2QO5aQj7NnfZAAAAAACWl9kCdgCbCfKz2QDsBTYTUs\\u002fZA2IFzRiy79kB1ApoIhML2QIenV8rbyfZAJCh+jDPR9kDBqKROi9j2QF8pyxDj3\\u002fZA\\u002fKnx0jrn9kAOT6+Uku72QKvP1Vbq9fZASFD8GEL99kDl0CLbmQT3QINRSZ3xC\\u002fdAlPYGX0kT90Aydy0hoRr3QM\\u002f3U+P4IfdAbHh6pVAp90AJ+aBnqDD3QBueXikAOPdAuB6F61c\\u002f90BWn6utr0b3QPMf0m8HTvdAkKD4MV9V90CiRbbztlz3QD\\u002fG3LUOZPdA3EYDeGZr90B6xyk6vnL3QBdIUPwVevdAKe0Nvm2B90DGbTSAxYj3QGPuWkIdkPdAAG+BBHWX90Ce76fGzJ73QK+UZYgkpvdATRWMSnyt90DqlbIM1LT3QIcW2c4rvPdAJJf\\u002fkIPD90A2PL1S28r3QNO84xQz0vdAcT0K14rZ90AOvjCZ4uD3QKs+V1s66PdAveMUHZLv90BaZDvf6fb3QPfkYaFB\\u002fvdAlWWIY5kF+EAy5q4l8Qz4QESLbOdIFPhA4QuTqaAb+EB+jLlr+CL4QBsN4C1QKvhALbKd76cx+EDKMsSx\\u002fzj4QGiz6nNXQPhABTQRNq9H+ECitDf4Bk\\u002f4QLRZ9bleVvhAUdobfLZd+EDuWkI+DmX4QIzbaABmbPhAKVyPwr1z+EA7AU2EFXv4QNiBc0ZtgvhAdQKaCMWJ+EASg8DKHJH4QLAD54x0mPhAwaikTsyf+EBfKcsQJKf4QPyp8dJ7rvhAmSoYldO1+EA2qz5XK734QEhQ\\u002fBiDxPhA5dAi29rL+ECDUUmdMtP4QCDSb1+K2vhAvVKWIeLh+EDP91PjOen4QGx4eqWR8PhACfmgZ+n3+ECneccpQf\\u002f4QET67euYBvlAVp+rrfAN+UDzH9JvSBX5QJCg+DGgHPlALSEf9Pcj+UDLoUW2Tyv5QNxGA3inMvlAescpOv85+UAXSFD8VkH5QLTIdr6uSPlAUkmdgAZQ+UBj7lpCXlf5QABvgQS2XvlAnu+nxg1m+UA7cM6IZW35QNjw9Eq9dPlA6pWyDBV8+UCHFtnObIP5QCSX\\u002f5DEivlAwhcmUxyS+UBfmEwVdJn5QHE9CtfLoPlADr4wmSOo+UCrPldbe6\\u002f5QEi\\u002ffR3TtvlA5j+k3yq++UA=\"},\"y\":{\"dtype\":\"f8\",\"bdata\":\"F2ZNeAUq0T8xCUf6ekHRP0kXk3K6W9E\\u002fYJPmnQdo0T9WIctviFrRP2XZpIYkOtE\\u002fUIVwo3YZ0T\\u002foGSjinATRP9gnfeJS\\u002fNA\\u002fq+OfQ23\\u002f0D+K\\u002fuxoUBfRPxbRtUZqa9E\\u002f0HxFjxNz0j\\u002f9qjK7AV\\u002fVP7y\\u002fAyTWfdw\\u002fIUiyoIsr5T\\u002fhoeghAvbuP9AiPoXetfM\\u002fcI\\u002fbca1e9D8os9PICcTwPyq0+\\u002ffbz+Y\\u002fWZ+C+6Xx3D+jISo6EY\\u002fUP3mxNlwyptE\\u002fih\\u002fv0Lfr0D9QA8k9JMfQPya+\\u002flpcv9A\\u002fh9U3H8O70D+QQ8d5p7jQP583YraYtdA\\u002fwbKjM4uy0D9NXnvQfa\\u002fQP0n3R3JwrNA\\u002fM90PGmOp0D8mASrTVabQP8Pc2sBIo9A\\u002fn68eTDyg0D9q75+uMZ3QP9iPhYYsmtA\\u002fPuIAcDeX0D\\u002fnC9hOcZTQP802RWozktA\\u002fWPm\\u002f732R0D9O\\u002fDrqr5fQP8vu7DL2qtA\\u002fAI2Sjwrh0D\\u002f1cjDpWHXRPxRaWW5y89I\\u002fEHor78ZR1j\\u002fMS55TLl7cP1X7WzB4++E\\u002fstRaOFJ65D9+oFyOOqfjP4jEN+\\u002fBAuA\\u002fMlfWLFIv2D+edmA1WE\\u002fTPxDsYpB3TdE\\u002fSd\\u002f60XG30D+RQnAzU5bQP45OMfpmkNA\\u002fQ6fpj4uP0D+pJ+Kri4\\u002fQP51hHZ+\\u002fj9A\\u002fJ9OnjSmQ0D98dsgiFZHQP5EQafNRk9A\\u002fR480MuaY0D8miOQyPabQP7t0PYA6wtA\\u002fd9ldOhLw0D+laFoLoCHRP8o2OGRZNtE\\u002fWFGoq\\u002fAa0T9W+v3r\\u002fOPQPxuvX8hCtdA\\u002fjXgYauac0D+3\\u002fRgYPZTQP1uEsCgKktA\\u002fh1s+KceR0D+rixrOLZLQP+DptDZJk9A\\u002f2xtd8P2V0D\\u002fWQ8LytZzQP1K++IOHrdA\\u002fm8qkVqHX0D+3HHNFokDRPyIArP4pRdI\\u002fYtm3y0TH1D\\u002f\\u002fzFPlNuHaP3ArBcdMlOQ\\u002fZwFMX8nQ8T8IWSNrYpD+P6QNh+W+kgZAj114fpgPCkDB3VCZE3MGQBs5RwC7\\u002fPw\\u002fzzKSuv9d7j9isQQfX5DfPypggvfHxtQ\\u002f+r2TPIak0T8PzjRyU9fQP2WeD+H\\u002fpNA\\u002f4LuAIOyY0D\\u002fmFxbxp5bQP8tW\\u002fPnMl9A\\u002fXqTA\\u002fBac0D8Y3RxNkKbQP\\u002f1Nm3pDv9A\\u002fLHXN1Sb50D9ma9XdM4DRP+6fHsexudI\\u002f85zILIeN1T\\u002f45UhUSgvcP0UsVc9VaeU\\u002fbo2BrVDs8j+Er87YS+8BQJc9GOa3NBBAJ9cj\\u002fAK1GECI5YqXzfAcQBQ81DZQyhhA+bt0aI8ND0DJ8ZPRu1D+P+SqTtsMHOs\\u002fPI8N5wd63D\\u002f\\u002fVxi\\u002fDS\\u002fUP1RCC2U4rdE\\u002fn75P8jrs0D8PYGPbjrHQP2jfbyoWndA\\u002fMp5nSfCT0D\\u002fWQ1vbr47QP40t9kuxitA\\u002f98sz0yiH0D8LQCeU54PQP9rPjaIFgdA\\u002flx6OyN9+0D+7Dt7BS37QPy+OE4gZgdA\\u002fzxVMPSuL0D8sOLSGxaTQP0lwluhq39A\\u002fjRpGC\\u002ftf0T9ElifUMHPSPwQb\\u002fKX0r9Q\\u002fpma\\u002f1F792D9KRzxQqbPfP+HG8bcPLuM\\u002fjyXZx47l4z+6S31C9BzhP6JCyM0oRto\\u002fpuJo9k6k1D\\u002fMRd1MNu7RPwYuqrFm3NA\\u002fVHKf1Gl20D\\u002f+FP6bT0\\u002fQPyMSflnVPtA\\u002fobuds4820D9UuhGsTDHQP+7ceKgnLdA\\u002fLrm0DW4p0D8S5jRP3SXQP4p84GtcItA\\u002fXAQMCeIe0D+2xPPpahvQP6+Gpor2F9A\\u002floEiO4YU0D9SZfeNHRHQPywOrxDEDdA\\u002f4pDCCYkK0D9T9T\\u002f7igfQPwJs33YGBdA\\u002fbrQnIHMD0D8adTktvAPQP3f+oOutB9A\\u002fvu5H\\u002fcgS0D\\u002fqOkAt1ivQP3QdlRa8X9A\\u002f49dyjG7E0D9nb60Ttm7RP03eN3uyPNI\\u002fVxrnucCl0j\\u002fPyHDRfDvSP3vAMtCFVdE\\u002fQMgJ5VqT0D9ATRsbqCbQP4kNDZi15s8\\u002f09Z+d6O2zz8xtshUD57PP5o8HF5\\u002fj88\\u002f8LxMwjyFzz8YENCw13zPPyDv2f9Ddc8\\u002fyypi0A1uzz8iSvt9A2fPP1MHdj0RYM8\\u002fvixDYDJZzz+aXnO7bFLPP2KdcB3SS88\\u002fWie2f4dFzz\\u002fOFeCD1D\\u002fPP2P2DWNBO88\\u002fWIEEG884zz9\\u002fvFYeYDrPP1WnvOJ5Q88\\u002f49g03qlazz9JhZbTE4zPPznDUiYd7s8\\u002flkn5qvVU0D9uLHjEYgXRPwVFpyDoTNI\\u002fwcB3hu2n1D9SWKL1O\\u002ffYPwqrvHujZ+A\\u002fH04fp6GD5z8e9Xg\\u002fAyvyP7wwd4E7rP0\\u002fOw3zi4IMCUBK8C3s7x8VQAuaRD+4gyBAk4NEG05XJUBluYJOpcokQMW6CJyDPh5AcSvo4MTSEUBwtDcL41YDQEOBGAZSXfU\\u002fbFKTJU5b6T\\u002fvl7U+JavgP7LmJSVLmNg\\u002fHGp2Iugq1D8YWcYrQunRPwULjOwWwdA\\u002fNjL6Em8o0D\\u002fH5G4B27LPPxfQp13tYM8\\u002ft\\u002fqffY02zz\\u002ftNDPG3iDPP92rjtQUFs8\\u002fNiEwGxARzz90LYOyHg\\u002fPP38p73rTDs8\\u002fkxpeBGwPzz\\u002fcT1wkgBDPPwGVN7rXEc8\\u002ftHWtWlQTzz8AvRFv5RTPP\\u002f+Be9+BFs8\\u002fQZzlpyQYzz+Avz8AyxnPP7pTwVtzG88\\u002fWz632xwdzz\\u002fPbZ0Cxx7PPzbYUYlxIM8\\u002fCVo2Rxwizz90VkElxyPPP+kj\\u002fRVyJc8\\u002faUasER0nzz92k84TyCjPP6Q\\u002fqhlzKs8\\u002fVffiIR4szz\\u002fnJncryS3PP8MB3DV0L88\\u002fkNG+QB8xzz8aLdZLyjLPP3DkM1d1NM8\\u002fyReuYiA2zz9A0jluyzfPP3lk0Hl2Oc8\\u002feeZVhSE7zz9Ef\\u002feQzDzPP67cm5x3Ps8\\u002f6yJCqCJAzz+e6emzzUHPP+5Ve794Q88\\u002fQWkmyyNFzz\\u002fhNNTWzkbPP95qhuJ5SM8\\u002fiA5A7iRKzz9Phe75z0vPP5JiygV7Tc8\\u002fxwPLESZPzz8xHAoe0VDPP7MCsyp8Us8\\u002f4Kf2NydUzz8+f35G0lXPPznJ\\u002fVZ9V88\\u002fk+fFaihZzz+VpgWE01rPP+fcPqZ+XM8\\u002fiyCN1ylezz+FAYwh1V\\u002fPPwDyEZSAYc8\\u002f4D3lSCxjzz+9ALtp2GTPP3rbTTqFZs8\\u002f2oNKJzNozz\\u002fq1FHf4mnPP+ZgpHmVa88\\u002fkMN9s0xtzz+ey+Qd\\u002f2zPP\\u002fPhrMwsas8\\u002fgDTYJm1nzz9m0\\u002fEJy2TPP10rdH5XYs8\\u002fVsYQIS1gzz\\u002frEFVndV7PP\\u002fN95KhwXc8\\u002f5rI\\u002feoJdzz\\u002fa4ZppRF\\u002fPP7rtSICiY88\\u002f\\u002fTcRewZszz9\\u002fO9e5mHrPP+P6s1aiks8\\u002fPOLvgB+5zz+G7scEm\\u002fXPP6z7b+q5KdA\\u002fyPxRB+Fx0D88y7XZEODQP\\u002fPoNThqh9E\\u002foLvKpWeE0j+NnOM6TgHUP14UZNmpPNY\\u002fN5P+pZmS2T9EmL07gIfeP0GI0inU2+I\\u002fFLj05miP5z9GtZ5fqxfsP1rvlxs4yO0\\u002ff+vwoTA96z+Wpehr7kzmP9AeTSz4muE\\u002fBplhKp9m3D9u1+0xyebXP8z5qy24+9Q\\u002f8lE+x80W0z+WNPs+49rRP7D9yCc4DNE\\u002fsGODLGeE0D+as94VsCrQP43HJNMi3s8\\u002fKGCOTFCOzz+QEWV+Y1jPP0ktrPSHM88\\u002f+TgY+fQZzz8MRGmp3QfPP4H6HbLA+s4\\u002f6m97\\u002fPXwzj+cxD5MZOnOPx8DwJVQ484\\u002fiCrSAz7ezj\\u002fsLFUV2dnOPwFSyrrp1c4\\u002fewq0OUrSzj+x614b4c7OP9cgOiOdy84\\u002f+0tCnXLIzj96u6qSWcXOP\\u002fFIGZVMws4\\u002f\\u002fE7z7Ee\\u002fzj9OIJIPSbzOP7E+SD9Ouc4\\u002fSIc7TFa2zj8kfcZpYLPOP0ZjGxFssM4\\u002fymgl8Hitzj+wCZzdhqrOP9s57dOVp84\\u002fBr6a8KWkzj8KqaJ3t6HOP1afL93Kns4\\u002fNBm00+Cbzj9wXYRi+pjOPxYg+AUZls4\\u002fjSUn3T6Tzj\\u002fMhazqbpDOP\\u002fmV2G6tjc4\\u002fItWJYwCLzj+QreApcIjOP+2uhXYIhs4\\u002fgnLimtmDzj\\u002fu1idB+oHOPz3WYs+JgM4\\u002fBTdkqbN\\u002fzj8ZRUCZs3\\u002fOPxY8iEs1fs4\\u002f6rLDGtl4zj\\u002f45kp6r3XOP71Tn\\u002fCJdc4\\u002fWUpCWYV5zj\\u002feZ0uuI4POP62ymptulM4\\u002fV4+6gSWwzj8adwK0+dnOP5JcAPDeFs8\\u002fTvOeD3Rtzz\\u002fwN00qjebPP6jRibTzRtA\\u002fm7zBgYG50D9j2AUxx1TRP9R5P0C\\u002fItI\\u002fLL6MhBYj0z8srmfRqTLUP7W97HB7+tQ\\u002fjLAPilMY1T\\u002fg1olA\\u002f3TUP4aF\\u002fwAVXdM\\u002fladco2840j\\u002fNdIVsUEPRPz0KO+CDidA\\u002fGciIzkMB0D+JNzL2czvPP25eVdknqc4\\u002fxfVaGaQ8zj91zKRJNevNP+HkIQU6rc0\\u002f1M3shD59zT+ya\\u002fu2W1fNP+1hkL\\u002fEOM0\\u002fRVIoVnYfzT+RYtZZ\\u002fQnNPxHJP+lN98w\\u002fiijXQabmzD825rz6edfMP3j0NCpjycw\\u002frDMopBe8zD+HG01eYa\\u002fMP7nTs90Yo8w\\u002fvJInQSGXzD8e\\u002f+pbZYvMP2yfmKLVf8w\\u002fdw17o2Z0zD8=\"},\"type\":\"scatter\"}],                        {\"legend\":{\"x\":1.0,\"xanchor\":\"right\",\"y\":1.0,\"yanchor\":\"top\"},\"margin\":{\"autoexpand\":true,\"b\":45,\"r\":30,\"t\":40},\"title\":{\"text\":\"Measured vs Calculated data for experiment \\ud83d\\udd2c 'sim_lbco'\"},\"xaxis\":{\"mirror\":true,\"showline\":true,\"title\":{\"text\":\"TOF (\\u00b5s)\"},\"zeroline\":false,\"tickformat\":\",.6~g\",\"separatethousands\":true},\"yaxis\":{\"mirror\":true,\"showline\":true,\"title\":{\"text\":\"Intensity (arb. units)\"},\"zeroline\":false,\"tickformat\":\",.6~g\",\"separatethousands\":true},\"template\":{\"data\":{\"histogram2dcontour\":[{\"type\":\"histogram2dcontour\",\"colorbar\":{\"outlinewidth\":0,\"ticks\":\"\"},\"colorscale\":[[0.0,\"#0d0887\"],[0.1111111111111111,\"#46039f\"],[0.2222222222222222,\"#7201a8\"],[0.3333333333333333,\"#9c179e\"],[0.4444444444444444,\"#bd3786\"],[0.5555555555555556,\"#d8576b\"],[0.6666666666666666,\"#ed7953\"],[0.7777777777777778,\"#fb9f3a\"],[0.8888888888888888,\"#fdca26\"],[1.0,\"#f0f921\"]]}],\"choropleth\":[{\"type\":\"choropleth\",\"colorbar\":{\"outlinewidth\":0,\"ticks\":\"\"}}],\"histogram2d\":[{\"type\":\"histogram2d\",\"colorbar\":{\"outlinewidth\":0,\"ticks\":\"\"},\"colorscale\":[[0.0,\"#0d0887\"],[0.1111111111111111,\"#46039f\"],[0.2222222222222222,\"#7201a8\"],[0.3333333333333333,\"#9c179e\"],[0.4444444444444444,\"#bd3786\"],[0.5555555555555556,\"#d8576b\"],[0.6666666666666666,\"#ed7953\"],[0.7777777777777778,\"#fb9f3a\"],[0.8888888888888888,\"#fdca26\"],[1.0,\"#f0f921\"]]}],\"heatmap\":[{\"type\":\"heatmap\",\"colorbar\":{\"outlinewidth\":0,\"ticks\":\"\"},\"colorscale\":[[0.0,\"#0d0887\"],[0.1111111111111111,\"#46039f\"],[0.2222222222222222,\"#7201a8\"],[0.3333333333333333,\"#9c179e\"],[0.4444444444444444,\"#bd3786\"],[0.5555555555555556,\"#d8576b\"],[0.6666666666666666,\"#ed7953\"],[0.7777777777777778,\"#fb9f3a\"],[0.8888888888888888,\"#fdca26\"],[1.0,\"#f0f921\"]]}],\"contourcarpet\":[{\"type\":\"contourcarpet\",\"colorbar\":{\"outlinewidth\":0,\"ticks\":\"\"}}],\"contour\":[{\"type\":\"contour\",\"colorbar\":{\"outlinewidth\":0,\"ticks\":\"\"},\"colorscale\":[[0.0,\"#0d0887\"],[0.1111111111111111,\"#46039f\"],[0.2222222222222222,\"#7201a8\"],[0.3333333333333333,\"#9c179e\"],[0.4444444444444444,\"#bd3786\"],[0.5555555555555556,\"#d8576b\"],[0.6666666666666666,\"#ed7953\"],[0.7777777777777778,\"#fb9f3a\"],[0.8888888888888888,\"#fdca26\"],[1.0,\"#f0f921\"]]}],\"surface\":[{\"type\":\"surface\",\"colorbar\":{\"outlinewidth\":0,\"ticks\":\"\"},\"colorscale\":[[0.0,\"#0d0887\"],[0.1111111111111111,\"#46039f\"],[0.2222222222222222,\"#7201a8\"],[0.3333333333333333,\"#9c179e\"],[0.4444444444444444,\"#bd3786\"],[0.5555555555555556,\"#d8576b\"],[0.6666666666666666,\"#ed7953\"],[0.7777777777777778,\"#fb9f3a\"],[0.8888888888888888,\"#fdca26\"],[1.0,\"#f0f921\"]]}],\"mesh3d\":[{\"type\":\"mesh3d\",\"colorbar\":{\"outlinewidth\":0,\"ticks\":\"\"}}],\"scatter\":[{\"fillpattern\":{\"fillmode\":\"overlay\",\"size\":10,\"solidity\":0.2},\"type\":\"scatter\"}],\"parcoords\":[{\"type\":\"parcoords\",\"line\":{\"colorbar\":{\"outlinewidth\":0,\"ticks\":\"\"}}}],\"scatterpolargl\":[{\"type\":\"scatterpolargl\",\"marker\":{\"colorbar\":{\"outlinewidth\":0,\"ticks\":\"\"}}}],\"bar\":[{\"error_x\":{\"color\":\"#2a3f5f\"},\"error_y\":{\"color\":\"#2a3f5f\"},\"marker\":{\"line\":{\"color\":\"white\",\"width\":0.5},\"pattern\":{\"fillmode\":\"overlay\",\"size\":10,\"solidity\":0.2}},\"type\":\"bar\"}],\"scattergeo\":[{\"type\":\"scattergeo\",\"marker\":{\"colorbar\":{\"outlinewidth\":0,\"ticks\":\"\"}}}],\"scatterpolar\":[{\"type\":\"scatterpolar\",\"marker\":{\"colorbar\":{\"outlinewidth\":0,\"ticks\":\"\"}}}],\"histogram\":[{\"marker\":{\"pattern\":{\"fillmode\":\"overlay\",\"size\":10,\"solidity\":0.2}},\"type\":\"histogram\"}],\"scattergl\":[{\"type\":\"scattergl\",\"marker\":{\"colorbar\":{\"outlinewidth\":0,\"ticks\":\"\"}}}],\"scatter3d\":[{\"type\":\"scatter3d\",\"line\":{\"colorbar\":{\"outlinewidth\":0,\"ticks\":\"\"}},\"marker\":{\"colorbar\":{\"outlinewidth\":0,\"ticks\":\"\"}}}],\"scattermap\":[{\"type\":\"scattermap\",\"marker\":{\"colorbar\":{\"outlinewidth\":0,\"ticks\":\"\"}}}],\"scattermapbox\":[{\"type\":\"scattermapbox\",\"marker\":{\"colorbar\":{\"outlinewidth\":0,\"ticks\":\"\"}}}],\"scatterternary\":[{\"type\":\"scatterternary\",\"marker\":{\"colorbar\":{\"outlinewidth\":0,\"ticks\":\"\"}}}],\"scattercarpet\":[{\"type\":\"scattercarpet\",\"marker\":{\"colorbar\":{\"outlinewidth\":0,\"ticks\":\"\"}}}],\"carpet\":[{\"aaxis\":{\"endlinecolor\":\"#2a3f5f\",\"gridcolor\":\"#C8D4E3\",\"linecolor\":\"#C8D4E3\",\"minorgridcolor\":\"#C8D4E3\",\"startlinecolor\":\"#2a3f5f\"},\"baxis\":{\"endlinecolor\":\"#2a3f5f\",\"gridcolor\":\"#C8D4E3\",\"linecolor\":\"#C8D4E3\",\"minorgridcolor\":\"#C8D4E3\",\"startlinecolor\":\"#2a3f5f\"},\"type\":\"carpet\"}],\"table\":[{\"cells\":{\"fill\":{\"color\":\"#EBF0F8\"},\"line\":{\"color\":\"white\"}},\"header\":{\"fill\":{\"color\":\"#C8D4E3\"},\"line\":{\"color\":\"white\"}},\"type\":\"table\"}],\"barpolar\":[{\"marker\":{\"line\":{\"color\":\"white\",\"width\":0.5},\"pattern\":{\"fillmode\":\"overlay\",\"size\":10,\"solidity\":0.2}},\"type\":\"barpolar\"}],\"pie\":[{\"automargin\":true,\"type\":\"pie\"}]},\"layout\":{\"autotypenumbers\":\"strict\",\"colorway\":[\"#636efa\",\"#EF553B\",\"#00cc96\",\"#ab63fa\",\"#FFA15A\",\"#19d3f3\",\"#FF6692\",\"#B6E880\",\"#FF97FF\",\"#FECB52\"],\"font\":{\"color\":\"#2a3f5f\"},\"hovermode\":\"closest\",\"hoverlabel\":{\"align\":\"left\"},\"paper_bgcolor\":\"white\",\"plot_bgcolor\":\"white\",\"polar\":{\"bgcolor\":\"white\",\"angularaxis\":{\"gridcolor\":\"#EBF0F8\",\"linecolor\":\"#EBF0F8\",\"ticks\":\"\"},\"radialaxis\":{\"gridcolor\":\"#EBF0F8\",\"linecolor\":\"#EBF0F8\",\"ticks\":\"\"}},\"ternary\":{\"bgcolor\":\"white\",\"aaxis\":{\"gridcolor\":\"#DFE8F3\",\"linecolor\":\"#A2B1C6\",\"ticks\":\"\"},\"baxis\":{\"gridcolor\":\"#DFE8F3\",\"linecolor\":\"#A2B1C6\",\"ticks\":\"\"},\"caxis\":{\"gridcolor\":\"#DFE8F3\",\"linecolor\":\"#A2B1C6\",\"ticks\":\"\"}},\"coloraxis\":{\"colorbar\":{\"outlinewidth\":0,\"ticks\":\"\"}},\"colorscale\":{\"sequential\":[[0.0,\"#0d0887\"],[0.1111111111111111,\"#46039f\"],[0.2222222222222222,\"#7201a8\"],[0.3333333333333333,\"#9c179e\"],[0.4444444444444444,\"#bd3786\"],[0.5555555555555556,\"#d8576b\"],[0.6666666666666666,\"#ed7953\"],[0.7777777777777778,\"#fb9f3a\"],[0.8888888888888888,\"#fdca26\"],[1.0,\"#f0f921\"]],\"sequentialminus\":[[0.0,\"#0d0887\"],[0.1111111111111111,\"#46039f\"],[0.2222222222222222,\"#7201a8\"],[0.3333333333333333,\"#9c179e\"],[0.4444444444444444,\"#bd3786\"],[0.5555555555555556,\"#d8576b\"],[0.6666666666666666,\"#ed7953\"],[0.7777777777777778,\"#fb9f3a\"],[0.8888888888888888,\"#fdca26\"],[1.0,\"#f0f921\"]],\"diverging\":[[0,\"#8e0152\"],[0.1,\"#c51b7d\"],[0.2,\"#de77ae\"],[0.3,\"#f1b6da\"],[0.4,\"#fde0ef\"],[0.5,\"#f7f7f7\"],[0.6,\"#e6f5d0\"],[0.7,\"#b8e186\"],[0.8,\"#7fbc41\"],[0.9,\"#4d9221\"],[1,\"#276419\"]]},\"xaxis\":{\"gridcolor\":\"#EBF0F8\",\"linecolor\":\"#EBF0F8\",\"ticks\":\"\",\"title\":{\"standoff\":15},\"zerolinecolor\":\"#EBF0F8\",\"automargin\":true,\"zerolinewidth\":2},\"yaxis\":{\"gridcolor\":\"#EBF0F8\",\"linecolor\":\"#EBF0F8\",\"ticks\":\"\",\"title\":{\"standoff\":15},\"zerolinecolor\":\"#EBF0F8\",\"automargin\":true,\"zerolinewidth\":2},\"scene\":{\"xaxis\":{\"backgroundcolor\":\"white\",\"gridcolor\":\"#DFE8F3\",\"linecolor\":\"#EBF0F8\",\"showbackground\":true,\"ticks\":\"\",\"zerolinecolor\":\"#EBF0F8\",\"gridwidth\":2},\"yaxis\":{\"backgroundcolor\":\"white\",\"gridcolor\":\"#DFE8F3\",\"linecolor\":\"#EBF0F8\",\"showbackground\":true,\"ticks\":\"\",\"zerolinecolor\":\"#EBF0F8\",\"gridwidth\":2},\"zaxis\":{\"backgroundcolor\":\"white\",\"gridcolor\":\"#DFE8F3\",\"linecolor\":\"#EBF0F8\",\"showbackground\":true,\"ticks\":\"\",\"zerolinecolor\":\"#EBF0F8\",\"gridwidth\":2}},\"shapedefaults\":{\"line\":{\"color\":\"#2a3f5f\"}},\"annotationdefaults\":{\"arrowcolor\":\"#2a3f5f\",\"arrowhead\":0,\"arrowwidth\":1},\"geo\":{\"bgcolor\":\"white\",\"landcolor\":\"white\",\"subunitcolor\":\"#C8D4E3\",\"showland\":true,\"showlakes\":true,\"lakecolor\":\"white\"},\"title\":{\"x\":0.05},\"mapbox\":{\"style\":\"light\"}}}},                        {\"displaylogo\": false, \"modeBarButtonsToRemove\": [\"select2d\", \"lasso2d\", \"zoomIn2d\", \"zoomOut2d\", \"autoScale2d\"], \"responsive\": true}                    )                };            </script>        </div>"
      ],
      "text/plain": [
       "<IPython.core.display.HTML object>"
      ]
     },
     "metadata": {},
     "output_type": "display_data"
    }
   ],
   "source": [
    "project_2.sample_models['lbco'].cell.length_a.free = True\n",
    "\n",
    "project_2.analysis.fit()\n",
    "\n",
    "project_2.plot_meas_vs_calc(expt_name='sim_lbco')"
   ]
  },
  {
   "cell_type": "markdown",
   "id": "160",
   "metadata": {},
   "source": [
    "One of the main goals of this study was to refine the lattice parameter of\n",
    "the LBCO phase. As shown in the updated fit results, the overall fit has\n",
    "improved significantly, even though the change in cell length is less than\n",
    "1% of the initial value. This demonstrates how even a small adjustment to the\n",
    "lattice parameter can have a substantial impact on the quality of the fit."
   ]
  },
  {
   "cell_type": "markdown",
   "id": "161",
   "metadata": {},
   "source": [
    "#### Exercise 5.5: Visualize the Fit Results in d-spacing\n",
    "\n",
    "Plot measured vs calculated diffraction patterns in d-spacing instead of TOF."
   ]
  },
  {
   "cell_type": "markdown",
   "id": "162",
   "metadata": {},
   "source": [
    "**Hint:**"
   ]
  },
  {
   "cell_type": "markdown",
   "id": "163",
   "metadata": {},
   "source": [
    "Use the `plot_meas_vs_calc` method of the project and set the\n",
    "`d_spacing` parameter to `True`."
   ]
  },
  {
   "cell_type": "markdown",
   "id": "164",
   "metadata": {},
   "source": [
    "**Solution:**"
   ]
  },
  {
   "cell_type": "code",
   "execution_count": 44,
   "id": "165",
   "metadata": {
    "execution": {
     "iopub.execute_input": "2025-08-31T19:33:13.597756Z",
     "iopub.status.busy": "2025-08-31T19:33:13.597587Z",
     "iopub.status.idle": "2025-08-31T19:33:13.805216Z",
     "shell.execute_reply": "2025-08-31T19:33:13.804110Z"
    }
   },
   "outputs": [
    {
     "data": {
      "text/html": [
       "<div>                        <script type=\"text/javascript\">window.PlotlyConfig = {MathJaxConfig: 'local'};</script>\n",
       "        <script charset=\"utf-8\" src=\"https://cdn.plot.ly/plotly-3.1.0.min.js\" integrity=\"sha256-Ei4740bWZhaUTQuD6q9yQlgVCMPBz6CZWhevDYPv93A=\" crossorigin=\"anonymous\"></script>                <div id=\"c47d95d0-617c-4543-8e25-4b616662cbe2\" class=\"plotly-graph-div\" style=\"height:100%; width:100%;\"></div>            <script type=\"text/javascript\">                window.PLOTLYENV=window.PLOTLYENV || {};                                if (document.getElementById(\"c47d95d0-617c-4543-8e25-4b616662cbe2\")) {                    Plotly.newPlot(                        \"c47d95d0-617c-4543-8e25-4b616662cbe2\",                        [{\"line\":{\"color\":\"rgb(31, 119, 180)\"},\"mode\":\"lines+markers\",\"name\":\"Measured (Imeas)\",\"x\":{\"dtype\":\"f8\",\"bdata\":\"\\u002f\\u002f\\u002ffbuf77T\\u002f\\u002f\\u002f\\u002f8SSgzuP\\u002f\\u002f\\u002fz\\u002fOrHO4\\u002f\\u002f\\u002f\\u002fvlw4t7j\\u002f\\u002f\\u002f794cD3uP\\u002f\\u002f\\u002f3xzTTe4\\u002f\\u002f\\u002f\\u002f\\u002fwDVe7j\\u002f\\u002f\\u002f8+hl27uP\\u002f\\u002f\\u002fn4L5fu4\\u002f\\u002f\\u002f+\\u002fJlyP7j\\u002f\\u002f\\u002f9\\u002fKvp\\u002fuP\\u002f\\u002f\\u002fr6sgsO4\\u002f\\u002f\\u002f\\u002fPT4PA7j\\u002f\\u002f\\u002f58w5dDuP\\u002f\\u002f\\u002fv9RH4e4\\u002f\\u002f\\u002f\\u002ffeKrx7j\\u002f\\u002f\\u002f69ZDALvP\\u002f\\u002f\\u002ffzpuEu8\\u002f\\u002f\\u002f+f3tAi7z\\u002f\\u002f\\u002f7+CMzPvP\\u002f\\u002f\\u002f3yaWQ+8\\u002f\\u002f\\u002f+vB\\u002fhT7z\\u002f\\u002f\\u002f3\\u002foWWTvP\\u002f\\u002f\\u002fn4y8dO8\\u002f\\u002f\\u002f+\\u002fMB+F7z\\u002f\\u002f\\u002f48RgZXvP\\u002f\\u002f\\u002fr7Xjpe8\\u002f\\u002f\\u002f9\\u002flkW27z\\u002f\\u002f\\u002f586qMbvP\\u002f\\u002f\\u002fbxsK1+8\\u002f\\u002f\\u002f+Pv2zn7z\\u002f\\u002f\\u002f1+gzvfvPwAAQKIYBPA\\u002fAACokkkM8D8AALjkehTwPwAAyDasHPA\\u002fAAAwJ90k8D8AAEB5Di3wPwAAqGk\\u002fNfA\\u002fAAC4u3A98D8AACCsoUXwPwAAMP7STfA\\u002fAACY7gNW8D8AAKhANV7wPwAAuJJmZvA\\u002fAAAgg5du8D8AADDVyHbwPwAAmMX5fvA\\u002fAACoFyuH8D8AALhpXI\\u002fwPwAAIFqNl\\u002fA\\u002fAACISr6f8D8AAJic76fwPwAAqO4gsPA\\u002fAAAQ31G48D8AACAxg8DwPwAAiCG0yPA\\u002fAACYc+XQ8D8AAKjFFtnwPwAAELZH4fA\\u002fAAB4pnjp8D8AAIj4qfHwPwAAmErb+fA\\u002fAAAAOwwC8T8AABCNPQrxPwAAeH1uEvE\\u002fAACIz58a8T8AAJgh0SLxPwAAABICK\\u002fE\\u002fAABoAjMz8T8AAHhUZDvxPwAAiKaVQ\\u002fE\\u002fAACY+MZL8T8AAADp91PxPwAAaNkoXPE\\u002fAAB4K1pk8T8AAIh9i2zxPwAA8G28dPE\\u002fAAAAwO188T8AAGiwHoXxPwAAeAJQjfE\\u002fAADg8oCV8T8AAPBEsp3xPwAAWDXjpfE\\u002fAABohxSu8T8AAHjZRbbxPwAA4Ml2vvE\\u002fAADwG6jG8T8AAFgM2c7xPwAAaF4K1\\u002fE\\u002fAADQTjvf8T8AAOCgbOfxPwAASJGd7\\u002fE\\u002fAABY48738T8AAMDT\\u002f\\u002f\\u002fxPwAA0CUxCPI\\u002fAADgd2IQ8j8AAEhokxjyPwAAWLrEIPI\\u002fAADAqvUo8j8AAND8JjHyPwAA4E5YOfI\\u002fAABIP4lB8j8AALAvuknyPwAAwIHrUfI\\u002fAADQ0xxa8j8AADjETWLyPwAASBZ\\u002favI\\u002fAACwBrBy8j8AAMBY4XryPwAA0KoSg\\u002fI\\u002fAAA4m0OL8j8AAKCLdJPyPwAAsN2lm\\u002fI\\u002fAADAL9ej8j8AACggCKzyPwAAOHI5tPI\\u002fAACgYmq88j8AALC0m8TyPwAAwAbNzPI\\u002fAAAo9\\u002f3U8j8AAJDnLt3yPwAAoDlg5fI\\u002fAACwi5Ht8j8AAMDdwvXyPwAAKM7z\\u002ffI\\u002fAACQviQG8z8AAKAQVg7zPwAAsGKHFvM\\u002fAAAYU7ge8z8AACil6SbzPwAAkJUaL\\u002fM\\u002fAACg50s38z8AALA5fT\\u002fzPwAAGCquR\\u002fM\\u002fAACAGt9P8z8AAJBsEFjzPwAAoL5BYPM\\u002fAAAIr3Jo8z8AABgBpHDzPwAAgPHUePM\\u002fAACQQwaB8z8AAPgzN4nzPwAACIZokfM\\u002fAABwdpmZ8z8AAIDIyqHzPwAA6Lj7qfM\\u002fAAD4Ci2y8z8AAAhdXrrzPwAAcE2PwvM\\u002fAACAn8DK8z8AAOiP8dLzPwAA+OEi2\\u002fM\\u002fAAAINFTj8z8AAHAkhevzPwAA2BS28\\u002fM\\u002fAADoZuf78z8AAPi4GAT0PwAAYKlJDPQ\\u002fAABw+3oU9D8AANjrqxz0PwAA6D3dJPQ\\u002fAAD4jw4t9D8AAGCAPzX0PwAAyHBwPfQ\\u002fAADYwqFF9D8AAOgU0030PwAAUAUEVvQ\\u002fAABgVzVe9D8AAMhHZmb0PwAA2JmXbvQ\\u002fAADo68h29D8AAFDc+X70PwAAuMwqh\\u002fQ\\u002fAADIHlyP9D8AANhwjZf0PwAA6MK+n\\u002fQ\\u002fAABQs++n9D8AALijILD0PwAAyPVRuPQ\\u002fAADYR4PA9D8AAEA4tMj0PwAAUIrl0PQ\\u002fAAC4ehbZ9D8AAMjMR+H0PwAA2B556fQ\\u002fAABAD6rx9D8AAKj\\u002f2vn0PwAAuFEMAvU\\u002fAADIoz0K9T8AADCUbhL1PwAAQOafGvU\\u002fAACo1tAi9T8AALgoAiv1PwAAyHozM\\u002fU\\u002fAAAwa2Q79T8AAJhblUP1PwAAqK3GS\\u002fU\\u002fAAC4\\u002f\\u002fdT9T8AACDwKFz1PwAAMEJaZPU\\u002fAACYMots9T8AAKiEvHT1PwAAEHXtfPU\\u002fAAAgxx6F9T8AADAZUI31PwAAmAmBlfU\\u002fAAAA+rGd9T8AABBM46X1PwAAIJ4UrvU\\u002fAACIjkW29T\\u002f\\u002f\\u002f5fgdr71P\\u002f\\u002f\\u002f\\u002f9CnxvU\\u002f\\u002f\\u002f8PI9nO9T\\u002f\\u002f\\u002fx91Ctf1P\\u002f\\u002f\\u002fh2U73\\u002fU\\u002f\\u002f\\u002f\\u002fvVWzn9T\\u002f\\u002f\\u002f\\u002f+nne\\u002f1P\\u002f\\u002f\\u002fD\\u002frO9\\u002fU\\u002f\\u002f\\u002f936v\\u002f\\u002f9T\\u002f\\u002f\\u002f4c8MQj2P\\u002f\\u002f\\u002f7yxiEPY\\u002f\\u002f\\u002f\\u002f\\u002ffpMY9j\\u002f\\u002f\\u002fw\\u002fRxCD2P\\u002f\\u002f\\u002fd8H1KPY\\u002f\\u002f\\u002f\\u002ffsSYx9j\\u002f\\u002f\\u002f+8DWDn2P\\u002f\\u002f\\u002f\\u002f1WJQfY\\u002f\\u002f\\u002f8PqLpJ9j\\u002f\\u002f\\u002f3eY61H2P\\u002f\\u002f\\u002f34gcWvY\\u002f\\u002f\\u002f\\u002fv2k1i9j\\u002f\\u002f\\u002f\\u002f8sf2r2P\\u002f\\u002f\\u002fZx2wcvY\\u002f\\u002f\\u002f93b+F69j\\u002f\\u002f\\u002f99fEoP2P\\u002f\\u002f\\u002f77FDi\\u002fY\\u002f\\u002f\\u002f\\u002f\\u002fA3WT9j\\u002f\\u002f\\u002f2f0pZv2P\\u002f\\u002f\\u002fz+TWo\\u002fY\\u002f\\u002f\\u002f\\u002ffNgis9j\\u002f\\u002f\\u002f++IObT2P\\u002f\\u002f\\u002fV3lqvPY\\u002f\\u002f\\u002f9ny5vE9j\\u002f\\u002f\\u002f8+7zMz2P\\u002f\\u002f\\u002f3w3+1PY\\u002f\\u002f\\u002f\\u002fvXy\\u002fd9j\\u002f\\u002f\\u002f1dQYOX2P\\u002f\\u002f\\u002fv0CR7fY\\u002f\\u002f\\u002f\\u002fPksL19j\\u002f\\u002f\\u002f9\\u002fk8\\u002f32P\\u002f\\u002f\\u002fR9UkBvc\\u002f\\u002f\\u002f9XJ1YO9z\\u002f\\u002f\\u002f78Xhxb3P\\u002f\\u002f\\u002fz2m4Hvc\\u002f\\u002f\\u002f83Wukm9z\\u002f\\u002f\\u002f0esGi\\u002f3P\\u002f\\u002f\\u002fV\\u002f5LN\\u002fc\\u002f\\u002f\\u002f+\\u002f7nw\\u002f9z\\u002f\\u002f\\u002f89Arkf3P\\u002f\\u002f\\u002fNzHfT\\u002fc\\u002f\\u002f\\u002f9HgxBY9z\\u002f\\u002f\\u002f69zQWD3P\\u002f\\u002f\\u002fv8VyaPc\\u002f\\u002f\\u002f8ntqNw9z\\u002f\\u002f\\u002fzcI1Xj3P\\u002f\\u002f\\u002fR1oGgfc\\u002f\\u002f\\u002f+vSjeJ9z\\u002f\\u002f\\u002fxc7aJH3P\\u002f\\u002f\\u002fJ42Zmfc\\u002f\\u002f\\u002f8338qh9z\\u002f\\u002f\\u002f5\\u002fP+6n3P\\u002f\\u002f\\u002fryEtsvc\\u002f\\u002f\\u002f8XEl669z\\u002f\\u002f\\u002fydkj8L3P\\u002f\\u002f\\u002fN7bAyvc\\u002f\\u002f\\u002f+fpvHS9z\\u002f\\u002f\\u002fweXItv3P\\u002f\\u002f\\u002fF+lT4\\u002fc\\u002f\\u002f\\u002f8nO4Xr9z\\u002f\\u002f\\u002f48rtvP3P\\u002f\\u002f\\u002fn33n+\\u002fc\\u002f\\u002f\\u002f8HbhgE+D\\u002f\\u002f\\u002fxfASQz4P\\u002f\\u002f\\u002fJxJ7FPg\\u002f\\u002f\\u002f+PAqwc+D\\u002f\\u002f\\u002f59U3ST4P\\u002f\\u002f\\u002fB0UOLfg\\u002f\\u002f\\u002f8Xlz81+D\\u002f\\u002f\\u002fyfpcD34P\\u002f\\u002f\\u002fj9mhRfg\\u002f\\u002f\\u002f\\u002f3ydJN+D\\u002f\\u002f\\u002fwccBFb4P\\u002f\\u002f\\u002fF241Xvg\\u002f\\u002f\\u002f9\\u002fXmZm+D\\u002f\\u002f\\u002f4+wl274P\\u002f\\u002f\\u002f96DIdvg\\u002f\\u002f\\u002f8H8\\u002fl++D\\u002f\\u002f\\u002fxdFK4f4P\\u002f\\u002f\\u002ffzVcj\\u002fg\\u002f\\u002f\\u002f\\u002fnJY2X+D\\u002f\\u002f\\u002f\\u002fd3vp\\u002f4P\\u002f\\u002f\\u002fB8rvp\\u002fg\\u002f\\u002f\\u002f9vuiCw+D\\u002f\\u002f\\u002f38MUrj4P\\u002f\\u002f\\u002f5\\u002fyCwPg\\u002f\\u002f\\u002f\\u002f3TrTI+D\\u002f\\u002f\\u002fweh5dD4P\\u002f\\u002f\\u002fb5EW2fg\\u002f\\u002f\\u002f9\\u002f40fh+D\\u002f\\u002f\\u002f+fTeOn4P\\u002f\\u002f\\u002f9yWq8fg\\u002f\\u002f\\u002f9fFtv5+D\\u002f\\u002f\\u002f29oDAL5P\\u002f\\u002f\\u002f11g9Cvk\\u002f\\u002f\\u002f\\u002fnqm4S+T\\u002f\\u002f\\u002f0+bnxr5P\\u002f\\u002f\\u002fX+3QIvk\\u002f\\u002f\\u002f9vPwIr+T\\u002f\\u002f\\u002f9cvMzP5P\\u002f\\u002f\\u002f54FkO\\u002fk\\u002f\\u002f\\u002f9PcpVD+T\\u002f\\u002f\\u002f1\\u002fExkv5P\\u002f\\u002f\\u002fx7T3U\\u002fk\\u002f\\u002f\\u002f\\u002fXBilc+T\\u002f\\u002f\\u002fz\\u002f3WWT5P\\u002f\\u002f\\u002fT0mLbPk\\u002f\\u002f\\u002f9fm7x0+T\\u002f\\u002f\\u002f8eL7Xz5P\\u002f\\u002f\\u002fL3wehfk\\u002f\\u002f\\u002f8\\u002fzk+N+T\\u002f\\u002f\\u002f08ggZX5P\\u002f\\u002f\\u002ftxCynfk\\u002f\\u002f\\u002f\\u002fHYuOl+T\\u002f\\u002f\\u002fy9TFK75P\\u002f\\u002f\\u002fP6VFtvk\\u002f\\u002f\\u002f9P93a++T\\u002f\\u002f\\u002f7fnp8b5P\\u002f\\u002f\\u002fxznZzvk\\u002f\\u002f\\u002f8vKgrX+T\\u002f\\u002f\\u002fz98O9\\u002f5P\\u002f\\u002f\\u002fT85s5\\u002fk\\u002f\\u002f\\u002f+3vp3v+T\\u002f\\u002f\\u002fx+vzvf5P\\u002f\\u002f\\u002fLwEAAPo\\u002f\\u002f\\u002f8\\u002fUzEI+j\\u002f\\u002f\\u002f6dDYhD6P\\u002f\\u002f\\u002ft5WTGPo\\u002f\\u002f\\u002f8fhsQg+j\\u002f\\u002f\\u002fy\\u002fY9Sj6P\\u002f\\u002f\\u002fPyonMfo\\u002f\\u002f\\u002f+nGlg5+j\\u002f\\u002f\\u002fw8LiUH6P\\u002f\\u002f\\u002fH126Sfo\\u002f\\u002f\\u002f8vr+tR+j\\u002f\\u002f\\u002f5efHFr6P\\u002f\\u002f\\u002fp\\u002fFNYvo\\u002f\\u002f\\u002f8P4n5q+j\\u002f\\u002f\\u002fx80sHL6P\\u002f\\u002f\\u002fL4bhevo\\u002f\\u002f\\u002f+XdhKD+j\\u002f\\u002f\\u002f6fIQ4v6P\\u002f\\u002f\\u002fD7l0k\\u002fo\\u002f\\u002f\\u002f8fC6ab+j\\u002f\\u002f\\u002f4f71qP6P\\u002f\\u002f\\u002fl00IrPo\\u002f\\u002f\\u002f\\u002f\\u002fPTm0+j\\u002f\\u002f\\u002fw+Qarz6P\\u002f\\u002f\\u002fH+KbxPo\\u002f\\u002f\\u002f+H0szM+j\\u002f\\u002f\\u002f5ck\\u002ftT6P\\u002f\\u002f\\u002f\\u002fxQv3fo\\u002f\\u002f\\u002f8PZ2Dl+j\\u002f\\u002f\\u002f3dXke36P\\u002f\\u002f\\u002fh6nC9fo\\u002f\\u002f\\u002f\\u002fvmfP9+j\\u002f\\u002f\\u002f\\u002f\\u002frJAb7P\\u002f\\u002f\\u002fZ9xVDvs\\u002f\\u002f\\u002f93LocW+z\\u002f\\u002f\\u002f4eAuB77P\\u002f\\u002f\\u002f73DpJvs\\u002f\\u002f\\u002f9XYRov+z\\u002f\\u002f\\u002f2ezSzf7P\\u002f\\u002f\\u002fdwV9P\\u002fs\\u002f\\u002f\\u002f\\u002ff9a1H+z\\u002f\\u002f\\u002f+9H30\\u002f7P\\u002f\\u002f\\u002fVzgQWPs\\u002f\\u002f\\u002f9nikFg+z\\u002f\\u002f\\u002f3fccmj7P\\u002f\\u002f\\u002f38yjcPs\\u002f\\u002f\\u002f\\u002fvHtV4+z\\u002f\\u002f\\u002f1cPBoH7P\\u002f\\u002f\\u002fZ2E3ifs\\u002f\\u002f\\u002f93s2iR+z\\u002f\\u002f\\u002f9+jmZn7P\\u002f\\u002f\\u002fR5TKofs\\u002f\\u002f\\u002f9X5vup+z\\u002f\\u002f\\u002f2c4LbL7P\\u002f\\u002f\\u002fzyheuvs\\u002f\\u002f\\u002f\\u002ffeo\\u002fC+z\\u002f\\u002f\\u002f0drwMr7P\\u002f\\u002f\\u002fV73x0vs\\u002f\\u002f\\u002f9nDyPb+z\\u002f\\u002f\\u002f8\\u002f\\u002fU+P7P\\u002f\\u002f\\u002fN\\u002fCE6\\u002fs\\u002f\\u002f\\u002f9HQrbz+z\\u002f\\u002f\\u002f1eU5\\u002fv7P\\u002f\\u002f\\u002fv4QYBPw\\u002f\\u002f\\u002f\\u002fP1kkM\\u002fD\\u002f\\u002f\\u002fzfHehT8P\\u002f\\u002f\\u002fRxmsHPw\\u002f\\u002f\\u002f9Xa90k\\u002fD\\u002f\\u002f\\u002f79bDi38P\\u002f\\u002f\\u002fz60\\u002fNfw\\u002f\\u002f\\u002f83nnA9\\u002fD\\u002f\\u002f\\u002f0fwoUX8P\\u002f\\u002f\\u002fV0LTTfw\\u002f\\u002f\\u002f+\\u002fMgRW\\u002fD\\u002f\\u002f\\u002fycjNV78P\\u002f\\u002f\\u002fN3VmZvw\\u002f\\u002f\\u002f9Hx5du\\u002fD\\u002f\\u002f\\u002f6+3yHb8P\\u002f\\u002f\\u002fvwn6fvw\\u002f\\u002f\\u002f8n+iqH\\u002fD\\u002f\\u002f\\u002fzdMXI\\u002f8P\\u002f\\u002f\\u002fnzyNl\\u002fw\\u002f\\u002f\\u002f+vjr6f\\u002fD\\u002f\\u002f\\u002fxd\\u002f76f8P\\u002f\\u002f\\u002fJ9EgsPw\\u002f\\u002f\\u002f+PwVG4\\u002fD8=\"},\"y\":{\"dtype\":\"f8\",\"bdata\":\"Ro6RutwL0D8+eTa7RpzSPwOlc1uRBtM\\u002fbbst91Am0z9IdSTJCg7UP4Nj+6elmdI\\u002fMPXJL3U5zD\\u002fshCSHPO\\u002fTPyqwfDWTKdE\\u002fBoSfnKzizT\\u002fPHD6XudLQP2ct7xDz5NQ\\u002fR9vipM2Z0T\\u002fTVztgD03WP7L5CPz17No\\u002fBTTkpWo74j8jH3quAFzxP6EN9Bf4dPU\\u002fYPwGlWGp9j\\u002fQbQCKc7zxP+FV\\u002fYpmr+c\\u002fnK\\u002f5FipR4D\\u002fY3RcceKbUP9Oy1IE4eNE\\u002fe46gr1Yt0T9Ul6zu9CvNP\\u002fWPISGFC9E\\u002fLl3jZS8W0z+krMCKS2PRPwL520lBmcU\\u002fpwEKrSEr1D\\u002fHs+pSAYfOP8QlMDK9EMw\\u002fH6L2wpEJ0j+DtLLt7e3KP3krf9k2oNE\\u002fVwRLzsqW0T9YXL6iMQnHP32K6+mnLdE\\u002fU\\u002fvtwoNl0D8S10IUAjzOP8FJxXoLzs8\\u002fPRI0+Wbj0j8s78UhR53NPwyuEmjWltA\\u002fjXA0WdNH0z8tparsG4zSP2rd\\u002f4aFK9Q\\u002fU4UWvO+u1D+kXuKEnBHZP1fFM4JFA+M\\u002fCjBUSEtG5D8pip8xWg3mP7TPMvFdQOE\\u002f79T3FwIa2D8JWApgogLXP+EtS4D6StM\\u002fBXgIISde0j83rEWJgAPRP7CVjV7uZdM\\u002fBGD64UtByz8ymLoDgrjOP5jltZeZts8\\u002f6YS3C4UTzz\\u002fbp778UqDRP52tTDoihtE\\u002fWHkIogBG0j8hs7Dm0A7RP0nH\\u002fYMXPdE\\u002f0kTan0mZ0D8EYuB0WYnMP8Awf\\u002f3aFc4\\u002feF\\u002f+ZNoEzz\\u002fbnfgrkjzPP4ZRI\\u002fyCic4\\u002f+CC9ZXv40D8DTFs5DB\\u002fOPxMpBqLWVc8\\u002fKLqWPXAF0j939q5oeC3RP9SfuY3Z\\u002fNU\\u002fk399aCLX0T+F6CzufpjQPwZopOYjmtM\\u002fbLjJ4ypL1T8aTh4uvfzYP0zRbO2lKds\\u002fYz75FGWn2z9Dx2PrXszaP1M41JgkX+M\\u002f1fYBVjhi8D+4+sEkCo77PxYrTMfj9AZA6PESrNtFCkDOPABsc14IQMrd5CkoHv0\\u002fNt8Tbo5N7T+wEBj52PfgP6YFcpPFG9c\\u002f+L8BeWvf0T8c6TkNfQrQP2PIMo4Yes8\\u002fp4aAGrlO0T\\u002f6xhchBxzPP5OlsZH8X84\\u002fpsIHhmaM0T8qAUEy7HTMP6FuMx2wzs8\\u002fT9u6OFcs0z\\u002f+pL+6\\u002fXjSP0XPs4GC\\u002f9Q\\u002f15RpOywH1z8CCgR\\u002fjq7VP\\u002fGoTsqBiuM\\u002fIKG20YiU8D\\u002fQCmKkAj79Pxy80DvsuQ1AFfR\\u002f+RtvGkDZV\\u002f\\u002fD3HseQHwK0\\u002fpVXBlAwPOEYZSPD0CnM0Or7Lz9Pz+e6Ew7L+8\\u002fDt1OCRUE4z\\u002fP0t44MBHaP57OmGw7y9Q\\u002fcYKkyqAm0T9eQuew8dvNP3gznDf4stM\\u002fWZ7t3e5azT9PAD2VNDrPP2QjoTNsstA\\u002f+Fqj3GwI0D\\u002fzjXo7vxrPPzFnrroqc8s\\u002f\\u002fxCjCx7Gzz9lOkARXCvPP4A3px6rENA\\u002fraTmWO9I0T+Z0rcLi2\\u002fMPxUMStvurc8\\u002f2Mr0SRHyzT9i4fScg53RP7N9+8XoKNE\\u002f97wivgsu2D9zQHi473ffP1hPa5r9PeQ\\u002fQv7ocwqz5D9FP3IZAf3hP2b4P\\u002fUM3dg\\u002fPu8wXTD51D+UORqANqnTP4IcWmex+tM\\u002fwCgdtQs31D\\u002f0MtLXQ1\\u002fWP\\u002fmd35gIMNg\\u002fb7tOMUJO0z94r\\u002fZrGerQP55M6Un5k88\\u002faaVwC8WI0D\\u002fFUu3nhh3MP1oxXWEFN88\\u002f8pb0A25EzT9dEp7+uT7NP4KaONiNPdE\\u002fEAWqee4Q0j+3CsTdK4zPPyGgkVGG\\u002fss\\u002f0f4FjWSr0D+VM30GqK\\u002fQP50Lm38O9M8\\u002ftPkh8jmqzD9YxD\\u002fhu6rQP6yhzw8MwNA\\u002f3WL9Y3tHzT9HlTWRK0nQP4GIv1XRJdA\\u002fHhZbIq7R0D9CR1RKUkrSP8mqAKWDSNI\\u002frVrfioqu0T9hNC7bDpHRP1UAjXfNRdE\\u002fjVP2aQ630D+Wd5OzZdfPP4muZtw7ktA\\u002fIEbKW0M2zz8lA8jEu6LQP7eP4MUrEs8\\u002fBT2CBMEczD9Xqs8hTsrNP4bosqSjq84\\u002fEUfznKB7zj\\u002faAGTbHpfNP6I+a\\u002fsFRtA\\u002fvuPPWZPe0D9EewhYmOjQP0CZtpm0C84\\u002fjANvMBbi0D+GPWvKJsjQP6v78opALs4\\u002fimbZQfFyzz9WHoLabmfPP7Fedk69X9A\\u002fBt2QBbE6zz+v6QpNdlvQPxdTdd52MdA\\u002frmNw+Uko0T\\u002fdDgP36JfTPy+OdC3yjtU\\u002frVZW+\\u002fn42D8S2RBGmATaP0r9c\\u002f5zPN0\\u002fx+QFwOw95D+9bQWt45fuP0V48u5YUvk\\u002flrIt2s\\u002fuB0ByWRn3TC0WQAKQuTj7ISJATGNCUZhfJkCEf31bs8UkQCwSxI35jx1ATqMgkrrOD0D++dsdqkEBQMeeFNZKWvM\\u002f7DpYraly6D\\u002fiR0BoAvHgPwGxpaYuqNk\\u002fCISfuQwV1D\\u002fC2f69jTfSP68FS3+pcdA\\u002f5oJxm1Th0T\\u002fRivKc9QzQP0aI79aeqNA\\u002fXoRdk0afzT9LsHL2uFHRP4M18QLy\\u002fc8\\u002fJ76C3f5Xzj9S5Z0v7wHQP2kjEFd2rMw\\u002flXZlmiN8zj+fmTU0JzHPP88dW5zL188\\u002fvDJd95wDzj9m9IsL7TzNPxszKz+Nd88\\u002ff+\\u002fvi8Mv0D\\u002fPU884i9LPP0IX3okgIM4\\u002fU\\u002fCD4pqS0D+cCwEDi9zLP4eJ34FkDM8\\u002fZ89p9O+ezz8H8emuGRrRP3guQjU3RM4\\u002fhNidpMlezj9XUPeoyoHQP\\u002fiOEnWDb84\\u002fKncJM3UVyz\\u002fttMsKWgfQPyFjEwAfb88\\u002fo\\u002f472ZgJzT8mbvpGE8nMP9MA1JwI3cw\\u002fFSnT0w5Pzz+Xtj2ZjZDOP7fTkKgoC84\\u002fQbzSO3rDzj+I2NqktLvNP99iG5aSQ9A\\u002fL9jzVoLJ0D88psptKKDOPxxaRsYPPc8\\u002fWPbQqTY8zD8TbcwLnELQP+nHnfH+F84\\u002fVrbnVtAm0D\\u002fPexIhFZjOPyfZAgBMKs8\\u002fQSsh1ElSzj9qdmydonDQP\\u002f5buiN9mc8\\u002feSdKsuxdzz\\u002fsXT1s2MfNP\\u002fU8yBbJ2M4\\u002ffLIcYa7azj+q6qg7HEbQPwtZ0y3Z1c8\\u002fGWQzml4Uzj8uqJ4JTuDQP4mR24UJlM8\\u002fFZWnAiLnzj\\u002ftIVB4MLXOP9\\u002f0ahYnY84\\u002f7yzOB7Amzz9ESLzpSIrMP+4Zd9KzDc0\\u002fcjmkULNYzz+klLijmzTPPzZnNg6MGM8\\u002f+f2d8Sj4zz\\u002f8+yWY6hvRP2K9Qmt7O9E\\u002fstqM2cmjzz8hFfDuZlvRP3e8Vtk1Us8\\u002fjzUcnwvvzz9QwSUTy2TOPw4yZED+ocw\\u002f6GmsydgyzT+w6A+x\\u002fyLOP2E1gkoEJNA\\u002f3LbNHJdnyz87ZWoRhL\\u002fOP+SnbKbz8c8\\u002fb30HTCfizD85zB1+q4vQPzgOhfs959A\\u002f2k+O+t9H0j+0rcCm8dHSP0Hsg7Zoa9U\\u002fkLYaniOe1z+vstWwjjbePz9Hd+9gPuI\\u002fVntUQgfv5j\\u002ff6\\u002fbtM6TtP5YeH+PEE+8\\u002fLMq6vclX7D+XC8IAA87mP71xYE5qT+E\\u002f+uI8ZSYm2z9vf5aG75HWP605ZLPFotM\\u002fXqwHc9O10z+0s2sKDDDRPwpmpP2b49A\\u002fykYb9z6szj8A1ZdQnsjNPwzBt3Rtx9A\\u002fafLGfFsJzT9V3mIdsoPOP09fQJtrB84\\u002fB8wFlnnv0D+\\u002fhp7YmezNP8A71obKM9E\\u002fGDjevl1z0j9Yf5EaktzSP7Ln72esktU\\u002fgEoj9AR52D\\u002fttFJsbcDcP2xR5U4KSt0\\u002fPobrzuo32z9rJMG+KyzZP\\u002f28F7luzNY\\u002fV2XrDJhD1D+evabhTQfSP+EGvPi6nNE\\u002fL1zpV8b4zj\\u002fu6q2T+JTPP4kYz96Fv80\\u002fbkPtwK8mzT\\u002f16qtBDTvNP8zSCE8BM8s\\u002fQy9hZvnyzT8Spz+G4q7MPzQzpVQdDtA\\u002f77VQpOBizD\\u002f3yrQ4u1DPP06HVdmFusw\\u002fQC5666Wfzj+YzsYoMuLOP9AZi6kQ8Mo\\u002famHTB8fszj8nWdwD3kzNPxG\\u002fVr+dHMw\\u002f18q6LI4UzD95+zrqhZfKPzYiCVbkks0\\u002fwtjym9i5yz+cSM0jDGnMP6CaZLVTRMw\\u002fm7zWF5h4yj9uAK1CZATOPyZuEIkYU8w\\u002fPCWeaLnvzT\\u002f\\u002f+\\u002fZdeprQP6hXVvTvKMw\\u002fvhGjJ8Ofzj+Ld1j\\u002fDB\\u002fOP\\u002fWSGjh3Wc0\\u002fNb6etG2rzj9L\\u002f7WIh27LP5MrQ7flL88\\u002fnER2yF7uzz+3RrlT9J7QP4PxgiCi380\\u002fmZ3\\u002fMdtU0D\\u002fYJoJYh17RP7qYw+fvW9A\\u002fa3EoFODa0T\\u002f4oLujpbnRP1T6k5GjFtQ\\u002fGRSPkaet0z\\u002fJfAsoIK7TP+swcS4vQ9A\\u002fB3JhbkBI0j9T4t\\u002fGkEXRPyKpUzw8E88\\u002f4uj+r8Ktzz9HMVfza2bOP+A38erOus4\\u002f0y2m1bWyzD92D2qrLT3OP+2IuWVxJs8\\u002fr8hYGC7zzT\\u002fvNOV3mgvNP30KyPshmtA\\u002f+rQxW4iKzj8PFwlP4avKP+nd\\u002fc+1Esw\\u002f9faMPaaDyz+V9ChTNt\\u002fPP8cQb4Zdxc4\\u002fojOpQxDIzD+Aue65k5HQP2ki7oNYwM4\\u002fbgdkDykVzD\\u002fANXz8uZHNP0EbZYvCqdA\\u002fPcv8GD6C0D8=\"},\"type\":\"scatter\"},{\"line\":{\"color\":\"rgb(214, 39, 40)\"},\"mode\":\"lines\",\"name\":\"Total calculated (Icalc)\",\"x\":{\"dtype\":\"f8\",\"bdata\":\"\\u002f\\u002f\\u002ffbuf77T\\u002f\\u002f\\u002f\\u002f8SSgzuP\\u002f\\u002f\\u002fz\\u002fOrHO4\\u002f\\u002f\\u002f\\u002fvlw4t7j\\u002f\\u002f\\u002f794cD3uP\\u002f\\u002f\\u002f3xzTTe4\\u002f\\u002f\\u002f\\u002f\\u002fwDVe7j\\u002f\\u002f\\u002f8+hl27uP\\u002f\\u002f\\u002fn4L5fu4\\u002f\\u002f\\u002f+\\u002fJlyP7j\\u002f\\u002f\\u002f9\\u002fKvp\\u002fuP\\u002f\\u002f\\u002fr6sgsO4\\u002f\\u002f\\u002f\\u002fPT4PA7j\\u002f\\u002f\\u002f58w5dDuP\\u002f\\u002f\\u002fv9RH4e4\\u002f\\u002f\\u002f\\u002ffeKrx7j\\u002f\\u002f\\u002f69ZDALvP\\u002f\\u002f\\u002ffzpuEu8\\u002f\\u002f\\u002f+f3tAi7z\\u002f\\u002f\\u002f7+CMzPvP\\u002f\\u002f\\u002f3yaWQ+8\\u002f\\u002f\\u002f+vB\\u002fhT7z\\u002f\\u002f\\u002f3\\u002foWWTvP\\u002f\\u002f\\u002fn4y8dO8\\u002f\\u002f\\u002f+\\u002fMB+F7z\\u002f\\u002f\\u002f48RgZXvP\\u002f\\u002f\\u002fr7Xjpe8\\u002f\\u002f\\u002f9\\u002flkW27z\\u002f\\u002f\\u002f586qMbvP\\u002f\\u002f\\u002fbxsK1+8\\u002f\\u002f\\u002f+Pv2zn7z\\u002f\\u002f\\u002f1+gzvfvPwAAQKIYBPA\\u002fAACokkkM8D8AALjkehTwPwAAyDasHPA\\u002fAAAwJ90k8D8AAEB5Di3wPwAAqGk\\u002fNfA\\u002fAAC4u3A98D8AACCsoUXwPwAAMP7STfA\\u002fAACY7gNW8D8AAKhANV7wPwAAuJJmZvA\\u002fAAAgg5du8D8AADDVyHbwPwAAmMX5fvA\\u002fAACoFyuH8D8AALhpXI\\u002fwPwAAIFqNl\\u002fA\\u002fAACISr6f8D8AAJic76fwPwAAqO4gsPA\\u002fAAAQ31G48D8AACAxg8DwPwAAiCG0yPA\\u002fAACYc+XQ8D8AAKjFFtnwPwAAELZH4fA\\u002fAAB4pnjp8D8AAIj4qfHwPwAAmErb+fA\\u002fAAAAOwwC8T8AABCNPQrxPwAAeH1uEvE\\u002fAACIz58a8T8AAJgh0SLxPwAAABICK\\u002fE\\u002fAABoAjMz8T8AAHhUZDvxPwAAiKaVQ\\u002fE\\u002fAACY+MZL8T8AAADp91PxPwAAaNkoXPE\\u002fAAB4K1pk8T8AAIh9i2zxPwAA8G28dPE\\u002fAAAAwO188T8AAGiwHoXxPwAAeAJQjfE\\u002fAADg8oCV8T8AAPBEsp3xPwAAWDXjpfE\\u002fAABohxSu8T8AAHjZRbbxPwAA4Ml2vvE\\u002fAADwG6jG8T8AAFgM2c7xPwAAaF4K1\\u002fE\\u002fAADQTjvf8T8AAOCgbOfxPwAASJGd7\\u002fE\\u002fAABY48738T8AAMDT\\u002f\\u002f\\u002fxPwAA0CUxCPI\\u002fAADgd2IQ8j8AAEhokxjyPwAAWLrEIPI\\u002fAADAqvUo8j8AAND8JjHyPwAA4E5YOfI\\u002fAABIP4lB8j8AALAvuknyPwAAwIHrUfI\\u002fAADQ0xxa8j8AADjETWLyPwAASBZ\\u002favI\\u002fAACwBrBy8j8AAMBY4XryPwAA0KoSg\\u002fI\\u002fAAA4m0OL8j8AAKCLdJPyPwAAsN2lm\\u002fI\\u002fAADAL9ej8j8AACggCKzyPwAAOHI5tPI\\u002fAACgYmq88j8AALC0m8TyPwAAwAbNzPI\\u002fAAAo9\\u002f3U8j8AAJDnLt3yPwAAoDlg5fI\\u002fAACwi5Ht8j8AAMDdwvXyPwAAKM7z\\u002ffI\\u002fAACQviQG8z8AAKAQVg7zPwAAsGKHFvM\\u002fAAAYU7ge8z8AACil6SbzPwAAkJUaL\\u002fM\\u002fAACg50s38z8AALA5fT\\u002fzPwAAGCquR\\u002fM\\u002fAACAGt9P8z8AAJBsEFjzPwAAoL5BYPM\\u002fAAAIr3Jo8z8AABgBpHDzPwAAgPHUePM\\u002fAACQQwaB8z8AAPgzN4nzPwAACIZokfM\\u002fAABwdpmZ8z8AAIDIyqHzPwAA6Lj7qfM\\u002fAAD4Ci2y8z8AAAhdXrrzPwAAcE2PwvM\\u002fAACAn8DK8z8AAOiP8dLzPwAA+OEi2\\u002fM\\u002fAAAINFTj8z8AAHAkhevzPwAA2BS28\\u002fM\\u002fAADoZuf78z8AAPi4GAT0PwAAYKlJDPQ\\u002fAABw+3oU9D8AANjrqxz0PwAA6D3dJPQ\\u002fAAD4jw4t9D8AAGCAPzX0PwAAyHBwPfQ\\u002fAADYwqFF9D8AAOgU0030PwAAUAUEVvQ\\u002fAABgVzVe9D8AAMhHZmb0PwAA2JmXbvQ\\u002fAADo68h29D8AAFDc+X70PwAAuMwqh\\u002fQ\\u002fAADIHlyP9D8AANhwjZf0PwAA6MK+n\\u002fQ\\u002fAABQs++n9D8AALijILD0PwAAyPVRuPQ\\u002fAADYR4PA9D8AAEA4tMj0PwAAUIrl0PQ\\u002fAAC4ehbZ9D8AAMjMR+H0PwAA2B556fQ\\u002fAABAD6rx9D8AAKj\\u002f2vn0PwAAuFEMAvU\\u002fAADIoz0K9T8AADCUbhL1PwAAQOafGvU\\u002fAACo1tAi9T8AALgoAiv1PwAAyHozM\\u002fU\\u002fAAAwa2Q79T8AAJhblUP1PwAAqK3GS\\u002fU\\u002fAAC4\\u002f\\u002fdT9T8AACDwKFz1PwAAMEJaZPU\\u002fAACYMots9T8AAKiEvHT1PwAAEHXtfPU\\u002fAAAgxx6F9T8AADAZUI31PwAAmAmBlfU\\u002fAAAA+rGd9T8AABBM46X1PwAAIJ4UrvU\\u002fAACIjkW29T\\u002f\\u002f\\u002f5fgdr71P\\u002f\\u002f\\u002f\\u002f9CnxvU\\u002f\\u002f\\u002f8PI9nO9T\\u002f\\u002f\\u002fx91Ctf1P\\u002f\\u002f\\u002fh2U73\\u002fU\\u002f\\u002f\\u002f\\u002fvVWzn9T\\u002f\\u002f\\u002f\\u002f+nne\\u002f1P\\u002f\\u002f\\u002fD\\u002frO9\\u002fU\\u002f\\u002f\\u002f936v\\u002f\\u002f9T\\u002f\\u002f\\u002f4c8MQj2P\\u002f\\u002f\\u002f7yxiEPY\\u002f\\u002f\\u002f\\u002f\\u002ffpMY9j\\u002f\\u002f\\u002fw\\u002fRxCD2P\\u002f\\u002f\\u002fd8H1KPY\\u002f\\u002f\\u002f\\u002ffsSYx9j\\u002f\\u002f\\u002f+8DWDn2P\\u002f\\u002f\\u002f\\u002f1WJQfY\\u002f\\u002f\\u002f8PqLpJ9j\\u002f\\u002f\\u002f3eY61H2P\\u002f\\u002f\\u002f34gcWvY\\u002f\\u002f\\u002f\\u002fv2k1i9j\\u002f\\u002f\\u002f\\u002f8sf2r2P\\u002f\\u002f\\u002fZx2wcvY\\u002f\\u002f\\u002f93b+F69j\\u002f\\u002f\\u002f99fEoP2P\\u002f\\u002f\\u002f77FDi\\u002fY\\u002f\\u002f\\u002f\\u002f\\u002fA3WT9j\\u002f\\u002f\\u002f2f0pZv2P\\u002f\\u002f\\u002fz+TWo\\u002fY\\u002f\\u002f\\u002f\\u002ffNgis9j\\u002f\\u002f\\u002f++IObT2P\\u002f\\u002f\\u002fV3lqvPY\\u002f\\u002f\\u002f9ny5vE9j\\u002f\\u002f\\u002f8+7zMz2P\\u002f\\u002f\\u002f3w3+1PY\\u002f\\u002f\\u002f\\u002fvXy\\u002fd9j\\u002f\\u002f\\u002f1dQYOX2P\\u002f\\u002f\\u002fv0CR7fY\\u002f\\u002f\\u002f\\u002fPksL19j\\u002f\\u002f\\u002f9\\u002fk8\\u002f32P\\u002f\\u002f\\u002fR9UkBvc\\u002f\\u002f\\u002f9XJ1YO9z\\u002f\\u002f\\u002f78Xhxb3P\\u002f\\u002f\\u002fz2m4Hvc\\u002f\\u002f\\u002f83Wukm9z\\u002f\\u002f\\u002f0esGi\\u002f3P\\u002f\\u002f\\u002fV\\u002f5LN\\u002fc\\u002f\\u002f\\u002f+\\u002f7nw\\u002f9z\\u002f\\u002f\\u002f89Arkf3P\\u002f\\u002f\\u002fNzHfT\\u002fc\\u002f\\u002f\\u002f9HgxBY9z\\u002f\\u002f\\u002f69zQWD3P\\u002f\\u002f\\u002fv8VyaPc\\u002f\\u002f\\u002f8ntqNw9z\\u002f\\u002f\\u002fzcI1Xj3P\\u002f\\u002f\\u002fR1oGgfc\\u002f\\u002f\\u002f+vSjeJ9z\\u002f\\u002f\\u002fxc7aJH3P\\u002f\\u002f\\u002fJ42Zmfc\\u002f\\u002f\\u002f8338qh9z\\u002f\\u002f\\u002f5\\u002fP+6n3P\\u002f\\u002f\\u002fryEtsvc\\u002f\\u002f\\u002f8XEl669z\\u002f\\u002f\\u002fydkj8L3P\\u002f\\u002f\\u002fN7bAyvc\\u002f\\u002f\\u002f+fpvHS9z\\u002f\\u002f\\u002fweXItv3P\\u002f\\u002f\\u002fF+lT4\\u002fc\\u002f\\u002f\\u002f8nO4Xr9z\\u002f\\u002f\\u002f48rtvP3P\\u002f\\u002f\\u002fn33n+\\u002fc\\u002f\\u002f\\u002f8HbhgE+D\\u002f\\u002f\\u002fxfASQz4P\\u002f\\u002f\\u002fJxJ7FPg\\u002f\\u002f\\u002f+PAqwc+D\\u002f\\u002f\\u002f59U3ST4P\\u002f\\u002f\\u002fB0UOLfg\\u002f\\u002f\\u002f8Xlz81+D\\u002f\\u002f\\u002fyfpcD34P\\u002f\\u002f\\u002fj9mhRfg\\u002f\\u002f\\u002f\\u002f3ydJN+D\\u002f\\u002f\\u002fwccBFb4P\\u002f\\u002f\\u002fF241Xvg\\u002f\\u002f\\u002f9\\u002fXmZm+D\\u002f\\u002f\\u002f4+wl274P\\u002f\\u002f\\u002f96DIdvg\\u002f\\u002f\\u002f8H8\\u002fl++D\\u002f\\u002f\\u002fxdFK4f4P\\u002f\\u002f\\u002ffzVcj\\u002fg\\u002f\\u002f\\u002f\\u002fnJY2X+D\\u002f\\u002f\\u002f\\u002fd3vp\\u002f4P\\u002f\\u002f\\u002fB8rvp\\u002fg\\u002f\\u002f\\u002f9vuiCw+D\\u002f\\u002f\\u002f38MUrj4P\\u002f\\u002f\\u002f5\\u002fyCwPg\\u002f\\u002f\\u002f\\u002f3TrTI+D\\u002f\\u002f\\u002fweh5dD4P\\u002f\\u002f\\u002fb5EW2fg\\u002f\\u002f\\u002f9\\u002f40fh+D\\u002f\\u002f\\u002f+fTeOn4P\\u002f\\u002f\\u002f9yWq8fg\\u002f\\u002f\\u002f9fFtv5+D\\u002f\\u002f\\u002f29oDAL5P\\u002f\\u002f\\u002f11g9Cvk\\u002f\\u002f\\u002f\\u002fnqm4S+T\\u002f\\u002f\\u002f0+bnxr5P\\u002f\\u002f\\u002fX+3QIvk\\u002f\\u002f\\u002f9vPwIr+T\\u002f\\u002f\\u002f9cvMzP5P\\u002f\\u002f\\u002f54FkO\\u002fk\\u002f\\u002f\\u002f9PcpVD+T\\u002f\\u002f\\u002f1\\u002fExkv5P\\u002f\\u002f\\u002fx7T3U\\u002fk\\u002f\\u002f\\u002f\\u002fXBilc+T\\u002f\\u002f\\u002fz\\u002f3WWT5P\\u002f\\u002f\\u002fT0mLbPk\\u002f\\u002f\\u002f9fm7x0+T\\u002f\\u002f\\u002f8eL7Xz5P\\u002f\\u002f\\u002fL3wehfk\\u002f\\u002f\\u002f8\\u002fzk+N+T\\u002f\\u002f\\u002f08ggZX5P\\u002f\\u002f\\u002ftxCynfk\\u002f\\u002f\\u002f\\u002fHYuOl+T\\u002f\\u002f\\u002fy9TFK75P\\u002f\\u002f\\u002fP6VFtvk\\u002f\\u002f\\u002f9P93a++T\\u002f\\u002f\\u002f7fnp8b5P\\u002f\\u002f\\u002fxznZzvk\\u002f\\u002f\\u002f8vKgrX+T\\u002f\\u002f\\u002fz98O9\\u002f5P\\u002f\\u002f\\u002fT85s5\\u002fk\\u002f\\u002f\\u002f+3vp3v+T\\u002f\\u002f\\u002fx+vzvf5P\\u002f\\u002f\\u002fLwEAAPo\\u002f\\u002f\\u002f8\\u002fUzEI+j\\u002f\\u002f\\u002f6dDYhD6P\\u002f\\u002f\\u002ft5WTGPo\\u002f\\u002f\\u002f8fhsQg+j\\u002f\\u002f\\u002fy\\u002fY9Sj6P\\u002f\\u002f\\u002fPyonMfo\\u002f\\u002f\\u002f+nGlg5+j\\u002f\\u002f\\u002fw8LiUH6P\\u002f\\u002f\\u002fH126Sfo\\u002f\\u002f\\u002f8vr+tR+j\\u002f\\u002f\\u002f5efHFr6P\\u002f\\u002f\\u002fp\\u002fFNYvo\\u002f\\u002f\\u002f8P4n5q+j\\u002f\\u002f\\u002fx80sHL6P\\u002f\\u002f\\u002fL4bhevo\\u002f\\u002f\\u002f+XdhKD+j\\u002f\\u002f\\u002f6fIQ4v6P\\u002f\\u002f\\u002fD7l0k\\u002fo\\u002f\\u002f\\u002f8fC6ab+j\\u002f\\u002f\\u002f4f71qP6P\\u002f\\u002f\\u002fl00IrPo\\u002f\\u002f\\u002f\\u002f\\u002fPTm0+j\\u002f\\u002f\\u002fw+Qarz6P\\u002f\\u002f\\u002fH+KbxPo\\u002f\\u002f\\u002f+H0szM+j\\u002f\\u002f\\u002f5ck\\u002ftT6P\\u002f\\u002f\\u002f\\u002fxQv3fo\\u002f\\u002f\\u002f8PZ2Dl+j\\u002f\\u002f\\u002f3dXke36P\\u002f\\u002f\\u002fh6nC9fo\\u002f\\u002f\\u002f\\u002fvmfP9+j\\u002f\\u002f\\u002f\\u002f\\u002frJAb7P\\u002f\\u002f\\u002fZ9xVDvs\\u002f\\u002f\\u002f93LocW+z\\u002f\\u002f\\u002f4eAuB77P\\u002f\\u002f\\u002f73DpJvs\\u002f\\u002f\\u002f9XYRov+z\\u002f\\u002f\\u002f2ezSzf7P\\u002f\\u002f\\u002fdwV9P\\u002fs\\u002f\\u002f\\u002f\\u002ff9a1H+z\\u002f\\u002f\\u002f+9H30\\u002f7P\\u002f\\u002f\\u002fVzgQWPs\\u002f\\u002f\\u002f9nikFg+z\\u002f\\u002f\\u002f3fccmj7P\\u002f\\u002f\\u002f38yjcPs\\u002f\\u002f\\u002f\\u002fvHtV4+z\\u002f\\u002f\\u002f1cPBoH7P\\u002f\\u002f\\u002fZ2E3ifs\\u002f\\u002f\\u002f93s2iR+z\\u002f\\u002f\\u002f9+jmZn7P\\u002f\\u002f\\u002fR5TKofs\\u002f\\u002f\\u002f9X5vup+z\\u002f\\u002f\\u002f2c4LbL7P\\u002f\\u002f\\u002fzyheuvs\\u002f\\u002f\\u002f\\u002ffeo\\u002fC+z\\u002f\\u002f\\u002f0drwMr7P\\u002f\\u002f\\u002fV73x0vs\\u002f\\u002f\\u002f9nDyPb+z\\u002f\\u002f\\u002f8\\u002f\\u002fU+P7P\\u002f\\u002f\\u002fN\\u002fCE6\\u002fs\\u002f\\u002f\\u002f9HQrbz+z\\u002f\\u002f\\u002f1eU5\\u002fv7P\\u002f\\u002f\\u002fv4QYBPw\\u002f\\u002f\\u002f\\u002fP1kkM\\u002fD\\u002f\\u002f\\u002fzfHehT8P\\u002f\\u002f\\u002fRxmsHPw\\u002f\\u002f\\u002f9Xa90k\\u002fD\\u002f\\u002f\\u002f79bDi38P\\u002f\\u002f\\u002fz60\\u002fNfw\\u002f\\u002f\\u002f83nnA9\\u002fD\\u002f\\u002f\\u002f0fwoUX8P\\u002f\\u002f\\u002fV0LTTfw\\u002f\\u002f\\u002f+\\u002fMgRW\\u002fD\\u002f\\u002f\\u002fycjNV78P\\u002f\\u002f\\u002fN3VmZvw\\u002f\\u002f\\u002f9Hx5du\\u002fD\\u002f\\u002f\\u002f6+3yHb8P\\u002f\\u002f\\u002fvwn6fvw\\u002f\\u002f\\u002f8n+iqH\\u002fD\\u002f\\u002f\\u002fzdMXI\\u002f8P\\u002f\\u002f\\u002fnzyNl\\u002fw\\u002f\\u002f\\u002f+vjr6f\\u002fD\\u002f\\u002f\\u002fxd\\u002f76f8P\\u002f\\u002f\\u002fJ9EgsPw\\u002f\\u002f\\u002f+PwVG4\\u002fD8=\"},\"y\":{\"dtype\":\"f8\",\"bdata\":\"F2ZNeAUq0T8xCUf6ekHRP0kXk3K6W9E\\u002fYJPmnQdo0T9WIctviFrRP2XZpIYkOtE\\u002fUIVwo3YZ0T\\u002foGSjinATRP9gnfeJS\\u002fNA\\u002fq+OfQ23\\u002f0D+K\\u002fuxoUBfRPxbRtUZqa9E\\u002f0HxFjxNz0j\\u002f9qjK7AV\\u002fVP7y\\u002fAyTWfdw\\u002fIUiyoIsr5T\\u002fhoeghAvbuP9AiPoXetfM\\u002fcI\\u002fbca1e9D8os9PICcTwPyq0+\\u002ffbz+Y\\u002fWZ+C+6Xx3D+jISo6EY\\u002fUP3mxNlwyptE\\u002fih\\u002fv0Lfr0D9QA8k9JMfQPya+\\u002flpcv9A\\u002fh9U3H8O70D+QQ8d5p7jQP583YraYtdA\\u002fwbKjM4uy0D9NXnvQfa\\u002fQP0n3R3JwrNA\\u002fM90PGmOp0D8mASrTVabQP8Pc2sBIo9A\\u002fn68eTDyg0D9q75+uMZ3QP9iPhYYsmtA\\u002fPuIAcDeX0D\\u002fnC9hOcZTQP802RWozktA\\u002fWPm\\u002f732R0D9O\\u002fDrqr5fQP8vu7DL2qtA\\u002fAI2Sjwrh0D\\u002f1cjDpWHXRPxRaWW5y89I\\u002fEHor78ZR1j\\u002fMS55TLl7cP1X7WzB4++E\\u002fstRaOFJ65D9+oFyOOqfjP4jEN+\\u002fBAuA\\u002fMlfWLFIv2D+edmA1WE\\u002fTPxDsYpB3TdE\\u002fSd\\u002f60XG30D+RQnAzU5bQP45OMfpmkNA\\u002fQ6fpj4uP0D+pJ+Kri4\\u002fQP51hHZ+\\u002fj9A\\u002fJ9OnjSmQ0D98dsgiFZHQP5EQafNRk9A\\u002fR480MuaY0D8miOQyPabQP7t0PYA6wtA\\u002fd9ldOhLw0D+laFoLoCHRP8o2OGRZNtE\\u002fWFGoq\\u002fAa0T9W+v3r\\u002fOPQPxuvX8hCtdA\\u002fjXgYauac0D+3\\u002fRgYPZTQP1uEsCgKktA\\u002fh1s+KceR0D+rixrOLZLQP+DptDZJk9A\\u002f2xtd8P2V0D\\u002fWQ8LytZzQP1K++IOHrdA\\u002fm8qkVqHX0D+3HHNFokDRPyIArP4pRdI\\u002fYtm3y0TH1D\\u002f\\u002fzFPlNuHaP3ArBcdMlOQ\\u002fZwFMX8nQ8T8IWSNrYpD+P6QNh+W+kgZAj114fpgPCkDB3VCZE3MGQBs5RwC7\\u002fPw\\u002fzzKSuv9d7j9isQQfX5DfPypggvfHxtQ\\u002f+r2TPIak0T8PzjRyU9fQP2WeD+H\\u002fpNA\\u002f4LuAIOyY0D\\u002fmFxbxp5bQP8tW\\u002fPnMl9A\\u002fXqTA\\u002fBac0D8Y3RxNkKbQP\\u002f1Nm3pDv9A\\u002fLHXN1Sb50D9ma9XdM4DRP+6fHsexudI\\u002f85zILIeN1T\\u002f45UhUSgvcP0UsVc9VaeU\\u002fbo2BrVDs8j+Er87YS+8BQJc9GOa3NBBAJ9cj\\u002fAK1GECI5YqXzfAcQBQ81DZQyhhA+bt0aI8ND0DJ8ZPRu1D+P+SqTtsMHOs\\u002fPI8N5wd63D\\u002f\\u002fVxi\\u002fDS\\u002fUP1RCC2U4rdE\\u002fn75P8jrs0D8PYGPbjrHQP2jfbyoWndA\\u002fMp5nSfCT0D\\u002fWQ1vbr47QP40t9kuxitA\\u002f98sz0yiH0D8LQCeU54PQP9rPjaIFgdA\\u002flx6OyN9+0D+7Dt7BS37QPy+OE4gZgdA\\u002fzxVMPSuL0D8sOLSGxaTQP0lwluhq39A\\u002fjRpGC\\u002ftf0T9ElifUMHPSPwQb\\u002fKX0r9Q\\u002fpma\\u002f1F792D9KRzxQqbPfP+HG8bcPLuM\\u002fjyXZx47l4z+6S31C9BzhP6JCyM0oRto\\u002fpuJo9k6k1D\\u002fMRd1MNu7RPwYuqrFm3NA\\u002fVHKf1Gl20D\\u002f+FP6bT0\\u002fQPyMSflnVPtA\\u002fobuds4820D9UuhGsTDHQP+7ceKgnLdA\\u002fLrm0DW4p0D8S5jRP3SXQP4p84GtcItA\\u002fXAQMCeIe0D+2xPPpahvQP6+Gpor2F9A\\u002floEiO4YU0D9SZfeNHRHQPywOrxDEDdA\\u002f4pDCCYkK0D9T9T\\u002f7igfQPwJs33YGBdA\\u002fbrQnIHMD0D8adTktvAPQP3f+oOutB9A\\u002fvu5H\\u002fcgS0D\\u002fqOkAt1ivQP3QdlRa8X9A\\u002f49dyjG7E0D9nb60Ttm7RP03eN3uyPNI\\u002fVxrnucCl0j\\u002fPyHDRfDvSP3vAMtCFVdE\\u002fQMgJ5VqT0D9ATRsbqCbQP4kNDZi15s8\\u002f09Z+d6O2zz8xtshUD57PP5o8HF5\\u002fj88\\u002f8LxMwjyFzz8YENCw13zPPyDv2f9Ddc8\\u002fyypi0A1uzz8iSvt9A2fPP1MHdj0RYM8\\u002fvixDYDJZzz+aXnO7bFLPP2KdcB3SS88\\u002fWie2f4dFzz\\u002fOFeCD1D\\u002fPP2P2DWNBO88\\u002fWIEEG884zz9\\u002fvFYeYDrPP1WnvOJ5Q88\\u002f49g03qlazz9JhZbTE4zPPznDUiYd7s8\\u002flkn5qvVU0D9uLHjEYgXRPwVFpyDoTNI\\u002fwcB3hu2n1D9SWKL1O\\u002ffYPwqrvHujZ+A\\u002fH04fp6GD5z8e9Xg\\u002fAyvyP7wwd4E7rP0\\u002fOw3zi4IMCUBK8C3s7x8VQAuaRD+4gyBAk4NEG05XJUBluYJOpcokQMW6CJyDPh5AcSvo4MTSEUBwtDcL41YDQEOBGAZSXfU\\u002fbFKTJU5b6T\\u002fvl7U+JavgP7LmJSVLmNg\\u002fHGp2Iugq1D8YWcYrQunRPwULjOwWwdA\\u002fNjL6Em8o0D\\u002fH5G4B27LPPxfQp13tYM8\\u002ft\\u002fqffY02zz\\u002ftNDPG3iDPP92rjtQUFs8\\u002fNiEwGxARzz90LYOyHg\\u002fPP38p73rTDs8\\u002fkxpeBGwPzz\\u002fcT1wkgBDPPwGVN7rXEc8\\u002ftHWtWlQTzz8AvRFv5RTPP\\u002f+Be9+BFs8\\u002fQZzlpyQYzz+Avz8AyxnPP7pTwVtzG88\\u002fWz632xwdzz\\u002fPbZ0Cxx7PPzbYUYlxIM8\\u002fCVo2Rxwizz90VkElxyPPP+kj\\u002fRVyJc8\\u002faUasER0nzz92k84TyCjPP6Q\\u002fqhlzKs8\\u002fVffiIR4szz\\u002fnJncryS3PP8MB3DV0L88\\u002fkNG+QB8xzz8aLdZLyjLPP3DkM1d1NM8\\u002fyReuYiA2zz9A0jluyzfPP3lk0Hl2Oc8\\u002feeZVhSE7zz9Ef\\u002feQzDzPP67cm5x3Ps8\\u002f6yJCqCJAzz+e6emzzUHPP+5Ve794Q88\\u002fQWkmyyNFzz\\u002fhNNTWzkbPP95qhuJ5SM8\\u002fiA5A7iRKzz9Phe75z0vPP5JiygV7Tc8\\u002fxwPLESZPzz8xHAoe0VDPP7MCsyp8Us8\\u002f4Kf2NydUzz8+f35G0lXPPznJ\\u002fVZ9V88\\u002fk+fFaihZzz+VpgWE01rPP+fcPqZ+XM8\\u002fiyCN1ylezz+FAYwh1V\\u002fPPwDyEZSAYc8\\u002f4D3lSCxjzz+9ALtp2GTPP3rbTTqFZs8\\u002f2oNKJzNozz\\u002fq1FHf4mnPP+ZgpHmVa88\\u002fkMN9s0xtzz+ey+Qd\\u002f2zPP\\u002fPhrMwsas8\\u002fgDTYJm1nzz9m0\\u002fEJy2TPP10rdH5XYs8\\u002fVsYQIS1gzz\\u002frEFVndV7PP\\u002fN95KhwXc8\\u002f5rI\\u002feoJdzz\\u002fa4ZppRF\\u002fPP7rtSICiY88\\u002f\\u002fTcRewZszz9\\u002fO9e5mHrPP+P6s1aiks8\\u002fPOLvgB+5zz+G7scEm\\u002fXPP6z7b+q5KdA\\u002fyPxRB+Fx0D88y7XZEODQP\\u002fPoNThqh9E\\u002foLvKpWeE0j+NnOM6TgHUP14UZNmpPNY\\u002fN5P+pZmS2T9EmL07gIfeP0GI0inU2+I\\u002fFLj05miP5z9GtZ5fqxfsP1rvlxs4yO0\\u002ff+vwoTA96z+Wpehr7kzmP9AeTSz4muE\\u002fBplhKp9m3D9u1+0xyebXP8z5qy24+9Q\\u002f8lE+x80W0z+WNPs+49rRP7D9yCc4DNE\\u002fsGODLGeE0D+as94VsCrQP43HJNMi3s8\\u002fKGCOTFCOzz+QEWV+Y1jPP0ktrPSHM88\\u002f+TgY+fQZzz8MRGmp3QfPP4H6HbLA+s4\\u002f6m97\\u002fPXwzj+cxD5MZOnOPx8DwJVQ484\\u002fiCrSAz7ezj\\u002fsLFUV2dnOPwFSyrrp1c4\\u002fewq0OUrSzj+x614b4c7OP9cgOiOdy84\\u002f+0tCnXLIzj96u6qSWcXOP\\u002fFIGZVMws4\\u002f\\u002fE7z7Ee\\u002fzj9OIJIPSbzOP7E+SD9Ouc4\\u002fSIc7TFa2zj8kfcZpYLPOP0ZjGxFssM4\\u002fymgl8Hitzj+wCZzdhqrOP9s57dOVp84\\u002fBr6a8KWkzj8KqaJ3t6HOP1afL93Kns4\\u002fNBm00+Cbzj9wXYRi+pjOPxYg+AUZls4\\u002fjSUn3T6Tzj\\u002fMhazqbpDOP\\u002fmV2G6tjc4\\u002fItWJYwCLzj+QreApcIjOP+2uhXYIhs4\\u002fgnLimtmDzj\\u002fu1idB+oHOPz3WYs+JgM4\\u002fBTdkqbN\\u002fzj8ZRUCZs3\\u002fOPxY8iEs1fs4\\u002f6rLDGtl4zj\\u002f45kp6r3XOP71Tn\\u002fCJdc4\\u002fWUpCWYV5zj\\u002feZ0uuI4POP62ymptulM4\\u002fV4+6gSWwzj8adwK0+dnOP5JcAPDeFs8\\u002fTvOeD3Rtzz\\u002fwN00qjebPP6jRibTzRtA\\u002fm7zBgYG50D9j2AUxx1TRP9R5P0C\\u002fItI\\u002fLL6MhBYj0z8srmfRqTLUP7W97HB7+tQ\\u002fjLAPilMY1T\\u002fg1olA\\u002f3TUP4aF\\u002fwAVXdM\\u002fladco2840j\\u002fNdIVsUEPRPz0KO+CDidA\\u002fGciIzkMB0D+JNzL2czvPP25eVdknqc4\\u002fxfVaGaQ8zj91zKRJNevNP+HkIQU6rc0\\u002f1M3shD59zT+ya\\u002fu2W1fNP+1hkL\\u002fEOM0\\u002fRVIoVnYfzT+RYtZZ\\u002fQnNPxHJP+lN98w\\u002fiijXQabmzD825rz6edfMP3j0NCpjycw\\u002frDMopBe8zD+HG01eYa\\u002fMP7nTs90Yo8w\\u002fvJInQSGXzD8e\\u002f+pbZYvMP2yfmKLVf8w\\u002fdw17o2Z0zD8=\"},\"type\":\"scatter\"}],                        {\"legend\":{\"x\":1.0,\"xanchor\":\"right\",\"y\":1.0,\"yanchor\":\"top\"},\"margin\":{\"autoexpand\":true,\"b\":45,\"r\":30,\"t\":40},\"title\":{\"text\":\"Measured vs Calculated data for experiment \\ud83d\\udd2c 'sim_lbco'\"},\"xaxis\":{\"mirror\":true,\"showline\":true,\"title\":{\"text\":\"d (\\u00c5)\"},\"zeroline\":false,\"tickformat\":\",.6~g\",\"separatethousands\":true},\"yaxis\":{\"mirror\":true,\"showline\":true,\"title\":{\"text\":\"Intensity (arb. units)\"},\"zeroline\":false,\"tickformat\":\",.6~g\",\"separatethousands\":true},\"template\":{\"data\":{\"histogram2dcontour\":[{\"type\":\"histogram2dcontour\",\"colorbar\":{\"outlinewidth\":0,\"ticks\":\"\"},\"colorscale\":[[0.0,\"#0d0887\"],[0.1111111111111111,\"#46039f\"],[0.2222222222222222,\"#7201a8\"],[0.3333333333333333,\"#9c179e\"],[0.4444444444444444,\"#bd3786\"],[0.5555555555555556,\"#d8576b\"],[0.6666666666666666,\"#ed7953\"],[0.7777777777777778,\"#fb9f3a\"],[0.8888888888888888,\"#fdca26\"],[1.0,\"#f0f921\"]]}],\"choropleth\":[{\"type\":\"choropleth\",\"colorbar\":{\"outlinewidth\":0,\"ticks\":\"\"}}],\"histogram2d\":[{\"type\":\"histogram2d\",\"colorbar\":{\"outlinewidth\":0,\"ticks\":\"\"},\"colorscale\":[[0.0,\"#0d0887\"],[0.1111111111111111,\"#46039f\"],[0.2222222222222222,\"#7201a8\"],[0.3333333333333333,\"#9c179e\"],[0.4444444444444444,\"#bd3786\"],[0.5555555555555556,\"#d8576b\"],[0.6666666666666666,\"#ed7953\"],[0.7777777777777778,\"#fb9f3a\"],[0.8888888888888888,\"#fdca26\"],[1.0,\"#f0f921\"]]}],\"heatmap\":[{\"type\":\"heatmap\",\"colorbar\":{\"outlinewidth\":0,\"ticks\":\"\"},\"colorscale\":[[0.0,\"#0d0887\"],[0.1111111111111111,\"#46039f\"],[0.2222222222222222,\"#7201a8\"],[0.3333333333333333,\"#9c179e\"],[0.4444444444444444,\"#bd3786\"],[0.5555555555555556,\"#d8576b\"],[0.6666666666666666,\"#ed7953\"],[0.7777777777777778,\"#fb9f3a\"],[0.8888888888888888,\"#fdca26\"],[1.0,\"#f0f921\"]]}],\"contourcarpet\":[{\"type\":\"contourcarpet\",\"colorbar\":{\"outlinewidth\":0,\"ticks\":\"\"}}],\"contour\":[{\"type\":\"contour\",\"colorbar\":{\"outlinewidth\":0,\"ticks\":\"\"},\"colorscale\":[[0.0,\"#0d0887\"],[0.1111111111111111,\"#46039f\"],[0.2222222222222222,\"#7201a8\"],[0.3333333333333333,\"#9c179e\"],[0.4444444444444444,\"#bd3786\"],[0.5555555555555556,\"#d8576b\"],[0.6666666666666666,\"#ed7953\"],[0.7777777777777778,\"#fb9f3a\"],[0.8888888888888888,\"#fdca26\"],[1.0,\"#f0f921\"]]}],\"surface\":[{\"type\":\"surface\",\"colorbar\":{\"outlinewidth\":0,\"ticks\":\"\"},\"colorscale\":[[0.0,\"#0d0887\"],[0.1111111111111111,\"#46039f\"],[0.2222222222222222,\"#7201a8\"],[0.3333333333333333,\"#9c179e\"],[0.4444444444444444,\"#bd3786\"],[0.5555555555555556,\"#d8576b\"],[0.6666666666666666,\"#ed7953\"],[0.7777777777777778,\"#fb9f3a\"],[0.8888888888888888,\"#fdca26\"],[1.0,\"#f0f921\"]]}],\"mesh3d\":[{\"type\":\"mesh3d\",\"colorbar\":{\"outlinewidth\":0,\"ticks\":\"\"}}],\"scatter\":[{\"fillpattern\":{\"fillmode\":\"overlay\",\"size\":10,\"solidity\":0.2},\"type\":\"scatter\"}],\"parcoords\":[{\"type\":\"parcoords\",\"line\":{\"colorbar\":{\"outlinewidth\":0,\"ticks\":\"\"}}}],\"scatterpolargl\":[{\"type\":\"scatterpolargl\",\"marker\":{\"colorbar\":{\"outlinewidth\":0,\"ticks\":\"\"}}}],\"bar\":[{\"error_x\":{\"color\":\"#2a3f5f\"},\"error_y\":{\"color\":\"#2a3f5f\"},\"marker\":{\"line\":{\"color\":\"white\",\"width\":0.5},\"pattern\":{\"fillmode\":\"overlay\",\"size\":10,\"solidity\":0.2}},\"type\":\"bar\"}],\"scattergeo\":[{\"type\":\"scattergeo\",\"marker\":{\"colorbar\":{\"outlinewidth\":0,\"ticks\":\"\"}}}],\"scatterpolar\":[{\"type\":\"scatterpolar\",\"marker\":{\"colorbar\":{\"outlinewidth\":0,\"ticks\":\"\"}}}],\"histogram\":[{\"marker\":{\"pattern\":{\"fillmode\":\"overlay\",\"size\":10,\"solidity\":0.2}},\"type\":\"histogram\"}],\"scattergl\":[{\"type\":\"scattergl\",\"marker\":{\"colorbar\":{\"outlinewidth\":0,\"ticks\":\"\"}}}],\"scatter3d\":[{\"type\":\"scatter3d\",\"line\":{\"colorbar\":{\"outlinewidth\":0,\"ticks\":\"\"}},\"marker\":{\"colorbar\":{\"outlinewidth\":0,\"ticks\":\"\"}}}],\"scattermap\":[{\"type\":\"scattermap\",\"marker\":{\"colorbar\":{\"outlinewidth\":0,\"ticks\":\"\"}}}],\"scattermapbox\":[{\"type\":\"scattermapbox\",\"marker\":{\"colorbar\":{\"outlinewidth\":0,\"ticks\":\"\"}}}],\"scatterternary\":[{\"type\":\"scatterternary\",\"marker\":{\"colorbar\":{\"outlinewidth\":0,\"ticks\":\"\"}}}],\"scattercarpet\":[{\"type\":\"scattercarpet\",\"marker\":{\"colorbar\":{\"outlinewidth\":0,\"ticks\":\"\"}}}],\"carpet\":[{\"aaxis\":{\"endlinecolor\":\"#2a3f5f\",\"gridcolor\":\"#C8D4E3\",\"linecolor\":\"#C8D4E3\",\"minorgridcolor\":\"#C8D4E3\",\"startlinecolor\":\"#2a3f5f\"},\"baxis\":{\"endlinecolor\":\"#2a3f5f\",\"gridcolor\":\"#C8D4E3\",\"linecolor\":\"#C8D4E3\",\"minorgridcolor\":\"#C8D4E3\",\"startlinecolor\":\"#2a3f5f\"},\"type\":\"carpet\"}],\"table\":[{\"cells\":{\"fill\":{\"color\":\"#EBF0F8\"},\"line\":{\"color\":\"white\"}},\"header\":{\"fill\":{\"color\":\"#C8D4E3\"},\"line\":{\"color\":\"white\"}},\"type\":\"table\"}],\"barpolar\":[{\"marker\":{\"line\":{\"color\":\"white\",\"width\":0.5},\"pattern\":{\"fillmode\":\"overlay\",\"size\":10,\"solidity\":0.2}},\"type\":\"barpolar\"}],\"pie\":[{\"automargin\":true,\"type\":\"pie\"}]},\"layout\":{\"autotypenumbers\":\"strict\",\"colorway\":[\"#636efa\",\"#EF553B\",\"#00cc96\",\"#ab63fa\",\"#FFA15A\",\"#19d3f3\",\"#FF6692\",\"#B6E880\",\"#FF97FF\",\"#FECB52\"],\"font\":{\"color\":\"#2a3f5f\"},\"hovermode\":\"closest\",\"hoverlabel\":{\"align\":\"left\"},\"paper_bgcolor\":\"white\",\"plot_bgcolor\":\"white\",\"polar\":{\"bgcolor\":\"white\",\"angularaxis\":{\"gridcolor\":\"#EBF0F8\",\"linecolor\":\"#EBF0F8\",\"ticks\":\"\"},\"radialaxis\":{\"gridcolor\":\"#EBF0F8\",\"linecolor\":\"#EBF0F8\",\"ticks\":\"\"}},\"ternary\":{\"bgcolor\":\"white\",\"aaxis\":{\"gridcolor\":\"#DFE8F3\",\"linecolor\":\"#A2B1C6\",\"ticks\":\"\"},\"baxis\":{\"gridcolor\":\"#DFE8F3\",\"linecolor\":\"#A2B1C6\",\"ticks\":\"\"},\"caxis\":{\"gridcolor\":\"#DFE8F3\",\"linecolor\":\"#A2B1C6\",\"ticks\":\"\"}},\"coloraxis\":{\"colorbar\":{\"outlinewidth\":0,\"ticks\":\"\"}},\"colorscale\":{\"sequential\":[[0.0,\"#0d0887\"],[0.1111111111111111,\"#46039f\"],[0.2222222222222222,\"#7201a8\"],[0.3333333333333333,\"#9c179e\"],[0.4444444444444444,\"#bd3786\"],[0.5555555555555556,\"#d8576b\"],[0.6666666666666666,\"#ed7953\"],[0.7777777777777778,\"#fb9f3a\"],[0.8888888888888888,\"#fdca26\"],[1.0,\"#f0f921\"]],\"sequentialminus\":[[0.0,\"#0d0887\"],[0.1111111111111111,\"#46039f\"],[0.2222222222222222,\"#7201a8\"],[0.3333333333333333,\"#9c179e\"],[0.4444444444444444,\"#bd3786\"],[0.5555555555555556,\"#d8576b\"],[0.6666666666666666,\"#ed7953\"],[0.7777777777777778,\"#fb9f3a\"],[0.8888888888888888,\"#fdca26\"],[1.0,\"#f0f921\"]],\"diverging\":[[0,\"#8e0152\"],[0.1,\"#c51b7d\"],[0.2,\"#de77ae\"],[0.3,\"#f1b6da\"],[0.4,\"#fde0ef\"],[0.5,\"#f7f7f7\"],[0.6,\"#e6f5d0\"],[0.7,\"#b8e186\"],[0.8,\"#7fbc41\"],[0.9,\"#4d9221\"],[1,\"#276419\"]]},\"xaxis\":{\"gridcolor\":\"#EBF0F8\",\"linecolor\":\"#EBF0F8\",\"ticks\":\"\",\"title\":{\"standoff\":15},\"zerolinecolor\":\"#EBF0F8\",\"automargin\":true,\"zerolinewidth\":2},\"yaxis\":{\"gridcolor\":\"#EBF0F8\",\"linecolor\":\"#EBF0F8\",\"ticks\":\"\",\"title\":{\"standoff\":15},\"zerolinecolor\":\"#EBF0F8\",\"automargin\":true,\"zerolinewidth\":2},\"scene\":{\"xaxis\":{\"backgroundcolor\":\"white\",\"gridcolor\":\"#DFE8F3\",\"linecolor\":\"#EBF0F8\",\"showbackground\":true,\"ticks\":\"\",\"zerolinecolor\":\"#EBF0F8\",\"gridwidth\":2},\"yaxis\":{\"backgroundcolor\":\"white\",\"gridcolor\":\"#DFE8F3\",\"linecolor\":\"#EBF0F8\",\"showbackground\":true,\"ticks\":\"\",\"zerolinecolor\":\"#EBF0F8\",\"gridwidth\":2},\"zaxis\":{\"backgroundcolor\":\"white\",\"gridcolor\":\"#DFE8F3\",\"linecolor\":\"#EBF0F8\",\"showbackground\":true,\"ticks\":\"\",\"zerolinecolor\":\"#EBF0F8\",\"gridwidth\":2}},\"shapedefaults\":{\"line\":{\"color\":\"#2a3f5f\"}},\"annotationdefaults\":{\"arrowcolor\":\"#2a3f5f\",\"arrowhead\":0,\"arrowwidth\":1},\"geo\":{\"bgcolor\":\"white\",\"landcolor\":\"white\",\"subunitcolor\":\"#C8D4E3\",\"showland\":true,\"showlakes\":true,\"lakecolor\":\"white\"},\"title\":{\"x\":0.05},\"mapbox\":{\"style\":\"light\"}}}},                        {\"displaylogo\": false, \"modeBarButtonsToRemove\": [\"select2d\", \"lasso2d\", \"zoomIn2d\", \"zoomOut2d\", \"autoScale2d\"], \"responsive\": true}                    )                };            </script>        </div>"
      ],
      "text/plain": [
       "<IPython.core.display.HTML object>"
      ]
     },
     "metadata": {},
     "output_type": "display_data"
    }
   ],
   "source": [
    "project_2.plot_meas_vs_calc(expt_name='sim_lbco', d_spacing=True)"
   ]
  },
  {
   "cell_type": "markdown",
   "id": "166",
   "metadata": {},
   "source": [
    "#### Exercise 5.6: Refine the Peak Profile Parameters\n",
    "\n",
    "As you can see, the fit is now relatively good and the peak positions are\n",
    "much closer to the measured data.\n",
    "\n",
    "The peak profile parameters were not refined, and their starting values were\n",
    "set based on the previous fit of the Si standard sample. Although these\n",
    "starting values are reasonable and provide a good starting point for the fit,\n",
    "they are not necessarily optimal for the LBCO phase. This can be seen while\n",
    "inspecting the individual peaks in the diffraction pattern. For example, the\n",
    "calculated curve does not perfectly describe the peak at about 1.38 Å, as can\n",
    "be seen below:"
   ]
  },
  {
   "cell_type": "code",
   "execution_count": 45,
   "id": "167",
   "metadata": {
    "execution": {
     "iopub.execute_input": "2025-08-31T19:33:13.807105Z",
     "iopub.status.busy": "2025-08-31T19:33:13.806960Z",
     "iopub.status.idle": "2025-08-31T19:33:13.963127Z",
     "shell.execute_reply": "2025-08-31T19:33:13.962507Z"
    }
   },
   "outputs": [
    {
     "data": {
      "text/html": [
       "<div>                        <script type=\"text/javascript\">window.PlotlyConfig = {MathJaxConfig: 'local'};</script>\n",
       "        <script charset=\"utf-8\" src=\"https://cdn.plot.ly/plotly-3.1.0.min.js\" integrity=\"sha256-Ei4740bWZhaUTQuD6q9yQlgVCMPBz6CZWhevDYPv93A=\" crossorigin=\"anonymous\"></script>                <div id=\"94524566-f273-4f3d-982f-b10cb9866a65\" class=\"plotly-graph-div\" style=\"height:100%; width:100%;\"></div>            <script type=\"text/javascript\">                window.PLOTLYENV=window.PLOTLYENV || {};                                if (document.getElementById(\"94524566-f273-4f3d-982f-b10cb9866a65\")) {                    Plotly.newPlot(                        \"94524566-f273-4f3d-982f-b10cb9866a65\",                        [{\"line\":{\"color\":\"rgb(31, 119, 180)\"},\"mode\":\"lines+markers\",\"name\":\"Measured (Imeas)\",\"x\":{\"dtype\":\"f8\",\"bdata\":\"AAAA+rGd9T8AABBM46X1PwAAIJ4UrvU\\u002fAACIjkW29T\\u002f\\u002f\\u002f5fgdr71P\\u002f\\u002f\\u002f\\u002f9CnxvU\\u002f\\u002f\\u002f8PI9nO9T\\u002f\\u002f\\u002fx91Ctf1P\\u002f\\u002f\\u002fh2U73\\u002fU\\u002f\\u002f\\u002f\\u002fvVWzn9T\\u002f\\u002f\\u002f\\u002f+nne\\u002f1P\\u002f\\u002f\\u002fD\\u002frO9\\u002fU\\u002f\\u002f\\u002f936v\\u002f\\u002f9T\\u002f\\u002f\\u002f4c8MQj2P\\u002f\\u002f\\u002f7yxiEPY\\u002f\\u002f\\u002f\\u002f\\u002ffpMY9j\\u002f\\u002f\\u002fw\\u002fRxCD2P\\u002f\\u002f\\u002fd8H1KPY\\u002f\\u002f\\u002f\\u002ffsSYx9j\\u002f\\u002f\\u002f+8DWDn2P\\u002f\\u002f\\u002f\\u002f1WJQfY\\u002f\\u002f\\u002f8PqLpJ9j\\u002f\\u002f\\u002f3eY61H2P\\u002f\\u002f\\u002f34gcWvY\\u002f\\u002f\\u002f\\u002fv2k1i9j8=\"},\"y\":{\"dtype\":\"f8\",\"bdata\":\"rmNw+Uko0T\\u002fdDgP36JfTPy+OdC3yjtU\\u002frVZW+\\u002fn42D8S2RBGmATaP0r9c\\u002f5zPN0\\u002fx+QFwOw95D+9bQWt45fuP0V48u5YUvk\\u002flrIt2s\\u002fuB0ByWRn3TC0WQAKQuTj7ISJATGNCUZhfJkCEf31bs8UkQCwSxI35jx1ATqMgkrrOD0D++dsdqkEBQMeeFNZKWvM\\u002f7DpYraly6D\\u002fiR0BoAvHgPwGxpaYuqNk\\u002fCISfuQwV1D\\u002fC2f69jTfSP68FS3+pcdA\\u002f5oJxm1Th0T8=\"},\"type\":\"scatter\"},{\"line\":{\"color\":\"rgb(214, 39, 40)\"},\"mode\":\"lines\",\"name\":\"Total calculated (Icalc)\",\"x\":{\"dtype\":\"f8\",\"bdata\":\"AAAA+rGd9T8AABBM46X1PwAAIJ4UrvU\\u002fAACIjkW29T\\u002f\\u002f\\u002f5fgdr71P\\u002f\\u002f\\u002f\\u002f9CnxvU\\u002f\\u002f\\u002f8PI9nO9T\\u002f\\u002f\\u002fx91Ctf1P\\u002f\\u002f\\u002fh2U73\\u002fU\\u002f\\u002f\\u002f\\u002fvVWzn9T\\u002f\\u002f\\u002f\\u002f+nne\\u002f1P\\u002f\\u002f\\u002fD\\u002frO9\\u002fU\\u002f\\u002f\\u002f936v\\u002f\\u002f9T\\u002f\\u002f\\u002f4c8MQj2P\\u002f\\u002f\\u002f7yxiEPY\\u002f\\u002f\\u002f\\u002f\\u002ffpMY9j\\u002f\\u002f\\u002fw\\u002fRxCD2P\\u002f\\u002f\\u002fd8H1KPY\\u002f\\u002f\\u002f\\u002ffsSYx9j\\u002f\\u002f\\u002f+8DWDn2P\\u002f\\u002f\\u002f\\u002f1WJQfY\\u002f\\u002f\\u002f8PqLpJ9j\\u002f\\u002f\\u002f3eY61H2P\\u002f\\u002f\\u002f34gcWvY\\u002f\\u002f\\u002f\\u002fv2k1i9j8=\"},\"y\":{\"dtype\":\"f8\",\"bdata\":\"lkn5qvVU0D9uLHjEYgXRPwVFpyDoTNI\\u002fwcB3hu2n1D9SWKL1O\\u002ffYPwqrvHujZ+A\\u002fH04fp6GD5z8e9Xg\\u002fAyvyP7wwd4E7rP0\\u002fOw3zi4IMCUBK8C3s7x8VQAuaRD+4gyBAk4NEG05XJUBluYJOpcokQMW6CJyDPh5AcSvo4MTSEUBwtDcL41YDQEOBGAZSXfU\\u002fbFKTJU5b6T\\u002fvl7U+JavgP7LmJSVLmNg\\u002fHGp2Iugq1D8YWcYrQunRPwULjOwWwdA\\u002fNjL6Em8o0D8=\"},\"type\":\"scatter\"}],                        {\"legend\":{\"x\":1.0,\"xanchor\":\"right\",\"y\":1.0,\"yanchor\":\"top\"},\"margin\":{\"autoexpand\":true,\"b\":45,\"r\":30,\"t\":40},\"title\":{\"text\":\"Measured vs Calculated data for experiment \\ud83d\\udd2c 'sim_lbco'\"},\"xaxis\":{\"mirror\":true,\"showline\":true,\"title\":{\"text\":\"d (\\u00c5)\"},\"zeroline\":false,\"tickformat\":\",.6~g\",\"separatethousands\":true},\"yaxis\":{\"mirror\":true,\"showline\":true,\"title\":{\"text\":\"Intensity (arb. units)\"},\"zeroline\":false,\"tickformat\":\",.6~g\",\"separatethousands\":true},\"template\":{\"data\":{\"histogram2dcontour\":[{\"type\":\"histogram2dcontour\",\"colorbar\":{\"outlinewidth\":0,\"ticks\":\"\"},\"colorscale\":[[0.0,\"#0d0887\"],[0.1111111111111111,\"#46039f\"],[0.2222222222222222,\"#7201a8\"],[0.3333333333333333,\"#9c179e\"],[0.4444444444444444,\"#bd3786\"],[0.5555555555555556,\"#d8576b\"],[0.6666666666666666,\"#ed7953\"],[0.7777777777777778,\"#fb9f3a\"],[0.8888888888888888,\"#fdca26\"],[1.0,\"#f0f921\"]]}],\"choropleth\":[{\"type\":\"choropleth\",\"colorbar\":{\"outlinewidth\":0,\"ticks\":\"\"}}],\"histogram2d\":[{\"type\":\"histogram2d\",\"colorbar\":{\"outlinewidth\":0,\"ticks\":\"\"},\"colorscale\":[[0.0,\"#0d0887\"],[0.1111111111111111,\"#46039f\"],[0.2222222222222222,\"#7201a8\"],[0.3333333333333333,\"#9c179e\"],[0.4444444444444444,\"#bd3786\"],[0.5555555555555556,\"#d8576b\"],[0.6666666666666666,\"#ed7953\"],[0.7777777777777778,\"#fb9f3a\"],[0.8888888888888888,\"#fdca26\"],[1.0,\"#f0f921\"]]}],\"heatmap\":[{\"type\":\"heatmap\",\"colorbar\":{\"outlinewidth\":0,\"ticks\":\"\"},\"colorscale\":[[0.0,\"#0d0887\"],[0.1111111111111111,\"#46039f\"],[0.2222222222222222,\"#7201a8\"],[0.3333333333333333,\"#9c179e\"],[0.4444444444444444,\"#bd3786\"],[0.5555555555555556,\"#d8576b\"],[0.6666666666666666,\"#ed7953\"],[0.7777777777777778,\"#fb9f3a\"],[0.8888888888888888,\"#fdca26\"],[1.0,\"#f0f921\"]]}],\"contourcarpet\":[{\"type\":\"contourcarpet\",\"colorbar\":{\"outlinewidth\":0,\"ticks\":\"\"}}],\"contour\":[{\"type\":\"contour\",\"colorbar\":{\"outlinewidth\":0,\"ticks\":\"\"},\"colorscale\":[[0.0,\"#0d0887\"],[0.1111111111111111,\"#46039f\"],[0.2222222222222222,\"#7201a8\"],[0.3333333333333333,\"#9c179e\"],[0.4444444444444444,\"#bd3786\"],[0.5555555555555556,\"#d8576b\"],[0.6666666666666666,\"#ed7953\"],[0.7777777777777778,\"#fb9f3a\"],[0.8888888888888888,\"#fdca26\"],[1.0,\"#f0f921\"]]}],\"surface\":[{\"type\":\"surface\",\"colorbar\":{\"outlinewidth\":0,\"ticks\":\"\"},\"colorscale\":[[0.0,\"#0d0887\"],[0.1111111111111111,\"#46039f\"],[0.2222222222222222,\"#7201a8\"],[0.3333333333333333,\"#9c179e\"],[0.4444444444444444,\"#bd3786\"],[0.5555555555555556,\"#d8576b\"],[0.6666666666666666,\"#ed7953\"],[0.7777777777777778,\"#fb9f3a\"],[0.8888888888888888,\"#fdca26\"],[1.0,\"#f0f921\"]]}],\"mesh3d\":[{\"type\":\"mesh3d\",\"colorbar\":{\"outlinewidth\":0,\"ticks\":\"\"}}],\"scatter\":[{\"fillpattern\":{\"fillmode\":\"overlay\",\"size\":10,\"solidity\":0.2},\"type\":\"scatter\"}],\"parcoords\":[{\"type\":\"parcoords\",\"line\":{\"colorbar\":{\"outlinewidth\":0,\"ticks\":\"\"}}}],\"scatterpolargl\":[{\"type\":\"scatterpolargl\",\"marker\":{\"colorbar\":{\"outlinewidth\":0,\"ticks\":\"\"}}}],\"bar\":[{\"error_x\":{\"color\":\"#2a3f5f\"},\"error_y\":{\"color\":\"#2a3f5f\"},\"marker\":{\"line\":{\"color\":\"white\",\"width\":0.5},\"pattern\":{\"fillmode\":\"overlay\",\"size\":10,\"solidity\":0.2}},\"type\":\"bar\"}],\"scattergeo\":[{\"type\":\"scattergeo\",\"marker\":{\"colorbar\":{\"outlinewidth\":0,\"ticks\":\"\"}}}],\"scatterpolar\":[{\"type\":\"scatterpolar\",\"marker\":{\"colorbar\":{\"outlinewidth\":0,\"ticks\":\"\"}}}],\"histogram\":[{\"marker\":{\"pattern\":{\"fillmode\":\"overlay\",\"size\":10,\"solidity\":0.2}},\"type\":\"histogram\"}],\"scattergl\":[{\"type\":\"scattergl\",\"marker\":{\"colorbar\":{\"outlinewidth\":0,\"ticks\":\"\"}}}],\"scatter3d\":[{\"type\":\"scatter3d\",\"line\":{\"colorbar\":{\"outlinewidth\":0,\"ticks\":\"\"}},\"marker\":{\"colorbar\":{\"outlinewidth\":0,\"ticks\":\"\"}}}],\"scattermap\":[{\"type\":\"scattermap\",\"marker\":{\"colorbar\":{\"outlinewidth\":0,\"ticks\":\"\"}}}],\"scattermapbox\":[{\"type\":\"scattermapbox\",\"marker\":{\"colorbar\":{\"outlinewidth\":0,\"ticks\":\"\"}}}],\"scatterternary\":[{\"type\":\"scatterternary\",\"marker\":{\"colorbar\":{\"outlinewidth\":0,\"ticks\":\"\"}}}],\"scattercarpet\":[{\"type\":\"scattercarpet\",\"marker\":{\"colorbar\":{\"outlinewidth\":0,\"ticks\":\"\"}}}],\"carpet\":[{\"aaxis\":{\"endlinecolor\":\"#2a3f5f\",\"gridcolor\":\"#C8D4E3\",\"linecolor\":\"#C8D4E3\",\"minorgridcolor\":\"#C8D4E3\",\"startlinecolor\":\"#2a3f5f\"},\"baxis\":{\"endlinecolor\":\"#2a3f5f\",\"gridcolor\":\"#C8D4E3\",\"linecolor\":\"#C8D4E3\",\"minorgridcolor\":\"#C8D4E3\",\"startlinecolor\":\"#2a3f5f\"},\"type\":\"carpet\"}],\"table\":[{\"cells\":{\"fill\":{\"color\":\"#EBF0F8\"},\"line\":{\"color\":\"white\"}},\"header\":{\"fill\":{\"color\":\"#C8D4E3\"},\"line\":{\"color\":\"white\"}},\"type\":\"table\"}],\"barpolar\":[{\"marker\":{\"line\":{\"color\":\"white\",\"width\":0.5},\"pattern\":{\"fillmode\":\"overlay\",\"size\":10,\"solidity\":0.2}},\"type\":\"barpolar\"}],\"pie\":[{\"automargin\":true,\"type\":\"pie\"}]},\"layout\":{\"autotypenumbers\":\"strict\",\"colorway\":[\"#636efa\",\"#EF553B\",\"#00cc96\",\"#ab63fa\",\"#FFA15A\",\"#19d3f3\",\"#FF6692\",\"#B6E880\",\"#FF97FF\",\"#FECB52\"],\"font\":{\"color\":\"#2a3f5f\"},\"hovermode\":\"closest\",\"hoverlabel\":{\"align\":\"left\"},\"paper_bgcolor\":\"white\",\"plot_bgcolor\":\"white\",\"polar\":{\"bgcolor\":\"white\",\"angularaxis\":{\"gridcolor\":\"#EBF0F8\",\"linecolor\":\"#EBF0F8\",\"ticks\":\"\"},\"radialaxis\":{\"gridcolor\":\"#EBF0F8\",\"linecolor\":\"#EBF0F8\",\"ticks\":\"\"}},\"ternary\":{\"bgcolor\":\"white\",\"aaxis\":{\"gridcolor\":\"#DFE8F3\",\"linecolor\":\"#A2B1C6\",\"ticks\":\"\"},\"baxis\":{\"gridcolor\":\"#DFE8F3\",\"linecolor\":\"#A2B1C6\",\"ticks\":\"\"},\"caxis\":{\"gridcolor\":\"#DFE8F3\",\"linecolor\":\"#A2B1C6\",\"ticks\":\"\"}},\"coloraxis\":{\"colorbar\":{\"outlinewidth\":0,\"ticks\":\"\"}},\"colorscale\":{\"sequential\":[[0.0,\"#0d0887\"],[0.1111111111111111,\"#46039f\"],[0.2222222222222222,\"#7201a8\"],[0.3333333333333333,\"#9c179e\"],[0.4444444444444444,\"#bd3786\"],[0.5555555555555556,\"#d8576b\"],[0.6666666666666666,\"#ed7953\"],[0.7777777777777778,\"#fb9f3a\"],[0.8888888888888888,\"#fdca26\"],[1.0,\"#f0f921\"]],\"sequentialminus\":[[0.0,\"#0d0887\"],[0.1111111111111111,\"#46039f\"],[0.2222222222222222,\"#7201a8\"],[0.3333333333333333,\"#9c179e\"],[0.4444444444444444,\"#bd3786\"],[0.5555555555555556,\"#d8576b\"],[0.6666666666666666,\"#ed7953\"],[0.7777777777777778,\"#fb9f3a\"],[0.8888888888888888,\"#fdca26\"],[1.0,\"#f0f921\"]],\"diverging\":[[0,\"#8e0152\"],[0.1,\"#c51b7d\"],[0.2,\"#de77ae\"],[0.3,\"#f1b6da\"],[0.4,\"#fde0ef\"],[0.5,\"#f7f7f7\"],[0.6,\"#e6f5d0\"],[0.7,\"#b8e186\"],[0.8,\"#7fbc41\"],[0.9,\"#4d9221\"],[1,\"#276419\"]]},\"xaxis\":{\"gridcolor\":\"#EBF0F8\",\"linecolor\":\"#EBF0F8\",\"ticks\":\"\",\"title\":{\"standoff\":15},\"zerolinecolor\":\"#EBF0F8\",\"automargin\":true,\"zerolinewidth\":2},\"yaxis\":{\"gridcolor\":\"#EBF0F8\",\"linecolor\":\"#EBF0F8\",\"ticks\":\"\",\"title\":{\"standoff\":15},\"zerolinecolor\":\"#EBF0F8\",\"automargin\":true,\"zerolinewidth\":2},\"scene\":{\"xaxis\":{\"backgroundcolor\":\"white\",\"gridcolor\":\"#DFE8F3\",\"linecolor\":\"#EBF0F8\",\"showbackground\":true,\"ticks\":\"\",\"zerolinecolor\":\"#EBF0F8\",\"gridwidth\":2},\"yaxis\":{\"backgroundcolor\":\"white\",\"gridcolor\":\"#DFE8F3\",\"linecolor\":\"#EBF0F8\",\"showbackground\":true,\"ticks\":\"\",\"zerolinecolor\":\"#EBF0F8\",\"gridwidth\":2},\"zaxis\":{\"backgroundcolor\":\"white\",\"gridcolor\":\"#DFE8F3\",\"linecolor\":\"#EBF0F8\",\"showbackground\":true,\"ticks\":\"\",\"zerolinecolor\":\"#EBF0F8\",\"gridwidth\":2}},\"shapedefaults\":{\"line\":{\"color\":\"#2a3f5f\"}},\"annotationdefaults\":{\"arrowcolor\":\"#2a3f5f\",\"arrowhead\":0,\"arrowwidth\":1},\"geo\":{\"bgcolor\":\"white\",\"landcolor\":\"white\",\"subunitcolor\":\"#C8D4E3\",\"showland\":true,\"showlakes\":true,\"lakecolor\":\"white\"},\"title\":{\"x\":0.05},\"mapbox\":{\"style\":\"light\"}}}},                        {\"displaylogo\": false, \"modeBarButtonsToRemove\": [\"select2d\", \"lasso2d\", \"zoomIn2d\", \"zoomOut2d\", \"autoScale2d\"], \"responsive\": true}                    )                };            </script>        </div>"
      ],
      "text/plain": [
       "<IPython.core.display.HTML object>"
      ]
     },
     "metadata": {},
     "output_type": "display_data"
    }
   ],
   "source": [
    "project_2.plot_meas_vs_calc(expt_name='sim_lbco', d_spacing=True, x_min=1.35, x_max=1.40)"
   ]
  },
  {
   "cell_type": "markdown",
   "id": "168",
   "metadata": {},
   "source": [
    "The peak profile parameters are determined based on both the instrument\n",
    "and the sample characteristics, so they can vary when analyzing different\n",
    "samples on the same instrument. Therefore, it is better to refine them as\n",
    "well.\n",
    "\n",
    "Select the peak profile parameters to be refined during the fitting process."
   ]
  },
  {
   "cell_type": "markdown",
   "id": "169",
   "metadata": {},
   "source": [
    "**Hint:**"
   ]
  },
  {
   "cell_type": "markdown",
   "id": "170",
   "metadata": {},
   "source": [
    "You can set the `free` attribute of the peak profile parameters to `True`\n",
    "to allow the fitting process to adjust them. You can use the same approach as\n",
    "in the previous part of the notebook, but this time you will refine the peak\n",
    "profile parameters of the LBCO phase."
   ]
  },
  {
   "cell_type": "markdown",
   "id": "171",
   "metadata": {},
   "source": [
    "**Solution:**"
   ]
  },
  {
   "cell_type": "code",
   "execution_count": 46,
   "id": "172",
   "metadata": {
    "execution": {
     "iopub.execute_input": "2025-08-31T19:33:13.964999Z",
     "iopub.status.busy": "2025-08-31T19:33:13.964857Z",
     "iopub.status.idle": "2025-08-31T19:33:17.034738Z",
     "shell.execute_reply": "2025-08-31T19:33:17.034148Z"
    }
   },
   "outputs": [
    {
     "name": "stdout",
     "output_type": "stream",
     "text": [
      "\n",
      "\u001b[94m\u001b[1mUsing experiment 🔬 \u001b[0m'sim_lbco'\u001b[94m\u001b[1m for \u001b[0m'single'\u001b[94m\u001b[1m fitting\u001b[0m\n",
      "🚀 Starting fit process with 'lmfit (leastsq)'...\n",
      "📈 Goodness-of-fit (reduced χ²) change:\n"
     ]
    },
    {
     "data": {
      "text/html": [
       "<table class=\"dataframe\" style=\"border-collapse: collapse; border: 1px solid #515155; margin-left: 0.5em;margin-top: 0.5em;margin-bottom: 1em;\">\n",
       "  <thead>\n",
       "    <tr style=\"text-align: right;\">\n",
       "      <th style=\"text-align: center;\">iteration</th>\n",
       "      <th style=\"text-align: center;\">χ²</th>\n",
       "      <th style=\"text-align: center;\">improvement [%]</th>\n",
       "    </tr>\n",
       "  </thead>\n",
       "  <tbody>\n",
       "    <tr>\n",
       "      <td><div style=\"text-align: center;\">1</div></td>\n",
       "      <td><div style=\"text-align: center;\">4.92</div></td>\n",
       "      <td><div style=\"text-align: center;\"></div></td>\n",
       "    </tr>\n",
       "    <tr>\n",
       "      <td><div style=\"text-align: center;\">20</div></td>\n",
       "      <td><div style=\"text-align: center;\">4.51</div></td>\n",
       "      <td><div style=\"text-align: center;\">8.3% ↓</div></td>\n",
       "    </tr>\n",
       "    <tr>\n",
       "      <td><div style=\"text-align: center;\">327</div></td>\n",
       "      <td><div style=\"text-align: center;\">4.49</div></td>\n",
       "      <td><div style=\"text-align: center;\"></div></td>\n",
       "    </tr>\n",
       "  </tbody>\n",
       "</table>"
      ],
      "text/plain": [
       "<IPython.core.display.HTML object>"
      ]
     },
     "metadata": {},
     "output_type": "display_data"
    },
    {
     "name": "stdout",
     "output_type": "stream",
     "text": [
      "🏆 Best goodness-of-fit (reduced χ²) is 4.49 at iteration 326\n",
      "✅ Fitting complete.\n"
     ]
    },
    {
     "name": "stdout",
     "output_type": "stream",
     "text": [
      "\n",
      "\u001b[94m\u001b[1mFit results\u001b[0m\n",
      "✅ Success: True\n",
      "⏱️ Fitting time: 2.66 seconds\n",
      "📏 Goodness-of-fit (reduced χ²): 4.49\n",
      "📏 R-factor (Rf): 5.67%\n",
      "📏 R-factor squared (Rf²): 4.84%\n",
      "📏 Weighted R-factor (wR): 4.04%\n",
      "📈 Fitted parameters:\n"
     ]
    },
    {
     "data": {
      "text/html": [
       "<table class=\"dataframe\" style=\"border-collapse: collapse; border: 1px solid #515155; margin-left: 0.5em;margin-top: 0.5em;margin-bottom: 1em;\">\n",
       "  <thead>\n",
       "    <tr style=\"text-align: right;\">\n",
       "      <th></th>\n",
       "      <th style=\"text-align: left;\">datablock</th>\n",
       "      <th style=\"text-align: left;\">category</th>\n",
       "      <th style=\"text-align: left;\">entry</th>\n",
       "      <th style=\"text-align: left;\">parameter</th>\n",
       "      <th style=\"text-align: right;\">start</th>\n",
       "      <th style=\"text-align: right;\">fitted</th>\n",
       "      <th style=\"text-align: right;\">uncertainty</th>\n",
       "      <th style=\"text-align: left;\">units</th>\n",
       "      <th style=\"text-align: right;\">change</th>\n",
       "    </tr>\n",
       "  </thead>\n",
       "  <tbody>\n",
       "    <tr>\n",
       "      <th>1</th>\n",
       "      <td><div style=\"text-align: left;\">lbco</div></td>\n",
       "      <td><div style=\"text-align: left;\">cell</div></td>\n",
       "      <td><div style=\"text-align: left;\"></div></td>\n",
       "      <td><div style=\"text-align: left;\">length_a</div></td>\n",
       "      <td><div style=\"text-align: right;\">3.8922</div></td>\n",
       "      <td><div style=\"text-align: right;\">3.8915</div></td>\n",
       "      <td><div style=\"text-align: right;\">0.0003</div></td>\n",
       "      <td><div style=\"text-align: left;\">Å</div></td>\n",
       "      <td><div style=\"text-align: right;\">0.02 % ↓</div></td>\n",
       "    </tr>\n",
       "    <tr>\n",
       "      <th>2</th>\n",
       "      <td><div style=\"text-align: left;\">sim_lbco</div></td>\n",
       "      <td><div style=\"text-align: left;\">background</div></td>\n",
       "      <td><div style=\"text-align: left;\">50000</div></td>\n",
       "      <td><div style=\"text-align: left;\">y</div></td>\n",
       "      <td><div style=\"text-align: right;\">0.2745</div></td>\n",
       "      <td><div style=\"text-align: right;\">0.2750</div></td>\n",
       "      <td><div style=\"text-align: right;\">0.0479</div></td>\n",
       "      <td><div style=\"text-align: left;\"></div></td>\n",
       "      <td><div style=\"text-align: right;\">0.18 % ↑</div></td>\n",
       "    </tr>\n",
       "    <tr>\n",
       "      <th>3</th>\n",
       "      <td><div style=\"text-align: left;\">sim_lbco</div></td>\n",
       "      <td><div style=\"text-align: left;\">background</div></td>\n",
       "      <td><div style=\"text-align: left;\">60000</div></td>\n",
       "      <td><div style=\"text-align: left;\">y</div></td>\n",
       "      <td><div style=\"text-align: right;\">0.2586</div></td>\n",
       "      <td><div style=\"text-align: right;\">0.2606</div></td>\n",
       "      <td><div style=\"text-align: right;\">0.0098</div></td>\n",
       "      <td><div style=\"text-align: left;\"></div></td>\n",
       "      <td><div style=\"text-align: right;\">0.76 % ↑</div></td>\n",
       "    </tr>\n",
       "    <tr>\n",
       "      <th>4</th>\n",
       "      <td><div style=\"text-align: left;\">sim_lbco</div></td>\n",
       "      <td><div style=\"text-align: left;\">background</div></td>\n",
       "      <td><div style=\"text-align: left;\">70000</div></td>\n",
       "      <td><div style=\"text-align: left;\">y</div></td>\n",
       "      <td><div style=\"text-align: right;\">0.2592</div></td>\n",
       "      <td><div style=\"text-align: right;\">0.2592</div></td>\n",
       "      <td><div style=\"text-align: right;\">0.0064</div></td>\n",
       "      <td><div style=\"text-align: left;\"></div></td>\n",
       "      <td><div style=\"text-align: right;\">0.03 % ↓</div></td>\n",
       "    </tr>\n",
       "    <tr>\n",
       "      <th>5</th>\n",
       "      <td><div style=\"text-align: left;\">sim_lbco</div></td>\n",
       "      <td><div style=\"text-align: left;\">background</div></td>\n",
       "      <td><div style=\"text-align: left;\">80000</div></td>\n",
       "      <td><div style=\"text-align: left;\">y</div></td>\n",
       "      <td><div style=\"text-align: right;\">0.2412</div></td>\n",
       "      <td><div style=\"text-align: right;\">0.2439</div></td>\n",
       "      <td><div style=\"text-align: right;\">0.0050</div></td>\n",
       "      <td><div style=\"text-align: left;\"></div></td>\n",
       "      <td><div style=\"text-align: right;\">1.12 % ↑</div></td>\n",
       "    </tr>\n",
       "    <tr>\n",
       "      <th>6</th>\n",
       "      <td><div style=\"text-align: left;\">sim_lbco</div></td>\n",
       "      <td><div style=\"text-align: left;\">background</div></td>\n",
       "      <td><div style=\"text-align: left;\">90000</div></td>\n",
       "      <td><div style=\"text-align: left;\">y</div></td>\n",
       "      <td><div style=\"text-align: right;\">0.2455</div></td>\n",
       "      <td><div style=\"text-align: right;\">0.2458</div></td>\n",
       "      <td><div style=\"text-align: right;\">0.0035</div></td>\n",
       "      <td><div style=\"text-align: left;\"></div></td>\n",
       "      <td><div style=\"text-align: right;\">0.09 % ↑</div></td>\n",
       "    </tr>\n",
       "    <tr>\n",
       "      <th>7</th>\n",
       "      <td><div style=\"text-align: left;\">sim_lbco</div></td>\n",
       "      <td><div style=\"text-align: left;\">background</div></td>\n",
       "      <td><div style=\"text-align: left;\">100000</div></td>\n",
       "      <td><div style=\"text-align: left;\">y</div></td>\n",
       "      <td><div style=\"text-align: right;\">0.2379</div></td>\n",
       "      <td><div style=\"text-align: right;\">0.2387</div></td>\n",
       "      <td><div style=\"text-align: right;\">0.0040</div></td>\n",
       "      <td><div style=\"text-align: left;\"></div></td>\n",
       "      <td><div style=\"text-align: right;\">0.35 % ↑</div></td>\n",
       "    </tr>\n",
       "    <tr>\n",
       "      <th>8</th>\n",
       "      <td><div style=\"text-align: left;\">sim_lbco</div></td>\n",
       "      <td><div style=\"text-align: left;\">background</div></td>\n",
       "      <td><div style=\"text-align: left;\">110000</div></td>\n",
       "      <td><div style=\"text-align: left;\">y</div></td>\n",
       "      <td><div style=\"text-align: right;\">0.2092</div></td>\n",
       "      <td><div style=\"text-align: right;\">0.2084</div></td>\n",
       "      <td><div style=\"text-align: right;\">0.0146</div></td>\n",
       "      <td><div style=\"text-align: left;\"></div></td>\n",
       "      <td><div style=\"text-align: right;\">0.35 % ↓</div></td>\n",
       "    </tr>\n",
       "    <tr>\n",
       "      <th>9</th>\n",
       "      <td><div style=\"text-align: left;\">sim_lbco</div></td>\n",
       "      <td><div style=\"text-align: left;\">linked_phases</div></td>\n",
       "      <td><div style=\"text-align: left;\">lbco</div></td>\n",
       "      <td><div style=\"text-align: left;\">scale</div></td>\n",
       "      <td><div style=\"text-align: right;\">4.8705</div></td>\n",
       "      <td><div style=\"text-align: right;\">4.8295</div></td>\n",
       "      <td><div style=\"text-align: right;\">0.0465</div></td>\n",
       "      <td><div style=\"text-align: left;\"></div></td>\n",
       "      <td><div style=\"text-align: right;\">0.84 % ↓</div></td>\n",
       "    </tr>\n",
       "    <tr>\n",
       "      <th>10</th>\n",
       "      <td><div style=\"text-align: left;\">sim_lbco</div></td>\n",
       "      <td><div style=\"text-align: left;\">peak</div></td>\n",
       "      <td><div style=\"text-align: left;\"></div></td>\n",
       "      <td><div style=\"text-align: left;\">asym_alpha_0</div></td>\n",
       "      <td><div style=\"text-align: right;\">-0.0066</div></td>\n",
       "      <td><div style=\"text-align: right;\">-0.0048</div></td>\n",
       "      <td><div style=\"text-align: right;\">0.0017</div></td>\n",
       "      <td><div style=\"text-align: left;\"></div></td>\n",
       "      <td><div style=\"text-align: right;\">28.16 % ↓</div></td>\n",
       "    </tr>\n",
       "    <tr>\n",
       "      <th>11</th>\n",
       "      <td><div style=\"text-align: left;\">sim_lbco</div></td>\n",
       "      <td><div style=\"text-align: left;\">peak</div></td>\n",
       "      <td><div style=\"text-align: left;\"></div></td>\n",
       "      <td><div style=\"text-align: left;\">asym_alpha_1</div></td>\n",
       "      <td><div style=\"text-align: right;\">0.0159</div></td>\n",
       "      <td><div style=\"text-align: right;\">0.0137</div></td>\n",
       "      <td><div style=\"text-align: right;\">0.0023</div></td>\n",
       "      <td><div style=\"text-align: left;\"></div></td>\n",
       "      <td><div style=\"text-align: right;\">13.62 % ↓</div></td>\n",
       "    </tr>\n",
       "    <tr>\n",
       "      <th>12</th>\n",
       "      <td><div style=\"text-align: left;\">sim_lbco</div></td>\n",
       "      <td><div style=\"text-align: left;\">peak</div></td>\n",
       "      <td><div style=\"text-align: left;\"></div></td>\n",
       "      <td><div style=\"text-align: left;\">gauss_sigma_0</div></td>\n",
       "      <td><div style=\"text-align: right;\">87503.6603</div></td>\n",
       "      <td><div style=\"text-align: right;\">90223.6773</div></td>\n",
       "      <td><div style=\"text-align: right;\">15782.1219</div></td>\n",
       "      <td><div style=\"text-align: left;\">µs²</div></td>\n",
       "      <td><div style=\"text-align: right;\">3.11 % ↑</div></td>\n",
       "    </tr>\n",
       "    <tr>\n",
       "      <th>13</th>\n",
       "      <td><div style=\"text-align: left;\">sim_lbco</div></td>\n",
       "      <td><div style=\"text-align: left;\">peak</div></td>\n",
       "      <td><div style=\"text-align: left;\"></div></td>\n",
       "      <td><div style=\"text-align: left;\">gauss_sigma_1</div></td>\n",
       "      <td><div style=\"text-align: right;\">-66953.2238</div></td>\n",
       "      <td><div style=\"text-align: right;\">-80933.7029</div></td>\n",
       "      <td><div style=\"text-align: right;\">19529.4986</div></td>\n",
       "      <td><div style=\"text-align: left;\">µs/Å</div></td>\n",
       "      <td><div style=\"text-align: right;\">20.88 % ↑</div></td>\n",
       "    </tr>\n",
       "    <tr>\n",
       "      <th>14</th>\n",
       "      <td><div style=\"text-align: left;\">sim_lbco</div></td>\n",
       "      <td><div style=\"text-align: left;\">peak</div></td>\n",
       "      <td><div style=\"text-align: left;\"></div></td>\n",
       "      <td><div style=\"text-align: left;\">gauss_sigma_2</div></td>\n",
       "      <td><div style=\"text-align: right;\">16276.4795</div></td>\n",
       "      <td><div style=\"text-align: right;\">21634.7078</div></td>\n",
       "      <td><div style=\"text-align: right;\">6015.0274</div></td>\n",
       "      <td><div style=\"text-align: left;\">µs²/Å²</div></td>\n",
       "      <td><div style=\"text-align: right;\">32.92 % ↑</div></td>\n",
       "    </tr>\n",
       "    <tr>\n",
       "      <th>15</th>\n",
       "      <td><div style=\"text-align: left;\">sim_lbco</div></td>\n",
       "      <td><div style=\"text-align: left;\">peak</div></td>\n",
       "      <td><div style=\"text-align: left;\"></div></td>\n",
       "      <td><div style=\"text-align: left;\">mix_beta_0</div></td>\n",
       "      <td><div style=\"text-align: right;\">0.0008</div></td>\n",
       "      <td><div style=\"text-align: right;\">0.0023</div></td>\n",
       "      <td><div style=\"text-align: right;\">0.0005</div></td>\n",
       "      <td><div style=\"text-align: left;\">deg</div></td>\n",
       "      <td><div style=\"text-align: right;\">193.55 % ↑</div></td>\n",
       "    </tr>\n",
       "    <tr>\n",
       "      <th>16</th>\n",
       "      <td><div style=\"text-align: left;\">sim_lbco</div></td>\n",
       "      <td><div style=\"text-align: left;\">peak</div></td>\n",
       "      <td><div style=\"text-align: left;\"></div></td>\n",
       "      <td><div style=\"text-align: left;\">mix_beta_1</div></td>\n",
       "      <td><div style=\"text-align: right;\">0.0190</div></td>\n",
       "      <td><div style=\"text-align: right;\">0.0124</div></td>\n",
       "      <td><div style=\"text-align: right;\">0.0021</div></td>\n",
       "      <td><div style=\"text-align: left;\">deg</div></td>\n",
       "      <td><div style=\"text-align: right;\">34.83 % ↓</div></td>\n",
       "    </tr>\n",
       "  </tbody>\n",
       "</table>"
      ],
      "text/plain": [
       "<IPython.core.display.HTML object>"
      ]
     },
     "metadata": {},
     "output_type": "display_data"
    },
    {
     "data": {
      "text/html": [
       "<div>                        <script type=\"text/javascript\">window.PlotlyConfig = {MathJaxConfig: 'local'};</script>\n",
       "        <script charset=\"utf-8\" src=\"https://cdn.plot.ly/plotly-3.1.0.min.js\" integrity=\"sha256-Ei4740bWZhaUTQuD6q9yQlgVCMPBz6CZWhevDYPv93A=\" crossorigin=\"anonymous\"></script>                <div id=\"c4b337de-070b-489e-a1aa-fce9ba1bb39d\" class=\"plotly-graph-div\" style=\"height:100%; width:100%;\"></div>            <script type=\"text/javascript\">                window.PLOTLYENV=window.PLOTLYENV || {};                                if (document.getElementById(\"c4b337de-070b-489e-a1aa-fce9ba1bb39d\")) {                    Plotly.newPlot(                        \"c4b337de-070b-489e-a1aa-fce9ba1bb39d\",                        [{\"line\":{\"color\":\"rgb(31, 119, 180)\"},\"mode\":\"lines+markers\",\"name\":\"Measured (Imeas)\",\"x\":{\"dtype\":\"f8\",\"bdata\":\"AAAA+rGd9T8AABBM46X1PwAAIJ4UrvU\\u002fAACIjkW29T\\u002f\\u002f\\u002f5fgdr71P\\u002f\\u002f\\u002f\\u002f9CnxvU\\u002f\\u002f\\u002f8PI9nO9T\\u002f\\u002f\\u002fx91Ctf1P\\u002f\\u002f\\u002fh2U73\\u002fU\\u002f\\u002f\\u002f\\u002fvVWzn9T\\u002f\\u002f\\u002f\\u002f+nne\\u002f1P\\u002f\\u002f\\u002fD\\u002frO9\\u002fU\\u002f\\u002f\\u002f936v\\u002f\\u002f9T\\u002f\\u002f\\u002f4c8MQj2P\\u002f\\u002f\\u002f7yxiEPY\\u002f\\u002f\\u002f\\u002f\\u002ffpMY9j\\u002f\\u002f\\u002fw\\u002fRxCD2P\\u002f\\u002f\\u002fd8H1KPY\\u002f\\u002f\\u002f\\u002ffsSYx9j\\u002f\\u002f\\u002f+8DWDn2P\\u002f\\u002f\\u002f\\u002f1WJQfY\\u002f\\u002f\\u002f8PqLpJ9j\\u002f\\u002f\\u002f3eY61H2P\\u002f\\u002f\\u002f34gcWvY\\u002f\\u002f\\u002f\\u002fv2k1i9j8=\"},\"y\":{\"dtype\":\"f8\",\"bdata\":\"rmNw+Uko0T\\u002fdDgP36JfTPy+OdC3yjtU\\u002frVZW+\\u002fn42D8S2RBGmATaP0r9c\\u002f5zPN0\\u002fx+QFwOw95D+9bQWt45fuP0V48u5YUvk\\u002flrIt2s\\u002fuB0ByWRn3TC0WQAKQuTj7ISJATGNCUZhfJkCEf31bs8UkQCwSxI35jx1ATqMgkrrOD0D++dsdqkEBQMeeFNZKWvM\\u002f7DpYraly6D\\u002fiR0BoAvHgPwGxpaYuqNk\\u002fCISfuQwV1D\\u002fC2f69jTfSP68FS3+pcdA\\u002f5oJxm1Th0T8=\"},\"type\":\"scatter\"},{\"line\":{\"color\":\"rgb(214, 39, 40)\"},\"mode\":\"lines\",\"name\":\"Total calculated (Icalc)\",\"x\":{\"dtype\":\"f8\",\"bdata\":\"AAAA+rGd9T8AABBM46X1PwAAIJ4UrvU\\u002fAACIjkW29T\\u002f\\u002f\\u002f5fgdr71P\\u002f\\u002f\\u002f\\u002f9CnxvU\\u002f\\u002f\\u002f8PI9nO9T\\u002f\\u002f\\u002fx91Ctf1P\\u002f\\u002f\\u002fh2U73\\u002fU\\u002f\\u002f\\u002f\\u002fvVWzn9T\\u002f\\u002f\\u002f\\u002f+nne\\u002f1P\\u002f\\u002f\\u002fD\\u002frO9\\u002fU\\u002f\\u002f\\u002f936v\\u002f\\u002f9T\\u002f\\u002f\\u002f4c8MQj2P\\u002f\\u002f\\u002f7yxiEPY\\u002f\\u002f\\u002f\\u002f\\u002ffpMY9j\\u002f\\u002f\\u002fw\\u002fRxCD2P\\u002f\\u002f\\u002fd8H1KPY\\u002f\\u002f\\u002f\\u002ffsSYx9j\\u002f\\u002f\\u002f+8DWDn2P\\u002f\\u002f\\u002f\\u002f1WJQfY\\u002f\\u002f\\u002f8PqLpJ9j\\u002f\\u002f\\u002f3eY61H2P\\u002f\\u002f\\u002f34gcWvY\\u002f\\u002f\\u002f\\u002fv2k1i9j8=\"},\"y\":{\"dtype\":\"f8\",\"bdata\":\"P0yxStE80D9afpaJ6L3QPze5h06UtdE\\u002fQ1fEw6aM0z8eoViZIAfXP0Zplnowkt0\\u002f9IYKF93q5D+4hxFE9C3wP+Of5KrPz\\u002fo\\u002fCDzp3Wo7B0Aq7WjhwWoUQFsrvB2n2SBA0GA9AKR+JkCKU0P8LGglQFeTENfDWh1AcIKWvb+wEEBl3JgFOEcCQK2\\u002f5FPlw\\u002fQ\\u002fNqMRsVBK6T\\u002fuldER2engP6h+mq6kJdk\\u002fvQXy3mKh1D8el+NnJ0XSP+ZIOxkbCNE\\u002fLDbYohxh0D8=\"},\"type\":\"scatter\"}],                        {\"legend\":{\"x\":1.0,\"xanchor\":\"right\",\"y\":1.0,\"yanchor\":\"top\"},\"margin\":{\"autoexpand\":true,\"b\":45,\"r\":30,\"t\":40},\"title\":{\"text\":\"Measured vs Calculated data for experiment \\ud83d\\udd2c 'sim_lbco'\"},\"xaxis\":{\"mirror\":true,\"showline\":true,\"title\":{\"text\":\"d (\\u00c5)\"},\"zeroline\":false,\"tickformat\":\",.6~g\",\"separatethousands\":true},\"yaxis\":{\"mirror\":true,\"showline\":true,\"title\":{\"text\":\"Intensity (arb. units)\"},\"zeroline\":false,\"tickformat\":\",.6~g\",\"separatethousands\":true},\"template\":{\"data\":{\"histogram2dcontour\":[{\"type\":\"histogram2dcontour\",\"colorbar\":{\"outlinewidth\":0,\"ticks\":\"\"},\"colorscale\":[[0.0,\"#0d0887\"],[0.1111111111111111,\"#46039f\"],[0.2222222222222222,\"#7201a8\"],[0.3333333333333333,\"#9c179e\"],[0.4444444444444444,\"#bd3786\"],[0.5555555555555556,\"#d8576b\"],[0.6666666666666666,\"#ed7953\"],[0.7777777777777778,\"#fb9f3a\"],[0.8888888888888888,\"#fdca26\"],[1.0,\"#f0f921\"]]}],\"choropleth\":[{\"type\":\"choropleth\",\"colorbar\":{\"outlinewidth\":0,\"ticks\":\"\"}}],\"histogram2d\":[{\"type\":\"histogram2d\",\"colorbar\":{\"outlinewidth\":0,\"ticks\":\"\"},\"colorscale\":[[0.0,\"#0d0887\"],[0.1111111111111111,\"#46039f\"],[0.2222222222222222,\"#7201a8\"],[0.3333333333333333,\"#9c179e\"],[0.4444444444444444,\"#bd3786\"],[0.5555555555555556,\"#d8576b\"],[0.6666666666666666,\"#ed7953\"],[0.7777777777777778,\"#fb9f3a\"],[0.8888888888888888,\"#fdca26\"],[1.0,\"#f0f921\"]]}],\"heatmap\":[{\"type\":\"heatmap\",\"colorbar\":{\"outlinewidth\":0,\"ticks\":\"\"},\"colorscale\":[[0.0,\"#0d0887\"],[0.1111111111111111,\"#46039f\"],[0.2222222222222222,\"#7201a8\"],[0.3333333333333333,\"#9c179e\"],[0.4444444444444444,\"#bd3786\"],[0.5555555555555556,\"#d8576b\"],[0.6666666666666666,\"#ed7953\"],[0.7777777777777778,\"#fb9f3a\"],[0.8888888888888888,\"#fdca26\"],[1.0,\"#f0f921\"]]}],\"contourcarpet\":[{\"type\":\"contourcarpet\",\"colorbar\":{\"outlinewidth\":0,\"ticks\":\"\"}}],\"contour\":[{\"type\":\"contour\",\"colorbar\":{\"outlinewidth\":0,\"ticks\":\"\"},\"colorscale\":[[0.0,\"#0d0887\"],[0.1111111111111111,\"#46039f\"],[0.2222222222222222,\"#7201a8\"],[0.3333333333333333,\"#9c179e\"],[0.4444444444444444,\"#bd3786\"],[0.5555555555555556,\"#d8576b\"],[0.6666666666666666,\"#ed7953\"],[0.7777777777777778,\"#fb9f3a\"],[0.8888888888888888,\"#fdca26\"],[1.0,\"#f0f921\"]]}],\"surface\":[{\"type\":\"surface\",\"colorbar\":{\"outlinewidth\":0,\"ticks\":\"\"},\"colorscale\":[[0.0,\"#0d0887\"],[0.1111111111111111,\"#46039f\"],[0.2222222222222222,\"#7201a8\"],[0.3333333333333333,\"#9c179e\"],[0.4444444444444444,\"#bd3786\"],[0.5555555555555556,\"#d8576b\"],[0.6666666666666666,\"#ed7953\"],[0.7777777777777778,\"#fb9f3a\"],[0.8888888888888888,\"#fdca26\"],[1.0,\"#f0f921\"]]}],\"mesh3d\":[{\"type\":\"mesh3d\",\"colorbar\":{\"outlinewidth\":0,\"ticks\":\"\"}}],\"scatter\":[{\"fillpattern\":{\"fillmode\":\"overlay\",\"size\":10,\"solidity\":0.2},\"type\":\"scatter\"}],\"parcoords\":[{\"type\":\"parcoords\",\"line\":{\"colorbar\":{\"outlinewidth\":0,\"ticks\":\"\"}}}],\"scatterpolargl\":[{\"type\":\"scatterpolargl\",\"marker\":{\"colorbar\":{\"outlinewidth\":0,\"ticks\":\"\"}}}],\"bar\":[{\"error_x\":{\"color\":\"#2a3f5f\"},\"error_y\":{\"color\":\"#2a3f5f\"},\"marker\":{\"line\":{\"color\":\"white\",\"width\":0.5},\"pattern\":{\"fillmode\":\"overlay\",\"size\":10,\"solidity\":0.2}},\"type\":\"bar\"}],\"scattergeo\":[{\"type\":\"scattergeo\",\"marker\":{\"colorbar\":{\"outlinewidth\":0,\"ticks\":\"\"}}}],\"scatterpolar\":[{\"type\":\"scatterpolar\",\"marker\":{\"colorbar\":{\"outlinewidth\":0,\"ticks\":\"\"}}}],\"histogram\":[{\"marker\":{\"pattern\":{\"fillmode\":\"overlay\",\"size\":10,\"solidity\":0.2}},\"type\":\"histogram\"}],\"scattergl\":[{\"type\":\"scattergl\",\"marker\":{\"colorbar\":{\"outlinewidth\":0,\"ticks\":\"\"}}}],\"scatter3d\":[{\"type\":\"scatter3d\",\"line\":{\"colorbar\":{\"outlinewidth\":0,\"ticks\":\"\"}},\"marker\":{\"colorbar\":{\"outlinewidth\":0,\"ticks\":\"\"}}}],\"scattermap\":[{\"type\":\"scattermap\",\"marker\":{\"colorbar\":{\"outlinewidth\":0,\"ticks\":\"\"}}}],\"scattermapbox\":[{\"type\":\"scattermapbox\",\"marker\":{\"colorbar\":{\"outlinewidth\":0,\"ticks\":\"\"}}}],\"scatterternary\":[{\"type\":\"scatterternary\",\"marker\":{\"colorbar\":{\"outlinewidth\":0,\"ticks\":\"\"}}}],\"scattercarpet\":[{\"type\":\"scattercarpet\",\"marker\":{\"colorbar\":{\"outlinewidth\":0,\"ticks\":\"\"}}}],\"carpet\":[{\"aaxis\":{\"endlinecolor\":\"#2a3f5f\",\"gridcolor\":\"#C8D4E3\",\"linecolor\":\"#C8D4E3\",\"minorgridcolor\":\"#C8D4E3\",\"startlinecolor\":\"#2a3f5f\"},\"baxis\":{\"endlinecolor\":\"#2a3f5f\",\"gridcolor\":\"#C8D4E3\",\"linecolor\":\"#C8D4E3\",\"minorgridcolor\":\"#C8D4E3\",\"startlinecolor\":\"#2a3f5f\"},\"type\":\"carpet\"}],\"table\":[{\"cells\":{\"fill\":{\"color\":\"#EBF0F8\"},\"line\":{\"color\":\"white\"}},\"header\":{\"fill\":{\"color\":\"#C8D4E3\"},\"line\":{\"color\":\"white\"}},\"type\":\"table\"}],\"barpolar\":[{\"marker\":{\"line\":{\"color\":\"white\",\"width\":0.5},\"pattern\":{\"fillmode\":\"overlay\",\"size\":10,\"solidity\":0.2}},\"type\":\"barpolar\"}],\"pie\":[{\"automargin\":true,\"type\":\"pie\"}]},\"layout\":{\"autotypenumbers\":\"strict\",\"colorway\":[\"#636efa\",\"#EF553B\",\"#00cc96\",\"#ab63fa\",\"#FFA15A\",\"#19d3f3\",\"#FF6692\",\"#B6E880\",\"#FF97FF\",\"#FECB52\"],\"font\":{\"color\":\"#2a3f5f\"},\"hovermode\":\"closest\",\"hoverlabel\":{\"align\":\"left\"},\"paper_bgcolor\":\"white\",\"plot_bgcolor\":\"white\",\"polar\":{\"bgcolor\":\"white\",\"angularaxis\":{\"gridcolor\":\"#EBF0F8\",\"linecolor\":\"#EBF0F8\",\"ticks\":\"\"},\"radialaxis\":{\"gridcolor\":\"#EBF0F8\",\"linecolor\":\"#EBF0F8\",\"ticks\":\"\"}},\"ternary\":{\"bgcolor\":\"white\",\"aaxis\":{\"gridcolor\":\"#DFE8F3\",\"linecolor\":\"#A2B1C6\",\"ticks\":\"\"},\"baxis\":{\"gridcolor\":\"#DFE8F3\",\"linecolor\":\"#A2B1C6\",\"ticks\":\"\"},\"caxis\":{\"gridcolor\":\"#DFE8F3\",\"linecolor\":\"#A2B1C6\",\"ticks\":\"\"}},\"coloraxis\":{\"colorbar\":{\"outlinewidth\":0,\"ticks\":\"\"}},\"colorscale\":{\"sequential\":[[0.0,\"#0d0887\"],[0.1111111111111111,\"#46039f\"],[0.2222222222222222,\"#7201a8\"],[0.3333333333333333,\"#9c179e\"],[0.4444444444444444,\"#bd3786\"],[0.5555555555555556,\"#d8576b\"],[0.6666666666666666,\"#ed7953\"],[0.7777777777777778,\"#fb9f3a\"],[0.8888888888888888,\"#fdca26\"],[1.0,\"#f0f921\"]],\"sequentialminus\":[[0.0,\"#0d0887\"],[0.1111111111111111,\"#46039f\"],[0.2222222222222222,\"#7201a8\"],[0.3333333333333333,\"#9c179e\"],[0.4444444444444444,\"#bd3786\"],[0.5555555555555556,\"#d8576b\"],[0.6666666666666666,\"#ed7953\"],[0.7777777777777778,\"#fb9f3a\"],[0.8888888888888888,\"#fdca26\"],[1.0,\"#f0f921\"]],\"diverging\":[[0,\"#8e0152\"],[0.1,\"#c51b7d\"],[0.2,\"#de77ae\"],[0.3,\"#f1b6da\"],[0.4,\"#fde0ef\"],[0.5,\"#f7f7f7\"],[0.6,\"#e6f5d0\"],[0.7,\"#b8e186\"],[0.8,\"#7fbc41\"],[0.9,\"#4d9221\"],[1,\"#276419\"]]},\"xaxis\":{\"gridcolor\":\"#EBF0F8\",\"linecolor\":\"#EBF0F8\",\"ticks\":\"\",\"title\":{\"standoff\":15},\"zerolinecolor\":\"#EBF0F8\",\"automargin\":true,\"zerolinewidth\":2},\"yaxis\":{\"gridcolor\":\"#EBF0F8\",\"linecolor\":\"#EBF0F8\",\"ticks\":\"\",\"title\":{\"standoff\":15},\"zerolinecolor\":\"#EBF0F8\",\"automargin\":true,\"zerolinewidth\":2},\"scene\":{\"xaxis\":{\"backgroundcolor\":\"white\",\"gridcolor\":\"#DFE8F3\",\"linecolor\":\"#EBF0F8\",\"showbackground\":true,\"ticks\":\"\",\"zerolinecolor\":\"#EBF0F8\",\"gridwidth\":2},\"yaxis\":{\"backgroundcolor\":\"white\",\"gridcolor\":\"#DFE8F3\",\"linecolor\":\"#EBF0F8\",\"showbackground\":true,\"ticks\":\"\",\"zerolinecolor\":\"#EBF0F8\",\"gridwidth\":2},\"zaxis\":{\"backgroundcolor\":\"white\",\"gridcolor\":\"#DFE8F3\",\"linecolor\":\"#EBF0F8\",\"showbackground\":true,\"ticks\":\"\",\"zerolinecolor\":\"#EBF0F8\",\"gridwidth\":2}},\"shapedefaults\":{\"line\":{\"color\":\"#2a3f5f\"}},\"annotationdefaults\":{\"arrowcolor\":\"#2a3f5f\",\"arrowhead\":0,\"arrowwidth\":1},\"geo\":{\"bgcolor\":\"white\",\"landcolor\":\"white\",\"subunitcolor\":\"#C8D4E3\",\"showland\":true,\"showlakes\":true,\"lakecolor\":\"white\"},\"title\":{\"x\":0.05},\"mapbox\":{\"style\":\"light\"}}}},                        {\"displaylogo\": false, \"modeBarButtonsToRemove\": [\"select2d\", \"lasso2d\", \"zoomIn2d\", \"zoomOut2d\", \"autoScale2d\"], \"responsive\": true}                    )                };            </script>        </div>"
      ],
      "text/plain": [
       "<IPython.core.display.HTML object>"
      ]
     },
     "metadata": {},
     "output_type": "display_data"
    }
   ],
   "source": [
    "project_2.experiments['sim_lbco'].peak.broad_gauss_sigma_0.free = True\n",
    "project_2.experiments['sim_lbco'].peak.broad_gauss_sigma_1.free = True\n",
    "project_2.experiments['sim_lbco'].peak.broad_gauss_sigma_2.free = True\n",
    "project_2.experiments['sim_lbco'].peak.broad_mix_beta_0.free = True\n",
    "project_2.experiments['sim_lbco'].peak.broad_mix_beta_1.free = True\n",
    "project_2.experiments['sim_lbco'].peak.asym_alpha_0.free = True\n",
    "project_2.experiments['sim_lbco'].peak.asym_alpha_1.free = True\n",
    "\n",
    "project_2.analysis.fit()\n",
    "\n",
    "project_2.plot_meas_vs_calc(expt_name='sim_lbco', d_spacing=True, x_min=1.35, x_max=1.40)"
   ]
  },
  {
   "cell_type": "markdown",
   "id": "173",
   "metadata": {},
   "source": [
    "#### Exercise 5.7: Find Undefined Features\n",
    "\n",
    "After refining the lattice parameter and the peak profile parameters, the fit\n",
    "is significantly improved, but inspect the diffraction pattern again. Are you\n",
    "noticing anything undefined?"
   ]
  },
  {
   "cell_type": "markdown",
   "id": "174",
   "metadata": {},
   "source": [
    "**Hint:**"
   ]
  },
  {
   "cell_type": "markdown",
   "id": "175",
   "metadata": {},
   "source": [
    "While the fit is now significantly better, there are still some\n",
    "unexplained peaks in the diffraction pattern. These peaks are not accounted\n",
    "for by the LBCO phase. For example, if you zoom in on the region around\n",
    "1.6 Å (or 95,000 μs), you will notice that the rightmost peak is not\n",
    "explained by the LBCO phase at all."
   ]
  },
  {
   "cell_type": "markdown",
   "id": "176",
   "metadata": {},
   "source": [
    "**Solution:**"
   ]
  },
  {
   "cell_type": "code",
   "execution_count": 47,
   "id": "177",
   "metadata": {
    "execution": {
     "iopub.execute_input": "2025-08-31T19:33:17.036533Z",
     "iopub.status.busy": "2025-08-31T19:33:17.036380Z",
     "iopub.status.idle": "2025-08-31T19:33:17.182666Z",
     "shell.execute_reply": "2025-08-31T19:33:17.182332Z"
    }
   },
   "outputs": [
    {
     "data": {
      "text/html": [
       "<div>                        <script type=\"text/javascript\">window.PlotlyConfig = {MathJaxConfig: 'local'};</script>\n",
       "        <script charset=\"utf-8\" src=\"https://cdn.plot.ly/plotly-3.1.0.min.js\" integrity=\"sha256-Ei4740bWZhaUTQuD6q9yQlgVCMPBz6CZWhevDYPv93A=\" crossorigin=\"anonymous\"></script>                <div id=\"4836cc20-36ed-470e-91ae-a9b52e58b335\" class=\"plotly-graph-div\" style=\"height:100%; width:100%;\"></div>            <script type=\"text/javascript\">                window.PLOTLYENV=window.PLOTLYENV || {};                                if (document.getElementById(\"4836cc20-36ed-470e-91ae-a9b52e58b335\")) {                    Plotly.newPlot(                        \"4836cc20-36ed-470e-91ae-a9b52e58b335\",                        [{\"line\":{\"color\":\"rgb(31, 119, 180)\"},\"mode\":\"lines+markers\",\"name\":\"Measured (Imeas)\",\"x\":{\"dtype\":\"f8\",\"bdata\":\"\\u002f\\u002f8H8\\u002fl++D\\u002f\\u002f\\u002fxdFK4f4P\\u002f\\u002f\\u002ffzVcj\\u002fg\\u002f\\u002f\\u002f\\u002fnJY2X+D\\u002f\\u002f\\u002f\\u002fd3vp\\u002f4P\\u002f\\u002f\\u002fB8rvp\\u002fg\\u002f\\u002f\\u002f9vuiCw+D\\u002f\\u002f\\u002f38MUrj4P\\u002f\\u002f\\u002f5\\u002fyCwPg\\u002f\\u002f\\u002f\\u002f3TrTI+D\\u002f\\u002f\\u002fweh5dD4P\\u002f\\u002f\\u002fb5EW2fg\\u002f\\u002f\\u002f9\\u002f40fh+D\\u002f\\u002f\\u002f+fTeOn4P\\u002f\\u002f\\u002f9yWq8fg\\u002f\\u002f\\u002f9fFtv5+D\\u002f\\u002f\\u002f29oDAL5P\\u002f\\u002f\\u002f11g9Cvk\\u002f\\u002f\\u002f\\u002fnqm4S+T\\u002f\\u002f\\u002f0+bnxr5P\\u002f\\u002f\\u002fX+3QIvk\\u002f\\u002f\\u002f9vPwIr+T\\u002f\\u002f\\u002f9cvMzP5P\\u002f\\u002f\\u002f54FkO\\u002fk\\u002f\\u002f\\u002f9PcpVD+T\\u002f\\u002f\\u002f1\\u002fExkv5P\\u002f\\u002f\\u002fx7T3U\\u002fk\\u002f\\u002f\\u002f\\u002fXBilc+T\\u002f\\u002f\\u002fz\\u002f3WWT5P\\u002f\\u002f\\u002fT0mLbPk\\u002f\\u002f\\u002f9fm7x0+T\\u002f\\u002f\\u002f8eL7Xz5P\\u002f\\u002f\\u002fL3wehfk\\u002f\\u002f\\u002f8\\u002fzk+N+T\\u002f\\u002f\\u002f08ggZX5P\\u002f\\u002f\\u002ftxCynfk\\u002f\\u002f\\u002f\\u002fHYuOl+T\\u002f\\u002f\\u002fy9TFK75P\\u002f\\u002f\\u002fP6VFtvk\\u002f\\u002f\\u002f9P93a++T\\u002f\\u002f\\u002f7fnp8b5P\\u002f\\u002f\\u002fxznZzvk\\u002f\\u002f\\u002f8vKgrX+T\\u002f\\u002f\\u002fz98O9\\u002f5P\\u002f\\u002f\\u002fT85s5\\u002fk\\u002f\\u002f\\u002f+3vp3v+T\\u002f\\u002f\\u002fx+vzvf5P\\u002f\\u002f\\u002fLwEAAPo\\u002f\\u002f\\u002f8\\u002fUzEI+j\\u002f\\u002f\\u002f6dDYhD6P\\u002f\\u002f\\u002ft5WTGPo\\u002f\\u002f\\u002f8fhsQg+j\\u002f\\u002f\\u002fy\\u002fY9Sj6P\\u002f\\u002f\\u002fPyonMfo\\u002f\\u002f\\u002f+nGlg5+j\\u002f\\u002f\\u002fw8LiUH6P\\u002f\\u002f\\u002fH126Sfo\\u002f\\u002f\\u002f8vr+tR+j\\u002f\\u002f\\u002f5efHFr6P\\u002f\\u002f\\u002fp\\u002fFNYvo\\u002f\\u002f\\u002f8P4n5q+j\\u002f\\u002f\\u002fx80sHL6P\\u002f\\u002f\\u002fL4bhevo\\u002f\\u002f\\u002f+XdhKD+j\\u002f\\u002f\\u002f6fIQ4v6P\\u002f\\u002f\\u002fD7l0k\\u002fo\\u002f\\u002f\\u002f8fC6ab+j\\u002f\\u002f\\u002f4f71qP6P\\u002f\\u002f\\u002fl00IrPo\\u002f\\u002f\\u002f\\u002f\\u002fPTm0+j\\u002f\\u002f\\u002fw+Qarz6P\\u002f\\u002f\\u002fH+KbxPo\\u002f\\u002f\\u002f+H0szM+j\\u002f\\u002f\\u002f5ck\\u002ftT6P\\u002f\\u002f\\u002f\\u002fxQv3fo\\u002f\\u002f\\u002f8PZ2Dl+j\\u002f\\u002f\\u002f3dXke36P\\u002f\\u002f\\u002fh6nC9fo\\u002f\\u002f\\u002f\\u002fvmfP9+j\\u002f\\u002f\\u002f\\u002f\\u002frJAb7P\\u002f\\u002f\\u002fZ9xVDvs\\u002f\\u002f\\u002f93LocW+z\\u002f\\u002f\\u002f4eAuB77P\\u002f\\u002f\\u002f73DpJvs\\u002f\\u002f\\u002f9XYRov+z8=\"},\"y\":{\"dtype\":\"f8\",\"bdata\":\"cjmkULNYzz+klLijmzTPPzZnNg6MGM8\\u002f+f2d8Sj4zz\\u002f8+yWY6hvRP2K9Qmt7O9E\\u002fstqM2cmjzz8hFfDuZlvRP3e8Vtk1Us8\\u002fjzUcnwvvzz9QwSUTy2TOPw4yZED+ocw\\u002f6GmsydgyzT+w6A+x\\u002fyLOP2E1gkoEJNA\\u002f3LbNHJdnyz87ZWoRhL\\u002fOP+SnbKbz8c8\\u002fb30HTCfizD85zB1+q4vQPzgOhfs959A\\u002f2k+O+t9H0j+0rcCm8dHSP0Hsg7Zoa9U\\u002fkLYaniOe1z+vstWwjjbePz9Hd+9gPuI\\u002fVntUQgfv5j\\u002ff6\\u002fbtM6TtP5YeH+PEE+8\\u002fLMq6vclX7D+XC8IAA87mP71xYE5qT+E\\u002f+uI8ZSYm2z9vf5aG75HWP605ZLPFotM\\u002fXqwHc9O10z+0s2sKDDDRPwpmpP2b49A\\u002fykYb9z6szj8A1ZdQnsjNPwzBt3Rtx9A\\u002fafLGfFsJzT9V3mIdsoPOP09fQJtrB84\\u002fB8wFlnnv0D+\\u002fhp7YmezNP8A71obKM9E\\u002fGDjevl1z0j9Yf5EaktzSP7Ln72esktU\\u002fgEoj9AR52D\\u002fttFJsbcDcP2xR5U4KSt0\\u002fPobrzuo32z9rJMG+KyzZP\\u002f28F7luzNY\\u002fV2XrDJhD1D+evabhTQfSP+EGvPi6nNE\\u002fL1zpV8b4zj\\u002fu6q2T+JTPP4kYz96Fv80\\u002fbkPtwK8mzT\\u002f16qtBDTvNP8zSCE8BM8s\\u002fQy9hZvnyzT8Spz+G4q7MPzQzpVQdDtA\\u002f77VQpOBizD\\u002f3yrQ4u1DPP06HVdmFusw\\u002fQC5666Wfzj+YzsYoMuLOP9AZi6kQ8Mo\\u002famHTB8fszj8nWdwD3kzNPxG\\u002fVr+dHMw\\u002f18q6LI4UzD95+zrqhZfKPzYiCVbkks0\\u002fwtjym9i5yz+cSM0jDGnMP6CaZLVTRMw\\u002fm7zWF5h4yj8=\"},\"type\":\"scatter\"},{\"line\":{\"color\":\"rgb(214, 39, 40)\"},\"mode\":\"lines\",\"name\":\"Total calculated (Icalc)\",\"x\":{\"dtype\":\"f8\",\"bdata\":\"\\u002f\\u002f8H8\\u002fl++D\\u002f\\u002f\\u002fxdFK4f4P\\u002f\\u002f\\u002ffzVcj\\u002fg\\u002f\\u002f\\u002f\\u002fnJY2X+D\\u002f\\u002f\\u002f\\u002fd3vp\\u002f4P\\u002f\\u002f\\u002fB8rvp\\u002fg\\u002f\\u002f\\u002f9vuiCw+D\\u002f\\u002f\\u002f38MUrj4P\\u002f\\u002f\\u002f5\\u002fyCwPg\\u002f\\u002f\\u002f\\u002f3TrTI+D\\u002f\\u002f\\u002fweh5dD4P\\u002f\\u002f\\u002fb5EW2fg\\u002f\\u002f\\u002f9\\u002f40fh+D\\u002f\\u002f\\u002f+fTeOn4P\\u002f\\u002f\\u002f9yWq8fg\\u002f\\u002f\\u002f9fFtv5+D\\u002f\\u002f\\u002f29oDAL5P\\u002f\\u002f\\u002f11g9Cvk\\u002f\\u002f\\u002f\\u002fnqm4S+T\\u002f\\u002f\\u002f0+bnxr5P\\u002f\\u002f\\u002fX+3QIvk\\u002f\\u002f\\u002f9vPwIr+T\\u002f\\u002f\\u002f9cvMzP5P\\u002f\\u002f\\u002f54FkO\\u002fk\\u002f\\u002f\\u002f9PcpVD+T\\u002f\\u002f\\u002f1\\u002fExkv5P\\u002f\\u002f\\u002fx7T3U\\u002fk\\u002f\\u002f\\u002f\\u002fXBilc+T\\u002f\\u002f\\u002fz\\u002f3WWT5P\\u002f\\u002f\\u002fT0mLbPk\\u002f\\u002f\\u002f9fm7x0+T\\u002f\\u002f\\u002f8eL7Xz5P\\u002f\\u002f\\u002fL3wehfk\\u002f\\u002f\\u002f8\\u002fzk+N+T\\u002f\\u002f\\u002f08ggZX5P\\u002f\\u002f\\u002ftxCynfk\\u002f\\u002f\\u002f\\u002fHYuOl+T\\u002f\\u002f\\u002fy9TFK75P\\u002f\\u002f\\u002fP6VFtvk\\u002f\\u002f\\u002f9P93a++T\\u002f\\u002f\\u002f7fnp8b5P\\u002f\\u002f\\u002fxznZzvk\\u002f\\u002f\\u002f8vKgrX+T\\u002f\\u002f\\u002fz98O9\\u002f5P\\u002f\\u002f\\u002fT85s5\\u002fk\\u002f\\u002f\\u002f+3vp3v+T\\u002f\\u002f\\u002fx+vzvf5P\\u002f\\u002f\\u002fLwEAAPo\\u002f\\u002f\\u002f8\\u002fUzEI+j\\u002f\\u002f\\u002f6dDYhD6P\\u002f\\u002f\\u002ft5WTGPo\\u002f\\u002f\\u002f8fhsQg+j\\u002f\\u002f\\u002fy\\u002fY9Sj6P\\u002f\\u002f\\u002fPyonMfo\\u002f\\u002f\\u002f+nGlg5+j\\u002f\\u002f\\u002fw8LiUH6P\\u002f\\u002f\\u002fH126Sfo\\u002f\\u002f\\u002f8vr+tR+j\\u002f\\u002f\\u002f5efHFr6P\\u002f\\u002f\\u002fp\\u002fFNYvo\\u002f\\u002f\\u002f8P4n5q+j\\u002f\\u002f\\u002fx80sHL6P\\u002f\\u002f\\u002fL4bhevo\\u002f\\u002f\\u002f+XdhKD+j\\u002f\\u002f\\u002f6fIQ4v6P\\u002f\\u002f\\u002fD7l0k\\u002fo\\u002f\\u002f\\u002f8fC6ab+j\\u002f\\u002f\\u002f4f71qP6P\\u002f\\u002f\\u002fl00IrPo\\u002f\\u002f\\u002f\\u002f\\u002fPTm0+j\\u002f\\u002f\\u002fw+Qarz6P\\u002f\\u002f\\u002fH+KbxPo\\u002f\\u002f\\u002f+H0szM+j\\u002f\\u002f\\u002f5ck\\u002ftT6P\\u002f\\u002f\\u002f\\u002fxQv3fo\\u002f\\u002f\\u002f8PZ2Dl+j\\u002f\\u002f\\u002f3dXke36P\\u002f\\u002f\\u002fh6nC9fo\\u002f\\u002f\\u002f\\u002fvmfP9+j\\u002f\\u002f\\u002f\\u002f\\u002frJAb7P\\u002f\\u002f\\u002fZ9xVDvs\\u002f\\u002f\\u002f93LocW+z\\u002f\\u002f\\u002f4eAuB77P\\u002f\\u002f\\u002f73DpJvs\\u002f\\u002f\\u002f9XYRov+z8=\"},\"y\":{\"dtype\":\"f8\",\"bdata\":\"LDX91kt1zz\\u002fzIfWqg3TPP8jQxWTWcc8\\u002fB9gdpi9vzz\\u002fK1q7Lk2zPP0VJCQ8Kas8\\u002fz3BCXp5nzz\\u002fGFcNgZGXPP\\u002f6Halx8Y88\\u002fh9bBLhtizz9L81Etl2HPP98xYPR8Ys8\\u002f5BDb7bBlzz+ofFEIpWzPP8Prouiuec8\\u002fOmVBOpGQzz+XIarBVrfPP6\\u002fRuYKt988\\u002fXFJtwoYw0D+R3I12DobQP4N9cdsEENE\\u002fj71w0Hbt0T8uHEB7ek\\u002fTPx15Pu1yg9U\\u002fVQSQU6QC2T9flEhZW4PePz3YA9ePauM\\u002fgjxYxr\\u002fd6D+0WJ7n8s3tP7hQ6n+BHe8\\u002f1MU5tLC56z8GwforihHmP+qWpikP\\u002f+A\\u002fZCNE4ub32j96qWYcK47WP0iV6CfZ2NM\\u002ffXXiVfsv0j\\u002f8Ld0q9CrRPzwkiTsKitA\\u002fcjqjOm4m0D9v+QQ\\u002f4tDPP4SIjiIug88\\u002f8nfMrv5Rzz9rYSY5bDLPP+bvYlDAHc8\\u002fu6CjA9cPzz8\\u002fuc83IQbPPxEMlScJ\\u002f84\\u002fSOoV+ZL5zj\\u002fvn8gNIvXOP16ULc5U8c4\\u002fuS44Se7tzj91qOVfyOrOP36i\\u002fyvL584\\u002fkbdLq+fkzj8Xoc1rFOLOP\\u002fRiYnlL384\\u002fCsYqEYnczj\\u002fsvOjRytnOP5aTojkP184\\u002fbb3cUlXUzj\\u002fut\\u002fmBnNHOPyOw+mPkzs4\\u002fbJopuizMzj9mDllddcnOPwh7PDW+xs4\\u002fG5R2NAfEzj+29j1VUMHOPzZ4VZiZvs4\\u002fs5NFBeO7zj\\u002fg8BqrLLnOP3QnGqR2ts4\\u002fFOPjGcGzzj80CyBNDLHOP533HKFYrs4\\u002fUle+rKarzj9PlZxV96jOP9NoDvdLps4\\u002faDVMnaajzj9W7kRdCqHOP3lRFth7ns4\\u002fUu2q\\u002fQGczj9NIh8sp5nOP9\\u002fdMtl6l84\\u002fTKNTBZSVzj8=\"},\"type\":\"scatter\"}],                        {\"legend\":{\"x\":1.0,\"xanchor\":\"right\",\"y\":1.0,\"yanchor\":\"top\"},\"margin\":{\"autoexpand\":true,\"b\":45,\"r\":30,\"t\":40},\"title\":{\"text\":\"Measured vs Calculated data for experiment \\ud83d\\udd2c 'sim_lbco'\"},\"xaxis\":{\"mirror\":true,\"showline\":true,\"title\":{\"text\":\"d (\\u00c5)\"},\"zeroline\":false,\"tickformat\":\",.6~g\",\"separatethousands\":true},\"yaxis\":{\"mirror\":true,\"showline\":true,\"title\":{\"text\":\"Intensity (arb. units)\"},\"zeroline\":false,\"tickformat\":\",.6~g\",\"separatethousands\":true},\"template\":{\"data\":{\"histogram2dcontour\":[{\"type\":\"histogram2dcontour\",\"colorbar\":{\"outlinewidth\":0,\"ticks\":\"\"},\"colorscale\":[[0.0,\"#0d0887\"],[0.1111111111111111,\"#46039f\"],[0.2222222222222222,\"#7201a8\"],[0.3333333333333333,\"#9c179e\"],[0.4444444444444444,\"#bd3786\"],[0.5555555555555556,\"#d8576b\"],[0.6666666666666666,\"#ed7953\"],[0.7777777777777778,\"#fb9f3a\"],[0.8888888888888888,\"#fdca26\"],[1.0,\"#f0f921\"]]}],\"choropleth\":[{\"type\":\"choropleth\",\"colorbar\":{\"outlinewidth\":0,\"ticks\":\"\"}}],\"histogram2d\":[{\"type\":\"histogram2d\",\"colorbar\":{\"outlinewidth\":0,\"ticks\":\"\"},\"colorscale\":[[0.0,\"#0d0887\"],[0.1111111111111111,\"#46039f\"],[0.2222222222222222,\"#7201a8\"],[0.3333333333333333,\"#9c179e\"],[0.4444444444444444,\"#bd3786\"],[0.5555555555555556,\"#d8576b\"],[0.6666666666666666,\"#ed7953\"],[0.7777777777777778,\"#fb9f3a\"],[0.8888888888888888,\"#fdca26\"],[1.0,\"#f0f921\"]]}],\"heatmap\":[{\"type\":\"heatmap\",\"colorbar\":{\"outlinewidth\":0,\"ticks\":\"\"},\"colorscale\":[[0.0,\"#0d0887\"],[0.1111111111111111,\"#46039f\"],[0.2222222222222222,\"#7201a8\"],[0.3333333333333333,\"#9c179e\"],[0.4444444444444444,\"#bd3786\"],[0.5555555555555556,\"#d8576b\"],[0.6666666666666666,\"#ed7953\"],[0.7777777777777778,\"#fb9f3a\"],[0.8888888888888888,\"#fdca26\"],[1.0,\"#f0f921\"]]}],\"contourcarpet\":[{\"type\":\"contourcarpet\",\"colorbar\":{\"outlinewidth\":0,\"ticks\":\"\"}}],\"contour\":[{\"type\":\"contour\",\"colorbar\":{\"outlinewidth\":0,\"ticks\":\"\"},\"colorscale\":[[0.0,\"#0d0887\"],[0.1111111111111111,\"#46039f\"],[0.2222222222222222,\"#7201a8\"],[0.3333333333333333,\"#9c179e\"],[0.4444444444444444,\"#bd3786\"],[0.5555555555555556,\"#d8576b\"],[0.6666666666666666,\"#ed7953\"],[0.7777777777777778,\"#fb9f3a\"],[0.8888888888888888,\"#fdca26\"],[1.0,\"#f0f921\"]]}],\"surface\":[{\"type\":\"surface\",\"colorbar\":{\"outlinewidth\":0,\"ticks\":\"\"},\"colorscale\":[[0.0,\"#0d0887\"],[0.1111111111111111,\"#46039f\"],[0.2222222222222222,\"#7201a8\"],[0.3333333333333333,\"#9c179e\"],[0.4444444444444444,\"#bd3786\"],[0.5555555555555556,\"#d8576b\"],[0.6666666666666666,\"#ed7953\"],[0.7777777777777778,\"#fb9f3a\"],[0.8888888888888888,\"#fdca26\"],[1.0,\"#f0f921\"]]}],\"mesh3d\":[{\"type\":\"mesh3d\",\"colorbar\":{\"outlinewidth\":0,\"ticks\":\"\"}}],\"scatter\":[{\"fillpattern\":{\"fillmode\":\"overlay\",\"size\":10,\"solidity\":0.2},\"type\":\"scatter\"}],\"parcoords\":[{\"type\":\"parcoords\",\"line\":{\"colorbar\":{\"outlinewidth\":0,\"ticks\":\"\"}}}],\"scatterpolargl\":[{\"type\":\"scatterpolargl\",\"marker\":{\"colorbar\":{\"outlinewidth\":0,\"ticks\":\"\"}}}],\"bar\":[{\"error_x\":{\"color\":\"#2a3f5f\"},\"error_y\":{\"color\":\"#2a3f5f\"},\"marker\":{\"line\":{\"color\":\"white\",\"width\":0.5},\"pattern\":{\"fillmode\":\"overlay\",\"size\":10,\"solidity\":0.2}},\"type\":\"bar\"}],\"scattergeo\":[{\"type\":\"scattergeo\",\"marker\":{\"colorbar\":{\"outlinewidth\":0,\"ticks\":\"\"}}}],\"scatterpolar\":[{\"type\":\"scatterpolar\",\"marker\":{\"colorbar\":{\"outlinewidth\":0,\"ticks\":\"\"}}}],\"histogram\":[{\"marker\":{\"pattern\":{\"fillmode\":\"overlay\",\"size\":10,\"solidity\":0.2}},\"type\":\"histogram\"}],\"scattergl\":[{\"type\":\"scattergl\",\"marker\":{\"colorbar\":{\"outlinewidth\":0,\"ticks\":\"\"}}}],\"scatter3d\":[{\"type\":\"scatter3d\",\"line\":{\"colorbar\":{\"outlinewidth\":0,\"ticks\":\"\"}},\"marker\":{\"colorbar\":{\"outlinewidth\":0,\"ticks\":\"\"}}}],\"scattermap\":[{\"type\":\"scattermap\",\"marker\":{\"colorbar\":{\"outlinewidth\":0,\"ticks\":\"\"}}}],\"scattermapbox\":[{\"type\":\"scattermapbox\",\"marker\":{\"colorbar\":{\"outlinewidth\":0,\"ticks\":\"\"}}}],\"scatterternary\":[{\"type\":\"scatterternary\",\"marker\":{\"colorbar\":{\"outlinewidth\":0,\"ticks\":\"\"}}}],\"scattercarpet\":[{\"type\":\"scattercarpet\",\"marker\":{\"colorbar\":{\"outlinewidth\":0,\"ticks\":\"\"}}}],\"carpet\":[{\"aaxis\":{\"endlinecolor\":\"#2a3f5f\",\"gridcolor\":\"#C8D4E3\",\"linecolor\":\"#C8D4E3\",\"minorgridcolor\":\"#C8D4E3\",\"startlinecolor\":\"#2a3f5f\"},\"baxis\":{\"endlinecolor\":\"#2a3f5f\",\"gridcolor\":\"#C8D4E3\",\"linecolor\":\"#C8D4E3\",\"minorgridcolor\":\"#C8D4E3\",\"startlinecolor\":\"#2a3f5f\"},\"type\":\"carpet\"}],\"table\":[{\"cells\":{\"fill\":{\"color\":\"#EBF0F8\"},\"line\":{\"color\":\"white\"}},\"header\":{\"fill\":{\"color\":\"#C8D4E3\"},\"line\":{\"color\":\"white\"}},\"type\":\"table\"}],\"barpolar\":[{\"marker\":{\"line\":{\"color\":\"white\",\"width\":0.5},\"pattern\":{\"fillmode\":\"overlay\",\"size\":10,\"solidity\":0.2}},\"type\":\"barpolar\"}],\"pie\":[{\"automargin\":true,\"type\":\"pie\"}]},\"layout\":{\"autotypenumbers\":\"strict\",\"colorway\":[\"#636efa\",\"#EF553B\",\"#00cc96\",\"#ab63fa\",\"#FFA15A\",\"#19d3f3\",\"#FF6692\",\"#B6E880\",\"#FF97FF\",\"#FECB52\"],\"font\":{\"color\":\"#2a3f5f\"},\"hovermode\":\"closest\",\"hoverlabel\":{\"align\":\"left\"},\"paper_bgcolor\":\"white\",\"plot_bgcolor\":\"white\",\"polar\":{\"bgcolor\":\"white\",\"angularaxis\":{\"gridcolor\":\"#EBF0F8\",\"linecolor\":\"#EBF0F8\",\"ticks\":\"\"},\"radialaxis\":{\"gridcolor\":\"#EBF0F8\",\"linecolor\":\"#EBF0F8\",\"ticks\":\"\"}},\"ternary\":{\"bgcolor\":\"white\",\"aaxis\":{\"gridcolor\":\"#DFE8F3\",\"linecolor\":\"#A2B1C6\",\"ticks\":\"\"},\"baxis\":{\"gridcolor\":\"#DFE8F3\",\"linecolor\":\"#A2B1C6\",\"ticks\":\"\"},\"caxis\":{\"gridcolor\":\"#DFE8F3\",\"linecolor\":\"#A2B1C6\",\"ticks\":\"\"}},\"coloraxis\":{\"colorbar\":{\"outlinewidth\":0,\"ticks\":\"\"}},\"colorscale\":{\"sequential\":[[0.0,\"#0d0887\"],[0.1111111111111111,\"#46039f\"],[0.2222222222222222,\"#7201a8\"],[0.3333333333333333,\"#9c179e\"],[0.4444444444444444,\"#bd3786\"],[0.5555555555555556,\"#d8576b\"],[0.6666666666666666,\"#ed7953\"],[0.7777777777777778,\"#fb9f3a\"],[0.8888888888888888,\"#fdca26\"],[1.0,\"#f0f921\"]],\"sequentialminus\":[[0.0,\"#0d0887\"],[0.1111111111111111,\"#46039f\"],[0.2222222222222222,\"#7201a8\"],[0.3333333333333333,\"#9c179e\"],[0.4444444444444444,\"#bd3786\"],[0.5555555555555556,\"#d8576b\"],[0.6666666666666666,\"#ed7953\"],[0.7777777777777778,\"#fb9f3a\"],[0.8888888888888888,\"#fdca26\"],[1.0,\"#f0f921\"]],\"diverging\":[[0,\"#8e0152\"],[0.1,\"#c51b7d\"],[0.2,\"#de77ae\"],[0.3,\"#f1b6da\"],[0.4,\"#fde0ef\"],[0.5,\"#f7f7f7\"],[0.6,\"#e6f5d0\"],[0.7,\"#b8e186\"],[0.8,\"#7fbc41\"],[0.9,\"#4d9221\"],[1,\"#276419\"]]},\"xaxis\":{\"gridcolor\":\"#EBF0F8\",\"linecolor\":\"#EBF0F8\",\"ticks\":\"\",\"title\":{\"standoff\":15},\"zerolinecolor\":\"#EBF0F8\",\"automargin\":true,\"zerolinewidth\":2},\"yaxis\":{\"gridcolor\":\"#EBF0F8\",\"linecolor\":\"#EBF0F8\",\"ticks\":\"\",\"title\":{\"standoff\":15},\"zerolinecolor\":\"#EBF0F8\",\"automargin\":true,\"zerolinewidth\":2},\"scene\":{\"xaxis\":{\"backgroundcolor\":\"white\",\"gridcolor\":\"#DFE8F3\",\"linecolor\":\"#EBF0F8\",\"showbackground\":true,\"ticks\":\"\",\"zerolinecolor\":\"#EBF0F8\",\"gridwidth\":2},\"yaxis\":{\"backgroundcolor\":\"white\",\"gridcolor\":\"#DFE8F3\",\"linecolor\":\"#EBF0F8\",\"showbackground\":true,\"ticks\":\"\",\"zerolinecolor\":\"#EBF0F8\",\"gridwidth\":2},\"zaxis\":{\"backgroundcolor\":\"white\",\"gridcolor\":\"#DFE8F3\",\"linecolor\":\"#EBF0F8\",\"showbackground\":true,\"ticks\":\"\",\"zerolinecolor\":\"#EBF0F8\",\"gridwidth\":2}},\"shapedefaults\":{\"line\":{\"color\":\"#2a3f5f\"}},\"annotationdefaults\":{\"arrowcolor\":\"#2a3f5f\",\"arrowhead\":0,\"arrowwidth\":1},\"geo\":{\"bgcolor\":\"white\",\"landcolor\":\"white\",\"subunitcolor\":\"#C8D4E3\",\"showland\":true,\"showlakes\":true,\"lakecolor\":\"white\"},\"title\":{\"x\":0.05},\"mapbox\":{\"style\":\"light\"}}}},                        {\"displaylogo\": false, \"modeBarButtonsToRemove\": [\"select2d\", \"lasso2d\", \"zoomIn2d\", \"zoomOut2d\", \"autoScale2d\"], \"responsive\": true}                    )                };            </script>        </div>"
      ],
      "text/plain": [
       "<IPython.core.display.HTML object>"
      ]
     },
     "metadata": {},
     "output_type": "display_data"
    }
   ],
   "source": [
    "project_2.plot_meas_vs_calc(expt_name='sim_lbco', x_min=1.53, x_max=1.7, d_spacing=True)"
   ]
  },
  {
   "cell_type": "markdown",
   "id": "178",
   "metadata": {},
   "source": [
    "#### Exercise 5.8: Identify the Cause of the Unexplained Peaks\n",
    "\n",
    "Analyze the residual peaks that remain after refining the LBCO phase and the\n",
    "peak-profile parameters. Based on their positions and characteristics, decide\n",
    "which potential cause best explains the misfit."
   ]
  },
  {
   "cell_type": "markdown",
   "id": "179",
   "metadata": {},
   "source": [
    "**Hint:**"
   ]
  },
  {
   "cell_type": "markdown",
   "id": "180",
   "metadata": {},
   "source": [
    "Consider the following options:\n",
    "1. The LBCO phase is not correctly modeled.\n",
    "2. The LBCO phase is not the only phase present in the sample.\n",
    "3. The data reduction process introduced artifacts.\n",
    "4. The studied sample is not LBCO, but rather a different phase."
   ]
  },
  {
   "cell_type": "markdown",
   "id": "181",
   "metadata": {},
   "source": [
    "**Solution:**"
   ]
  },
  {
   "cell_type": "markdown",
   "id": "182",
   "metadata": {},
   "source": [
    "1. ❌ In principle, this could be the case, as sometimes the presence of\n",
    "extra peaks in the diffraction pattern can indicate lower symmetry\n",
    "than the one used in the model, or that the model is not complete. However,\n",
    "in this case, the LBCO phase is correctly modeled based on the CIF data.\n",
    "2. ✅ The unexplained peaks are due to the presence of an impurity phase\n",
    "in the sample, which is not included in the current model.\n",
    "3. ❌ The data reduction process is not likely to introduce such specific\n",
    "peaks, as it is tested and verified in the previous part of the notebook.\n",
    "4. ❌ This could also be the case in real experiments, but in this case,\n",
    "we know that the sample is LBCO, as it was simulated based on the CIF data."
   ]
  },
  {
   "cell_type": "markdown",
   "id": "183",
   "metadata": {},
   "source": [
    "#### Exercise 5.9: Identify the impurity phase\n",
    "\n",
    "Use the positions of the unexplained peaks to identify the most likely\n",
    "secondary phase present in the sample."
   ]
  },
  {
   "cell_type": "markdown",
   "id": "184",
   "metadata": {},
   "source": [
    "**Hint:**"
   ]
  },
  {
   "cell_type": "markdown",
   "id": "185",
   "metadata": {},
   "source": [
    "Check the positions of the unexplained peaks in the diffraction pattern.\n",
    "Compare them with the known diffraction patterns in the previous part\n",
    "of the notebook."
   ]
  },
  {
   "cell_type": "markdown",
   "id": "186",
   "metadata": {},
   "source": [
    "**Solution:**"
   ]
  },
  {
   "cell_type": "markdown",
   "id": "187",
   "metadata": {},
   "source": [
    "The unexplained peaks are likely due to the presence of a small amount of\n",
    "Si in the LBCO sample. In real experiments, it might happen, e.g., because\n",
    "the sample holder was not cleaned properly after the Si experiment.\n",
    "\n",
    "You can visalize both the patterns of the Si and LBCO phases to confirm this\n",
    "hypothesis."
   ]
  },
  {
   "cell_type": "code",
   "execution_count": 48,
   "id": "188",
   "metadata": {
    "execution": {
     "iopub.execute_input": "2025-08-31T19:33:17.184334Z",
     "iopub.status.busy": "2025-08-31T19:33:17.184217Z",
     "iopub.status.idle": "2025-08-31T19:33:17.459321Z",
     "shell.execute_reply": "2025-08-31T19:33:17.458965Z"
    }
   },
   "outputs": [
    {
     "data": {
      "text/html": [
       "<div>                        <script type=\"text/javascript\">window.PlotlyConfig = {MathJaxConfig: 'local'};</script>\n",
       "        <script charset=\"utf-8\" src=\"https://cdn.plot.ly/plotly-3.1.0.min.js\" integrity=\"sha256-Ei4740bWZhaUTQuD6q9yQlgVCMPBz6CZWhevDYPv93A=\" crossorigin=\"anonymous\"></script>                <div id=\"7166f28c-0c12-4a63-b163-253c6e7ca0a6\" class=\"plotly-graph-div\" style=\"height:100%; width:100%;\"></div>            <script type=\"text/javascript\">                window.PLOTLYENV=window.PLOTLYENV || {};                                if (document.getElementById(\"7166f28c-0c12-4a63-b163-253c6e7ca0a6\")) {                    Plotly.newPlot(                        \"7166f28c-0c12-4a63-b163-253c6e7ca0a6\",                        [{\"line\":{\"color\":\"rgb(31, 119, 180)\"},\"mode\":\"lines+markers\",\"name\":\"Measured (Imeas)\",\"x\":{\"dtype\":\"f8\",\"bdata\":\"AABAohgE8D8AAKiSSQzwPwAAuOR6FPA\\u002fAADINqwc8D8AADAn3STwPwAAQHkOLfA\\u002fAACoaT818D8AALi7cD3wPwAAyA2iRfA\\u002fAAAw\\u002ftJN8D8AAEBQBFbwPwAAqEA1XvA\\u002fAAAQMWZm8D8AACCDl27wPwAAMNXIdvA\\u002fAACYxfl+8D8AAKgXK4fwPwAAEAhcj\\u002fA\\u002fAAAgWo2X8D8AADCsvp\\u002fwPwAAmJzvp\\u002fA\\u002fAACo7iCw8D8AALhAUrjwPwAAIDGDwPA\\u002fAACIIbTI8D8AAJhz5dDwPwAAAGQW2fA\\u002fAAAQtkfh8D8AACAIeenwPwAAiPip8fA\\u002fAACYStv58D8AAAA7DALxPwAAEI09CvE\\u002fAAAg324S8T8AAIjPnxrxPwAA8L\\u002fQIvE\\u002fAAAAEgIr8T8AABBkMzPxPwAAeFRkO\\u002fE\\u002fAACIppVD8T8AAPCWxkvxPwAAAOn3U\\u002fE\\u002fAAAQOylc8T8AAHgrWmTxPwAAiH2LbPE\\u002fAADwbbx08T8AAFhe7XzxPwAAaLAehfE\\u002fAAB4AlCN8T8AAODygJXxPwAA8ESynfE\\u002fAABYNeOl8T8AAGiHFK7xPwAAeNlFtvE\\u002fAADgyXa+8T8AAPAbqMbxPwAAAG7ZzvE\\u002fAABoXgrX8T8AANBOO9\\u002fxPwAA4KBs5\\u002fE\\u002fAABIkZ3v8T8AAFjjzvfxPwAAaDUAAPI\\u002fAADQJTEI8j8AAOB3YhDyPwAASGiTGPI\\u002fAABYusQg8j8AAGgM9ijyPwAA0PwmMfI\\u002fAAA47Vc58j8AAEg\\u002fiUHyPwAAWJG6SfI\\u002fAADAgetR8j8AANDTHFryPwAAOMRNYvI\\u002fAABIFn9q8j8AAFhosHLyPwAAwFjhevI\\u002fAADQqhKD8j8AADibQ4vyPwAAoIt0k\\u002fI\\u002fAACw3aWb8j8AAMAv16PyPwAAKCAIrPI\\u002fAAA4cjm08j8AAKBiarzyPwAAsLSbxPI\\u002fAADABs3M8j8AACj3\\u002fdTyPwAAOEkv3fI\\u002fAACgOWDl8j8AALCLke3yPwAAGHzC9fI\\u002fAAAozvP98j8AAJC+JAbzPwAAoBBWDvM\\u002fAACwYocW8z8AABhTuB7zPwAAKKXpJvM\\u002fAACQlRov8z8AAKDnSzfzPwAAsDl9P\\u002fM\\u002fAAAYKq5H8z8AAIAa30\\u002fzPwAAkGwQWPM\\u002fAACgvkFg8z8AAAivcmjzPwAAGAGkcPM\\u002fAACA8dR48z8AAJBDBoHzPwAAoJU3ifM\\u002fAAAIhmiR8z8AABjYmZnzPwAAgMjKofM\\u002fAADouPup8z8AAPgKLbLzPwAACF1euvM\\u002fAABwTY\\u002fC8z8AAICfwMrzPwAA6I\\u002fx0vM\\u002fAAD44SLb8z8AAAg0VOPzPwAAcCSF6\\u002fM\\u002fAACAdrbz8z8AAOhm5\\u002fvzPwAA+LgYBPQ\\u002fAABgqUkM9D8AAHD7ehT0PwAA2OurHPQ\\u002fAADoPd0k9D8AAPiPDi30PwAAYIA\\u002fNfQ\\u002fAABw0nA99D8AANjCoUX0PwAA6BTTTfQ\\u002fAABQBQRW9D8AAGBXNV70PwAAyEdmZvQ\\u002fAADYmZdu9D8AAOjryHb0PwAAUNz5fvQ\\u002fAABgLiuH9D8AAMgeXI\\u002f0PwAA2HCNl\\u002fQ\\u002fAADowr6f9D8AAFCz76f0PwAAuKMgsPQ\\u002fAADI9VG49D8AADDmgsD0PwAAQDi0yPQ\\u002fAABQiuXQ9D8AALh6Ftn0PwAAyMxH4fQ\\u002fAAAwvXjp9D8AAEAPqvH0PwAAUGHb+fQ\\u002fAAC4UQwC9T8AACBCPQr1PwAAMJRuEvU\\u002fAABA5p8a9T8AAKjW0CL1PwAAuCgCK\\u002fU\\u002fAAAgGTMz9T8AADBrZDv1PwAAQL2VQ\\u002fU\\u002fAACorcZL9T8AALj\\u002f91P1PwAAIPAoXPU\\u002fAAAwQlpk9T8AAJgyi2z1PwAAqIS8dPU\\u002fAAAQde189T8AACDHHoX1PwAAMBlQjfU\\u002fAACYCYGV9T8AAKhbsp31PwAAEEzjpfU\\u002fAAAgnhSu9T8AADDwRbb1P\\u002f\\u002f\\u002fl+B2vvU\\u002f\\u002f\\u002f\\u002f\\u002f0KfG9T\\u002f\\u002f\\u002fw8j2c71P\\u002f\\u002f\\u002fdxMK1\\u002fU\\u002f\\u002f\\u002f+HZTvf9T\\u002f\\u002f\\u002f5e3bOf1P\\u002f\\u002f\\u002f\\u002f6ed7\\u002fU\\u002f\\u002f\\u002f8P+s739T\\u002f\\u002f\\u002f3fq\\u002f\\u002f\\u002f1P\\u002f\\u002f\\u002fhzwxCPY\\u002f\\u002f\\u002f+XjmIQ9j\\u002f\\u002f\\u002f\\u002f9+kxj2P\\u002f\\u002f\\u002fZ2\\u002fEIPY\\u002f\\u002f\\u002f93wfUo9j\\u002f\\u002f\\u002f4cTJzH2P\\u002f\\u002f\\u002f7wNYOfY\\u002f\\u002f\\u002f\\u002f\\u002fVYlB9j\\u002f\\u002f\\u002f2dGukn2P\\u002f\\u002f\\u002fd5jrUfY\\u002f\\u002f\\u002f+H6hxa9j\\u002f\\u002f\\u002f+\\u002faTWL2P\\u002f\\u002f\\u002f\\u002fyx\\u002favY\\u002f\\u002f\\u002f9nHbBy9j\\u002f\\u002f\\u002f3dv4Xr2P\\u002f\\u002f\\u002f318Sg\\u002fY\\u002f\\u002f\\u002f\\u002fvsUOL9j\\u002f\\u002f\\u002f1eidJP2P\\u002f\\u002f\\u002fZ\\u002fSlm\\u002fY\\u002f\\u002f\\u002f93Rtej9j\\u002f\\u002f\\u002f982CKz2P\\u002f\\u002f\\u002f74g5tPY\\u002f\\u002f\\u002f9XeWq89j\\u002f\\u002f\\u002f2fLm8T2P\\u002f\\u002f\\u002fdx3NzPY\\u002f\\u002f\\u002f\\u002ffDf7U9j\\u002f\\u002f\\u002f0f+Lt32P\\u002f\\u002f\\u002fV1Bg5fY\\u002f\\u002f\\u002f+\\u002fQJHt9j\\u002f\\u002f\\u002f8+SwvX2P\\u002f\\u002f\\u002f3+Tz\\u002ffY\\u002f\\u002f\\u002f9H1SQG9z\\u002f\\u002f\\u002f1cnVg73P\\u002f\\u002f\\u002fZ3mHFvc\\u002f\\u002f\\u002f\\u002fPabge9z\\u002f\\u002f\\u002f9+76Sb3P\\u002f\\u002f\\u002fR6waL\\u002fc\\u002f\\u002f\\u002f+vnEs39z\\u002f\\u002f\\u002f7\\u002fufD\\u002f3P\\u002f\\u002f\\u002fz0CuR\\u002fc\\u002f\\u002f\\u002f83Md9P9z\\u002f\\u002f\\u002f0eDEFj3P\\u002f\\u002f\\u002fr3NBYPc\\u002f\\u002f\\u002f+\\u002fxXJo9z\\u002f\\u002f\\u002f88XpHD3P\\u002f\\u002f\\u002fNwjVePc\\u002f\\u002f\\u002f9HWgaB9z\\u002f\\u002f\\u002f69KN4n3P\\u002f\\u002f\\u002fv5xokfc\\u002f\\u002f\\u002f8njZmZ9z\\u002f\\u002f\\u002fzffyqH3P\\u002f\\u002f\\u002fn8\\u002f7qfc\\u002f\\u002f\\u002f+vIS2y9z\\u002f\\u002f\\u002f79zXrr3P\\u002f\\u002f\\u002fJ2SPwvc\\u002f\\u002f\\u002f83tsDK9z\\u002f\\u002f\\u002f5+m8dL3P\\u002f\\u002f\\u002fr\\u002fgi2\\u002fc\\u002f\\u002f\\u002f8X6VPj9z\\u002f\\u002f\\u002fyc7hev3P\\u002f\\u002f\\u002fjyu28\\u002fc\\u002f\\u002f\\u002f+ffef79z\\u002f\\u002f\\u002fwduGAT4P\\u002f\\u002f\\u002fF8BJDPg\\u002f\\u002f\\u002f8nEnsU+D\\u002f\\u002f\\u002f48CrBz4P\\u002f\\u002f\\u002fn1TdJPg\\u002f\\u002f\\u002f+vpg4t+D\\u002f\\u002f\\u002fxeXPzX4P\\u002f\\u002f\\u002fJ+lwPfg\\u002f\\u002f\\u002f+P2aFF+D\\u002f\\u002f\\u002f\\u002ffJ0k34P\\u002f\\u002f\\u002fBxwEVvg\\u002f\\u002f\\u002f8XbjVe+D\\u002f\\u002f\\u002f39eZmb4P\\u002f\\u002f\\u002fj7CXbvg\\u002f\\u002f\\u002f\\u002f3oMh2+D\\u002f\\u002f\\u002fwfz+X74P\\u002f\\u002f\\u002fF0Urh\\u002fg\\u002f\\u002f\\u002f9\\u002fNVyP+D\\u002f\\u002f\\u002f4+HjZf4P\\u002f\\u002f\\u002f93e+n\\u002fg\\u002f\\u002f\\u002f8Hyu+n+D\\u002f\\u002f\\u002f2+6ILD4P\\u002f\\u002f\\u002ffwxSuPg\\u002f\\u002f\\u002f\\u002fn\\u002fILA+D\\u002f\\u002f\\u002f\\u002fdOtMj4P\\u002f\\u002f\\u002fB6Hl0Pg\\u002f\\u002f\\u002f9vkRbZ+D\\u002f\\u002f\\u002f3\\u002fjR+H4P\\u002f\\u002f\\u002f59N46fg\\u002f\\u002f\\u002f\\u002f3Jarx+D\\u002f\\u002f\\u002f18W2\\u002fn4P\\u002f\\u002f\\u002fb2gMAvk\\u002f\\u002f\\u002f\\u002fXWD0K+T\\u002f\\u002f\\u002f+eqbhL5P\\u002f\\u002f\\u002fT5ufGvk\\u002f\\u002f\\u002f9f7dAi+T\\u002f\\u002f\\u002f28\\u002fAiv5P\\u002f\\u002f\\u002f1y8zM\\u002fk\\u002f\\u002f\\u002f\\u002fngWQ7+T\\u002f\\u002f\\u002f\\u002ffTlUP5P\\u002f\\u002f\\u002fX8TGS\\u002fk\\u002f\\u002f\\u002f\\u002fHtPdT+T\\u002f\\u002f\\u002f9cGKVz5P\\u002f\\u002f\\u002fP\\u002fdZZPk\\u002f\\u002f\\u002f9PSYts+T\\u002f\\u002f\\u002f1+bvHT5P\\u002f\\u002f\\u002fx4vtfPk\\u002f\\u002f\\u002f\\u002fX3R6F+T\\u002f\\u002f\\u002fz\\u002fOT435P\\u002f\\u002f\\u002fTyCBlfk\\u002f\\u002f\\u002f9fcrKd+T\\u002f\\u002f\\u002f8di46X5P\\u002f\\u002f\\u002fL1MUrvk\\u002f\\u002f\\u002f8\\u002fpUW2+T\\u002f\\u002f\\u002f0\\u002f3dr75P\\u002f\\u002f\\u002ft+enxvk\\u002f\\u002f\\u002f\\u002fHOdnO+T\\u002f\\u002f\\u002fy8qCtf5P\\u002f\\u002f\\u002fP3w73\\u002fk\\u002f\\u002f\\u002f9Pzmzn+T\\u002f\\u002f\\u002f7e+ne\\u002f5P\\u002f\\u002f\\u002fxxDP9\\u002fk\\u002f\\u002f\\u002f8vAQAA+j\\u002f\\u002f\\u002f5fxMAj6P\\u002f\\u002f\\u002fp0NiEPo\\u002f\\u002f\\u002f+3lZMY+j\\u002f\\u002f\\u002fx+GxCD6P\\u002f\\u002f\\u002fL9j1KPo\\u002f\\u002f\\u002f+XyCYx+j\\u002f\\u002f\\u002f6caWDn6P\\u002f\\u002f\\u002ft2yJQfo\\u002f\\u002f\\u002f8fXbpJ+j\\u002f\\u002f\\u002fy+v61H6P\\u002f\\u002f\\u002fPwEdWvo\\u002f\\u002f\\u002f+n8U1i+j\\u002f\\u002f\\u002fw\\u002fifmr6P\\u002f\\u002f\\u002fHzSwcvo\\u002f\\u002f\\u002f+HJOF6+j\\u002f\\u002f\\u002f5d2EoP6P\\u002f\\u002f\\u002fp8hDi\\u002fo\\u002f\\u002f\\u002f8PuXST+j\\u002f\\u002f\\u002fx8Lppv6P\\u002f\\u002f\\u002fh\\u002fvWo\\u002fo\\u002f\\u002f\\u002f+XTQis+j\\u002f\\u002f\\u002f6efObT6P\\u002f\\u002f\\u002fD5BqvPo\\u002f\\u002f\\u002f93gJvE+j\\u002f\\u002f\\u002f4fSzMz6P\\u002f\\u002f\\u002flyT+1Po\\u002f\\u002f\\u002f\\u002f\\u002fFC\\u002fd+j\\u002f\\u002f\\u002fw9nYOX6P\\u002f\\u002f\\u002fd1eR7fo\\u002f\\u002f\\u002f+HqcL1+j\\u002f\\u002f\\u002f5f78\\u002f36P\\u002f\\u002f\\u002f\\u002f+skBvs\\u002f\\u002f\\u002f8PPlYO+z\\u002f\\u002f\\u002f3cuhxb7P\\u002f\\u002f\\u002f3x64Hvs\\u002f\\u002f\\u002f\\u002fvcOkm+z\\u002f\\u002f\\u002f\\u002f\\u002fCGi\\u002f7Pw==\"},\"y\":{\"dtype\":\"f8\",\"bdata\":\"ZBHr1WyLnD+uQU\\u002ffxVCNP+8ZYkljqaE\\u002fHxzXjTNfhz8SsNw2BXqEP4hz4Gw\\u002fRJs\\u002fEVbA+7a+kD8oCYZbA3qQP3gRSavVUow\\u002fu5ph\\u002fkx+oD+zPdX+\\u002fiKbPxl\\u002fCCgv7qE\\u002fvYfE\\u002feiqkj95GaZs0V6jPwgqfshe+ao\\u002f+C5oSw1jtz9Y3jxTI3q2Pwga55Ru+so\\u002ftVqeYJDS2D8vF4A9CuDqP5YNNETmBfo\\u002fnPJLMC07BECbqHkUYFYFQOhU8ZRnFwBAiuAtjla+8D9f1eeWdhDiP72Qx8Esxso\\u002fLH2bXbSLsz\\u002fJyI6IxKOfP01UfzC1kZk\\u002fiTf42jM2lz9XETtusdKAP\\u002f863LSABpc\\u002fc5xmaFYbkj8D8O8ADU2ZP9nLqtUtL5I\\u002fpsvvpCBYiD800cHBDlGbP7M73iAAi5Y\\u002fenCPLDfdmz9tf2oUtVeIP31J4g8biKE\\u002fLYYX3b\\u002fzmT+x6Yd0ATObP0q6SuPI+6s\\u002fIFwQaQn4rj8Sge+4Uf2wPxgu9amNRr8\\u002foeW\\u002fowhyxT\\u002fyYp0WrHDcP2Uh0bZoIO4\\u002fi8Yo039i\\u002fj8UnfJlxf0OQBVzOa\\u002fLqBVAL3Wh0od+FEAgYq1Kr2AKQDkz66i79Pc\\u002feVJLVM6v5j9cl1QH3DXVP\\u002fbnKy7TPsM\\u002fH8Mjcgt7sT+ue5PRwe6qP9DSqTvWmZM\\u002fgE5fONZ8lT+bHdtgf6OcP5Yl0tN0T6M\\u002f86Ax+bTclD\\u002feXYpWk\\u002fiHPzyxcpZOH5M\\u002f6btcZdmklT9ScWxVIIWXP5jMYmV+rqA\\u002fmHlLc2+ojD8B15bsnauZP0aFXixWZqE\\u002fMb8azOOblj818jKCTn6ZPx5N2CyeAow\\u002fiX58uoqQlz8IAesTzJSWPzm60G879aI\\u002fEl8M59SZkT9nreo6WR6WP+i2BcPEiJo\\u002fS59qKveDmD8celj294mcPyLA7bAAKp8\\u002fzsv6AKTfmT9oXvj7GaSePzVEl6r0LJY\\u002fz4CidOazlT\\u002fHDn9q92yJP4QebotWI5E\\u002fSeGqkf88mD9FtgEj\\u002f8uYP32SNUAybJs\\u002fZWpw2qxrpT8a1Gai4ECaPwz+wCrJdZ8\\u002fjow1+ey3mz+HGnL1NTyTPzp9upNn64w\\u002fVbZhnSp1nz+IQDfQqCiVP2WP1YuCqos\\u002fbiwDdIeslD8tW97GymORP\\u002fB9WRaLAJM\\u002fcJ\\u002fukeG4lD+d80y+EwqUP7w51c83XZs\\u002fmuiFdOYEmj+d6SVJCvOnP+nC4RoLvKM\\u002fqPDZYjr3sj+i72mnY\\u002fSyP6l6hhDdmcA\\u002ficZLa1G+zz8rXp2B6zTeP9MbLj3Nm\\u002fE\\u002ffUPSEl9YA0Dxc5tkMQUQQNnPYT\\u002fKFRNAsYMccWSFD0CMCeCoiKkCQANpU1JsHvI\\u002fO2WIOK0Q4D9JlOgrU4DPP5FOK1cAVL8\\u002fZQknfLwHuD+svGQvwCupPwJopN\\u002fKVaA\\u002fkDqiZzwNoD+h6yizji+gP3Xyq0GbVZg\\u002fEufleVVvmj+P6ugVIVmdP3\\u002fhgtOrR5I\\u002fAmCCeihTkj8B0H2P75yYP6jBtQE9f5c\\u002f240nBzjhmz\\u002fCJpdY\\u002f7CaPwheAW56jZo\\u002f8onFrI72nD9a6rtTaVWbP30EWxRAcpA\\u002fY9sDx5vnlT\\u002fIw+8aDGyWPwN8i9lPDp0\\u002fxaxEqZPFiz+zUcFZoTySP2hdZ4UJOZ8\\u002fpkQ6\\u002fCMmoT++GGbtd96bP7dcQOJ8xJo\\u002f9x4+4FJMnj8CRNskG7yXP852dQiliZo\\u002f0cRyhl0nmD+dGAhigwmXP1A0F7gzXJs\\u002fcl0nNmYQmz+ErLhxyDOlP2PcRkLTQZs\\u002fuA0RVPSBnz+c5WrX92iiP4mImDRr3Zg\\u002fMihFjG2Eoz\\u002fbzY8TonGmP8yWjc9xQ7A\\u002ffcE8zmEUuD\\u002fBLJWUZKLDP03Y5YmgsNA\\u002fP3+uejdr3z\\u002fRn7XMqxLwPyTME9ngAv4\\u002fGxVRY\\u002fy\\u002fBUCvn+HpOIcJQKjK32JDJQZApBMIzuJK+z984Ey7G7DrPyDGRr2F\\u002fNk\\u002fmav2AuCXzj+27Nr\\u002ff7S+P1YfBviCEbQ\\u002fy+cZaPG3rD8noQDFr9GnPwGM7BxhA6Q\\u002faksXXX+SnT9DKGgah3SZP5u+K2Deapw\\u002fCCH6dBftlT9Wr4I5un2fP\\u002fCj1PdslZU\\u002fy8Pp0+k2nj8KDcSXSe2cP6jNuREdWZs\\u002fj4TbdpLLoT\\u002fw8mEaIzacP2XJcPm7hJs\\u002fGSBrmj8onz8MKubHwT+XP9Oc\\u002flDsJJ8\\u002fc7IjMN19mD+QsIaNxPOhP8IcRcg8DZ4\\u002fd3AFa2xYkj\\u002fksrhaX5GVP3xVXDNhepk\\u002fjWf\\u002fXmNLmz\\u002fUOancNhWiPxJZPMXbtJo\\u002fWI\\u002fYRZqklz+YNS6tq2agP8NORU\\u002fpeps\\u002fF3hL91xKlj+AGV7\\u002faB6RP0liDAls25k\\u002fi2ZEBZ6bij9KyG2ltsqWP+vgJRPYAJ0\\u002ftZKU77Qjlj+Z1Uj2o0+WP60Gxu3ig5o\\u002fsHEiUxi7mT9vVcQ8xDeZP6brN+3X1Zs\\u002fmboWMvxglD+e88wO1POXP7Q1gl3QvpY\\u002fFDxonEhklD9j\\u002f3OOUKOWP3cPEMU3iJo\\u002fP2A\\u002fGZEsmT+c0HczyhSYP\\u002fyVdmg0oJg\\u002fU+CifGPvmz99QT+zKgmmPzS0zWKmyZc\\u002fy0q7+tBPkT+szGfRxMWYP1hm6KGVmZw\\u002f2pDnNOJQlj8bKTyYOCiZP2cVciCYPpU\\u002fmnXeTuW0mj8d19TWK3egP47Hwc6nQJQ\\u002fU8qdGSylmD9yzKFNPamgP49eWqlmhZc\\u002fP6o\\u002ffEbElz\\u002ffj3+6whyfP5F1IeBFuKE\\u002fUqFStkEynj\\u002fNm+7jJyeiP\\u002f6hHIZuBpg\\u002fG9k11jaalz\\u002fFB3BJdtybPwohvZs0OZw\\u002fGBNVO1D7mj\\u002fZ9qB35nyVP9XF\\u002f0kqsZ4\\u002flB9WPYdrnD+cveNZ+JaYP+Wvl4TfF5s\\u002fFnzhcQD3mD9n6rkqpHmZPxPcrY17wJU\\u002fYYkuHU1Joz\\u002f35w7PVYybP0AXmW1LN5o\\u002f9c3xcQq9mz8G+2xbTH2aP6Oy9UlNwJQ\\u002f+dGhGtDOmT94UwvGtkGWP4ZqnyiCH5s\\u002fNSDQ9lNMnT8RWXJjnxqZP4\\u002fi1UmEAps\\u002fI4+0DvRBmj9gqBb82K6aP5Jj540GeZo\\u002fCEY3JFp8lT+p4AvAvRyZP84yraMhiJY\\u002fbTc0TAVylD8OCS8t9tCeP1evCA7iVpo\\u002fY+qBzv0LnT9oDO5cwmGbP+n\\u002fCYjedaA\\u002fhLFwwTy8mj+WiPhHQa6bP7cibXKwG5Q\\u002fK32elJsRnD\\u002f444HFriCZP27mfeGr954\\u002fovW1oiZEoz+6CVQ0+cScP9\\u002fFUl+ni6g\\u002fU+0ZomtFpz8YGvT3PCyyPwHt2sRQmbg\\u002fomsYGO+2wT+cbRSAQHnKP\\u002fXhmlIt3NQ\\u002fvkiy\\u002fuCb4T+42FHZ9CfpPzIhkYEI3\\u002fI\\u002feBk6s64x\\u002fD\\u002fNs7W4bkUDQBL8xaPlxgtAUpA9Zp6NE0CS0OcaGqcZQAFGH19RHyFAx0654HUAJEDTbVtvOc4iQAVLfRKy0RtAKj+TDScnE0BrOftLwNAJQBkdf7\\u002fUmwBANhKPfkn++D\\u002f2QCx4nrvwPyl1YZswPug\\u002f0OCwz55F3T+T9\\u002fKrQsDVP9Y219Xqccs\\u002fFBtaKWlmwT+IXUpvaCu4P+SnpGXj\\u002f6w\\u002fEtGwMj4Vqz8cVIkLvOmiP6FBg3WrbZ8\\u002fasrmwpoSoD9Flnz7Zj2aP6Osu768YpQ\\u002frg6tD\\u002fiOmz\\u002frxdzEj1ugPzoEE2GEyZo\\u002fQtGEbVu4mj9M706OIBuXP+Sf+xI\\u002fUpo\\u002fYeAgu6I4mD8RyMRZgDWbP905dLE2oJs\\u002fVPW0ueYDmj9h9DsijQWZPw==\"},\"type\":\"scatter\"},{\"line\":{\"color\":\"rgb(214, 39, 40)\"},\"mode\":\"lines\",\"name\":\"Total calculated (Icalc)\",\"x\":{\"dtype\":\"f8\",\"bdata\":\"AABAohgE8D8AAKiSSQzwPwAAuOR6FPA\\u002fAADINqwc8D8AADAn3STwPwAAQHkOLfA\\u002fAACoaT818D8AALi7cD3wPwAAyA2iRfA\\u002fAAAw\\u002ftJN8D8AAEBQBFbwPwAAqEA1XvA\\u002fAAAQMWZm8D8AACCDl27wPwAAMNXIdvA\\u002fAACYxfl+8D8AAKgXK4fwPwAAEAhcj\\u002fA\\u002fAAAgWo2X8D8AADCsvp\\u002fwPwAAmJzvp\\u002fA\\u002fAACo7iCw8D8AALhAUrjwPwAAIDGDwPA\\u002fAACIIbTI8D8AAJhz5dDwPwAAAGQW2fA\\u002fAAAQtkfh8D8AACAIeenwPwAAiPip8fA\\u002fAACYStv58D8AAAA7DALxPwAAEI09CvE\\u002fAAAg324S8T8AAIjPnxrxPwAA8L\\u002fQIvE\\u002fAAAAEgIr8T8AABBkMzPxPwAAeFRkO\\u002fE\\u002fAACIppVD8T8AAPCWxkvxPwAAAOn3U\\u002fE\\u002fAAAQOylc8T8AAHgrWmTxPwAAiH2LbPE\\u002fAADwbbx08T8AAFhe7XzxPwAAaLAehfE\\u002fAAB4AlCN8T8AAODygJXxPwAA8ESynfE\\u002fAABYNeOl8T8AAGiHFK7xPwAAeNlFtvE\\u002fAADgyXa+8T8AAPAbqMbxPwAAAG7ZzvE\\u002fAABoXgrX8T8AANBOO9\\u002fxPwAA4KBs5\\u002fE\\u002fAABIkZ3v8T8AAFjjzvfxPwAAaDUAAPI\\u002fAADQJTEI8j8AAOB3YhDyPwAASGiTGPI\\u002fAABYusQg8j8AAGgM9ijyPwAA0PwmMfI\\u002fAAA47Vc58j8AAEg\\u002fiUHyPwAAWJG6SfI\\u002fAADAgetR8j8AANDTHFryPwAAOMRNYvI\\u002fAABIFn9q8j8AAFhosHLyPwAAwFjhevI\\u002fAADQqhKD8j8AADibQ4vyPwAAoIt0k\\u002fI\\u002fAACw3aWb8j8AAMAv16PyPwAAKCAIrPI\\u002fAAA4cjm08j8AAKBiarzyPwAAsLSbxPI\\u002fAADABs3M8j8AACj3\\u002fdTyPwAAOEkv3fI\\u002fAACgOWDl8j8AALCLke3yPwAAGHzC9fI\\u002fAAAozvP98j8AAJC+JAbzPwAAoBBWDvM\\u002fAACwYocW8z8AABhTuB7zPwAAKKXpJvM\\u002fAACQlRov8z8AAKDnSzfzPwAAsDl9P\\u002fM\\u002fAAAYKq5H8z8AAIAa30\\u002fzPwAAkGwQWPM\\u002fAACgvkFg8z8AAAivcmjzPwAAGAGkcPM\\u002fAACA8dR48z8AAJBDBoHzPwAAoJU3ifM\\u002fAAAIhmiR8z8AABjYmZnzPwAAgMjKofM\\u002fAADouPup8z8AAPgKLbLzPwAACF1euvM\\u002fAABwTY\\u002fC8z8AAICfwMrzPwAA6I\\u002fx0vM\\u002fAAD44SLb8z8AAAg0VOPzPwAAcCSF6\\u002fM\\u002fAACAdrbz8z8AAOhm5\\u002fvzPwAA+LgYBPQ\\u002fAABgqUkM9D8AAHD7ehT0PwAA2OurHPQ\\u002fAADoPd0k9D8AAPiPDi30PwAAYIA\\u002fNfQ\\u002fAABw0nA99D8AANjCoUX0PwAA6BTTTfQ\\u002fAABQBQRW9D8AAGBXNV70PwAAyEdmZvQ\\u002fAADYmZdu9D8AAOjryHb0PwAAUNz5fvQ\\u002fAABgLiuH9D8AAMgeXI\\u002f0PwAA2HCNl\\u002fQ\\u002fAADowr6f9D8AAFCz76f0PwAAuKMgsPQ\\u002fAADI9VG49D8AADDmgsD0PwAAQDi0yPQ\\u002fAABQiuXQ9D8AALh6Ftn0PwAAyMxH4fQ\\u002fAAAwvXjp9D8AAEAPqvH0PwAAUGHb+fQ\\u002fAAC4UQwC9T8AACBCPQr1PwAAMJRuEvU\\u002fAABA5p8a9T8AAKjW0CL1PwAAuCgCK\\u002fU\\u002fAAAgGTMz9T8AADBrZDv1PwAAQL2VQ\\u002fU\\u002fAACorcZL9T8AALj\\u002f91P1PwAAIPAoXPU\\u002fAAAwQlpk9T8AAJgyi2z1PwAAqIS8dPU\\u002fAAAQde189T8AACDHHoX1PwAAMBlQjfU\\u002fAACYCYGV9T8AAKhbsp31PwAAEEzjpfU\\u002fAAAgnhSu9T8AADDwRbb1P\\u002f\\u002f\\u002fl+B2vvU\\u002f\\u002f\\u002f\\u002f\\u002f0KfG9T\\u002f\\u002f\\u002fw8j2c71P\\u002f\\u002f\\u002fdxMK1\\u002fU\\u002f\\u002f\\u002f+HZTvf9T\\u002f\\u002f\\u002f5e3bOf1P\\u002f\\u002f\\u002f\\u002f6ed7\\u002fU\\u002f\\u002f\\u002f8P+s739T\\u002f\\u002f\\u002f3fq\\u002f\\u002f\\u002f1P\\u002f\\u002f\\u002fhzwxCPY\\u002f\\u002f\\u002f+XjmIQ9j\\u002f\\u002f\\u002f\\u002f9+kxj2P\\u002f\\u002f\\u002fZ2\\u002fEIPY\\u002f\\u002f\\u002f93wfUo9j\\u002f\\u002f\\u002f4cTJzH2P\\u002f\\u002f\\u002f7wNYOfY\\u002f\\u002f\\u002f\\u002f\\u002fVYlB9j\\u002f\\u002f\\u002f2dGukn2P\\u002f\\u002f\\u002fd5jrUfY\\u002f\\u002f\\u002f+H6hxa9j\\u002f\\u002f\\u002f+\\u002faTWL2P\\u002f\\u002f\\u002f\\u002fyx\\u002favY\\u002f\\u002f\\u002f9nHbBy9j\\u002f\\u002f\\u002f3dv4Xr2P\\u002f\\u002f\\u002f318Sg\\u002fY\\u002f\\u002f\\u002f\\u002fvsUOL9j\\u002f\\u002f\\u002f1eidJP2P\\u002f\\u002f\\u002fZ\\u002fSlm\\u002fY\\u002f\\u002f\\u002f93Rtej9j\\u002f\\u002f\\u002f982CKz2P\\u002f\\u002f\\u002f74g5tPY\\u002f\\u002f\\u002f9XeWq89j\\u002f\\u002f\\u002f2fLm8T2P\\u002f\\u002f\\u002fdx3NzPY\\u002f\\u002f\\u002f\\u002ffDf7U9j\\u002f\\u002f\\u002f0f+Lt32P\\u002f\\u002f\\u002fV1Bg5fY\\u002f\\u002f\\u002f+\\u002fQJHt9j\\u002f\\u002f\\u002f8+SwvX2P\\u002f\\u002f\\u002f3+Tz\\u002ffY\\u002f\\u002f\\u002f9H1SQG9z\\u002f\\u002f\\u002f1cnVg73P\\u002f\\u002f\\u002fZ3mHFvc\\u002f\\u002f\\u002f\\u002fPabge9z\\u002f\\u002f\\u002f9+76Sb3P\\u002f\\u002f\\u002fR6waL\\u002fc\\u002f\\u002f\\u002f+vnEs39z\\u002f\\u002f\\u002f7\\u002fufD\\u002f3P\\u002f\\u002f\\u002fz0CuR\\u002fc\\u002f\\u002f\\u002f83Md9P9z\\u002f\\u002f\\u002f0eDEFj3P\\u002f\\u002f\\u002fr3NBYPc\\u002f\\u002f\\u002f+\\u002fxXJo9z\\u002f\\u002f\\u002f88XpHD3P\\u002f\\u002f\\u002fNwjVePc\\u002f\\u002f\\u002f9HWgaB9z\\u002f\\u002f\\u002f69KN4n3P\\u002f\\u002f\\u002fv5xokfc\\u002f\\u002f\\u002f8njZmZ9z\\u002f\\u002f\\u002fzffyqH3P\\u002f\\u002f\\u002fn8\\u002f7qfc\\u002f\\u002f\\u002f+vIS2y9z\\u002f\\u002f\\u002f79zXrr3P\\u002f\\u002f\\u002fJ2SPwvc\\u002f\\u002f\\u002f83tsDK9z\\u002f\\u002f\\u002f5+m8dL3P\\u002f\\u002f\\u002fr\\u002fgi2\\u002fc\\u002f\\u002f\\u002f8X6VPj9z\\u002f\\u002f\\u002fyc7hev3P\\u002f\\u002f\\u002fjyu28\\u002fc\\u002f\\u002f\\u002f+ffef79z\\u002f\\u002f\\u002fwduGAT4P\\u002f\\u002f\\u002fF8BJDPg\\u002f\\u002f\\u002f8nEnsU+D\\u002f\\u002f\\u002f48CrBz4P\\u002f\\u002f\\u002fn1TdJPg\\u002f\\u002f\\u002f+vpg4t+D\\u002f\\u002f\\u002fxeXPzX4P\\u002f\\u002f\\u002fJ+lwPfg\\u002f\\u002f\\u002f+P2aFF+D\\u002f\\u002f\\u002f\\u002ffJ0k34P\\u002f\\u002f\\u002fBxwEVvg\\u002f\\u002f\\u002f8XbjVe+D\\u002f\\u002f\\u002f39eZmb4P\\u002f\\u002f\\u002fj7CXbvg\\u002f\\u002f\\u002f\\u002f3oMh2+D\\u002f\\u002f\\u002fwfz+X74P\\u002f\\u002f\\u002fF0Urh\\u002fg\\u002f\\u002f\\u002f9\\u002fNVyP+D\\u002f\\u002f\\u002f4+HjZf4P\\u002f\\u002f\\u002f93e+n\\u002fg\\u002f\\u002f\\u002f8Hyu+n+D\\u002f\\u002f\\u002f2+6ILD4P\\u002f\\u002f\\u002ffwxSuPg\\u002f\\u002f\\u002f\\u002fn\\u002fILA+D\\u002f\\u002f\\u002f\\u002fdOtMj4P\\u002f\\u002f\\u002fB6Hl0Pg\\u002f\\u002f\\u002f9vkRbZ+D\\u002f\\u002f\\u002f3\\u002fjR+H4P\\u002f\\u002f\\u002f59N46fg\\u002f\\u002f\\u002f\\u002f3Jarx+D\\u002f\\u002f\\u002f18W2\\u002fn4P\\u002f\\u002f\\u002fb2gMAvk\\u002f\\u002f\\u002f\\u002fXWD0K+T\\u002f\\u002f\\u002f+eqbhL5P\\u002f\\u002f\\u002fT5ufGvk\\u002f\\u002f\\u002f9f7dAi+T\\u002f\\u002f\\u002f28\\u002fAiv5P\\u002f\\u002f\\u002f1y8zM\\u002fk\\u002f\\u002f\\u002f\\u002fngWQ7+T\\u002f\\u002f\\u002f\\u002ffTlUP5P\\u002f\\u002f\\u002fX8TGS\\u002fk\\u002f\\u002f\\u002f\\u002fHtPdT+T\\u002f\\u002f\\u002f9cGKVz5P\\u002f\\u002f\\u002fP\\u002fdZZPk\\u002f\\u002f\\u002f9PSYts+T\\u002f\\u002f\\u002f1+bvHT5P\\u002f\\u002f\\u002fx4vtfPk\\u002f\\u002f\\u002f\\u002fX3R6F+T\\u002f\\u002f\\u002fz\\u002fOT435P\\u002f\\u002f\\u002fTyCBlfk\\u002f\\u002f\\u002f9fcrKd+T\\u002f\\u002f\\u002f8di46X5P\\u002f\\u002f\\u002fL1MUrvk\\u002f\\u002f\\u002f8\\u002fpUW2+T\\u002f\\u002f\\u002f0\\u002f3dr75P\\u002f\\u002f\\u002ft+enxvk\\u002f\\u002f\\u002f\\u002fHOdnO+T\\u002f\\u002f\\u002fy8qCtf5P\\u002f\\u002f\\u002fP3w73\\u002fk\\u002f\\u002f\\u002f9Pzmzn+T\\u002f\\u002f\\u002f7e+ne\\u002f5P\\u002f\\u002f\\u002fxxDP9\\u002fk\\u002f\\u002f\\u002f8vAQAA+j\\u002f\\u002f\\u002f5fxMAj6P\\u002f\\u002f\\u002fp0NiEPo\\u002f\\u002f\\u002f+3lZMY+j\\u002f\\u002f\\u002fx+GxCD6P\\u002f\\u002f\\u002fL9j1KPo\\u002f\\u002f\\u002f+XyCYx+j\\u002f\\u002f\\u002f6caWDn6P\\u002f\\u002f\\u002ft2yJQfo\\u002f\\u002f\\u002f8fXbpJ+j\\u002f\\u002f\\u002fy+v61H6P\\u002f\\u002f\\u002fPwEdWvo\\u002f\\u002f\\u002f+n8U1i+j\\u002f\\u002f\\u002fw\\u002fifmr6P\\u002f\\u002f\\u002fHzSwcvo\\u002f\\u002f\\u002f+HJOF6+j\\u002f\\u002f\\u002f5d2EoP6P\\u002f\\u002f\\u002fp8hDi\\u002fo\\u002f\\u002f\\u002f8PuXST+j\\u002f\\u002f\\u002fx8Lppv6P\\u002f\\u002f\\u002fh\\u002fvWo\\u002fo\\u002f\\u002f\\u002f+XTQis+j\\u002f\\u002f\\u002f6efObT6P\\u002f\\u002f\\u002fD5BqvPo\\u002f\\u002f\\u002f93gJvE+j\\u002f\\u002f\\u002f4fSzMz6P\\u002f\\u002f\\u002flyT+1Po\\u002f\\u002f\\u002f\\u002f\\u002fFC\\u002fd+j\\u002f\\u002f\\u002fw9nYOX6P\\u002f\\u002f\\u002fd1eR7fo\\u002f\\u002f\\u002f+HqcL1+j\\u002f\\u002f\\u002f5f78\\u002f36P\\u002f\\u002f\\u002f\\u002f+skBvs\\u002f\\u002f\\u002f8PPlYO+z\\u002f\\u002f\\u002f3cuhxb7P\\u002f\\u002f\\u002f3x64Hvs\\u002f\\u002f\\u002f\\u002fvcOkm+z\\u002f\\u002f\\u002f\\u002f\\u002fCGi\\u002f7Pw==\"},\"y\":{\"dtype\":\"f8\",\"bdata\":\"oiU1Hf6Ffz\\u002fgluZEWTOAP3prIvOzo4A\\u002fO5s5JBAUgT\\u002famFslcYSBP\\u002f\\u002fD1Ifh9IE\\u002fYshgTYJlgj8SWwJeutaCPzj5Dd7HSYM\\u002flIE33XrCgz8JcARbb0yEP\\u002fuED026CoU\\u002fLX8ZT5Rmhj+ZT6\\u002fwOpmJP69kF54IIJE\\u002fWZadvX93nT\\u002fmEF9awz6wP0SoR2p5jMQ\\u002fUW3M6Gk32j+l6lgG2C3uPzSoQUr+kPw\\u002fMJf33RK5BEAFHLr+k\\u002fwFQBPPCP\\u002f4nABA6vbhpSe88T8j3IpXNCrbPwtNQAW\\u002fB8A\\u002fSP4p1LrHoj86v5LLIBKSPxmf6wNHu40\\u002f0E+Y7BsdjT8eWCEGG2WNPy1FB6Nfz40\\u002fhyvx9cs+jj9OjLVWCa+OPxhSDuR4H48\\u002f+OYvAiGQjz+bTSBbrQCQP7Ds2MIUOpA\\u002fyXDY7K51kD\\u002fiZQN7WreQP591ijKpCZE\\u002fsGvReEeJkT9YSDHWeYOSP\\u002fDFp68Wx5Q\\u002flqcIfh56mj+QIU5ltaSkP4b+2ImwBbQ\\u002fV+SjM1Gsxj8I+3qhzIPbP+hMZ6fEg\\u002fA\\u002f0U+xBdXxAUAvQ6Pm\\u002fAcQQJR6H61LsBVAJVafIg4KFUBR+LyQiI0MQID5nmNzQvs\\u002fdB3\\u002fqaop4z+A67QD5VzGP0YVQXS3haw\\u002fTHdoh\\u002ffanD8UcO9XH\\u002fKWP9wiVBVt2pU\\u002fghdyYY\\u002fJlT9ZWpJ7h\\u002fGVP9ZIfQYJJpY\\u002fsQmM\\u002flxdlj8nN+faVpWWP2Rfp5F3zZY\\u002fIW+0j6EFlz9viVHRhhCXP2e+UWICFpc\\u002fjlxIF34blz\\u002f3Xd\\u002fV+SCXPw3O6JZ1Jpc\\u002fjHKZWPErlz8Cg3cabTGXP\\u002f8hYtzoNpc\\u002fN0lQnmQ8lz9Vl\\u002fRf4EGXP\\u002fMN5CFcR5c\\u002f1Z3T49dMlz9IPMOlU1KXPzjxsmfPV5c\\u002fh9uiKUtdlz82TZPrxmKXP2oXha1CaJc\\u002f+m0vb75tlz9cNS0xOnOXP1B3QPO1eJc\\u002f\\u002fyqJtTF+lz\\u002fmFVZ4rYOXP1oqaDwpiZc\\u002fOl2VA6WOlz8brATSIJSXP7Jr\\u002f7KcmZc\\u002fRXLYvxiflz\\u002f\\u002fFYc1laSXP0jzVqQSqpc\\u002f\\u002f3jTX5Kvlz9ZtZ2CF7WXP7HqzUWpupc\\u002fJV\\u002f3X1jAlz\\u002fHfQxJS8aXPwJr7grazJc\\u002flCQECc3Ulz974C7h6d+XPy1Vqe8t8pc\\u002fx2O0QYgUmD9wjFkG31qYPzVqCMRH8Zg\\u002fwlAG8OY4mj9KwezKrAadP7JoGgtwlaE\\u002fAOGiEkJKqD8T1SQHGXCzP8OeZ\\u002fHBnME\\u002f5cguTjZO0T8qPv+0errhP2ostGwXQ\\u002fI\\u002fofYUOQXMAUCaX0hvgooNQGkZfyzfmBJAhCxW35x\\u002fEEBZbzwd04MEQFul\\u002fp+1KPM\\u002fwSWNKXef3j\\u002fZUcae6zXIP7KHf2cJZ7U\\u002fOAtI4Jtdpz9i4ABJ6FCgP6zI55P6d5s\\u002f347jmXaQmT\\u002fvSbItvdyYPxXX4xbcm5g\\u002fGU8tDlCGmD+yeihFTIGYP1HRXdWogpg\\u002fxreV2YGGmD+UMCKqVYuYP+N74luNkJg\\u002fJQ5dP+2VmD+9inN6XZuYP\\u002ftylWzUoJg\\u002fPFhKKU6mmD9V03MUyauYPxWOxYVEsZg\\u002fu015PsC2mD+nwH8yPLyYPzMNQny4wZg\\u002f2QVIaDXHmD9DV7W6r8qYP\\u002f8unflRzJg\\u002fKAoArPnNmD8V7\\u002fWHrM+YPyhXKCV20Zg\\u002f6gMQ7W3TmD\\u002fe3zLxwtWYPxaAH2HT2Jg\\u002fSNMA0VrdmD+0uxAazeSYP7m6vw8I8pg\\u002fUj5WA60KmT8GKp9bvjmZP1ggEKaplJk\\u002fiQiKV\\u002fNEmj+9biljsZqbP7yB7FSpL54\\u002fRCrZjOmUoT8wofbPTVymP3D2fYT\\u002ff68\\u002fCvJgOthzuD9ghdL9OHrEP1s7Xho2B9I\\u002fPiWn6I1U4D8E3udNPN7tP2FezAM1ifo\\u002fIojHEKDcBECSuOMueIUJQGBGgoOeXwZAbAHCW+Kk\\u002fD9IdlwIAvftPzeDjUNgUt0\\u002f+qdH1rE0zT+Nm+A0JOS+P5OepAvg+rE\\u002fllRqjYjBpz+WO45q\\u002fvGhPxHPraFFUZ4\\u002f3rEbr2ygmz\\u002fl06oC0FGaP0H6gNiCrpk\\u002fIcMPvademT+ieitevDeZP71ZSJsKJZk\\u002fXaT57WgcmT+wmsG90RiZP0FktILFF5k\\u002fR4C81gMYmT8NDN8n6xiZP+jEPnEpGpk\\u002f4qmUxpQbmT8rqYOYFx2ZP4PNA72mHpk\\u002fwLlUYzwgmT\\u002fNJ7F+1SGZP5qJL3NwI5k\\u002fxJZNZgwlmT8x1yvjqCaZP3k2C6tFKJk\\u002f4oT9m+IpmT8TE5GjfyuZPy9orrccLZk\\u002fp3XI0rkumT\\u002f1EbfxVjCZP1XM8BL0MZk\\u002fHr9qNZEzmT9ONJtYLjWZP4k5NHzLNpk\\u002fUHoJoGg4mT95ngHEBTqZP5QJ+OeiO5k\\u002fcl8QDEA9mT9msy8w3T6ZP4wpU1R6QJk\\u002fmhR5eBdCmT9Ad6CctEOZP0u7yMBRRZk\\u002fQYfx5O5GmT9knQQJjEiZP+btLS0pSpk\\u002fGV1XUcZLmT8PQ+28IkyZP6YFRkdORZk\\u002feM+e0Xk+mT\\u002fLnfdbpTeZP\\u002fSsrebQMJk\\u002f4X8GcfwpmT\\u002fxU1\\u002f7JyOZP7wouIVTHJk\\u002fCf4QEH8VmT+302maqg6ZP8KpwiTWB5k\\u002fPoAbrwEBmT9oldE5LfqYP7dtKsRY85g\\u002fEkiDToTsmD8eJtzYr+WYP94KNWPb3pg\\u002fv\\u002fuN7QbYmD+HAud3MtGYP69unQJeypg\\u002fYOP2jInDmD\\u002f61VAXtbyYP4uoq6HgtZg\\u002f5wcILAyvmD+hI2e2N6iYPzQPy0BjoZg\\u002f7Gg3y46amD87uA9WupOYPyNjpODljJg\\u002f82plaxGGmD+3CnP2PH+YP+5zBIJoeJg\\u002fRL93DpRxmD9D5mycv2qYP+H4Ty3rY5g\\u002fn1UvwhZdmD85i2heQlaYP\\u002fUXAgduT5g\\u002ffEFgxJlImD80r3akxUGYPyVrZ77xOpg\\u002f4DXAOB40mD\\u002f+GKdRSy2YP34NknB5Jpg\\u002fDdn4PakfmD9WulPM2xiYP4b57NgSEpg\\u002fttJENFELmD8QikFnmwSYP\\u002f1ixLv4\\u002fZc\\u002f9QZv2nT3lz8Al1RgIvGXP70vu+Ie65c\\u002fHr0zR5nllz\\u002fjT+ua2+CXP4QhMmpa3Zc\\u002f2m65mszblz9MxJQXUN2XP45Ehmii45c\\u002fLh8MrHfxlz9voqx6\\u002fwqYPwG9+uWuNpg\\u002fz7kIJHV+mD8C3AU9jPGYP38XZ943p5k\\u002fTV6wPenCmj\\u002fMpY\\u002fWanqcP9yVvYMoH58\\u002fCVADM\\u002feVoT8gml4frqykP0S3hSAYXqk\\u002fzAlecnk8sD9nFloVj5i1PyYj2pzSp70\\u002fmLiWMkLexD++4+OvyeTNP5ihT7o4q9U\\u002fyKL\\u002fMJOm3z+2K5\\u002f5xTbnPxKwhF87D\\u002fE\\u002f8ppVVScV+T9d2KZX+2wCQPerYY+nAwtAThE2o8ClE0AVBmZTaa0bQGhh6N872CFAa2GS6gWqI0BM3a3+XOQhQJBQtrTdjhtAUfmpyx8wE0CxUuSMrLgJQP0iJE+WIgFAVLB2koTn9j9ah4Qy3cfuP\\u002fPfW+210eQ\\u002f5kVgZnVk3D\\u002f2uCj6OY\\u002fTP3Dd5dWrTcs\\u002fLcJ4AYxgwz8abyK\\u002fkxa8Px3WiKjW47Q\\u002fAEnIZHIEsD9AZ5z9zGqpP6yQ4J6o6KQ\\u002fkPrwb6rToT\\u002fY3nx\\u002fk2yfP9jDbsCLgpw\\u002fvic4Pxd+mj9NTWhmlxaZPxPD5ZOrGpg\\u002fJFzSPLBolz\\u002fOuqoQp+mWP\\u002f67ha\\u002fPjZY\\u002fqQb1KllKlj9wjp6\\u002fzxeWP\\u002f5eDOcO8ZU\\u002f+zhuTYfSlT+AdKVowLmVPw==\"},\"type\":\"scatter\"}],                        {\"legend\":{\"x\":1.0,\"xanchor\":\"right\",\"y\":1.0,\"yanchor\":\"top\"},\"margin\":{\"autoexpand\":true,\"b\":45,\"r\":30,\"t\":40},\"title\":{\"text\":\"Measured vs Calculated data for experiment \\ud83d\\udd2c 'sim_si'\"},\"xaxis\":{\"mirror\":true,\"showline\":true,\"title\":{\"text\":\"d (\\u00c5)\"},\"zeroline\":false,\"tickformat\":\",.6~g\",\"separatethousands\":true},\"yaxis\":{\"mirror\":true,\"showline\":true,\"title\":{\"text\":\"Intensity (arb. units)\"},\"zeroline\":false,\"tickformat\":\",.6~g\",\"separatethousands\":true},\"template\":{\"data\":{\"histogram2dcontour\":[{\"type\":\"histogram2dcontour\",\"colorbar\":{\"outlinewidth\":0,\"ticks\":\"\"},\"colorscale\":[[0.0,\"#0d0887\"],[0.1111111111111111,\"#46039f\"],[0.2222222222222222,\"#7201a8\"],[0.3333333333333333,\"#9c179e\"],[0.4444444444444444,\"#bd3786\"],[0.5555555555555556,\"#d8576b\"],[0.6666666666666666,\"#ed7953\"],[0.7777777777777778,\"#fb9f3a\"],[0.8888888888888888,\"#fdca26\"],[1.0,\"#f0f921\"]]}],\"choropleth\":[{\"type\":\"choropleth\",\"colorbar\":{\"outlinewidth\":0,\"ticks\":\"\"}}],\"histogram2d\":[{\"type\":\"histogram2d\",\"colorbar\":{\"outlinewidth\":0,\"ticks\":\"\"},\"colorscale\":[[0.0,\"#0d0887\"],[0.1111111111111111,\"#46039f\"],[0.2222222222222222,\"#7201a8\"],[0.3333333333333333,\"#9c179e\"],[0.4444444444444444,\"#bd3786\"],[0.5555555555555556,\"#d8576b\"],[0.6666666666666666,\"#ed7953\"],[0.7777777777777778,\"#fb9f3a\"],[0.8888888888888888,\"#fdca26\"],[1.0,\"#f0f921\"]]}],\"heatmap\":[{\"type\":\"heatmap\",\"colorbar\":{\"outlinewidth\":0,\"ticks\":\"\"},\"colorscale\":[[0.0,\"#0d0887\"],[0.1111111111111111,\"#46039f\"],[0.2222222222222222,\"#7201a8\"],[0.3333333333333333,\"#9c179e\"],[0.4444444444444444,\"#bd3786\"],[0.5555555555555556,\"#d8576b\"],[0.6666666666666666,\"#ed7953\"],[0.7777777777777778,\"#fb9f3a\"],[0.8888888888888888,\"#fdca26\"],[1.0,\"#f0f921\"]]}],\"contourcarpet\":[{\"type\":\"contourcarpet\",\"colorbar\":{\"outlinewidth\":0,\"ticks\":\"\"}}],\"contour\":[{\"type\":\"contour\",\"colorbar\":{\"outlinewidth\":0,\"ticks\":\"\"},\"colorscale\":[[0.0,\"#0d0887\"],[0.1111111111111111,\"#46039f\"],[0.2222222222222222,\"#7201a8\"],[0.3333333333333333,\"#9c179e\"],[0.4444444444444444,\"#bd3786\"],[0.5555555555555556,\"#d8576b\"],[0.6666666666666666,\"#ed7953\"],[0.7777777777777778,\"#fb9f3a\"],[0.8888888888888888,\"#fdca26\"],[1.0,\"#f0f921\"]]}],\"surface\":[{\"type\":\"surface\",\"colorbar\":{\"outlinewidth\":0,\"ticks\":\"\"},\"colorscale\":[[0.0,\"#0d0887\"],[0.1111111111111111,\"#46039f\"],[0.2222222222222222,\"#7201a8\"],[0.3333333333333333,\"#9c179e\"],[0.4444444444444444,\"#bd3786\"],[0.5555555555555556,\"#d8576b\"],[0.6666666666666666,\"#ed7953\"],[0.7777777777777778,\"#fb9f3a\"],[0.8888888888888888,\"#fdca26\"],[1.0,\"#f0f921\"]]}],\"mesh3d\":[{\"type\":\"mesh3d\",\"colorbar\":{\"outlinewidth\":0,\"ticks\":\"\"}}],\"scatter\":[{\"fillpattern\":{\"fillmode\":\"overlay\",\"size\":10,\"solidity\":0.2},\"type\":\"scatter\"}],\"parcoords\":[{\"type\":\"parcoords\",\"line\":{\"colorbar\":{\"outlinewidth\":0,\"ticks\":\"\"}}}],\"scatterpolargl\":[{\"type\":\"scatterpolargl\",\"marker\":{\"colorbar\":{\"outlinewidth\":0,\"ticks\":\"\"}}}],\"bar\":[{\"error_x\":{\"color\":\"#2a3f5f\"},\"error_y\":{\"color\":\"#2a3f5f\"},\"marker\":{\"line\":{\"color\":\"white\",\"width\":0.5},\"pattern\":{\"fillmode\":\"overlay\",\"size\":10,\"solidity\":0.2}},\"type\":\"bar\"}],\"scattergeo\":[{\"type\":\"scattergeo\",\"marker\":{\"colorbar\":{\"outlinewidth\":0,\"ticks\":\"\"}}}],\"scatterpolar\":[{\"type\":\"scatterpolar\",\"marker\":{\"colorbar\":{\"outlinewidth\":0,\"ticks\":\"\"}}}],\"histogram\":[{\"marker\":{\"pattern\":{\"fillmode\":\"overlay\",\"size\":10,\"solidity\":0.2}},\"type\":\"histogram\"}],\"scattergl\":[{\"type\":\"scattergl\",\"marker\":{\"colorbar\":{\"outlinewidth\":0,\"ticks\":\"\"}}}],\"scatter3d\":[{\"type\":\"scatter3d\",\"line\":{\"colorbar\":{\"outlinewidth\":0,\"ticks\":\"\"}},\"marker\":{\"colorbar\":{\"outlinewidth\":0,\"ticks\":\"\"}}}],\"scattermap\":[{\"type\":\"scattermap\",\"marker\":{\"colorbar\":{\"outlinewidth\":0,\"ticks\":\"\"}}}],\"scattermapbox\":[{\"type\":\"scattermapbox\",\"marker\":{\"colorbar\":{\"outlinewidth\":0,\"ticks\":\"\"}}}],\"scatterternary\":[{\"type\":\"scatterternary\",\"marker\":{\"colorbar\":{\"outlinewidth\":0,\"ticks\":\"\"}}}],\"scattercarpet\":[{\"type\":\"scattercarpet\",\"marker\":{\"colorbar\":{\"outlinewidth\":0,\"ticks\":\"\"}}}],\"carpet\":[{\"aaxis\":{\"endlinecolor\":\"#2a3f5f\",\"gridcolor\":\"#C8D4E3\",\"linecolor\":\"#C8D4E3\",\"minorgridcolor\":\"#C8D4E3\",\"startlinecolor\":\"#2a3f5f\"},\"baxis\":{\"endlinecolor\":\"#2a3f5f\",\"gridcolor\":\"#C8D4E3\",\"linecolor\":\"#C8D4E3\",\"minorgridcolor\":\"#C8D4E3\",\"startlinecolor\":\"#2a3f5f\"},\"type\":\"carpet\"}],\"table\":[{\"cells\":{\"fill\":{\"color\":\"#EBF0F8\"},\"line\":{\"color\":\"white\"}},\"header\":{\"fill\":{\"color\":\"#C8D4E3\"},\"line\":{\"color\":\"white\"}},\"type\":\"table\"}],\"barpolar\":[{\"marker\":{\"line\":{\"color\":\"white\",\"width\":0.5},\"pattern\":{\"fillmode\":\"overlay\",\"size\":10,\"solidity\":0.2}},\"type\":\"barpolar\"}],\"pie\":[{\"automargin\":true,\"type\":\"pie\"}]},\"layout\":{\"autotypenumbers\":\"strict\",\"colorway\":[\"#636efa\",\"#EF553B\",\"#00cc96\",\"#ab63fa\",\"#FFA15A\",\"#19d3f3\",\"#FF6692\",\"#B6E880\",\"#FF97FF\",\"#FECB52\"],\"font\":{\"color\":\"#2a3f5f\"},\"hovermode\":\"closest\",\"hoverlabel\":{\"align\":\"left\"},\"paper_bgcolor\":\"white\",\"plot_bgcolor\":\"white\",\"polar\":{\"bgcolor\":\"white\",\"angularaxis\":{\"gridcolor\":\"#EBF0F8\",\"linecolor\":\"#EBF0F8\",\"ticks\":\"\"},\"radialaxis\":{\"gridcolor\":\"#EBF0F8\",\"linecolor\":\"#EBF0F8\",\"ticks\":\"\"}},\"ternary\":{\"bgcolor\":\"white\",\"aaxis\":{\"gridcolor\":\"#DFE8F3\",\"linecolor\":\"#A2B1C6\",\"ticks\":\"\"},\"baxis\":{\"gridcolor\":\"#DFE8F3\",\"linecolor\":\"#A2B1C6\",\"ticks\":\"\"},\"caxis\":{\"gridcolor\":\"#DFE8F3\",\"linecolor\":\"#A2B1C6\",\"ticks\":\"\"}},\"coloraxis\":{\"colorbar\":{\"outlinewidth\":0,\"ticks\":\"\"}},\"colorscale\":{\"sequential\":[[0.0,\"#0d0887\"],[0.1111111111111111,\"#46039f\"],[0.2222222222222222,\"#7201a8\"],[0.3333333333333333,\"#9c179e\"],[0.4444444444444444,\"#bd3786\"],[0.5555555555555556,\"#d8576b\"],[0.6666666666666666,\"#ed7953\"],[0.7777777777777778,\"#fb9f3a\"],[0.8888888888888888,\"#fdca26\"],[1.0,\"#f0f921\"]],\"sequentialminus\":[[0.0,\"#0d0887\"],[0.1111111111111111,\"#46039f\"],[0.2222222222222222,\"#7201a8\"],[0.3333333333333333,\"#9c179e\"],[0.4444444444444444,\"#bd3786\"],[0.5555555555555556,\"#d8576b\"],[0.6666666666666666,\"#ed7953\"],[0.7777777777777778,\"#fb9f3a\"],[0.8888888888888888,\"#fdca26\"],[1.0,\"#f0f921\"]],\"diverging\":[[0,\"#8e0152\"],[0.1,\"#c51b7d\"],[0.2,\"#de77ae\"],[0.3,\"#f1b6da\"],[0.4,\"#fde0ef\"],[0.5,\"#f7f7f7\"],[0.6,\"#e6f5d0\"],[0.7,\"#b8e186\"],[0.8,\"#7fbc41\"],[0.9,\"#4d9221\"],[1,\"#276419\"]]},\"xaxis\":{\"gridcolor\":\"#EBF0F8\",\"linecolor\":\"#EBF0F8\",\"ticks\":\"\",\"title\":{\"standoff\":15},\"zerolinecolor\":\"#EBF0F8\",\"automargin\":true,\"zerolinewidth\":2},\"yaxis\":{\"gridcolor\":\"#EBF0F8\",\"linecolor\":\"#EBF0F8\",\"ticks\":\"\",\"title\":{\"standoff\":15},\"zerolinecolor\":\"#EBF0F8\",\"automargin\":true,\"zerolinewidth\":2},\"scene\":{\"xaxis\":{\"backgroundcolor\":\"white\",\"gridcolor\":\"#DFE8F3\",\"linecolor\":\"#EBF0F8\",\"showbackground\":true,\"ticks\":\"\",\"zerolinecolor\":\"#EBF0F8\",\"gridwidth\":2},\"yaxis\":{\"backgroundcolor\":\"white\",\"gridcolor\":\"#DFE8F3\",\"linecolor\":\"#EBF0F8\",\"showbackground\":true,\"ticks\":\"\",\"zerolinecolor\":\"#EBF0F8\",\"gridwidth\":2},\"zaxis\":{\"backgroundcolor\":\"white\",\"gridcolor\":\"#DFE8F3\",\"linecolor\":\"#EBF0F8\",\"showbackground\":true,\"ticks\":\"\",\"zerolinecolor\":\"#EBF0F8\",\"gridwidth\":2}},\"shapedefaults\":{\"line\":{\"color\":\"#2a3f5f\"}},\"annotationdefaults\":{\"arrowcolor\":\"#2a3f5f\",\"arrowhead\":0,\"arrowwidth\":1},\"geo\":{\"bgcolor\":\"white\",\"landcolor\":\"white\",\"subunitcolor\":\"#C8D4E3\",\"showland\":true,\"showlakes\":true,\"lakecolor\":\"white\"},\"title\":{\"x\":0.05},\"mapbox\":{\"style\":\"light\"}}}},                        {\"displaylogo\": false, \"modeBarButtonsToRemove\": [\"select2d\", \"lasso2d\", \"zoomIn2d\", \"zoomOut2d\", \"autoScale2d\"], \"responsive\": true}                    )                };            </script>        </div>"
      ],
      "text/plain": [
       "<IPython.core.display.HTML object>"
      ]
     },
     "metadata": {},
     "output_type": "display_data"
    },
    {
     "data": {
      "text/html": [
       "<div>                        <script type=\"text/javascript\">window.PlotlyConfig = {MathJaxConfig: 'local'};</script>\n",
       "        <script charset=\"utf-8\" src=\"https://cdn.plot.ly/plotly-3.1.0.min.js\" integrity=\"sha256-Ei4740bWZhaUTQuD6q9yQlgVCMPBz6CZWhevDYPv93A=\" crossorigin=\"anonymous\"></script>                <div id=\"797cbed4-3d96-4020-a464-d162997f7c9c\" class=\"plotly-graph-div\" style=\"height:100%; width:100%;\"></div>            <script type=\"text/javascript\">                window.PLOTLYENV=window.PLOTLYENV || {};                                if (document.getElementById(\"797cbed4-3d96-4020-a464-d162997f7c9c\")) {                    Plotly.newPlot(                        \"797cbed4-3d96-4020-a464-d162997f7c9c\",                        [{\"line\":{\"color\":\"rgb(31, 119, 180)\"},\"mode\":\"lines+markers\",\"name\":\"Measured (Imeas)\",\"x\":{\"dtype\":\"f8\",\"bdata\":\"AABAohgE8D8AAKiSSQzwPwAAuOR6FPA\\u002fAADINqwc8D8AADAn3STwPwAAQHkOLfA\\u002fAACoaT818D8AALi7cD3wPwAAIKyhRfA\\u002fAAAw\\u002ftJN8D8AAJjuA1bwPwAAqEA1XvA\\u002fAAC4kmZm8D8AACCDl27wPwAAMNXIdvA\\u002fAACYxfl+8D8AAKgXK4fwPwAAuGlcj\\u002fA\\u002fAAAgWo2X8D8AAIhKvp\\u002fwPwAAmJzvp\\u002fA\\u002fAACo7iCw8D8AABDfUbjwPwAAIDGDwPA\\u002fAACIIbTI8D8AAJhz5dDwPwAAqMUW2fA\\u002fAAAQtkfh8D8AAHimeOnwPwAAiPip8fA\\u002fAACYStv58D8AAAA7DALxPwAAEI09CvE\\u002fAAB4fW4S8T8AAIjPnxrxPwAAmCHRIvE\\u002fAAAAEgIr8T8AAGgCMzPxPwAAeFRkO\\u002fE\\u002fAACIppVD8T8AAJj4xkvxPwAAAOn3U\\u002fE\\u002fAABo2Shc8T8AAHgrWmTxPwAAiH2LbPE\\u002fAADwbbx08T8AAADA7XzxPwAAaLAehfE\\u002fAAB4AlCN8T8AAODygJXxPwAA8ESynfE\\u002fAABYNeOl8T8AAGiHFK7xPwAAeNlFtvE\\u002fAADgyXa+8T8AAPAbqMbxPwAAWAzZzvE\\u002fAABoXgrX8T8AANBOO9\\u002fxPwAA4KBs5\\u002fE\\u002fAABIkZ3v8T8AAFjjzvfxPwAAwNP\\u002f\\u002f\\u002fE\\u002fAADQJTEI8j8AAOB3YhDyPwAASGiTGPI\\u002fAABYusQg8j8AAMCq9SjyPwAA0PwmMfI\\u002fAADgTlg58j8AAEg\\u002fiUHyPwAAsC+6SfI\\u002fAADAgetR8j8AANDTHFryPwAAOMRNYvI\\u002fAABIFn9q8j8AALAGsHLyPwAAwFjhevI\\u002fAADQqhKD8j8AADibQ4vyPwAAoIt0k\\u002fI\\u002fAACw3aWb8j8AAMAv16PyPwAAKCAIrPI\\u002fAAA4cjm08j8AAKBiarzyPwAAsLSbxPI\\u002fAADABs3M8j8AACj3\\u002fdTyPwAAkOcu3fI\\u002fAACgOWDl8j8AALCLke3yPwAAwN3C9fI\\u002fAAAozvP98j8AAJC+JAbzPwAAoBBWDvM\\u002fAACwYocW8z8AABhTuB7zPwAAKKXpJvM\\u002fAACQlRov8z8AAKDnSzfzPwAAsDl9P\\u002fM\\u002fAAAYKq5H8z8AAIAa30\\u002fzPwAAkGwQWPM\\u002fAACgvkFg8z8AAAivcmjzPwAAGAGkcPM\\u002fAACA8dR48z8AAJBDBoHzPwAA+DM3ifM\\u002fAAAIhmiR8z8AAHB2mZnzPwAAgMjKofM\\u002fAADouPup8z8AAPgKLbLzPwAACF1euvM\\u002fAABwTY\\u002fC8z8AAICfwMrzPwAA6I\\u002fx0vM\\u002fAAD44SLb8z8AAAg0VOPzPwAAcCSF6\\u002fM\\u002fAADYFLbz8z8AAOhm5\\u002fvzPwAA+LgYBPQ\\u002fAABgqUkM9D8AAHD7ehT0PwAA2OurHPQ\\u002fAADoPd0k9D8AAPiPDi30PwAAYIA\\u002fNfQ\\u002fAADIcHA99D8AANjCoUX0PwAA6BTTTfQ\\u002fAABQBQRW9D8AAGBXNV70PwAAyEdmZvQ\\u002fAADYmZdu9D8AAOjryHb0PwAAUNz5fvQ\\u002fAAC4zCqH9D8AAMgeXI\\u002f0PwAA2HCNl\\u002fQ\\u002fAADowr6f9D8AAFCz76f0PwAAuKMgsPQ\\u002fAADI9VG49D8AANhHg8D0PwAAQDi0yPQ\\u002fAABQiuXQ9D8AALh6Ftn0PwAAyMxH4fQ\\u002fAADYHnnp9D8AAEAPqvH0PwAAqP\\u002fa+fQ\\u002fAAC4UQwC9T8AAMijPQr1PwAAMJRuEvU\\u002fAABA5p8a9T8AAKjW0CL1PwAAuCgCK\\u002fU\\u002fAADIejMz9T8AADBrZDv1PwAAmFuVQ\\u002fU\\u002fAACorcZL9T8AALj\\u002f91P1PwAAIPAoXPU\\u002fAAAwQlpk9T8AAJgyi2z1PwAAqIS8dPU\\u002fAAAQde189T8AACDHHoX1PwAAMBlQjfU\\u002fAACYCYGV9T8AAAD6sZ31PwAAEEzjpfU\\u002fAAAgnhSu9T8AAIiORbb1P\\u002f\\u002f\\u002fl+B2vvU\\u002f\\u002f\\u002f\\u002f\\u002f0KfG9T\\u002f\\u002f\\u002fw8j2c71P\\u002f\\u002f\\u002fH3UK1\\u002fU\\u002f\\u002f\\u002f+HZTvf9T\\u002f\\u002f\\u002f+9VbOf1P\\u002f\\u002f\\u002f\\u002f6ed7\\u002fU\\u002f\\u002f\\u002f8P+s739T\\u002f\\u002f\\u002f3fq\\u002f\\u002f\\u002f1P\\u002f\\u002f\\u002fhzwxCPY\\u002f\\u002f\\u002f\\u002fvLGIQ9j\\u002f\\u002f\\u002f\\u002f9+kxj2P\\u002f\\u002f\\u002fD9HEIPY\\u002f\\u002f\\u002f93wfUo9j\\u002f\\u002f\\u002f9+xJjH2P\\u002f\\u002f\\u002f7wNYOfY\\u002f\\u002f\\u002f\\u002f\\u002fVYlB9j\\u002f\\u002f\\u002fw+oukn2P\\u002f\\u002f\\u002fd5jrUfY\\u002f\\u002f\\u002f\\u002ffiBxa9j\\u002f\\u002f\\u002f+\\u002faTWL2P\\u002f\\u002f\\u002f\\u002fyx\\u002favY\\u002f\\u002f\\u002f9nHbBy9j\\u002f\\u002f\\u002f3dv4Xr2P\\u002f\\u002f\\u002f318Sg\\u002fY\\u002f\\u002f\\u002f\\u002fvsUOL9j\\u002f\\u002f\\u002f\\u002f8DdZP2P\\u002f\\u002f\\u002fZ\\u002fSlm\\u002fY\\u002f\\u002f\\u002f\\u002fP5Naj9j\\u002f\\u002f\\u002f982CKz2P\\u002f\\u002f\\u002f74g5tPY\\u002f\\u002f\\u002f9XeWq89j\\u002f\\u002f\\u002f2fLm8T2P\\u002f\\u002f\\u002fz7vMzPY\\u002f\\u002f\\u002f\\u002ffDf7U9j\\u002f\\u002f\\u002f+9fL932P\\u002f\\u002f\\u002fV1Bg5fY\\u002f\\u002f\\u002f+\\u002fQJHt9j\\u002f\\u002f\\u002f8+SwvX2P\\u002f\\u002f\\u002f3+Tz\\u002ffY\\u002f\\u002f\\u002f9H1SQG9z\\u002f\\u002f\\u002f1cnVg73P\\u002f\\u002f\\u002fvxeHFvc\\u002f\\u002f\\u002f\\u002fPabge9z\\u002f\\u002f\\u002fzda6Sb3P\\u002f\\u002f\\u002fR6waL\\u002fc\\u002f\\u002f\\u002f9X\\u002fks39z\\u002f\\u002f\\u002f7\\u002fufD\\u002f3P\\u002f\\u002f\\u002fz0CuR\\u002fc\\u002f\\u002f\\u002f83Md9P9z\\u002f\\u002f\\u002f0eDEFj3P\\u002f\\u002f\\u002fr3NBYPc\\u002f\\u002f\\u002f+\\u002fxXJo9z\\u002f\\u002f\\u002fye2o3D3P\\u002f\\u002f\\u002fNwjVePc\\u002f\\u002f\\u002f9HWgaB9z\\u002f\\u002f\\u002f69KN4n3P\\u002f\\u002f\\u002fFztokfc\\u002f\\u002f\\u002f8njZmZ9z\\u002f\\u002f\\u002fzffyqH3P\\u002f\\u002f\\u002fn8\\u002f7qfc\\u002f\\u002f\\u002f+vIS2y9z\\u002f\\u002f\\u002fxcSXrr3P\\u002f\\u002f\\u002fJ2SPwvc\\u002f\\u002f\\u002f83tsDK9z\\u002f\\u002f\\u002f5+m8dL3P\\u002f\\u002f\\u002fB5ci2\\u002fc\\u002f\\u002f\\u002f8X6VPj9z\\u002f\\u002f\\u002fyc7hev3P\\u002f\\u002f\\u002fjyu28\\u002fc\\u002f\\u002f\\u002f+ffef79z\\u002f\\u002f\\u002fwduGAT4P\\u002f\\u002f\\u002fF8BJDPg\\u002f\\u002f\\u002f8nEnsU+D\\u002f\\u002f\\u002f48CrBz4P\\u002f\\u002f\\u002fn1TdJPg\\u002f\\u002f\\u002f8HRQ4t+D\\u002f\\u002f\\u002fxeXPzX4P\\u002f\\u002f\\u002fJ+lwPfg\\u002f\\u002f\\u002f+P2aFF+D\\u002f\\u002f\\u002f\\u002ffJ0k34P\\u002f\\u002f\\u002fBxwEVvg\\u002f\\u002f\\u002f8XbjVe+D\\u002f\\u002f\\u002f39eZmb4P\\u002f\\u002f\\u002fj7CXbvg\\u002f\\u002f\\u002f\\u002f3oMh2+D\\u002f\\u002f\\u002fwfz+X74P\\u002f\\u002f\\u002fF0Urh\\u002fg\\u002f\\u002f\\u002f9\\u002fNVyP+D\\u002f\\u002f\\u002f+cljZf4P\\u002f\\u002f\\u002f93e+n\\u002fg\\u002f\\u002f\\u002f8Hyu+n+D\\u002f\\u002f\\u002f2+6ILD4P\\u002f\\u002f\\u002ffwxSuPg\\u002f\\u002f\\u002f\\u002fn\\u002fILA+D\\u002f\\u002f\\u002f\\u002fdOtMj4P\\u002f\\u002f\\u002fB6Hl0Pg\\u002f\\u002f\\u002f9vkRbZ+D\\u002f\\u002f\\u002f3\\u002fjR+H4P\\u002f\\u002f\\u002f59N46fg\\u002f\\u002f\\u002f\\u002f3Jarx+D\\u002f\\u002f\\u002f18W2\\u002fn4P\\u002f\\u002f\\u002fb2gMAvk\\u002f\\u002f\\u002f\\u002fXWD0K+T\\u002f\\u002f\\u002f+eqbhL5P\\u002f\\u002f\\u002fT5ufGvk\\u002f\\u002f\\u002f9f7dAi+T\\u002f\\u002f\\u002f28\\u002fAiv5P\\u002f\\u002f\\u002f1y8zM\\u002fk\\u002f\\u002f\\u002f\\u002fngWQ7+T\\u002f\\u002f\\u002f09ylUP5P\\u002f\\u002f\\u002fX8TGS\\u002fk\\u002f\\u002f\\u002f\\u002fHtPdT+T\\u002f\\u002f\\u002f9cGKVz5P\\u002f\\u002f\\u002fP\\u002fdZZPk\\u002f\\u002f\\u002f9PSYts+T\\u002f\\u002f\\u002f1+bvHT5P\\u002f\\u002f\\u002fx4vtfPk\\u002f\\u002f\\u002f8vfB6F+T\\u002f\\u002f\\u002fz\\u002fOT435P\\u002f\\u002f\\u002fTyCBlfk\\u002f\\u002f\\u002f+3ELKd+T\\u002f\\u002f\\u002f8di46X5P\\u002f\\u002f\\u002fL1MUrvk\\u002f\\u002f\\u002f8\\u002fpUW2+T\\u002f\\u002f\\u002f0\\u002f3dr75P\\u002f\\u002f\\u002ft+enxvk\\u002f\\u002f\\u002f\\u002fHOdnO+T\\u002f\\u002f\\u002fy8qCtf5P\\u002f\\u002f\\u002fP3w73\\u002fk\\u002f\\u002f\\u002f9Pzmzn+T\\u002f\\u002f\\u002f7e+ne\\u002f5P\\u002f\\u002f\\u002fH6\\u002fO9\\u002fk\\u002f\\u002f\\u002f8vAQAA+j\\u002f\\u002f\\u002fz9TMQj6P\\u002f\\u002f\\u002fp0NiEPo\\u002f\\u002f\\u002f+3lZMY+j\\u002f\\u002f\\u002fx+GxCD6P\\u002f\\u002f\\u002fL9j1KPo\\u002f\\u002f\\u002f8\\u002fKicx+j\\u002f\\u002f\\u002f6caWDn6P\\u002f\\u002f\\u002fDwuJQfo\\u002f\\u002f\\u002f8fXbpJ+j\\u002f\\u002f\\u002fy+v61H6P\\u002f\\u002f\\u002fl58cWvo\\u002f\\u002f\\u002f+n8U1i+j\\u002f\\u002f\\u002fw\\u002fifmr6P\\u002f\\u002f\\u002fHzSwcvo\\u002f\\u002f\\u002f8vhuF6+j\\u002f\\u002f\\u002f5d2EoP6P\\u002f\\u002f\\u002fp8hDi\\u002fo\\u002f\\u002f\\u002f8PuXST+j\\u002f\\u002f\\u002fx8Lppv6P\\u002f\\u002f\\u002fh\\u002fvWo\\u002fo\\u002f\\u002f\\u002f+XTQis+j\\u002f\\u002f\\u002f\\u002f89ObT6P\\u002f\\u002f\\u002fD5BqvPo\\u002f\\u002f\\u002f8f4pvE+j\\u002f\\u002f\\u002f4fSzMz6P\\u002f\\u002f\\u002flyT+1Po\\u002f\\u002f\\u002f\\u002f\\u002fFC\\u002fd+j\\u002f\\u002f\\u002fw9nYOX6P\\u002f\\u002f\\u002fd1eR7fo\\u002f\\u002f\\u002f+HqcL1+j\\u002f\\u002f\\u002f++Z8\\u002f36P\\u002f\\u002f\\u002f\\u002f+skBvs\\u002f\\u002f\\u002f9n3FUO+z\\u002f\\u002f\\u002f3cuhxb7P\\u002f\\u002f\\u002fh4C4Hvs\\u002f\\u002f\\u002f\\u002fvcOkm+z\\u002f\\u002f\\u002f1dhGi\\u002f7Pw==\"},\"y\":{\"dtype\":\"f8\",\"bdata\":\"xCUwMr0QzD8fovbCkQnSP4O0su3t7co\\u002feSt\\u002f2Tag0T9XBEvOypbRP1hcvqIxCcc\\u002ffYrr6act0T9T++3Cg2XQPxLXQhQCPM4\\u002fwUnFegvOzz89EjT5ZuPSPyzvxSFHnc0\\u002fDK4SaNaW0D+NcDRZ00fTPy2lquwbjNI\\u002fat3\\u002fhoUr1D9ThRa8767UP6Re4oScEdk\\u002fV8UzgkUD4z8KMFRIS0bkPymKnzFaDeY\\u002ftM8y8V1A4T\\u002fv1PcXAhrYPwlYCmCiAtc\\u002f4S1LgPpK0z8FeAghJ17SPzesRYmAA9E\\u002fsJWNXu5l0z8EYPrhS0HLPzKYugOCuM4\\u002fmOW1l5m2zz\\u002fphLcLhRPPP9unvvxSoNE\\u002fna1MOiKG0T9YeQiiAEbSPyGzsObQDtE\\u002fScf9gxc90T\\u002fSRNqfSZnQPwRi4HRZicw\\u002fwDB\\u002f\\u002fdoVzj94X\\u002f5k2gTPP9ud+CuSPM8\\u002fhlEj\\u002fIKJzj\\u002f4IL1le\\u002fjQPwNMWzkMH84\\u002fEykGotZVzz8oupY9cAXSP3f2rmh4LdE\\u002f1J+5jdn81T+Tf31oItfRP4XoLO5+mNA\\u002fBmik5iOa0z9suMnjKkvVPxpOHi69\\u002fNg\\u002fTNFs7aUp2z9jPvkUZafbP0PHY+tezNo\\u002fUzjUmCRf4z\\u002fV9gFWOGLwP7j6wSQKjvs\\u002fFitMx+P0BkDo8RKs20UKQM48AGxzXghAyt3kKSge\\u002fT823xNujk3tP7AQGPnY9+A\\u002fpgVyk8Ub1z\\u002f4vwF5a9\\u002fRPxzpOQ19CtA\\u002fY8gyjhh6zz+nhoAauU7RP\\u002frGFyEHHM8\\u002fk6Wxkfxfzj+mwgeGZozRPyoBQTLsdMw\\u002foW4zHbDOzz9P27o4VyzTP\\u002f6kv7r9eNI\\u002fRc+zgYL\\u002f1D\\u002fXlGk7LAfXPwIKBH+OrtU\\u002f8ahOyoGK4z8gobbRiJTwP9AKYqQCPv0\\u002fHLzQO+y5DUAV9H\\u002f5G28aQNlX\\u002f8Pcex5AfArT+lVcGUDA84RhlI8PQKczQ6vsvP0\\u002fP57oTDsv7z8O3U4JFQTjP8\\u002fS3jgwEdo\\u002fns6YbDvL1D9xgqTKoCbRP15C57Dx280\\u002feDOcN\\u002fiy0z9Znu3d7lrNP08APZU0Os8\\u002fZCOhM2yy0D\\u002f4WqPcbAjQP\\u002fONeju\\u002fGs8\\u002fMWeuuipzyz\\u002f\\u002fEKMLHsbPP2U6QBFcK88\\u002fgDenHqsQ0D+tpOZY70jRP5nStwuLb8w\\u002fFQxK2+6tzz\\u002fYyvRJEfLNP2Lh9JyDndE\\u002fs337xego0T\\u002f3vCK+Cy7YP3NAeLjvd98\\u002fWE9rmv095D9C\\u002fuhzCrPkP0U\\u002fchkB\\u002feE\\u002fZvg\\u002f9Qzd2D8+7zBdMPnUP5Q5GoA2qdM\\u002fghxaZ7H60z\\u002fAKB21CzfUP\\u002fQy0tdDX9Y\\u002f+Z3fmAgw2D9vu04xQk7TP3iv9msZ6tA\\u002fnkzpSfmTzz9ppXALxYjQP8VS7eeGHcw\\u002fWjFdYQU3zz\\u002fylvQDbkTNP10Snv65Ps0\\u002fgpo42I090T8QBap57hDSP7cKxN0rjM8\\u002fIaCRUYb+yz\\u002fR\\u002fgWNZKvQP5UzfQaor9A\\u002fnQubfw70zz+0+SHyOarMP1jEP+G7qtA\\u002frKHPDwzA0D\\u002fdYv1je0fNP0eVNZErSdA\\u002fgYi\\u002fVdEl0D8eFlsirtHQP0JHVEpSStI\\u002fyaoApYNI0j+tWt+Kiq7RP2E0LtsOkdE\\u002fVQCNd81F0T+NU\\u002fZpDrfQP5Z3k7Nl188\\u002fia5m3DuS0D8gRspbQzbPPyUDyMS7otA\\u002ft4\\u002fgxSsSzz8FPYIEwRzMP1eqzyFOys0\\u002fhuiypKOrzj8RR\\u002fOcoHvOP9oAZNsel80\\u002foj5r+wVG0D++489Zk97QP0R7CFiY6NA\\u002fQJm2mbQLzj+MA28wFuLQP4Y9a8omyNA\\u002fq\\u002fvyikAuzj+KZtlB8XLPP1YegtpuZ88\\u002fsV52Tr1f0D8G3ZAFsTrPP6\\u002fpCk12W9A\\u002fF1N13nYx0D+uY3D5SSjRP90OA\\u002ffol9M\\u002fL450LfKO1T+tVlb7+fjYPxLZEEaYBNo\\u002fSv1z\\u002fnM83T\\u002fH5AXA7D3kP71tBa3jl+4\\u002fRXjy7lhS+T+Wsi3az+4HQHJZGfdMLRZAApC5OPshIkBMY0JRmF8mQIR\\u002ffVuzxSRALBLEjfmPHUBOoyCSus4PQP752x2qQQFAx54U1kpa8z\\u002fsOlitqXLoP+JHQGgC8eA\\u002fAbGlpi6o2T8IhJ+5DBXUP8LZ\\u002fr2NN9I\\u002frwVLf6lx0D\\u002fmgnGbVOHRP9GK8pz1DNA\\u002fRojv1p6o0D9ehF2TRp\\u002fNP0uwcva4UdE\\u002fgzXxAvL9zz8nvoLd\\u002flfOP1LlnS\\u002fvAdA\\u002faSMQV3aszD+VdmWaI3zOP5+ZNTQnMc8\\u002fzx1bnMvXzz+8Ml33nAPOP2b0iwvtPM0\\u002fGzMrP413zz9\\u002f7++Lwy\\u002fQP89TzziL0s8\\u002fQhfeiSAgzj9T8IPimpLQP5wLAQOL3Ms\\u002fh4nfgWQMzz9nz2n0757PPwfx6a4ZGtE\\u002feC5CNTdEzj+E2J2kyV7OP1dQ96jKgdA\\u002f+I4SdYNvzj8qdwkzdRXLP+20ywpaB9A\\u002fIWMTAB9vzz+j\\u002fjvZmAnNPyZu+kYTycw\\u002f0wDUnAjdzD8VKdPTDk\\u002fPP5e2PZmNkM4\\u002ft9OQqCgLzj9BvNI7esPOP4jY2qS0u80\\u002f32IblpJD0D8v2PNWgsnQPzymym0ooM4\\u002fHFpGxg89zz9Y9tCpNjzMPxNtzAucQtA\\u002f6ced8f4Xzj9WtudW0CbQP897EiEVmM4\\u002fJ9kCAEwqzz9BKyHUSVLOP2p2bJ2icNA\\u002f\\u002flu6I32Zzz95J0qy7F3PP+xdPWzYx80\\u002f9TzIFsnYzj98shxhrtrOP6rqqDscRtA\\u002fC1nTLdnVzz8ZZDOaXhTOPy6onglO4NA\\u002fiZHbhQmUzz8VlacCIufOP+0hUHgwtc4\\u002f3\\u002fRqFidjzj\\u002fvLM4HsCbPP0RIvOlIisw\\u002f7hl30rMNzT9yOaRQs1jPP6SUuKObNM8\\u002fNmc2DowYzz\\u002f5\\u002fZ3xKPjPP\\u002fz7JZjqG9E\\u002fYr1Ca3s70T+y2ozZyaPPPyEV8O5mW9E\\u002fd7xW2TVSzz+PNRyfC+\\u002fPP1DBJRPLZM4\\u002fDjJkQP6hzD\\u002foaazJ2DLNP7DoD7H\\u002fIs4\\u002fYTWCSgQk0D\\u002fcts0cl2fLPztlahGEv84\\u002f5KdspvPxzz9vfQdMJ+LMPznMHX6ri9A\\u002fOA6F+z3n0D\\u002faT47630fSP7StwKbx0dI\\u002fQeyDtmhr1T+QthqeI57XP6+y1bCONt4\\u002fP0d372A+4j9We1RCB+\\u002fmP9\\u002fr9u0zpO0\\u002flh4f48QT7z8syrq9yVfsP5cLwgADzuY\\u002fvXFgTmpP4T\\u002f64jxlJibbP29\\u002flobvkdY\\u002frTlks8Wi0z9erAdz07XTP7SzawoMMNE\\u002fCmak\\u002fZvj0D\\u002fKRhv3PqzOPwDVl1CeyM0\\u002fDMG3dG3H0D9p8sZ8WwnNP1XeYh2yg84\\u002fT19Am2sHzj8HzAWWee\\u002fQP7+GntiZ7M0\\u002fwDvWhsoz0T8YON6+XXPSP1h\\u002fkRqS3NI\\u002fsufvZ6yS1T+ASiP0BHnYP+20UmxtwNw\\u002fbFHlTgpK3T8+huvO6jfbP2skwb4rLNk\\u002f\\u002fbwXuW7M1j9XZesMmEPUP569puFNB9I\\u002f4Qa8+Lqc0T8vXOlXxvjOP+7qrZP4lM8\\u002fiRjP3oW\\u002fzT9uQ+3ArybNP\\u002fXqq0ENO80\\u002fzNIITwEzyz9DL2Fm+fLNPxKnP4birsw\\u002fNDOlVB0O0D\\u002fvtVCk4GLMP\\u002ffKtDi7UM8\\u002fTodV2YW6zD9ALnrrpZ\\u002fOP5jOxigy4s4\\u002f0BmLqRDwyj9qYdMHx+zOPydZ3APeTM0\\u002fEb9Wv50czD\\u002fXyrosjhTMP3n7OuqFl8o\\u002fNiIJVuSSzT\\u002fC2PKb2LnLP5xIzSMMacw\\u002foJpktVNEzD+bvNYXmHjKPw==\"},\"type\":\"scatter\"},{\"line\":{\"color\":\"rgb(214, 39, 40)\"},\"mode\":\"lines\",\"name\":\"Total calculated (Icalc)\",\"x\":{\"dtype\":\"f8\",\"bdata\":\"AABAohgE8D8AAKiSSQzwPwAAuOR6FPA\\u002fAADINqwc8D8AADAn3STwPwAAQHkOLfA\\u002fAACoaT818D8AALi7cD3wPwAAIKyhRfA\\u002fAAAw\\u002ftJN8D8AAJjuA1bwPwAAqEA1XvA\\u002fAAC4kmZm8D8AACCDl27wPwAAMNXIdvA\\u002fAACYxfl+8D8AAKgXK4fwPwAAuGlcj\\u002fA\\u002fAAAgWo2X8D8AAIhKvp\\u002fwPwAAmJzvp\\u002fA\\u002fAACo7iCw8D8AABDfUbjwPwAAIDGDwPA\\u002fAACIIbTI8D8AAJhz5dDwPwAAqMUW2fA\\u002fAAAQtkfh8D8AAHimeOnwPwAAiPip8fA\\u002fAACYStv58D8AAAA7DALxPwAAEI09CvE\\u002fAAB4fW4S8T8AAIjPnxrxPwAAmCHRIvE\\u002fAAAAEgIr8T8AAGgCMzPxPwAAeFRkO\\u002fE\\u002fAACIppVD8T8AAJj4xkvxPwAAAOn3U\\u002fE\\u002fAABo2Shc8T8AAHgrWmTxPwAAiH2LbPE\\u002fAADwbbx08T8AAADA7XzxPwAAaLAehfE\\u002fAAB4AlCN8T8AAODygJXxPwAA8ESynfE\\u002fAABYNeOl8T8AAGiHFK7xPwAAeNlFtvE\\u002fAADgyXa+8T8AAPAbqMbxPwAAWAzZzvE\\u002fAABoXgrX8T8AANBOO9\\u002fxPwAA4KBs5\\u002fE\\u002fAABIkZ3v8T8AAFjjzvfxPwAAwNP\\u002f\\u002f\\u002fE\\u002fAADQJTEI8j8AAOB3YhDyPwAASGiTGPI\\u002fAABYusQg8j8AAMCq9SjyPwAA0PwmMfI\\u002fAADgTlg58j8AAEg\\u002fiUHyPwAAsC+6SfI\\u002fAADAgetR8j8AANDTHFryPwAAOMRNYvI\\u002fAABIFn9q8j8AALAGsHLyPwAAwFjhevI\\u002fAADQqhKD8j8AADibQ4vyPwAAoIt0k\\u002fI\\u002fAACw3aWb8j8AAMAv16PyPwAAKCAIrPI\\u002fAAA4cjm08j8AAKBiarzyPwAAsLSbxPI\\u002fAADABs3M8j8AACj3\\u002fdTyPwAAkOcu3fI\\u002fAACgOWDl8j8AALCLke3yPwAAwN3C9fI\\u002fAAAozvP98j8AAJC+JAbzPwAAoBBWDvM\\u002fAACwYocW8z8AABhTuB7zPwAAKKXpJvM\\u002fAACQlRov8z8AAKDnSzfzPwAAsDl9P\\u002fM\\u002fAAAYKq5H8z8AAIAa30\\u002fzPwAAkGwQWPM\\u002fAACgvkFg8z8AAAivcmjzPwAAGAGkcPM\\u002fAACA8dR48z8AAJBDBoHzPwAA+DM3ifM\\u002fAAAIhmiR8z8AAHB2mZnzPwAAgMjKofM\\u002fAADouPup8z8AAPgKLbLzPwAACF1euvM\\u002fAABwTY\\u002fC8z8AAICfwMrzPwAA6I\\u002fx0vM\\u002fAAD44SLb8z8AAAg0VOPzPwAAcCSF6\\u002fM\\u002fAADYFLbz8z8AAOhm5\\u002fvzPwAA+LgYBPQ\\u002fAABgqUkM9D8AAHD7ehT0PwAA2OurHPQ\\u002fAADoPd0k9D8AAPiPDi30PwAAYIA\\u002fNfQ\\u002fAADIcHA99D8AANjCoUX0PwAA6BTTTfQ\\u002fAABQBQRW9D8AAGBXNV70PwAAyEdmZvQ\\u002fAADYmZdu9D8AAOjryHb0PwAAUNz5fvQ\\u002fAAC4zCqH9D8AAMgeXI\\u002f0PwAA2HCNl\\u002fQ\\u002fAADowr6f9D8AAFCz76f0PwAAuKMgsPQ\\u002fAADI9VG49D8AANhHg8D0PwAAQDi0yPQ\\u002fAABQiuXQ9D8AALh6Ftn0PwAAyMxH4fQ\\u002fAADYHnnp9D8AAEAPqvH0PwAAqP\\u002fa+fQ\\u002fAAC4UQwC9T8AAMijPQr1PwAAMJRuEvU\\u002fAABA5p8a9T8AAKjW0CL1PwAAuCgCK\\u002fU\\u002fAADIejMz9T8AADBrZDv1PwAAmFuVQ\\u002fU\\u002fAACorcZL9T8AALj\\u002f91P1PwAAIPAoXPU\\u002fAAAwQlpk9T8AAJgyi2z1PwAAqIS8dPU\\u002fAAAQde189T8AACDHHoX1PwAAMBlQjfU\\u002fAACYCYGV9T8AAAD6sZ31PwAAEEzjpfU\\u002fAAAgnhSu9T8AAIiORbb1P\\u002f\\u002f\\u002fl+B2vvU\\u002f\\u002f\\u002f\\u002f\\u002f0KfG9T\\u002f\\u002f\\u002fw8j2c71P\\u002f\\u002f\\u002fH3UK1\\u002fU\\u002f\\u002f\\u002f+HZTvf9T\\u002f\\u002f\\u002f+9VbOf1P\\u002f\\u002f\\u002f\\u002f6ed7\\u002fU\\u002f\\u002f\\u002f8P+s739T\\u002f\\u002f\\u002f3fq\\u002f\\u002f\\u002f1P\\u002f\\u002f\\u002fhzwxCPY\\u002f\\u002f\\u002f\\u002fvLGIQ9j\\u002f\\u002f\\u002f\\u002f9+kxj2P\\u002f\\u002f\\u002fD9HEIPY\\u002f\\u002f\\u002f93wfUo9j\\u002f\\u002f\\u002f9+xJjH2P\\u002f\\u002f\\u002f7wNYOfY\\u002f\\u002f\\u002f\\u002f\\u002fVYlB9j\\u002f\\u002f\\u002fw+oukn2P\\u002f\\u002f\\u002fd5jrUfY\\u002f\\u002f\\u002f\\u002ffiBxa9j\\u002f\\u002f\\u002f+\\u002faTWL2P\\u002f\\u002f\\u002f\\u002fyx\\u002favY\\u002f\\u002f\\u002f9nHbBy9j\\u002f\\u002f\\u002f3dv4Xr2P\\u002f\\u002f\\u002f318Sg\\u002fY\\u002f\\u002f\\u002f\\u002fvsUOL9j\\u002f\\u002f\\u002f\\u002f8DdZP2P\\u002f\\u002f\\u002fZ\\u002fSlm\\u002fY\\u002f\\u002f\\u002f\\u002fP5Naj9j\\u002f\\u002f\\u002f982CKz2P\\u002f\\u002f\\u002f74g5tPY\\u002f\\u002f\\u002f9XeWq89j\\u002f\\u002f\\u002f2fLm8T2P\\u002f\\u002f\\u002fz7vMzPY\\u002f\\u002f\\u002f\\u002ffDf7U9j\\u002f\\u002f\\u002f+9fL932P\\u002f\\u002f\\u002fV1Bg5fY\\u002f\\u002f\\u002f+\\u002fQJHt9j\\u002f\\u002f\\u002f8+SwvX2P\\u002f\\u002f\\u002f3+Tz\\u002ffY\\u002f\\u002f\\u002f9H1SQG9z\\u002f\\u002f\\u002f1cnVg73P\\u002f\\u002f\\u002fvxeHFvc\\u002f\\u002f\\u002f\\u002fPabge9z\\u002f\\u002f\\u002fzda6Sb3P\\u002f\\u002f\\u002fR6waL\\u002fc\\u002f\\u002f\\u002f9X\\u002fks39z\\u002f\\u002f\\u002f7\\u002fufD\\u002f3P\\u002f\\u002f\\u002fz0CuR\\u002fc\\u002f\\u002f\\u002f83Md9P9z\\u002f\\u002f\\u002f0eDEFj3P\\u002f\\u002f\\u002fr3NBYPc\\u002f\\u002f\\u002f+\\u002fxXJo9z\\u002f\\u002f\\u002fye2o3D3P\\u002f\\u002f\\u002fNwjVePc\\u002f\\u002f\\u002f9HWgaB9z\\u002f\\u002f\\u002f69KN4n3P\\u002f\\u002f\\u002fFztokfc\\u002f\\u002f\\u002f8njZmZ9z\\u002f\\u002f\\u002fzffyqH3P\\u002f\\u002f\\u002fn8\\u002f7qfc\\u002f\\u002f\\u002f+vIS2y9z\\u002f\\u002f\\u002fxcSXrr3P\\u002f\\u002f\\u002fJ2SPwvc\\u002f\\u002f\\u002f83tsDK9z\\u002f\\u002f\\u002f5+m8dL3P\\u002f\\u002f\\u002fB5ci2\\u002fc\\u002f\\u002f\\u002f8X6VPj9z\\u002f\\u002f\\u002fyc7hev3P\\u002f\\u002f\\u002fjyu28\\u002fc\\u002f\\u002f\\u002f+ffef79z\\u002f\\u002f\\u002fwduGAT4P\\u002f\\u002f\\u002fF8BJDPg\\u002f\\u002f\\u002f8nEnsU+D\\u002f\\u002f\\u002f48CrBz4P\\u002f\\u002f\\u002fn1TdJPg\\u002f\\u002f\\u002f8HRQ4t+D\\u002f\\u002f\\u002fxeXPzX4P\\u002f\\u002f\\u002fJ+lwPfg\\u002f\\u002f\\u002f+P2aFF+D\\u002f\\u002f\\u002f\\u002ffJ0k34P\\u002f\\u002f\\u002fBxwEVvg\\u002f\\u002f\\u002f8XbjVe+D\\u002f\\u002f\\u002f39eZmb4P\\u002f\\u002f\\u002fj7CXbvg\\u002f\\u002f\\u002f\\u002f3oMh2+D\\u002f\\u002f\\u002fwfz+X74P\\u002f\\u002f\\u002fF0Urh\\u002fg\\u002f\\u002f\\u002f9\\u002fNVyP+D\\u002f\\u002f\\u002f+cljZf4P\\u002f\\u002f\\u002f93e+n\\u002fg\\u002f\\u002f\\u002f8Hyu+n+D\\u002f\\u002f\\u002f2+6ILD4P\\u002f\\u002f\\u002ffwxSuPg\\u002f\\u002f\\u002f\\u002fn\\u002fILA+D\\u002f\\u002f\\u002f\\u002fdOtMj4P\\u002f\\u002f\\u002fB6Hl0Pg\\u002f\\u002f\\u002f9vkRbZ+D\\u002f\\u002f\\u002f3\\u002fjR+H4P\\u002f\\u002f\\u002f59N46fg\\u002f\\u002f\\u002f\\u002f3Jarx+D\\u002f\\u002f\\u002f18W2\\u002fn4P\\u002f\\u002f\\u002fb2gMAvk\\u002f\\u002f\\u002f\\u002fXWD0K+T\\u002f\\u002f\\u002f+eqbhL5P\\u002f\\u002f\\u002fT5ufGvk\\u002f\\u002f\\u002f9f7dAi+T\\u002f\\u002f\\u002f28\\u002fAiv5P\\u002f\\u002f\\u002f1y8zM\\u002fk\\u002f\\u002f\\u002f\\u002fngWQ7+T\\u002f\\u002f\\u002f09ylUP5P\\u002f\\u002f\\u002fX8TGS\\u002fk\\u002f\\u002f\\u002f\\u002fHtPdT+T\\u002f\\u002f\\u002f9cGKVz5P\\u002f\\u002f\\u002fP\\u002fdZZPk\\u002f\\u002f\\u002f9PSYts+T\\u002f\\u002f\\u002f1+bvHT5P\\u002f\\u002f\\u002fx4vtfPk\\u002f\\u002f\\u002f8vfB6F+T\\u002f\\u002f\\u002fz\\u002fOT435P\\u002f\\u002f\\u002fTyCBlfk\\u002f\\u002f\\u002f+3ELKd+T\\u002f\\u002f\\u002f8di46X5P\\u002f\\u002f\\u002fL1MUrvk\\u002f\\u002f\\u002f8\\u002fpUW2+T\\u002f\\u002f\\u002f0\\u002f3dr75P\\u002f\\u002f\\u002ft+enxvk\\u002f\\u002f\\u002f\\u002fHOdnO+T\\u002f\\u002f\\u002fy8qCtf5P\\u002f\\u002f\\u002fP3w73\\u002fk\\u002f\\u002f\\u002f9Pzmzn+T\\u002f\\u002f\\u002f7e+ne\\u002f5P\\u002f\\u002f\\u002fH6\\u002fO9\\u002fk\\u002f\\u002f\\u002f8vAQAA+j\\u002f\\u002f\\u002fz9TMQj6P\\u002f\\u002f\\u002fp0NiEPo\\u002f\\u002f\\u002f+3lZMY+j\\u002f\\u002f\\u002fx+GxCD6P\\u002f\\u002f\\u002fL9j1KPo\\u002f\\u002f\\u002f8\\u002fKicx+j\\u002f\\u002f\\u002f6caWDn6P\\u002f\\u002f\\u002fDwuJQfo\\u002f\\u002f\\u002f8fXbpJ+j\\u002f\\u002f\\u002fy+v61H6P\\u002f\\u002f\\u002fl58cWvo\\u002f\\u002f\\u002f+n8U1i+j\\u002f\\u002f\\u002fw\\u002fifmr6P\\u002f\\u002f\\u002fHzSwcvo\\u002f\\u002f\\u002f8vhuF6+j\\u002f\\u002f\\u002f5d2EoP6P\\u002f\\u002f\\u002fp8hDi\\u002fo\\u002f\\u002f\\u002f8PuXST+j\\u002f\\u002f\\u002fx8Lppv6P\\u002f\\u002f\\u002fh\\u002fvWo\\u002fo\\u002f\\u002f\\u002f+XTQis+j\\u002f\\u002f\\u002f\\u002f89ObT6P\\u002f\\u002f\\u002fD5BqvPo\\u002f\\u002f\\u002f8f4pvE+j\\u002f\\u002f\\u002f4fSzMz6P\\u002f\\u002f\\u002flyT+1Po\\u002f\\u002f\\u002f\\u002f\\u002fFC\\u002fd+j\\u002f\\u002f\\u002fw9nYOX6P\\u002f\\u002f\\u002fd1eR7fo\\u002f\\u002f\\u002f+HqcL1+j\\u002f\\u002f\\u002f++Z8\\u002f36P\\u002f\\u002f\\u002f\\u002f+skBvs\\u002f\\u002f\\u002f9n3FUO+z\\u002f\\u002f\\u002f3cuhxb7P\\u002f\\u002f\\u002fh4C4Hvs\\u002f\\u002f\\u002f\\u002fvcOkm+z\\u002f\\u002f\\u002f1dhGi\\u002f7Pw==\"},\"y\":{\"dtype\":\"f8\",\"bdata\":\"jq8SdbLJ0D88XSwJ7cbQP7QUA7QnxNA\\u002fCd05nGLB0D9W7s00nr7QP5CbzMnbu9A\\u002feXJfDh+50D948yOAcrbQP1XD5K3zs9A\\u002fx67QWfWx0D8SDYTLXbHQPxbiNkymttA\\u002f+DVEmirH0D9JPsfuCvXQP5haoEQcctE\\u002fObbjHt+60j80kXRnu8zVP0imDAQgzNs\\u002fpjY2AkcC4j\\u002fGkahgoezkP6b0daHBFOQ\\u002f8LxmKakQ4D948MxoAe3XP+PArDPOM9M\\u002fiJMEXWRg0T9YtkSG7NbQPxJtD40CtNA\\u002fC05\\u002fW26r0D80EaRBLanQP3QILzt0qNA\\u002fkj4Txyio0D8xc0h6HqjQP3ZwPmyHqNA\\u002flLzNcQyq0D+H0e\\u002f9Ya7QP9qmRTKQudA\\u002f\\u002fH1RJx7T0D8Zk3DmbgHRP9rKKG13ONE\\u002fRsqDqn9R0T+tc4zYvzLRP44Ts0p79tA\\u002fFzfmhtvG0D+4WCnVtq\\u002fQP5rrhGhtp9A\\u002fYRw9ptSk0D+twDTbCKTQP4hgofDwo9A\\u002fHzEIxouk0D85IyD+m6bQP+XFf8I8rNA\\u002fvMx9WbW60D+rknhRDd\\u002fQPzWFqXo5OdE\\u002fd4khuS0X0j9P82jJBTbUPxiAgIBdXNk\\u002f6\\u002fp+PrLT4j9W\\u002fYQkbkzwP8QvLlzYKv0\\u002fXKcwX\\u002fy\\u002fBkCMHgJprwcLQKa6zQ2v+AZAnAZ7Rfp8\\u002fD9wF4tFhDvtPzFwOcsNbN8\\u002ftneDSpty1T\\u002f1ExYuMCzSPxOj6PYGH9E\\u002f7GBQD\\u002fjH0D9JvGxOj6vQP7ShTvOLotA\\u002fnbV7vbSg0D9JFUXtH6PQP3Vnh6lgq9A\\u002fVHRzP+i\\u002f0D++6dEsnPDQP5008w6TYtE\\u002fwmdZjUxr0j+hN4ODuc7UP1k7\\u002fZyoS9o\\u002f5UJxQ3tr4z\\u002fyXIA+Sc\\u002fwP\\u002f6qPU4IIgBAsJOOsa22DkD+Qpa1Be8YQJcK7pQoIx5ANBerRFpTGUCUJsOcNz4OQBhhZiT0\\u002ffw\\u002f8BUH9HVS6z87HMwmtpzeP1jIf97nw9U\\u002f5zylJDmE0j\\u002f6zrWaAVDRP7I6zemP3NA\\u002fpz\\u002fvzP6u0D87CcBSfZvQP1Ujb7cxktA\\u002f\\u002f2euRdOM0D8TKGlvBInQP3wPUq\\u002fqhdA\\u002f7NC3AlCD0D\\u002fCLbM9YoHQP7Tc3wXFgNA\\u002f\\u002fl7Kl\\u002fSC0D9NiPiwMIvQPxt\\u002fxjJ7oNA\\u002fnQczMNnR0D\\u002fAqyW4VT\\u002fRPzFntv\\u002fyLNI\\u002fT5alxYoo1D9CTM0\\u002f\\u002fjfYP8oFEk2ZRt8\\u002fkMkuQFSK4z\\u002f2HpqVYWzkP5C1hKwGIOE\\u002fCmeD+j3Q2T9YCHEQqILUPxOPvS4UENI\\u002fF9xZfw0I0T\\u002fEu+xg3JjQP1IAx5i\\u002faNA\\u002fOkbRiNBS0D87cH8j1EfQP1ACZ850QdA\\u002fI\\u002fW5+Ao90D+n0PqydznQP+CrA\\u002fJANtA\\u002fgxLBdzIz0D81le3VNTDQP9qBso1BLdA\\u002ffxxR\\u002flEq0D\\u002fk0i2nZifQP51YXI+BJNA\\u002fSqdFOagh0D+fdbZ\\u002f5h7QP8AngsRUHNA\\u002f0zZtjyQa0D80y7zjuRjQPzOL29HdGNA\\u002fBa\\u002f17yIc0D+FboYkrCXQP2iNtk20O9A\\u002fXY7mp4hq0D8vU8n7fsnQP+98ZEOteNE\\u002fv6WVVkBl0j+Xesv73OPSP\\u002fpCb9aJXdI\\u002f+hS2d0pf0T8gLS\\u002fidqTQP\\u002ffbaYXCQtA\\u002fPmyrNXUT0D9Zzgc02\\u002ffPP8dmA6fE3s8\\u002fhsEi2uDPzz88vGcdwMXPP7Yymhjcvc8\\u002fXF337wa3zz\\u002fOX2wLs7DPP0JbRw2eqs8\\u002f+X7xhKmkzz9zzM0ayZ7PP6qdNjn7mM8\\u002fARX+pEeTzz8wd6rTwo3PPxMGoj+XiM8\\u002fe0yPzhiEzz93F6286oDPP5Dg4ahIgM8\\u002f28RbFZKEzz\\u002fwp+kLVJLPP2IISVBAss8\\u002fR4tCueP0zz8\\u002fTLFK0TzQP1p+lonovdA\\u002fN7mHTpS10T9DV8TDpozTPx6hWJkgB9c\\u002fRmmWejCS3T\\u002f0hgoX3erkP7iHEUT0LfA\\u002f45\\u002fkqs\\u002fP+j8IPOndajsHQCrtaOHBahRAWyu8HafZIEDQYD0ApH4mQIpTQ\\u002fwsaCVAV5MQ18NaHUBwgpa9v7AQQGXcmAU4RwJArb\\u002fkU+XD9D82oxGxUErpP+6V0RHZ6eA\\u002fqH6arqQl2T+9BfLeYqHUPx6X42cnRdI\\u002f5kg7GRsI0T8sNtiiHGHQP2\\u002fPy6jbCNA\\u002f+ZzPzjK0zz8MzXj8mYLPPzEWsi9YaM8\\u002flhSE3Ypazz\\u002fQQh\\u002fmaVPPPwwgmfbfT88\\u002fm9qkbUZOzz\\u002ffOaYSuk3PP0307D\\u002fATc8\\u002fVu0ggRZOzz\\u002foJdmwmE7PP4inXhEzT88\\u002fWo8J0dpPzz9V5MD7iVDPP4e120c9Uc8\\u002fKYr44vJRzz+JM4rJqVLPPzPaqWphU88\\u002fqMkodRlUzz\\u002fAUli70VTPPwFxiiOKVc8\\u002fPvQfn0JWzz\\u002fadM8l+1bPPwjx37KzV88\\u002fT2eTQ2xYzz\\u002fvhHHWJFnPP4OAi2rdWc8\\u002fxVJd\\u002f5Vazz\\u002fvf5qUTlvPP5NBDCoHXM8\\u002fuUGtv79czz\\u002f+B2RVeF3PP\\u002fqtJ+swXs8\\u002fVvbygOlezz+nfbgWol\\u002fPP8wHi6xaYM8\\u002f2DNfQhNhzz+lXjTYy2HPPxQqCm6EYs8\\u002f5RfWAz1jzz+RrKyZ9WPPPwGkgy+uZM8\\u002f2SVbxWZlzz9giDNbH2bPP9QiA\\u002fHXZs8\\u002f1rTfhpBnzz8YAsEcSWjPPwaxqrIBac8\\u002fjjGjSLppzz9ShqvecmrPP8MV7HQra88\\u002fdid9C+Rrzz\\u002fH6JqinGzPP1DNrTpVbc8\\u002f\\u002fDRg1A1uzz+Xc\\u002f5wxm7PP6BPlhJ\\u002fb88\\u002fkfK+vDdwzz+XBJx18HDPP6Kimkepcc8\\u002fnj2ZRGJyzz\\u002fwibKKG3PPPw6G2UzVc88\\u002fDlDi4I90zz8sNf3WS3XPP\\u002fMh9aqDdM8\\u002fyNDFZNZxzz8H2B2mL2\\u002fPP8rWrsuTbM8\\u002fRUkJDwpqzz\\u002fPcEJenmfPP8YVw2BkZc8\\u002f\\u002fodqXHxjzz+H1sEuG2LPP0vzUS2XYc8\\u002f3zFg9Hxizz\\u002fkENvtsGXPP6h8UQilbM8\\u002fw+ui6K55zz86ZUE6kZDPP5chqsFWt88\\u002fr9G5gq33zz9cUm3ChjDQP5HcjXYOhtA\\u002fg31x2wQQ0T+PvXDQdu3RPy4cQHt6T9M\\u002fHXk+7XKD1T9VBJBTpALZP1+USFlbg94\\u002fPdgD149q4z+CPFjGv93oP7RYnufyze0\\u002fuFDqf4Ed7z\\u002fUxTm0sLnrPwbB+iuKEeY\\u002f6pamKQ\\u002f\\u002f4D9kI0Ti5vfaP3qpZhwrjtY\\u002fSJXoJ9nY0z99deJV+y\\u002fSP\\u002fwt3Sr0KtE\\u002fPCSJOwqK0D9yOqM6bibQP2\\u002f5BD\\u002fi0M8\\u002fhIiOIi6Dzz\\u002fyd8yu\\u002flHPP2thJjlsMs8\\u002f5u9iUMAdzz+7oKMD1w\\u002fPPz+5zzchBs8\\u002fEQyVJwn\\u002fzj9I6hX5kvnOP++fyA0i9c4\\u002fXpQtzlTxzj+5LjhJ7u3OP3Wo5V\\u002fI6s4\\u002ffqL\\u002fK8vnzj+Rt0ur5+TOPxehzWsU4s4\\u002f9GJieUvfzj8KxioRidzOP+y86NHK2c4\\u002flpOiOQ\\u002fXzj9tvdxSVdTOP+63+YGc0c4\\u002fI7D6Y+TOzj9smim6LMzOP2YOWV11yc4\\u002fCHs8Nb7Gzj8blHY0B8TOP7b2PVVQwc4\\u002fNnhVmJm+zj+zk0UF47vOP+DwGqssuc4\\u002fdCcapHa2zj8U4+MZwbPOPzQLIE0Msc4\\u002fnfccoViuzj9SV76spqvOP0+VnFX3qM4\\u002f02gO90umzj9oNUydpqPOP1buRF0Koc4\\u002feVEW2Huezj9S7ar9AZzOP00iHyynmc4\\u002f390y2XqXzj9Mo1MFlJXOPw==\"},\"type\":\"scatter\"}],                        {\"legend\":{\"x\":1.0,\"xanchor\":\"right\",\"y\":1.0,\"yanchor\":\"top\"},\"margin\":{\"autoexpand\":true,\"b\":45,\"r\":30,\"t\":40},\"title\":{\"text\":\"Measured vs Calculated data for experiment \\ud83d\\udd2c 'sim_lbco'\"},\"xaxis\":{\"mirror\":true,\"showline\":true,\"title\":{\"text\":\"d (\\u00c5)\"},\"zeroline\":false,\"tickformat\":\",.6~g\",\"separatethousands\":true},\"yaxis\":{\"mirror\":true,\"showline\":true,\"title\":{\"text\":\"Intensity (arb. units)\"},\"zeroline\":false,\"tickformat\":\",.6~g\",\"separatethousands\":true},\"template\":{\"data\":{\"histogram2dcontour\":[{\"type\":\"histogram2dcontour\",\"colorbar\":{\"outlinewidth\":0,\"ticks\":\"\"},\"colorscale\":[[0.0,\"#0d0887\"],[0.1111111111111111,\"#46039f\"],[0.2222222222222222,\"#7201a8\"],[0.3333333333333333,\"#9c179e\"],[0.4444444444444444,\"#bd3786\"],[0.5555555555555556,\"#d8576b\"],[0.6666666666666666,\"#ed7953\"],[0.7777777777777778,\"#fb9f3a\"],[0.8888888888888888,\"#fdca26\"],[1.0,\"#f0f921\"]]}],\"choropleth\":[{\"type\":\"choropleth\",\"colorbar\":{\"outlinewidth\":0,\"ticks\":\"\"}}],\"histogram2d\":[{\"type\":\"histogram2d\",\"colorbar\":{\"outlinewidth\":0,\"ticks\":\"\"},\"colorscale\":[[0.0,\"#0d0887\"],[0.1111111111111111,\"#46039f\"],[0.2222222222222222,\"#7201a8\"],[0.3333333333333333,\"#9c179e\"],[0.4444444444444444,\"#bd3786\"],[0.5555555555555556,\"#d8576b\"],[0.6666666666666666,\"#ed7953\"],[0.7777777777777778,\"#fb9f3a\"],[0.8888888888888888,\"#fdca26\"],[1.0,\"#f0f921\"]]}],\"heatmap\":[{\"type\":\"heatmap\",\"colorbar\":{\"outlinewidth\":0,\"ticks\":\"\"},\"colorscale\":[[0.0,\"#0d0887\"],[0.1111111111111111,\"#46039f\"],[0.2222222222222222,\"#7201a8\"],[0.3333333333333333,\"#9c179e\"],[0.4444444444444444,\"#bd3786\"],[0.5555555555555556,\"#d8576b\"],[0.6666666666666666,\"#ed7953\"],[0.7777777777777778,\"#fb9f3a\"],[0.8888888888888888,\"#fdca26\"],[1.0,\"#f0f921\"]]}],\"contourcarpet\":[{\"type\":\"contourcarpet\",\"colorbar\":{\"outlinewidth\":0,\"ticks\":\"\"}}],\"contour\":[{\"type\":\"contour\",\"colorbar\":{\"outlinewidth\":0,\"ticks\":\"\"},\"colorscale\":[[0.0,\"#0d0887\"],[0.1111111111111111,\"#46039f\"],[0.2222222222222222,\"#7201a8\"],[0.3333333333333333,\"#9c179e\"],[0.4444444444444444,\"#bd3786\"],[0.5555555555555556,\"#d8576b\"],[0.6666666666666666,\"#ed7953\"],[0.7777777777777778,\"#fb9f3a\"],[0.8888888888888888,\"#fdca26\"],[1.0,\"#f0f921\"]]}],\"surface\":[{\"type\":\"surface\",\"colorbar\":{\"outlinewidth\":0,\"ticks\":\"\"},\"colorscale\":[[0.0,\"#0d0887\"],[0.1111111111111111,\"#46039f\"],[0.2222222222222222,\"#7201a8\"],[0.3333333333333333,\"#9c179e\"],[0.4444444444444444,\"#bd3786\"],[0.5555555555555556,\"#d8576b\"],[0.6666666666666666,\"#ed7953\"],[0.7777777777777778,\"#fb9f3a\"],[0.8888888888888888,\"#fdca26\"],[1.0,\"#f0f921\"]]}],\"mesh3d\":[{\"type\":\"mesh3d\",\"colorbar\":{\"outlinewidth\":0,\"ticks\":\"\"}}],\"scatter\":[{\"fillpattern\":{\"fillmode\":\"overlay\",\"size\":10,\"solidity\":0.2},\"type\":\"scatter\"}],\"parcoords\":[{\"type\":\"parcoords\",\"line\":{\"colorbar\":{\"outlinewidth\":0,\"ticks\":\"\"}}}],\"scatterpolargl\":[{\"type\":\"scatterpolargl\",\"marker\":{\"colorbar\":{\"outlinewidth\":0,\"ticks\":\"\"}}}],\"bar\":[{\"error_x\":{\"color\":\"#2a3f5f\"},\"error_y\":{\"color\":\"#2a3f5f\"},\"marker\":{\"line\":{\"color\":\"white\",\"width\":0.5},\"pattern\":{\"fillmode\":\"overlay\",\"size\":10,\"solidity\":0.2}},\"type\":\"bar\"}],\"scattergeo\":[{\"type\":\"scattergeo\",\"marker\":{\"colorbar\":{\"outlinewidth\":0,\"ticks\":\"\"}}}],\"scatterpolar\":[{\"type\":\"scatterpolar\",\"marker\":{\"colorbar\":{\"outlinewidth\":0,\"ticks\":\"\"}}}],\"histogram\":[{\"marker\":{\"pattern\":{\"fillmode\":\"overlay\",\"size\":10,\"solidity\":0.2}},\"type\":\"histogram\"}],\"scattergl\":[{\"type\":\"scattergl\",\"marker\":{\"colorbar\":{\"outlinewidth\":0,\"ticks\":\"\"}}}],\"scatter3d\":[{\"type\":\"scatter3d\",\"line\":{\"colorbar\":{\"outlinewidth\":0,\"ticks\":\"\"}},\"marker\":{\"colorbar\":{\"outlinewidth\":0,\"ticks\":\"\"}}}],\"scattermap\":[{\"type\":\"scattermap\",\"marker\":{\"colorbar\":{\"outlinewidth\":0,\"ticks\":\"\"}}}],\"scattermapbox\":[{\"type\":\"scattermapbox\",\"marker\":{\"colorbar\":{\"outlinewidth\":0,\"ticks\":\"\"}}}],\"scatterternary\":[{\"type\":\"scatterternary\",\"marker\":{\"colorbar\":{\"outlinewidth\":0,\"ticks\":\"\"}}}],\"scattercarpet\":[{\"type\":\"scattercarpet\",\"marker\":{\"colorbar\":{\"outlinewidth\":0,\"ticks\":\"\"}}}],\"carpet\":[{\"aaxis\":{\"endlinecolor\":\"#2a3f5f\",\"gridcolor\":\"#C8D4E3\",\"linecolor\":\"#C8D4E3\",\"minorgridcolor\":\"#C8D4E3\",\"startlinecolor\":\"#2a3f5f\"},\"baxis\":{\"endlinecolor\":\"#2a3f5f\",\"gridcolor\":\"#C8D4E3\",\"linecolor\":\"#C8D4E3\",\"minorgridcolor\":\"#C8D4E3\",\"startlinecolor\":\"#2a3f5f\"},\"type\":\"carpet\"}],\"table\":[{\"cells\":{\"fill\":{\"color\":\"#EBF0F8\"},\"line\":{\"color\":\"white\"}},\"header\":{\"fill\":{\"color\":\"#C8D4E3\"},\"line\":{\"color\":\"white\"}},\"type\":\"table\"}],\"barpolar\":[{\"marker\":{\"line\":{\"color\":\"white\",\"width\":0.5},\"pattern\":{\"fillmode\":\"overlay\",\"size\":10,\"solidity\":0.2}},\"type\":\"barpolar\"}],\"pie\":[{\"automargin\":true,\"type\":\"pie\"}]},\"layout\":{\"autotypenumbers\":\"strict\",\"colorway\":[\"#636efa\",\"#EF553B\",\"#00cc96\",\"#ab63fa\",\"#FFA15A\",\"#19d3f3\",\"#FF6692\",\"#B6E880\",\"#FF97FF\",\"#FECB52\"],\"font\":{\"color\":\"#2a3f5f\"},\"hovermode\":\"closest\",\"hoverlabel\":{\"align\":\"left\"},\"paper_bgcolor\":\"white\",\"plot_bgcolor\":\"white\",\"polar\":{\"bgcolor\":\"white\",\"angularaxis\":{\"gridcolor\":\"#EBF0F8\",\"linecolor\":\"#EBF0F8\",\"ticks\":\"\"},\"radialaxis\":{\"gridcolor\":\"#EBF0F8\",\"linecolor\":\"#EBF0F8\",\"ticks\":\"\"}},\"ternary\":{\"bgcolor\":\"white\",\"aaxis\":{\"gridcolor\":\"#DFE8F3\",\"linecolor\":\"#A2B1C6\",\"ticks\":\"\"},\"baxis\":{\"gridcolor\":\"#DFE8F3\",\"linecolor\":\"#A2B1C6\",\"ticks\":\"\"},\"caxis\":{\"gridcolor\":\"#DFE8F3\",\"linecolor\":\"#A2B1C6\",\"ticks\":\"\"}},\"coloraxis\":{\"colorbar\":{\"outlinewidth\":0,\"ticks\":\"\"}},\"colorscale\":{\"sequential\":[[0.0,\"#0d0887\"],[0.1111111111111111,\"#46039f\"],[0.2222222222222222,\"#7201a8\"],[0.3333333333333333,\"#9c179e\"],[0.4444444444444444,\"#bd3786\"],[0.5555555555555556,\"#d8576b\"],[0.6666666666666666,\"#ed7953\"],[0.7777777777777778,\"#fb9f3a\"],[0.8888888888888888,\"#fdca26\"],[1.0,\"#f0f921\"]],\"sequentialminus\":[[0.0,\"#0d0887\"],[0.1111111111111111,\"#46039f\"],[0.2222222222222222,\"#7201a8\"],[0.3333333333333333,\"#9c179e\"],[0.4444444444444444,\"#bd3786\"],[0.5555555555555556,\"#d8576b\"],[0.6666666666666666,\"#ed7953\"],[0.7777777777777778,\"#fb9f3a\"],[0.8888888888888888,\"#fdca26\"],[1.0,\"#f0f921\"]],\"diverging\":[[0,\"#8e0152\"],[0.1,\"#c51b7d\"],[0.2,\"#de77ae\"],[0.3,\"#f1b6da\"],[0.4,\"#fde0ef\"],[0.5,\"#f7f7f7\"],[0.6,\"#e6f5d0\"],[0.7,\"#b8e186\"],[0.8,\"#7fbc41\"],[0.9,\"#4d9221\"],[1,\"#276419\"]]},\"xaxis\":{\"gridcolor\":\"#EBF0F8\",\"linecolor\":\"#EBF0F8\",\"ticks\":\"\",\"title\":{\"standoff\":15},\"zerolinecolor\":\"#EBF0F8\",\"automargin\":true,\"zerolinewidth\":2},\"yaxis\":{\"gridcolor\":\"#EBF0F8\",\"linecolor\":\"#EBF0F8\",\"ticks\":\"\",\"title\":{\"standoff\":15},\"zerolinecolor\":\"#EBF0F8\",\"automargin\":true,\"zerolinewidth\":2},\"scene\":{\"xaxis\":{\"backgroundcolor\":\"white\",\"gridcolor\":\"#DFE8F3\",\"linecolor\":\"#EBF0F8\",\"showbackground\":true,\"ticks\":\"\",\"zerolinecolor\":\"#EBF0F8\",\"gridwidth\":2},\"yaxis\":{\"backgroundcolor\":\"white\",\"gridcolor\":\"#DFE8F3\",\"linecolor\":\"#EBF0F8\",\"showbackground\":true,\"ticks\":\"\",\"zerolinecolor\":\"#EBF0F8\",\"gridwidth\":2},\"zaxis\":{\"backgroundcolor\":\"white\",\"gridcolor\":\"#DFE8F3\",\"linecolor\":\"#EBF0F8\",\"showbackground\":true,\"ticks\":\"\",\"zerolinecolor\":\"#EBF0F8\",\"gridwidth\":2}},\"shapedefaults\":{\"line\":{\"color\":\"#2a3f5f\"}},\"annotationdefaults\":{\"arrowcolor\":\"#2a3f5f\",\"arrowhead\":0,\"arrowwidth\":1},\"geo\":{\"bgcolor\":\"white\",\"landcolor\":\"white\",\"subunitcolor\":\"#C8D4E3\",\"showland\":true,\"showlakes\":true,\"lakecolor\":\"white\"},\"title\":{\"x\":0.05},\"mapbox\":{\"style\":\"light\"}}}},                        {\"displaylogo\": false, \"modeBarButtonsToRemove\": [\"select2d\", \"lasso2d\", \"zoomIn2d\", \"zoomOut2d\", \"autoScale2d\"], \"responsive\": true}                    )                };            </script>        </div>"
      ],
      "text/plain": [
       "<IPython.core.display.HTML object>"
      ]
     },
     "metadata": {},
     "output_type": "display_data"
    }
   ],
   "source": [
    "project_1.plot_meas_vs_calc(expt_name='sim_si', x_min=1, x_max=1.7, d_spacing=True)\n",
    "project_2.plot_meas_vs_calc(expt_name='sim_lbco', x_min=1, x_max=1.7, d_spacing=True)"
   ]
  },
  {
   "cell_type": "markdown",
   "id": "189",
   "metadata": {},
   "source": [
    "#### Exercise 5.10: Create a Second Sample Model – Si as Impurity\n",
    "\n",
    "Create a second sample model for the Si phase, which is the impurity phase\n",
    "identified in the previous step. Link this sample model to the LBCO\n",
    "experiment."
   ]
  },
  {
   "cell_type": "markdown",
   "id": "190",
   "metadata": {},
   "source": [
    "**Hint:**"
   ]
  },
  {
   "cell_type": "markdown",
   "id": "191",
   "metadata": {},
   "source": [
    "You can use the same approach as in the previous part of the\n",
    "notebook, but this time you need to create a sample model for Si and link it\n",
    "to the LBCO experiment."
   ]
  },
  {
   "cell_type": "markdown",
   "id": "192",
   "metadata": {},
   "source": [
    "**Solution:**"
   ]
  },
  {
   "cell_type": "code",
   "execution_count": 49,
   "id": "193",
   "metadata": {
    "execution": {
     "iopub.execute_input": "2025-08-31T19:33:17.460996Z",
     "iopub.status.busy": "2025-08-31T19:33:17.460903Z",
     "iopub.status.idle": "2025-08-31T19:33:17.467389Z",
     "shell.execute_reply": "2025-08-31T19:33:17.467074Z"
    }
   },
   "outputs": [],
   "source": [
    "# Set Space Group\n",
    "project_2.sample_models.add(name='si')\n",
    "project_2.sample_models['si'].space_group.name_h_m = 'F d -3 m'\n",
    "project_2.sample_models['si'].space_group.it_coordinate_system_code = '2'\n",
    "\n",
    "# Set Lattice Parameters\n",
    "project_2.sample_models['si'].cell.length_a = 5.43\n",
    "\n",
    "# Set Atom Sites\n",
    "project_2.sample_models['si'].atom_sites.add(\n",
    "    label='Si',\n",
    "    type_symbol='Si',\n",
    "    fract_x=0,\n",
    "    fract_y=0,\n",
    "    fract_z=0,\n",
    "    wyckoff_letter='a',\n",
    "    b_iso=0.89,\n",
    ")\n",
    "\n",
    "# Assign Sample Model to Experiment\n",
    "project_2.experiments['sim_lbco'].linked_phases.add(id='si', scale=1.0)"
   ]
  },
  {
   "cell_type": "markdown",
   "id": "194",
   "metadata": {},
   "source": [
    "#### Exercise 5.11: Refine the Scale of the Si Phase\n",
    "\n",
    "Visualize the measured diffraction pattern and the calculated diffraction\n",
    "pattern. Check if the Si phase is contributing to the calculated diffraction\n",
    "pattern. Refine the scale factor of the Si phase to improve the fit."
   ]
  },
  {
   "cell_type": "markdown",
   "id": "195",
   "metadata": {},
   "source": [
    "**Hint:**"
   ]
  },
  {
   "cell_type": "markdown",
   "id": "196",
   "metadata": {},
   "source": [
    "You can use the `plot_meas_vs_calc` method of the project to\n",
    "visualize the patterns. Then, set the `free` attribute of the `scale`\n",
    "parameter of the Si phase to `True` to allow the fitting process to adjust\n",
    "the scale factor."
   ]
  },
  {
   "cell_type": "markdown",
   "id": "197",
   "metadata": {},
   "source": [
    "**Solution:**"
   ]
  },
  {
   "cell_type": "code",
   "execution_count": 50,
   "id": "198",
   "metadata": {
    "execution": {
     "iopub.execute_input": "2025-08-31T19:33:17.468846Z",
     "iopub.status.busy": "2025-08-31T19:33:17.468768Z",
     "iopub.status.idle": "2025-08-31T19:33:30.029913Z",
     "shell.execute_reply": "2025-08-31T19:33:30.015380Z"
    }
   },
   "outputs": [
    {
     "data": {
      "text/html": [
       "<div>                        <script type=\"text/javascript\">window.PlotlyConfig = {MathJaxConfig: 'local'};</script>\n",
       "        <script charset=\"utf-8\" src=\"https://cdn.plot.ly/plotly-3.1.0.min.js\" integrity=\"sha256-Ei4740bWZhaUTQuD6q9yQlgVCMPBz6CZWhevDYPv93A=\" crossorigin=\"anonymous\"></script>                <div id=\"efd9cf41-0871-48fa-912c-89bbf6119394\" class=\"plotly-graph-div\" style=\"height:100%; width:100%;\"></div>            <script type=\"text/javascript\">                window.PLOTLYENV=window.PLOTLYENV || {};                                if (document.getElementById(\"efd9cf41-0871-48fa-912c-89bbf6119394\")) {                    Plotly.newPlot(                        \"efd9cf41-0871-48fa-912c-89bbf6119394\",                        [{\"line\":{\"color\":\"rgb(31, 119, 180)\"},\"mode\":\"lines+markers\",\"name\":\"Measured (Imeas)\",\"x\":{\"dtype\":\"f8\",\"bdata\":\"k6mCUTXg6kC28\\u002f3U5O7qQPH0SlmU\\u002fepAK\\u002faX3UMM60Bm9+Rh8xrrQKH4MeaiKetAxEKtaVI460D+Q\\u002frtAUfrQDlFR3KxVetAdEaU9mBk60CXkA96EHPrQNGRXP6\\u002fgetADJOpgm+Q60BGlPYGH5\\u002frQIGVQ4vOretApN++Dn6860Df4AuTLcvrQBniWBfd2etAVOOlm4zo60CP5PIfPPfrQLIubqPrBexA7C+7J5sU7EAnMQisSiPsQGEyVTD6MexAnDOitKlA7EC\\u002ffR04WU\\u002fsQPp+arwIXuxANIC3QLhs7EBvgQTFZ3vsQKqCUUkXiuxAzczMzMaY7EAHzhlRdqfsQELPZtUltuxAfdCzWdXE7EC30QDehNPsQNobfGE04uxAFR3J5ePw7EBPHhZqk\\u002f\\u002fsQIofY+5CDu1AxSCwcvIc7UDoaiv2oSvtQCJseHpROu1AXW3F\\u002fgBJ7UCYbhKDsFftQNJvXwdgZu1A9bnaig917UAwuycPv4PtQGq8dJNuku1Apb3BFx6h7UDgvg6cza\\u002ftQAMJih99vu1APQrXoyzN7UB4CyQo3NvtQLMMcayL6u1A7Q2+MDv57UAQWDm06gfuQEtZhjiaFu5AhlrTvEkl7kDAWyBB+TPuQPtcbcWoQu5AHqfoSFhR7kBYqDXNB2DuQJOpglG3bu5AzqrP1WZ97kAIrBxaFozuQCv2l93Fmu5AZvfkYXWp7kCh+DHmJLjuQNv5fmrUxu5AFvvL7oPV7kA5RUdyM+TuQHRGlPbi8u5ArkfhepIB70DpSC7\\u002fQRDvQCNKe4PxHu9ARpT2BqEt70CBlUOLUDzvQLyWkA8AS+9A9pfdk69Z70AxmSoYX2jvQFTjpZsOd+9Aj+TyH76F70DJ5T+kbZTvQATnjCgdo+9AJzEIrMyx70BhMlUwfMDvQJwzorQrz+9A1zTvONvd70ARNjy9iuzvQDSAt0A6++9AuECC4vQE8EBVwaikTAzwQPJBz2akE\\u002fBAj8L1KPwa8EChZ7PqUyLwQD7o2ayrKfBA3GgAbwMx8EB56SYxWzjwQBZqTfOyP\\u002fBAKA8LtQpH8EDFjzF3Yk7wQGIQWDm6VfBAAJF++xFd8ECdEaW9aWTwQK62Yn\\u002fBa\\u002fBATDeJQRlz8EDpt68DcXrwQIY41sXIgfBAJLn8hyCJ8EA1XrpJeJDwQNPe4AvQl\\u002fBAcF8Hzief8EAN4C2Qf6bwQKpgVFLXrfBAvAUSFC+18EBZhjjWhrzwQPcGX5jew\\u002fBAlIeFWjbL8EAxCKwcjtLwQEOtad7l2fBA4C2QoD3h8EB9rrZilejwQBsv3STt7\\u002fBAuK8D50T38EDKVMGonP7wQGfV52r0BfFABFYOLUwN8UCh1jTvoxTxQD9XW7H7G\\u002fFAUPwYc1Mj8UDufD81qyrxQIv9ZfcCMvFAKH6MuVo58UDF\\u002frJ7skDxQNejcD0KSPFAdCSX\\u002f2FP8UASpb3BuVbxQK8l5IMRXvFATKYKRmll8UBeS8gHwWzxQPvL7skYdPFAmEwVjHB78UA2zTtOyILxQNNNYhAgivFA5fIf0neR8UCCc0aUz5jxQB\\u002f0bFYnoPFAvHSTGH+n8UBa9bna1q7xQGuad5wutvFACRueXoa98UCmm8Qg3sTxQEMc6+I1zPFA4JwRpY3T8UDyQc9m5drxQI\\u002fC9Sg94vFALUMc65Tp8UDKw0Kt7PDxQNxoAG9E+PFAeekmMZz\\u002f8UAWak3z8wbyQLPqc7VLDvJAUWuad6MV8kBiEFg5+xzyQACRfvtSJPJAnRGlvaor8kA6kst\\u002fAjPyQNcS8kFaOvJA6bevA7JB8kCGONbFCUnyQCS5\\u002fIdhUPJAwTkjSrlX8kBeukkMEV\\u002fyQHBfB85oZvJADeAtkMBt8kCqYFRSGHXyQEjhehRwfPJA5WGh1seD8kD3Bl+YH4vyQJSHhVp3kvJAMQisHM+Z8kDOiNLeJqHyQGwJ+aB+qPJAfa62Ytav8kAbL90kLrfyQLivA+eFvvJAVTAqqd3F8kDysFBrNc3yQARWDi2N1PJAodY07+Tb8kA\\u002fV1uxPOPyQNzXgXOU6vJAeVioNezx8kCL\\u002fWX3Q\\u002fnyQCh+jLmbAPNAxf6ye\\u002fMH80Bjf9k9Sw\\u002fzQAAAAACjFvNAEqW9wfod80CvJeSDUiXzQEymCkaqLPNA6SYxCAI080CHp1fKWTvzQJhMFYyxQvNANs07TglK80DTTWIQYVHzQHDOiNK4WPNADk+vlBBg80Af9GxWaGfzQLx0kxjAbvNAWvW52hd280D3deCcb33zQJT2Bl\\u002fHhPNAppvEIB+M80BDHOvidpPzQOCcEaXOmvNAfh04Zyai80Abnl4pfqnzQC1DHOvVsPNAysNCrS2480BnRGlvhb\\u002fzQAXFjzHdxvNAokW28zTO80Cz6nO1jNXzQFFrmnfk3PNA7uvAOTzk80CLbOf7k+vzQCntDb7r8vNAOpLLf0P680DXEvJBmwH0QHWTGATzCPRAEhQ\\u002fxkoQ9EAkufyHohf0QME5I0r6HvRAXrpJDFIm9ED7OnDOqS30QJm7lpABNfRAqmBUUlk89EBI4XoUsUP0QOVhodYIS\\u002fRAguLHmGBS9EAgY+5auFn0QDEIrBwQYfRAzojS3mdo9EBsCfmgv2\\u002f0QAmKH2MXd\\u002fRApgpGJW9+9EC4rwPnxoX0QFUwKqkejfRA8rBQa3aU9ECQMXctzpv0QC2yne8lo\\u002fRAP1dbsX2q9EDc14Fz1bH0QHlYqDUtufRAF9nO94TA9EC0WfW53Mf0QMX+sns0z\\u002fRAY3\\u002fZPYzW9EAAAAAA5N30QJ2AJsI75fRAOwFNhJPs9EBMpgpG6\\u002fP0QOkmMQhD+\\u002fRAh6dXypoC9UAkKH6M8gn1QMGopE5KEfVA001iEKIY9UBwzojS+R\\u002f1QA5Pr5RRJ\\u002fVAq8\\u002fVVqku9UBIUPwYATb1QFr1udpYPfVA93XgnLBE9UCU9gZfCEz1QDJ3LSFgU\\u002fVAz\\u002fdT47da9UDgnBGlD2L1QH4dOGdnafVAG55eKb9w9UC4HoXrFnj1QFafq61uf\\u002fVAZ0Rpb8aG9UAFxY8xHo71QKJFtvN1lfVAP8bctc2c9UDcRgN4JaT1QO7rwDl9q\\u002fVAi2zn+9Sy9UAp7Q2+LLr1QMZtNICEwfVAY+5aQtzI9UB1kxgENND1QBIUP8aL1\\u002fVAr5RliOPe9UBNFYxKO+b1QOqVsgyT7fVA+zpwzur09UCZu5aQQvz1QDY8vVKaA\\u002fZA07zjFPIK9kBxPQrXSRL2QILix5ihGfZAIGPuWvkg9kC94xQdUSj2QFpkO9+oL\\u002fZAbAn5oAA39kAJih9jWD72QKYKRiWwRfZARIts5wdN9kDhC5OpX1T2QPKwUGu3W\\u002fZAkDF3LQ9j9kAtsp3vZmr2QMoyxLG+cfZAaLPqcxZ59kB5WKg1boD2QBfZzvfFh\\u002fZAtFn1uR2P9kBR2ht8dZb2QO5aQj7NnfZAAAAAACWl9kCdgCbCfKz2QDsBTYTUs\\u002fZA2IFzRiy79kB1ApoIhML2QIenV8rbyfZAJCh+jDPR9kDBqKROi9j2QF8pyxDj3\\u002fZA\\u002fKnx0jrn9kAOT6+Uku72QKvP1Vbq9fZASFD8GEL99kDl0CLbmQT3QINRSZ3xC\\u002fdAlPYGX0kT90Aydy0hoRr3QM\\u002f3U+P4IfdAbHh6pVAp90AJ+aBnqDD3QBueXikAOPdAuB6F61c\\u002f90BWn6utr0b3QPMf0m8HTvdAkKD4MV9V90CiRbbztlz3QD\\u002fG3LUOZPdA3EYDeGZr90B6xyk6vnL3QBdIUPwVevdAKe0Nvm2B90DGbTSAxYj3QGPuWkIdkPdAAG+BBHWX90Ce76fGzJ73QK+UZYgkpvdATRWMSnyt90DqlbIM1LT3QIcW2c4rvPdAJJf\\u002fkIPD90A2PL1S28r3QNO84xQz0vdAcT0K14rZ90AOvjCZ4uD3QKs+V1s66PdAveMUHZLv90BaZDvf6fb3QPfkYaFB\\u002fvdAlWWIY5kF+EAy5q4l8Qz4QESLbOdIFPhA4QuTqaAb+EB+jLlr+CL4QBsN4C1QKvhALbKd76cx+EDKMsSx\\u002fzj4QGiz6nNXQPhABTQRNq9H+ECitDf4Bk\\u002f4QLRZ9bleVvhAUdobfLZd+EDuWkI+DmX4QIzbaABmbPhAKVyPwr1z+EA7AU2EFXv4QNiBc0ZtgvhAdQKaCMWJ+EASg8DKHJH4QLAD54x0mPhAwaikTsyf+EBfKcsQJKf4QPyp8dJ7rvhAmSoYldO1+EA2qz5XK734QEhQ\\u002fBiDxPhA5dAi29rL+ECDUUmdMtP4QCDSb1+K2vhAvVKWIeLh+EDP91PjOen4QGx4eqWR8PhACfmgZ+n3+ECneccpQf\\u002f4QET67euYBvlAVp+rrfAN+UDzH9JvSBX5QJCg+DGgHPlALSEf9Pcj+UDLoUW2Tyv5QNxGA3inMvlAescpOv85+UAXSFD8VkH5QLTIdr6uSPlAUkmdgAZQ+UBj7lpCXlf5QABvgQS2XvlAnu+nxg1m+UA7cM6IZW35QNjw9Eq9dPlA6pWyDBV8+UCHFtnObIP5QCSX\\u002f5DEivlAwhcmUxyS+UBfmEwVdJn5QHE9CtfLoPlADr4wmSOo+UCrPldbe6\\u002f5QEi\\u002ffR3TtvlA5j+k3yq++UA=\"},\"y\":{\"dtype\":\"f8\",\"bdata\":\"Ro6RutwL0D8+eTa7RpzSPwOlc1uRBtM\\u002fbbst91Am0z9IdSTJCg7UP4Nj+6elmdI\\u002fMPXJL3U5zD\\u002fshCSHPO\\u002fTPyqwfDWTKdE\\u002fBoSfnKzizT\\u002fPHD6XudLQP2ct7xDz5NQ\\u002fR9vipM2Z0T\\u002fTVztgD03WP7L5CPz17No\\u002fBTTkpWo74j8jH3quAFzxP6EN9Bf4dPU\\u002fYPwGlWGp9j\\u002fQbQCKc7zxP+FV\\u002fYpmr+c\\u002fnK\\u002f5FipR4D\\u002fY3RcceKbUP9Oy1IE4eNE\\u002fe46gr1Yt0T9Ul6zu9CvNP\\u002fWPISGFC9E\\u002fLl3jZS8W0z+krMCKS2PRPwL520lBmcU\\u002fpwEKrSEr1D\\u002fHs+pSAYfOP8QlMDK9EMw\\u002fH6L2wpEJ0j+DtLLt7e3KP3krf9k2oNE\\u002fVwRLzsqW0T9YXL6iMQnHP32K6+mnLdE\\u002fU\\u002fvtwoNl0D8S10IUAjzOP8FJxXoLzs8\\u002fPRI0+Wbj0j8s78UhR53NPwyuEmjWltA\\u002fjXA0WdNH0z8tparsG4zSP2rd\\u002f4aFK9Q\\u002fU4UWvO+u1D+kXuKEnBHZP1fFM4JFA+M\\u002fCjBUSEtG5D8pip8xWg3mP7TPMvFdQOE\\u002f79T3FwIa2D8JWApgogLXP+EtS4D6StM\\u002fBXgIISde0j83rEWJgAPRP7CVjV7uZdM\\u002fBGD64UtByz8ymLoDgrjOP5jltZeZts8\\u002f6YS3C4UTzz\\u002fbp778UqDRP52tTDoihtE\\u002fWHkIogBG0j8hs7Dm0A7RP0nH\\u002fYMXPdE\\u002f0kTan0mZ0D8EYuB0WYnMP8Awf\\u002f3aFc4\\u002feF\\u002f+ZNoEzz\\u002fbnfgrkjzPP4ZRI\\u002fyCic4\\u002f+CC9ZXv40D8DTFs5DB\\u002fOPxMpBqLWVc8\\u002fKLqWPXAF0j939q5oeC3RP9SfuY3Z\\u002fNU\\u002fk399aCLX0T+F6CzufpjQPwZopOYjmtM\\u002fbLjJ4ypL1T8aTh4uvfzYP0zRbO2lKds\\u002fYz75FGWn2z9Dx2PrXszaP1M41JgkX+M\\u002f1fYBVjhi8D+4+sEkCo77PxYrTMfj9AZA6PESrNtFCkDOPABsc14IQMrd5CkoHv0\\u002fNt8Tbo5N7T+wEBj52PfgP6YFcpPFG9c\\u002f+L8BeWvf0T8c6TkNfQrQP2PIMo4Yes8\\u002fp4aAGrlO0T\\u002f6xhchBxzPP5OlsZH8X84\\u002fpsIHhmaM0T8qAUEy7HTMP6FuMx2wzs8\\u002fT9u6OFcs0z\\u002f+pL+6\\u002fXjSP0XPs4GC\\u002f9Q\\u002f15RpOywH1z8CCgR\\u002fjq7VP\\u002fGoTsqBiuM\\u002fIKG20YiU8D\\u002fQCmKkAj79Pxy80DvsuQ1AFfR\\u002f+RtvGkDZV\\u002f\\u002fD3HseQHwK0\\u002fpVXBlAwPOEYZSPD0CnM0Or7Lz9Pz+e6Ew7L+8\\u002fDt1OCRUE4z\\u002fP0t44MBHaP57OmGw7y9Q\\u002fcYKkyqAm0T9eQuew8dvNP3gznDf4stM\\u002fWZ7t3e5azT9PAD2VNDrPP2QjoTNsstA\\u002f+Fqj3GwI0D\\u002fzjXo7vxrPPzFnrroqc8s\\u002f\\u002fxCjCx7Gzz9lOkARXCvPP4A3px6rENA\\u002fraTmWO9I0T+Z0rcLi2\\u002fMPxUMStvurc8\\u002f2Mr0SRHyzT9i4fScg53RP7N9+8XoKNE\\u002f97wivgsu2D9zQHi473ffP1hPa5r9PeQ\\u002fQv7ocwqz5D9FP3IZAf3hP2b4P\\u002fUM3dg\\u002fPu8wXTD51D+UORqANqnTP4IcWmex+tM\\u002fwCgdtQs31D\\u002f0MtLXQ1\\u002fWP\\u002fmd35gIMNg\\u002fb7tOMUJO0z94r\\u002fZrGerQP55M6Un5k88\\u002faaVwC8WI0D\\u002fFUu3nhh3MP1oxXWEFN88\\u002f8pb0A25EzT9dEp7+uT7NP4KaONiNPdE\\u002fEAWqee4Q0j+3CsTdK4zPPyGgkVGG\\u002fss\\u002f0f4FjWSr0D+VM30GqK\\u002fQP50Lm38O9M8\\u002ftPkh8jmqzD9YxD\\u002fhu6rQP6yhzw8MwNA\\u002f3WL9Y3tHzT9HlTWRK0nQP4GIv1XRJdA\\u002fHhZbIq7R0D9CR1RKUkrSP8mqAKWDSNI\\u002frVrfioqu0T9hNC7bDpHRP1UAjXfNRdE\\u002fjVP2aQ630D+Wd5OzZdfPP4muZtw7ktA\\u002fIEbKW0M2zz8lA8jEu6LQP7eP4MUrEs8\\u002fBT2CBMEczD9Xqs8hTsrNP4bosqSjq84\\u002fEUfznKB7zj\\u002faAGTbHpfNP6I+a\\u002fsFRtA\\u002fvuPPWZPe0D9EewhYmOjQP0CZtpm0C84\\u002fjANvMBbi0D+GPWvKJsjQP6v78opALs4\\u002fimbZQfFyzz9WHoLabmfPP7Fedk69X9A\\u002fBt2QBbE6zz+v6QpNdlvQPxdTdd52MdA\\u002frmNw+Uko0T\\u002fdDgP36JfTPy+OdC3yjtU\\u002frVZW+\\u002fn42D8S2RBGmATaP0r9c\\u002f5zPN0\\u002fx+QFwOw95D+9bQWt45fuP0V48u5YUvk\\u002flrIt2s\\u002fuB0ByWRn3TC0WQAKQuTj7ISJATGNCUZhfJkCEf31bs8UkQCwSxI35jx1ATqMgkrrOD0D++dsdqkEBQMeeFNZKWvM\\u002f7DpYraly6D\\u002fiR0BoAvHgPwGxpaYuqNk\\u002fCISfuQwV1D\\u002fC2f69jTfSP68FS3+pcdA\\u002f5oJxm1Th0T\\u002fRivKc9QzQP0aI79aeqNA\\u002fXoRdk0afzT9LsHL2uFHRP4M18QLy\\u002fc8\\u002fJ76C3f5Xzj9S5Z0v7wHQP2kjEFd2rMw\\u002flXZlmiN8zj+fmTU0JzHPP88dW5zL188\\u002fvDJd95wDzj9m9IsL7TzNPxszKz+Nd88\\u002ff+\\u002fvi8Mv0D\\u002fPU884i9LPP0IX3okgIM4\\u002fU\\u002fCD4pqS0D+cCwEDi9zLP4eJ34FkDM8\\u002fZ89p9O+ezz8H8emuGRrRP3guQjU3RM4\\u002fhNidpMlezj9XUPeoyoHQP\\u002fiOEnWDb84\\u002fKncJM3UVyz\\u002fttMsKWgfQPyFjEwAfb88\\u002fo\\u002f472ZgJzT8mbvpGE8nMP9MA1JwI3cw\\u002fFSnT0w5Pzz+Xtj2ZjZDOP7fTkKgoC84\\u002fQbzSO3rDzj+I2NqktLvNP99iG5aSQ9A\\u002fL9jzVoLJ0D88psptKKDOPxxaRsYPPc8\\u002fWPbQqTY8zD8TbcwLnELQP+nHnfH+F84\\u002fVrbnVtAm0D\\u002fPexIhFZjOPyfZAgBMKs8\\u002fQSsh1ElSzj9qdmydonDQP\\u002f5buiN9mc8\\u002feSdKsuxdzz\\u002fsXT1s2MfNP\\u002fU8yBbJ2M4\\u002ffLIcYa7azj+q6qg7HEbQPwtZ0y3Z1c8\\u002fGWQzml4Uzj8uqJ4JTuDQP4mR24UJlM8\\u002fFZWnAiLnzj\\u002ftIVB4MLXOP9\\u002f0ahYnY84\\u002f7yzOB7Amzz9ESLzpSIrMP+4Zd9KzDc0\\u002fcjmkULNYzz+klLijmzTPPzZnNg6MGM8\\u002f+f2d8Sj4zz\\u002f8+yWY6hvRP2K9Qmt7O9E\\u002fstqM2cmjzz8hFfDuZlvRP3e8Vtk1Us8\\u002fjzUcnwvvzz9QwSUTy2TOPw4yZED+ocw\\u002f6GmsydgyzT+w6A+x\\u002fyLOP2E1gkoEJNA\\u002f3LbNHJdnyz87ZWoRhL\\u002fOP+SnbKbz8c8\\u002fb30HTCfizD85zB1+q4vQPzgOhfs959A\\u002f2k+O+t9H0j+0rcCm8dHSP0Hsg7Zoa9U\\u002fkLYaniOe1z+vstWwjjbePz9Hd+9gPuI\\u002fVntUQgfv5j\\u002ff6\\u002fbtM6TtP5YeH+PEE+8\\u002fLMq6vclX7D+XC8IAA87mP71xYE5qT+E\\u002f+uI8ZSYm2z9vf5aG75HWP605ZLPFotM\\u002fXqwHc9O10z+0s2sKDDDRPwpmpP2b49A\\u002fykYb9z6szj8A1ZdQnsjNPwzBt3Rtx9A\\u002fafLGfFsJzT9V3mIdsoPOP09fQJtrB84\\u002fB8wFlnnv0D+\\u002fhp7YmezNP8A71obKM9E\\u002fGDjevl1z0j9Yf5EaktzSP7Ln72esktU\\u002fgEoj9AR52D\\u002fttFJsbcDcP2xR5U4KSt0\\u002fPobrzuo32z9rJMG+KyzZP\\u002f28F7luzNY\\u002fV2XrDJhD1D+evabhTQfSP+EGvPi6nNE\\u002fL1zpV8b4zj\\u002fu6q2T+JTPP4kYz96Fv80\\u002fbkPtwK8mzT\\u002f16qtBDTvNP8zSCE8BM8s\\u002fQy9hZvnyzT8Spz+G4q7MPzQzpVQdDtA\\u002f77VQpOBizD\\u002f3yrQ4u1DPP06HVdmFusw\\u002fQC5666Wfzj+YzsYoMuLOP9AZi6kQ8Mo\\u002famHTB8fszj8nWdwD3kzNPxG\\u002fVr+dHMw\\u002f18q6LI4UzD95+zrqhZfKPzYiCVbkks0\\u002fwtjym9i5yz+cSM0jDGnMP6CaZLVTRMw\\u002fm7zWF5h4yj9uAK1CZATOPyZuEIkYU8w\\u002fPCWeaLnvzT\\u002f\\u002f+\\u002fZdeprQP6hXVvTvKMw\\u002fvhGjJ8Ofzj+Ld1j\\u002fDB\\u002fOP\\u002fWSGjh3Wc0\\u002fNb6etG2rzj9L\\u002f7WIh27LP5MrQ7flL88\\u002fnER2yF7uzz+3RrlT9J7QP4PxgiCi380\\u002fmZ3\\u002fMdtU0D\\u002fYJoJYh17RP7qYw+fvW9A\\u002fa3EoFODa0T\\u002f4oLujpbnRP1T6k5GjFtQ\\u002fGRSPkaet0z\\u002fJfAsoIK7TP+swcS4vQ9A\\u002fB3JhbkBI0j9T4t\\u002fGkEXRPyKpUzw8E88\\u002f4uj+r8Ktzz9HMVfza2bOP+A38erOus4\\u002f0y2m1bWyzD92D2qrLT3OP+2IuWVxJs8\\u002fr8hYGC7zzT\\u002fvNOV3mgvNP30KyPshmtA\\u002f+rQxW4iKzj8PFwlP4avKP+nd\\u002fc+1Esw\\u002f9faMPaaDyz+V9ChTNt\\u002fPP8cQb4Zdxc4\\u002fojOpQxDIzD+Aue65k5HQP2ki7oNYwM4\\u002fbgdkDykVzD\\u002fANXz8uZHNP0EbZYvCqdA\\u002fPcv8GD6C0D8=\"},\"type\":\"scatter\"},{\"line\":{\"color\":\"rgb(214, 39, 40)\"},\"mode\":\"lines\",\"name\":\"Total calculated (Icalc)\",\"x\":{\"dtype\":\"f8\",\"bdata\":\"k6mCUTXg6kC28\\u002f3U5O7qQPH0SlmU\\u002fepAK\\u002faX3UMM60Bm9+Rh8xrrQKH4MeaiKetAxEKtaVI460D+Q\\u002frtAUfrQDlFR3KxVetAdEaU9mBk60CXkA96EHPrQNGRXP6\\u002fgetADJOpgm+Q60BGlPYGH5\\u002frQIGVQ4vOretApN++Dn6860Df4AuTLcvrQBniWBfd2etAVOOlm4zo60CP5PIfPPfrQLIubqPrBexA7C+7J5sU7EAnMQisSiPsQGEyVTD6MexAnDOitKlA7EC\\u002ffR04WU\\u002fsQPp+arwIXuxANIC3QLhs7EBvgQTFZ3vsQKqCUUkXiuxAzczMzMaY7EAHzhlRdqfsQELPZtUltuxAfdCzWdXE7EC30QDehNPsQNobfGE04uxAFR3J5ePw7EBPHhZqk\\u002f\\u002fsQIofY+5CDu1AxSCwcvIc7UDoaiv2oSvtQCJseHpROu1AXW3F\\u002fgBJ7UCYbhKDsFftQNJvXwdgZu1A9bnaig917UAwuycPv4PtQGq8dJNuku1Apb3BFx6h7UDgvg6cza\\u002ftQAMJih99vu1APQrXoyzN7UB4CyQo3NvtQLMMcayL6u1A7Q2+MDv57UAQWDm06gfuQEtZhjiaFu5AhlrTvEkl7kDAWyBB+TPuQPtcbcWoQu5AHqfoSFhR7kBYqDXNB2DuQJOpglG3bu5AzqrP1WZ97kAIrBxaFozuQCv2l93Fmu5AZvfkYXWp7kCh+DHmJLjuQNv5fmrUxu5AFvvL7oPV7kA5RUdyM+TuQHRGlPbi8u5ArkfhepIB70DpSC7\\u002fQRDvQCNKe4PxHu9ARpT2BqEt70CBlUOLUDzvQLyWkA8AS+9A9pfdk69Z70AxmSoYX2jvQFTjpZsOd+9Aj+TyH76F70DJ5T+kbZTvQATnjCgdo+9AJzEIrMyx70BhMlUwfMDvQJwzorQrz+9A1zTvONvd70ARNjy9iuzvQDSAt0A6++9AuECC4vQE8EBVwaikTAzwQPJBz2akE\\u002fBAj8L1KPwa8EChZ7PqUyLwQD7o2ayrKfBA3GgAbwMx8EB56SYxWzjwQBZqTfOyP\\u002fBAKA8LtQpH8EDFjzF3Yk7wQGIQWDm6VfBAAJF++xFd8ECdEaW9aWTwQK62Yn\\u002fBa\\u002fBATDeJQRlz8EDpt68DcXrwQIY41sXIgfBAJLn8hyCJ8EA1XrpJeJDwQNPe4AvQl\\u002fBAcF8Hzief8EAN4C2Qf6bwQKpgVFLXrfBAvAUSFC+18EBZhjjWhrzwQPcGX5jew\\u002fBAlIeFWjbL8EAxCKwcjtLwQEOtad7l2fBA4C2QoD3h8EB9rrZilejwQBsv3STt7\\u002fBAuK8D50T38EDKVMGonP7wQGfV52r0BfFABFYOLUwN8UCh1jTvoxTxQD9XW7H7G\\u002fFAUPwYc1Mj8UDufD81qyrxQIv9ZfcCMvFAKH6MuVo58UDF\\u002frJ7skDxQNejcD0KSPFAdCSX\\u002f2FP8UASpb3BuVbxQK8l5IMRXvFATKYKRmll8UBeS8gHwWzxQPvL7skYdPFAmEwVjHB78UA2zTtOyILxQNNNYhAgivFA5fIf0neR8UCCc0aUz5jxQB\\u002f0bFYnoPFAvHSTGH+n8UBa9bna1q7xQGuad5wutvFACRueXoa98UCmm8Qg3sTxQEMc6+I1zPFA4JwRpY3T8UDyQc9m5drxQI\\u002fC9Sg94vFALUMc65Tp8UDKw0Kt7PDxQNxoAG9E+PFAeekmMZz\\u002f8UAWak3z8wbyQLPqc7VLDvJAUWuad6MV8kBiEFg5+xzyQACRfvtSJPJAnRGlvaor8kA6kst\\u002fAjPyQNcS8kFaOvJA6bevA7JB8kCGONbFCUnyQCS5\\u002fIdhUPJAwTkjSrlX8kBeukkMEV\\u002fyQHBfB85oZvJADeAtkMBt8kCqYFRSGHXyQEjhehRwfPJA5WGh1seD8kD3Bl+YH4vyQJSHhVp3kvJAMQisHM+Z8kDOiNLeJqHyQGwJ+aB+qPJAfa62Ytav8kAbL90kLrfyQLivA+eFvvJAVTAqqd3F8kDysFBrNc3yQARWDi2N1PJAodY07+Tb8kA\\u002fV1uxPOPyQNzXgXOU6vJAeVioNezx8kCL\\u002fWX3Q\\u002fnyQCh+jLmbAPNAxf6ye\\u002fMH80Bjf9k9Sw\\u002fzQAAAAACjFvNAEqW9wfod80CvJeSDUiXzQEymCkaqLPNA6SYxCAI080CHp1fKWTvzQJhMFYyxQvNANs07TglK80DTTWIQYVHzQHDOiNK4WPNADk+vlBBg80Af9GxWaGfzQLx0kxjAbvNAWvW52hd280D3deCcb33zQJT2Bl\\u002fHhPNAppvEIB+M80BDHOvidpPzQOCcEaXOmvNAfh04Zyai80Abnl4pfqnzQC1DHOvVsPNAysNCrS2480BnRGlvhb\\u002fzQAXFjzHdxvNAokW28zTO80Cz6nO1jNXzQFFrmnfk3PNA7uvAOTzk80CLbOf7k+vzQCntDb7r8vNAOpLLf0P680DXEvJBmwH0QHWTGATzCPRAEhQ\\u002fxkoQ9EAkufyHohf0QME5I0r6HvRAXrpJDFIm9ED7OnDOqS30QJm7lpABNfRAqmBUUlk89EBI4XoUsUP0QOVhodYIS\\u002fRAguLHmGBS9EAgY+5auFn0QDEIrBwQYfRAzojS3mdo9EBsCfmgv2\\u002f0QAmKH2MXd\\u002fRApgpGJW9+9EC4rwPnxoX0QFUwKqkejfRA8rBQa3aU9ECQMXctzpv0QC2yne8lo\\u002fRAP1dbsX2q9EDc14Fz1bH0QHlYqDUtufRAF9nO94TA9EC0WfW53Mf0QMX+sns0z\\u002fRAY3\\u002fZPYzW9EAAAAAA5N30QJ2AJsI75fRAOwFNhJPs9EBMpgpG6\\u002fP0QOkmMQhD+\\u002fRAh6dXypoC9UAkKH6M8gn1QMGopE5KEfVA001iEKIY9UBwzojS+R\\u002f1QA5Pr5RRJ\\u002fVAq8\\u002fVVqku9UBIUPwYATb1QFr1udpYPfVA93XgnLBE9UCU9gZfCEz1QDJ3LSFgU\\u002fVAz\\u002fdT47da9UDgnBGlD2L1QH4dOGdnafVAG55eKb9w9UC4HoXrFnj1QFafq61uf\\u002fVAZ0Rpb8aG9UAFxY8xHo71QKJFtvN1lfVAP8bctc2c9UDcRgN4JaT1QO7rwDl9q\\u002fVAi2zn+9Sy9UAp7Q2+LLr1QMZtNICEwfVAY+5aQtzI9UB1kxgENND1QBIUP8aL1\\u002fVAr5RliOPe9UBNFYxKO+b1QOqVsgyT7fVA+zpwzur09UCZu5aQQvz1QDY8vVKaA\\u002fZA07zjFPIK9kBxPQrXSRL2QILix5ihGfZAIGPuWvkg9kC94xQdUSj2QFpkO9+oL\\u002fZAbAn5oAA39kAJih9jWD72QKYKRiWwRfZARIts5wdN9kDhC5OpX1T2QPKwUGu3W\\u002fZAkDF3LQ9j9kAtsp3vZmr2QMoyxLG+cfZAaLPqcxZ59kB5WKg1boD2QBfZzvfFh\\u002fZAtFn1uR2P9kBR2ht8dZb2QO5aQj7NnfZAAAAAACWl9kCdgCbCfKz2QDsBTYTUs\\u002fZA2IFzRiy79kB1ApoIhML2QIenV8rbyfZAJCh+jDPR9kDBqKROi9j2QF8pyxDj3\\u002fZA\\u002fKnx0jrn9kAOT6+Uku72QKvP1Vbq9fZASFD8GEL99kDl0CLbmQT3QINRSZ3xC\\u002fdAlPYGX0kT90Aydy0hoRr3QM\\u002f3U+P4IfdAbHh6pVAp90AJ+aBnqDD3QBueXikAOPdAuB6F61c\\u002f90BWn6utr0b3QPMf0m8HTvdAkKD4MV9V90CiRbbztlz3QD\\u002fG3LUOZPdA3EYDeGZr90B6xyk6vnL3QBdIUPwVevdAKe0Nvm2B90DGbTSAxYj3QGPuWkIdkPdAAG+BBHWX90Ce76fGzJ73QK+UZYgkpvdATRWMSnyt90DqlbIM1LT3QIcW2c4rvPdAJJf\\u002fkIPD90A2PL1S28r3QNO84xQz0vdAcT0K14rZ90AOvjCZ4uD3QKs+V1s66PdAveMUHZLv90BaZDvf6fb3QPfkYaFB\\u002fvdAlWWIY5kF+EAy5q4l8Qz4QESLbOdIFPhA4QuTqaAb+EB+jLlr+CL4QBsN4C1QKvhALbKd76cx+EDKMsSx\\u002fzj4QGiz6nNXQPhABTQRNq9H+ECitDf4Bk\\u002f4QLRZ9bleVvhAUdobfLZd+EDuWkI+DmX4QIzbaABmbPhAKVyPwr1z+EA7AU2EFXv4QNiBc0ZtgvhAdQKaCMWJ+EASg8DKHJH4QLAD54x0mPhAwaikTsyf+EBfKcsQJKf4QPyp8dJ7rvhAmSoYldO1+EA2qz5XK734QEhQ\\u002fBiDxPhA5dAi29rL+ECDUUmdMtP4QCDSb1+K2vhAvVKWIeLh+EDP91PjOen4QGx4eqWR8PhACfmgZ+n3+ECneccpQf\\u002f4QET67euYBvlAVp+rrfAN+UDzH9JvSBX5QJCg+DGgHPlALSEf9Pcj+UDLoUW2Tyv5QNxGA3inMvlAescpOv85+UAXSFD8VkH5QLTIdr6uSPlAUkmdgAZQ+UBj7lpCXlf5QABvgQS2XvlAnu+nxg1m+UA7cM6IZW35QNjw9Eq9dPlA6pWyDBV8+UCHFtnObIP5QCSX\\u002f5DEivlAwhcmUxyS+UBfmEwVdJn5QHE9CtfLoPlADr4wmSOo+UCrPldbe6\\u002f5QEi\\u002ffR3TtvlA5j+k3yq++UA=\"},\"y\":{\"dtype\":\"f8\",\"bdata\":\"+tvtn7c80T9VE3sf+1XRP5GoxNkjdtE\\u002fGbmQbj+P0T\\u002fTQY1nOKLRP1FlkKAX5tE\\u002fZu+XL+b20j+J8a7MwirWP5wO+yedxt0\\u002f5sp1Ff6+5T\\u002fBMrldKBzuP4XqcC3Ik\\u002fE\\u002fbu1Zx+h88D+u8jrsQvfpPwj1wmO9AOU\\u002fK8fwQ6v35j+wvvFgxF7vP+wRdkwrJPQ\\u002fwn+ldmDs9D\\u002f1qR7mUfTwP6fWjOZya+Y\\u002fHtJSILkC3D\\u002f2aJHiZS3UP58sJ+0opNE\\u002fg21tsz8F0T9d+rxBr+PQPzmBsJ1129A\\u002fGRchUMDX0D\\u002fDs9xC0dTQP9HZCG8E0tA\\u002fcCzEpD3P0D82a2fyd8zQPxCXzHayydA\\u002fxhNaDu3G0D8se3LDJ8TQPwRF78liwdA\\u002fnOxKu56+0D8Q6PpS3bvQP8oTjIQjudA\\u002fNNwxYX+20D+ET5CfGLTQP6MHTapestA\\u002f5LR\\u002fJYiy0D+sRO1O7rnQP1G9OilZ0NA\\u002fJZjeRZQO0T+yAxmPs7jRP37NdSTOfNM\\u002fEHjkEaDd1z9s3iRc86zgPy5c\\u002fPArLuk\\u002fgI1mcorc8j9CS7adSXz6PxdShr9ZcQBAilU0joetAEC6M5rwpiH6P4qztVdKFfA\\u002f7JJmVk7Q4T9YtMwk54fWP0LzFrN8NdI\\u002fGyX45ooK0T8IoiGSUcDQP3c2u4sVrtA\\u002fqD5Ncp2p0D98\\u002fwDa6ajQPweS114mqtA\\u002fnVe2eGmu0D8c3BHPk7nQPx6ryWEj09A\\u002fkwwpj3sB0T9UDIJ0mDjRPxZp7h\\u002fWUdE\\u002fmlvUH6Ez0T8i32sYw\\u002fjQP+wg+yO8zNA\\u002f5KoHbce+0D\\u002fK7VbL1M3QP3EfL5wzBtE\\u002fz0JB9JWZ0T8IaDe\\u002f2AvTP8TMWFiXpNY\\u002fGDcCFBp73z+OuthTVS7qP4WejYeVAPg\\u002fSZhCioSfBEAgYahYiXoMQA20ly5n0wxAEhkoqfsUBUDOxRen97z4P6rmmxxFZ\\u002fA\\u002fryhZ0JCT8j9rCFytF9\\u002f9P3FI\\u002fz7I2wZAb3OFuFoQC0C2Ch4ibPsGQMri+ua6fvw\\u002ftASv\\u002fqY87T94WdqKzGzfP8Kiz6PactU\\u002fwwppeUUs0j+jx1U1Dh\\u002fRP3VBno36x9A\\u002fgPSxLJCr0D+A\\u002f5hBjKLQP1CWX9m0oNA\\u002fORpR9x+j0D9gKTCtYKvQP1ZczEDov9A\\u002f80RSLZzw0D9EeyMPk2LRP7bAa41Ma9I\\u002fQ0OKg7nO1D9Q9\\u002f+cqEvaP3bMcUN7a+M\\u002ftniAPknP8D85sT1OCCIAQOGXjrGttg5A5UWWtQXvGEDGEO6UKCMeQNklq0RaUxlADW3DnDc+DkDCs2ck9P38P6hqDfR1Uus\\u002fCETqJrac3j+PQsfe58PVPzLbTSU5hNI\\u002f\\u002frVBnAFQ0T94bGrtj9zQP\\u002ftCV9X+rtA\\u002fqlU2Zn2b0D8W1kjkMZLQPxwBkKzTjNA\\u002fakJUWgWJ0D8MsUnF7IXQP0\\u002ff6LpUg9A\\u002fDjsc32yB0D8SVkjc3IDQPxX2hM4pg9A\\u002fmLVf9KaL0D8G2hTegKHQPzqLOZsZ1NA\\u002f7rEJ7UVE0T\\u002fKfhqTuzfSP7hIp8H8P9Q\\u002fny1iQb9q2D8YT5Sh\\u002f7PfP5qXrNy6\\u002f+M\\u002fXS8\\u002fqUhn5T9x17eK+DXjPwuOqRSbU+E\\u002fThEWakiU4z9DS7HXAIfsP8ifYq9O3Pc\\u002fkpaSXLdOA0A2zo9YHQIJQDVJPRJd\\u002fwZAiQqtsOt0\\u002fj88mPnpBebwP6AZ7LMlUuM\\u002fiC1kR4HQ2T+u4KHn8lXUP5qINm9x\\u002fNE\\u002fAX2KLrL30D9x7VK86YTQP4uRwaAcUdA\\u002fLPb8ObA40D9vjdN\\u002fQyzQPxs2vYApJdA\\u002fSZBOp34g0D\\u002fqy6arDx3QP3ipw7Z6GtA\\u002fCb6v3OEY0D9ebjt88BjQPz20hbUrHNA\\u002fibCCSrAl0D\\u002fABSlHtjvQP60zHJqJatA\\u002fDpPmcH\\u002fJ0D+G\\u002fxN9rXjRP9FLqHRAZdI\\u002fMaKbDt3j0j+jeCboiV3SP0Or7pFKX9E\\u002fseYkE3ek0D\\u002fBX4fnwkLQPw44Xf11E9A\\u002fymWnYd73zz8R0BIcy97PP\\u002f4Z1eztz88\\u002fmiiZe9rFzz8g3AUUEb7PP3ryvf5wt88\\u002fTUAmjIaxzz\\u002f9ew5CQqzPPzJFuEHpp88\\u002f0j4pSjGlzz\\u002fwkZO2kaXPPzS7m6Lrq88\\u002fKt\\u002fhadG9zz\\u002fVlHWk+eXPPyyBwZlzHNA\\u002f1+yhB9xu0D+Bic2dYA\\u002fRP9YRRVNeRNI\\u002fUWuXJJOS1D+Ww4wjgfPYP6JS\\u002fkAaneA\\u002fwWHpxg9g6D92gya2vSXzP3YctKmnM\\u002f0\\u002f1p+6t2dNAkDgPYvJWfwAQGcCIxy8cvk\\u002fWTiZN88W9D9OJigD7g\\u002f1P9xeQbffR\\u002f0\\u002fuOrcHe3bB0AzD2ZktpMUQJq5wv4m5CBAbOS7nQyEJkBDcmON+WolQC6LYumsXR1A\\u002f5Yp2kSyEEADTcNE0EgCQCt+AIyTxfQ\\u002fCG6iDRhM6T9SDzway+rgPxLxQhOnJtk\\u002fjq7DYu2h1D\\u002fueTH4cUXSP3kCQmdDCNE\\u002fC0oagzJh0D9K8sKU5wjQP\\u002fL+l9o\\u002ftM8\\u002f0QgeJ6GCzz\\u002fNdHkjXGjPPzWGqw2NWs8\\u002fUjZvHWtTzz+RGUWk4E\\u002fPP1II5c5GTs8\\u002fYlBPSbpNzz8p1MJewE3PP+o9lpIWTs8\\u002f8LPEuphOzz9SzgYXM0\\u002fPP4FFRtTaT88\\u002fksec\\u002fYlQzz9P7e1IPVHPP\\u002fEWl+PyUc8\\u002fDS\\u002fmyalSzz\\u002feZN9qYVPPP1wOSHUZVM8\\u002f2KRqu9FUzz\\u002faNZUjilXPP+5NJp9CVs8\\u002fhjbTJftWzz+xK+Kys1fPP\\u002f+6lENsWM8\\u002fv09y1iRZzz\\u002f5+Ytq3VnPP7mbXf+VWs8\\u002f46ualE5bzz8hXAwqB1zPP9BRrb+\\u002fXM8\\u002fxRFkVXhdzz\\u002fwsyfrMF7PP\\u002fv58oDpXs8\\u002f43+4FqJfzz8rCYusWmDPP7E0X0ITYc8\\u002fK1802Mthzz9oKgpuhGLPPxkY1gM9Y88\\u002fs6ysmfVjzz8XpIMvrmTPP+olW8VmZc8\\u002fcIgzWx9mzz\\u002fnIgPx12bPP\\u002fW034aQZ88\\u002fTQLBHElozz9msaqyAWnPPz4yo0i6ac8\\u002flIer3nJqzz8SGOx0K2vPP60rfQvka88\\u002fdvCaopxszz9H2606VW3PP0lOYNQNbs8\\u002fS6H+cMZuzz\\u002fxoZYSf2\\u002fPP12Gv7w3cM8\\u002fKw2ddfBwzz\\u002fcepxHqXHPP\\u002fSFnERics8\\u002f4Vy4ihtzzz+H0+NM1XPPP\\u002fJ79OCPdM8\\u002fGCod10t1zz8bKy2rg3TPP2bJJ2XWcc8\\u002fLKPIpi9vzz98utfMk2zPPzLiCxEKas8\\u002fmdO7YZ5nzz8Q279mZGXPPyCUtGZ8Y88\\u002fDqZjQBtizz9\\u002fMHNLl2HPPxJ9tyd9Ys8\\u002ffKwYRbFlzz9efSWcpWzPPxiRb+Kvec8\\u002fnLAx35KQzz\\u002fg2gqFWbfPP2M3LySy988\\u002fOg4LoYow0D\\u002fNFqDpFIbQP+HK2pMPENE\\u002fTF3dlYjt0T97V3vcl0\\u002fTPwJ+Ql6jg9U\\u002fnFeO+\\u002fMC2T9HEWT83YPeP49NnK36auM\\u002fBehOEG7e6D\\u002fOEEt6Ds\\u002ftP1L9HaxNH+8\\u002fVNMngZm86z+MV+CAPBbmPzC09AyfBuE\\u002faBbkyDAQ2z9WM7sOE7XWP\\u002fbw\\u002fy0CF9Q\\u002fx4oHsQqT0j\\u002fZU2BTasjRP4iZhySzg9E\\u002fcOtHrkWx0T+m\\u002f6cIUVfSP8QAx+C6ldM\\u002fwXW\\u002f03Wr1T\\u002fauSq3BgLZP9yLEGcPQd4\\u002fDgpqyKc24z9bxlaLOozpP9J8urRsqvE\\u002fEcI6cG4x+T8ARk+HbFQCQBlrD1B2tgpAzU8t0TjAEkCnwkDSluQXQCrlmmAqIRpASGU9aS\\u002fxF0Bfk6CGRrkSQE5vXTWQUwpAom+rF42vAUA7qogky8X3P5bl6js8ZPA\\u002fVzra3RKB5z+8I3JLvKzhP2L7G8wnA9w\\u002fjMJzSLpi1z9E2IBDS3bUP8DAKpdPnNI\\u002fD0unH2pv0T9EVi6o36\\u002fQPwsJyQWNNdA\\u002fTirTPDzOzz9DFd4IIWnPP18j8FOBJ88\\u002fn82SGoD8zj\\u002fTCizv8N\\u002fOP6Xozc2fzM4\\u002fgDWhtzu\\u002fzj8XRAHHprXOP7q2xA+Hrs4\\u002fis4t\\u002fP+ozj+SNpy2haTOP30OSPPAoM4\\u002fusDwbX2dzj9UnSBQn5rOPz2LT18dmM4\\u002fd6JIof6Vzj+b1yPfWpTOPxYA7+lxkM4\\u002fNA6\\u002fEHCHzj9qB7qdxn\\u002fOP8zdZ5wVes4\\u002fvRFjckl3zj\\u002fQMy0hvXjOP5YeGx1sgM4\\u002fnOIKazqRzj+WIU0kXK\\u002fOP8PHI8fq4M4\\u002fF9UXX7ouzz\\u002ftpU5oiaXPP4mTASrQK9A\\u002f+\\u002f+FhUGv0D\\u002fccfjF7mzRP0UF5Uv\\u002fcNI\\u002fmgx7pu6v0z\\u002foQ\\u002fujmuvUPwby6CbJtdU\\u002fq\\u002fD1CQ2v1T\\u002fzx9sqRNTUP7R3t9frgdM\\u002fChIQ\\u002fbgp0j81J8Ag+w\\u002fRPwh6p4Z7Q9A\\u002fXTcZI0tuzz88PRp91rDOP44G7DBwMM4\\u002f1mS0cirYzT\\u002f5yXXnLJrNP\\u002fgXEFRobc0\\u002fbRidePBLzT+tPx0m5THNP\\u002fsEiSK8HM0\\u002fetQvyMoKzT9K+WnC+PrMP4R9Hp6N7Mw\\u002f0L\\u002f\\u002f1A\\u002ffzD85ExQ6L9LMP4pZAdq2xcw\\u002fCP48rYO5zD9X3ZeBfq3MPwzkZvWXocw\\u002fYODT0MWVzD8uhiFKAYrMP29UYNxFfsw\\u002faKFihJByzD8=\"},\"type\":\"scatter\"}],                        {\"legend\":{\"x\":1.0,\"xanchor\":\"right\",\"y\":1.0,\"yanchor\":\"top\"},\"margin\":{\"autoexpand\":true,\"b\":45,\"r\":30,\"t\":40},\"title\":{\"text\":\"Measured vs Calculated data for experiment \\ud83d\\udd2c 'sim_lbco'\"},\"xaxis\":{\"mirror\":true,\"showline\":true,\"title\":{\"text\":\"TOF (\\u00b5s)\"},\"zeroline\":false,\"tickformat\":\",.6~g\",\"separatethousands\":true},\"yaxis\":{\"mirror\":true,\"showline\":true,\"title\":{\"text\":\"Intensity (arb. units)\"},\"zeroline\":false,\"tickformat\":\",.6~g\",\"separatethousands\":true},\"template\":{\"data\":{\"histogram2dcontour\":[{\"type\":\"histogram2dcontour\",\"colorbar\":{\"outlinewidth\":0,\"ticks\":\"\"},\"colorscale\":[[0.0,\"#0d0887\"],[0.1111111111111111,\"#46039f\"],[0.2222222222222222,\"#7201a8\"],[0.3333333333333333,\"#9c179e\"],[0.4444444444444444,\"#bd3786\"],[0.5555555555555556,\"#d8576b\"],[0.6666666666666666,\"#ed7953\"],[0.7777777777777778,\"#fb9f3a\"],[0.8888888888888888,\"#fdca26\"],[1.0,\"#f0f921\"]]}],\"choropleth\":[{\"type\":\"choropleth\",\"colorbar\":{\"outlinewidth\":0,\"ticks\":\"\"}}],\"histogram2d\":[{\"type\":\"histogram2d\",\"colorbar\":{\"outlinewidth\":0,\"ticks\":\"\"},\"colorscale\":[[0.0,\"#0d0887\"],[0.1111111111111111,\"#46039f\"],[0.2222222222222222,\"#7201a8\"],[0.3333333333333333,\"#9c179e\"],[0.4444444444444444,\"#bd3786\"],[0.5555555555555556,\"#d8576b\"],[0.6666666666666666,\"#ed7953\"],[0.7777777777777778,\"#fb9f3a\"],[0.8888888888888888,\"#fdca26\"],[1.0,\"#f0f921\"]]}],\"heatmap\":[{\"type\":\"heatmap\",\"colorbar\":{\"outlinewidth\":0,\"ticks\":\"\"},\"colorscale\":[[0.0,\"#0d0887\"],[0.1111111111111111,\"#46039f\"],[0.2222222222222222,\"#7201a8\"],[0.3333333333333333,\"#9c179e\"],[0.4444444444444444,\"#bd3786\"],[0.5555555555555556,\"#d8576b\"],[0.6666666666666666,\"#ed7953\"],[0.7777777777777778,\"#fb9f3a\"],[0.8888888888888888,\"#fdca26\"],[1.0,\"#f0f921\"]]}],\"contourcarpet\":[{\"type\":\"contourcarpet\",\"colorbar\":{\"outlinewidth\":0,\"ticks\":\"\"}}],\"contour\":[{\"type\":\"contour\",\"colorbar\":{\"outlinewidth\":0,\"ticks\":\"\"},\"colorscale\":[[0.0,\"#0d0887\"],[0.1111111111111111,\"#46039f\"],[0.2222222222222222,\"#7201a8\"],[0.3333333333333333,\"#9c179e\"],[0.4444444444444444,\"#bd3786\"],[0.5555555555555556,\"#d8576b\"],[0.6666666666666666,\"#ed7953\"],[0.7777777777777778,\"#fb9f3a\"],[0.8888888888888888,\"#fdca26\"],[1.0,\"#f0f921\"]]}],\"surface\":[{\"type\":\"surface\",\"colorbar\":{\"outlinewidth\":0,\"ticks\":\"\"},\"colorscale\":[[0.0,\"#0d0887\"],[0.1111111111111111,\"#46039f\"],[0.2222222222222222,\"#7201a8\"],[0.3333333333333333,\"#9c179e\"],[0.4444444444444444,\"#bd3786\"],[0.5555555555555556,\"#d8576b\"],[0.6666666666666666,\"#ed7953\"],[0.7777777777777778,\"#fb9f3a\"],[0.8888888888888888,\"#fdca26\"],[1.0,\"#f0f921\"]]}],\"mesh3d\":[{\"type\":\"mesh3d\",\"colorbar\":{\"outlinewidth\":0,\"ticks\":\"\"}}],\"scatter\":[{\"fillpattern\":{\"fillmode\":\"overlay\",\"size\":10,\"solidity\":0.2},\"type\":\"scatter\"}],\"parcoords\":[{\"type\":\"parcoords\",\"line\":{\"colorbar\":{\"outlinewidth\":0,\"ticks\":\"\"}}}],\"scatterpolargl\":[{\"type\":\"scatterpolargl\",\"marker\":{\"colorbar\":{\"outlinewidth\":0,\"ticks\":\"\"}}}],\"bar\":[{\"error_x\":{\"color\":\"#2a3f5f\"},\"error_y\":{\"color\":\"#2a3f5f\"},\"marker\":{\"line\":{\"color\":\"white\",\"width\":0.5},\"pattern\":{\"fillmode\":\"overlay\",\"size\":10,\"solidity\":0.2}},\"type\":\"bar\"}],\"scattergeo\":[{\"type\":\"scattergeo\",\"marker\":{\"colorbar\":{\"outlinewidth\":0,\"ticks\":\"\"}}}],\"scatterpolar\":[{\"type\":\"scatterpolar\",\"marker\":{\"colorbar\":{\"outlinewidth\":0,\"ticks\":\"\"}}}],\"histogram\":[{\"marker\":{\"pattern\":{\"fillmode\":\"overlay\",\"size\":10,\"solidity\":0.2}},\"type\":\"histogram\"}],\"scattergl\":[{\"type\":\"scattergl\",\"marker\":{\"colorbar\":{\"outlinewidth\":0,\"ticks\":\"\"}}}],\"scatter3d\":[{\"type\":\"scatter3d\",\"line\":{\"colorbar\":{\"outlinewidth\":0,\"ticks\":\"\"}},\"marker\":{\"colorbar\":{\"outlinewidth\":0,\"ticks\":\"\"}}}],\"scattermap\":[{\"type\":\"scattermap\",\"marker\":{\"colorbar\":{\"outlinewidth\":0,\"ticks\":\"\"}}}],\"scattermapbox\":[{\"type\":\"scattermapbox\",\"marker\":{\"colorbar\":{\"outlinewidth\":0,\"ticks\":\"\"}}}],\"scatterternary\":[{\"type\":\"scatterternary\",\"marker\":{\"colorbar\":{\"outlinewidth\":0,\"ticks\":\"\"}}}],\"scattercarpet\":[{\"type\":\"scattercarpet\",\"marker\":{\"colorbar\":{\"outlinewidth\":0,\"ticks\":\"\"}}}],\"carpet\":[{\"aaxis\":{\"endlinecolor\":\"#2a3f5f\",\"gridcolor\":\"#C8D4E3\",\"linecolor\":\"#C8D4E3\",\"minorgridcolor\":\"#C8D4E3\",\"startlinecolor\":\"#2a3f5f\"},\"baxis\":{\"endlinecolor\":\"#2a3f5f\",\"gridcolor\":\"#C8D4E3\",\"linecolor\":\"#C8D4E3\",\"minorgridcolor\":\"#C8D4E3\",\"startlinecolor\":\"#2a3f5f\"},\"type\":\"carpet\"}],\"table\":[{\"cells\":{\"fill\":{\"color\":\"#EBF0F8\"},\"line\":{\"color\":\"white\"}},\"header\":{\"fill\":{\"color\":\"#C8D4E3\"},\"line\":{\"color\":\"white\"}},\"type\":\"table\"}],\"barpolar\":[{\"marker\":{\"line\":{\"color\":\"white\",\"width\":0.5},\"pattern\":{\"fillmode\":\"overlay\",\"size\":10,\"solidity\":0.2}},\"type\":\"barpolar\"}],\"pie\":[{\"automargin\":true,\"type\":\"pie\"}]},\"layout\":{\"autotypenumbers\":\"strict\",\"colorway\":[\"#636efa\",\"#EF553B\",\"#00cc96\",\"#ab63fa\",\"#FFA15A\",\"#19d3f3\",\"#FF6692\",\"#B6E880\",\"#FF97FF\",\"#FECB52\"],\"font\":{\"color\":\"#2a3f5f\"},\"hovermode\":\"closest\",\"hoverlabel\":{\"align\":\"left\"},\"paper_bgcolor\":\"white\",\"plot_bgcolor\":\"white\",\"polar\":{\"bgcolor\":\"white\",\"angularaxis\":{\"gridcolor\":\"#EBF0F8\",\"linecolor\":\"#EBF0F8\",\"ticks\":\"\"},\"radialaxis\":{\"gridcolor\":\"#EBF0F8\",\"linecolor\":\"#EBF0F8\",\"ticks\":\"\"}},\"ternary\":{\"bgcolor\":\"white\",\"aaxis\":{\"gridcolor\":\"#DFE8F3\",\"linecolor\":\"#A2B1C6\",\"ticks\":\"\"},\"baxis\":{\"gridcolor\":\"#DFE8F3\",\"linecolor\":\"#A2B1C6\",\"ticks\":\"\"},\"caxis\":{\"gridcolor\":\"#DFE8F3\",\"linecolor\":\"#A2B1C6\",\"ticks\":\"\"}},\"coloraxis\":{\"colorbar\":{\"outlinewidth\":0,\"ticks\":\"\"}},\"colorscale\":{\"sequential\":[[0.0,\"#0d0887\"],[0.1111111111111111,\"#46039f\"],[0.2222222222222222,\"#7201a8\"],[0.3333333333333333,\"#9c179e\"],[0.4444444444444444,\"#bd3786\"],[0.5555555555555556,\"#d8576b\"],[0.6666666666666666,\"#ed7953\"],[0.7777777777777778,\"#fb9f3a\"],[0.8888888888888888,\"#fdca26\"],[1.0,\"#f0f921\"]],\"sequentialminus\":[[0.0,\"#0d0887\"],[0.1111111111111111,\"#46039f\"],[0.2222222222222222,\"#7201a8\"],[0.3333333333333333,\"#9c179e\"],[0.4444444444444444,\"#bd3786\"],[0.5555555555555556,\"#d8576b\"],[0.6666666666666666,\"#ed7953\"],[0.7777777777777778,\"#fb9f3a\"],[0.8888888888888888,\"#fdca26\"],[1.0,\"#f0f921\"]],\"diverging\":[[0,\"#8e0152\"],[0.1,\"#c51b7d\"],[0.2,\"#de77ae\"],[0.3,\"#f1b6da\"],[0.4,\"#fde0ef\"],[0.5,\"#f7f7f7\"],[0.6,\"#e6f5d0\"],[0.7,\"#b8e186\"],[0.8,\"#7fbc41\"],[0.9,\"#4d9221\"],[1,\"#276419\"]]},\"xaxis\":{\"gridcolor\":\"#EBF0F8\",\"linecolor\":\"#EBF0F8\",\"ticks\":\"\",\"title\":{\"standoff\":15},\"zerolinecolor\":\"#EBF0F8\",\"automargin\":true,\"zerolinewidth\":2},\"yaxis\":{\"gridcolor\":\"#EBF0F8\",\"linecolor\":\"#EBF0F8\",\"ticks\":\"\",\"title\":{\"standoff\":15},\"zerolinecolor\":\"#EBF0F8\",\"automargin\":true,\"zerolinewidth\":2},\"scene\":{\"xaxis\":{\"backgroundcolor\":\"white\",\"gridcolor\":\"#DFE8F3\",\"linecolor\":\"#EBF0F8\",\"showbackground\":true,\"ticks\":\"\",\"zerolinecolor\":\"#EBF0F8\",\"gridwidth\":2},\"yaxis\":{\"backgroundcolor\":\"white\",\"gridcolor\":\"#DFE8F3\",\"linecolor\":\"#EBF0F8\",\"showbackground\":true,\"ticks\":\"\",\"zerolinecolor\":\"#EBF0F8\",\"gridwidth\":2},\"zaxis\":{\"backgroundcolor\":\"white\",\"gridcolor\":\"#DFE8F3\",\"linecolor\":\"#EBF0F8\",\"showbackground\":true,\"ticks\":\"\",\"zerolinecolor\":\"#EBF0F8\",\"gridwidth\":2}},\"shapedefaults\":{\"line\":{\"color\":\"#2a3f5f\"}},\"annotationdefaults\":{\"arrowcolor\":\"#2a3f5f\",\"arrowhead\":0,\"arrowwidth\":1},\"geo\":{\"bgcolor\":\"white\",\"landcolor\":\"white\",\"subunitcolor\":\"#C8D4E3\",\"showland\":true,\"showlakes\":true,\"lakecolor\":\"white\"},\"title\":{\"x\":0.05},\"mapbox\":{\"style\":\"light\"}}}},                        {\"displaylogo\": false, \"modeBarButtonsToRemove\": [\"select2d\", \"lasso2d\", \"zoomIn2d\", \"zoomOut2d\", \"autoScale2d\"], \"responsive\": true}                    )                };            </script>        </div>"
      ],
      "text/plain": [
       "<IPython.core.display.HTML object>"
      ]
     },
     "metadata": {},
     "output_type": "display_data"
    },
    {
     "name": "stdout",
     "output_type": "stream",
     "text": [
      "\n",
      "\u001b[94m\u001b[1mUsing experiment 🔬 \u001b[0m'sim_lbco'\u001b[94m\u001b[1m for \u001b[0m'single'\u001b[94m\u001b[1m fitting\u001b[0m\n",
      "🚀 Starting fit process with 'lmfit (leastsq)'...\n",
      "📈 Goodness-of-fit (reduced χ²) change:\n"
     ]
    },
    {
     "data": {
      "text/html": [
       "<table class=\"dataframe\" style=\"border-collapse: collapse; border: 1px solid #515155; margin-left: 0.5em;margin-top: 0.5em;margin-bottom: 1em;\">\n",
       "  <thead>\n",
       "    <tr style=\"text-align: right;\">\n",
       "      <th style=\"text-align: center;\">iteration</th>\n",
       "      <th style=\"text-align: center;\">χ²</th>\n",
       "      <th style=\"text-align: center;\">improvement [%]</th>\n",
       "    </tr>\n",
       "  </thead>\n",
       "  <tbody>\n",
       "    <tr>\n",
       "      <td><div style=\"text-align: center;\">1</div></td>\n",
       "      <td><div style=\"text-align: center;\">2254.38</div></td>\n",
       "      <td><div style=\"text-align: center;\"></div></td>\n",
       "    </tr>\n",
       "    <tr>\n",
       "      <td><div style=\"text-align: center;\">21</div></td>\n",
       "      <td><div style=\"text-align: center;\">1.56</div></td>\n",
       "      <td><div style=\"text-align: center;\">99.9% ↓</div></td>\n",
       "    </tr>\n",
       "    <tr>\n",
       "      <td><div style=\"text-align: center;\">39</div></td>\n",
       "      <td><div style=\"text-align: center;\">1.54</div></td>\n",
       "      <td><div style=\"text-align: center;\">1.5% ↓</div></td>\n",
       "    </tr>\n",
       "    <tr>\n",
       "      <td><div style=\"text-align: center;\">688</div></td>\n",
       "      <td><div style=\"text-align: center;\">1.54</div></td>\n",
       "      <td><div style=\"text-align: center;\"></div></td>\n",
       "    </tr>\n",
       "  </tbody>\n",
       "</table>"
      ],
      "text/plain": [
       "<IPython.core.display.HTML object>"
      ]
     },
     "metadata": {},
     "output_type": "display_data"
    },
    {
     "name": "stdout",
     "output_type": "stream",
     "text": [
      "🏆 Best goodness-of-fit (reduced χ²) is 1.54 at iteration 687\n",
      "✅ Fitting complete.\n",
      "\n",
      "\u001b[94m\u001b[1mFit results\u001b[0m\n",
      "✅ Success: True\n",
      "⏱️ Fitting time: 11.23 seconds\n",
      "📏 Goodness-of-fit (reduced χ²): 1.54\n",
      "📏 R-factor (Rf): 4.62%\n",
      "📏 R-factor squared (Rf²): 4.04%\n",
      "📏 Weighted R-factor (wR): 3.54%\n",
      "📈 Fitted parameters:\n"
     ]
    },
    {
     "data": {
      "text/html": [
       "<table class=\"dataframe\" style=\"border-collapse: collapse; border: 1px solid #515155; margin-left: 0.5em;margin-top: 0.5em;margin-bottom: 1em;\">\n",
       "  <thead>\n",
       "    <tr style=\"text-align: right;\">\n",
       "      <th></th>\n",
       "      <th style=\"text-align: left;\">datablock</th>\n",
       "      <th style=\"text-align: left;\">category</th>\n",
       "      <th style=\"text-align: left;\">entry</th>\n",
       "      <th style=\"text-align: left;\">parameter</th>\n",
       "      <th style=\"text-align: right;\">start</th>\n",
       "      <th style=\"text-align: right;\">fitted</th>\n",
       "      <th style=\"text-align: right;\">uncertainty</th>\n",
       "      <th style=\"text-align: left;\">units</th>\n",
       "      <th style=\"text-align: right;\">change</th>\n",
       "    </tr>\n",
       "  </thead>\n",
       "  <tbody>\n",
       "    <tr>\n",
       "      <th>1</th>\n",
       "      <td><div style=\"text-align: left;\">lbco</div></td>\n",
       "      <td><div style=\"text-align: left;\">cell</div></td>\n",
       "      <td><div style=\"text-align: left;\"></div></td>\n",
       "      <td><div style=\"text-align: left;\">length_a</div></td>\n",
       "      <td><div style=\"text-align: right;\">3.8915</div></td>\n",
       "      <td><div style=\"text-align: right;\">3.8913</div></td>\n",
       "      <td><div style=\"text-align: right;\">0.0002</div></td>\n",
       "      <td><div style=\"text-align: left;\">Å</div></td>\n",
       "      <td><div style=\"text-align: right;\">0.01 % ↓</div></td>\n",
       "    </tr>\n",
       "    <tr>\n",
       "      <th>2</th>\n",
       "      <td><div style=\"text-align: left;\">sim_lbco</div></td>\n",
       "      <td><div style=\"text-align: left;\">background</div></td>\n",
       "      <td><div style=\"text-align: left;\">50000</div></td>\n",
       "      <td><div style=\"text-align: left;\">y</div></td>\n",
       "      <td><div style=\"text-align: right;\">0.2750</div></td>\n",
       "      <td><div style=\"text-align: right;\">0.2780</div></td>\n",
       "      <td><div style=\"text-align: right;\">0.0281</div></td>\n",
       "      <td><div style=\"text-align: left;\"></div></td>\n",
       "      <td><div style=\"text-align: right;\">1.10 % ↑</div></td>\n",
       "    </tr>\n",
       "    <tr>\n",
       "      <th>3</th>\n",
       "      <td><div style=\"text-align: left;\">sim_lbco</div></td>\n",
       "      <td><div style=\"text-align: left;\">background</div></td>\n",
       "      <td><div style=\"text-align: left;\">60000</div></td>\n",
       "      <td><div style=\"text-align: left;\">y</div></td>\n",
       "      <td><div style=\"text-align: right;\">0.2606</div></td>\n",
       "      <td><div style=\"text-align: right;\">0.2515</div></td>\n",
       "      <td><div style=\"text-align: right;\">0.0057</div></td>\n",
       "      <td><div style=\"text-align: left;\"></div></td>\n",
       "      <td><div style=\"text-align: right;\">3.48 % ↓</div></td>\n",
       "    </tr>\n",
       "    <tr>\n",
       "      <th>4</th>\n",
       "      <td><div style=\"text-align: left;\">sim_lbco</div></td>\n",
       "      <td><div style=\"text-align: left;\">background</div></td>\n",
       "      <td><div style=\"text-align: left;\">70000</div></td>\n",
       "      <td><div style=\"text-align: left;\">y</div></td>\n",
       "      <td><div style=\"text-align: right;\">0.2592</div></td>\n",
       "      <td><div style=\"text-align: right;\">0.2518</div></td>\n",
       "      <td><div style=\"text-align: right;\">0.0038</div></td>\n",
       "      <td><div style=\"text-align: left;\"></div></td>\n",
       "      <td><div style=\"text-align: right;\">2.85 % ↓</div></td>\n",
       "    </tr>\n",
       "    <tr>\n",
       "      <th>5</th>\n",
       "      <td><div style=\"text-align: left;\">sim_lbco</div></td>\n",
       "      <td><div style=\"text-align: left;\">background</div></td>\n",
       "      <td><div style=\"text-align: left;\">80000</div></td>\n",
       "      <td><div style=\"text-align: left;\">y</div></td>\n",
       "      <td><div style=\"text-align: right;\">0.2439</div></td>\n",
       "      <td><div style=\"text-align: right;\">0.2417</div></td>\n",
       "      <td><div style=\"text-align: right;\">0.0029</div></td>\n",
       "      <td><div style=\"text-align: left;\"></div></td>\n",
       "      <td><div style=\"text-align: right;\">0.89 % ↓</div></td>\n",
       "    </tr>\n",
       "    <tr>\n",
       "      <th>6</th>\n",
       "      <td><div style=\"text-align: left;\">sim_lbco</div></td>\n",
       "      <td><div style=\"text-align: left;\">background</div></td>\n",
       "      <td><div style=\"text-align: left;\">90000</div></td>\n",
       "      <td><div style=\"text-align: left;\">y</div></td>\n",
       "      <td><div style=\"text-align: right;\">0.2458</div></td>\n",
       "      <td><div style=\"text-align: right;\">0.2426</div></td>\n",
       "      <td><div style=\"text-align: right;\">0.0021</div></td>\n",
       "      <td><div style=\"text-align: left;\"></div></td>\n",
       "      <td><div style=\"text-align: right;\">1.29 % ↓</div></td>\n",
       "    </tr>\n",
       "    <tr>\n",
       "      <th>7</th>\n",
       "      <td><div style=\"text-align: left;\">sim_lbco</div></td>\n",
       "      <td><div style=\"text-align: left;\">background</div></td>\n",
       "      <td><div style=\"text-align: left;\">100000</div></td>\n",
       "      <td><div style=\"text-align: left;\">y</div></td>\n",
       "      <td><div style=\"text-align: right;\">0.2387</div></td>\n",
       "      <td><div style=\"text-align: right;\">0.2220</div></td>\n",
       "      <td><div style=\"text-align: right;\">0.0025</div></td>\n",
       "      <td><div style=\"text-align: left;\"></div></td>\n",
       "      <td><div style=\"text-align: right;\">7.00 % ↓</div></td>\n",
       "    </tr>\n",
       "    <tr>\n",
       "      <th>8</th>\n",
       "      <td><div style=\"text-align: left;\">sim_lbco</div></td>\n",
       "      <td><div style=\"text-align: left;\">background</div></td>\n",
       "      <td><div style=\"text-align: left;\">110000</div></td>\n",
       "      <td><div style=\"text-align: left;\">y</div></td>\n",
       "      <td><div style=\"text-align: right;\">0.2084</div></td>\n",
       "      <td><div style=\"text-align: right;\">0.2388</div></td>\n",
       "      <td><div style=\"text-align: right;\">0.0086</div></td>\n",
       "      <td><div style=\"text-align: left;\"></div></td>\n",
       "      <td><div style=\"text-align: right;\">14.56 % ↑</div></td>\n",
       "    </tr>\n",
       "    <tr>\n",
       "      <th>9</th>\n",
       "      <td><div style=\"text-align: left;\">sim_lbco</div></td>\n",
       "      <td><div style=\"text-align: left;\">linked_phases</div></td>\n",
       "      <td><div style=\"text-align: left;\">lbco</div></td>\n",
       "      <td><div style=\"text-align: left;\">scale</div></td>\n",
       "      <td><div style=\"text-align: right;\">4.8295</div></td>\n",
       "      <td><div style=\"text-align: right;\">4.8548</div></td>\n",
       "      <td><div style=\"text-align: right;\">0.0274</div></td>\n",
       "      <td><div style=\"text-align: left;\"></div></td>\n",
       "      <td><div style=\"text-align: right;\">0.52 % ↑</div></td>\n",
       "    </tr>\n",
       "    <tr>\n",
       "      <th>10</th>\n",
       "      <td><div style=\"text-align: left;\">sim_lbco</div></td>\n",
       "      <td><div style=\"text-align: left;\">linked_phases</div></td>\n",
       "      <td><div style=\"text-align: left;\">si</div></td>\n",
       "      <td><div style=\"text-align: left;\">scale</div></td>\n",
       "      <td><div style=\"text-align: right;\">1.0000</div></td>\n",
       "      <td><div style=\"text-align: right;\">0.0373</div></td>\n",
       "      <td><div style=\"text-align: right;\">0.0014</div></td>\n",
       "      <td><div style=\"text-align: left;\"></div></td>\n",
       "      <td><div style=\"text-align: right;\">96.27 % ↓</div></td>\n",
       "    </tr>\n",
       "    <tr>\n",
       "      <th>11</th>\n",
       "      <td><div style=\"text-align: left;\">sim_lbco</div></td>\n",
       "      <td><div style=\"text-align: left;\">peak</div></td>\n",
       "      <td><div style=\"text-align: left;\"></div></td>\n",
       "      <td><div style=\"text-align: left;\">asym_alpha_0</div></td>\n",
       "      <td><div style=\"text-align: right;\">-0.0048</div></td>\n",
       "      <td><div style=\"text-align: right;\">-0.0071</div></td>\n",
       "      <td><div style=\"text-align: right;\">0.0010</div></td>\n",
       "      <td><div style=\"text-align: left;\"></div></td>\n",
       "      <td><div style=\"text-align: right;\">49.74 % ↑</div></td>\n",
       "    </tr>\n",
       "    <tr>\n",
       "      <th>12</th>\n",
       "      <td><div style=\"text-align: left;\">sim_lbco</div></td>\n",
       "      <td><div style=\"text-align: left;\">peak</div></td>\n",
       "      <td><div style=\"text-align: left;\"></div></td>\n",
       "      <td><div style=\"text-align: left;\">asym_alpha_1</div></td>\n",
       "      <td><div style=\"text-align: right;\">0.0137</div></td>\n",
       "      <td><div style=\"text-align: right;\">0.0173</div></td>\n",
       "      <td><div style=\"text-align: right;\">0.0014</div></td>\n",
       "      <td><div style=\"text-align: left;\"></div></td>\n",
       "      <td><div style=\"text-align: right;\">26.55 % ↑</div></td>\n",
       "    </tr>\n",
       "    <tr>\n",
       "      <th>13</th>\n",
       "      <td><div style=\"text-align: left;\">sim_lbco</div></td>\n",
       "      <td><div style=\"text-align: left;\">peak</div></td>\n",
       "      <td><div style=\"text-align: left;\"></div></td>\n",
       "      <td><div style=\"text-align: left;\">gauss_sigma_0</div></td>\n",
       "      <td><div style=\"text-align: right;\">90223.6773</div></td>\n",
       "      <td><div style=\"text-align: right;\">89477.6733</div></td>\n",
       "      <td><div style=\"text-align: right;\">9441.8847</div></td>\n",
       "      <td><div style=\"text-align: left;\">µs²</div></td>\n",
       "      <td><div style=\"text-align: right;\">0.83 % ↓</div></td>\n",
       "    </tr>\n",
       "    <tr>\n",
       "      <th>14</th>\n",
       "      <td><div style=\"text-align: left;\">sim_lbco</div></td>\n",
       "      <td><div style=\"text-align: left;\">peak</div></td>\n",
       "      <td><div style=\"text-align: left;\"></div></td>\n",
       "      <td><div style=\"text-align: left;\">gauss_sigma_1</div></td>\n",
       "      <td><div style=\"text-align: right;\">-80933.7029</div></td>\n",
       "      <td><div style=\"text-align: right;\">-73469.3179</div></td>\n",
       "      <td><div style=\"text-align: right;\">11867.0173</div></td>\n",
       "      <td><div style=\"text-align: left;\">µs/Å</div></td>\n",
       "      <td><div style=\"text-align: right;\">9.22 % ↓</div></td>\n",
       "    </tr>\n",
       "    <tr>\n",
       "      <th>15</th>\n",
       "      <td><div style=\"text-align: left;\">sim_lbco</div></td>\n",
       "      <td><div style=\"text-align: left;\">peak</div></td>\n",
       "      <td><div style=\"text-align: left;\"></div></td>\n",
       "      <td><div style=\"text-align: left;\">gauss_sigma_2</div></td>\n",
       "      <td><div style=\"text-align: right;\">21634.7078</div></td>\n",
       "      <td><div style=\"text-align: right;\">18331.8705</div></td>\n",
       "      <td><div style=\"text-align: right;\">3625.2100</div></td>\n",
       "      <td><div style=\"text-align: left;\">µs²/Å²</div></td>\n",
       "      <td><div style=\"text-align: right;\">15.27 % ↓</div></td>\n",
       "    </tr>\n",
       "    <tr>\n",
       "      <th>16</th>\n",
       "      <td><div style=\"text-align: left;\">sim_lbco</div></td>\n",
       "      <td><div style=\"text-align: left;\">peak</div></td>\n",
       "      <td><div style=\"text-align: left;\"></div></td>\n",
       "      <td><div style=\"text-align: left;\">mix_beta_0</div></td>\n",
       "      <td><div style=\"text-align: right;\">0.0023</div></td>\n",
       "      <td><div style=\"text-align: right;\">0.0015</div></td>\n",
       "      <td><div style=\"text-align: right;\">0.0003</div></td>\n",
       "      <td><div style=\"text-align: left;\">deg</div></td>\n",
       "      <td><div style=\"text-align: right;\">33.08 % ↓</div></td>\n",
       "    </tr>\n",
       "    <tr>\n",
       "      <th>17</th>\n",
       "      <td><div style=\"text-align: left;\">sim_lbco</div></td>\n",
       "      <td><div style=\"text-align: left;\">peak</div></td>\n",
       "      <td><div style=\"text-align: left;\"></div></td>\n",
       "      <td><div style=\"text-align: left;\">mix_beta_1</div></td>\n",
       "      <td><div style=\"text-align: right;\">0.0124</div></td>\n",
       "      <td><div style=\"text-align: right;\">0.0154</div></td>\n",
       "      <td><div style=\"text-align: right;\">0.0012</div></td>\n",
       "      <td><div style=\"text-align: left;\">deg</div></td>\n",
       "      <td><div style=\"text-align: right;\">24.45 % ↑</div></td>\n",
       "    </tr>\n",
       "  </tbody>\n",
       "</table>"
      ],
      "text/plain": [
       "<IPython.core.display.HTML object>"
      ]
     },
     "metadata": {},
     "output_type": "display_data"
    },
    {
     "data": {
      "text/html": [
       "<div>                        <script type=\"text/javascript\">window.PlotlyConfig = {MathJaxConfig: 'local'};</script>\n",
       "        <script charset=\"utf-8\" src=\"https://cdn.plot.ly/plotly-3.1.0.min.js\" integrity=\"sha256-Ei4740bWZhaUTQuD6q9yQlgVCMPBz6CZWhevDYPv93A=\" crossorigin=\"anonymous\"></script>                <div id=\"7bf383f2-a006-4d48-83e2-83fd7e5935a1\" class=\"plotly-graph-div\" style=\"height:100%; width:100%;\"></div>            <script type=\"text/javascript\">                window.PLOTLYENV=window.PLOTLYENV || {};                                if (document.getElementById(\"7bf383f2-a006-4d48-83e2-83fd7e5935a1\")) {                    Plotly.newPlot(                        \"7bf383f2-a006-4d48-83e2-83fd7e5935a1\",                        [{\"line\":{\"color\":\"rgb(31, 119, 180)\"},\"mode\":\"lines+markers\",\"name\":\"Measured (Imeas)\",\"x\":{\"dtype\":\"f8\",\"bdata\":\"k6mCUTXg6kC28\\u002f3U5O7qQPH0SlmU\\u002fepAK\\u002faX3UMM60Bm9+Rh8xrrQKH4MeaiKetAxEKtaVI460D+Q\\u002frtAUfrQDlFR3KxVetAdEaU9mBk60CXkA96EHPrQNGRXP6\\u002fgetADJOpgm+Q60BGlPYGH5\\u002frQIGVQ4vOretApN++Dn6860Df4AuTLcvrQBniWBfd2etAVOOlm4zo60CP5PIfPPfrQLIubqPrBexA7C+7J5sU7EAnMQisSiPsQGEyVTD6MexAnDOitKlA7EC\\u002ffR04WU\\u002fsQPp+arwIXuxANIC3QLhs7EBvgQTFZ3vsQKqCUUkXiuxAzczMzMaY7EAHzhlRdqfsQELPZtUltuxAfdCzWdXE7EC30QDehNPsQNobfGE04uxAFR3J5ePw7EBPHhZqk\\u002f\\u002fsQIofY+5CDu1AxSCwcvIc7UDoaiv2oSvtQCJseHpROu1AXW3F\\u002fgBJ7UCYbhKDsFftQNJvXwdgZu1A9bnaig917UAwuycPv4PtQGq8dJNuku1Apb3BFx6h7UDgvg6cza\\u002ftQAMJih99vu1APQrXoyzN7UB4CyQo3NvtQLMMcayL6u1A7Q2+MDv57UAQWDm06gfuQEtZhjiaFu5AhlrTvEkl7kDAWyBB+TPuQPtcbcWoQu5AHqfoSFhR7kBYqDXNB2DuQJOpglG3bu5AzqrP1WZ97kAIrBxaFozuQCv2l93Fmu5AZvfkYXWp7kCh+DHmJLjuQNv5fmrUxu5AFvvL7oPV7kA5RUdyM+TuQHRGlPbi8u5ArkfhepIB70DpSC7\\u002fQRDvQCNKe4PxHu9ARpT2BqEt70CBlUOLUDzvQLyWkA8AS+9A9pfdk69Z70AxmSoYX2jvQFTjpZsOd+9Aj+TyH76F70DJ5T+kbZTvQATnjCgdo+9AJzEIrMyx70BhMlUwfMDvQJwzorQrz+9A1zTvONvd70ARNjy9iuzvQDSAt0A6++9AuECC4vQE8EBVwaikTAzwQPJBz2akE\\u002fBAj8L1KPwa8EChZ7PqUyLwQD7o2ayrKfBA3GgAbwMx8EB56SYxWzjwQBZqTfOyP\\u002fBAKA8LtQpH8EDFjzF3Yk7wQGIQWDm6VfBAAJF++xFd8ECdEaW9aWTwQK62Yn\\u002fBa\\u002fBATDeJQRlz8EDpt68DcXrwQIY41sXIgfBAJLn8hyCJ8EA1XrpJeJDwQNPe4AvQl\\u002fBAcF8Hzief8EAN4C2Qf6bwQKpgVFLXrfBAvAUSFC+18EBZhjjWhrzwQPcGX5jew\\u002fBAlIeFWjbL8EAxCKwcjtLwQEOtad7l2fBA4C2QoD3h8EB9rrZilejwQBsv3STt7\\u002fBAuK8D50T38EDKVMGonP7wQGfV52r0BfFABFYOLUwN8UCh1jTvoxTxQD9XW7H7G\\u002fFAUPwYc1Mj8UDufD81qyrxQIv9ZfcCMvFAKH6MuVo58UDF\\u002frJ7skDxQNejcD0KSPFAdCSX\\u002f2FP8UASpb3BuVbxQK8l5IMRXvFATKYKRmll8UBeS8gHwWzxQPvL7skYdPFAmEwVjHB78UA2zTtOyILxQNNNYhAgivFA5fIf0neR8UCCc0aUz5jxQB\\u002f0bFYnoPFAvHSTGH+n8UBa9bna1q7xQGuad5wutvFACRueXoa98UCmm8Qg3sTxQEMc6+I1zPFA4JwRpY3T8UDyQc9m5drxQI\\u002fC9Sg94vFALUMc65Tp8UDKw0Kt7PDxQNxoAG9E+PFAeekmMZz\\u002f8UAWak3z8wbyQLPqc7VLDvJAUWuad6MV8kBiEFg5+xzyQACRfvtSJPJAnRGlvaor8kA6kst\\u002fAjPyQNcS8kFaOvJA6bevA7JB8kCGONbFCUnyQCS5\\u002fIdhUPJAwTkjSrlX8kBeukkMEV\\u002fyQHBfB85oZvJADeAtkMBt8kCqYFRSGHXyQEjhehRwfPJA5WGh1seD8kD3Bl+YH4vyQJSHhVp3kvJAMQisHM+Z8kDOiNLeJqHyQGwJ+aB+qPJAfa62Ytav8kAbL90kLrfyQLivA+eFvvJAVTAqqd3F8kDysFBrNc3yQARWDi2N1PJAodY07+Tb8kA\\u002fV1uxPOPyQNzXgXOU6vJAeVioNezx8kCL\\u002fWX3Q\\u002fnyQCh+jLmbAPNAxf6ye\\u002fMH80Bjf9k9Sw\\u002fzQAAAAACjFvNAEqW9wfod80CvJeSDUiXzQEymCkaqLPNA6SYxCAI080CHp1fKWTvzQJhMFYyxQvNANs07TglK80DTTWIQYVHzQHDOiNK4WPNADk+vlBBg80Af9GxWaGfzQLx0kxjAbvNAWvW52hd280D3deCcb33zQJT2Bl\\u002fHhPNAppvEIB+M80BDHOvidpPzQOCcEaXOmvNAfh04Zyai80Abnl4pfqnzQC1DHOvVsPNAysNCrS2480BnRGlvhb\\u002fzQAXFjzHdxvNAokW28zTO80Cz6nO1jNXzQFFrmnfk3PNA7uvAOTzk80CLbOf7k+vzQCntDb7r8vNAOpLLf0P680DXEvJBmwH0QHWTGATzCPRAEhQ\\u002fxkoQ9EAkufyHohf0QME5I0r6HvRAXrpJDFIm9ED7OnDOqS30QJm7lpABNfRAqmBUUlk89EBI4XoUsUP0QOVhodYIS\\u002fRAguLHmGBS9EAgY+5auFn0QDEIrBwQYfRAzojS3mdo9EBsCfmgv2\\u002f0QAmKH2MXd\\u002fRApgpGJW9+9EC4rwPnxoX0QFUwKqkejfRA8rBQa3aU9ECQMXctzpv0QC2yne8lo\\u002fRAP1dbsX2q9EDc14Fz1bH0QHlYqDUtufRAF9nO94TA9EC0WfW53Mf0QMX+sns0z\\u002fRAY3\\u002fZPYzW9EAAAAAA5N30QJ2AJsI75fRAOwFNhJPs9EBMpgpG6\\u002fP0QOkmMQhD+\\u002fRAh6dXypoC9UAkKH6M8gn1QMGopE5KEfVA001iEKIY9UBwzojS+R\\u002f1QA5Pr5RRJ\\u002fVAq8\\u002fVVqku9UBIUPwYATb1QFr1udpYPfVA93XgnLBE9UCU9gZfCEz1QDJ3LSFgU\\u002fVAz\\u002fdT47da9UDgnBGlD2L1QH4dOGdnafVAG55eKb9w9UC4HoXrFnj1QFafq61uf\\u002fVAZ0Rpb8aG9UAFxY8xHo71QKJFtvN1lfVAP8bctc2c9UDcRgN4JaT1QO7rwDl9q\\u002fVAi2zn+9Sy9UAp7Q2+LLr1QMZtNICEwfVAY+5aQtzI9UB1kxgENND1QBIUP8aL1\\u002fVAr5RliOPe9UBNFYxKO+b1QOqVsgyT7fVA+zpwzur09UCZu5aQQvz1QDY8vVKaA\\u002fZA07zjFPIK9kBxPQrXSRL2QILix5ihGfZAIGPuWvkg9kC94xQdUSj2QFpkO9+oL\\u002fZAbAn5oAA39kAJih9jWD72QKYKRiWwRfZARIts5wdN9kDhC5OpX1T2QPKwUGu3W\\u002fZAkDF3LQ9j9kAtsp3vZmr2QMoyxLG+cfZAaLPqcxZ59kB5WKg1boD2QBfZzvfFh\\u002fZAtFn1uR2P9kBR2ht8dZb2QO5aQj7NnfZAAAAAACWl9kCdgCbCfKz2QDsBTYTUs\\u002fZA2IFzRiy79kB1ApoIhML2QIenV8rbyfZAJCh+jDPR9kDBqKROi9j2QF8pyxDj3\\u002fZA\\u002fKnx0jrn9kAOT6+Uku72QKvP1Vbq9fZASFD8GEL99kDl0CLbmQT3QINRSZ3xC\\u002fdAlPYGX0kT90Aydy0hoRr3QM\\u002f3U+P4IfdAbHh6pVAp90AJ+aBnqDD3QBueXikAOPdAuB6F61c\\u002f90BWn6utr0b3QPMf0m8HTvdAkKD4MV9V90CiRbbztlz3QD\\u002fG3LUOZPdA3EYDeGZr90B6xyk6vnL3QBdIUPwVevdAKe0Nvm2B90DGbTSAxYj3QGPuWkIdkPdAAG+BBHWX90Ce76fGzJ73QK+UZYgkpvdATRWMSnyt90DqlbIM1LT3QIcW2c4rvPdAJJf\\u002fkIPD90A2PL1S28r3QNO84xQz0vdAcT0K14rZ90AOvjCZ4uD3QKs+V1s66PdAveMUHZLv90BaZDvf6fb3QPfkYaFB\\u002fvdAlWWIY5kF+EAy5q4l8Qz4QESLbOdIFPhA4QuTqaAb+EB+jLlr+CL4QBsN4C1QKvhALbKd76cx+EDKMsSx\\u002fzj4QGiz6nNXQPhABTQRNq9H+ECitDf4Bk\\u002f4QLRZ9bleVvhAUdobfLZd+EDuWkI+DmX4QIzbaABmbPhAKVyPwr1z+EA7AU2EFXv4QNiBc0ZtgvhAdQKaCMWJ+EASg8DKHJH4QLAD54x0mPhAwaikTsyf+EBfKcsQJKf4QPyp8dJ7rvhAmSoYldO1+EA2qz5XK734QEhQ\\u002fBiDxPhA5dAi29rL+ECDUUmdMtP4QCDSb1+K2vhAvVKWIeLh+EDP91PjOen4QGx4eqWR8PhACfmgZ+n3+ECneccpQf\\u002f4QET67euYBvlAVp+rrfAN+UDzH9JvSBX5QJCg+DGgHPlALSEf9Pcj+UDLoUW2Tyv5QNxGA3inMvlAescpOv85+UAXSFD8VkH5QLTIdr6uSPlAUkmdgAZQ+UBj7lpCXlf5QABvgQS2XvlAnu+nxg1m+UA7cM6IZW35QNjw9Eq9dPlA6pWyDBV8+UCHFtnObIP5QCSX\\u002f5DEivlAwhcmUxyS+UBfmEwVdJn5QHE9CtfLoPlADr4wmSOo+UCrPldbe6\\u002f5QEi\\u002ffR3TtvlA5j+k3yq++UA=\"},\"y\":{\"dtype\":\"f8\",\"bdata\":\"Ro6RutwL0D8+eTa7RpzSPwOlc1uRBtM\\u002fbbst91Am0z9IdSTJCg7UP4Nj+6elmdI\\u002fMPXJL3U5zD\\u002fshCSHPO\\u002fTPyqwfDWTKdE\\u002fBoSfnKzizT\\u002fPHD6XudLQP2ct7xDz5NQ\\u002fR9vipM2Z0T\\u002fTVztgD03WP7L5CPz17No\\u002fBTTkpWo74j8jH3quAFzxP6EN9Bf4dPU\\u002fYPwGlWGp9j\\u002fQbQCKc7zxP+FV\\u002fYpmr+c\\u002fnK\\u002f5FipR4D\\u002fY3RcceKbUP9Oy1IE4eNE\\u002fe46gr1Yt0T9Ul6zu9CvNP\\u002fWPISGFC9E\\u002fLl3jZS8W0z+krMCKS2PRPwL520lBmcU\\u002fpwEKrSEr1D\\u002fHs+pSAYfOP8QlMDK9EMw\\u002fH6L2wpEJ0j+DtLLt7e3KP3krf9k2oNE\\u002fVwRLzsqW0T9YXL6iMQnHP32K6+mnLdE\\u002fU\\u002fvtwoNl0D8S10IUAjzOP8FJxXoLzs8\\u002fPRI0+Wbj0j8s78UhR53NPwyuEmjWltA\\u002fjXA0WdNH0z8tparsG4zSP2rd\\u002f4aFK9Q\\u002fU4UWvO+u1D+kXuKEnBHZP1fFM4JFA+M\\u002fCjBUSEtG5D8pip8xWg3mP7TPMvFdQOE\\u002f79T3FwIa2D8JWApgogLXP+EtS4D6StM\\u002fBXgIISde0j83rEWJgAPRP7CVjV7uZdM\\u002fBGD64UtByz8ymLoDgrjOP5jltZeZts8\\u002f6YS3C4UTzz\\u002fbp778UqDRP52tTDoihtE\\u002fWHkIogBG0j8hs7Dm0A7RP0nH\\u002fYMXPdE\\u002f0kTan0mZ0D8EYuB0WYnMP8Awf\\u002f3aFc4\\u002feF\\u002f+ZNoEzz\\u002fbnfgrkjzPP4ZRI\\u002fyCic4\\u002f+CC9ZXv40D8DTFs5DB\\u002fOPxMpBqLWVc8\\u002fKLqWPXAF0j939q5oeC3RP9SfuY3Z\\u002fNU\\u002fk399aCLX0T+F6CzufpjQPwZopOYjmtM\\u002fbLjJ4ypL1T8aTh4uvfzYP0zRbO2lKds\\u002fYz75FGWn2z9Dx2PrXszaP1M41JgkX+M\\u002f1fYBVjhi8D+4+sEkCo77PxYrTMfj9AZA6PESrNtFCkDOPABsc14IQMrd5CkoHv0\\u002fNt8Tbo5N7T+wEBj52PfgP6YFcpPFG9c\\u002f+L8BeWvf0T8c6TkNfQrQP2PIMo4Yes8\\u002fp4aAGrlO0T\\u002f6xhchBxzPP5OlsZH8X84\\u002fpsIHhmaM0T8qAUEy7HTMP6FuMx2wzs8\\u002fT9u6OFcs0z\\u002f+pL+6\\u002fXjSP0XPs4GC\\u002f9Q\\u002f15RpOywH1z8CCgR\\u002fjq7VP\\u002fGoTsqBiuM\\u002fIKG20YiU8D\\u002fQCmKkAj79Pxy80DvsuQ1AFfR\\u002f+RtvGkDZV\\u002f\\u002fD3HseQHwK0\\u002fpVXBlAwPOEYZSPD0CnM0Or7Lz9Pz+e6Ew7L+8\\u002fDt1OCRUE4z\\u002fP0t44MBHaP57OmGw7y9Q\\u002fcYKkyqAm0T9eQuew8dvNP3gznDf4stM\\u002fWZ7t3e5azT9PAD2VNDrPP2QjoTNsstA\\u002f+Fqj3GwI0D\\u002fzjXo7vxrPPzFnrroqc8s\\u002f\\u002fxCjCx7Gzz9lOkARXCvPP4A3px6rENA\\u002fraTmWO9I0T+Z0rcLi2\\u002fMPxUMStvurc8\\u002f2Mr0SRHyzT9i4fScg53RP7N9+8XoKNE\\u002f97wivgsu2D9zQHi473ffP1hPa5r9PeQ\\u002fQv7ocwqz5D9FP3IZAf3hP2b4P\\u002fUM3dg\\u002fPu8wXTD51D+UORqANqnTP4IcWmex+tM\\u002fwCgdtQs31D\\u002f0MtLXQ1\\u002fWP\\u002fmd35gIMNg\\u002fb7tOMUJO0z94r\\u002fZrGerQP55M6Un5k88\\u002faaVwC8WI0D\\u002fFUu3nhh3MP1oxXWEFN88\\u002f8pb0A25EzT9dEp7+uT7NP4KaONiNPdE\\u002fEAWqee4Q0j+3CsTdK4zPPyGgkVGG\\u002fss\\u002f0f4FjWSr0D+VM30GqK\\u002fQP50Lm38O9M8\\u002ftPkh8jmqzD9YxD\\u002fhu6rQP6yhzw8MwNA\\u002f3WL9Y3tHzT9HlTWRK0nQP4GIv1XRJdA\\u002fHhZbIq7R0D9CR1RKUkrSP8mqAKWDSNI\\u002frVrfioqu0T9hNC7bDpHRP1UAjXfNRdE\\u002fjVP2aQ630D+Wd5OzZdfPP4muZtw7ktA\\u002fIEbKW0M2zz8lA8jEu6LQP7eP4MUrEs8\\u002fBT2CBMEczD9Xqs8hTsrNP4bosqSjq84\\u002fEUfznKB7zj\\u002faAGTbHpfNP6I+a\\u002fsFRtA\\u002fvuPPWZPe0D9EewhYmOjQP0CZtpm0C84\\u002fjANvMBbi0D+GPWvKJsjQP6v78opALs4\\u002fimbZQfFyzz9WHoLabmfPP7Fedk69X9A\\u002fBt2QBbE6zz+v6QpNdlvQPxdTdd52MdA\\u002frmNw+Uko0T\\u002fdDgP36JfTPy+OdC3yjtU\\u002frVZW+\\u002fn42D8S2RBGmATaP0r9c\\u002f5zPN0\\u002fx+QFwOw95D+9bQWt45fuP0V48u5YUvk\\u002flrIt2s\\u002fuB0ByWRn3TC0WQAKQuTj7ISJATGNCUZhfJkCEf31bs8UkQCwSxI35jx1ATqMgkrrOD0D++dsdqkEBQMeeFNZKWvM\\u002f7DpYraly6D\\u002fiR0BoAvHgPwGxpaYuqNk\\u002fCISfuQwV1D\\u002fC2f69jTfSP68FS3+pcdA\\u002f5oJxm1Th0T\\u002fRivKc9QzQP0aI79aeqNA\\u002fXoRdk0afzT9LsHL2uFHRP4M18QLy\\u002fc8\\u002fJ76C3f5Xzj9S5Z0v7wHQP2kjEFd2rMw\\u002flXZlmiN8zj+fmTU0JzHPP88dW5zL188\\u002fvDJd95wDzj9m9IsL7TzNPxszKz+Nd88\\u002ff+\\u002fvi8Mv0D\\u002fPU884i9LPP0IX3okgIM4\\u002fU\\u002fCD4pqS0D+cCwEDi9zLP4eJ34FkDM8\\u002fZ89p9O+ezz8H8emuGRrRP3guQjU3RM4\\u002fhNidpMlezj9XUPeoyoHQP\\u002fiOEnWDb84\\u002fKncJM3UVyz\\u002fttMsKWgfQPyFjEwAfb88\\u002fo\\u002f472ZgJzT8mbvpGE8nMP9MA1JwI3cw\\u002fFSnT0w5Pzz+Xtj2ZjZDOP7fTkKgoC84\\u002fQbzSO3rDzj+I2NqktLvNP99iG5aSQ9A\\u002fL9jzVoLJ0D88psptKKDOPxxaRsYPPc8\\u002fWPbQqTY8zD8TbcwLnELQP+nHnfH+F84\\u002fVrbnVtAm0D\\u002fPexIhFZjOPyfZAgBMKs8\\u002fQSsh1ElSzj9qdmydonDQP\\u002f5buiN9mc8\\u002feSdKsuxdzz\\u002fsXT1s2MfNP\\u002fU8yBbJ2M4\\u002ffLIcYa7azj+q6qg7HEbQPwtZ0y3Z1c8\\u002fGWQzml4Uzj8uqJ4JTuDQP4mR24UJlM8\\u002fFZWnAiLnzj\\u002ftIVB4MLXOP9\\u002f0ahYnY84\\u002f7yzOB7Amzz9ESLzpSIrMP+4Zd9KzDc0\\u002fcjmkULNYzz+klLijmzTPPzZnNg6MGM8\\u002f+f2d8Sj4zz\\u002f8+yWY6hvRP2K9Qmt7O9E\\u002fstqM2cmjzz8hFfDuZlvRP3e8Vtk1Us8\\u002fjzUcnwvvzz9QwSUTy2TOPw4yZED+ocw\\u002f6GmsydgyzT+w6A+x\\u002fyLOP2E1gkoEJNA\\u002f3LbNHJdnyz87ZWoRhL\\u002fOP+SnbKbz8c8\\u002fb30HTCfizD85zB1+q4vQPzgOhfs959A\\u002f2k+O+t9H0j+0rcCm8dHSP0Hsg7Zoa9U\\u002fkLYaniOe1z+vstWwjjbePz9Hd+9gPuI\\u002fVntUQgfv5j\\u002ff6\\u002fbtM6TtP5YeH+PEE+8\\u002fLMq6vclX7D+XC8IAA87mP71xYE5qT+E\\u002f+uI8ZSYm2z9vf5aG75HWP605ZLPFotM\\u002fXqwHc9O10z+0s2sKDDDRPwpmpP2b49A\\u002fykYb9z6szj8A1ZdQnsjNPwzBt3Rtx9A\\u002fafLGfFsJzT9V3mIdsoPOP09fQJtrB84\\u002fB8wFlnnv0D+\\u002fhp7YmezNP8A71obKM9E\\u002fGDjevl1z0j9Yf5EaktzSP7Ln72esktU\\u002fgEoj9AR52D\\u002fttFJsbcDcP2xR5U4KSt0\\u002fPobrzuo32z9rJMG+KyzZP\\u002f28F7luzNY\\u002fV2XrDJhD1D+evabhTQfSP+EGvPi6nNE\\u002fL1zpV8b4zj\\u002fu6q2T+JTPP4kYz96Fv80\\u002fbkPtwK8mzT\\u002f16qtBDTvNP8zSCE8BM8s\\u002fQy9hZvnyzT8Spz+G4q7MPzQzpVQdDtA\\u002f77VQpOBizD\\u002f3yrQ4u1DPP06HVdmFusw\\u002fQC5666Wfzj+YzsYoMuLOP9AZi6kQ8Mo\\u002famHTB8fszj8nWdwD3kzNPxG\\u002fVr+dHMw\\u002f18q6LI4UzD95+zrqhZfKPzYiCVbkks0\\u002fwtjym9i5yz+cSM0jDGnMP6CaZLVTRMw\\u002fm7zWF5h4yj9uAK1CZATOPyZuEIkYU8w\\u002fPCWeaLnvzT\\u002f\\u002f+\\u002fZdeprQP6hXVvTvKMw\\u002fvhGjJ8Ofzj+Ld1j\\u002fDB\\u002fOP\\u002fWSGjh3Wc0\\u002fNb6etG2rzj9L\\u002f7WIh27LP5MrQ7flL88\\u002fnER2yF7uzz+3RrlT9J7QP4PxgiCi380\\u002fmZ3\\u002fMdtU0D\\u002fYJoJYh17RP7qYw+fvW9A\\u002fa3EoFODa0T\\u002f4oLujpbnRP1T6k5GjFtQ\\u002fGRSPkaet0z\\u002fJfAsoIK7TP+swcS4vQ9A\\u002fB3JhbkBI0j9T4t\\u002fGkEXRPyKpUzw8E88\\u002f4uj+r8Ktzz9HMVfza2bOP+A38erOus4\\u002f0y2m1bWyzD92D2qrLT3OP+2IuWVxJs8\\u002fr8hYGC7zzT\\u002fvNOV3mgvNP30KyPshmtA\\u002f+rQxW4iKzj8PFwlP4avKP+nd\\u002fc+1Esw\\u002f9faMPaaDyz+V9ChTNt\\u002fPP8cQb4Zdxc4\\u002fojOpQxDIzD+Aue65k5HQP2ki7oNYwM4\\u002fbgdkDykVzD\\u002fANXz8uZHNP0EbZYvCqdA\\u002fPcv8GD6C0D8=\"},\"type\":\"scatter\"},{\"line\":{\"color\":\"rgb(214, 39, 40)\"},\"mode\":\"lines\",\"name\":\"Total calculated (Icalc)\",\"x\":{\"dtype\":\"f8\",\"bdata\":\"k6mCUTXg6kC28\\u002f3U5O7qQPH0SlmU\\u002fepAK\\u002faX3UMM60Bm9+Rh8xrrQKH4MeaiKetAxEKtaVI460D+Q\\u002frtAUfrQDlFR3KxVetAdEaU9mBk60CXkA96EHPrQNGRXP6\\u002fgetADJOpgm+Q60BGlPYGH5\\u002frQIGVQ4vOretApN++Dn6860Df4AuTLcvrQBniWBfd2etAVOOlm4zo60CP5PIfPPfrQLIubqPrBexA7C+7J5sU7EAnMQisSiPsQGEyVTD6MexAnDOitKlA7EC\\u002ffR04WU\\u002fsQPp+arwIXuxANIC3QLhs7EBvgQTFZ3vsQKqCUUkXiuxAzczMzMaY7EAHzhlRdqfsQELPZtUltuxAfdCzWdXE7EC30QDehNPsQNobfGE04uxAFR3J5ePw7EBPHhZqk\\u002f\\u002fsQIofY+5CDu1AxSCwcvIc7UDoaiv2oSvtQCJseHpROu1AXW3F\\u002fgBJ7UCYbhKDsFftQNJvXwdgZu1A9bnaig917UAwuycPv4PtQGq8dJNuku1Apb3BFx6h7UDgvg6cza\\u002ftQAMJih99vu1APQrXoyzN7UB4CyQo3NvtQLMMcayL6u1A7Q2+MDv57UAQWDm06gfuQEtZhjiaFu5AhlrTvEkl7kDAWyBB+TPuQPtcbcWoQu5AHqfoSFhR7kBYqDXNB2DuQJOpglG3bu5AzqrP1WZ97kAIrBxaFozuQCv2l93Fmu5AZvfkYXWp7kCh+DHmJLjuQNv5fmrUxu5AFvvL7oPV7kA5RUdyM+TuQHRGlPbi8u5ArkfhepIB70DpSC7\\u002fQRDvQCNKe4PxHu9ARpT2BqEt70CBlUOLUDzvQLyWkA8AS+9A9pfdk69Z70AxmSoYX2jvQFTjpZsOd+9Aj+TyH76F70DJ5T+kbZTvQATnjCgdo+9AJzEIrMyx70BhMlUwfMDvQJwzorQrz+9A1zTvONvd70ARNjy9iuzvQDSAt0A6++9AuECC4vQE8EBVwaikTAzwQPJBz2akE\\u002fBAj8L1KPwa8EChZ7PqUyLwQD7o2ayrKfBA3GgAbwMx8EB56SYxWzjwQBZqTfOyP\\u002fBAKA8LtQpH8EDFjzF3Yk7wQGIQWDm6VfBAAJF++xFd8ECdEaW9aWTwQK62Yn\\u002fBa\\u002fBATDeJQRlz8EDpt68DcXrwQIY41sXIgfBAJLn8hyCJ8EA1XrpJeJDwQNPe4AvQl\\u002fBAcF8Hzief8EAN4C2Qf6bwQKpgVFLXrfBAvAUSFC+18EBZhjjWhrzwQPcGX5jew\\u002fBAlIeFWjbL8EAxCKwcjtLwQEOtad7l2fBA4C2QoD3h8EB9rrZilejwQBsv3STt7\\u002fBAuK8D50T38EDKVMGonP7wQGfV52r0BfFABFYOLUwN8UCh1jTvoxTxQD9XW7H7G\\u002fFAUPwYc1Mj8UDufD81qyrxQIv9ZfcCMvFAKH6MuVo58UDF\\u002frJ7skDxQNejcD0KSPFAdCSX\\u002f2FP8UASpb3BuVbxQK8l5IMRXvFATKYKRmll8UBeS8gHwWzxQPvL7skYdPFAmEwVjHB78UA2zTtOyILxQNNNYhAgivFA5fIf0neR8UCCc0aUz5jxQB\\u002f0bFYnoPFAvHSTGH+n8UBa9bna1q7xQGuad5wutvFACRueXoa98UCmm8Qg3sTxQEMc6+I1zPFA4JwRpY3T8UDyQc9m5drxQI\\u002fC9Sg94vFALUMc65Tp8UDKw0Kt7PDxQNxoAG9E+PFAeekmMZz\\u002f8UAWak3z8wbyQLPqc7VLDvJAUWuad6MV8kBiEFg5+xzyQACRfvtSJPJAnRGlvaor8kA6kst\\u002fAjPyQNcS8kFaOvJA6bevA7JB8kCGONbFCUnyQCS5\\u002fIdhUPJAwTkjSrlX8kBeukkMEV\\u002fyQHBfB85oZvJADeAtkMBt8kCqYFRSGHXyQEjhehRwfPJA5WGh1seD8kD3Bl+YH4vyQJSHhVp3kvJAMQisHM+Z8kDOiNLeJqHyQGwJ+aB+qPJAfa62Ytav8kAbL90kLrfyQLivA+eFvvJAVTAqqd3F8kDysFBrNc3yQARWDi2N1PJAodY07+Tb8kA\\u002fV1uxPOPyQNzXgXOU6vJAeVioNezx8kCL\\u002fWX3Q\\u002fnyQCh+jLmbAPNAxf6ye\\u002fMH80Bjf9k9Sw\\u002fzQAAAAACjFvNAEqW9wfod80CvJeSDUiXzQEymCkaqLPNA6SYxCAI080CHp1fKWTvzQJhMFYyxQvNANs07TglK80DTTWIQYVHzQHDOiNK4WPNADk+vlBBg80Af9GxWaGfzQLx0kxjAbvNAWvW52hd280D3deCcb33zQJT2Bl\\u002fHhPNAppvEIB+M80BDHOvidpPzQOCcEaXOmvNAfh04Zyai80Abnl4pfqnzQC1DHOvVsPNAysNCrS2480BnRGlvhb\\u002fzQAXFjzHdxvNAokW28zTO80Cz6nO1jNXzQFFrmnfk3PNA7uvAOTzk80CLbOf7k+vzQCntDb7r8vNAOpLLf0P680DXEvJBmwH0QHWTGATzCPRAEhQ\\u002fxkoQ9EAkufyHohf0QME5I0r6HvRAXrpJDFIm9ED7OnDOqS30QJm7lpABNfRAqmBUUlk89EBI4XoUsUP0QOVhodYIS\\u002fRAguLHmGBS9EAgY+5auFn0QDEIrBwQYfRAzojS3mdo9EBsCfmgv2\\u002f0QAmKH2MXd\\u002fRApgpGJW9+9EC4rwPnxoX0QFUwKqkejfRA8rBQa3aU9ECQMXctzpv0QC2yne8lo\\u002fRAP1dbsX2q9EDc14Fz1bH0QHlYqDUtufRAF9nO94TA9EC0WfW53Mf0QMX+sns0z\\u002fRAY3\\u002fZPYzW9EAAAAAA5N30QJ2AJsI75fRAOwFNhJPs9EBMpgpG6\\u002fP0QOkmMQhD+\\u002fRAh6dXypoC9UAkKH6M8gn1QMGopE5KEfVA001iEKIY9UBwzojS+R\\u002f1QA5Pr5RRJ\\u002fVAq8\\u002fVVqku9UBIUPwYATb1QFr1udpYPfVA93XgnLBE9UCU9gZfCEz1QDJ3LSFgU\\u002fVAz\\u002fdT47da9UDgnBGlD2L1QH4dOGdnafVAG55eKb9w9UC4HoXrFnj1QFafq61uf\\u002fVAZ0Rpb8aG9UAFxY8xHo71QKJFtvN1lfVAP8bctc2c9UDcRgN4JaT1QO7rwDl9q\\u002fVAi2zn+9Sy9UAp7Q2+LLr1QMZtNICEwfVAY+5aQtzI9UB1kxgENND1QBIUP8aL1\\u002fVAr5RliOPe9UBNFYxKO+b1QOqVsgyT7fVA+zpwzur09UCZu5aQQvz1QDY8vVKaA\\u002fZA07zjFPIK9kBxPQrXSRL2QILix5ihGfZAIGPuWvkg9kC94xQdUSj2QFpkO9+oL\\u002fZAbAn5oAA39kAJih9jWD72QKYKRiWwRfZARIts5wdN9kDhC5OpX1T2QPKwUGu3W\\u002fZAkDF3LQ9j9kAtsp3vZmr2QMoyxLG+cfZAaLPqcxZ59kB5WKg1boD2QBfZzvfFh\\u002fZAtFn1uR2P9kBR2ht8dZb2QO5aQj7NnfZAAAAAACWl9kCdgCbCfKz2QDsBTYTUs\\u002fZA2IFzRiy79kB1ApoIhML2QIenV8rbyfZAJCh+jDPR9kDBqKROi9j2QF8pyxDj3\\u002fZA\\u002fKnx0jrn9kAOT6+Uku72QKvP1Vbq9fZASFD8GEL99kDl0CLbmQT3QINRSZ3xC\\u002fdAlPYGX0kT90Aydy0hoRr3QM\\u002f3U+P4IfdAbHh6pVAp90AJ+aBnqDD3QBueXikAOPdAuB6F61c\\u002f90BWn6utr0b3QPMf0m8HTvdAkKD4MV9V90CiRbbztlz3QD\\u002fG3LUOZPdA3EYDeGZr90B6xyk6vnL3QBdIUPwVevdAKe0Nvm2B90DGbTSAxYj3QGPuWkIdkPdAAG+BBHWX90Ce76fGzJ73QK+UZYgkpvdATRWMSnyt90DqlbIM1LT3QIcW2c4rvPdAJJf\\u002fkIPD90A2PL1S28r3QNO84xQz0vdAcT0K14rZ90AOvjCZ4uD3QKs+V1s66PdAveMUHZLv90BaZDvf6fb3QPfkYaFB\\u002fvdAlWWIY5kF+EAy5q4l8Qz4QESLbOdIFPhA4QuTqaAb+EB+jLlr+CL4QBsN4C1QKvhALbKd76cx+EDKMsSx\\u002fzj4QGiz6nNXQPhABTQRNq9H+ECitDf4Bk\\u002f4QLRZ9bleVvhAUdobfLZd+EDuWkI+DmX4QIzbaABmbPhAKVyPwr1z+EA7AU2EFXv4QNiBc0ZtgvhAdQKaCMWJ+EASg8DKHJH4QLAD54x0mPhAwaikTsyf+EBfKcsQJKf4QPyp8dJ7rvhAmSoYldO1+EA2qz5XK734QEhQ\\u002fBiDxPhA5dAi29rL+ECDUUmdMtP4QCDSb1+K2vhAvVKWIeLh+EDP91PjOen4QGx4eqWR8PhACfmgZ+n3+ECneccpQf\\u002f4QET67euYBvlAVp+rrfAN+UDzH9JvSBX5QJCg+DGgHPlALSEf9Pcj+UDLoUW2Tyv5QNxGA3inMvlAescpOv85+UAXSFD8VkH5QLTIdr6uSPlAUkmdgAZQ+UBj7lpCXlf5QABvgQS2XvlAnu+nxg1m+UA7cM6IZW35QNjw9Eq9dPlA6pWyDBV8+UCHFtnObIP5QCSX\\u002f5DEivlAwhcmUxyS+UBfmEwVdJn5QHE9CtfLoPlADr4wmSOo+UCrPldbe6\\u002f5QEi\\u002ffR3TtvlA5j+k3yq++UA=\"},\"y\":{\"dtype\":\"f8\",\"bdata\":\"FgGlZ1wK0T9aunsKrSDRP0Fpz0LlOtE\\u002fsfdQAKxG0T9tRmdgOjfRP9A8KlctFtE\\u002fJIv+NQz90D8yFrTs5QTRPzC5XKdQQ9E\\u002fkX3c8hbE0T+0uZsQpmzSP\\u002fyF6mWWANM\\u002f6z9Wftyd0z9wSrBxwIrVP6g7xRUwpNs\\u002fWmwebpmc5D\\u002fMr2leat\\u002fuP6hvMt34A\\u002fQ\\u002fgIPTfOq+9D+clhN3893wP0KTbNgneeY\\u002fb+IXwr4S3D9FcwddmfbTP6TyRD+nQ9E\\u002ffV\\u002fOSaGZ0D9uslDbDHbQP8Od4GVLbNA\\u002fDRohJY5m0D+ytsvJXmHQPxUBZkBCXNA\\u002fFadsOyhX0D+I9peODlLQP+lIje70TNA\\u002fuCpqUdtH0D9d1Uu4wULQP5LGRSyoPdA\\u002fmnYgy4440D9eA6z6dTPQPyGNbgtfLtA\\u002fk2LvT04p0D8Sxd7hUSTQPy8K2mGXH9A\\u002fmMODUrEb0D8eXt0jix7QP0gJkUbaKtA\\u002fvdTqMnRR0D+nkMXhg8fQP2E3SCcRGdI\\u002fUYXzmLld1T9Z52BT9bfbP8mNzk2iIuI\\u002fEpDV8HJG5T\\u002fAQPX9d\\u002frkP6P\\u002fL2kAquE\\u002fJDztK9OR2z8hzBixy+bVP80LXOa9m9I\\u002fwJDhIOf+0D8eGBp9+lvQPxPnKCKxKdA\\u002fju6YnzAd0D\\u002fIrdb3hhrQP76RZqISGtA\\u002f64kODC8a0D\\u002fAGCqFvBrQP3cY+LpTHNA\\u002fIJsw78sg0D9Q2Gq1ryzQP9zDJ6oQSNA\\u002fndsfxkV40D8NnQdo0a7QP41xv8f4xdA\\u002fjoKKIYin0D8inX5zvmzQP7A7HidTPdA\\u002f2fIHbPkl0D9C\\u002fAb7RB7QPyO+cO1pHdA\\u002fQAnNt8wg0D\\u002f5jfcDpSvQP6xYhL74SdA\\u002fiJxq\\u002fwCc0D9Kru1WUWrRP5DDuGiRINM\\u002fDM2gHzbN1T9EgzB\\u002fIVHYPzDwN1iUENk\\u002frGYE7cuZ2D+69UTPl7naP6wnmuGqzeI\\u002f1L7X4\\u002f+K8D8upYan\\u002fOr9P0EmTXIWCwdAyqVA67b2CkAd5hVdy98GQHoghLsgnPw\\u002f0tjnPGdE7T8sbWSoXJvePzAhgyyBddQ\\u002fYDHkSQZc0T+xxytS73fQP\\u002fdPT5SmNtA\\u002fmcTwcNMj0D8h8NAoiB7QP8MW3ueMHdA\\u002f4QBC3MUe0D\\u002fX1fAKDiPQP74qEIJyLtA\\u002f3x6iP91L0D92mKv5OZfQPz9bVxwnV9E\\u002f521a1ww90z8y6v8iqwPYP5AvW2mm9+E\\u002fCwNZY19D8D\\u002fq4WZHUWEAQF9icl6ytQ9AEy+gAhRgGUARP4tLJSIeQG1jZ9cOTBlA+yl5czSIDkDxWAtC5SL9P4pl1b4cguo\\u002fgZEAP0G53D9mkm4+AGHUPwv8SPCpkdE\\u002feXML4qWd0D8PNJmA6UnQP3qwBZKCK9A\\u002fAtTuclkf0D+qjrpnyRnQP9DOYqqQFtA\\u002fyg0X3jMU0D9HhNk6NBLQP5kZTTh3ENA\\u002f3\\u002fEnMSAP0D+WV4L8pQ7QP0f7I1YsENA\\u002fu4rDpmAW0D\\u002fP+\\u002fT7eifQP9A0jDvVUdA\\u002flsrnulu20D+5s4p54Z\\u002fRP+Sz8MppsdM\\u002fIz6hQxYL2D+QYQz36WTfP965LUc3geM\\u002fpHNUHiQ\\u002f5D9OIXzLvAzhP3jXt2Jq3tk\\u002fGKyveuPE1D9oqYVrEAbTP73m84Wmh9M\\u002fbIeNKiVb1T+HHfNS+djWP6X2lbI+PNY\\u002fXvScopv30z90Tpc\\u002fnOLRP6N\\u002fUkX0utA\\u002fhMAmSno40D8CKlbiEgLQPy\\u002fMaw6n1c8\\u002fN5xGDVbAzz+1Sj5vRLXPP7JlWwRprs8\\u002fK0ZMs06pzz\\u002fLD+l69aTPP6n1AIH5oM8\\u002fSYD97D6dzz8mJFMU2JnPP+mflEUNl88\\u002fp9L0B4eVzz9DOd7fsZbPPz2ntheUnc8\\u002fDHKC5Y2wzz+QmeWv+9zPP3lNcDhBH9A\\u002fFUDUveiE0D8htiFiwj7RP9JNFqpkLNI\\u002fHzm98KWh0j99XzgCIh3SP4U1jmsPI9E\\u002fxL0YznBl0D8zVdVGnAHQP9keRnFypc8\\u002fCO7+vhp5zz\\u002fQsqHz7WLPP9k0CB65Vs8\\u002fNCfKPwhPzz9p9ToMZ0nPP3bH99u4RM8\\u002fa7w\\u002fM3xAzz9sTFmidjzPP7xpL2iPOM8\\u002f3Fbvu780zz+M9YwkDjHPP48BCHGRLc8\\u002fUp2CVnwqzz9\\u002fqG5FNyjPP\\u002fHw\\u002fxCVJ88\\u002fRk0ExTsqzz9zs8DIczPPP1s1dnu+Sc8\\u002fWz84RvF5zz9\\u002f50uuP93PPyTgOUpuUtA\\u002fugzR7x4X0T\\u002fRgu9MW4bSPz6E+aCHxtQ\\u002fmkk2EX1W1z\\u002fgMDQyU+HZP9af23uqSt4\\u002fR0eVxjY65D86BV000uzuP4IKd5RwBPo\\u002frvZosDojB0BimRYkBMgUQAXNLzecLyFA7pFy6JGqJkBtroTlhHclQOlnEQPOox1ABITOWXHtEEAwv546kHYCQLeZ81wZ1vQ\\u002f7Onzdac76T+RR7fc487gP6Q5HZod79g\\u002fCP\\u002fX0Ypv1D9wPbpzrhfSP4RPzOCP3dA\\u002fIy9sGDs40D9cloAok8HPP\\u002fR9ezqqZM8\\u002fbpqCbx8zzz84P+PxoxjPPzQ+Zap7Cs8\\u002fe8kIOvICzz+vI+PA+\\u002f7OP0ETp7L1\\u002fM4\\u002fc4cHSv77zj81r1klm\\u002fvOP9lY5p2J+84\\u002fQiK2OqX7zj+\\u002fNrLs2fvOP6FflZ8c\\u002fM4\\u002fR+TgLGf8zj\\u002fjysAmtvzOP3evoKEH\\u002fc4\\u002fZwTdiFr9zj9pBx1Arv3OPysvpG4C\\u002fs4\\u002fKUDZ4Vb+zj\\u002fdXs18q\\u002f7OP0Lz1C4A\\u002f84\\u002f5YpR7lT\\u002fzj\\u002fj2q+1qf\\u002fOPz\\u002fSq4H+\\u002f84\\u002fqfJoUFMAzz93UcUgqADPP1fHGPL8AM8\\u002f5uH\\u002fw1EBzz+jyzqWpgHPP1\\u002fBr2j7Ac8\\u002fye5EO1ACzz9SqO0NpQLPP7FIouD5As8\\u002fDHRZs04Dzz++0RmGowPPP1nw3Fj4A88\\u002fusShK00Ezz\\u002fwrGf+oQTPP7+NKdH2BM8\\u002fh6nwo0sFzz\\u002fGMbh2oAXPP7MygEn1Bc8\\u002fJ+BIHEoGzz\\u002fg7w3vngbPP5+x2cHzBs8\\u002f3vqolEgHzz\\u002fXo35nnQfPP9PNXzryB88\\u002fIPBQDUcIzz8d72vgmwjPPy9GybPwCM8\\u002fj7Sch0UJzz+3kUFcmgnPPxyqUzLvCc8\\u002fkav1CkQKzz9xaQ3omArPP5Zu78ztCs8\\u002f6R1gv0ILzz9A3E3JlwvPP5FR2\\u002fvsC88\\u002f\\u002felJdEIMzz9eCo1kmAzPP3k8hSHvDM8\\u002fCHrxOkcNzz+PTMnJ9wnPPwAngLMVAs8\\u002fUczDLjr6zj8nYk2vafLOPwAHjJyr6s4\\u002fPkYqOQzjzj\\u002fQaK3Fn9vOP3dcXZCH1M4\\u002fGDFkNPrNzj+0sTHfUMjOP8jCbLUcxM4\\u002ffd\\u002fOJknCzj+YOkSlUsTOP2j5iwCezM4\\u002ffa1xmALfzj+6Er9lpQHPPwwuBxxRPs8\\u002fJnyZqJOkzz+agK+ShSbQP8ROgvVGr9A\\u002fAH5AdRSL0T\\u002focHLuwOnSPyCatb74FdU\\u002f7Fcwh8SD2D8+OSou5OLdPw7eyZIOBuM\\u002fSFh66PF76D+B\\u002fmEnoI7tP3Nt1iJz4e4\\u002fTPI7nDVV6z\\u002fxK6qSI6rlP+rD6DKmwuA\\u002fx\\u002fGeF\\u002fLJ2j+4VhnM8XrWP\\u002fcSluuUwNM\\u002ffT9Rjd4F0j9Otfr6zOzQP2BHoaGqOtA\\u002fMuYUofWVzz+i5XinzQ7PPwpHjn+pxc4\\u002fo3zqYgetzj8u+RUJB8HOP6RwpUdLBs8\\u002fttXCx3yKzz\\u002fp9JS9MzPQP0FHcMn64NA\\u002fJdp6LT7t0T84gFvPE4XTP\\u002f4ho2KZ3tU\\u002fOdYiiab+2D\\u002fwarfoLCLcPyyvEXLcmt0\\u002fsGII1nlU3D+KA4IZTTbZP6HHnEYz+NU\\u002f\\u002fnWw0H590z8rS+vJsc7RPzRXQeYRs9A\\u002fcvUoCiDxzz9qeE\\u002fmffrOP6xkaFwiVs4\\u002fumXnSnXnzT\\u002fVyVGX45vNPy\\u002f8q8RUZ80\\u002fI9gTM+RBzT+XTFAAaCbNP5iOpqt9Ec0\\u002fZqCV0OsAzT+2zaaUO\\u002fPMPz61ZaV158w\\u002fww8SlvbczD+ybwVTUtPMP406+WhBysw\\u002ftefi0JTBzD+1WfLzLbnMP8\\u002feh4n5sMw\\u002fBbKLWuyozD9b521fAaHMP\\u002frKs9w4mcw\\u002f88UWUpiRzD9jSeAsK4rMP\\u002fqKAVMEg8w\\u002fDCvtsEB8zD\\u002flXNEbC3bMPys+XblTdcw\\u002ftGCbQHB\\u002fzD8sL\\u002fmTNIvMPzw12HhZmcw\\u002fKjK3KOaqzD8JN4pBUMHMP8F8C4Co3sw\\u002fWpqxF9kFzT8Gha6e+zrNP2RwLqbQg80\\u002fcr4lh2PozT+bwOEF7HPOP5ntSsEANs8\\u002fMRZMzgci0D98BF0q7tzQP56Arjj92NE\\u002fNuoR4QkS0z8ii0uQElLUP8oYvO8bJ9U\\u002fZlHygjkm1T\\u002fYQCvsJU7UP0SPaBRFCdM\\u002f09UaIb7M0T+cHN3jVdLQP9eyFJPlHtA\\u002fuNC4SkhGzz9KOb63rp3OPwMRTwOCK84\\u002fCZAxmrfezT8317bYoKvNPyZg3hw9is0\\u002frpKZzg51zT98j9sWUGjNP8+VpAZoYc0\\u002fA6emI4xezT88cvHIf17NPz6mmORnYM0\\u002fLWNrpKxjzT\\u002fDGD2p5GfNPx+DqLPGbM0\\u002fHwPjvx9yzT846sg7zHfNP2SWjkyzfc0\\u002fD4\\u002fCkMODzT8c+wLZ8InNP4u7FZkykM0\\u002fDFiEzoKWzT8=\"},\"type\":\"scatter\"}],                        {\"legend\":{\"x\":1.0,\"xanchor\":\"right\",\"y\":1.0,\"yanchor\":\"top\"},\"margin\":{\"autoexpand\":true,\"b\":45,\"r\":30,\"t\":40},\"title\":{\"text\":\"Measured vs Calculated data for experiment \\ud83d\\udd2c 'sim_lbco'\"},\"xaxis\":{\"mirror\":true,\"showline\":true,\"title\":{\"text\":\"TOF (\\u00b5s)\"},\"zeroline\":false,\"tickformat\":\",.6~g\",\"separatethousands\":true},\"yaxis\":{\"mirror\":true,\"showline\":true,\"title\":{\"text\":\"Intensity (arb. units)\"},\"zeroline\":false,\"tickformat\":\",.6~g\",\"separatethousands\":true},\"template\":{\"data\":{\"histogram2dcontour\":[{\"type\":\"histogram2dcontour\",\"colorbar\":{\"outlinewidth\":0,\"ticks\":\"\"},\"colorscale\":[[0.0,\"#0d0887\"],[0.1111111111111111,\"#46039f\"],[0.2222222222222222,\"#7201a8\"],[0.3333333333333333,\"#9c179e\"],[0.4444444444444444,\"#bd3786\"],[0.5555555555555556,\"#d8576b\"],[0.6666666666666666,\"#ed7953\"],[0.7777777777777778,\"#fb9f3a\"],[0.8888888888888888,\"#fdca26\"],[1.0,\"#f0f921\"]]}],\"choropleth\":[{\"type\":\"choropleth\",\"colorbar\":{\"outlinewidth\":0,\"ticks\":\"\"}}],\"histogram2d\":[{\"type\":\"histogram2d\",\"colorbar\":{\"outlinewidth\":0,\"ticks\":\"\"},\"colorscale\":[[0.0,\"#0d0887\"],[0.1111111111111111,\"#46039f\"],[0.2222222222222222,\"#7201a8\"],[0.3333333333333333,\"#9c179e\"],[0.4444444444444444,\"#bd3786\"],[0.5555555555555556,\"#d8576b\"],[0.6666666666666666,\"#ed7953\"],[0.7777777777777778,\"#fb9f3a\"],[0.8888888888888888,\"#fdca26\"],[1.0,\"#f0f921\"]]}],\"heatmap\":[{\"type\":\"heatmap\",\"colorbar\":{\"outlinewidth\":0,\"ticks\":\"\"},\"colorscale\":[[0.0,\"#0d0887\"],[0.1111111111111111,\"#46039f\"],[0.2222222222222222,\"#7201a8\"],[0.3333333333333333,\"#9c179e\"],[0.4444444444444444,\"#bd3786\"],[0.5555555555555556,\"#d8576b\"],[0.6666666666666666,\"#ed7953\"],[0.7777777777777778,\"#fb9f3a\"],[0.8888888888888888,\"#fdca26\"],[1.0,\"#f0f921\"]]}],\"contourcarpet\":[{\"type\":\"contourcarpet\",\"colorbar\":{\"outlinewidth\":0,\"ticks\":\"\"}}],\"contour\":[{\"type\":\"contour\",\"colorbar\":{\"outlinewidth\":0,\"ticks\":\"\"},\"colorscale\":[[0.0,\"#0d0887\"],[0.1111111111111111,\"#46039f\"],[0.2222222222222222,\"#7201a8\"],[0.3333333333333333,\"#9c179e\"],[0.4444444444444444,\"#bd3786\"],[0.5555555555555556,\"#d8576b\"],[0.6666666666666666,\"#ed7953\"],[0.7777777777777778,\"#fb9f3a\"],[0.8888888888888888,\"#fdca26\"],[1.0,\"#f0f921\"]]}],\"surface\":[{\"type\":\"surface\",\"colorbar\":{\"outlinewidth\":0,\"ticks\":\"\"},\"colorscale\":[[0.0,\"#0d0887\"],[0.1111111111111111,\"#46039f\"],[0.2222222222222222,\"#7201a8\"],[0.3333333333333333,\"#9c179e\"],[0.4444444444444444,\"#bd3786\"],[0.5555555555555556,\"#d8576b\"],[0.6666666666666666,\"#ed7953\"],[0.7777777777777778,\"#fb9f3a\"],[0.8888888888888888,\"#fdca26\"],[1.0,\"#f0f921\"]]}],\"mesh3d\":[{\"type\":\"mesh3d\",\"colorbar\":{\"outlinewidth\":0,\"ticks\":\"\"}}],\"scatter\":[{\"fillpattern\":{\"fillmode\":\"overlay\",\"size\":10,\"solidity\":0.2},\"type\":\"scatter\"}],\"parcoords\":[{\"type\":\"parcoords\",\"line\":{\"colorbar\":{\"outlinewidth\":0,\"ticks\":\"\"}}}],\"scatterpolargl\":[{\"type\":\"scatterpolargl\",\"marker\":{\"colorbar\":{\"outlinewidth\":0,\"ticks\":\"\"}}}],\"bar\":[{\"error_x\":{\"color\":\"#2a3f5f\"},\"error_y\":{\"color\":\"#2a3f5f\"},\"marker\":{\"line\":{\"color\":\"white\",\"width\":0.5},\"pattern\":{\"fillmode\":\"overlay\",\"size\":10,\"solidity\":0.2}},\"type\":\"bar\"}],\"scattergeo\":[{\"type\":\"scattergeo\",\"marker\":{\"colorbar\":{\"outlinewidth\":0,\"ticks\":\"\"}}}],\"scatterpolar\":[{\"type\":\"scatterpolar\",\"marker\":{\"colorbar\":{\"outlinewidth\":0,\"ticks\":\"\"}}}],\"histogram\":[{\"marker\":{\"pattern\":{\"fillmode\":\"overlay\",\"size\":10,\"solidity\":0.2}},\"type\":\"histogram\"}],\"scattergl\":[{\"type\":\"scattergl\",\"marker\":{\"colorbar\":{\"outlinewidth\":0,\"ticks\":\"\"}}}],\"scatter3d\":[{\"type\":\"scatter3d\",\"line\":{\"colorbar\":{\"outlinewidth\":0,\"ticks\":\"\"}},\"marker\":{\"colorbar\":{\"outlinewidth\":0,\"ticks\":\"\"}}}],\"scattermap\":[{\"type\":\"scattermap\",\"marker\":{\"colorbar\":{\"outlinewidth\":0,\"ticks\":\"\"}}}],\"scattermapbox\":[{\"type\":\"scattermapbox\",\"marker\":{\"colorbar\":{\"outlinewidth\":0,\"ticks\":\"\"}}}],\"scatterternary\":[{\"type\":\"scatterternary\",\"marker\":{\"colorbar\":{\"outlinewidth\":0,\"ticks\":\"\"}}}],\"scattercarpet\":[{\"type\":\"scattercarpet\",\"marker\":{\"colorbar\":{\"outlinewidth\":0,\"ticks\":\"\"}}}],\"carpet\":[{\"aaxis\":{\"endlinecolor\":\"#2a3f5f\",\"gridcolor\":\"#C8D4E3\",\"linecolor\":\"#C8D4E3\",\"minorgridcolor\":\"#C8D4E3\",\"startlinecolor\":\"#2a3f5f\"},\"baxis\":{\"endlinecolor\":\"#2a3f5f\",\"gridcolor\":\"#C8D4E3\",\"linecolor\":\"#C8D4E3\",\"minorgridcolor\":\"#C8D4E3\",\"startlinecolor\":\"#2a3f5f\"},\"type\":\"carpet\"}],\"table\":[{\"cells\":{\"fill\":{\"color\":\"#EBF0F8\"},\"line\":{\"color\":\"white\"}},\"header\":{\"fill\":{\"color\":\"#C8D4E3\"},\"line\":{\"color\":\"white\"}},\"type\":\"table\"}],\"barpolar\":[{\"marker\":{\"line\":{\"color\":\"white\",\"width\":0.5},\"pattern\":{\"fillmode\":\"overlay\",\"size\":10,\"solidity\":0.2}},\"type\":\"barpolar\"}],\"pie\":[{\"automargin\":true,\"type\":\"pie\"}]},\"layout\":{\"autotypenumbers\":\"strict\",\"colorway\":[\"#636efa\",\"#EF553B\",\"#00cc96\",\"#ab63fa\",\"#FFA15A\",\"#19d3f3\",\"#FF6692\",\"#B6E880\",\"#FF97FF\",\"#FECB52\"],\"font\":{\"color\":\"#2a3f5f\"},\"hovermode\":\"closest\",\"hoverlabel\":{\"align\":\"left\"},\"paper_bgcolor\":\"white\",\"plot_bgcolor\":\"white\",\"polar\":{\"bgcolor\":\"white\",\"angularaxis\":{\"gridcolor\":\"#EBF0F8\",\"linecolor\":\"#EBF0F8\",\"ticks\":\"\"},\"radialaxis\":{\"gridcolor\":\"#EBF0F8\",\"linecolor\":\"#EBF0F8\",\"ticks\":\"\"}},\"ternary\":{\"bgcolor\":\"white\",\"aaxis\":{\"gridcolor\":\"#DFE8F3\",\"linecolor\":\"#A2B1C6\",\"ticks\":\"\"},\"baxis\":{\"gridcolor\":\"#DFE8F3\",\"linecolor\":\"#A2B1C6\",\"ticks\":\"\"},\"caxis\":{\"gridcolor\":\"#DFE8F3\",\"linecolor\":\"#A2B1C6\",\"ticks\":\"\"}},\"coloraxis\":{\"colorbar\":{\"outlinewidth\":0,\"ticks\":\"\"}},\"colorscale\":{\"sequential\":[[0.0,\"#0d0887\"],[0.1111111111111111,\"#46039f\"],[0.2222222222222222,\"#7201a8\"],[0.3333333333333333,\"#9c179e\"],[0.4444444444444444,\"#bd3786\"],[0.5555555555555556,\"#d8576b\"],[0.6666666666666666,\"#ed7953\"],[0.7777777777777778,\"#fb9f3a\"],[0.8888888888888888,\"#fdca26\"],[1.0,\"#f0f921\"]],\"sequentialminus\":[[0.0,\"#0d0887\"],[0.1111111111111111,\"#46039f\"],[0.2222222222222222,\"#7201a8\"],[0.3333333333333333,\"#9c179e\"],[0.4444444444444444,\"#bd3786\"],[0.5555555555555556,\"#d8576b\"],[0.6666666666666666,\"#ed7953\"],[0.7777777777777778,\"#fb9f3a\"],[0.8888888888888888,\"#fdca26\"],[1.0,\"#f0f921\"]],\"diverging\":[[0,\"#8e0152\"],[0.1,\"#c51b7d\"],[0.2,\"#de77ae\"],[0.3,\"#f1b6da\"],[0.4,\"#fde0ef\"],[0.5,\"#f7f7f7\"],[0.6,\"#e6f5d0\"],[0.7,\"#b8e186\"],[0.8,\"#7fbc41\"],[0.9,\"#4d9221\"],[1,\"#276419\"]]},\"xaxis\":{\"gridcolor\":\"#EBF0F8\",\"linecolor\":\"#EBF0F8\",\"ticks\":\"\",\"title\":{\"standoff\":15},\"zerolinecolor\":\"#EBF0F8\",\"automargin\":true,\"zerolinewidth\":2},\"yaxis\":{\"gridcolor\":\"#EBF0F8\",\"linecolor\":\"#EBF0F8\",\"ticks\":\"\",\"title\":{\"standoff\":15},\"zerolinecolor\":\"#EBF0F8\",\"automargin\":true,\"zerolinewidth\":2},\"scene\":{\"xaxis\":{\"backgroundcolor\":\"white\",\"gridcolor\":\"#DFE8F3\",\"linecolor\":\"#EBF0F8\",\"showbackground\":true,\"ticks\":\"\",\"zerolinecolor\":\"#EBF0F8\",\"gridwidth\":2},\"yaxis\":{\"backgroundcolor\":\"white\",\"gridcolor\":\"#DFE8F3\",\"linecolor\":\"#EBF0F8\",\"showbackground\":true,\"ticks\":\"\",\"zerolinecolor\":\"#EBF0F8\",\"gridwidth\":2},\"zaxis\":{\"backgroundcolor\":\"white\",\"gridcolor\":\"#DFE8F3\",\"linecolor\":\"#EBF0F8\",\"showbackground\":true,\"ticks\":\"\",\"zerolinecolor\":\"#EBF0F8\",\"gridwidth\":2}},\"shapedefaults\":{\"line\":{\"color\":\"#2a3f5f\"}},\"annotationdefaults\":{\"arrowcolor\":\"#2a3f5f\",\"arrowhead\":0,\"arrowwidth\":1},\"geo\":{\"bgcolor\":\"white\",\"landcolor\":\"white\",\"subunitcolor\":\"#C8D4E3\",\"showland\":true,\"showlakes\":true,\"lakecolor\":\"white\"},\"title\":{\"x\":0.05},\"mapbox\":{\"style\":\"light\"}}}},                        {\"displaylogo\": false, \"modeBarButtonsToRemove\": [\"select2d\", \"lasso2d\", \"zoomIn2d\", \"zoomOut2d\", \"autoScale2d\"], \"responsive\": true}                    )                };            </script>        </div>"
      ],
      "text/plain": [
       "<IPython.core.display.HTML object>"
      ]
     },
     "metadata": {},
     "output_type": "display_data"
    },
    {
     "data": {
      "text/html": [
       "<div>                        <script type=\"text/javascript\">window.PlotlyConfig = {MathJaxConfig: 'local'};</script>\n",
       "        <script charset=\"utf-8\" src=\"https://cdn.plot.ly/plotly-3.1.0.min.js\" integrity=\"sha256-Ei4740bWZhaUTQuD6q9yQlgVCMPBz6CZWhevDYPv93A=\" crossorigin=\"anonymous\"></script>                <div id=\"c62d9ab3-b997-4fa8-a241-b0e2d67a7714\" class=\"plotly-graph-div\" style=\"height:100%; width:100%;\"></div>            <script type=\"text/javascript\">                window.PLOTLYENV=window.PLOTLYENV || {};                                if (document.getElementById(\"c62d9ab3-b997-4fa8-a241-b0e2d67a7714\")) {                    Plotly.newPlot(                        \"c62d9ab3-b997-4fa8-a241-b0e2d67a7714\",                        [{\"line\":{\"color\":\"rgb(31, 119, 180)\"},\"mode\":\"lines+markers\",\"name\":\"Measured (Imeas)\",\"x\":{\"dtype\":\"f8\",\"bdata\":\"Vp+rrW5\\u002f9UBnRGlvxob1QAXFjzEejvVAokW283WV9UA\\u002fxty1zZz1QNxGA3glpPVA7uvAOX2r9UCLbOf71LL1QCntDb4suvVAxm00gITB9UBj7lpC3Mj1QHWTGAQ00PVAEhQ\\u002fxovX9UCvlGWI4971QE0VjEo75vVA6pWyDJPt9UD7OnDO6vT1QJm7lpBC\\u002fPVANjy9UpoD9kDTvOMU8gr2QHE9CtdJEvZAguLHmKEZ9kAgY+5a+SD2QL3jFB1RKPZAWmQ736gv9kBsCfmgADf2QAmKH2NYPvZApgpGJbBF9kBEi2znB032QOELk6lfVPZA8rBQa7db9kCQMXctD2P2QC2yne9mavZAyjLEsb5x9kBos+pzFnn2QHlYqDVugPZAF9nO98WH9kC0WfW5HY\\u002f2QFHaG3x1lvZA7lpCPs2d9kAAAAAAJaX2QJ2AJsJ8rPZAOwFNhNSz9kDYgXNGLLv2QHUCmgiEwvZAh6dXytvJ9kAkKH6MM9H2QMGopE6L2PZAXynLEOPf9kD8qfHSOuf2QA5Pr5SS7vZAq8\\u002fVVur19kBIUPwYQv32QOXQItuZBPdAg1FJnfEL90CU9gZfSRP3QDJ3LSGhGvdAz\\u002fdT4\\u002fgh90BseHqlUCn3QAn5oGeoMPdAG55eKQA490C4HoXrVz\\u002f3QFafq62vRvdA8x\\u002fSbwdO90CQoPgxX1X3QKJFtvO2XPdAP8bctQ5k90DcRgN4Zmv3QHrHKTq+cvdAF0hQ\\u002fBV690Ap7Q2+bYH3QMZtNIDFiPdAY+5aQh2Q90AAb4EEdZf3QJ7vp8bMnvdAr5RliCSm90BNFYxKfK33QOqVsgzUtPdAhxbZziu890Akl\\u002f+Qg8P3QDY8vVLbyvdA07zjFDPS90BxPQrXitn3QA6+MJni4PdAqz5XWzro90C94xQdku\\u002f3QFpkO9\\u002fp9vdA9+RhoUH+90CVZYhjmQX4QDLmriXxDPhARIts50gU+EDhC5OpoBv4QH6MuWv4IvhAGw3gLVAq+EAtsp3vpzH4QMoyxLH\\u002fOPhAaLPqc1dA+EAFNBE2r0f4QKK0N\\u002fgGT\\u002fhAtFn1uV5W+EBR2ht8tl34QO5aQj4OZfhAjNtoAGZs+EApXI\\u002fCvXP4QDsBTYQVe\\u002fhA2IFzRm2C+EB1ApoIxYn4QBKDwMockfhAsAPnjHSY+EDBqKROzJ\\u002f4QF8pyxAkp\\u002fhA\"},\"y\":{\"dtype\":\"f8\",\"bdata\":\"\\u002flu6I32Zzz95J0qy7F3PP+xdPWzYx80\\u002f9TzIFsnYzj98shxhrtrOP6rqqDscRtA\\u002fC1nTLdnVzz8ZZDOaXhTOPy6onglO4NA\\u002fiZHbhQmUzz8VlacCIufOP+0hUHgwtc4\\u002f3\\u002fRqFidjzj\\u002fvLM4HsCbPP0RIvOlIisw\\u002f7hl30rMNzT9yOaRQs1jPP6SUuKObNM8\\u002fNmc2DowYzz\\u002f5\\u002fZ3xKPjPP\\u002fz7JZjqG9E\\u002fYr1Ca3s70T+y2ozZyaPPPyEV8O5mW9E\\u002fd7xW2TVSzz+PNRyfC+\\u002fPP1DBJRPLZM4\\u002fDjJkQP6hzD\\u002foaazJ2DLNP7DoD7H\\u002fIs4\\u002fYTWCSgQk0D\\u002fcts0cl2fLPztlahGEv84\\u002f5KdspvPxzz9vfQdMJ+LMPznMHX6ri9A\\u002fOA6F+z3n0D\\u002faT47630fSP7StwKbx0dI\\u002fQeyDtmhr1T+QthqeI57XP6+y1bCONt4\\u002fP0d372A+4j9We1RCB+\\u002fmP9\\u002fr9u0zpO0\\u002flh4f48QT7z8syrq9yVfsP5cLwgADzuY\\u002fvXFgTmpP4T\\u002f64jxlJibbP29\\u002flobvkdY\\u002frTlks8Wi0z9erAdz07XTP7SzawoMMNE\\u002fCmak\\u002fZvj0D\\u002fKRhv3PqzOPwDVl1CeyM0\\u002fDMG3dG3H0D9p8sZ8WwnNP1XeYh2yg84\\u002fT19Am2sHzj8HzAWWee\\u002fQP7+GntiZ7M0\\u002fwDvWhsoz0T8YON6+XXPSP1h\\u002fkRqS3NI\\u002fsufvZ6yS1T+ASiP0BHnYP+20UmxtwNw\\u002fbFHlTgpK3T8+huvO6jfbP2skwb4rLNk\\u002f\\u002fbwXuW7M1j9XZesMmEPUP569puFNB9I\\u002f4Qa8+Lqc0T8vXOlXxvjOP+7qrZP4lM8\\u002fiRjP3oW\\u002fzT9uQ+3ArybNP\\u002fXqq0ENO80\\u002fzNIITwEzyz9DL2Fm+fLNPxKnP4birsw\\u002fNDOlVB0O0D\\u002fvtVCk4GLMP\\u002ffKtDi7UM8\\u002fTodV2YW6zD9ALnrrpZ\\u002fOP5jOxigy4s4\\u002f0BmLqRDwyj9qYdMHx+zOPydZ3APeTM0\\u002fEb9Wv50czD\\u002fXyrosjhTMP3n7OuqFl8o\\u002fNiIJVuSSzT\\u002fC2PKb2LnLP5xIzSMMacw\\u002foJpktVNEzD+bvNYXmHjKP24ArUJkBM4\\u002fJm4QiRhTzD88JZ5oue\\u002fNP\\u002f\\u002f79l16mtA\\u002fqFdW9O8ozD++EaMnw5\\u002fOP4t3WP8MH84\\u002f9ZIaOHdZzT81vp60bavOP0v\\u002ftYiHbss\\u002f\"},\"type\":\"scatter\"},{\"line\":{\"color\":\"rgb(214, 39, 40)\"},\"mode\":\"lines\",\"name\":\"Total calculated (Icalc)\",\"x\":{\"dtype\":\"f8\",\"bdata\":\"Vp+rrW5\\u002f9UBnRGlvxob1QAXFjzEejvVAokW283WV9UA\\u002fxty1zZz1QNxGA3glpPVA7uvAOX2r9UCLbOf71LL1QCntDb4suvVAxm00gITB9UBj7lpC3Mj1QHWTGAQ00PVAEhQ\\u002fxovX9UCvlGWI4971QE0VjEo75vVA6pWyDJPt9UD7OnDO6vT1QJm7lpBC\\u002fPVANjy9UpoD9kDTvOMU8gr2QHE9CtdJEvZAguLHmKEZ9kAgY+5a+SD2QL3jFB1RKPZAWmQ736gv9kBsCfmgADf2QAmKH2NYPvZApgpGJbBF9kBEi2znB032QOELk6lfVPZA8rBQa7db9kCQMXctD2P2QC2yne9mavZAyjLEsb5x9kBos+pzFnn2QHlYqDVugPZAF9nO98WH9kC0WfW5HY\\u002f2QFHaG3x1lvZA7lpCPs2d9kAAAAAAJaX2QJ2AJsJ8rPZAOwFNhNSz9kDYgXNGLLv2QHUCmgiEwvZAh6dXytvJ9kAkKH6MM9H2QMGopE6L2PZAXynLEOPf9kD8qfHSOuf2QA5Pr5SS7vZAq8\\u002fVVur19kBIUPwYQv32QOXQItuZBPdAg1FJnfEL90CU9gZfSRP3QDJ3LSGhGvdAz\\u002fdT4\\u002fgh90BseHqlUCn3QAn5oGeoMPdAG55eKQA490C4HoXrVz\\u002f3QFafq62vRvdA8x\\u002fSbwdO90CQoPgxX1X3QKJFtvO2XPdAP8bctQ5k90DcRgN4Zmv3QHrHKTq+cvdAF0hQ\\u002fBV690Ap7Q2+bYH3QMZtNIDFiPdAY+5aQh2Q90AAb4EEdZf3QJ7vp8bMnvdAr5RliCSm90BNFYxKfK33QOqVsgzUtPdAhxbZziu890Akl\\u002f+Qg8P3QDY8vVLbyvdA07zjFDPS90BxPQrXitn3QA6+MJni4PdAqz5XWzro90C94xQdku\\u002f3QFpkO9\\u002fp9vdA9+RhoUH+90CVZYhjmQX4QDLmriXxDPhARIts50gU+EDhC5OpoBv4QH6MuWv4IvhAGw3gLVAq+EAtsp3vpzH4QMoyxLH\\u002fOPhAaLPqc1dA+EAFNBE2r0f4QKK0N\\u002fgGT\\u002fhAtFn1uV5W+EBR2ht8tl34QO5aQj4OZfhAjNtoAGZs+EApXI\\u002fCvXP4QDsBTYQVe\\u002fhA2IFzRm2C+EB1ApoIxYn4QBKDwMockfhAsAPnjHSY+EDBqKROzJ\\u002f4QF8pyxAkp\\u002fhA\"},\"y\":{\"dtype\":\"f8\",\"bdata\":\"081fOvIHzz8g8FANRwjPPx3va+CbCM8\\u002fL0bJs\\u002fAIzz+PtJyHRQnPP7eRQVyaCc8\\u002fHKpTMu8Jzz+Rq\\u002fUKRArPP3FpDeiYCs8\\u002flm7vzO0Kzz\\u002fpHWC\\u002fQgvPP0DcTcmXC88\\u002fkVHb++wLzz\\u002f96Ul0QgzPP14KjWSYDM8\\u002feTyFIe8Mzz8IevE6Rw3PP49Mycn3Cc8\\u002fACeAsxUCzz9RzMMuOvrOPydiTa9p8s4\\u002fAAeMnKvqzj8+Rio5DOPOP9BorcWf284\\u002fd1xdkIfUzj8YMWQ0+s3OP7SxMd9QyM4\\u002fyMJstRzEzj99384mScLOP5g6RKVSxM4\\u002faPmLAJ7Mzj99rXGYAt\\u002fOP7oSv2WlAc8\\u002fDC4HHFE+zz8mfJmok6TPP5qAr5KFJtA\\u002fxE6C9Uav0D8AfkB1FIvRP+hwcu7A6dI\\u002fIJq1vvgV1T\\u002fsVzCHxIPYPz45Ki7k4t0\\u002fDt7Jkg4G4z9IWHro8XvoP4H+YSegju0\\u002fc23WInPh7j9M8jucNVXrP\\u002fErqpIjquU\\u002f6sPoMqbC4D\\u002fH8Z4X8snaP7hWGczxetY\\u002f9xKW65TA0z99P1GN3gXSP061+vrM7NA\\u002fYEehoao60D8y5hSh9ZXPP6LleKfNDs8\\u002fCkeOf6nFzj+jfOpiB63OPy75FQkHwc4\\u002fpHClR0sGzz+21cLHfIrPP+n0lL0zM9A\\u002fQUdwyfrg0D8l2notPu3RPziAW88ThdM\\u002f\\u002fiGjYpne1T851iKJpv7YP\\u002fBqt+gsItw\\u002fLK8Rctya3T+wYgjWeVTcP4oDghlNNtk\\u002focecRjP41T\\u002f+dbDQfn3TPytL68mxztE\\u002fNFdB5hGz0D9y9SgKIPHPP2p4T+Z9+s4\\u002frGRoXCJWzj+6ZedKdefNP9XJUZfjm80\\u002fL\\u002fyrxFRnzT8j2BMz5EHNP5dMUABoJs0\\u002fmI6mq30RzT9moJXQ6wDNP7bNppQ788w\\u002fPrVlpXXnzD\\u002fDDxKW9tzMP7JvBVNS08w\\u002fjTr5aEHKzD+15+LQlMHMP7VZ8vMtucw\\u002fz96HifmwzD8Fsota7KjMP1vnbV8Bocw\\u002f+sqz3DiZzD\\u002fzxRZSmJHMP2NJ4Cwrisw\\u002f+ooBUwSDzD8MK+2wQHzMP+Vc0RsLdsw\\u002fKz5duVN1zD+0YJtAcH\\u002fMPywv+ZM0i8w\\u002fPDXYeFmZzD8qMrco5qrMPwk3ikFQwcw\\u002fwXwLgKjezD9amrEX2QXNPwaFrp77Os0\\u002f\"},\"type\":\"scatter\"}],                        {\"legend\":{\"x\":1.0,\"xanchor\":\"right\",\"y\":1.0,\"yanchor\":\"top\"},\"margin\":{\"autoexpand\":true,\"b\":45,\"r\":30,\"t\":40},\"title\":{\"text\":\"Measured vs Calculated data for experiment \\ud83d\\udd2c 'sim_lbco'\"},\"xaxis\":{\"mirror\":true,\"showline\":true,\"title\":{\"text\":\"TOF (\\u00b5s)\"},\"zeroline\":false,\"tickformat\":\",.6~g\",\"separatethousands\":true},\"yaxis\":{\"mirror\":true,\"showline\":true,\"title\":{\"text\":\"Intensity (arb. units)\"},\"zeroline\":false,\"tickformat\":\",.6~g\",\"separatethousands\":true},\"template\":{\"data\":{\"histogram2dcontour\":[{\"type\":\"histogram2dcontour\",\"colorbar\":{\"outlinewidth\":0,\"ticks\":\"\"},\"colorscale\":[[0.0,\"#0d0887\"],[0.1111111111111111,\"#46039f\"],[0.2222222222222222,\"#7201a8\"],[0.3333333333333333,\"#9c179e\"],[0.4444444444444444,\"#bd3786\"],[0.5555555555555556,\"#d8576b\"],[0.6666666666666666,\"#ed7953\"],[0.7777777777777778,\"#fb9f3a\"],[0.8888888888888888,\"#fdca26\"],[1.0,\"#f0f921\"]]}],\"choropleth\":[{\"type\":\"choropleth\",\"colorbar\":{\"outlinewidth\":0,\"ticks\":\"\"}}],\"histogram2d\":[{\"type\":\"histogram2d\",\"colorbar\":{\"outlinewidth\":0,\"ticks\":\"\"},\"colorscale\":[[0.0,\"#0d0887\"],[0.1111111111111111,\"#46039f\"],[0.2222222222222222,\"#7201a8\"],[0.3333333333333333,\"#9c179e\"],[0.4444444444444444,\"#bd3786\"],[0.5555555555555556,\"#d8576b\"],[0.6666666666666666,\"#ed7953\"],[0.7777777777777778,\"#fb9f3a\"],[0.8888888888888888,\"#fdca26\"],[1.0,\"#f0f921\"]]}],\"heatmap\":[{\"type\":\"heatmap\",\"colorbar\":{\"outlinewidth\":0,\"ticks\":\"\"},\"colorscale\":[[0.0,\"#0d0887\"],[0.1111111111111111,\"#46039f\"],[0.2222222222222222,\"#7201a8\"],[0.3333333333333333,\"#9c179e\"],[0.4444444444444444,\"#bd3786\"],[0.5555555555555556,\"#d8576b\"],[0.6666666666666666,\"#ed7953\"],[0.7777777777777778,\"#fb9f3a\"],[0.8888888888888888,\"#fdca26\"],[1.0,\"#f0f921\"]]}],\"contourcarpet\":[{\"type\":\"contourcarpet\",\"colorbar\":{\"outlinewidth\":0,\"ticks\":\"\"}}],\"contour\":[{\"type\":\"contour\",\"colorbar\":{\"outlinewidth\":0,\"ticks\":\"\"},\"colorscale\":[[0.0,\"#0d0887\"],[0.1111111111111111,\"#46039f\"],[0.2222222222222222,\"#7201a8\"],[0.3333333333333333,\"#9c179e\"],[0.4444444444444444,\"#bd3786\"],[0.5555555555555556,\"#d8576b\"],[0.6666666666666666,\"#ed7953\"],[0.7777777777777778,\"#fb9f3a\"],[0.8888888888888888,\"#fdca26\"],[1.0,\"#f0f921\"]]}],\"surface\":[{\"type\":\"surface\",\"colorbar\":{\"outlinewidth\":0,\"ticks\":\"\"},\"colorscale\":[[0.0,\"#0d0887\"],[0.1111111111111111,\"#46039f\"],[0.2222222222222222,\"#7201a8\"],[0.3333333333333333,\"#9c179e\"],[0.4444444444444444,\"#bd3786\"],[0.5555555555555556,\"#d8576b\"],[0.6666666666666666,\"#ed7953\"],[0.7777777777777778,\"#fb9f3a\"],[0.8888888888888888,\"#fdca26\"],[1.0,\"#f0f921\"]]}],\"mesh3d\":[{\"type\":\"mesh3d\",\"colorbar\":{\"outlinewidth\":0,\"ticks\":\"\"}}],\"scatter\":[{\"fillpattern\":{\"fillmode\":\"overlay\",\"size\":10,\"solidity\":0.2},\"type\":\"scatter\"}],\"parcoords\":[{\"type\":\"parcoords\",\"line\":{\"colorbar\":{\"outlinewidth\":0,\"ticks\":\"\"}}}],\"scatterpolargl\":[{\"type\":\"scatterpolargl\",\"marker\":{\"colorbar\":{\"outlinewidth\":0,\"ticks\":\"\"}}}],\"bar\":[{\"error_x\":{\"color\":\"#2a3f5f\"},\"error_y\":{\"color\":\"#2a3f5f\"},\"marker\":{\"line\":{\"color\":\"white\",\"width\":0.5},\"pattern\":{\"fillmode\":\"overlay\",\"size\":10,\"solidity\":0.2}},\"type\":\"bar\"}],\"scattergeo\":[{\"type\":\"scattergeo\",\"marker\":{\"colorbar\":{\"outlinewidth\":0,\"ticks\":\"\"}}}],\"scatterpolar\":[{\"type\":\"scatterpolar\",\"marker\":{\"colorbar\":{\"outlinewidth\":0,\"ticks\":\"\"}}}],\"histogram\":[{\"marker\":{\"pattern\":{\"fillmode\":\"overlay\",\"size\":10,\"solidity\":0.2}},\"type\":\"histogram\"}],\"scattergl\":[{\"type\":\"scattergl\",\"marker\":{\"colorbar\":{\"outlinewidth\":0,\"ticks\":\"\"}}}],\"scatter3d\":[{\"type\":\"scatter3d\",\"line\":{\"colorbar\":{\"outlinewidth\":0,\"ticks\":\"\"}},\"marker\":{\"colorbar\":{\"outlinewidth\":0,\"ticks\":\"\"}}}],\"scattermap\":[{\"type\":\"scattermap\",\"marker\":{\"colorbar\":{\"outlinewidth\":0,\"ticks\":\"\"}}}],\"scattermapbox\":[{\"type\":\"scattermapbox\",\"marker\":{\"colorbar\":{\"outlinewidth\":0,\"ticks\":\"\"}}}],\"scatterternary\":[{\"type\":\"scatterternary\",\"marker\":{\"colorbar\":{\"outlinewidth\":0,\"ticks\":\"\"}}}],\"scattercarpet\":[{\"type\":\"scattercarpet\",\"marker\":{\"colorbar\":{\"outlinewidth\":0,\"ticks\":\"\"}}}],\"carpet\":[{\"aaxis\":{\"endlinecolor\":\"#2a3f5f\",\"gridcolor\":\"#C8D4E3\",\"linecolor\":\"#C8D4E3\",\"minorgridcolor\":\"#C8D4E3\",\"startlinecolor\":\"#2a3f5f\"},\"baxis\":{\"endlinecolor\":\"#2a3f5f\",\"gridcolor\":\"#C8D4E3\",\"linecolor\":\"#C8D4E3\",\"minorgridcolor\":\"#C8D4E3\",\"startlinecolor\":\"#2a3f5f\"},\"type\":\"carpet\"}],\"table\":[{\"cells\":{\"fill\":{\"color\":\"#EBF0F8\"},\"line\":{\"color\":\"white\"}},\"header\":{\"fill\":{\"color\":\"#C8D4E3\"},\"line\":{\"color\":\"white\"}},\"type\":\"table\"}],\"barpolar\":[{\"marker\":{\"line\":{\"color\":\"white\",\"width\":0.5},\"pattern\":{\"fillmode\":\"overlay\",\"size\":10,\"solidity\":0.2}},\"type\":\"barpolar\"}],\"pie\":[{\"automargin\":true,\"type\":\"pie\"}]},\"layout\":{\"autotypenumbers\":\"strict\",\"colorway\":[\"#636efa\",\"#EF553B\",\"#00cc96\",\"#ab63fa\",\"#FFA15A\",\"#19d3f3\",\"#FF6692\",\"#B6E880\",\"#FF97FF\",\"#FECB52\"],\"font\":{\"color\":\"#2a3f5f\"},\"hovermode\":\"closest\",\"hoverlabel\":{\"align\":\"left\"},\"paper_bgcolor\":\"white\",\"plot_bgcolor\":\"white\",\"polar\":{\"bgcolor\":\"white\",\"angularaxis\":{\"gridcolor\":\"#EBF0F8\",\"linecolor\":\"#EBF0F8\",\"ticks\":\"\"},\"radialaxis\":{\"gridcolor\":\"#EBF0F8\",\"linecolor\":\"#EBF0F8\",\"ticks\":\"\"}},\"ternary\":{\"bgcolor\":\"white\",\"aaxis\":{\"gridcolor\":\"#DFE8F3\",\"linecolor\":\"#A2B1C6\",\"ticks\":\"\"},\"baxis\":{\"gridcolor\":\"#DFE8F3\",\"linecolor\":\"#A2B1C6\",\"ticks\":\"\"},\"caxis\":{\"gridcolor\":\"#DFE8F3\",\"linecolor\":\"#A2B1C6\",\"ticks\":\"\"}},\"coloraxis\":{\"colorbar\":{\"outlinewidth\":0,\"ticks\":\"\"}},\"colorscale\":{\"sequential\":[[0.0,\"#0d0887\"],[0.1111111111111111,\"#46039f\"],[0.2222222222222222,\"#7201a8\"],[0.3333333333333333,\"#9c179e\"],[0.4444444444444444,\"#bd3786\"],[0.5555555555555556,\"#d8576b\"],[0.6666666666666666,\"#ed7953\"],[0.7777777777777778,\"#fb9f3a\"],[0.8888888888888888,\"#fdca26\"],[1.0,\"#f0f921\"]],\"sequentialminus\":[[0.0,\"#0d0887\"],[0.1111111111111111,\"#46039f\"],[0.2222222222222222,\"#7201a8\"],[0.3333333333333333,\"#9c179e\"],[0.4444444444444444,\"#bd3786\"],[0.5555555555555556,\"#d8576b\"],[0.6666666666666666,\"#ed7953\"],[0.7777777777777778,\"#fb9f3a\"],[0.8888888888888888,\"#fdca26\"],[1.0,\"#f0f921\"]],\"diverging\":[[0,\"#8e0152\"],[0.1,\"#c51b7d\"],[0.2,\"#de77ae\"],[0.3,\"#f1b6da\"],[0.4,\"#fde0ef\"],[0.5,\"#f7f7f7\"],[0.6,\"#e6f5d0\"],[0.7,\"#b8e186\"],[0.8,\"#7fbc41\"],[0.9,\"#4d9221\"],[1,\"#276419\"]]},\"xaxis\":{\"gridcolor\":\"#EBF0F8\",\"linecolor\":\"#EBF0F8\",\"ticks\":\"\",\"title\":{\"standoff\":15},\"zerolinecolor\":\"#EBF0F8\",\"automargin\":true,\"zerolinewidth\":2},\"yaxis\":{\"gridcolor\":\"#EBF0F8\",\"linecolor\":\"#EBF0F8\",\"ticks\":\"\",\"title\":{\"standoff\":15},\"zerolinecolor\":\"#EBF0F8\",\"automargin\":true,\"zerolinewidth\":2},\"scene\":{\"xaxis\":{\"backgroundcolor\":\"white\",\"gridcolor\":\"#DFE8F3\",\"linecolor\":\"#EBF0F8\",\"showbackground\":true,\"ticks\":\"\",\"zerolinecolor\":\"#EBF0F8\",\"gridwidth\":2},\"yaxis\":{\"backgroundcolor\":\"white\",\"gridcolor\":\"#DFE8F3\",\"linecolor\":\"#EBF0F8\",\"showbackground\":true,\"ticks\":\"\",\"zerolinecolor\":\"#EBF0F8\",\"gridwidth\":2},\"zaxis\":{\"backgroundcolor\":\"white\",\"gridcolor\":\"#DFE8F3\",\"linecolor\":\"#EBF0F8\",\"showbackground\":true,\"ticks\":\"\",\"zerolinecolor\":\"#EBF0F8\",\"gridwidth\":2}},\"shapedefaults\":{\"line\":{\"color\":\"#2a3f5f\"}},\"annotationdefaults\":{\"arrowcolor\":\"#2a3f5f\",\"arrowhead\":0,\"arrowwidth\":1},\"geo\":{\"bgcolor\":\"white\",\"landcolor\":\"white\",\"subunitcolor\":\"#C8D4E3\",\"showland\":true,\"showlakes\":true,\"lakecolor\":\"white\"},\"title\":{\"x\":0.05},\"mapbox\":{\"style\":\"light\"}}}},                        {\"displaylogo\": false, \"modeBarButtonsToRemove\": [\"select2d\", \"lasso2d\", \"zoomIn2d\", \"zoomOut2d\", \"autoScale2d\"], \"responsive\": true}                    )                };            </script>        </div>"
      ],
      "text/plain": [
       "<IPython.core.display.HTML object>"
      ]
     },
     "metadata": {},
     "output_type": "display_data"
    }
   ],
   "source": [
    "# Before optimizing the parameters, we can visualize the measured\n",
    "# diffraction pattern and the calculated diffraction pattern based on the\n",
    "# two phases: LBCO and Si.\n",
    "project_2.plot_meas_vs_calc(expt_name='sim_lbco')\n",
    "\n",
    "# As you can see, the calculated pattern is now the sum of both phases,\n",
    "# and Si peaks are visible in the calculated pattern. However, their\n",
    "# intensities are much too high. Therefore, we need to refine the scale factor\n",
    "# of the Si phase.\n",
    "project_2.experiments['sim_lbco'].linked_phases['si'].scale.free = True\n",
    "\n",
    "# Now we can perform the fit with both phases included.\n",
    "project_2.analysis.fit()\n",
    "\n",
    "# Let's plot the measured diffraction pattern and the calculated diffraction\n",
    "# pattern both for the full range and for a zoomed-in region around the\n",
    "# previously unexplained peak near 95,000 μs. The calculated pattern will be\n",
    "# the sum of the two phases.\n",
    "project_2.plot_meas_vs_calc(expt_name='sim_lbco')\n",
    "project_2.plot_meas_vs_calc(expt_name='sim_lbco', x_min=88000, x_max=101000)"
   ]
  },
  {
   "cell_type": "markdown",
   "id": "199",
   "metadata": {},
   "source": [
    "All previously unexplained peaks are now accounted for in the pattern, and\n",
    "the fit is improved. Some discrepancies in the peak intensities remain, but\n",
    "further improvements would require more advanced data reduction and analysis,\n",
    "which are beyond the scope of this school.\n",
    "\n",
    "To review the analysis results, you can generate and print a summary\n",
    "report using the `show_report()` method, as demonstrated in the cell below.\n",
    "The report includes parameters related to the sample model and the\n",
    "experiment, such as the refined unit cell parameter `a` of LBCO.\n",
    "\n",
    "Information about the crystal or magnetic structure, along with experimental\n",
    "details, fitting quality, and other relevant data, is often submitted to\n",
    "crystallographic journals as part of a scientific publication.\n",
    "It can also be deposited in crystallographic databases when relevant."
   ]
  },
  {
   "cell_type": "code",
   "execution_count": 51,
   "id": "200",
   "metadata": {
    "execution": {
     "iopub.execute_input": "2025-08-31T19:33:30.036210Z",
     "iopub.status.busy": "2025-08-31T19:33:30.036022Z",
     "iopub.status.idle": "2025-08-31T19:33:30.093475Z",
     "shell.execute_reply": "2025-08-31T19:33:30.092390Z"
    }
   },
   "outputs": [
    {
     "name": "stdout",
     "output_type": "stream",
     "text": [
      "\n",
      "\u001b[92m\u001b[1m*** PROJECT INFO ***\u001b[0m\n",
      "\n",
      "\u001b[94m\u001b[1mTitle\u001b[0m\n",
      "La0.5Ba0.5CoO3 Fit\n",
      "\n",
      "\u001b[94m\u001b[1mDescription\u001b[0m\n",
      "Fitting simulated powder diffraction pattern of\n",
      "La0.5Ba0.5CoO3.\n",
      "\n",
      "\u001b[92m\u001b[1m*** CRYSTALLOGRAPHIC DATA ***\u001b[0m\n",
      "\n",
      "\u001b[94m\u001b[1mPhase datablock\u001b[0m\n",
      "🧩 lbco\n",
      "\n",
      "\u001b[94m\u001b[1mSpace group\u001b[0m\n",
      "P m -3 m\n",
      "\n",
      "\u001b[94m\u001b[1mCell parameters\u001b[0m\n"
     ]
    },
    {
     "data": {
      "text/html": [
       "<table class=\"dataframe\" style=\"border-collapse: collapse; border: 1px solid #515155; margin-left: 0.5em;margin-top: 0.5em;margin-bottom: 1em;\">\n",
       "  <tbody>\n",
       "    <tr>\n",
       "      <td><div style=\"text-align: left;\">alpha</div></td>\n",
       "      <td><div style=\"text-align: right;\">90.00000</div></td>\n",
       "    </tr>\n",
       "    <tr>\n",
       "      <td><div style=\"text-align: left;\">beta</div></td>\n",
       "      <td><div style=\"text-align: right;\">90.00000</div></td>\n",
       "    </tr>\n",
       "    <tr>\n",
       "      <td><div style=\"text-align: left;\">gamma</div></td>\n",
       "      <td><div style=\"text-align: right;\">90.00000</div></td>\n",
       "    </tr>\n",
       "    <tr>\n",
       "      <td><div style=\"text-align: left;\">a</div></td>\n",
       "      <td><div style=\"text-align: right;\">3.89125</div></td>\n",
       "    </tr>\n",
       "    <tr>\n",
       "      <td><div style=\"text-align: left;\">b</div></td>\n",
       "      <td><div style=\"text-align: right;\">3.89125</div></td>\n",
       "    </tr>\n",
       "    <tr>\n",
       "      <td><div style=\"text-align: left;\">c</div></td>\n",
       "      <td><div style=\"text-align: right;\">3.89125</div></td>\n",
       "    </tr>\n",
       "  </tbody>\n",
       "</table>"
      ],
      "text/plain": [
       "<IPython.core.display.HTML object>"
      ]
     },
     "metadata": {},
     "output_type": "display_data"
    },
    {
     "name": "stdout",
     "output_type": "stream",
     "text": [
      "\n",
      "\u001b[94m\u001b[1mAtom sites\u001b[0m\n"
     ]
    },
    {
     "data": {
      "text/html": [
       "<table class=\"dataframe\" style=\"border-collapse: collapse; border: 1px solid #515155; margin-left: 0.5em;margin-top: 0.5em;margin-bottom: 1em;\">\n",
       "  <thead>\n",
       "    <tr style=\"text-align: right;\">\n",
       "      <th style=\"text-align: left;\">Label</th>\n",
       "      <th style=\"text-align: left;\">Type</th>\n",
       "      <th style=\"text-align: right;\">fract_x</th>\n",
       "      <th style=\"text-align: right;\">fract_y</th>\n",
       "      <th style=\"text-align: right;\">fract_z</th>\n",
       "      <th style=\"text-align: right;\">Occupancy</th>\n",
       "      <th style=\"text-align: right;\">B_iso</th>\n",
       "    </tr>\n",
       "  </thead>\n",
       "  <tbody>\n",
       "    <tr>\n",
       "      <td><div style=\"text-align: left;\">La</div></td>\n",
       "      <td><div style=\"text-align: left;\">La</div></td>\n",
       "      <td><div style=\"text-align: right;\">0.00000</div></td>\n",
       "      <td><div style=\"text-align: right;\">0.00000</div></td>\n",
       "      <td><div style=\"text-align: right;\">0.00000</div></td>\n",
       "      <td><div style=\"text-align: right;\">0.50000</div></td>\n",
       "      <td><div style=\"text-align: right;\">0.95000</div></td>\n",
       "    </tr>\n",
       "    <tr>\n",
       "      <td><div style=\"text-align: left;\">Ba</div></td>\n",
       "      <td><div style=\"text-align: left;\">Ba</div></td>\n",
       "      <td><div style=\"text-align: right;\">0.00000</div></td>\n",
       "      <td><div style=\"text-align: right;\">0.00000</div></td>\n",
       "      <td><div style=\"text-align: right;\">0.00000</div></td>\n",
       "      <td><div style=\"text-align: right;\">0.50000</div></td>\n",
       "      <td><div style=\"text-align: right;\">0.95000</div></td>\n",
       "    </tr>\n",
       "    <tr>\n",
       "      <td><div style=\"text-align: left;\">Co</div></td>\n",
       "      <td><div style=\"text-align: left;\">Co</div></td>\n",
       "      <td><div style=\"text-align: right;\">0.50000</div></td>\n",
       "      <td><div style=\"text-align: right;\">0.50000</div></td>\n",
       "      <td><div style=\"text-align: right;\">0.50000</div></td>\n",
       "      <td><div style=\"text-align: right;\">1.00000</div></td>\n",
       "      <td><div style=\"text-align: right;\">0.80000</div></td>\n",
       "    </tr>\n",
       "    <tr>\n",
       "      <td><div style=\"text-align: left;\">O</div></td>\n",
       "      <td><div style=\"text-align: left;\">O</div></td>\n",
       "      <td><div style=\"text-align: right;\">0.00000</div></td>\n",
       "      <td><div style=\"text-align: right;\">0.50000</div></td>\n",
       "      <td><div style=\"text-align: right;\">0.50000</div></td>\n",
       "      <td><div style=\"text-align: right;\">1.00000</div></td>\n",
       "      <td><div style=\"text-align: right;\">1.66000</div></td>\n",
       "    </tr>\n",
       "  </tbody>\n",
       "</table>"
      ],
      "text/plain": [
       "<IPython.core.display.HTML object>"
      ]
     },
     "metadata": {},
     "output_type": "display_data"
    },
    {
     "name": "stdout",
     "output_type": "stream",
     "text": [
      "\n",
      "\u001b[94m\u001b[1mPhase datablock\u001b[0m\n",
      "🧩 si\n",
      "\n",
      "\u001b[94m\u001b[1mSpace group\u001b[0m\n",
      "F d -3 m\n",
      "\n",
      "\u001b[94m\u001b[1mCell parameters\u001b[0m\n"
     ]
    },
    {
     "data": {
      "text/html": [
       "<table class=\"dataframe\" style=\"border-collapse: collapse; border: 1px solid #515155; margin-left: 0.5em;margin-top: 0.5em;margin-bottom: 1em;\">\n",
       "  <tbody>\n",
       "    <tr>\n",
       "      <td><div style=\"text-align: left;\">alpha</div></td>\n",
       "      <td><div style=\"text-align: right;\">90.00000</div></td>\n",
       "    </tr>\n",
       "    <tr>\n",
       "      <td><div style=\"text-align: left;\">beta</div></td>\n",
       "      <td><div style=\"text-align: right;\">90.00000</div></td>\n",
       "    </tr>\n",
       "    <tr>\n",
       "      <td><div style=\"text-align: left;\">gamma</div></td>\n",
       "      <td><div style=\"text-align: right;\">90.00000</div></td>\n",
       "    </tr>\n",
       "    <tr>\n",
       "      <td><div style=\"text-align: left;\">a</div></td>\n",
       "      <td><div style=\"text-align: right;\">5.43000</div></td>\n",
       "    </tr>\n",
       "    <tr>\n",
       "      <td><div style=\"text-align: left;\">b</div></td>\n",
       "      <td><div style=\"text-align: right;\">5.43000</div></td>\n",
       "    </tr>\n",
       "    <tr>\n",
       "      <td><div style=\"text-align: left;\">c</div></td>\n",
       "      <td><div style=\"text-align: right;\">5.43000</div></td>\n",
       "    </tr>\n",
       "  </tbody>\n",
       "</table>"
      ],
      "text/plain": [
       "<IPython.core.display.HTML object>"
      ]
     },
     "metadata": {},
     "output_type": "display_data"
    },
    {
     "name": "stdout",
     "output_type": "stream",
     "text": [
      "\n",
      "\u001b[94m\u001b[1mAtom sites\u001b[0m\n"
     ]
    },
    {
     "data": {
      "text/html": [
       "<table class=\"dataframe\" style=\"border-collapse: collapse; border: 1px solid #515155; margin-left: 0.5em;margin-top: 0.5em;margin-bottom: 1em;\">\n",
       "  <thead>\n",
       "    <tr style=\"text-align: right;\">\n",
       "      <th style=\"text-align: left;\">Label</th>\n",
       "      <th style=\"text-align: left;\">Type</th>\n",
       "      <th style=\"text-align: right;\">fract_x</th>\n",
       "      <th style=\"text-align: right;\">fract_y</th>\n",
       "      <th style=\"text-align: right;\">fract_z</th>\n",
       "      <th style=\"text-align: right;\">Occupancy</th>\n",
       "      <th style=\"text-align: right;\">B_iso</th>\n",
       "    </tr>\n",
       "  </thead>\n",
       "  <tbody>\n",
       "    <tr>\n",
       "      <td><div style=\"text-align: left;\">Si</div></td>\n",
       "      <td><div style=\"text-align: left;\">Si</div></td>\n",
       "      <td><div style=\"text-align: right;\">0.12500</div></td>\n",
       "      <td><div style=\"text-align: right;\">0.12500</div></td>\n",
       "      <td><div style=\"text-align: right;\">0.12500</div></td>\n",
       "      <td><div style=\"text-align: right;\">1.00000</div></td>\n",
       "      <td><div style=\"text-align: right;\">0.89000</div></td>\n",
       "    </tr>\n",
       "  </tbody>\n",
       "</table>"
      ],
      "text/plain": [
       "<IPython.core.display.HTML object>"
      ]
     },
     "metadata": {},
     "output_type": "display_data"
    },
    {
     "name": "stdout",
     "output_type": "stream",
     "text": [
      "\n",
      "\u001b[92m\u001b[1m*** EXPERIMENTS ***\u001b[0m\n",
      "\n",
      "\u001b[94m\u001b[1mExperiment datablock\u001b[0m\n",
      "🔬 sim_lbco\n",
      "\n",
      "\u001b[94m\u001b[1mExperiment type\u001b[0m\n",
      "powder, neutron, time-of-flight\n",
      "\n",
      "\u001b[94m\u001b[1mProfile type\u001b[0m\n",
      "pseudo-voigt * ikeda-carpenter\n",
      "\n",
      "\u001b[92m\u001b[1m*** FITTING ***\u001b[0m\n",
      "\n",
      "\u001b[94m\u001b[1mCalculation engine\u001b[0m\n",
      "cryspy\n",
      "\n",
      "\u001b[94m\u001b[1mMinimization engine\u001b[0m\n",
      "lmfit (leastsq)\n",
      "\n",
      "\u001b[94m\u001b[1mFit quality\u001b[0m\n"
     ]
    },
    {
     "data": {
      "text/html": [
       "<table class=\"dataframe\" style=\"border-collapse: collapse; border: 1px solid #515155; margin-left: 0.5em;margin-top: 0.5em;margin-bottom: 1em;\">\n",
       "  <tbody>\n",
       "    <tr>\n",
       "      <td><div style=\"text-align: left;\">Goodness-of-fit (reduced χ²)</div></td>\n",
       "      <td><div style=\"text-align: right;\">1.54</div></td>\n",
       "    </tr>\n",
       "  </tbody>\n",
       "</table>"
      ],
      "text/plain": [
       "<IPython.core.display.HTML object>"
      ]
     },
     "metadata": {},
     "output_type": "display_data"
    }
   ],
   "source": [
    "project_2.summary.show_report()"
   ]
  },
  {
   "cell_type": "markdown",
   "id": "201",
   "metadata": {},
   "source": [
    "Finally, we save the project to disk to preserve the current state of the analysis."
   ]
  },
  {
   "cell_type": "code",
   "execution_count": 52,
   "id": "202",
   "metadata": {
    "execution": {
     "iopub.execute_input": "2025-08-31T19:33:30.095670Z",
     "iopub.status.busy": "2025-08-31T19:33:30.095124Z",
     "iopub.status.idle": "2025-08-31T19:33:30.102293Z",
     "shell.execute_reply": "2025-08-31T19:33:30.101975Z"
    }
   },
   "outputs": [
    {
     "name": "stdout",
     "output_type": "stream",
     "text": [
      "\n",
      "\u001b[94m\u001b[1mSaving project 📦 \u001b[0m'main'\u001b[94m\u001b[1m to\u001b[0m\n",
      "/Users/runner/work/diffraction-lib/diffraction-lib/tutorials/powder_diffraction_LBCO_Si\n",
      "✅ project.cif\n",
      "✅ sample_models/lbco.cif\n",
      "✅ sample_models/si.cif\n",
      "✅ experiments/sim_lbco.cif\n",
      "✅ analysis.cif\n",
      "✅ summary.cif\n"
     ]
    }
   ],
   "source": [
    "project_2.save_as(dir_path='powder_diffraction_LBCO_Si')"
   ]
  },
  {
   "cell_type": "markdown",
   "id": "203",
   "metadata": {},
   "source": [
    "#### Final Remarks\n",
    "\n",
    "In this part of the notebook, you learned how to use EasyDiffraction\n",
    "to refine lattice parameters of a more complex crystal structure,\n",
    "La₀.₅Ba₀.₅CoO₃ (LBCO).\n",
    "In real experiments, you might also refine additional parameters,\n",
    "such as atomic positions, occupancies, and atomic displacement factors,\n",
    "to achieve an even better fit.\n",
    "For our purposes, we'll stop here, as the goal was to give you a\n",
    "starting point for analyzing more complex crystal structures\n",
    "with EasyDiffraction."
   ]
  },
  {
   "cell_type": "markdown",
   "id": "204",
   "metadata": {},
   "source": [
    "## 🎁 Bonus\n",
    "\n",
    "Congratulations — you've now completed the diffraction data analysis part of\n",
    "the DMSC Summer School!\n",
    "\n",
    "If you'd like to keep exploring, the EasyDiffraction library offers many\n",
    "additional tutorials and examples on the official documentation site:\n",
    "👉 https://docs.easydiffraction.org/lib/tutorials/\n",
    "\n",
    "Besides the Python package, EasyDiffraction also comes with a graphical\n",
    "user interface (GUI) that lets you perform similar analyses without writing\n",
    "code. To be fair, it's not *quite* feature-complete compared to the Python\n",
    "library yet — but we're working on it! 🚧\n",
    "\n",
    "If you prefer a point-and-click interface over coding, the GUI provides a\n",
    "user-friendly way to analyze diffraction data. You can download it as a\n",
    "standalone application here:\n",
    "👉 https://easydiffraction.org\n",
    "\n",
    "We'd love to hear your feedback on EasyDiffraction — both the library and\n",
    "the GUI! 💬"
   ]
  }
 ],
 "metadata": {
  "jupytext": {
   "cell_metadata_filter": "tags,-all",
   "main_language": "python",
   "notebook_metadata_filter": "-all"
  },
  "language_info": {
   "codemirror_mode": {
    "name": "ipython",
    "version": 3
   },
   "file_extension": ".py",
   "mimetype": "text/x-python",
   "name": "python",
   "nbconvert_exporter": "python",
   "pygments_lexer": "ipython3",
   "version": "3.13.5"
  }
 },
 "nbformat": 4,
 "nbformat_minor": 5
}
