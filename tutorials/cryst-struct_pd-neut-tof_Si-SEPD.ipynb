{
 "cells": [
  {
   "cell_type": "markdown",
   "id": "2780bc42",
   "metadata": {},
   "source": [
    "# Structure Refinement: Si, SEPD\n",
    "\n",
    "This example demonstrates a Rietveld refinement of Si crystal structure using\n",
    "time-of-flight neutron powder diffraction data from SEPD at Argonne."
   ]
  },
  {
   "cell_type": "markdown",
   "id": "a228268e",
   "metadata": {},
   "source": [
    "## Import Library"
   ]
  },
  {
   "cell_type": "code",
   "execution_count": null,
   "id": "021335e1",
   "metadata": {},
   "outputs": [],
   "source": [
    "from easydiffraction import (\n",
    "    Project,\n",
    "    SampleModel,\n",
    "    Experiment,\n",
    "    download_from_repository\n",
    ")"
   ]
  },
  {
   "cell_type": "markdown",
   "id": "6cbe0b11",
   "metadata": {},
   "source": [
    "## Define Sample Model\n",
    "\n",
    "This section shows how to add sample models and modify their parameters.\n",
    "\n",
    "#### Create Sample Model"
   ]
  },
  {
   "cell_type": "code",
   "execution_count": null,
   "id": "f1a8ac7b",
   "metadata": {},
   "outputs": [],
   "source": [
    "model = SampleModel('si')"
   ]
  },
  {
   "cell_type": "markdown",
   "id": "1d388d6b",
   "metadata": {},
   "source": [
    "#### Set Space Group"
   ]
  },
  {
   "cell_type": "code",
   "execution_count": null,
   "id": "aeedd31a",
   "metadata": {},
   "outputs": [],
   "source": [
    "model.space_group.name_h_m = 'F d -3 m'\n",
    "model.space_group.it_coordinate_system_code = '2'"
   ]
  },
  {
   "cell_type": "markdown",
   "id": "17e1910d",
   "metadata": {},
   "source": [
    "#### Set Unit Cell"
   ]
  },
  {
   "cell_type": "code",
   "execution_count": null,
   "id": "9a427a24",
   "metadata": {},
   "outputs": [],
   "source": [
    "model.cell.length_a = 5.431"
   ]
  },
  {
   "cell_type": "markdown",
   "id": "d665b13d",
   "metadata": {},
   "source": [
    "#### Set Atom Sites"
   ]
  },
  {
   "cell_type": "code",
   "execution_count": null,
   "id": "f05a565f",
   "metadata": {},
   "outputs": [],
   "source": [
    "model.atom_sites.add('Si', 'Si', 0.125, 0.125, 0.125, b_iso=0.5)"
   ]
  },
  {
   "cell_type": "markdown",
   "id": "ebc7cfca",
   "metadata": {},
   "source": [
    "## Define Experiment\n",
    "\n",
    "This section shows how to add experiments, configure their parameters, and\n",
    "link the sample models defined in the previous step.\n",
    "\n",
    "#### Download Measured Data"
   ]
  },
  {
   "cell_type": "code",
   "execution_count": null,
   "id": "b8b3f2ac",
   "metadata": {},
   "outputs": [],
   "source": [
    "download_from_repository('sepd_si.xye',\n",
    "                         destination='data')"
   ]
  },
  {
   "cell_type": "markdown",
   "id": "b43cf16e",
   "metadata": {},
   "source": [
    "#### Create Experiment"
   ]
  },
  {
   "cell_type": "code",
   "execution_count": null,
   "id": "9a5be163",
   "metadata": {},
   "outputs": [],
   "source": [
    "expt = Experiment('sepd',\n",
    "                  beam_mode='time-of-flight',\n",
    "                  data_path='data/sepd_si.xye')"
   ]
  },
  {
   "cell_type": "markdown",
   "id": "0671335b",
   "metadata": {},
   "source": [
    "#### Set Instrument"
   ]
  },
  {
   "cell_type": "code",
   "execution_count": null,
   "id": "bd4fa739",
   "metadata": {},
   "outputs": [],
   "source": [
    "expt.instrument.setup_twotheta_bank = 144.845\n",
    "expt.instrument.calib_d_to_tof_offset = 0.0\n",
    "expt.instrument.calib_d_to_tof_linear = 7476.91\n",
    "expt.instrument.calib_d_to_tof_quad = -1.54"
   ]
  },
  {
   "cell_type": "markdown",
   "id": "aca665c6",
   "metadata": {},
   "source": [
    "#### Set Peak Profile"
   ]
  },
  {
   "cell_type": "code",
   "execution_count": null,
   "id": "0b37d2a3",
   "metadata": {},
   "outputs": [],
   "source": [
    "expt.peak_profile_type = 'pseudo-voigt * ikeda-carpenter'\n",
    "expt.peak.broad_gauss_sigma_0 = 3.0\n",
    "expt.peak.broad_gauss_sigma_1 = 40.0\n",
    "expt.peak.broad_gauss_sigma_2 = 2.0\n",
    "expt.peak.broad_mix_beta_0 = 0.04221\n",
    "expt.peak.broad_mix_beta_1 = 0.00946"
   ]
  },
  {
   "cell_type": "markdown",
   "id": "68623e8b",
   "metadata": {},
   "source": [
    "#### Set Peak Asymmetry"
   ]
  },
  {
   "cell_type": "code",
   "execution_count": null,
   "id": "9ed14de8",
   "metadata": {},
   "outputs": [],
   "source": [
    "expt.peak.asym_alpha_0 = 0.0\n",
    "expt.peak.asym_alpha_1 = 0.5971"
   ]
  },
  {
   "cell_type": "markdown",
   "id": "51f0b7d6",
   "metadata": {},
   "source": [
    "#### Set Background"
   ]
  },
  {
   "cell_type": "code",
   "execution_count": null,
   "id": "a5b2cb4c",
   "metadata": {},
   "outputs": [],
   "source": [
    "expt.background_type = 'line-segment'\n",
    "for x in range(0, 35000, 5000):\n",
    "    expt.background.add(x=x, y=200)"
   ]
  },
  {
   "cell_type": "markdown",
   "id": "e04e06f1",
   "metadata": {},
   "source": [
    "#### Set Linked Phases"
   ]
  },
  {
   "cell_type": "code",
   "execution_count": null,
   "id": "c04e391b",
   "metadata": {},
   "outputs": [],
   "source": [
    "expt.linked_phases.add('si', scale=10.0)"
   ]
  },
  {
   "cell_type": "markdown",
   "id": "45821547",
   "metadata": {},
   "source": [
    "## Define Project\n",
    "\n",
    "The project object is used to manage the sample model, experiment, and\n",
    "analysis.\n",
    "\n",
    "#### Create Project"
   ]
  },
  {
   "cell_type": "code",
   "execution_count": null,
   "id": "4e12d271",
   "metadata": {},
   "outputs": [],
   "source": [
    "project = Project()"
   ]
  },
  {
   "cell_type": "markdown",
   "id": "cb8d90a4",
   "metadata": {},
   "source": [
    "#### Set Plotting Engine"
   ]
  },
  {
   "cell_type": "code",
   "execution_count": null,
   "id": "d4cee128",
   "metadata": {},
   "outputs": [],
   "source": [
    "project.plotter.engine = 'plotly'"
   ]
  },
  {
   "cell_type": "markdown",
   "id": "da7574c3",
   "metadata": {},
   "source": [
    "#### Add Sample Model"
   ]
  },
  {
   "cell_type": "code",
   "execution_count": null,
   "id": "0b49013d",
   "metadata": {},
   "outputs": [],
   "source": [
    "project.sample_models.add(model)"
   ]
  },
  {
   "cell_type": "markdown",
   "id": "6af9d6ea",
   "metadata": {},
   "source": [
    "#### Add Experiment"
   ]
  },
  {
   "cell_type": "code",
   "execution_count": null,
   "id": "749ed4fc",
   "metadata": {},
   "outputs": [],
   "source": [
    "project.experiments.add(expt)"
   ]
  },
  {
   "cell_type": "markdown",
   "id": "cfe2962d",
   "metadata": {},
   "source": [
    "## Perform Analysis\n",
    "\n",
    "This section shows the analysis process, including how to set up\n",
    "calculation and fitting engines.\n",
    "\n",
    "#### Set Calculator"
   ]
  },
  {
   "cell_type": "code",
   "execution_count": null,
   "id": "2cbadd65",
   "metadata": {},
   "outputs": [],
   "source": [
    "project.analysis.current_calculator = 'cryspy'"
   ]
  },
  {
   "cell_type": "markdown",
   "id": "468a3d8f",
   "metadata": {},
   "source": [
    "#### Set Minimizer"
   ]
  },
  {
   "cell_type": "code",
   "execution_count": null,
   "id": "7919526a",
   "metadata": {},
   "outputs": [],
   "source": [
    "project.analysis.current_minimizer = 'lmfit (leastsq)'"
   ]
  },
  {
   "cell_type": "markdown",
   "id": "18e7ed31",
   "metadata": {},
   "source": [
    "#### Plot Measured vs Calculated"
   ]
  },
  {
   "cell_type": "code",
   "execution_count": null,
   "id": "9163d2c4",
   "metadata": {},
   "outputs": [],
   "source": [
    "project.plot_meas_vs_calc(expt_name='sepd',\n",
    "                          show_residual=True)\n",
    "project.plot_meas_vs_calc(expt_name='sepd',\n",
    "                          x_min=23200, x_max=23700,\n",
    "                          show_residual=True)"
   ]
  },
  {
   "cell_type": "markdown",
   "id": "fdddb822",
   "metadata": {},
   "source": [
    "### Perform Fit 1/5\n",
    "\n",
    "Set parameters to be refined."
   ]
  },
  {
   "cell_type": "code",
   "execution_count": null,
   "id": "4e38f983",
   "metadata": {},
   "outputs": [],
   "source": [
    "model.cell.length_a.free = True\n",
    "\n",
    "expt.linked_phases['si'].scale.free = True\n",
    "expt.instrument.calib_d_to_tof_offset.free = True"
   ]
  },
  {
   "cell_type": "markdown",
   "id": "34d6f631",
   "metadata": {},
   "source": [
    "Show free parameters after selection."
   ]
  },
  {
   "cell_type": "code",
   "execution_count": null,
   "id": "fa0b7ecf",
   "metadata": {},
   "outputs": [],
   "source": [
    "project.analysis.show_free_params()"
   ]
  },
  {
   "cell_type": "markdown",
   "id": "5d02df99",
   "metadata": {},
   "source": [
    "#### Run Fitting"
   ]
  },
  {
   "cell_type": "code",
   "execution_count": null,
   "id": "c98e6c10",
   "metadata": {},
   "outputs": [],
   "source": [
    "project.analysis.fit()"
   ]
  },
  {
   "cell_type": "markdown",
   "id": "8601fbcb",
   "metadata": {},
   "source": [
    "#### Plot Measured vs Calculated"
   ]
  },
  {
   "cell_type": "code",
   "execution_count": null,
   "id": "7bc5f68d",
   "metadata": {},
   "outputs": [],
   "source": [
    "project.plot_meas_vs_calc(expt_name='sepd',\n",
    "                          show_residual=True)"
   ]
  },
  {
   "cell_type": "code",
   "execution_count": null,
   "id": "2ddfaf46",
   "metadata": {},
   "outputs": [],
   "source": [
    "project.plot_meas_vs_calc(expt_name='sepd',\n",
    "                          x_min=23200, x_max=23700,\n",
    "                          show_residual=True)"
   ]
  },
  {
   "cell_type": "markdown",
   "id": "0623f4e7",
   "metadata": {},
   "source": [
    "### Perform Fit 2/5\n",
    "\n",
    "Set more parameters to be refined."
   ]
  },
  {
   "cell_type": "code",
   "execution_count": null,
   "id": "fd54a137",
   "metadata": {},
   "outputs": [],
   "source": [
    "for point in expt.background:\n",
    "    point.y.free = True"
   ]
  },
  {
   "cell_type": "markdown",
   "id": "7bdf329b",
   "metadata": {},
   "source": [
    "Show free parameters after selection."
   ]
  },
  {
   "cell_type": "code",
   "execution_count": null,
   "id": "d12881d5",
   "metadata": {},
   "outputs": [],
   "source": [
    "project.analysis.show_free_params()"
   ]
  },
  {
   "cell_type": "markdown",
   "id": "f1f87945",
   "metadata": {},
   "source": [
    "#### Run Fitting"
   ]
  },
  {
   "cell_type": "code",
   "execution_count": null,
   "id": "099dfa9b",
   "metadata": {},
   "outputs": [],
   "source": [
    "project.analysis.fit()"
   ]
  },
  {
   "cell_type": "markdown",
   "id": "47c2f591",
   "metadata": {},
   "source": [
    "#### Plot Measured vs Calculated"
   ]
  },
  {
   "cell_type": "code",
   "execution_count": null,
   "id": "44466af3",
   "metadata": {},
   "outputs": [],
   "source": [
    "project.plot_meas_vs_calc(expt_name='sepd',\n",
    "                          show_residual=True)"
   ]
  },
  {
   "cell_type": "code",
   "execution_count": null,
   "id": "c32535e2",
   "metadata": {},
   "outputs": [],
   "source": [
    "project.plot_meas_vs_calc(expt_name='sepd',\n",
    "                          x_min=23200, x_max=23700,\n",
    "                          show_residual=True)"
   ]
  },
  {
   "cell_type": "markdown",
   "id": "69e25d8d",
   "metadata": {},
   "source": [
    "### Perform Fit 3/5\n",
    "\n",
    "Fix background points."
   ]
  },
  {
   "cell_type": "code",
   "execution_count": null,
   "id": "498d0b29",
   "metadata": {},
   "outputs": [],
   "source": [
    "for point in expt.background:\n",
    "    point.y.free = False"
   ]
  },
  {
   "cell_type": "markdown",
   "id": "da725256",
   "metadata": {},
   "source": [
    "Set more parameters to be refined."
   ]
  },
  {
   "cell_type": "code",
   "execution_count": null,
   "id": "07f7ec3e",
   "metadata": {},
   "outputs": [],
   "source": [
    "expt.peak.broad_gauss_sigma_0.free = True\n",
    "expt.peak.broad_gauss_sigma_1.free = True\n",
    "expt.peak.broad_gauss_sigma_2.free = True"
   ]
  },
  {
   "cell_type": "markdown",
   "id": "ecaf589d",
   "metadata": {},
   "source": [
    "Show free parameters after selection."
   ]
  },
  {
   "cell_type": "code",
   "execution_count": null,
   "id": "11af3a5f",
   "metadata": {},
   "outputs": [],
   "source": [
    "project.analysis.show_free_params()"
   ]
  },
  {
   "cell_type": "markdown",
   "id": "fb79bc95",
   "metadata": {},
   "source": [
    "#### Run Fitting"
   ]
  },
  {
   "cell_type": "code",
   "execution_count": null,
   "id": "a3420461",
   "metadata": {},
   "outputs": [],
   "source": [
    "project.analysis.fit()"
   ]
  },
  {
   "cell_type": "markdown",
   "id": "21e727dd",
   "metadata": {},
   "source": [
    "#### Plot Measured vs Calculated"
   ]
  },
  {
   "cell_type": "code",
   "execution_count": null,
   "id": "a64c4ab5",
   "metadata": {},
   "outputs": [],
   "source": [
    "project.plot_meas_vs_calc(expt_name='sepd',\n",
    "                          show_residual=True)"
   ]
  },
  {
   "cell_type": "code",
   "execution_count": null,
   "id": "daa0df8e",
   "metadata": {},
   "outputs": [],
   "source": [
    "project.plot_meas_vs_calc(expt_name='sepd',\n",
    "                          x_min=23200, x_max=23700,\n",
    "                          show_residual=True)"
   ]
  },
  {
   "cell_type": "markdown",
   "id": "33a2eb00",
   "metadata": {},
   "source": [
    "### Perform Fit 4/5\n",
    "\n",
    "Set more parameters to be refined."
   ]
  },
  {
   "cell_type": "code",
   "execution_count": null,
   "id": "8f6fd490",
   "metadata": {},
   "outputs": [],
   "source": [
    "model.atom_sites['Si'].b_iso.free = True"
   ]
  },
  {
   "cell_type": "markdown",
   "id": "0688b6c1",
   "metadata": {},
   "source": [
    "Show free parameters after selection."
   ]
  },
  {
   "cell_type": "code",
   "execution_count": null,
   "id": "8cc2ee9f",
   "metadata": {},
   "outputs": [],
   "source": [
    "project.analysis.show_free_params()"
   ]
  },
  {
   "cell_type": "markdown",
   "id": "8341ada7",
   "metadata": {},
   "source": [
    "#### Run Fitting"
   ]
  },
  {
   "cell_type": "code",
   "execution_count": null,
   "id": "ae0b720b",
   "metadata": {},
   "outputs": [],
   "source": [
    "project.analysis.fit()"
   ]
  },
  {
   "cell_type": "markdown",
   "id": "53eb8498",
   "metadata": {},
   "source": [
    "#### Plot Measured vs Calculated"
   ]
  },
  {
   "cell_type": "code",
   "execution_count": null,
   "id": "f1309d17",
   "metadata": {},
   "outputs": [],
   "source": [
    "project.plot_meas_vs_calc(expt_name='sepd',\n",
    "                          show_residual=True)"
   ]
  },
  {
   "cell_type": "code",
   "execution_count": null,
   "id": "6dd30569",
   "metadata": {},
   "outputs": [],
   "source": [
    "project.plot_meas_vs_calc(expt_name='sepd',\n",
    "                          x_min=23200, x_max=23700,\n",
    "                          show_residual=True)"
   ]
  }
 ],
 "metadata": {
  "jupytext": {
   "cell_metadata_filter": "-all",
   "main_language": "python",
   "notebook_metadata_filter": "-all"
  }
 },
 "nbformat": 4,
 "nbformat_minor": 5
}
