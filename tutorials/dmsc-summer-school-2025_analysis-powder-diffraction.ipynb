{
 "cells": [
  {
   "cell_type": "code",
   "execution_count": null,
   "id": "8ff514e8",
   "metadata": {},
   "outputs": [],
   "source": [
    "# TODO: Remove this cell in the final version of the tutorial.\n",
    "# Google Colab and Jupyter Notebook environments may not have the\n",
    "# easydiffraction library installed by default. So, we check if the\n",
    "# library is available and install it if necessary.\n",
    "import builtins\n",
    "import importlib.util\n",
    "\n",
    "if hasattr(builtins, \"__IPYTHON__\"):\n",
    "    if importlib.util.find_spec('easydiffraction') is None:\n",
    "        print('Installing the easydiffraction library...')\n",
    "        !pip install git+https://github.com/easyscience/diffraction-lib@d-spacing"
   ]
  },
  {
   "cell_type": "markdown",
   "id": "c4f59cef",
   "metadata": {},
   "source": [
    "# Data Analysis: Powder Diffraction\n",
    "\n",
    "This tutorial will guide you through the refinement of simulated diffraction\n",
    "patterns for Si (Part 1) and La₀.₅Ba₀.₅CoO₃ (LBCO) (Part 2) using the\n",
    "EasyDiffraction Python library.\n",
    "\n",
    "The objective is to develop familiarity with the Rietveld refinement process\n",
    "for crystal structures using powder diffraction data.\n",
    "\n",
    "## 🛠️ Import Library\n",
    "\n",
    "First, import the necessary library for the analysis. In this tutorial, we\n",
    "use the EasyDiffraction library, which offers tools for\n",
    "analyzing and refining powder diffraction data.\n",
    "\n",
    "This tutorial is self-contained and designed for hands-on learning.\n",
    "However, if you're interested in exploring more advanced features or learning\n",
    "about additional capabilities of the EasyDiffraction library, please refer to\n",
    "the official documentation: https://easyscience.github.io/diffraction-lib\n",
    "\n",
    "Depending on your requirements, you may choose to import only specific\n",
    "classes. However, for the sake of simplicity in this tutorial, we will import\n",
    "the entire library."
   ]
  },
  {
   "cell_type": "code",
   "execution_count": null,
   "id": "b4905a50",
   "metadata": {},
   "outputs": [],
   "source": [
    "import easydiffraction as ed"
   ]
  },
  {
   "cell_type": "markdown",
   "id": "c8b56df0",
   "metadata": {},
   "source": [
    "## 📘 Introduction: Simple Reference Fit – Si\n",
    "\n",
    "Before diving into the more complex fitting exercise with the La₀.₅Ba₀.₅CoO₃\n",
    "(LBCO) crystal structure, let's start with a simpler example using the\n",
    "silicon (Si) crystal structure. This will help us understand the basic\n",
    "concepts and steps involved in fitting a crystal structure using powder\n",
    "diffraction data.\n",
    "\n",
    "For this part of the tutorial, we will use the powder diffraction data\n",
    "from the [previous tutorial](#), simulated using the Si crystal structure.\n",
    "\n",
    "### 📦 Create a Project – 'reference'\n",
    "\n",
    "In EasyDiffraction, a project serves as a container for all information\n",
    "related to the analysis of a specific experiment or set of experiments. It\n",
    "enables you to organize your data, experiments, sample models, and fitting\n",
    "parameters in a structured manner. You can think of it as a folder containing\n",
    "all the essential details about your analysis. The project also allows\n",
    "us to visualize both the measured and calculated diffraction patterns, among\n",
    "other things."
   ]
  },
  {
   "cell_type": "code",
   "execution_count": null,
   "id": "30116e14",
   "metadata": {},
   "outputs": [],
   "source": [
    "project_1 = ed.Project(name='reference')"
   ]
  },
  {
   "cell_type": "markdown",
   "id": "c1d17f64",
   "metadata": {},
   "source": [
    "\n",
    "You can set the title and description of the project to provide context\n",
    "and information about the analysis being performed. This is useful for\n",
    "documentation purposes and helps others (or yourself in the future) understand\n",
    "the purpose of the project at a glance."
   ]
  },
  {
   "cell_type": "code",
   "execution_count": null,
   "id": "6e8fabf6",
   "metadata": {},
   "outputs": [],
   "source": [
    "project_1.info.title = 'Reference Silicon Fit'\n",
    "project_1.info.description = 'Fitting simulated powder diffraction pattern of Si.'"
   ]
  },
  {
   "cell_type": "markdown",
   "id": "ad044ebb",
   "metadata": {},
   "source": [
    "### 🔬 Create an Experiment\n",
    "\n",
    "Now we will create an experiment within the project. An experiment\n",
    "represents a specific diffraction measurement performed on a specific sample\n",
    "using a particular instrument. It contains\n",
    "details about the measured data, instrument parameters, and other relevant\n",
    "information.\n",
    "\n",
    "In this case, the experiment is defined as a powder diffraction measurement\n",
    "using time-of-flight neutrons. The measured data is loaded from a file\n",
    "containing the reduced diffraction pattern of Si from the previous\n",
    "tutorial."
   ]
  },
  {
   "cell_type": "code",
   "execution_count": null,
   "id": "7b6124c0",
   "metadata": {},
   "outputs": [],
   "source": [
    "# TODO: Remove this cell in the final version of the tutorial.\n",
    "# Google Colab does not have the data files needed for this tutorial.\n",
    "ed.download_from_repository('powder_reduced_Si_2large_bank.xye',\n",
    "                            branch='d-spacing',\n",
    "                            destination='data')"
   ]
  },
  {
   "cell_type": "code",
   "execution_count": null,
   "id": "c71a924b",
   "metadata": {},
   "outputs": [],
   "source": [
    "project_1.experiments.add(name='sim_si',\n",
    "                          sample_form='powder',\n",
    "                          beam_mode='time-of-flight',\n",
    "                          radiation_probe='neutron',\n",
    "                          data_path='data/powder_reduced_Si_2large_bank.xye')"
   ]
  },
  {
   "cell_type": "markdown",
   "id": "4ec59b39",
   "metadata": {},
   "source": [
    "#### Inspect Measured Data\n",
    "\n",
    "After creating the experiment, we can examine the measured data. The measured\n",
    "data consists of a diffraction pattern comprising time-of-flight (TOF) values\n",
    "and corresponding intensities. The TOF values are given in microseconds (μs),\n",
    "and the intensities are in arbitrary units.\n",
    "\n",
    "The data is stored in XYE format, a simple text format containing three\n",
    "columns: TOF, intensity, and intensity error (if available).\n",
    "\n",
    "The `plot_meas` method of the project enables us to visualize the measured\n",
    "diffraction pattern.\n",
    "\n",
    "Before plotting, we set the plotting engine to 'plotly', which provides\n",
    "interactive visualizations."
   ]
  },
  {
   "cell_type": "code",
   "execution_count": null,
   "id": "1e993a5e",
   "metadata": {},
   "outputs": [],
   "source": [
    "project_1.plotter.engine = 'plotly'"
   ]
  },
  {
   "cell_type": "code",
   "execution_count": null,
   "id": "c6452757",
   "metadata": {},
   "outputs": [],
   "source": [
    "project_1.plot_meas(expt_name='sim_si')"
   ]
  },
  {
   "cell_type": "markdown",
   "id": "0362eb2a",
   "metadata": {},
   "source": [
    "If you zoom in on the highest TOF peak (around 120,000 μs), you will notice\n",
    "that it has a broad and unusual shape. This is a result of the simplified\n",
    "data reduction process. Obtaining a more accurate diffraction pattern would\n",
    "require a more advanced data reduction, which is beyond the scope of this\n",
    "tutorial. Therefore, we will simply exclude the high TOF region from the analysis by\n",
    "adding an excluded region to the experiment."
   ]
  },
  {
   "cell_type": "code",
   "execution_count": null,
   "id": "13b0c182",
   "metadata": {},
   "outputs": [],
   "source": [
    "project_1.experiments['sim_si'].excluded_regions.add(minimum=108000, maximum=200000)"
   ]
  },
  {
   "cell_type": "markdown",
   "id": "b6434dd6",
   "metadata": {},
   "source": [
    "To visualize the effect of excluding the high TOF region, we can plot\n",
    "the measured data again. The excluded region will be omitted from the plot\n",
    "and is not used in the fitting process."
   ]
  },
  {
   "cell_type": "code",
   "execution_count": null,
   "id": "0c06624e",
   "metadata": {},
   "outputs": [],
   "source": [
    "project_1.plot_meas(expt_name='sim_si')"
   ]
  },
  {
   "cell_type": "markdown",
   "id": "49c00bd2",
   "metadata": {},
   "source": [
    "#### Set Instrument Parameters\n",
    "\n",
    "After experiment is created and measured data are loaded, we would need\n",
    "to set the instrument parameters.\n",
    "\n",
    "In this type of experiment, the instrument parameters define how the\n",
    "measured data is converted between d-spacing and time-of-flight (TOF)\n",
    "during the data reduction process as well as the angular position of the\n",
    "detector. So, we put values based on those from the reduction."
   ]
  },
  {
   "cell_type": "code",
   "execution_count": null,
   "id": "e3da278e",
   "metadata": {},
   "outputs": [],
   "source": [
    "project_1.experiments['sim_si'].instrument.setup_twotheta_bank = 101.46\n",
    "#project_1.experiments['sim_si'].instrument.calib_d_to_tof_offset = 0.0\n",
    "project_1.experiments['sim_si'].instrument.calib_d_to_tof_linear = 61710.64\n",
    "project_1.experiments['sim_si'].instrument.calib_d_to_tof_quad = -0.00001"
   ]
  },
  {
   "cell_type": "markdown",
   "id": "d866b023",
   "metadata": {},
   "source": [
    "#### Set Peak Profile Parameters\n",
    "\n",
    "The next set of parameters is needed to define the peak profile used in the\n",
    "fitting process. The peak profile describes shape of the diffraction peaks.\n",
    "They include parameters for the broadening and asymmetry of the peaks. Here,\n",
    "we use a pseudo-Voigt peak profile function with Ikeda-Carpenter asymmetry, which is a common\n",
    "choice for neutron powder diffraction data. The values are typically determined\n",
    "experimentally on the same instrument and under the same configuration as the\n",
    "data being analyzed based on measurements of a standard\n",
    "sample. In some cases, these parameters are refined during the fitting\n",
    "process to improve the fit between the measured and calculated diffraction, but\n",
    "in this case, we will use the values from another simulation."
   ]
  },
  {
   "cell_type": "code",
   "execution_count": null,
   "id": "3c9e509a",
   "metadata": {},
   "outputs": [],
   "source": [
    "project_1.experiments['sim_si'].peak_profile_type = 'pseudo-voigt * ikeda-carpenter'\n",
    "project_1.experiments['sim_si'].peak.broad_gauss_sigma_0 = 45137\n",
    "project_1.experiments['sim_si'].peak.broad_gauss_sigma_1 = -52394\n",
    "project_1.experiments['sim_si'].peak.broad_gauss_sigma_2 = 22998\n",
    "project_1.experiments['sim_si'].peak.broad_mix_beta_0 = 0.0055\n",
    "project_1.experiments['sim_si'].peak.broad_mix_beta_1 = 0.0041\n",
    "project_1.experiments['sim_si'].peak.asym_alpha_0 = 0\n",
    "project_1.experiments['sim_si'].peak.asym_alpha_1 = 0.0097"
   ]
  },
  {
   "cell_type": "markdown",
   "id": "4b960a31",
   "metadata": {},
   "source": [
    "#### Set Background\n",
    "\n",
    "The background of the diffraction pattern represents the portion of the pattern that\n",
    "is not related to the crystal structure of the sample, but rather to\n",
    "incoherent scattering from the sample itself, the sample holder, the sample\n",
    "environment, and the instrument. The background can be modeled in various\n",
    "ways. In this case, we will use a simple line segment background, which is a\n",
    "common approach for powder diffraction data. The background intensity at any\n",
    "point is defined by linear interpolation between neighboring points.\n",
    "The background points are selected\n",
    "to span the range of the diffraction pattern while avoiding the peaks.\n",
    "\n",
    "In this case, we will add several background points at specific TOF values\n",
    "(in microseconds) and corresponding intensity values. These points are\n",
    "chosen to represent the background level in the diffraction pattern free from\n",
    "any peaks. The background points are added using the `add` method of the\n",
    "`background` attribute of the experiment. The `x` parameter represents the TOF\n",
    "value, and the `y` parameter represents the intensity value at that TOF.\n",
    "\n",
    "Let's set all the background points at a constant value of 0.01, which can be\n",
    "roughly determined by the eye, and we will refine them later during the fitting\n",
    "process."
   ]
  },
  {
   "cell_type": "code",
   "execution_count": null,
   "id": "57d6f06c",
   "metadata": {},
   "outputs": [],
   "source": [
    "project_1.experiments['sim_si'].background_type = 'line-segment'\n",
    "project_1.experiments['sim_si'].background.add(x=50000, y=0.01)\n",
    "project_1.experiments['sim_si'].background.add(x=60000, y=0.01)\n",
    "project_1.experiments['sim_si'].background.add(x=70000, y=0.01)\n",
    "project_1.experiments['sim_si'].background.add(x=80000, y=0.01)\n",
    "project_1.experiments['sim_si'].background.add(x=90000, y=0.01)\n",
    "project_1.experiments['sim_si'].background.add(x=100000, y=0.01)\n",
    "project_1.experiments['sim_si'].background.add(x=110000, y=0.01)"
   ]
  },
  {
   "cell_type": "markdown",
   "id": "fada02dd",
   "metadata": {},
   "source": [
    "### 🧩 Create a Sample Model – Si\n",
    "\n",
    "After setting up the experiment, we need to create a sample model that\n",
    "describes the crystal structure of the sample being analyzed.\n",
    "\n",
    "In this case, we will create a sample model for silicon (Si) with a\n",
    "cubic crystal structure. The sample model contains information about the\n",
    "space group, lattice parameters, atomic positions of the atoms in the\n",
    "unit cell, atom types, occupancies and atomic displacement parameters.\n",
    "The sample model is essential for the fitting process, as it\n",
    "is used to calculate the expected diffraction pattern.\n",
    "\n",
    "EasyDiffraction refines the crystal structure of the sample,\n",
    "but does not solve it. Therefore, we need a good starting point with\n",
    "reasonable structural parameters. Here, we define the Si structure as a\n",
    "cubic structure with the space group F d -3 m. As this is a simple cubic\n",
    "structure, we only need to define the single lattice parameter, which\n",
    "is the length of the unit cell edge. The Si crystal structure has a\n",
    "single atom in the unit cell, which is located at the origin (0, 0, 0) of\n",
    "the unit cell. The symmetry of this site is defined by the Wyckoff letter 'a'.\n",
    "The atomic displacement parameter defines the thermal vibrations of the\n",
    "atoms in the unit cell and is presented as an isotropic parameter (B_iso).\n",
    "\n",
    "Sometimes, the initial crystal structure parameters can be obtained\n",
    "from one of the crystallographic databases, like for example\n",
    "the Crystallography Open Database (COD). In this case, we use the COD\n",
    "entry for silicon as a reference for the initial crystal structure model:\n",
    "https://www.crystallography.net/cod/4507226.html\n",
    "\n",
    "As with adding the experiment in the\n",
    "previous step, we will create a default sample model\n",
    "and then modify its parameters to match the Si structure.\n",
    "\n",
    "#### Add Sample Model"
   ]
  },
  {
   "cell_type": "code",
   "execution_count": null,
   "id": "2b4026bb",
   "metadata": {},
   "outputs": [],
   "source": [
    "project_1.sample_models.add(name='si')"
   ]
  },
  {
   "cell_type": "markdown",
   "id": "a0c36f1f",
   "metadata": {},
   "source": [
    "#### Set Space Group"
   ]
  },
  {
   "cell_type": "code",
   "execution_count": null,
   "id": "ceac0e8e",
   "metadata": {},
   "outputs": [],
   "source": [
    "project_1.sample_models['si'].space_group.name_h_m = 'F d -3 m'\n",
    "project_1.sample_models['si'].space_group.it_coordinate_system_code = '2'"
   ]
  },
  {
   "cell_type": "markdown",
   "id": "9a0a23cc",
   "metadata": {},
   "source": [
    "#### Set Lattice Parameters"
   ]
  },
  {
   "cell_type": "code",
   "execution_count": null,
   "id": "0f860366",
   "metadata": {},
   "outputs": [],
   "source": [
    "project_1.sample_models['si'].cell.length_a = 5.43"
   ]
  },
  {
   "cell_type": "markdown",
   "id": "9270c42b",
   "metadata": {},
   "source": [
    "#### Set Atom Sites"
   ]
  },
  {
   "cell_type": "code",
   "execution_count": null,
   "id": "759a998c",
   "metadata": {},
   "outputs": [],
   "source": [
    "project_1.sample_models['si'].atom_sites.add(label='Si',\n",
    "                                               type_symbol='Si',\n",
    "                                               fract_x=0,\n",
    "                                               fract_y=0,\n",
    "                                               fract_z=0,\n",
    "                                               wyckoff_letter='a',\n",
    "                                               b_iso=0.95)"
   ]
  },
  {
   "cell_type": "markdown",
   "id": "4be2f331",
   "metadata": {},
   "source": [
    "### 🔗 Assign Sample Model to Experiment\n",
    "\n",
    "Now we need to assign, or link, this sample model to the experiment created above.\n",
    "This linked crystallographic phase will be used to calculate the expected diffraction\n",
    "pattern based on the crystal structure defined in the sample model."
   ]
  },
  {
   "cell_type": "code",
   "execution_count": null,
   "id": "610ef867",
   "metadata": {},
   "outputs": [],
   "source": [
    "project_1.experiments['sim_si'].linked_phases.add(id='si', scale=1.0)"
   ]
  },
  {
   "cell_type": "markdown",
   "id": "7e909775",
   "metadata": {},
   "source": [
    "### 🚀 Analyze and Fit the Data\n",
    "\n",
    "After setting up the experiment and sample model, we can now analyze the\n",
    "measured diffraction pattern and perform the fitting process.\n",
    "\n",
    "The fitting process involves comparing the measured diffraction pattern with\n",
    "the calculated diffraction pattern based on the sample model and instrument\n",
    "parameters. The goal is to adjust the parameters of the sample model and\n",
    "the experiment to minimize the difference between the measured and calculated\n",
    "diffraction patterns. This is done by refining the parameters of the sample\n",
    "model and the instrument settings to achieve a better fit.\n",
    "\n",
    "#### Set Fit Parameters\n",
    "\n",
    "To perform the fit, we need to specify the refinement parameters. These\n",
    "are the parameters that will be adjusted during the fitting process to\n",
    "minimize the difference between the measured and calculated diffraction\n",
    "patterns. In this case, we will refine only the scale factor of the Si phase\n",
    "in the experiment, as well as the intensities of the background points.\n",
    "This is done by setting\n",
    "the `free` attribute of the corresponding parameters to `True`."
   ]
  },
  {
   "cell_type": "code",
   "execution_count": null,
   "id": "7cd309e4",
   "metadata": {},
   "outputs": [],
   "source": [
    "project_1.experiments['sim_si'].linked_phases['si'].scale.free = True\n",
    "for line_segment in project_1.experiments['sim_si'].background:\n",
    "    line_segment.y.free = True"
   ]
  },
  {
   "cell_type": "markdown",
   "id": "2bacde08",
   "metadata": {},
   "source": [
    "#### Show Free Parameters\n",
    "\n",
    "We can check which parameters are free to be refined by calling the\n",
    "`show_free_params` method of the `analysis` object of the project."
   ]
  },
  {
   "cell_type": "code",
   "execution_count": null,
   "id": "edb510ad",
   "metadata": {},
   "outputs": [],
   "source": [
    "project_1.analysis.show_free_params()"
   ]
  },
  {
   "cell_type": "markdown",
   "id": "ec5b380e",
   "metadata": {},
   "source": [
    "#### Visualize Diffraction Patterns\n",
    "\n",
    "Before performing the fit, we can visually compare the measured\n",
    "diffraction pattern with the calculated diffraction pattern based on the\n",
    "initial parameters of the sample model and the instrument settings.\n",
    "This provides an indication of how well the initial parameters\n",
    "match the measured data. The `plot_meas_vs_calc` method of the project\n",
    "allows this comparison."
   ]
  },
  {
   "cell_type": "code",
   "execution_count": null,
   "id": "de73d893",
   "metadata": {},
   "outputs": [],
   "source": [
    "project_1.plot_meas_vs_calc(expt_name='sim_si')"
   ]
  },
  {
   "cell_type": "markdown",
   "id": "1a0b603c",
   "metadata": {},
   "source": [
    "#### Run Fitting\n",
    "\n",
    "We can now perform the fit using the `fit` method of the `analysis`\n",
    "object of the project."
   ]
  },
  {
   "cell_type": "code",
   "execution_count": null,
   "id": "b55a8a1f",
   "metadata": {},
   "outputs": [],
   "source": [
    "project_1.analysis.fit()"
   ]
  },
  {
   "cell_type": "markdown",
   "id": "d4353cd6",
   "metadata": {},
   "source": [
    "#### Check Fit Results\n",
    "You will\n",
    "see that the fit is now much improved and that the intensities of the\n",
    "calculated peaks align much better with the measured peaks. To check the\n",
    "quality of the fit numerically, we can look at the goodness-of-fit\n",
    "chi-squared value and the R-factors. The chi-squared value is a measure of how well\n",
    "the calculated diffraction pattern matches the measured pattern, and it is\n",
    "calculated as the sum of the squared differences between the measured and\n",
    "calculated intensities, divided by the number of data points. Ideally, the\n",
    "chi-squared value should be close to 1, indicating a good fit."
   ]
  },
  {
   "cell_type": "markdown",
   "id": "7fbe3845",
   "metadata": {},
   "source": [
    "#### Visualize Fit Results\n",
    "\n",
    "After the fit is completed, we can plot the comparison between the\n",
    "measured and calculated diffraction patterns again to see how well the fit\n",
    "improved the agreement between the two. The calculated diffraction pattern\n",
    "is now based on the refined parameters."
   ]
  },
  {
   "cell_type": "code",
   "execution_count": null,
   "id": "1d1c1cd1",
   "metadata": {},
   "outputs": [],
   "source": [
    "project_1.plot_meas_vs_calc(expt_name='sim_si')"
   ]
  },
  {
   "cell_type": "markdown",
   "id": "830290d5",
   "metadata": {},
   "source": [
    "#### TOF vs d-spacing\n",
    "\n",
    "The diffraction pattern is typically analyzed and plotted in the\n",
    "time-of-flight (TOF) axis, which represents the time it takes for neutrons\n",
    "to travel from the sample to the detector. However, it is sometimes more\n",
    "convenient to visualize the diffraction pattern in the d-spacing axis,\n",
    "which represents the distance between planes in the crystal lattice. The\n",
    "d-spacing can be calculated from the TOF values using the instrument\n",
    "parameters. The `plot_meas_vs_calc` method of the project allows us to\n",
    "plot the measured and calculated diffraction patterns in the d-spacing axis\n",
    "by setting the `d_spacing` parameter to `True`."
   ]
  },
  {
   "cell_type": "code",
   "execution_count": null,
   "id": "a1ce9090",
   "metadata": {},
   "outputs": [],
   "source": [
    "project_1.plot_meas_vs_calc(expt_name='sim_si', d_spacing=True)"
   ]
  },
  {
   "cell_type": "markdown",
   "id": "d152e9eb",
   "metadata": {},
   "source": [
    "As you can see, the calculated diffraction pattern now matches the measured\n",
    "pattern much more closely. Typically, additional parameters are included in the\n",
    "refinement process to further improve the fit. However, we will stop here,\n",
    "as the goal of this part of the tutorial is to demonstrate that the data reduction\n",
    "and fitting process function correctly. The fit is not perfect, but it is\n",
    "sufficient to show that the fitting process works and that the parameters\n",
    "are being adjusted appropriately. The next part of the tutorial will be more advanced\n",
    "and will involve fitting a more complex crystal structure: La₀.₅Ba₀.₅CoO₃ (LBCO).\n",
    "\n",
    "## 💪 Exercise: Complex Fit – LBCO\n",
    "\n",
    "Now that you have a basic understanding of the fitting process, we will\n",
    "undertake a more complex fit of the La₀.₅Ba₀.₅CoO₃ (LBCO) crystal structure\n",
    "using simulated powder diffraction data from the [previous tutorial](#).\n",
    "\n",
    "You can use the same approach as in the previous part of the tutorial, but\n",
    "this time we will refine a more complex crystal structure LBCO with multiple atoms\n",
    "in the unit cell.\n",
    "\n",
    "### 📦 Exercise 1: Create a Project – 'main'\n",
    "\n",
    "Create a new project for the LBCO fit.\n",
    "\n",
    "**Hint:** You can use the same approach as in the previous part of the\n",
    "tutorial, but this time we will create a new project for the LBCO fit.\n",
    "\n",
    "**Solution:**"
   ]
  },
  {
   "cell_type": "code",
   "execution_count": null,
   "id": "c2171418",
   "metadata": {},
   "outputs": [],
   "source": [
    "project_2 = ed.Project(name='main')\n",
    "project_2.info.title = 'La0.5Ba0.5CoO3 Fit'\n",
    "project_2.info.description = 'Fitting simulated powder diffraction pattern of La0.5Ba0.5CoO3.'"
   ]
  },
  {
   "cell_type": "markdown",
   "id": "55e10c61",
   "metadata": {},
   "source": [
    "### 🔬 Exercise 2: Define an Experiment – LBCO\n",
    "\n",
    "#### Exercise 2.1: Create an Experiment\n",
    "\n",
    "Create an experiment within the new project and load the reduced diffraction\n",
    "pattern for LBCO.\n",
    "\n",
    "**Hint:** You can use the same approach as in the previous part of the\n",
    "tutorial, but this time you need to use the data file for LBCO.\n",
    "\n",
    "**Solution:**"
   ]
  },
  {
   "cell_type": "code",
   "execution_count": null,
   "id": "94da590f",
   "metadata": {},
   "outputs": [],
   "source": [
    "# TODO: Remove this cell in the final version of the tutorial.\n",
    "# Google Colab does not have the data files needed for this tutorial.\n",
    "ed.download_from_repository('powder_reduced_lbco_0_05si_2large_bank.xye',\n",
    "                            branch='d-spacing',\n",
    "                            destination='data')"
   ]
  },
  {
   "cell_type": "code",
   "execution_count": null,
   "id": "eb5ba926",
   "metadata": {},
   "outputs": [],
   "source": [
    "project_2.experiments.add(name='sim_lbco',\n",
    "                             sample_form='powder',\n",
    "                             beam_mode='time-of-flight',\n",
    "                             radiation_probe='neutron',\n",
    "                             data_path='data/powder_reduced_lbco_0_05si_2large_bank.xye')"
   ]
  },
  {
   "cell_type": "markdown",
   "id": "491a17da",
   "metadata": {},
   "source": [
    "#### Exercise 2.1: Inspect Measured Data\n",
    "\n",
    "Check the measured data of the LBCO experiment. Are there any\n",
    "peaks with the shape similar to the Si peaks? If so, exclude them from the\n",
    "analysis.\n",
    "\n",
    "**Hint:** You can use the `plot_meas` method of the project to visualize the\n",
    "measured diffraction pattern. You can also use the `excluded_regions` attribute\n",
    "of the experiment to exclude specific regions from the analysis.\n",
    "\n",
    "**Solution:**"
   ]
  },
  {
   "cell_type": "code",
   "execution_count": null,
   "id": "f4ee035f",
   "metadata": {},
   "outputs": [],
   "source": [
    "project_2.plotter.engine = 'plotly'\n",
    "project_2.plot_meas(expt_name='sim_lbco')"
   ]
  },
  {
   "cell_type": "code",
   "execution_count": null,
   "id": "d8cb981a",
   "metadata": {},
   "outputs": [],
   "source": [
    "project_2.experiments['sim_lbco'].excluded_regions.add(minimum=108000, maximum=200000)"
   ]
  },
  {
   "cell_type": "code",
   "execution_count": null,
   "id": "2660e4cc",
   "metadata": {},
   "outputs": [],
   "source": [
    "project_2.plot_meas(expt_name='sim_lbco')"
   ]
  },
  {
   "cell_type": "markdown",
   "id": "47fa6a1a",
   "metadata": {},
   "source": [
    "#### Exercise 2.2: Set Instrument Parameters\n",
    "\n",
    "Set the instrument parameters for the LBCO experiment.\n",
    "\n",
    "**Hint:** Use the values from the data reduction process for the LBCO and\n",
    "follow the same approach as in the previous part of the tutorial.\n",
    "\n",
    "**Solution:**"
   ]
  },
  {
   "cell_type": "code",
   "execution_count": null,
   "id": "55faca39",
   "metadata": {},
   "outputs": [],
   "source": [
    "project_2.experiments['sim_lbco'].instrument.setup_twotheta_bank = 94.90931761529106\n",
    "project_2.experiments['sim_lbco'].instrument.calib_d_to_tof_offset = 0.0\n",
    "project_2.experiments['sim_lbco'].instrument.calib_d_to_tof_linear = 58752.5575 #58724.76869981215\n",
    "project_2.experiments['sim_lbco'].instrument.calib_d_to_tof_quad = -0.00001"
   ]
  },
  {
   "cell_type": "markdown",
   "id": "7bac55a8",
   "metadata": {},
   "source": [
    "#### Exercise 2.3: Set Peak Profile Parameters\n",
    "\n",
    "Set the peak profile parameters for the LBCO experiment.\n",
    "\n",
    "**Hint:** Use the values from the previous part of the tutorial.\n",
    "\n",
    "**Solution:**"
   ]
  },
  {
   "cell_type": "code",
   "execution_count": null,
   "id": "8e8f46e7",
   "metadata": {},
   "outputs": [],
   "source": [
    "project_2.peak_profile_type = 'pseudo-voigt * ikeda-carpenter'\n",
    "project_2.experiments['sim_lbco'].peak.broad_gauss_sigma_0 = 47347.4233 #45211\n",
    "project_2.experiments['sim_lbco'].peak.broad_gauss_sigma_1 = -55360.0162 #-52477\n",
    "project_2.experiments['sim_lbco'].peak.broad_gauss_sigma_2 = 23882.4236 #23014\n",
    "project_2.experiments['sim_lbco'].peak.broad_mix_beta_0 = 0.0055\n",
    "project_2.experiments['sim_lbco'].peak.broad_mix_beta_1 = 0.0041\n",
    "project_2.experiments['sim_lbco'].peak.asym_alpha_0 = 0\n",
    "project_2.experiments['sim_lbco'].peak.asym_alpha_1 = 0.0096 #0.0097"
   ]
  },
  {
   "cell_type": "markdown",
   "id": "6030ce74",
   "metadata": {},
   "source": [
    "#### Exercise 2.4: Set Background\n",
    "\n",
    "Set the background points for the LBCO experiment. What would you suggest as\n",
    "the initial intensity value for the background points?\n",
    "\n",
    "**Hint:** Use the same approach as in the previous part of the tutorial, but\n",
    "this time you need to set the background points for the LBCO experiment. You can\n",
    "zoom in on the measured diffraction pattern to determine the approximate\n",
    "background level.\n",
    "\n",
    "**Solution:**"
   ]
  },
  {
   "cell_type": "code",
   "execution_count": null,
   "id": "40abaa16",
   "metadata": {},
   "outputs": [],
   "source": [
    "project_2.experiments['sim_lbco'].background_type = 'line-segment'\n",
    "project_2.experiments['sim_lbco'].background.add(x=50000, y=0.2)\n",
    "project_2.experiments['sim_lbco'].background.add(x=60000, y=0.2)\n",
    "project_2.experiments['sim_lbco'].background.add(x=70000, y=0.2)\n",
    "project_2.experiments['sim_lbco'].background.add(x=80000, y=0.2)\n",
    "project_2.experiments['sim_lbco'].background.add(x=90000, y=0.2)\n",
    "project_2.experiments['sim_lbco'].background.add(x=100000, y=0.2)\n",
    "project_2.experiments['sim_lbco'].background.add(x=110000, y=0.2)"
   ]
  },
  {
   "cell_type": "markdown",
   "id": "e766f8bc",
   "metadata": {},
   "source": [
    "### 🧩 Exercise 3: Define a Sample Model – LBCO\n",
    "\n",
    "The LBSO structure is not as simple as the Si model, as it contains multiple\n",
    "atoms in the unit cell. It is not in COD, so we give you the structural\n",
    "parameters in CIF format to create the sample model right here:"
   ]
  },
  {
   "cell_type": "markdown",
   "id": "89eb58d4",
   "metadata": {},
   "source": [
    "```\n",
    "data_lbco\n",
    "\n",
    "_space_group.name_H-M_alt  \"P m -3 m\"\n",
    "_space_group.IT_coordinate_system_code  1\n",
    "\n",
    "_cell.length_a      3.89\n",
    "_cell.length_b      3.89\n",
    "_cell.length_c      3.89\n",
    "_cell.angle_alpha  90.0\n",
    "_cell.angle_beta   90.0\n",
    "_cell.angle_gamma  90.0\n",
    "\n",
    "loop_\n",
    "_atom_site.label\n",
    "_atom_site.type_symbol\n",
    "_atom_site.fract_x\n",
    "_atom_site.fract_y\n",
    "_atom_site.fract_z\n",
    "_atom_site.wyckoff_letter\n",
    "_atom_site.occupancy\n",
    "_atom_site.ADP_type\n",
    "_atom_site.B_iso_or_equiv\n",
    "La La   0.0 0.0 0.0   a   0.5   Biso 0.10\n",
    "Ba Ba   0.0 0.0 0.0   a   0.5   Biso 0.10\n",
    "Co Co   0.5 0.5 0.5   b   1.0   Biso 0.36\n",
    "O  O    0.0 0.5 0.5   c   1.0   Biso 2.14\n",
    "```"
   ]
  },
  {
   "cell_type": "markdown",
   "id": "922b6b26",
   "metadata": {},
   "source": [
    "#### Exercise 3.1: Create Sample Model\n",
    "\n",
    "Create a sample model for LBCO based on the provided CIF data.\n",
    "\n",
    "**Hint:** You can use the same approach as in the previous part of the\n",
    "tutorial, but this time you need to create a sample model for LBCO.\n",
    "\n",
    "**Solution:**"
   ]
  },
  {
   "cell_type": "code",
   "execution_count": null,
   "id": "5cf2ac8d",
   "metadata": {},
   "outputs": [],
   "source": [
    "project_2.sample_models.add(name='lbco')"
   ]
  },
  {
   "cell_type": "markdown",
   "id": "84557c0c",
   "metadata": {},
   "source": [
    "#### Exercise 3.2: Set Space Group\n",
    "\n",
    "Set the space group for the LBCO sample model.\n",
    "\n",
    "**Hint:** Use the space group name and IT coordinate system code from the CIF data.\n",
    "\n",
    "**Solution:**"
   ]
  },
  {
   "cell_type": "code",
   "execution_count": null,
   "id": "613c126c",
   "metadata": {},
   "outputs": [],
   "source": [
    "project_2.sample_models['lbco'].space_group.name_h_m = 'P m -3 m'\n",
    "project_2.sample_models['lbco'].space_group.it_coordinate_system_code = '1'"
   ]
  },
  {
   "cell_type": "markdown",
   "id": "9fd2f8d1",
   "metadata": {},
   "source": [
    "#### Exercise 3.3: Set Lattice Parameters\n",
    "\n",
    "Set the lattice parameters for the LBCO sample model.\n",
    "\n",
    "**Hint:** Use the lattice parameters from the CIF data.\n",
    "\n",
    "**Solution:**"
   ]
  },
  {
   "cell_type": "code",
   "execution_count": null,
   "id": "5cb72236",
   "metadata": {},
   "outputs": [],
   "source": [
    "project_2.sample_models['lbco'].cell.length_a = 3.88"
   ]
  },
  {
   "cell_type": "markdown",
   "id": "1ad253c4",
   "metadata": {},
   "source": [
    "#### Exercise 3.4: Set Atom Sites\n",
    "\n",
    "Set the atom sites for the LBCO sample model.\n",
    "\n",
    "**Hint:** Use the atom sites from the CIF data. You can use the `add` method of\n",
    "the `atom_sites` attribute of the sample model to add the atom sites.\n",
    "Note that the `occupancy` of the La and Ba atoms is 0.5 and those atoms\n",
    "are located in the same position (0, 0, 0) in the unit cell. This means that\n",
    "an extra attribute `occupancy` needs to be set for those atoms."
   ]
  },
  {
   "cell_type": "code",
   "execution_count": null,
   "id": "aa734bbd",
   "metadata": {},
   "outputs": [],
   "source": [
    "project_2.sample_models['lbco'].atom_sites.add(label='La',\n",
    "                                                  type_symbol='La',\n",
    "                                                  fract_x=0,\n",
    "                                                  fract_y=0,\n",
    "                                                  fract_z=0,\n",
    "                                                  wyckoff_letter='a',\n",
    "                                                  b_iso=0.1,\n",
    "                                                  occupancy=0.5)\n",
    "project_2.sample_models['lbco'].atom_sites.add(label='Ba',\n",
    "                                                  type_symbol='Ba',\n",
    "                                                  fract_x=0,\n",
    "                                                  fract_y=0,\n",
    "                                                  fract_z=0,\n",
    "                                                  wyckoff_letter='a',\n",
    "                                                  b_iso=0.1,\n",
    "                                                  occupancy=0.5)\n",
    "project_2.sample_models['lbco'].atom_sites.add(label='Co',\n",
    "                                                  type_symbol='Co',\n",
    "                                                  fract_x=0.5,\n",
    "                                                  fract_y=0.5,\n",
    "                                                  fract_z=0.5,\n",
    "                                                  wyckoff_letter='b',\n",
    "                                                  b_iso=0.36)\n",
    "project_2.sample_models['lbco'].atom_sites.add(label='O',\n",
    "                                                  type_symbol='O',\n",
    "                                                  fract_x=0,\n",
    "                                                  fract_y=0.5,\n",
    "                                                  fract_z=0.5,\n",
    "                                                  wyckoff_letter='c',\n",
    "                                                  b_iso=2.14)"
   ]
  },
  {
   "cell_type": "markdown",
   "id": "e5d5917c",
   "metadata": {},
   "source": [
    "### 🔗 Exercise 4: Assign Sample Model to Experiment\n",
    "\n",
    "Now assign the LBCO sample model to the LBCO experiment created above.\n",
    "\n",
    "**Hint:** Use the `linked_phases` attribute of the experiment to link the sample model.\n",
    "\n",
    "**Solution:**"
   ]
  },
  {
   "cell_type": "code",
   "execution_count": null,
   "id": "a41e1266",
   "metadata": {},
   "outputs": [],
   "source": [
    "project_2.experiments['sim_lbco'].linked_phases.add(id='lbco', scale=1.0)"
   ]
  },
  {
   "cell_type": "markdown",
   "id": "3ab7815e",
   "metadata": {},
   "source": [
    "### 🚀 Exercise 5: Analyze and Fit the Data\n",
    "\n",
    "#### Exercise 5.1: Set Fit Parameters\n",
    "\n",
    "Select the parameters to be refined during the fitting process.\n",
    "\n",
    "**Hint:** You can start with the same parameters as in the Si fit, but\n",
    "this time you will refine the scale factor of the LBCO phase and the\n",
    "background points for the second simulation.\n",
    "\n",
    "**Solution:**"
   ]
  },
  {
   "cell_type": "code",
   "execution_count": null,
   "id": "265283f7",
   "metadata": {},
   "outputs": [],
   "source": [
    "project_2.experiments['sim_lbco'].linked_phases['lbco'].scale.free = True\n",
    "for line_segment in project_2.experiments['sim_lbco'].background:\n",
    "    line_segment.y.free = True"
   ]
  },
  {
   "cell_type": "markdown",
   "id": "92879d1b",
   "metadata": {},
   "source": [
    "#### Exercise 5.2: Run Fitting\n",
    "\n",
    "Visualize the measured and calculated diffraction patterns before fitting and\n",
    "then run the fitting process.\n",
    "\n",
    "**Hint:** Use the `plot_meas_vs_calc` method of the project to visualize the\n",
    "measured and calculated diffraction patterns before fitting. Then, use the\n",
    "`fit` method of the `analysis` object of the project to perform the fitting\n",
    "process.\n",
    "\n",
    "**Solution:**"
   ]
  },
  {
   "cell_type": "code",
   "execution_count": null,
   "id": "5440a819",
   "metadata": {},
   "outputs": [],
   "source": [
    "project_2.plot_meas_vs_calc(expt_name='sim_lbco')"
   ]
  },
  {
   "cell_type": "code",
   "execution_count": null,
   "id": "3fa88267",
   "metadata": {},
   "outputs": [],
   "source": [
    "project_2.analysis.fit()"
   ]
  },
  {
   "cell_type": "markdown",
   "id": "6a0f858f",
   "metadata": {},
   "source": [
    "#### Exercise 6.1: ❓Find the Misfit in the Fit\n",
    "\n",
    "Visualize the measured and calculated diffraction patterns after the fit. As\n",
    "you can see, the fit shows noticeable discrepancies. If you zoom in on different regions of the pattern,\n",
    "you will observe that all the calculated peaks are shifted to the left.\n",
    "\n",
    "**Question**: What could be the reason for the misfit?\n",
    "\n",
    "**Hint**: Consider the following options:\n",
    "- The conversion parameters from TOF to d-spacing are not correct.\n",
    "- The lattice parameters of the LBCO phase are not correct.\n",
    "- The peak profile parameters are not correct.\n",
    "- The background points are not correct.\n",
    "\n",
    "**Solution**:\n",
    "- ❌ The conversion parameters from TOF to d-spacing were set based on the data reduction process and this was verified in\n",
    "the Si fit.\n",
    "- ✅ The lattice parameters of the LBCO phase were set based on the CIF data, which is a good starting point.\n",
    "- ❌ The peak profile parameters do not change the position of the peaks, but rather their shape.\n",
    "- ❌ The background points affect the background level, but not the peak positions."
   ]
  },
  {
   "cell_type": "code",
   "execution_count": null,
   "id": "f7cb1c91",
   "metadata": {},
   "outputs": [],
   "source": [
    "project_2.plot_meas_vs_calc(expt_name='sim_lbco')"
   ]
  },
  {
   "cell_type": "markdown",
   "id": "275b1e32",
   "metadata": {},
   "source": [
    "### 🚀 Exercise 6.2: Refine the LBCO Lattice Parameter\n",
    "\n",
    "To improve the fit, refine the lattice parameter of the LBCO phase.\n",
    "\n",
    "**Hint**: To accomplish this, we will set the `free` attribute of the `length_a` parameter\n",
    "of the LBCO cell to `True`. This will allow the fitting process to adjust\n",
    "the lattice parameter in addition to the scale factor of the LBCO phase\n",
    "and the background points. Then, you can run the fitting process again.\n",
    "\n",
    "**Solution**:"
   ]
  },
  {
   "cell_type": "code",
   "execution_count": null,
   "id": "efedcb50",
   "metadata": {},
   "outputs": [],
   "source": [
    "project_2.sample_models['lbco'].cell.length_a.free = True"
   ]
  },
  {
   "cell_type": "code",
   "execution_count": null,
   "id": "69360600",
   "metadata": {},
   "outputs": [],
   "source": [
    "project_2.analysis.fit()"
   ]
  },
  {
   "cell_type": "code",
   "execution_count": null,
   "id": "8628719e",
   "metadata": {},
   "outputs": [],
   "source": [
    "project_2.plot_meas_vs_calc(expt_name='sim_lbco')"
   ]
  },
  {
   "cell_type": "markdown",
   "id": "5a21ce56",
   "metadata": {},
   "source": [
    "### Exercise 6.3: Visualize the Fit Results in d-spacing\n",
    "\n",
    "Plot measured vs calculated diffraction patterns in d-spacing instead of TOF.\n",
    "\n",
    "**Hint**: Use the `plot_meas_vs_calc` method of the project and set the\n",
    "`d_spacing` parameter to `True`.\n",
    "\n",
    "**Solution**:"
   ]
  },
  {
   "cell_type": "code",
   "execution_count": null,
   "id": "9b352148",
   "metadata": {},
   "outputs": [],
   "source": [
    "project_2.plot_meas_vs_calc(expt_name='sim_lbco', d_spacing=True)"
   ]
  },
  {
   "cell_type": "markdown",
   "id": "c2b286a7",
   "metadata": {},
   "source": [
    "### ❓Exercise 7.1: Find Undefined Features\n",
    "\n",
    "After refining the lattice parameter, the fit is significantly improved, but\n",
    "inspect the diffraction pattern again. Are you noticing anything undefined?\n",
    "\n",
    "**Hint**: While the fit is now significantly better, there are still some unexplained peaks\n",
    "in the diffraction pattern. These peaks are not accounted for by the LBCO phase.\n",
    "For example, if you zoom in on the region around 1.6 Å (or 95,000 μs), you will\n",
    "notice that the rightmost peak is not explained by the LBCO phase at all.\n",
    "\n",
    "Solution:"
   ]
  },
  {
   "cell_type": "code",
   "execution_count": null,
   "id": "d5b77eca",
   "metadata": {},
   "outputs": [],
   "source": [
    "project_2.plot_meas_vs_calc(expt_name='sim_lbco', x_min=1.53, x_max=1.7, d_spacing=True)"
   ]
  },
  {
   "cell_type": "markdown",
   "id": "756c1a61",
   "metadata": {},
   "source": [
    "### Exercise 7.2: Identify the Cause of the Unexplained Peaks\n",
    "\n",
    "**Hint**: Consider the following options:\n",
    "- The LBCO phase is not the only phase present in the sample.\n",
    "- The LBCO phase is not correctly modeled.\n",
    "- The data reduction process introduced artifacts.\n",
    "\n",
    "**Solution**:\n",
    "- ✅ The LBCO phase is not the only phase present in the sample. The unexplained peaks\n",
    "are likely due to the presence of an impurity phase in the sample, which is not\n",
    "included in the current model.\n",
    "- ❌ In principle, this could be the case, but in this case, the LBCO phase is correctly modeled.\n",
    "- ❌ The data reduction process is not likely to introduce such specific peaks, as it is\n",
    "tested and verified in the previous part of the tutorial."
   ]
  },
  {
   "cell_type": "markdown",
   "id": "fe05eadc",
   "metadata": {},
   "source": [
    "### 🧠 Exercise 7.3: Identify the impurity phase\n",
    "\n",
    "Identify the impurity phase.\n",
    "\n",
    "**Hint**: Check the positions of the unexplained peaks in the diffraction pattern.\n",
    "Compare them with the known diffraction patterns in the introduction section of the\n",
    "tutorial.\n",
    "\n",
    "**Solution**:\n",
    "The unexplained peaks are likely due to the presence of silicon (Si) in the sample."
   ]
  },
  {
   "cell_type": "markdown",
   "id": "9b573c56",
   "metadata": {},
   "source": [
    "### 🧠 Exercise 8: Refine with the Impurity Phase\n",
    "\n",
    "#### 🧩 Exercise 8.1: Create a Second Sample Model – Si as Impurity\n",
    "\n",
    "**Solution:**"
   ]
  },
  {
   "cell_type": "markdown",
   "id": "3ca59bdb",
   "metadata": {},
   "source": [
    "**Set Space Group**"
   ]
  },
  {
   "cell_type": "code",
   "execution_count": null,
   "id": "371b565b",
   "metadata": {},
   "outputs": [],
   "source": [
    "project_2.sample_models.add(name='si')"
   ]
  },
  {
   "cell_type": "code",
   "execution_count": null,
   "id": "85e7164c",
   "metadata": {},
   "outputs": [],
   "source": [
    "project_2.sample_models['si'].space_group.name_h_m = 'F d -3 m'\n",
    "project_2.sample_models['si'].space_group.it_coordinate_system_code = '2'"
   ]
  },
  {
   "cell_type": "markdown",
   "id": "f92190d4",
   "metadata": {},
   "source": [
    "**Set Lattice Parameters**"
   ]
  },
  {
   "cell_type": "code",
   "execution_count": null,
   "id": "308b58a6",
   "metadata": {},
   "outputs": [],
   "source": [
    "project_2.sample_models['si'].cell.length_a = 5.43"
   ]
  },
  {
   "cell_type": "markdown",
   "id": "959de1cb",
   "metadata": {},
   "source": [
    "**Set Atom Sites**"
   ]
  },
  {
   "cell_type": "code",
   "execution_count": null,
   "id": "86c9626d",
   "metadata": {},
   "outputs": [],
   "source": [
    "project_2.sample_models['si'].atom_sites.add(label='Si',\n",
    "                                             type_symbol='Si',\n",
    "                                             fract_x=0,\n",
    "                                             fract_y=0,\n",
    "                                             fract_z=0,\n",
    "                                             wyckoff_letter='a',\n",
    "                                             b_iso=0.95)"
   ]
  },
  {
   "cell_type": "markdown",
   "id": "d2d41865",
   "metadata": {},
   "source": [
    "**🔗 Assign Sample Model to Experiment**"
   ]
  },
  {
   "cell_type": "code",
   "execution_count": null,
   "id": "41d7fe1a",
   "metadata": {},
   "outputs": [],
   "source": [
    "project_2.experiments['sim_lbco'].linked_phases.add(id='si', scale=1.0)"
   ]
  },
  {
   "cell_type": "markdown",
   "id": "27cabcc5",
   "metadata": {},
   "source": [
    "#### 🚀 Exercise 8.3: Analyze and Fit the Data: 3rd Fit\n",
    "\n",
    "**Solution:**\n",
    "\n",
    "Before optimizing the parameters, we can visualize the measured\n",
    "diffraction pattern and the calculated diffraction pattern based on the\n",
    "two phases: LBCO and Si.\n",
    "\n",
    "**Visualize Diffraction Patterns**"
   ]
  },
  {
   "cell_type": "code",
   "execution_count": null,
   "id": "243006f7",
   "metadata": {},
   "outputs": [],
   "source": [
    "project_2.plot_meas_vs_calc(expt_name='sim_lbco')"
   ]
  },
  {
   "cell_type": "markdown",
   "id": "d999f364",
   "metadata": {},
   "source": [
    "As you can see, the calculated pattern is now the sum of both phases,\n",
    "and Si peaks are visible in the calculated pattern. However, their intensities\n",
    "are much too high. Therefore, we need to refine the scale factor of the Si phase.\n",
    "\n",
    "**Set Fit Parameters**"
   ]
  },
  {
   "cell_type": "code",
   "execution_count": null,
   "id": "5277cc94",
   "metadata": {},
   "outputs": [],
   "source": [
    "project_2.experiments['sim_lbco'].linked_phases['si'].scale.free = True"
   ]
  },
  {
   "cell_type": "markdown",
   "id": "de18b359",
   "metadata": {},
   "source": [
    "**Run Fitting**\n",
    "\n",
    "Now we can perform the fit with both phases included."
   ]
  },
  {
   "cell_type": "code",
   "execution_count": null,
   "id": "aa150a35",
   "metadata": {},
   "outputs": [],
   "source": [
    "project_2.analysis.fit()"
   ]
  },
  {
   "cell_type": "markdown",
   "id": "1437a346",
   "metadata": {},
   "source": [
    "**Visualize Fit Results**\n",
    "\n",
    "Let's plot the measured diffraction pattern and the calculated diffraction\n",
    "pattern both for the full range and for a zoomed-in region around the previously unexplained\n",
    "peak near 90,000 μs. The calculated pattern will be the sum of the two phases."
   ]
  },
  {
   "cell_type": "code",
   "execution_count": null,
   "id": "a3085273",
   "metadata": {},
   "outputs": [],
   "source": [
    "project_2.plot_meas_vs_calc(expt_name='sim_lbco')"
   ]
  },
  {
   "cell_type": "code",
   "execution_count": null,
   "id": "58400b9a",
   "metadata": {},
   "outputs": [],
   "source": [
    "project_2.plot_meas_vs_calc(expt_name='sim_lbco', x_min=85000, x_max=105000)"
   ]
  },
  {
   "cell_type": "markdown",
   "id": "bf21e5a3",
   "metadata": {},
   "source": [
    "Now there are no unexplained peaks in the pattern, and the fit is improved.\n",
    "Some discrepancies in the peak intensities remain, but\n",
    "further improvements would require more advanced data reduction and analysis,\n",
    "which are beyond the scope of this tutorial."
   ]
  },
  {
   "cell_type": "markdown",
   "id": "e273f6d0",
   "metadata": {},
   "source": [
    "## 📑 Summary\n",
    "\n",
    "In this tutorial, you refined two simulated diffraction patterns:\n",
    "- **Si** as a simple reference system, and\n",
    "- **LBCO** as a more complex, realistic case with an unknown impurity.\n",
    "\n",
    "Along the way, you learned how to:\n",
    "- Define a project, experiment, and sample model in EasyDiffraction\n",
    "- Set up instrument and peak profile parameters\n",
    "- Visualize measured and calculated patterns\n",
    "- Identify and interpret misfits in the diffraction data\n",
    "- Add and refine multiple phases to improve the model\n",
    "\n",
    "Key Takeaways:\n",
    "- A good refinement starts with a reasonable structural model and\n",
    "  well-defined instrument parameters.\n",
    "- Even simulated data may include artifacts or unintended\n",
    "  contributions—mimicking real experimental conditions.\n",
    "- Visual inspection is a critical part of model validation. Residual peaks\n",
    "  often reveal missing physics or contamination."
   ]
  },
  {
   "cell_type": "markdown",
   "id": "ffdb6632",
   "metadata": {},
   "source": [
    "## 🎁 Bonus\n",
    "\n",
    "You've now completed the fitting portion of the Summer School workflow,\n",
    "demonstrating the practical use of EasyDiffraction for refining simulated\n",
    "powder diffraction data.\n",
    "\n",
    "To continue learning and exploring more features of\n",
    "the EasyDiffraction library, you can visit the official tutorial page\n",
    "and select one of the many available tutorials:\n",
    "https://easyscience.github.io/diffraction-lib/tutorials/"
   ]
  }
 ],
 "metadata": {
  "jupytext": {
   "cell_metadata_filter": "-all",
   "main_language": "python",
   "notebook_metadata_filter": "-all"
  }
 },
 "nbformat": 4,
 "nbformat_minor": 5
}
