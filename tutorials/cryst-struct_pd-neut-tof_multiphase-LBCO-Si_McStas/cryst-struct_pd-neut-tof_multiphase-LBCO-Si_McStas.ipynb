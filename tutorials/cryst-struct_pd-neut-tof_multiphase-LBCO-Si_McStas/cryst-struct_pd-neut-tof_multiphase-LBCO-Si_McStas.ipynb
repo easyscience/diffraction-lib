{
 "cells": [
  {
   "cell_type": "code",
   "execution_count": 1,
   "id": "87284ee6",
   "metadata": {
    "execution": {
     "iopub.execute_input": "2025-08-30T21:30:02.036363Z",
     "iopub.status.busy": "2025-08-30T21:30:02.035169Z",
     "iopub.status.idle": "2025-08-30T21:30:02.059944Z",
     "shell.execute_reply": "2025-08-30T21:30:02.059099Z"
    },
    "tags": [
     "hide-in-docs"
    ]
   },
   "outputs": [],
   "source": [
    "# Check if the easydiffraction library is installed.\n",
    "# If not, install it including the 'visualization' extras.\n",
    "# This is needed, e.g., when running this as a notebook via Google Colab or\n",
    "# Jupyter Notebook in an environment where the library is not pre-installed.\n",
    "import builtins\n",
    "import importlib.util\n",
    "\n",
    "if hasattr(builtins, '__IPYTHON__'):\n",
    "    if importlib.util.find_spec('easydiffraction') is None:\n",
    "        !pip install 'easydiffraction[visualization]'\n"
   ]
  },
  {
   "cell_type": "markdown",
   "id": "0",
   "metadata": {},
   "source": [
    "# Structure Refinement: LBCO+Si, McStas\n",
    "\n",
    "This example demonstrates a Rietveld refinement of La0.5Ba0.5CoO3 crystal\n",
    "structure with a small amount of Si phase using time-of-flight neutron powder\n",
    "diffraction data simulated with McStas."
   ]
  },
  {
   "cell_type": "markdown",
   "id": "1",
   "metadata": {},
   "source": [
    "## Import Library"
   ]
  },
  {
   "cell_type": "code",
   "execution_count": 2,
   "id": "2",
   "metadata": {
    "execution": {
     "iopub.execute_input": "2025-08-30T21:30:02.088846Z",
     "iopub.status.busy": "2025-08-30T21:30:02.085537Z",
     "iopub.status.idle": "2025-08-30T21:30:05.268946Z",
     "shell.execute_reply": "2025-08-30T21:30:05.268447Z"
    }
   },
   "outputs": [],
   "source": [
    "from easydiffraction import Experiment\n",
    "from easydiffraction import Project\n",
    "from easydiffraction import SampleModel\n",
    "from easydiffraction import download_from_repository"
   ]
  },
  {
   "cell_type": "markdown",
   "id": "3",
   "metadata": {},
   "source": [
    "## Define Sample Models\n",
    "\n",
    "This section shows how to add sample models and modify their parameters.\n",
    "\n",
    "### Create Sample Model 1: LBCO"
   ]
  },
  {
   "cell_type": "code",
   "execution_count": 3,
   "id": "4",
   "metadata": {
    "execution": {
     "iopub.execute_input": "2025-08-30T21:30:05.271150Z",
     "iopub.status.busy": "2025-08-30T21:30:05.270987Z",
     "iopub.status.idle": "2025-08-30T21:30:05.277352Z",
     "shell.execute_reply": "2025-08-30T21:30:05.276624Z"
    }
   },
   "outputs": [],
   "source": [
    "model_1 = SampleModel('lbco')"
   ]
  },
  {
   "cell_type": "markdown",
   "id": "5",
   "metadata": {},
   "source": [
    "#### Set Space Group"
   ]
  },
  {
   "cell_type": "code",
   "execution_count": 4,
   "id": "6",
   "metadata": {
    "execution": {
     "iopub.execute_input": "2025-08-30T21:30:05.279655Z",
     "iopub.status.busy": "2025-08-30T21:30:05.279552Z",
     "iopub.status.idle": "2025-08-30T21:30:05.285161Z",
     "shell.execute_reply": "2025-08-30T21:30:05.284577Z"
    }
   },
   "outputs": [],
   "source": [
    "model_1.space_group.name_h_m = 'P m -3 m'\n",
    "model_1.space_group.it_coordinate_system_code = '1'"
   ]
  },
  {
   "cell_type": "markdown",
   "id": "7",
   "metadata": {},
   "source": [
    "#### Set Unit Cell"
   ]
  },
  {
   "cell_type": "code",
   "execution_count": 5,
   "id": "8",
   "metadata": {
    "execution": {
     "iopub.execute_input": "2025-08-30T21:30:05.287577Z",
     "iopub.status.busy": "2025-08-30T21:30:05.287387Z",
     "iopub.status.idle": "2025-08-30T21:30:05.289917Z",
     "shell.execute_reply": "2025-08-30T21:30:05.289326Z"
    }
   },
   "outputs": [],
   "source": [
    "model_1.cell.length_a = 3.8909"
   ]
  },
  {
   "cell_type": "markdown",
   "id": "9",
   "metadata": {},
   "source": [
    "#### Set Atom Sites"
   ]
  },
  {
   "cell_type": "code",
   "execution_count": 6,
   "id": "10",
   "metadata": {
    "execution": {
     "iopub.execute_input": "2025-08-30T21:30:05.292101Z",
     "iopub.status.busy": "2025-08-30T21:30:05.291951Z",
     "iopub.status.idle": "2025-08-30T21:30:05.295129Z",
     "shell.execute_reply": "2025-08-30T21:30:05.294602Z"
    }
   },
   "outputs": [],
   "source": [
    "model_1.atom_sites.add(\n",
    "    'La',\n",
    "    'La',\n",
    "    0,\n",
    "    0,\n",
    "    0,\n",
    "    wyckoff_letter='a',\n",
    "    b_iso=0.2,\n",
    "    occupancy=0.5,\n",
    ")\n",
    "model_1.atom_sites.add(\n",
    "    'Ba',\n",
    "    'Ba',\n",
    "    0,\n",
    "    0,\n",
    "    0,\n",
    "    wyckoff_letter='a',\n",
    "    b_iso=0.2,\n",
    "    occupancy=0.5,\n",
    ")\n",
    "model_1.atom_sites.add(\n",
    "    'Co',\n",
    "    'Co',\n",
    "    0.5,\n",
    "    0.5,\n",
    "    0.5,\n",
    "    wyckoff_letter='b',\n",
    "    b_iso=0.2567,\n",
    ")\n",
    "model_1.atom_sites.add(\n",
    "    'O',\n",
    "    'O',\n",
    "    0,\n",
    "    0.5,\n",
    "    0.5,\n",
    "    wyckoff_letter='c',\n",
    "    b_iso=1.4041,\n",
    ")"
   ]
  },
  {
   "cell_type": "markdown",
   "id": "11",
   "metadata": {},
   "source": [
    "### Create Sample Model 2: Si"
   ]
  },
  {
   "cell_type": "code",
   "execution_count": 7,
   "id": "12",
   "metadata": {
    "execution": {
     "iopub.execute_input": "2025-08-30T21:30:05.296638Z",
     "iopub.status.busy": "2025-08-30T21:30:05.296541Z",
     "iopub.status.idle": "2025-08-30T21:30:05.299244Z",
     "shell.execute_reply": "2025-08-30T21:30:05.298902Z"
    }
   },
   "outputs": [],
   "source": [
    "model_2 = SampleModel('si')"
   ]
  },
  {
   "cell_type": "markdown",
   "id": "13",
   "metadata": {},
   "source": [
    "#### Set Space Group"
   ]
  },
  {
   "cell_type": "code",
   "execution_count": 8,
   "id": "14",
   "metadata": {
    "execution": {
     "iopub.execute_input": "2025-08-30T21:30:05.300789Z",
     "iopub.status.busy": "2025-08-30T21:30:05.300695Z",
     "iopub.status.idle": "2025-08-30T21:30:05.305871Z",
     "shell.execute_reply": "2025-08-30T21:30:05.305419Z"
    }
   },
   "outputs": [],
   "source": [
    "model_2.space_group.name_h_m = 'F d -3 m'\n",
    "model_2.space_group.it_coordinate_system_code = '2'"
   ]
  },
  {
   "cell_type": "markdown",
   "id": "15",
   "metadata": {},
   "source": [
    "#### Set Unit Cell"
   ]
  },
  {
   "cell_type": "code",
   "execution_count": 9,
   "id": "16",
   "metadata": {
    "execution": {
     "iopub.execute_input": "2025-08-30T21:30:05.308534Z",
     "iopub.status.busy": "2025-08-30T21:30:05.308376Z",
     "iopub.status.idle": "2025-08-30T21:30:05.314090Z",
     "shell.execute_reply": "2025-08-30T21:30:05.313410Z"
    }
   },
   "outputs": [],
   "source": [
    "model_2.cell.length_a = 5.43146"
   ]
  },
  {
   "cell_type": "markdown",
   "id": "17",
   "metadata": {},
   "source": [
    "#### Set Atom Sites"
   ]
  },
  {
   "cell_type": "code",
   "execution_count": 10,
   "id": "18",
   "metadata": {
    "execution": {
     "iopub.execute_input": "2025-08-30T21:30:05.317116Z",
     "iopub.status.busy": "2025-08-30T21:30:05.316867Z",
     "iopub.status.idle": "2025-08-30T21:30:05.320012Z",
     "shell.execute_reply": "2025-08-30T21:30:05.319188Z"
    }
   },
   "outputs": [],
   "source": [
    "model_2.atom_sites.add(\n",
    "    'Si',\n",
    "    'Si',\n",
    "    0.0,\n",
    "    0.0,\n",
    "    0.0,\n",
    "    wyckoff_letter='a',\n",
    "    b_iso=0.0,\n",
    ")"
   ]
  },
  {
   "cell_type": "markdown",
   "id": "19",
   "metadata": {},
   "source": [
    "## Define Experiment\n",
    "\n",
    "This section shows how to add experiments, configure their parameters, and\n",
    "link the sample models defined in the previous step.\n",
    "\n",
    "#### Download Data"
   ]
  },
  {
   "cell_type": "code",
   "execution_count": 11,
   "id": "20",
   "metadata": {
    "execution": {
     "iopub.execute_input": "2025-08-30T21:30:05.322727Z",
     "iopub.status.busy": "2025-08-30T21:30:05.322520Z",
     "iopub.status.idle": "2025-08-30T21:30:05.329635Z",
     "shell.execute_reply": "2025-08-30T21:30:05.329113Z"
    }
   },
   "outputs": [
    {
     "name": "stdout",
     "output_type": "stream",
     "text": [
      "\n",
      "⚠️ \u001b[93mWarning\u001b[0m\n",
      "File 'data/mcstas_lbco-si.xye' already exists and will not be overwritten.\n"
     ]
    }
   ],
   "source": [
    "download_from_repository('mcstas_lbco-si.xye', destination='data')"
   ]
  },
  {
   "cell_type": "markdown",
   "id": "21",
   "metadata": {},
   "source": [
    "#### Create Experiment"
   ]
  },
  {
   "cell_type": "code",
   "execution_count": 12,
   "id": "22",
   "metadata": {
    "execution": {
     "iopub.execute_input": "2025-08-30T21:30:05.331616Z",
     "iopub.status.busy": "2025-08-30T21:30:05.331484Z",
     "iopub.status.idle": "2025-08-30T21:30:05.337542Z",
     "shell.execute_reply": "2025-08-30T21:30:05.337208Z"
    }
   },
   "outputs": [
    {
     "name": "stdout",
     "output_type": "stream",
     "text": [
      "\n",
      "\u001b[94m\u001b[1mData loaded successfully\u001b[0m\n",
      "Experiment 🔬 'mcstas'. Number of data points: 1000\n"
     ]
    }
   ],
   "source": [
    "experiment = Experiment(\n",
    "    'mcstas',\n",
    "    sample_form='powder',\n",
    "    beam_mode='time-of-flight',\n",
    "    radiation_probe='neutron',\n",
    "    scattering_type='bragg',\n",
    "    data_path='data/mcstas_lbco-si.xye',\n",
    ")"
   ]
  },
  {
   "cell_type": "markdown",
   "id": "23",
   "metadata": {},
   "source": [
    "#### Set Instrument"
   ]
  },
  {
   "cell_type": "code",
   "execution_count": 13,
   "id": "24",
   "metadata": {
    "execution": {
     "iopub.execute_input": "2025-08-30T21:30:05.339806Z",
     "iopub.status.busy": "2025-08-30T21:30:05.339642Z",
     "iopub.status.idle": "2025-08-30T21:30:05.344906Z",
     "shell.execute_reply": "2025-08-30T21:30:05.344380Z"
    }
   },
   "outputs": [],
   "source": [
    "experiment.instrument.setup_twotheta_bank = 94.90931761529106\n",
    "experiment.instrument.calib_d_to_tof_offset = 0.0\n",
    "experiment.instrument.calib_d_to_tof_linear = 58724.76869981215\n",
    "experiment.instrument.calib_d_to_tof_quad = -0.00001"
   ]
  },
  {
   "cell_type": "markdown",
   "id": "25",
   "metadata": {},
   "source": [
    "#### Set Peak Profile"
   ]
  },
  {
   "cell_type": "code",
   "execution_count": 14,
   "id": "26",
   "metadata": {
    "execution": {
     "iopub.execute_input": "2025-08-30T21:30:05.347180Z",
     "iopub.status.busy": "2025-08-30T21:30:05.347007Z",
     "iopub.status.idle": "2025-08-30T21:30:05.350693Z",
     "shell.execute_reply": "2025-08-30T21:30:05.349946Z"
    }
   },
   "outputs": [],
   "source": [
    "# experiment.peak_profile_type = 'pseudo-voigt * ikeda-carpenter'\n",
    "experiment.peak.broad_gauss_sigma_0 = 45137\n",
    "experiment.peak.broad_gauss_sigma_1 = -52394\n",
    "experiment.peak.broad_gauss_sigma_2 = 22998\n",
    "experiment.peak.broad_mix_beta_0 = 0.0055\n",
    "experiment.peak.broad_mix_beta_1 = 0.0041\n",
    "experiment.peak.asym_alpha_0 = 0\n",
    "experiment.peak.asym_alpha_1 = 0.0097"
   ]
  },
  {
   "cell_type": "markdown",
   "id": "27",
   "metadata": {},
   "source": [
    "#### Set Background"
   ]
  },
  {
   "cell_type": "markdown",
   "id": "28",
   "metadata": {},
   "source": [
    "Select the background type."
   ]
  },
  {
   "cell_type": "code",
   "execution_count": 15,
   "id": "29",
   "metadata": {
    "execution": {
     "iopub.execute_input": "2025-08-30T21:30:05.352837Z",
     "iopub.status.busy": "2025-08-30T21:30:05.352661Z",
     "iopub.status.idle": "2025-08-30T21:30:05.355205Z",
     "shell.execute_reply": "2025-08-30T21:30:05.354712Z"
    }
   },
   "outputs": [
    {
     "name": "stdout",
     "output_type": "stream",
     "text": [
      "\n",
      "\u001b[94m\u001b[1mBackground type for experiment \u001b[0m'mcstas'\u001b[94m\u001b[1m changed to\u001b[0m\n",
      "line-segment\n"
     ]
    }
   ],
   "source": [
    "experiment.background_type = 'line-segment'"
   ]
  },
  {
   "cell_type": "markdown",
   "id": "30",
   "metadata": {},
   "source": [
    "Add background points."
   ]
  },
  {
   "cell_type": "code",
   "execution_count": 16,
   "id": "31",
   "metadata": {
    "execution": {
     "iopub.execute_input": "2025-08-30T21:30:05.357268Z",
     "iopub.status.busy": "2025-08-30T21:30:05.357133Z",
     "iopub.status.idle": "2025-08-30T21:30:05.361218Z",
     "shell.execute_reply": "2025-08-30T21:30:05.360700Z"
    }
   },
   "outputs": [],
   "source": [
    "experiment.background.add(x=45000, y=0.2)\n",
    "experiment.background.add(x=50000, y=0.2)\n",
    "experiment.background.add(x=55000, y=0.2)\n",
    "experiment.background.add(x=65000, y=0.2)\n",
    "experiment.background.add(x=70000, y=0.2)\n",
    "experiment.background.add(x=75000, y=0.2)\n",
    "experiment.background.add(x=80000, y=0.2)\n",
    "experiment.background.add(x=85000, y=0.2)\n",
    "experiment.background.add(x=90000, y=0.2)\n",
    "experiment.background.add(x=95000, y=0.2)\n",
    "experiment.background.add(x=100000, y=0.2)\n",
    "experiment.background.add(x=105000, y=0.2)\n",
    "experiment.background.add(x=110000, y=0.2)"
   ]
  },
  {
   "cell_type": "markdown",
   "id": "32",
   "metadata": {},
   "source": [
    "#### Set Linked Phases"
   ]
  },
  {
   "cell_type": "code",
   "execution_count": 17,
   "id": "33",
   "metadata": {
    "execution": {
     "iopub.execute_input": "2025-08-30T21:30:05.363201Z",
     "iopub.status.busy": "2025-08-30T21:30:05.363048Z",
     "iopub.status.idle": "2025-08-30T21:30:05.365947Z",
     "shell.execute_reply": "2025-08-30T21:30:05.365268Z"
    }
   },
   "outputs": [],
   "source": [
    "experiment.linked_phases.add('lbco', scale=4.0)\n",
    "experiment.linked_phases.add('si', scale=0.2)"
   ]
  },
  {
   "cell_type": "markdown",
   "id": "34",
   "metadata": {},
   "source": [
    "## Define Project\n",
    "\n",
    "The project object is used to manage sample models, experiments, and analysis.\n",
    "\n",
    "#### Create Project"
   ]
  },
  {
   "cell_type": "code",
   "execution_count": 18,
   "id": "35",
   "metadata": {
    "execution": {
     "iopub.execute_input": "2025-08-30T21:30:05.367788Z",
     "iopub.status.busy": "2025-08-30T21:30:05.367620Z",
     "iopub.status.idle": "2025-08-30T21:30:05.481311Z",
     "shell.execute_reply": "2025-08-30T21:30:05.479045Z"
    }
   },
   "outputs": [],
   "source": [
    "project = Project()"
   ]
  },
  {
   "cell_type": "markdown",
   "id": "36",
   "metadata": {},
   "source": [
    "#### Set Plotting Engine"
   ]
  },
  {
   "cell_type": "code",
   "execution_count": 19,
   "id": "37",
   "metadata": {
    "execution": {
     "iopub.execute_input": "2025-08-30T21:30:05.485668Z",
     "iopub.status.busy": "2025-08-30T21:30:05.485253Z",
     "iopub.status.idle": "2025-08-30T21:30:05.489310Z",
     "shell.execute_reply": "2025-08-30T21:30:05.487547Z"
    }
   },
   "outputs": [
    {
     "name": "stdout",
     "output_type": "stream",
     "text": [
      "\n",
      "\u001b[94m\u001b[1mCurrent plotter changed to\u001b[0m\n",
      "plotly\n"
     ]
    }
   ],
   "source": [
    "project.plotter.engine = 'plotly'"
   ]
  },
  {
   "cell_type": "markdown",
   "id": "38",
   "metadata": {},
   "source": [
    "#### Add Sample Models"
   ]
  },
  {
   "cell_type": "code",
   "execution_count": 20,
   "id": "39",
   "metadata": {
    "execution": {
     "iopub.execute_input": "2025-08-30T21:30:05.494872Z",
     "iopub.status.busy": "2025-08-30T21:30:05.494302Z",
     "iopub.status.idle": "2025-08-30T21:30:05.502766Z",
     "shell.execute_reply": "2025-08-30T21:30:05.500346Z"
    }
   },
   "outputs": [],
   "source": [
    "project.sample_models.add(model_1)\n",
    "project.sample_models.add(model_2)"
   ]
  },
  {
   "cell_type": "markdown",
   "id": "40",
   "metadata": {},
   "source": [
    "#### Show Sample Models"
   ]
  },
  {
   "cell_type": "code",
   "execution_count": 21,
   "id": "41",
   "metadata": {
    "execution": {
     "iopub.execute_input": "2025-08-30T21:30:05.505369Z",
     "iopub.status.busy": "2025-08-30T21:30:05.504234Z",
     "iopub.status.idle": "2025-08-30T21:30:05.507856Z",
     "shell.execute_reply": "2025-08-30T21:30:05.507090Z"
    }
   },
   "outputs": [
    {
     "name": "stdout",
     "output_type": "stream",
     "text": [
      "\n",
      "\u001b[94m\u001b[1mDefined sample models 🧩\u001b[0m\n",
      "['lbco', 'si']\n"
     ]
    }
   ],
   "source": [
    "project.sample_models.show_names()"
   ]
  },
  {
   "cell_type": "markdown",
   "id": "42",
   "metadata": {},
   "source": [
    "#### Add Experiments"
   ]
  },
  {
   "cell_type": "code",
   "execution_count": 22,
   "id": "43",
   "metadata": {
    "execution": {
     "iopub.execute_input": "2025-08-30T21:30:05.509429Z",
     "iopub.status.busy": "2025-08-30T21:30:05.509337Z",
     "iopub.status.idle": "2025-08-30T21:30:05.511367Z",
     "shell.execute_reply": "2025-08-30T21:30:05.510778Z"
    }
   },
   "outputs": [],
   "source": [
    "project.experiments.add(experiment)"
   ]
  },
  {
   "cell_type": "markdown",
   "id": "44",
   "metadata": {},
   "source": [
    "#### Set Excluded Regions\n",
    "\n",
    "Show measured data as loaded from the file."
   ]
  },
  {
   "cell_type": "code",
   "execution_count": 23,
   "id": "45",
   "metadata": {
    "execution": {
     "iopub.execute_input": "2025-08-30T21:30:05.513316Z",
     "iopub.status.busy": "2025-08-30T21:30:05.513180Z",
     "iopub.status.idle": "2025-08-30T21:30:05.543555Z",
     "shell.execute_reply": "2025-08-30T21:30:05.542322Z"
    }
   },
   "outputs": [
    {
     "data": {
      "text/html": [
       "<div>                        <script type=\"text/javascript\">window.PlotlyConfig = {MathJaxConfig: 'local'};</script>\n",
       "        <script charset=\"utf-8\" src=\"https://cdn.plot.ly/plotly-3.1.0.min.js\" integrity=\"sha256-Ei4740bWZhaUTQuD6q9yQlgVCMPBz6CZWhevDYPv93A=\" crossorigin=\"anonymous\"></script>                <div id=\"42d46784-74e0-40b5-8177-653715eb0813\" class=\"plotly-graph-div\" style=\"height:100%; width:100%;\"></div>            <script type=\"text/javascript\">                window.PLOTLYENV=window.PLOTLYENV || {};                                if (document.getElementById(\"42d46784-74e0-40b5-8177-653715eb0813\")) {                    Plotly.newPlot(                        \"42d46784-74e0-40b5-8177-653715eb0813\",                        [{\"line\":{\"color\":\"rgb(31, 119, 180)\"},\"mode\":\"lines+markers\",\"name\":\"Measured (Imeas)\",\"x\":{\"dtype\":\"f8\",\"bdata\":\"SL99HQQa5EB88rBQOyfkQJhuEoNyNORAy6FFtqlB5ED+1Hjp4E7kQBpR2hsYXORATYQNT09p5ECAt0CChnbkQLPqc7W9g+RAz2bV5\\u002fSQ5EACmggbLJ7kQDbNO05jq+RAUkmdgJq45ECFfNCz0cXkQLivA+cI0+RA1CtlGUDg5EAHX5hMd+3kQDqSy3+u+uRAbcX+suUH5UCJQWDlHBXlQLx0kxhUIuVA8KfGS4sv5UALJCh+wjzlQD9XW7H5SeVAcoqO5DBX5UCOBvAWaGTlQME5I0qfceVA9GxWfdZ+5UAnoImwDYzlQEMc6+JEmeVAdk8eFnym5UCqglFJs7PlQMX+snvqwOVA+THmriHO5UAsZRniWNvlQEjhehSQ6OVAexSuR8f15UCuR+F6\\u002fgLmQOF6FK41EOZA\\u002ffZ14Gwd5kAwKqkTpCrmQGRd3EbbN+ZAf9k9eRJF5kCzDHGsSVLmQOY\\u002fpN+AX+ZAArwFErhs5kA17zhF73nmQGgibHgmh+ZAm1Wfq12U5kC30QDelKHmQOoENBHMruZAHThnRAO85kA5tMh2OsnmQG3n+6lx1uZAoBov3ajj5kC8lpAP4PDmQO\\u002fJw0IX\\u002fuZAIv32dU4L50BVMCqphRjnQHGsi9u8JedApN++DvQy50DXEvJBK0DnQPOOU3RiTedAJ8KGp5la50Ba9bna0GfnQHZxGw0IdedAqaROQD+C50Dc14Fzdo\\u002fnQA8LtaatnOdAK4cW2eSp50BeukkMHLfnQJHtfD9TxOdArWnecYrR50DgnBGlwd7nQBTQRNj46+dAMEymCjD550Bjf9k9ZwboQJayDHGeE+hAyeU\\u002fpNUg6EDlYaHWDC7oQBiV1AlEO+hAS8gHPXtI6EBnRGlvslXoQJp3nKLpYuhAzqrP1SBw6EDpJjEIWH3oQB1aZDuPiuhAUI2XbsaX6ECDwMqh\\u002faToQJ88LNQ0suhA0m9fB2y\\u002f6EAFo5I6o8zoQCEf9Gza2ehAVFInoBHn6ECIhVrTSPToQKMBvAWAAelA1zTvOLcO6UAKaCJs7hvpQD2bVZ8lKelAWRe30Vw26UCMSuoElEPpQL99HTjLUOlA2\\u002fl+agJe6UAOLbKdOWvpQEJg5dBweOlAXdxGA6iF6UCRD3o235LpQMRCrWkWoOlA93XgnE2t6UAT8kHPhLrpQEYldQK8x+lAeVioNfPU6UCV1AloKuLpQMgHPZth7+lA+zpwzpj86UAXt9EA0AnqQEvqBDQHF+pAfh04Zz4k6kCxUGuadTHqQM3MzMysPupAAAAAAORL6kAzMzMzG1nqQE+vlGVSZupAguLHmIlz6kC1FfvLwIDqQNGRXP73jepABcWPMS+b6kA4+MJkZqjqQGsr9pedtepAh6dXytTC6kC62or9C9DqQO0NvjBD3epACYofY3rq6kA8vVKWsffqQG\\u002fwhcnoBOtAi2zn+x8S60C+nxovVx\\u002frQPLSTWKOLOtAJQaBlcU560BBguLH\\u002fEbrQHS1FfszVOtAp+hILmth60DDZKpgom7rQPaX3ZPZe+tAKcsQxxCJ60BFR3L5R5brQHh6pSx\\u002fo+tArK3YX7aw60Df4AuT7b3rQPtcbcUky+tALpCg+FvY60Bhw9Mrk+XrQH0\\u002fNV7K8utAsHJokQEA7EDjpZvEOA3sQP8h\\u002ffZvGuxAMlUwKqcn7EBmiGNd3jTsQJm7lpAVQuxAtTf4wkxP7EDoaiv2g1zsQBueXim7aexANxrAW\\u002fJ27EBqTfOOKYTsQJ2AJsJgkexAufyH9Jee7EDsL7snz6vsQCBj7loGuexAU5Yhjj3G7EBvEoPAdNPsQKJFtvOr4OxA1XjpJuPt7EDx9EpZGvvsQCQofoxRCO1AV1uxv4gV7UBz1xLyvyLtQKYKRiX3L+1A2T15WC497UANcayLZUrtQCntDb6cV+1AXCBB8dNk7UCPU3QkC3LtQKvP1VZCf+1A3gIJinmM7UARNjy9sJntQC2yne\\u002fnpu1AYOXQIh+07UCTGARWVsHtQMdLN4mNzu1A48eYu8Tb7UAW+8vu++jtQEku\\u002fyEz9u1AZapgVGoD7kCY3ZOHoRDuQMsQx7rYHe5A54wo7Q8r7kAawFsgRzjuQE3zjlN+Re5AgSbChrVS7kCcoiO57F\\u002fuQNDVVuwjbe5AAwmKH1t67kAfhetRkofuQFK4HoXJlO5AhetRuACi7kChZ7PqN6\\u002fuQNSa5h1vvO5AB84ZUabJ7kA7AU2E3dbuQFZ9rrYU5O5AirDh6Uvx7kC94xQdg\\u002f7uQNlfdk+6C+9ADJOpgvEY70A\\u002fxty1KCbvQFtCPuhfM+9AjnVxG5dA70DBqKROzk3vQPXb14EFW+9AEFg5tDxo70BEi2znc3XvQHe+nxqrgu9AkzoBTeKP70DGbTSAGZ3vQPmgZ7NQqu9AFR3J5Ye370BIUPwYv8TvQHuDL0z20e9ArrZify3f70DKMsSxZOzvQP5l9+Sb+e9AmEwVjGkD8ECmCkYlBQrwQECk376gEPBA2T15WDwX8EDn+6nx1x3wQIGVQ4tzJPBAGy\\u002fdJA8r8EC0yHa+qjHwQMKGp1dGOPBAXCBB8eE+8ED1udqKfUXwQAN4CyQZTPBAnRGlvbRS8EA2qz5XUFnwQERpb\\u002fDrX\\u002fBA3gIJiodm8EB4nKIjI23wQBE2PL2+c\\u002fBAH\\u002fRsVlp68EC5jQbw9YDwQFInoImRh\\u002fBAYOXQIi2O8ED6fmq8yJTwQJMYBFZkm\\u002fBAodY07\\u002f+h8EA7cM6Im6jwQNUJaCI3r\\u002fBAbqMBvNK18EB8YTJVbrzwQBb7y+4Jw\\u002fBAr5RliKXJ8EC9UpYhQdDwQFfsL7vc1vBA8IXJVHjd8ED+Q\\u002frtE+TwQJjdk4ev6vBAMnctIUvx8EDLEMe65vfwQNnO91OC\\u002fvBAc2iR7R0F8UAMAiuHuQvxQBrAWyBVEvFAtFn1ufAY8UBN845TjB\\u002fxQFuxv+wnJvFA9UpZhsMs8UCP5PIfXzPxQCh+jLn6OfFANjy9UpZA8UDQ1VbsMUfxQGlv8IXNTfFAdy0hH2lU8UARx7q4BFvxQKpgVFKgYfFAuB6F6zto8UBSuB6F127xQOxRuB5zdfFAhetRuA588UCTqYJRqoLxQC1DHOtFifFAxty1hOGP8UDUmuYdfZbxQG40gLcYnfFAB84ZUbSj8UAVjErqT6rxQK8l5IPrsPFASL99HYe38UDiWBe3Ir7xQPAWSFC+xPFAirDh6VnL8UAjSnuD9dHxQDEIrByR2PFAy6FFtizf8UBkO99PyOXxQHL5D+lj7PFADJOpgv\\u002fy8UClLEMcm\\u002fnxQD\\u002fG3LU2APJATYQNT9IG8kDnHafobQ3yQIC3QIIJFPJAjnVxG6Ua8kAoDwu1QCHyQMGopE7cJ\\u002fJAz2bV53cu8kBpAG+BEzXyQAKaCBuvO\\u002fJAnDOitEpC8kCq8dJN5kjyQESLbOeBT\\u002fJA3SQGgR1W8kDr4jYauVzyQIV80LNUY\\u002fJAHhZqTfBp8kAs1Jrmi3DyQMZtNIAnd\\u002fJAXwfOGcN98kD5oGezXoTyQAdfmEz6ivJAofgx5pWR8kA6kst\\u002fMZjyQEhQ\\u002fBjNnvJA4umVsmil8kB7gy9MBKzyQIlBYOWfsvJAI9v5fju58kC8dJMY17\\u002fyQFYOLbJyxvJAZMxdSw7N8kD+ZffkqdPyQJf\\u002fkH5F2vJApb3BF+Hg8kA\\u002fV1uxfOfyQNjw9EoY7vJA5q4l5LP08kCASL99T\\u002fvyQBniWBfrAfNAs3vysIYI80DBOSNKIg\\u002fzQFvTvOO9FfNA9GxWfVkc80ACK4cW9SLzQJzEILCQKfNANV66SSww80BDHOvixzbzQN21hHxjPfNAdk8eFv9D80AQ6bevmkrzQB6n6Eg2UfNAuECC4tFX80BR2ht8bV7zQF+YTBUJZfNA+THmrqRr80CSy39IQHLzQKCJsOHbePNAOiNKe3d\\u002f80DTvOMUE4bzQOF6FK6ujPNAexSuR0qT80AUrkfh5ZnzQK5H4XqBoPNAvAUSFB2n80BWn6utuK3zQO84RUdUtPNA\\u002ffZ14O+680CXkA96i8HzQDAqqRMnyPNAPujZrMLO80DYgXNGXtXzQHEbDeD52\\u002fNAC7WmeZXi80AZc9cSMenzQLMMcazM7\\u002fNATKYKRmj280BaZDvfA\\u002f3zQPT91HifA\\u002fRAjZduEjsK9ECbVZ+r1hD0QDXvOEVyF\\u002fRAzojS3g0e9EBoImx4qST0QHbgnBFFK\\u002fRAEHo2q+Ax9ECpE9BEfDj0QLfRAN4XP\\u002fRAUWuad7NF9EDqBDQRT0z0QPjCZKrqUvRAklz+Q4ZZ9EAr9pfdIWD0QMWPMXe9ZvRA001iEFlt9EBt5\\u002fup9HP0QAaBlUOQevRAFD\\u002fG3CuB9ECu2F92x4f0QEdy+Q9jjvRAVTAqqf6U9EDvycNCmpv0QIhjXdw1ovRAIv32ddGo9EAwuycPba\\u002f0QMpUwagItvRAY+5aQqS89EBxrIvbP8P0QAtGJXXbyfRApN++DnfQ9ECyne+nEtf0QEw3iUGu3fRA5dAi20nk9EB\\u002farx05er0QI0o7Q2B8fRAJ8KGpxz49EDAWyBBuP70QM4ZUdpTBfVAaLPqc+8L9UABTYQNixL1QA8LtaYmGfVAqaROQMIf9UBCPujZXSb1QNzXgXP5LPVA6pWyDJUz9UCDL0ymMDr1QB3J5T\\u002fMQPVAK4cW2WdH9UDFILByA071QF66SQyfVPVAbHh6pTpb9UAGEhQ\\u002f1mH1QJ+rrdhxaPVAOUVHcg1v9UBHA3gLqXX1QOCcEaVEfPVAejarPuCC9UCI9NvXe4n1QCKOdXEXkPVAuycPC7OW9UDJ5T+kTp31QGN\\u002f2T3qo\\u002fVA\\u002fBhz14Wq9UCWsgxxIbH1QKRwPQq9t\\u002fVAPQrXo1i+9UDXo3A99MT1QOVhodaPy\\u002fVAf\\u002fs6cCvS9UAYldQJx9j1QCZTBaNi3\\u002fVAwOyePP7l9UBZhjjWmez1QPMf0m818\\u002fVAAd4CCdH59UCad5yibAD2QDQRNjwIB\\u002fZAQs9m1aMN9kDcaABvPxT2QHUCmgjbGvZAg8DKoXYh9kAdWmQ7Eij2QLbz\\u002fdStLvZAUI2Xbkk19kBeS8gH5Tv2QPfkYaGAQvZAkX77OhxJ9kCfPCzUt0\\u002f2QDnWxW1TVvZA0m9fB+9c9kDgLZCgimP2QHrHKTomavZAE2HD08Fw9kCt+lxtXXf2QLu4jQb5ffZAVFInoJSE9kDu68A5MIv2QPyp8dLLkfZAlkOLbGeY9kAv3SQGA5\\u002f2QD2bVZ+epfZA1zTvODqs9kBwzojS1bL2QApoImxxufZAGCZTBQ3A9kCxv+yeqMb2QEtZhjhEzfZAWRe30d\\u002fT9kDysFBre9r2QIxK6gQX4fZAmggbnrLn9kA0orQ3Tu72QM07TtHp9PZAZ9XnaoX79kB1kxgEIQL3QA4tsp28CPdAqMZLN1gP90C2hHzQ8xX3QE8eFmqPHPdA6bevAysj90D3deCcxin3QJEPejZiMPdAKqkT0P0290DEQq1pmT33QNIA3gI1RPdAa5p3nNBK90AFNBE2bFH3QBPyQc8HWPdArIvbaKNe90BGJXUCP2X3QFTjpZvaa\\u002fdA7nw\\u002fNXZy90CHFtnOEXn3QCGwcmitf\\u002fdAL26jAUmG90DIBz2b5Iz3QGKh1jSAk\\u002fdAcF8Hzhua90AJ+aBnt6D3QKOSOgFTp\\u002fdAsVBrmu6t90BL6gQ0irT3QOSDns0lu\\u002fdAfh04Z8HB90CM22gAXcj3QCV1Apr4zvdAvw6cM5TV90DNzMzML9z3QGZmZmbL4vdAAAAAAGfp90AOvjCZAvD3QKhXyjKe9vdAQfFjzDn990Dbiv1l1QP4QOlILv9wCvhAguLHmAwR+EAcfGEyqBf4QCo6kstDHvhAw9MrZd8k+EBdbcX+eiv4QGsr9pcWMvhABcWPMbI4+ECeXinLTT\\u002f4QDj4wmTpRfhARrbz\\u002fYRM+EDfT42XIFP4QHnpJjG8WfhAh6dXyldg+EAgQfFj82b4QLraiv2ObfhAyJi7lip0+EBhMlUwxnr4QPvL7slhgfhAlWWIY\\u002f2H+ECjI7n8mI74QDy9UpY0lfhA1lbsL9Cb+EDkFB3Ja6L4QH2utmIHqfhAF0hQ\\u002fKKv+EAlBoGVPrb4QL6fGi\\u002favPhAWDm0yHXD+EDy0k1iEcr4QACRfvus0PhAmSoYlUjX+EAzxLEu5N34QEGC4sd\\u002f5PhA2ht8YRvr+EB0tRX7tvH4QIJzRpRS+PhAGw3gLe7++EC1pnnHiQX5QE9AE2ElDPlAXf5D+sAS+UD2l92TXBn5QJAxdy34H\\u002flAnu+nxpMm+UA3iUFgLy35QNEi2\\u002fnKM\\u002flA3+ALk2Y6+UB4eqUsAkH5QBIUP8adR\\u002flArK3YXzlO+UC6awn51FT5QFMFo5JwW\\u002flA7Z48LAxi+UD7XG3Fp2j5QJT2Bl9Db\\u002flALpCg+N51+UA8TtGRenz5QNXnaisWg\\u002flAb4EExbGJ+UAJG55eTZD5QBfZzvfolvlAsHJokYSd+UBKDAIrIKT5QFjKMsS7qvlA8WPMXVex+UCL\\u002fWX38rf5QJm7lpCOvvlAMlUwKirF+UDM7snDxcv5QGaIY11h0vlAdEaU9vzY+UAN4C2QmN\\u002f5QKd5xyk05vlAtTf4ws\\u002fs+UBO0ZFca\\u002fP5QOhqK\\u002fYG+vlA9ihcj6IA+kCPwvUoPgf6QClcj8LZDfpAw\\u002fUoXHUU+kDQs1n1EBv6QGpN846sIfpABOeMKEgo+kASpb3B4y76QKs+V1t\\u002fNfpARdjw9Bo8+kBTliGOtkL6QOwvuydSSfpAhslUwe1P+kAgY+5aiVb6QC0hH\\u002fQkXfpAx7q4jcBj+kBhVFInXGr6QG8Sg8D3cPpACKwcWpN3+kCiRbbzLn76QLAD54zKhPpASZ2AJmaL+kDjNhrAAZL6QH3Qs1mdmPpAio7k8jif+kAkKH6M1KX6QL7BFyZwrPpAzH9Ivwuz+kBlGeJYp7n6QP+ye\\u002fJCwPpADXGsi97G+kCmCkYles36QECk374V1PpA2T15WLHa+kDn+6nxTOH6QIGVQ4vo5\\u002fpAGy\\u002fdJITu+kAp7Q2+H\\u002fX6QMKGp1e7+\\u002fpAXCBB8VYC+0Bq3nGK8gj7QAN4CySOD\\u002ftAnRGlvSkW+0A2qz5XxRz7QERpb\\u002fBgI\\u002ftA3gIJivwp+0B4nKIjmDD7QIZa07wzN\\u002ftAH\\u002fRsVs89+0C5jQbwakT7QMdLN4kGS\\u002ftAYOXQIqJR+0D6fmq8PVj7QJMYBFbZXvtAodY073Rl+0A7cM6IEGz7QNUJaCKscvtA48eYu0d5+0B8YTJV43\\u002f7QBb7y+5+hvtAJLn8hxqN+0C9UpYhtpP7QFfsL7tRmvtA8IXJVO2g+0D+Q\\u002frtiKf7QJjdk4ckrvtAMnctIcC0+0A\\u002fNV66W7v7QNnO91P3wftAc2iR7ZLI+0CBJsKGLs\\u002f7QBrAWyDK1ftAtFn1uWXc+0BN845TAeP7QFuxv+yc6ftA9UpZhjjw+0CP5PIf1Pb7QJyiI7lv\\u002fftANjy9UgsE\\u002fEDQ1Vbspgr8QN6Th4VCEfxAdy0hH94X\\u002fEARx7q4eR78QKpgVFIVJfxAuB6F67Ar\\u002fEBSuB6FTDL8QOxRuB7oOPxA+Q\\u002fpt4M\\u002f\\u002fECTqYJRH0b8QC1DHOu6TPxAOwFNhFZT\\u002fEDUmuYd8ln8QG40gLeNYPxAB84ZUSln\\u002fEAVjErqxG38QK8l5INgdPxASL99Hfx6\\u002fEBWfa62l4H8QPAWSFAziPxAirDh6c6O\\u002fECYbhKDapX8QDEIrBwGnPxAy6FFtqGi\\u002fEBkO99PPan8QHL5D+nYr\\u002fxADJOpgnS2\\u002fEClLEMcEL38QLPqc7Wrw\\u002fxATYQNT0fK\\u002fEDnHafo4tD8QPXb14F+1\\u002fxAjnVxGxre\\u002fEAoDwu1teT8QMGopE5R6\\u002fxAz2bV5+zx\\u002fEBpAG+BiPj8QAKaCBsk\\u002f\\u002fxAEFg5tL8F\\u002fUCq8dJNWwz9QESLbOf2Ev1AUkmdgJIZ\\u002fUDr4jYaLiD9QIV80LPJJv1AHhZqTWUt\\u002fUAs1JrmADT9QMZtNICcOv1AXwfOGThB\\u002fUBtxf6y00f9QAdfmExvTv1Aofgx5gpV\\u002fUCutmJ\\u002fplv9QEhQ\\u002fBhCYv1A4umVst1o\\u002fUB7gy9MeW\\u002f9QIlBYOUUdv1AI9v5frB8\\u002fUC8dJMYTIP9QMoyxLHnif1AZMxdS4OQ\\u002fUD+ZffkHpf9QAskKH66nf1Apb3BF1ak\\u002fUA\\u002fV1ux8ar9QNjw9EqNsf1A5q4l5Ci4\\u002fUCASL99xL79QBniWBdgxf1AJ6CJsPvL\\u002fUDBOSNKl9L9QFvTvOMy2f1AaJHtfM7f\\u002fUACK4cWaub9QJzEILAF7f1ANV66SaHz\\u002fUBDHOviPPr9QN21hHzYAP5Adk8eFnQH\\u002fkCEDU+vDw7+QB6n6EirFP5AuECC4kYb\\u002fkDF\\u002frJ74iH+QF+YTBV+KP5A+THmrhkv\\u002fkCSy39ItTX+QKCJsOFQPP5AOiNKe+xC\\u002fkDTvOMUiEn+QOF6FK4jUP5AexSuR79W\\u002fkAUrkfhWl3+QCJseHr2Y\\u002f5AvAUSFJJq\\u002fkBWn6utLXH+QO84RUfJd\\u002f5A\\u002ffZ14GR+\\u002fkCXkA96AIX+QDAqqROci\\u002f5APujZrDeS\\u002fkDYgXNG05j+QHEbDeBun\\u002f5Af9k9eQqm\\u002fkAZc9cSpqz+QLMMcaxBs\\u002f5ATKYKRt25\\u002fkBaZDvfeMD+QPT91HgUx\\u002f5AjZduErDN\\u002fkCbVZ+rS9T+QDXvOEXn2v5AzojS3oLh\\u002fkDcRgN4Huj+QHbgnBG67v5AEHo2q1X1\\u002fkCpE9BE8fv+QLfRAN6MAv9AUWuadygJ\\u002f0DqBDQRxA\\u002f\\u002fQPjCZKpfFv9Aklz+Q\\u002fsc\\u002f0Ar9pfdliP\\u002fQDm0yHYyKv9A001iEM4w\\u002f0Bt5\\u002fupaTf\\u002fQAaBlUMFPv9AFD\\u002fG3KBE\\u002f0Cu2F92PEv\\u002fQEdy+Q\\u002fYUf9AVTAqqXNY\\u002f0DvycNCD1\\u002f\\u002fQIhjXdyqZf9AliGOdUZs\\u002f0AwuycP4nL\\u002fQMpUwah9ef9AY+5aQhmA\\u002f0BxrIvbtIb\\u002fQAtGJXVQjf9ApN++DuyT\\u002f0Cyne+nh5r\\u002fQEw3iUEjof9A5dAi276n\\u002f0DzjlN0Wq7\\u002fQI0o7Q32tP9AJ8KGp5G7\\u002f0DAWyBBLcL\\u002fQM4ZUdrIyP9AaLPqc2TP\\u002f0ABTYQNANb\\u002fQA8Ltaab3P9AqaROQDfj\\u002f0BCPujZ0un\\u002fQFD8GHNu8P9A6pWyDAr3\\u002f0CDL0ympf3\\u002fQI\\u002fk8p8gAgBBlkOLbG4FAEFiEFg5vAgAQS\\u002fdJAYKDABBNjy90lcPAEEDCYqfpRIAQdDVVmzzFQBB1zTvOEEZAEGjAbwFjxwAQXDOiNLcHwBBPZtVnyojAEFE+u1reCYAQRHHujjGKQBB3pOHBRQtAEHl8h\\u002fSYTAAQbG\\u002f7J6vMwBBfoy5a\\u002f02AEGF61E4SzoAQVK4HgWZPQBBH4Xr0eZAAEHsUbieNEQAQfKwUGuCRwBBv30dONBKAEGMSuoEHk4AQZOpgtFrUQBBYHZPnrlUAEEtQxxrB1gAQTSitDdVWwBBAG+BBKNeAEHNO07R8GEAQZoIG54+ZQBBoWezaoxoAEFuNIA32msAQTsBTQQobwBBQmDl0HVyAEEOLbKdw3UAQdv5fmoReQBB4lgXN198AEGvJeQDrX8AQXzysND6ggBBSL99nUiGAEFPHhZqlokAQRzr4jbkjABB6bevAzKQAEHwFkjQf5MAQb3jFJ3NlgBBirDhaRuaAEGRD3o2aZ0AQV3cRgO3oABBKqkT0ASkAEH3deCcUqcAQf7UeGmgqgBBy6FFNu6tAEGYbhIDPLEAQZ\\u002fNqs+JtABBa5p3nNe3AEE4Z0RpJbsAQT\\u002fG3DVzvgBBDJOpAsHBAEHZX3bPDsUAQaUsQ5xcyABBrIvbaKrLAEF5WKg1+M4AQUYldQJG0gBBTYQNz5PVAEEaUdqb4dgAQecdp2gv3ABB7nw\\u002fNX3fAEG6SQwCy+IAQYcW2c4Y5gBBVOOlm2bpAEFbQj5otOwAQSgPCzUC8ABB9dvXAVDzAEH7OnDOnfYAQcgHPZvr+QBBldQJaDn9AEGcM6I0hwABQWkAbwHVAwFBNs07ziIHAUECmgibcAoBQQn5oGe+DQFB1sVtNAwRAUGjkjoBWhQBQarx0s2nFwFBd76fmvUaAUFEi2xnQx4BQUvqBDSRIQFBF7fRAN8kAUHkg57NLCgBQbFQa5p6KwFBuK8DZ8guAUGFfNAzFjIBQVJJnQBkNQFBWKg1zbE4AUEldQKa\\u002fzsBQfJBz2ZNPwFB+aBnM5tCAUHGbTQA6UUBQZM6Ac02SQFBXwfOmYRMAUFmZmZm0k8BQTMzMzMgUwFBAAAAAG5WAUEHX5jMu1kBQdQrZZkJXQFBofgxZldgAUGoV8oypWMBQXQkl\\u002f\\u002fyZgFBQfFjzEBqAUEOvjCZjm0BQRUdyWXccAFB4umVMip0AUGutmL\\u002fd3cBQbUV+8vFegFBguLHmBN+AUFPr5RlYYEBQVYOLTKvhAFBI9v5\\u002fvyHAUHwp8bLSosBQbx0k5iYjgFBw9MrZeaRAUGQoPgxNJUBQV1txf6BmAFBZMxdy8+bAUExmSqYHZ8BQf5l92RrogFBBcWPMbmlAUHRkVz+BqkBQZ5eKctUrAFBayv2l6KvAUFyio5k8LIBQT9XWzE+tgFBCyQo\\u002fou5AUESg8DK2bwBQd9PjZcnwAFBrBxaZHXDAUGze\\u002fIww8YBQYBIv\\u002f0QygFBTRWMyl7NAUEZ4liXrNABQSBB8WP60wFB7Q2+MEjXAUG62or9ldoBQcE5I8rj3QFBjgbwljHhAUFb07xjf+QBQWEyVTDN5wFBLv8h\\u002fRrrAUE=\"},\"y\":{\"dtype\":\"f8\",\"bdata\":\"ttYnhUeRyz+lz3MxJbLQP4Hk31BBetM\\u002f3ev2uo9Q3j8hJ6RcXzXjP7ko92B+QeM\\u002fouwpD7AJ4D8B08KSIyHYP3j57WIJn9E\\u002fRULrurXB0D+gNYdbYb3SP62OK+Bt5tY\\u002fG9t4qGwf2D80iJL7G53aP33Au5jUMNg\\u002f5MxUOBF51D9LKyoFFQTRP1ga\\u002f0Dkd9A\\u002fcQi6\\u002fhR\\u002f0D+W1wRL9zDPP\\u002fu0c8GgV80\\u002fG15WTewP0D8m4jKHCSHQP5F3dj\\u002f0+9I\\u002fhnrIk+7v4j\\u002fJ+GAJYQ7yP5VS4OWiJ\\u002fI\\u002fQXZHG+0W7D\\u002fqxyzHJB3iP0O\\u002fbE3kdtk\\u002fYsDNloq10T+0p3BERdjXP5pH6fNK\\u002fOE\\u002fYYtLXBIk7D\\u002fr802JtcvwPxLwgnKYz+k\\u002ff4zgINiu4j\\u002fxGsvVGgjYP18tpOKJodQ\\u002fWHZ9dyeN0D9FD7q2OfzQP2xcod+CgdQ\\u002fx7yixCfj0j8eEh3XWuTTP1\\u002fjnyvnjdA\\u002f2jE0zdfm0j9CTEoU6V3TP6vPHsve+9g\\u002fkbw\\u002f0+Kf1T8qeb2umjXnP6wDA6HxGvc\\u002f8eT4BlFJAUB9EndLdWMAQABr+TyihPQ\\u002fMW5YxG3F4j+fJ3xvyu7XP+9h3d+H+dM\\u002f6JLgAvDV0D9fK\\u002fYxyW3RPyDYWm2i4s4\\u002fG8YAHCcn0D8lm05pPPfLP6wcqOyzZdE\\u002fXbk9ot3S0D+ghPlLTajSPyJZ+pJcMdA\\u002fgo8L2EhmzT8gKxy7sdXQP3g5qabOIdU\\u002fDSK5Zxmn1z8PpBaG3czfP3dX8r38i+E\\u002fFpC+DgkM4T9iU9VnQcbaP42AM9KyENI\\u002fZQewSvBX0j+Q0aABQyTQP1WuLRX82s8\\u002fp9o+Cd1Vzz+9dOY+FqbQP58kQ3p0q9A\\u002f4SktmPvs0z+L7Sqr9hvSPzOhYmr4ktQ\\u002fS+rKSC7+0j+riJ+yXijRPzWEYyoizNI\\u002fpubl23210z9X2rmZHPDVPzOdmFSsKtc\\u002fEm\\u002f4wmL13D\\u002f0CTfUpkjsPwwQ9WU1Mv0\\u002fGybNHuFOB0BGeYAPEyUJQAIAmq3cOQNA2\\u002fKP8j9Y8z8LWJPB9sDiP2P7UvlyJNY\\u002fDDoqHrdo0T+OmIANEVPNP26o1WVdy9I\\u002ffig2\\u002fZb90j+CMZ1DiLbeP3cEdNhPD+o\\u002f8CuyqxyS+D\\u002fqnR8CLKwAQC9VtFIP3P4\\u002f+gLInZtA9j87hhueUYXmP3k1lPSm5Ng\\u002f1xtpCled0z\\u002flSAFnl73MP6mPHb+PFM4\\u002fJfU0XUh90D8A0z8Uj3rPPzXfchxT4NI\\u002flKunXovm1j8vekdROYXgPwi2x8Ydvek\\u002fNuw5mISo7D88b+zLyQ3rPwP7ek9ebuU\\u002fWLy4RE2O2j+NvzsTrU3RP7UbmV87RtE\\u002fCIXFOppB0T\\u002fI9ziry9vNPxnN7ma2JtM\\u002ffu0bgW5J0D+YloYTccfQPzf7qWe\\u002fs9I\\u002fCitkxqdm0j93m8F1\\u002fbfRP8EU9R4DptI\\u002f7iW6L5Bq0z++ffojNKnTP9179XUiG9E\\u002f7eSJE0AY0T+meUwMo6vRP37Esuvrz9A\\u002f1kfftpYKzz\\u002fceq8\\u002fTGfRP7DoEVdExtM\\u002fHeiQfAXz0z9MLnPAUejTPy8X3hc5E9Q\\u002fVACtfese1z9gbTIW6jbiP36n3WGU4Ow\\u002fNQ9NWxX29D9wH31NwjX2PzTe9KiBDPQ\\u002fAFupdydU7D+9JwBgS7PhPw6sT7dj5tY\\u002feI29vqmw0T\\u002fq\\u002fZM7tUrQPxVblY+5xdA\\u002fG8xS+5km0T9ncS4fPdPRP6BdQhOSgtA\\u002fDXATLM+u0D9ZfJPsUnDQP18w1k4FQ88\\u002fSqGBeYQS0D\\u002fx+57D6wbQP6QsYIux4dA\\u002fnsgJhuLs0D+odgo6VVXRP5RDjRlgfdA\\u002fO70lS2kz0D+nHU0TWCnRP\\u002fsz79ViBM8\\u002foPLN30f1zz940upytA3RP0on7aobJdE\\u002fqylDVzY00D+BZvMXw4HQP1NgNQvO5NA\\u002fD5vkiPF00D9jzx0FAV3QP+3CjrYky9I\\u002fORwMN7kC0z\\u002fbDrkmczjVP2kBtX0t3do\\u002fGlP8NQWJ5T8JbJ+2t3TwP9O8o1BaAPM\\u002f4aSs7H5x8z9qAAloyT7tPxY5vpvjbeY\\u002fXOkV1rMJ4D\\u002fQmJHcoEPXP+hQ1B0WBtM\\u002f1a6lStkK0z99m\\u002fhRw9LQP1M3GxvNftA\\u002fSeDXDQS50D+ESR1ICQHQP6qPEuxm788\\u002fQIgJgy+C0D\\u002ft5T9YITPOP+1jAnS\\u002f4c0\\u002fbnLaS+G90D+tHKjzsq\\u002fOP0+W3QHG+NA\\u002fOVvYIdnn0D\\u002fjvPmipWLQPxXOMGnRO88\\u002fzC\\u002fbnmdA0T9ozYUm4m7QP1PuXljy584\\u002fq3j\\u002fXRR30D+dqhlr+ezPPz0a6um6ns8\\u002fgZusNG+Wzz8xUk8wsonQP6hcNCAIkM4\\u002fZM\\u002fUwp9Czj8vK5352rfQPzyecusJ388\\u002fsK3P4Hka0D+olw55GS3TP4FIRF2AJNU\\u002fk5MuIO\\u002fv2T+VRt23Z3DbP1S7mazSP9w\\u002fY6lO9Iir2T++ppuz6V\\u002fZP8ybA+v1ReA\\u002fJy5ENYDm6D+d5Y7UTCL3PyeHYH7wuQNA6e\\u002fpJYIDCUAQURTWD28JQDCkMY3+YANA422m5oVH9z\\u002fYoVJJ8w7qP3RAUDRVcN4\\u002fT7Kt8qik1j+MtOZDoIjSP9t3PHy7PNA\\u002f+ue2za+jzj8ag5hp3zXQP850Vep5DM8\\u002fOk66Vhc+0D+ljzTAa67PP0RQESwpks0\\u002fdJ3SZmVT0D8ZLdLPqxfOPwcFTN0J9NA\\u002f1Ms9Ryu\\u002fzz\\u002fFxrSQgYfQP7HJ3VecBdI\\u002f85Md4+iD0j8dQuRH\\u002fmDZP55qTOiem98\\u002f71f1JIZN7D8I5JmNNm38P\\u002fzvRqEHtAtA6NCfRHSEFkBasrxk0ukaQEc6tElcyxhAhq9duQdfEUCUSUHS0ZIDQAOUcz\\u002f0m\\u002fQ\\u002fyWKhZwqL5j9So\\u002fHtxr3dP7cGRxCM6NM\\u002fyM0GBoaF0T+NedhSS9zQPzTqCznvbdA\\u002fjYuyEi9Nzj\\u002fqBCkl22XOP4XzLROqqc0\\u002f4czCVrlxzj\\u002fxlqPnzWzPP6Y2m5e9JM8\\u002fpwbmg4i5zj+bX+URgfzOP4xVKwcghc0\\u002fp\\u002foG8g34zz9MZQiZLYnQP0vVIS3Kfc4\\u002fWNdcc\\u002fdY0D+TTF4u4OrPP9lLHKcQANA\\u002fPf9enqYP0D+UVllPXV3SP+dw\\u002fnMc4NQ\\u002fTB800\\u002fmv3T8Qz5Ndjt\\u002fkP6mz0rpUqOs\\u002fttH7\\u002foKF7z84DFok\\u002fs\\u002frP4Xs24t7a+Q\\u002fJ0VG1Iyn3D8vgabGhljWP3SbMO0ByNQ\\u002fznUqwpRc1D+RRaQUf5HVP1xv2XSjbtc\\u002f5bwqb6sc2D\\u002f3mx71rMzWP0ixGdrkf9M\\u002fv3guLc710D+jnNTT8ujQP0EqPUFdDM4\\u002fZRFim5Bt0D98WnYsFzbPP7kCE+NvbdA\\u002fvQy1tbebzT+p2Y+mvZvOP2Ty9JFxONA\\u002fxH1DlNbTzj+\\u002fBjPSkT\\u002fOP1VBd+w91M4\\u002f9o6yKL3jzj\\u002fepSkoCb3NP98cxyXgOs4\\u002fuAf1vOhyzz8hTgWzkoLNP8yMqc3wWs4\\u002fliqcewl3zz\\u002fJqxDtoTjPP57R4j+Bac4\\u002fnrn3Hnfazj9FMoG+HDXOP0QESFTrKdA\\u002fN1FudZ05zj\\u002fVz46QWKbPP4S0+9dRZc4\\u002fIfJp+GNtzj\\u002fKLJmlbYfPPyYhBxWG9c0\\u002fP3Rt3SUTzz8A6EhjY9rOP09kB5yTG88\\u002fV\\u002fKK841ozz\\u002f+bl53iH\\u002fPPynsKLFbCtA\\u002f2TQoidbFzT+ReHqQH1zOP8ErjXCiF84\\u002fIECLNau0zj8yu1mH72DPP33O1BfxLM4\\u002fHfoxDCbIzz+vVn2T\\u002foLQP598Ri5SLc4\\u002fBX6QR8qOzj\\u002fyWsaGO27OP2GOllLExc0\\u002fM065IaQQ0D91vwB2J9nOP7kzPMcqMs8\\u002fTb2axNjEzj9cNKeIB93OP+6UZ5\\u002fSIc8\\u002fmGcGDC4p0D8WX1zydnbQP+KK63xxldM\\u002f8hkLgSXm0z98CYIvUejVP+G\\u002fB+IB0dc\\u002fh6KokO1L2D\\u002fhpKkC6JXaP4AbEnH72eE\\u002fzb5Ex4ua6j85v+5iWpP3P74lr3H+7QVA\\u002f4ybrCMsFEDo1mVQsRUgQAfuPfqkgSRAzVG6NFi3JEB6Ub4tdHcgQJtefhRkHxZAJ2oPHnisCUB1Til+1bL8Pz9QVOf0oPA\\u002fIQZGHaP05T9Jl85+NNzdP1psD4L\\u002fjNY\\u002f6fhwer1d0z8WmGMKv0DSP53+s1fqjM8\\u002fpq9sGTHyzT\\u002fpOnkptGzPP7UGLstOKc4\\u002fqiVqe8opzT+p1V8wYa7OP1PtxIPxos8\\u002flRUmyPPzzz+x2NGW1+jNP4kEcwSaS88\\u002ftSIb2Tsczj8SUBFjcH\\u002fOPy9xDu8Mtc0\\u002fAd\\u002f2nE6Xzj99KGV77QXOP0Z8nEfBDs4\\u002fR4WpWYOBzz\\u002fkLIfrS8zOP9AQ6TNuts4\\u002f00LouytKzT+2F8vmlF\\u002fPP9iafepKVs4\\u002fjzdMhovSzj9opJdLhVDOP8nEaLVRLM8\\u002fWYFHsYAwzz\\u002fwzbi0QE\\u002fOPyhaM8fRAdA\\u002feF+Shx9zzz\\u002fDu4w0UdjPP4hY0xy5pc8\\u002f4DO9zJq6zj+mKItDKqDOP6ze0bfhnc4\\u002f3x8cXf\\u002f3zz\\u002fhI8sy0GfOP8MbqV6zhc0\\u002f0IOY9ZU\\u002fzD9yfFJbq13NPyRSiP2h\\u002fc4\\u002f\\u002fj8wBOfGzj9fcByDw4rNP8r3Z+Jsw84\\u002f4EpHsTMMzT\\u002fLXDNqsB3PPwMF7dKLEM4\\u002f1W46AClGzj9PEmt49OvNPw0gU5OcYM4\\u002fo2lav4DAzj\\u002fT2MFw66fNPw2L1c9gf8w\\u002fj7+56KSSzj833eAqPlbOP8fKEqxPis0\\u002fSkbIHHnjzj90MTtG1GvPP0SnFlkCZc4\\u002fTjoQgLgrzz8KcbffO8\\u002fNP7z+uAzJ7M0\\u002fYJHv+JVpzj+b+FP5DKfOPzQJZCBjVM4\\u002fva+H\\u002f6oXzj8RFlbUB9HOP0AiqB3unM4\\u002fgKRvCNpczz872psJZm3OP1HzAsLyv80\\u002fPUKPrtcZzz9URrOJb07PP1LYYXB1+M0\\u002fGXOurQzDzj\\u002f6CGYb+ljOP7ygN\\u002fItOc4\\u002fo5l\\u002fPl7Mzj+tVYKvO6vNPw334lhpLs8\\u002fGCD1jmSYzj\\u002fnrVYZsULOP0h9FWPO2c4\\u002fdthtvxxTzj+MBiXUlRzQP1+hx6H\\u002f6s0\\u002fRM9s+c01zz\\u002fwJYyQE5DOP2z6rBRvbs4\\u002fmAw+ZE1LzT8K8A\\u002fNYTLPP\\u002fh0x+\\u002fzZ84\\u002fkpEi1rZ1zj9nI+2AMzrOP7oqdlaNHM8\\u002fqqRH+oEgzT9PRSpSY4nOP8OOscRCMs8\\u002fClq5\\u002fPRnzz8kwkZFioXRPyi5i2NLudM\\u002fpWogg1n91j9RcXWdaQbbP3yRHOZTHeE\\u002fHSIN0P1\\u002f5D+cDJr9tBDqPz0ZOZg6VvA\\u002fT0UymscA8z\\u002flb2MzTzX0P42xjoHSLfM\\u002fz3\\u002f57AdB8D9axUrvvyXpP7IWvsxO+OM\\u002fUqXgzOE23z8+k+H\\u002fiKrZP7AhmpSfENY\\u002friquTDbP0z+vbweku4rRPxSeCb0um9A\\u002fvs\\u002fz7yZEzj9Dvx8eYaLPPwHSSDCrN84\\u002fXoUuV\\u002fcFzj9duAeyS9PNPwDzo3jGVM4\\u002fdG2zWJ4L0D+KHKNOU2LOP\\u002fcyyMZfSdA\\u002fiS84sNmg0D+2X9fwu2XRPxMOR6cQotI\\u002f4qKhFYZd1D88JdTJE4zWP0dZEG7yG9k\\u002fJxOxg+XZ2j8W41RuWwzcP8lHUYcrbdw\\u002f1m5yEiD73D+uYgy+W2vZP1qvi9KScdY\\u002f3GIeW8xK1D+aUxWZ46PSP2Wj3e8zK9E\\u002fh2Umed7y0D+PZ3\\u002fc6x7QP5wcf+Vql84\\u002frP+4\\u002f7JCzj9HrOpcFYnNP8aajQ1Wicw\\u002fokCmQQH2zT\\u002fF3+bpX8\\u002fNP9uzjNUuwMw\\u002fDczOsJW8zj92mLNslJ7LP2o2Y+v8Fs4\\u002fYJgAe23gzD8gLc9ebWbNP7VBgYq2gs0\\u002flZhz3+SAzj98sgIYGQjMP37GrvdCnc0\\u002fpgihw6YdzT8nontc7LfNPz8OYpuY9c0\\u002fOJYZFFx7zT\\u002flQFxrqEjNP790baCk4sw\\u002fxd6ccnaZzT9x9v8C02bNPyFWKhKFS80\\u002fRMvvZtaRzj+uQ5E14uXNP6NNG5eoqsw\\u002fFHXE+YymzT+\\u002flGwQypTNPwzqalJNn8w\\u002f0382muNPzT8tbXY+AIjNP0zp4A2zaM0\\u002fTCFRqepAzT\\u002fqPhXvCw\\u002fPP53Cru8ruc0\\u002fqm8fpv72zD\\u002fuB+VHMprNPxfUTAxWb80\\u002fRNmEJi8Xzj8CLesBlVjNP1hGLsA\\u002ff84\\u002fufwoyu\\u002f2zj91O0IOgcLNP80pJL7cG88\\u002fHDvNEFUI0D\\u002fWI5HCtSTPP7SJBSXf\\u002fc0\\u002fIM+ED02jzj\\u002fLa28lmyDPP\\u002fRM6gf3Y84\\u002fvMApgj7bzj\\u002fCywKfQuXNP7FQONd88s0\\u002fKrHV1x\\u002fLzT\\u002fpYM3PcEXMP46N+7+hH8w\\u002fhtwJVLhbzT9Mjr0+nJPNP36t9ObMZs0\\u002fi3tmLEN3zT\\u002fWW\\u002frNk4HOP4vSk05M5c0\\u002fDdSh061bzD\\u002fwKYJdOW7LP5KzoE42GM0\\u002fWOlL+hUTzD9yBbCeg2HNP36ob9MoV80\\u002fKUJzcFJXzT8ZftDE61vLP\\u002fMhgOBBx8w\\u002feKXGULTazD\\u002f1G99iYmrMP3YeF5I1osw\\u002fqWDtbLBVzj+WsQWr1SXMP5nl9mjBzcw\\u002fzhVHkH7Jyz\\u002frQbTgfDXNP\\u002fG\\u002fgEt42ss\\u002fqfWYILrzyz9v59MWgfjKP57Yq2UuJs0\\u002f2HVPQQ+9zT+7pzy8Ia\\u002fMP8JbK27mCcw\\u002fteA1l8zvyz\\u002fORSjgsTzNP2QQgAqMX8w\\u002fWK8LuDC\\u002fzD92f3DmCy\\u002fMP\\u002fO9PhRXFM0\\u002fihB98SeFzz8xiN4bn1LMP5Y3u22urcw\\u002fojhYxGDhzD9IjyPW04vMPwYl7urhHMw\\u002f9LZqZowGzT9kdn2epTHLPzkAxPKzdcs\\u002fqhl4k7F9yz+Bwb+Zbv7LPzEmdOLBPM0\\u002fHhV6CWRfzD9IhfH\\u002f9+nMP435879CeMw\\u002f62eZgazWyz96NSi3EkPMPy4ykQXobM0\\u002faYQVNLt2zD\\u002fuL1ZUA57LPyT8g3D0r8s\\u002fs1pLmWbJzD\\u002fFFM5kUVPNPzeH0pEAP80\\u002fn\\u002fvIUKgizD9dUGomVq3LP3fsscz+Vsw\\u002fZaKNz+APzz9lo\\u002fuPwxvNP5yA36iTvss\\u002fiG9JERb0zD+86lwc6gLNP\\u002fSNvgGUIcw\\u002fdyYaSD44zD8zrCUoVQXMPwomzKaIgs0\\u002fncbTxtRTzj\\u002fUyqc7QojOP94ntwXL3M8\\u002f0SmNUk0E0D9GOgs8\\u002foDQP0RZGWIw0dE\\u002fteo6lB7R0j97NQ0YFHTTP9cLbwV5kdQ\\u002f+GGXmY321z\\u002fnby41KTbaP95nzHGqrts\\u002fz0zO7N6F3T\\u002fM2xDOgXjiPxrComudzOQ\\u002f042WM6qN6j+nXy0OvQrvP1BlsMVyW\\u002fU\\u002fSjdDHVDa+z+rTVLeBxgCQGrmCjH4eQdAwjhouLtEDUBADKvhuVoRQMQoaWBxqBNARAgU0cGDFkCJcLJXs18YQA+435jeiBlAVS8VujYiG0D8CeoK20YbQKuL0wRIcBpAi8tXYakZG0CkOA1AhVMbQHeoWE96WBpADyJ3pjauGkCoyX9iCY4aQErwFvhiBRpAcZxqEe4BGUBIL3Pv+O8XQDfJOMpcwhVAeZyQDdosE0B2wccyaCwRQH0AByasqgxAbWCNMOvxBkA5yPzLEYACQBptphEzl\\u002fw\\u002fbO\\u002fNdbod9j+bQmjQXa7wP4qQ\\u002fbET9eg\\u002f2lFpl0Eg4z+tlyO+rDTgP8Szef+HW9k\\u002fb+22PoNO1T+qeX7NvU\\u002fTPz+KQ+HV+dA\\u002fURrir1KW0D9kdtLMe0HPPwXrRLGGac4\\u002fRgTxFobGzj\\u002fMmw1CMyrMP9Bhid2AWdA\\u002fpfTiRAHAzj8pO0CaDHfMP5VeeG4fm8s\\u002ffZhe5Kd0yz\\u002fSVLuEw3LMP633dt9ew8w\\u002fLTkErZDdyz9vHTX4gjLMPzwNTRM198w\\u002fxEmOd7awyz9JMKksXdjMP1IdP5mWkMs\\u002feKSLDWsgyj943MlXC0jMPwehIq7Cjsw\\u002fwpFHU0tlzD\\u002feRrHVKpzLP39Ly\\u002fe6mso\\u002f6n0Xf0zmyj8eWL9m7vbLP5Sm\\u002fvj3TMs\\u002f88cW4J0\\u002fyz9pA8aXDHfNP0rfkH\\u002fHZMo\\u002fS7DS7VXizD9F+XPurEDMPzv56Tn5Gs4\\u002f5bK1+bHAzT\\u002fPFAN9MnvNPylEczXhIM0\\u002f3N16HpHHzD+IWU47l\\u002fXLPyLLORfuqM0\\u002fiNxC2nYwyz91jNFcfrfMP\\u002fUkuGGAL80\\u002fEL5JDXz\\u002fyz\\u002f+EKGvtbTOP90m5fglpc0\\u002fy7NCCjbnzD\\u002fz+iQjkqjMPzxfD3hxXMo\\u002f7SirtRZyyz+8Er8ig4TMPzj60WmHpc4\\u002fCQkGIYkUzT9Cb\\u002fjItSDNPzMta9QsqMs\\u002ffIx5VwDByj\\u002fECiPsU6TNP0StX0+4KM4\\u002fWlcs6YDlyT8JZSp12xjMP+z3SqX1Ic4\\u002f6DGXfjMfyj8WxTe\\u002fiXbMPzyQj43d4cs\\u002fIcWC7r+dzT8PJ5BkZAfLP+84PCNIAcw\\u002f38y1hQFcyz+JJ7BVTDjMP07f6yPOxMw\\u002f6Qs4ewOqzT\\u002f23EfVdFbLP97db4FujMw\\u002f6PGrn75MzT\\u002f3sHXFQIXMP9pFGTISrso\\u002fAhLvCufJzD+69tMNjuzMPxRoPb9rg8o\\u002fK4yHPPdIzT+7O7A1mkLMP3\\u002fSdKfX6cw\\u002fb+WO7PnUyj+a8kDMmtXMP6H0e+8RAcw\\u002fn\\u002fGX0CBIzj8YiWWH\\u002fXfMPx4AkSwCXss\\u002fr6j8kBTHzz9MfMAecUDMP07gMMwxt8w\\u002fXOV6y0RLzT8uwjnRtAXMP5TGRodkoM0\\u002f4LCif9fFyz\\u002fk8QZm1\\u002fvNP14oQRIljsw\\u002fqRDJfMbkzT8hAVnQ62bMP2rEy6OArso\\u002f\\u002f2xqeAmbzD+iE1BuvyXOP1iAlHUSGMw\\u002fH0G5pCtgyz+fh7dY3kbMP\\u002frI5i6HS8w\\u002fRJuWIXB3zD8eU7WIN+nLP0\\u002f\\u002fLCJ6I8w\\u002fQZEFnbmCzT\\u002ftpbKlexzNPwMcxo54Sco\\u002fabYeyhuRzj+mTpZywTHPP+POY69kfc8\\u002f0ThzPGhg0D+0nUYo+LjPPw08wt0ZXdI\\u002f1lj774UN1D+lZYn6qorWP2Zpz8YXeNk\\u002fpwc+UPxZ3z+H718dE9PjP14KsjfOd+o\\u002fGa6FzbJ38T\\u002fSvhW2R0r1P+cU+MEM8\\u002fs\\u002f+3\\u002fha\\u002fhLAUDdcEtE4jQGQH10JpzI7QlAOxWok1EZEEB3sK8fHHoSQE6WnMAwkxRAlLBsSUC6FkBA09JUr3gYQPefaTKT2BhA51lTX1U9GkAKiqzQcOYaQD3vEm37IhtAKm5C8WuIG0B4K\\u002fHQRQ4bQFTERjL7BRxA3BEAWX\\u002fZHEDdt3XOC58cQPOZWPBQtBtAig4ZvHHCG0Cd0zwneDocQBLwmLT4LxtAEyZwO16LG0BCvOJpVk4bQKH3r6139hpAiroRiseAG0C1eP+qQEwaQMRNjOASuRlAwdMYwfzRGECudMyFUTkYQGh2r+LLPRdAt2Km0ljPFEB\\u002fl2rmEpsTQDS7+SBf0hFA51a4tPkOEEAUtjkdCdwKQP1npeMMmAhAw+jS0ieHBUA5I\\u002fA5FREBQHEB8FVfTPs\\u002f1nvi2E6z9j\\u002fI0IoD+WTyP9lteegW8+0\\u002fpL2wZLSn5z\\u002futZu06B3jP1Acq1tgZOA\\u002ff2drx3n22z85o5P32E3XP2AwgL4rR9U\\u002fr3OgJ7Gc0T8YvdQr6BHRPzN2lwCCANA\\u002fnqL4+GNszj82DdxROjTPP\\u002fA4s2L0Dc4\\u002fZDbY8ZIzzj+N3kqiOcvNPzgyY7MX2s4\\u002fL5i2VNGzzD9SDt6eW7HNP9T+Tc+gF8s\\u002foBmXTjxayz\\u002fiJdZCrCTLPyWwd0h7IMs\\u002f3zQcfQUmzD\\u002fW3p+J9WHMP+7uOulB+M0\\u002fVAAvgmK\\u002fzT9dywzdmJLLPydt86u9gM0\\u002fldhQ8qFPyz9WfmD6vivMP8eG2ZanEss\\u002fdTy3wlgzyT8QOIG0B0bNP2Ih7Kg1U8w\\u002f+qLtevHOzD8kBZdhX8TLP8oTrXXZd8s\\u002fvuKWlTWuzD8yHXPg4nLJP6XBj+Y0zMo\\u002foCvmcnxsyz8e2BYqJq\\u002fKP5fqyQi\\u002fNs0\\u002f8g82++f1zD95g3rYva7MP99kSRsCT80\\u002fb3GYnKWRzT94jMsGURfKPzUbdYyF9Mw\\u002fCCYquWmHyD+L1oEu7NnMP5MutDiLkMs\\u002fyEjVGUBFzD+TL5GK6pbMPwC\\u002fzS7\\u002fEMw\\u002f\\u002fPSWWuW4yz\\u002feo3cVsJTKP6W0QrW6jMs\\u002feY3Q9gbayz+U2pEzlbXKP4NpSlDDcsg\\u002fCtZmiMhwzD90ZkwjdJTNP8v1z+W4PMw\\u002f+dicCRpGzj+OOok2HWPKP7kPZqwJssk\\u002fDvG384ILzT+WuYli0f\\u002fLP5DziIQUys0\\u002fGHFUKizYyz9\\u002fFNj4nTnMP0rIzgH2+so\\u002fuWJJ\\u002fqESyz8FcT+BZkrMP7mZUCx6w8w\\u002fJ6S75I5myj8wjDjVd6\\u002fLP9nUbTpg280\\u002fmX374nvJyj+SoO6I\\u002fHDLPw1fwRfzT8s\\u002fAD1hPTVuzT8S4TcSsrjKP0mQoXJVico\\u002fy3\\u002fCSkXvzD81knryMITMP4Lo3hXR78g\\u002fZl0L\\u002fjeczT8g1O1MatHNP+5H49p0w8k\\u002fKO3g4jXXzD\\u002fxIiSJGcjLP+n1nFFfwMo\\u002fPwVDtnOIzD\\u002fJVIparWbNP5RnnJAOAM0\\u002fckH\\u002f2UJXyT86ylF1eZPMPwhaTnkINMw\\u002fxS\\u002f6hNzQyj8ivS\\u002fyUIzMP0l+I98h+ss\\u002fFgJYxisIzD\\u002f+B8JHJsnLP8GvChxxvso\\u002f83E30GeEzD\\u002fNMqc9i0zNP4PDMPCcuss\\u002fvpddqUeuzD9RGRmy51zLP0GghueYyco\\u002fZVRIdnX0yz9DuN1mPqrLP8c\\u002fajICVco\\u002fnaPfqcryzD8\\u002fQSnvFk7MP0rg4SMwtMo\\u002fo7UAeT27yj8=\"},\"type\":\"scatter\"}],                        {\"legend\":{\"x\":1.0,\"xanchor\":\"right\",\"y\":1.0,\"yanchor\":\"top\"},\"margin\":{\"autoexpand\":true,\"b\":45,\"r\":30,\"t\":40},\"title\":{\"text\":\"Measured data for experiment \\ud83d\\udd2c 'mcstas'\"},\"xaxis\":{\"mirror\":true,\"showline\":true,\"title\":{\"text\":\"TOF (\\u00b5s)\"},\"zeroline\":false,\"tickformat\":\",.6~g\",\"separatethousands\":true},\"yaxis\":{\"mirror\":true,\"showline\":true,\"title\":{\"text\":\"Intensity (arb. units)\"},\"zeroline\":false,\"tickformat\":\",.6~g\",\"separatethousands\":true},\"template\":{\"data\":{\"histogram2dcontour\":[{\"type\":\"histogram2dcontour\",\"colorbar\":{\"outlinewidth\":0,\"ticks\":\"\"},\"colorscale\":[[0.0,\"#0d0887\"],[0.1111111111111111,\"#46039f\"],[0.2222222222222222,\"#7201a8\"],[0.3333333333333333,\"#9c179e\"],[0.4444444444444444,\"#bd3786\"],[0.5555555555555556,\"#d8576b\"],[0.6666666666666666,\"#ed7953\"],[0.7777777777777778,\"#fb9f3a\"],[0.8888888888888888,\"#fdca26\"],[1.0,\"#f0f921\"]]}],\"choropleth\":[{\"type\":\"choropleth\",\"colorbar\":{\"outlinewidth\":0,\"ticks\":\"\"}}],\"histogram2d\":[{\"type\":\"histogram2d\",\"colorbar\":{\"outlinewidth\":0,\"ticks\":\"\"},\"colorscale\":[[0.0,\"#0d0887\"],[0.1111111111111111,\"#46039f\"],[0.2222222222222222,\"#7201a8\"],[0.3333333333333333,\"#9c179e\"],[0.4444444444444444,\"#bd3786\"],[0.5555555555555556,\"#d8576b\"],[0.6666666666666666,\"#ed7953\"],[0.7777777777777778,\"#fb9f3a\"],[0.8888888888888888,\"#fdca26\"],[1.0,\"#f0f921\"]]}],\"heatmap\":[{\"type\":\"heatmap\",\"colorbar\":{\"outlinewidth\":0,\"ticks\":\"\"},\"colorscale\":[[0.0,\"#0d0887\"],[0.1111111111111111,\"#46039f\"],[0.2222222222222222,\"#7201a8\"],[0.3333333333333333,\"#9c179e\"],[0.4444444444444444,\"#bd3786\"],[0.5555555555555556,\"#d8576b\"],[0.6666666666666666,\"#ed7953\"],[0.7777777777777778,\"#fb9f3a\"],[0.8888888888888888,\"#fdca26\"],[1.0,\"#f0f921\"]]}],\"contourcarpet\":[{\"type\":\"contourcarpet\",\"colorbar\":{\"outlinewidth\":0,\"ticks\":\"\"}}],\"contour\":[{\"type\":\"contour\",\"colorbar\":{\"outlinewidth\":0,\"ticks\":\"\"},\"colorscale\":[[0.0,\"#0d0887\"],[0.1111111111111111,\"#46039f\"],[0.2222222222222222,\"#7201a8\"],[0.3333333333333333,\"#9c179e\"],[0.4444444444444444,\"#bd3786\"],[0.5555555555555556,\"#d8576b\"],[0.6666666666666666,\"#ed7953\"],[0.7777777777777778,\"#fb9f3a\"],[0.8888888888888888,\"#fdca26\"],[1.0,\"#f0f921\"]]}],\"surface\":[{\"type\":\"surface\",\"colorbar\":{\"outlinewidth\":0,\"ticks\":\"\"},\"colorscale\":[[0.0,\"#0d0887\"],[0.1111111111111111,\"#46039f\"],[0.2222222222222222,\"#7201a8\"],[0.3333333333333333,\"#9c179e\"],[0.4444444444444444,\"#bd3786\"],[0.5555555555555556,\"#d8576b\"],[0.6666666666666666,\"#ed7953\"],[0.7777777777777778,\"#fb9f3a\"],[0.8888888888888888,\"#fdca26\"],[1.0,\"#f0f921\"]]}],\"mesh3d\":[{\"type\":\"mesh3d\",\"colorbar\":{\"outlinewidth\":0,\"ticks\":\"\"}}],\"scatter\":[{\"fillpattern\":{\"fillmode\":\"overlay\",\"size\":10,\"solidity\":0.2},\"type\":\"scatter\"}],\"parcoords\":[{\"type\":\"parcoords\",\"line\":{\"colorbar\":{\"outlinewidth\":0,\"ticks\":\"\"}}}],\"scatterpolargl\":[{\"type\":\"scatterpolargl\",\"marker\":{\"colorbar\":{\"outlinewidth\":0,\"ticks\":\"\"}}}],\"bar\":[{\"error_x\":{\"color\":\"#2a3f5f\"},\"error_y\":{\"color\":\"#2a3f5f\"},\"marker\":{\"line\":{\"color\":\"white\",\"width\":0.5},\"pattern\":{\"fillmode\":\"overlay\",\"size\":10,\"solidity\":0.2}},\"type\":\"bar\"}],\"scattergeo\":[{\"type\":\"scattergeo\",\"marker\":{\"colorbar\":{\"outlinewidth\":0,\"ticks\":\"\"}}}],\"scatterpolar\":[{\"type\":\"scatterpolar\",\"marker\":{\"colorbar\":{\"outlinewidth\":0,\"ticks\":\"\"}}}],\"histogram\":[{\"marker\":{\"pattern\":{\"fillmode\":\"overlay\",\"size\":10,\"solidity\":0.2}},\"type\":\"histogram\"}],\"scattergl\":[{\"type\":\"scattergl\",\"marker\":{\"colorbar\":{\"outlinewidth\":0,\"ticks\":\"\"}}}],\"scatter3d\":[{\"type\":\"scatter3d\",\"line\":{\"colorbar\":{\"outlinewidth\":0,\"ticks\":\"\"}},\"marker\":{\"colorbar\":{\"outlinewidth\":0,\"ticks\":\"\"}}}],\"scattermap\":[{\"type\":\"scattermap\",\"marker\":{\"colorbar\":{\"outlinewidth\":0,\"ticks\":\"\"}}}],\"scattermapbox\":[{\"type\":\"scattermapbox\",\"marker\":{\"colorbar\":{\"outlinewidth\":0,\"ticks\":\"\"}}}],\"scatterternary\":[{\"type\":\"scatterternary\",\"marker\":{\"colorbar\":{\"outlinewidth\":0,\"ticks\":\"\"}}}],\"scattercarpet\":[{\"type\":\"scattercarpet\",\"marker\":{\"colorbar\":{\"outlinewidth\":0,\"ticks\":\"\"}}}],\"carpet\":[{\"aaxis\":{\"endlinecolor\":\"#2a3f5f\",\"gridcolor\":\"#C8D4E3\",\"linecolor\":\"#C8D4E3\",\"minorgridcolor\":\"#C8D4E3\",\"startlinecolor\":\"#2a3f5f\"},\"baxis\":{\"endlinecolor\":\"#2a3f5f\",\"gridcolor\":\"#C8D4E3\",\"linecolor\":\"#C8D4E3\",\"minorgridcolor\":\"#C8D4E3\",\"startlinecolor\":\"#2a3f5f\"},\"type\":\"carpet\"}],\"table\":[{\"cells\":{\"fill\":{\"color\":\"#EBF0F8\"},\"line\":{\"color\":\"white\"}},\"header\":{\"fill\":{\"color\":\"#C8D4E3\"},\"line\":{\"color\":\"white\"}},\"type\":\"table\"}],\"barpolar\":[{\"marker\":{\"line\":{\"color\":\"white\",\"width\":0.5},\"pattern\":{\"fillmode\":\"overlay\",\"size\":10,\"solidity\":0.2}},\"type\":\"barpolar\"}],\"pie\":[{\"automargin\":true,\"type\":\"pie\"}]},\"layout\":{\"autotypenumbers\":\"strict\",\"colorway\":[\"#636efa\",\"#EF553B\",\"#00cc96\",\"#ab63fa\",\"#FFA15A\",\"#19d3f3\",\"#FF6692\",\"#B6E880\",\"#FF97FF\",\"#FECB52\"],\"font\":{\"color\":\"#2a3f5f\"},\"hovermode\":\"closest\",\"hoverlabel\":{\"align\":\"left\"},\"paper_bgcolor\":\"white\",\"plot_bgcolor\":\"white\",\"polar\":{\"bgcolor\":\"white\",\"angularaxis\":{\"gridcolor\":\"#EBF0F8\",\"linecolor\":\"#EBF0F8\",\"ticks\":\"\"},\"radialaxis\":{\"gridcolor\":\"#EBF0F8\",\"linecolor\":\"#EBF0F8\",\"ticks\":\"\"}},\"ternary\":{\"bgcolor\":\"white\",\"aaxis\":{\"gridcolor\":\"#DFE8F3\",\"linecolor\":\"#A2B1C6\",\"ticks\":\"\"},\"baxis\":{\"gridcolor\":\"#DFE8F3\",\"linecolor\":\"#A2B1C6\",\"ticks\":\"\"},\"caxis\":{\"gridcolor\":\"#DFE8F3\",\"linecolor\":\"#A2B1C6\",\"ticks\":\"\"}},\"coloraxis\":{\"colorbar\":{\"outlinewidth\":0,\"ticks\":\"\"}},\"colorscale\":{\"sequential\":[[0.0,\"#0d0887\"],[0.1111111111111111,\"#46039f\"],[0.2222222222222222,\"#7201a8\"],[0.3333333333333333,\"#9c179e\"],[0.4444444444444444,\"#bd3786\"],[0.5555555555555556,\"#d8576b\"],[0.6666666666666666,\"#ed7953\"],[0.7777777777777778,\"#fb9f3a\"],[0.8888888888888888,\"#fdca26\"],[1.0,\"#f0f921\"]],\"sequentialminus\":[[0.0,\"#0d0887\"],[0.1111111111111111,\"#46039f\"],[0.2222222222222222,\"#7201a8\"],[0.3333333333333333,\"#9c179e\"],[0.4444444444444444,\"#bd3786\"],[0.5555555555555556,\"#d8576b\"],[0.6666666666666666,\"#ed7953\"],[0.7777777777777778,\"#fb9f3a\"],[0.8888888888888888,\"#fdca26\"],[1.0,\"#f0f921\"]],\"diverging\":[[0,\"#8e0152\"],[0.1,\"#c51b7d\"],[0.2,\"#de77ae\"],[0.3,\"#f1b6da\"],[0.4,\"#fde0ef\"],[0.5,\"#f7f7f7\"],[0.6,\"#e6f5d0\"],[0.7,\"#b8e186\"],[0.8,\"#7fbc41\"],[0.9,\"#4d9221\"],[1,\"#276419\"]]},\"xaxis\":{\"gridcolor\":\"#EBF0F8\",\"linecolor\":\"#EBF0F8\",\"ticks\":\"\",\"title\":{\"standoff\":15},\"zerolinecolor\":\"#EBF0F8\",\"automargin\":true,\"zerolinewidth\":2},\"yaxis\":{\"gridcolor\":\"#EBF0F8\",\"linecolor\":\"#EBF0F8\",\"ticks\":\"\",\"title\":{\"standoff\":15},\"zerolinecolor\":\"#EBF0F8\",\"automargin\":true,\"zerolinewidth\":2},\"scene\":{\"xaxis\":{\"backgroundcolor\":\"white\",\"gridcolor\":\"#DFE8F3\",\"linecolor\":\"#EBF0F8\",\"showbackground\":true,\"ticks\":\"\",\"zerolinecolor\":\"#EBF0F8\",\"gridwidth\":2},\"yaxis\":{\"backgroundcolor\":\"white\",\"gridcolor\":\"#DFE8F3\",\"linecolor\":\"#EBF0F8\",\"showbackground\":true,\"ticks\":\"\",\"zerolinecolor\":\"#EBF0F8\",\"gridwidth\":2},\"zaxis\":{\"backgroundcolor\":\"white\",\"gridcolor\":\"#DFE8F3\",\"linecolor\":\"#EBF0F8\",\"showbackground\":true,\"ticks\":\"\",\"zerolinecolor\":\"#EBF0F8\",\"gridwidth\":2}},\"shapedefaults\":{\"line\":{\"color\":\"#2a3f5f\"}},\"annotationdefaults\":{\"arrowcolor\":\"#2a3f5f\",\"arrowhead\":0,\"arrowwidth\":1},\"geo\":{\"bgcolor\":\"white\",\"landcolor\":\"white\",\"subunitcolor\":\"#C8D4E3\",\"showland\":true,\"showlakes\":true,\"lakecolor\":\"white\"},\"title\":{\"x\":0.05},\"mapbox\":{\"style\":\"light\"}}}},                        {\"displaylogo\": false, \"modeBarButtonsToRemove\": [\"select2d\", \"lasso2d\", \"zoomIn2d\", \"zoomOut2d\", \"autoScale2d\"], \"responsive\": true}                    )                };            </script>        </div>"
      ],
      "text/plain": [
       "<IPython.core.display.HTML object>"
      ]
     },
     "metadata": {},
     "output_type": "display_data"
    }
   ],
   "source": [
    "project.plot_meas(expt_name='mcstas')"
   ]
  },
  {
   "cell_type": "markdown",
   "id": "46",
   "metadata": {},
   "source": [
    "Add excluded regions."
   ]
  },
  {
   "cell_type": "code",
   "execution_count": 24,
   "id": "47",
   "metadata": {
    "execution": {
     "iopub.execute_input": "2025-08-30T21:30:05.545867Z",
     "iopub.status.busy": "2025-08-30T21:30:05.545706Z",
     "iopub.status.idle": "2025-08-30T21:30:05.549168Z",
     "shell.execute_reply": "2025-08-30T21:30:05.548244Z"
    }
   },
   "outputs": [],
   "source": [
    "experiment.excluded_regions.add(start=0, end=40000)\n",
    "experiment.excluded_regions.add(start=108000, end=200000)"
   ]
  },
  {
   "cell_type": "markdown",
   "id": "48",
   "metadata": {},
   "source": [
    "Show excluded regions."
   ]
  },
  {
   "cell_type": "code",
   "execution_count": 25,
   "id": "49",
   "metadata": {
    "execution": {
     "iopub.execute_input": "2025-08-30T21:30:05.551882Z",
     "iopub.status.busy": "2025-08-30T21:30:05.551664Z",
     "iopub.status.idle": "2025-08-30T21:30:05.556938Z",
     "shell.execute_reply": "2025-08-30T21:30:05.556280Z"
    }
   },
   "outputs": [
    {
     "name": "stdout",
     "output_type": "stream",
     "text": [
      "\n",
      "\u001b[94m\u001b[1mExcluded regions\u001b[0m\n"
     ]
    },
    {
     "data": {
      "text/html": [
       "<table class=\"dataframe\" style=\"border-collapse: collapse; border: 1px solid #515155; margin-left: 0.5em;margin-top: 0.5em;margin-bottom: 1em;\">\n",
       "  <thead>\n",
       "    <tr style=\"text-align: right;\">\n",
       "      <th style=\"text-align: left;\">start</th>\n",
       "      <th style=\"text-align: left;\">end</th>\n",
       "    </tr>\n",
       "  </thead>\n",
       "  <tbody>\n",
       "    <tr>\n",
       "      <td><div style=\"text-align: left;\">0</div></td>\n",
       "      <td><div style=\"text-align: left;\">40000</div></td>\n",
       "    </tr>\n",
       "    <tr>\n",
       "      <td><div style=\"text-align: left;\">108000</div></td>\n",
       "      <td><div style=\"text-align: left;\">200000</div></td>\n",
       "    </tr>\n",
       "  </tbody>\n",
       "</table>"
      ],
      "text/plain": [
       "<IPython.core.display.HTML object>"
      ]
     },
     "metadata": {},
     "output_type": "display_data"
    }
   ],
   "source": [
    "experiment.excluded_regions.show()"
   ]
  },
  {
   "cell_type": "markdown",
   "id": "50",
   "metadata": {},
   "source": [
    "Show measured data after adding excluded regions."
   ]
  },
  {
   "cell_type": "code",
   "execution_count": 26,
   "id": "51",
   "metadata": {
    "execution": {
     "iopub.execute_input": "2025-08-30T21:30:05.559229Z",
     "iopub.status.busy": "2025-08-30T21:30:05.559080Z",
     "iopub.status.idle": "2025-08-30T21:30:05.686192Z",
     "shell.execute_reply": "2025-08-30T21:30:05.685634Z"
    }
   },
   "outputs": [
    {
     "data": {
      "text/html": [
       "<div>                        <script type=\"text/javascript\">window.PlotlyConfig = {MathJaxConfig: 'local'};</script>\n",
       "        <script charset=\"utf-8\" src=\"https://cdn.plot.ly/plotly-3.1.0.min.js\" integrity=\"sha256-Ei4740bWZhaUTQuD6q9yQlgVCMPBz6CZWhevDYPv93A=\" crossorigin=\"anonymous\"></script>                <div id=\"8049c3be-25e0-4a64-aa29-1d0b9e7e97b7\" class=\"plotly-graph-div\" style=\"height:100%; width:100%;\"></div>            <script type=\"text/javascript\">                window.PLOTLYENV=window.PLOTLYENV || {};                                if (document.getElementById(\"8049c3be-25e0-4a64-aa29-1d0b9e7e97b7\")) {                    Plotly.newPlot(                        \"8049c3be-25e0-4a64-aa29-1d0b9e7e97b7\",                        [{\"line\":{\"color\":\"rgb(31, 119, 180)\"},\"mode\":\"lines+markers\",\"name\":\"Measured (Imeas)\",\"x\":{\"dtype\":\"f8\",\"bdata\":\"SL99HQQa5EB88rBQOyfkQJhuEoNyNORAy6FFtqlB5ED+1Hjp4E7kQBpR2hsYXORATYQNT09p5ECAt0CChnbkQLPqc7W9g+RAz2bV5\\u002fSQ5EACmggbLJ7kQDbNO05jq+RAUkmdgJq45ECFfNCz0cXkQLivA+cI0+RA1CtlGUDg5EAHX5hMd+3kQDqSy3+u+uRAbcX+suUH5UCJQWDlHBXlQLx0kxhUIuVA8KfGS4sv5UALJCh+wjzlQD9XW7H5SeVAcoqO5DBX5UCOBvAWaGTlQME5I0qfceVA9GxWfdZ+5UAnoImwDYzlQEMc6+JEmeVAdk8eFnym5UCqglFJs7PlQMX+snvqwOVA+THmriHO5UAsZRniWNvlQEjhehSQ6OVAexSuR8f15UCuR+F6\\u002fgLmQOF6FK41EOZA\\u002ffZ14Gwd5kAwKqkTpCrmQGRd3EbbN+ZAf9k9eRJF5kCzDHGsSVLmQOY\\u002fpN+AX+ZAArwFErhs5kA17zhF73nmQGgibHgmh+ZAm1Wfq12U5kC30QDelKHmQOoENBHMruZAHThnRAO85kA5tMh2OsnmQG3n+6lx1uZAoBov3ajj5kC8lpAP4PDmQO\\u002fJw0IX\\u002fuZAIv32dU4L50BVMCqphRjnQHGsi9u8JedApN++DvQy50DXEvJBK0DnQPOOU3RiTedAJ8KGp5la50Ba9bna0GfnQHZxGw0IdedAqaROQD+C50Dc14Fzdo\\u002fnQA8LtaatnOdAK4cW2eSp50BeukkMHLfnQJHtfD9TxOdArWnecYrR50DgnBGlwd7nQBTQRNj46+dAMEymCjD550Bjf9k9ZwboQJayDHGeE+hAyeU\\u002fpNUg6EDlYaHWDC7oQBiV1AlEO+hAS8gHPXtI6EBnRGlvslXoQJp3nKLpYuhAzqrP1SBw6EDpJjEIWH3oQB1aZDuPiuhAUI2XbsaX6ECDwMqh\\u002faToQJ88LNQ0suhA0m9fB2y\\u002f6EAFo5I6o8zoQCEf9Gza2ehAVFInoBHn6ECIhVrTSPToQKMBvAWAAelA1zTvOLcO6UAKaCJs7hvpQD2bVZ8lKelAWRe30Vw26UCMSuoElEPpQL99HTjLUOlA2\\u002fl+agJe6UAOLbKdOWvpQEJg5dBweOlAXdxGA6iF6UCRD3o235LpQMRCrWkWoOlA93XgnE2t6UAT8kHPhLrpQEYldQK8x+lAeVioNfPU6UCV1AloKuLpQMgHPZth7+lA+zpwzpj86UAXt9EA0AnqQEvqBDQHF+pAfh04Zz4k6kCxUGuadTHqQM3MzMysPupAAAAAAORL6kAzMzMzG1nqQE+vlGVSZupAguLHmIlz6kC1FfvLwIDqQNGRXP73jepABcWPMS+b6kA4+MJkZqjqQGsr9pedtepAh6dXytTC6kC62or9C9DqQO0NvjBD3epACYofY3rq6kA8vVKWsffqQG\\u002fwhcnoBOtAi2zn+x8S60C+nxovVx\\u002frQPLSTWKOLOtAJQaBlcU560BBguLH\\u002fEbrQHS1FfszVOtAp+hILmth60DDZKpgom7rQPaX3ZPZe+tAKcsQxxCJ60BFR3L5R5brQHh6pSx\\u002fo+tArK3YX7aw60Df4AuT7b3rQPtcbcUky+tALpCg+FvY60Bhw9Mrk+XrQH0\\u002fNV7K8utAsHJokQEA7EDjpZvEOA3sQP8h\\u002ffZvGuxAMlUwKqcn7EBmiGNd3jTsQJm7lpAVQuxAtTf4wkxP7EDoaiv2g1zsQBueXim7aexANxrAW\\u002fJ27EBqTfOOKYTsQJ2AJsJgkexAufyH9Jee7EDsL7snz6vsQCBj7loGuexAU5Yhjj3G7EBvEoPAdNPsQKJFtvOr4OxA1XjpJuPt7EDx9EpZGvvsQCQofoxRCO1AV1uxv4gV7UBz1xLyvyLtQKYKRiX3L+1A2T15WC497UANcayLZUrtQCntDb6cV+1AXCBB8dNk7UCPU3QkC3LtQKvP1VZCf+1A3gIJinmM7UARNjy9sJntQC2yne\\u002fnpu1AYOXQIh+07UCTGARWVsHtQMdLN4mNzu1A48eYu8Tb7UAW+8vu++jtQEku\\u002fyEz9u1AZapgVGoD7kCY3ZOHoRDuQMsQx7rYHe5A54wo7Q8r7kAawFsgRzjuQE3zjlN+Re5AgSbChrVS7kCcoiO57F\\u002fuQNDVVuwjbe5AAwmKH1t67kAfhetRkofuQFK4HoXJlO5AhetRuACi7kChZ7PqN6\\u002fuQNSa5h1vvO5AB84ZUabJ7kA7AU2E3dbuQFZ9rrYU5O5AirDh6Uvx7kC94xQdg\\u002f7uQNlfdk+6C+9ADJOpgvEY70A\\u002fxty1KCbvQFtCPuhfM+9AjnVxG5dA70DBqKROzk3vQPXb14EFW+9AEFg5tDxo70BEi2znc3XvQHe+nxqrgu9AkzoBTeKP70DGbTSAGZ3vQPmgZ7NQqu9AFR3J5Ye370BIUPwYv8TvQHuDL0z20e9ArrZify3f70DKMsSxZOzvQP5l9+Sb+e9AmEwVjGkD8ECmCkYlBQrwQECk376gEPBA2T15WDwX8EDn+6nx1x3wQIGVQ4tzJPBAGy\\u002fdJA8r8EC0yHa+qjHwQMKGp1dGOPBAXCBB8eE+8ED1udqKfUXwQAN4CyQZTPBAnRGlvbRS8EA2qz5XUFnwQERpb\\u002fDrX\\u002fBA3gIJiodm8EB4nKIjI23wQBE2PL2+c\\u002fBAH\\u002fRsVlp68EC5jQbw9YDwQFInoImRh\\u002fBAYOXQIi2O8ED6fmq8yJTwQJMYBFZkm\\u002fBAodY07\\u002f+h8EA7cM6Im6jwQNUJaCI3r\\u002fBAbqMBvNK18EB8YTJVbrzwQBb7y+4Jw\\u002fBAr5RliKXJ8EC9UpYhQdDwQFfsL7vc1vBA8IXJVHjd8ED+Q\\u002frtE+TwQJjdk4ev6vBAMnctIUvx8EDLEMe65vfwQNnO91OC\\u002fvBAc2iR7R0F8UAMAiuHuQvxQBrAWyBVEvFAtFn1ufAY8UBN845TjB\\u002fxQFuxv+wnJvFA9UpZhsMs8UCP5PIfXzPxQCh+jLn6OfFANjy9UpZA8UDQ1VbsMUfxQGlv8IXNTfFAdy0hH2lU8UARx7q4BFvxQKpgVFKgYfFAuB6F6zto8UBSuB6F127xQOxRuB5zdfFAhetRuA588UCTqYJRqoLxQC1DHOtFifFAxty1hOGP8UDUmuYdfZbxQG40gLcYnfFAB84ZUbSj8UAVjErqT6rxQK8l5IPrsPFASL99HYe38UDiWBe3Ir7xQPAWSFC+xPFAirDh6VnL8UAjSnuD9dHxQDEIrByR2PFAy6FFtizf8UBkO99PyOXxQHL5D+lj7PFADJOpgv\\u002fy8UClLEMcm\\u002fnxQD\\u002fG3LU2APJATYQNT9IG8kDnHafobQ3yQIC3QIIJFPJAjnVxG6Ua8kAoDwu1QCHyQMGopE7cJ\\u002fJAz2bV53cu8kBpAG+BEzXyQAKaCBuvO\\u002fJAnDOitEpC8kCq8dJN5kjyQESLbOeBT\\u002fJA3SQGgR1W8kDr4jYauVzyQIV80LNUY\\u002fJAHhZqTfBp8kAs1Jrmi3DyQMZtNIAnd\\u002fJAXwfOGcN98kD5oGezXoTyQAdfmEz6ivJAofgx5pWR8kA6kst\\u002fMZjyQEhQ\\u002fBjNnvJA4umVsmil8kB7gy9MBKzyQIlBYOWfsvJAI9v5fju58kC8dJMY17\\u002fyQFYOLbJyxvJAZMxdSw7N8kD+ZffkqdPyQJf\\u002fkH5F2vJApb3BF+Hg8kA\\u002fV1uxfOfyQNjw9EoY7vJA5q4l5LP08kCASL99T\\u002fvyQBniWBfrAfNAs3vysIYI80DBOSNKIg\\u002fzQFvTvOO9FfNA9GxWfVkc80ACK4cW9SLzQJzEILCQKfNANV66SSww80BDHOvixzbzQN21hHxjPfNAdk8eFv9D80AQ6bevmkrzQB6n6Eg2UfNAuECC4tFX80BR2ht8bV7zQF+YTBUJZfNA+THmrqRr80CSy39IQHLzQKCJsOHbePNAOiNKe3d\\u002f80DTvOMUE4bzQOF6FK6ujPNAexSuR0qT80AUrkfh5ZnzQK5H4XqBoPNAvAUSFB2n80BWn6utuK3zQO84RUdUtPNA\\u002ffZ14O+680CXkA96i8HzQDAqqRMnyPNAPujZrMLO80DYgXNGXtXzQHEbDeD52\\u002fNAC7WmeZXi80AZc9cSMenzQLMMcazM7\\u002fNATKYKRmj280BaZDvfA\\u002f3zQPT91HifA\\u002fRAjZduEjsK9ECbVZ+r1hD0QDXvOEVyF\\u002fRAzojS3g0e9EBoImx4qST0QHbgnBFFK\\u002fRAEHo2q+Ax9ECpE9BEfDj0QLfRAN4XP\\u002fRAUWuad7NF9EDqBDQRT0z0QPjCZKrqUvRAklz+Q4ZZ9EAr9pfdIWD0QMWPMXe9ZvRA001iEFlt9EBt5\\u002fup9HP0QAaBlUOQevRAFD\\u002fG3CuB9ECu2F92x4f0QEdy+Q9jjvRAVTAqqf6U9EDvycNCmpv0QIhjXdw1ovRAIv32ddGo9EAwuycPba\\u002f0QMpUwagItvRAY+5aQqS89EBxrIvbP8P0QAtGJXXbyfRApN++DnfQ9ECyne+nEtf0QEw3iUGu3fRA5dAi20nk9EB\\u002farx05er0QI0o7Q2B8fRAJ8KGpxz49EDAWyBBuP70QM4ZUdpTBfVAaLPqc+8L9UABTYQNixL1QA8LtaYmGfVAqaROQMIf9UBCPujZXSb1QNzXgXP5LPVA6pWyDJUz9UCDL0ymMDr1QB3J5T\\u002fMQPVAK4cW2WdH9UDFILByA071QF66SQyfVPVAbHh6pTpb9UAGEhQ\\u002f1mH1QJ+rrdhxaPVAOUVHcg1v9UBHA3gLqXX1QOCcEaVEfPVAejarPuCC9UCI9NvXe4n1QCKOdXEXkPVAuycPC7OW9UDJ5T+kTp31QGN\\u002f2T3qo\\u002fVA\\u002fBhz14Wq9UCWsgxxIbH1QKRwPQq9t\\u002fVAPQrXo1i+9UDXo3A99MT1QOVhodaPy\\u002fVAf\\u002fs6cCvS9UAYldQJx9j1QCZTBaNi3\\u002fVAwOyePP7l9UBZhjjWmez1QPMf0m818\\u002fVAAd4CCdH59UCad5yibAD2QDQRNjwIB\\u002fZAQs9m1aMN9kDcaABvPxT2QHUCmgjbGvZAg8DKoXYh9kAdWmQ7Eij2QLbz\\u002fdStLvZAUI2Xbkk19kBeS8gH5Tv2QPfkYaGAQvZAkX77OhxJ9kCfPCzUt0\\u002f2QDnWxW1TVvZA0m9fB+9c9kDgLZCgimP2QHrHKTomavZAE2HD08Fw9kCt+lxtXXf2QLu4jQb5ffZAVFInoJSE9kDu68A5MIv2QPyp8dLLkfZAlkOLbGeY9kAv3SQGA5\\u002f2QD2bVZ+epfZA1zTvODqs9kBwzojS1bL2QApoImxxufZAGCZTBQ3A9kCxv+yeqMb2QEtZhjhEzfZAWRe30d\\u002fT9kDysFBre9r2QIxK6gQX4fZAmggbnrLn9kA0orQ3Tu72QM07TtHp9PZAZ9XnaoX79kB1kxgEIQL3QA4tsp28CPdAqMZLN1gP90C2hHzQ8xX3QE8eFmqPHPdA6bevAysj90D3deCcxin3QJEPejZiMPdAKqkT0P0290DEQq1pmT33QNIA3gI1RPdAa5p3nNBK90AFNBE2bFH3QBPyQc8HWPdArIvbaKNe90BGJXUCP2X3QFTjpZvaa\\u002fdA7nw\\u002fNXZy90CHFtnOEXn3QCGwcmitf\\u002fdAL26jAUmG90DIBz2b5Iz3QGKh1jSAk\\u002fdAcF8Hzhua90AJ+aBnt6D3QKOSOgFTp\\u002fdAsVBrmu6t90BL6gQ0irT3QOSDns0lu\\u002fdAfh04Z8HB90CM22gAXcj3QCV1Apr4zvdAvw6cM5TV90DNzMzML9z3QGZmZmbL4vdAAAAAAGfp90AOvjCZAvD3QKhXyjKe9vdAQfFjzDn990Dbiv1l1QP4QOlILv9wCvhAguLHmAwR+EAcfGEyqBf4QCo6kstDHvhAw9MrZd8k+EBdbcX+eiv4QGsr9pcWMvhABcWPMbI4+ECeXinLTT\\u002f4QDj4wmTpRfhARrbz\\u002fYRM+EDfT42XIFP4QHnpJjG8WfhAh6dXyldg+EAgQfFj82b4QLraiv2ObfhAyJi7lip0+EBhMlUwxnr4QPvL7slhgfhAlWWIY\\u002f2H+ECjI7n8mI74QDy9UpY0lfhA1lbsL9Cb+EDkFB3Ja6L4QH2utmIHqfhAF0hQ\\u002fKKv+EAlBoGVPrb4QL6fGi\\u002favPhAWDm0yHXD+EDy0k1iEcr4QACRfvus0PhAmSoYlUjX+EAzxLEu5N34QEGC4sd\\u002f5PhA2ht8YRvr+EB0tRX7tvH4QIJzRpRS+PhAGw3gLe7++EC1pnnHiQX5QE9AE2ElDPlAXf5D+sAS+UD2l92TXBn5QJAxdy34H\\u002flAnu+nxpMm+UA3iUFgLy35QNEi2\\u002fnKM\\u002flA3+ALk2Y6+UB4eqUsAkH5QBIUP8adR\\u002flArK3YXzlO+UC6awn51FT5QFMFo5JwW\\u002flA7Z48LAxi+UD7XG3Fp2j5QJT2Bl9Db\\u002flALpCg+N51+UA8TtGRenz5QNXnaisWg\\u002flAb4EExbGJ+UAJG55eTZD5QBfZzvfolvlAsHJokYSd+UBKDAIrIKT5QFjKMsS7qvlA8WPMXVex+UCL\\u002fWX38rf5QJm7lpCOvvlAMlUwKirF+UDM7snDxcv5QGaIY11h0vlAdEaU9vzY+UAN4C2QmN\\u002f5QKd5xyk05vlAtTf4ws\\u002fs+UBO0ZFca\\u002fP5QOhqK\\u002fYG+vlA9ihcj6IA+kCPwvUoPgf6QClcj8LZDfpAw\\u002fUoXHUU+kDQs1n1EBv6QGpN846sIfpABOeMKEgo+kASpb3B4y76QKs+V1t\\u002fNfpARdjw9Bo8+kBTliGOtkL6QOwvuydSSfpAhslUwe1P+kAgY+5aiVb6QC0hH\\u002fQkXfpA\"},\"y\":{\"dtype\":\"f8\",\"bdata\":\"ttYnhUeRyz+lz3MxJbLQP4Hk31BBetM\\u002f3ev2uo9Q3j8hJ6RcXzXjP7ko92B+QeM\\u002fouwpD7AJ4D8B08KSIyHYP3j57WIJn9E\\u002fRULrurXB0D+gNYdbYb3SP62OK+Bt5tY\\u002fG9t4qGwf2D80iJL7G53aP33Au5jUMNg\\u002f5MxUOBF51D9LKyoFFQTRP1ga\\u002f0Dkd9A\\u002fcQi6\\u002fhR\\u002f0D+W1wRL9zDPP\\u002fu0c8GgV80\\u002fG15WTewP0D8m4jKHCSHQP5F3dj\\u002f0+9I\\u002fhnrIk+7v4j\\u002fJ+GAJYQ7yP5VS4OWiJ\\u002fI\\u002fQXZHG+0W7D\\u002fqxyzHJB3iP0O\\u002fbE3kdtk\\u002fYsDNloq10T+0p3BERdjXP5pH6fNK\\u002fOE\\u002fYYtLXBIk7D\\u002fr802JtcvwPxLwgnKYz+k\\u002ff4zgINiu4j\\u002fxGsvVGgjYP18tpOKJodQ\\u002fWHZ9dyeN0D9FD7q2OfzQP2xcod+CgdQ\\u002fx7yixCfj0j8eEh3XWuTTP1\\u002fjnyvnjdA\\u002f2jE0zdfm0j9CTEoU6V3TP6vPHsve+9g\\u002fkbw\\u002f0+Kf1T8qeb2umjXnP6wDA6HxGvc\\u002f8eT4BlFJAUB9EndLdWMAQABr+TyihPQ\\u002fMW5YxG3F4j+fJ3xvyu7XP+9h3d+H+dM\\u002f6JLgAvDV0D9fK\\u002fYxyW3RPyDYWm2i4s4\\u002fG8YAHCcn0D8lm05pPPfLP6wcqOyzZdE\\u002fXbk9ot3S0D+ghPlLTajSPyJZ+pJcMdA\\u002fgo8L2EhmzT8gKxy7sdXQP3g5qabOIdU\\u002fDSK5Zxmn1z8PpBaG3czfP3dX8r38i+E\\u002fFpC+DgkM4T9iU9VnQcbaP42AM9KyENI\\u002fZQewSvBX0j+Q0aABQyTQP1WuLRX82s8\\u002fp9o+Cd1Vzz+9dOY+FqbQP58kQ3p0q9A\\u002f4SktmPvs0z+L7Sqr9hvSPzOhYmr4ktQ\\u002fS+rKSC7+0j+riJ+yXijRPzWEYyoizNI\\u002fpubl23210z9X2rmZHPDVPzOdmFSsKtc\\u002fEm\\u002f4wmL13D\\u002f0CTfUpkjsPwwQ9WU1Mv0\\u002fGybNHuFOB0BGeYAPEyUJQAIAmq3cOQNA2\\u002fKP8j9Y8z8LWJPB9sDiP2P7UvlyJNY\\u002fDDoqHrdo0T+OmIANEVPNP26o1WVdy9I\\u002ffig2\\u002fZb90j+CMZ1DiLbeP3cEdNhPD+o\\u002f8CuyqxyS+D\\u002fqnR8CLKwAQC9VtFIP3P4\\u002f+gLInZtA9j87hhueUYXmP3k1lPSm5Ng\\u002f1xtpCled0z\\u002flSAFnl73MP6mPHb+PFM4\\u002fJfU0XUh90D8A0z8Uj3rPPzXfchxT4NI\\u002flKunXovm1j8vekdROYXgPwi2x8Ydvek\\u002fNuw5mISo7D88b+zLyQ3rPwP7ek9ebuU\\u002fWLy4RE2O2j+NvzsTrU3RP7UbmV87RtE\\u002fCIXFOppB0T\\u002fI9ziry9vNPxnN7ma2JtM\\u002ffu0bgW5J0D+YloYTccfQPzf7qWe\\u002fs9I\\u002fCitkxqdm0j93m8F1\\u002fbfRP8EU9R4DptI\\u002f7iW6L5Bq0z++ffojNKnTP9179XUiG9E\\u002f7eSJE0AY0T+meUwMo6vRP37Esuvrz9A\\u002f1kfftpYKzz\\u002fceq8\\u002fTGfRP7DoEVdExtM\\u002fHeiQfAXz0z9MLnPAUejTPy8X3hc5E9Q\\u002fVACtfese1z9gbTIW6jbiP36n3WGU4Ow\\u002fNQ9NWxX29D9wH31NwjX2PzTe9KiBDPQ\\u002fAFupdydU7D+9JwBgS7PhPw6sT7dj5tY\\u002feI29vqmw0T\\u002fq\\u002fZM7tUrQPxVblY+5xdA\\u002fG8xS+5km0T9ncS4fPdPRP6BdQhOSgtA\\u002fDXATLM+u0D9ZfJPsUnDQP18w1k4FQ88\\u002fSqGBeYQS0D\\u002fx+57D6wbQP6QsYIux4dA\\u002fnsgJhuLs0D+odgo6VVXRP5RDjRlgfdA\\u002fO70lS2kz0D+nHU0TWCnRP\\u002fsz79ViBM8\\u002foPLN30f1zz940upytA3RP0on7aobJdE\\u002fqylDVzY00D+BZvMXw4HQP1NgNQvO5NA\\u002fD5vkiPF00D9jzx0FAV3QP+3CjrYky9I\\u002fORwMN7kC0z\\u002fbDrkmczjVP2kBtX0t3do\\u002fGlP8NQWJ5T8JbJ+2t3TwP9O8o1BaAPM\\u002f4aSs7H5x8z9qAAloyT7tPxY5vpvjbeY\\u002fXOkV1rMJ4D\\u002fQmJHcoEPXP+hQ1B0WBtM\\u002f1a6lStkK0z99m\\u002fhRw9LQP1M3GxvNftA\\u002fSeDXDQS50D+ESR1ICQHQP6qPEuxm788\\u002fQIgJgy+C0D\\u002ft5T9YITPOP+1jAnS\\u002f4c0\\u002fbnLaS+G90D+tHKjzsq\\u002fOP0+W3QHG+NA\\u002fOVvYIdnn0D\\u002fjvPmipWLQPxXOMGnRO88\\u002fzC\\u002fbnmdA0T9ozYUm4m7QP1PuXljy584\\u002fq3j\\u002fXRR30D+dqhlr+ezPPz0a6um6ns8\\u002fgZusNG+Wzz8xUk8wsonQP6hcNCAIkM4\\u002fZM\\u002fUwp9Czj8vK5352rfQPzyecusJ388\\u002fsK3P4Hka0D+olw55GS3TP4FIRF2AJNU\\u002fk5MuIO\\u002fv2T+VRt23Z3DbP1S7mazSP9w\\u002fY6lO9Iir2T++ppuz6V\\u002fZP8ybA+v1ReA\\u002fJy5ENYDm6D+d5Y7UTCL3PyeHYH7wuQNA6e\\u002fpJYIDCUAQURTWD28JQDCkMY3+YANA422m5oVH9z\\u002fYoVJJ8w7qP3RAUDRVcN4\\u002fT7Kt8qik1j+MtOZDoIjSP9t3PHy7PNA\\u002f+ue2za+jzj8ag5hp3zXQP850Vep5DM8\\u002fOk66Vhc+0D+ljzTAa67PP0RQESwpks0\\u002fdJ3SZmVT0D8ZLdLPqxfOPwcFTN0J9NA\\u002f1Ms9Ryu\\u002fzz\\u002fFxrSQgYfQP7HJ3VecBdI\\u002f85Md4+iD0j8dQuRH\\u002fmDZP55qTOiem98\\u002f71f1JIZN7D8I5JmNNm38P\\u002fzvRqEHtAtA6NCfRHSEFkBasrxk0ukaQEc6tElcyxhAhq9duQdfEUCUSUHS0ZIDQAOUcz\\u002f0m\\u002fQ\\u002fyWKhZwqL5j9So\\u002fHtxr3dP7cGRxCM6NM\\u002fyM0GBoaF0T+NedhSS9zQPzTqCznvbdA\\u002fjYuyEi9Nzj\\u002fqBCkl22XOP4XzLROqqc0\\u002f4czCVrlxzj\\u002fxlqPnzWzPP6Y2m5e9JM8\\u002fpwbmg4i5zj+bX+URgfzOP4xVKwcghc0\\u002fp\\u002foG8g34zz9MZQiZLYnQP0vVIS3Kfc4\\u002fWNdcc\\u002fdY0D+TTF4u4OrPP9lLHKcQANA\\u002fPf9enqYP0D+UVllPXV3SP+dw\\u002fnMc4NQ\\u002fTB800\\u002fmv3T8Qz5Ndjt\\u002fkP6mz0rpUqOs\\u002fttH7\\u002foKF7z84DFok\\u002fs\\u002frP4Xs24t7a+Q\\u002fJ0VG1Iyn3D8vgabGhljWP3SbMO0ByNQ\\u002fznUqwpRc1D+RRaQUf5HVP1xv2XSjbtc\\u002f5bwqb6sc2D\\u002f3mx71rMzWP0ixGdrkf9M\\u002fv3guLc710D+jnNTT8ujQP0EqPUFdDM4\\u002fZRFim5Bt0D98WnYsFzbPP7kCE+NvbdA\\u002fvQy1tbebzT+p2Y+mvZvOP2Ty9JFxONA\\u002fxH1DlNbTzj+\\u002fBjPSkT\\u002fOP1VBd+w91M4\\u002f9o6yKL3jzj\\u002fepSkoCb3NP98cxyXgOs4\\u002fuAf1vOhyzz8hTgWzkoLNP8yMqc3wWs4\\u002fliqcewl3zz\\u002fJqxDtoTjPP57R4j+Bac4\\u002fnrn3Hnfazj9FMoG+HDXOP0QESFTrKdA\\u002fN1FudZ05zj\\u002fVz46QWKbPP4S0+9dRZc4\\u002fIfJp+GNtzj\\u002fKLJmlbYfPPyYhBxWG9c0\\u002fP3Rt3SUTzz8A6EhjY9rOP09kB5yTG88\\u002fV\\u002fKK841ozz\\u002f+bl53iH\\u002fPPynsKLFbCtA\\u002f2TQoidbFzT+ReHqQH1zOP8ErjXCiF84\\u002fIECLNau0zj8yu1mH72DPP33O1BfxLM4\\u002fHfoxDCbIzz+vVn2T\\u002foLQP598Ri5SLc4\\u002fBX6QR8qOzj\\u002fyWsaGO27OP2GOllLExc0\\u002fM065IaQQ0D91vwB2J9nOP7kzPMcqMs8\\u002fTb2axNjEzj9cNKeIB93OP+6UZ5\\u002fSIc8\\u002fmGcGDC4p0D8WX1zydnbQP+KK63xxldM\\u002f8hkLgSXm0z98CYIvUejVP+G\\u002fB+IB0dc\\u002fh6KokO1L2D\\u002fhpKkC6JXaP4AbEnH72eE\\u002fzb5Ex4ua6j85v+5iWpP3P74lr3H+7QVA\\u002f4ybrCMsFEDo1mVQsRUgQAfuPfqkgSRAzVG6NFi3JEB6Ub4tdHcgQJtefhRkHxZAJ2oPHnisCUB1Til+1bL8Pz9QVOf0oPA\\u002fIQZGHaP05T9Jl85+NNzdP1psD4L\\u002fjNY\\u002f6fhwer1d0z8WmGMKv0DSP53+s1fqjM8\\u002fpq9sGTHyzT\\u002fpOnkptGzPP7UGLstOKc4\\u002fqiVqe8opzT+p1V8wYa7OP1PtxIPxos8\\u002flRUmyPPzzz+x2NGW1+jNP4kEcwSaS88\\u002ftSIb2Tsczj8SUBFjcH\\u002fOPy9xDu8Mtc0\\u002fAd\\u002f2nE6Xzj99KGV77QXOP0Z8nEfBDs4\\u002fR4WpWYOBzz\\u002fkLIfrS8zOP9AQ6TNuts4\\u002f00LouytKzT+2F8vmlF\\u002fPP9iafepKVs4\\u002fjzdMhovSzj9opJdLhVDOP8nEaLVRLM8\\u002fWYFHsYAwzz\\u002fwzbi0QE\\u002fOPyhaM8fRAdA\\u002feF+Shx9zzz\\u002fDu4w0UdjPP4hY0xy5pc8\\u002f4DO9zJq6zj+mKItDKqDOP6ze0bfhnc4\\u002f3x8cXf\\u002f3zz\\u002fhI8sy0GfOP8MbqV6zhc0\\u002f0IOY9ZU\\u002fzD9yfFJbq13NPyRSiP2h\\u002fc4\\u002f\\u002fj8wBOfGzj9fcByDw4rNP8r3Z+Jsw84\\u002f4EpHsTMMzT\\u002fLXDNqsB3PPwMF7dKLEM4\\u002f1W46AClGzj9PEmt49OvNPw0gU5OcYM4\\u002fo2lav4DAzj\\u002fT2MFw66fNPw2L1c9gf8w\\u002fj7+56KSSzj833eAqPlbOP8fKEqxPis0\\u002fSkbIHHnjzj90MTtG1GvPP0SnFlkCZc4\\u002fTjoQgLgrzz8KcbffO8\\u002fNP7z+uAzJ7M0\\u002fYJHv+JVpzj+b+FP5DKfOPzQJZCBjVM4\\u002fva+H\\u002f6oXzj8RFlbUB9HOP0AiqB3unM4\\u002fgKRvCNpczz872psJZm3OP1HzAsLyv80\\u002fPUKPrtcZzz9URrOJb07PP1LYYXB1+M0\\u002fGXOurQzDzj\\u002f6CGYb+ljOP7ygN\\u002fItOc4\\u002fo5l\\u002fPl7Mzj+tVYKvO6vNPw334lhpLs8\\u002fGCD1jmSYzj\\u002fnrVYZsULOP0h9FWPO2c4\\u002fdthtvxxTzj+MBiXUlRzQP1+hx6H\\u002f6s0\\u002fRM9s+c01zz\\u002fwJYyQE5DOP2z6rBRvbs4\\u002fmAw+ZE1LzT8K8A\\u002fNYTLPP\\u002fh0x+\\u002fzZ84\\u002fkpEi1rZ1zj9nI+2AMzrOP7oqdlaNHM8\\u002fqqRH+oEgzT9PRSpSY4nOP8OOscRCMs8\\u002fClq5\\u002fPRnzz8kwkZFioXRPyi5i2NLudM\\u002fpWogg1n91j9RcXWdaQbbP3yRHOZTHeE\\u002fHSIN0P1\\u002f5D+cDJr9tBDqPz0ZOZg6VvA\\u002fT0UymscA8z\\u002flb2MzTzX0P42xjoHSLfM\\u002fz3\\u002f57AdB8D9axUrvvyXpP7IWvsxO+OM\\u002fUqXgzOE23z8+k+H\\u002fiKrZP7AhmpSfENY\\u002friquTDbP0z+vbweku4rRPxSeCb0um9A\\u002fvs\\u002fz7yZEzj9Dvx8eYaLPPwHSSDCrN84\\u002fXoUuV\\u002fcFzj9duAeyS9PNPwDzo3jGVM4\\u002fdG2zWJ4L0D+KHKNOU2LOP\\u002fcyyMZfSdA\\u002fiS84sNmg0D+2X9fwu2XRPxMOR6cQotI\\u002f4qKhFYZd1D88JdTJE4zWP0dZEG7yG9k\\u002fJxOxg+XZ2j8W41RuWwzcP8lHUYcrbdw\\u002f1m5yEiD73D+uYgy+W2vZP1qvi9KScdY\\u002f3GIeW8xK1D+aUxWZ46PSP2Wj3e8zK9E\\u002fh2Umed7y0D+PZ3\\u002fc6x7QP5wcf+Vql84\\u002frP+4\\u002f7JCzj9HrOpcFYnNP8aajQ1Wicw\\u002fokCmQQH2zT\\u002fF3+bpX8\\u002fNP9uzjNUuwMw\\u002fDczOsJW8zj92mLNslJ7LP2o2Y+v8Fs4\\u002fYJgAe23gzD8gLc9ebWbNP7VBgYq2gs0\\u002flZhz3+SAzj98sgIYGQjMP37GrvdCnc0\\u002fpgihw6YdzT8nontc7LfNPz8OYpuY9c0\\u002fOJYZFFx7zT\\u002flQFxrqEjNP790baCk4sw\\u002fxd6ccnaZzT9x9v8C02bNPyFWKhKFS80\\u002fRMvvZtaRzj+uQ5E14uXNP6NNG5eoqsw\\u002fFHXE+YymzT+\\u002flGwQypTNPwzqalJNn8w\\u002f0382muNPzT8tbXY+AIjNP0zp4A2zaM0\\u002fTCFRqepAzT\\u002fqPhXvCw\\u002fPP53Cru8ruc0\\u002fqm8fpv72zD\\u002fuB+VHMprNPxfUTAxWb80\\u002fRNmEJi8Xzj8CLesBlVjNP1hGLsA\\u002ff84\\u002fufwoyu\\u002f2zj91O0IOgcLNP80pJL7cG88\\u002fHDvNEFUI0D\\u002fWI5HCtSTPP7SJBSXf\\u002fc0\\u002fIM+ED02jzj\\u002fLa28lmyDPP\\u002fRM6gf3Y84\\u002fvMApgj7bzj\\u002fCywKfQuXNP7FQONd88s0\\u002fKrHV1x\\u002fLzT\\u002fpYM3PcEXMP46N+7+hH8w\\u002fhtwJVLhbzT9Mjr0+nJPNP36t9ObMZs0\\u002fi3tmLEN3zT\\u002fWW\\u002frNk4HOP4vSk05M5c0\\u002fDdSh061bzD\\u002fwKYJdOW7LP5KzoE42GM0\\u002fWOlL+hUTzD9yBbCeg2HNP36ob9MoV80\\u002fKUJzcFJXzT8ZftDE61vLP\\u002fMhgOBBx8w\\u002feKXGULTazD\\u002f1G99iYmrMP3YeF5I1osw\\u002fqWDtbLBVzj+WsQWr1SXMP5nl9mjBzcw\\u002fzhVHkH7Jyz\\u002frQbTgfDXNP\\u002fG\\u002fgEt42ss\\u002fqfWYILrzyz9v59MWgfjKP57Yq2UuJs0\\u002f2HVPQQ+9zT+7pzy8Ia\\u002fMP8JbK27mCcw\\u002fteA1l8zvyz\\u002fORSjgsTzNP2QQgAqMX8w\\u002fWK8LuDC\\u002fzD92f3DmCy\\u002fMP\\u002fO9PhRXFM0\\u002fihB98SeFzz8xiN4bn1LMP5Y3u22urcw\\u002fojhYxGDhzD9IjyPW04vMPwYl7urhHMw\\u002f9LZqZowGzT9kdn2epTHLPzkAxPKzdcs\\u002f\"},\"type\":\"scatter\"}],                        {\"legend\":{\"x\":1.0,\"xanchor\":\"right\",\"y\":1.0,\"yanchor\":\"top\"},\"margin\":{\"autoexpand\":true,\"b\":45,\"r\":30,\"t\":40},\"title\":{\"text\":\"Measured data for experiment \\ud83d\\udd2c 'mcstas'\"},\"xaxis\":{\"mirror\":true,\"showline\":true,\"title\":{\"text\":\"TOF (\\u00b5s)\"},\"zeroline\":false,\"tickformat\":\",.6~g\",\"separatethousands\":true},\"yaxis\":{\"mirror\":true,\"showline\":true,\"title\":{\"text\":\"Intensity (arb. units)\"},\"zeroline\":false,\"tickformat\":\",.6~g\",\"separatethousands\":true},\"template\":{\"data\":{\"histogram2dcontour\":[{\"type\":\"histogram2dcontour\",\"colorbar\":{\"outlinewidth\":0,\"ticks\":\"\"},\"colorscale\":[[0.0,\"#0d0887\"],[0.1111111111111111,\"#46039f\"],[0.2222222222222222,\"#7201a8\"],[0.3333333333333333,\"#9c179e\"],[0.4444444444444444,\"#bd3786\"],[0.5555555555555556,\"#d8576b\"],[0.6666666666666666,\"#ed7953\"],[0.7777777777777778,\"#fb9f3a\"],[0.8888888888888888,\"#fdca26\"],[1.0,\"#f0f921\"]]}],\"choropleth\":[{\"type\":\"choropleth\",\"colorbar\":{\"outlinewidth\":0,\"ticks\":\"\"}}],\"histogram2d\":[{\"type\":\"histogram2d\",\"colorbar\":{\"outlinewidth\":0,\"ticks\":\"\"},\"colorscale\":[[0.0,\"#0d0887\"],[0.1111111111111111,\"#46039f\"],[0.2222222222222222,\"#7201a8\"],[0.3333333333333333,\"#9c179e\"],[0.4444444444444444,\"#bd3786\"],[0.5555555555555556,\"#d8576b\"],[0.6666666666666666,\"#ed7953\"],[0.7777777777777778,\"#fb9f3a\"],[0.8888888888888888,\"#fdca26\"],[1.0,\"#f0f921\"]]}],\"heatmap\":[{\"type\":\"heatmap\",\"colorbar\":{\"outlinewidth\":0,\"ticks\":\"\"},\"colorscale\":[[0.0,\"#0d0887\"],[0.1111111111111111,\"#46039f\"],[0.2222222222222222,\"#7201a8\"],[0.3333333333333333,\"#9c179e\"],[0.4444444444444444,\"#bd3786\"],[0.5555555555555556,\"#d8576b\"],[0.6666666666666666,\"#ed7953\"],[0.7777777777777778,\"#fb9f3a\"],[0.8888888888888888,\"#fdca26\"],[1.0,\"#f0f921\"]]}],\"contourcarpet\":[{\"type\":\"contourcarpet\",\"colorbar\":{\"outlinewidth\":0,\"ticks\":\"\"}}],\"contour\":[{\"type\":\"contour\",\"colorbar\":{\"outlinewidth\":0,\"ticks\":\"\"},\"colorscale\":[[0.0,\"#0d0887\"],[0.1111111111111111,\"#46039f\"],[0.2222222222222222,\"#7201a8\"],[0.3333333333333333,\"#9c179e\"],[0.4444444444444444,\"#bd3786\"],[0.5555555555555556,\"#d8576b\"],[0.6666666666666666,\"#ed7953\"],[0.7777777777777778,\"#fb9f3a\"],[0.8888888888888888,\"#fdca26\"],[1.0,\"#f0f921\"]]}],\"surface\":[{\"type\":\"surface\",\"colorbar\":{\"outlinewidth\":0,\"ticks\":\"\"},\"colorscale\":[[0.0,\"#0d0887\"],[0.1111111111111111,\"#46039f\"],[0.2222222222222222,\"#7201a8\"],[0.3333333333333333,\"#9c179e\"],[0.4444444444444444,\"#bd3786\"],[0.5555555555555556,\"#d8576b\"],[0.6666666666666666,\"#ed7953\"],[0.7777777777777778,\"#fb9f3a\"],[0.8888888888888888,\"#fdca26\"],[1.0,\"#f0f921\"]]}],\"mesh3d\":[{\"type\":\"mesh3d\",\"colorbar\":{\"outlinewidth\":0,\"ticks\":\"\"}}],\"scatter\":[{\"fillpattern\":{\"fillmode\":\"overlay\",\"size\":10,\"solidity\":0.2},\"type\":\"scatter\"}],\"parcoords\":[{\"type\":\"parcoords\",\"line\":{\"colorbar\":{\"outlinewidth\":0,\"ticks\":\"\"}}}],\"scatterpolargl\":[{\"type\":\"scatterpolargl\",\"marker\":{\"colorbar\":{\"outlinewidth\":0,\"ticks\":\"\"}}}],\"bar\":[{\"error_x\":{\"color\":\"#2a3f5f\"},\"error_y\":{\"color\":\"#2a3f5f\"},\"marker\":{\"line\":{\"color\":\"white\",\"width\":0.5},\"pattern\":{\"fillmode\":\"overlay\",\"size\":10,\"solidity\":0.2}},\"type\":\"bar\"}],\"scattergeo\":[{\"type\":\"scattergeo\",\"marker\":{\"colorbar\":{\"outlinewidth\":0,\"ticks\":\"\"}}}],\"scatterpolar\":[{\"type\":\"scatterpolar\",\"marker\":{\"colorbar\":{\"outlinewidth\":0,\"ticks\":\"\"}}}],\"histogram\":[{\"marker\":{\"pattern\":{\"fillmode\":\"overlay\",\"size\":10,\"solidity\":0.2}},\"type\":\"histogram\"}],\"scattergl\":[{\"type\":\"scattergl\",\"marker\":{\"colorbar\":{\"outlinewidth\":0,\"ticks\":\"\"}}}],\"scatter3d\":[{\"type\":\"scatter3d\",\"line\":{\"colorbar\":{\"outlinewidth\":0,\"ticks\":\"\"}},\"marker\":{\"colorbar\":{\"outlinewidth\":0,\"ticks\":\"\"}}}],\"scattermap\":[{\"type\":\"scattermap\",\"marker\":{\"colorbar\":{\"outlinewidth\":0,\"ticks\":\"\"}}}],\"scattermapbox\":[{\"type\":\"scattermapbox\",\"marker\":{\"colorbar\":{\"outlinewidth\":0,\"ticks\":\"\"}}}],\"scatterternary\":[{\"type\":\"scatterternary\",\"marker\":{\"colorbar\":{\"outlinewidth\":0,\"ticks\":\"\"}}}],\"scattercarpet\":[{\"type\":\"scattercarpet\",\"marker\":{\"colorbar\":{\"outlinewidth\":0,\"ticks\":\"\"}}}],\"carpet\":[{\"aaxis\":{\"endlinecolor\":\"#2a3f5f\",\"gridcolor\":\"#C8D4E3\",\"linecolor\":\"#C8D4E3\",\"minorgridcolor\":\"#C8D4E3\",\"startlinecolor\":\"#2a3f5f\"},\"baxis\":{\"endlinecolor\":\"#2a3f5f\",\"gridcolor\":\"#C8D4E3\",\"linecolor\":\"#C8D4E3\",\"minorgridcolor\":\"#C8D4E3\",\"startlinecolor\":\"#2a3f5f\"},\"type\":\"carpet\"}],\"table\":[{\"cells\":{\"fill\":{\"color\":\"#EBF0F8\"},\"line\":{\"color\":\"white\"}},\"header\":{\"fill\":{\"color\":\"#C8D4E3\"},\"line\":{\"color\":\"white\"}},\"type\":\"table\"}],\"barpolar\":[{\"marker\":{\"line\":{\"color\":\"white\",\"width\":0.5},\"pattern\":{\"fillmode\":\"overlay\",\"size\":10,\"solidity\":0.2}},\"type\":\"barpolar\"}],\"pie\":[{\"automargin\":true,\"type\":\"pie\"}]},\"layout\":{\"autotypenumbers\":\"strict\",\"colorway\":[\"#636efa\",\"#EF553B\",\"#00cc96\",\"#ab63fa\",\"#FFA15A\",\"#19d3f3\",\"#FF6692\",\"#B6E880\",\"#FF97FF\",\"#FECB52\"],\"font\":{\"color\":\"#2a3f5f\"},\"hovermode\":\"closest\",\"hoverlabel\":{\"align\":\"left\"},\"paper_bgcolor\":\"white\",\"plot_bgcolor\":\"white\",\"polar\":{\"bgcolor\":\"white\",\"angularaxis\":{\"gridcolor\":\"#EBF0F8\",\"linecolor\":\"#EBF0F8\",\"ticks\":\"\"},\"radialaxis\":{\"gridcolor\":\"#EBF0F8\",\"linecolor\":\"#EBF0F8\",\"ticks\":\"\"}},\"ternary\":{\"bgcolor\":\"white\",\"aaxis\":{\"gridcolor\":\"#DFE8F3\",\"linecolor\":\"#A2B1C6\",\"ticks\":\"\"},\"baxis\":{\"gridcolor\":\"#DFE8F3\",\"linecolor\":\"#A2B1C6\",\"ticks\":\"\"},\"caxis\":{\"gridcolor\":\"#DFE8F3\",\"linecolor\":\"#A2B1C6\",\"ticks\":\"\"}},\"coloraxis\":{\"colorbar\":{\"outlinewidth\":0,\"ticks\":\"\"}},\"colorscale\":{\"sequential\":[[0.0,\"#0d0887\"],[0.1111111111111111,\"#46039f\"],[0.2222222222222222,\"#7201a8\"],[0.3333333333333333,\"#9c179e\"],[0.4444444444444444,\"#bd3786\"],[0.5555555555555556,\"#d8576b\"],[0.6666666666666666,\"#ed7953\"],[0.7777777777777778,\"#fb9f3a\"],[0.8888888888888888,\"#fdca26\"],[1.0,\"#f0f921\"]],\"sequentialminus\":[[0.0,\"#0d0887\"],[0.1111111111111111,\"#46039f\"],[0.2222222222222222,\"#7201a8\"],[0.3333333333333333,\"#9c179e\"],[0.4444444444444444,\"#bd3786\"],[0.5555555555555556,\"#d8576b\"],[0.6666666666666666,\"#ed7953\"],[0.7777777777777778,\"#fb9f3a\"],[0.8888888888888888,\"#fdca26\"],[1.0,\"#f0f921\"]],\"diverging\":[[0,\"#8e0152\"],[0.1,\"#c51b7d\"],[0.2,\"#de77ae\"],[0.3,\"#f1b6da\"],[0.4,\"#fde0ef\"],[0.5,\"#f7f7f7\"],[0.6,\"#e6f5d0\"],[0.7,\"#b8e186\"],[0.8,\"#7fbc41\"],[0.9,\"#4d9221\"],[1,\"#276419\"]]},\"xaxis\":{\"gridcolor\":\"#EBF0F8\",\"linecolor\":\"#EBF0F8\",\"ticks\":\"\",\"title\":{\"standoff\":15},\"zerolinecolor\":\"#EBF0F8\",\"automargin\":true,\"zerolinewidth\":2},\"yaxis\":{\"gridcolor\":\"#EBF0F8\",\"linecolor\":\"#EBF0F8\",\"ticks\":\"\",\"title\":{\"standoff\":15},\"zerolinecolor\":\"#EBF0F8\",\"automargin\":true,\"zerolinewidth\":2},\"scene\":{\"xaxis\":{\"backgroundcolor\":\"white\",\"gridcolor\":\"#DFE8F3\",\"linecolor\":\"#EBF0F8\",\"showbackground\":true,\"ticks\":\"\",\"zerolinecolor\":\"#EBF0F8\",\"gridwidth\":2},\"yaxis\":{\"backgroundcolor\":\"white\",\"gridcolor\":\"#DFE8F3\",\"linecolor\":\"#EBF0F8\",\"showbackground\":true,\"ticks\":\"\",\"zerolinecolor\":\"#EBF0F8\",\"gridwidth\":2},\"zaxis\":{\"backgroundcolor\":\"white\",\"gridcolor\":\"#DFE8F3\",\"linecolor\":\"#EBF0F8\",\"showbackground\":true,\"ticks\":\"\",\"zerolinecolor\":\"#EBF0F8\",\"gridwidth\":2}},\"shapedefaults\":{\"line\":{\"color\":\"#2a3f5f\"}},\"annotationdefaults\":{\"arrowcolor\":\"#2a3f5f\",\"arrowhead\":0,\"arrowwidth\":1},\"geo\":{\"bgcolor\":\"white\",\"landcolor\":\"white\",\"subunitcolor\":\"#C8D4E3\",\"showland\":true,\"showlakes\":true,\"lakecolor\":\"white\"},\"title\":{\"x\":0.05},\"mapbox\":{\"style\":\"light\"}}}},                        {\"displaylogo\": false, \"modeBarButtonsToRemove\": [\"select2d\", \"lasso2d\", \"zoomIn2d\", \"zoomOut2d\", \"autoScale2d\"], \"responsive\": true}                    )                };            </script>        </div>"
      ],
      "text/plain": [
       "<IPython.core.display.HTML object>"
      ]
     },
     "metadata": {},
     "output_type": "display_data"
    }
   ],
   "source": [
    "project.plot_meas(expt_name='mcstas')"
   ]
  },
  {
   "cell_type": "markdown",
   "id": "52",
   "metadata": {},
   "source": [
    "Show experiment as CIF."
   ]
  },
  {
   "cell_type": "code",
   "execution_count": 27,
   "id": "53",
   "metadata": {
    "execution": {
     "iopub.execute_input": "2025-08-30T21:30:05.688527Z",
     "iopub.status.busy": "2025-08-30T21:30:05.688364Z",
     "iopub.status.idle": "2025-08-30T21:30:05.698121Z",
     "shell.execute_reply": "2025-08-30T21:30:05.697650Z"
    }
   },
   "outputs": [
    {
     "name": "stdout",
     "output_type": "stream",
     "text": [
      "\n",
      "\u001b[94m\u001b[1mExperiment 🔬 \u001b[0m'mcstas'\u001b[94m\u001b[1m as cif\u001b[0m\n"
     ]
    },
    {
     "data": {
      "text/html": [
       "<table class=\"dataframe\" style=\"border-collapse: collapse; border: 1px solid #515155; margin-left: 0.5em;margin-top: 0.5em;margin-bottom: 1em;\">\n",
       "  <tbody>\n",
       "    <tr>\n",
       "      <td><div style=\"text-align: left;\">data_mcstas</div></td>\n",
       "    </tr>\n",
       "    <tr>\n",
       "      <td><div style=\"text-align: left;\">&nbsp;</div></td>\n",
       "    </tr>\n",
       "    <tr>\n",
       "      <td><div style=\"text-align: left;\">_expt_type.beam_mode  time-of-flight</div></td>\n",
       "    </tr>\n",
       "    <tr>\n",
       "      <td><div style=\"text-align: left;\">_expt_type.radiation_probe  neutron</div></td>\n",
       "    </tr>\n",
       "    <tr>\n",
       "      <td><div style=\"text-align: left;\">_expt_type.sample_form  powder</div></td>\n",
       "    </tr>\n",
       "    <tr>\n",
       "      <td><div style=\"text-align: left;\">_expt_type.scattering_type  bragg</div></td>\n",
       "    </tr>\n",
       "    <tr>\n",
       "      <td><div style=\"text-align: left;\">&nbsp;</div></td>\n",
       "    </tr>\n",
       "    <tr>\n",
       "      <td><div style=\"text-align: left;\">_instr.d_to_tof_linear  58724.76869981215</div></td>\n",
       "    </tr>\n",
       "    <tr>\n",
       "      <td><div style=\"text-align: left;\">_instr.d_to_tof_offset  0.0</div></td>\n",
       "    </tr>\n",
       "    <tr>\n",
       "      <td><div style=\"text-align: left;\">_instr.d_to_tof_quad  -1e-05</div></td>\n",
       "    </tr>\n",
       "    <tr>\n",
       "      <td><div style=\"text-align: left;\">_instr.d_to_tof_recip  0.0</div></td>\n",
       "    </tr>\n",
       "    <tr>\n",
       "      <td><div style=\"text-align: left;\">_instr.2theta_bank  94.90931761529106</div></td>\n",
       "    </tr>\n",
       "    <tr>\n",
       "      <td><div style=\"text-align: left;\">&nbsp;</div></td>\n",
       "    </tr>\n",
       "    <tr>\n",
       "      <td><div style=\"text-align: left;\">_peak.asym_alpha_0  0</div></td>\n",
       "    </tr>\n",
       "    <tr>\n",
       "      <td><div style=\"text-align: left;\">_peak.asym_alpha_1  0.0097</div></td>\n",
       "    </tr>\n",
       "    <tr>\n",
       "      <td><div style=\"text-align: left;\">_peak.gauss_sigma_0  45137</div></td>\n",
       "    </tr>\n",
       "    <tr>\n",
       "      <td><div style=\"text-align: left;\">_peak.gauss_sigma_1  -52394</div></td>\n",
       "    </tr>\n",
       "    <tr>\n",
       "      <td><div style=\"text-align: left;\">_peak.gauss_sigma_2  22998</div></td>\n",
       "    </tr>\n",
       "    <tr>\n",
       "      <td><div style=\"text-align: left;\">_peak.lorentz_gamma_0  0.0</div></td>\n",
       "    </tr>\n",
       "    <tr>\n",
       "      <td><div style=\"text-align: left;\">_peak.lorentz_gamma_1  0.0</div></td>\n",
       "    </tr>\n",
       "    <tr>\n",
       "      <td><div style=\"text-align: left;\">_peak.lorentz_gamma_2  0.0</div></td>\n",
       "    </tr>\n",
       "    <tr>\n",
       "      <td><div style=\"text-align: left;\">_peak.mix_beta_0  0.0055</div></td>\n",
       "    </tr>\n",
       "    <tr>\n",
       "      <td><div style=\"text-align: left;\">_peak.mix_beta_1  0.0041</div></td>\n",
       "    </tr>\n",
       "    <tr>\n",
       "      <td><div style=\"text-align: left;\">&nbsp;</div></td>\n",
       "    </tr>\n",
       "    <tr>\n",
       "      <td><div style=\"text-align: left;\">loop_</div></td>\n",
       "    </tr>\n",
       "    <tr>\n",
       "      <td><div style=\"text-align: left;\">_pd_phase_block.id</div></td>\n",
       "    </tr>\n",
       "    <tr>\n",
       "      <td><div style=\"text-align: left;\">_pd_phase_block.scale</div></td>\n",
       "    </tr>\n",
       "    <tr>\n",
       "      <td><div style=\"text-align: left;\">lbco 4.0</div></td>\n",
       "    </tr>\n",
       "    <tr>\n",
       "      <td><div style=\"text-align: left;\">si 0.2</div></td>\n",
       "    </tr>\n",
       "    <tr>\n",
       "      <td><div style=\"text-align: left;\">&nbsp;</div></td>\n",
       "    </tr>\n",
       "    <tr>\n",
       "      <td><div style=\"text-align: left;\">loop_</div></td>\n",
       "    </tr>\n",
       "    <tr>\n",
       "      <td><div style=\"text-align: left;\">_pd_background.line_segment_X</div></td>\n",
       "    </tr>\n",
       "    <tr>\n",
       "      <td><div style=\"text-align: left;\">_pd_background.line_segment_intensity</div></td>\n",
       "    </tr>\n",
       "    <tr>\n",
       "      <td><div style=\"text-align: left;\">45000 0.2</div></td>\n",
       "    </tr>\n",
       "    <tr>\n",
       "      <td><div style=\"text-align: left;\">50000 0.2</div></td>\n",
       "    </tr>\n",
       "    <tr>\n",
       "      <td><div style=\"text-align: left;\">55000 0.2</div></td>\n",
       "    </tr>\n",
       "    <tr>\n",
       "      <td><div style=\"text-align: left;\">65000 0.2</div></td>\n",
       "    </tr>\n",
       "    <tr>\n",
       "      <td><div style=\"text-align: left;\">70000 0.2</div></td>\n",
       "    </tr>\n",
       "    <tr>\n",
       "      <td><div style=\"text-align: left;\">75000 0.2</div></td>\n",
       "    </tr>\n",
       "    <tr>\n",
       "      <td><div style=\"text-align: left;\">80000 0.2</div></td>\n",
       "    </tr>\n",
       "    <tr>\n",
       "      <td><div style=\"text-align: left;\">85000 0.2</div></td>\n",
       "    </tr>\n",
       "    <tr>\n",
       "      <td><div style=\"text-align: left;\">90000 0.2</div></td>\n",
       "    </tr>\n",
       "    <tr>\n",
       "      <td><div style=\"text-align: left;\">95000 0.2</div></td>\n",
       "    </tr>\n",
       "    <tr>\n",
       "      <td><div style=\"text-align: left;\">100000 0.2</div></td>\n",
       "    </tr>\n",
       "    <tr>\n",
       "      <td><div style=\"text-align: left;\">105000 0.2</div></td>\n",
       "    </tr>\n",
       "    <tr>\n",
       "      <td><div style=\"text-align: left;\">110000 0.2</div></td>\n",
       "    </tr>\n",
       "    <tr>\n",
       "      <td><div style=\"text-align: left;\">&nbsp;</div></td>\n",
       "    </tr>\n",
       "    <tr>\n",
       "      <td><div style=\"text-align: left;\">loop_</div></td>\n",
       "    </tr>\n",
       "    <tr>\n",
       "      <td><div style=\"text-align: left;\">_excluded_region.end</div></td>\n",
       "    </tr>\n",
       "    <tr>\n",
       "      <td><div style=\"text-align: left;\">_excluded_region.start</div></td>\n",
       "    </tr>\n",
       "    <tr>\n",
       "      <td><div style=\"text-align: left;\">40000 0</div></td>\n",
       "    </tr>\n",
       "    <tr>\n",
       "      <td><div style=\"text-align: left;\">200000 108000</div></td>\n",
       "    </tr>\n",
       "    <tr>\n",
       "      <td><div style=\"text-align: left;\">&nbsp;</div></td>\n",
       "    </tr>\n",
       "    <tr>\n",
       "      <td><div style=\"text-align: left;\">loop_</div></td>\n",
       "    </tr>\n",
       "    <tr>\n",
       "      <td><div style=\"text-align: left;\">_pd_meas.2theta_scan</div></td>\n",
       "    </tr>\n",
       "    <tr>\n",
       "      <td><div style=\"text-align: left;\">_pd_meas.intensity_total</div></td>\n",
       "    </tr>\n",
       "    <tr>\n",
       "      <td><div style=\"text-align: left;\">_pd_meas.intensity_total_su</div></td>\n",
       "    </tr>\n",
       "    <tr>\n",
       "      <td><div style=\"text-align: left;\">41168.1286 0.21537107469310052 0.024851140698641586</div></td>\n",
       "    </tr>\n",
       "    <tr>\n",
       "      <td><div style=\"text-align: left;\">41273.8536 0.2608731253560513 0.03329888041963864</div></td>\n",
       "    </tr>\n",
       "    <tr>\n",
       "      <td><div style=\"text-align: left;\">41379.5785 0.3043368615904641 0.0354708759178845</div></td>\n",
       "    </tr>\n",
       "    <tr>\n",
       "      <td><div style=\"text-align: left;\">41485.3035 0.473667080481105 0.04206283617542718</div></td>\n",
       "    </tr>\n",
       "    <tr>\n",
       "      <td><div style=\"text-align: left;\">41591.0285 0.6002651986502522 0.04196647994561225</div></td>\n",
       "    </tr>\n",
       "    <tr>\n",
       "      <td><div style=\"text-align: left;\">...</div></td>\n",
       "    </tr>\n",
       "    <tr>\n",
       "      <td><div style=\"text-align: left;\">107563.4097 0.2230171962356684 0.007062820875646159</div></td>\n",
       "    </tr>\n",
       "    <tr>\n",
       "      <td><div style=\"text-align: left;\">107669.1347 0.2196314236755727 0.007156715455880738</div></td>\n",
       "    </tr>\n",
       "    <tr>\n",
       "      <td><div style=\"text-align: left;\">107774.8597 0.22676234246085125 0.00713080922521723</div></td>\n",
       "    </tr>\n",
       "    <tr>\n",
       "      <td><div style=\"text-align: left;\">107880.5847 0.21245260466359916 0.006812625277766074</div></td>\n",
       "    </tr>\n",
       "    <tr>\n",
       "      <td><div style=\"text-align: left;\">107986.3096 0.21452950815000962 0.006898412477966333</div></td>\n",
       "    </tr>\n",
       "  </tbody>\n",
       "</table>"
      ],
      "text/plain": [
       "<IPython.core.display.HTML object>"
      ]
     },
     "metadata": {},
     "output_type": "display_data"
    }
   ],
   "source": [
    "project.experiments['mcstas'].show_as_cif()"
   ]
  },
  {
   "cell_type": "markdown",
   "id": "54",
   "metadata": {},
   "source": [
    "## Perform Analysis\n",
    "\n",
    "This section outlines the analysis process, including how to configure\n",
    "calculation and fitting engines.\n",
    "\n",
    "#### Set Calculator"
   ]
  },
  {
   "cell_type": "code",
   "execution_count": 28,
   "id": "55",
   "metadata": {
    "execution": {
     "iopub.execute_input": "2025-08-30T21:30:05.699960Z",
     "iopub.status.busy": "2025-08-30T21:30:05.699837Z",
     "iopub.status.idle": "2025-08-30T21:30:05.706142Z",
     "shell.execute_reply": "2025-08-30T21:30:05.705723Z"
    }
   },
   "outputs": [
    {
     "name": "stdout",
     "output_type": "stream",
     "text": [
      "\n",
      "\u001b[94m\u001b[1mCurrent calculator changed to\u001b[0m\n",
      "cryspy\n"
     ]
    }
   ],
   "source": [
    "project.analysis.current_calculator = 'cryspy'"
   ]
  },
  {
   "cell_type": "markdown",
   "id": "56",
   "metadata": {},
   "source": [
    "#### Set Minimizer"
   ]
  },
  {
   "cell_type": "code",
   "execution_count": 29,
   "id": "57",
   "metadata": {
    "execution": {
     "iopub.execute_input": "2025-08-30T21:30:05.707882Z",
     "iopub.status.busy": "2025-08-30T21:30:05.707780Z",
     "iopub.status.idle": "2025-08-30T21:30:05.710207Z",
     "shell.execute_reply": "2025-08-30T21:30:05.709568Z"
    }
   },
   "outputs": [
    {
     "name": "stdout",
     "output_type": "stream",
     "text": [
      "\n",
      "\u001b[94m\u001b[1mCurrent minimizer changed to\u001b[0m\n",
      "lmfit (leastsq)\n"
     ]
    }
   ],
   "source": [
    "project.analysis.current_minimizer = 'lmfit (leastsq)'"
   ]
  },
  {
   "cell_type": "markdown",
   "id": "58",
   "metadata": {},
   "source": [
    "#### Set Fitting Parameters\n",
    "\n",
    "Set sample model parameters to be optimized."
   ]
  },
  {
   "cell_type": "code",
   "execution_count": 30,
   "id": "59",
   "metadata": {
    "execution": {
     "iopub.execute_input": "2025-08-30T21:30:05.712426Z",
     "iopub.status.busy": "2025-08-30T21:30:05.712278Z",
     "iopub.status.idle": "2025-08-30T21:30:05.718283Z",
     "shell.execute_reply": "2025-08-30T21:30:05.717754Z"
    }
   },
   "outputs": [],
   "source": [
    "model_1.cell.length_a.free = True\n",
    "model_1.atom_sites['Co'].b_iso.free = True\n",
    "model_1.atom_sites['O'].b_iso.free = True\n",
    "\n",
    "model_2.cell.length_a.free = True"
   ]
  },
  {
   "cell_type": "markdown",
   "id": "60",
   "metadata": {},
   "source": [
    "Set experiment parameters to be optimized."
   ]
  },
  {
   "cell_type": "code",
   "execution_count": 31,
   "id": "61",
   "metadata": {
    "execution": {
     "iopub.execute_input": "2025-08-30T21:30:05.720196Z",
     "iopub.status.busy": "2025-08-30T21:30:05.720079Z",
     "iopub.status.idle": "2025-08-30T21:30:05.726203Z",
     "shell.execute_reply": "2025-08-30T21:30:05.725760Z"
    }
   },
   "outputs": [],
   "source": [
    "experiment.linked_phases['lbco'].scale.free = True\n",
    "experiment.linked_phases['si'].scale.free = True\n",
    "\n",
    "experiment.peak.broad_gauss_sigma_0.free = True\n",
    "experiment.peak.broad_gauss_sigma_1.free = True\n",
    "experiment.peak.broad_gauss_sigma_2.free = True\n",
    "\n",
    "experiment.peak.asym_alpha_1.free = True\n",
    "experiment.peak.broad_mix_beta_0.free = True\n",
    "experiment.peak.broad_mix_beta_1.free = True\n",
    "\n",
    "for point in experiment.background:\n",
    "    point.y.free = True"
   ]
  },
  {
   "cell_type": "markdown",
   "id": "62",
   "metadata": {},
   "source": [
    "#### Perform Fit"
   ]
  },
  {
   "cell_type": "code",
   "execution_count": 32,
   "id": "63",
   "metadata": {
    "execution": {
     "iopub.execute_input": "2025-08-30T21:30:05.727974Z",
     "iopub.status.busy": "2025-08-30T21:30:05.727875Z",
     "iopub.status.idle": "2025-08-30T21:30:08.831319Z",
     "shell.execute_reply": "2025-08-30T21:30:08.830897Z"
    }
   },
   "outputs": [
    {
     "name": "stdout",
     "output_type": "stream",
     "text": [
      "\n",
      "\u001b[94m\u001b[1mUsing experiment 🔬 \u001b[0m'mcstas'\u001b[94m\u001b[1m for \u001b[0m'single'\u001b[94m\u001b[1m fitting\u001b[0m\n",
      "🚀 Starting fit process with 'lmfit (leastsq)'...\n",
      "📈 Goodness-of-fit (reduced χ²) change:\n"
     ]
    },
    {
     "data": {
      "text/html": [
       "<table class=\"dataframe\" style=\"border-collapse: collapse; border: 1px solid #515155; margin-left: 0.5em;margin-top: 0.5em;margin-bottom: 1em;\">\n",
       "  <thead>\n",
       "    <tr style=\"text-align: right;\">\n",
       "      <th style=\"text-align: center;\">iteration</th>\n",
       "      <th style=\"text-align: center;\">χ²</th>\n",
       "      <th style=\"text-align: center;\">improvement [%]</th>\n",
       "    </tr>\n",
       "  </thead>\n",
       "  <tbody>\n",
       "    <tr>\n",
       "      <td><div style=\"text-align: center;\">1</div></td>\n",
       "      <td><div style=\"text-align: center;\">301.41</div></td>\n",
       "      <td><div style=\"text-align: center;\"></div></td>\n",
       "    </tr>\n",
       "    <tr>\n",
       "      <td><div style=\"text-align: center;\">29</div></td>\n",
       "      <td><div style=\"text-align: center;\">3.36</div></td>\n",
       "      <td><div style=\"text-align: center;\">98.9% ↓</div></td>\n",
       "    </tr>\n",
       "    <tr>\n",
       "      <td><div style=\"text-align: center;\">55</div></td>\n",
       "      <td><div style=\"text-align: center;\">3.24</div></td>\n",
       "      <td><div style=\"text-align: center;\">3.7% ↓</div></td>\n",
       "    </tr>\n",
       "    <tr>\n",
       "      <td><div style=\"text-align: center;\">134</div></td>\n",
       "      <td><div style=\"text-align: center;\">3.24</div></td>\n",
       "      <td><div style=\"text-align: center;\"></div></td>\n",
       "    </tr>\n",
       "  </tbody>\n",
       "</table>"
      ],
      "text/plain": [
       "<IPython.core.display.HTML object>"
      ]
     },
     "metadata": {},
     "output_type": "display_data"
    },
    {
     "name": "stdout",
     "output_type": "stream",
     "text": [
      "🏆 Best goodness-of-fit (reduced χ²) is 3.24 at iteration 133\n",
      "✅ Fitting complete.\n"
     ]
    },
    {
     "name": "stdout",
     "output_type": "stream",
     "text": [
      "\n",
      "\u001b[94m\u001b[1mFit results\u001b[0m\n",
      "✅ Success: True\n",
      "⏱️ Fitting time: 2.83 seconds\n",
      "📏 Goodness-of-fit (reduced χ²): 3.24\n",
      "📏 R-factor (Rf): 4.76%\n",
      "📏 R-factor squared (Rf²): 5.16%\n",
      "📏 Weighted R-factor (wR): 5.22%\n",
      "📈 Fitted parameters:\n"
     ]
    },
    {
     "data": {
      "text/html": [
       "<table class=\"dataframe\" style=\"border-collapse: collapse; border: 1px solid #515155; margin-left: 0.5em;margin-top: 0.5em;margin-bottom: 1em;\">\n",
       "  <thead>\n",
       "    <tr style=\"text-align: right;\">\n",
       "      <th></th>\n",
       "      <th style=\"text-align: left;\">datablock</th>\n",
       "      <th style=\"text-align: left;\">category</th>\n",
       "      <th style=\"text-align: left;\">entry</th>\n",
       "      <th style=\"text-align: left;\">parameter</th>\n",
       "      <th style=\"text-align: right;\">start</th>\n",
       "      <th style=\"text-align: right;\">fitted</th>\n",
       "      <th style=\"text-align: right;\">uncertainty</th>\n",
       "      <th style=\"text-align: left;\">units</th>\n",
       "      <th style=\"text-align: right;\">change</th>\n",
       "    </tr>\n",
       "  </thead>\n",
       "  <tbody>\n",
       "    <tr>\n",
       "      <th>1</th>\n",
       "      <td><div style=\"text-align: left;\">lbco</div></td>\n",
       "      <td><div style=\"text-align: left;\">atom_sites</div></td>\n",
       "      <td><div style=\"text-align: left;\">Co</div></td>\n",
       "      <td><div style=\"text-align: left;\">b_iso</div></td>\n",
       "      <td><div style=\"text-align: right;\">0.2567</div></td>\n",
       "      <td><div style=\"text-align: right;\">0.3233</div></td>\n",
       "      <td><div style=\"text-align: right;\">0.0853</div></td>\n",
       "      <td><div style=\"text-align: left;\">Å²</div></td>\n",
       "      <td><div style=\"text-align: right;\">25.94 % ↑</div></td>\n",
       "    </tr>\n",
       "    <tr>\n",
       "      <th>2</th>\n",
       "      <td><div style=\"text-align: left;\">lbco</div></td>\n",
       "      <td><div style=\"text-align: left;\">atom_sites</div></td>\n",
       "      <td><div style=\"text-align: left;\">O</div></td>\n",
       "      <td><div style=\"text-align: left;\">b_iso</div></td>\n",
       "      <td><div style=\"text-align: right;\">1.4041</div></td>\n",
       "      <td><div style=\"text-align: right;\">2.1686</div></td>\n",
       "      <td><div style=\"text-align: right;\">0.0282</div></td>\n",
       "      <td><div style=\"text-align: left;\">Å²</div></td>\n",
       "      <td><div style=\"text-align: right;\">54.45 % ↑</div></td>\n",
       "    </tr>\n",
       "    <tr>\n",
       "      <th>3</th>\n",
       "      <td><div style=\"text-align: left;\">lbco</div></td>\n",
       "      <td><div style=\"text-align: left;\">cell</div></td>\n",
       "      <td><div style=\"text-align: left;\"></div></td>\n",
       "      <td><div style=\"text-align: left;\">length_a</div></td>\n",
       "      <td><div style=\"text-align: right;\">3.8909</div></td>\n",
       "      <td><div style=\"text-align: right;\">3.8904</div></td>\n",
       "      <td><div style=\"text-align: right;\">0.0001</div></td>\n",
       "      <td><div style=\"text-align: left;\">Å</div></td>\n",
       "      <td><div style=\"text-align: right;\">0.01 % ↓</div></td>\n",
       "    </tr>\n",
       "    <tr>\n",
       "      <th>4</th>\n",
       "      <td><div style=\"text-align: left;\">si</div></td>\n",
       "      <td><div style=\"text-align: left;\">cell</div></td>\n",
       "      <td><div style=\"text-align: left;\"></div></td>\n",
       "      <td><div style=\"text-align: left;\">length_a</div></td>\n",
       "      <td><div style=\"text-align: right;\">5.4315</div></td>\n",
       "      <td><div style=\"text-align: right;\">5.4327</div></td>\n",
       "      <td><div style=\"text-align: right;\">0.0006</div></td>\n",
       "      <td><div style=\"text-align: left;\">Å</div></td>\n",
       "      <td><div style=\"text-align: right;\">0.02 % ↑</div></td>\n",
       "    </tr>\n",
       "    <tr>\n",
       "      <th>5</th>\n",
       "      <td><div style=\"text-align: left;\">mcstas</div></td>\n",
       "      <td><div style=\"text-align: left;\">background</div></td>\n",
       "      <td><div style=\"text-align: left;\">45000</div></td>\n",
       "      <td><div style=\"text-align: left;\">y</div></td>\n",
       "      <td><div style=\"text-align: right;\">0.2000</div></td>\n",
       "      <td><div style=\"text-align: right;\">0.2502</div></td>\n",
       "      <td><div style=\"text-align: right;\">0.0082</div></td>\n",
       "      <td><div style=\"text-align: left;\"></div></td>\n",
       "      <td><div style=\"text-align: right;\">25.09 % ↑</div></td>\n",
       "    </tr>\n",
       "    <tr>\n",
       "      <th>6</th>\n",
       "      <td><div style=\"text-align: left;\">mcstas</div></td>\n",
       "      <td><div style=\"text-align: left;\">background</div></td>\n",
       "      <td><div style=\"text-align: left;\">50000</div></td>\n",
       "      <td><div style=\"text-align: left;\">y</div></td>\n",
       "      <td><div style=\"text-align: right;\">0.2000</div></td>\n",
       "      <td><div style=\"text-align: right;\">0.2498</div></td>\n",
       "      <td><div style=\"text-align: right;\">0.0080</div></td>\n",
       "      <td><div style=\"text-align: left;\"></div></td>\n",
       "      <td><div style=\"text-align: right;\">24.91 % ↑</div></td>\n",
       "    </tr>\n",
       "    <tr>\n",
       "      <th>7</th>\n",
       "      <td><div style=\"text-align: left;\">mcstas</div></td>\n",
       "      <td><div style=\"text-align: left;\">background</div></td>\n",
       "      <td><div style=\"text-align: left;\">55000</div></td>\n",
       "      <td><div style=\"text-align: left;\">y</div></td>\n",
       "      <td><div style=\"text-align: right;\">0.2000</div></td>\n",
       "      <td><div style=\"text-align: right;\">0.2674</div></td>\n",
       "      <td><div style=\"text-align: right;\">0.0047</div></td>\n",
       "      <td><div style=\"text-align: left;\"></div></td>\n",
       "      <td><div style=\"text-align: right;\">33.68 % ↑</div></td>\n",
       "    </tr>\n",
       "    <tr>\n",
       "      <th>8</th>\n",
       "      <td><div style=\"text-align: left;\">mcstas</div></td>\n",
       "      <td><div style=\"text-align: left;\">background</div></td>\n",
       "      <td><div style=\"text-align: left;\">65000</div></td>\n",
       "      <td><div style=\"text-align: left;\">y</div></td>\n",
       "      <td><div style=\"text-align: right;\">0.2000</div></td>\n",
       "      <td><div style=\"text-align: right;\">0.2551</div></td>\n",
       "      <td><div style=\"text-align: right;\">0.0036</div></td>\n",
       "      <td><div style=\"text-align: left;\"></div></td>\n",
       "      <td><div style=\"text-align: right;\">27.53 % ↑</div></td>\n",
       "    </tr>\n",
       "    <tr>\n",
       "      <th>9</th>\n",
       "      <td><div style=\"text-align: left;\">mcstas</div></td>\n",
       "      <td><div style=\"text-align: left;\">background</div></td>\n",
       "      <td><div style=\"text-align: left;\">70000</div></td>\n",
       "      <td><div style=\"text-align: left;\">y</div></td>\n",
       "      <td><div style=\"text-align: right;\">0.2000</div></td>\n",
       "      <td><div style=\"text-align: right;\">0.2463</div></td>\n",
       "      <td><div style=\"text-align: right;\">0.0035</div></td>\n",
       "      <td><div style=\"text-align: left;\"></div></td>\n",
       "      <td><div style=\"text-align: right;\">23.17 % ↑</div></td>\n",
       "    </tr>\n",
       "    <tr>\n",
       "      <th>10</th>\n",
       "      <td><div style=\"text-align: left;\">mcstas</div></td>\n",
       "      <td><div style=\"text-align: left;\">background</div></td>\n",
       "      <td><div style=\"text-align: left;\">75000</div></td>\n",
       "      <td><div style=\"text-align: left;\">y</div></td>\n",
       "      <td><div style=\"text-align: right;\">0.2000</div></td>\n",
       "      <td><div style=\"text-align: right;\">0.2417</div></td>\n",
       "      <td><div style=\"text-align: right;\">0.0027</div></td>\n",
       "      <td><div style=\"text-align: left;\"></div></td>\n",
       "      <td><div style=\"text-align: right;\">20.86 % ↑</div></td>\n",
       "    </tr>\n",
       "    <tr>\n",
       "      <th>11</th>\n",
       "      <td><div style=\"text-align: left;\">mcstas</div></td>\n",
       "      <td><div style=\"text-align: left;\">background</div></td>\n",
       "      <td><div style=\"text-align: left;\">80000</div></td>\n",
       "      <td><div style=\"text-align: left;\">y</div></td>\n",
       "      <td><div style=\"text-align: right;\">0.2000</div></td>\n",
       "      <td><div style=\"text-align: right;\">0.2421</div></td>\n",
       "      <td><div style=\"text-align: right;\">0.0033</div></td>\n",
       "      <td><div style=\"text-align: left;\"></div></td>\n",
       "      <td><div style=\"text-align: right;\">21.07 % ↑</div></td>\n",
       "    </tr>\n",
       "    <tr>\n",
       "      <th>12</th>\n",
       "      <td><div style=\"text-align: left;\">mcstas</div></td>\n",
       "      <td><div style=\"text-align: left;\">background</div></td>\n",
       "      <td><div style=\"text-align: left;\">85000</div></td>\n",
       "      <td><div style=\"text-align: left;\">y</div></td>\n",
       "      <td><div style=\"text-align: right;\">0.2000</div></td>\n",
       "      <td><div style=\"text-align: right;\">0.2374</div></td>\n",
       "      <td><div style=\"text-align: right;\">0.0021</div></td>\n",
       "      <td><div style=\"text-align: left;\"></div></td>\n",
       "      <td><div style=\"text-align: right;\">18.71 % ↑</div></td>\n",
       "    </tr>\n",
       "    <tr>\n",
       "      <th>13</th>\n",
       "      <td><div style=\"text-align: left;\">mcstas</div></td>\n",
       "      <td><div style=\"text-align: left;\">background</div></td>\n",
       "      <td><div style=\"text-align: left;\">90000</div></td>\n",
       "      <td><div style=\"text-align: left;\">y</div></td>\n",
       "      <td><div style=\"text-align: right;\">0.2000</div></td>\n",
       "      <td><div style=\"text-align: right;\">0.2381</div></td>\n",
       "      <td><div style=\"text-align: right;\">0.0020</div></td>\n",
       "      <td><div style=\"text-align: left;\"></div></td>\n",
       "      <td><div style=\"text-align: right;\">19.07 % ↑</div></td>\n",
       "    </tr>\n",
       "    <tr>\n",
       "      <th>14</th>\n",
       "      <td><div style=\"text-align: left;\">mcstas</div></td>\n",
       "      <td><div style=\"text-align: left;\">background</div></td>\n",
       "      <td><div style=\"text-align: left;\">95000</div></td>\n",
       "      <td><div style=\"text-align: left;\">y</div></td>\n",
       "      <td><div style=\"text-align: right;\">0.2000</div></td>\n",
       "      <td><div style=\"text-align: right;\">0.2423</div></td>\n",
       "      <td><div style=\"text-align: right;\">0.0025</div></td>\n",
       "      <td><div style=\"text-align: left;\"></div></td>\n",
       "      <td><div style=\"text-align: right;\">21.14 % ↑</div></td>\n",
       "    </tr>\n",
       "    <tr>\n",
       "      <th>15</th>\n",
       "      <td><div style=\"text-align: left;\">mcstas</div></td>\n",
       "      <td><div style=\"text-align: left;\">background</div></td>\n",
       "      <td><div style=\"text-align: left;\">100000</div></td>\n",
       "      <td><div style=\"text-align: left;\">y</div></td>\n",
       "      <td><div style=\"text-align: right;\">0.2000</div></td>\n",
       "      <td><div style=\"text-align: right;\">0.2258</div></td>\n",
       "      <td><div style=\"text-align: right;\">0.0022</div></td>\n",
       "      <td><div style=\"text-align: left;\"></div></td>\n",
       "      <td><div style=\"text-align: right;\">12.88 % ↑</div></td>\n",
       "    </tr>\n",
       "    <tr>\n",
       "      <th>16</th>\n",
       "      <td><div style=\"text-align: left;\">mcstas</div></td>\n",
       "      <td><div style=\"text-align: left;\">background</div></td>\n",
       "      <td><div style=\"text-align: left;\">105000</div></td>\n",
       "      <td><div style=\"text-align: left;\">y</div></td>\n",
       "      <td><div style=\"text-align: right;\">0.2000</div></td>\n",
       "      <td><div style=\"text-align: right;\">0.2228</div></td>\n",
       "      <td><div style=\"text-align: right;\">0.0026</div></td>\n",
       "      <td><div style=\"text-align: left;\"></div></td>\n",
       "      <td><div style=\"text-align: right;\">11.40 % ↑</div></td>\n",
       "    </tr>\n",
       "    <tr>\n",
       "      <th>17</th>\n",
       "      <td><div style=\"text-align: left;\">mcstas</div></td>\n",
       "      <td><div style=\"text-align: left;\">background</div></td>\n",
       "      <td><div style=\"text-align: left;\">110000</div></td>\n",
       "      <td><div style=\"text-align: left;\">y</div></td>\n",
       "      <td><div style=\"text-align: right;\">0.2000</div></td>\n",
       "      <td><div style=\"text-align: right;\">0.2225</div></td>\n",
       "      <td><div style=\"text-align: right;\">0.0078</div></td>\n",
       "      <td><div style=\"text-align: left;\"></div></td>\n",
       "      <td><div style=\"text-align: right;\">11.23 % ↑</div></td>\n",
       "    </tr>\n",
       "    <tr>\n",
       "      <th>18</th>\n",
       "      <td><div style=\"text-align: left;\">mcstas</div></td>\n",
       "      <td><div style=\"text-align: left;\">linked_phases</div></td>\n",
       "      <td><div style=\"text-align: left;\">lbco</div></td>\n",
       "      <td><div style=\"text-align: left;\">scale</div></td>\n",
       "      <td><div style=\"text-align: right;\">4.0000</div></td>\n",
       "      <td><div style=\"text-align: right;\">4.5577</div></td>\n",
       "      <td><div style=\"text-align: right;\">0.0318</div></td>\n",
       "      <td><div style=\"text-align: left;\"></div></td>\n",
       "      <td><div style=\"text-align: right;\">13.94 % ↑</div></td>\n",
       "    </tr>\n",
       "    <tr>\n",
       "      <th>19</th>\n",
       "      <td><div style=\"text-align: left;\">mcstas</div></td>\n",
       "      <td><div style=\"text-align: left;\">linked_phases</div></td>\n",
       "      <td><div style=\"text-align: left;\">si</div></td>\n",
       "      <td><div style=\"text-align: left;\">scale</div></td>\n",
       "      <td><div style=\"text-align: right;\">0.2000</div></td>\n",
       "      <td><div style=\"text-align: right;\">0.0314</div></td>\n",
       "      <td><div style=\"text-align: right;\">0.0008</div></td>\n",
       "      <td><div style=\"text-align: left;\"></div></td>\n",
       "      <td><div style=\"text-align: right;\">84.28 % ↓</div></td>\n",
       "    </tr>\n",
       "    <tr>\n",
       "      <th>20</th>\n",
       "      <td><div style=\"text-align: left;\">mcstas</div></td>\n",
       "      <td><div style=\"text-align: left;\">peak</div></td>\n",
       "      <td><div style=\"text-align: left;\"></div></td>\n",
       "      <td><div style=\"text-align: left;\">asym_alpha_1</div></td>\n",
       "      <td><div style=\"text-align: right;\">0.0097</div></td>\n",
       "      <td><div style=\"text-align: right;\">0.0097</div></td>\n",
       "      <td><div style=\"text-align: right;\">0.0002</div></td>\n",
       "      <td><div style=\"text-align: left;\"></div></td>\n",
       "      <td><div style=\"text-align: right;\">0.40 % ↓</div></td>\n",
       "    </tr>\n",
       "    <tr>\n",
       "      <th>21</th>\n",
       "      <td><div style=\"text-align: left;\">mcstas</div></td>\n",
       "      <td><div style=\"text-align: left;\">peak</div></td>\n",
       "      <td><div style=\"text-align: left;\"></div></td>\n",
       "      <td><div style=\"text-align: left;\">gauss_sigma_0</div></td>\n",
       "      <td><div style=\"text-align: right;\">45137.0000</div></td>\n",
       "      <td><div style=\"text-align: right;\">45210.8969</div></td>\n",
       "      <td><div style=\"text-align: right;\">2868.4651</div></td>\n",
       "      <td><div style=\"text-align: left;\">µs²</div></td>\n",
       "      <td><div style=\"text-align: right;\">0.16 % ↑</div></td>\n",
       "    </tr>\n",
       "    <tr>\n",
       "      <th>22</th>\n",
       "      <td><div style=\"text-align: left;\">mcstas</div></td>\n",
       "      <td><div style=\"text-align: left;\">peak</div></td>\n",
       "      <td><div style=\"text-align: left;\"></div></td>\n",
       "      <td><div style=\"text-align: left;\">gauss_sigma_1</div></td>\n",
       "      <td><div style=\"text-align: right;\">-52394.0000</div></td>\n",
       "      <td><div style=\"text-align: right;\">-52476.8991</div></td>\n",
       "      <td><div style=\"text-align: right;\">3797.9256</div></td>\n",
       "      <td><div style=\"text-align: left;\">µs/Å</div></td>\n",
       "      <td><div style=\"text-align: right;\">0.16 % ↑</div></td>\n",
       "    </tr>\n",
       "    <tr>\n",
       "      <th>23</th>\n",
       "      <td><div style=\"text-align: left;\">mcstas</div></td>\n",
       "      <td><div style=\"text-align: left;\">peak</div></td>\n",
       "      <td><div style=\"text-align: left;\"></div></td>\n",
       "      <td><div style=\"text-align: left;\">gauss_sigma_2</div></td>\n",
       "      <td><div style=\"text-align: right;\">22998.0000</div></td>\n",
       "      <td><div style=\"text-align: right;\">23014.3392</div></td>\n",
       "      <td><div style=\"text-align: right;\">1193.4306</div></td>\n",
       "      <td><div style=\"text-align: left;\">µs²/Å²</div></td>\n",
       "      <td><div style=\"text-align: right;\">0.07 % ↑</div></td>\n",
       "    </tr>\n",
       "    <tr>\n",
       "      <th>24</th>\n",
       "      <td><div style=\"text-align: left;\">mcstas</div></td>\n",
       "      <td><div style=\"text-align: left;\">peak</div></td>\n",
       "      <td><div style=\"text-align: left;\"></div></td>\n",
       "      <td><div style=\"text-align: left;\">mix_beta_0</div></td>\n",
       "      <td><div style=\"text-align: right;\">0.0055</div></td>\n",
       "      <td><div style=\"text-align: right;\">0.0055</div></td>\n",
       "      <td><div style=\"text-align: right;\">0.0001</div></td>\n",
       "      <td><div style=\"text-align: left;\">deg</div></td>\n",
       "      <td><div style=\"text-align: right;\">0.64 % ↑</div></td>\n",
       "    </tr>\n",
       "    <tr>\n",
       "      <th>25</th>\n",
       "      <td><div style=\"text-align: left;\">mcstas</div></td>\n",
       "      <td><div style=\"text-align: left;\">peak</div></td>\n",
       "      <td><div style=\"text-align: left;\"></div></td>\n",
       "      <td><div style=\"text-align: left;\">mix_beta_1</div></td>\n",
       "      <td><div style=\"text-align: right;\">0.0041</div></td>\n",
       "      <td><div style=\"text-align: right;\">0.0041</div></td>\n",
       "      <td><div style=\"text-align: right;\">0.0003</div></td>\n",
       "      <td><div style=\"text-align: left;\">deg</div></td>\n",
       "      <td><div style=\"text-align: right;\">0.32 % ↓</div></td>\n",
       "    </tr>\n",
       "  </tbody>\n",
       "</table>"
      ],
      "text/plain": [
       "<IPython.core.display.HTML object>"
      ]
     },
     "metadata": {},
     "output_type": "display_data"
    }
   ],
   "source": [
    "project.analysis.fit()"
   ]
  },
  {
   "cell_type": "markdown",
   "id": "64",
   "metadata": {},
   "source": [
    "#### Plot Measured vs Calculated"
   ]
  },
  {
   "cell_type": "code",
   "execution_count": 33,
   "id": "65",
   "metadata": {
    "execution": {
     "iopub.execute_input": "2025-08-30T21:30:08.832925Z",
     "iopub.status.busy": "2025-08-30T21:30:08.832822Z",
     "iopub.status.idle": "2025-08-30T21:30:09.106164Z",
     "shell.execute_reply": "2025-08-30T21:30:09.105617Z"
    }
   },
   "outputs": [
    {
     "data": {
      "text/html": [
       "<div>                        <script type=\"text/javascript\">window.PlotlyConfig = {MathJaxConfig: 'local'};</script>\n",
       "        <script charset=\"utf-8\" src=\"https://cdn.plot.ly/plotly-3.1.0.min.js\" integrity=\"sha256-Ei4740bWZhaUTQuD6q9yQlgVCMPBz6CZWhevDYPv93A=\" crossorigin=\"anonymous\"></script>                <div id=\"79a6b12a-a81b-43c7-9ff1-23366645c201\" class=\"plotly-graph-div\" style=\"height:100%; width:100%;\"></div>            <script type=\"text/javascript\">                window.PLOTLYENV=window.PLOTLYENV || {};                                if (document.getElementById(\"79a6b12a-a81b-43c7-9ff1-23366645c201\")) {                    Plotly.newPlot(                        \"79a6b12a-a81b-43c7-9ff1-23366645c201\",                        [{\"line\":{\"color\":\"rgb(31, 119, 180)\"},\"mode\":\"lines+markers\",\"name\":\"Measured (Imeas)\",\"x\":{\"dtype\":\"f8\",\"bdata\":\"SL99HQQa5EB88rBQOyfkQJhuEoNyNORAy6FFtqlB5ED+1Hjp4E7kQBpR2hsYXORATYQNT09p5ECAt0CChnbkQLPqc7W9g+RAz2bV5\\u002fSQ5EACmggbLJ7kQDbNO05jq+RAUkmdgJq45ECFfNCz0cXkQLivA+cI0+RA1CtlGUDg5EAHX5hMd+3kQDqSy3+u+uRAbcX+suUH5UCJQWDlHBXlQLx0kxhUIuVA8KfGS4sv5UALJCh+wjzlQD9XW7H5SeVAcoqO5DBX5UCOBvAWaGTlQME5I0qfceVA9GxWfdZ+5UAnoImwDYzlQEMc6+JEmeVAdk8eFnym5UCqglFJs7PlQMX+snvqwOVA+THmriHO5UAsZRniWNvlQEjhehSQ6OVAexSuR8f15UCuR+F6\\u002fgLmQOF6FK41EOZA\\u002ffZ14Gwd5kAwKqkTpCrmQGRd3EbbN+ZAf9k9eRJF5kCzDHGsSVLmQOY\\u002fpN+AX+ZAArwFErhs5kA17zhF73nmQGgibHgmh+ZAm1Wfq12U5kC30QDelKHmQOoENBHMruZAHThnRAO85kA5tMh2OsnmQG3n+6lx1uZAoBov3ajj5kC8lpAP4PDmQO\\u002fJw0IX\\u002fuZAIv32dU4L50BVMCqphRjnQHGsi9u8JedApN++DvQy50DXEvJBK0DnQPOOU3RiTedAJ8KGp5la50Ba9bna0GfnQHZxGw0IdedAqaROQD+C50Dc14Fzdo\\u002fnQA8LtaatnOdAK4cW2eSp50BeukkMHLfnQJHtfD9TxOdArWnecYrR50DgnBGlwd7nQBTQRNj46+dAMEymCjD550Bjf9k9ZwboQJayDHGeE+hAyeU\\u002fpNUg6EDlYaHWDC7oQBiV1AlEO+hAS8gHPXtI6EBnRGlvslXoQJp3nKLpYuhAzqrP1SBw6EDpJjEIWH3oQB1aZDuPiuhAUI2XbsaX6ECDwMqh\\u002faToQJ88LNQ0suhA0m9fB2y\\u002f6EAFo5I6o8zoQCEf9Gza2ehAVFInoBHn6ECIhVrTSPToQKMBvAWAAelA1zTvOLcO6UAKaCJs7hvpQD2bVZ8lKelAWRe30Vw26UCMSuoElEPpQL99HTjLUOlA2\\u002fl+agJe6UAOLbKdOWvpQEJg5dBweOlAXdxGA6iF6UCRD3o235LpQMRCrWkWoOlA93XgnE2t6UAT8kHPhLrpQEYldQK8x+lAeVioNfPU6UCV1AloKuLpQMgHPZth7+lA+zpwzpj86UAXt9EA0AnqQEvqBDQHF+pAfh04Zz4k6kCxUGuadTHqQM3MzMysPupAAAAAAORL6kAzMzMzG1nqQE+vlGVSZupAguLHmIlz6kC1FfvLwIDqQNGRXP73jepABcWPMS+b6kA4+MJkZqjqQGsr9pedtepAh6dXytTC6kC62or9C9DqQO0NvjBD3epACYofY3rq6kA8vVKWsffqQG\\u002fwhcnoBOtAi2zn+x8S60C+nxovVx\\u002frQPLSTWKOLOtAJQaBlcU560BBguLH\\u002fEbrQHS1FfszVOtAp+hILmth60DDZKpgom7rQPaX3ZPZe+tAKcsQxxCJ60BFR3L5R5brQHh6pSx\\u002fo+tArK3YX7aw60Df4AuT7b3rQPtcbcUky+tALpCg+FvY60Bhw9Mrk+XrQH0\\u002fNV7K8utAsHJokQEA7EDjpZvEOA3sQP8h\\u002ffZvGuxAMlUwKqcn7EBmiGNd3jTsQJm7lpAVQuxAtTf4wkxP7EDoaiv2g1zsQBueXim7aexANxrAW\\u002fJ27EBqTfOOKYTsQJ2AJsJgkexAufyH9Jee7EDsL7snz6vsQCBj7loGuexAU5Yhjj3G7EBvEoPAdNPsQKJFtvOr4OxA1XjpJuPt7EDx9EpZGvvsQCQofoxRCO1AV1uxv4gV7UBz1xLyvyLtQKYKRiX3L+1A2T15WC497UANcayLZUrtQCntDb6cV+1AXCBB8dNk7UCPU3QkC3LtQKvP1VZCf+1A3gIJinmM7UARNjy9sJntQC2yne\\u002fnpu1AYOXQIh+07UCTGARWVsHtQMdLN4mNzu1A48eYu8Tb7UAW+8vu++jtQEku\\u002fyEz9u1AZapgVGoD7kCY3ZOHoRDuQMsQx7rYHe5A54wo7Q8r7kAawFsgRzjuQE3zjlN+Re5AgSbChrVS7kCcoiO57F\\u002fuQNDVVuwjbe5AAwmKH1t67kAfhetRkofuQFK4HoXJlO5AhetRuACi7kChZ7PqN6\\u002fuQNSa5h1vvO5AB84ZUabJ7kA7AU2E3dbuQFZ9rrYU5O5AirDh6Uvx7kC94xQdg\\u002f7uQNlfdk+6C+9ADJOpgvEY70A\\u002fxty1KCbvQFtCPuhfM+9AjnVxG5dA70DBqKROzk3vQPXb14EFW+9AEFg5tDxo70BEi2znc3XvQHe+nxqrgu9AkzoBTeKP70DGbTSAGZ3vQPmgZ7NQqu9AFR3J5Ye370BIUPwYv8TvQHuDL0z20e9ArrZify3f70DKMsSxZOzvQP5l9+Sb+e9AmEwVjGkD8ECmCkYlBQrwQECk376gEPBA2T15WDwX8EDn+6nx1x3wQIGVQ4tzJPBAGy\\u002fdJA8r8EC0yHa+qjHwQMKGp1dGOPBAXCBB8eE+8ED1udqKfUXwQAN4CyQZTPBAnRGlvbRS8EA2qz5XUFnwQERpb\\u002fDrX\\u002fBA3gIJiodm8EB4nKIjI23wQBE2PL2+c\\u002fBAH\\u002fRsVlp68EC5jQbw9YDwQFInoImRh\\u002fBAYOXQIi2O8ED6fmq8yJTwQJMYBFZkm\\u002fBAodY07\\u002f+h8EA7cM6Im6jwQNUJaCI3r\\u002fBAbqMBvNK18EB8YTJVbrzwQBb7y+4Jw\\u002fBAr5RliKXJ8EC9UpYhQdDwQFfsL7vc1vBA8IXJVHjd8ED+Q\\u002frtE+TwQJjdk4ev6vBAMnctIUvx8EDLEMe65vfwQNnO91OC\\u002fvBAc2iR7R0F8UAMAiuHuQvxQBrAWyBVEvFAtFn1ufAY8UBN845TjB\\u002fxQFuxv+wnJvFA9UpZhsMs8UCP5PIfXzPxQCh+jLn6OfFANjy9UpZA8UDQ1VbsMUfxQGlv8IXNTfFAdy0hH2lU8UARx7q4BFvxQKpgVFKgYfFAuB6F6zto8UBSuB6F127xQOxRuB5zdfFAhetRuA588UCTqYJRqoLxQC1DHOtFifFAxty1hOGP8UDUmuYdfZbxQG40gLcYnfFAB84ZUbSj8UAVjErqT6rxQK8l5IPrsPFASL99HYe38UDiWBe3Ir7xQPAWSFC+xPFAirDh6VnL8UAjSnuD9dHxQDEIrByR2PFAy6FFtizf8UBkO99PyOXxQHL5D+lj7PFADJOpgv\\u002fy8UClLEMcm\\u002fnxQD\\u002fG3LU2APJATYQNT9IG8kDnHafobQ3yQIC3QIIJFPJAjnVxG6Ua8kAoDwu1QCHyQMGopE7cJ\\u002fJAz2bV53cu8kBpAG+BEzXyQAKaCBuvO\\u002fJAnDOitEpC8kCq8dJN5kjyQESLbOeBT\\u002fJA3SQGgR1W8kDr4jYauVzyQIV80LNUY\\u002fJAHhZqTfBp8kAs1Jrmi3DyQMZtNIAnd\\u002fJAXwfOGcN98kD5oGezXoTyQAdfmEz6ivJAofgx5pWR8kA6kst\\u002fMZjyQEhQ\\u002fBjNnvJA4umVsmil8kB7gy9MBKzyQIlBYOWfsvJAI9v5fju58kC8dJMY17\\u002fyQFYOLbJyxvJAZMxdSw7N8kD+ZffkqdPyQJf\\u002fkH5F2vJApb3BF+Hg8kA\\u002fV1uxfOfyQNjw9EoY7vJA5q4l5LP08kCASL99T\\u002fvyQBniWBfrAfNAs3vysIYI80DBOSNKIg\\u002fzQFvTvOO9FfNA9GxWfVkc80ACK4cW9SLzQJzEILCQKfNANV66SSww80BDHOvixzbzQN21hHxjPfNAdk8eFv9D80AQ6bevmkrzQB6n6Eg2UfNAuECC4tFX80BR2ht8bV7zQF+YTBUJZfNA+THmrqRr80CSy39IQHLzQKCJsOHbePNAOiNKe3d\\u002f80DTvOMUE4bzQOF6FK6ujPNAexSuR0qT80AUrkfh5ZnzQK5H4XqBoPNAvAUSFB2n80BWn6utuK3zQO84RUdUtPNA\\u002ffZ14O+680CXkA96i8HzQDAqqRMnyPNAPujZrMLO80DYgXNGXtXzQHEbDeD52\\u002fNAC7WmeZXi80AZc9cSMenzQLMMcazM7\\u002fNATKYKRmj280BaZDvfA\\u002f3zQPT91HifA\\u002fRAjZduEjsK9ECbVZ+r1hD0QDXvOEVyF\\u002fRAzojS3g0e9EBoImx4qST0QHbgnBFFK\\u002fRAEHo2q+Ax9ECpE9BEfDj0QLfRAN4XP\\u002fRAUWuad7NF9EDqBDQRT0z0QPjCZKrqUvRAklz+Q4ZZ9EAr9pfdIWD0QMWPMXe9ZvRA001iEFlt9EBt5\\u002fup9HP0QAaBlUOQevRAFD\\u002fG3CuB9ECu2F92x4f0QEdy+Q9jjvRAVTAqqf6U9EDvycNCmpv0QIhjXdw1ovRAIv32ddGo9EAwuycPba\\u002f0QMpUwagItvRAY+5aQqS89EBxrIvbP8P0QAtGJXXbyfRApN++DnfQ9ECyne+nEtf0QEw3iUGu3fRA5dAi20nk9EB\\u002farx05er0QI0o7Q2B8fRAJ8KGpxz49EDAWyBBuP70QM4ZUdpTBfVAaLPqc+8L9UABTYQNixL1QA8LtaYmGfVAqaROQMIf9UBCPujZXSb1QNzXgXP5LPVA6pWyDJUz9UCDL0ymMDr1QB3J5T\\u002fMQPVAK4cW2WdH9UDFILByA071QF66SQyfVPVAbHh6pTpb9UAGEhQ\\u002f1mH1QJ+rrdhxaPVAOUVHcg1v9UBHA3gLqXX1QOCcEaVEfPVAejarPuCC9UCI9NvXe4n1QCKOdXEXkPVAuycPC7OW9UDJ5T+kTp31QGN\\u002f2T3qo\\u002fVA\\u002fBhz14Wq9UCWsgxxIbH1QKRwPQq9t\\u002fVAPQrXo1i+9UDXo3A99MT1QOVhodaPy\\u002fVAf\\u002fs6cCvS9UAYldQJx9j1QCZTBaNi3\\u002fVAwOyePP7l9UBZhjjWmez1QPMf0m818\\u002fVAAd4CCdH59UCad5yibAD2QDQRNjwIB\\u002fZAQs9m1aMN9kDcaABvPxT2QHUCmgjbGvZAg8DKoXYh9kAdWmQ7Eij2QLbz\\u002fdStLvZAUI2Xbkk19kBeS8gH5Tv2QPfkYaGAQvZAkX77OhxJ9kCfPCzUt0\\u002f2QDnWxW1TVvZA0m9fB+9c9kDgLZCgimP2QHrHKTomavZAE2HD08Fw9kCt+lxtXXf2QLu4jQb5ffZAVFInoJSE9kDu68A5MIv2QPyp8dLLkfZAlkOLbGeY9kAv3SQGA5\\u002f2QD2bVZ+epfZA1zTvODqs9kBwzojS1bL2QApoImxxufZAGCZTBQ3A9kCxv+yeqMb2QEtZhjhEzfZAWRe30d\\u002fT9kDysFBre9r2QIxK6gQX4fZAmggbnrLn9kA0orQ3Tu72QM07TtHp9PZAZ9XnaoX79kB1kxgEIQL3QA4tsp28CPdAqMZLN1gP90C2hHzQ8xX3QE8eFmqPHPdA6bevAysj90D3deCcxin3QJEPejZiMPdAKqkT0P0290DEQq1pmT33QNIA3gI1RPdAa5p3nNBK90AFNBE2bFH3QBPyQc8HWPdArIvbaKNe90BGJXUCP2X3QFTjpZvaa\\u002fdA7nw\\u002fNXZy90CHFtnOEXn3QCGwcmitf\\u002fdAL26jAUmG90DIBz2b5Iz3QGKh1jSAk\\u002fdAcF8Hzhua90AJ+aBnt6D3QKOSOgFTp\\u002fdAsVBrmu6t90BL6gQ0irT3QOSDns0lu\\u002fdAfh04Z8HB90CM22gAXcj3QCV1Apr4zvdAvw6cM5TV90DNzMzML9z3QGZmZmbL4vdAAAAAAGfp90AOvjCZAvD3QKhXyjKe9vdAQfFjzDn990Dbiv1l1QP4QOlILv9wCvhAguLHmAwR+EAcfGEyqBf4QCo6kstDHvhAw9MrZd8k+EBdbcX+eiv4QGsr9pcWMvhABcWPMbI4+ECeXinLTT\\u002f4QDj4wmTpRfhARrbz\\u002fYRM+EDfT42XIFP4QHnpJjG8WfhAh6dXyldg+EAgQfFj82b4QLraiv2ObfhAyJi7lip0+EBhMlUwxnr4QPvL7slhgfhAlWWIY\\u002f2H+ECjI7n8mI74QDy9UpY0lfhA1lbsL9Cb+EDkFB3Ja6L4QH2utmIHqfhAF0hQ\\u002fKKv+EAlBoGVPrb4QL6fGi\\u002favPhAWDm0yHXD+EDy0k1iEcr4QACRfvus0PhAmSoYlUjX+EAzxLEu5N34QEGC4sd\\u002f5PhA2ht8YRvr+EB0tRX7tvH4QIJzRpRS+PhAGw3gLe7++EC1pnnHiQX5QE9AE2ElDPlAXf5D+sAS+UD2l92TXBn5QJAxdy34H\\u002flAnu+nxpMm+UA3iUFgLy35QNEi2\\u002fnKM\\u002flA3+ALk2Y6+UB4eqUsAkH5QBIUP8adR\\u002flArK3YXzlO+UC6awn51FT5QFMFo5JwW\\u002flA7Z48LAxi+UD7XG3Fp2j5QJT2Bl9Db\\u002flALpCg+N51+UA8TtGRenz5QNXnaisWg\\u002flAb4EExbGJ+UAJG55eTZD5QBfZzvfolvlAsHJokYSd+UBKDAIrIKT5QFjKMsS7qvlA8WPMXVex+UCL\\u002fWX38rf5QJm7lpCOvvlAMlUwKirF+UDM7snDxcv5QGaIY11h0vlAdEaU9vzY+UAN4C2QmN\\u002f5QKd5xyk05vlAtTf4ws\\u002fs+UBO0ZFca\\u002fP5QOhqK\\u002fYG+vlA9ihcj6IA+kCPwvUoPgf6QClcj8LZDfpAw\\u002fUoXHUU+kDQs1n1EBv6QGpN846sIfpABOeMKEgo+kASpb3B4y76QKs+V1t\\u002fNfpARdjw9Bo8+kBTliGOtkL6QOwvuydSSfpAhslUwe1P+kAgY+5aiVb6QC0hH\\u002fQkXfpA\"},\"y\":{\"dtype\":\"f8\",\"bdata\":\"ttYnhUeRyz+lz3MxJbLQP4Hk31BBetM\\u002f3ev2uo9Q3j8hJ6RcXzXjP7ko92B+QeM\\u002fouwpD7AJ4D8B08KSIyHYP3j57WIJn9E\\u002fRULrurXB0D+gNYdbYb3SP62OK+Bt5tY\\u002fG9t4qGwf2D80iJL7G53aP33Au5jUMNg\\u002f5MxUOBF51D9LKyoFFQTRP1ga\\u002f0Dkd9A\\u002fcQi6\\u002fhR\\u002f0D+W1wRL9zDPP\\u002fu0c8GgV80\\u002fG15WTewP0D8m4jKHCSHQP5F3dj\\u002f0+9I\\u002fhnrIk+7v4j\\u002fJ+GAJYQ7yP5VS4OWiJ\\u002fI\\u002fQXZHG+0W7D\\u002fqxyzHJB3iP0O\\u002fbE3kdtk\\u002fYsDNloq10T+0p3BERdjXP5pH6fNK\\u002fOE\\u002fYYtLXBIk7D\\u002fr802JtcvwPxLwgnKYz+k\\u002ff4zgINiu4j\\u002fxGsvVGgjYP18tpOKJodQ\\u002fWHZ9dyeN0D9FD7q2OfzQP2xcod+CgdQ\\u002fx7yixCfj0j8eEh3XWuTTP1\\u002fjnyvnjdA\\u002f2jE0zdfm0j9CTEoU6V3TP6vPHsve+9g\\u002fkbw\\u002f0+Kf1T8qeb2umjXnP6wDA6HxGvc\\u002f8eT4BlFJAUB9EndLdWMAQABr+TyihPQ\\u002fMW5YxG3F4j+fJ3xvyu7XP+9h3d+H+dM\\u002f6JLgAvDV0D9fK\\u002fYxyW3RPyDYWm2i4s4\\u002fG8YAHCcn0D8lm05pPPfLP6wcqOyzZdE\\u002fXbk9ot3S0D+ghPlLTajSPyJZ+pJcMdA\\u002fgo8L2EhmzT8gKxy7sdXQP3g5qabOIdU\\u002fDSK5Zxmn1z8PpBaG3czfP3dX8r38i+E\\u002fFpC+DgkM4T9iU9VnQcbaP42AM9KyENI\\u002fZQewSvBX0j+Q0aABQyTQP1WuLRX82s8\\u002fp9o+Cd1Vzz+9dOY+FqbQP58kQ3p0q9A\\u002f4SktmPvs0z+L7Sqr9hvSPzOhYmr4ktQ\\u002fS+rKSC7+0j+riJ+yXijRPzWEYyoizNI\\u002fpubl23210z9X2rmZHPDVPzOdmFSsKtc\\u002fEm\\u002f4wmL13D\\u002f0CTfUpkjsPwwQ9WU1Mv0\\u002fGybNHuFOB0BGeYAPEyUJQAIAmq3cOQNA2\\u002fKP8j9Y8z8LWJPB9sDiP2P7UvlyJNY\\u002fDDoqHrdo0T+OmIANEVPNP26o1WVdy9I\\u002ffig2\\u002fZb90j+CMZ1DiLbeP3cEdNhPD+o\\u002f8CuyqxyS+D\\u002fqnR8CLKwAQC9VtFIP3P4\\u002f+gLInZtA9j87hhueUYXmP3k1lPSm5Ng\\u002f1xtpCled0z\\u002flSAFnl73MP6mPHb+PFM4\\u002fJfU0XUh90D8A0z8Uj3rPPzXfchxT4NI\\u002flKunXovm1j8vekdROYXgPwi2x8Ydvek\\u002fNuw5mISo7D88b+zLyQ3rPwP7ek9ebuU\\u002fWLy4RE2O2j+NvzsTrU3RP7UbmV87RtE\\u002fCIXFOppB0T\\u002fI9ziry9vNPxnN7ma2JtM\\u002ffu0bgW5J0D+YloYTccfQPzf7qWe\\u002fs9I\\u002fCitkxqdm0j93m8F1\\u002fbfRP8EU9R4DptI\\u002f7iW6L5Bq0z++ffojNKnTP9179XUiG9E\\u002f7eSJE0AY0T+meUwMo6vRP37Esuvrz9A\\u002f1kfftpYKzz\\u002fceq8\\u002fTGfRP7DoEVdExtM\\u002fHeiQfAXz0z9MLnPAUejTPy8X3hc5E9Q\\u002fVACtfese1z9gbTIW6jbiP36n3WGU4Ow\\u002fNQ9NWxX29D9wH31NwjX2PzTe9KiBDPQ\\u002fAFupdydU7D+9JwBgS7PhPw6sT7dj5tY\\u002feI29vqmw0T\\u002fq\\u002fZM7tUrQPxVblY+5xdA\\u002fG8xS+5km0T9ncS4fPdPRP6BdQhOSgtA\\u002fDXATLM+u0D9ZfJPsUnDQP18w1k4FQ88\\u002fSqGBeYQS0D\\u002fx+57D6wbQP6QsYIux4dA\\u002fnsgJhuLs0D+odgo6VVXRP5RDjRlgfdA\\u002fO70lS2kz0D+nHU0TWCnRP\\u002fsz79ViBM8\\u002foPLN30f1zz940upytA3RP0on7aobJdE\\u002fqylDVzY00D+BZvMXw4HQP1NgNQvO5NA\\u002fD5vkiPF00D9jzx0FAV3QP+3CjrYky9I\\u002fORwMN7kC0z\\u002fbDrkmczjVP2kBtX0t3do\\u002fGlP8NQWJ5T8JbJ+2t3TwP9O8o1BaAPM\\u002f4aSs7H5x8z9qAAloyT7tPxY5vpvjbeY\\u002fXOkV1rMJ4D\\u002fQmJHcoEPXP+hQ1B0WBtM\\u002f1a6lStkK0z99m\\u002fhRw9LQP1M3GxvNftA\\u002fSeDXDQS50D+ESR1ICQHQP6qPEuxm788\\u002fQIgJgy+C0D\\u002ft5T9YITPOP+1jAnS\\u002f4c0\\u002fbnLaS+G90D+tHKjzsq\\u002fOP0+W3QHG+NA\\u002fOVvYIdnn0D\\u002fjvPmipWLQPxXOMGnRO88\\u002fzC\\u002fbnmdA0T9ozYUm4m7QP1PuXljy584\\u002fq3j\\u002fXRR30D+dqhlr+ezPPz0a6um6ns8\\u002fgZusNG+Wzz8xUk8wsonQP6hcNCAIkM4\\u002fZM\\u002fUwp9Czj8vK5352rfQPzyecusJ388\\u002fsK3P4Hka0D+olw55GS3TP4FIRF2AJNU\\u002fk5MuIO\\u002fv2T+VRt23Z3DbP1S7mazSP9w\\u002fY6lO9Iir2T++ppuz6V\\u002fZP8ybA+v1ReA\\u002fJy5ENYDm6D+d5Y7UTCL3PyeHYH7wuQNA6e\\u002fpJYIDCUAQURTWD28JQDCkMY3+YANA422m5oVH9z\\u002fYoVJJ8w7qP3RAUDRVcN4\\u002fT7Kt8qik1j+MtOZDoIjSP9t3PHy7PNA\\u002f+ue2za+jzj8ag5hp3zXQP850Vep5DM8\\u002fOk66Vhc+0D+ljzTAa67PP0RQESwpks0\\u002fdJ3SZmVT0D8ZLdLPqxfOPwcFTN0J9NA\\u002f1Ms9Ryu\\u002fzz\\u002fFxrSQgYfQP7HJ3VecBdI\\u002f85Md4+iD0j8dQuRH\\u002fmDZP55qTOiem98\\u002f71f1JIZN7D8I5JmNNm38P\\u002fzvRqEHtAtA6NCfRHSEFkBasrxk0ukaQEc6tElcyxhAhq9duQdfEUCUSUHS0ZIDQAOUcz\\u002f0m\\u002fQ\\u002fyWKhZwqL5j9So\\u002fHtxr3dP7cGRxCM6NM\\u002fyM0GBoaF0T+NedhSS9zQPzTqCznvbdA\\u002fjYuyEi9Nzj\\u002fqBCkl22XOP4XzLROqqc0\\u002f4czCVrlxzj\\u002fxlqPnzWzPP6Y2m5e9JM8\\u002fpwbmg4i5zj+bX+URgfzOP4xVKwcghc0\\u002fp\\u002foG8g34zz9MZQiZLYnQP0vVIS3Kfc4\\u002fWNdcc\\u002fdY0D+TTF4u4OrPP9lLHKcQANA\\u002fPf9enqYP0D+UVllPXV3SP+dw\\u002fnMc4NQ\\u002fTB800\\u002fmv3T8Qz5Ndjt\\u002fkP6mz0rpUqOs\\u002fttH7\\u002foKF7z84DFok\\u002fs\\u002frP4Xs24t7a+Q\\u002fJ0VG1Iyn3D8vgabGhljWP3SbMO0ByNQ\\u002fznUqwpRc1D+RRaQUf5HVP1xv2XSjbtc\\u002f5bwqb6sc2D\\u002f3mx71rMzWP0ixGdrkf9M\\u002fv3guLc710D+jnNTT8ujQP0EqPUFdDM4\\u002fZRFim5Bt0D98WnYsFzbPP7kCE+NvbdA\\u002fvQy1tbebzT+p2Y+mvZvOP2Ty9JFxONA\\u002fxH1DlNbTzj+\\u002fBjPSkT\\u002fOP1VBd+w91M4\\u002f9o6yKL3jzj\\u002fepSkoCb3NP98cxyXgOs4\\u002fuAf1vOhyzz8hTgWzkoLNP8yMqc3wWs4\\u002fliqcewl3zz\\u002fJqxDtoTjPP57R4j+Bac4\\u002fnrn3Hnfazj9FMoG+HDXOP0QESFTrKdA\\u002fN1FudZ05zj\\u002fVz46QWKbPP4S0+9dRZc4\\u002fIfJp+GNtzj\\u002fKLJmlbYfPPyYhBxWG9c0\\u002fP3Rt3SUTzz8A6EhjY9rOP09kB5yTG88\\u002fV\\u002fKK841ozz\\u002f+bl53iH\\u002fPPynsKLFbCtA\\u002f2TQoidbFzT+ReHqQH1zOP8ErjXCiF84\\u002fIECLNau0zj8yu1mH72DPP33O1BfxLM4\\u002fHfoxDCbIzz+vVn2T\\u002foLQP598Ri5SLc4\\u002fBX6QR8qOzj\\u002fyWsaGO27OP2GOllLExc0\\u002fM065IaQQ0D91vwB2J9nOP7kzPMcqMs8\\u002fTb2axNjEzj9cNKeIB93OP+6UZ5\\u002fSIc8\\u002fmGcGDC4p0D8WX1zydnbQP+KK63xxldM\\u002f8hkLgSXm0z98CYIvUejVP+G\\u002fB+IB0dc\\u002fh6KokO1L2D\\u002fhpKkC6JXaP4AbEnH72eE\\u002fzb5Ex4ua6j85v+5iWpP3P74lr3H+7QVA\\u002f4ybrCMsFEDo1mVQsRUgQAfuPfqkgSRAzVG6NFi3JEB6Ub4tdHcgQJtefhRkHxZAJ2oPHnisCUB1Til+1bL8Pz9QVOf0oPA\\u002fIQZGHaP05T9Jl85+NNzdP1psD4L\\u002fjNY\\u002f6fhwer1d0z8WmGMKv0DSP53+s1fqjM8\\u002fpq9sGTHyzT\\u002fpOnkptGzPP7UGLstOKc4\\u002fqiVqe8opzT+p1V8wYa7OP1PtxIPxos8\\u002flRUmyPPzzz+x2NGW1+jNP4kEcwSaS88\\u002ftSIb2Tsczj8SUBFjcH\\u002fOPy9xDu8Mtc0\\u002fAd\\u002f2nE6Xzj99KGV77QXOP0Z8nEfBDs4\\u002fR4WpWYOBzz\\u002fkLIfrS8zOP9AQ6TNuts4\\u002f00LouytKzT+2F8vmlF\\u002fPP9iafepKVs4\\u002fjzdMhovSzj9opJdLhVDOP8nEaLVRLM8\\u002fWYFHsYAwzz\\u002fwzbi0QE\\u002fOPyhaM8fRAdA\\u002feF+Shx9zzz\\u002fDu4w0UdjPP4hY0xy5pc8\\u002f4DO9zJq6zj+mKItDKqDOP6ze0bfhnc4\\u002f3x8cXf\\u002f3zz\\u002fhI8sy0GfOP8MbqV6zhc0\\u002f0IOY9ZU\\u002fzD9yfFJbq13NPyRSiP2h\\u002fc4\\u002f\\u002fj8wBOfGzj9fcByDw4rNP8r3Z+Jsw84\\u002f4EpHsTMMzT\\u002fLXDNqsB3PPwMF7dKLEM4\\u002f1W46AClGzj9PEmt49OvNPw0gU5OcYM4\\u002fo2lav4DAzj\\u002fT2MFw66fNPw2L1c9gf8w\\u002fj7+56KSSzj833eAqPlbOP8fKEqxPis0\\u002fSkbIHHnjzj90MTtG1GvPP0SnFlkCZc4\\u002fTjoQgLgrzz8KcbffO8\\u002fNP7z+uAzJ7M0\\u002fYJHv+JVpzj+b+FP5DKfOPzQJZCBjVM4\\u002fva+H\\u002f6oXzj8RFlbUB9HOP0AiqB3unM4\\u002fgKRvCNpczz872psJZm3OP1HzAsLyv80\\u002fPUKPrtcZzz9URrOJb07PP1LYYXB1+M0\\u002fGXOurQzDzj\\u002f6CGYb+ljOP7ygN\\u002fItOc4\\u002fo5l\\u002fPl7Mzj+tVYKvO6vNPw334lhpLs8\\u002fGCD1jmSYzj\\u002fnrVYZsULOP0h9FWPO2c4\\u002fdthtvxxTzj+MBiXUlRzQP1+hx6H\\u002f6s0\\u002fRM9s+c01zz\\u002fwJYyQE5DOP2z6rBRvbs4\\u002fmAw+ZE1LzT8K8A\\u002fNYTLPP\\u002fh0x+\\u002fzZ84\\u002fkpEi1rZ1zj9nI+2AMzrOP7oqdlaNHM8\\u002fqqRH+oEgzT9PRSpSY4nOP8OOscRCMs8\\u002fClq5\\u002fPRnzz8kwkZFioXRPyi5i2NLudM\\u002fpWogg1n91j9RcXWdaQbbP3yRHOZTHeE\\u002fHSIN0P1\\u002f5D+cDJr9tBDqPz0ZOZg6VvA\\u002fT0UymscA8z\\u002flb2MzTzX0P42xjoHSLfM\\u002fz3\\u002f57AdB8D9axUrvvyXpP7IWvsxO+OM\\u002fUqXgzOE23z8+k+H\\u002fiKrZP7AhmpSfENY\\u002friquTDbP0z+vbweku4rRPxSeCb0um9A\\u002fvs\\u002fz7yZEzj9Dvx8eYaLPPwHSSDCrN84\\u002fXoUuV\\u002fcFzj9duAeyS9PNPwDzo3jGVM4\\u002fdG2zWJ4L0D+KHKNOU2LOP\\u002fcyyMZfSdA\\u002fiS84sNmg0D+2X9fwu2XRPxMOR6cQotI\\u002f4qKhFYZd1D88JdTJE4zWP0dZEG7yG9k\\u002fJxOxg+XZ2j8W41RuWwzcP8lHUYcrbdw\\u002f1m5yEiD73D+uYgy+W2vZP1qvi9KScdY\\u002f3GIeW8xK1D+aUxWZ46PSP2Wj3e8zK9E\\u002fh2Umed7y0D+PZ3\\u002fc6x7QP5wcf+Vql84\\u002frP+4\\u002f7JCzj9HrOpcFYnNP8aajQ1Wicw\\u002fokCmQQH2zT\\u002fF3+bpX8\\u002fNP9uzjNUuwMw\\u002fDczOsJW8zj92mLNslJ7LP2o2Y+v8Fs4\\u002fYJgAe23gzD8gLc9ebWbNP7VBgYq2gs0\\u002flZhz3+SAzj98sgIYGQjMP37GrvdCnc0\\u002fpgihw6YdzT8nontc7LfNPz8OYpuY9c0\\u002fOJYZFFx7zT\\u002flQFxrqEjNP790baCk4sw\\u002fxd6ccnaZzT9x9v8C02bNPyFWKhKFS80\\u002fRMvvZtaRzj+uQ5E14uXNP6NNG5eoqsw\\u002fFHXE+YymzT+\\u002flGwQypTNPwzqalJNn8w\\u002f0382muNPzT8tbXY+AIjNP0zp4A2zaM0\\u002fTCFRqepAzT\\u002fqPhXvCw\\u002fPP53Cru8ruc0\\u002fqm8fpv72zD\\u002fuB+VHMprNPxfUTAxWb80\\u002fRNmEJi8Xzj8CLesBlVjNP1hGLsA\\u002ff84\\u002fufwoyu\\u002f2zj91O0IOgcLNP80pJL7cG88\\u002fHDvNEFUI0D\\u002fWI5HCtSTPP7SJBSXf\\u002fc0\\u002fIM+ED02jzj\\u002fLa28lmyDPP\\u002fRM6gf3Y84\\u002fvMApgj7bzj\\u002fCywKfQuXNP7FQONd88s0\\u002fKrHV1x\\u002fLzT\\u002fpYM3PcEXMP46N+7+hH8w\\u002fhtwJVLhbzT9Mjr0+nJPNP36t9ObMZs0\\u002fi3tmLEN3zT\\u002fWW\\u002frNk4HOP4vSk05M5c0\\u002fDdSh061bzD\\u002fwKYJdOW7LP5KzoE42GM0\\u002fWOlL+hUTzD9yBbCeg2HNP36ob9MoV80\\u002fKUJzcFJXzT8ZftDE61vLP\\u002fMhgOBBx8w\\u002feKXGULTazD\\u002f1G99iYmrMP3YeF5I1osw\\u002fqWDtbLBVzj+WsQWr1SXMP5nl9mjBzcw\\u002fzhVHkH7Jyz\\u002frQbTgfDXNP\\u002fG\\u002fgEt42ss\\u002fqfWYILrzyz9v59MWgfjKP57Yq2UuJs0\\u002f2HVPQQ+9zT+7pzy8Ia\\u002fMP8JbK27mCcw\\u002fteA1l8zvyz\\u002fORSjgsTzNP2QQgAqMX8w\\u002fWK8LuDC\\u002fzD92f3DmCy\\u002fMP\\u002fO9PhRXFM0\\u002fihB98SeFzz8xiN4bn1LMP5Y3u22urcw\\u002fojhYxGDhzD9IjyPW04vMPwYl7urhHMw\\u002f9LZqZowGzT9kdn2epTHLPzkAxPKzdcs\\u002f\"},\"type\":\"scatter\"},{\"line\":{\"color\":\"rgb(214, 39, 40)\"},\"mode\":\"lines\",\"name\":\"Total calculated (Icalc)\",\"x\":{\"dtype\":\"f8\",\"bdata\":\"SL99HQQa5EB88rBQOyfkQJhuEoNyNORAy6FFtqlB5ED+1Hjp4E7kQBpR2hsYXORATYQNT09p5ECAt0CChnbkQLPqc7W9g+RAz2bV5\\u002fSQ5EACmggbLJ7kQDbNO05jq+RAUkmdgJq45ECFfNCz0cXkQLivA+cI0+RA1CtlGUDg5EAHX5hMd+3kQDqSy3+u+uRAbcX+suUH5UCJQWDlHBXlQLx0kxhUIuVA8KfGS4sv5UALJCh+wjzlQD9XW7H5SeVAcoqO5DBX5UCOBvAWaGTlQME5I0qfceVA9GxWfdZ+5UAnoImwDYzlQEMc6+JEmeVAdk8eFnym5UCqglFJs7PlQMX+snvqwOVA+THmriHO5UAsZRniWNvlQEjhehSQ6OVAexSuR8f15UCuR+F6\\u002fgLmQOF6FK41EOZA\\u002ffZ14Gwd5kAwKqkTpCrmQGRd3EbbN+ZAf9k9eRJF5kCzDHGsSVLmQOY\\u002fpN+AX+ZAArwFErhs5kA17zhF73nmQGgibHgmh+ZAm1Wfq12U5kC30QDelKHmQOoENBHMruZAHThnRAO85kA5tMh2OsnmQG3n+6lx1uZAoBov3ajj5kC8lpAP4PDmQO\\u002fJw0IX\\u002fuZAIv32dU4L50BVMCqphRjnQHGsi9u8JedApN++DvQy50DXEvJBK0DnQPOOU3RiTedAJ8KGp5la50Ba9bna0GfnQHZxGw0IdedAqaROQD+C50Dc14Fzdo\\u002fnQA8LtaatnOdAK4cW2eSp50BeukkMHLfnQJHtfD9TxOdArWnecYrR50DgnBGlwd7nQBTQRNj46+dAMEymCjD550Bjf9k9ZwboQJayDHGeE+hAyeU\\u002fpNUg6EDlYaHWDC7oQBiV1AlEO+hAS8gHPXtI6EBnRGlvslXoQJp3nKLpYuhAzqrP1SBw6EDpJjEIWH3oQB1aZDuPiuhAUI2XbsaX6ECDwMqh\\u002faToQJ88LNQ0suhA0m9fB2y\\u002f6EAFo5I6o8zoQCEf9Gza2ehAVFInoBHn6ECIhVrTSPToQKMBvAWAAelA1zTvOLcO6UAKaCJs7hvpQD2bVZ8lKelAWRe30Vw26UCMSuoElEPpQL99HTjLUOlA2\\u002fl+agJe6UAOLbKdOWvpQEJg5dBweOlAXdxGA6iF6UCRD3o235LpQMRCrWkWoOlA93XgnE2t6UAT8kHPhLrpQEYldQK8x+lAeVioNfPU6UCV1AloKuLpQMgHPZth7+lA+zpwzpj86UAXt9EA0AnqQEvqBDQHF+pAfh04Zz4k6kCxUGuadTHqQM3MzMysPupAAAAAAORL6kAzMzMzG1nqQE+vlGVSZupAguLHmIlz6kC1FfvLwIDqQNGRXP73jepABcWPMS+b6kA4+MJkZqjqQGsr9pedtepAh6dXytTC6kC62or9C9DqQO0NvjBD3epACYofY3rq6kA8vVKWsffqQG\\u002fwhcnoBOtAi2zn+x8S60C+nxovVx\\u002frQPLSTWKOLOtAJQaBlcU560BBguLH\\u002fEbrQHS1FfszVOtAp+hILmth60DDZKpgom7rQPaX3ZPZe+tAKcsQxxCJ60BFR3L5R5brQHh6pSx\\u002fo+tArK3YX7aw60Df4AuT7b3rQPtcbcUky+tALpCg+FvY60Bhw9Mrk+XrQH0\\u002fNV7K8utAsHJokQEA7EDjpZvEOA3sQP8h\\u002ffZvGuxAMlUwKqcn7EBmiGNd3jTsQJm7lpAVQuxAtTf4wkxP7EDoaiv2g1zsQBueXim7aexANxrAW\\u002fJ27EBqTfOOKYTsQJ2AJsJgkexAufyH9Jee7EDsL7snz6vsQCBj7loGuexAU5Yhjj3G7EBvEoPAdNPsQKJFtvOr4OxA1XjpJuPt7EDx9EpZGvvsQCQofoxRCO1AV1uxv4gV7UBz1xLyvyLtQKYKRiX3L+1A2T15WC497UANcayLZUrtQCntDb6cV+1AXCBB8dNk7UCPU3QkC3LtQKvP1VZCf+1A3gIJinmM7UARNjy9sJntQC2yne\\u002fnpu1AYOXQIh+07UCTGARWVsHtQMdLN4mNzu1A48eYu8Tb7UAW+8vu++jtQEku\\u002fyEz9u1AZapgVGoD7kCY3ZOHoRDuQMsQx7rYHe5A54wo7Q8r7kAawFsgRzjuQE3zjlN+Re5AgSbChrVS7kCcoiO57F\\u002fuQNDVVuwjbe5AAwmKH1t67kAfhetRkofuQFK4HoXJlO5AhetRuACi7kChZ7PqN6\\u002fuQNSa5h1vvO5AB84ZUabJ7kA7AU2E3dbuQFZ9rrYU5O5AirDh6Uvx7kC94xQdg\\u002f7uQNlfdk+6C+9ADJOpgvEY70A\\u002fxty1KCbvQFtCPuhfM+9AjnVxG5dA70DBqKROzk3vQPXb14EFW+9AEFg5tDxo70BEi2znc3XvQHe+nxqrgu9AkzoBTeKP70DGbTSAGZ3vQPmgZ7NQqu9AFR3J5Ye370BIUPwYv8TvQHuDL0z20e9ArrZify3f70DKMsSxZOzvQP5l9+Sb+e9AmEwVjGkD8ECmCkYlBQrwQECk376gEPBA2T15WDwX8EDn+6nx1x3wQIGVQ4tzJPBAGy\\u002fdJA8r8EC0yHa+qjHwQMKGp1dGOPBAXCBB8eE+8ED1udqKfUXwQAN4CyQZTPBAnRGlvbRS8EA2qz5XUFnwQERpb\\u002fDrX\\u002fBA3gIJiodm8EB4nKIjI23wQBE2PL2+c\\u002fBAH\\u002fRsVlp68EC5jQbw9YDwQFInoImRh\\u002fBAYOXQIi2O8ED6fmq8yJTwQJMYBFZkm\\u002fBAodY07\\u002f+h8EA7cM6Im6jwQNUJaCI3r\\u002fBAbqMBvNK18EB8YTJVbrzwQBb7y+4Jw\\u002fBAr5RliKXJ8EC9UpYhQdDwQFfsL7vc1vBA8IXJVHjd8ED+Q\\u002frtE+TwQJjdk4ev6vBAMnctIUvx8EDLEMe65vfwQNnO91OC\\u002fvBAc2iR7R0F8UAMAiuHuQvxQBrAWyBVEvFAtFn1ufAY8UBN845TjB\\u002fxQFuxv+wnJvFA9UpZhsMs8UCP5PIfXzPxQCh+jLn6OfFANjy9UpZA8UDQ1VbsMUfxQGlv8IXNTfFAdy0hH2lU8UARx7q4BFvxQKpgVFKgYfFAuB6F6zto8UBSuB6F127xQOxRuB5zdfFAhetRuA588UCTqYJRqoLxQC1DHOtFifFAxty1hOGP8UDUmuYdfZbxQG40gLcYnfFAB84ZUbSj8UAVjErqT6rxQK8l5IPrsPFASL99HYe38UDiWBe3Ir7xQPAWSFC+xPFAirDh6VnL8UAjSnuD9dHxQDEIrByR2PFAy6FFtizf8UBkO99PyOXxQHL5D+lj7PFADJOpgv\\u002fy8UClLEMcm\\u002fnxQD\\u002fG3LU2APJATYQNT9IG8kDnHafobQ3yQIC3QIIJFPJAjnVxG6Ua8kAoDwu1QCHyQMGopE7cJ\\u002fJAz2bV53cu8kBpAG+BEzXyQAKaCBuvO\\u002fJAnDOitEpC8kCq8dJN5kjyQESLbOeBT\\u002fJA3SQGgR1W8kDr4jYauVzyQIV80LNUY\\u002fJAHhZqTfBp8kAs1Jrmi3DyQMZtNIAnd\\u002fJAXwfOGcN98kD5oGezXoTyQAdfmEz6ivJAofgx5pWR8kA6kst\\u002fMZjyQEhQ\\u002fBjNnvJA4umVsmil8kB7gy9MBKzyQIlBYOWfsvJAI9v5fju58kC8dJMY17\\u002fyQFYOLbJyxvJAZMxdSw7N8kD+ZffkqdPyQJf\\u002fkH5F2vJApb3BF+Hg8kA\\u002fV1uxfOfyQNjw9EoY7vJA5q4l5LP08kCASL99T\\u002fvyQBniWBfrAfNAs3vysIYI80DBOSNKIg\\u002fzQFvTvOO9FfNA9GxWfVkc80ACK4cW9SLzQJzEILCQKfNANV66SSww80BDHOvixzbzQN21hHxjPfNAdk8eFv9D80AQ6bevmkrzQB6n6Eg2UfNAuECC4tFX80BR2ht8bV7zQF+YTBUJZfNA+THmrqRr80CSy39IQHLzQKCJsOHbePNAOiNKe3d\\u002f80DTvOMUE4bzQOF6FK6ujPNAexSuR0qT80AUrkfh5ZnzQK5H4XqBoPNAvAUSFB2n80BWn6utuK3zQO84RUdUtPNA\\u002ffZ14O+680CXkA96i8HzQDAqqRMnyPNAPujZrMLO80DYgXNGXtXzQHEbDeD52\\u002fNAC7WmeZXi80AZc9cSMenzQLMMcazM7\\u002fNATKYKRmj280BaZDvfA\\u002f3zQPT91HifA\\u002fRAjZduEjsK9ECbVZ+r1hD0QDXvOEVyF\\u002fRAzojS3g0e9EBoImx4qST0QHbgnBFFK\\u002fRAEHo2q+Ax9ECpE9BEfDj0QLfRAN4XP\\u002fRAUWuad7NF9EDqBDQRT0z0QPjCZKrqUvRAklz+Q4ZZ9EAr9pfdIWD0QMWPMXe9ZvRA001iEFlt9EBt5\\u002fup9HP0QAaBlUOQevRAFD\\u002fG3CuB9ECu2F92x4f0QEdy+Q9jjvRAVTAqqf6U9EDvycNCmpv0QIhjXdw1ovRAIv32ddGo9EAwuycPba\\u002f0QMpUwagItvRAY+5aQqS89EBxrIvbP8P0QAtGJXXbyfRApN++DnfQ9ECyne+nEtf0QEw3iUGu3fRA5dAi20nk9EB\\u002farx05er0QI0o7Q2B8fRAJ8KGpxz49EDAWyBBuP70QM4ZUdpTBfVAaLPqc+8L9UABTYQNixL1QA8LtaYmGfVAqaROQMIf9UBCPujZXSb1QNzXgXP5LPVA6pWyDJUz9UCDL0ymMDr1QB3J5T\\u002fMQPVAK4cW2WdH9UDFILByA071QF66SQyfVPVAbHh6pTpb9UAGEhQ\\u002f1mH1QJ+rrdhxaPVAOUVHcg1v9UBHA3gLqXX1QOCcEaVEfPVAejarPuCC9UCI9NvXe4n1QCKOdXEXkPVAuycPC7OW9UDJ5T+kTp31QGN\\u002f2T3qo\\u002fVA\\u002fBhz14Wq9UCWsgxxIbH1QKRwPQq9t\\u002fVAPQrXo1i+9UDXo3A99MT1QOVhodaPy\\u002fVAf\\u002fs6cCvS9UAYldQJx9j1QCZTBaNi3\\u002fVAwOyePP7l9UBZhjjWmez1QPMf0m818\\u002fVAAd4CCdH59UCad5yibAD2QDQRNjwIB\\u002fZAQs9m1aMN9kDcaABvPxT2QHUCmgjbGvZAg8DKoXYh9kAdWmQ7Eij2QLbz\\u002fdStLvZAUI2Xbkk19kBeS8gH5Tv2QPfkYaGAQvZAkX77OhxJ9kCfPCzUt0\\u002f2QDnWxW1TVvZA0m9fB+9c9kDgLZCgimP2QHrHKTomavZAE2HD08Fw9kCt+lxtXXf2QLu4jQb5ffZAVFInoJSE9kDu68A5MIv2QPyp8dLLkfZAlkOLbGeY9kAv3SQGA5\\u002f2QD2bVZ+epfZA1zTvODqs9kBwzojS1bL2QApoImxxufZAGCZTBQ3A9kCxv+yeqMb2QEtZhjhEzfZAWRe30d\\u002fT9kDysFBre9r2QIxK6gQX4fZAmggbnrLn9kA0orQ3Tu72QM07TtHp9PZAZ9XnaoX79kB1kxgEIQL3QA4tsp28CPdAqMZLN1gP90C2hHzQ8xX3QE8eFmqPHPdA6bevAysj90D3deCcxin3QJEPejZiMPdAKqkT0P0290DEQq1pmT33QNIA3gI1RPdAa5p3nNBK90AFNBE2bFH3QBPyQc8HWPdArIvbaKNe90BGJXUCP2X3QFTjpZvaa\\u002fdA7nw\\u002fNXZy90CHFtnOEXn3QCGwcmitf\\u002fdAL26jAUmG90DIBz2b5Iz3QGKh1jSAk\\u002fdAcF8Hzhua90AJ+aBnt6D3QKOSOgFTp\\u002fdAsVBrmu6t90BL6gQ0irT3QOSDns0lu\\u002fdAfh04Z8HB90CM22gAXcj3QCV1Apr4zvdAvw6cM5TV90DNzMzML9z3QGZmZmbL4vdAAAAAAGfp90AOvjCZAvD3QKhXyjKe9vdAQfFjzDn990Dbiv1l1QP4QOlILv9wCvhAguLHmAwR+EAcfGEyqBf4QCo6kstDHvhAw9MrZd8k+EBdbcX+eiv4QGsr9pcWMvhABcWPMbI4+ECeXinLTT\\u002f4QDj4wmTpRfhARrbz\\u002fYRM+EDfT42XIFP4QHnpJjG8WfhAh6dXyldg+EAgQfFj82b4QLraiv2ObfhAyJi7lip0+EBhMlUwxnr4QPvL7slhgfhAlWWIY\\u002f2H+ECjI7n8mI74QDy9UpY0lfhA1lbsL9Cb+EDkFB3Ja6L4QH2utmIHqfhAF0hQ\\u002fKKv+EAlBoGVPrb4QL6fGi\\u002favPhAWDm0yHXD+EDy0k1iEcr4QACRfvus0PhAmSoYlUjX+EAzxLEu5N34QEGC4sd\\u002f5PhA2ht8YRvr+EB0tRX7tvH4QIJzRpRS+PhAGw3gLe7++EC1pnnHiQX5QE9AE2ElDPlAXf5D+sAS+UD2l92TXBn5QJAxdy34H\\u002flAnu+nxpMm+UA3iUFgLy35QNEi2\\u002fnKM\\u002flA3+ALk2Y6+UB4eqUsAkH5QBIUP8adR\\u002flArK3YXzlO+UC6awn51FT5QFMFo5JwW\\u002flA7Z48LAxi+UD7XG3Fp2j5QJT2Bl9Db\\u002flALpCg+N51+UA8TtGRenz5QNXnaisWg\\u002flAb4EExbGJ+UAJG55eTZD5QBfZzvfolvlAsHJokYSd+UBKDAIrIKT5QFjKMsS7qvlA8WPMXVex+UCL\\u002fWX38rf5QJm7lpCOvvlAMlUwKirF+UDM7snDxcv5QGaIY11h0vlAdEaU9vzY+UAN4C2QmN\\u002f5QKd5xyk05vlAtTf4ws\\u002fs+UBO0ZFca\\u002fP5QOhqK\\u002fYG+vlA9ihcj6IA+kCPwvUoPgf6QClcj8LZDfpAw\\u002fUoXHUU+kDQs1n1EBv6QGpN846sIfpABOeMKEgo+kASpb3B4y76QKs+V1t\\u002fNfpARdjw9Bo8+kBTliGOtkL6QOwvuydSSfpAhslUwe1P+kAgY+5aiVb6QC0hH\\u002fQkXfpA\"},\"y\":{\"dtype\":\"f8\",\"bdata\":\"NAqt1DLj0D+0O1RLxafSP30PNE5UkdY\\u002f2tnvKyvq3D9SlrTA\\u002fbLhP4j7C83BseI\\u002fEEM7w0tk4D9Ce\\u002f\\u002fcOkPZPyn43L+h0NM\\u002f1cYGoYPg0T\\u002fM7oPGs1jSP4Lpt8Gg59M\\u002filUBa+V01T\\u002fmckXnIhbWP7NIKAWKT9U\\u002fRs9SEHt70z9K0FW55qfRP02b3SqbkdA\\u002fAvzZxBYo0D9DCLOZNRPQP0G35\\u002fBUK9A\\u002fMqE5Ezad0D8nWwsy\\u002fjfSPwUeGmPYEtc\\u002fDJdsggYR4T\\u002fbHwrM+FbpP\\u002fWuA6zlg+8\\u002fT9AX2hL67T+kumwdvg7mP8ZSZlxm4Nw\\u002ftfqB4PEj1j8zh7tT1\\u002fzXPxilXnNYmOA\\u002f+Jw5BwBO5z8cp9m7h6XrPx8tcQsZgOk\\u002fAPBtLdit4j8HCQKDTwLZP7M8C5cgv9I\\u002fy8W+MAC\\u002f0D9dFKqf4XXQP0+\\u002f\\u002f2zAwNA\\u002fCQLcf28q0T\\u002f1V6HJiF\\u002fRP1hUJ0E9XtE\\u002fpV8u+LF60T8pjwAughPSPymtDBUgNNQ\\u002fACKonJFe2z\\u002fq5rSx7wznPzvxz3c0x\\u002fM\\u002fUphMnznF+z9y6IG22ZP8PzkymoCGKvU\\u002fWvPUsINd6D+unlrYahXbP6IhJWtB4NI\\u002f6iUIa42i0D89lRSrwCHQP21rzkL1BtA\\u002faFO+r2IB0D\\u002fEKsl+OQDQPyBRzs85ANA\\u002ffs9LB1kB0D+IhzEyxwXQPzeGg1OZFdA\\u002fl7sSdFlM0D8ankKDEQDRP301a\\u002feDBNM\\u002f4TJrDEB51z\\u002faeoVHCdvdPzGdTQl+\\u002f+A\\u002fzgZmRu\\u002fU3z\\u002fiMmPhU2rZPxLuiNbC6NM\\u002f2Pa6mqY30T\\u002fmyQep5lHQP+DW8vqHGdA\\u002fLkmf7WUc0D8eCc870kvQPzRpGEleutA\\u002f5xtlj+ZV0T+c9UlnLLbRPwiN0RcLjNE\\u002fZBCw5D490T+n\\u002fIeIY4rRP\\u002fKte6h\\u002fy9I\\u002fMAanMkZ+1D8wb+sHFM3VP0xG\\u002fszN+dc\\u002f5vhcBw1k4D+iwbWEn4PtP3ZXjqQbwfs\\u002fe8xyQSo4BUD2R2TmPzUHQLaLJzUDoQFAYwKFQV3G8z8qP9AdG8bjP78GTn6XcNc\\u002flpqXDMF90j+r\\u002fD6v4G\\u002fRPy\\u002fGb81SMNI\\u002f24JVacqY1T84RWRb06nfP8Eed\\u002f1\\u002fs+s\\u002fOSO2QqRQ9z+qY7bzdK\\u002f+P9g9j9uNuPw\\u002fR4p2Velk8z\\u002fKHhzFEazlPwpip6QD0Nk\\u002f3FO\\u002fy3lz0z9+OCLyPIXRPywBuCBMBtE\\u002f1iAzmh0S0T+5acQ\\u002f2KPRP1TWltJ3btM\\u002f2QQxdipF2D805zvxMzzhP7E9wK\\u002fFCeg\\u002fxkEW3IaL6z8PycMn2yjoP0ooUYa6VuE\\u002fwijj\\u002fsxc2D9ozVDKLIbTP89KP1XOy9E\\u002fNKLtX4ZB0T+B+CmJexrRP7b9eUoFE9E\\u002fAsHvhdcW0T\\u002f6oBiMRSLRP+rG2oYROtE\\u002fnFGndt1p0T8tXQeSosfRPzeuraauL9I\\u002fg2Ncs9lE0j\\u002fqGI5wYe3RP5jgLxRkf9E\\u002fcOc4H7s+0T++c\\u002fSG6y3RP7bpYCpjSNE\\u002fn9EZCPyp0T8A8fRUOofSP9igPJ+6xtM\\u002f4rgb64yb1D8\\u002fbShjfYvUP\\u002fZnU7qv2dQ\\u002f4IAP6ms52D+6rBX+BG3hPzAaovKthOw\\u002fVdke3aEf9T\\u002fgG3pQkZz3P9uDANHw+vI\\u002fTJlwjrwO6D9gif+nO7ndP8hZO8Wwk9U\\u002fWMhZZImN0j\\u002fQ1pODZ3rRP9dN+i3lF9E\\u002fnxyu4ojz0D9I5BLOKuXQP57ioE6i3tA\\u002fkz8j5uja0D8WtJf7MtjQP9vzFk7b1dA\\u002ft0Q3EabT0D+mgGR+fdHQP0vH0ptZz9A\\u002fSeUaejfN0D8xj5wGFsvQP4rmmOX0yNA\\u002ff3LOE9TG0D9hkJ7ms8TQP2wXMG+VwtA\\u002fcgsfs3vA0D\\u002fQHBUWb77QP3d9s8CGvNA\\u002fnvubZAK70D+74Y2LkLrQP30P5s8NvdA\\u002faGkhDIvH0D8FvMKyxOfQP8Tde1zYQtE\\u002f232emZ880j\\u002fYt5gCUd3UP1QJroJgnts\\u002fZin53RA05T\\u002fXCwu5+yLwPwnfKFSi4PM\\u002fUNpuPxks8j+4dY3nfpXqP+qXXe1duOI\\u002fErOtKY1B3D++00al7pTWP7tzyTqUQ9M\\u002fmPMvTsir0T\\u002fl7hpH1ADRP1xmpDObu9A\\u002fqrpfdO2e0D+fOeoCQZLQP7DfEqXsi9A\\u002fgyrE5CGI0D+tuPu+Y4XQP5ht6Mwog9A\\u002fKAZWnF+B0D9pPWddYoDQP8V9b\\u002fBKgdA\\u002fodD69KCG0D\\u002fncLhIrJPQP2k+xveVpdA\\u002f1anWsCit0D+v2PT9M6DQP7\\u002fA5fZWitA\\u002fJOgVT8l50D9xMNFIinDQP3HSoll7a9A\\u002fbYGpsWpo0D\\u002fLrEeCmWbQPwrAwWNjZtA\\u002fsngHMKFp0D8lYaf9ZnXQP6LVR1y8ltA\\u002fNRnIun\\u002fu0D+cHvTZCMzRP0J5UsS7yNM\\u002fodc6s89Q1z9I1YBppgDbP+pCcG5k5Ns\\u002fVKko+RAF2j+H\\u002fRE6NnDZP8B21kphwt4\\u002fUlLdSHEa6D\\u002fmkzt83Bn2Pwv\\u002f6OOkWQNAn4PNLLqoCkCoArK\\u002f0igKQNIgPy3rggJAXjXhxeA79T9qyvDreKPnP7AP1v4mot0\\u002fbmJ4BNv01T\\u002f0604K1qXSP\\u002fre4VESN9E\\u002fq8\\u002fr\\u002fMiW0D8bhi3hj0\\u002fQP1546APnLtA\\u002fWT5n2Asf0D+mTJUQqhbQP2sX0BzvEdA\\u002fifPofcEP0D+4yRRcCRHQPzc72J6QGdA\\u002fja2fiUUz0D9R38tqn3bQPx8BH4QfH9E\\u002fNnJkvta80j9WrfbEfKvWP9ak4yOLF+A\\u002fIgU5n2R\\u002f6z+ep6\\u002fcWd\\u002f6Py7cpkQ9cwpAU7jlWmREFkCD+UA+OCIcQKScR2vnUBlAsAt1DPPMEECg9Pz5mGECQCryvOB5NfM\\u002f+BoUmqmo5T\\u002fV2ExZTivcP49LujpiXtU\\u002fTHsIdpFO0j+fTq3A1+vQP3bzjKT7SdA\\u002f4nEYqer+zz8ESN5fbLrPP4ZG8AWDmc8\\u002fE+oAssOIzz9r0j1sY3\\u002fPP9POKqxnec8\\u002f9DcEewp1zz87f7gGlHHPP6SuTWXnbs8\\u002ftMAF+Xhtzz8GII3irW7PP9X\\u002fdfrvdc8\\u002f22tegEeLzz+bgR6UbcHPP8k22vDtIdA\\u002f31wVRJy70D91tRdWfiHSP1Lkz+SOU9U\\u002fZH1HVHIm3D8UjfXxOxPkPx8TeCClHes\\u002fT3KHkPZq7j\\u002f+rhvyxRXrP7uER69aQuQ\\u002fsIW7Pnz+3D8wGFFZMXLWP0WbV+YTrdM\\u002fLgW+AVFb0z8BLpfiWMPUP97uyWOPzdY\\u002fsCEg3SGg1z9pGKm\\u002fnknWPz1\\u002fwOP839M\\u002f+osVyi7c0T9vzpPpQqzQP7Y6olVZE9A\\u002fOUAQvryTzz9r\\u002fng130zPPzmce8XNKc8\\u002fj8m\\u002fFZEXzz8DOrzmQQ3PP9u8dYewBs8\\u002fUTxXEeQBzz\\u002fxeYcz7v3OP6q4+UFe+s4\\u002f4mr57f72zj++TfEXt\\u002fPOP8OYQDd88M4\\u002fUdcRZsXwzj+O9IHSFfHOP5Z2wvxx8c4\\u002fPAAvL+bxzj9QwHi5jvLOPy2jxN6p884\\u002f8W5MhbX1zj8zS3hwcPnOP8Y\\u002fp00o\\u002f84\\u002fil+rnyoFzz8iPuy01wfPP+Vov91ZBc8\\u002fpbGGpvv\\u002fzj+0cCgUI\\u002fvOPw\\u002fynlwq+M4\\u002fLOlVLbr2zj8JWA5HKvbOP34Da\\u002fMK9s4\\u002fNPHuMyL2zj+nueHJU\\u002fbOP24UahiS9s4\\u002fRubYkNb2zj\\u002f99i4MHvfOP7Go\\u002fgtn984\\u002fZP596LD3zj9pjr52+\\u002ffOP9zPJ\\u002fZG+M4\\u002fW9YePpT4zj88k6hK5fjOP9cgUoI++c4\\u002fz8ufgqn5zj+2nXU0O\\u002frOP7xXxvAg+84\\u002fiB9P2Lz8zj9GoybT4v\\u002fOPyhPfYpbBs8\\u002fD2K8Ev0Tzz98vE81AjHPP8WT5qD1bs8\\u002fFWK2kijyzz9ZFFqHAX\\u002fQP7RDNC3sdtE\\u002fd1NCiXr00j8ip7nhDrfUP9YttiELUtY\\u002fZgxwrhv\\u002f1z8IHbmAbWvbP7lXoIk+BuI\\u002f3v2AcRMH7D8qFPFpEqz4P+i6Mos1rgZAqqfzYf7kE0B62FF9wK8eQPS5HOdAoSNAjMd78ic\\u002fJEDemRrHVdkgQAYApDRrRBdAJcLq+5UWDEBErAlNZMH\\u002fPzgv\\u002f4VADvI\\u002fa6L67C3u5T8Dhdo0\\u002fZrdP5bqe9wcfdY\\u002fE0xfrXrv0j8A5e6rcyjRP2rH0XEoRNA\\u002fPVBn1Siizz\\u002fB1SQyMy3PP5dKv3bl8M4\\u002fiXF1ivvQzj9rzpepT7\\u002fOPxTuc\\u002fzKtM4\\u002f0UBPEd+tzj+Z7JSiwqjOP+abR8WPpM4\\u002fGXA9vdKgzj8Qoes3UZ3OPyuXTsntmc4\\u002fniTvlJmWzj9Wxs0XTZPOP+mWgIQEkM4\\u002fIzwP7r2Mzj\\u002fvPPBZeInOP0i\\u002fWEkzhs4\\u002fesrxe+6Czj\\u002f5KH3QqX\\u002fOP1CudTZlfM4\\u002f7N+IpSB5zj83XPUY3HXOP4gqto6Xcs4\\u002fpnWoBVNvzj+gQGt9DmzOP2aXSvXJaM4\\u002f6ztTbYVlzj+hRNAh02POP9NkxU1VZM4\\u002fmCbAeddkzj\\u002f4vbWlWWXOP5XmtNHbZc4\\u002fU9W0\\u002fV1mzj98KrUp4GbOP\\u002fyirVViZ84\\u002flkiugeRnzj9q\\u002fK6tZmjOP\\u002fWlp9noaM4\\u002f\\u002f2SoBWtpzj8FJqkx7WnOP2zWoV1vas4\\u002fBpmiifFqzj\\u002foW6O1c2vOP+8epOH1a84\\u002fYdCcDXhszj+Gk505+mzOP7BWnmV8bc4\\u002fNQiXkf5tzj9ky5e9gG7OP5aOmOkCb84\\u002fIkCRFYVvzj9eA5JBB3DOP6bGkm2JcM4\\u002fCYqTmQtxzj\\u002f3O4zFjXHOP\\u002f7\\u002fjPEPcs4\\u002f58SNHZJyzj\\u002f4eYZJFHPOP25Eh3WWc84\\u002fhBaIoRh0zj+F5oDNmnTOP\\u002fXngfkcdc4\\u002fDyqDJZ91zj+Q74RRIXbOP\\u002f+tf32jds4\\u002fBZqEqSV3zj\\u002fSyY3Vp3fOP+aDlwEqeM4\\u002fY6m6Lax4zj+\\u002ftwBaLnnOPxjVhIawec4\\u002fS6idszJ6zj\\u002fEE9DhtHrOP4JtNRI3e84\\u002fOiPHhgN8zj93NHuf3n7OP10Glcm5gc4\\u002fW9gPFpWEzj+28D6ncIfOP+VrHcBMis4\\u002fLBUJ5SmNzj+xAosbCZDOP46EXGXsks4\\u002fAIr8s9eVzj9+fz\\u002fD0pjOP1KAErnsm84\\u002fxZXyMkOfzj8+li8DEKPOP3TIqODDp84\\u002fa\\u002fPzKjquzj8KAsE6HbjOP3WfwVuoyM4\\u002f230KbR7mzj8lmxndmxzPP7rXBe+Ag88\\u002f3SSg8doj0D\\u002f7x161NN\\u002fQP9TVqPH7QdI\\u002fEYgZRaHR1D+WgpiAy1PZP3PENB2IU+A\\u002fqG25b6Kf5T9CazOCpyrsP8VjFGIxV\\u002fE\\u002ffn6z9oak8z9qoDIQDjH0P+atLOQuzfI\\u002f6NxU+RsB8D8d34DxX2vpP9r6qMjpb+M\\u002fxuH2yZLF3T881OTak7HXP6+FeaQ6AdQ\\u002fdYgNT6zo0T8qCJo2R8TQP0\\u002fAZFjRKNA\\u002f2ilq+wyvzz\\u002fZ7ag91VvPP9cmTRSNM88\\u002fs2wm0+Ejzz8mNVps+CTPP+8fqtkTNs8\\u002fR7KiPE9Rzz\\u002fRQRri\\u002f47PPy5Z5IoEB9A\\u002fPavXsV1\\u002f0D8Lpe21K1TRP+Wer\\u002fYpr9I\\u002fb0kZRGWt1D\\u002fsT8P5HT\\u002fXP5nbqinGCto\\u002f41jOcdVw3D\\u002f+eKxsVMLdP\\u002fpESzwhlN0\\u002f30ovn5P32z\\u002fQlIuZnW7ZPz4OZqpKptY\\u002fzDPe9Asr1D\\u002fQKedp6ULSPy\\u002fcGZHk89A\\u002feBjNwXQg0D8pk23WokTPP+cWf15Wss4\\u002f+lOQfmtdzj8VvTCyiSrOP5vMNNISCs4\\u002fr\\u002fQHGHXzzT9v6N7YFOLNP44SdEl9080\\u002fC8QsSmDGzT9yBnVxDLrNP4xpZIUjrs0\\u002fgxgMeHOizT+IlI2t4ZbNP0R1EgBgi80\\u002frSfM5uZ\\u002fzT+8DX9gcnTNP3iyr0sAac0\\u002fg1tQhI9dzT9mlelwH1LNP4xOY8GvRs0\\u002f\\u002f1PfS0A7zT+wHXEA0S\\u002fNP1PIb99hJM0\\u002fg2ve+vIYzT8lz016hA3NP83\\u002fHK8WAs0\\u002fMCvEMar2zD\\u002fu0pcaQOvMP4wWvEnn5Mw\\u002fikZNd+rizD8Qdy67\\u002fODMP2XiosUq38w\\u002fa5rc4YvdzD+RJ57BStzMPy0IPne128w\\u002f8JJEKFrczD8vDpQwOd\\u002fMP+krihEY5sw\\u002fWGNZnfzzzD\\u002fyE+AEwQ3NP6tG\\u002fzR4Os0\\u002fibvt+QGDzT8q5kA18u\\u002fNP3KOgmFOhc4\\u002frHdpCQA9zz\\u002fy99pxZgHQP0aiylfIWtA\\u002fArKtm9KX0D9dq6aFA6rQP7xGA5bpjNA\\u002fePGT89lH0D8KqojSatXPP9DT29hvD88\\u002fuQj33lJbzj8AGt0IuMnNP3KfaxKnXs0\\u002fSdm4pLIVzT9QgN5Cz+bMPxdqlDLXycw\\u002fqxNPpEC4zD\\u002fPguv2eq3MPxi+rWKfpsw\\u002fI\\u002fhmUPOhzD\\u002fXNXc4ep7MPyiGHOanm8w\\u002f0a\\u002fEui+ZzD9z\\u002fcQw6JbMPzVUON26lMw\\u002ftx3bqpuSzD8XjMkWhJDMP9uYXJ5wjsw\\u002fJehjXV+MzD+5a69OT4rMP\\u002fFveOU\\u002fiMw\\u002fEm5x1TCGzD8zjeALlYTMP3IYXBFahMw\\u002fusDuJB+EzD\\u002fYhSJA5IPMP\\u002f3Iel+pg8w\\u002fgHcLgW6DzD8Q69GjM4PMP0crQMf4gsw\\u002fNf4M672CzD9qdAcPg4LMP3KkHDNIgsw\\u002frPlDVw2CzD+ihm970oHMP6pYn5+Xgcw\\u002fOyLVw1yBzD8riAjoIYHMP0SdPAzngMw\\u002fkxFxMKyAzD+oX6lUcYDMP+Ij3ng2gMw\\u002fbfcSnft\\u002fzD9QeUvBwH\\u002fMP7pZgOWFf8w\\u002fnjy1CUt\\u002fzD\\u002fdxu0tEH\\u002fMP9SrIlLVfsw\\u002fM5FXdpp+zD\\u002fIdoyaX37MP38Cxb4kfsw\\u002f\"},\"type\":\"scatter\"}],                        {\"legend\":{\"x\":1.0,\"xanchor\":\"right\",\"y\":1.0,\"yanchor\":\"top\"},\"margin\":{\"autoexpand\":true,\"b\":45,\"r\":30,\"t\":40},\"title\":{\"text\":\"Measured vs Calculated data for experiment \\ud83d\\udd2c 'mcstas'\"},\"xaxis\":{\"mirror\":true,\"showline\":true,\"title\":{\"text\":\"TOF (\\u00b5s)\"},\"zeroline\":false,\"tickformat\":\",.6~g\",\"separatethousands\":true},\"yaxis\":{\"mirror\":true,\"showline\":true,\"title\":{\"text\":\"Intensity (arb. units)\"},\"zeroline\":false,\"tickformat\":\",.6~g\",\"separatethousands\":true},\"template\":{\"data\":{\"histogram2dcontour\":[{\"type\":\"histogram2dcontour\",\"colorbar\":{\"outlinewidth\":0,\"ticks\":\"\"},\"colorscale\":[[0.0,\"#0d0887\"],[0.1111111111111111,\"#46039f\"],[0.2222222222222222,\"#7201a8\"],[0.3333333333333333,\"#9c179e\"],[0.4444444444444444,\"#bd3786\"],[0.5555555555555556,\"#d8576b\"],[0.6666666666666666,\"#ed7953\"],[0.7777777777777778,\"#fb9f3a\"],[0.8888888888888888,\"#fdca26\"],[1.0,\"#f0f921\"]]}],\"choropleth\":[{\"type\":\"choropleth\",\"colorbar\":{\"outlinewidth\":0,\"ticks\":\"\"}}],\"histogram2d\":[{\"type\":\"histogram2d\",\"colorbar\":{\"outlinewidth\":0,\"ticks\":\"\"},\"colorscale\":[[0.0,\"#0d0887\"],[0.1111111111111111,\"#46039f\"],[0.2222222222222222,\"#7201a8\"],[0.3333333333333333,\"#9c179e\"],[0.4444444444444444,\"#bd3786\"],[0.5555555555555556,\"#d8576b\"],[0.6666666666666666,\"#ed7953\"],[0.7777777777777778,\"#fb9f3a\"],[0.8888888888888888,\"#fdca26\"],[1.0,\"#f0f921\"]]}],\"heatmap\":[{\"type\":\"heatmap\",\"colorbar\":{\"outlinewidth\":0,\"ticks\":\"\"},\"colorscale\":[[0.0,\"#0d0887\"],[0.1111111111111111,\"#46039f\"],[0.2222222222222222,\"#7201a8\"],[0.3333333333333333,\"#9c179e\"],[0.4444444444444444,\"#bd3786\"],[0.5555555555555556,\"#d8576b\"],[0.6666666666666666,\"#ed7953\"],[0.7777777777777778,\"#fb9f3a\"],[0.8888888888888888,\"#fdca26\"],[1.0,\"#f0f921\"]]}],\"contourcarpet\":[{\"type\":\"contourcarpet\",\"colorbar\":{\"outlinewidth\":0,\"ticks\":\"\"}}],\"contour\":[{\"type\":\"contour\",\"colorbar\":{\"outlinewidth\":0,\"ticks\":\"\"},\"colorscale\":[[0.0,\"#0d0887\"],[0.1111111111111111,\"#46039f\"],[0.2222222222222222,\"#7201a8\"],[0.3333333333333333,\"#9c179e\"],[0.4444444444444444,\"#bd3786\"],[0.5555555555555556,\"#d8576b\"],[0.6666666666666666,\"#ed7953\"],[0.7777777777777778,\"#fb9f3a\"],[0.8888888888888888,\"#fdca26\"],[1.0,\"#f0f921\"]]}],\"surface\":[{\"type\":\"surface\",\"colorbar\":{\"outlinewidth\":0,\"ticks\":\"\"},\"colorscale\":[[0.0,\"#0d0887\"],[0.1111111111111111,\"#46039f\"],[0.2222222222222222,\"#7201a8\"],[0.3333333333333333,\"#9c179e\"],[0.4444444444444444,\"#bd3786\"],[0.5555555555555556,\"#d8576b\"],[0.6666666666666666,\"#ed7953\"],[0.7777777777777778,\"#fb9f3a\"],[0.8888888888888888,\"#fdca26\"],[1.0,\"#f0f921\"]]}],\"mesh3d\":[{\"type\":\"mesh3d\",\"colorbar\":{\"outlinewidth\":0,\"ticks\":\"\"}}],\"scatter\":[{\"fillpattern\":{\"fillmode\":\"overlay\",\"size\":10,\"solidity\":0.2},\"type\":\"scatter\"}],\"parcoords\":[{\"type\":\"parcoords\",\"line\":{\"colorbar\":{\"outlinewidth\":0,\"ticks\":\"\"}}}],\"scatterpolargl\":[{\"type\":\"scatterpolargl\",\"marker\":{\"colorbar\":{\"outlinewidth\":0,\"ticks\":\"\"}}}],\"bar\":[{\"error_x\":{\"color\":\"#2a3f5f\"},\"error_y\":{\"color\":\"#2a3f5f\"},\"marker\":{\"line\":{\"color\":\"white\",\"width\":0.5},\"pattern\":{\"fillmode\":\"overlay\",\"size\":10,\"solidity\":0.2}},\"type\":\"bar\"}],\"scattergeo\":[{\"type\":\"scattergeo\",\"marker\":{\"colorbar\":{\"outlinewidth\":0,\"ticks\":\"\"}}}],\"scatterpolar\":[{\"type\":\"scatterpolar\",\"marker\":{\"colorbar\":{\"outlinewidth\":0,\"ticks\":\"\"}}}],\"histogram\":[{\"marker\":{\"pattern\":{\"fillmode\":\"overlay\",\"size\":10,\"solidity\":0.2}},\"type\":\"histogram\"}],\"scattergl\":[{\"type\":\"scattergl\",\"marker\":{\"colorbar\":{\"outlinewidth\":0,\"ticks\":\"\"}}}],\"scatter3d\":[{\"type\":\"scatter3d\",\"line\":{\"colorbar\":{\"outlinewidth\":0,\"ticks\":\"\"}},\"marker\":{\"colorbar\":{\"outlinewidth\":0,\"ticks\":\"\"}}}],\"scattermap\":[{\"type\":\"scattermap\",\"marker\":{\"colorbar\":{\"outlinewidth\":0,\"ticks\":\"\"}}}],\"scattermapbox\":[{\"type\":\"scattermapbox\",\"marker\":{\"colorbar\":{\"outlinewidth\":0,\"ticks\":\"\"}}}],\"scatterternary\":[{\"type\":\"scatterternary\",\"marker\":{\"colorbar\":{\"outlinewidth\":0,\"ticks\":\"\"}}}],\"scattercarpet\":[{\"type\":\"scattercarpet\",\"marker\":{\"colorbar\":{\"outlinewidth\":0,\"ticks\":\"\"}}}],\"carpet\":[{\"aaxis\":{\"endlinecolor\":\"#2a3f5f\",\"gridcolor\":\"#C8D4E3\",\"linecolor\":\"#C8D4E3\",\"minorgridcolor\":\"#C8D4E3\",\"startlinecolor\":\"#2a3f5f\"},\"baxis\":{\"endlinecolor\":\"#2a3f5f\",\"gridcolor\":\"#C8D4E3\",\"linecolor\":\"#C8D4E3\",\"minorgridcolor\":\"#C8D4E3\",\"startlinecolor\":\"#2a3f5f\"},\"type\":\"carpet\"}],\"table\":[{\"cells\":{\"fill\":{\"color\":\"#EBF0F8\"},\"line\":{\"color\":\"white\"}},\"header\":{\"fill\":{\"color\":\"#C8D4E3\"},\"line\":{\"color\":\"white\"}},\"type\":\"table\"}],\"barpolar\":[{\"marker\":{\"line\":{\"color\":\"white\",\"width\":0.5},\"pattern\":{\"fillmode\":\"overlay\",\"size\":10,\"solidity\":0.2}},\"type\":\"barpolar\"}],\"pie\":[{\"automargin\":true,\"type\":\"pie\"}]},\"layout\":{\"autotypenumbers\":\"strict\",\"colorway\":[\"#636efa\",\"#EF553B\",\"#00cc96\",\"#ab63fa\",\"#FFA15A\",\"#19d3f3\",\"#FF6692\",\"#B6E880\",\"#FF97FF\",\"#FECB52\"],\"font\":{\"color\":\"#2a3f5f\"},\"hovermode\":\"closest\",\"hoverlabel\":{\"align\":\"left\"},\"paper_bgcolor\":\"white\",\"plot_bgcolor\":\"white\",\"polar\":{\"bgcolor\":\"white\",\"angularaxis\":{\"gridcolor\":\"#EBF0F8\",\"linecolor\":\"#EBF0F8\",\"ticks\":\"\"},\"radialaxis\":{\"gridcolor\":\"#EBF0F8\",\"linecolor\":\"#EBF0F8\",\"ticks\":\"\"}},\"ternary\":{\"bgcolor\":\"white\",\"aaxis\":{\"gridcolor\":\"#DFE8F3\",\"linecolor\":\"#A2B1C6\",\"ticks\":\"\"},\"baxis\":{\"gridcolor\":\"#DFE8F3\",\"linecolor\":\"#A2B1C6\",\"ticks\":\"\"},\"caxis\":{\"gridcolor\":\"#DFE8F3\",\"linecolor\":\"#A2B1C6\",\"ticks\":\"\"}},\"coloraxis\":{\"colorbar\":{\"outlinewidth\":0,\"ticks\":\"\"}},\"colorscale\":{\"sequential\":[[0.0,\"#0d0887\"],[0.1111111111111111,\"#46039f\"],[0.2222222222222222,\"#7201a8\"],[0.3333333333333333,\"#9c179e\"],[0.4444444444444444,\"#bd3786\"],[0.5555555555555556,\"#d8576b\"],[0.6666666666666666,\"#ed7953\"],[0.7777777777777778,\"#fb9f3a\"],[0.8888888888888888,\"#fdca26\"],[1.0,\"#f0f921\"]],\"sequentialminus\":[[0.0,\"#0d0887\"],[0.1111111111111111,\"#46039f\"],[0.2222222222222222,\"#7201a8\"],[0.3333333333333333,\"#9c179e\"],[0.4444444444444444,\"#bd3786\"],[0.5555555555555556,\"#d8576b\"],[0.6666666666666666,\"#ed7953\"],[0.7777777777777778,\"#fb9f3a\"],[0.8888888888888888,\"#fdca26\"],[1.0,\"#f0f921\"]],\"diverging\":[[0,\"#8e0152\"],[0.1,\"#c51b7d\"],[0.2,\"#de77ae\"],[0.3,\"#f1b6da\"],[0.4,\"#fde0ef\"],[0.5,\"#f7f7f7\"],[0.6,\"#e6f5d0\"],[0.7,\"#b8e186\"],[0.8,\"#7fbc41\"],[0.9,\"#4d9221\"],[1,\"#276419\"]]},\"xaxis\":{\"gridcolor\":\"#EBF0F8\",\"linecolor\":\"#EBF0F8\",\"ticks\":\"\",\"title\":{\"standoff\":15},\"zerolinecolor\":\"#EBF0F8\",\"automargin\":true,\"zerolinewidth\":2},\"yaxis\":{\"gridcolor\":\"#EBF0F8\",\"linecolor\":\"#EBF0F8\",\"ticks\":\"\",\"title\":{\"standoff\":15},\"zerolinecolor\":\"#EBF0F8\",\"automargin\":true,\"zerolinewidth\":2},\"scene\":{\"xaxis\":{\"backgroundcolor\":\"white\",\"gridcolor\":\"#DFE8F3\",\"linecolor\":\"#EBF0F8\",\"showbackground\":true,\"ticks\":\"\",\"zerolinecolor\":\"#EBF0F8\",\"gridwidth\":2},\"yaxis\":{\"backgroundcolor\":\"white\",\"gridcolor\":\"#DFE8F3\",\"linecolor\":\"#EBF0F8\",\"showbackground\":true,\"ticks\":\"\",\"zerolinecolor\":\"#EBF0F8\",\"gridwidth\":2},\"zaxis\":{\"backgroundcolor\":\"white\",\"gridcolor\":\"#DFE8F3\",\"linecolor\":\"#EBF0F8\",\"showbackground\":true,\"ticks\":\"\",\"zerolinecolor\":\"#EBF0F8\",\"gridwidth\":2}},\"shapedefaults\":{\"line\":{\"color\":\"#2a3f5f\"}},\"annotationdefaults\":{\"arrowcolor\":\"#2a3f5f\",\"arrowhead\":0,\"arrowwidth\":1},\"geo\":{\"bgcolor\":\"white\",\"landcolor\":\"white\",\"subunitcolor\":\"#C8D4E3\",\"showland\":true,\"showlakes\":true,\"lakecolor\":\"white\"},\"title\":{\"x\":0.05},\"mapbox\":{\"style\":\"light\"}}}},                        {\"displaylogo\": false, \"modeBarButtonsToRemove\": [\"select2d\", \"lasso2d\", \"zoomIn2d\", \"zoomOut2d\", \"autoScale2d\"], \"responsive\": true}                    )                };            </script>        </div>"
      ],
      "text/plain": [
       "<IPython.core.display.HTML object>"
      ]
     },
     "metadata": {},
     "output_type": "display_data"
    }
   ],
   "source": [
    "project.plot_meas_vs_calc(expt_name='mcstas')"
   ]
  }
 ],
 "metadata": {
  "jupytext": {
   "cell_metadata_filter": "-all",
   "main_language": "python",
   "notebook_metadata_filter": "-all"
  },
  "language_info": {
   "codemirror_mode": {
    "name": "ipython",
    "version": 3
   },
   "file_extension": ".py",
   "mimetype": "text/x-python",
   "name": "python",
   "nbconvert_exporter": "python",
   "pygments_lexer": "ipython3",
   "version": "3.13.5"
  }
 },
 "nbformat": 4,
 "nbformat_minor": 5
}
